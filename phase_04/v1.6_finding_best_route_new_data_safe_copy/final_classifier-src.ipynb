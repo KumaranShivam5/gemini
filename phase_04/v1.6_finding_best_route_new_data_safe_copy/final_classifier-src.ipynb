{
 "cells": [
  {
   "cell_type": "code",
   "execution_count": 13,
   "source": [
    "import numpy as np \n",
    "from matplotlib import pyplot as plt \n",
    "import seaborn as sns \n",
    "from tqdm import tqdm \n",
    "from sklearn.model_selection import train_test_split \n",
    "from sklearn.ensemble import RandomForestClassifier  , AdaBoostClassifier , GradientBoostingClassifier\n",
    "from sklearn.metrics import precision_score , recall_score \n",
    "import xgboost as xgb \n",
    "import pandas as pd \n",
    "import sklearn.neighbors._base\n",
    "from os import sys\n",
    "sys.modules['sklearn.neighbors.base'] = sklearn.neighbors._base\n",
    "from missingpy import MissForest \n",
    "from sklearn.metrics import confusion_matrix , ConfusionMatrixDisplay\n",
    "sns.set_style('whitegrid')\n",
    "%load_ext autoreload\n",
    "%autoreload 2\n",
    "sns.set_style('whitegrid')\n",
    "from IPython.display import display"
   ],
   "outputs": [
    {
     "output_type": "stream",
     "name": "stdout",
     "text": [
      "The autoreload extension is already loaded. To reload it, use:\n",
      "  %reload_ext autoreload\n"
     ]
    }
   ],
   "metadata": {}
  },
  {
   "cell_type": "code",
   "execution_count": 14,
   "source": [
    "def details(data_sent , comments = ''):\n",
    "    if(comments):\n",
    "        print(comments)\n",
    "    sp = (data_sent.isna().sum().sum())/ data_sent.size\n",
    "    print('________________________________________________')\n",
    "    print('Sparsity in the data : {:.2f}'.format(sp))\n",
    "    num_rows = data_sent.shape\n",
    "    print('Data shape' , num_rows)\n",
    "    #display(data_sent['class'].value_counts())\n",
    "    print('Number of sources : ')\n",
    "    cl = data_sent['class'].unique()\n",
    "    for c in cl:\n",
    "        num_src = len(data_sent[data_sent['class']==c]['src_id'].unique())\n",
    "        num_obs = len(data_sent[data_sent['class']==c])\n",
    "        print(c ,' \\t ' , num_src , '\\t' , num_obs)"
   ],
   "outputs": [],
   "metadata": {}
  },
  {
   "cell_type": "code",
   "execution_count": 15,
   "source": [
    "from features import phot_flux , en_flux , hard, powlaw_fit , bb_fit , brems_fit , intra_obs_var , inter_ob_var , info_col , phot_flux_hilim , phot_flux_lolim , en_flux_hilim , en_flux_lolim"
   ],
   "outputs": [],
   "metadata": {}
  },
  {
   "cell_type": "code",
   "execution_count": 16,
   "source": [
    "info_col_cl =  info_col+['class']"
   ],
   "outputs": [],
   "metadata": {}
  },
  {
   "cell_type": "code",
   "execution_count": 17,
   "source": [
    "data_imp_v2 = pd.read_csv('imputed_data/new-data-all-at-once-imp.csv' , index_col='obs_id')"
   ],
   "outputs": [],
   "metadata": {}
  },
  {
   "cell_type": "code",
   "execution_count": 18,
   "source": [
    "details(data_imp_v2)"
   ],
   "outputs": [
    {
     "output_type": "stream",
     "name": "stdout",
     "text": [
      "________________________________________________\n",
      "Sparsity in the data : 0.00\n",
      "Data shape (3103, 59)\n",
      "Number of sources : \n",
      "CV  \t  184 \t 1582\n",
      "PL  \t  178 \t 1000\n",
      "LX  \t  58 \t 521\n"
     ]
    }
   ],
   "metadata": {}
  },
  {
   "cell_type": "code",
   "execution_count": 19,
   "source": [
    "\n",
    "df_comb = pd.DataFrame()\n",
    "for s in data_imp_v2['src_id'].unique()[:]:\n",
    "    temp = data_imp_v2[data_imp_v2['src_id']==s]\n",
    "    temp_id =  temp[info_col_cl]\n",
    "    temp_val = temp.drop(columns=info_col_cl)\n",
    "    temp_mean = temp_val.mean().to_frame().T\n",
    "    temp_id_top = temp_id.iloc[0:1].reset_index()\n",
    "    temp_final = pd.concat([temp_id_top , temp_mean] , axis=1).set_index('obs_id')\n",
    "    df_comb = df_comb.append(temp_final)\n",
    "display(df_comb)\n"
   ],
   "outputs": [
    {
     "output_type": "display_data",
     "data": {
      "text/plain": [
       "                src_id  num_obs                    src_n  \\\n",
       "obs_id                                                     \n",
       "CV_0_obs_0        CV_0       25  CSS120424:125906+242634   \n",
       "CV_1_obs_0        CV_1       12                      W32   \n",
       "CV_2_obs_0        CV_2        8  CXOGlb_J002405.2-720446   \n",
       "CV_3_obs_0        CV_3       13   Cl__NGC_104_MAM_M54898   \n",
       "CV_4_obs_0        CV_4       13  CXOGlb_J002404.9-720455   \n",
       "...                ...      ...                      ...   \n",
       "LMXB_86_obs_0  LMXB_86        1    SAX_J1810.8-2609_____   \n",
       "LMXB_90_obs_0  LMXB_90        1    XTE_J2123-058________   \n",
       "LMXB_91_obs_0  LMXB_91        1    XB_1732-304__________   \n",
       "LMXB_92_obs_0  LMXB_92        1    BW_ANT_______________   \n",
       "LMXB_94_obs_0  LMXB_94        1    J1748-3607___________   \n",
       "\n",
       "                                 name          ra        dec  livetime  \\\n",
       "obs_id                                                                   \n",
       "CV_0_obs_0      2CXO J004247.1+411619   10.696540  41.272150    4103.7   \n",
       "CV_1_obs_0      2CXO J002405.6-720449    6.023632 -72.080360   31673.8   \n",
       "CV_2_obs_0      2CXO J002405.2-720446    6.021793 -72.079680    5544.8   \n",
       "CV_3_obs_0      2CXO J002406.0-720456    6.025117 -72.082280   65237.5   \n",
       "CV_4_obs_0      2CXO J002404.9-720455    6.020589 -72.082100   31673.8   \n",
       "...                               ...         ...        ...       ...   \n",
       "LMXB_86_obs_0   2CXO J181044.4-260901  272.685300 -26.150370   31871.5   \n",
       "LMXB_90_obs_0   2CXO J212314.5-054753  320.810600  -5.798128   17705.1   \n",
       "LMXB_91_obs_0   2CXO J173547.0-302858  263.945900 -30.482820   18855.8   \n",
       "LMXB_92_obs_0   2CXO J092920.1-312303  142.334100 -31.384270   24445.9   \n",
       "LMXB_94_obs_0   2CXO J174813.1-360758  267.054700 -36.132810   15794.5   \n",
       "\n",
       "               significance   likelihood class  ...  kp_prob_b  var_max_b  \\\n",
       "obs_id                                          ...                         \n",
       "CV_0_obs_0            52.93  16618.73000    CV  ...   0.600161   0.007931   \n",
       "CV_1_obs_0            20.78   1834.51100    CV  ...   0.636945   0.004085   \n",
       "CV_2_obs_0             9.72    548.75650    CV  ...   0.677229   0.004417   \n",
       "CV_3_obs_0            25.99   3275.90600    CV  ...   0.353444   0.004808   \n",
       "CV_4_obs_0            19.64   2291.21000    CV  ...   0.746582   0.005740   \n",
       "...                     ...          ...   ...  ...        ...        ...   \n",
       "LMXB_86_obs_0          9.29    512.97550    LX  ...   0.539000   0.003494   \n",
       "LMXB_90_obs_0          4.06    132.76700    LX  ...   0.211000   0.003517   \n",
       "LMXB_91_obs_0          4.89    114.24570    LX  ...   0.547000   0.002756   \n",
       "LMXB_92_obs_0          3.70     75.53454    LX  ...   0.789000   0.001005   \n",
       "LMXB_94_obs_0          3.09     50.50810    LX  ...   0.149000   0.001113   \n",
       "\n",
       "               var_min_b  var_mean_b  var_sigma_b  ks_prob_b  var_prob_b  \\\n",
       "obs_id                                                                     \n",
       "CV_0_obs_0      0.002263    0.002978     0.001218   0.515405    0.523568   \n",
       "CV_1_obs_0      0.001735    0.002451     0.000613   0.614881    0.574516   \n",
       "CV_2_obs_0      0.001721    0.002179     0.000574   0.665955    0.543535   \n",
       "CV_3_obs_0      0.003408    0.003737     0.000345   0.381742    0.226397   \n",
       "CV_4_obs_0      0.002950    0.003574     0.000689   0.606845    0.558287   \n",
       "...                  ...         ...          ...        ...         ...   \n",
       "LMXB_86_obs_0   0.003420    0.003456     0.000029   0.829000    0.084000   \n",
       "LMXB_90_obs_0   0.001060    0.001171     0.000255   0.265000    0.807000   \n",
       "LMXB_91_obs_0   0.001488    0.001623     0.000211   0.735000    0.451000   \n",
       "LMXB_92_obs_0   0.000511    0.000740     0.000201   0.940000    0.607000   \n",
       "LMXB_94_obs_0   0.000742    0.000782     0.000061   0.134000    0.380000   \n",
       "\n",
       "               var_inter_index_s  var_inter_index_m  var_inter_sigma_u  \n",
       "obs_id                                                                  \n",
       "CV_0_obs_0                  5.00            3.07375       5.417707e-04  \n",
       "CV_1_obs_0                  5.00            3.00000       9.789000e-07  \n",
       "CV_2_obs_0                  3.00            4.00000       1.081000e-06  \n",
       "CV_3_obs_0                  6.00            8.00000       7.858000e-07  \n",
       "CV_4_obs_0                  3.00            4.00000       1.098000e-06  \n",
       "...                          ...                ...                ...  \n",
       "LMXB_86_obs_0               5.11            3.03000       2.125299e-05  \n",
       "LMXB_90_obs_0               5.00            3.03000       2.151511e-05  \n",
       "LMXB_91_obs_0               3.00            5.00000       8.482809e-07  \n",
       "LMXB_92_obs_0               5.00            3.03000       2.112806e-05  \n",
       "LMXB_94_obs_0               5.01            3.03000       2.334242e-05  \n",
       "\n",
       "[420 rows x 59 columns]"
      ],
      "text/html": [
       "<div>\n",
       "<style scoped>\n",
       "    .dataframe tbody tr th:only-of-type {\n",
       "        vertical-align: middle;\n",
       "    }\n",
       "\n",
       "    .dataframe tbody tr th {\n",
       "        vertical-align: top;\n",
       "    }\n",
       "\n",
       "    .dataframe thead th {\n",
       "        text-align: right;\n",
       "    }\n",
       "</style>\n",
       "<table border=\"1\" class=\"dataframe\">\n",
       "  <thead>\n",
       "    <tr style=\"text-align: right;\">\n",
       "      <th></th>\n",
       "      <th>src_id</th>\n",
       "      <th>num_obs</th>\n",
       "      <th>src_n</th>\n",
       "      <th>name</th>\n",
       "      <th>ra</th>\n",
       "      <th>dec</th>\n",
       "      <th>livetime</th>\n",
       "      <th>significance</th>\n",
       "      <th>likelihood</th>\n",
       "      <th>class</th>\n",
       "      <th>...</th>\n",
       "      <th>kp_prob_b</th>\n",
       "      <th>var_max_b</th>\n",
       "      <th>var_min_b</th>\n",
       "      <th>var_mean_b</th>\n",
       "      <th>var_sigma_b</th>\n",
       "      <th>ks_prob_b</th>\n",
       "      <th>var_prob_b</th>\n",
       "      <th>var_inter_index_s</th>\n",
       "      <th>var_inter_index_m</th>\n",
       "      <th>var_inter_sigma_u</th>\n",
       "    </tr>\n",
       "    <tr>\n",
       "      <th>obs_id</th>\n",
       "      <th></th>\n",
       "      <th></th>\n",
       "      <th></th>\n",
       "      <th></th>\n",
       "      <th></th>\n",
       "      <th></th>\n",
       "      <th></th>\n",
       "      <th></th>\n",
       "      <th></th>\n",
       "      <th></th>\n",
       "      <th></th>\n",
       "      <th></th>\n",
       "      <th></th>\n",
       "      <th></th>\n",
       "      <th></th>\n",
       "      <th></th>\n",
       "      <th></th>\n",
       "      <th></th>\n",
       "      <th></th>\n",
       "      <th></th>\n",
       "      <th></th>\n",
       "    </tr>\n",
       "  </thead>\n",
       "  <tbody>\n",
       "    <tr>\n",
       "      <th>CV_0_obs_0</th>\n",
       "      <td>CV_0</td>\n",
       "      <td>25</td>\n",
       "      <td>CSS120424:125906+242634</td>\n",
       "      <td>2CXO J004247.1+411619</td>\n",
       "      <td>10.696540</td>\n",
       "      <td>41.272150</td>\n",
       "      <td>4103.7</td>\n",
       "      <td>52.93</td>\n",
       "      <td>16618.73000</td>\n",
       "      <td>CV</td>\n",
       "      <td>...</td>\n",
       "      <td>0.600161</td>\n",
       "      <td>0.007931</td>\n",
       "      <td>0.002263</td>\n",
       "      <td>0.002978</td>\n",
       "      <td>0.001218</td>\n",
       "      <td>0.515405</td>\n",
       "      <td>0.523568</td>\n",
       "      <td>5.00</td>\n",
       "      <td>3.07375</td>\n",
       "      <td>5.417707e-04</td>\n",
       "    </tr>\n",
       "    <tr>\n",
       "      <th>CV_1_obs_0</th>\n",
       "      <td>CV_1</td>\n",
       "      <td>12</td>\n",
       "      <td>W32</td>\n",
       "      <td>2CXO J002405.6-720449</td>\n",
       "      <td>6.023632</td>\n",
       "      <td>-72.080360</td>\n",
       "      <td>31673.8</td>\n",
       "      <td>20.78</td>\n",
       "      <td>1834.51100</td>\n",
       "      <td>CV</td>\n",
       "      <td>...</td>\n",
       "      <td>0.636945</td>\n",
       "      <td>0.004085</td>\n",
       "      <td>0.001735</td>\n",
       "      <td>0.002451</td>\n",
       "      <td>0.000613</td>\n",
       "      <td>0.614881</td>\n",
       "      <td>0.574516</td>\n",
       "      <td>5.00</td>\n",
       "      <td>3.00000</td>\n",
       "      <td>9.789000e-07</td>\n",
       "    </tr>\n",
       "    <tr>\n",
       "      <th>CV_2_obs_0</th>\n",
       "      <td>CV_2</td>\n",
       "      <td>8</td>\n",
       "      <td>CXOGlb_J002405.2-720446</td>\n",
       "      <td>2CXO J002405.2-720446</td>\n",
       "      <td>6.021793</td>\n",
       "      <td>-72.079680</td>\n",
       "      <td>5544.8</td>\n",
       "      <td>9.72</td>\n",
       "      <td>548.75650</td>\n",
       "      <td>CV</td>\n",
       "      <td>...</td>\n",
       "      <td>0.677229</td>\n",
       "      <td>0.004417</td>\n",
       "      <td>0.001721</td>\n",
       "      <td>0.002179</td>\n",
       "      <td>0.000574</td>\n",
       "      <td>0.665955</td>\n",
       "      <td>0.543535</td>\n",
       "      <td>3.00</td>\n",
       "      <td>4.00000</td>\n",
       "      <td>1.081000e-06</td>\n",
       "    </tr>\n",
       "    <tr>\n",
       "      <th>CV_3_obs_0</th>\n",
       "      <td>CV_3</td>\n",
       "      <td>13</td>\n",
       "      <td>Cl__NGC_104_MAM_M54898</td>\n",
       "      <td>2CXO J002406.0-720456</td>\n",
       "      <td>6.025117</td>\n",
       "      <td>-72.082280</td>\n",
       "      <td>65237.5</td>\n",
       "      <td>25.99</td>\n",
       "      <td>3275.90600</td>\n",
       "      <td>CV</td>\n",
       "      <td>...</td>\n",
       "      <td>0.353444</td>\n",
       "      <td>0.004808</td>\n",
       "      <td>0.003408</td>\n",
       "      <td>0.003737</td>\n",
       "      <td>0.000345</td>\n",
       "      <td>0.381742</td>\n",
       "      <td>0.226397</td>\n",
       "      <td>6.00</td>\n",
       "      <td>8.00000</td>\n",
       "      <td>7.858000e-07</td>\n",
       "    </tr>\n",
       "    <tr>\n",
       "      <th>CV_4_obs_0</th>\n",
       "      <td>CV_4</td>\n",
       "      <td>13</td>\n",
       "      <td>CXOGlb_J002404.9-720455</td>\n",
       "      <td>2CXO J002404.9-720455</td>\n",
       "      <td>6.020589</td>\n",
       "      <td>-72.082100</td>\n",
       "      <td>31673.8</td>\n",
       "      <td>19.64</td>\n",
       "      <td>2291.21000</td>\n",
       "      <td>CV</td>\n",
       "      <td>...</td>\n",
       "      <td>0.746582</td>\n",
       "      <td>0.005740</td>\n",
       "      <td>0.002950</td>\n",
       "      <td>0.003574</td>\n",
       "      <td>0.000689</td>\n",
       "      <td>0.606845</td>\n",
       "      <td>0.558287</td>\n",
       "      <td>3.00</td>\n",
       "      <td>4.00000</td>\n",
       "      <td>1.098000e-06</td>\n",
       "    </tr>\n",
       "    <tr>\n",
       "      <th>...</th>\n",
       "      <td>...</td>\n",
       "      <td>...</td>\n",
       "      <td>...</td>\n",
       "      <td>...</td>\n",
       "      <td>...</td>\n",
       "      <td>...</td>\n",
       "      <td>...</td>\n",
       "      <td>...</td>\n",
       "      <td>...</td>\n",
       "      <td>...</td>\n",
       "      <td>...</td>\n",
       "      <td>...</td>\n",
       "      <td>...</td>\n",
       "      <td>...</td>\n",
       "      <td>...</td>\n",
       "      <td>...</td>\n",
       "      <td>...</td>\n",
       "      <td>...</td>\n",
       "      <td>...</td>\n",
       "      <td>...</td>\n",
       "      <td>...</td>\n",
       "    </tr>\n",
       "    <tr>\n",
       "      <th>LMXB_86_obs_0</th>\n",
       "      <td>LMXB_86</td>\n",
       "      <td>1</td>\n",
       "      <td>SAX_J1810.8-2609_____</td>\n",
       "      <td>2CXO J181044.4-260901</td>\n",
       "      <td>272.685300</td>\n",
       "      <td>-26.150370</td>\n",
       "      <td>31871.5</td>\n",
       "      <td>9.29</td>\n",
       "      <td>512.97550</td>\n",
       "      <td>LX</td>\n",
       "      <td>...</td>\n",
       "      <td>0.539000</td>\n",
       "      <td>0.003494</td>\n",
       "      <td>0.003420</td>\n",
       "      <td>0.003456</td>\n",
       "      <td>0.000029</td>\n",
       "      <td>0.829000</td>\n",
       "      <td>0.084000</td>\n",
       "      <td>5.11</td>\n",
       "      <td>3.03000</td>\n",
       "      <td>2.125299e-05</td>\n",
       "    </tr>\n",
       "    <tr>\n",
       "      <th>LMXB_90_obs_0</th>\n",
       "      <td>LMXB_90</td>\n",
       "      <td>1</td>\n",
       "      <td>XTE_J2123-058________</td>\n",
       "      <td>2CXO J212314.5-054753</td>\n",
       "      <td>320.810600</td>\n",
       "      <td>-5.798128</td>\n",
       "      <td>17705.1</td>\n",
       "      <td>4.06</td>\n",
       "      <td>132.76700</td>\n",
       "      <td>LX</td>\n",
       "      <td>...</td>\n",
       "      <td>0.211000</td>\n",
       "      <td>0.003517</td>\n",
       "      <td>0.001060</td>\n",
       "      <td>0.001171</td>\n",
       "      <td>0.000255</td>\n",
       "      <td>0.265000</td>\n",
       "      <td>0.807000</td>\n",
       "      <td>5.00</td>\n",
       "      <td>3.03000</td>\n",
       "      <td>2.151511e-05</td>\n",
       "    </tr>\n",
       "    <tr>\n",
       "      <th>LMXB_91_obs_0</th>\n",
       "      <td>LMXB_91</td>\n",
       "      <td>1</td>\n",
       "      <td>XB_1732-304__________</td>\n",
       "      <td>2CXO J173547.0-302858</td>\n",
       "      <td>263.945900</td>\n",
       "      <td>-30.482820</td>\n",
       "      <td>18855.8</td>\n",
       "      <td>4.89</td>\n",
       "      <td>114.24570</td>\n",
       "      <td>LX</td>\n",
       "      <td>...</td>\n",
       "      <td>0.547000</td>\n",
       "      <td>0.002756</td>\n",
       "      <td>0.001488</td>\n",
       "      <td>0.001623</td>\n",
       "      <td>0.000211</td>\n",
       "      <td>0.735000</td>\n",
       "      <td>0.451000</td>\n",
       "      <td>3.00</td>\n",
       "      <td>5.00000</td>\n",
       "      <td>8.482809e-07</td>\n",
       "    </tr>\n",
       "    <tr>\n",
       "      <th>LMXB_92_obs_0</th>\n",
       "      <td>LMXB_92</td>\n",
       "      <td>1</td>\n",
       "      <td>BW_ANT_______________</td>\n",
       "      <td>2CXO J092920.1-312303</td>\n",
       "      <td>142.334100</td>\n",
       "      <td>-31.384270</td>\n",
       "      <td>24445.9</td>\n",
       "      <td>3.70</td>\n",
       "      <td>75.53454</td>\n",
       "      <td>LX</td>\n",
       "      <td>...</td>\n",
       "      <td>0.789000</td>\n",
       "      <td>0.001005</td>\n",
       "      <td>0.000511</td>\n",
       "      <td>0.000740</td>\n",
       "      <td>0.000201</td>\n",
       "      <td>0.940000</td>\n",
       "      <td>0.607000</td>\n",
       "      <td>5.00</td>\n",
       "      <td>3.03000</td>\n",
       "      <td>2.112806e-05</td>\n",
       "    </tr>\n",
       "    <tr>\n",
       "      <th>LMXB_94_obs_0</th>\n",
       "      <td>LMXB_94</td>\n",
       "      <td>1</td>\n",
       "      <td>J1748-3607___________</td>\n",
       "      <td>2CXO J174813.1-360758</td>\n",
       "      <td>267.054700</td>\n",
       "      <td>-36.132810</td>\n",
       "      <td>15794.5</td>\n",
       "      <td>3.09</td>\n",
       "      <td>50.50810</td>\n",
       "      <td>LX</td>\n",
       "      <td>...</td>\n",
       "      <td>0.149000</td>\n",
       "      <td>0.001113</td>\n",
       "      <td>0.000742</td>\n",
       "      <td>0.000782</td>\n",
       "      <td>0.000061</td>\n",
       "      <td>0.134000</td>\n",
       "      <td>0.380000</td>\n",
       "      <td>5.01</td>\n",
       "      <td>3.03000</td>\n",
       "      <td>2.334242e-05</td>\n",
       "    </tr>\n",
       "  </tbody>\n",
       "</table>\n",
       "<p>420 rows × 59 columns</p>\n",
       "</div>"
      ]
     },
     "metadata": {}
    }
   ],
   "metadata": {}
  },
  {
   "cell_type": "code",
   "execution_count": 20,
   "source": [
    "data_id = df_comb[info_col]\n",
    "data_label = df_comb['class']\n",
    "data_val = df_comb.drop(columns=['class']+info_col)\n",
    "data_imp_norm = df_comb.copy()\n",
    "for c in data_val.columns.to_list():\n",
    "    data_imp_norm.loc[:,c] = (data_imp_norm.loc[:,c] - data_imp_norm.loc[:,c].mean()) / data_imp_norm.loc[:,c].std()\n",
    "data_imp_norm"
   ],
   "outputs": [
    {
     "output_type": "execute_result",
     "data": {
      "text/plain": [
       "                src_id  num_obs                    src_n  \\\n",
       "obs_id                                                     \n",
       "CV_0_obs_0        CV_0       25  CSS120424:125906+242634   \n",
       "CV_1_obs_0        CV_1       12                      W32   \n",
       "CV_2_obs_0        CV_2        8  CXOGlb_J002405.2-720446   \n",
       "CV_3_obs_0        CV_3       13   Cl__NGC_104_MAM_M54898   \n",
       "CV_4_obs_0        CV_4       13  CXOGlb_J002404.9-720455   \n",
       "...                ...      ...                      ...   \n",
       "LMXB_86_obs_0  LMXB_86        1    SAX_J1810.8-2609_____   \n",
       "LMXB_90_obs_0  LMXB_90        1    XTE_J2123-058________   \n",
       "LMXB_91_obs_0  LMXB_91        1    XB_1732-304__________   \n",
       "LMXB_92_obs_0  LMXB_92        1    BW_ANT_______________   \n",
       "LMXB_94_obs_0  LMXB_94        1    J1748-3607___________   \n",
       "\n",
       "                                 name          ra        dec  livetime  \\\n",
       "obs_id                                                                   \n",
       "CV_0_obs_0      2CXO J004247.1+411619   10.696540  41.272150    4103.7   \n",
       "CV_1_obs_0      2CXO J002405.6-720449    6.023632 -72.080360   31673.8   \n",
       "CV_2_obs_0      2CXO J002405.2-720446    6.021793 -72.079680    5544.8   \n",
       "CV_3_obs_0      2CXO J002406.0-720456    6.025117 -72.082280   65237.5   \n",
       "CV_4_obs_0      2CXO J002404.9-720455    6.020589 -72.082100   31673.8   \n",
       "...                               ...         ...        ...       ...   \n",
       "LMXB_86_obs_0   2CXO J181044.4-260901  272.685300 -26.150370   31871.5   \n",
       "LMXB_90_obs_0   2CXO J212314.5-054753  320.810600  -5.798128   17705.1   \n",
       "LMXB_91_obs_0   2CXO J173547.0-302858  263.945900 -30.482820   18855.8   \n",
       "LMXB_92_obs_0   2CXO J092920.1-312303  142.334100 -31.384270   24445.9   \n",
       "LMXB_94_obs_0   2CXO J174813.1-360758  267.054700 -36.132810   15794.5   \n",
       "\n",
       "               significance   likelihood class  ...  kp_prob_b  var_max_b  \\\n",
       "obs_id                                          ...                         \n",
       "CV_0_obs_0            52.93  16618.73000    CV  ...   0.140383  -0.193753   \n",
       "CV_1_obs_0            20.78   1834.51100    CV  ...   0.300193  -0.422380   \n",
       "CV_2_obs_0             9.72    548.75650    CV  ...   0.475208  -0.402661   \n",
       "CV_3_obs_0            25.99   3275.90600    CV  ...  -0.931496  -0.379399   \n",
       "CV_4_obs_0            19.64   2291.21000    CV  ...   0.776519  -0.324030   \n",
       "...                     ...          ...   ...  ...        ...        ...   \n",
       "LMXB_86_obs_0          9.29    512.97550    LX  ...  -0.125336  -0.457551   \n",
       "LMXB_90_obs_0          4.06    132.76700    LX  ...  -1.550353  -0.456183   \n",
       "LMXB_91_obs_0          4.89    114.24570    LX  ...  -0.090579  -0.501432   \n",
       "LMXB_92_obs_0          3.70     75.53454    LX  ...   0.960806  -0.605547   \n",
       "LMXB_94_obs_0          3.09     50.50810    LX  ...  -1.819716  -0.599125   \n",
       "\n",
       "               var_min_b  var_mean_b  var_sigma_b  ks_prob_b  var_prob_b  \\\n",
       "obs_id                                                                     \n",
       "CV_0_obs_0     -0.407606   -0.409996     0.042725  -0.250447    0.492569   \n",
       "CV_1_obs_0     -0.452348   -0.450546    -0.153447   0.182504    0.710415   \n",
       "CV_2_obs_0     -0.453504   -0.471439    -0.166164   0.404797    0.577944   \n",
       "CV_3_obs_0     -0.310762   -0.351673    -0.240642  -0.832196   -0.778104   \n",
       "CV_4_obs_0     -0.349557   -0.364175    -0.128738   0.147528    0.641022   \n",
       "...                  ...         ...          ...        ...         ...   \n",
       "LMXB_86_obs_0  -0.309760   -0.373279    -0.343210   1.114425   -1.386978   \n",
       "LMXB_90_obs_0  -0.509419   -0.548922    -0.269642  -1.340299    1.704492   \n",
       "LMXB_91_obs_0  -0.473210   -0.514178    -0.283957   0.705305    0.182274   \n",
       "LMXB_92_obs_0  -0.555865   -0.582067    -0.287268   1.597536    0.849313   \n",
       "LMXB_94_obs_0  -0.536339   -0.578793    -0.332693  -1.910456   -0.121314   \n",
       "\n",
       "               var_inter_index_s  var_inter_index_m  var_inter_sigma_u  \n",
       "obs_id                                                                  \n",
       "CV_0_obs_0              0.200236          -0.756434           0.168818  \n",
       "CV_1_obs_0              0.200236          -0.795530          -0.096487  \n",
       "CV_2_obs_0             -0.948770          -0.265416          -0.096436  \n",
       "CV_3_obs_0              0.774739           1.855039          -0.096581  \n",
       "CV_4_obs_0             -0.948770          -0.265416          -0.096428  \n",
       "...                          ...                ...                ...  \n",
       "LMXB_86_obs_0           0.263431          -0.779626          -0.086540  \n",
       "LMXB_90_obs_0           0.200236          -0.779626          -0.086412  \n",
       "LMXB_91_obs_0          -0.948770           0.264698          -0.096551  \n",
       "LMXB_92_obs_0           0.200236          -0.779626          -0.086602  \n",
       "LMXB_94_obs_0           0.205981          -0.779626          -0.085515  \n",
       "\n",
       "[420 rows x 59 columns]"
      ],
      "text/html": [
       "<div>\n",
       "<style scoped>\n",
       "    .dataframe tbody tr th:only-of-type {\n",
       "        vertical-align: middle;\n",
       "    }\n",
       "\n",
       "    .dataframe tbody tr th {\n",
       "        vertical-align: top;\n",
       "    }\n",
       "\n",
       "    .dataframe thead th {\n",
       "        text-align: right;\n",
       "    }\n",
       "</style>\n",
       "<table border=\"1\" class=\"dataframe\">\n",
       "  <thead>\n",
       "    <tr style=\"text-align: right;\">\n",
       "      <th></th>\n",
       "      <th>src_id</th>\n",
       "      <th>num_obs</th>\n",
       "      <th>src_n</th>\n",
       "      <th>name</th>\n",
       "      <th>ra</th>\n",
       "      <th>dec</th>\n",
       "      <th>livetime</th>\n",
       "      <th>significance</th>\n",
       "      <th>likelihood</th>\n",
       "      <th>class</th>\n",
       "      <th>...</th>\n",
       "      <th>kp_prob_b</th>\n",
       "      <th>var_max_b</th>\n",
       "      <th>var_min_b</th>\n",
       "      <th>var_mean_b</th>\n",
       "      <th>var_sigma_b</th>\n",
       "      <th>ks_prob_b</th>\n",
       "      <th>var_prob_b</th>\n",
       "      <th>var_inter_index_s</th>\n",
       "      <th>var_inter_index_m</th>\n",
       "      <th>var_inter_sigma_u</th>\n",
       "    </tr>\n",
       "    <tr>\n",
       "      <th>obs_id</th>\n",
       "      <th></th>\n",
       "      <th></th>\n",
       "      <th></th>\n",
       "      <th></th>\n",
       "      <th></th>\n",
       "      <th></th>\n",
       "      <th></th>\n",
       "      <th></th>\n",
       "      <th></th>\n",
       "      <th></th>\n",
       "      <th></th>\n",
       "      <th></th>\n",
       "      <th></th>\n",
       "      <th></th>\n",
       "      <th></th>\n",
       "      <th></th>\n",
       "      <th></th>\n",
       "      <th></th>\n",
       "      <th></th>\n",
       "      <th></th>\n",
       "      <th></th>\n",
       "    </tr>\n",
       "  </thead>\n",
       "  <tbody>\n",
       "    <tr>\n",
       "      <th>CV_0_obs_0</th>\n",
       "      <td>CV_0</td>\n",
       "      <td>25</td>\n",
       "      <td>CSS120424:125906+242634</td>\n",
       "      <td>2CXO J004247.1+411619</td>\n",
       "      <td>10.696540</td>\n",
       "      <td>41.272150</td>\n",
       "      <td>4103.7</td>\n",
       "      <td>52.93</td>\n",
       "      <td>16618.73000</td>\n",
       "      <td>CV</td>\n",
       "      <td>...</td>\n",
       "      <td>0.140383</td>\n",
       "      <td>-0.193753</td>\n",
       "      <td>-0.407606</td>\n",
       "      <td>-0.409996</td>\n",
       "      <td>0.042725</td>\n",
       "      <td>-0.250447</td>\n",
       "      <td>0.492569</td>\n",
       "      <td>0.200236</td>\n",
       "      <td>-0.756434</td>\n",
       "      <td>0.168818</td>\n",
       "    </tr>\n",
       "    <tr>\n",
       "      <th>CV_1_obs_0</th>\n",
       "      <td>CV_1</td>\n",
       "      <td>12</td>\n",
       "      <td>W32</td>\n",
       "      <td>2CXO J002405.6-720449</td>\n",
       "      <td>6.023632</td>\n",
       "      <td>-72.080360</td>\n",
       "      <td>31673.8</td>\n",
       "      <td>20.78</td>\n",
       "      <td>1834.51100</td>\n",
       "      <td>CV</td>\n",
       "      <td>...</td>\n",
       "      <td>0.300193</td>\n",
       "      <td>-0.422380</td>\n",
       "      <td>-0.452348</td>\n",
       "      <td>-0.450546</td>\n",
       "      <td>-0.153447</td>\n",
       "      <td>0.182504</td>\n",
       "      <td>0.710415</td>\n",
       "      <td>0.200236</td>\n",
       "      <td>-0.795530</td>\n",
       "      <td>-0.096487</td>\n",
       "    </tr>\n",
       "    <tr>\n",
       "      <th>CV_2_obs_0</th>\n",
       "      <td>CV_2</td>\n",
       "      <td>8</td>\n",
       "      <td>CXOGlb_J002405.2-720446</td>\n",
       "      <td>2CXO J002405.2-720446</td>\n",
       "      <td>6.021793</td>\n",
       "      <td>-72.079680</td>\n",
       "      <td>5544.8</td>\n",
       "      <td>9.72</td>\n",
       "      <td>548.75650</td>\n",
       "      <td>CV</td>\n",
       "      <td>...</td>\n",
       "      <td>0.475208</td>\n",
       "      <td>-0.402661</td>\n",
       "      <td>-0.453504</td>\n",
       "      <td>-0.471439</td>\n",
       "      <td>-0.166164</td>\n",
       "      <td>0.404797</td>\n",
       "      <td>0.577944</td>\n",
       "      <td>-0.948770</td>\n",
       "      <td>-0.265416</td>\n",
       "      <td>-0.096436</td>\n",
       "    </tr>\n",
       "    <tr>\n",
       "      <th>CV_3_obs_0</th>\n",
       "      <td>CV_3</td>\n",
       "      <td>13</td>\n",
       "      <td>Cl__NGC_104_MAM_M54898</td>\n",
       "      <td>2CXO J002406.0-720456</td>\n",
       "      <td>6.025117</td>\n",
       "      <td>-72.082280</td>\n",
       "      <td>65237.5</td>\n",
       "      <td>25.99</td>\n",
       "      <td>3275.90600</td>\n",
       "      <td>CV</td>\n",
       "      <td>...</td>\n",
       "      <td>-0.931496</td>\n",
       "      <td>-0.379399</td>\n",
       "      <td>-0.310762</td>\n",
       "      <td>-0.351673</td>\n",
       "      <td>-0.240642</td>\n",
       "      <td>-0.832196</td>\n",
       "      <td>-0.778104</td>\n",
       "      <td>0.774739</td>\n",
       "      <td>1.855039</td>\n",
       "      <td>-0.096581</td>\n",
       "    </tr>\n",
       "    <tr>\n",
       "      <th>CV_4_obs_0</th>\n",
       "      <td>CV_4</td>\n",
       "      <td>13</td>\n",
       "      <td>CXOGlb_J002404.9-720455</td>\n",
       "      <td>2CXO J002404.9-720455</td>\n",
       "      <td>6.020589</td>\n",
       "      <td>-72.082100</td>\n",
       "      <td>31673.8</td>\n",
       "      <td>19.64</td>\n",
       "      <td>2291.21000</td>\n",
       "      <td>CV</td>\n",
       "      <td>...</td>\n",
       "      <td>0.776519</td>\n",
       "      <td>-0.324030</td>\n",
       "      <td>-0.349557</td>\n",
       "      <td>-0.364175</td>\n",
       "      <td>-0.128738</td>\n",
       "      <td>0.147528</td>\n",
       "      <td>0.641022</td>\n",
       "      <td>-0.948770</td>\n",
       "      <td>-0.265416</td>\n",
       "      <td>-0.096428</td>\n",
       "    </tr>\n",
       "    <tr>\n",
       "      <th>...</th>\n",
       "      <td>...</td>\n",
       "      <td>...</td>\n",
       "      <td>...</td>\n",
       "      <td>...</td>\n",
       "      <td>...</td>\n",
       "      <td>...</td>\n",
       "      <td>...</td>\n",
       "      <td>...</td>\n",
       "      <td>...</td>\n",
       "      <td>...</td>\n",
       "      <td>...</td>\n",
       "      <td>...</td>\n",
       "      <td>...</td>\n",
       "      <td>...</td>\n",
       "      <td>...</td>\n",
       "      <td>...</td>\n",
       "      <td>...</td>\n",
       "      <td>...</td>\n",
       "      <td>...</td>\n",
       "      <td>...</td>\n",
       "      <td>...</td>\n",
       "    </tr>\n",
       "    <tr>\n",
       "      <th>LMXB_86_obs_0</th>\n",
       "      <td>LMXB_86</td>\n",
       "      <td>1</td>\n",
       "      <td>SAX_J1810.8-2609_____</td>\n",
       "      <td>2CXO J181044.4-260901</td>\n",
       "      <td>272.685300</td>\n",
       "      <td>-26.150370</td>\n",
       "      <td>31871.5</td>\n",
       "      <td>9.29</td>\n",
       "      <td>512.97550</td>\n",
       "      <td>LX</td>\n",
       "      <td>...</td>\n",
       "      <td>-0.125336</td>\n",
       "      <td>-0.457551</td>\n",
       "      <td>-0.309760</td>\n",
       "      <td>-0.373279</td>\n",
       "      <td>-0.343210</td>\n",
       "      <td>1.114425</td>\n",
       "      <td>-1.386978</td>\n",
       "      <td>0.263431</td>\n",
       "      <td>-0.779626</td>\n",
       "      <td>-0.086540</td>\n",
       "    </tr>\n",
       "    <tr>\n",
       "      <th>LMXB_90_obs_0</th>\n",
       "      <td>LMXB_90</td>\n",
       "      <td>1</td>\n",
       "      <td>XTE_J2123-058________</td>\n",
       "      <td>2CXO J212314.5-054753</td>\n",
       "      <td>320.810600</td>\n",
       "      <td>-5.798128</td>\n",
       "      <td>17705.1</td>\n",
       "      <td>4.06</td>\n",
       "      <td>132.76700</td>\n",
       "      <td>LX</td>\n",
       "      <td>...</td>\n",
       "      <td>-1.550353</td>\n",
       "      <td>-0.456183</td>\n",
       "      <td>-0.509419</td>\n",
       "      <td>-0.548922</td>\n",
       "      <td>-0.269642</td>\n",
       "      <td>-1.340299</td>\n",
       "      <td>1.704492</td>\n",
       "      <td>0.200236</td>\n",
       "      <td>-0.779626</td>\n",
       "      <td>-0.086412</td>\n",
       "    </tr>\n",
       "    <tr>\n",
       "      <th>LMXB_91_obs_0</th>\n",
       "      <td>LMXB_91</td>\n",
       "      <td>1</td>\n",
       "      <td>XB_1732-304__________</td>\n",
       "      <td>2CXO J173547.0-302858</td>\n",
       "      <td>263.945900</td>\n",
       "      <td>-30.482820</td>\n",
       "      <td>18855.8</td>\n",
       "      <td>4.89</td>\n",
       "      <td>114.24570</td>\n",
       "      <td>LX</td>\n",
       "      <td>...</td>\n",
       "      <td>-0.090579</td>\n",
       "      <td>-0.501432</td>\n",
       "      <td>-0.473210</td>\n",
       "      <td>-0.514178</td>\n",
       "      <td>-0.283957</td>\n",
       "      <td>0.705305</td>\n",
       "      <td>0.182274</td>\n",
       "      <td>-0.948770</td>\n",
       "      <td>0.264698</td>\n",
       "      <td>-0.096551</td>\n",
       "    </tr>\n",
       "    <tr>\n",
       "      <th>LMXB_92_obs_0</th>\n",
       "      <td>LMXB_92</td>\n",
       "      <td>1</td>\n",
       "      <td>BW_ANT_______________</td>\n",
       "      <td>2CXO J092920.1-312303</td>\n",
       "      <td>142.334100</td>\n",
       "      <td>-31.384270</td>\n",
       "      <td>24445.9</td>\n",
       "      <td>3.70</td>\n",
       "      <td>75.53454</td>\n",
       "      <td>LX</td>\n",
       "      <td>...</td>\n",
       "      <td>0.960806</td>\n",
       "      <td>-0.605547</td>\n",
       "      <td>-0.555865</td>\n",
       "      <td>-0.582067</td>\n",
       "      <td>-0.287268</td>\n",
       "      <td>1.597536</td>\n",
       "      <td>0.849313</td>\n",
       "      <td>0.200236</td>\n",
       "      <td>-0.779626</td>\n",
       "      <td>-0.086602</td>\n",
       "    </tr>\n",
       "    <tr>\n",
       "      <th>LMXB_94_obs_0</th>\n",
       "      <td>LMXB_94</td>\n",
       "      <td>1</td>\n",
       "      <td>J1748-3607___________</td>\n",
       "      <td>2CXO J174813.1-360758</td>\n",
       "      <td>267.054700</td>\n",
       "      <td>-36.132810</td>\n",
       "      <td>15794.5</td>\n",
       "      <td>3.09</td>\n",
       "      <td>50.50810</td>\n",
       "      <td>LX</td>\n",
       "      <td>...</td>\n",
       "      <td>-1.819716</td>\n",
       "      <td>-0.599125</td>\n",
       "      <td>-0.536339</td>\n",
       "      <td>-0.578793</td>\n",
       "      <td>-0.332693</td>\n",
       "      <td>-1.910456</td>\n",
       "      <td>-0.121314</td>\n",
       "      <td>0.205981</td>\n",
       "      <td>-0.779626</td>\n",
       "      <td>-0.085515</td>\n",
       "    </tr>\n",
       "  </tbody>\n",
       "</table>\n",
       "<p>420 rows × 59 columns</p>\n",
       "</div>"
      ]
     },
     "metadata": {},
     "execution_count": 20
    }
   ],
   "metadata": {}
  },
  {
   "cell_type": "code",
   "execution_count": 21,
   "source": [
    "details(data_imp_norm)"
   ],
   "outputs": [
    {
     "output_type": "stream",
     "name": "stdout",
     "text": [
      "________________________________________________\n",
      "Sparsity in the data : 0.00\n",
      "Data shape (420, 59)\n",
      "Number of sources : \n",
      "CV  \t  184 \t 184\n",
      "PL  \t  178 \t 178\n",
      "LX  \t  58 \t 58\n"
     ]
    }
   ],
   "metadata": {}
  },
  {
   "cell_type": "code",
   "execution_count": 22,
   "source": [
    "verbose = 0\n",
    "val_acc = []\n",
    "test_acc = []\n",
    "for i in tqdm(range(32)):\n",
    "    src_list = pd.DataFrame()\n",
    "    class_to_select = ['CV' , 'LX' , 'PL']\n",
    "    df = data_imp_norm.copy()\n",
    "    i_val = df[info_col]\n",
    "    y_val = df['class']\n",
    "    x_val = df.drop(columns=['class']+info_col)\n",
    "    x_train , x_test ,i_train, i_test ,  y_train , y_test = train_test_split(x_val , i_val ,y_val , test_size=0.2 , stratify=y_val, random_state=42)\n",
    "    clf = RandomForestClassifier(n_estimators=200 , )\n",
    "    clf.fit(x_train , y_train ,sample_weight=i_train['significance'])\n",
    "    v_sc = clf.score(x_test , y_test)\n",
    "    test_sc = clf.score(x_train, y_train)\n",
    "    val_acc.append(v_sc)\n",
    "    test_acc.append(test_sc)\n",
    "    #if(verbose):\n",
    "    print(test_sc , v_sc)"
   ],
   "outputs": [
    {
     "output_type": "stream",
     "name": "stderr",
     "text": [
      "  3%|▎         | 1/32 [00:00<00:18,  1.71it/s]"
     ]
    },
    {
     "output_type": "stream",
     "name": "stdout",
     "text": [
      "0.9910714285714286 0.7380952380952381\n"
     ]
    },
    {
     "output_type": "stream",
     "name": "stderr",
     "text": [
      "  6%|▋         | 2/32 [00:01<00:19,  1.52it/s]"
     ]
    },
    {
     "output_type": "stream",
     "name": "stdout",
     "text": [
      "0.9910714285714286 0.7380952380952381\n"
     ]
    },
    {
     "output_type": "stream",
     "name": "stderr",
     "text": [
      "  9%|▉         | 3/32 [00:01<00:18,  1.58it/s]"
     ]
    },
    {
     "output_type": "stream",
     "name": "stdout",
     "text": [
      "0.9910714285714286 0.7619047619047619\n"
     ]
    },
    {
     "output_type": "stream",
     "name": "stderr",
     "text": [
      " 12%|█▎        | 4/32 [00:02<00:16,  1.71it/s]"
     ]
    },
    {
     "output_type": "stream",
     "name": "stdout",
     "text": [
      "0.9910714285714286 0.7380952380952381\n"
     ]
    },
    {
     "output_type": "stream",
     "name": "stderr",
     "text": [
      " 16%|█▌        | 5/32 [00:02<00:14,  1.82it/s]"
     ]
    },
    {
     "output_type": "stream",
     "name": "stdout",
     "text": [
      "0.9910714285714286 0.7380952380952381\n"
     ]
    },
    {
     "output_type": "stream",
     "name": "stderr",
     "text": [
      " 19%|█▉        | 6/32 [00:03<00:13,  1.90it/s]"
     ]
    },
    {
     "output_type": "stream",
     "name": "stdout",
     "text": [
      "0.9910714285714286 0.7261904761904762\n"
     ]
    },
    {
     "output_type": "stream",
     "name": "stderr",
     "text": [
      " 22%|██▏       | 7/32 [00:03<00:12,  1.98it/s]"
     ]
    },
    {
     "output_type": "stream",
     "name": "stdout",
     "text": [
      "0.9910714285714286 0.7619047619047619\n"
     ]
    },
    {
     "output_type": "stream",
     "name": "stderr",
     "text": [
      " 25%|██▌       | 8/32 [00:04<00:11,  2.05it/s]"
     ]
    },
    {
     "output_type": "stream",
     "name": "stdout",
     "text": [
      "0.9910714285714286 0.7023809523809523\n"
     ]
    },
    {
     "output_type": "stream",
     "name": "stderr",
     "text": [
      " 28%|██▊       | 9/32 [00:04<00:10,  2.12it/s]"
     ]
    },
    {
     "output_type": "stream",
     "name": "stdout",
     "text": [
      "0.9910714285714286 0.7261904761904762\n"
     ]
    },
    {
     "output_type": "stream",
     "name": "stderr",
     "text": [
      " 31%|███▏      | 10/32 [00:05<00:10,  2.15it/s]"
     ]
    },
    {
     "output_type": "stream",
     "name": "stdout",
     "text": [
      "0.9910714285714286 0.7023809523809523\n"
     ]
    },
    {
     "output_type": "stream",
     "name": "stderr",
     "text": [
      " 34%|███▍      | 11/32 [00:05<00:09,  2.17it/s]"
     ]
    },
    {
     "output_type": "stream",
     "name": "stdout",
     "text": [
      "0.9910714285714286 0.7261904761904762\n"
     ]
    },
    {
     "output_type": "stream",
     "name": "stderr",
     "text": [
      " 38%|███▊      | 12/32 [00:06<00:09,  2.19it/s]"
     ]
    },
    {
     "output_type": "stream",
     "name": "stdout",
     "text": [
      "0.9910714285714286 0.7023809523809523\n"
     ]
    },
    {
     "output_type": "stream",
     "name": "stderr",
     "text": [
      " 41%|████      | 13/32 [00:06<00:08,  2.20it/s]"
     ]
    },
    {
     "output_type": "stream",
     "name": "stdout",
     "text": [
      "0.9910714285714286 0.7142857142857143\n"
     ]
    },
    {
     "output_type": "stream",
     "name": "stderr",
     "text": [
      " 44%|████▍     | 14/32 [00:06<00:08,  2.21it/s]"
     ]
    },
    {
     "output_type": "stream",
     "name": "stdout",
     "text": [
      "0.9910714285714286 0.7619047619047619\n"
     ]
    },
    {
     "output_type": "stream",
     "name": "stderr",
     "text": [
      " 47%|████▋     | 15/32 [00:07<00:07,  2.22it/s]"
     ]
    },
    {
     "output_type": "stream",
     "name": "stdout",
     "text": [
      "0.9910714285714286 0.75\n"
     ]
    },
    {
     "output_type": "stream",
     "name": "stderr",
     "text": [
      " 50%|█████     | 16/32 [00:07<00:07,  2.23it/s]"
     ]
    },
    {
     "output_type": "stream",
     "name": "stdout",
     "text": [
      "0.9910714285714286 0.7261904761904762\n"
     ]
    },
    {
     "output_type": "stream",
     "name": "stderr",
     "text": [
      " 53%|█████▎    | 17/32 [00:08<00:06,  2.23it/s]"
     ]
    },
    {
     "output_type": "stream",
     "name": "stdout",
     "text": [
      "0.9910714285714286 0.7261904761904762\n"
     ]
    },
    {
     "output_type": "stream",
     "name": "stderr",
     "text": [
      " 56%|█████▋    | 18/32 [00:08<00:06,  2.23it/s]"
     ]
    },
    {
     "output_type": "stream",
     "name": "stdout",
     "text": [
      "0.9910714285714286 0.7142857142857143\n"
     ]
    },
    {
     "output_type": "stream",
     "name": "stderr",
     "text": [
      " 59%|█████▉    | 19/32 [00:09<00:05,  2.24it/s]"
     ]
    },
    {
     "output_type": "stream",
     "name": "stdout",
     "text": [
      "0.9910714285714286 0.7619047619047619\n"
     ]
    },
    {
     "output_type": "stream",
     "name": "stderr",
     "text": [
      " 62%|██████▎   | 20/32 [00:09<00:05,  2.24it/s]"
     ]
    },
    {
     "output_type": "stream",
     "name": "stdout",
     "text": [
      "0.9910714285714286 0.7380952380952381\n"
     ]
    },
    {
     "output_type": "stream",
     "name": "stderr",
     "text": [
      " 66%|██████▌   | 21/32 [00:10<00:04,  2.24it/s]"
     ]
    },
    {
     "output_type": "stream",
     "name": "stdout",
     "text": [
      "0.9910714285714286 0.7023809523809523\n"
     ]
    },
    {
     "output_type": "stream",
     "name": "stderr",
     "text": [
      " 69%|██████▉   | 22/32 [00:10<00:04,  2.25it/s]"
     ]
    },
    {
     "output_type": "stream",
     "name": "stdout",
     "text": [
      "0.9910714285714286 0.7380952380952381\n"
     ]
    },
    {
     "output_type": "stream",
     "name": "stderr",
     "text": [
      " 72%|███████▏  | 23/32 [00:10<00:03,  2.25it/s]"
     ]
    },
    {
     "output_type": "stream",
     "name": "stdout",
     "text": [
      "0.9910714285714286 0.7142857142857143\n"
     ]
    },
    {
     "output_type": "stream",
     "name": "stderr",
     "text": [
      " 75%|███████▌  | 24/32 [00:11<00:03,  2.26it/s]"
     ]
    },
    {
     "output_type": "stream",
     "name": "stdout",
     "text": [
      "0.9910714285714286 0.7380952380952381\n"
     ]
    },
    {
     "output_type": "stream",
     "name": "stderr",
     "text": [
      " 78%|███████▊  | 25/32 [00:11<00:03,  2.26it/s]"
     ]
    },
    {
     "output_type": "stream",
     "name": "stdout",
     "text": [
      "0.9910714285714286 0.6904761904761905\n"
     ]
    },
    {
     "output_type": "stream",
     "name": "stderr",
     "text": [
      " 81%|████████▏ | 26/32 [00:12<00:02,  2.24it/s]"
     ]
    },
    {
     "output_type": "stream",
     "name": "stdout",
     "text": [
      "0.9910714285714286 0.7261904761904762\n"
     ]
    },
    {
     "output_type": "stream",
     "name": "stderr",
     "text": [
      " 84%|████████▍ | 27/32 [00:12<00:02,  2.24it/s]"
     ]
    },
    {
     "output_type": "stream",
     "name": "stdout",
     "text": [
      "0.9910714285714286 0.75\n"
     ]
    },
    {
     "output_type": "stream",
     "name": "stderr",
     "text": [
      " 88%|████████▊ | 28/32 [00:13<00:01,  2.24it/s]"
     ]
    },
    {
     "output_type": "stream",
     "name": "stdout",
     "text": [
      "0.9910714285714286 0.7380952380952381\n"
     ]
    },
    {
     "output_type": "stream",
     "name": "stderr",
     "text": [
      " 91%|█████████ | 29/32 [00:13<00:01,  2.25it/s]"
     ]
    },
    {
     "output_type": "stream",
     "name": "stdout",
     "text": [
      "0.9910714285714286 0.7142857142857143\n"
     ]
    },
    {
     "output_type": "stream",
     "name": "stderr",
     "text": [
      " 94%|█████████▍| 30/32 [00:14<00:00,  2.26it/s]"
     ]
    },
    {
     "output_type": "stream",
     "name": "stdout",
     "text": [
      "0.9910714285714286 0.7261904761904762\n"
     ]
    },
    {
     "output_type": "stream",
     "name": "stderr",
     "text": [
      " 97%|█████████▋| 31/32 [00:14<00:00,  2.24it/s]"
     ]
    },
    {
     "output_type": "stream",
     "name": "stdout",
     "text": [
      "0.9910714285714286 0.7738095238095238\n"
     ]
    },
    {
     "output_type": "stream",
     "name": "stderr",
     "text": [
      "100%|██████████| 32/32 [00:14<00:00,  2.13it/s]"
     ]
    },
    {
     "output_type": "stream",
     "name": "stdout",
     "text": [
      "0.9910714285714286 0.7380952380952381\n"
     ]
    },
    {
     "output_type": "stream",
     "name": "stderr",
     "text": [
      "\n"
     ]
    }
   ],
   "metadata": {}
  },
  {
   "cell_type": "code",
   "execution_count": 25,
   "source": [
    "score = pd.DataFrame({\n",
    "    \"Test Score\" : test_acc, \n",
    "    \"Validation Score\" : val_acc\n",
    "})*100\n",
    "score.describe().loc[['mean' , 'std' , 'min', 'max' ]]"
   ],
   "outputs": [
    {
     "output_type": "execute_result",
     "data": {
      "text/plain": [
       "      Test Score  Validation Score\n",
       "mean   99.107143         73.139881\n",
       "std     0.000000          2.049456\n",
       "min    99.107143         69.047619\n",
       "max    99.107143         77.380952"
      ],
      "text/html": [
       "<div>\n",
       "<style scoped>\n",
       "    .dataframe tbody tr th:only-of-type {\n",
       "        vertical-align: middle;\n",
       "    }\n",
       "\n",
       "    .dataframe tbody tr th {\n",
       "        vertical-align: top;\n",
       "    }\n",
       "\n",
       "    .dataframe thead th {\n",
       "        text-align: right;\n",
       "    }\n",
       "</style>\n",
       "<table border=\"1\" class=\"dataframe\">\n",
       "  <thead>\n",
       "    <tr style=\"text-align: right;\">\n",
       "      <th></th>\n",
       "      <th>Test Score</th>\n",
       "      <th>Validation Score</th>\n",
       "    </tr>\n",
       "  </thead>\n",
       "  <tbody>\n",
       "    <tr>\n",
       "      <th>mean</th>\n",
       "      <td>99.107143</td>\n",
       "      <td>73.139881</td>\n",
       "    </tr>\n",
       "    <tr>\n",
       "      <th>std</th>\n",
       "      <td>0.000000</td>\n",
       "      <td>2.049456</td>\n",
       "    </tr>\n",
       "    <tr>\n",
       "      <th>min</th>\n",
       "      <td>99.107143</td>\n",
       "      <td>69.047619</td>\n",
       "    </tr>\n",
       "    <tr>\n",
       "      <th>max</th>\n",
       "      <td>99.107143</td>\n",
       "      <td>77.380952</td>\n",
       "    </tr>\n",
       "  </tbody>\n",
       "</table>\n",
       "</div>"
      ]
     },
     "metadata": {},
     "execution_count": 25
    }
   ],
   "metadata": {}
  },
  {
   "cell_type": "code",
   "execution_count": 29,
   "source": [
    "sns.set(font_scale=1.3)\n",
    "sns.set_style('whitegrid')\n",
    "fig , ax = plt.subplots(nrows=1 , ncols=3 , figsize = (18 , 4))\n",
    "sns.boxplot(data = score , ax = ax[0])\n",
    "cf = confusion_matrix(y_train , clf.predict(x_train) ,)\n",
    "sns.heatmap(cf , annot=True ,fmt = '.0f' , ax = ax[1] , xticklabels =class_to_select , yticklabels = class_to_select  , cmap='RdYlGn' ,)\n",
    "cf = confusion_matrix(y_test , clf.predict(x_test) ,)\n",
    "sns.heatmap(cf , annot=True ,fmt = '.0f' , ax = ax[2] , xticklabels=class_to_select, yticklabels = class_to_select , cmap='RdYlGn')\n",
    "ax[1].set_title('Training CF')\n",
    "ax[2].set_title('Validation CF')\n",
    "for a in ax[1:]:\n",
    "    a.set_xlabel('Predicted class')\n",
    "    a.set_ylabel('True class')\n",
    "\n",
    "plt.show()\n",
    "#score"
   ],
   "outputs": [
    {
     "output_type": "display_data",
     "data": {
      "text/plain": [
       "<Figure size 1296x288 with 5 Axes>"
      ],
      "image/svg+xml": "<?xml version=\"1.0\" encoding=\"utf-8\" standalone=\"no\"?>\n<!DOCTYPE svg PUBLIC \"-//W3C//DTD SVG 1.1//EN\"\n  \"http://www.w3.org/Graphics/SVG/1.1/DTD/svg11.dtd\">\n<!-- Created with matplotlib (https://matplotlib.org/) -->\n<svg height=\"292.131156pt\" version=\"1.1\" viewBox=\"0 0 1049.85211 292.131156\" width=\"1049.85211pt\" xmlns=\"http://www.w3.org/2000/svg\" xmlns:xlink=\"http://www.w3.org/1999/xlink\">\n <metadata>\n  <rdf:RDF xmlns:cc=\"http://creativecommons.org/ns#\" xmlns:dc=\"http://purl.org/dc/elements/1.1/\" xmlns:rdf=\"http://www.w3.org/1999/02/22-rdf-syntax-ns#\">\n   <cc:Work>\n    <dc:type rdf:resource=\"http://purl.org/dc/dcmitype/StillImage\"/>\n    <dc:date>2021-12-12T14:13:46.420248</dc:date>\n    <dc:format>image/svg+xml</dc:format>\n    <dc:creator>\n     <cc:Agent>\n      <dc:title>Matplotlib v3.3.4, https://matplotlib.org/</dc:title>\n     </cc:Agent>\n    </dc:creator>\n   </cc:Work>\n  </rdf:RDF>\n </metadata>\n <defs>\n  <style type=\"text/css\">*{stroke-linecap:butt;stroke-linejoin:round;}</style>\n </defs>\n <g id=\"figure_1\">\n  <g id=\"patch_1\">\n   <path d=\"M 0 292.131156 \nL 1049.85211 292.131156 \nL 1049.85211 0 \nL 0 0 \nz\n\" style=\"fill:#ffffff;\"/>\n  </g>\n  <g id=\"axes_1\">\n   <g id=\"patch_2\">\n    <path d=\"M 43.995125 242.493563 \nL 339.40689 242.493563 \nL 339.40689 25.053563 \nL 43.995125 25.053563 \nz\n\" style=\"fill:#ffffff;\"/>\n   </g>\n   <g id=\"matplotlib.axis_1\">\n    <g id=\"xtick_1\">\n     <g id=\"text_1\">\n      <!-- Test Score -->\n      <g style=\"fill:#262626;\" transform=\"translate(81.473558 262.859328)scale(0.143 -0.143)\">\n       <defs>\n        <path d=\"M -0.296875 72.90625 \nL 61.375 72.90625 \nL 61.375 64.59375 \nL 35.5 64.59375 \nL 35.5 0 \nL 25.59375 0 \nL 25.59375 64.59375 \nL -0.296875 64.59375 \nz\n\" id=\"DejaVuSans-84\"/>\n        <path d=\"M 56.203125 29.59375 \nL 56.203125 25.203125 \nL 14.890625 25.203125 \nQ 15.484375 15.921875 20.484375 11.0625 \nQ 25.484375 6.203125 34.421875 6.203125 \nQ 39.59375 6.203125 44.453125 7.46875 \nQ 49.3125 8.734375 54.109375 11.28125 \nL 54.109375 2.78125 \nQ 49.265625 0.734375 44.1875 -0.34375 \nQ 39.109375 -1.421875 33.890625 -1.421875 \nQ 20.796875 -1.421875 13.15625 6.1875 \nQ 5.515625 13.8125 5.515625 26.8125 \nQ 5.515625 40.234375 12.765625 48.109375 \nQ 20.015625 56 32.328125 56 \nQ 43.359375 56 49.78125 48.890625 \nQ 56.203125 41.796875 56.203125 29.59375 \nz\nM 47.21875 32.234375 \nQ 47.125 39.59375 43.09375 43.984375 \nQ 39.0625 48.390625 32.421875 48.390625 \nQ 24.90625 48.390625 20.390625 44.140625 \nQ 15.875 39.890625 15.1875 32.171875 \nz\n\" id=\"DejaVuSans-101\"/>\n        <path d=\"M 44.28125 53.078125 \nL 44.28125 44.578125 \nQ 40.484375 46.53125 36.375 47.5 \nQ 32.28125 48.484375 27.875 48.484375 \nQ 21.1875 48.484375 17.84375 46.4375 \nQ 14.5 44.390625 14.5 40.28125 \nQ 14.5 37.15625 16.890625 35.375 \nQ 19.28125 33.59375 26.515625 31.984375 \nL 29.59375 31.296875 \nQ 39.15625 29.25 43.1875 25.515625 \nQ 47.21875 21.78125 47.21875 15.09375 \nQ 47.21875 7.46875 41.1875 3.015625 \nQ 35.15625 -1.421875 24.609375 -1.421875 \nQ 20.21875 -1.421875 15.453125 -0.5625 \nQ 10.6875 0.296875 5.421875 2 \nL 5.421875 11.28125 \nQ 10.40625 8.6875 15.234375 7.390625 \nQ 20.0625 6.109375 24.8125 6.109375 \nQ 31.15625 6.109375 34.5625 8.28125 \nQ 37.984375 10.453125 37.984375 14.40625 \nQ 37.984375 18.0625 35.515625 20.015625 \nQ 33.0625 21.96875 24.703125 23.78125 \nL 21.578125 24.515625 \nQ 13.234375 26.265625 9.515625 29.90625 \nQ 5.8125 33.546875 5.8125 39.890625 \nQ 5.8125 47.609375 11.28125 51.796875 \nQ 16.75 56 26.8125 56 \nQ 31.78125 56 36.171875 55.265625 \nQ 40.578125 54.546875 44.28125 53.078125 \nz\n\" id=\"DejaVuSans-115\"/>\n        <path d=\"M 18.3125 70.21875 \nL 18.3125 54.6875 \nL 36.8125 54.6875 \nL 36.8125 47.703125 \nL 18.3125 47.703125 \nL 18.3125 18.015625 \nQ 18.3125 11.328125 20.140625 9.421875 \nQ 21.96875 7.515625 27.59375 7.515625 \nL 36.8125 7.515625 \nL 36.8125 0 \nL 27.59375 0 \nQ 17.1875 0 13.234375 3.875 \nQ 9.28125 7.765625 9.28125 18.015625 \nL 9.28125 47.703125 \nL 2.6875 47.703125 \nL 2.6875 54.6875 \nL 9.28125 54.6875 \nL 9.28125 70.21875 \nz\n\" id=\"DejaVuSans-116\"/>\n        <path id=\"DejaVuSans-32\"/>\n        <path d=\"M 53.515625 70.515625 \nL 53.515625 60.890625 \nQ 47.90625 63.578125 42.921875 64.890625 \nQ 37.9375 66.21875 33.296875 66.21875 \nQ 25.25 66.21875 20.875 63.09375 \nQ 16.5 59.96875 16.5 54.203125 \nQ 16.5 49.359375 19.40625 46.890625 \nQ 22.3125 44.4375 30.421875 42.921875 \nL 36.375 41.703125 \nQ 47.40625 39.59375 52.65625 34.296875 \nQ 57.90625 29 57.90625 20.125 \nQ 57.90625 9.515625 50.796875 4.046875 \nQ 43.703125 -1.421875 29.984375 -1.421875 \nQ 24.8125 -1.421875 18.96875 -0.25 \nQ 13.140625 0.921875 6.890625 3.21875 \nL 6.890625 13.375 \nQ 12.890625 10.015625 18.65625 8.296875 \nQ 24.421875 6.59375 29.984375 6.59375 \nQ 38.421875 6.59375 43.015625 9.90625 \nQ 47.609375 13.234375 47.609375 19.390625 \nQ 47.609375 24.75 44.3125 27.78125 \nQ 41.015625 30.8125 33.5 32.328125 \nL 27.484375 33.5 \nQ 16.453125 35.6875 11.515625 40.375 \nQ 6.59375 45.0625 6.59375 53.421875 \nQ 6.59375 63.09375 13.40625 68.65625 \nQ 20.21875 74.21875 32.171875 74.21875 \nQ 37.3125 74.21875 42.625 73.28125 \nQ 47.953125 72.359375 53.515625 70.515625 \nz\n\" id=\"DejaVuSans-83\"/>\n        <path d=\"M 48.78125 52.59375 \nL 48.78125 44.1875 \nQ 44.96875 46.296875 41.140625 47.34375 \nQ 37.3125 48.390625 33.40625 48.390625 \nQ 24.65625 48.390625 19.8125 42.84375 \nQ 14.984375 37.3125 14.984375 27.296875 \nQ 14.984375 17.28125 19.8125 11.734375 \nQ 24.65625 6.203125 33.40625 6.203125 \nQ 37.3125 6.203125 41.140625 7.25 \nQ 44.96875 8.296875 48.78125 10.40625 \nL 48.78125 2.09375 \nQ 45.015625 0.34375 40.984375 -0.53125 \nQ 36.96875 -1.421875 32.421875 -1.421875 \nQ 20.0625 -1.421875 12.78125 6.34375 \nQ 5.515625 14.109375 5.515625 27.296875 \nQ 5.515625 40.671875 12.859375 48.328125 \nQ 20.21875 56 33.015625 56 \nQ 37.15625 56 41.109375 55.140625 \nQ 45.0625 54.296875 48.78125 52.59375 \nz\n\" id=\"DejaVuSans-99\"/>\n        <path d=\"M 30.609375 48.390625 \nQ 23.390625 48.390625 19.1875 42.75 \nQ 14.984375 37.109375 14.984375 27.296875 \nQ 14.984375 17.484375 19.15625 11.84375 \nQ 23.34375 6.203125 30.609375 6.203125 \nQ 37.796875 6.203125 41.984375 11.859375 \nQ 46.1875 17.53125 46.1875 27.296875 \nQ 46.1875 37.015625 41.984375 42.703125 \nQ 37.796875 48.390625 30.609375 48.390625 \nz\nM 30.609375 56 \nQ 42.328125 56 49.015625 48.375 \nQ 55.71875 40.765625 55.71875 27.296875 \nQ 55.71875 13.875 49.015625 6.21875 \nQ 42.328125 -1.421875 30.609375 -1.421875 \nQ 18.84375 -1.421875 12.171875 6.21875 \nQ 5.515625 13.875 5.515625 27.296875 \nQ 5.515625 40.765625 12.171875 48.375 \nQ 18.84375 56 30.609375 56 \nz\n\" id=\"DejaVuSans-111\"/>\n        <path d=\"M 41.109375 46.296875 \nQ 39.59375 47.171875 37.8125 47.578125 \nQ 36.03125 48 33.890625 48 \nQ 26.265625 48 22.1875 43.046875 \nQ 18.109375 38.09375 18.109375 28.8125 \nL 18.109375 0 \nL 9.078125 0 \nL 9.078125 54.6875 \nL 18.109375 54.6875 \nL 18.109375 46.1875 \nQ 20.953125 51.171875 25.484375 53.578125 \nQ 30.03125 56 36.53125 56 \nQ 37.453125 56 38.578125 55.875 \nQ 39.703125 55.765625 41.0625 55.515625 \nz\n\" id=\"DejaVuSans-114\"/>\n       </defs>\n       <use xlink:href=\"#DejaVuSans-84\"/>\n       <use x=\"44.083984\" xlink:href=\"#DejaVuSans-101\"/>\n       <use x=\"105.607422\" xlink:href=\"#DejaVuSans-115\"/>\n       <use x=\"157.707031\" xlink:href=\"#DejaVuSans-116\"/>\n       <use x=\"196.916016\" xlink:href=\"#DejaVuSans-32\"/>\n       <use x=\"228.703125\" xlink:href=\"#DejaVuSans-83\"/>\n       <use x=\"292.179688\" xlink:href=\"#DejaVuSans-99\"/>\n       <use x=\"347.160156\" xlink:href=\"#DejaVuSans-111\"/>\n       <use x=\"408.341797\" xlink:href=\"#DejaVuSans-114\"/>\n       <use x=\"447.205078\" xlink:href=\"#DejaVuSans-101\"/>\n      </g>\n     </g>\n    </g>\n    <g id=\"xtick_2\">\n     <g id=\"text_2\">\n      <!-- Validation Score -->\n      <g style=\"fill:#262626;\" transform=\"translate(207.950644 262.859328)scale(0.143 -0.143)\">\n       <defs>\n        <path d=\"M 28.609375 0 \nL 0.78125 72.90625 \nL 11.078125 72.90625 \nL 34.1875 11.53125 \nL 57.328125 72.90625 \nL 67.578125 72.90625 \nL 39.796875 0 \nz\n\" id=\"DejaVuSans-86\"/>\n        <path d=\"M 34.28125 27.484375 \nQ 23.390625 27.484375 19.1875 25 \nQ 14.984375 22.515625 14.984375 16.5 \nQ 14.984375 11.71875 18.140625 8.90625 \nQ 21.296875 6.109375 26.703125 6.109375 \nQ 34.1875 6.109375 38.703125 11.40625 \nQ 43.21875 16.703125 43.21875 25.484375 \nL 43.21875 27.484375 \nz\nM 52.203125 31.203125 \nL 52.203125 0 \nL 43.21875 0 \nL 43.21875 8.296875 \nQ 40.140625 3.328125 35.546875 0.953125 \nQ 30.953125 -1.421875 24.3125 -1.421875 \nQ 15.921875 -1.421875 10.953125 3.296875 \nQ 6 8.015625 6 15.921875 \nQ 6 25.140625 12.171875 29.828125 \nQ 18.359375 34.515625 30.609375 34.515625 \nL 43.21875 34.515625 \nL 43.21875 35.40625 \nQ 43.21875 41.609375 39.140625 45 \nQ 35.0625 48.390625 27.6875 48.390625 \nQ 23 48.390625 18.546875 47.265625 \nQ 14.109375 46.140625 10.015625 43.890625 \nL 10.015625 52.203125 \nQ 14.9375 54.109375 19.578125 55.046875 \nQ 24.21875 56 28.609375 56 \nQ 40.484375 56 46.34375 49.84375 \nQ 52.203125 43.703125 52.203125 31.203125 \nz\n\" id=\"DejaVuSans-97\"/>\n        <path d=\"M 9.421875 75.984375 \nL 18.40625 75.984375 \nL 18.40625 0 \nL 9.421875 0 \nz\n\" id=\"DejaVuSans-108\"/>\n        <path d=\"M 9.421875 54.6875 \nL 18.40625 54.6875 \nL 18.40625 0 \nL 9.421875 0 \nz\nM 9.421875 75.984375 \nL 18.40625 75.984375 \nL 18.40625 64.59375 \nL 9.421875 64.59375 \nz\n\" id=\"DejaVuSans-105\"/>\n        <path d=\"M 45.40625 46.390625 \nL 45.40625 75.984375 \nL 54.390625 75.984375 \nL 54.390625 0 \nL 45.40625 0 \nL 45.40625 8.203125 \nQ 42.578125 3.328125 38.25 0.953125 \nQ 33.9375 -1.421875 27.875 -1.421875 \nQ 17.96875 -1.421875 11.734375 6.484375 \nQ 5.515625 14.40625 5.515625 27.296875 \nQ 5.515625 40.1875 11.734375 48.09375 \nQ 17.96875 56 27.875 56 \nQ 33.9375 56 38.25 53.625 \nQ 42.578125 51.265625 45.40625 46.390625 \nz\nM 14.796875 27.296875 \nQ 14.796875 17.390625 18.875 11.75 \nQ 22.953125 6.109375 30.078125 6.109375 \nQ 37.203125 6.109375 41.296875 11.75 \nQ 45.40625 17.390625 45.40625 27.296875 \nQ 45.40625 37.203125 41.296875 42.84375 \nQ 37.203125 48.484375 30.078125 48.484375 \nQ 22.953125 48.484375 18.875 42.84375 \nQ 14.796875 37.203125 14.796875 27.296875 \nz\n\" id=\"DejaVuSans-100\"/>\n        <path d=\"M 54.890625 33.015625 \nL 54.890625 0 \nL 45.90625 0 \nL 45.90625 32.71875 \nQ 45.90625 40.484375 42.875 44.328125 \nQ 39.84375 48.1875 33.796875 48.1875 \nQ 26.515625 48.1875 22.3125 43.546875 \nQ 18.109375 38.921875 18.109375 30.90625 \nL 18.109375 0 \nL 9.078125 0 \nL 9.078125 54.6875 \nL 18.109375 54.6875 \nL 18.109375 46.1875 \nQ 21.34375 51.125 25.703125 53.5625 \nQ 30.078125 56 35.796875 56 \nQ 45.21875 56 50.046875 50.171875 \nQ 54.890625 44.34375 54.890625 33.015625 \nz\n\" id=\"DejaVuSans-110\"/>\n       </defs>\n       <use xlink:href=\"#DejaVuSans-86\"/>\n       <use x=\"60.658203\" xlink:href=\"#DejaVuSans-97\"/>\n       <use x=\"121.9375\" xlink:href=\"#DejaVuSans-108\"/>\n       <use x=\"149.720703\" xlink:href=\"#DejaVuSans-105\"/>\n       <use x=\"177.503906\" xlink:href=\"#DejaVuSans-100\"/>\n       <use x=\"240.980469\" xlink:href=\"#DejaVuSans-97\"/>\n       <use x=\"302.259766\" xlink:href=\"#DejaVuSans-116\"/>\n       <use x=\"341.46875\" xlink:href=\"#DejaVuSans-105\"/>\n       <use x=\"369.251953\" xlink:href=\"#DejaVuSans-111\"/>\n       <use x=\"430.433594\" xlink:href=\"#DejaVuSans-110\"/>\n       <use x=\"493.8125\" xlink:href=\"#DejaVuSans-32\"/>\n       <use x=\"525.599609\" xlink:href=\"#DejaVuSans-83\"/>\n       <use x=\"589.076172\" xlink:href=\"#DejaVuSans-99\"/>\n       <use x=\"644.056641\" xlink:href=\"#DejaVuSans-111\"/>\n       <use x=\"705.238281\" xlink:href=\"#DejaVuSans-114\"/>\n       <use x=\"744.101562\" xlink:href=\"#DejaVuSans-101\"/>\n      </g>\n     </g>\n    </g>\n   </g>\n   <g id=\"matplotlib.axis_2\">\n    <g id=\"ytick_1\">\n     <g id=\"line2d_1\">\n      <path clip-path=\"url(#pfc60e93a80)\" d=\"M 43.995125 226.347028 \nL 339.40689 226.347028 \n\" style=\"fill:none;stroke:#cccccc;stroke-linecap:round;\"/>\n     </g>\n     <g id=\"text_3\">\n      <!-- 70 -->\n      <g style=\"fill:#262626;\" transform=\"translate(16.298375 231.779911)scale(0.143 -0.143)\">\n       <defs>\n        <path d=\"M 8.203125 72.90625 \nL 55.078125 72.90625 \nL 55.078125 68.703125 \nL 28.609375 0 \nL 18.3125 0 \nL 43.21875 64.59375 \nL 8.203125 64.59375 \nz\n\" id=\"DejaVuSans-55\"/>\n        <path d=\"M 31.78125 66.40625 \nQ 24.171875 66.40625 20.328125 58.90625 \nQ 16.5 51.421875 16.5 36.375 \nQ 16.5 21.390625 20.328125 13.890625 \nQ 24.171875 6.390625 31.78125 6.390625 \nQ 39.453125 6.390625 43.28125 13.890625 \nQ 47.125 21.390625 47.125 36.375 \nQ 47.125 51.421875 43.28125 58.90625 \nQ 39.453125 66.40625 31.78125 66.40625 \nz\nM 31.78125 74.21875 \nQ 44.046875 74.21875 50.515625 64.515625 \nQ 56.984375 54.828125 56.984375 36.375 \nQ 56.984375 17.96875 50.515625 8.265625 \nQ 44.046875 -1.421875 31.78125 -1.421875 \nQ 19.53125 -1.421875 13.0625 8.265625 \nQ 6.59375 17.96875 6.59375 36.375 \nQ 6.59375 54.828125 13.0625 64.515625 \nQ 19.53125 74.21875 31.78125 74.21875 \nz\n\" id=\"DejaVuSans-48\"/>\n       </defs>\n       <use xlink:href=\"#DejaVuSans-55\"/>\n       <use x=\"63.623047\" xlink:href=\"#DejaVuSans-48\"/>\n      </g>\n     </g>\n    </g>\n    <g id=\"ytick_2\">\n     <g id=\"line2d_2\">\n      <path clip-path=\"url(#pfc60e93a80)\" d=\"M 43.995125 193.466812 \nL 339.40689 193.466812 \n\" style=\"fill:none;stroke:#cccccc;stroke-linecap:round;\"/>\n     </g>\n     <g id=\"text_4\">\n      <!-- 75 -->\n      <g style=\"fill:#262626;\" transform=\"translate(16.298375 198.899695)scale(0.143 -0.143)\">\n       <defs>\n        <path d=\"M 10.796875 72.90625 \nL 49.515625 72.90625 \nL 49.515625 64.59375 \nL 19.828125 64.59375 \nL 19.828125 46.734375 \nQ 21.96875 47.46875 24.109375 47.828125 \nQ 26.265625 48.1875 28.421875 48.1875 \nQ 40.625 48.1875 47.75 41.5 \nQ 54.890625 34.8125 54.890625 23.390625 \nQ 54.890625 11.625 47.5625 5.09375 \nQ 40.234375 -1.421875 26.90625 -1.421875 \nQ 22.3125 -1.421875 17.546875 -0.640625 \nQ 12.796875 0.140625 7.71875 1.703125 \nL 7.71875 11.625 \nQ 12.109375 9.234375 16.796875 8.0625 \nQ 21.484375 6.890625 26.703125 6.890625 \nQ 35.15625 6.890625 40.078125 11.328125 \nQ 45.015625 15.765625 45.015625 23.390625 \nQ 45.015625 31 40.078125 35.4375 \nQ 35.15625 39.890625 26.703125 39.890625 \nQ 22.75 39.890625 18.8125 39.015625 \nQ 14.890625 38.140625 10.796875 36.28125 \nz\n\" id=\"DejaVuSans-53\"/>\n       </defs>\n       <use xlink:href=\"#DejaVuSans-55\"/>\n       <use x=\"63.623047\" xlink:href=\"#DejaVuSans-53\"/>\n      </g>\n     </g>\n    </g>\n    <g id=\"ytick_3\">\n     <g id=\"line2d_3\">\n      <path clip-path=\"url(#pfc60e93a80)\" d=\"M 43.995125 160.586596 \nL 339.40689 160.586596 \n\" style=\"fill:none;stroke:#cccccc;stroke-linecap:round;\"/>\n     </g>\n     <g id=\"text_5\">\n      <!-- 80 -->\n      <g style=\"fill:#262626;\" transform=\"translate(16.298375 166.019479)scale(0.143 -0.143)\">\n       <defs>\n        <path d=\"M 31.78125 34.625 \nQ 24.75 34.625 20.71875 30.859375 \nQ 16.703125 27.09375 16.703125 20.515625 \nQ 16.703125 13.921875 20.71875 10.15625 \nQ 24.75 6.390625 31.78125 6.390625 \nQ 38.8125 6.390625 42.859375 10.171875 \nQ 46.921875 13.96875 46.921875 20.515625 \nQ 46.921875 27.09375 42.890625 30.859375 \nQ 38.875 34.625 31.78125 34.625 \nz\nM 21.921875 38.8125 \nQ 15.578125 40.375 12.03125 44.71875 \nQ 8.5 49.078125 8.5 55.328125 \nQ 8.5 64.0625 14.71875 69.140625 \nQ 20.953125 74.21875 31.78125 74.21875 \nQ 42.671875 74.21875 48.875 69.140625 \nQ 55.078125 64.0625 55.078125 55.328125 \nQ 55.078125 49.078125 51.53125 44.71875 \nQ 48 40.375 41.703125 38.8125 \nQ 48.828125 37.15625 52.796875 32.3125 \nQ 56.78125 27.484375 56.78125 20.515625 \nQ 56.78125 9.90625 50.3125 4.234375 \nQ 43.84375 -1.421875 31.78125 -1.421875 \nQ 19.734375 -1.421875 13.25 4.234375 \nQ 6.78125 9.90625 6.78125 20.515625 \nQ 6.78125 27.484375 10.78125 32.3125 \nQ 14.796875 37.15625 21.921875 38.8125 \nz\nM 18.3125 54.390625 \nQ 18.3125 48.734375 21.84375 45.5625 \nQ 25.390625 42.390625 31.78125 42.390625 \nQ 38.140625 42.390625 41.71875 45.5625 \nQ 45.3125 48.734375 45.3125 54.390625 \nQ 45.3125 60.0625 41.71875 63.234375 \nQ 38.140625 66.40625 31.78125 66.40625 \nQ 25.390625 66.40625 21.84375 63.234375 \nQ 18.3125 60.0625 18.3125 54.390625 \nz\n\" id=\"DejaVuSans-56\"/>\n       </defs>\n       <use xlink:href=\"#DejaVuSans-56\"/>\n       <use x=\"63.623047\" xlink:href=\"#DejaVuSans-48\"/>\n      </g>\n     </g>\n    </g>\n    <g id=\"ytick_4\">\n     <g id=\"line2d_4\">\n      <path clip-path=\"url(#pfc60e93a80)\" d=\"M 43.995125 127.70638 \nL 339.40689 127.70638 \n\" style=\"fill:none;stroke:#cccccc;stroke-linecap:round;\"/>\n     </g>\n     <g id=\"text_6\">\n      <!-- 85 -->\n      <g style=\"fill:#262626;\" transform=\"translate(16.298375 133.139263)scale(0.143 -0.143)\">\n       <use xlink:href=\"#DejaVuSans-56\"/>\n       <use x=\"63.623047\" xlink:href=\"#DejaVuSans-53\"/>\n      </g>\n     </g>\n    </g>\n    <g id=\"ytick_5\">\n     <g id=\"line2d_5\">\n      <path clip-path=\"url(#pfc60e93a80)\" d=\"M 43.995125 94.826164 \nL 339.40689 94.826164 \n\" style=\"fill:none;stroke:#cccccc;stroke-linecap:round;\"/>\n     </g>\n     <g id=\"text_7\">\n      <!-- 90 -->\n      <g style=\"fill:#262626;\" transform=\"translate(16.298375 100.259047)scale(0.143 -0.143)\">\n       <defs>\n        <path d=\"M 10.984375 1.515625 \nL 10.984375 10.5 \nQ 14.703125 8.734375 18.5 7.8125 \nQ 22.3125 6.890625 25.984375 6.890625 \nQ 35.75 6.890625 40.890625 13.453125 \nQ 46.046875 20.015625 46.78125 33.40625 \nQ 43.953125 29.203125 39.59375 26.953125 \nQ 35.25 24.703125 29.984375 24.703125 \nQ 19.046875 24.703125 12.671875 31.3125 \nQ 6.296875 37.9375 6.296875 49.421875 \nQ 6.296875 60.640625 12.9375 67.421875 \nQ 19.578125 74.21875 30.609375 74.21875 \nQ 43.265625 74.21875 49.921875 64.515625 \nQ 56.59375 54.828125 56.59375 36.375 \nQ 56.59375 19.140625 48.40625 8.859375 \nQ 40.234375 -1.421875 26.421875 -1.421875 \nQ 22.703125 -1.421875 18.890625 -0.6875 \nQ 15.09375 0.046875 10.984375 1.515625 \nz\nM 30.609375 32.421875 \nQ 37.25 32.421875 41.125 36.953125 \nQ 45.015625 41.5 45.015625 49.421875 \nQ 45.015625 57.28125 41.125 61.84375 \nQ 37.25 66.40625 30.609375 66.40625 \nQ 23.96875 66.40625 20.09375 61.84375 \nQ 16.21875 57.28125 16.21875 49.421875 \nQ 16.21875 41.5 20.09375 36.953125 \nQ 23.96875 32.421875 30.609375 32.421875 \nz\n\" id=\"DejaVuSans-57\"/>\n       </defs>\n       <use xlink:href=\"#DejaVuSans-57\"/>\n       <use x=\"63.623047\" xlink:href=\"#DejaVuSans-48\"/>\n      </g>\n     </g>\n    </g>\n    <g id=\"ytick_6\">\n     <g id=\"line2d_6\">\n      <path clip-path=\"url(#pfc60e93a80)\" d=\"M 43.995125 61.945948 \nL 339.40689 61.945948 \n\" style=\"fill:none;stroke:#cccccc;stroke-linecap:round;\"/>\n     </g>\n     <g id=\"text_8\">\n      <!-- 95 -->\n      <g style=\"fill:#262626;\" transform=\"translate(16.298375 67.378831)scale(0.143 -0.143)\">\n       <use xlink:href=\"#DejaVuSans-57\"/>\n       <use x=\"63.623047\" xlink:href=\"#DejaVuSans-53\"/>\n      </g>\n     </g>\n    </g>\n    <g id=\"ytick_7\">\n     <g id=\"line2d_7\">\n      <path clip-path=\"url(#pfc60e93a80)\" d=\"M 43.995125 29.065732 \nL 339.40689 29.065732 \n\" style=\"fill:none;stroke:#cccccc;stroke-linecap:round;\"/>\n     </g>\n     <g id=\"text_9\">\n      <!-- 100 -->\n      <g style=\"fill:#262626;\" transform=\"translate(7.2 34.498615)scale(0.143 -0.143)\">\n       <defs>\n        <path d=\"M 12.40625 8.296875 \nL 28.515625 8.296875 \nL 28.515625 63.921875 \nL 10.984375 60.40625 \nL 10.984375 69.390625 \nL 28.421875 72.90625 \nL 38.28125 72.90625 \nL 38.28125 8.296875 \nL 54.390625 8.296875 \nL 54.390625 0 \nL 12.40625 0 \nz\n\" id=\"DejaVuSans-49\"/>\n       </defs>\n       <use xlink:href=\"#DejaVuSans-49\"/>\n       <use x=\"63.623047\" xlink:href=\"#DejaVuSans-48\"/>\n       <use x=\"127.246094\" xlink:href=\"#DejaVuSans-48\"/>\n      </g>\n     </g>\n    </g>\n   </g>\n   <g id=\"patch_3\">\n    <path clip-path=\"url(#pfc60e93a80)\" d=\"M 58.765713 34.937199 \nL 176.930419 34.937199 \nL 176.930419 34.937199 \nL 58.765713 34.937199 \nL 58.765713 34.937199 \nz\n\" style=\"fill:#5875a4;stroke:#4c4c4c;stroke-linejoin:miter;stroke-width:1.5;\"/>\n   </g>\n   <g id=\"patch_4\">\n    <path clip-path=\"url(#pfc60e93a80)\" d=\"M 206.471596 216.95268 \nL 324.636301 216.95268 \nL 324.636301 201.295435 \nL 206.471596 201.295435 \nL 206.471596 216.95268 \nz\n\" style=\"fill:#cc8963;stroke:#4c4c4c;stroke-linejoin:miter;stroke-width:1.5;\"/>\n   </g>\n   <g id=\"line2d_8\">\n    <path clip-path=\"url(#pfc60e93a80)\" d=\"M 117.848066 34.937199 \nL 117.848066 34.937199 \n\" style=\"fill:none;stroke:#4c4c4c;stroke-linecap:round;stroke-width:1.5;\"/>\n   </g>\n   <g id=\"line2d_9\">\n    <path clip-path=\"url(#pfc60e93a80)\" d=\"M 117.848066 34.937199 \nL 117.848066 34.937199 \n\" style=\"fill:none;stroke:#4c4c4c;stroke-linecap:round;stroke-width:1.5;\"/>\n   </g>\n   <g id=\"line2d_10\">\n    <path clip-path=\"url(#pfc60e93a80)\" d=\"M 88.30689 34.937199 \nL 147.389243 34.937199 \n\" style=\"fill:none;stroke:#4c4c4c;stroke-linecap:round;stroke-width:1.5;\"/>\n   </g>\n   <g id=\"line2d_11\">\n    <path clip-path=\"url(#pfc60e93a80)\" d=\"M 88.30689 34.937199 \nL 147.389243 34.937199 \n\" style=\"fill:none;stroke:#4c4c4c;stroke-linecap:round;stroke-width:1.5;\"/>\n   </g>\n   <g id=\"line2d_12\"/>\n   <g id=\"line2d_13\">\n    <path clip-path=\"url(#pfc60e93a80)\" d=\"M 265.553949 216.95268 \nL 265.553949 232.609926 \n\" style=\"fill:none;stroke:#4c4c4c;stroke-linecap:round;stroke-width:1.5;\"/>\n   </g>\n   <g id=\"line2d_14\">\n    <path clip-path=\"url(#pfc60e93a80)\" d=\"M 265.553949 201.295435 \nL 265.553949 177.809566 \n\" style=\"fill:none;stroke:#4c4c4c;stroke-linecap:round;stroke-width:1.5;\"/>\n   </g>\n   <g id=\"line2d_15\">\n    <path clip-path=\"url(#pfc60e93a80)\" d=\"M 236.012772 232.609926 \nL 295.095125 232.609926 \n\" style=\"fill:none;stroke:#4c4c4c;stroke-linecap:round;stroke-width:1.5;\"/>\n   </g>\n   <g id=\"line2d_16\">\n    <path clip-path=\"url(#pfc60e93a80)\" d=\"M 236.012772 177.809566 \nL 295.095125 177.809566 \n\" style=\"fill:none;stroke:#4c4c4c;stroke-linecap:round;stroke-width:1.5;\"/>\n   </g>\n   <g id=\"line2d_17\"/>\n   <g id=\"line2d_18\">\n    <path clip-path=\"url(#pfc60e93a80)\" d=\"M 58.765713 34.937199 \nL 176.930419 34.937199 \n\" style=\"fill:none;stroke:#4c4c4c;stroke-linecap:round;stroke-width:1.5;\"/>\n   </g>\n   <g id=\"line2d_19\">\n    <path clip-path=\"url(#pfc60e93a80)\" d=\"M 206.471596 205.209746 \nL 324.636301 205.209746 \n\" style=\"fill:none;stroke:#4c4c4c;stroke-linecap:round;stroke-width:1.5;\"/>\n   </g>\n   <g id=\"patch_5\">\n    <path d=\"M 43.995125 242.493562 \nL 43.995125 25.053562 \n\" style=\"fill:none;stroke:#cccccc;stroke-linecap:square;stroke-linejoin:miter;stroke-width:1.25;\"/>\n   </g>\n   <g id=\"patch_6\">\n    <path d=\"M 339.40689 242.493562 \nL 339.40689 25.053562 \n\" style=\"fill:none;stroke:#cccccc;stroke-linecap:square;stroke-linejoin:miter;stroke-width:1.25;\"/>\n   </g>\n   <g id=\"patch_7\">\n    <path d=\"M 43.995125 242.493563 \nL 339.40689 242.493563 \n\" style=\"fill:none;stroke:#cccccc;stroke-linecap:square;stroke-linejoin:miter;stroke-width:1.25;\"/>\n   </g>\n   <g id=\"patch_8\">\n    <path d=\"M 43.995125 25.053563 \nL 339.40689 25.053563 \n\" style=\"fill:none;stroke:#cccccc;stroke-linecap:square;stroke-linejoin:miter;stroke-width:1.25;\"/>\n   </g>\n  </g>\n  <g id=\"axes_2\">\n   <g id=\"patch_9\">\n    <path d=\"M 398.489243 242.493563 \nL 634.818654 242.493563 \nL 634.818654 25.053563 \nL 398.489243 25.053563 \nz\n\" style=\"fill:#ffffff;\"/>\n   </g>\n   <g id=\"matplotlib.axis_3\">\n    <g id=\"xtick_3\">\n     <g id=\"text_10\">\n      <!-- CV -->\n      <g style=\"fill:#262626;\" transform=\"translate(427.99372 262.859328)scale(0.143 -0.143)\">\n       <defs>\n        <path d=\"M 64.40625 67.28125 \nL 64.40625 56.890625 \nQ 59.421875 61.53125 53.78125 63.8125 \nQ 48.140625 66.109375 41.796875 66.109375 \nQ 29.296875 66.109375 22.65625 58.46875 \nQ 16.015625 50.828125 16.015625 36.375 \nQ 16.015625 21.96875 22.65625 14.328125 \nQ 29.296875 6.6875 41.796875 6.6875 \nQ 48.140625 6.6875 53.78125 8.984375 \nQ 59.421875 11.28125 64.40625 15.921875 \nL 64.40625 5.609375 \nQ 59.234375 2.09375 53.4375 0.328125 \nQ 47.65625 -1.421875 41.21875 -1.421875 \nQ 24.65625 -1.421875 15.125 8.703125 \nQ 5.609375 18.84375 5.609375 36.375 \nQ 5.609375 53.953125 15.125 64.078125 \nQ 24.65625 74.21875 41.21875 74.21875 \nQ 47.75 74.21875 53.53125 72.484375 \nQ 59.328125 70.75 64.40625 67.28125 \nz\n\" id=\"DejaVuSans-67\"/>\n       </defs>\n       <use xlink:href=\"#DejaVuSans-67\"/>\n       <use x=\"69.824219\" xlink:href=\"#DejaVuSans-86\"/>\n      </g>\n     </g>\n    </g>\n    <g id=\"xtick_4\">\n     <g id=\"text_11\">\n      <!-- LX -->\n      <g style=\"fill:#262626;\" transform=\"translate(507.772308 262.859328)scale(0.143 -0.143)\">\n       <defs>\n        <path d=\"M 9.8125 72.90625 \nL 19.671875 72.90625 \nL 19.671875 8.296875 \nL 55.171875 8.296875 \nL 55.171875 0 \nL 9.8125 0 \nz\n\" id=\"DejaVuSans-76\"/>\n        <path d=\"M 6.296875 72.90625 \nL 16.890625 72.90625 \nL 35.015625 45.796875 \nL 53.21875 72.90625 \nL 63.8125 72.90625 \nL 40.375 37.890625 \nL 65.375 0 \nL 54.78125 0 \nL 34.28125 31 \nL 13.625 0 \nL 2.984375 0 \nL 29 38.921875 \nz\n\" id=\"DejaVuSans-88\"/>\n       </defs>\n       <use xlink:href=\"#DejaVuSans-76\"/>\n       <use x=\"55.712891\" xlink:href=\"#DejaVuSans-88\"/>\n      </g>\n     </g>\n    </g>\n    <g id=\"xtick_5\">\n     <g id=\"text_12\">\n      <!-- PL -->\n      <g style=\"fill:#262626;\" transform=\"translate(587.135302 262.859328)scale(0.143 -0.143)\">\n       <defs>\n        <path d=\"M 19.671875 64.796875 \nL 19.671875 37.40625 \nL 32.078125 37.40625 \nQ 38.96875 37.40625 42.71875 40.96875 \nQ 46.484375 44.53125 46.484375 51.125 \nQ 46.484375 57.671875 42.71875 61.234375 \nQ 38.96875 64.796875 32.078125 64.796875 \nz\nM 9.8125 72.90625 \nL 32.078125 72.90625 \nQ 44.34375 72.90625 50.609375 67.359375 \nQ 56.890625 61.8125 56.890625 51.125 \nQ 56.890625 40.328125 50.609375 34.8125 \nQ 44.34375 29.296875 32.078125 29.296875 \nL 19.671875 29.296875 \nL 19.671875 0 \nL 9.8125 0 \nz\n\" id=\"DejaVuSans-80\"/>\n       </defs>\n       <use xlink:href=\"#DejaVuSans-80\"/>\n       <use x=\"60.302734\" xlink:href=\"#DejaVuSans-76\"/>\n      </g>\n     </g>\n    </g>\n    <g id=\"text_13\">\n     <!-- Predicted class -->\n     <g style=\"fill:#262626;\" transform=\"translate(458.199042 281.686844)scale(0.156 -0.156)\">\n      <use xlink:href=\"#DejaVuSans-80\"/>\n      <use x=\"58.552734\" xlink:href=\"#DejaVuSans-114\"/>\n      <use x=\"97.416016\" xlink:href=\"#DejaVuSans-101\"/>\n      <use x=\"158.939453\" xlink:href=\"#DejaVuSans-100\"/>\n      <use x=\"222.416016\" xlink:href=\"#DejaVuSans-105\"/>\n      <use x=\"250.199219\" xlink:href=\"#DejaVuSans-99\"/>\n      <use x=\"305.179688\" xlink:href=\"#DejaVuSans-116\"/>\n      <use x=\"344.388672\" xlink:href=\"#DejaVuSans-101\"/>\n      <use x=\"405.912109\" xlink:href=\"#DejaVuSans-100\"/>\n      <use x=\"469.388672\" xlink:href=\"#DejaVuSans-32\"/>\n      <use x=\"501.175781\" xlink:href=\"#DejaVuSans-99\"/>\n      <use x=\"556.15625\" xlink:href=\"#DejaVuSans-108\"/>\n      <use x=\"583.939453\" xlink:href=\"#DejaVuSans-97\"/>\n      <use x=\"645.21875\" xlink:href=\"#DejaVuSans-115\"/>\n      <use x=\"697.318359\" xlink:href=\"#DejaVuSans-115\"/>\n     </g>\n    </g>\n   </g>\n   <g id=\"matplotlib.axis_4\">\n    <g id=\"ytick_8\">\n     <g id=\"text_14\">\n      <!-- CV -->\n      <g style=\"fill:#262626;\" transform=\"translate(386.01529 71.17732)rotate(-90)scale(0.143 -0.143)\">\n       <use xlink:href=\"#DejaVuSans-67\"/>\n       <use x=\"69.824219\" xlink:href=\"#DejaVuSans-86\"/>\n      </g>\n     </g>\n    </g>\n    <g id=\"ytick_9\">\n     <g id=\"text_15\">\n      <!-- LX -->\n      <g style=\"fill:#262626;\" transform=\"translate(386.01529 142.655203)rotate(-90)scale(0.143 -0.143)\">\n       <use xlink:href=\"#DejaVuSans-76\"/>\n       <use x=\"55.712891\" xlink:href=\"#DejaVuSans-88\"/>\n      </g>\n     </g>\n    </g>\n    <g id=\"ytick_10\">\n     <g id=\"text_16\">\n      <!-- PL -->\n      <g style=\"fill:#262626;\" transform=\"translate(386.01529 214.54868)rotate(-90)scale(0.143 -0.143)\">\n       <use xlink:href=\"#DejaVuSans-80\"/>\n       <use x=\"60.302734\" xlink:href=\"#DejaVuSans-76\"/>\n      </g>\n     </g>\n    </g>\n    <g id=\"text_17\">\n     <!-- True class -->\n     <g style=\"fill:#262626;\" transform=\"translate(367.905211 172.177594)rotate(-90)scale(0.156 -0.156)\">\n      <defs>\n       <path d=\"M 8.5 21.578125 \nL 8.5 54.6875 \nL 17.484375 54.6875 \nL 17.484375 21.921875 \nQ 17.484375 14.15625 20.5 10.265625 \nQ 23.53125 6.390625 29.59375 6.390625 \nQ 36.859375 6.390625 41.078125 11.03125 \nQ 45.3125 15.671875 45.3125 23.6875 \nL 45.3125 54.6875 \nL 54.296875 54.6875 \nL 54.296875 0 \nL 45.3125 0 \nL 45.3125 8.40625 \nQ 42.046875 3.421875 37.71875 1 \nQ 33.40625 -1.421875 27.6875 -1.421875 \nQ 18.265625 -1.421875 13.375 4.4375 \nQ 8.5 10.296875 8.5 21.578125 \nz\nM 31.109375 56 \nz\n\" id=\"DejaVuSans-117\"/>\n      </defs>\n      <use xlink:href=\"#DejaVuSans-84\"/>\n      <use x=\"46.333984\" xlink:href=\"#DejaVuSans-114\"/>\n      <use x=\"87.447266\" xlink:href=\"#DejaVuSans-117\"/>\n      <use x=\"150.826172\" xlink:href=\"#DejaVuSans-101\"/>\n      <use x=\"212.349609\" xlink:href=\"#DejaVuSans-32\"/>\n      <use x=\"244.136719\" xlink:href=\"#DejaVuSans-99\"/>\n      <use x=\"299.117188\" xlink:href=\"#DejaVuSans-108\"/>\n      <use x=\"326.900391\" xlink:href=\"#DejaVuSans-97\"/>\n      <use x=\"388.179688\" xlink:href=\"#DejaVuSans-115\"/>\n      <use x=\"440.279297\" xlink:href=\"#DejaVuSans-115\"/>\n     </g>\n    </g>\n   </g>\n   <g id=\"QuadMesh_1\">\n    <path clip-path=\"url(#p08fa006a8f)\" d=\"M 398.489243 25.053563 \nL 477.265713 25.053563 \nL 477.265713 97.533563 \nL 398.489243 97.533563 \nL 398.489243 25.053563 \n\" style=\"fill:#006837;\"/>\n    <path clip-path=\"url(#p08fa006a8f)\" d=\"M 477.265713 25.053563 \nL 556.042184 25.053563 \nL 556.042184 97.533563 \nL 477.265713 97.533563 \nL 477.265713 25.053563 \n\" style=\"fill:#a50026;\"/>\n    <path clip-path=\"url(#p08fa006a8f)\" d=\"M 556.042184 25.053563 \nL 634.818654 25.053563 \nL 634.818654 97.533563 \nL 556.042184 97.533563 \nL 556.042184 25.053563 \n\" style=\"fill:#a70226;\"/>\n    <path clip-path=\"url(#p08fa006a8f)\" d=\"M 398.489243 97.533563 \nL 477.265713 97.533563 \nL 477.265713 170.013563 \nL 398.489243 170.013563 \nL 398.489243 97.533563 \n\" style=\"fill:#a50026;\"/>\n    <path clip-path=\"url(#p08fa006a8f)\" d=\"M 477.265713 97.533563 \nL 556.042184 97.533563 \nL 556.042184 170.013563 \nL 477.265713 170.013563 \nL 477.265713 97.533563 \n\" style=\"fill:#fdb567;\"/>\n    <path clip-path=\"url(#p08fa006a8f)\" d=\"M 556.042184 97.533563 \nL 634.818654 97.533563 \nL 634.818654 170.013563 \nL 556.042184 170.013563 \nL 556.042184 97.533563 \n\" style=\"fill:#a50026;\"/>\n    <path clip-path=\"url(#p08fa006a8f)\" d=\"M 398.489243 170.013563 \nL 477.265713 170.013563 \nL 477.265713 242.493563 \nL 398.489243 242.493563 \nL 398.489243 170.013563 \n\" style=\"fill:#a70226;\"/>\n    <path clip-path=\"url(#p08fa006a8f)\" d=\"M 477.265713 170.013563 \nL 556.042184 170.013563 \nL 556.042184 242.493563 \nL 477.265713 242.493563 \nL 477.265713 170.013563 \n\" style=\"fill:#a70226;\"/>\n    <path clip-path=\"url(#p08fa006a8f)\" d=\"M 556.042184 170.013563 \nL 634.818654 170.013563 \nL 634.818654 242.493563 \nL 556.042184 242.493563 \nL 556.042184 170.013563 \n\" style=\"fill:#08773f;\"/>\n   </g>\n   <g id=\"text_18\">\n    <!-- 146 -->\n    <g style=\"fill:#ffffff;\" transform=\"translate(422.989228 65.598188)scale(0.156 -0.156)\">\n     <defs>\n      <path d=\"M 37.796875 64.3125 \nL 12.890625 25.390625 \nL 37.796875 25.390625 \nz\nM 35.203125 72.90625 \nL 47.609375 72.90625 \nL 47.609375 25.390625 \nL 58.015625 25.390625 \nL 58.015625 17.1875 \nL 47.609375 17.1875 \nL 47.609375 0 \nL 37.796875 0 \nL 37.796875 17.1875 \nL 4.890625 17.1875 \nL 4.890625 26.703125 \nz\n\" id=\"DejaVuSans-52\"/>\n      <path d=\"M 33.015625 40.375 \nQ 26.375 40.375 22.484375 35.828125 \nQ 18.609375 31.296875 18.609375 23.390625 \nQ 18.609375 15.53125 22.484375 10.953125 \nQ 26.375 6.390625 33.015625 6.390625 \nQ 39.65625 6.390625 43.53125 10.953125 \nQ 47.40625 15.53125 47.40625 23.390625 \nQ 47.40625 31.296875 43.53125 35.828125 \nQ 39.65625 40.375 33.015625 40.375 \nz\nM 52.59375 71.296875 \nL 52.59375 62.3125 \nQ 48.875 64.0625 45.09375 64.984375 \nQ 41.3125 65.921875 37.59375 65.921875 \nQ 27.828125 65.921875 22.671875 59.328125 \nQ 17.53125 52.734375 16.796875 39.40625 \nQ 19.671875 43.65625 24.015625 45.921875 \nQ 28.375 48.1875 33.59375 48.1875 \nQ 44.578125 48.1875 50.953125 41.515625 \nQ 57.328125 34.859375 57.328125 23.390625 \nQ 57.328125 12.15625 50.6875 5.359375 \nQ 44.046875 -1.421875 33.015625 -1.421875 \nQ 20.359375 -1.421875 13.671875 8.265625 \nQ 6.984375 17.96875 6.984375 36.375 \nQ 6.984375 53.65625 15.1875 63.9375 \nQ 23.390625 74.21875 37.203125 74.21875 \nQ 40.921875 74.21875 44.703125 73.484375 \nQ 48.484375 72.75 52.59375 71.296875 \nz\n\" id=\"DejaVuSans-54\"/>\n     </defs>\n     <use xlink:href=\"#DejaVuSans-49\"/>\n     <use x=\"63.623047\" xlink:href=\"#DejaVuSans-52\"/>\n     <use x=\"127.246094\" xlink:href=\"#DejaVuSans-54\"/>\n    </g>\n   </g>\n   <g id=\"text_19\">\n    <!-- 0 -->\n    <g style=\"fill:#ffffff;\" transform=\"translate(511.691199 65.598188)scale(0.156 -0.156)\">\n     <use xlink:href=\"#DejaVuSans-48\"/>\n    </g>\n   </g>\n   <g id=\"text_20\">\n    <!-- 1 -->\n    <g style=\"fill:#ffffff;\" transform=\"translate(590.467669 65.598188)scale(0.156 -0.156)\">\n     <use xlink:href=\"#DejaVuSans-49\"/>\n    </g>\n   </g>\n   <g id=\"text_21\">\n    <!-- 0 -->\n    <g style=\"fill:#ffffff;\" transform=\"translate(432.914728 138.078188)scale(0.156 -0.156)\">\n     <use xlink:href=\"#DejaVuSans-48\"/>\n    </g>\n   </g>\n   <g id=\"text_22\">\n    <!-- 46 -->\n    <g style=\"fill:#262626;\" transform=\"translate(506.728449 138.078188)scale(0.156 -0.156)\">\n     <use xlink:href=\"#DejaVuSans-52\"/>\n     <use x=\"63.623047\" xlink:href=\"#DejaVuSans-54\"/>\n    </g>\n   </g>\n   <g id=\"text_23\">\n    <!-- 0 -->\n    <g style=\"fill:#ffffff;\" transform=\"translate(590.467669 138.078188)scale(0.156 -0.156)\">\n     <use xlink:href=\"#DejaVuSans-48\"/>\n    </g>\n   </g>\n   <g id=\"text_24\">\n    <!-- 1 -->\n    <g style=\"fill:#ffffff;\" transform=\"translate(432.914728 210.558188)scale(0.156 -0.156)\">\n     <use xlink:href=\"#DejaVuSans-49\"/>\n    </g>\n   </g>\n   <g id=\"text_25\">\n    <!-- 1 -->\n    <g style=\"fill:#ffffff;\" transform=\"translate(511.691199 210.558188)scale(0.156 -0.156)\">\n     <use xlink:href=\"#DejaVuSans-49\"/>\n    </g>\n   </g>\n   <g id=\"text_26\">\n    <!-- 141 -->\n    <g style=\"fill:#ffffff;\" transform=\"translate(580.542169 210.558188)scale(0.156 -0.156)\">\n     <use xlink:href=\"#DejaVuSans-49\"/>\n     <use x=\"63.623047\" xlink:href=\"#DejaVuSans-52\"/>\n     <use x=\"127.246094\" xlink:href=\"#DejaVuSans-49\"/>\n    </g>\n   </g>\n   <g id=\"text_27\">\n    <!-- Training CF -->\n    <g style=\"fill:#262626;\" transform=\"translate(473.46998 19.053563)scale(0.156 -0.156)\">\n     <defs>\n      <path d=\"M 45.40625 27.984375 \nQ 45.40625 37.75 41.375 43.109375 \nQ 37.359375 48.484375 30.078125 48.484375 \nQ 22.859375 48.484375 18.828125 43.109375 \nQ 14.796875 37.75 14.796875 27.984375 \nQ 14.796875 18.265625 18.828125 12.890625 \nQ 22.859375 7.515625 30.078125 7.515625 \nQ 37.359375 7.515625 41.375 12.890625 \nQ 45.40625 18.265625 45.40625 27.984375 \nz\nM 54.390625 6.78125 \nQ 54.390625 -7.171875 48.1875 -13.984375 \nQ 42 -20.796875 29.203125 -20.796875 \nQ 24.46875 -20.796875 20.265625 -20.09375 \nQ 16.0625 -19.390625 12.109375 -17.921875 \nL 12.109375 -9.1875 \nQ 16.0625 -11.328125 19.921875 -12.34375 \nQ 23.78125 -13.375 27.78125 -13.375 \nQ 36.625 -13.375 41.015625 -8.765625 \nQ 45.40625 -4.15625 45.40625 5.171875 \nL 45.40625 9.625 \nQ 42.625 4.78125 38.28125 2.390625 \nQ 33.9375 0 27.875 0 \nQ 17.828125 0 11.671875 7.65625 \nQ 5.515625 15.328125 5.515625 27.984375 \nQ 5.515625 40.671875 11.671875 48.328125 \nQ 17.828125 56 27.875 56 \nQ 33.9375 56 38.28125 53.609375 \nQ 42.625 51.21875 45.40625 46.390625 \nL 45.40625 54.6875 \nL 54.390625 54.6875 \nz\n\" id=\"DejaVuSans-103\"/>\n      <path d=\"M 9.8125 72.90625 \nL 51.703125 72.90625 \nL 51.703125 64.59375 \nL 19.671875 64.59375 \nL 19.671875 43.109375 \nL 48.578125 43.109375 \nL 48.578125 34.8125 \nL 19.671875 34.8125 \nL 19.671875 0 \nL 9.8125 0 \nz\n\" id=\"DejaVuSans-70\"/>\n     </defs>\n     <use xlink:href=\"#DejaVuSans-84\"/>\n     <use x=\"46.333984\" xlink:href=\"#DejaVuSans-114\"/>\n     <use x=\"87.447266\" xlink:href=\"#DejaVuSans-97\"/>\n     <use x=\"148.726562\" xlink:href=\"#DejaVuSans-105\"/>\n     <use x=\"176.509766\" xlink:href=\"#DejaVuSans-110\"/>\n     <use x=\"239.888672\" xlink:href=\"#DejaVuSans-105\"/>\n     <use x=\"267.671875\" xlink:href=\"#DejaVuSans-110\"/>\n     <use x=\"331.050781\" xlink:href=\"#DejaVuSans-103\"/>\n     <use x=\"394.527344\" xlink:href=\"#DejaVuSans-32\"/>\n     <use x=\"426.314453\" xlink:href=\"#DejaVuSans-67\"/>\n     <use x=\"496.138672\" xlink:href=\"#DejaVuSans-70\"/>\n    </g>\n   </g>\n  </g>\n  <g id=\"axes_3\">\n   <g id=\"patch_10\">\n    <path d=\"M 752.98336 242.493563 \nL 989.312772 242.493563 \nL 989.312772 25.053563 \nL 752.98336 25.053563 \nz\n\" style=\"fill:#ffffff;\"/>\n   </g>\n   <g id=\"matplotlib.axis_5\">\n    <g id=\"xtick_6\">\n     <g id=\"text_28\">\n      <!-- CV -->\n      <g style=\"fill:#262626;\" transform=\"translate(782.487838 262.859328)scale(0.143 -0.143)\">\n       <use xlink:href=\"#DejaVuSans-67\"/>\n       <use x=\"69.824219\" xlink:href=\"#DejaVuSans-86\"/>\n      </g>\n     </g>\n    </g>\n    <g id=\"xtick_7\">\n     <g id=\"text_29\">\n      <!-- LX -->\n      <g style=\"fill:#262626;\" transform=\"translate(862.266426 262.859328)scale(0.143 -0.143)\">\n       <use xlink:href=\"#DejaVuSans-76\"/>\n       <use x=\"55.712891\" xlink:href=\"#DejaVuSans-88\"/>\n      </g>\n     </g>\n    </g>\n    <g id=\"xtick_8\">\n     <g id=\"text_30\">\n      <!-- PL -->\n      <g style=\"fill:#262626;\" transform=\"translate(941.62942 262.859328)scale(0.143 -0.143)\">\n       <use xlink:href=\"#DejaVuSans-80\"/>\n       <use x=\"60.302734\" xlink:href=\"#DejaVuSans-76\"/>\n      </g>\n     </g>\n    </g>\n    <g id=\"text_31\">\n     <!-- Predicted class -->\n     <g style=\"fill:#262626;\" transform=\"translate(812.69316 281.686844)scale(0.156 -0.156)\">\n      <use xlink:href=\"#DejaVuSans-80\"/>\n      <use x=\"58.552734\" xlink:href=\"#DejaVuSans-114\"/>\n      <use x=\"97.416016\" xlink:href=\"#DejaVuSans-101\"/>\n      <use x=\"158.939453\" xlink:href=\"#DejaVuSans-100\"/>\n      <use x=\"222.416016\" xlink:href=\"#DejaVuSans-105\"/>\n      <use x=\"250.199219\" xlink:href=\"#DejaVuSans-99\"/>\n      <use x=\"305.179688\" xlink:href=\"#DejaVuSans-116\"/>\n      <use x=\"344.388672\" xlink:href=\"#DejaVuSans-101\"/>\n      <use x=\"405.912109\" xlink:href=\"#DejaVuSans-100\"/>\n      <use x=\"469.388672\" xlink:href=\"#DejaVuSans-32\"/>\n      <use x=\"501.175781\" xlink:href=\"#DejaVuSans-99\"/>\n      <use x=\"556.15625\" xlink:href=\"#DejaVuSans-108\"/>\n      <use x=\"583.939453\" xlink:href=\"#DejaVuSans-97\"/>\n      <use x=\"645.21875\" xlink:href=\"#DejaVuSans-115\"/>\n      <use x=\"697.318359\" xlink:href=\"#DejaVuSans-115\"/>\n     </g>\n    </g>\n   </g>\n   <g id=\"matplotlib.axis_6\">\n    <g id=\"ytick_11\">\n     <g id=\"text_32\">\n      <!-- CV -->\n      <g style=\"fill:#262626;\" transform=\"translate(740.509407 71.17732)rotate(-90)scale(0.143 -0.143)\">\n       <use xlink:href=\"#DejaVuSans-67\"/>\n       <use x=\"69.824219\" xlink:href=\"#DejaVuSans-86\"/>\n      </g>\n     </g>\n    </g>\n    <g id=\"ytick_12\">\n     <g id=\"text_33\">\n      <!-- LX -->\n      <g style=\"fill:#262626;\" transform=\"translate(740.509407 142.655203)rotate(-90)scale(0.143 -0.143)\">\n       <use xlink:href=\"#DejaVuSans-76\"/>\n       <use x=\"55.712891\" xlink:href=\"#DejaVuSans-88\"/>\n      </g>\n     </g>\n    </g>\n    <g id=\"ytick_13\">\n     <g id=\"text_34\">\n      <!-- PL -->\n      <g style=\"fill:#262626;\" transform=\"translate(740.509407 214.54868)rotate(-90)scale(0.143 -0.143)\">\n       <use xlink:href=\"#DejaVuSans-80\"/>\n       <use x=\"60.302734\" xlink:href=\"#DejaVuSans-76\"/>\n      </g>\n     </g>\n    </g>\n    <g id=\"text_35\">\n     <!-- True class -->\n     <g style=\"fill:#262626;\" transform=\"translate(722.399329 172.177594)rotate(-90)scale(0.156 -0.156)\">\n      <use xlink:href=\"#DejaVuSans-84\"/>\n      <use x=\"46.333984\" xlink:href=\"#DejaVuSans-114\"/>\n      <use x=\"87.447266\" xlink:href=\"#DejaVuSans-117\"/>\n      <use x=\"150.826172\" xlink:href=\"#DejaVuSans-101\"/>\n      <use x=\"212.349609\" xlink:href=\"#DejaVuSans-32\"/>\n      <use x=\"244.136719\" xlink:href=\"#DejaVuSans-99\"/>\n      <use x=\"299.117188\" xlink:href=\"#DejaVuSans-108\"/>\n      <use x=\"326.900391\" xlink:href=\"#DejaVuSans-97\"/>\n      <use x=\"388.179688\" xlink:href=\"#DejaVuSans-115\"/>\n      <use x=\"440.279297\" xlink:href=\"#DejaVuSans-115\"/>\n     </g>\n    </g>\n   </g>\n   <g id=\"QuadMesh_2\">\n    <path clip-path=\"url(#p5ebed51643)\" d=\"M 752.98336 25.053563 \nL 831.759831 25.053563 \nL 831.759831 97.533563 \nL 752.98336 97.533563 \nL 752.98336 25.053563 \n\" style=\"fill:#006837;\"/>\n    <path clip-path=\"url(#p5ebed51643)\" d=\"M 831.759831 25.053563 \nL 910.536301 25.053563 \nL 910.536301 97.533563 \nL 831.759831 97.533563 \nL 831.759831 25.053563 \n\" style=\"fill:#a50026;\"/>\n    <path clip-path=\"url(#p5ebed51643)\" d=\"M 910.536301 25.053563 \nL 989.312772 25.053563 \nL 989.312772 97.533563 \nL 910.536301 97.533563 \nL 910.536301 25.053563 \n\" style=\"fill:#e75337;\"/>\n    <path clip-path=\"url(#p5ebed51643)\" d=\"M 752.98336 97.533563 \nL 831.759831 97.533563 \nL 831.759831 170.013563 \nL 752.98336 170.013563 \nL 752.98336 97.533563 \n\" style=\"fill:#f67a49;\"/>\n    <path clip-path=\"url(#p5ebed51643)\" d=\"M 831.759831 97.533563 \nL 910.536301 97.533563 \nL 910.536301 170.013563 \nL 831.759831 170.013563 \nL 831.759831 97.533563 \n\" style=\"fill:#d42d27;\"/>\n    <path clip-path=\"url(#p5ebed51643)\" d=\"M 910.536301 97.533563 \nL 989.312772 97.533563 \nL 989.312772 170.013563 \nL 910.536301 170.013563 \nL 910.536301 97.533563 \n\" style=\"fill:#c41e27;\"/>\n    <path clip-path=\"url(#p5ebed51643)\" d=\"M 752.98336 170.013563 \nL 831.759831 170.013563 \nL 831.759831 242.493563 \nL 752.98336 242.493563 \nL 752.98336 170.013563 \n\" style=\"fill:#f67a49;\"/>\n    <path clip-path=\"url(#p5ebed51643)\" d=\"M 831.759831 170.013563 \nL 910.536301 170.013563 \nL 910.536301 242.493563 \nL 831.759831 242.493563 \nL 831.759831 170.013563 \n\" style=\"fill:#b50f26;\"/>\n    <path clip-path=\"url(#p5ebed51643)\" d=\"M 910.536301 170.013563 \nL 989.312772 170.013563 \nL 989.312772 242.493563 \nL 910.536301 242.493563 \nL 910.536301 170.013563 \n\" style=\"fill:#42ac5a;\"/>\n   </g>\n   <g id=\"text_36\">\n    <!-- 32 -->\n    <g style=\"fill:#ffffff;\" transform=\"translate(782.446096 65.598188)scale(0.156 -0.156)\">\n     <defs>\n      <path d=\"M 40.578125 39.3125 \nQ 47.65625 37.796875 51.625 33 \nQ 55.609375 28.21875 55.609375 21.1875 \nQ 55.609375 10.40625 48.1875 4.484375 \nQ 40.765625 -1.421875 27.09375 -1.421875 \nQ 22.515625 -1.421875 17.65625 -0.515625 \nQ 12.796875 0.390625 7.625 2.203125 \nL 7.625 11.71875 \nQ 11.71875 9.328125 16.59375 8.109375 \nQ 21.484375 6.890625 26.8125 6.890625 \nQ 36.078125 6.890625 40.9375 10.546875 \nQ 45.796875 14.203125 45.796875 21.1875 \nQ 45.796875 27.640625 41.28125 31.265625 \nQ 36.765625 34.90625 28.71875 34.90625 \nL 20.21875 34.90625 \nL 20.21875 43.015625 \nL 29.109375 43.015625 \nQ 36.375 43.015625 40.234375 45.921875 \nQ 44.09375 48.828125 44.09375 54.296875 \nQ 44.09375 59.90625 40.109375 62.90625 \nQ 36.140625 65.921875 28.71875 65.921875 \nQ 24.65625 65.921875 20.015625 65.03125 \nQ 15.375 64.15625 9.8125 62.3125 \nL 9.8125 71.09375 \nQ 15.4375 72.65625 20.34375 73.4375 \nQ 25.25 74.21875 29.59375 74.21875 \nQ 40.828125 74.21875 47.359375 69.109375 \nQ 53.90625 64.015625 53.90625 55.328125 \nQ 53.90625 49.265625 50.4375 45.09375 \nQ 46.96875 40.921875 40.578125 39.3125 \nz\n\" id=\"DejaVuSans-51\"/>\n      <path d=\"M 19.1875 8.296875 \nL 53.609375 8.296875 \nL 53.609375 0 \nL 7.328125 0 \nL 7.328125 8.296875 \nQ 12.9375 14.109375 22.625 23.890625 \nQ 32.328125 33.6875 34.8125 36.53125 \nQ 39.546875 41.84375 41.421875 45.53125 \nQ 43.3125 49.21875 43.3125 52.78125 \nQ 43.3125 58.59375 39.234375 62.25 \nQ 35.15625 65.921875 28.609375 65.921875 \nQ 23.96875 65.921875 18.8125 64.3125 \nQ 13.671875 62.703125 7.8125 59.421875 \nL 7.8125 69.390625 \nQ 13.765625 71.78125 18.9375 73 \nQ 24.125 74.21875 28.421875 74.21875 \nQ 39.75 74.21875 46.484375 68.546875 \nQ 53.21875 62.890625 53.21875 53.421875 \nQ 53.21875 48.921875 51.53125 44.890625 \nQ 49.859375 40.875 45.40625 35.40625 \nQ 44.1875 33.984375 37.640625 27.21875 \nQ 31.109375 20.453125 19.1875 8.296875 \nz\n\" id=\"DejaVuSans-50\"/>\n     </defs>\n     <use xlink:href=\"#DejaVuSans-51\"/>\n     <use x=\"63.623047\" xlink:href=\"#DejaVuSans-50\"/>\n    </g>\n   </g>\n   <g id=\"text_37\">\n    <!-- 0 -->\n    <g style=\"fill:#ffffff;\" transform=\"translate(866.185316 65.598188)scale(0.156 -0.156)\">\n     <use xlink:href=\"#DejaVuSans-48\"/>\n    </g>\n   </g>\n   <g id=\"text_38\">\n    <!-- 5 -->\n    <g style=\"fill:#ffffff;\" transform=\"translate(944.961787 65.598188)scale(0.156 -0.156)\">\n     <use xlink:href=\"#DejaVuSans-53\"/>\n    </g>\n   </g>\n   <g id=\"text_39\">\n    <!-- 7 -->\n    <g style=\"fill:#ffffff;\" transform=\"translate(787.408846 138.078188)scale(0.156 -0.156)\">\n     <use xlink:href=\"#DejaVuSans-55\"/>\n    </g>\n   </g>\n   <g id=\"text_40\">\n    <!-- 3 -->\n    <g style=\"fill:#ffffff;\" transform=\"translate(866.185316 138.078188)scale(0.156 -0.156)\">\n     <use xlink:href=\"#DejaVuSans-51\"/>\n    </g>\n   </g>\n   <g id=\"text_41\">\n    <!-- 2 -->\n    <g style=\"fill:#ffffff;\" transform=\"translate(944.961787 138.078188)scale(0.156 -0.156)\">\n     <use xlink:href=\"#DejaVuSans-50\"/>\n    </g>\n   </g>\n   <g id=\"text_42\">\n    <!-- 7 -->\n    <g style=\"fill:#ffffff;\" transform=\"translate(787.408846 210.558188)scale(0.156 -0.156)\">\n     <use xlink:href=\"#DejaVuSans-55\"/>\n    </g>\n   </g>\n   <g id=\"text_43\">\n    <!-- 1 -->\n    <g style=\"fill:#ffffff;\" transform=\"translate(866.185316 210.558188)scale(0.156 -0.156)\">\n     <use xlink:href=\"#DejaVuSans-49\"/>\n    </g>\n   </g>\n   <g id=\"text_44\">\n    <!-- 27 -->\n    <g style=\"fill:#ffffff;\" transform=\"translate(939.999037 210.558188)scale(0.156 -0.156)\">\n     <use xlink:href=\"#DejaVuSans-50\"/>\n     <use x=\"63.623047\" xlink:href=\"#DejaVuSans-55\"/>\n    </g>\n   </g>\n   <g id=\"text_45\">\n    <!-- Validation CF -->\n    <g style=\"fill:#262626;\" transform=\"translate(820.218941 19.053563)scale(0.156 -0.156)\">\n     <use xlink:href=\"#DejaVuSans-86\"/>\n     <use x=\"60.658203\" xlink:href=\"#DejaVuSans-97\"/>\n     <use x=\"121.9375\" xlink:href=\"#DejaVuSans-108\"/>\n     <use x=\"149.720703\" xlink:href=\"#DejaVuSans-105\"/>\n     <use x=\"177.503906\" xlink:href=\"#DejaVuSans-100\"/>\n     <use x=\"240.980469\" xlink:href=\"#DejaVuSans-97\"/>\n     <use x=\"302.259766\" xlink:href=\"#DejaVuSans-116\"/>\n     <use x=\"341.46875\" xlink:href=\"#DejaVuSans-105\"/>\n     <use x=\"369.251953\" xlink:href=\"#DejaVuSans-111\"/>\n     <use x=\"430.433594\" xlink:href=\"#DejaVuSans-110\"/>\n     <use x=\"493.8125\" xlink:href=\"#DejaVuSans-32\"/>\n     <use x=\"525.599609\" xlink:href=\"#DejaVuSans-67\"/>\n     <use x=\"595.423828\" xlink:href=\"#DejaVuSans-70\"/>\n    </g>\n   </g>\n  </g>\n  <g id=\"axes_4\">\n   <g id=\"patch_11\">\n    <path clip-path=\"url(#p3429e26ead)\" d=\"M 649.589243 242.493563 \nL 649.589243 241.644188 \nL 649.589243 25.902938 \nL 649.589243 25.053563 \nL 660.461243 25.053563 \nL 660.461243 25.902938 \nL 660.461243 241.644188 \nL 660.461243 242.493563 \nz\n\" style=\"fill:#ffffff;stroke:#ffffff;stroke-linejoin:miter;stroke-width:0.01;\"/>\n   </g>\n   <g id=\"matplotlib.axis_7\"/>\n   <g id=\"matplotlib.axis_8\">\n    <g id=\"ytick_14\">\n     <g id=\"line2d_20\">\n      <defs>\n       <path d=\"M 0 0 \nL 6 0 \n\" id=\"mf28409f43e\" style=\"stroke:#262626;stroke-width:1.25;\"/>\n      </defs>\n      <g>\n       <use style=\"fill:#262626;stroke:#262626;stroke-width:1.25;\" x=\"660.461243\" xlink:href=\"#mf28409f43e\" y=\"242.493563\"/>\n      </g>\n     </g>\n     <g id=\"text_46\">\n      <!-- 0 -->\n      <g style=\"fill:#262626;\" transform=\"translate(669.961243 247.926445)scale(0.143 -0.143)\">\n       <use xlink:href=\"#DejaVuSans-48\"/>\n      </g>\n     </g>\n    </g>\n    <g id=\"ytick_15\">\n     <g id=\"line2d_21\">\n      <g>\n       <use style=\"fill:#262626;stroke:#262626;stroke-width:1.25;\" x=\"660.461243\" xlink:href=\"#mf28409f43e\" y=\"205.260686\"/>\n      </g>\n     </g>\n     <g id=\"text_47\">\n      <!-- 25 -->\n      <g style=\"fill:#262626;\" transform=\"translate(669.961243 210.693569)scale(0.143 -0.143)\">\n       <use xlink:href=\"#DejaVuSans-50\"/>\n       <use x=\"63.623047\" xlink:href=\"#DejaVuSans-53\"/>\n      </g>\n     </g>\n    </g>\n    <g id=\"ytick_16\">\n     <g id=\"line2d_22\">\n      <g>\n       <use style=\"fill:#262626;stroke:#262626;stroke-width:1.25;\" x=\"660.461243\" xlink:href=\"#mf28409f43e\" y=\"168.027809\"/>\n      </g>\n     </g>\n     <g id=\"text_48\">\n      <!-- 50 -->\n      <g style=\"fill:#262626;\" transform=\"translate(669.961243 173.460692)scale(0.143 -0.143)\">\n       <use xlink:href=\"#DejaVuSans-53\"/>\n       <use x=\"63.623047\" xlink:href=\"#DejaVuSans-48\"/>\n      </g>\n     </g>\n    </g>\n    <g id=\"ytick_17\">\n     <g id=\"line2d_23\">\n      <g>\n       <use style=\"fill:#262626;stroke:#262626;stroke-width:1.25;\" x=\"660.461243\" xlink:href=\"#mf28409f43e\" y=\"130.794932\"/>\n      </g>\n     </g>\n     <g id=\"text_49\">\n      <!-- 75 -->\n      <g style=\"fill:#262626;\" transform=\"translate(669.961243 136.227815)scale(0.143 -0.143)\">\n       <use xlink:href=\"#DejaVuSans-55\"/>\n       <use x=\"63.623047\" xlink:href=\"#DejaVuSans-53\"/>\n      </g>\n     </g>\n    </g>\n    <g id=\"ytick_18\">\n     <g id=\"line2d_24\">\n      <g>\n       <use style=\"fill:#262626;stroke:#262626;stroke-width:1.25;\" x=\"660.461243\" xlink:href=\"#mf28409f43e\" y=\"93.562056\"/>\n      </g>\n     </g>\n     <g id=\"text_50\">\n      <!-- 100 -->\n      <g style=\"fill:#262626;\" transform=\"translate(669.961243 98.994938)scale(0.143 -0.143)\">\n       <use xlink:href=\"#DejaVuSans-49\"/>\n       <use x=\"63.623047\" xlink:href=\"#DejaVuSans-48\"/>\n       <use x=\"127.246094\" xlink:href=\"#DejaVuSans-48\"/>\n      </g>\n     </g>\n    </g>\n    <g id=\"ytick_19\">\n     <g id=\"line2d_25\">\n      <g>\n       <use style=\"fill:#262626;stroke:#262626;stroke-width:1.25;\" x=\"660.461243\" xlink:href=\"#mf28409f43e\" y=\"56.329179\"/>\n      </g>\n     </g>\n     <g id=\"text_51\">\n      <!-- 125 -->\n      <g style=\"fill:#262626;\" transform=\"translate(669.961243 61.762062)scale(0.143 -0.143)\">\n       <use xlink:href=\"#DejaVuSans-49\"/>\n       <use x=\"63.623047\" xlink:href=\"#DejaVuSans-50\"/>\n       <use x=\"127.246094\" xlink:href=\"#DejaVuSans-53\"/>\n      </g>\n     </g>\n    </g>\n   </g>\n   <image height=\"217\" id=\"image031cf9f759\" transform=\"scale(1 -1)translate(0 -217)\" width=\"10\" x=\"650\" xlink:href=\"data:image/png;base64,\niVBORw0KGgoAAAANSUhEUgAAAAoAAADZCAYAAAAZmKE8AAABVElEQVR4nO2YbQ7CMAxD0w+uwtW547am3AC9SI7CEPy2nL7Ymzraqz+3gd/sncgiwjnUjoXCOdWOrTWx4x2oE4RsjTnUMMI2qBA7UmF/MGx+Rk6dsB4Iw6nlZyxcT4BavZ4ubziGMfloG3S0PEKTFxfDBBwptTxCw8XljnpqdvFJKa6amu8RXvd4hAGhuj2/BcOfGT21Huaf9Uchu7sGHFudUE9dd8bWaM346F/KetRFSIWbfmnu7Uy49sWETh23QSF3pEKno5dD6gQYW2JHHCHfY2HW8ghxKQLrQX9oBqivutEBx0LqQhg5tavfZoXUl+O3mXr0YroMx9MxDHQMwGBHekbWMpsnFfLRCeuBowMwdDQtRUbWUIiLiyNc8lIs+RkPuJ+E0fr1HNCSlyKDWv0oBKi/v7gn7eOmjglCSo0d/aL38EJqudBpcW8BgyOUt6dO+AblLy8P9sLo3AAAAABJRU5ErkJggg==\" y=\"-25\"/>\n   <g id=\"patch_12\">\n    <path d=\"M 649.589243 242.493563 \nL 649.589243 241.644188 \nL 649.589243 25.902938 \nL 649.589243 25.053563 \nL 660.461243 25.053563 \nL 660.461243 25.902938 \nL 660.461243 241.644188 \nL 660.461243 242.493563 \nz\n\" style=\"fill:none;\"/>\n   </g>\n  </g>\n  <g id=\"axes_5\">\n   <g id=\"patch_13\">\n    <path clip-path=\"url(#p7f5d98ebd2)\" d=\"M 1004.08336 242.493563 \nL 1004.08336 241.644188 \nL 1004.08336 25.902938 \nL 1004.08336 25.053563 \nL 1014.95536 25.053563 \nL 1014.95536 25.902938 \nL 1014.95536 241.644188 \nL 1014.95536 242.493563 \nz\n\" style=\"fill:#ffffff;stroke:#ffffff;stroke-linejoin:miter;stroke-width:0.01;\"/>\n   </g>\n   <g id=\"matplotlib.axis_9\"/>\n   <g id=\"matplotlib.axis_10\">\n    <g id=\"ytick_20\">\n     <g id=\"line2d_26\">\n      <g>\n       <use style=\"fill:#262626;stroke:#262626;stroke-width:1.25;\" x=\"1014.95536\" xlink:href=\"#mf28409f43e\" y=\"242.493563\"/>\n      </g>\n     </g>\n     <g id=\"text_52\">\n      <!-- 0 -->\n      <g style=\"fill:#262626;\" transform=\"translate(1024.45536 247.926445)scale(0.143 -0.143)\">\n       <use xlink:href=\"#DejaVuSans-48\"/>\n      </g>\n     </g>\n    </g>\n    <g id=\"ytick_21\">\n     <g id=\"line2d_27\">\n      <g>\n       <use style=\"fill:#262626;stroke:#262626;stroke-width:1.25;\" x=\"1014.95536\" xlink:href=\"#mf28409f43e\" y=\"208.518563\"/>\n      </g>\n     </g>\n     <g id=\"text_53\">\n      <!-- 5 -->\n      <g style=\"fill:#262626;\" transform=\"translate(1024.45536 213.951445)scale(0.143 -0.143)\">\n       <use xlink:href=\"#DejaVuSans-53\"/>\n      </g>\n     </g>\n    </g>\n    <g id=\"ytick_22\">\n     <g id=\"line2d_28\">\n      <g>\n       <use style=\"fill:#262626;stroke:#262626;stroke-width:1.25;\" x=\"1014.95536\" xlink:href=\"#mf28409f43e\" y=\"174.543563\"/>\n      </g>\n     </g>\n     <g id=\"text_54\">\n      <!-- 10 -->\n      <g style=\"fill:#262626;\" transform=\"translate(1024.45536 179.976445)scale(0.143 -0.143)\">\n       <use xlink:href=\"#DejaVuSans-49\"/>\n       <use x=\"63.623047\" xlink:href=\"#DejaVuSans-48\"/>\n      </g>\n     </g>\n    </g>\n    <g id=\"ytick_23\">\n     <g id=\"line2d_29\">\n      <g>\n       <use style=\"fill:#262626;stroke:#262626;stroke-width:1.25;\" x=\"1014.95536\" xlink:href=\"#mf28409f43e\" y=\"140.568563\"/>\n      </g>\n     </g>\n     <g id=\"text_55\">\n      <!-- 15 -->\n      <g style=\"fill:#262626;\" transform=\"translate(1024.45536 146.001445)scale(0.143 -0.143)\">\n       <use xlink:href=\"#DejaVuSans-49\"/>\n       <use x=\"63.623047\" xlink:href=\"#DejaVuSans-53\"/>\n      </g>\n     </g>\n    </g>\n    <g id=\"ytick_24\">\n     <g id=\"line2d_30\">\n      <g>\n       <use style=\"fill:#262626;stroke:#262626;stroke-width:1.25;\" x=\"1014.95536\" xlink:href=\"#mf28409f43e\" y=\"106.593563\"/>\n      </g>\n     </g>\n     <g id=\"text_56\">\n      <!-- 20 -->\n      <g style=\"fill:#262626;\" transform=\"translate(1024.45536 112.026445)scale(0.143 -0.143)\">\n       <use xlink:href=\"#DejaVuSans-50\"/>\n       <use x=\"63.623047\" xlink:href=\"#DejaVuSans-48\"/>\n      </g>\n     </g>\n    </g>\n    <g id=\"ytick_25\">\n     <g id=\"line2d_31\">\n      <g>\n       <use style=\"fill:#262626;stroke:#262626;stroke-width:1.25;\" x=\"1014.95536\" xlink:href=\"#mf28409f43e\" y=\"72.618563\"/>\n      </g>\n     </g>\n     <g id=\"text_57\">\n      <!-- 25 -->\n      <g style=\"fill:#262626;\" transform=\"translate(1024.45536 78.051445)scale(0.143 -0.143)\">\n       <use xlink:href=\"#DejaVuSans-50\"/>\n       <use x=\"63.623047\" xlink:href=\"#DejaVuSans-53\"/>\n      </g>\n     </g>\n    </g>\n    <g id=\"ytick_26\">\n     <g id=\"line2d_32\">\n      <g>\n       <use style=\"fill:#262626;stroke:#262626;stroke-width:1.25;\" x=\"1014.95536\" xlink:href=\"#mf28409f43e\" y=\"38.643563\"/>\n      </g>\n     </g>\n     <g id=\"text_58\">\n      <!-- 30 -->\n      <g style=\"fill:#262626;\" transform=\"translate(1024.45536 44.076445)scale(0.143 -0.143)\">\n       <use xlink:href=\"#DejaVuSans-51\"/>\n       <use x=\"63.623047\" xlink:href=\"#DejaVuSans-48\"/>\n      </g>\n     </g>\n    </g>\n   </g>\n   <image height=\"217\" id=\"imagec41f41b508\" transform=\"scale(1 -1)translate(0 -217)\" width=\"11\" x=\"1004\" xlink:href=\"data:image/png;base64,\niVBORw0KGgoAAAANSUhEUgAAAAsAAADZCAYAAAD2WsoCAAABVUlEQVR4nO2YwQ3DMAwDbcddpat3xySWu4KuwAFq0bwJgjrRgZP+Gs/dks8cIyul4nlYzkXEc1rOvXfJ+RtpiOI8ZpcGWHc/iBg5E/F45HGwzIyGiA4MyGhomYuggzQsdEM7KWjApsVoB4mhrbtp5UcDQmdCQ1t3Q+Vnzh6N/MVOLb9Fg3EG11y2bii2Wvf7A7Iz6NHwBvx342Pn/D0eOvcaYo9Gjcy9k4qyGL/ejaPGuol4ky/6vSMvXvvOi4M47wbEzJmIg8RYAWiIA7YlOaN1M85FuqGtGxUJokv/2IY07hoxoHMRGkUG1GiE9RYtQuMO9Ba1Yqy81nS+Ag0InOGAyJlkzje0zYuIWQwRHYgBByQxSJHMbgAxKj9a99KKtLTMJ2AnxvDQncCaFcmkYR0rSKPEBhGNi/R5E2dRTGgg57jJd0oRGpo4SPmLZBbXrbWuhvgNQNAvDzjwGYUAAAAASUVORK5CYII=\" y=\"-25\"/>\n   <g id=\"patch_14\">\n    <path d=\"M 1004.08336 242.493563 \nL 1004.08336 241.644188 \nL 1004.08336 25.902938 \nL 1004.08336 25.053563 \nL 1014.95536 25.053563 \nL 1014.95536 25.902938 \nL 1014.95536 241.644188 \nL 1014.95536 242.493563 \nz\n\" style=\"fill:none;\"/>\n   </g>\n  </g>\n </g>\n <defs>\n  <clipPath id=\"pfc60e93a80\">\n   <rect height=\"217.44\" width=\"295.411765\" x=\"43.995125\" y=\"25.053563\"/>\n  </clipPath>\n  <clipPath id=\"p08fa006a8f\">\n   <rect height=\"217.44\" width=\"236.329412\" x=\"398.489243\" y=\"25.053563\"/>\n  </clipPath>\n  <clipPath id=\"p5ebed51643\">\n   <rect height=\"217.44\" width=\"236.329412\" x=\"752.98336\" y=\"25.053563\"/>\n  </clipPath>\n  <clipPath id=\"p3429e26ead\">\n   <rect height=\"217.44\" width=\"10.872\" x=\"649.589243\" y=\"25.053563\"/>\n  </clipPath>\n  <clipPath id=\"p7f5d98ebd2\">\n   <rect height=\"217.44\" width=\"10.872\" x=\"1004.08336\" y=\"25.053563\"/>\n  </clipPath>\n </defs>\n</svg>\n",
      "image/png": "[encoded data removed]"
     },
     "metadata": {}
    }
   ],
   "metadata": {}
  }
 ],
 "metadata": {
  "orig_nbformat": 4,
  "language_info": {
   "name": "python",
   "version": "3.6.9",
   "mimetype": "text/x-python",
   "codemirror_mode": {
    "name": "ipython",
    "version": 3
   },
   "pygments_lexer": "ipython3",
   "nbconvert_exporter": "python",
   "file_extension": ".py"
  },
  "kernelspec": {
   "name": "python3",
   "display_name": "Python 3.6.9 64-bit"
  },
  "interpreter": {
   "hash": "31f2aee4e71d21fbe5cf8b01ff0e069b9275f58929596ceb00d14d90e3e16cd6"
  }
 },
 "nbformat": 4,
 "nbformat_minor": 2
}