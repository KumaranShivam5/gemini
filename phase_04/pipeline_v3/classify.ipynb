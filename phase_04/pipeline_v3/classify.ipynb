{
 "cells": [
  {
   "cell_type": "markdown",
   "source": [
    "# Load Modules"
   ],
   "metadata": {}
  },
  {
   "cell_type": "code",
   "execution_count": 291,
   "source": [
    "import numpy as np \n",
    "from matplotlib import pyplot as plt \n",
    "import seaborn as sns \n",
    "from tqdm import tqdm \n",
    "from sklearn.model_selection import train_test_split \n",
    "from sklearn.ensemble import RandomForestClassifier \n",
    "import xgboost as xgb \n",
    "import pandas as pd \n",
    "import sklearn.neighbors._base\n",
    "from os import sys\n",
    "sys.modules['sklearn.neighbors.base'] = sklearn.neighbors._base\n",
    "from missingpy import MissForest \n",
    "from sklearn.metrics import confusion_matrix , ConfusionMatrixDisplay\n",
    "sns.set_style('whitegrid')\n",
    "from imblearn.over_sampling import SMOTE"
   ],
   "outputs": [],
   "metadata": {}
  },
  {
   "cell_type": "markdown",
   "source": [
    "# Load Data"
   ],
   "metadata": {}
  },
  {
   "cell_type": "code",
   "execution_count": 29,
   "source": [
    "# Features to be used\n",
    "phot_flux = [\n",
    "    \"photflux_aper_s\",\n",
    "    \"photflux_aper_b\",\n",
    "    \"photflux_aper_u\",\n",
    "    \"photflux_aper_h\",\n",
    "    \"photflux_aper_m\",\n",
    "]\n",
    "en_flux = [\n",
    "    \"flux_aper_s\",\n",
    "    \"flux_aper_h\",\n",
    "    \"flux_aper_b\",\n",
    "    \"flux_aper_u\",\n",
    "    \"flux_aper_m\",\n",
    "]\n",
    "hard = [\n",
    "    \"hard_hm\",\n",
    "    \"hard_hs\",\n",
    "    \"hard_ms\",\n",
    "]\n",
    "powlaw_fit = [\n",
    "    \"flux_powlaw\",\n",
    "    \"powlaw_gamma\",\n",
    "    \"powlaw_nh\",\n",
    "    \"powlaw_ampl\",\n",
    "    \"powlaw_stat\",\n",
    "]\n",
    "\n",
    "bb_fit = [\n",
    "    \"flux_bb\",\n",
    "    \"bb_kt\",\n",
    "    \"bb_nh\",\n",
    "    \"bb_ampl\",\n",
    "    \"bb_stat\",\n",
    "]\n",
    "brems_fit = [\n",
    "    \"flux_brems\",\n",
    "    \"brems_kt\",\n",
    "    \"brems_nh\",\n",
    "    \"brems_norm\",\n",
    "    \"brems_stat\",\n",
    "]\n",
    "\n",
    "intra_obs_var = [\n",
    "    \"var_prob_b\",\n",
    "    \"ks_prob_b\",\n",
    "    \"kp_prob_b\",\n",
    "    \"var_sigma_b\",\n",
    "    \"var_mean_b\",\n",
    "    \"var_min_b\",\n",
    "    \"var_max_b\",\n",
    "    \"var_index_h\",\n",
    "    \"var_prob_h\",\n",
    "    \"ks_prob_h\",\n",
    "    \"kp_prob_h\",\n",
    "    \"var_sigma_h\",\n",
    "    \"var_mean_h\",\n",
    "    \"var_min_h\",\n",
    "    \"var_max_h\",\n",
    "    \"var_index_m\",\n",
    "    \"var_prob_m\",\n",
    "    \"ks_prob_m\",\n",
    "    \"kp_prob_m\",\n",
    "    \"var_sigma_m\",\n",
    "    \"var_mean_m\",\n",
    "    \"var_min_m\",\n",
    "    \"var_max_m\",\n",
    "    \"var_index_s\",\n",
    "    \"var_prob_s\",\n",
    "    \"ks_prob_s\",\n",
    "    \"kp_prob_s\",\n",
    "    \"var_sigma_s\",\n",
    "    \"var_mean_s\",\n",
    "    \"var_min_s\",\n",
    "    \"var_max_s\",\n",
    "    \"var_index_u\",\n",
    "    \"var_prob_u\",\n",
    "    \"ks_prob_u\",\n",
    "    \"kp_prob_u\",\n",
    "    \"var_sigma_u\",\n",
    "    \"var_mean_u\",\n",
    "    \"var_min_u\",\n",
    "    \"var_max_u\",\n",
    "]\n",
    "\n",
    "inter_ob_var = [\n",
    "    \"var_inter_index_b\",\n",
    "    \"var_inter_prob_b\",\n",
    "    \"var_inter_sigma_b\",\n",
    "    \"var_inter_index_h\",\n",
    "    \"var_inter_prob_h\",\n",
    "    \"var_inter_sigma_h\",\n",
    "    \"var_inter_index_m\",\n",
    "    \"var_inter_prob_m\",\n",
    "    \"var_inter_sigma_m\",\n",
    "    \"var_inter_index_s\",\n",
    "    \"var_inter_prob_s\",\n",
    "    \"var_inter_sigma_s\",\n",
    "    \"var_inter_index_u\",\n",
    "    \"var_inter_prob_u\",\n",
    "    \"var_inter_sigma_u\",\n",
    "]\n",
    "\n",
    "info_col = [\n",
    "'src_id',\n",
    " 'num_obs',\n",
    " 'sepn',\n",
    " 'name',\n",
    " 'ra',\n",
    " 'dec',\n",
    " 'livetime',\n",
    " 'significance',\n",
    " 'likelihood',\n",
    "]\n"
   ],
   "outputs": [],
   "metadata": {}
  },
  {
   "cell_type": "code",
   "execution_count": 30,
   "source": [
    "feat_to_use = info_col + phot_flux + en_flux + powlaw_fit +bb_fit +hard+ intra_obs_var +inter_ob_var \n",
    "data_cv = pd.read_csv('cv_data.csv' , index_col='obs_id')[feat_to_use]\n",
    "data_cv.insert(0 , 'class' , ['CV']*len(data_cv))\n",
    "data_pl  =  pd.read_csv('pulsar_data.csv' , index_col = 'obs_id')[feat_to_use]\n",
    "data_pl.insert(0 , 'class' , ['PL']*len(data_pl))\n",
    "\n",
    "data_lx  =  pd.read_csv('lmxb_data.csv' , index_col = 'obs_id')[feat_to_use]\n",
    "data_lx.insert(0 , 'class' , ['LX']*len(data_lx))"
   ],
   "outputs": [],
   "metadata": {}
  },
  {
   "cell_type": "code",
   "execution_count": 31,
   "source": [
    "sns.histplot(data_cv['num_obs'])\n",
    "sns.histplot(data_pl['num_obs'])\n",
    "sns.histplot(data_lx['num_obs'])\n",
    "plt.show()"
   ],
   "outputs": [
    {
     "output_type": "display_data",
     "data": {
      "text/plain": [
       "<Figure size 432x288 with 1 Axes>"
      ],
      "image/svg+xml": "<?xml version=\"1.0\" encoding=\"utf-8\" standalone=\"no\"?>\n<!DOCTYPE svg PUBLIC \"-//W3C//DTD SVG 1.1//EN\"\n  \"http://www.w3.org/Graphics/SVG/1.1/DTD/svg11.dtd\">\n<!-- Created with matplotlib (https://matplotlib.org/) -->\n<svg height=\"262.474375pt\" version=\"1.1\" viewBox=\"0 0 388.965625 262.474375\" width=\"388.965625pt\" xmlns=\"http://www.w3.org/2000/svg\" xmlns:xlink=\"http://www.w3.org/1999/xlink\">\n <metadata>\n  <rdf:RDF xmlns:cc=\"http://creativecommons.org/ns#\" xmlns:dc=\"http://purl.org/dc/elements/1.1/\" xmlns:rdf=\"http://www.w3.org/1999/02/22-rdf-syntax-ns#\">\n   <cc:Work>\n    <dc:type rdf:resource=\"http://purl.org/dc/dcmitype/StillImage\"/>\n    <dc:date>2021-12-07T12:24:22.067227</dc:date>\n    <dc:format>image/svg+xml</dc:format>\n    <dc:creator>\n     <cc:Agent>\n      <dc:title>Matplotlib v3.3.4, https://matplotlib.org/</dc:title>\n     </cc:Agent>\n    </dc:creator>\n   </cc:Work>\n  </rdf:RDF>\n </metadata>\n <defs>\n  <style type=\"text/css\">*{stroke-linecap:butt;stroke-linejoin:round;}</style>\n </defs>\n <g id=\"figure_1\">\n  <g id=\"patch_1\">\n   <path d=\"M 0 262.474375 \nL 388.965625 262.474375 \nL 388.965625 0 \nL 0 0 \nz\n\" style=\"fill:#ffffff;\"/>\n  </g>\n  <g id=\"axes_1\">\n   <g id=\"patch_2\">\n    <path d=\"M 46.965625 224.64 \nL 381.765625 224.64 \nL 381.765625 7.2 \nL 46.965625 7.2 \nz\n\" style=\"fill:#ffffff;\"/>\n   </g>\n   <g id=\"matplotlib.axis_1\">\n    <g id=\"xtick_1\">\n     <g id=\"line2d_1\">\n      <path clip-path=\"url(#p41ac3fda83)\" d=\"M 59.19985 224.64 \nL 59.19985 7.2 \n\" style=\"fill:none;stroke:#cccccc;stroke-linecap:round;stroke-width:0.8;\"/>\n     </g>\n     <g id=\"text_1\">\n      <!-- 0 -->\n      <g style=\"fill:#262626;\" transform=\"translate(56.0186 239.238438)scale(0.1 -0.1)\">\n       <defs>\n        <path d=\"M 31.78125 66.40625 \nQ 24.171875 66.40625 20.328125 58.90625 \nQ 16.5 51.421875 16.5 36.375 \nQ 16.5 21.390625 20.328125 13.890625 \nQ 24.171875 6.390625 31.78125 6.390625 \nQ 39.453125 6.390625 43.28125 13.890625 \nQ 47.125 21.390625 47.125 36.375 \nQ 47.125 51.421875 43.28125 58.90625 \nQ 39.453125 66.40625 31.78125 66.40625 \nz\nM 31.78125 74.21875 \nQ 44.046875 74.21875 50.515625 64.515625 \nQ 56.984375 54.828125 56.984375 36.375 \nQ 56.984375 17.96875 50.515625 8.265625 \nQ 44.046875 -1.421875 31.78125 -1.421875 \nQ 19.53125 -1.421875 13.0625 8.265625 \nQ 6.59375 17.96875 6.59375 36.375 \nQ 6.59375 54.828125 13.0625 64.515625 \nQ 19.53125 74.21875 31.78125 74.21875 \nz\n\" id=\"DejaVuSans-48\"/>\n       </defs>\n       <use xlink:href=\"#DejaVuSans-48\"/>\n      </g>\n     </g>\n    </g>\n    <g id=\"xtick_2\">\n     <g id=\"line2d_2\">\n      <path clip-path=\"url(#p41ac3fda83)\" d=\"M 118.878994 224.64 \nL 118.878994 7.2 \n\" style=\"fill:none;stroke:#cccccc;stroke-linecap:round;stroke-width:0.8;\"/>\n     </g>\n     <g id=\"text_2\">\n      <!-- 20 -->\n      <g style=\"fill:#262626;\" transform=\"translate(112.516494 239.238438)scale(0.1 -0.1)\">\n       <defs>\n        <path d=\"M 19.1875 8.296875 \nL 53.609375 8.296875 \nL 53.609375 0 \nL 7.328125 0 \nL 7.328125 8.296875 \nQ 12.9375 14.109375 22.625 23.890625 \nQ 32.328125 33.6875 34.8125 36.53125 \nQ 39.546875 41.84375 41.421875 45.53125 \nQ 43.3125 49.21875 43.3125 52.78125 \nQ 43.3125 58.59375 39.234375 62.25 \nQ 35.15625 65.921875 28.609375 65.921875 \nQ 23.96875 65.921875 18.8125 64.3125 \nQ 13.671875 62.703125 7.8125 59.421875 \nL 7.8125 69.390625 \nQ 13.765625 71.78125 18.9375 73 \nQ 24.125 74.21875 28.421875 74.21875 \nQ 39.75 74.21875 46.484375 68.546875 \nQ 53.21875 62.890625 53.21875 53.421875 \nQ 53.21875 48.921875 51.53125 44.890625 \nQ 49.859375 40.875 45.40625 35.40625 \nQ 44.1875 33.984375 37.640625 27.21875 \nQ 31.109375 20.453125 19.1875 8.296875 \nz\n\" id=\"DejaVuSans-50\"/>\n       </defs>\n       <use xlink:href=\"#DejaVuSans-50\"/>\n       <use x=\"63.623047\" xlink:href=\"#DejaVuSans-48\"/>\n      </g>\n     </g>\n    </g>\n    <g id=\"xtick_3\">\n     <g id=\"line2d_3\">\n      <path clip-path=\"url(#p41ac3fda83)\" d=\"M 178.558138 224.64 \nL 178.558138 7.2 \n\" style=\"fill:none;stroke:#cccccc;stroke-linecap:round;stroke-width:0.8;\"/>\n     </g>\n     <g id=\"text_3\">\n      <!-- 40 -->\n      <g style=\"fill:#262626;\" transform=\"translate(172.195638 239.238438)scale(0.1 -0.1)\">\n       <defs>\n        <path d=\"M 37.796875 64.3125 \nL 12.890625 25.390625 \nL 37.796875 25.390625 \nz\nM 35.203125 72.90625 \nL 47.609375 72.90625 \nL 47.609375 25.390625 \nL 58.015625 25.390625 \nL 58.015625 17.1875 \nL 47.609375 17.1875 \nL 47.609375 0 \nL 37.796875 0 \nL 37.796875 17.1875 \nL 4.890625 17.1875 \nL 4.890625 26.703125 \nz\n\" id=\"DejaVuSans-52\"/>\n       </defs>\n       <use xlink:href=\"#DejaVuSans-52\"/>\n       <use x=\"63.623047\" xlink:href=\"#DejaVuSans-48\"/>\n      </g>\n     </g>\n    </g>\n    <g id=\"xtick_4\">\n     <g id=\"line2d_4\">\n      <path clip-path=\"url(#p41ac3fda83)\" d=\"M 238.237283 224.64 \nL 238.237283 7.2 \n\" style=\"fill:none;stroke:#cccccc;stroke-linecap:round;stroke-width:0.8;\"/>\n     </g>\n     <g id=\"text_4\">\n      <!-- 60 -->\n      <g style=\"fill:#262626;\" transform=\"translate(231.874783 239.238438)scale(0.1 -0.1)\">\n       <defs>\n        <path d=\"M 33.015625 40.375 \nQ 26.375 40.375 22.484375 35.828125 \nQ 18.609375 31.296875 18.609375 23.390625 \nQ 18.609375 15.53125 22.484375 10.953125 \nQ 26.375 6.390625 33.015625 6.390625 \nQ 39.65625 6.390625 43.53125 10.953125 \nQ 47.40625 15.53125 47.40625 23.390625 \nQ 47.40625 31.296875 43.53125 35.828125 \nQ 39.65625 40.375 33.015625 40.375 \nz\nM 52.59375 71.296875 \nL 52.59375 62.3125 \nQ 48.875 64.0625 45.09375 64.984375 \nQ 41.3125 65.921875 37.59375 65.921875 \nQ 27.828125 65.921875 22.671875 59.328125 \nQ 17.53125 52.734375 16.796875 39.40625 \nQ 19.671875 43.65625 24.015625 45.921875 \nQ 28.375 48.1875 33.59375 48.1875 \nQ 44.578125 48.1875 50.953125 41.515625 \nQ 57.328125 34.859375 57.328125 23.390625 \nQ 57.328125 12.15625 50.6875 5.359375 \nQ 44.046875 -1.421875 33.015625 -1.421875 \nQ 20.359375 -1.421875 13.671875 8.265625 \nQ 6.984375 17.96875 6.984375 36.375 \nQ 6.984375 53.65625 15.1875 63.9375 \nQ 23.390625 74.21875 37.203125 74.21875 \nQ 40.921875 74.21875 44.703125 73.484375 \nQ 48.484375 72.75 52.59375 71.296875 \nz\n\" id=\"DejaVuSans-54\"/>\n       </defs>\n       <use xlink:href=\"#DejaVuSans-54\"/>\n       <use x=\"63.623047\" xlink:href=\"#DejaVuSans-48\"/>\n      </g>\n     </g>\n    </g>\n    <g id=\"xtick_5\">\n     <g id=\"line2d_5\">\n      <path clip-path=\"url(#p41ac3fda83)\" d=\"M 297.916427 224.64 \nL 297.916427 7.2 \n\" style=\"fill:none;stroke:#cccccc;stroke-linecap:round;stroke-width:0.8;\"/>\n     </g>\n     <g id=\"text_5\">\n      <!-- 80 -->\n      <g style=\"fill:#262626;\" transform=\"translate(291.553927 239.238438)scale(0.1 -0.1)\">\n       <defs>\n        <path d=\"M 31.78125 34.625 \nQ 24.75 34.625 20.71875 30.859375 \nQ 16.703125 27.09375 16.703125 20.515625 \nQ 16.703125 13.921875 20.71875 10.15625 \nQ 24.75 6.390625 31.78125 6.390625 \nQ 38.8125 6.390625 42.859375 10.171875 \nQ 46.921875 13.96875 46.921875 20.515625 \nQ 46.921875 27.09375 42.890625 30.859375 \nQ 38.875 34.625 31.78125 34.625 \nz\nM 21.921875 38.8125 \nQ 15.578125 40.375 12.03125 44.71875 \nQ 8.5 49.078125 8.5 55.328125 \nQ 8.5 64.0625 14.71875 69.140625 \nQ 20.953125 74.21875 31.78125 74.21875 \nQ 42.671875 74.21875 48.875 69.140625 \nQ 55.078125 64.0625 55.078125 55.328125 \nQ 55.078125 49.078125 51.53125 44.71875 \nQ 48 40.375 41.703125 38.8125 \nQ 48.828125 37.15625 52.796875 32.3125 \nQ 56.78125 27.484375 56.78125 20.515625 \nQ 56.78125 9.90625 50.3125 4.234375 \nQ 43.84375 -1.421875 31.78125 -1.421875 \nQ 19.734375 -1.421875 13.25 4.234375 \nQ 6.78125 9.90625 6.78125 20.515625 \nQ 6.78125 27.484375 10.78125 32.3125 \nQ 14.796875 37.15625 21.921875 38.8125 \nz\nM 18.3125 54.390625 \nQ 18.3125 48.734375 21.84375 45.5625 \nQ 25.390625 42.390625 31.78125 42.390625 \nQ 38.140625 42.390625 41.71875 45.5625 \nQ 45.3125 48.734375 45.3125 54.390625 \nQ 45.3125 60.0625 41.71875 63.234375 \nQ 38.140625 66.40625 31.78125 66.40625 \nQ 25.390625 66.40625 21.84375 63.234375 \nQ 18.3125 60.0625 18.3125 54.390625 \nz\n\" id=\"DejaVuSans-56\"/>\n       </defs>\n       <use xlink:href=\"#DejaVuSans-56\"/>\n       <use x=\"63.623047\" xlink:href=\"#DejaVuSans-48\"/>\n      </g>\n     </g>\n    </g>\n    <g id=\"xtick_6\">\n     <g id=\"line2d_6\">\n      <path clip-path=\"url(#p41ac3fda83)\" d=\"M 357.595572 224.64 \nL 357.595572 7.2 \n\" style=\"fill:none;stroke:#cccccc;stroke-linecap:round;stroke-width:0.8;\"/>\n     </g>\n     <g id=\"text_6\">\n      <!-- 100 -->\n      <g style=\"fill:#262626;\" transform=\"translate(348.051822 239.238438)scale(0.1 -0.1)\">\n       <defs>\n        <path d=\"M 12.40625 8.296875 \nL 28.515625 8.296875 \nL 28.515625 63.921875 \nL 10.984375 60.40625 \nL 10.984375 69.390625 \nL 28.421875 72.90625 \nL 38.28125 72.90625 \nL 38.28125 8.296875 \nL 54.390625 8.296875 \nL 54.390625 0 \nL 12.40625 0 \nz\n\" id=\"DejaVuSans-49\"/>\n       </defs>\n       <use xlink:href=\"#DejaVuSans-49\"/>\n       <use x=\"63.623047\" xlink:href=\"#DejaVuSans-48\"/>\n       <use x=\"127.246094\" xlink:href=\"#DejaVuSans-48\"/>\n      </g>\n     </g>\n    </g>\n    <g id=\"text_7\">\n     <!-- num_obs -->\n     <g style=\"fill:#262626;\" transform=\"translate(191.819531 252.916562)scale(0.1 -0.1)\">\n      <defs>\n       <path d=\"M 54.890625 33.015625 \nL 54.890625 0 \nL 45.90625 0 \nL 45.90625 32.71875 \nQ 45.90625 40.484375 42.875 44.328125 \nQ 39.84375 48.1875 33.796875 48.1875 \nQ 26.515625 48.1875 22.3125 43.546875 \nQ 18.109375 38.921875 18.109375 30.90625 \nL 18.109375 0 \nL 9.078125 0 \nL 9.078125 54.6875 \nL 18.109375 54.6875 \nL 18.109375 46.1875 \nQ 21.34375 51.125 25.703125 53.5625 \nQ 30.078125 56 35.796875 56 \nQ 45.21875 56 50.046875 50.171875 \nQ 54.890625 44.34375 54.890625 33.015625 \nz\n\" id=\"DejaVuSans-110\"/>\n       <path d=\"M 8.5 21.578125 \nL 8.5 54.6875 \nL 17.484375 54.6875 \nL 17.484375 21.921875 \nQ 17.484375 14.15625 20.5 10.265625 \nQ 23.53125 6.390625 29.59375 6.390625 \nQ 36.859375 6.390625 41.078125 11.03125 \nQ 45.3125 15.671875 45.3125 23.6875 \nL 45.3125 54.6875 \nL 54.296875 54.6875 \nL 54.296875 0 \nL 45.3125 0 \nL 45.3125 8.40625 \nQ 42.046875 3.421875 37.71875 1 \nQ 33.40625 -1.421875 27.6875 -1.421875 \nQ 18.265625 -1.421875 13.375 4.4375 \nQ 8.5 10.296875 8.5 21.578125 \nz\nM 31.109375 56 \nz\n\" id=\"DejaVuSans-117\"/>\n       <path d=\"M 52 44.1875 \nQ 55.375 50.25 60.0625 53.125 \nQ 64.75 56 71.09375 56 \nQ 79.640625 56 84.28125 50.015625 \nQ 88.921875 44.046875 88.921875 33.015625 \nL 88.921875 0 \nL 79.890625 0 \nL 79.890625 32.71875 \nQ 79.890625 40.578125 77.09375 44.375 \nQ 74.3125 48.1875 68.609375 48.1875 \nQ 61.625 48.1875 57.5625 43.546875 \nQ 53.515625 38.921875 53.515625 30.90625 \nL 53.515625 0 \nL 44.484375 0 \nL 44.484375 32.71875 \nQ 44.484375 40.625 41.703125 44.40625 \nQ 38.921875 48.1875 33.109375 48.1875 \nQ 26.21875 48.1875 22.15625 43.53125 \nQ 18.109375 38.875 18.109375 30.90625 \nL 18.109375 0 \nL 9.078125 0 \nL 9.078125 54.6875 \nL 18.109375 54.6875 \nL 18.109375 46.1875 \nQ 21.1875 51.21875 25.484375 53.609375 \nQ 29.78125 56 35.6875 56 \nQ 41.65625 56 45.828125 52.96875 \nQ 50 49.953125 52 44.1875 \nz\n\" id=\"DejaVuSans-109\"/>\n       <path d=\"M 50.984375 -16.609375 \nL 50.984375 -23.578125 \nL -0.984375 -23.578125 \nL -0.984375 -16.609375 \nz\n\" id=\"DejaVuSans-95\"/>\n       <path d=\"M 30.609375 48.390625 \nQ 23.390625 48.390625 19.1875 42.75 \nQ 14.984375 37.109375 14.984375 27.296875 \nQ 14.984375 17.484375 19.15625 11.84375 \nQ 23.34375 6.203125 30.609375 6.203125 \nQ 37.796875 6.203125 41.984375 11.859375 \nQ 46.1875 17.53125 46.1875 27.296875 \nQ 46.1875 37.015625 41.984375 42.703125 \nQ 37.796875 48.390625 30.609375 48.390625 \nz\nM 30.609375 56 \nQ 42.328125 56 49.015625 48.375 \nQ 55.71875 40.765625 55.71875 27.296875 \nQ 55.71875 13.875 49.015625 6.21875 \nQ 42.328125 -1.421875 30.609375 -1.421875 \nQ 18.84375 -1.421875 12.171875 6.21875 \nQ 5.515625 13.875 5.515625 27.296875 \nQ 5.515625 40.765625 12.171875 48.375 \nQ 18.84375 56 30.609375 56 \nz\n\" id=\"DejaVuSans-111\"/>\n       <path d=\"M 48.6875 27.296875 \nQ 48.6875 37.203125 44.609375 42.84375 \nQ 40.53125 48.484375 33.40625 48.484375 \nQ 26.265625 48.484375 22.1875 42.84375 \nQ 18.109375 37.203125 18.109375 27.296875 \nQ 18.109375 17.390625 22.1875 11.75 \nQ 26.265625 6.109375 33.40625 6.109375 \nQ 40.53125 6.109375 44.609375 11.75 \nQ 48.6875 17.390625 48.6875 27.296875 \nz\nM 18.109375 46.390625 \nQ 20.953125 51.265625 25.265625 53.625 \nQ 29.59375 56 35.59375 56 \nQ 45.5625 56 51.78125 48.09375 \nQ 58.015625 40.1875 58.015625 27.296875 \nQ 58.015625 14.40625 51.78125 6.484375 \nQ 45.5625 -1.421875 35.59375 -1.421875 \nQ 29.59375 -1.421875 25.265625 0.953125 \nQ 20.953125 3.328125 18.109375 8.203125 \nL 18.109375 0 \nL 9.078125 0 \nL 9.078125 75.984375 \nL 18.109375 75.984375 \nz\n\" id=\"DejaVuSans-98\"/>\n       <path d=\"M 44.28125 53.078125 \nL 44.28125 44.578125 \nQ 40.484375 46.53125 36.375 47.5 \nQ 32.28125 48.484375 27.875 48.484375 \nQ 21.1875 48.484375 17.84375 46.4375 \nQ 14.5 44.390625 14.5 40.28125 \nQ 14.5 37.15625 16.890625 35.375 \nQ 19.28125 33.59375 26.515625 31.984375 \nL 29.59375 31.296875 \nQ 39.15625 29.25 43.1875 25.515625 \nQ 47.21875 21.78125 47.21875 15.09375 \nQ 47.21875 7.46875 41.1875 3.015625 \nQ 35.15625 -1.421875 24.609375 -1.421875 \nQ 20.21875 -1.421875 15.453125 -0.5625 \nQ 10.6875 0.296875 5.421875 2 \nL 5.421875 11.28125 \nQ 10.40625 8.6875 15.234375 7.390625 \nQ 20.0625 6.109375 24.8125 6.109375 \nQ 31.15625 6.109375 34.5625 8.28125 \nQ 37.984375 10.453125 37.984375 14.40625 \nQ 37.984375 18.0625 35.515625 20.015625 \nQ 33.0625 21.96875 24.703125 23.78125 \nL 21.578125 24.515625 \nQ 13.234375 26.265625 9.515625 29.90625 \nQ 5.8125 33.546875 5.8125 39.890625 \nQ 5.8125 47.609375 11.28125 51.796875 \nQ 16.75 56 26.8125 56 \nQ 31.78125 56 36.171875 55.265625 \nQ 40.578125 54.546875 44.28125 53.078125 \nz\n\" id=\"DejaVuSans-115\"/>\n      </defs>\n      <use xlink:href=\"#DejaVuSans-110\"/>\n      <use x=\"63.378906\" xlink:href=\"#DejaVuSans-117\"/>\n      <use x=\"126.757812\" xlink:href=\"#DejaVuSans-109\"/>\n      <use x=\"224.169922\" xlink:href=\"#DejaVuSans-95\"/>\n      <use x=\"274.169922\" xlink:href=\"#DejaVuSans-111\"/>\n      <use x=\"335.351562\" xlink:href=\"#DejaVuSans-98\"/>\n      <use x=\"398.828125\" xlink:href=\"#DejaVuSans-115\"/>\n     </g>\n    </g>\n   </g>\n   <g id=\"matplotlib.axis_2\">\n    <g id=\"ytick_1\">\n     <g id=\"line2d_7\">\n      <path clip-path=\"url(#p41ac3fda83)\" d=\"M 46.965625 224.64 \nL 381.765625 224.64 \n\" style=\"fill:none;stroke:#cccccc;stroke-linecap:round;stroke-width:0.8;\"/>\n     </g>\n     <g id=\"text_8\">\n      <!-- 0 -->\n      <g style=\"fill:#262626;\" transform=\"translate(33.603125 228.439219)scale(0.1 -0.1)\">\n       <use xlink:href=\"#DejaVuSans-48\"/>\n      </g>\n     </g>\n    </g>\n    <g id=\"ytick_2\">\n     <g id=\"line2d_8\">\n      <path clip-path=\"url(#p41ac3fda83)\" d=\"M 46.965625 187.922675 \nL 381.765625 187.922675 \n\" style=\"fill:none;stroke:#cccccc;stroke-linecap:round;stroke-width:0.8;\"/>\n     </g>\n     <g id=\"text_9\">\n      <!-- 100 -->\n      <g style=\"fill:#262626;\" transform=\"translate(20.878125 191.721894)scale(0.1 -0.1)\">\n       <use xlink:href=\"#DejaVuSans-49\"/>\n       <use x=\"63.623047\" xlink:href=\"#DejaVuSans-48\"/>\n       <use x=\"127.246094\" xlink:href=\"#DejaVuSans-48\"/>\n      </g>\n     </g>\n    </g>\n    <g id=\"ytick_3\">\n     <g id=\"line2d_9\">\n      <path clip-path=\"url(#p41ac3fda83)\" d=\"M 46.965625 151.20535 \nL 381.765625 151.20535 \n\" style=\"fill:none;stroke:#cccccc;stroke-linecap:round;stroke-width:0.8;\"/>\n     </g>\n     <g id=\"text_10\">\n      <!-- 200 -->\n      <g style=\"fill:#262626;\" transform=\"translate(20.878125 155.004568)scale(0.1 -0.1)\">\n       <use xlink:href=\"#DejaVuSans-50\"/>\n       <use x=\"63.623047\" xlink:href=\"#DejaVuSans-48\"/>\n       <use x=\"127.246094\" xlink:href=\"#DejaVuSans-48\"/>\n      </g>\n     </g>\n    </g>\n    <g id=\"ytick_4\">\n     <g id=\"line2d_10\">\n      <path clip-path=\"url(#p41ac3fda83)\" d=\"M 46.965625 114.488024 \nL 381.765625 114.488024 \n\" style=\"fill:none;stroke:#cccccc;stroke-linecap:round;stroke-width:0.8;\"/>\n     </g>\n     <g id=\"text_11\">\n      <!-- 300 -->\n      <g style=\"fill:#262626;\" transform=\"translate(20.878125 118.287243)scale(0.1 -0.1)\">\n       <defs>\n        <path d=\"M 40.578125 39.3125 \nQ 47.65625 37.796875 51.625 33 \nQ 55.609375 28.21875 55.609375 21.1875 \nQ 55.609375 10.40625 48.1875 4.484375 \nQ 40.765625 -1.421875 27.09375 -1.421875 \nQ 22.515625 -1.421875 17.65625 -0.515625 \nQ 12.796875 0.390625 7.625 2.203125 \nL 7.625 11.71875 \nQ 11.71875 9.328125 16.59375 8.109375 \nQ 21.484375 6.890625 26.8125 6.890625 \nQ 36.078125 6.890625 40.9375 10.546875 \nQ 45.796875 14.203125 45.796875 21.1875 \nQ 45.796875 27.640625 41.28125 31.265625 \nQ 36.765625 34.90625 28.71875 34.90625 \nL 20.21875 34.90625 \nL 20.21875 43.015625 \nL 29.109375 43.015625 \nQ 36.375 43.015625 40.234375 45.921875 \nQ 44.09375 48.828125 44.09375 54.296875 \nQ 44.09375 59.90625 40.109375 62.90625 \nQ 36.140625 65.921875 28.71875 65.921875 \nQ 24.65625 65.921875 20.015625 65.03125 \nQ 15.375 64.15625 9.8125 62.3125 \nL 9.8125 71.09375 \nQ 15.4375 72.65625 20.34375 73.4375 \nQ 25.25 74.21875 29.59375 74.21875 \nQ 40.828125 74.21875 47.359375 69.109375 \nQ 53.90625 64.015625 53.90625 55.328125 \nQ 53.90625 49.265625 50.4375 45.09375 \nQ 46.96875 40.921875 40.578125 39.3125 \nz\n\" id=\"DejaVuSans-51\"/>\n       </defs>\n       <use xlink:href=\"#DejaVuSans-51\"/>\n       <use x=\"63.623047\" xlink:href=\"#DejaVuSans-48\"/>\n       <use x=\"127.246094\" xlink:href=\"#DejaVuSans-48\"/>\n      </g>\n     </g>\n    </g>\n    <g id=\"ytick_5\">\n     <g id=\"line2d_11\">\n      <path clip-path=\"url(#p41ac3fda83)\" d=\"M 46.965625 77.770699 \nL 381.765625 77.770699 \n\" style=\"fill:none;stroke:#cccccc;stroke-linecap:round;stroke-width:0.8;\"/>\n     </g>\n     <g id=\"text_12\">\n      <!-- 400 -->\n      <g style=\"fill:#262626;\" transform=\"translate(20.878125 81.569918)scale(0.1 -0.1)\">\n       <use xlink:href=\"#DejaVuSans-52\"/>\n       <use x=\"63.623047\" xlink:href=\"#DejaVuSans-48\"/>\n       <use x=\"127.246094\" xlink:href=\"#DejaVuSans-48\"/>\n      </g>\n     </g>\n    </g>\n    <g id=\"ytick_6\">\n     <g id=\"line2d_12\">\n      <path clip-path=\"url(#p41ac3fda83)\" d=\"M 46.965625 41.053374 \nL 381.765625 41.053374 \n\" style=\"fill:none;stroke:#cccccc;stroke-linecap:round;stroke-width:0.8;\"/>\n     </g>\n     <g id=\"text_13\">\n      <!-- 500 -->\n      <g style=\"fill:#262626;\" transform=\"translate(20.878125 44.852593)scale(0.1 -0.1)\">\n       <defs>\n        <path d=\"M 10.796875 72.90625 \nL 49.515625 72.90625 \nL 49.515625 64.59375 \nL 19.828125 64.59375 \nL 19.828125 46.734375 \nQ 21.96875 47.46875 24.109375 47.828125 \nQ 26.265625 48.1875 28.421875 48.1875 \nQ 40.625 48.1875 47.75 41.5 \nQ 54.890625 34.8125 54.890625 23.390625 \nQ 54.890625 11.625 47.5625 5.09375 \nQ 40.234375 -1.421875 26.90625 -1.421875 \nQ 22.3125 -1.421875 17.546875 -0.640625 \nQ 12.796875 0.140625 7.71875 1.703125 \nL 7.71875 11.625 \nQ 12.109375 9.234375 16.796875 8.0625 \nQ 21.484375 6.890625 26.703125 6.890625 \nQ 35.15625 6.890625 40.078125 11.328125 \nQ 45.015625 15.765625 45.015625 23.390625 \nQ 45.015625 31 40.078125 35.4375 \nQ 35.15625 39.890625 26.703125 39.890625 \nQ 22.75 39.890625 18.8125 39.015625 \nQ 14.890625 38.140625 10.796875 36.28125 \nz\n\" id=\"DejaVuSans-53\"/>\n       </defs>\n       <use xlink:href=\"#DejaVuSans-53\"/>\n       <use x=\"63.623047\" xlink:href=\"#DejaVuSans-48\"/>\n       <use x=\"127.246094\" xlink:href=\"#DejaVuSans-48\"/>\n      </g>\n     </g>\n    </g>\n    <g id=\"text_14\">\n     <!-- Count -->\n     <g style=\"fill:#262626;\" transform=\"translate(14.798438 130.768438)rotate(-90)scale(0.1 -0.1)\">\n      <defs>\n       <path d=\"M 64.40625 67.28125 \nL 64.40625 56.890625 \nQ 59.421875 61.53125 53.78125 63.8125 \nQ 48.140625 66.109375 41.796875 66.109375 \nQ 29.296875 66.109375 22.65625 58.46875 \nQ 16.015625 50.828125 16.015625 36.375 \nQ 16.015625 21.96875 22.65625 14.328125 \nQ 29.296875 6.6875 41.796875 6.6875 \nQ 48.140625 6.6875 53.78125 8.984375 \nQ 59.421875 11.28125 64.40625 15.921875 \nL 64.40625 5.609375 \nQ 59.234375 2.09375 53.4375 0.328125 \nQ 47.65625 -1.421875 41.21875 -1.421875 \nQ 24.65625 -1.421875 15.125 8.703125 \nQ 5.609375 18.84375 5.609375 36.375 \nQ 5.609375 53.953125 15.125 64.078125 \nQ 24.65625 74.21875 41.21875 74.21875 \nQ 47.75 74.21875 53.53125 72.484375 \nQ 59.328125 70.75 64.40625 67.28125 \nz\n\" id=\"DejaVuSans-67\"/>\n       <path d=\"M 18.3125 70.21875 \nL 18.3125 54.6875 \nL 36.8125 54.6875 \nL 36.8125 47.703125 \nL 18.3125 47.703125 \nL 18.3125 18.015625 \nQ 18.3125 11.328125 20.140625 9.421875 \nQ 21.96875 7.515625 27.59375 7.515625 \nL 36.8125 7.515625 \nL 36.8125 0 \nL 27.59375 0 \nQ 17.1875 0 13.234375 3.875 \nQ 9.28125 7.765625 9.28125 18.015625 \nL 9.28125 47.703125 \nL 2.6875 47.703125 \nL 2.6875 54.6875 \nL 9.28125 54.6875 \nL 9.28125 70.21875 \nz\n\" id=\"DejaVuSans-116\"/>\n      </defs>\n      <use xlink:href=\"#DejaVuSans-67\"/>\n      <use x=\"69.824219\" xlink:href=\"#DejaVuSans-111\"/>\n      <use x=\"131.005859\" xlink:href=\"#DejaVuSans-117\"/>\n      <use x=\"194.384766\" xlink:href=\"#DejaVuSans-110\"/>\n      <use x=\"257.763672\" xlink:href=\"#DejaVuSans-116\"/>\n     </g>\n    </g>\n   </g>\n   <g id=\"patch_3\">\n    <path clip-path=\"url(#p41ac3fda83)\" d=\"M 62.183807 224.64 \nL 83.924067 224.64 \nL 83.924067 17.554286 \nL 62.183807 17.554286 \nz\n\" style=\"fill:#1f77b4;fill-opacity:0.75;stroke:#ffffff;stroke-linejoin:miter;\"/>\n   </g>\n   <g id=\"patch_4\">\n    <path clip-path=\"url(#p41ac3fda83)\" d=\"M 83.924067 224.64 \nL 105.664326 224.64 \nL 105.664326 88.785897 \nL 83.924067 88.785897 \nz\n\" style=\"fill:#1f77b4;fill-opacity:0.75;stroke:#ffffff;stroke-linejoin:miter;\"/>\n   </g>\n   <g id=\"patch_5\">\n    <path clip-path=\"url(#p41ac3fda83)\" d=\"M 105.664326 224.64 \nL 127.404586 224.64 \nL 127.404586 165.525106 \nL 105.664326 165.525106 \nz\n\" style=\"fill:#1f77b4;fill-opacity:0.75;stroke:#ffffff;stroke-linejoin:miter;\"/>\n   </g>\n   <g id=\"patch_6\">\n    <path clip-path=\"url(#p41ac3fda83)\" d=\"M 127.404586 224.64 \nL 149.144846 224.64 \nL 149.144846 167.360973 \nL 127.404586 167.360973 \nz\n\" style=\"fill:#1f77b4;fill-opacity:0.75;stroke:#ffffff;stroke-linejoin:miter;\"/>\n   </g>\n   <g id=\"patch_7\">\n    <path clip-path=\"url(#p41ac3fda83)\" d=\"M 149.144846 224.64 \nL 170.885106 224.64 \nL 170.885106 177.641824 \nL 149.144846 177.641824 \nz\n\" style=\"fill:#1f77b4;fill-opacity:0.75;stroke:#ffffff;stroke-linejoin:miter;\"/>\n   </g>\n   <g id=\"patch_8\">\n    <path clip-path=\"url(#p41ac3fda83)\" d=\"M 170.885106 224.64 \nL 192.625365 224.64 \nL 192.625365 194.531793 \nL 170.885106 194.531793 \nz\n\" style=\"fill:#1f77b4;fill-opacity:0.75;stroke:#ffffff;stroke-linejoin:miter;\"/>\n   </g>\n   <g id=\"patch_9\">\n    <path clip-path=\"url(#p41ac3fda83)\" d=\"M 192.625365 224.64 \nL 214.365625 224.64 \nL 214.365625 206.281337 \nL 192.625365 206.281337 \nz\n\" style=\"fill:#1f77b4;fill-opacity:0.75;stroke:#ffffff;stroke-linejoin:miter;\"/>\n   </g>\n   <g id=\"patch_10\">\n    <path clip-path=\"url(#p41ac3fda83)\" d=\"M 214.365625 224.64 \nL 236.105885 224.64 \nL 236.105885 165.157933 \nL 214.365625 165.157933 \nz\n\" style=\"fill:#1f77b4;fill-opacity:0.75;stroke:#ffffff;stroke-linejoin:miter;\"/>\n   </g>\n   <g id=\"patch_11\">\n    <path clip-path=\"url(#p41ac3fda83)\" d=\"M 236.105885 224.64 \nL 257.846144 224.64 \nL 257.846144 201.140912 \nL 236.105885 201.140912 \nz\n\" style=\"fill:#1f77b4;fill-opacity:0.75;stroke:#ffffff;stroke-linejoin:miter;\"/>\n   </g>\n   <g id=\"patch_12\">\n    <path clip-path=\"url(#p41ac3fda83)\" d=\"M 257.846144 224.64 \nL 279.586404 224.64 \nL 279.586404 224.64 \nL 257.846144 224.64 \nz\n\" style=\"fill:#1f77b4;fill-opacity:0.75;stroke:#ffffff;stroke-linejoin:miter;\"/>\n   </g>\n   <g id=\"patch_13\">\n    <path clip-path=\"url(#p41ac3fda83)\" d=\"M 279.586404 224.64 \nL 301.326664 224.64 \nL 301.326664 196.36766 \nL 279.586404 196.36766 \nz\n\" style=\"fill:#1f77b4;fill-opacity:0.75;stroke:#ffffff;stroke-linejoin:miter;\"/>\n   </g>\n   <g id=\"patch_14\">\n    <path clip-path=\"url(#p41ac3fda83)\" d=\"M 301.326664 224.64 \nL 323.066924 224.64 \nL 323.066924 224.64 \nL 301.326664 224.64 \nz\n\" style=\"fill:#1f77b4;fill-opacity:0.75;stroke:#ffffff;stroke-linejoin:miter;\"/>\n   </g>\n   <g id=\"patch_15\">\n    <path clip-path=\"url(#p41ac3fda83)\" d=\"M 323.066924 224.64 \nL 344.807183 224.64 \nL 344.807183 157.080122 \nL 323.066924 157.080122 \nz\n\" style=\"fill:#1f77b4;fill-opacity:0.75;stroke:#ffffff;stroke-linejoin:miter;\"/>\n   </g>\n   <g id=\"patch_16\">\n    <path clip-path=\"url(#p41ac3fda83)\" d=\"M 344.807183 224.64 \nL 366.547443 224.64 \nL 366.547443 186.821155 \nL 344.807183 186.821155 \nz\n\" style=\"fill:#1f77b4;fill-opacity:0.75;stroke:#ffffff;stroke-linejoin:miter;\"/>\n   </g>\n   <g id=\"patch_17\">\n    <path clip-path=\"url(#p41ac3fda83)\" d=\"M 62.183807 224.64 \nL 69.43056 224.64 \nL 69.43056 146.064924 \nL 62.183807 146.064924 \nz\n\" style=\"fill:#1f77b4;fill-opacity:0.75;stroke:#ffffff;stroke-linejoin:miter;stroke-width:0.724675;\"/>\n   </g>\n   <g id=\"patch_18\">\n    <path clip-path=\"url(#p41ac3fda83)\" d=\"M 69.43056 224.64 \nL 76.677313 224.64 \nL 76.677313 170.298359 \nL 69.43056 170.298359 \nz\n\" style=\"fill:#1f77b4;fill-opacity:0.75;stroke:#ffffff;stroke-linejoin:miter;stroke-width:0.724675;\"/>\n   </g>\n   <g id=\"patch_19\">\n    <path clip-path=\"url(#p41ac3fda83)\" d=\"M 76.677313 224.64 \nL 83.924067 224.64 \nL 83.924067 187.555502 \nL 76.677313 187.555502 \nz\n\" style=\"fill:#1f77b4;fill-opacity:0.75;stroke:#ffffff;stroke-linejoin:miter;stroke-width:0.724675;\"/>\n   </g>\n   <g id=\"patch_20\">\n    <path clip-path=\"url(#p41ac3fda83)\" d=\"M 83.924067 224.64 \nL 91.17082 224.64 \nL 91.17082 214.359149 \nL 83.924067 214.359149 \nz\n\" style=\"fill:#1f77b4;fill-opacity:0.75;stroke:#ffffff;stroke-linejoin:miter;stroke-width:0.724675;\"/>\n   </g>\n   <g id=\"patch_21\">\n    <path clip-path=\"url(#p41ac3fda83)\" d=\"M 91.17082 224.64 \nL 98.417573 224.64 \nL 98.417573 161.853374 \nL 91.17082 161.853374 \nz\n\" style=\"fill:#1f77b4;fill-opacity:0.75;stroke:#ffffff;stroke-linejoin:miter;stroke-width:0.724675;\"/>\n   </g>\n   <g id=\"patch_22\">\n    <path clip-path=\"url(#p41ac3fda83)\" d=\"M 98.417573 224.64 \nL 105.664326 224.64 \nL 105.664326 208.117204 \nL 98.417573 208.117204 \nz\n\" style=\"fill:#1f77b4;fill-opacity:0.75;stroke:#ffffff;stroke-linejoin:miter;stroke-width:0.724675;\"/>\n   </g>\n   <g id=\"patch_23\">\n    <path clip-path=\"url(#p41ac3fda83)\" d=\"M 105.664326 224.64 \nL 112.91108 224.64 \nL 112.91108 213.991976 \nL 105.664326 213.991976 \nz\n\" style=\"fill:#1f77b4;fill-opacity:0.75;stroke:#ffffff;stroke-linejoin:miter;stroke-width:0.724675;\"/>\n   </g>\n   <g id=\"patch_24\">\n    <path clip-path=\"url(#p41ac3fda83)\" d=\"M 112.91108 224.64 \nL 120.157833 224.64 \nL 120.157833 72.997447 \nL 112.91108 72.997447 \nz\n\" style=\"fill:#1f77b4;fill-opacity:0.75;stroke:#ffffff;stroke-linejoin:miter;stroke-width:0.724675;\"/>\n   </g>\n   <g id=\"patch_25\">\n    <path clip-path=\"url(#p41ac3fda83)\" d=\"M 120.157833 224.64 \nL 127.404586 224.64 \nL 127.404586 224.64 \nL 120.157833 224.64 \nz\n\" style=\"fill:#1f77b4;fill-opacity:0.75;stroke:#ffffff;stroke-linejoin:miter;stroke-width:0.724675;\"/>\n   </g>\n   <g id=\"patch_26\">\n    <path clip-path=\"url(#p41ac3fda83)\" d=\"M 127.404586 224.64 \nL 134.651339 224.64 \nL 134.651339 224.64 \nL 127.404586 224.64 \nz\n\" style=\"fill:#1f77b4;fill-opacity:0.75;stroke:#ffffff;stroke-linejoin:miter;stroke-width:0.724675;\"/>\n   </g>\n   <g id=\"patch_27\">\n    <path clip-path=\"url(#p41ac3fda83)\" d=\"M 134.651339 224.64 \nL 141.898093 224.64 \nL 141.898093 224.64 \nL 134.651339 224.64 \nz\n\" style=\"fill:#1f77b4;fill-opacity:0.75;stroke:#ffffff;stroke-linejoin:miter;stroke-width:0.724675;\"/>\n   </g>\n   <g id=\"patch_28\">\n    <path clip-path=\"url(#p41ac3fda83)\" d=\"M 141.898093 224.64 \nL 149.144846 224.64 \nL 149.144846 224.64 \nL 141.898093 224.64 \nz\n\" style=\"fill:#1f77b4;fill-opacity:0.75;stroke:#ffffff;stroke-linejoin:miter;stroke-width:0.724675;\"/>\n   </g>\n   <g id=\"patch_29\">\n    <path clip-path=\"url(#p41ac3fda83)\" d=\"M 149.144846 224.64 \nL 156.391599 224.64 \nL 156.391599 224.64 \nL 149.144846 224.64 \nz\n\" style=\"fill:#1f77b4;fill-opacity:0.75;stroke:#ffffff;stroke-linejoin:miter;stroke-width:0.724675;\"/>\n   </g>\n   <g id=\"patch_30\">\n    <path clip-path=\"url(#p41ac3fda83)\" d=\"M 156.391599 224.64 \nL 163.638352 224.64 \nL 163.638352 212.156109 \nL 156.391599 212.156109 \nz\n\" style=\"fill:#1f77b4;fill-opacity:0.75;stroke:#ffffff;stroke-linejoin:miter;stroke-width:0.724675;\"/>\n   </g>\n   <g id=\"patch_31\">\n    <path clip-path=\"url(#p41ac3fda83)\" d=\"M 62.183807 224.64 \nL 83.071507 224.64 \nL 83.071507 201.140912 \nL 62.183807 201.140912 \nz\n\" style=\"fill:#1f77b4;fill-opacity:0.75;stroke:#ffffff;stroke-linejoin:miter;\"/>\n   </g>\n   <g id=\"patch_32\">\n    <path clip-path=\"url(#p41ac3fda83)\" d=\"M 83.071507 224.64 \nL 103.959208 224.64 \nL 103.959208 196.734833 \nL 83.071507 196.734833 \nz\n\" style=\"fill:#1f77b4;fill-opacity:0.75;stroke:#ffffff;stroke-linejoin:miter;\"/>\n   </g>\n   <g id=\"patch_33\">\n    <path clip-path=\"url(#p41ac3fda83)\" d=\"M 103.959208 224.64 \nL 124.846908 224.64 \nL 124.846908 209.95307 \nL 103.959208 209.95307 \nz\n\" style=\"fill:#1f77b4;fill-opacity:0.75;stroke:#ffffff;stroke-linejoin:miter;\"/>\n   </g>\n   <g id=\"patch_34\">\n    <path clip-path=\"url(#p41ac3fda83)\" d=\"M 124.846908 224.64 \nL 145.734609 224.64 \nL 145.734609 224.64 \nL 124.846908 224.64 \nz\n\" style=\"fill:#1f77b4;fill-opacity:0.75;stroke:#ffffff;stroke-linejoin:miter;\"/>\n   </g>\n   <g id=\"patch_35\">\n    <path clip-path=\"url(#p41ac3fda83)\" d=\"M 145.734609 224.64 \nL 166.622309 224.64 \nL 166.622309 220.601094 \nL 145.734609 220.601094 \nz\n\" style=\"fill:#1f77b4;fill-opacity:0.75;stroke:#ffffff;stroke-linejoin:miter;\"/>\n   </g>\n   <g id=\"patch_36\">\n    <path clip-path=\"url(#p41ac3fda83)\" d=\"M 166.622309 224.64 \nL 187.51001 224.64 \nL 187.51001 224.64 \nL 166.622309 224.64 \nz\n\" style=\"fill:#1f77b4;fill-opacity:0.75;stroke:#ffffff;stroke-linejoin:miter;\"/>\n   </g>\n   <g id=\"patch_37\">\n    <path clip-path=\"url(#p41ac3fda83)\" d=\"M 187.51001 224.64 \nL 208.397711 224.64 \nL 208.397711 219.132401 \nL 187.51001 219.132401 \nz\n\" style=\"fill:#1f77b4;fill-opacity:0.75;stroke:#ffffff;stroke-linejoin:miter;\"/>\n   </g>\n   <g id=\"patch_38\">\n    <path clip-path=\"url(#p41ac3fda83)\" d=\"M 208.397711 224.64 \nL 229.285411 224.64 \nL 229.285411 224.64 \nL 208.397711 224.64 \nz\n\" style=\"fill:#1f77b4;fill-opacity:0.75;stroke:#ffffff;stroke-linejoin:miter;\"/>\n   </g>\n   <g id=\"patch_39\">\n    <path clip-path=\"url(#p41ac3fda83)\" d=\"M 229.285411 224.64 \nL 250.173112 224.64 \nL 250.173112 224.64 \nL 229.285411 224.64 \nz\n\" style=\"fill:#1f77b4;fill-opacity:0.75;stroke:#ffffff;stroke-linejoin:miter;\"/>\n   </g>\n   <g id=\"patch_40\">\n    <path clip-path=\"url(#p41ac3fda83)\" d=\"M 250.173112 224.64 \nL 271.060812 224.64 \nL 271.060812 151.20535 \nL 250.173112 151.20535 \nz\n\" style=\"fill:#1f77b4;fill-opacity:0.75;stroke:#ffffff;stroke-linejoin:miter;\"/>\n   </g>\n   <g id=\"patch_41\">\n    <path d=\"M 46.965625 224.64 \nL 46.965625 7.2 \n\" style=\"fill:none;stroke:#cccccc;stroke-linecap:square;stroke-linejoin:miter;stroke-width:0.8;\"/>\n   </g>\n   <g id=\"patch_42\">\n    <path d=\"M 381.765625 224.64 \nL 381.765625 7.2 \n\" style=\"fill:none;stroke:#cccccc;stroke-linecap:square;stroke-linejoin:miter;stroke-width:0.8;\"/>\n   </g>\n   <g id=\"patch_43\">\n    <path d=\"M 46.965625 224.64 \nL 381.765625 224.64 \n\" style=\"fill:none;stroke:#cccccc;stroke-linecap:square;stroke-linejoin:miter;stroke-width:0.8;\"/>\n   </g>\n   <g id=\"patch_44\">\n    <path d=\"M 46.965625 7.2 \nL 381.765625 7.2 \n\" style=\"fill:none;stroke:#cccccc;stroke-linecap:square;stroke-linejoin:miter;stroke-width:0.8;\"/>\n   </g>\n  </g>\n </g>\n <defs>\n  <clipPath id=\"p41ac3fda83\">\n   <rect height=\"217.44\" width=\"334.8\" x=\"46.965625\" y=\"7.2\"/>\n  </clipPath>\n </defs>\n</svg>\n",
      "image/png": "[encoded data removed]"
     },
     "metadata": {}
    }
   ],
   "metadata": {}
  },
  {
   "cell_type": "code",
   "execution_count": 32,
   "source": [
    "data_cv"
   ],
   "outputs": [
    {
     "output_type": "execute_result",
     "data": {
      "text/plain": [
       "             class  src_id  num_obs      sepn                    name  \\\n",
       "obs_id                                                                  \n",
       "CV_0_obs_0      CV    CV_0       25  0.157954   2CXO J004247.1+411619   \n",
       "CV_0_obs_1      CV    CV_0       25  0.157954   2CXO J004247.1+411619   \n",
       "CV_0_obs_2      CV    CV_0       25  0.157954   2CXO J004247.1+411619   \n",
       "CV_0_obs_3      CV    CV_0       25  0.157954   2CXO J004247.1+411619   \n",
       "CV_0_obs_4      CV    CV_0       25  0.157954   2CXO J004247.1+411619   \n",
       "...            ...     ...      ...       ...                     ...   \n",
       "CV_309_obs_0    CV  CV_309        1  0.877141   2CXO J174311.1-271622   \n",
       "CV_310_obs_0    CV  CV_310        1  3.687046   2CXO J040556.8+714816   \n",
       "CV_311_obs_0    CV  CV_311        1  0.073509   2CXO J191051.9-595840   \n",
       "CV_312_obs_0    CV  CV_312        1  0.891817   2CXO J105545.1+573108   \n",
       "CV_313_obs_0    CV  CV_313        1  0.268618   2CXO J201536.9+371123   \n",
       "\n",
       "                     ra       dec  livetime  significance   likelihood  ...  \\\n",
       "obs_id                                                                  ...   \n",
       "CV_0_obs_0     10.69654  41.27215    4103.7         52.93  16618.73000  ...   \n",
       "CV_0_obs_1     10.69654  41.27215    3907.5         52.93  16618.73000  ...   \n",
       "CV_0_obs_2     10.69654  41.27215    3907.5         52.93  16618.73000  ...   \n",
       "CV_0_obs_3     10.69654  41.27215    3904.6         52.93  16618.73000  ...   \n",
       "CV_0_obs_4     10.69654  41.27215    3907.5         52.93  16618.73000  ...   \n",
       "...                 ...       ...       ...           ...          ...  ...   \n",
       "CV_309_obs_0  265.79630 -27.27295    2156.9          2.53     20.88602  ...   \n",
       "CV_310_obs_0   61.48706  71.80466   28678.8          4.86     53.30116  ...   \n",
       "CV_311_obs_0  287.71650 -59.97791   37966.9          2.61     27.11662  ...   \n",
       "CV_312_obs_0  163.93810  57.51916    5683.9          3.17     38.66024  ...   \n",
       "CV_313_obs_0  303.90390  37.18973   69268.4         78.58  41737.86000  ...   \n",
       "\n",
       "              var_inter_sigma_h  var_inter_index_m  var_inter_prob_m  \\\n",
       "obs_id                                                                 \n",
       "CV_0_obs_0                  NaN                NaN               NaN   \n",
       "CV_0_obs_1                  NaN                NaN               NaN   \n",
       "CV_0_obs_2                  NaN                NaN               NaN   \n",
       "CV_0_obs_3                  NaN                NaN               NaN   \n",
       "CV_0_obs_4                  NaN                NaN               NaN   \n",
       "...                         ...                ...               ...   \n",
       "CV_309_obs_0           0.000004                5.0             0.802   \n",
       "CV_310_obs_0                NaN                NaN               NaN   \n",
       "CV_311_obs_0                NaN                6.0             0.983   \n",
       "CV_312_obs_0                NaN                NaN               NaN   \n",
       "CV_313_obs_0                NaN                NaN               NaN   \n",
       "\n",
       "              var_inter_sigma_m  var_inter_index_s  var_inter_prob_s  \\\n",
       "obs_id                                                                 \n",
       "CV_0_obs_0                  NaN                5.0             0.989   \n",
       "CV_0_obs_1                  NaN                5.0             0.989   \n",
       "CV_0_obs_2                  NaN                5.0             0.989   \n",
       "CV_0_obs_3                  NaN                5.0             0.989   \n",
       "CV_0_obs_4                  NaN                5.0             0.989   \n",
       "...                         ...                ...               ...   \n",
       "CV_309_obs_0       1.246000e-06                NaN               NaN   \n",
       "CV_310_obs_0                NaN                NaN               NaN   \n",
       "CV_311_obs_0       1.822000e-07                5.0             0.774   \n",
       "CV_312_obs_0                NaN                NaN               NaN   \n",
       "CV_313_obs_0                NaN                NaN               NaN   \n",
       "\n",
       "              var_inter_sigma_s  var_inter_index_u  var_inter_prob_u  \\\n",
       "obs_id                                                                 \n",
       "CV_0_obs_0         2.546000e-05                NaN               NaN   \n",
       "CV_0_obs_1         2.546000e-05                NaN               NaN   \n",
       "CV_0_obs_2         2.546000e-05                NaN               NaN   \n",
       "CV_0_obs_3         2.546000e-05                NaN               NaN   \n",
       "CV_0_obs_4         2.546000e-05                NaN               NaN   \n",
       "...                         ...                ...               ...   \n",
       "CV_309_obs_0                NaN                NaN               NaN   \n",
       "CV_310_obs_0                NaN                NaN               NaN   \n",
       "CV_311_obs_0       1.036000e-07                NaN               NaN   \n",
       "CV_312_obs_0                NaN                NaN               NaN   \n",
       "CV_313_obs_0                NaN                NaN               NaN   \n",
       "\n",
       "              var_inter_sigma_u  \n",
       "obs_id                           \n",
       "CV_0_obs_0                  NaN  \n",
       "CV_0_obs_1                  NaN  \n",
       "CV_0_obs_2                  NaN  \n",
       "CV_0_obs_3                  NaN  \n",
       "CV_0_obs_4                  NaN  \n",
       "...                         ...  \n",
       "CV_309_obs_0                NaN  \n",
       "CV_310_obs_0                NaN  \n",
       "CV_311_obs_0                NaN  \n",
       "CV_312_obs_0                NaN  \n",
       "CV_313_obs_0                NaN  \n",
       "\n",
       "[2101 rows x 87 columns]"
      ],
      "text/html": [
       "<div>\n",
       "<style scoped>\n",
       "    .dataframe tbody tr th:only-of-type {\n",
       "        vertical-align: middle;\n",
       "    }\n",
       "\n",
       "    .dataframe tbody tr th {\n",
       "        vertical-align: top;\n",
       "    }\n",
       "\n",
       "    .dataframe thead th {\n",
       "        text-align: right;\n",
       "    }\n",
       "</style>\n",
       "<table border=\"1\" class=\"dataframe\">\n",
       "  <thead>\n",
       "    <tr style=\"text-align: right;\">\n",
       "      <th></th>\n",
       "      <th>class</th>\n",
       "      <th>src_id</th>\n",
       "      <th>num_obs</th>\n",
       "      <th>sepn</th>\n",
       "      <th>name</th>\n",
       "      <th>ra</th>\n",
       "      <th>dec</th>\n",
       "      <th>livetime</th>\n",
       "      <th>significance</th>\n",
       "      <th>likelihood</th>\n",
       "      <th>...</th>\n",
       "      <th>var_inter_sigma_h</th>\n",
       "      <th>var_inter_index_m</th>\n",
       "      <th>var_inter_prob_m</th>\n",
       "      <th>var_inter_sigma_m</th>\n",
       "      <th>var_inter_index_s</th>\n",
       "      <th>var_inter_prob_s</th>\n",
       "      <th>var_inter_sigma_s</th>\n",
       "      <th>var_inter_index_u</th>\n",
       "      <th>var_inter_prob_u</th>\n",
       "      <th>var_inter_sigma_u</th>\n",
       "    </tr>\n",
       "    <tr>\n",
       "      <th>obs_id</th>\n",
       "      <th></th>\n",
       "      <th></th>\n",
       "      <th></th>\n",
       "      <th></th>\n",
       "      <th></th>\n",
       "      <th></th>\n",
       "      <th></th>\n",
       "      <th></th>\n",
       "      <th></th>\n",
       "      <th></th>\n",
       "      <th></th>\n",
       "      <th></th>\n",
       "      <th></th>\n",
       "      <th></th>\n",
       "      <th></th>\n",
       "      <th></th>\n",
       "      <th></th>\n",
       "      <th></th>\n",
       "      <th></th>\n",
       "      <th></th>\n",
       "      <th></th>\n",
       "    </tr>\n",
       "  </thead>\n",
       "  <tbody>\n",
       "    <tr>\n",
       "      <th>CV_0_obs_0</th>\n",
       "      <td>CV</td>\n",
       "      <td>CV_0</td>\n",
       "      <td>25</td>\n",
       "      <td>0.157954</td>\n",
       "      <td>2CXO J004247.1+411619</td>\n",
       "      <td>10.69654</td>\n",
       "      <td>41.27215</td>\n",
       "      <td>4103.7</td>\n",
       "      <td>52.93</td>\n",
       "      <td>16618.73000</td>\n",
       "      <td>...</td>\n",
       "      <td>NaN</td>\n",
       "      <td>NaN</td>\n",
       "      <td>NaN</td>\n",
       "      <td>NaN</td>\n",
       "      <td>5.0</td>\n",
       "      <td>0.989</td>\n",
       "      <td>2.546000e-05</td>\n",
       "      <td>NaN</td>\n",
       "      <td>NaN</td>\n",
       "      <td>NaN</td>\n",
       "    </tr>\n",
       "    <tr>\n",
       "      <th>CV_0_obs_1</th>\n",
       "      <td>CV</td>\n",
       "      <td>CV_0</td>\n",
       "      <td>25</td>\n",
       "      <td>0.157954</td>\n",
       "      <td>2CXO J004247.1+411619</td>\n",
       "      <td>10.69654</td>\n",
       "      <td>41.27215</td>\n",
       "      <td>3907.5</td>\n",
       "      <td>52.93</td>\n",
       "      <td>16618.73000</td>\n",
       "      <td>...</td>\n",
       "      <td>NaN</td>\n",
       "      <td>NaN</td>\n",
       "      <td>NaN</td>\n",
       "      <td>NaN</td>\n",
       "      <td>5.0</td>\n",
       "      <td>0.989</td>\n",
       "      <td>2.546000e-05</td>\n",
       "      <td>NaN</td>\n",
       "      <td>NaN</td>\n",
       "      <td>NaN</td>\n",
       "    </tr>\n",
       "    <tr>\n",
       "      <th>CV_0_obs_2</th>\n",
       "      <td>CV</td>\n",
       "      <td>CV_0</td>\n",
       "      <td>25</td>\n",
       "      <td>0.157954</td>\n",
       "      <td>2CXO J004247.1+411619</td>\n",
       "      <td>10.69654</td>\n",
       "      <td>41.27215</td>\n",
       "      <td>3907.5</td>\n",
       "      <td>52.93</td>\n",
       "      <td>16618.73000</td>\n",
       "      <td>...</td>\n",
       "      <td>NaN</td>\n",
       "      <td>NaN</td>\n",
       "      <td>NaN</td>\n",
       "      <td>NaN</td>\n",
       "      <td>5.0</td>\n",
       "      <td>0.989</td>\n",
       "      <td>2.546000e-05</td>\n",
       "      <td>NaN</td>\n",
       "      <td>NaN</td>\n",
       "      <td>NaN</td>\n",
       "    </tr>\n",
       "    <tr>\n",
       "      <th>CV_0_obs_3</th>\n",
       "      <td>CV</td>\n",
       "      <td>CV_0</td>\n",
       "      <td>25</td>\n",
       "      <td>0.157954</td>\n",
       "      <td>2CXO J004247.1+411619</td>\n",
       "      <td>10.69654</td>\n",
       "      <td>41.27215</td>\n",
       "      <td>3904.6</td>\n",
       "      <td>52.93</td>\n",
       "      <td>16618.73000</td>\n",
       "      <td>...</td>\n",
       "      <td>NaN</td>\n",
       "      <td>NaN</td>\n",
       "      <td>NaN</td>\n",
       "      <td>NaN</td>\n",
       "      <td>5.0</td>\n",
       "      <td>0.989</td>\n",
       "      <td>2.546000e-05</td>\n",
       "      <td>NaN</td>\n",
       "      <td>NaN</td>\n",
       "      <td>NaN</td>\n",
       "    </tr>\n",
       "    <tr>\n",
       "      <th>CV_0_obs_4</th>\n",
       "      <td>CV</td>\n",
       "      <td>CV_0</td>\n",
       "      <td>25</td>\n",
       "      <td>0.157954</td>\n",
       "      <td>2CXO J004247.1+411619</td>\n",
       "      <td>10.69654</td>\n",
       "      <td>41.27215</td>\n",
       "      <td>3907.5</td>\n",
       "      <td>52.93</td>\n",
       "      <td>16618.73000</td>\n",
       "      <td>...</td>\n",
       "      <td>NaN</td>\n",
       "      <td>NaN</td>\n",
       "      <td>NaN</td>\n",
       "      <td>NaN</td>\n",
       "      <td>5.0</td>\n",
       "      <td>0.989</td>\n",
       "      <td>2.546000e-05</td>\n",
       "      <td>NaN</td>\n",
       "      <td>NaN</td>\n",
       "      <td>NaN</td>\n",
       "    </tr>\n",
       "    <tr>\n",
       "      <th>...</th>\n",
       "      <td>...</td>\n",
       "      <td>...</td>\n",
       "      <td>...</td>\n",
       "      <td>...</td>\n",
       "      <td>...</td>\n",
       "      <td>...</td>\n",
       "      <td>...</td>\n",
       "      <td>...</td>\n",
       "      <td>...</td>\n",
       "      <td>...</td>\n",
       "      <td>...</td>\n",
       "      <td>...</td>\n",
       "      <td>...</td>\n",
       "      <td>...</td>\n",
       "      <td>...</td>\n",
       "      <td>...</td>\n",
       "      <td>...</td>\n",
       "      <td>...</td>\n",
       "      <td>...</td>\n",
       "      <td>...</td>\n",
       "      <td>...</td>\n",
       "    </tr>\n",
       "    <tr>\n",
       "      <th>CV_309_obs_0</th>\n",
       "      <td>CV</td>\n",
       "      <td>CV_309</td>\n",
       "      <td>1</td>\n",
       "      <td>0.877141</td>\n",
       "      <td>2CXO J174311.1-271622</td>\n",
       "      <td>265.79630</td>\n",
       "      <td>-27.27295</td>\n",
       "      <td>2156.9</td>\n",
       "      <td>2.53</td>\n",
       "      <td>20.88602</td>\n",
       "      <td>...</td>\n",
       "      <td>0.000004</td>\n",
       "      <td>5.0</td>\n",
       "      <td>0.802</td>\n",
       "      <td>1.246000e-06</td>\n",
       "      <td>NaN</td>\n",
       "      <td>NaN</td>\n",
       "      <td>NaN</td>\n",
       "      <td>NaN</td>\n",
       "      <td>NaN</td>\n",
       "      <td>NaN</td>\n",
       "    </tr>\n",
       "    <tr>\n",
       "      <th>CV_310_obs_0</th>\n",
       "      <td>CV</td>\n",
       "      <td>CV_310</td>\n",
       "      <td>1</td>\n",
       "      <td>3.687046</td>\n",
       "      <td>2CXO J040556.8+714816</td>\n",
       "      <td>61.48706</td>\n",
       "      <td>71.80466</td>\n",
       "      <td>28678.8</td>\n",
       "      <td>4.86</td>\n",
       "      <td>53.30116</td>\n",
       "      <td>...</td>\n",
       "      <td>NaN</td>\n",
       "      <td>NaN</td>\n",
       "      <td>NaN</td>\n",
       "      <td>NaN</td>\n",
       "      <td>NaN</td>\n",
       "      <td>NaN</td>\n",
       "      <td>NaN</td>\n",
       "      <td>NaN</td>\n",
       "      <td>NaN</td>\n",
       "      <td>NaN</td>\n",
       "    </tr>\n",
       "    <tr>\n",
       "      <th>CV_311_obs_0</th>\n",
       "      <td>CV</td>\n",
       "      <td>CV_311</td>\n",
       "      <td>1</td>\n",
       "      <td>0.073509</td>\n",
       "      <td>2CXO J191051.9-595840</td>\n",
       "      <td>287.71650</td>\n",
       "      <td>-59.97791</td>\n",
       "      <td>37966.9</td>\n",
       "      <td>2.61</td>\n",
       "      <td>27.11662</td>\n",
       "      <td>...</td>\n",
       "      <td>NaN</td>\n",
       "      <td>6.0</td>\n",
       "      <td>0.983</td>\n",
       "      <td>1.822000e-07</td>\n",
       "      <td>5.0</td>\n",
       "      <td>0.774</td>\n",
       "      <td>1.036000e-07</td>\n",
       "      <td>NaN</td>\n",
       "      <td>NaN</td>\n",
       "      <td>NaN</td>\n",
       "    </tr>\n",
       "    <tr>\n",
       "      <th>CV_312_obs_0</th>\n",
       "      <td>CV</td>\n",
       "      <td>CV_312</td>\n",
       "      <td>1</td>\n",
       "      <td>0.891817</td>\n",
       "      <td>2CXO J105545.1+573108</td>\n",
       "      <td>163.93810</td>\n",
       "      <td>57.51916</td>\n",
       "      <td>5683.9</td>\n",
       "      <td>3.17</td>\n",
       "      <td>38.66024</td>\n",
       "      <td>...</td>\n",
       "      <td>NaN</td>\n",
       "      <td>NaN</td>\n",
       "      <td>NaN</td>\n",
       "      <td>NaN</td>\n",
       "      <td>NaN</td>\n",
       "      <td>NaN</td>\n",
       "      <td>NaN</td>\n",
       "      <td>NaN</td>\n",
       "      <td>NaN</td>\n",
       "      <td>NaN</td>\n",
       "    </tr>\n",
       "    <tr>\n",
       "      <th>CV_313_obs_0</th>\n",
       "      <td>CV</td>\n",
       "      <td>CV_313</td>\n",
       "      <td>1</td>\n",
       "      <td>0.268618</td>\n",
       "      <td>2CXO J201536.9+371123</td>\n",
       "      <td>303.90390</td>\n",
       "      <td>37.18973</td>\n",
       "      <td>69268.4</td>\n",
       "      <td>78.58</td>\n",
       "      <td>41737.86000</td>\n",
       "      <td>...</td>\n",
       "      <td>NaN</td>\n",
       "      <td>NaN</td>\n",
       "      <td>NaN</td>\n",
       "      <td>NaN</td>\n",
       "      <td>NaN</td>\n",
       "      <td>NaN</td>\n",
       "      <td>NaN</td>\n",
       "      <td>NaN</td>\n",
       "      <td>NaN</td>\n",
       "      <td>NaN</td>\n",
       "    </tr>\n",
       "  </tbody>\n",
       "</table>\n",
       "<p>2101 rows × 87 columns</p>\n",
       "</div>"
      ]
     },
     "metadata": {},
     "execution_count": 32
    }
   ],
   "metadata": {}
  },
  {
   "cell_type": "code",
   "execution_count": 33,
   "source": [
    "data = pd.concat([data_cv , data_pl , data_lx] , axis=0)\n",
    "data"
   ],
   "outputs": [
    {
     "output_type": "execute_result",
     "data": {
      "text/plain": [
       "              class   src_id  num_obs      sepn                    name  \\\n",
       "obs_id                                                                    \n",
       "CV_0_obs_0       CV     CV_0       25  0.157954   2CXO J004247.1+411619   \n",
       "CV_0_obs_1       CV     CV_0       25  0.157954   2CXO J004247.1+411619   \n",
       "CV_0_obs_2       CV     CV_0       25  0.157954   2CXO J004247.1+411619   \n",
       "CV_0_obs_3       CV     CV_0       25  0.157954   2CXO J004247.1+411619   \n",
       "CV_0_obs_4       CV     CV_0       25  0.157954   2CXO J004247.1+411619   \n",
       "...             ...      ...      ...       ...                     ...   \n",
       "LMXB_90_obs_0    LX  LMXB_90        1  0.000000   2CXO J212314.5-054753   \n",
       "LMXB_91_obs_0    LX  LMXB_91        1  0.000000   2CXO J173547.0-302858   \n",
       "LMXB_92_obs_0    LX  LMXB_92        1  0.000000   2CXO J092920.1-312303   \n",
       "LMXB_96_obs_0    LX  LMXB_96        1  0.000000   2CXO J174955.3-291919   \n",
       "LMXB_97_obs_0    LX  LMXB_97        1  0.000000   2CXO J175113.6-303726   \n",
       "\n",
       "                      ra        dec  livetime  significance   likelihood  ...  \\\n",
       "obs_id                                                                    ...   \n",
       "CV_0_obs_0      10.69654  41.272150    4103.7         52.93  16618.73000  ...   \n",
       "CV_0_obs_1      10.69654  41.272150    3907.5         52.93  16618.73000  ...   \n",
       "CV_0_obs_2      10.69654  41.272150    3907.5         52.93  16618.73000  ...   \n",
       "CV_0_obs_3      10.69654  41.272150    3904.6         52.93  16618.73000  ...   \n",
       "CV_0_obs_4      10.69654  41.272150    3907.5         52.93  16618.73000  ...   \n",
       "...                  ...        ...       ...           ...          ...  ...   \n",
       "LMXB_90_obs_0  320.81060  -5.798128   17705.1          4.06    132.76700  ...   \n",
       "LMXB_91_obs_0  263.94590 -30.482820   18855.8          4.89    114.24570  ...   \n",
       "LMXB_92_obs_0  142.33410 -31.384270   24445.9          3.70     75.53454  ...   \n",
       "LMXB_96_obs_0  267.48070 -29.322090   14183.8          3.26     48.59275  ...   \n",
       "LMXB_97_obs_0  267.80690 -30.624030   42978.4          2.91     81.41561  ...   \n",
       "\n",
       "               var_inter_sigma_h  var_inter_index_m  var_inter_prob_m  \\\n",
       "obs_id                                                                  \n",
       "CV_0_obs_0                   NaN                NaN               NaN   \n",
       "CV_0_obs_1                   NaN                NaN               NaN   \n",
       "CV_0_obs_2                   NaN                NaN               NaN   \n",
       "CV_0_obs_3                   NaN                NaN               NaN   \n",
       "CV_0_obs_4                   NaN                NaN               NaN   \n",
       "...                          ...                ...               ...   \n",
       "LMXB_90_obs_0                NaN                NaN               NaN   \n",
       "LMXB_91_obs_0       8.934000e-09                5.0             0.800   \n",
       "LMXB_92_obs_0                NaN                NaN               NaN   \n",
       "LMXB_96_obs_0                NaN                NaN               NaN   \n",
       "LMXB_97_obs_0       5.385000e-08                0.0             0.144   \n",
       "\n",
       "               var_inter_sigma_m  var_inter_index_s  var_inter_prob_s  \\\n",
       "obs_id                                                                  \n",
       "CV_0_obs_0                   NaN                5.0             0.989   \n",
       "CV_0_obs_1                   NaN                5.0             0.989   \n",
       "CV_0_obs_2                   NaN                5.0             0.989   \n",
       "CV_0_obs_3                   NaN                5.0             0.989   \n",
       "CV_0_obs_4                   NaN                5.0             0.989   \n",
       "...                          ...                ...               ...   \n",
       "LMXB_90_obs_0                NaN                NaN               NaN   \n",
       "LMXB_91_obs_0       1.257000e-07                0.0             0.247   \n",
       "LMXB_92_obs_0                NaN                NaN               NaN   \n",
       "LMXB_96_obs_0                NaN                NaN               NaN   \n",
       "LMXB_97_obs_0       4.587000e-10                0.0             0.052   \n",
       "\n",
       "               var_inter_sigma_s  var_inter_index_u  var_inter_prob_u  \\\n",
       "obs_id                                                                  \n",
       "CV_0_obs_0          2.546000e-05                NaN               NaN   \n",
       "CV_0_obs_1          2.546000e-05                NaN               NaN   \n",
       "CV_0_obs_2          2.546000e-05                NaN               NaN   \n",
       "CV_0_obs_3          2.546000e-05                NaN               NaN   \n",
       "CV_0_obs_4          2.546000e-05                NaN               NaN   \n",
       "...                          ...                ...               ...   \n",
       "LMXB_90_obs_0                NaN                NaN               NaN   \n",
       "LMXB_91_obs_0       5.992000e-09                NaN               NaN   \n",
       "LMXB_92_obs_0                NaN                NaN               NaN   \n",
       "LMXB_96_obs_0                NaN                NaN               NaN   \n",
       "LMXB_97_obs_0       7.309000e-08                NaN               NaN   \n",
       "\n",
       "               var_inter_sigma_u  \n",
       "obs_id                            \n",
       "CV_0_obs_0                   NaN  \n",
       "CV_0_obs_1                   NaN  \n",
       "CV_0_obs_2                   NaN  \n",
       "CV_0_obs_3                   NaN  \n",
       "CV_0_obs_4                   NaN  \n",
       "...                          ...  \n",
       "LMXB_90_obs_0                NaN  \n",
       "LMXB_91_obs_0                NaN  \n",
       "LMXB_92_obs_0                NaN  \n",
       "LMXB_96_obs_0                NaN  \n",
       "LMXB_97_obs_0                NaN  \n",
       "\n",
       "[3690 rows x 87 columns]"
      ],
      "text/html": [
       "<div>\n",
       "<style scoped>\n",
       "    .dataframe tbody tr th:only-of-type {\n",
       "        vertical-align: middle;\n",
       "    }\n",
       "\n",
       "    .dataframe tbody tr th {\n",
       "        vertical-align: top;\n",
       "    }\n",
       "\n",
       "    .dataframe thead th {\n",
       "        text-align: right;\n",
       "    }\n",
       "</style>\n",
       "<table border=\"1\" class=\"dataframe\">\n",
       "  <thead>\n",
       "    <tr style=\"text-align: right;\">\n",
       "      <th></th>\n",
       "      <th>class</th>\n",
       "      <th>src_id</th>\n",
       "      <th>num_obs</th>\n",
       "      <th>sepn</th>\n",
       "      <th>name</th>\n",
       "      <th>ra</th>\n",
       "      <th>dec</th>\n",
       "      <th>livetime</th>\n",
       "      <th>significance</th>\n",
       "      <th>likelihood</th>\n",
       "      <th>...</th>\n",
       "      <th>var_inter_sigma_h</th>\n",
       "      <th>var_inter_index_m</th>\n",
       "      <th>var_inter_prob_m</th>\n",
       "      <th>var_inter_sigma_m</th>\n",
       "      <th>var_inter_index_s</th>\n",
       "      <th>var_inter_prob_s</th>\n",
       "      <th>var_inter_sigma_s</th>\n",
       "      <th>var_inter_index_u</th>\n",
       "      <th>var_inter_prob_u</th>\n",
       "      <th>var_inter_sigma_u</th>\n",
       "    </tr>\n",
       "    <tr>\n",
       "      <th>obs_id</th>\n",
       "      <th></th>\n",
       "      <th></th>\n",
       "      <th></th>\n",
       "      <th></th>\n",
       "      <th></th>\n",
       "      <th></th>\n",
       "      <th></th>\n",
       "      <th></th>\n",
       "      <th></th>\n",
       "      <th></th>\n",
       "      <th></th>\n",
       "      <th></th>\n",
       "      <th></th>\n",
       "      <th></th>\n",
       "      <th></th>\n",
       "      <th></th>\n",
       "      <th></th>\n",
       "      <th></th>\n",
       "      <th></th>\n",
       "      <th></th>\n",
       "      <th></th>\n",
       "    </tr>\n",
       "  </thead>\n",
       "  <tbody>\n",
       "    <tr>\n",
       "      <th>CV_0_obs_0</th>\n",
       "      <td>CV</td>\n",
       "      <td>CV_0</td>\n",
       "      <td>25</td>\n",
       "      <td>0.157954</td>\n",
       "      <td>2CXO J004247.1+411619</td>\n",
       "      <td>10.69654</td>\n",
       "      <td>41.272150</td>\n",
       "      <td>4103.7</td>\n",
       "      <td>52.93</td>\n",
       "      <td>16618.73000</td>\n",
       "      <td>...</td>\n",
       "      <td>NaN</td>\n",
       "      <td>NaN</td>\n",
       "      <td>NaN</td>\n",
       "      <td>NaN</td>\n",
       "      <td>5.0</td>\n",
       "      <td>0.989</td>\n",
       "      <td>2.546000e-05</td>\n",
       "      <td>NaN</td>\n",
       "      <td>NaN</td>\n",
       "      <td>NaN</td>\n",
       "    </tr>\n",
       "    <tr>\n",
       "      <th>CV_0_obs_1</th>\n",
       "      <td>CV</td>\n",
       "      <td>CV_0</td>\n",
       "      <td>25</td>\n",
       "      <td>0.157954</td>\n",
       "      <td>2CXO J004247.1+411619</td>\n",
       "      <td>10.69654</td>\n",
       "      <td>41.272150</td>\n",
       "      <td>3907.5</td>\n",
       "      <td>52.93</td>\n",
       "      <td>16618.73000</td>\n",
       "      <td>...</td>\n",
       "      <td>NaN</td>\n",
       "      <td>NaN</td>\n",
       "      <td>NaN</td>\n",
       "      <td>NaN</td>\n",
       "      <td>5.0</td>\n",
       "      <td>0.989</td>\n",
       "      <td>2.546000e-05</td>\n",
       "      <td>NaN</td>\n",
       "      <td>NaN</td>\n",
       "      <td>NaN</td>\n",
       "    </tr>\n",
       "    <tr>\n",
       "      <th>CV_0_obs_2</th>\n",
       "      <td>CV</td>\n",
       "      <td>CV_0</td>\n",
       "      <td>25</td>\n",
       "      <td>0.157954</td>\n",
       "      <td>2CXO J004247.1+411619</td>\n",
       "      <td>10.69654</td>\n",
       "      <td>41.272150</td>\n",
       "      <td>3907.5</td>\n",
       "      <td>52.93</td>\n",
       "      <td>16618.73000</td>\n",
       "      <td>...</td>\n",
       "      <td>NaN</td>\n",
       "      <td>NaN</td>\n",
       "      <td>NaN</td>\n",
       "      <td>NaN</td>\n",
       "      <td>5.0</td>\n",
       "      <td>0.989</td>\n",
       "      <td>2.546000e-05</td>\n",
       "      <td>NaN</td>\n",
       "      <td>NaN</td>\n",
       "      <td>NaN</td>\n",
       "    </tr>\n",
       "    <tr>\n",
       "      <th>CV_0_obs_3</th>\n",
       "      <td>CV</td>\n",
       "      <td>CV_0</td>\n",
       "      <td>25</td>\n",
       "      <td>0.157954</td>\n",
       "      <td>2CXO J004247.1+411619</td>\n",
       "      <td>10.69654</td>\n",
       "      <td>41.272150</td>\n",
       "      <td>3904.6</td>\n",
       "      <td>52.93</td>\n",
       "      <td>16618.73000</td>\n",
       "      <td>...</td>\n",
       "      <td>NaN</td>\n",
       "      <td>NaN</td>\n",
       "      <td>NaN</td>\n",
       "      <td>NaN</td>\n",
       "      <td>5.0</td>\n",
       "      <td>0.989</td>\n",
       "      <td>2.546000e-05</td>\n",
       "      <td>NaN</td>\n",
       "      <td>NaN</td>\n",
       "      <td>NaN</td>\n",
       "    </tr>\n",
       "    <tr>\n",
       "      <th>CV_0_obs_4</th>\n",
       "      <td>CV</td>\n",
       "      <td>CV_0</td>\n",
       "      <td>25</td>\n",
       "      <td>0.157954</td>\n",
       "      <td>2CXO J004247.1+411619</td>\n",
       "      <td>10.69654</td>\n",
       "      <td>41.272150</td>\n",
       "      <td>3907.5</td>\n",
       "      <td>52.93</td>\n",
       "      <td>16618.73000</td>\n",
       "      <td>...</td>\n",
       "      <td>NaN</td>\n",
       "      <td>NaN</td>\n",
       "      <td>NaN</td>\n",
       "      <td>NaN</td>\n",
       "      <td>5.0</td>\n",
       "      <td>0.989</td>\n",
       "      <td>2.546000e-05</td>\n",
       "      <td>NaN</td>\n",
       "      <td>NaN</td>\n",
       "      <td>NaN</td>\n",
       "    </tr>\n",
       "    <tr>\n",
       "      <th>...</th>\n",
       "      <td>...</td>\n",
       "      <td>...</td>\n",
       "      <td>...</td>\n",
       "      <td>...</td>\n",
       "      <td>...</td>\n",
       "      <td>...</td>\n",
       "      <td>...</td>\n",
       "      <td>...</td>\n",
       "      <td>...</td>\n",
       "      <td>...</td>\n",
       "      <td>...</td>\n",
       "      <td>...</td>\n",
       "      <td>...</td>\n",
       "      <td>...</td>\n",
       "      <td>...</td>\n",
       "      <td>...</td>\n",
       "      <td>...</td>\n",
       "      <td>...</td>\n",
       "      <td>...</td>\n",
       "      <td>...</td>\n",
       "      <td>...</td>\n",
       "    </tr>\n",
       "    <tr>\n",
       "      <th>LMXB_90_obs_0</th>\n",
       "      <td>LX</td>\n",
       "      <td>LMXB_90</td>\n",
       "      <td>1</td>\n",
       "      <td>0.000000</td>\n",
       "      <td>2CXO J212314.5-054753</td>\n",
       "      <td>320.81060</td>\n",
       "      <td>-5.798128</td>\n",
       "      <td>17705.1</td>\n",
       "      <td>4.06</td>\n",
       "      <td>132.76700</td>\n",
       "      <td>...</td>\n",
       "      <td>NaN</td>\n",
       "      <td>NaN</td>\n",
       "      <td>NaN</td>\n",
       "      <td>NaN</td>\n",
       "      <td>NaN</td>\n",
       "      <td>NaN</td>\n",
       "      <td>NaN</td>\n",
       "      <td>NaN</td>\n",
       "      <td>NaN</td>\n",
       "      <td>NaN</td>\n",
       "    </tr>\n",
       "    <tr>\n",
       "      <th>LMXB_91_obs_0</th>\n",
       "      <td>LX</td>\n",
       "      <td>LMXB_91</td>\n",
       "      <td>1</td>\n",
       "      <td>0.000000</td>\n",
       "      <td>2CXO J173547.0-302858</td>\n",
       "      <td>263.94590</td>\n",
       "      <td>-30.482820</td>\n",
       "      <td>18855.8</td>\n",
       "      <td>4.89</td>\n",
       "      <td>114.24570</td>\n",
       "      <td>...</td>\n",
       "      <td>8.934000e-09</td>\n",
       "      <td>5.0</td>\n",
       "      <td>0.800</td>\n",
       "      <td>1.257000e-07</td>\n",
       "      <td>0.0</td>\n",
       "      <td>0.247</td>\n",
       "      <td>5.992000e-09</td>\n",
       "      <td>NaN</td>\n",
       "      <td>NaN</td>\n",
       "      <td>NaN</td>\n",
       "    </tr>\n",
       "    <tr>\n",
       "      <th>LMXB_92_obs_0</th>\n",
       "      <td>LX</td>\n",
       "      <td>LMXB_92</td>\n",
       "      <td>1</td>\n",
       "      <td>0.000000</td>\n",
       "      <td>2CXO J092920.1-312303</td>\n",
       "      <td>142.33410</td>\n",
       "      <td>-31.384270</td>\n",
       "      <td>24445.9</td>\n",
       "      <td>3.70</td>\n",
       "      <td>75.53454</td>\n",
       "      <td>...</td>\n",
       "      <td>NaN</td>\n",
       "      <td>NaN</td>\n",
       "      <td>NaN</td>\n",
       "      <td>NaN</td>\n",
       "      <td>NaN</td>\n",
       "      <td>NaN</td>\n",
       "      <td>NaN</td>\n",
       "      <td>NaN</td>\n",
       "      <td>NaN</td>\n",
       "      <td>NaN</td>\n",
       "    </tr>\n",
       "    <tr>\n",
       "      <th>LMXB_96_obs_0</th>\n",
       "      <td>LX</td>\n",
       "      <td>LMXB_96</td>\n",
       "      <td>1</td>\n",
       "      <td>0.000000</td>\n",
       "      <td>2CXO J174955.3-291919</td>\n",
       "      <td>267.48070</td>\n",
       "      <td>-29.322090</td>\n",
       "      <td>14183.8</td>\n",
       "      <td>3.26</td>\n",
       "      <td>48.59275</td>\n",
       "      <td>...</td>\n",
       "      <td>NaN</td>\n",
       "      <td>NaN</td>\n",
       "      <td>NaN</td>\n",
       "      <td>NaN</td>\n",
       "      <td>NaN</td>\n",
       "      <td>NaN</td>\n",
       "      <td>NaN</td>\n",
       "      <td>NaN</td>\n",
       "      <td>NaN</td>\n",
       "      <td>NaN</td>\n",
       "    </tr>\n",
       "    <tr>\n",
       "      <th>LMXB_97_obs_0</th>\n",
       "      <td>LX</td>\n",
       "      <td>LMXB_97</td>\n",
       "      <td>1</td>\n",
       "      <td>0.000000</td>\n",
       "      <td>2CXO J175113.6-303726</td>\n",
       "      <td>267.80690</td>\n",
       "      <td>-30.624030</td>\n",
       "      <td>42978.4</td>\n",
       "      <td>2.91</td>\n",
       "      <td>81.41561</td>\n",
       "      <td>...</td>\n",
       "      <td>5.385000e-08</td>\n",
       "      <td>0.0</td>\n",
       "      <td>0.144</td>\n",
       "      <td>4.587000e-10</td>\n",
       "      <td>0.0</td>\n",
       "      <td>0.052</td>\n",
       "      <td>7.309000e-08</td>\n",
       "      <td>NaN</td>\n",
       "      <td>NaN</td>\n",
       "      <td>NaN</td>\n",
       "    </tr>\n",
       "  </tbody>\n",
       "</table>\n",
       "<p>3690 rows × 87 columns</p>\n",
       "</div>"
      ]
     },
     "metadata": {},
     "execution_count": 33
    }
   ],
   "metadata": {}
  },
  {
   "cell_type": "markdown",
   "source": [
    "# Remove sparse columns"
   ],
   "metadata": {}
  },
  {
   "cell_type": "code",
   "execution_count": 34,
   "source": [
    "sp = [] \n",
    "for f in feat_to_use:\n",
    "    #print(f)\n",
    "    na = data[feat_to_use][f].isna().value_counts()\n",
    "    try:\n",
    "        sp.append( float(1-na[0]/(na[0]+na[1])))\n",
    "    except:\n",
    "        sp.append(0)\n",
    "sp =  np.asarray(sp)\n",
    "sparsity = pd.DataFrame(\n",
    "    {\n",
    "        \"feat\" : feat_to_use ,\n",
    "        \"sp_val\" :sp\n",
    "    }\n",
    ").sort_values(by='sp_val' , ascending=False).reset_index(drop=True)\n",
    "sparsity"
   ],
   "outputs": [
    {
     "output_type": "execute_result",
     "data": {
      "text/plain": [
       "            feat   sp_val\n",
       "0    var_index_u  0.88916\n",
       "1      var_max_u  0.88916\n",
       "2      var_min_u  0.88916\n",
       "3     var_mean_u  0.88916\n",
       "4    var_sigma_u  0.88916\n",
       "..           ...      ...\n",
       "81            ra  0.00000\n",
       "82           dec  0.00000\n",
       "83      livetime  0.00000\n",
       "84  significance  0.00000\n",
       "85        src_id  0.00000\n",
       "\n",
       "[86 rows x 2 columns]"
      ],
      "text/html": [
       "<div>\n",
       "<style scoped>\n",
       "    .dataframe tbody tr th:only-of-type {\n",
       "        vertical-align: middle;\n",
       "    }\n",
       "\n",
       "    .dataframe tbody tr th {\n",
       "        vertical-align: top;\n",
       "    }\n",
       "\n",
       "    .dataframe thead th {\n",
       "        text-align: right;\n",
       "    }\n",
       "</style>\n",
       "<table border=\"1\" class=\"dataframe\">\n",
       "  <thead>\n",
       "    <tr style=\"text-align: right;\">\n",
       "      <th></th>\n",
       "      <th>feat</th>\n",
       "      <th>sp_val</th>\n",
       "    </tr>\n",
       "  </thead>\n",
       "  <tbody>\n",
       "    <tr>\n",
       "      <th>0</th>\n",
       "      <td>var_index_u</td>\n",
       "      <td>0.88916</td>\n",
       "    </tr>\n",
       "    <tr>\n",
       "      <th>1</th>\n",
       "      <td>var_max_u</td>\n",
       "      <td>0.88916</td>\n",
       "    </tr>\n",
       "    <tr>\n",
       "      <th>2</th>\n",
       "      <td>var_min_u</td>\n",
       "      <td>0.88916</td>\n",
       "    </tr>\n",
       "    <tr>\n",
       "      <th>3</th>\n",
       "      <td>var_mean_u</td>\n",
       "      <td>0.88916</td>\n",
       "    </tr>\n",
       "    <tr>\n",
       "      <th>4</th>\n",
       "      <td>var_sigma_u</td>\n",
       "      <td>0.88916</td>\n",
       "    </tr>\n",
       "    <tr>\n",
       "      <th>...</th>\n",
       "      <td>...</td>\n",
       "      <td>...</td>\n",
       "    </tr>\n",
       "    <tr>\n",
       "      <th>81</th>\n",
       "      <td>ra</td>\n",
       "      <td>0.00000</td>\n",
       "    </tr>\n",
       "    <tr>\n",
       "      <th>82</th>\n",
       "      <td>dec</td>\n",
       "      <td>0.00000</td>\n",
       "    </tr>\n",
       "    <tr>\n",
       "      <th>83</th>\n",
       "      <td>livetime</td>\n",
       "      <td>0.00000</td>\n",
       "    </tr>\n",
       "    <tr>\n",
       "      <th>84</th>\n",
       "      <td>significance</td>\n",
       "      <td>0.00000</td>\n",
       "    </tr>\n",
       "    <tr>\n",
       "      <th>85</th>\n",
       "      <td>src_id</td>\n",
       "      <td>0.00000</td>\n",
       "    </tr>\n",
       "  </tbody>\n",
       "</table>\n",
       "<p>86 rows × 2 columns</p>\n",
       "</div>"
      ]
     },
     "metadata": {},
     "execution_count": 34
    }
   ],
   "metadata": {}
  },
  {
   "cell_type": "code",
   "execution_count": 35,
   "source": [
    "feat_low_sparse = sparsity[sparsity['sp_val']<0.5].sort_values(by='sp_val').reset_index(drop=True)\n",
    "feat_low_sparse = feat_low_sparse['feat'].to_list()"
   ],
   "outputs": [],
   "metadata": {}
  },
  {
   "cell_type": "code",
   "execution_count": 36,
   "source": [
    "data_use = data[['class']+feat_low_sparse]\n",
    "data_use"
   ],
   "outputs": [
    {
     "output_type": "execute_result",
     "data": {
      "text/plain": [
       "              class   src_id  num_obs   likelihood      sepn  significance  \\\n",
       "obs_id                                                                       \n",
       "CV_0_obs_0       CV     CV_0       25  16618.73000  0.157954         52.93   \n",
       "CV_0_obs_1       CV     CV_0       25  16618.73000  0.157954         52.93   \n",
       "CV_0_obs_2       CV     CV_0       25  16618.73000  0.157954         52.93   \n",
       "CV_0_obs_3       CV     CV_0       25  16618.73000  0.157954         52.93   \n",
       "CV_0_obs_4       CV     CV_0       25  16618.73000  0.157954         52.93   \n",
       "...             ...      ...      ...          ...       ...           ...   \n",
       "LMXB_90_obs_0    LX  LMXB_90        1    132.76700  0.000000          4.06   \n",
       "LMXB_91_obs_0    LX  LMXB_91        1    114.24570  0.000000          4.89   \n",
       "LMXB_92_obs_0    LX  LMXB_92        1     75.53454  0.000000          3.70   \n",
       "LMXB_96_obs_0    LX  LMXB_96        1     48.59275  0.000000          3.26   \n",
       "LMXB_97_obs_0    LX  LMXB_97        1     81.41561  0.000000          2.91   \n",
       "\n",
       "                      ra        dec  livetime                    name  ...  \\\n",
       "obs_id                                                                 ...   \n",
       "CV_0_obs_0      10.69654  41.272150    4103.7   2CXO J004247.1+411619  ...   \n",
       "CV_0_obs_1      10.69654  41.272150    3907.5   2CXO J004247.1+411619  ...   \n",
       "CV_0_obs_2      10.69654  41.272150    3907.5   2CXO J004247.1+411619  ...   \n",
       "CV_0_obs_3      10.69654  41.272150    3904.6   2CXO J004247.1+411619  ...   \n",
       "CV_0_obs_4      10.69654  41.272150    3907.5   2CXO J004247.1+411619  ...   \n",
       "...                  ...        ...       ...                     ...  ...   \n",
       "LMXB_90_obs_0  320.81060  -5.798128   17705.1   2CXO J212314.5-054753  ...   \n",
       "LMXB_91_obs_0  263.94590 -30.482820   18855.8   2CXO J173547.0-302858  ...   \n",
       "LMXB_92_obs_0  142.33410 -31.384270   24445.9   2CXO J092920.1-312303  ...   \n",
       "LMXB_96_obs_0  267.48070 -29.322090   14183.8   2CXO J174955.3-291919  ...   \n",
       "LMXB_97_obs_0  267.80690 -30.624030   42978.4   2CXO J175113.6-303726  ...   \n",
       "\n",
       "               var_inter_prob_h  var_inter_sigma_h   flux_aper_u  var_max_b  \\\n",
       "obs_id                                                                        \n",
       "CV_0_obs_0                  NaN                NaN  0.000000e+00        NaN   \n",
       "CV_0_obs_1                  NaN                NaN  0.000000e+00        NaN   \n",
       "CV_0_obs_2                  NaN                NaN  0.000000e+00        NaN   \n",
       "CV_0_obs_3                  NaN                NaN  0.000000e+00        NaN   \n",
       "CV_0_obs_4                  NaN                NaN  0.000000e+00        NaN   \n",
       "...                         ...                ...           ...        ...   \n",
       "LMXB_90_obs_0               NaN                NaN  1.538000e-15   0.003517   \n",
       "LMXB_91_obs_0             0.234       8.934000e-09  0.000000e+00   0.002756   \n",
       "LMXB_92_obs_0               NaN                NaN  2.836000e-15   0.001005   \n",
       "LMXB_96_obs_0               NaN                NaN  0.000000e+00   0.001177   \n",
       "LMXB_97_obs_0             0.126       5.385000e-08  0.000000e+00   0.000664   \n",
       "\n",
       "               var_prob_b  ks_prob_b  kp_prob_b  var_sigma_b  var_mean_b  \\\n",
       "obs_id                                                                     \n",
       "CV_0_obs_0            NaN        NaN        NaN          NaN         NaN   \n",
       "CV_0_obs_1            NaN        NaN        NaN          NaN         NaN   \n",
       "CV_0_obs_2            NaN        NaN        NaN          NaN         NaN   \n",
       "CV_0_obs_3            NaN        NaN        NaN          NaN         NaN   \n",
       "CV_0_obs_4            NaN        NaN        NaN          NaN         NaN   \n",
       "...                   ...        ...        ...          ...         ...   \n",
       "LMXB_90_obs_0       0.807      0.265      0.211     0.000255    0.001171   \n",
       "LMXB_91_obs_0       0.451      0.735      0.547     0.000211    0.001623   \n",
       "LMXB_92_obs_0       0.607      0.940      0.789     0.000201    0.000740   \n",
       "LMXB_96_obs_0       0.355      0.602      0.532     0.000061    0.000905   \n",
       "LMXB_97_obs_0       0.800      0.965      0.982     0.000117    0.000264   \n",
       "\n",
       "               var_min_b  \n",
       "obs_id                    \n",
       "CV_0_obs_0           NaN  \n",
       "CV_0_obs_1           NaN  \n",
       "CV_0_obs_2           NaN  \n",
       "CV_0_obs_3           NaN  \n",
       "CV_0_obs_4           NaN  \n",
       "...                  ...  \n",
       "LMXB_90_obs_0   0.001060  \n",
       "LMXB_91_obs_0   0.001488  \n",
       "LMXB_92_obs_0   0.000511  \n",
       "LMXB_96_obs_0   0.000871  \n",
       "LMXB_97_obs_0   0.000175  \n",
       "\n",
       "[3690 rows x 42 columns]"
      ],
      "text/html": [
       "<div>\n",
       "<style scoped>\n",
       "    .dataframe tbody tr th:only-of-type {\n",
       "        vertical-align: middle;\n",
       "    }\n",
       "\n",
       "    .dataframe tbody tr th {\n",
       "        vertical-align: top;\n",
       "    }\n",
       "\n",
       "    .dataframe thead th {\n",
       "        text-align: right;\n",
       "    }\n",
       "</style>\n",
       "<table border=\"1\" class=\"dataframe\">\n",
       "  <thead>\n",
       "    <tr style=\"text-align: right;\">\n",
       "      <th></th>\n",
       "      <th>class</th>\n",
       "      <th>src_id</th>\n",
       "      <th>num_obs</th>\n",
       "      <th>likelihood</th>\n",
       "      <th>sepn</th>\n",
       "      <th>significance</th>\n",
       "      <th>ra</th>\n",
       "      <th>dec</th>\n",
       "      <th>livetime</th>\n",
       "      <th>name</th>\n",
       "      <th>...</th>\n",
       "      <th>var_inter_prob_h</th>\n",
       "      <th>var_inter_sigma_h</th>\n",
       "      <th>flux_aper_u</th>\n",
       "      <th>var_max_b</th>\n",
       "      <th>var_prob_b</th>\n",
       "      <th>ks_prob_b</th>\n",
       "      <th>kp_prob_b</th>\n",
       "      <th>var_sigma_b</th>\n",
       "      <th>var_mean_b</th>\n",
       "      <th>var_min_b</th>\n",
       "    </tr>\n",
       "    <tr>\n",
       "      <th>obs_id</th>\n",
       "      <th></th>\n",
       "      <th></th>\n",
       "      <th></th>\n",
       "      <th></th>\n",
       "      <th></th>\n",
       "      <th></th>\n",
       "      <th></th>\n",
       "      <th></th>\n",
       "      <th></th>\n",
       "      <th></th>\n",
       "      <th></th>\n",
       "      <th></th>\n",
       "      <th></th>\n",
       "      <th></th>\n",
       "      <th></th>\n",
       "      <th></th>\n",
       "      <th></th>\n",
       "      <th></th>\n",
       "      <th></th>\n",
       "      <th></th>\n",
       "      <th></th>\n",
       "    </tr>\n",
       "  </thead>\n",
       "  <tbody>\n",
       "    <tr>\n",
       "      <th>CV_0_obs_0</th>\n",
       "      <td>CV</td>\n",
       "      <td>CV_0</td>\n",
       "      <td>25</td>\n",
       "      <td>16618.73000</td>\n",
       "      <td>0.157954</td>\n",
       "      <td>52.93</td>\n",
       "      <td>10.69654</td>\n",
       "      <td>41.272150</td>\n",
       "      <td>4103.7</td>\n",
       "      <td>2CXO J004247.1+411619</td>\n",
       "      <td>...</td>\n",
       "      <td>NaN</td>\n",
       "      <td>NaN</td>\n",
       "      <td>0.000000e+00</td>\n",
       "      <td>NaN</td>\n",
       "      <td>NaN</td>\n",
       "      <td>NaN</td>\n",
       "      <td>NaN</td>\n",
       "      <td>NaN</td>\n",
       "      <td>NaN</td>\n",
       "      <td>NaN</td>\n",
       "    </tr>\n",
       "    <tr>\n",
       "      <th>CV_0_obs_1</th>\n",
       "      <td>CV</td>\n",
       "      <td>CV_0</td>\n",
       "      <td>25</td>\n",
       "      <td>16618.73000</td>\n",
       "      <td>0.157954</td>\n",
       "      <td>52.93</td>\n",
       "      <td>10.69654</td>\n",
       "      <td>41.272150</td>\n",
       "      <td>3907.5</td>\n",
       "      <td>2CXO J004247.1+411619</td>\n",
       "      <td>...</td>\n",
       "      <td>NaN</td>\n",
       "      <td>NaN</td>\n",
       "      <td>0.000000e+00</td>\n",
       "      <td>NaN</td>\n",
       "      <td>NaN</td>\n",
       "      <td>NaN</td>\n",
       "      <td>NaN</td>\n",
       "      <td>NaN</td>\n",
       "      <td>NaN</td>\n",
       "      <td>NaN</td>\n",
       "    </tr>\n",
       "    <tr>\n",
       "      <th>CV_0_obs_2</th>\n",
       "      <td>CV</td>\n",
       "      <td>CV_0</td>\n",
       "      <td>25</td>\n",
       "      <td>16618.73000</td>\n",
       "      <td>0.157954</td>\n",
       "      <td>52.93</td>\n",
       "      <td>10.69654</td>\n",
       "      <td>41.272150</td>\n",
       "      <td>3907.5</td>\n",
       "      <td>2CXO J004247.1+411619</td>\n",
       "      <td>...</td>\n",
       "      <td>NaN</td>\n",
       "      <td>NaN</td>\n",
       "      <td>0.000000e+00</td>\n",
       "      <td>NaN</td>\n",
       "      <td>NaN</td>\n",
       "      <td>NaN</td>\n",
       "      <td>NaN</td>\n",
       "      <td>NaN</td>\n",
       "      <td>NaN</td>\n",
       "      <td>NaN</td>\n",
       "    </tr>\n",
       "    <tr>\n",
       "      <th>CV_0_obs_3</th>\n",
       "      <td>CV</td>\n",
       "      <td>CV_0</td>\n",
       "      <td>25</td>\n",
       "      <td>16618.73000</td>\n",
       "      <td>0.157954</td>\n",
       "      <td>52.93</td>\n",
       "      <td>10.69654</td>\n",
       "      <td>41.272150</td>\n",
       "      <td>3904.6</td>\n",
       "      <td>2CXO J004247.1+411619</td>\n",
       "      <td>...</td>\n",
       "      <td>NaN</td>\n",
       "      <td>NaN</td>\n",
       "      <td>0.000000e+00</td>\n",
       "      <td>NaN</td>\n",
       "      <td>NaN</td>\n",
       "      <td>NaN</td>\n",
       "      <td>NaN</td>\n",
       "      <td>NaN</td>\n",
       "      <td>NaN</td>\n",
       "      <td>NaN</td>\n",
       "    </tr>\n",
       "    <tr>\n",
       "      <th>CV_0_obs_4</th>\n",
       "      <td>CV</td>\n",
       "      <td>CV_0</td>\n",
       "      <td>25</td>\n",
       "      <td>16618.73000</td>\n",
       "      <td>0.157954</td>\n",
       "      <td>52.93</td>\n",
       "      <td>10.69654</td>\n",
       "      <td>41.272150</td>\n",
       "      <td>3907.5</td>\n",
       "      <td>2CXO J004247.1+411619</td>\n",
       "      <td>...</td>\n",
       "      <td>NaN</td>\n",
       "      <td>NaN</td>\n",
       "      <td>0.000000e+00</td>\n",
       "      <td>NaN</td>\n",
       "      <td>NaN</td>\n",
       "      <td>NaN</td>\n",
       "      <td>NaN</td>\n",
       "      <td>NaN</td>\n",
       "      <td>NaN</td>\n",
       "      <td>NaN</td>\n",
       "    </tr>\n",
       "    <tr>\n",
       "      <th>...</th>\n",
       "      <td>...</td>\n",
       "      <td>...</td>\n",
       "      <td>...</td>\n",
       "      <td>...</td>\n",
       "      <td>...</td>\n",
       "      <td>...</td>\n",
       "      <td>...</td>\n",
       "      <td>...</td>\n",
       "      <td>...</td>\n",
       "      <td>...</td>\n",
       "      <td>...</td>\n",
       "      <td>...</td>\n",
       "      <td>...</td>\n",
       "      <td>...</td>\n",
       "      <td>...</td>\n",
       "      <td>...</td>\n",
       "      <td>...</td>\n",
       "      <td>...</td>\n",
       "      <td>...</td>\n",
       "      <td>...</td>\n",
       "      <td>...</td>\n",
       "    </tr>\n",
       "    <tr>\n",
       "      <th>LMXB_90_obs_0</th>\n",
       "      <td>LX</td>\n",
       "      <td>LMXB_90</td>\n",
       "      <td>1</td>\n",
       "      <td>132.76700</td>\n",
       "      <td>0.000000</td>\n",
       "      <td>4.06</td>\n",
       "      <td>320.81060</td>\n",
       "      <td>-5.798128</td>\n",
       "      <td>17705.1</td>\n",
       "      <td>2CXO J212314.5-054753</td>\n",
       "      <td>...</td>\n",
       "      <td>NaN</td>\n",
       "      <td>NaN</td>\n",
       "      <td>1.538000e-15</td>\n",
       "      <td>0.003517</td>\n",
       "      <td>0.807</td>\n",
       "      <td>0.265</td>\n",
       "      <td>0.211</td>\n",
       "      <td>0.000255</td>\n",
       "      <td>0.001171</td>\n",
       "      <td>0.001060</td>\n",
       "    </tr>\n",
       "    <tr>\n",
       "      <th>LMXB_91_obs_0</th>\n",
       "      <td>LX</td>\n",
       "      <td>LMXB_91</td>\n",
       "      <td>1</td>\n",
       "      <td>114.24570</td>\n",
       "      <td>0.000000</td>\n",
       "      <td>4.89</td>\n",
       "      <td>263.94590</td>\n",
       "      <td>-30.482820</td>\n",
       "      <td>18855.8</td>\n",
       "      <td>2CXO J173547.0-302858</td>\n",
       "      <td>...</td>\n",
       "      <td>0.234</td>\n",
       "      <td>8.934000e-09</td>\n",
       "      <td>0.000000e+00</td>\n",
       "      <td>0.002756</td>\n",
       "      <td>0.451</td>\n",
       "      <td>0.735</td>\n",
       "      <td>0.547</td>\n",
       "      <td>0.000211</td>\n",
       "      <td>0.001623</td>\n",
       "      <td>0.001488</td>\n",
       "    </tr>\n",
       "    <tr>\n",
       "      <th>LMXB_92_obs_0</th>\n",
       "      <td>LX</td>\n",
       "      <td>LMXB_92</td>\n",
       "      <td>1</td>\n",
       "      <td>75.53454</td>\n",
       "      <td>0.000000</td>\n",
       "      <td>3.70</td>\n",
       "      <td>142.33410</td>\n",
       "      <td>-31.384270</td>\n",
       "      <td>24445.9</td>\n",
       "      <td>2CXO J092920.1-312303</td>\n",
       "      <td>...</td>\n",
       "      <td>NaN</td>\n",
       "      <td>NaN</td>\n",
       "      <td>2.836000e-15</td>\n",
       "      <td>0.001005</td>\n",
       "      <td>0.607</td>\n",
       "      <td>0.940</td>\n",
       "      <td>0.789</td>\n",
       "      <td>0.000201</td>\n",
       "      <td>0.000740</td>\n",
       "      <td>0.000511</td>\n",
       "    </tr>\n",
       "    <tr>\n",
       "      <th>LMXB_96_obs_0</th>\n",
       "      <td>LX</td>\n",
       "      <td>LMXB_96</td>\n",
       "      <td>1</td>\n",
       "      <td>48.59275</td>\n",
       "      <td>0.000000</td>\n",
       "      <td>3.26</td>\n",
       "      <td>267.48070</td>\n",
       "      <td>-29.322090</td>\n",
       "      <td>14183.8</td>\n",
       "      <td>2CXO J174955.3-291919</td>\n",
       "      <td>...</td>\n",
       "      <td>NaN</td>\n",
       "      <td>NaN</td>\n",
       "      <td>0.000000e+00</td>\n",
       "      <td>0.001177</td>\n",
       "      <td>0.355</td>\n",
       "      <td>0.602</td>\n",
       "      <td>0.532</td>\n",
       "      <td>0.000061</td>\n",
       "      <td>0.000905</td>\n",
       "      <td>0.000871</td>\n",
       "    </tr>\n",
       "    <tr>\n",
       "      <th>LMXB_97_obs_0</th>\n",
       "      <td>LX</td>\n",
       "      <td>LMXB_97</td>\n",
       "      <td>1</td>\n",
       "      <td>81.41561</td>\n",
       "      <td>0.000000</td>\n",
       "      <td>2.91</td>\n",
       "      <td>267.80690</td>\n",
       "      <td>-30.624030</td>\n",
       "      <td>42978.4</td>\n",
       "      <td>2CXO J175113.6-303726</td>\n",
       "      <td>...</td>\n",
       "      <td>0.126</td>\n",
       "      <td>5.385000e-08</td>\n",
       "      <td>0.000000e+00</td>\n",
       "      <td>0.000664</td>\n",
       "      <td>0.800</td>\n",
       "      <td>0.965</td>\n",
       "      <td>0.982</td>\n",
       "      <td>0.000117</td>\n",
       "      <td>0.000264</td>\n",
       "      <td>0.000175</td>\n",
       "    </tr>\n",
       "  </tbody>\n",
       "</table>\n",
       "<p>3690 rows × 42 columns</p>\n",
       "</div>"
      ]
     },
     "metadata": {},
     "execution_count": 36
    }
   ],
   "metadata": {}
  },
  {
   "cell_type": "code",
   "execution_count": 37,
   "source": [
    "cva = data_use.query('src_id==\"CV_0\"')"
   ],
   "outputs": [],
   "metadata": {}
  },
  {
   "cell_type": "markdown",
   "source": [
    "## Take log"
   ],
   "metadata": {}
  },
  {
   "cell_type": "code",
   "execution_count": 39,
   "source": [
    "flux_feat = [\n",
    "    'photflux_aper_m' , \n",
    "    'flux_aper_h' , \n",
    "    'flux_aper_u',\n",
    "    'photflux_aper_b' , \n",
    "    'flux_aper_m',\n",
    "    'flux_aper_s',\n",
    "    'photflux_aper_h' , \n",
    "    'photflux_aper_s', \n",
    "    'photflux_aper_u' , \n",
    "    'flux_aper_b' , \n",
    "]\n",
    "def take_log(data_sent):\n",
    "    x_train_log = data_sent.copy()\n",
    "    for f in flux_feat[:]:\n",
    "        x_train_log.loc[:,f] = -(np.log10(x_train_log.loc[:,f]))\n",
    "    x_train_log = x_train_log.replace(-np.inf , np.nan)\n",
    "    x_train_log = x_train_log.replace(np.inf , np.nan)\n",
    "    return x_train_log"
   ],
   "outputs": [],
   "metadata": {}
  },
  {
   "cell_type": "markdown",
   "source": [
    "## Imputation"
   ],
   "metadata": {}
  },
  {
   "cell_type": "code",
   "execution_count": 40,
   "source": [
    "df_log = take_log(data_use)\n",
    "info_col_cl = info_col+['class']\n",
    "src_list = np.unique(df_log['src_id'])\n",
    "df_all_imp = pd.DataFrame()\n",
    "for s in tqdm(src_list[:]):\n",
    "    print('----------------------------------')\n",
    "    print(s)\n",
    "    temp = df_log[df_log['src_id']==s]\n",
    "    temp_val = temp.drop(columns=info_col_cl)\n",
    "    temp_id = temp[info_col_cl]\n",
    "    rf_imputer = MissForest(verbose=0 , decreasing=True)\n",
    "    #new_data = d.drop(columns= ['class'])\n",
    "    try:\n",
    "        new_data = rf_imputer.fit_transform(temp_val)\n",
    "        imp_data =  pd.DataFrame(new_data , columns = temp_val.columns.to_list()  , index=temp_val.index.to_list())\n",
    "        imp_data.index.name = 'obs_id'\n",
    "    except:\n",
    "        print('all col missing')\n",
    "        imp_data = temp_val\n",
    "    temp_imp = pd.concat([temp_id , imp_data] , axis = 1)\n",
    "    df_all_imp = df_all_imp.append(temp_imp)\n",
    "    #display(temp)\n",
    "    #display(temp_val)\n",
    "display(df_all_imp)"
   ],
   "outputs": [
    {
     "output_type": "stream",
     "name": "stderr",
     "text": [
      "/home/kumaran/.local/lib/python3.6/site-packages/pandas/core/series.py:726: RuntimeWarning: divide by zero encountered in log10\n",
      "  result = getattr(ufunc, method)(*inputs, **kwargs)\n",
      "  0%|          | 0/605 [00:00<?, ?it/s]"
     ]
    },
    {
     "output_type": "stream",
     "name": "stdout",
     "text": [
      "----------------------------------\n",
      "CV_0\n",
      "all col missing\n",
      "----------------------------------\n",
      "CV_1\n",
      "Iteration: 0\n",
      "Iteration: 1\n"
     ]
    },
    {
     "output_type": "stream",
     "name": "stderr",
     "text": [
      "  0%|          | 2/605 [00:15<1:19:28,  7.91s/it]"
     ]
    },
    {
     "output_type": "stream",
     "name": "stdout",
     "text": [
      "Iteration: 2\n",
      "----------------------------------\n",
      "CV_10\n",
      "Iteration: 0\n",
      "Iteration: 1\n",
      "Iteration: 2\n",
      "Iteration: 3\n",
      "Iteration: 4\n"
     ]
    },
    {
     "output_type": "stream",
     "name": "stderr",
     "text": [
      "  0%|          | 3/605 [00:48<3:01:21, 18.08s/it]"
     ]
    },
    {
     "output_type": "stream",
     "name": "stdout",
     "text": [
      "Iteration: 5\n",
      "----------------------------------\n",
      "CV_100\n",
      "all col missing\n",
      "----------------------------------\n",
      "CV_101\n",
      "Iteration: 0\n",
      "Iteration: 1\n",
      "Iteration: 2\n"
     ]
    },
    {
     "output_type": "stream",
     "name": "stderr",
     "text": [
      "  1%|          | 5/605 [01:10<2:23:28, 14.35s/it]"
     ]
    },
    {
     "output_type": "stream",
     "name": "stdout",
     "text": [
      "Iteration: 3\n",
      "----------------------------------\n",
      "CV_102\n",
      "all col missing\n",
      "----------------------------------\n",
      "CV_103\n",
      "all col missing\n",
      "----------------------------------\n",
      "CV_104\n",
      "all col missing\n",
      "----------------------------------\n",
      "CV_105\n",
      "----------------------------------\n",
      "CV_106\n"
     ]
    },
    {
     "output_type": "stream",
     "name": "stderr",
     "text": [
      "/home/kumaran/.local/lib/python3.6/site-packages/missingpy/missforest.py:528: UserWarning: No missing value located; returning original dataset.\n",
      "  warnings.warn(\"No missing value located; returning original \"\n"
     ]
    },
    {
     "output_type": "stream",
     "name": "stdout",
     "text": [
      "Iteration: 0\n",
      "Iteration: 1\n"
     ]
    },
    {
     "output_type": "stream",
     "name": "stderr",
     "text": [
      "  2%|▏         | 10/605 [01:12<50:35,  5.10s/it] "
     ]
    },
    {
     "output_type": "stream",
     "name": "stdout",
     "text": [
      "Iteration: 2\n",
      "----------------------------------\n",
      "CV_107\n",
      "all col missing\n",
      "----------------------------------\n",
      "CV_108\n",
      "----------------------------------\n",
      "CV_109\n",
      "----------------------------------\n",
      "CV_11\n",
      "all col missing\n",
      "----------------------------------\n",
      "CV_110\n"
     ]
    },
    {
     "output_type": "stream",
     "name": "stderr",
     "text": [
      "/home/kumaran/.local/lib/python3.6/site-packages/missingpy/missforest.py:528: UserWarning: No missing value located; returning original dataset.\n",
      "  warnings.warn(\"No missing value located; returning original \"\n",
      "/home/kumaran/.local/lib/python3.6/site-packages/missingpy/missforest.py:528: UserWarning: No missing value located; returning original dataset.\n",
      "  warnings.warn(\"No missing value located; returning original \"\n"
     ]
    },
    {
     "output_type": "stream",
     "name": "stdout",
     "text": [
      "Iteration: 0\n",
      "Iteration: 1\n"
     ]
    },
    {
     "output_type": "stream",
     "name": "stderr",
     "text": [
      "  2%|▏         | 15/605 [01:23<36:16,  3.69s/it]"
     ]
    },
    {
     "output_type": "stream",
     "name": "stdout",
     "text": [
      "Iteration: 2\n",
      "----------------------------------\n",
      "CV_111\n",
      "all col missing\n",
      "----------------------------------\n",
      "CV_112\n",
      "----------------------------------\n",
      "CV_113\n"
     ]
    },
    {
     "output_type": "stream",
     "name": "stderr",
     "text": [
      "/home/kumaran/.local/lib/python3.6/site-packages/missingpy/missforest.py:528: UserWarning: No missing value located; returning original dataset.\n",
      "  warnings.warn(\"No missing value located; returning original \"\n"
     ]
    },
    {
     "output_type": "stream",
     "name": "stdout",
     "text": [
      "Iteration: 0\n",
      "Iteration: 1\n",
      "Iteration: 2\n"
     ]
    },
    {
     "output_type": "stream",
     "name": "stderr",
     "text": [
      "  3%|▎         | 18/605 [01:30<32:42,  3.34s/it]"
     ]
    },
    {
     "output_type": "stream",
     "name": "stdout",
     "text": [
      "Iteration: 3\n",
      "----------------------------------\n",
      "CV_114\n",
      "Iteration: 0\n",
      "Iteration: 1\n"
     ]
    },
    {
     "output_type": "stream",
     "name": "stderr",
     "text": [
      "  3%|▎         | 19/605 [01:32<30:38,  3.14s/it]"
     ]
    },
    {
     "output_type": "stream",
     "name": "stdout",
     "text": [
      "Iteration: 2\n",
      "----------------------------------\n",
      "CV_115\n",
      "Iteration: 0\n",
      "Iteration: 1\n",
      "Iteration: 2\n"
     ]
    },
    {
     "output_type": "stream",
     "name": "stderr",
     "text": [
      "  3%|▎         | 20/605 [01:52<54:52,  5.63s/it]"
     ]
    },
    {
     "output_type": "stream",
     "name": "stdout",
     "text": [
      "Iteration: 3\n",
      "----------------------------------\n",
      "CV_116\n",
      "Iteration: 0\n",
      "Iteration: 1\n",
      "Iteration: 2\n",
      "Iteration: 3\n"
     ]
    },
    {
     "output_type": "stream",
     "name": "stderr",
     "text": [
      "  3%|▎         | 21/605 [02:17<1:28:44,  9.12s/it]"
     ]
    },
    {
     "output_type": "stream",
     "name": "stdout",
     "text": [
      "Iteration: 4\n",
      "----------------------------------\n",
      "CV_117\n",
      "all col missing\n",
      "----------------------------------\n",
      "CV_118\n",
      "Iteration: 0\n",
      "Iteration: 1\n"
     ]
    },
    {
     "output_type": "stream",
     "name": "stderr",
     "text": [
      "  4%|▍         | 23/605 [02:19<1:01:38,  6.35s/it]"
     ]
    },
    {
     "output_type": "stream",
     "name": "stdout",
     "text": [
      "Iteration: 2\n",
      "----------------------------------\n",
      "CV_119\n",
      "all col missing\n",
      "----------------------------------\n",
      "CV_12\n",
      "all col missing\n",
      "----------------------------------\n",
      "CV_120\n",
      "Iteration: 0\n"
     ]
    },
    {
     "output_type": "stream",
     "name": "stderr",
     "text": [
      "  4%|▍         | 26/605 [02:21<38:37,  4.00s/it]  "
     ]
    },
    {
     "output_type": "stream",
     "name": "stdout",
     "text": [
      "Iteration: 1\n",
      "----------------------------------\n",
      "CV_122\n",
      "all col missing\n",
      "----------------------------------\n",
      "CV_123\n",
      "all col missing\n",
      "----------------------------------\n",
      "CV_124\n",
      "Iteration: 0\n",
      "Iteration: 1\n"
     ]
    },
    {
     "output_type": "stream",
     "name": "stderr",
     "text": [
      "  5%|▍         | 29/605 [02:23<25:57,  2.70s/it]"
     ]
    },
    {
     "output_type": "stream",
     "name": "stdout",
     "text": [
      "Iteration: 2\n",
      "----------------------------------\n",
      "CV_125\n",
      "Iteration: 0\n",
      "Iteration: 1\n"
     ]
    },
    {
     "output_type": "stream",
     "name": "stderr",
     "text": [
      "  5%|▍         | 30/605 [02:36<41:21,  4.32s/it]"
     ]
    },
    {
     "output_type": "stream",
     "name": "stdout",
     "text": [
      "Iteration: 2\n",
      "----------------------------------\n",
      "CV_126\n",
      "all col missing\n",
      "----------------------------------\n",
      "CV_127\n",
      "all col missing\n",
      "----------------------------------\n",
      "CV_128\n",
      "all col missing\n",
      "----------------------------------\n",
      "CV_129\n",
      "Iteration: 0\n",
      "Iteration: 1\n"
     ]
    },
    {
     "output_type": "stream",
     "name": "stderr",
     "text": [
      "  6%|▌         | 34/605 [02:39<24:55,  2.62s/it]"
     ]
    },
    {
     "output_type": "stream",
     "name": "stdout",
     "text": [
      "Iteration: 2\n",
      "----------------------------------\n",
      "CV_13\n",
      "all col missing\n",
      "----------------------------------\n",
      "CV_130\n",
      "Iteration: 0\n"
     ]
    },
    {
     "output_type": "stream",
     "name": "stderr",
     "text": [
      "  6%|▌         | 36/605 [02:39<19:18,  2.04s/it]"
     ]
    },
    {
     "output_type": "stream",
     "name": "stdout",
     "text": [
      "Iteration: 1\n",
      "----------------------------------\n",
      "CV_131\n",
      "all col missing\n",
      "----------------------------------\n",
      "CV_132\n",
      "Iteration: 0\n",
      "Iteration: 1\n",
      "Iteration: 2\n",
      "Iteration: 3\n"
     ]
    },
    {
     "output_type": "stream",
     "name": "stderr",
     "text": [
      "  6%|▋         | 38/605 [03:02<42:23,  4.49s/it]"
     ]
    },
    {
     "output_type": "stream",
     "name": "stdout",
     "text": [
      "Iteration: 4\n",
      "----------------------------------\n",
      "CV_133\n",
      "all col missing\n",
      "----------------------------------\n",
      "CV_134\n",
      "all col missing\n",
      "----------------------------------\n",
      "CV_135\n",
      "all col missing\n",
      "----------------------------------\n",
      "CV_136\n",
      "Iteration: 0\n",
      "Iteration: 1\n",
      "Iteration: 2\n"
     ]
    },
    {
     "output_type": "stream",
     "name": "stderr",
     "text": [
      "  7%|▋         | 42/605 [03:04<26:17,  2.80s/it]"
     ]
    },
    {
     "output_type": "stream",
     "name": "stdout",
     "text": [
      "Iteration: 3\n",
      "----------------------------------\n",
      "CV_137\n",
      "all col missing\n",
      "----------------------------------\n",
      "CV_138\n",
      "all col missing\n",
      "----------------------------------\n",
      "CV_139\n",
      "Iteration: 0\n",
      "Iteration: 1\n"
     ]
    },
    {
     "output_type": "stream",
     "name": "stderr",
     "text": [
      "  7%|▋         | 45/605 [03:08<21:15,  2.28s/it]"
     ]
    },
    {
     "output_type": "stream",
     "name": "stdout",
     "text": [
      "Iteration: 2\n",
      "----------------------------------\n",
      "CV_14\n",
      "Iteration: 0\n",
      "Iteration: 1\n",
      "Iteration: 2\n"
     ]
    },
    {
     "output_type": "stream",
     "name": "stderr",
     "text": [
      "  9%|▉         | 53/605 [03:27<18:17,  1.99s/it]"
     ]
    },
    {
     "output_type": "stream",
     "name": "stdout",
     "text": [
      "Iteration: 3\n",
      "----------------------------------\n",
      "CV_140\n",
      "all col missing\n",
      "----------------------------------\n",
      "CV_141\n",
      "all col missing\n",
      "----------------------------------\n",
      "CV_142\n",
      "all col missing\n",
      "----------------------------------\n",
      "CV_143\n",
      "all col missing\n",
      "----------------------------------\n",
      "CV_144\n",
      "all col missing\n",
      "----------------------------------\n",
      "CV_145\n",
      "all col missing\n",
      "----------------------------------\n",
      "CV_146\n",
      "all col missing\n",
      "----------------------------------\n",
      "CV_147\n",
      "Iteration: 0\n",
      "Iteration: 1\n"
     ]
    },
    {
     "output_type": "stream",
     "name": "stderr",
     "text": [
      "  9%|▉         | 54/605 [03:41<29:23,  3.20s/it]"
     ]
    },
    {
     "output_type": "stream",
     "name": "stdout",
     "text": [
      "Iteration: 2\n",
      "----------------------------------\n",
      "CV_148\n",
      "Iteration: 0\n"
     ]
    },
    {
     "output_type": "stream",
     "name": "stderr",
     "text": [
      "  9%|▉         | 55/605 [03:54<40:31,  4.42s/it]"
     ]
    },
    {
     "output_type": "stream",
     "name": "stdout",
     "text": [
      "Iteration: 1\n",
      "----------------------------------\n",
      "CV_149\n",
      "Iteration: 0\n"
     ]
    },
    {
     "output_type": "stream",
     "name": "stderr",
     "text": [
      "  9%|▉         | 56/605 [04:06<50:47,  5.55s/it]"
     ]
    },
    {
     "output_type": "stream",
     "name": "stdout",
     "text": [
      "Iteration: 1\n",
      "----------------------------------\n",
      "CV_15\n",
      "Iteration: 0\n",
      "Iteration: 1\n"
     ]
    },
    {
     "output_type": "stream",
     "name": "stderr",
     "text": [
      "  9%|▉         | 57/605 [04:20<1:04:54,  7.11s/it]"
     ]
    },
    {
     "output_type": "stream",
     "name": "stdout",
     "text": [
      "Iteration: 2\n",
      "----------------------------------\n",
      "CV_150\n",
      "Iteration: 0\n",
      "Iteration: 1\n",
      "Iteration: 2\n"
     ]
    },
    {
     "output_type": "stream",
     "name": "stderr",
     "text": [
      " 10%|▉         | 58/605 [04:35<1:21:03,  8.89s/it]"
     ]
    },
    {
     "output_type": "stream",
     "name": "stdout",
     "text": [
      "Iteration: 3\n",
      "----------------------------------\n",
      "CV_151\n",
      "Iteration: 0\n"
     ]
    },
    {
     "output_type": "stream",
     "name": "stderr",
     "text": [
      " 10%|▉         | 59/605 [04:44<1:21:13,  8.93s/it]"
     ]
    },
    {
     "output_type": "stream",
     "name": "stdout",
     "text": [
      "Iteration: 1\n",
      "----------------------------------\n",
      "CV_152\n",
      "all col missing\n",
      "----------------------------------\n",
      "CV_153\n",
      "all col missing\n",
      "----------------------------------\n",
      "CV_155\n",
      "all col missing\n",
      "----------------------------------\n",
      "CV_156\n",
      "all col missing\n",
      "----------------------------------\n",
      "CV_157\n",
      "Iteration: 0\n",
      "Iteration: 1\n"
     ]
    },
    {
     "output_type": "stream",
     "name": "stderr",
     "text": [
      " 11%|█         | 64/605 [04:57<44:40,  4.96s/it]  "
     ]
    },
    {
     "output_type": "stream",
     "name": "stdout",
     "text": [
      "Iteration: 2\n",
      "----------------------------------\n",
      "CV_158\n",
      "all col missing\n",
      "----------------------------------\n",
      "CV_159\n",
      "all col missing\n",
      "----------------------------------\n",
      "CV_16\n",
      "Iteration: 0\n",
      "Iteration: 1\n",
      "Iteration: 2\n",
      "Iteration: 3\n",
      "Iteration: 4\n",
      "Iteration: 5\n"
     ]
    },
    {
     "output_type": "stream",
     "name": "stderr",
     "text": [
      " 11%|█         | 67/605 [05:29<1:02:13,  6.94s/it]"
     ]
    },
    {
     "output_type": "stream",
     "name": "stdout",
     "text": [
      "Iteration: 6\n",
      "----------------------------------\n",
      "CV_160\n",
      "----------------------------------\n",
      "CV_161\n"
     ]
    },
    {
     "output_type": "stream",
     "name": "stderr",
     "text": [
      "/home/kumaran/.local/lib/python3.6/site-packages/missingpy/missforest.py:528: UserWarning: No missing value located; returning original dataset.\n",
      "  warnings.warn(\"No missing value located; returning original \"\n"
     ]
    },
    {
     "output_type": "stream",
     "name": "stdout",
     "text": [
      "Iteration: 0\n",
      "Iteration: 1\n"
     ]
    },
    {
     "output_type": "stream",
     "name": "stderr",
     "text": [
      " 11%|█▏        | 69/605 [05:31<48:21,  5.41s/it]  "
     ]
    },
    {
     "output_type": "stream",
     "name": "stdout",
     "text": [
      "Iteration: 2\n",
      "----------------------------------\n",
      "CV_162\n",
      "Iteration: 0\n",
      "Iteration: 1\n",
      "Iteration: 2\n"
     ]
    },
    {
     "output_type": "stream",
     "name": "stderr",
     "text": [
      " 12%|█▏        | 71/605 [05:43<50:10,  5.64s/it]"
     ]
    },
    {
     "output_type": "stream",
     "name": "stdout",
     "text": [
      "Iteration: 3\n",
      "----------------------------------\n",
      "CV_163\n",
      "all col missing\n",
      "----------------------------------\n",
      "CV_164\n",
      "Iteration: 0\n"
     ]
    },
    {
     "output_type": "stream",
     "name": "stderr",
     "text": [
      " 12%|█▏        | 72/605 [05:51<52:28,  5.91s/it]"
     ]
    },
    {
     "output_type": "stream",
     "name": "stdout",
     "text": [
      "Iteration: 1\n",
      "----------------------------------\n",
      "CV_165\n",
      "all col missing\n",
      "----------------------------------\n",
      "CV_166\n",
      "all col missing\n",
      "----------------------------------\n",
      "CV_167\n",
      "all col missing\n",
      "----------------------------------\n",
      "CV_168\n",
      "Iteration: 0\n",
      "Iteration: 1\n"
     ]
    },
    {
     "output_type": "stream",
     "name": "stderr",
     "text": [
      " 13%|█▎        | 76/605 [05:52<29:05,  3.30s/it]"
     ]
    },
    {
     "output_type": "stream",
     "name": "stdout",
     "text": [
      "Iteration: 2\n",
      "----------------------------------\n",
      "CV_169\n",
      "all col missing\n",
      "----------------------------------\n",
      "CV_17\n",
      "all col missing\n",
      "----------------------------------\n",
      "CV_170\n",
      "Iteration: 0\n",
      "Iteration: 1\n",
      "Iteration: 2\n"
     ]
    },
    {
     "output_type": "stream",
     "name": "stderr",
     "text": [
      " 13%|█▎        | 79/605 [06:04<30:41,  3.50s/it]"
     ]
    },
    {
     "output_type": "stream",
     "name": "stdout",
     "text": [
      "Iteration: 3\n",
      "----------------------------------\n",
      "CV_171\n",
      "Iteration: 0\n",
      "Iteration: 1\n"
     ]
    },
    {
     "output_type": "stream",
     "name": "stderr",
     "text": [
      " 13%|█▎        | 80/605 [06:06<28:38,  3.27s/it]"
     ]
    },
    {
     "output_type": "stream",
     "name": "stdout",
     "text": [
      "Iteration: 2\n",
      "----------------------------------\n",
      "CV_172\n",
      "all col missing\n",
      "----------------------------------\n",
      "CV_173\n",
      "Iteration: 0\n",
      "Iteration: 1\n"
     ]
    },
    {
     "output_type": "stream",
     "name": "stderr",
     "text": [
      " 14%|█▎        | 82/605 [06:07<22:22,  2.57s/it]"
     ]
    },
    {
     "output_type": "stream",
     "name": "stdout",
     "text": [
      "Iteration: 2\n",
      "----------------------------------\n",
      "CV_174\n",
      "Iteration: 0\n",
      "Iteration: 1\n",
      "Iteration: 2\n"
     ]
    },
    {
     "output_type": "stream",
     "name": "stderr",
     "text": [
      " 14%|█▎        | 83/605 [06:10<21:57,  2.52s/it]"
     ]
    },
    {
     "output_type": "stream",
     "name": "stdout",
     "text": [
      "Iteration: 3\n",
      "----------------------------------\n",
      "CV_175\n",
      "all col missing\n",
      "----------------------------------\n",
      "CV_176\n",
      "Iteration: 0\n"
     ]
    },
    {
     "output_type": "stream",
     "name": "stderr",
     "text": [
      " 14%|█▍        | 85/605 [06:15<22:51,  2.64s/it]"
     ]
    },
    {
     "output_type": "stream",
     "name": "stdout",
     "text": [
      "Iteration: 1\n",
      "----------------------------------\n",
      "CV_177\n",
      "all col missing\n",
      "----------------------------------\n",
      "CV_178\n",
      "all col missing\n",
      "----------------------------------\n",
      "CV_179\n",
      "all col missing\n",
      "----------------------------------\n",
      "CV_18\n",
      "all col missing\n",
      "----------------------------------\n",
      "CV_180\n",
      "all col missing\n",
      "----------------------------------\n",
      "CV_181\n",
      "Iteration: 0\n"
     ]
    },
    {
     "output_type": "stream",
     "name": "stderr",
     "text": [
      " 15%|█▌        | 91/605 [06:16<10:21,  1.21s/it]"
     ]
    },
    {
     "output_type": "stream",
     "name": "stdout",
     "text": [
      "Iteration: 1\n",
      "----------------------------------\n",
      "CV_182\n",
      "all col missing\n",
      "----------------------------------\n",
      "CV_183\n",
      "all col missing\n",
      "----------------------------------\n",
      "CV_184\n",
      "all col missing\n",
      "----------------------------------\n",
      "CV_185\n",
      "all col missing\n",
      "----------------------------------\n",
      "CV_186\n",
      "Iteration: 0\n",
      "Iteration: 1\n"
     ]
    },
    {
     "output_type": "stream",
     "name": "stderr",
     "text": [
      " 16%|█▌        | 96/605 [06:19<07:44,  1.10it/s]"
     ]
    },
    {
     "output_type": "stream",
     "name": "stdout",
     "text": [
      "Iteration: 2\n",
      "----------------------------------\n",
      "CV_187\n",
      "all col missing\n",
      "----------------------------------\n",
      "CV_188\n",
      "all col missing\n",
      "----------------------------------\n",
      "CV_189\n",
      "all col missing\n",
      "----------------------------------\n",
      "CV_19\n",
      "Iteration: 0\n"
     ]
    },
    {
     "output_type": "stream",
     "name": "stderr",
     "text": [
      " 17%|█▋        | 100/605 [06:27<10:49,  1.29s/it]"
     ]
    },
    {
     "output_type": "stream",
     "name": "stdout",
     "text": [
      "Iteration: 1\n",
      "----------------------------------\n",
      "CV_190\n",
      "all col missing\n",
      "----------------------------------\n",
      "CV_191\n",
      "----------------------------------\n",
      "CV_192\n",
      "all col missing\n",
      "----------------------------------\n",
      "CV_193\n",
      "all col missing\n",
      "----------------------------------\n",
      "CV_194\n",
      "all col missing\n",
      "----------------------------------\n",
      "CV_195\n",
      "all col missing\n",
      "----------------------------------\n",
      "CV_196\n",
      "all col missing\n",
      "----------------------------------\n",
      "CV_197\n"
     ]
    },
    {
     "output_type": "stream",
     "name": "stderr",
     "text": [
      "/home/kumaran/.local/lib/python3.6/site-packages/missingpy/missforest.py:528: UserWarning: No missing value located; returning original dataset.\n",
      "  warnings.warn(\"No missing value located; returning original \"\n"
     ]
    },
    {
     "output_type": "stream",
     "name": "stdout",
     "text": [
      "Iteration: 0\n",
      "Iteration: 1\n"
     ]
    },
    {
     "output_type": "stream",
     "name": "stderr",
     "text": [
      " 18%|█▊        | 108/605 [06:30<06:49,  1.21it/s]"
     ]
    },
    {
     "output_type": "stream",
     "name": "stdout",
     "text": [
      "Iteration: 2\n",
      "----------------------------------\n",
      "CV_198\n",
      "----------------------------------\n",
      "CV_199\n"
     ]
    },
    {
     "output_type": "stream",
     "name": "stderr",
     "text": [
      "/home/kumaran/.local/lib/python3.6/site-packages/missingpy/missforest.py:528: UserWarning: No missing value located; returning original dataset.\n",
      "  warnings.warn(\"No missing value located; returning original \"\n"
     ]
    },
    {
     "output_type": "stream",
     "name": "stdout",
     "text": [
      "Iteration: 0\n",
      "Iteration: 1\n"
     ]
    },
    {
     "output_type": "stream",
     "name": "stderr",
     "text": [
      " 18%|█▊        | 110/605 [06:32<06:59,  1.18it/s]"
     ]
    },
    {
     "output_type": "stream",
     "name": "stdout",
     "text": [
      "Iteration: 2\n",
      "----------------------------------\n",
      "CV_2\n",
      "Iteration: 0\n",
      "Iteration: 1\n",
      "Iteration: 2\n",
      "Iteration: 3\n"
     ]
    },
    {
     "output_type": "stream",
     "name": "stderr",
     "text": [
      " 18%|█▊        | 111/605 [06:56<25:11,  3.06s/it]"
     ]
    },
    {
     "output_type": "stream",
     "name": "stdout",
     "text": [
      "Iteration: 4\n",
      "----------------------------------\n",
      "CV_20\n",
      "all col missing\n",
      "----------------------------------\n",
      "CV_200\n",
      "all col missing\n",
      "----------------------------------\n",
      "CV_201\n",
      "Iteration: 0\n",
      "Iteration: 1\n"
     ]
    },
    {
     "output_type": "stream",
     "name": "stderr",
     "text": [
      " 19%|█▉        | 114/605 [06:58<19:08,  2.34s/it]"
     ]
    },
    {
     "output_type": "stream",
     "name": "stdout",
     "text": [
      "Iteration: 2\n",
      "----------------------------------\n",
      "CV_202\n",
      "all col missing\n",
      "----------------------------------\n",
      "CV_203\n",
      "all col missing\n",
      "----------------------------------\n",
      "CV_204\n",
      "all col missing\n",
      "----------------------------------\n",
      "CV_205\n",
      "all col missing\n",
      "----------------------------------\n",
      "CV_206\n",
      "----------------------------------\n",
      "CV_207\n",
      "all col missing\n",
      "----------------------------------\n",
      "CV_208\n"
     ]
    },
    {
     "output_type": "stream",
     "name": "stderr",
     "text": [
      "/home/kumaran/.local/lib/python3.6/site-packages/missingpy/missforest.py:528: UserWarning: No missing value located; returning original dataset.\n",
      "  warnings.warn(\"No missing value located; returning original \"\n"
     ]
    },
    {
     "output_type": "stream",
     "name": "stdout",
     "text": [
      "Iteration: 0\n",
      "Iteration: 1\n"
     ]
    },
    {
     "output_type": "stream",
     "name": "stderr",
     "text": [
      " 20%|██        | 121/605 [07:03<12:45,  1.58s/it]"
     ]
    },
    {
     "output_type": "stream",
     "name": "stdout",
     "text": [
      "Iteration: 2\n",
      "----------------------------------\n",
      "CV_209\n",
      "----------------------------------\n",
      "CV_21\n"
     ]
    },
    {
     "output_type": "stream",
     "name": "stderr",
     "text": [
      "/home/kumaran/.local/lib/python3.6/site-packages/missingpy/missforest.py:528: UserWarning: No missing value located; returning original dataset.\n",
      "  warnings.warn(\"No missing value located; returning original \"\n"
     ]
    },
    {
     "output_type": "stream",
     "name": "stdout",
     "text": [
      "Iteration: 0\n",
      "Iteration: 1\n",
      "Iteration: 2\n",
      "Iteration: 3\n"
     ]
    },
    {
     "output_type": "stream",
     "name": "stderr",
     "text": [
      " 20%|██        | 123/605 [07:26<25:32,  3.18s/it]"
     ]
    },
    {
     "output_type": "stream",
     "name": "stdout",
     "text": [
      "Iteration: 4\n",
      "----------------------------------\n",
      "CV_210\n",
      "all col missing\n",
      "----------------------------------\n",
      "CV_211\n",
      "all col missing\n",
      "----------------------------------\n",
      "CV_212\n",
      "all col missing\n",
      "----------------------------------\n",
      "CV_213\n",
      "all col missing\n",
      "----------------------------------\n",
      "CV_214\n",
      "all col missing\n",
      "----------------------------------\n",
      "CV_215\n",
      "all col missing\n",
      "----------------------------------\n",
      "CV_216\n",
      "all col missing\n",
      "----------------------------------\n",
      "CV_217\n",
      "Iteration: 0\n",
      "Iteration: 1\n"
     ]
    },
    {
     "output_type": "stream",
     "name": "stderr",
     "text": [
      " 22%|██▏       | 131/605 [07:26<13:17,  1.68s/it]"
     ]
    },
    {
     "output_type": "stream",
     "name": "stdout",
     "text": [
      "Iteration: 2\n",
      "----------------------------------\n",
      "CV_218\n",
      "Iteration: 0\n",
      "Iteration: 1\n"
     ]
    },
    {
     "output_type": "stream",
     "name": "stderr",
     "text": [
      " 23%|██▎       | 142/605 [07:39<09:18,  1.21s/it]"
     ]
    },
    {
     "output_type": "stream",
     "name": "stdout",
     "text": [
      "Iteration: 2\n",
      "----------------------------------\n",
      "CV_219\n",
      "all col missing\n",
      "----------------------------------\n",
      "CV_22\n",
      "all col missing\n",
      "----------------------------------\n",
      "CV_221\n",
      "all col missing\n",
      "----------------------------------\n",
      "CV_223\n",
      "all col missing\n",
      "----------------------------------\n",
      "CV_224\n",
      "all col missing\n",
      "----------------------------------\n",
      "CV_225\n",
      "all col missing\n",
      "----------------------------------\n",
      "CV_226\n",
      "all col missing\n",
      "----------------------------------\n",
      "CV_227\n",
      "all col missing\n",
      "----------------------------------\n",
      "CV_228\n",
      "all col missing\n",
      "----------------------------------\n",
      "CV_229\n",
      "all col missing\n",
      "----------------------------------\n",
      "CV_23\n",
      "Iteration: 0\n",
      "Iteration: 1\n"
     ]
    },
    {
     "output_type": "stream",
     "name": "stderr",
     "text": [
      " 23%|██▎       | 142/605 [07:50<09:18,  1.21s/it]"
     ]
    },
    {
     "output_type": "stream",
     "name": "stdout",
     "text": [
      "Iteration: 2\n",
      "Iteration: 3\n"
     ]
    },
    {
     "output_type": "stream",
     "name": "stderr",
     "text": [
      " 24%|██▎       | 143/605 [08:02<20:50,  2.71s/it]"
     ]
    },
    {
     "output_type": "stream",
     "name": "stdout",
     "text": [
      "Iteration: 4\n",
      "----------------------------------\n",
      "CV_233\n",
      "all col missing\n",
      "----------------------------------\n",
      "CV_234\n",
      "all col missing\n",
      "----------------------------------\n",
      "CV_235\n",
      "all col missing\n",
      "----------------------------------\n",
      "CV_236\n",
      "all col missing\n",
      "----------------------------------\n",
      "CV_237\n",
      "all col missing\n",
      "----------------------------------\n",
      "CV_238\n",
      "all col missing\n",
      "----------------------------------\n",
      "CV_239\n",
      "all col missing\n",
      "----------------------------------\n",
      "CV_24\n",
      "Iteration: 0\n",
      "Iteration: 1\n",
      "Iteration: 2\n",
      "Iteration: 3\n"
     ]
    },
    {
     "output_type": "stream",
     "name": "stderr",
     "text": [
      " 25%|██▍       | 151/605 [08:25<21:14,  2.81s/it]/home/kumaran/.local/lib/python3.6/site-packages/missingpy/missforest.py:528: UserWarning: No missing value located; returning original dataset.\n",
      "  warnings.warn(\"No missing value located; returning original \"\n",
      " 26%|██▋       | 159/605 [08:25<12:46,  1.72s/it]"
     ]
    },
    {
     "output_type": "stream",
     "name": "stdout",
     "text": [
      "Iteration: 4\n",
      "----------------------------------\n",
      "CV_240\n",
      "all col missing\n",
      "----------------------------------\n",
      "CV_241\n",
      "all col missing\n",
      "----------------------------------\n",
      "CV_242\n",
      "all col missing\n",
      "----------------------------------\n",
      "CV_243\n",
      "all col missing\n",
      "----------------------------------\n",
      "CV_244\n",
      "all col missing\n",
      "----------------------------------\n",
      "CV_245\n",
      "all col missing\n",
      "----------------------------------\n",
      "CV_247\n",
      "----------------------------------\n",
      "CV_248\n",
      "all col missing\n",
      "----------------------------------\n",
      "CV_25\n",
      "Iteration: 0\n",
      "Iteration: 1\n",
      "Iteration: 2\n"
     ]
    },
    {
     "output_type": "stream",
     "name": "stderr",
     "text": [
      " 26%|██▋       | 159/605 [08:40<12:46,  1.72s/it]"
     ]
    },
    {
     "output_type": "stream",
     "name": "stdout",
     "text": [
      "Iteration: 3\n"
     ]
    },
    {
     "output_type": "stream",
     "name": "stderr",
     "text": [
      " 26%|██▋       | 160/605 [08:48<22:51,  3.08s/it]"
     ]
    },
    {
     "output_type": "stream",
     "name": "stdout",
     "text": [
      "Iteration: 4\n",
      "----------------------------------\n",
      "CV_250\n",
      "all col missing\n",
      "----------------------------------\n",
      "CV_252\n",
      "all col missing\n",
      "----------------------------------\n",
      "CV_253\n",
      "all col missing\n",
      "----------------------------------\n",
      "CV_254\n",
      "all col missing\n",
      "----------------------------------\n",
      "CV_255\n",
      "all col missing\n",
      "----------------------------------\n",
      "CV_256\n",
      "all col missing\n",
      "----------------------------------\n",
      "CV_257\n",
      "all col missing\n",
      "----------------------------------\n",
      "CV_258\n",
      "all col missing\n",
      "----------------------------------\n",
      "CV_259\n",
      "all col missing\n",
      "----------------------------------\n",
      "CV_26\n",
      "Iteration: 0\n",
      "Iteration: 1\n",
      "Iteration: 2\n"
     ]
    },
    {
     "output_type": "stream",
     "name": "stderr",
     "text": [
      " 30%|██▉       | 180/605 [09:09<10:56,  1.54s/it]"
     ]
    },
    {
     "output_type": "stream",
     "name": "stdout",
     "text": [
      "Iteration: 3\n",
      "----------------------------------\n",
      "CV_261\n",
      "all col missing\n",
      "----------------------------------\n",
      "CV_262\n",
      "all col missing\n",
      "----------------------------------\n",
      "CV_263\n",
      "all col missing\n",
      "----------------------------------\n",
      "CV_264\n",
      "all col missing\n",
      "----------------------------------\n",
      "CV_265\n",
      "all col missing\n",
      "----------------------------------\n",
      "CV_266\n",
      "all col missing\n",
      "----------------------------------\n",
      "CV_267\n",
      "all col missing\n",
      "----------------------------------\n",
      "CV_268\n",
      "all col missing\n",
      "----------------------------------\n",
      "CV_269\n",
      "all col missing\n",
      "----------------------------------\n",
      "CV_27\n",
      "all col missing\n",
      "----------------------------------\n",
      "CV_270\n",
      "all col missing\n",
      "----------------------------------\n",
      "CV_271\n",
      "all col missing\n",
      "----------------------------------\n",
      "CV_272\n",
      "all col missing\n",
      "----------------------------------\n",
      "CV_273\n",
      "all col missing\n",
      "----------------------------------\n",
      "CV_275\n",
      "all col missing\n",
      "----------------------------------\n",
      "CV_276\n",
      "all col missing\n",
      "----------------------------------\n",
      "CV_277\n",
      "all col missing\n",
      "----------------------------------\n",
      "CV_278\n",
      "all col missing\n",
      "----------------------------------\n",
      "CV_279\n",
      "all col missing\n",
      "----------------------------------\n",
      "CV_28\n",
      "all col missing\n",
      "----------------------------------\n",
      "CV_280\n",
      "all col missing\n"
     ]
    },
    {
     "output_type": "stream",
     "name": "stderr",
     "text": [
      " 33%|███▎      | 201/605 [09:09<04:17,  1.57it/s]"
     ]
    },
    {
     "output_type": "stream",
     "name": "stdout",
     "text": [
      "----------------------------------\n",
      "CV_281\n",
      "all col missing\n",
      "----------------------------------\n",
      "CV_282\n",
      "all col missing\n",
      "----------------------------------\n",
      "CV_283\n",
      "all col missing\n",
      "----------------------------------\n",
      "CV_284\n",
      "all col missing\n",
      "----------------------------------\n",
      "CV_285\n",
      "all col missing\n",
      "----------------------------------\n",
      "CV_286\n",
      "all col missing\n",
      "----------------------------------\n",
      "CV_287\n",
      "all col missing\n",
      "----------------------------------\n",
      "CV_288\n",
      "all col missing\n",
      "----------------------------------\n",
      "CV_289\n",
      "all col missing\n",
      "----------------------------------\n",
      "CV_29\n",
      "all col missing\n",
      "----------------------------------\n",
      "CV_290\n",
      "all col missing\n",
      "----------------------------------\n",
      "CV_291\n",
      "all col missing\n",
      "----------------------------------\n",
      "CV_292\n",
      "all col missing\n",
      "----------------------------------\n",
      "CV_293\n",
      "all col missing\n",
      "----------------------------------\n",
      "CV_294\n",
      "all col missing\n",
      "----------------------------------\n",
      "CV_295\n",
      "all col missing\n",
      "----------------------------------\n",
      "CV_296\n",
      "all col missing\n",
      "----------------------------------\n",
      "CV_297\n",
      "all col missing\n",
      "----------------------------------\n",
      "CV_298\n",
      "----------------------------------\n",
      "CV_299\n",
      "all col missing\n",
      "----------------------------------\n",
      "CV_3\n"
     ]
    },
    {
     "output_type": "stream",
     "name": "stderr",
     "text": [
      "/home/kumaran/.local/lib/python3.6/site-packages/missingpy/missforest.py:528: UserWarning: No missing value located; returning original dataset.\n",
      "  warnings.warn(\"No missing value located; returning original \"\n"
     ]
    },
    {
     "output_type": "stream",
     "name": "stdout",
     "text": [
      "Iteration: 0\n",
      "Iteration: 1\n"
     ]
    },
    {
     "output_type": "stream",
     "name": "stderr",
     "text": [
      " 37%|███▋      | 221/605 [09:20<03:25,  1.87it/s]"
     ]
    },
    {
     "output_type": "stream",
     "name": "stdout",
     "text": [
      "Iteration: 2\n",
      "----------------------------------\n",
      "CV_30\n",
      "all col missing\n",
      "----------------------------------\n",
      "CV_300\n",
      "all col missing\n",
      "----------------------------------\n",
      "CV_301\n",
      "all col missing\n",
      "----------------------------------\n",
      "CV_302\n",
      "all col missing\n",
      "----------------------------------\n",
      "CV_303\n",
      "all col missing\n",
      "----------------------------------\n",
      "CV_304\n",
      "all col missing\n",
      "----------------------------------\n",
      "CV_305\n",
      "all col missing\n",
      "----------------------------------\n",
      "CV_306\n",
      "all col missing\n",
      "----------------------------------\n",
      "CV_307\n",
      "all col missing\n",
      "----------------------------------\n",
      "CV_308\n",
      "all col missing\n",
      "----------------------------------\n",
      "CV_309\n",
      "all col missing\n",
      "----------------------------------\n",
      "CV_31\n",
      "all col missing\n",
      "----------------------------------\n",
      "CV_310\n",
      "all col missing\n",
      "----------------------------------\n",
      "CV_311\n",
      "all col missing\n",
      "----------------------------------\n",
      "CV_312\n",
      "all col missing\n",
      "----------------------------------\n",
      "CV_313\n",
      "all col missing\n",
      "----------------------------------\n",
      "CV_32\n",
      "all col missing\n",
      "----------------------------------\n",
      "CV_33\n",
      "Iteration: 0\n",
      "Iteration: 1\n",
      "Iteration: 2\n"
     ]
    },
    {
     "output_type": "stream",
     "name": "stderr",
     "text": [
      " 37%|███▋      | 221/605 [09:40<03:25,  1.87it/s]"
     ]
    },
    {
     "output_type": "stream",
     "name": "stdout",
     "text": [
      "Iteration: 3\n"
     ]
    },
    {
     "output_type": "stream",
     "name": "stderr",
     "text": [
      " 38%|███▊      | 230/605 [09:48<08:04,  1.29s/it]"
     ]
    },
    {
     "output_type": "stream",
     "name": "stdout",
     "text": [
      "Iteration: 4\n",
      "----------------------------------\n",
      "CV_34\n",
      "all col missing\n",
      "----------------------------------\n",
      "CV_35\n",
      "Iteration: 0\n",
      "Iteration: 1\n"
     ]
    },
    {
     "output_type": "stream",
     "name": "stderr",
     "text": [
      " 38%|███▊      | 232/605 [09:50<07:47,  1.25s/it]"
     ]
    },
    {
     "output_type": "stream",
     "name": "stdout",
     "text": [
      "Iteration: 2\n",
      "----------------------------------\n",
      "CV_36\n",
      "Iteration: 0\n"
     ]
    },
    {
     "output_type": "stream",
     "name": "stderr",
     "text": [
      " 38%|███▊      | 232/605 [10:00<07:47,  1.25s/it]"
     ]
    },
    {
     "output_type": "stream",
     "name": "stdout",
     "text": [
      "Iteration: 1\n",
      "Iteration: 2\n",
      "Iteration: 3\n"
     ]
    },
    {
     "output_type": "stream",
     "name": "stderr",
     "text": [
      " 39%|███▊      | 233/605 [10:23<19:00,  3.07s/it]"
     ]
    },
    {
     "output_type": "stream",
     "name": "stdout",
     "text": [
      "Iteration: 4\n",
      "----------------------------------\n",
      "CV_37\n",
      "all col missing\n",
      "----------------------------------\n",
      "CV_38\n",
      "all col missing\n",
      "----------------------------------\n",
      "CV_39\n",
      "all col missing\n",
      "----------------------------------\n",
      "CV_4\n",
      "Iteration: 0\n",
      "Iteration: 1\n",
      "Iteration: 2\n"
     ]
    },
    {
     "output_type": "stream",
     "name": "stderr",
     "text": [
      " 39%|███▉      | 237/605 [10:43<21:46,  3.55s/it]"
     ]
    },
    {
     "output_type": "stream",
     "name": "stdout",
     "text": [
      "Iteration: 3\n",
      "----------------------------------\n",
      "CV_40\n",
      "all col missing\n",
      "----------------------------------\n",
      "CV_41\n",
      "all col missing\n",
      "----------------------------------\n",
      "CV_42\n",
      "Iteration: 0\n",
      "Iteration: 1\n",
      "Iteration: 2\n",
      "Iteration: 3\n",
      "Iteration: 4\n"
     ]
    },
    {
     "output_type": "stream",
     "name": "stderr",
     "text": [
      " 40%|███▉      | 240/605 [11:10<28:32,  4.69s/it]"
     ]
    },
    {
     "output_type": "stream",
     "name": "stdout",
     "text": [
      "Iteration: 5\n",
      "----------------------------------\n",
      "CV_43\n",
      "all col missing\n",
      "----------------------------------\n",
      "CV_44\n",
      "all col missing\n",
      "----------------------------------\n",
      "CV_45\n",
      "Iteration: 0\n"
     ]
    },
    {
     "output_type": "stream",
     "name": "stderr",
     "text": [
      " 40%|████      | 243/605 [11:19<26:19,  4.36s/it]"
     ]
    },
    {
     "output_type": "stream",
     "name": "stdout",
     "text": [
      "Iteration: 1\n",
      "----------------------------------\n",
      "CV_46\n",
      "Iteration: 0\n"
     ]
    },
    {
     "output_type": "stream",
     "name": "stderr",
     "text": [
      " 40%|████      | 243/605 [11:30<26:19,  4.36s/it]"
     ]
    },
    {
     "output_type": "stream",
     "name": "stdout",
     "text": [
      "Iteration: 1\n"
     ]
    },
    {
     "output_type": "stream",
     "name": "stderr",
     "text": [
      " 40%|████      | 244/605 [11:40<35:38,  5.92s/it]"
     ]
    },
    {
     "output_type": "stream",
     "name": "stdout",
     "text": [
      "Iteration: 2\n",
      "----------------------------------\n",
      "CV_47\n",
      "----------------------------------\n",
      "CV_48\n"
     ]
    },
    {
     "output_type": "stream",
     "name": "stderr",
     "text": [
      "/home/kumaran/.local/lib/python3.6/site-packages/missingpy/missforest.py:528: UserWarning: No missing value located; returning original dataset.\n",
      "  warnings.warn(\"No missing value located; returning original \"\n"
     ]
    },
    {
     "output_type": "stream",
     "name": "stdout",
     "text": [
      "Iteration: 0\n",
      "Iteration: 1\n",
      "Iteration: 2\n",
      "Iteration: 3\n",
      "Iteration: 4\n"
     ]
    },
    {
     "output_type": "stream",
     "name": "stderr",
     "text": [
      " 41%|████      | 246/605 [11:45<30:54,  5.17s/it]"
     ]
    },
    {
     "output_type": "stream",
     "name": "stdout",
     "text": [
      "Iteration: 5\n",
      "----------------------------------\n",
      "CV_49\n",
      "all col missing\n",
      "----------------------------------\n",
      "CV_5\n",
      "all col missing\n",
      "----------------------------------\n",
      "CV_50\n",
      "----------------------------------\n",
      "CV_51\n"
     ]
    },
    {
     "output_type": "stream",
     "name": "stderr",
     "text": [
      "/home/kumaran/.local/lib/python3.6/site-packages/missingpy/missforest.py:528: UserWarning: No missing value located; returning original dataset.\n",
      "  warnings.warn(\"No missing value located; returning original \"\n"
     ]
    },
    {
     "output_type": "stream",
     "name": "stdout",
     "text": [
      "Iteration: 0\n",
      "Iteration: 1\n",
      "Iteration: 2\n"
     ]
    },
    {
     "output_type": "stream",
     "name": "stderr",
     "text": [
      " 41%|████▏     | 250/605 [11:49<21:12,  3.58s/it]"
     ]
    },
    {
     "output_type": "stream",
     "name": "stdout",
     "text": [
      "Iteration: 3\n",
      "----------------------------------\n",
      "CV_52\n",
      "all col missing\n",
      "----------------------------------\n",
      "CV_53\n",
      "Iteration: 0\n"
     ]
    },
    {
     "output_type": "stream",
     "name": "stderr",
     "text": [
      " 41%|████▏     | 250/605 [12:00<21:12,  3.58s/it]"
     ]
    },
    {
     "output_type": "stream",
     "name": "stdout",
     "text": [
      "Iteration: 1\n",
      "Iteration: 2\n",
      "Iteration: 3\n"
     ]
    },
    {
     "output_type": "stream",
     "name": "stderr",
     "text": [
      " 42%|████▏     | 252/605 [12:17<34:15,  5.82s/it]"
     ]
    },
    {
     "output_type": "stream",
     "name": "stdout",
     "text": [
      "Iteration: 4\n",
      "----------------------------------\n",
      "CV_54\n",
      "----------------------------------\n",
      "CV_55\n"
     ]
    },
    {
     "output_type": "stream",
     "name": "stderr",
     "text": [
      "/home/kumaran/.local/lib/python3.6/site-packages/missingpy/missforest.py:528: UserWarning: No missing value located; returning original dataset.\n",
      "  warnings.warn(\"No missing value located; returning original \"\n"
     ]
    },
    {
     "output_type": "stream",
     "name": "stdout",
     "text": [
      "Iteration: 0\n",
      "Iteration: 1\n",
      "Iteration: 2\n"
     ]
    },
    {
     "output_type": "stream",
     "name": "stderr",
     "text": [
      " 42%|████▏     | 254/605 [12:30<35:06,  6.00s/it]"
     ]
    },
    {
     "output_type": "stream",
     "name": "stdout",
     "text": [
      "Iteration: 3\n",
      "----------------------------------\n",
      "CV_56\n",
      "all col missing\n",
      "----------------------------------\n",
      "CV_57\n",
      "Iteration: 0\n",
      "Iteration: 1\n"
     ]
    },
    {
     "output_type": "stream",
     "name": "stderr",
     "text": [
      " 42%|████▏     | 256/605 [12:43<35:57,  6.18s/it]"
     ]
    },
    {
     "output_type": "stream",
     "name": "stdout",
     "text": [
      "Iteration: 2\n",
      "----------------------------------\n",
      "CV_58\n",
      "Iteration: 0\n",
      "Iteration: 1\n",
      "Iteration: 2\n"
     ]
    },
    {
     "output_type": "stream",
     "name": "stderr",
     "text": [
      " 42%|████▏     | 257/605 [12:46<32:29,  5.60s/it]"
     ]
    },
    {
     "output_type": "stream",
     "name": "stdout",
     "text": [
      "Iteration: 3\n",
      "----------------------------------\n",
      "CV_59\n",
      "all col missing\n",
      "----------------------------------\n",
      "CV_6\n",
      "Iteration: 0\n",
      "Iteration: 1\n"
     ]
    },
    {
     "output_type": "stream",
     "name": "stderr",
     "text": [
      " 43%|████▎     | 259/605 [12:57<32:26,  5.63s/it]"
     ]
    },
    {
     "output_type": "stream",
     "name": "stdout",
     "text": [
      "Iteration: 2\n",
      "----------------------------------\n",
      "CV_60\n",
      "Iteration: 0\n",
      "Iteration: 1\n",
      "Iteration: 2\n"
     ]
    },
    {
     "output_type": "stream",
     "name": "stderr",
     "text": [
      " 43%|████▎     | 260/605 [13:17<47:12,  8.21s/it]"
     ]
    },
    {
     "output_type": "stream",
     "name": "stdout",
     "text": [
      "Iteration: 3\n",
      "----------------------------------\n",
      "CV_61\n",
      "Iteration: 0\n",
      "Iteration: 1\n",
      "Iteration: 2\n",
      "Iteration: 3\n",
      "Iteration: 4\n"
     ]
    },
    {
     "output_type": "stream",
     "name": "stderr",
     "text": [
      " 43%|████▎     | 261/605 [13:42<1:06:39, 11.63s/it]"
     ]
    },
    {
     "output_type": "stream",
     "name": "stdout",
     "text": [
      "Iteration: 5\n",
      "----------------------------------\n",
      "CV_62\n",
      "all col missing\n",
      "----------------------------------\n",
      "CV_63\n",
      "Iteration: 0\n",
      "Iteration: 1\n",
      "Iteration: 2\n"
     ]
    },
    {
     "output_type": "stream",
     "name": "stderr",
     "text": [
      " 43%|████▎     | 263/605 [14:01<1:02:01, 10.88s/it]"
     ]
    },
    {
     "output_type": "stream",
     "name": "stdout",
     "text": [
      "Iteration: 3\n",
      "----------------------------------\n",
      "CV_64\n",
      "all col missing\n",
      "----------------------------------\n",
      "CV_65\n",
      "all col missing\n",
      "----------------------------------\n",
      "CV_66\n",
      "Iteration: 0\n",
      "Iteration: 1\n"
     ]
    },
    {
     "output_type": "stream",
     "name": "stderr",
     "text": [
      " 44%|████▍     | 266/605 [14:13<43:34,  7.71s/it]  "
     ]
    },
    {
     "output_type": "stream",
     "name": "stdout",
     "text": [
      "Iteration: 2\n",
      "----------------------------------\n",
      "CV_67\n",
      "Iteration: 0\n",
      "Iteration: 1\n",
      "Iteration: 2\n"
     ]
    },
    {
     "output_type": "stream",
     "name": "stderr",
     "text": [
      " 44%|████▍     | 267/605 [14:21<44:07,  7.83s/it]"
     ]
    },
    {
     "output_type": "stream",
     "name": "stdout",
     "text": [
      "Iteration: 3\n",
      "----------------------------------\n",
      "CV_68\n",
      "Iteration: 0\n",
      "Iteration: 1\n",
      "Iteration: 2\n",
      "----------------------------------\n",
      "CV_69\n",
      "Iteration: 0\n",
      "Iteration: 1\n",
      "Iteration: 2\n"
     ]
    },
    {
     "output_type": "stream",
     "name": "stderr",
     "text": [
      " 44%|████▍     | 269/605 [14:28<35:36,  6.36s/it]"
     ]
    },
    {
     "output_type": "stream",
     "name": "stdout",
     "text": [
      "Iteration: 3\n",
      "----------------------------------\n",
      "CV_7\n",
      "Iteration: 0\n",
      "Iteration: 1\n",
      "Iteration: 2\n"
     ]
    },
    {
     "output_type": "stream",
     "name": "stderr",
     "text": [
      " 45%|████▍     | 270/605 [14:33<34:42,  6.22s/it]"
     ]
    },
    {
     "output_type": "stream",
     "name": "stdout",
     "text": [
      "Iteration: 3\n",
      "----------------------------------\n",
      "CV_70\n",
      "Iteration: 0\n",
      "Iteration: 1\n",
      "Iteration: 2\n"
     ]
    },
    {
     "output_type": "stream",
     "name": "stderr",
     "text": [
      " 45%|████▍     | 271/605 [14:47<43:34,  7.83s/it]"
     ]
    },
    {
     "output_type": "stream",
     "name": "stdout",
     "text": [
      "Iteration: 3\n",
      "----------------------------------\n",
      "CV_71\n",
      "Iteration: 0\n",
      "Iteration: 1\n"
     ]
    },
    {
     "output_type": "stream",
     "name": "stderr",
     "text": [
      " 45%|████▍     | 272/605 [15:02<52:12,  9.41s/it]"
     ]
    },
    {
     "output_type": "stream",
     "name": "stdout",
     "text": [
      "Iteration: 2\n",
      "----------------------------------\n",
      "CV_72\n",
      "all col missing\n",
      "----------------------------------\n",
      "CV_73\n",
      "Iteration: 0\n",
      "Iteration: 1\n"
     ]
    },
    {
     "output_type": "stream",
     "name": "stderr",
     "text": [
      " 45%|████▌     | 274/605 [15:03<33:02,  5.99s/it]"
     ]
    },
    {
     "output_type": "stream",
     "name": "stdout",
     "text": [
      "Iteration: 2\n",
      "----------------------------------\n",
      "CV_74\n",
      "all col missing\n",
      "----------------------------------\n",
      "CV_75\n",
      "all col missing\n",
      "----------------------------------\n",
      "CV_76\n",
      "all col missing\n",
      "----------------------------------\n",
      "CV_77\n",
      "all col missing\n",
      "----------------------------------\n",
      "CV_78\n",
      "Iteration: 0\n",
      "Iteration: 1\n",
      "Iteration: 2\n"
     ]
    },
    {
     "output_type": "stream",
     "name": "stderr",
     "text": [
      " 46%|████▌     | 279/605 [15:23<26:03,  4.80s/it]"
     ]
    },
    {
     "output_type": "stream",
     "name": "stdout",
     "text": [
      "Iteration: 3\n",
      "----------------------------------\n",
      "CV_79\n",
      "Iteration: 0\n",
      "Iteration: 1\n"
     ]
    },
    {
     "output_type": "stream",
     "name": "stderr",
     "text": [
      " 46%|████▋     | 280/605 [15:37<33:22,  6.16s/it]"
     ]
    },
    {
     "output_type": "stream",
     "name": "stdout",
     "text": [
      "Iteration: 2\n",
      "----------------------------------\n",
      "CV_8\n",
      "Iteration: 0\n",
      "Iteration: 1\n",
      "Iteration: 2\n",
      "Iteration: 3\n"
     ]
    },
    {
     "output_type": "stream",
     "name": "stderr",
     "text": [
      " 46%|████▋     | 281/605 [15:44<33:55,  6.28s/it]"
     ]
    },
    {
     "output_type": "stream",
     "name": "stdout",
     "text": [
      "Iteration: 4\n",
      "----------------------------------\n",
      "CV_80\n",
      "all col missing\n",
      "----------------------------------\n",
      "CV_81\n",
      "Iteration: 0\n",
      "Iteration: 1\n"
     ]
    },
    {
     "output_type": "stream",
     "name": "stderr",
     "text": [
      " 47%|████▋     | 283/605 [15:56<33:03,  6.16s/it]"
     ]
    },
    {
     "output_type": "stream",
     "name": "stdout",
     "text": [
      "Iteration: 2\n",
      "----------------------------------\n",
      "CV_82\n",
      "all col missing\n",
      "----------------------------------\n",
      "CV_83\n",
      "all col missing\n",
      "----------------------------------\n",
      "CV_84\n",
      "all col missing\n",
      "----------------------------------\n",
      "CV_85\n",
      "all col missing\n",
      "----------------------------------\n",
      "CV_86\n",
      "all col missing\n",
      "----------------------------------\n",
      "CV_87\n",
      "Iteration: 0\n",
      "Iteration: 1\n",
      "Iteration: 2\n"
     ]
    },
    {
     "output_type": "stream",
     "name": "stderr",
     "text": [
      " 48%|████▊     | 289/605 [16:12<21:36,  4.10s/it]"
     ]
    },
    {
     "output_type": "stream",
     "name": "stdout",
     "text": [
      "Iteration: 3\n",
      "----------------------------------\n",
      "CV_88\n",
      "all col missing\n",
      "----------------------------------\n",
      "CV_89\n",
      "all col missing\n",
      "----------------------------------\n",
      "CV_9\n",
      "Iteration: 0\n",
      "Iteration: 1\n",
      "Iteration: 2\n"
     ]
    },
    {
     "output_type": "stream",
     "name": "stderr",
     "text": [
      " 48%|████▊     | 292/605 [16:30<24:19,  4.66s/it]"
     ]
    },
    {
     "output_type": "stream",
     "name": "stdout",
     "text": [
      "Iteration: 3\n",
      "----------------------------------\n",
      "CV_90\n",
      "all col missing\n",
      "----------------------------------\n",
      "CV_91\n",
      "all col missing\n",
      "----------------------------------\n",
      "CV_93\n",
      "Iteration: 0\n",
      "Iteration: 1\n",
      "Iteration: 2\n",
      "Iteration: 3\n"
     ]
    },
    {
     "output_type": "stream",
     "name": "stderr",
     "text": [
      " 49%|████▉     | 295/605 [16:35<19:38,  3.80s/it]"
     ]
    },
    {
     "output_type": "stream",
     "name": "stdout",
     "text": [
      "Iteration: 4\n",
      "----------------------------------\n",
      "CV_94\n",
      "Iteration: 0\n",
      "Iteration: 1\n",
      "Iteration: 2\n"
     ]
    },
    {
     "output_type": "stream",
     "name": "stderr",
     "text": [
      " 49%|████▉     | 296/605 [16:47<24:31,  4.76s/it]"
     ]
    },
    {
     "output_type": "stream",
     "name": "stdout",
     "text": [
      "Iteration: 3\n",
      "----------------------------------\n",
      "CV_95\n",
      "Iteration: 0\n",
      "Iteration: 1\n",
      "Iteration: 2\n"
     ]
    },
    {
     "output_type": "stream",
     "name": "stderr",
     "text": [
      " 49%|████▉     | 297/605 [16:49<22:22,  4.36s/it]"
     ]
    },
    {
     "output_type": "stream",
     "name": "stdout",
     "text": [
      "Iteration: 3\n",
      "----------------------------------\n",
      "CV_96\n",
      "Iteration: 0\n",
      "Iteration: 1\n"
     ]
    },
    {
     "output_type": "stream",
     "name": "stderr",
     "text": [
      " 49%|████▉     | 298/605 [16:51<19:50,  3.88s/it]"
     ]
    },
    {
     "output_type": "stream",
     "name": "stdout",
     "text": [
      "Iteration: 2\n",
      "----------------------------------\n",
      "CV_97\n",
      "all col missing\n",
      "----------------------------------\n",
      "CV_98\n",
      "all col missing\n",
      "----------------------------------\n",
      "CV_99\n",
      "all col missing\n",
      "----------------------------------\n",
      "LMXB_0\n",
      "all col missing\n",
      "----------------------------------\n",
      "LMXB_1\n",
      "all col missing\n",
      "----------------------------------\n",
      "LMXB_10\n",
      "Iteration: 0\n",
      "Iteration: 1\n",
      "Iteration: 2\n"
     ]
    },
    {
     "output_type": "stream",
     "name": "stderr",
     "text": [
      " 50%|█████     | 304/605 [16:52<08:21,  1.67s/it]"
     ]
    },
    {
     "output_type": "stream",
     "name": "stdout",
     "text": [
      "Iteration: 3\n",
      "----------------------------------\n",
      "LMXB_11\n",
      "all col missing\n",
      "----------------------------------\n",
      "LMXB_12\n",
      "all col missing\n",
      "----------------------------------\n",
      "LMXB_14\n",
      "Iteration: 0\n",
      "Iteration: 1\n"
     ]
    },
    {
     "output_type": "stream",
     "name": "stderr",
     "text": [
      " 51%|█████     | 307/605 [16:55<07:20,  1.48s/it]"
     ]
    },
    {
     "output_type": "stream",
     "name": "stdout",
     "text": [
      "Iteration: 2\n",
      "----------------------------------\n",
      "LMXB_15\n",
      "all col missing\n",
      "----------------------------------\n",
      "LMXB_16\n",
      "Iteration: 0\n",
      "Iteration: 1\n",
      "Iteration: 2\n",
      "Iteration: 3\n"
     ]
    },
    {
     "output_type": "stream",
     "name": "stderr",
     "text": [
      " 51%|█████     | 309/605 [17:13<15:23,  3.12s/it]"
     ]
    },
    {
     "output_type": "stream",
     "name": "stdout",
     "text": [
      "Iteration: 4\n",
      "----------------------------------\n",
      "LMXB_17\n",
      "all col missing\n",
      "----------------------------------\n",
      "LMXB_18\n",
      "all col missing\n",
      "----------------------------------\n",
      "LMXB_19\n",
      "Iteration: 0\n",
      "Iteration: 1\n",
      "Iteration: 2\n"
     ]
    },
    {
     "output_type": "stream",
     "name": "stderr",
     "text": [
      " 52%|█████▏    | 312/605 [17:17<12:31,  2.56s/it]"
     ]
    },
    {
     "output_type": "stream",
     "name": "stdout",
     "text": [
      "Iteration: 3\n",
      "----------------------------------\n",
      "LMXB_2\n",
      "all col missing\n",
      "----------------------------------\n",
      "LMXB_20\n",
      "----------------------------------\n",
      "LMXB_21\n",
      "----------------------------------\n",
      "LMXB_22\n",
      "all col missing\n",
      "----------------------------------\n",
      "LMXB_23\n"
     ]
    },
    {
     "output_type": "stream",
     "name": "stderr",
     "text": [
      "/home/kumaran/.local/lib/python3.6/site-packages/missingpy/missforest.py:528: UserWarning: No missing value located; returning original dataset.\n",
      "  warnings.warn(\"No missing value located; returning original \"\n",
      "/home/kumaran/.local/lib/python3.6/site-packages/missingpy/missforest.py:528: UserWarning: No missing value located; returning original dataset.\n",
      "  warnings.warn(\"No missing value located; returning original \"\n"
     ]
    },
    {
     "output_type": "stream",
     "name": "stdout",
     "text": [
      "Iteration: 0\n",
      "Iteration: 1\n",
      "Iteration: 2\n"
     ]
    },
    {
     "output_type": "stream",
     "name": "stderr",
     "text": [
      " 52%|█████▏    | 317/605 [17:28<11:45,  2.45s/it]"
     ]
    },
    {
     "output_type": "stream",
     "name": "stdout",
     "text": [
      "Iteration: 3\n",
      "----------------------------------\n",
      "LMXB_24\n",
      "Iteration: 0\n",
      "Iteration: 1\n"
     ]
    },
    {
     "output_type": "stream",
     "name": "stderr",
     "text": [
      " 53%|█████▎    | 318/605 [17:31<12:05,  2.53s/it]"
     ]
    },
    {
     "output_type": "stream",
     "name": "stdout",
     "text": [
      "Iteration: 2\n",
      "----------------------------------\n",
      "LMXB_27\n",
      "all col missing\n",
      "----------------------------------\n",
      "LMXB_28\n",
      "all col missing\n",
      "----------------------------------\n",
      "LMXB_3\n",
      "all col missing\n",
      "----------------------------------\n",
      "LMXB_31\n",
      "all col missing\n",
      "----------------------------------\n",
      "LMXB_32\n",
      "Iteration: 0\n",
      "Iteration: 1\n"
     ]
    },
    {
     "output_type": "stream",
     "name": "stderr",
     "text": [
      " 53%|█████▎    | 323/605 [17:32<06:59,  1.49s/it]"
     ]
    },
    {
     "output_type": "stream",
     "name": "stdout",
     "text": [
      "Iteration: 2\n",
      "----------------------------------\n",
      "LMXB_34\n",
      "all col missing\n",
      "----------------------------------\n",
      "LMXB_35\n",
      "----------------------------------\n",
      "LMXB_36\n",
      "all col missing\n",
      "----------------------------------\n",
      "LMXB_4\n"
     ]
    },
    {
     "output_type": "stream",
     "name": "stderr",
     "text": [
      "/home/kumaran/.local/lib/python3.6/site-packages/missingpy/missforest.py:528: UserWarning: No missing value located; returning original dataset.\n",
      "  warnings.warn(\"No missing value located; returning original \"\n"
     ]
    },
    {
     "output_type": "stream",
     "name": "stdout",
     "text": [
      "Iteration: 0\n",
      "Iteration: 1\n",
      "Iteration: 2\n"
     ]
    },
    {
     "output_type": "stream",
     "name": "stderr",
     "text": [
      " 54%|█████▍    | 327/605 [17:47<10:19,  2.23s/it]"
     ]
    },
    {
     "output_type": "stream",
     "name": "stdout",
     "text": [
      "Iteration: 3\n",
      "----------------------------------\n",
      "LMXB_40\n",
      "Iteration: 0\n"
     ]
    },
    {
     "output_type": "stream",
     "name": "stderr",
     "text": [
      " 54%|█████▍    | 328/605 [17:48<09:45,  2.11s/it]"
     ]
    },
    {
     "output_type": "stream",
     "name": "stdout",
     "text": [
      "Iteration: 1\n",
      "----------------------------------\n",
      "LMXB_41\n",
      "Iteration: 0\n",
      "Iteration: 1\n"
     ]
    },
    {
     "output_type": "stream",
     "name": "stderr",
     "text": [
      " 54%|█████▍    | 329/605 [17:49<08:56,  1.94s/it]"
     ]
    },
    {
     "output_type": "stream",
     "name": "stdout",
     "text": [
      "Iteration: 2\n",
      "----------------------------------\n",
      "LMXB_43\n",
      "Iteration: 0\n",
      "Iteration: 1\n"
     ]
    },
    {
     "output_type": "stream",
     "name": "stderr",
     "text": [
      " 55%|█████▍    | 330/605 [17:50<08:08,  1.78s/it]/home/kumaran/.local/lib/python3.6/site-packages/missingpy/missforest.py:528: UserWarning: No missing value located; returning original dataset.\n",
      "  warnings.warn(\"No missing value located; returning original \"\n",
      "/home/kumaran/.local/lib/python3.6/site-packages/missingpy/missforest.py:528: UserWarning: No missing value located; returning original dataset.\n",
      "  warnings.warn(\"No missing value located; returning original \"\n",
      " 56%|█████▌    | 338/605 [17:50<02:50,  1.57it/s]"
     ]
    },
    {
     "output_type": "stream",
     "name": "stdout",
     "text": [
      "Iteration: 2\n",
      "----------------------------------\n",
      "LMXB_44\n",
      "all col missing\n",
      "----------------------------------\n",
      "LMXB_46\n",
      "all col missing\n",
      "----------------------------------\n",
      "LMXB_49\n",
      "all col missing\n",
      "----------------------------------\n",
      "LMXB_5\n",
      "all col missing\n",
      "----------------------------------\n",
      "LMXB_50\n",
      "----------------------------------\n",
      "LMXB_51\n",
      "----------------------------------\n",
      "LMXB_53\n",
      "all col missing\n",
      "----------------------------------\n",
      "LMXB_56\n",
      "all col missing\n",
      "----------------------------------\n",
      "LMXB_6\n",
      "all col missing\n",
      "----------------------------------\n",
      "LMXB_61\n",
      "all col missing\n",
      "----------------------------------\n",
      "LMXB_64\n",
      "----------------------------------\n",
      "LMXB_67\n",
      "----------------------------------\n",
      "LMXB_68\n",
      "----------------------------------\n",
      "LMXB_7\n"
     ]
    },
    {
     "output_type": "stream",
     "name": "stderr",
     "text": [
      "/home/kumaran/.local/lib/python3.6/site-packages/missingpy/missforest.py:528: UserWarning: No missing value located; returning original dataset.\n",
      "  warnings.warn(\"No missing value located; returning original \"\n",
      "/home/kumaran/.local/lib/python3.6/site-packages/missingpy/missforest.py:528: UserWarning: No missing value located; returning original dataset.\n",
      "  warnings.warn(\"No missing value located; returning original \"\n",
      "/home/kumaran/.local/lib/python3.6/site-packages/missingpy/missforest.py:528: UserWarning: No missing value located; returning original dataset.\n",
      "  warnings.warn(\"No missing value located; returning original \"\n"
     ]
    },
    {
     "output_type": "stream",
     "name": "stdout",
     "text": [
      "Iteration: 0\n",
      "Iteration: 1\n"
     ]
    },
    {
     "output_type": "stream",
     "name": "stderr",
     "text": [
      " 57%|█████▋    | 344/605 [17:53<02:36,  1.66it/s]/home/kumaran/.local/lib/python3.6/site-packages/missingpy/missforest.py:528: UserWarning: No missing value located; returning original dataset.\n",
      "  warnings.warn(\"No missing value located; returning original \"\n",
      " 58%|█████▊    | 352/605 [17:53<01:26,  2.91it/s]"
     ]
    },
    {
     "output_type": "stream",
     "name": "stdout",
     "text": [
      "Iteration: 2\n",
      "----------------------------------\n",
      "LMXB_70\n",
      "all col missing\n",
      "----------------------------------\n",
      "LMXB_72\n",
      "all col missing\n",
      "----------------------------------\n",
      "LMXB_73\n",
      "all col missing\n",
      "----------------------------------\n",
      "LMXB_74\n",
      "all col missing\n",
      "----------------------------------\n",
      "LMXB_75\n",
      "----------------------------------\n",
      "LMXB_76\n",
      "all col missing\n",
      "----------------------------------\n",
      "LMXB_80\n",
      "all col missing\n",
      "----------------------------------\n",
      "LMXB_84\n",
      "all col missing\n",
      "----------------------------------\n",
      "LMXB_85\n",
      "all col missing\n",
      "----------------------------------\n",
      "LMXB_86\n",
      "all col missing\n",
      "----------------------------------\n",
      "LMXB_9\n",
      "all col missing\n",
      "----------------------------------\n",
      "LMXB_90\n",
      "all col missing\n",
      "----------------------------------\n",
      "LMXB_91\n",
      "all col missing\n",
      "----------------------------------\n",
      "LMXB_92\n",
      "all col missing\n",
      "----------------------------------\n",
      "LMXB_96\n",
      "all col missing\n",
      "----------------------------------\n",
      "LMXB_97\n",
      "all col missing\n",
      "----------------------------------\n",
      "PLSR_0\n",
      "Iteration: 0\n",
      "Iteration: 1\n",
      "Iteration: 2\n"
     ]
    },
    {
     "output_type": "stream",
     "name": "stderr",
     "text": [
      " 60%|█████▉    | 361/605 [18:10<03:51,  1.06it/s]"
     ]
    },
    {
     "output_type": "stream",
     "name": "stdout",
     "text": [
      "Iteration: 3\n",
      "----------------------------------\n",
      "PLSR_1\n",
      "all col missing\n",
      "----------------------------------\n",
      "PLSR_10\n",
      "Iteration: 0\n",
      "Iteration: 1\n",
      "Iteration: 2\n"
     ]
    },
    {
     "output_type": "stream",
     "name": "stderr",
     "text": [
      " 60%|██████    | 363/605 [18:28<07:32,  1.87s/it]"
     ]
    },
    {
     "output_type": "stream",
     "name": "stdout",
     "text": [
      "Iteration: 3\n",
      "----------------------------------\n",
      "PLSR_101\n",
      "Iteration: 0\n",
      "Iteration: 1\n",
      "Iteration: 2\n"
     ]
    },
    {
     "output_type": "stream",
     "name": "stderr",
     "text": [
      " 60%|██████    | 364/605 [18:30<07:34,  1.89s/it]"
     ]
    },
    {
     "output_type": "stream",
     "name": "stdout",
     "text": [
      "Iteration: 3\n",
      "----------------------------------\n",
      "PLSR_102\n",
      "all col missing\n",
      "----------------------------------\n",
      "PLSR_103\n",
      "Iteration: 0\n",
      "Iteration: 1\n",
      "Iteration: 2\n"
     ]
    },
    {
     "output_type": "stream",
     "name": "stderr",
     "text": [
      "/home/kumaran/.local/lib/python3.6/site-packages/missingpy/missforest.py:528: UserWarning: No missing value located; returning original dataset.\n",
      "  warnings.warn(\"No missing value located; returning original \"\n",
      " 61%|██████    | 367/605 [18:32<06:20,  1.60s/it]"
     ]
    },
    {
     "output_type": "stream",
     "name": "stdout",
     "text": [
      "Iteration: 3\n",
      "----------------------------------\n",
      "PLSR_104\n",
      "----------------------------------\n",
      "PLSR_105\n",
      "all col missing\n",
      "----------------------------------\n",
      "PLSR_106\n",
      "all col missing\n",
      "----------------------------------\n",
      "PLSR_107\n",
      "----------------------------------\n",
      "PLSR_108\n",
      "----------------------------------\n",
      "PLSR_109\n",
      "----------------------------------\n",
      "PLSR_11\n"
     ]
    },
    {
     "output_type": "stream",
     "name": "stderr",
     "text": [
      "/home/kumaran/.local/lib/python3.6/site-packages/missingpy/missforest.py:528: UserWarning: No missing value located; returning original dataset.\n",
      "  warnings.warn(\"No missing value located; returning original \"\n",
      "/home/kumaran/.local/lib/python3.6/site-packages/missingpy/missforest.py:528: UserWarning: No missing value located; returning original dataset.\n",
      "  warnings.warn(\"No missing value located; returning original \"\n",
      "/home/kumaran/.local/lib/python3.6/site-packages/missingpy/missforest.py:528: UserWarning: No missing value located; returning original dataset.\n",
      "  warnings.warn(\"No missing value located; returning original \"\n"
     ]
    },
    {
     "output_type": "stream",
     "name": "stdout",
     "text": [
      "Iteration: 0\n",
      "Iteration: 1\n"
     ]
    },
    {
     "output_type": "stream",
     "name": "stderr",
     "text": [
      " 62%|██████▏   | 373/605 [18:46<07:17,  1.89s/it]"
     ]
    },
    {
     "output_type": "stream",
     "name": "stdout",
     "text": [
      "Iteration: 2\n",
      "----------------------------------\n",
      "PLSR_110\n",
      "----------------------------------\n",
      "PLSR_111\n",
      "all col missing\n",
      "----------------------------------\n",
      "PLSR_112\n"
     ]
    },
    {
     "output_type": "stream",
     "name": "stderr",
     "text": [
      "/home/kumaran/.local/lib/python3.6/site-packages/missingpy/missforest.py:528: UserWarning: No missing value located; returning original dataset.\n",
      "  warnings.warn(\"No missing value located; returning original \"\n"
     ]
    },
    {
     "output_type": "stream",
     "name": "stdout",
     "text": [
      "Iteration: 0\n"
     ]
    },
    {
     "output_type": "stream",
     "name": "stderr",
     "text": [
      " 62%|██████▏   | 376/605 [18:48<06:10,  1.62s/it]"
     ]
    },
    {
     "output_type": "stream",
     "name": "stdout",
     "text": [
      "Iteration: 1\n",
      "----------------------------------\n",
      "PLSR_113\n",
      "Iteration: 0\n",
      "Iteration: 1\n"
     ]
    },
    {
     "output_type": "stream",
     "name": "stderr",
     "text": [
      "/home/kumaran/.local/lib/python3.6/site-packages/missingpy/missforest.py:528: UserWarning: No missing value located; returning original dataset.\n",
      "  warnings.warn(\"No missing value located; returning original \"\n",
      " 62%|██████▏   | 378/605 [18:51<06:08,  1.62s/it]"
     ]
    },
    {
     "output_type": "stream",
     "name": "stdout",
     "text": [
      "Iteration: 2\n",
      "----------------------------------\n",
      "PLSR_114\n",
      "----------------------------------\n",
      "PLSR_115\n",
      "Iteration: 0\n",
      "Iteration: 1\n",
      "Iteration: 2\n",
      "Iteration: 3\n"
     ]
    },
    {
     "output_type": "stream",
     "name": "stderr",
     "text": [
      " 63%|██████▎   | 379/605 [18:56<07:37,  2.02s/it]"
     ]
    },
    {
     "output_type": "stream",
     "name": "stdout",
     "text": [
      "Iteration: 4\n",
      "----------------------------------\n",
      "PLSR_116\n",
      "----------------------------------\n",
      "PLSR_117\n"
     ]
    },
    {
     "output_type": "stream",
     "name": "stderr",
     "text": [
      "/home/kumaran/.local/lib/python3.6/site-packages/missingpy/missforest.py:528: UserWarning: No missing value located; returning original dataset.\n",
      "  warnings.warn(\"No missing value located; returning original \"\n"
     ]
    },
    {
     "output_type": "stream",
     "name": "stdout",
     "text": [
      "Iteration: 0\n",
      "Iteration: 1\n",
      "Iteration: 2\n",
      "Iteration: 3\n"
     ]
    },
    {
     "output_type": "stream",
     "name": "stderr",
     "text": [
      " 63%|██████▎   | 381/605 [18:59<06:54,  1.85s/it]"
     ]
    },
    {
     "output_type": "stream",
     "name": "stdout",
     "text": [
      "Iteration: 4\n",
      "----------------------------------\n",
      "PLSR_118\n",
      "Iteration: 0\n",
      "Iteration: 1\n",
      "Iteration: 2\n"
     ]
    },
    {
     "output_type": "stream",
     "name": "stderr",
     "text": [
      " 63%|██████▎   | 382/605 [19:01<07:04,  1.90s/it]"
     ]
    },
    {
     "output_type": "stream",
     "name": "stdout",
     "text": [
      "Iteration: 3\n",
      "----------------------------------\n",
      "PLSR_119\n",
      "all col missing\n",
      "----------------------------------\n",
      "PLSR_12\n",
      "Iteration: 0\n",
      "Iteration: 1\n",
      "Iteration: 2\n",
      "Iteration: 3\n"
     ]
    },
    {
     "output_type": "stream",
     "name": "stderr",
     "text": [
      " 63%|██████▎   | 384/605 [19:24<17:44,  4.82s/it]"
     ]
    },
    {
     "output_type": "stream",
     "name": "stdout",
     "text": [
      "Iteration: 4\n",
      "----------------------------------\n",
      "PLSR_120\n",
      "all col missing\n",
      "----------------------------------\n",
      "PLSR_121\n",
      "all col missing\n",
      "----------------------------------\n",
      "PLSR_122\n",
      "----------------------------------\n",
      "PLSR_123\n",
      "----------------------------------\n",
      "PLSR_124\n",
      "----------------------------------\n",
      "PLSR_126\n",
      "all col missing\n",
      "----------------------------------\n",
      "PLSR_127\n"
     ]
    },
    {
     "output_type": "stream",
     "name": "stderr",
     "text": [
      "/home/kumaran/.local/lib/python3.6/site-packages/missingpy/missforest.py:528: UserWarning: No missing value located; returning original dataset.\n",
      "  warnings.warn(\"No missing value located; returning original \"\n",
      "/home/kumaran/.local/lib/python3.6/site-packages/missingpy/missforest.py:528: UserWarning: No missing value located; returning original dataset.\n",
      "  warnings.warn(\"No missing value located; returning original \"\n",
      "/home/kumaran/.local/lib/python3.6/site-packages/missingpy/missforest.py:528: UserWarning: No missing value located; returning original dataset.\n",
      "  warnings.warn(\"No missing value located; returning original \"\n"
     ]
    },
    {
     "output_type": "stream",
     "name": "stdout",
     "text": [
      "Iteration: 0\n",
      "Iteration: 1\n"
     ]
    },
    {
     "output_type": "stream",
     "name": "stderr",
     "text": [
      " 65%|██████▍   | 391/605 [19:26<07:24,  2.08s/it]"
     ]
    },
    {
     "output_type": "stream",
     "name": "stdout",
     "text": [
      "Iteration: 2\n",
      "----------------------------------\n",
      "PLSR_129\n",
      "all col missing\n",
      "----------------------------------\n",
      "PLSR_13\n",
      "Iteration: 0\n",
      "Iteration: 1\n"
     ]
    },
    {
     "output_type": "stream",
     "name": "stderr",
     "text": [
      " 65%|██████▍   | 393/605 [19:40<10:47,  3.06s/it]"
     ]
    },
    {
     "output_type": "stream",
     "name": "stdout",
     "text": [
      "Iteration: 2\n",
      "----------------------------------\n",
      "PLSR_130\n",
      "Iteration: 0\n",
      "Iteration: 1\n"
     ]
    },
    {
     "output_type": "stream",
     "name": "stderr",
     "text": [
      " 65%|██████▌   | 394/605 [19:45<11:30,  3.27s/it]"
     ]
    },
    {
     "output_type": "stream",
     "name": "stdout",
     "text": [
      "Iteration: 2\n",
      "----------------------------------\n",
      "PLSR_132\n",
      "Iteration: 0\n",
      "Iteration: 1\n",
      "Iteration: 2\n",
      "Iteration: 3\n"
     ]
    },
    {
     "output_type": "stream",
     "name": "stderr",
     "text": [
      " 65%|██████▌   | 395/605 [19:48<11:07,  3.18s/it]"
     ]
    },
    {
     "output_type": "stream",
     "name": "stdout",
     "text": [
      "Iteration: 4\n",
      "----------------------------------\n",
      "PLSR_133\n",
      "all col missing\n",
      "----------------------------------\n",
      "PLSR_134\n",
      "all col missing\n",
      "----------------------------------\n",
      "PLSR_135\n",
      "all col missing\n",
      "----------------------------------\n",
      "PLSR_136\n",
      "all col missing\n",
      "----------------------------------\n",
      "PLSR_137\n",
      "Iteration: 0\n",
      "Iteration: 1\n",
      "Iteration: 2\n",
      "Iteration: 3\n",
      "Iteration: 4\n"
     ]
    },
    {
     "output_type": "stream",
     "name": "stderr",
     "text": [
      " 66%|██████▌   | 400/605 [19:49<05:49,  1.71s/it]"
     ]
    },
    {
     "output_type": "stream",
     "name": "stdout",
     "text": [
      "Iteration: 5\n",
      "----------------------------------\n",
      "PLSR_138\n",
      "all col missing\n",
      "----------------------------------\n",
      "PLSR_139\n",
      "all col missing\n",
      "----------------------------------\n",
      "PLSR_14\n",
      "Iteration: 0\n",
      "Iteration: 1\n",
      "Iteration: 2\n"
     ]
    },
    {
     "output_type": "stream",
     "name": "stderr",
     "text": [
      " 67%|██████▋   | 403/605 [20:07<10:16,  3.05s/it]"
     ]
    },
    {
     "output_type": "stream",
     "name": "stdout",
     "text": [
      "Iteration: 3\n",
      "----------------------------------\n",
      "PLSR_141\n",
      "all col missing\n",
      "----------------------------------\n",
      "PLSR_142\n",
      "Iteration: 0\n",
      "Iteration: 1\n"
     ]
    },
    {
     "output_type": "stream",
     "name": "stderr",
     "text": [
      " 67%|██████▋   | 405/605 [20:08<08:09,  2.45s/it]"
     ]
    },
    {
     "output_type": "stream",
     "name": "stdout",
     "text": [
      "Iteration: 2\n",
      "----------------------------------\n",
      "PLSR_143\n",
      "all col missing\n",
      "----------------------------------\n",
      "PLSR_144\n",
      "all col missing\n",
      "----------------------------------\n",
      "PLSR_145\n",
      "----------------------------------\n",
      "PLSR_146\n",
      "all col missing\n",
      "----------------------------------\n",
      "PLSR_147\n",
      "all col missing\n",
      "----------------------------------\n",
      "PLSR_148\n",
      "all col missing\n",
      "----------------------------------\n",
      "PLSR_149\n",
      "all col missing\n",
      "----------------------------------\n",
      "PLSR_15\n"
     ]
    },
    {
     "output_type": "stream",
     "name": "stderr",
     "text": [
      "/home/kumaran/.local/lib/python3.6/site-packages/missingpy/missforest.py:528: UserWarning: No missing value located; returning original dataset.\n",
      "  warnings.warn(\"No missing value located; returning original \"\n"
     ]
    },
    {
     "output_type": "stream",
     "name": "stdout",
     "text": [
      "Iteration: 0\n",
      "Iteration: 1\n",
      "Iteration: 2\n",
      "Iteration: 3\n"
     ]
    },
    {
     "output_type": "stream",
     "name": "stderr",
     "text": [
      " 68%|██████▊   | 413/605 [20:31<08:38,  2.70s/it]/home/kumaran/.local/lib/python3.6/site-packages/missingpy/missforest.py:528: UserWarning: No missing value located; returning original dataset.\n",
      "  warnings.warn(\"No missing value located; returning original \"\n",
      " 70%|██████▉   | 422/605 [20:32<04:20,  1.42s/it]"
     ]
    },
    {
     "output_type": "stream",
     "name": "stdout",
     "text": [
      "Iteration: 4\n",
      "----------------------------------\n",
      "PLSR_150\n",
      "all col missing\n",
      "----------------------------------\n",
      "PLSR_151\n",
      "all col missing\n",
      "----------------------------------\n",
      "PLSR_152\n",
      "all col missing\n",
      "----------------------------------\n",
      "PLSR_153\n",
      "all col missing\n",
      "----------------------------------\n",
      "PLSR_154\n",
      "all col missing\n",
      "----------------------------------\n",
      "PLSR_155\n",
      "----------------------------------\n",
      "PLSR_156\n",
      "all col missing\n",
      "----------------------------------\n",
      "PLSR_157\n",
      "all col missing\n",
      "----------------------------------\n",
      "PLSR_158\n",
      "all col missing\n",
      "----------------------------------\n",
      "PLSR_159\n",
      "all col missing\n",
      "----------------------------------\n",
      "PLSR_16\n",
      "Iteration: 0\n",
      "Iteration: 1\n",
      "Iteration: 2\n"
     ]
    },
    {
     "output_type": "stream",
     "name": "stderr",
     "text": [
      " 70%|██████▉   | 422/605 [20:50<04:20,  1.42s/it]"
     ]
    },
    {
     "output_type": "stream",
     "name": "stdout",
     "text": [
      "Iteration: 3\n"
     ]
    },
    {
     "output_type": "stream",
     "name": "stderr",
     "text": [
      " 70%|███████   | 424/605 [20:54<08:13,  2.73s/it]"
     ]
    },
    {
     "output_type": "stream",
     "name": "stdout",
     "text": [
      "Iteration: 4\n",
      "----------------------------------\n",
      "PLSR_161\n",
      "all col missing\n",
      "----------------------------------\n",
      "PLSR_162\n",
      "all col missing\n",
      "----------------------------------\n",
      "PLSR_163\n",
      "all col missing\n",
      "----------------------------------\n",
      "PLSR_164\n",
      "Iteration: 0\n",
      "Iteration: 1\n"
     ]
    },
    {
     "output_type": "stream",
     "name": "stderr",
     "text": [
      " 71%|███████   | 428/605 [20:56<06:10,  2.09s/it]"
     ]
    },
    {
     "output_type": "stream",
     "name": "stdout",
     "text": [
      "Iteration: 2\n",
      "----------------------------------\n",
      "PLSR_165\n",
      "all col missing\n",
      "----------------------------------\n",
      "PLSR_166\n",
      "all col missing\n",
      "----------------------------------\n",
      "PLSR_167\n",
      "all col missing\n",
      "----------------------------------\n",
      "PLSR_168\n",
      "Iteration: 0\n",
      "Iteration: 1\n"
     ]
    },
    {
     "output_type": "stream",
     "name": "stderr",
     "text": [
      " 71%|███████▏  | 432/605 [20:59<04:58,  1.73s/it]"
     ]
    },
    {
     "output_type": "stream",
     "name": "stdout",
     "text": [
      "Iteration: 2\n",
      "----------------------------------\n",
      "PLSR_169\n",
      "all col missing\n",
      "----------------------------------\n",
      "PLSR_17\n",
      "Iteration: 0\n",
      "Iteration: 1\n"
     ]
    },
    {
     "output_type": "stream",
     "name": "stderr",
     "text": [
      " 71%|███████▏  | 432/605 [21:10<04:58,  1.73s/it]"
     ]
    },
    {
     "output_type": "stream",
     "name": "stdout",
     "text": [
      "Iteration: 2\n",
      "Iteration: 3\n"
     ]
    },
    {
     "output_type": "stream",
     "name": "stderr",
     "text": [
      " 73%|███████▎  | 443/605 [21:23<04:26,  1.65s/it]"
     ]
    },
    {
     "output_type": "stream",
     "name": "stdout",
     "text": [
      "Iteration: 4\n",
      "----------------------------------\n",
      "PLSR_170\n",
      "all col missing\n",
      "----------------------------------\n",
      "PLSR_171\n",
      "all col missing\n",
      "----------------------------------\n",
      "PLSR_172\n",
      "all col missing\n",
      "----------------------------------\n",
      "PLSR_173\n",
      "all col missing\n",
      "----------------------------------\n",
      "PLSR_174\n",
      "all col missing\n",
      "----------------------------------\n",
      "PLSR_175\n",
      "all col missing\n",
      "----------------------------------\n",
      "PLSR_176\n",
      "all col missing\n",
      "----------------------------------\n",
      "PLSR_177\n",
      "all col missing\n",
      "----------------------------------\n",
      "PLSR_178\n",
      "all col missing\n",
      "----------------------------------\n",
      "PLSR_18\n",
      "Iteration: 0\n",
      "Iteration: 1\n",
      "Iteration: 2\n"
     ]
    },
    {
     "output_type": "stream",
     "name": "stderr",
     "text": [
      " 73%|███████▎  | 443/605 [21:40<04:26,  1.65s/it]"
     ]
    },
    {
     "output_type": "stream",
     "name": "stdout",
     "text": [
      "Iteration: 3\n",
      "Iteration: 4\n"
     ]
    },
    {
     "output_type": "stream",
     "name": "stderr",
     "text": [
      " 73%|███████▎  | 444/605 [21:51<09:50,  3.67s/it]"
     ]
    },
    {
     "output_type": "stream",
     "name": "stdout",
     "text": [
      "Iteration: 5\n",
      "----------------------------------\n",
      "PLSR_180\n",
      "all col missing\n",
      "----------------------------------\n",
      "PLSR_181\n",
      "all col missing\n",
      "----------------------------------\n",
      "PLSR_182\n",
      "all col missing\n",
      "----------------------------------\n",
      "PLSR_183\n",
      "all col missing\n",
      "----------------------------------\n",
      "PLSR_184\n",
      "all col missing\n",
      "----------------------------------\n",
      "PLSR_185\n",
      "all col missing\n",
      "----------------------------------\n",
      "PLSR_186\n",
      "all col missing\n",
      "----------------------------------\n",
      "PLSR_187\n",
      "Iteration: 0\n",
      "Iteration: 1\n"
     ]
    },
    {
     "output_type": "stream",
     "name": "stderr",
     "text": [
      " 75%|███████▍  | 452/605 [21:53<05:14,  2.06s/it]"
     ]
    },
    {
     "output_type": "stream",
     "name": "stdout",
     "text": [
      "Iteration: 2\n",
      "----------------------------------\n",
      "PLSR_188\n",
      "all col missing\n",
      "----------------------------------\n",
      "PLSR_189\n",
      "all col missing\n",
      "----------------------------------\n",
      "PLSR_19\n",
      "Iteration: 0\n",
      "Iteration: 1\n",
      "Iteration: 2\n"
     ]
    },
    {
     "output_type": "stream",
     "name": "stderr",
     "text": [
      " 77%|███████▋  | 466/605 [22:11<03:16,  1.41s/it]"
     ]
    },
    {
     "output_type": "stream",
     "name": "stdout",
     "text": [
      "Iteration: 3\n",
      "----------------------------------\n",
      "PLSR_190\n",
      "all col missing\n",
      "----------------------------------\n",
      "PLSR_191\n",
      "all col missing\n",
      "----------------------------------\n",
      "PLSR_192\n",
      "all col missing\n",
      "----------------------------------\n",
      "PLSR_193\n",
      "all col missing\n",
      "----------------------------------\n",
      "PLSR_194\n",
      "all col missing\n",
      "----------------------------------\n",
      "PLSR_195\n",
      "all col missing\n",
      "----------------------------------\n",
      "PLSR_196\n",
      "all col missing\n",
      "----------------------------------\n",
      "PLSR_197\n",
      "all col missing\n",
      "----------------------------------\n",
      "PLSR_198\n",
      "all col missing\n",
      "----------------------------------\n",
      "PLSR_199\n",
      "all col missing\n",
      "----------------------------------\n",
      "PLSR_2\n",
      "all col missing\n",
      "----------------------------------\n",
      "PLSR_20\n",
      "Iteration: 0\n",
      "Iteration: 1\n",
      "Iteration: 2\n",
      "Iteration: 3\n"
     ]
    },
    {
     "output_type": "stream",
     "name": "stderr",
     "text": [
      " 77%|███████▋  | 467/605 [22:34<06:14,  2.72s/it]"
     ]
    },
    {
     "output_type": "stream",
     "name": "stdout",
     "text": [
      "Iteration: 4\n",
      "----------------------------------\n",
      "PLSR_200\n",
      "all col missing\n",
      "----------------------------------\n",
      "PLSR_201\n",
      "all col missing\n",
      "----------------------------------\n",
      "PLSR_202\n",
      "all col missing\n",
      "----------------------------------\n",
      "PLSR_203\n",
      "all col missing\n",
      "----------------------------------\n",
      "PLSR_204\n",
      "all col missing\n",
      "----------------------------------\n",
      "PLSR_205\n",
      "all col missing\n",
      "----------------------------------\n",
      "PLSR_206\n",
      "all col missing\n",
      "----------------------------------\n",
      "PLSR_207\n",
      "all col missing\n",
      "----------------------------------\n",
      "PLSR_208\n",
      "all col missing\n",
      "----------------------------------\n",
      "PLSR_21\n",
      "Iteration: 0\n",
      "Iteration: 1\n",
      "Iteration: 2\n",
      "Iteration: 3\n",
      "Iteration: 4\n"
     ]
    },
    {
     "output_type": "stream",
     "name": "stderr",
     "text": [
      " 80%|████████  | 486/605 [23:01<03:22,  1.71s/it]"
     ]
    },
    {
     "output_type": "stream",
     "name": "stdout",
     "text": [
      "Iteration: 5\n",
      "----------------------------------\n",
      "PLSR_210\n",
      "all col missing\n",
      "----------------------------------\n",
      "PLSR_211\n",
      "all col missing\n",
      "----------------------------------\n",
      "PLSR_212\n",
      "all col missing\n",
      "----------------------------------\n",
      "PLSR_213\n",
      "all col missing\n",
      "----------------------------------\n",
      "PLSR_214\n",
      "all col missing\n",
      "----------------------------------\n",
      "PLSR_215\n",
      "all col missing\n",
      "----------------------------------\n",
      "PLSR_216\n",
      "all col missing\n",
      "----------------------------------\n",
      "PLSR_218\n",
      "all col missing\n",
      "----------------------------------\n",
      "PLSR_219\n",
      "all col missing\n",
      "----------------------------------\n",
      "PLSR_22\n",
      "Iteration: 0\n",
      "Iteration: 1\n",
      "Iteration: 2\n",
      "Iteration: 3\n"
     ]
    },
    {
     "output_type": "stream",
     "name": "stderr",
     "text": [
      " 80%|████████  | 486/605 [23:20<03:22,  1.71s/it]"
     ]
    },
    {
     "output_type": "stream",
     "name": "stdout",
     "text": [
      "Iteration: 4\n",
      "Iteration: 5\n"
     ]
    },
    {
     "output_type": "stream",
     "name": "stderr",
     "text": [
      " 82%|████████▏ | 494/605 [23:33<04:03,  2.19s/it]"
     ]
    },
    {
     "output_type": "stream",
     "name": "stdout",
     "text": [
      "Iteration: 6\n",
      "----------------------------------\n",
      "PLSR_220\n",
      "all col missing\n",
      "----------------------------------\n",
      "PLSR_221\n",
      "all col missing\n",
      "----------------------------------\n",
      "PLSR_223\n",
      "all col missing\n",
      "----------------------------------\n",
      "PLSR_224\n",
      "all col missing\n",
      "----------------------------------\n",
      "PLSR_225\n",
      "all col missing\n",
      "----------------------------------\n",
      "PLSR_226\n",
      "all col missing\n",
      "----------------------------------\n",
      "PLSR_227\n",
      "all col missing\n",
      "----------------------------------\n",
      "PLSR_228\n",
      "all col missing\n",
      "----------------------------------\n",
      "PLSR_229\n",
      "all col missing\n",
      "----------------------------------\n",
      "PLSR_23\n",
      "Iteration: 0\n",
      "Iteration: 1\n",
      "Iteration: 2\n"
     ]
    },
    {
     "output_type": "stream",
     "name": "stderr",
     "text": [
      " 84%|████████▎ | 506/605 [23:52<02:41,  1.64s/it]"
     ]
    },
    {
     "output_type": "stream",
     "name": "stdout",
     "text": [
      "Iteration: 3\n",
      "----------------------------------\n",
      "PLSR_230\n",
      "all col missing\n",
      "----------------------------------\n",
      "PLSR_231\n",
      "all col missing\n",
      "----------------------------------\n",
      "PLSR_232\n",
      "all col missing\n",
      "----------------------------------\n",
      "PLSR_233\n",
      "all col missing\n",
      "----------------------------------\n",
      "PLSR_234\n",
      "all col missing\n",
      "----------------------------------\n",
      "PLSR_235\n",
      "all col missing\n",
      "----------------------------------\n",
      "PLSR_236\n",
      "all col missing\n",
      "----------------------------------\n",
      "PLSR_237\n",
      "all col missing\n",
      "----------------------------------\n",
      "PLSR_238\n",
      "all col missing\n",
      "----------------------------------\n",
      "PLSR_239\n",
      "all col missing\n",
      "----------------------------------\n",
      "PLSR_24\n",
      "Iteration: 0\n",
      "Iteration: 1\n"
     ]
    },
    {
     "output_type": "stream",
     "name": "stderr",
     "text": [
      " 85%|████████▍ | 514/605 [24:05<02:31,  1.66s/it]"
     ]
    },
    {
     "output_type": "stream",
     "name": "stdout",
     "text": [
      "Iteration: 2\n",
      "----------------------------------\n",
      "PLSR_240\n",
      "all col missing\n",
      "----------------------------------\n",
      "PLSR_241\n",
      "all col missing\n",
      "----------------------------------\n",
      "PLSR_242\n",
      "all col missing\n",
      "----------------------------------\n",
      "PLSR_243\n",
      "all col missing\n",
      "----------------------------------\n",
      "PLSR_245\n",
      "all col missing\n",
      "----------------------------------\n",
      "PLSR_246\n",
      "all col missing\n",
      "----------------------------------\n",
      "PLSR_247\n",
      "all col missing\n",
      "----------------------------------\n",
      "PLSR_249\n",
      "all col missing\n",
      "----------------------------------\n",
      "PLSR_25\n",
      "Iteration: 0\n",
      "Iteration: 1\n",
      "Iteration: 2\n"
     ]
    },
    {
     "output_type": "stream",
     "name": "stderr",
     "text": [
      " 87%|████████▋ | 526/605 [24:25<01:54,  1.45s/it]"
     ]
    },
    {
     "output_type": "stream",
     "name": "stdout",
     "text": [
      "Iteration: 3\n",
      "----------------------------------\n",
      "PLSR_250\n",
      "all col missing\n",
      "----------------------------------\n",
      "PLSR_252\n",
      "all col missing\n",
      "----------------------------------\n",
      "PLSR_253\n",
      "all col missing\n",
      "----------------------------------\n",
      "PLSR_254\n",
      "all col missing\n",
      "----------------------------------\n",
      "PLSR_255\n",
      "all col missing\n",
      "----------------------------------\n",
      "PLSR_256\n",
      "all col missing\n",
      "----------------------------------\n",
      "PLSR_257\n",
      "all col missing\n",
      "----------------------------------\n",
      "PLSR_258\n",
      "all col missing\n",
      "----------------------------------\n",
      "PLSR_259\n",
      "all col missing\n",
      "----------------------------------\n",
      "PLSR_26\n",
      "Iteration: 0\n",
      "Iteration: 1\n",
      "Iteration: 2\n"
     ]
    },
    {
     "output_type": "stream",
     "name": "stderr",
     "text": [
      " 87%|████████▋ | 527/605 [24:43<03:13,  2.49s/it]"
     ]
    },
    {
     "output_type": "stream",
     "name": "stdout",
     "text": [
      "Iteration: 3\n",
      "----------------------------------\n",
      "PLSR_260\n",
      "all col missing\n",
      "----------------------------------\n",
      "PLSR_261\n",
      "all col missing\n",
      "----------------------------------\n",
      "PLSR_263\n",
      "all col missing\n",
      "----------------------------------\n",
      "PLSR_264\n",
      "all col missing\n",
      "----------------------------------\n",
      "PLSR_27\n",
      "Iteration: 0\n",
      "Iteration: 1\n",
      "Iteration: 2\n"
     ]
    },
    {
     "output_type": "stream",
     "name": "stderr",
     "text": [
      " 88%|████████▊ | 532/605 [25:02<03:29,  2.87s/it]"
     ]
    },
    {
     "output_type": "stream",
     "name": "stdout",
     "text": [
      "Iteration: 3\n",
      "----------------------------------\n",
      "PLSR_28\n",
      "Iteration: 0\n",
      "Iteration: 1\n",
      "Iteration: 2\n",
      "Iteration: 3\n",
      "Iteration: 4\n"
     ]
    },
    {
     "output_type": "stream",
     "name": "stderr",
     "text": [
      " 88%|████████▊ | 533/605 [25:31<05:54,  4.92s/it]"
     ]
    },
    {
     "output_type": "stream",
     "name": "stdout",
     "text": [
      "Iteration: 5\n",
      "----------------------------------\n",
      "PLSR_29\n",
      "Iteration: 0\n",
      "Iteration: 1\n",
      "Iteration: 2\n"
     ]
    },
    {
     "output_type": "stream",
     "name": "stderr",
     "text": [
      " 88%|████████▊ | 534/605 [25:49<07:26,  6.30s/it]"
     ]
    },
    {
     "output_type": "stream",
     "name": "stdout",
     "text": [
      "Iteration: 3\n",
      "----------------------------------\n",
      "PLSR_3\n",
      "all col missing\n",
      "----------------------------------\n",
      "PLSR_30\n",
      "Iteration: 0\n",
      "Iteration: 1\n",
      "Iteration: 2\n",
      "Iteration: 3\n",
      "Iteration: 4\n"
     ]
    },
    {
     "output_type": "stream",
     "name": "stderr",
     "text": [
      " 89%|████████▊ | 536/605 [26:17<09:10,  7.98s/it]"
     ]
    },
    {
     "output_type": "stream",
     "name": "stdout",
     "text": [
      "Iteration: 5\n",
      "----------------------------------\n",
      "PLSR_31\n",
      "Iteration: 0\n",
      "Iteration: 1\n",
      "Iteration: 2\n",
      "Iteration: 3\n"
     ]
    },
    {
     "output_type": "stream",
     "name": "stderr",
     "text": [
      " 89%|████████▉ | 537/605 [26:40<11:27, 10.10s/it]"
     ]
    },
    {
     "output_type": "stream",
     "name": "stdout",
     "text": [
      "Iteration: 4\n",
      "----------------------------------\n",
      "PLSR_32\n",
      "Iteration: 0\n",
      "Iteration: 1\n",
      "Iteration: 2\n"
     ]
    },
    {
     "output_type": "stream",
     "name": "stderr",
     "text": [
      " 89%|████████▉ | 538/605 [27:02<13:24, 12.01s/it]"
     ]
    },
    {
     "output_type": "stream",
     "name": "stdout",
     "text": [
      "Iteration: 3\n",
      "----------------------------------\n",
      "PLSR_33\n",
      "Iteration: 0\n",
      "Iteration: 1\n",
      "Iteration: 2\n",
      "Iteration: 3\n"
     ]
    },
    {
     "output_type": "stream",
     "name": "stderr",
     "text": [
      " 89%|████████▉ | 539/605 [27:28<16:17, 14.81s/it]"
     ]
    },
    {
     "output_type": "stream",
     "name": "stdout",
     "text": [
      "Iteration: 4\n",
      "----------------------------------\n",
      "PLSR_34\n",
      "Iteration: 0\n",
      "Iteration: 1\n",
      "Iteration: 2\n",
      "Iteration: 3\n"
     ]
    },
    {
     "output_type": "stream",
     "name": "stderr",
     "text": [
      " 89%|████████▉ | 540/605 [27:55<18:43, 17.28s/it]"
     ]
    },
    {
     "output_type": "stream",
     "name": "stdout",
     "text": [
      "Iteration: 4\n",
      "----------------------------------\n",
      "PLSR_35\n",
      "Iteration: 0\n",
      "Iteration: 1\n",
      "Iteration: 2\n",
      "Iteration: 3\n",
      "Iteration: 4\n",
      "Iteration: 5\n"
     ]
    },
    {
     "output_type": "stream",
     "name": "stderr",
     "text": [
      " 89%|████████▉ | 541/605 [28:32<23:26, 21.98s/it]"
     ]
    },
    {
     "output_type": "stream",
     "name": "stdout",
     "text": [
      "Iteration: 6\n",
      "----------------------------------\n",
      "PLSR_36\n",
      "all col missing\n",
      "----------------------------------\n",
      "PLSR_37\n",
      "all col missing\n",
      "----------------------------------\n",
      "PLSR_38\n",
      "all col missing\n",
      "----------------------------------\n",
      "PLSR_39\n",
      "Iteration: 0\n",
      "Iteration: 1\n",
      "Iteration: 2\n",
      "Iteration: 3\n"
     ]
    },
    {
     "output_type": "stream",
     "name": "stderr",
     "text": [
      " 90%|█████████ | 545/605 [28:55<12:38, 12.64s/it]"
     ]
    },
    {
     "output_type": "stream",
     "name": "stdout",
     "text": [
      "Iteration: 4\n",
      "----------------------------------\n",
      "PLSR_4\n",
      "Iteration: 0\n",
      "Iteration: 1\n"
     ]
    },
    {
     "output_type": "stream",
     "name": "stderr",
     "text": [
      " 90%|█████████ | 546/605 [29:10<12:54, 13.12s/it]/home/kumaran/.local/lib/python3.6/site-packages/missingpy/missforest.py:528: UserWarning: No missing value located; returning original dataset.\n",
      "  warnings.warn(\"No missing value located; returning original \"\n",
      "/home/kumaran/.local/lib/python3.6/site-packages/missingpy/missforest.py:528: UserWarning: No missing value located; returning original dataset.\n",
      "  warnings.warn(\"No missing value located; returning original \"\n",
      "/home/kumaran/.local/lib/python3.6/site-packages/missingpy/missforest.py:528: UserWarning: No missing value located; returning original dataset.\n",
      "  warnings.warn(\"No missing value located; returning original \"\n",
      "/home/kumaran/.local/lib/python3.6/site-packages/missingpy/missforest.py:528: UserWarning: No missing value located; returning original dataset.\n",
      "  warnings.warn(\"No missing value located; returning original \"\n",
      "/home/kumaran/.local/lib/python3.6/site-packages/missingpy/missforest.py:528: UserWarning: No missing value located; returning original dataset.\n",
      "  warnings.warn(\"No missing value located; returning original \"\n",
      "/home/kumaran/.local/lib/python3.6/site-packages/missingpy/missforest.py:528: UserWarning: No missing value located; returning original dataset.\n",
      "  warnings.warn(\"No missing value located; returning original \"\n",
      " 91%|█████████▏| 553/605 [29:10<04:13,  4.87s/it]"
     ]
    },
    {
     "output_type": "stream",
     "name": "stdout",
     "text": [
      "Iteration: 2\n",
      "----------------------------------\n",
      "PLSR_40\n",
      "all col missing\n",
      "----------------------------------\n",
      "PLSR_41\n",
      "----------------------------------\n",
      "PLSR_42\n",
      "----------------------------------\n",
      "PLSR_43\n",
      "----------------------------------\n",
      "PLSR_44\n",
      "----------------------------------\n",
      "PLSR_45\n",
      "----------------------------------\n",
      "PLSR_46\n",
      "----------------------------------\n",
      "PLSR_47\n",
      "----------------------------------\n",
      "PLSR_48\n",
      "----------------------------------\n",
      "PLSR_49\n",
      "----------------------------------\n",
      "PLSR_5\n",
      "all col missing\n",
      "----------------------------------\n",
      "PLSR_50\n",
      "----------------------------------\n",
      "PLSR_51\n",
      "all col missing\n",
      "----------------------------------\n",
      "PLSR_52\n"
     ]
    },
    {
     "output_type": "stream",
     "name": "stderr",
     "text": [
      "/home/kumaran/.local/lib/python3.6/site-packages/missingpy/missforest.py:528: UserWarning: No missing value located; returning original dataset.\n",
      "  warnings.warn(\"No missing value located; returning original \"\n",
      "/home/kumaran/.local/lib/python3.6/site-packages/missingpy/missforest.py:528: UserWarning: No missing value located; returning original dataset.\n",
      "  warnings.warn(\"No missing value located; returning original \"\n",
      "/home/kumaran/.local/lib/python3.6/site-packages/missingpy/missforest.py:528: UserWarning: No missing value located; returning original dataset.\n",
      "  warnings.warn(\"No missing value located; returning original \"\n",
      "/home/kumaran/.local/lib/python3.6/site-packages/missingpy/missforest.py:528: UserWarning: No missing value located; returning original dataset.\n",
      "  warnings.warn(\"No missing value located; returning original \"\n"
     ]
    },
    {
     "output_type": "stream",
     "name": "stdout",
     "text": [
      "Iteration: 0\n",
      "Iteration: 1\n"
     ]
    },
    {
     "output_type": "stream",
     "name": "stderr",
     "text": [
      " 93%|█████████▎| 561/605 [29:12<01:50,  2.52s/it]"
     ]
    },
    {
     "output_type": "stream",
     "name": "stdout",
     "text": [
      "Iteration: 2\n",
      "----------------------------------\n",
      "PLSR_53\n",
      "all col missing\n",
      "----------------------------------\n",
      "PLSR_54\n",
      "all col missing\n",
      "----------------------------------\n",
      "PLSR_55\n",
      "all col missing\n",
      "----------------------------------\n",
      "PLSR_56\n",
      "all col missing\n",
      "----------------------------------\n",
      "PLSR_57\n",
      "----------------------------------\n",
      "PLSR_58\n"
     ]
    },
    {
     "output_type": "stream",
     "name": "stderr",
     "text": [
      "/home/kumaran/.local/lib/python3.6/site-packages/missingpy/missforest.py:528: UserWarning: No missing value located; returning original dataset.\n",
      "  warnings.warn(\"No missing value located; returning original \"\n"
     ]
    },
    {
     "output_type": "stream",
     "name": "stdout",
     "text": [
      "Iteration: 0\n",
      "Iteration: 1\n",
      "Iteration: 2\n"
     ]
    },
    {
     "output_type": "stream",
     "name": "stderr",
     "text": [
      " 93%|█████████▎| 561/605 [29:30<01:50,  2.52s/it]"
     ]
    },
    {
     "output_type": "stream",
     "name": "stdout",
     "text": [
      "Iteration: 3\n",
      "Iteration: 4\n",
      "Iteration: 5\n"
     ]
    },
    {
     "output_type": "stream",
     "name": "stderr",
     "text": [
      " 94%|█████████▎| 566/605 [29:43<02:23,  3.68s/it]"
     ]
    },
    {
     "output_type": "stream",
     "name": "stdout",
     "text": [
      "Iteration: 6\n",
      "----------------------------------\n",
      "PLSR_59\n",
      "all col missing\n",
      "----------------------------------\n",
      "PLSR_6\n",
      "all col missing\n",
      "----------------------------------\n",
      "PLSR_60\n",
      "Iteration: 0\n",
      "Iteration: 1\n"
     ]
    },
    {
     "output_type": "stream",
     "name": "stderr",
     "text": [
      " 94%|█████████▍| 569/605 [29:50<02:00,  3.35s/it]"
     ]
    },
    {
     "output_type": "stream",
     "name": "stdout",
     "text": [
      "Iteration: 2\n",
      "----------------------------------\n",
      "PLSR_61\n",
      "Iteration: 0\n",
      "Iteration: 1\n"
     ]
    },
    {
     "output_type": "stream",
     "name": "stderr",
     "text": [
      " 94%|█████████▍| 569/605 [30:00<02:00,  3.35s/it]"
     ]
    },
    {
     "output_type": "stream",
     "name": "stdout",
     "text": [
      "Iteration: 2\n"
     ]
    },
    {
     "output_type": "stream",
     "name": "stderr",
     "text": [
      " 94%|█████████▍| 570/605 [30:08<02:44,  4.71s/it]"
     ]
    },
    {
     "output_type": "stream",
     "name": "stdout",
     "text": [
      "Iteration: 3\n",
      "----------------------------------\n",
      "PLSR_62\n",
      "Iteration: 0\n"
     ]
    },
    {
     "output_type": "stream",
     "name": "stderr",
     "text": [
      " 94%|█████████▍| 571/605 [30:09<02:25,  4.29s/it]"
     ]
    },
    {
     "output_type": "stream",
     "name": "stdout",
     "text": [
      "Iteration: 1\n",
      "----------------------------------\n",
      "PLSR_63\n",
      "all col missing\n",
      "----------------------------------\n",
      "PLSR_65\n",
      "Iteration: 0\n",
      "Iteration: 1\n"
     ]
    },
    {
     "output_type": "stream",
     "name": "stderr",
     "text": [
      " 94%|█████████▍| 571/605 [30:20<02:25,  4.29s/it]"
     ]
    },
    {
     "output_type": "stream",
     "name": "stdout",
     "text": [
      "Iteration: 2\n"
     ]
    },
    {
     "output_type": "stream",
     "name": "stderr",
     "text": [
      " 95%|█████████▍| 573/605 [30:28<03:00,  5.63s/it]"
     ]
    },
    {
     "output_type": "stream",
     "name": "stdout",
     "text": [
      "Iteration: 3\n",
      "----------------------------------\n",
      "PLSR_66\n",
      "all col missing\n",
      "----------------------------------\n",
      "PLSR_67\n",
      "Iteration: 0\n",
      "Iteration: 1\n"
     ]
    },
    {
     "output_type": "stream",
     "name": "stderr",
     "text": [
      " 95%|█████████▌| 575/605 [30:34<02:27,  4.91s/it]"
     ]
    },
    {
     "output_type": "stream",
     "name": "stdout",
     "text": [
      "Iteration: 2\n",
      "----------------------------------\n",
      "PLSR_68\n",
      "all col missing\n",
      "----------------------------------\n",
      "PLSR_69\n",
      "all col missing\n",
      "----------------------------------\n",
      "PLSR_7\n",
      "all col missing\n",
      "----------------------------------\n",
      "PLSR_70\n",
      "all col missing\n",
      "----------------------------------\n",
      "PLSR_71\n",
      "----------------------------------\n",
      "PLSR_72\n"
     ]
    },
    {
     "output_type": "stream",
     "name": "stderr",
     "text": [
      "/home/kumaran/.local/lib/python3.6/site-packages/missingpy/missforest.py:528: UserWarning: No missing value located; returning original dataset.\n",
      "  warnings.warn(\"No missing value located; returning original \"\n"
     ]
    },
    {
     "output_type": "stream",
     "name": "stdout",
     "text": [
      "Iteration: 0\n",
      "Iteration: 1\n"
     ]
    },
    {
     "output_type": "stream",
     "name": "stderr",
     "text": [
      " 96%|█████████▌| 581/605 [30:36<00:59,  2.46s/it]/home/kumaran/.local/lib/python3.6/site-packages/missingpy/missforest.py:528: UserWarning: No missing value located; returning original dataset.\n",
      "  warnings.warn(\"No missing value located; returning original \"\n",
      "/home/kumaran/.local/lib/python3.6/site-packages/missingpy/missforest.py:528: UserWarning: No missing value located; returning original dataset.\n",
      "  warnings.warn(\"No missing value located; returning original \"\n",
      " 97%|█████████▋| 587/605 [30:36<00:25,  1.41s/it]"
     ]
    },
    {
     "output_type": "stream",
     "name": "stdout",
     "text": [
      "Iteration: 2\n",
      "----------------------------------\n",
      "PLSR_73\n",
      "all col missing\n",
      "----------------------------------\n",
      "PLSR_74\n",
      "all col missing\n",
      "----------------------------------\n",
      "PLSR_75\n",
      "----------------------------------\n",
      "PLSR_76\n",
      "----------------------------------\n",
      "PLSR_77\n",
      "all col missing\n",
      "----------------------------------\n",
      "PLSR_78\n",
      "all col missing\n",
      "----------------------------------\n",
      "PLSR_79\n",
      "all col missing\n",
      "----------------------------------\n",
      "PLSR_8\n",
      "all col missing\n",
      "----------------------------------\n",
      "PLSR_80\n",
      "all col missing\n",
      "----------------------------------\n",
      "PLSR_81\n",
      "all col missing\n",
      "----------------------------------\n",
      "PLSR_82\n",
      "all col missing\n",
      "----------------------------------\n",
      "PLSR_83\n",
      "all col missing\n",
      "----------------------------------\n",
      "PLSR_84\n",
      "Iteration: 0\n",
      "Iteration: 1\n"
     ]
    },
    {
     "output_type": "stream",
     "name": "stderr",
     "text": [
      " 98%|█████████▊| 594/605 [30:49<00:17,  1.62s/it]"
     ]
    },
    {
     "output_type": "stream",
     "name": "stdout",
     "text": [
      "Iteration: 2\n",
      "----------------------------------\n",
      "PLSR_85\n",
      "----------------------------------\n",
      "PLSR_86\n"
     ]
    },
    {
     "output_type": "stream",
     "name": "stderr",
     "text": [
      "/home/kumaran/.local/lib/python3.6/site-packages/missingpy/missforest.py:528: UserWarning: No missing value located; returning original dataset.\n",
      "  warnings.warn(\"No missing value located; returning original \"\n"
     ]
    },
    {
     "output_type": "stream",
     "name": "stdout",
     "text": [
      "Iteration: 0\n",
      "Iteration: 1\n"
     ]
    },
    {
     "output_type": "stream",
     "name": "stderr",
     "text": [
      " 99%|█████████▊| 596/605 [31:03<00:21,  2.40s/it]"
     ]
    },
    {
     "output_type": "stream",
     "name": "stdout",
     "text": [
      "Iteration: 2\n",
      "----------------------------------\n",
      "PLSR_87\n",
      "all col missing\n",
      "----------------------------------\n",
      "PLSR_88\n",
      "all col missing\n",
      "----------------------------------\n",
      "PLSR_89\n",
      "Iteration: 0\n",
      "Iteration: 1\n"
     ]
    },
    {
     "output_type": "stream",
     "name": "stderr",
     "text": [
      " 99%|█████████▉| 599/605 [31:05<00:11,  1.96s/it]"
     ]
    },
    {
     "output_type": "stream",
     "name": "stdout",
     "text": [
      "Iteration: 2\n",
      "----------------------------------\n",
      "PLSR_9\n",
      "Iteration: 0\n",
      "Iteration: 1\n",
      "Iteration: 2\n"
     ]
    },
    {
     "output_type": "stream",
     "name": "stderr",
     "text": [
      " 99%|█████████▉| 600/605 [31:23<00:18,  3.64s/it]"
     ]
    },
    {
     "output_type": "stream",
     "name": "stdout",
     "text": [
      "Iteration: 3\n",
      "----------------------------------\n",
      "PLSR_90\n",
      "all col missing\n",
      "----------------------------------\n",
      "PLSR_91\n",
      "----------------------------------\n",
      "PLSR_92\n",
      "all col missing\n",
      "----------------------------------\n",
      "PLSR_95\n"
     ]
    },
    {
     "output_type": "stream",
     "name": "stderr",
     "text": [
      "/home/kumaran/.local/lib/python3.6/site-packages/missingpy/missforest.py:528: UserWarning: No missing value located; returning original dataset.\n",
      "  warnings.warn(\"No missing value located; returning original \"\n"
     ]
    },
    {
     "output_type": "stream",
     "name": "stdout",
     "text": [
      "Iteration: 0\n",
      "Iteration: 1\n"
     ]
    },
    {
     "output_type": "stream",
     "name": "stderr",
     "text": [
      "100%|██████████| 605/605 [31:25<00:00,  3.12s/it]"
     ]
    },
    {
     "output_type": "stream",
     "name": "stdout",
     "text": [
      "Iteration: 2\n",
      "----------------------------------\n",
      "PLSR_99\n",
      "all col missing\n"
     ]
    },
    {
     "output_type": "stream",
     "name": "stderr",
     "text": [
      "\n"
     ]
    },
    {
     "output_type": "display_data",
     "data": {
      "text/plain": [
       "                src_id  num_obs      sepn                    name         ra  \\\n",
       "obs_id                                                                         \n",
       "CV_0_obs_0        CV_0       25  0.157954   2CXO J004247.1+411619   10.69654   \n",
       "CV_0_obs_1        CV_0       25  0.157954   2CXO J004247.1+411619   10.69654   \n",
       "CV_0_obs_2        CV_0       25  0.157954   2CXO J004247.1+411619   10.69654   \n",
       "CV_0_obs_3        CV_0       25  0.157954   2CXO J004247.1+411619   10.69654   \n",
       "CV_0_obs_4        CV_0       25  0.157954   2CXO J004247.1+411619   10.69654   \n",
       "...                ...      ...       ...                     ...        ...   \n",
       "PLSR_95_obs_1  PLSR_95        2  0.456983   2CXO J222905.2+611409  337.27190   \n",
       "PLSR_99_obs_0  PLSR_99        4  0.259532   2CXO J171810.0-371853  259.54170   \n",
       "PLSR_99_obs_1  PLSR_99        4  0.259532   2CXO J171810.0-371853  259.54170   \n",
       "PLSR_99_obs_2  PLSR_99        4  0.259532   2CXO J171810.0-371853  259.54170   \n",
       "PLSR_99_obs_3  PLSR_99        4  0.259532   2CXO J171810.0-371853  259.54170   \n",
       "\n",
       "                    dec  livetime  significance   likelihood class  ...  \\\n",
       "obs_id                                                              ...   \n",
       "CV_0_obs_0     41.27215    4103.7         52.93  16618.73000    CV  ...   \n",
       "CV_0_obs_1     41.27215    3907.5         52.93  16618.73000    CV  ...   \n",
       "CV_0_obs_2     41.27215    3907.5         52.93  16618.73000    CV  ...   \n",
       "CV_0_obs_3     41.27215    3904.6         52.93  16618.73000    CV  ...   \n",
       "CV_0_obs_4     41.27215    3907.5         52.93  16618.73000    CV  ...   \n",
       "...                 ...       ...           ...          ...   ...  ...   \n",
       "PLSR_95_obs_1  61.23586   93964.6         43.76  10080.56000    PL  ...   \n",
       "PLSR_99_obs_0 -37.31476   32031.9          3.00     22.24461    PL  ...   \n",
       "PLSR_99_obs_1 -37.31476   33272.3          3.00     22.24461    PL  ...   \n",
       "PLSR_99_obs_2 -37.31476   34173.8          3.00     22.24461    PL  ...   \n",
       "PLSR_99_obs_3 -37.31476   34148.0          3.00     22.24461    PL  ...   \n",
       "\n",
       "               var_inter_prob_h  var_inter_sigma_h  flux_aper_u  var_max_b  \\\n",
       "obs_id                                                                       \n",
       "CV_0_obs_0                  NaN                NaN          NaN        NaN   \n",
       "CV_0_obs_1                  NaN                NaN          NaN        NaN   \n",
       "CV_0_obs_2                  NaN                NaN          NaN        NaN   \n",
       "CV_0_obs_3                  NaN                NaN          NaN        NaN   \n",
       "CV_0_obs_4                  NaN                NaN          NaN        NaN   \n",
       "...                         ...                ...          ...        ...   \n",
       "PLSR_95_obs_1             0.941       4.910000e-06     14.28946    0.02135   \n",
       "PLSR_99_obs_0             0.692       1.870000e-07          NaN        NaN   \n",
       "PLSR_99_obs_1             0.692       1.870000e-07          NaN        NaN   \n",
       "PLSR_99_obs_2             0.692       1.870000e-07          NaN        NaN   \n",
       "PLSR_99_obs_3             0.692       1.870000e-07          NaN        NaN   \n",
       "\n",
       "               var_prob_b  ks_prob_b  kp_prob_b  var_sigma_b  var_mean_b  \\\n",
       "obs_id                                                                     \n",
       "CV_0_obs_0            NaN        NaN        NaN          NaN         NaN   \n",
       "CV_0_obs_1            NaN        NaN        NaN          NaN         NaN   \n",
       "CV_0_obs_2            NaN        NaN        NaN          NaN         NaN   \n",
       "CV_0_obs_3            NaN        NaN        NaN          NaN         NaN   \n",
       "CV_0_obs_4            NaN        NaN        NaN          NaN         NaN   \n",
       "...                   ...        ...        ...          ...         ...   \n",
       "PLSR_95_obs_1       0.059      0.731      0.464     0.000035     0.02132   \n",
       "PLSR_99_obs_0         NaN        NaN        NaN          NaN         NaN   \n",
       "PLSR_99_obs_1         NaN        NaN        NaN          NaN         NaN   \n",
       "PLSR_99_obs_2         NaN        NaN        NaN          NaN         NaN   \n",
       "PLSR_99_obs_3         NaN        NaN        NaN          NaN         NaN   \n",
       "\n",
       "               var_min_b  \n",
       "obs_id                    \n",
       "CV_0_obs_0           NaN  \n",
       "CV_0_obs_1           NaN  \n",
       "CV_0_obs_2           NaN  \n",
       "CV_0_obs_3           NaN  \n",
       "CV_0_obs_4           NaN  \n",
       "...                  ...  \n",
       "PLSR_95_obs_1    0.02128  \n",
       "PLSR_99_obs_0        NaN  \n",
       "PLSR_99_obs_1        NaN  \n",
       "PLSR_99_obs_2        NaN  \n",
       "PLSR_99_obs_3        NaN  \n",
       "\n",
       "[3690 rows x 42 columns]"
      ],
      "text/html": [
       "<div>\n",
       "<style scoped>\n",
       "    .dataframe tbody tr th:only-of-type {\n",
       "        vertical-align: middle;\n",
       "    }\n",
       "\n",
       "    .dataframe tbody tr th {\n",
       "        vertical-align: top;\n",
       "    }\n",
       "\n",
       "    .dataframe thead th {\n",
       "        text-align: right;\n",
       "    }\n",
       "</style>\n",
       "<table border=\"1\" class=\"dataframe\">\n",
       "  <thead>\n",
       "    <tr style=\"text-align: right;\">\n",
       "      <th></th>\n",
       "      <th>src_id</th>\n",
       "      <th>num_obs</th>\n",
       "      <th>sepn</th>\n",
       "      <th>name</th>\n",
       "      <th>ra</th>\n",
       "      <th>dec</th>\n",
       "      <th>livetime</th>\n",
       "      <th>significance</th>\n",
       "      <th>likelihood</th>\n",
       "      <th>class</th>\n",
       "      <th>...</th>\n",
       "      <th>var_inter_prob_h</th>\n",
       "      <th>var_inter_sigma_h</th>\n",
       "      <th>flux_aper_u</th>\n",
       "      <th>var_max_b</th>\n",
       "      <th>var_prob_b</th>\n",
       "      <th>ks_prob_b</th>\n",
       "      <th>kp_prob_b</th>\n",
       "      <th>var_sigma_b</th>\n",
       "      <th>var_mean_b</th>\n",
       "      <th>var_min_b</th>\n",
       "    </tr>\n",
       "    <tr>\n",
       "      <th>obs_id</th>\n",
       "      <th></th>\n",
       "      <th></th>\n",
       "      <th></th>\n",
       "      <th></th>\n",
       "      <th></th>\n",
       "      <th></th>\n",
       "      <th></th>\n",
       "      <th></th>\n",
       "      <th></th>\n",
       "      <th></th>\n",
       "      <th></th>\n",
       "      <th></th>\n",
       "      <th></th>\n",
       "      <th></th>\n",
       "      <th></th>\n",
       "      <th></th>\n",
       "      <th></th>\n",
       "      <th></th>\n",
       "      <th></th>\n",
       "      <th></th>\n",
       "      <th></th>\n",
       "    </tr>\n",
       "  </thead>\n",
       "  <tbody>\n",
       "    <tr>\n",
       "      <th>CV_0_obs_0</th>\n",
       "      <td>CV_0</td>\n",
       "      <td>25</td>\n",
       "      <td>0.157954</td>\n",
       "      <td>2CXO J004247.1+411619</td>\n",
       "      <td>10.69654</td>\n",
       "      <td>41.27215</td>\n",
       "      <td>4103.7</td>\n",
       "      <td>52.93</td>\n",
       "      <td>16618.73000</td>\n",
       "      <td>CV</td>\n",
       "      <td>...</td>\n",
       "      <td>NaN</td>\n",
       "      <td>NaN</td>\n",
       "      <td>NaN</td>\n",
       "      <td>NaN</td>\n",
       "      <td>NaN</td>\n",
       "      <td>NaN</td>\n",
       "      <td>NaN</td>\n",
       "      <td>NaN</td>\n",
       "      <td>NaN</td>\n",
       "      <td>NaN</td>\n",
       "    </tr>\n",
       "    <tr>\n",
       "      <th>CV_0_obs_1</th>\n",
       "      <td>CV_0</td>\n",
       "      <td>25</td>\n",
       "      <td>0.157954</td>\n",
       "      <td>2CXO J004247.1+411619</td>\n",
       "      <td>10.69654</td>\n",
       "      <td>41.27215</td>\n",
       "      <td>3907.5</td>\n",
       "      <td>52.93</td>\n",
       "      <td>16618.73000</td>\n",
       "      <td>CV</td>\n",
       "      <td>...</td>\n",
       "      <td>NaN</td>\n",
       "      <td>NaN</td>\n",
       "      <td>NaN</td>\n",
       "      <td>NaN</td>\n",
       "      <td>NaN</td>\n",
       "      <td>NaN</td>\n",
       "      <td>NaN</td>\n",
       "      <td>NaN</td>\n",
       "      <td>NaN</td>\n",
       "      <td>NaN</td>\n",
       "    </tr>\n",
       "    <tr>\n",
       "      <th>CV_0_obs_2</th>\n",
       "      <td>CV_0</td>\n",
       "      <td>25</td>\n",
       "      <td>0.157954</td>\n",
       "      <td>2CXO J004247.1+411619</td>\n",
       "      <td>10.69654</td>\n",
       "      <td>41.27215</td>\n",
       "      <td>3907.5</td>\n",
       "      <td>52.93</td>\n",
       "      <td>16618.73000</td>\n",
       "      <td>CV</td>\n",
       "      <td>...</td>\n",
       "      <td>NaN</td>\n",
       "      <td>NaN</td>\n",
       "      <td>NaN</td>\n",
       "      <td>NaN</td>\n",
       "      <td>NaN</td>\n",
       "      <td>NaN</td>\n",
       "      <td>NaN</td>\n",
       "      <td>NaN</td>\n",
       "      <td>NaN</td>\n",
       "      <td>NaN</td>\n",
       "    </tr>\n",
       "    <tr>\n",
       "      <th>CV_0_obs_3</th>\n",
       "      <td>CV_0</td>\n",
       "      <td>25</td>\n",
       "      <td>0.157954</td>\n",
       "      <td>2CXO J004247.1+411619</td>\n",
       "      <td>10.69654</td>\n",
       "      <td>41.27215</td>\n",
       "      <td>3904.6</td>\n",
       "      <td>52.93</td>\n",
       "      <td>16618.73000</td>\n",
       "      <td>CV</td>\n",
       "      <td>...</td>\n",
       "      <td>NaN</td>\n",
       "      <td>NaN</td>\n",
       "      <td>NaN</td>\n",
       "      <td>NaN</td>\n",
       "      <td>NaN</td>\n",
       "      <td>NaN</td>\n",
       "      <td>NaN</td>\n",
       "      <td>NaN</td>\n",
       "      <td>NaN</td>\n",
       "      <td>NaN</td>\n",
       "    </tr>\n",
       "    <tr>\n",
       "      <th>CV_0_obs_4</th>\n",
       "      <td>CV_0</td>\n",
       "      <td>25</td>\n",
       "      <td>0.157954</td>\n",
       "      <td>2CXO J004247.1+411619</td>\n",
       "      <td>10.69654</td>\n",
       "      <td>41.27215</td>\n",
       "      <td>3907.5</td>\n",
       "      <td>52.93</td>\n",
       "      <td>16618.73000</td>\n",
       "      <td>CV</td>\n",
       "      <td>...</td>\n",
       "      <td>NaN</td>\n",
       "      <td>NaN</td>\n",
       "      <td>NaN</td>\n",
       "      <td>NaN</td>\n",
       "      <td>NaN</td>\n",
       "      <td>NaN</td>\n",
       "      <td>NaN</td>\n",
       "      <td>NaN</td>\n",
       "      <td>NaN</td>\n",
       "      <td>NaN</td>\n",
       "    </tr>\n",
       "    <tr>\n",
       "      <th>...</th>\n",
       "      <td>...</td>\n",
       "      <td>...</td>\n",
       "      <td>...</td>\n",
       "      <td>...</td>\n",
       "      <td>...</td>\n",
       "      <td>...</td>\n",
       "      <td>...</td>\n",
       "      <td>...</td>\n",
       "      <td>...</td>\n",
       "      <td>...</td>\n",
       "      <td>...</td>\n",
       "      <td>...</td>\n",
       "      <td>...</td>\n",
       "      <td>...</td>\n",
       "      <td>...</td>\n",
       "      <td>...</td>\n",
       "      <td>...</td>\n",
       "      <td>...</td>\n",
       "      <td>...</td>\n",
       "      <td>...</td>\n",
       "      <td>...</td>\n",
       "    </tr>\n",
       "    <tr>\n",
       "      <th>PLSR_95_obs_1</th>\n",
       "      <td>PLSR_95</td>\n",
       "      <td>2</td>\n",
       "      <td>0.456983</td>\n",
       "      <td>2CXO J222905.2+611409</td>\n",
       "      <td>337.27190</td>\n",
       "      <td>61.23586</td>\n",
       "      <td>93964.6</td>\n",
       "      <td>43.76</td>\n",
       "      <td>10080.56000</td>\n",
       "      <td>PL</td>\n",
       "      <td>...</td>\n",
       "      <td>0.941</td>\n",
       "      <td>4.910000e-06</td>\n",
       "      <td>14.28946</td>\n",
       "      <td>0.02135</td>\n",
       "      <td>0.059</td>\n",
       "      <td>0.731</td>\n",
       "      <td>0.464</td>\n",
       "      <td>0.000035</td>\n",
       "      <td>0.02132</td>\n",
       "      <td>0.02128</td>\n",
       "    </tr>\n",
       "    <tr>\n",
       "      <th>PLSR_99_obs_0</th>\n",
       "      <td>PLSR_99</td>\n",
       "      <td>4</td>\n",
       "      <td>0.259532</td>\n",
       "      <td>2CXO J171810.0-371853</td>\n",
       "      <td>259.54170</td>\n",
       "      <td>-37.31476</td>\n",
       "      <td>32031.9</td>\n",
       "      <td>3.00</td>\n",
       "      <td>22.24461</td>\n",
       "      <td>PL</td>\n",
       "      <td>...</td>\n",
       "      <td>0.692</td>\n",
       "      <td>1.870000e-07</td>\n",
       "      <td>NaN</td>\n",
       "      <td>NaN</td>\n",
       "      <td>NaN</td>\n",
       "      <td>NaN</td>\n",
       "      <td>NaN</td>\n",
       "      <td>NaN</td>\n",
       "      <td>NaN</td>\n",
       "      <td>NaN</td>\n",
       "    </tr>\n",
       "    <tr>\n",
       "      <th>PLSR_99_obs_1</th>\n",
       "      <td>PLSR_99</td>\n",
       "      <td>4</td>\n",
       "      <td>0.259532</td>\n",
       "      <td>2CXO J171810.0-371853</td>\n",
       "      <td>259.54170</td>\n",
       "      <td>-37.31476</td>\n",
       "      <td>33272.3</td>\n",
       "      <td>3.00</td>\n",
       "      <td>22.24461</td>\n",
       "      <td>PL</td>\n",
       "      <td>...</td>\n",
       "      <td>0.692</td>\n",
       "      <td>1.870000e-07</td>\n",
       "      <td>NaN</td>\n",
       "      <td>NaN</td>\n",
       "      <td>NaN</td>\n",
       "      <td>NaN</td>\n",
       "      <td>NaN</td>\n",
       "      <td>NaN</td>\n",
       "      <td>NaN</td>\n",
       "      <td>NaN</td>\n",
       "    </tr>\n",
       "    <tr>\n",
       "      <th>PLSR_99_obs_2</th>\n",
       "      <td>PLSR_99</td>\n",
       "      <td>4</td>\n",
       "      <td>0.259532</td>\n",
       "      <td>2CXO J171810.0-371853</td>\n",
       "      <td>259.54170</td>\n",
       "      <td>-37.31476</td>\n",
       "      <td>34173.8</td>\n",
       "      <td>3.00</td>\n",
       "      <td>22.24461</td>\n",
       "      <td>PL</td>\n",
       "      <td>...</td>\n",
       "      <td>0.692</td>\n",
       "      <td>1.870000e-07</td>\n",
       "      <td>NaN</td>\n",
       "      <td>NaN</td>\n",
       "      <td>NaN</td>\n",
       "      <td>NaN</td>\n",
       "      <td>NaN</td>\n",
       "      <td>NaN</td>\n",
       "      <td>NaN</td>\n",
       "      <td>NaN</td>\n",
       "    </tr>\n",
       "    <tr>\n",
       "      <th>PLSR_99_obs_3</th>\n",
       "      <td>PLSR_99</td>\n",
       "      <td>4</td>\n",
       "      <td>0.259532</td>\n",
       "      <td>2CXO J171810.0-371853</td>\n",
       "      <td>259.54170</td>\n",
       "      <td>-37.31476</td>\n",
       "      <td>34148.0</td>\n",
       "      <td>3.00</td>\n",
       "      <td>22.24461</td>\n",
       "      <td>PL</td>\n",
       "      <td>...</td>\n",
       "      <td>0.692</td>\n",
       "      <td>1.870000e-07</td>\n",
       "      <td>NaN</td>\n",
       "      <td>NaN</td>\n",
       "      <td>NaN</td>\n",
       "      <td>NaN</td>\n",
       "      <td>NaN</td>\n",
       "      <td>NaN</td>\n",
       "      <td>NaN</td>\n",
       "      <td>NaN</td>\n",
       "    </tr>\n",
       "  </tbody>\n",
       "</table>\n",
       "<p>3690 rows × 42 columns</p>\n",
       "</div>"
      ]
     },
     "metadata": {}
    }
   ],
   "metadata": {}
  },
  {
   "cell_type": "code",
   "execution_count": 60,
   "source": [
    "df_all_imp.to_csv('srcwise-imp-data_v2.csv')\n",
    "df_all_imp"
   ],
   "outputs": [
    {
     "output_type": "execute_result",
     "data": {
      "text/plain": [
       "                src_id  num_obs      sepn                    name         ra  \\\n",
       "obs_id                                                                         \n",
       "CV_0_obs_0        CV_0       25  0.157954   2CXO J004247.1+411619   10.69654   \n",
       "CV_0_obs_1        CV_0       25  0.157954   2CXO J004247.1+411619   10.69654   \n",
       "CV_0_obs_2        CV_0       25  0.157954   2CXO J004247.1+411619   10.69654   \n",
       "CV_0_obs_3        CV_0       25  0.157954   2CXO J004247.1+411619   10.69654   \n",
       "CV_0_obs_4        CV_0       25  0.157954   2CXO J004247.1+411619   10.69654   \n",
       "...                ...      ...       ...                     ...        ...   \n",
       "PLSR_95_obs_1  PLSR_95        2  0.456983   2CXO J222905.2+611409  337.27190   \n",
       "PLSR_99_obs_0  PLSR_99        4  0.259532   2CXO J171810.0-371853  259.54170   \n",
       "PLSR_99_obs_1  PLSR_99        4  0.259532   2CXO J171810.0-371853  259.54170   \n",
       "PLSR_99_obs_2  PLSR_99        4  0.259532   2CXO J171810.0-371853  259.54170   \n",
       "PLSR_99_obs_3  PLSR_99        4  0.259532   2CXO J171810.0-371853  259.54170   \n",
       "\n",
       "                    dec  livetime  significance   likelihood class  ...  \\\n",
       "obs_id                                                              ...   \n",
       "CV_0_obs_0     41.27215    4103.7         52.93  16618.73000    CV  ...   \n",
       "CV_0_obs_1     41.27215    3907.5         52.93  16618.73000    CV  ...   \n",
       "CV_0_obs_2     41.27215    3907.5         52.93  16618.73000    CV  ...   \n",
       "CV_0_obs_3     41.27215    3904.6         52.93  16618.73000    CV  ...   \n",
       "CV_0_obs_4     41.27215    3907.5         52.93  16618.73000    CV  ...   \n",
       "...                 ...       ...           ...          ...   ...  ...   \n",
       "PLSR_95_obs_1  61.23586   93964.6         43.76  10080.56000    PL  ...   \n",
       "PLSR_99_obs_0 -37.31476   32031.9          3.00     22.24461    PL  ...   \n",
       "PLSR_99_obs_1 -37.31476   33272.3          3.00     22.24461    PL  ...   \n",
       "PLSR_99_obs_2 -37.31476   34173.8          3.00     22.24461    PL  ...   \n",
       "PLSR_99_obs_3 -37.31476   34148.0          3.00     22.24461    PL  ...   \n",
       "\n",
       "               var_inter_prob_h  var_inter_sigma_h  flux_aper_u  var_max_b  \\\n",
       "obs_id                                                                       \n",
       "CV_0_obs_0                  NaN                NaN          NaN        NaN   \n",
       "CV_0_obs_1                  NaN                NaN          NaN        NaN   \n",
       "CV_0_obs_2                  NaN                NaN          NaN        NaN   \n",
       "CV_0_obs_3                  NaN                NaN          NaN        NaN   \n",
       "CV_0_obs_4                  NaN                NaN          NaN        NaN   \n",
       "...                         ...                ...          ...        ...   \n",
       "PLSR_95_obs_1             0.941       4.910000e-06     14.28946    0.02135   \n",
       "PLSR_99_obs_0             0.692       1.870000e-07          NaN        NaN   \n",
       "PLSR_99_obs_1             0.692       1.870000e-07          NaN        NaN   \n",
       "PLSR_99_obs_2             0.692       1.870000e-07          NaN        NaN   \n",
       "PLSR_99_obs_3             0.692       1.870000e-07          NaN        NaN   \n",
       "\n",
       "               var_prob_b  ks_prob_b  kp_prob_b  var_sigma_b  var_mean_b  \\\n",
       "obs_id                                                                     \n",
       "CV_0_obs_0            NaN        NaN        NaN          NaN         NaN   \n",
       "CV_0_obs_1            NaN        NaN        NaN          NaN         NaN   \n",
       "CV_0_obs_2            NaN        NaN        NaN          NaN         NaN   \n",
       "CV_0_obs_3            NaN        NaN        NaN          NaN         NaN   \n",
       "CV_0_obs_4            NaN        NaN        NaN          NaN         NaN   \n",
       "...                   ...        ...        ...          ...         ...   \n",
       "PLSR_95_obs_1       0.059      0.731      0.464     0.000035     0.02132   \n",
       "PLSR_99_obs_0         NaN        NaN        NaN          NaN         NaN   \n",
       "PLSR_99_obs_1         NaN        NaN        NaN          NaN         NaN   \n",
       "PLSR_99_obs_2         NaN        NaN        NaN          NaN         NaN   \n",
       "PLSR_99_obs_3         NaN        NaN        NaN          NaN         NaN   \n",
       "\n",
       "               var_min_b  \n",
       "obs_id                    \n",
       "CV_0_obs_0           NaN  \n",
       "CV_0_obs_1           NaN  \n",
       "CV_0_obs_2           NaN  \n",
       "CV_0_obs_3           NaN  \n",
       "CV_0_obs_4           NaN  \n",
       "...                  ...  \n",
       "PLSR_95_obs_1    0.02128  \n",
       "PLSR_99_obs_0        NaN  \n",
       "PLSR_99_obs_1        NaN  \n",
       "PLSR_99_obs_2        NaN  \n",
       "PLSR_99_obs_3        NaN  \n",
       "\n",
       "[3690 rows x 42 columns]"
      ],
      "text/html": [
       "<div>\n",
       "<style scoped>\n",
       "    .dataframe tbody tr th:only-of-type {\n",
       "        vertical-align: middle;\n",
       "    }\n",
       "\n",
       "    .dataframe tbody tr th {\n",
       "        vertical-align: top;\n",
       "    }\n",
       "\n",
       "    .dataframe thead th {\n",
       "        text-align: right;\n",
       "    }\n",
       "</style>\n",
       "<table border=\"1\" class=\"dataframe\">\n",
       "  <thead>\n",
       "    <tr style=\"text-align: right;\">\n",
       "      <th></th>\n",
       "      <th>src_id</th>\n",
       "      <th>num_obs</th>\n",
       "      <th>sepn</th>\n",
       "      <th>name</th>\n",
       "      <th>ra</th>\n",
       "      <th>dec</th>\n",
       "      <th>livetime</th>\n",
       "      <th>significance</th>\n",
       "      <th>likelihood</th>\n",
       "      <th>class</th>\n",
       "      <th>...</th>\n",
       "      <th>var_inter_prob_h</th>\n",
       "      <th>var_inter_sigma_h</th>\n",
       "      <th>flux_aper_u</th>\n",
       "      <th>var_max_b</th>\n",
       "      <th>var_prob_b</th>\n",
       "      <th>ks_prob_b</th>\n",
       "      <th>kp_prob_b</th>\n",
       "      <th>var_sigma_b</th>\n",
       "      <th>var_mean_b</th>\n",
       "      <th>var_min_b</th>\n",
       "    </tr>\n",
       "    <tr>\n",
       "      <th>obs_id</th>\n",
       "      <th></th>\n",
       "      <th></th>\n",
       "      <th></th>\n",
       "      <th></th>\n",
       "      <th></th>\n",
       "      <th></th>\n",
       "      <th></th>\n",
       "      <th></th>\n",
       "      <th></th>\n",
       "      <th></th>\n",
       "      <th></th>\n",
       "      <th></th>\n",
       "      <th></th>\n",
       "      <th></th>\n",
       "      <th></th>\n",
       "      <th></th>\n",
       "      <th></th>\n",
       "      <th></th>\n",
       "      <th></th>\n",
       "      <th></th>\n",
       "      <th></th>\n",
       "    </tr>\n",
       "  </thead>\n",
       "  <tbody>\n",
       "    <tr>\n",
       "      <th>CV_0_obs_0</th>\n",
       "      <td>CV_0</td>\n",
       "      <td>25</td>\n",
       "      <td>0.157954</td>\n",
       "      <td>2CXO J004247.1+411619</td>\n",
       "      <td>10.69654</td>\n",
       "      <td>41.27215</td>\n",
       "      <td>4103.7</td>\n",
       "      <td>52.93</td>\n",
       "      <td>16618.73000</td>\n",
       "      <td>CV</td>\n",
       "      <td>...</td>\n",
       "      <td>NaN</td>\n",
       "      <td>NaN</td>\n",
       "      <td>NaN</td>\n",
       "      <td>NaN</td>\n",
       "      <td>NaN</td>\n",
       "      <td>NaN</td>\n",
       "      <td>NaN</td>\n",
       "      <td>NaN</td>\n",
       "      <td>NaN</td>\n",
       "      <td>NaN</td>\n",
       "    </tr>\n",
       "    <tr>\n",
       "      <th>CV_0_obs_1</th>\n",
       "      <td>CV_0</td>\n",
       "      <td>25</td>\n",
       "      <td>0.157954</td>\n",
       "      <td>2CXO J004247.1+411619</td>\n",
       "      <td>10.69654</td>\n",
       "      <td>41.27215</td>\n",
       "      <td>3907.5</td>\n",
       "      <td>52.93</td>\n",
       "      <td>16618.73000</td>\n",
       "      <td>CV</td>\n",
       "      <td>...</td>\n",
       "      <td>NaN</td>\n",
       "      <td>NaN</td>\n",
       "      <td>NaN</td>\n",
       "      <td>NaN</td>\n",
       "      <td>NaN</td>\n",
       "      <td>NaN</td>\n",
       "      <td>NaN</td>\n",
       "      <td>NaN</td>\n",
       "      <td>NaN</td>\n",
       "      <td>NaN</td>\n",
       "    </tr>\n",
       "    <tr>\n",
       "      <th>CV_0_obs_2</th>\n",
       "      <td>CV_0</td>\n",
       "      <td>25</td>\n",
       "      <td>0.157954</td>\n",
       "      <td>2CXO J004247.1+411619</td>\n",
       "      <td>10.69654</td>\n",
       "      <td>41.27215</td>\n",
       "      <td>3907.5</td>\n",
       "      <td>52.93</td>\n",
       "      <td>16618.73000</td>\n",
       "      <td>CV</td>\n",
       "      <td>...</td>\n",
       "      <td>NaN</td>\n",
       "      <td>NaN</td>\n",
       "      <td>NaN</td>\n",
       "      <td>NaN</td>\n",
       "      <td>NaN</td>\n",
       "      <td>NaN</td>\n",
       "      <td>NaN</td>\n",
       "      <td>NaN</td>\n",
       "      <td>NaN</td>\n",
       "      <td>NaN</td>\n",
       "    </tr>\n",
       "    <tr>\n",
       "      <th>CV_0_obs_3</th>\n",
       "      <td>CV_0</td>\n",
       "      <td>25</td>\n",
       "      <td>0.157954</td>\n",
       "      <td>2CXO J004247.1+411619</td>\n",
       "      <td>10.69654</td>\n",
       "      <td>41.27215</td>\n",
       "      <td>3904.6</td>\n",
       "      <td>52.93</td>\n",
       "      <td>16618.73000</td>\n",
       "      <td>CV</td>\n",
       "      <td>...</td>\n",
       "      <td>NaN</td>\n",
       "      <td>NaN</td>\n",
       "      <td>NaN</td>\n",
       "      <td>NaN</td>\n",
       "      <td>NaN</td>\n",
       "      <td>NaN</td>\n",
       "      <td>NaN</td>\n",
       "      <td>NaN</td>\n",
       "      <td>NaN</td>\n",
       "      <td>NaN</td>\n",
       "    </tr>\n",
       "    <tr>\n",
       "      <th>CV_0_obs_4</th>\n",
       "      <td>CV_0</td>\n",
       "      <td>25</td>\n",
       "      <td>0.157954</td>\n",
       "      <td>2CXO J004247.1+411619</td>\n",
       "      <td>10.69654</td>\n",
       "      <td>41.27215</td>\n",
       "      <td>3907.5</td>\n",
       "      <td>52.93</td>\n",
       "      <td>16618.73000</td>\n",
       "      <td>CV</td>\n",
       "      <td>...</td>\n",
       "      <td>NaN</td>\n",
       "      <td>NaN</td>\n",
       "      <td>NaN</td>\n",
       "      <td>NaN</td>\n",
       "      <td>NaN</td>\n",
       "      <td>NaN</td>\n",
       "      <td>NaN</td>\n",
       "      <td>NaN</td>\n",
       "      <td>NaN</td>\n",
       "      <td>NaN</td>\n",
       "    </tr>\n",
       "    <tr>\n",
       "      <th>...</th>\n",
       "      <td>...</td>\n",
       "      <td>...</td>\n",
       "      <td>...</td>\n",
       "      <td>...</td>\n",
       "      <td>...</td>\n",
       "      <td>...</td>\n",
       "      <td>...</td>\n",
       "      <td>...</td>\n",
       "      <td>...</td>\n",
       "      <td>...</td>\n",
       "      <td>...</td>\n",
       "      <td>...</td>\n",
       "      <td>...</td>\n",
       "      <td>...</td>\n",
       "      <td>...</td>\n",
       "      <td>...</td>\n",
       "      <td>...</td>\n",
       "      <td>...</td>\n",
       "      <td>...</td>\n",
       "      <td>...</td>\n",
       "      <td>...</td>\n",
       "    </tr>\n",
       "    <tr>\n",
       "      <th>PLSR_95_obs_1</th>\n",
       "      <td>PLSR_95</td>\n",
       "      <td>2</td>\n",
       "      <td>0.456983</td>\n",
       "      <td>2CXO J222905.2+611409</td>\n",
       "      <td>337.27190</td>\n",
       "      <td>61.23586</td>\n",
       "      <td>93964.6</td>\n",
       "      <td>43.76</td>\n",
       "      <td>10080.56000</td>\n",
       "      <td>PL</td>\n",
       "      <td>...</td>\n",
       "      <td>0.941</td>\n",
       "      <td>4.910000e-06</td>\n",
       "      <td>14.28946</td>\n",
       "      <td>0.02135</td>\n",
       "      <td>0.059</td>\n",
       "      <td>0.731</td>\n",
       "      <td>0.464</td>\n",
       "      <td>0.000035</td>\n",
       "      <td>0.02132</td>\n",
       "      <td>0.02128</td>\n",
       "    </tr>\n",
       "    <tr>\n",
       "      <th>PLSR_99_obs_0</th>\n",
       "      <td>PLSR_99</td>\n",
       "      <td>4</td>\n",
       "      <td>0.259532</td>\n",
       "      <td>2CXO J171810.0-371853</td>\n",
       "      <td>259.54170</td>\n",
       "      <td>-37.31476</td>\n",
       "      <td>32031.9</td>\n",
       "      <td>3.00</td>\n",
       "      <td>22.24461</td>\n",
       "      <td>PL</td>\n",
       "      <td>...</td>\n",
       "      <td>0.692</td>\n",
       "      <td>1.870000e-07</td>\n",
       "      <td>NaN</td>\n",
       "      <td>NaN</td>\n",
       "      <td>NaN</td>\n",
       "      <td>NaN</td>\n",
       "      <td>NaN</td>\n",
       "      <td>NaN</td>\n",
       "      <td>NaN</td>\n",
       "      <td>NaN</td>\n",
       "    </tr>\n",
       "    <tr>\n",
       "      <th>PLSR_99_obs_1</th>\n",
       "      <td>PLSR_99</td>\n",
       "      <td>4</td>\n",
       "      <td>0.259532</td>\n",
       "      <td>2CXO J171810.0-371853</td>\n",
       "      <td>259.54170</td>\n",
       "      <td>-37.31476</td>\n",
       "      <td>33272.3</td>\n",
       "      <td>3.00</td>\n",
       "      <td>22.24461</td>\n",
       "      <td>PL</td>\n",
       "      <td>...</td>\n",
       "      <td>0.692</td>\n",
       "      <td>1.870000e-07</td>\n",
       "      <td>NaN</td>\n",
       "      <td>NaN</td>\n",
       "      <td>NaN</td>\n",
       "      <td>NaN</td>\n",
       "      <td>NaN</td>\n",
       "      <td>NaN</td>\n",
       "      <td>NaN</td>\n",
       "      <td>NaN</td>\n",
       "    </tr>\n",
       "    <tr>\n",
       "      <th>PLSR_99_obs_2</th>\n",
       "      <td>PLSR_99</td>\n",
       "      <td>4</td>\n",
       "      <td>0.259532</td>\n",
       "      <td>2CXO J171810.0-371853</td>\n",
       "      <td>259.54170</td>\n",
       "      <td>-37.31476</td>\n",
       "      <td>34173.8</td>\n",
       "      <td>3.00</td>\n",
       "      <td>22.24461</td>\n",
       "      <td>PL</td>\n",
       "      <td>...</td>\n",
       "      <td>0.692</td>\n",
       "      <td>1.870000e-07</td>\n",
       "      <td>NaN</td>\n",
       "      <td>NaN</td>\n",
       "      <td>NaN</td>\n",
       "      <td>NaN</td>\n",
       "      <td>NaN</td>\n",
       "      <td>NaN</td>\n",
       "      <td>NaN</td>\n",
       "      <td>NaN</td>\n",
       "    </tr>\n",
       "    <tr>\n",
       "      <th>PLSR_99_obs_3</th>\n",
       "      <td>PLSR_99</td>\n",
       "      <td>4</td>\n",
       "      <td>0.259532</td>\n",
       "      <td>2CXO J171810.0-371853</td>\n",
       "      <td>259.54170</td>\n",
       "      <td>-37.31476</td>\n",
       "      <td>34148.0</td>\n",
       "      <td>3.00</td>\n",
       "      <td>22.24461</td>\n",
       "      <td>PL</td>\n",
       "      <td>...</td>\n",
       "      <td>0.692</td>\n",
       "      <td>1.870000e-07</td>\n",
       "      <td>NaN</td>\n",
       "      <td>NaN</td>\n",
       "      <td>NaN</td>\n",
       "      <td>NaN</td>\n",
       "      <td>NaN</td>\n",
       "      <td>NaN</td>\n",
       "      <td>NaN</td>\n",
       "      <td>NaN</td>\n",
       "    </tr>\n",
       "  </tbody>\n",
       "</table>\n",
       "<p>3690 rows × 42 columns</p>\n",
       "</div>"
      ]
     },
     "metadata": {},
     "execution_count": 60
    }
   ],
   "metadata": {}
  },
  {
   "cell_type": "code",
   "execution_count": 61,
   "source": [
    "df_all_imp['class'].value_counts()"
   ],
   "outputs": [
    {
     "output_type": "execute_result",
     "data": {
      "text/plain": [
       "CV    2101\n",
       "PL    1183\n",
       "LX     406\n",
       "Name: class, dtype: int64"
      ]
     },
     "metadata": {},
     "execution_count": 61
    }
   ],
   "metadata": {}
  },
  {
   "cell_type": "code",
   "execution_count": null,
   "source": [],
   "outputs": [],
   "metadata": {}
  },
  {
   "cell_type": "markdown",
   "source": [
    "## Impute entire dataset"
   ],
   "metadata": {}
  },
  {
   "cell_type": "code",
   "execution_count": 62,
   "source": [
    "data_id = df_all_imp[info_col_cl]\n",
    "data_val = df_all_imp.drop(columns = info_col_cl)\n",
    "new_data = rf_imputer.fit_transform(data_val)"
   ],
   "outputs": [
    {
     "output_type": "stream",
     "name": "stdout",
     "text": [
      "Iteration: 0\n",
      "Iteration: 1\n",
      "Iteration: 2\n",
      "Iteration: 3\n",
      "Iteration: 4\n"
     ]
    }
   ],
   "metadata": {}
  },
  {
   "cell_type": "code",
   "execution_count": 63,
   "source": [
    "new_imp_data =  pd.DataFrame(new_data , columns = data_val.columns.to_list()  , index=data_val.index.to_list())\n",
    "new_imp_data.index.name = 'obs_id'"
   ],
   "outputs": [],
   "metadata": {}
  },
  {
   "cell_type": "code",
   "execution_count": 64,
   "source": [
    "data_imp_v2 = pd.concat([data_id , new_imp_data] , axis=1)\n",
    "data_imp_v2"
   ],
   "outputs": [
    {
     "output_type": "execute_result",
     "data": {
      "text/plain": [
       "                src_id  num_obs      sepn                    name         ra  \\\n",
       "obs_id                                                                         \n",
       "CV_0_obs_0        CV_0       25  0.157954   2CXO J004247.1+411619   10.69654   \n",
       "CV_0_obs_1        CV_0       25  0.157954   2CXO J004247.1+411619   10.69654   \n",
       "CV_0_obs_2        CV_0       25  0.157954   2CXO J004247.1+411619   10.69654   \n",
       "CV_0_obs_3        CV_0       25  0.157954   2CXO J004247.1+411619   10.69654   \n",
       "CV_0_obs_4        CV_0       25  0.157954   2CXO J004247.1+411619   10.69654   \n",
       "...                ...      ...       ...                     ...        ...   \n",
       "PLSR_95_obs_1  PLSR_95        2  0.456983   2CXO J222905.2+611409  337.27190   \n",
       "PLSR_99_obs_0  PLSR_99        4  0.259532   2CXO J171810.0-371853  259.54170   \n",
       "PLSR_99_obs_1  PLSR_99        4  0.259532   2CXO J171810.0-371853  259.54170   \n",
       "PLSR_99_obs_2  PLSR_99        4  0.259532   2CXO J171810.0-371853  259.54170   \n",
       "PLSR_99_obs_3  PLSR_99        4  0.259532   2CXO J171810.0-371853  259.54170   \n",
       "\n",
       "                    dec  livetime  significance   likelihood class  ...  \\\n",
       "obs_id                                                              ...   \n",
       "CV_0_obs_0     41.27215    4103.7         52.93  16618.73000    CV  ...   \n",
       "CV_0_obs_1     41.27215    3907.5         52.93  16618.73000    CV  ...   \n",
       "CV_0_obs_2     41.27215    3907.5         52.93  16618.73000    CV  ...   \n",
       "CV_0_obs_3     41.27215    3904.6         52.93  16618.73000    CV  ...   \n",
       "CV_0_obs_4     41.27215    3907.5         52.93  16618.73000    CV  ...   \n",
       "...                 ...       ...           ...          ...   ...  ...   \n",
       "PLSR_95_obs_1  61.23586   93964.6         43.76  10080.56000    PL  ...   \n",
       "PLSR_99_obs_0 -37.31476   32031.9          3.00     22.24461    PL  ...   \n",
       "PLSR_99_obs_1 -37.31476   33272.3          3.00     22.24461    PL  ...   \n",
       "PLSR_99_obs_2 -37.31476   34173.8          3.00     22.24461    PL  ...   \n",
       "PLSR_99_obs_3 -37.31476   34148.0          3.00     22.24461    PL  ...   \n",
       "\n",
       "               var_inter_prob_h  var_inter_sigma_h  flux_aper_u  var_max_b  \\\n",
       "obs_id                                                                       \n",
       "CV_0_obs_0              0.99896       2.402622e-05    14.009727   0.020023   \n",
       "CV_0_obs_1              0.99896       2.512951e-05    14.098554   0.020240   \n",
       "CV_0_obs_2              0.99896       2.490613e-05    13.960541   0.020235   \n",
       "CV_0_obs_3              0.99896       2.480799e-05    14.065113   0.020357   \n",
       "CV_0_obs_4              0.99891       2.593408e-05    14.116544   0.020323   \n",
       "...                         ...                ...          ...        ...   \n",
       "PLSR_95_obs_1           0.94100       4.910000e-06    14.289460   0.021350   \n",
       "PLSR_99_obs_0           0.69200       1.870000e-07    14.119895   0.023552   \n",
       "PLSR_99_obs_1           0.69200       1.870000e-07    14.216537   0.023419   \n",
       "PLSR_99_obs_2           0.69200       1.870000e-07    14.059088   0.023430   \n",
       "PLSR_99_obs_3           0.69200       1.870000e-07    14.058229   0.023199   \n",
       "\n",
       "               var_prob_b  ks_prob_b  kp_prob_b  var_sigma_b  var_mean_b  \\\n",
       "obs_id                                                                     \n",
       "CV_0_obs_0        0.55204   0.587251   0.581799     0.003936    0.013982   \n",
       "CV_0_obs_1        0.54460   0.590815   0.608676     0.003979    0.014473   \n",
       "CV_0_obs_2        0.56154   0.600095   0.583796     0.004043    0.014803   \n",
       "CV_0_obs_3        0.56474   0.597033   0.582659     0.004014    0.014561   \n",
       "CV_0_obs_4        0.50616   0.588019   0.625309     0.003188    0.014720   \n",
       "...                   ...        ...        ...          ...         ...   \n",
       "PLSR_95_obs_1     0.05900   0.731000   0.464000     0.000035    0.021320   \n",
       "PLSR_99_obs_0     0.65046   0.714522   0.689815     0.004058    0.014523   \n",
       "PLSR_99_obs_1     0.65698   0.703147   0.685807     0.004270    0.014396   \n",
       "PLSR_99_obs_2     0.64663   0.715153   0.685575     0.003968    0.014593   \n",
       "PLSR_99_obs_3     0.64795   0.702772   0.688274     0.003968    0.014284   \n",
       "\n",
       "               var_min_b  \n",
       "obs_id                    \n",
       "CV_0_obs_0      0.009948  \n",
       "CV_0_obs_1      0.011183  \n",
       "CV_0_obs_2      0.010322  \n",
       "CV_0_obs_3      0.010942  \n",
       "CV_0_obs_4      0.010676  \n",
       "...                  ...  \n",
       "PLSR_95_obs_1   0.021280  \n",
       "PLSR_99_obs_0   0.009710  \n",
       "PLSR_99_obs_1   0.009857  \n",
       "PLSR_99_obs_2   0.009736  \n",
       "PLSR_99_obs_3   0.009712  \n",
       "\n",
       "[3690 rows x 42 columns]"
      ],
      "text/html": [
       "<div>\n",
       "<style scoped>\n",
       "    .dataframe tbody tr th:only-of-type {\n",
       "        vertical-align: middle;\n",
       "    }\n",
       "\n",
       "    .dataframe tbody tr th {\n",
       "        vertical-align: top;\n",
       "    }\n",
       "\n",
       "    .dataframe thead th {\n",
       "        text-align: right;\n",
       "    }\n",
       "</style>\n",
       "<table border=\"1\" class=\"dataframe\">\n",
       "  <thead>\n",
       "    <tr style=\"text-align: right;\">\n",
       "      <th></th>\n",
       "      <th>src_id</th>\n",
       "      <th>num_obs</th>\n",
       "      <th>sepn</th>\n",
       "      <th>name</th>\n",
       "      <th>ra</th>\n",
       "      <th>dec</th>\n",
       "      <th>livetime</th>\n",
       "      <th>significance</th>\n",
       "      <th>likelihood</th>\n",
       "      <th>class</th>\n",
       "      <th>...</th>\n",
       "      <th>var_inter_prob_h</th>\n",
       "      <th>var_inter_sigma_h</th>\n",
       "      <th>flux_aper_u</th>\n",
       "      <th>var_max_b</th>\n",
       "      <th>var_prob_b</th>\n",
       "      <th>ks_prob_b</th>\n",
       "      <th>kp_prob_b</th>\n",
       "      <th>var_sigma_b</th>\n",
       "      <th>var_mean_b</th>\n",
       "      <th>var_min_b</th>\n",
       "    </tr>\n",
       "    <tr>\n",
       "      <th>obs_id</th>\n",
       "      <th></th>\n",
       "      <th></th>\n",
       "      <th></th>\n",
       "      <th></th>\n",
       "      <th></th>\n",
       "      <th></th>\n",
       "      <th></th>\n",
       "      <th></th>\n",
       "      <th></th>\n",
       "      <th></th>\n",
       "      <th></th>\n",
       "      <th></th>\n",
       "      <th></th>\n",
       "      <th></th>\n",
       "      <th></th>\n",
       "      <th></th>\n",
       "      <th></th>\n",
       "      <th></th>\n",
       "      <th></th>\n",
       "      <th></th>\n",
       "      <th></th>\n",
       "    </tr>\n",
       "  </thead>\n",
       "  <tbody>\n",
       "    <tr>\n",
       "      <th>CV_0_obs_0</th>\n",
       "      <td>CV_0</td>\n",
       "      <td>25</td>\n",
       "      <td>0.157954</td>\n",
       "      <td>2CXO J004247.1+411619</td>\n",
       "      <td>10.69654</td>\n",
       "      <td>41.27215</td>\n",
       "      <td>4103.7</td>\n",
       "      <td>52.93</td>\n",
       "      <td>16618.73000</td>\n",
       "      <td>CV</td>\n",
       "      <td>...</td>\n",
       "      <td>0.99896</td>\n",
       "      <td>2.402622e-05</td>\n",
       "      <td>14.009727</td>\n",
       "      <td>0.020023</td>\n",
       "      <td>0.55204</td>\n",
       "      <td>0.587251</td>\n",
       "      <td>0.581799</td>\n",
       "      <td>0.003936</td>\n",
       "      <td>0.013982</td>\n",
       "      <td>0.009948</td>\n",
       "    </tr>\n",
       "    <tr>\n",
       "      <th>CV_0_obs_1</th>\n",
       "      <td>CV_0</td>\n",
       "      <td>25</td>\n",
       "      <td>0.157954</td>\n",
       "      <td>2CXO J004247.1+411619</td>\n",
       "      <td>10.69654</td>\n",
       "      <td>41.27215</td>\n",
       "      <td>3907.5</td>\n",
       "      <td>52.93</td>\n",
       "      <td>16618.73000</td>\n",
       "      <td>CV</td>\n",
       "      <td>...</td>\n",
       "      <td>0.99896</td>\n",
       "      <td>2.512951e-05</td>\n",
       "      <td>14.098554</td>\n",
       "      <td>0.020240</td>\n",
       "      <td>0.54460</td>\n",
       "      <td>0.590815</td>\n",
       "      <td>0.608676</td>\n",
       "      <td>0.003979</td>\n",
       "      <td>0.014473</td>\n",
       "      <td>0.011183</td>\n",
       "    </tr>\n",
       "    <tr>\n",
       "      <th>CV_0_obs_2</th>\n",
       "      <td>CV_0</td>\n",
       "      <td>25</td>\n",
       "      <td>0.157954</td>\n",
       "      <td>2CXO J004247.1+411619</td>\n",
       "      <td>10.69654</td>\n",
       "      <td>41.27215</td>\n",
       "      <td>3907.5</td>\n",
       "      <td>52.93</td>\n",
       "      <td>16618.73000</td>\n",
       "      <td>CV</td>\n",
       "      <td>...</td>\n",
       "      <td>0.99896</td>\n",
       "      <td>2.490613e-05</td>\n",
       "      <td>13.960541</td>\n",
       "      <td>0.020235</td>\n",
       "      <td>0.56154</td>\n",
       "      <td>0.600095</td>\n",
       "      <td>0.583796</td>\n",
       "      <td>0.004043</td>\n",
       "      <td>0.014803</td>\n",
       "      <td>0.010322</td>\n",
       "    </tr>\n",
       "    <tr>\n",
       "      <th>CV_0_obs_3</th>\n",
       "      <td>CV_0</td>\n",
       "      <td>25</td>\n",
       "      <td>0.157954</td>\n",
       "      <td>2CXO J004247.1+411619</td>\n",
       "      <td>10.69654</td>\n",
       "      <td>41.27215</td>\n",
       "      <td>3904.6</td>\n",
       "      <td>52.93</td>\n",
       "      <td>16618.73000</td>\n",
       "      <td>CV</td>\n",
       "      <td>...</td>\n",
       "      <td>0.99896</td>\n",
       "      <td>2.480799e-05</td>\n",
       "      <td>14.065113</td>\n",
       "      <td>0.020357</td>\n",
       "      <td>0.56474</td>\n",
       "      <td>0.597033</td>\n",
       "      <td>0.582659</td>\n",
       "      <td>0.004014</td>\n",
       "      <td>0.014561</td>\n",
       "      <td>0.010942</td>\n",
       "    </tr>\n",
       "    <tr>\n",
       "      <th>CV_0_obs_4</th>\n",
       "      <td>CV_0</td>\n",
       "      <td>25</td>\n",
       "      <td>0.157954</td>\n",
       "      <td>2CXO J004247.1+411619</td>\n",
       "      <td>10.69654</td>\n",
       "      <td>41.27215</td>\n",
       "      <td>3907.5</td>\n",
       "      <td>52.93</td>\n",
       "      <td>16618.73000</td>\n",
       "      <td>CV</td>\n",
       "      <td>...</td>\n",
       "      <td>0.99891</td>\n",
       "      <td>2.593408e-05</td>\n",
       "      <td>14.116544</td>\n",
       "      <td>0.020323</td>\n",
       "      <td>0.50616</td>\n",
       "      <td>0.588019</td>\n",
       "      <td>0.625309</td>\n",
       "      <td>0.003188</td>\n",
       "      <td>0.014720</td>\n",
       "      <td>0.010676</td>\n",
       "    </tr>\n",
       "    <tr>\n",
       "      <th>...</th>\n",
       "      <td>...</td>\n",
       "      <td>...</td>\n",
       "      <td>...</td>\n",
       "      <td>...</td>\n",
       "      <td>...</td>\n",
       "      <td>...</td>\n",
       "      <td>...</td>\n",
       "      <td>...</td>\n",
       "      <td>...</td>\n",
       "      <td>...</td>\n",
       "      <td>...</td>\n",
       "      <td>...</td>\n",
       "      <td>...</td>\n",
       "      <td>...</td>\n",
       "      <td>...</td>\n",
       "      <td>...</td>\n",
       "      <td>...</td>\n",
       "      <td>...</td>\n",
       "      <td>...</td>\n",
       "      <td>...</td>\n",
       "      <td>...</td>\n",
       "    </tr>\n",
       "    <tr>\n",
       "      <th>PLSR_95_obs_1</th>\n",
       "      <td>PLSR_95</td>\n",
       "      <td>2</td>\n",
       "      <td>0.456983</td>\n",
       "      <td>2CXO J222905.2+611409</td>\n",
       "      <td>337.27190</td>\n",
       "      <td>61.23586</td>\n",
       "      <td>93964.6</td>\n",
       "      <td>43.76</td>\n",
       "      <td>10080.56000</td>\n",
       "      <td>PL</td>\n",
       "      <td>...</td>\n",
       "      <td>0.94100</td>\n",
       "      <td>4.910000e-06</td>\n",
       "      <td>14.289460</td>\n",
       "      <td>0.021350</td>\n",
       "      <td>0.05900</td>\n",
       "      <td>0.731000</td>\n",
       "      <td>0.464000</td>\n",
       "      <td>0.000035</td>\n",
       "      <td>0.021320</td>\n",
       "      <td>0.021280</td>\n",
       "    </tr>\n",
       "    <tr>\n",
       "      <th>PLSR_99_obs_0</th>\n",
       "      <td>PLSR_99</td>\n",
       "      <td>4</td>\n",
       "      <td>0.259532</td>\n",
       "      <td>2CXO J171810.0-371853</td>\n",
       "      <td>259.54170</td>\n",
       "      <td>-37.31476</td>\n",
       "      <td>32031.9</td>\n",
       "      <td>3.00</td>\n",
       "      <td>22.24461</td>\n",
       "      <td>PL</td>\n",
       "      <td>...</td>\n",
       "      <td>0.69200</td>\n",
       "      <td>1.870000e-07</td>\n",
       "      <td>14.119895</td>\n",
       "      <td>0.023552</td>\n",
       "      <td>0.65046</td>\n",
       "      <td>0.714522</td>\n",
       "      <td>0.689815</td>\n",
       "      <td>0.004058</td>\n",
       "      <td>0.014523</td>\n",
       "      <td>0.009710</td>\n",
       "    </tr>\n",
       "    <tr>\n",
       "      <th>PLSR_99_obs_1</th>\n",
       "      <td>PLSR_99</td>\n",
       "      <td>4</td>\n",
       "      <td>0.259532</td>\n",
       "      <td>2CXO J171810.0-371853</td>\n",
       "      <td>259.54170</td>\n",
       "      <td>-37.31476</td>\n",
       "      <td>33272.3</td>\n",
       "      <td>3.00</td>\n",
       "      <td>22.24461</td>\n",
       "      <td>PL</td>\n",
       "      <td>...</td>\n",
       "      <td>0.69200</td>\n",
       "      <td>1.870000e-07</td>\n",
       "      <td>14.216537</td>\n",
       "      <td>0.023419</td>\n",
       "      <td>0.65698</td>\n",
       "      <td>0.703147</td>\n",
       "      <td>0.685807</td>\n",
       "      <td>0.004270</td>\n",
       "      <td>0.014396</td>\n",
       "      <td>0.009857</td>\n",
       "    </tr>\n",
       "    <tr>\n",
       "      <th>PLSR_99_obs_2</th>\n",
       "      <td>PLSR_99</td>\n",
       "      <td>4</td>\n",
       "      <td>0.259532</td>\n",
       "      <td>2CXO J171810.0-371853</td>\n",
       "      <td>259.54170</td>\n",
       "      <td>-37.31476</td>\n",
       "      <td>34173.8</td>\n",
       "      <td>3.00</td>\n",
       "      <td>22.24461</td>\n",
       "      <td>PL</td>\n",
       "      <td>...</td>\n",
       "      <td>0.69200</td>\n",
       "      <td>1.870000e-07</td>\n",
       "      <td>14.059088</td>\n",
       "      <td>0.023430</td>\n",
       "      <td>0.64663</td>\n",
       "      <td>0.715153</td>\n",
       "      <td>0.685575</td>\n",
       "      <td>0.003968</td>\n",
       "      <td>0.014593</td>\n",
       "      <td>0.009736</td>\n",
       "    </tr>\n",
       "    <tr>\n",
       "      <th>PLSR_99_obs_3</th>\n",
       "      <td>PLSR_99</td>\n",
       "      <td>4</td>\n",
       "      <td>0.259532</td>\n",
       "      <td>2CXO J171810.0-371853</td>\n",
       "      <td>259.54170</td>\n",
       "      <td>-37.31476</td>\n",
       "      <td>34148.0</td>\n",
       "      <td>3.00</td>\n",
       "      <td>22.24461</td>\n",
       "      <td>PL</td>\n",
       "      <td>...</td>\n",
       "      <td>0.69200</td>\n",
       "      <td>1.870000e-07</td>\n",
       "      <td>14.058229</td>\n",
       "      <td>0.023199</td>\n",
       "      <td>0.64795</td>\n",
       "      <td>0.702772</td>\n",
       "      <td>0.688274</td>\n",
       "      <td>0.003968</td>\n",
       "      <td>0.014284</td>\n",
       "      <td>0.009712</td>\n",
       "    </tr>\n",
       "  </tbody>\n",
       "</table>\n",
       "<p>3690 rows × 42 columns</p>\n",
       "</div>"
      ]
     },
     "metadata": {},
     "execution_count": 64
    }
   ],
   "metadata": {}
  },
  {
   "cell_type": "code",
   "execution_count": 81,
   "source": [
    "data_imp_v2.to_csv('all_filled_v2.csv')"
   ],
   "outputs": [],
   "metadata": {}
  },
  {
   "cell_type": "code",
   "execution_count": 82,
   "source": [
    "data_id = data_imp_v2[info_col]\n",
    "data_label = data_imp_v2['class']\n",
    "data_val = data_imp_v2.drop(columns=['class']+info_col)"
   ],
   "outputs": [],
   "metadata": {}
  },
  {
   "cell_type": "code",
   "execution_count": 83,
   "source": [
    "x_train , x_test , y_train , y_test = train_test_split(data_val , data_label , test_size=0.2 , stratify=data_label)"
   ],
   "outputs": [],
   "metadata": {}
  },
  {
   "cell_type": "code",
   "execution_count": 84,
   "source": [
    "x_train"
   ],
   "outputs": [
    {
     "output_type": "execute_result",
     "data": {
      "text/plain": [
       "                photflux_aper_b  photflux_aper_m  photflux_aper_h  \\\n",
       "obs_id                                                              \n",
       "LMXB_3_obs_20          5.678347         6.036120         5.874959   \n",
       "LMXB_3_obs_43          5.678347         6.036120         5.874959   \n",
       "CV_19_obs_98           4.866461         5.560352         5.431212   \n",
       "CV_11_obs_0            5.072784         5.756466         5.288446   \n",
       "CV_79_obs_19           4.909742         5.717378         5.739829   \n",
       "...                         ...              ...              ...   \n",
       "PLSR_243_obs_0         3.764724         4.425737         4.274007   \n",
       "PLSR_21_obs_2          4.553463         5.611366         4.801068   \n",
       "PLSR_130_obs_2         5.454075         6.517555         5.508078   \n",
       "CV_40_obs_29           5.624154         5.823909         5.836973   \n",
       "LMXB_2_obs_10          5.678347         6.036120         5.874959   \n",
       "\n",
       "                photflux_aper_s   hard_hm  flux_aper_b  hard_hs  hard_ms  \\\n",
       "obs_id                                                                     \n",
       "LMXB_3_obs_20          5.698761  0.999400    13.884358 -0.99940 -0.99940   \n",
       "LMXB_3_obs_43          5.698761  0.999400    13.884358 -0.99940 -0.99940   \n",
       "CV_19_obs_98           5.431329  0.192400    13.330311 -0.01370 -0.20990   \n",
       "CV_11_obs_0            5.932547  0.495900    13.385103  0.99940  0.99940   \n",
       "CV_79_obs_19           4.906929  0.666483    13.026806 -0.70005 -0.81765   \n",
       "...                         ...       ...          ...      ...      ...   \n",
       "PLSR_243_obs_0         4.402086  0.184900    12.517126  0.13620 -0.05500   \n",
       "PLSR_21_obs_2          6.374585  0.735800    12.932185  0.94690  0.68710   \n",
       "PLSR_130_obs_2         6.648204  0.999400    13.551758  0.99940 -0.99940   \n",
       "CV_40_obs_29           5.676206 -0.999400    14.054093 -0.99940 -0.16740   \n",
       "LMXB_2_obs_10          5.698761  0.999400    13.884358 -0.99940 -0.99940   \n",
       "\n",
       "                flux_aper_s  flux_aper_m  ...  var_inter_prob_h  \\\n",
       "obs_id                                    ...                     \n",
       "LMXB_3_obs_20     13.998163    14.589238  ...           0.78603   \n",
       "LMXB_3_obs_43     13.998163    14.589238  ...           0.78603   \n",
       "CV_19_obs_98      14.213888    14.183096  ...           1.00000   \n",
       "CV_11_obs_0       14.692641    14.320754  ...           0.04200   \n",
       "CV_79_obs_19      13.692932    14.315514  ...           0.01200   \n",
       "...                     ...          ...  ...               ...   \n",
       "PLSR_243_obs_0    13.434270    13.197432  ...           0.80205   \n",
       "PLSR_21_obs_2     15.390299    14.330218  ...           1.00000   \n",
       "PLSR_130_obs_2    15.352813    15.061680  ...           1.00000   \n",
       "CV_40_obs_29      13.973445    14.472241  ...           0.99900   \n",
       "LMXB_2_obs_10     13.998163    14.589238  ...           0.78603   \n",
       "\n",
       "                var_inter_sigma_h  flux_aper_u  var_max_b  var_prob_b  \\\n",
       "obs_id                                                                  \n",
       "LMXB_3_obs_20        2.774482e-06    13.321668   0.021177     0.55772   \n",
       "LMXB_3_obs_43        2.774482e-06    13.321668   0.021177     0.55772   \n",
       "CV_19_obs_98         5.547000e-06    13.848284   0.007880     0.99900   \n",
       "CV_11_obs_0          7.567000e-07    13.087609   0.006132     0.55500   \n",
       "CV_79_obs_19         2.777000e-06    12.716541   0.005967     0.15482   \n",
       "...                           ...          ...        ...         ...   \n",
       "PLSR_243_obs_0       5.616388e-06    13.280694   0.038090     0.76100   \n",
       "PLSR_21_obs_2        1.375000e-05    13.748729   0.003145     0.67012   \n",
       "PLSR_130_obs_2       1.419000e-04    12.642828   0.002294     0.61600   \n",
       "CV_40_obs_29         2.900000e-05    12.516877   0.021167     0.49317   \n",
       "LMXB_2_obs_10        2.774482e-06    13.321668   0.021177     0.55772   \n",
       "\n",
       "                ks_prob_b  kp_prob_b  var_sigma_b  var_mean_b  var_min_b  \n",
       "obs_id                                                                    \n",
       "LMXB_3_obs_20    0.724823   0.745113     0.003622    0.015207   0.012039  \n",
       "LMXB_3_obs_43    0.724823   0.745113     0.003622    0.015207   0.012039  \n",
       "CV_19_obs_98     1.000000   1.000000     0.002970    0.003019   0.000635  \n",
       "CV_11_obs_0      0.214000   0.465000     0.000480    0.002745   0.002491  \n",
       "CV_79_obs_19     0.461100   0.406490     0.000108    0.006081   0.006369  \n",
       "...                   ...        ...          ...         ...        ...  \n",
       "PLSR_243_obs_0   0.972000   0.850000     0.007547    0.030540   0.022990  \n",
       "PLSR_21_obs_2    0.887610   0.901340     0.000574    0.002909   0.002623  \n",
       "PLSR_130_obs_2   0.297000   0.424000     0.000162    0.001135   0.001061  \n",
       "CV_40_obs_29     0.646499   0.667457     0.003215    0.014652   0.010097  \n",
       "LMXB_2_obs_10    0.724823   0.745113     0.003622    0.015207   0.012039  \n",
       "\n",
       "[2952 rows x 32 columns]"
      ],
      "text/html": [
       "<div>\n",
       "<style scoped>\n",
       "    .dataframe tbody tr th:only-of-type {\n",
       "        vertical-align: middle;\n",
       "    }\n",
       "\n",
       "    .dataframe tbody tr th {\n",
       "        vertical-align: top;\n",
       "    }\n",
       "\n",
       "    .dataframe thead th {\n",
       "        text-align: right;\n",
       "    }\n",
       "</style>\n",
       "<table border=\"1\" class=\"dataframe\">\n",
       "  <thead>\n",
       "    <tr style=\"text-align: right;\">\n",
       "      <th></th>\n",
       "      <th>photflux_aper_b</th>\n",
       "      <th>photflux_aper_m</th>\n",
       "      <th>photflux_aper_h</th>\n",
       "      <th>photflux_aper_s</th>\n",
       "      <th>hard_hm</th>\n",
       "      <th>flux_aper_b</th>\n",
       "      <th>hard_hs</th>\n",
       "      <th>hard_ms</th>\n",
       "      <th>flux_aper_s</th>\n",
       "      <th>flux_aper_m</th>\n",
       "      <th>...</th>\n",
       "      <th>var_inter_prob_h</th>\n",
       "      <th>var_inter_sigma_h</th>\n",
       "      <th>flux_aper_u</th>\n",
       "      <th>var_max_b</th>\n",
       "      <th>var_prob_b</th>\n",
       "      <th>ks_prob_b</th>\n",
       "      <th>kp_prob_b</th>\n",
       "      <th>var_sigma_b</th>\n",
       "      <th>var_mean_b</th>\n",
       "      <th>var_min_b</th>\n",
       "    </tr>\n",
       "    <tr>\n",
       "      <th>obs_id</th>\n",
       "      <th></th>\n",
       "      <th></th>\n",
       "      <th></th>\n",
       "      <th></th>\n",
       "      <th></th>\n",
       "      <th></th>\n",
       "      <th></th>\n",
       "      <th></th>\n",
       "      <th></th>\n",
       "      <th></th>\n",
       "      <th></th>\n",
       "      <th></th>\n",
       "      <th></th>\n",
       "      <th></th>\n",
       "      <th></th>\n",
       "      <th></th>\n",
       "      <th></th>\n",
       "      <th></th>\n",
       "      <th></th>\n",
       "      <th></th>\n",
       "      <th></th>\n",
       "    </tr>\n",
       "  </thead>\n",
       "  <tbody>\n",
       "    <tr>\n",
       "      <th>LMXB_3_obs_20</th>\n",
       "      <td>5.678347</td>\n",
       "      <td>6.036120</td>\n",
       "      <td>5.874959</td>\n",
       "      <td>5.698761</td>\n",
       "      <td>0.999400</td>\n",
       "      <td>13.884358</td>\n",
       "      <td>-0.99940</td>\n",
       "      <td>-0.99940</td>\n",
       "      <td>13.998163</td>\n",
       "      <td>14.589238</td>\n",
       "      <td>...</td>\n",
       "      <td>0.78603</td>\n",
       "      <td>2.774482e-06</td>\n",
       "      <td>13.321668</td>\n",
       "      <td>0.021177</td>\n",
       "      <td>0.55772</td>\n",
       "      <td>0.724823</td>\n",
       "      <td>0.745113</td>\n",
       "      <td>0.003622</td>\n",
       "      <td>0.015207</td>\n",
       "      <td>0.012039</td>\n",
       "    </tr>\n",
       "    <tr>\n",
       "      <th>LMXB_3_obs_43</th>\n",
       "      <td>5.678347</td>\n",
       "      <td>6.036120</td>\n",
       "      <td>5.874959</td>\n",
       "      <td>5.698761</td>\n",
       "      <td>0.999400</td>\n",
       "      <td>13.884358</td>\n",
       "      <td>-0.99940</td>\n",
       "      <td>-0.99940</td>\n",
       "      <td>13.998163</td>\n",
       "      <td>14.589238</td>\n",
       "      <td>...</td>\n",
       "      <td>0.78603</td>\n",
       "      <td>2.774482e-06</td>\n",
       "      <td>13.321668</td>\n",
       "      <td>0.021177</td>\n",
       "      <td>0.55772</td>\n",
       "      <td>0.724823</td>\n",
       "      <td>0.745113</td>\n",
       "      <td>0.003622</td>\n",
       "      <td>0.015207</td>\n",
       "      <td>0.012039</td>\n",
       "    </tr>\n",
       "    <tr>\n",
       "      <th>CV_19_obs_98</th>\n",
       "      <td>4.866461</td>\n",
       "      <td>5.560352</td>\n",
       "      <td>5.431212</td>\n",
       "      <td>5.431329</td>\n",
       "      <td>0.192400</td>\n",
       "      <td>13.330311</td>\n",
       "      <td>-0.01370</td>\n",
       "      <td>-0.20990</td>\n",
       "      <td>14.213888</td>\n",
       "      <td>14.183096</td>\n",
       "      <td>...</td>\n",
       "      <td>1.00000</td>\n",
       "      <td>5.547000e-06</td>\n",
       "      <td>13.848284</td>\n",
       "      <td>0.007880</td>\n",
       "      <td>0.99900</td>\n",
       "      <td>1.000000</td>\n",
       "      <td>1.000000</td>\n",
       "      <td>0.002970</td>\n",
       "      <td>0.003019</td>\n",
       "      <td>0.000635</td>\n",
       "    </tr>\n",
       "    <tr>\n",
       "      <th>CV_11_obs_0</th>\n",
       "      <td>5.072784</td>\n",
       "      <td>5.756466</td>\n",
       "      <td>5.288446</td>\n",
       "      <td>5.932547</td>\n",
       "      <td>0.495900</td>\n",
       "      <td>13.385103</td>\n",
       "      <td>0.99940</td>\n",
       "      <td>0.99940</td>\n",
       "      <td>14.692641</td>\n",
       "      <td>14.320754</td>\n",
       "      <td>...</td>\n",
       "      <td>0.04200</td>\n",
       "      <td>7.567000e-07</td>\n",
       "      <td>13.087609</td>\n",
       "      <td>0.006132</td>\n",
       "      <td>0.55500</td>\n",
       "      <td>0.214000</td>\n",
       "      <td>0.465000</td>\n",
       "      <td>0.000480</td>\n",
       "      <td>0.002745</td>\n",
       "      <td>0.002491</td>\n",
       "    </tr>\n",
       "    <tr>\n",
       "      <th>CV_79_obs_19</th>\n",
       "      <td>4.909742</td>\n",
       "      <td>5.717378</td>\n",
       "      <td>5.739829</td>\n",
       "      <td>4.906929</td>\n",
       "      <td>0.666483</td>\n",
       "      <td>13.026806</td>\n",
       "      <td>-0.70005</td>\n",
       "      <td>-0.81765</td>\n",
       "      <td>13.692932</td>\n",
       "      <td>14.315514</td>\n",
       "      <td>...</td>\n",
       "      <td>0.01200</td>\n",
       "      <td>2.777000e-06</td>\n",
       "      <td>12.716541</td>\n",
       "      <td>0.005967</td>\n",
       "      <td>0.15482</td>\n",
       "      <td>0.461100</td>\n",
       "      <td>0.406490</td>\n",
       "      <td>0.000108</td>\n",
       "      <td>0.006081</td>\n",
       "      <td>0.006369</td>\n",
       "    </tr>\n",
       "    <tr>\n",
       "      <th>...</th>\n",
       "      <td>...</td>\n",
       "      <td>...</td>\n",
       "      <td>...</td>\n",
       "      <td>...</td>\n",
       "      <td>...</td>\n",
       "      <td>...</td>\n",
       "      <td>...</td>\n",
       "      <td>...</td>\n",
       "      <td>...</td>\n",
       "      <td>...</td>\n",
       "      <td>...</td>\n",
       "      <td>...</td>\n",
       "      <td>...</td>\n",
       "      <td>...</td>\n",
       "      <td>...</td>\n",
       "      <td>...</td>\n",
       "      <td>...</td>\n",
       "      <td>...</td>\n",
       "      <td>...</td>\n",
       "      <td>...</td>\n",
       "      <td>...</td>\n",
       "    </tr>\n",
       "    <tr>\n",
       "      <th>PLSR_243_obs_0</th>\n",
       "      <td>3.764724</td>\n",
       "      <td>4.425737</td>\n",
       "      <td>4.274007</td>\n",
       "      <td>4.402086</td>\n",
       "      <td>0.184900</td>\n",
       "      <td>12.517126</td>\n",
       "      <td>0.13620</td>\n",
       "      <td>-0.05500</td>\n",
       "      <td>13.434270</td>\n",
       "      <td>13.197432</td>\n",
       "      <td>...</td>\n",
       "      <td>0.80205</td>\n",
       "      <td>5.616388e-06</td>\n",
       "      <td>13.280694</td>\n",
       "      <td>0.038090</td>\n",
       "      <td>0.76100</td>\n",
       "      <td>0.972000</td>\n",
       "      <td>0.850000</td>\n",
       "      <td>0.007547</td>\n",
       "      <td>0.030540</td>\n",
       "      <td>0.022990</td>\n",
       "    </tr>\n",
       "    <tr>\n",
       "      <th>PLSR_21_obs_2</th>\n",
       "      <td>4.553463</td>\n",
       "      <td>5.611366</td>\n",
       "      <td>4.801068</td>\n",
       "      <td>6.374585</td>\n",
       "      <td>0.735800</td>\n",
       "      <td>12.932185</td>\n",
       "      <td>0.94690</td>\n",
       "      <td>0.68710</td>\n",
       "      <td>15.390299</td>\n",
       "      <td>14.330218</td>\n",
       "      <td>...</td>\n",
       "      <td>1.00000</td>\n",
       "      <td>1.375000e-05</td>\n",
       "      <td>13.748729</td>\n",
       "      <td>0.003145</td>\n",
       "      <td>0.67012</td>\n",
       "      <td>0.887610</td>\n",
       "      <td>0.901340</td>\n",
       "      <td>0.000574</td>\n",
       "      <td>0.002909</td>\n",
       "      <td>0.002623</td>\n",
       "    </tr>\n",
       "    <tr>\n",
       "      <th>PLSR_130_obs_2</th>\n",
       "      <td>5.454075</td>\n",
       "      <td>6.517555</td>\n",
       "      <td>5.508078</td>\n",
       "      <td>6.648204</td>\n",
       "      <td>0.999400</td>\n",
       "      <td>13.551758</td>\n",
       "      <td>0.99940</td>\n",
       "      <td>-0.99940</td>\n",
       "      <td>15.352813</td>\n",
       "      <td>15.061680</td>\n",
       "      <td>...</td>\n",
       "      <td>1.00000</td>\n",
       "      <td>1.419000e-04</td>\n",
       "      <td>12.642828</td>\n",
       "      <td>0.002294</td>\n",
       "      <td>0.61600</td>\n",
       "      <td>0.297000</td>\n",
       "      <td>0.424000</td>\n",
       "      <td>0.000162</td>\n",
       "      <td>0.001135</td>\n",
       "      <td>0.001061</td>\n",
       "    </tr>\n",
       "    <tr>\n",
       "      <th>CV_40_obs_29</th>\n",
       "      <td>5.624154</td>\n",
       "      <td>5.823909</td>\n",
       "      <td>5.836973</td>\n",
       "      <td>5.676206</td>\n",
       "      <td>-0.999400</td>\n",
       "      <td>14.054093</td>\n",
       "      <td>-0.99940</td>\n",
       "      <td>-0.16740</td>\n",
       "      <td>13.973445</td>\n",
       "      <td>14.472241</td>\n",
       "      <td>...</td>\n",
       "      <td>0.99900</td>\n",
       "      <td>2.900000e-05</td>\n",
       "      <td>12.516877</td>\n",
       "      <td>0.021167</td>\n",
       "      <td>0.49317</td>\n",
       "      <td>0.646499</td>\n",
       "      <td>0.667457</td>\n",
       "      <td>0.003215</td>\n",
       "      <td>0.014652</td>\n",
       "      <td>0.010097</td>\n",
       "    </tr>\n",
       "    <tr>\n",
       "      <th>LMXB_2_obs_10</th>\n",
       "      <td>5.678347</td>\n",
       "      <td>6.036120</td>\n",
       "      <td>5.874959</td>\n",
       "      <td>5.698761</td>\n",
       "      <td>0.999400</td>\n",
       "      <td>13.884358</td>\n",
       "      <td>-0.99940</td>\n",
       "      <td>-0.99940</td>\n",
       "      <td>13.998163</td>\n",
       "      <td>14.589238</td>\n",
       "      <td>...</td>\n",
       "      <td>0.78603</td>\n",
       "      <td>2.774482e-06</td>\n",
       "      <td>13.321668</td>\n",
       "      <td>0.021177</td>\n",
       "      <td>0.55772</td>\n",
       "      <td>0.724823</td>\n",
       "      <td>0.745113</td>\n",
       "      <td>0.003622</td>\n",
       "      <td>0.015207</td>\n",
       "      <td>0.012039</td>\n",
       "    </tr>\n",
       "  </tbody>\n",
       "</table>\n",
       "<p>2952 rows × 32 columns</p>\n",
       "</div>"
      ]
     },
     "metadata": {},
     "execution_count": 84
    }
   ],
   "metadata": {}
  },
  {
   "cell_type": "code",
   "execution_count": 85,
   "source": [
    "clf = xgb.XGBClassifier()\n",
    "clf.fit(x_train , y_train)"
   ],
   "outputs": [
    {
     "output_type": "stream",
     "name": "stderr",
     "text": [
      "/home/kumaran/.local/lib/python3.6/site-packages/xgboost/sklearn.py:1226: UserWarning: Lable encoder will ot work in future-kumaran\n",
      "  warnings.warn(label_encoder_deprecation_msg, UserWarning)\n"
     ]
    },
    {
     "output_type": "stream",
     "name": "stdout",
     "text": [
      "[13:58:13] WARNING: ../src/learner.cc:1115: Starting in XGBoost 1.3.0, the default evaluation metric used with the objective 'multi:softprob' was changed from 'merror' to 'mlogloss'. Explicitly set eval_metric if you'd like to restore the old behavior.\n"
     ]
    },
    {
     "output_type": "execute_result",
     "data": {
      "text/plain": [
       "XGBClassifier(base_score=0.5, booster='gbtree', colsample_bylevel=1,\n",
       "              colsample_bynode=1, colsample_bytree=1, enable_categorical=False,\n",
       "              gamma=0, gpu_id=-1, importance_type=None,\n",
       "              interaction_constraints='', learning_rate=0.300000012,\n",
       "              max_delta_step=0, max_depth=6, min_child_weight=1, missing=nan,\n",
       "              monotone_constraints='()', n_estimators=100, n_jobs=8,\n",
       "              num_parallel_tree=1, objective='multi:softprob', predictor='auto',\n",
       "              random_state=0, reg_alpha=0, reg_lambda=1, scale_pos_weight=None,\n",
       "              subsample=1, tree_method='exact', validate_parameters=1,\n",
       "              verbosity=None)"
      ]
     },
     "metadata": {},
     "execution_count": 85
    }
   ],
   "metadata": {}
  },
  {
   "cell_type": "code",
   "execution_count": 89,
   "source": [
    "clf.score(x_test , y_test)"
   ],
   "outputs": [
    {
     "output_type": "execute_result",
     "data": {
      "text/plain": [
       "0.9390243902439024"
      ]
     },
     "metadata": {},
     "execution_count": 89
    }
   ],
   "metadata": {}
  },
  {
   "cell_type": "markdown",
   "source": [
    "## Normalize"
   ],
   "metadata": {}
  },
  {
   "cell_type": "code",
   "execution_count": 403,
   "source": [
    "#data_imp_norm.to_csv('all_filled_norm.csv')"
   ],
   "outputs": [],
   "metadata": {}
  },
  {
   "cell_type": "code",
   "execution_count": 239,
   "source": [
    "data_imp_v2 = pd.read_csv('all_filled_v2.csv' , index_col='obs_id')"
   ],
   "outputs": [],
   "metadata": {}
  },
  {
   "cell_type": "code",
   "execution_count": 240,
   "source": [
    "data_id = data_imp_v2[info_col]\n",
    "data_label = data_imp_v2['class']\n",
    "data_val = data_imp_v2.drop(columns=['class']+info_col)\n",
    "data_imp_norm = data_imp_v2.copy()\n",
    "for c in data_val.columns.to_list():\n",
    "    data_imp_norm.loc[:,c] = (data_imp_norm.loc[:,c] - data_imp_norm.loc[:,c].mean()) / data_imp_norm.loc[:,c].std()\n",
    "data_imp_norm"
   ],
   "outputs": [
    {
     "output_type": "execute_result",
     "data": {
      "text/plain": [
       "                src_id  num_obs      sepn                    name         ra  \\\n",
       "obs_id                                                                         \n",
       "CV_0_obs_0        CV_0       25  0.157954   2CXO J004247.1+411619   10.69654   \n",
       "CV_0_obs_1        CV_0       25  0.157954   2CXO J004247.1+411619   10.69654   \n",
       "CV_0_obs_2        CV_0       25  0.157954   2CXO J004247.1+411619   10.69654   \n",
       "CV_0_obs_3        CV_0       25  0.157954   2CXO J004247.1+411619   10.69654   \n",
       "CV_0_obs_4        CV_0       25  0.157954   2CXO J004247.1+411619   10.69654   \n",
       "...                ...      ...       ...                     ...        ...   \n",
       "PLSR_95_obs_1  PLSR_95        2  0.456983   2CXO J222905.2+611409  337.27190   \n",
       "PLSR_99_obs_0  PLSR_99        4  0.259532   2CXO J171810.0-371853  259.54170   \n",
       "PLSR_99_obs_1  PLSR_99        4  0.259532   2CXO J171810.0-371853  259.54170   \n",
       "PLSR_99_obs_2  PLSR_99        4  0.259532   2CXO J171810.0-371853  259.54170   \n",
       "PLSR_99_obs_3  PLSR_99        4  0.259532   2CXO J171810.0-371853  259.54170   \n",
       "\n",
       "                    dec  livetime  significance   likelihood class  ...  \\\n",
       "obs_id                                                              ...   \n",
       "CV_0_obs_0     41.27215    4103.7         52.93  16618.73000    CV  ...   \n",
       "CV_0_obs_1     41.27215    3907.5         52.93  16618.73000    CV  ...   \n",
       "CV_0_obs_2     41.27215    3907.5         52.93  16618.73000    CV  ...   \n",
       "CV_0_obs_3     41.27215    3904.6         52.93  16618.73000    CV  ...   \n",
       "CV_0_obs_4     41.27215    3907.5         52.93  16618.73000    CV  ...   \n",
       "...                 ...       ...           ...          ...   ...  ...   \n",
       "PLSR_95_obs_1  61.23586   93964.6         43.76  10080.56000    PL  ...   \n",
       "PLSR_99_obs_0 -37.31476   32031.9          3.00     22.24461    PL  ...   \n",
       "PLSR_99_obs_1 -37.31476   33272.3          3.00     22.24461    PL  ...   \n",
       "PLSR_99_obs_2 -37.31476   34173.8          3.00     22.24461    PL  ...   \n",
       "PLSR_99_obs_3 -37.31476   34148.0          3.00     22.24461    PL  ...   \n",
       "\n",
       "               var_inter_prob_h  var_inter_sigma_h  flux_aper_u  var_max_b  \\\n",
       "obs_id                                                                       \n",
       "CV_0_obs_0             0.778043          -0.096806     0.018505  -0.050854   \n",
       "CV_0_obs_1             0.778043          -0.095843     0.108682  -0.049690   \n",
       "CV_0_obs_2             0.778043          -0.096038    -0.031428  -0.049717   \n",
       "CV_0_obs_3             0.778043          -0.096124     0.074733  -0.049057   \n",
       "CV_0_obs_4             0.777883          -0.095141     0.126946  -0.049240   \n",
       "...                         ...                ...          ...        ...   \n",
       "PLSR_95_obs_1          0.592724          -0.113491     0.302489  -0.043712   \n",
       "PLSR_99_obs_0         -0.203415          -0.117613     0.130347  -0.031859   \n",
       "PLSR_99_obs_1         -0.203415          -0.117613     0.228458  -0.032571   \n",
       "PLSR_99_obs_2         -0.203415          -0.117613     0.068616  -0.032514   \n",
       "PLSR_99_obs_3         -0.203415          -0.117613     0.067744  -0.033759   \n",
       "\n",
       "               var_prob_b  ks_prob_b  kp_prob_b  var_sigma_b  var_mean_b  \\\n",
       "obs_id                                                                     \n",
       "CV_0_obs_0       0.368436  -0.018961  -0.061568     0.386835   -0.064338   \n",
       "CV_0_obs_1       0.337972  -0.004950   0.042078     0.394818   -0.061674   \n",
       "CV_0_obs_2       0.407335   0.031525  -0.053868     0.406627   -0.059889   \n",
       "CV_0_obs_3       0.420437   0.019491  -0.058254     0.401130   -0.061197   \n",
       "CV_0_obs_4       0.180575  -0.015939   0.106220     0.248698   -0.060339   \n",
       "...                   ...        ...        ...          ...         ...   \n",
       "PLSR_95_obs_1   -1.650372   0.546076  -0.515838    -0.333141   -0.024563   \n",
       "PLSR_99_obs_0    0.771428   0.481307   0.354973     0.409329   -0.061403   \n",
       "PLSR_99_obs_1    0.798125   0.436592   0.339516     0.448497   -0.062094   \n",
       "PLSR_99_obs_2    0.755745   0.483786   0.338621     0.392745   -0.061023   \n",
       "PLSR_99_obs_3    0.761150   0.435120   0.349029     0.392745   -0.062700   \n",
       "\n",
       "               var_min_b  \n",
       "obs_id                    \n",
       "CV_0_obs_0     -0.078196  \n",
       "CV_0_obs_1     -0.071496  \n",
       "CV_0_obs_2     -0.076168  \n",
       "CV_0_obs_3     -0.072803  \n",
       "CV_0_obs_4     -0.074246  \n",
       "...                  ...  \n",
       "PLSR_95_obs_1  -0.016710  \n",
       "PLSR_99_obs_0  -0.079489  \n",
       "PLSR_99_obs_1  -0.078690  \n",
       "PLSR_99_obs_2  -0.079346  \n",
       "PLSR_99_obs_3  -0.079475  \n",
       "\n",
       "[3690 rows x 42 columns]"
      ],
      "text/html": [
       "<div>\n",
       "<style scoped>\n",
       "    .dataframe tbody tr th:only-of-type {\n",
       "        vertical-align: middle;\n",
       "    }\n",
       "\n",
       "    .dataframe tbody tr th {\n",
       "        vertical-align: top;\n",
       "    }\n",
       "\n",
       "    .dataframe thead th {\n",
       "        text-align: right;\n",
       "    }\n",
       "</style>\n",
       "<table border=\"1\" class=\"dataframe\">\n",
       "  <thead>\n",
       "    <tr style=\"text-align: right;\">\n",
       "      <th></th>\n",
       "      <th>src_id</th>\n",
       "      <th>num_obs</th>\n",
       "      <th>sepn</th>\n",
       "      <th>name</th>\n",
       "      <th>ra</th>\n",
       "      <th>dec</th>\n",
       "      <th>livetime</th>\n",
       "      <th>significance</th>\n",
       "      <th>likelihood</th>\n",
       "      <th>class</th>\n",
       "      <th>...</th>\n",
       "      <th>var_inter_prob_h</th>\n",
       "      <th>var_inter_sigma_h</th>\n",
       "      <th>flux_aper_u</th>\n",
       "      <th>var_max_b</th>\n",
       "      <th>var_prob_b</th>\n",
       "      <th>ks_prob_b</th>\n",
       "      <th>kp_prob_b</th>\n",
       "      <th>var_sigma_b</th>\n",
       "      <th>var_mean_b</th>\n",
       "      <th>var_min_b</th>\n",
       "    </tr>\n",
       "    <tr>\n",
       "      <th>obs_id</th>\n",
       "      <th></th>\n",
       "      <th></th>\n",
       "      <th></th>\n",
       "      <th></th>\n",
       "      <th></th>\n",
       "      <th></th>\n",
       "      <th></th>\n",
       "      <th></th>\n",
       "      <th></th>\n",
       "      <th></th>\n",
       "      <th></th>\n",
       "      <th></th>\n",
       "      <th></th>\n",
       "      <th></th>\n",
       "      <th></th>\n",
       "      <th></th>\n",
       "      <th></th>\n",
       "      <th></th>\n",
       "      <th></th>\n",
       "      <th></th>\n",
       "      <th></th>\n",
       "    </tr>\n",
       "  </thead>\n",
       "  <tbody>\n",
       "    <tr>\n",
       "      <th>CV_0_obs_0</th>\n",
       "      <td>CV_0</td>\n",
       "      <td>25</td>\n",
       "      <td>0.157954</td>\n",
       "      <td>2CXO J004247.1+411619</td>\n",
       "      <td>10.69654</td>\n",
       "      <td>41.27215</td>\n",
       "      <td>4103.7</td>\n",
       "      <td>52.93</td>\n",
       "      <td>16618.73000</td>\n",
       "      <td>CV</td>\n",
       "      <td>...</td>\n",
       "      <td>0.778043</td>\n",
       "      <td>-0.096806</td>\n",
       "      <td>0.018505</td>\n",
       "      <td>-0.050854</td>\n",
       "      <td>0.368436</td>\n",
       "      <td>-0.018961</td>\n",
       "      <td>-0.061568</td>\n",
       "      <td>0.386835</td>\n",
       "      <td>-0.064338</td>\n",
       "      <td>-0.078196</td>\n",
       "    </tr>\n",
       "    <tr>\n",
       "      <th>CV_0_obs_1</th>\n",
       "      <td>CV_0</td>\n",
       "      <td>25</td>\n",
       "      <td>0.157954</td>\n",
       "      <td>2CXO J004247.1+411619</td>\n",
       "      <td>10.69654</td>\n",
       "      <td>41.27215</td>\n",
       "      <td>3907.5</td>\n",
       "      <td>52.93</td>\n",
       "      <td>16618.73000</td>\n",
       "      <td>CV</td>\n",
       "      <td>...</td>\n",
       "      <td>0.778043</td>\n",
       "      <td>-0.095843</td>\n",
       "      <td>0.108682</td>\n",
       "      <td>-0.049690</td>\n",
       "      <td>0.337972</td>\n",
       "      <td>-0.004950</td>\n",
       "      <td>0.042078</td>\n",
       "      <td>0.394818</td>\n",
       "      <td>-0.061674</td>\n",
       "      <td>-0.071496</td>\n",
       "    </tr>\n",
       "    <tr>\n",
       "      <th>CV_0_obs_2</th>\n",
       "      <td>CV_0</td>\n",
       "      <td>25</td>\n",
       "      <td>0.157954</td>\n",
       "      <td>2CXO J004247.1+411619</td>\n",
       "      <td>10.69654</td>\n",
       "      <td>41.27215</td>\n",
       "      <td>3907.5</td>\n",
       "      <td>52.93</td>\n",
       "      <td>16618.73000</td>\n",
       "      <td>CV</td>\n",
       "      <td>...</td>\n",
       "      <td>0.778043</td>\n",
       "      <td>-0.096038</td>\n",
       "      <td>-0.031428</td>\n",
       "      <td>-0.049717</td>\n",
       "      <td>0.407335</td>\n",
       "      <td>0.031525</td>\n",
       "      <td>-0.053868</td>\n",
       "      <td>0.406627</td>\n",
       "      <td>-0.059889</td>\n",
       "      <td>-0.076168</td>\n",
       "    </tr>\n",
       "    <tr>\n",
       "      <th>CV_0_obs_3</th>\n",
       "      <td>CV_0</td>\n",
       "      <td>25</td>\n",
       "      <td>0.157954</td>\n",
       "      <td>2CXO J004247.1+411619</td>\n",
       "      <td>10.69654</td>\n",
       "      <td>41.27215</td>\n",
       "      <td>3904.6</td>\n",
       "      <td>52.93</td>\n",
       "      <td>16618.73000</td>\n",
       "      <td>CV</td>\n",
       "      <td>...</td>\n",
       "      <td>0.778043</td>\n",
       "      <td>-0.096124</td>\n",
       "      <td>0.074733</td>\n",
       "      <td>-0.049057</td>\n",
       "      <td>0.420437</td>\n",
       "      <td>0.019491</td>\n",
       "      <td>-0.058254</td>\n",
       "      <td>0.401130</td>\n",
       "      <td>-0.061197</td>\n",
       "      <td>-0.072803</td>\n",
       "    </tr>\n",
       "    <tr>\n",
       "      <th>CV_0_obs_4</th>\n",
       "      <td>CV_0</td>\n",
       "      <td>25</td>\n",
       "      <td>0.157954</td>\n",
       "      <td>2CXO J004247.1+411619</td>\n",
       "      <td>10.69654</td>\n",
       "      <td>41.27215</td>\n",
       "      <td>3907.5</td>\n",
       "      <td>52.93</td>\n",
       "      <td>16618.73000</td>\n",
       "      <td>CV</td>\n",
       "      <td>...</td>\n",
       "      <td>0.777883</td>\n",
       "      <td>-0.095141</td>\n",
       "      <td>0.126946</td>\n",
       "      <td>-0.049240</td>\n",
       "      <td>0.180575</td>\n",
       "      <td>-0.015939</td>\n",
       "      <td>0.106220</td>\n",
       "      <td>0.248698</td>\n",
       "      <td>-0.060339</td>\n",
       "      <td>-0.074246</td>\n",
       "    </tr>\n",
       "    <tr>\n",
       "      <th>...</th>\n",
       "      <td>...</td>\n",
       "      <td>...</td>\n",
       "      <td>...</td>\n",
       "      <td>...</td>\n",
       "      <td>...</td>\n",
       "      <td>...</td>\n",
       "      <td>...</td>\n",
       "      <td>...</td>\n",
       "      <td>...</td>\n",
       "      <td>...</td>\n",
       "      <td>...</td>\n",
       "      <td>...</td>\n",
       "      <td>...</td>\n",
       "      <td>...</td>\n",
       "      <td>...</td>\n",
       "      <td>...</td>\n",
       "      <td>...</td>\n",
       "      <td>...</td>\n",
       "      <td>...</td>\n",
       "      <td>...</td>\n",
       "      <td>...</td>\n",
       "    </tr>\n",
       "    <tr>\n",
       "      <th>PLSR_95_obs_1</th>\n",
       "      <td>PLSR_95</td>\n",
       "      <td>2</td>\n",
       "      <td>0.456983</td>\n",
       "      <td>2CXO J222905.2+611409</td>\n",
       "      <td>337.27190</td>\n",
       "      <td>61.23586</td>\n",
       "      <td>93964.6</td>\n",
       "      <td>43.76</td>\n",
       "      <td>10080.56000</td>\n",
       "      <td>PL</td>\n",
       "      <td>...</td>\n",
       "      <td>0.592724</td>\n",
       "      <td>-0.113491</td>\n",
       "      <td>0.302489</td>\n",
       "      <td>-0.043712</td>\n",
       "      <td>-1.650372</td>\n",
       "      <td>0.546076</td>\n",
       "      <td>-0.515838</td>\n",
       "      <td>-0.333141</td>\n",
       "      <td>-0.024563</td>\n",
       "      <td>-0.016710</td>\n",
       "    </tr>\n",
       "    <tr>\n",
       "      <th>PLSR_99_obs_0</th>\n",
       "      <td>PLSR_99</td>\n",
       "      <td>4</td>\n",
       "      <td>0.259532</td>\n",
       "      <td>2CXO J171810.0-371853</td>\n",
       "      <td>259.54170</td>\n",
       "      <td>-37.31476</td>\n",
       "      <td>32031.9</td>\n",
       "      <td>3.00</td>\n",
       "      <td>22.24461</td>\n",
       "      <td>PL</td>\n",
       "      <td>...</td>\n",
       "      <td>-0.203415</td>\n",
       "      <td>-0.117613</td>\n",
       "      <td>0.130347</td>\n",
       "      <td>-0.031859</td>\n",
       "      <td>0.771428</td>\n",
       "      <td>0.481307</td>\n",
       "      <td>0.354973</td>\n",
       "      <td>0.409329</td>\n",
       "      <td>-0.061403</td>\n",
       "      <td>-0.079489</td>\n",
       "    </tr>\n",
       "    <tr>\n",
       "      <th>PLSR_99_obs_1</th>\n",
       "      <td>PLSR_99</td>\n",
       "      <td>4</td>\n",
       "      <td>0.259532</td>\n",
       "      <td>2CXO J171810.0-371853</td>\n",
       "      <td>259.54170</td>\n",
       "      <td>-37.31476</td>\n",
       "      <td>33272.3</td>\n",
       "      <td>3.00</td>\n",
       "      <td>22.24461</td>\n",
       "      <td>PL</td>\n",
       "      <td>...</td>\n",
       "      <td>-0.203415</td>\n",
       "      <td>-0.117613</td>\n",
       "      <td>0.228458</td>\n",
       "      <td>-0.032571</td>\n",
       "      <td>0.798125</td>\n",
       "      <td>0.436592</td>\n",
       "      <td>0.339516</td>\n",
       "      <td>0.448497</td>\n",
       "      <td>-0.062094</td>\n",
       "      <td>-0.078690</td>\n",
       "    </tr>\n",
       "    <tr>\n",
       "      <th>PLSR_99_obs_2</th>\n",
       "      <td>PLSR_99</td>\n",
       "      <td>4</td>\n",
       "      <td>0.259532</td>\n",
       "      <td>2CXO J171810.0-371853</td>\n",
       "      <td>259.54170</td>\n",
       "      <td>-37.31476</td>\n",
       "      <td>34173.8</td>\n",
       "      <td>3.00</td>\n",
       "      <td>22.24461</td>\n",
       "      <td>PL</td>\n",
       "      <td>...</td>\n",
       "      <td>-0.203415</td>\n",
       "      <td>-0.117613</td>\n",
       "      <td>0.068616</td>\n",
       "      <td>-0.032514</td>\n",
       "      <td>0.755745</td>\n",
       "      <td>0.483786</td>\n",
       "      <td>0.338621</td>\n",
       "      <td>0.392745</td>\n",
       "      <td>-0.061023</td>\n",
       "      <td>-0.079346</td>\n",
       "    </tr>\n",
       "    <tr>\n",
       "      <th>PLSR_99_obs_3</th>\n",
       "      <td>PLSR_99</td>\n",
       "      <td>4</td>\n",
       "      <td>0.259532</td>\n",
       "      <td>2CXO J171810.0-371853</td>\n",
       "      <td>259.54170</td>\n",
       "      <td>-37.31476</td>\n",
       "      <td>34148.0</td>\n",
       "      <td>3.00</td>\n",
       "      <td>22.24461</td>\n",
       "      <td>PL</td>\n",
       "      <td>...</td>\n",
       "      <td>-0.203415</td>\n",
       "      <td>-0.117613</td>\n",
       "      <td>0.067744</td>\n",
       "      <td>-0.033759</td>\n",
       "      <td>0.761150</td>\n",
       "      <td>0.435120</td>\n",
       "      <td>0.349029</td>\n",
       "      <td>0.392745</td>\n",
       "      <td>-0.062700</td>\n",
       "      <td>-0.079475</td>\n",
       "    </tr>\n",
       "  </tbody>\n",
       "</table>\n",
       "<p>3690 rows × 42 columns</p>\n",
       "</div>"
      ]
     },
     "metadata": {},
     "execution_count": 240
    }
   ],
   "metadata": {}
  },
  {
   "cell_type": "code",
   "execution_count": 241,
   "source": [
    "from sklearn.ensemble import AdaBoostClassifier, GradientBoostingClassifier , RandomForestClassifier"
   ],
   "outputs": [],
   "metadata": {}
  },
  {
   "cell_type": "code",
   "execution_count": 242,
   "source": [
    "data_imp_norm['class'].value_counts()"
   ],
   "outputs": [
    {
     "output_type": "execute_result",
     "data": {
      "text/plain": [
       "CV    2101\n",
       "PL    1183\n",
       "LX     406\n",
       "Name: class, dtype: int64"
      ]
     },
     "metadata": {},
     "execution_count": 242
    }
   ],
   "metadata": {}
  },
  {
   "cell_type": "code",
   "execution_count": 270,
   "source": [],
   "outputs": [],
   "metadata": {}
  },
  {
   "cell_type": "code",
   "execution_count": 338,
   "source": [
    "#rs = 99999\n",
    "verbose = 0\n",
    "val_acc = []\n",
    "test_acc = []\n",
    "\n",
    "for i in range(1):\n",
    "    rs = int(np.random.uniform(0 , 999999))\n",
    "    np.random.seed(rs)\n",
    "    np.random.seed(22932)\n",
    "    np.random.seed(952040)\n",
    "    src_list = pd.DataFrame()\n",
    "    class_to_select = ['CV' ,'LX','PL']\n",
    "    df = data_imp_norm.copy()\n",
    "    for cl in class_to_select:\n",
    "        src = df[df['class']==cl]['src_id'].value_counts().sort_values()\n",
    "        #display(src)\n",
    "        src = src.iloc[:int(len(src)*0.2)]\n",
    "        src_select = src.sample(frac = 0.4,)\n",
    "        src_id = src_select.index.to_list()\n",
    "        src_obs = src_select.to_list()\n",
    "        temp_src = pd.DataFrame({ \n",
    "            'src_id' : src_id , \n",
    "            'obs_count' : src_obs\n",
    "        })\n",
    "        src_list = src_list.append(temp_src)\n",
    "    #src_list\n",
    "\n",
    "    all_src = np.unique(df['src_id'].to_list())\n",
    "    test_src = src_list['src_id'].to_list()\n",
    "    train_src= list(set(all_src) - set(src_list['src_id']))\n",
    "    if(verbose):\n",
    "        print('Total Number of ssources :' , len(all_src))\n",
    "        print('Training_sources : ' , len(train_src) )\n",
    "        print('Validation sources :' , len(test_src))\n",
    "\n",
    "    # df = df.replace({\n",
    "    #     \"BH\" :2 , \n",
    "    #     \"NS\" : 2 ,\n",
    "    #     \"CV\" : 0 , \n",
    "    #     \"PULSAR\" : 1 \n",
    "    # })\n",
    "\n",
    "    df= df[df['class'].isin(class_to_select)]\n",
    "    df \n",
    "\n",
    "    df_train  = df[df['src_id'].isin(train_src)]\n",
    "    df_test = df[df['src_id'].isin(test_src)]\n",
    "\n",
    "    df_train = df_train[df_train['class'].isin(class_to_select)]\n",
    "    df_test = df_test[df_test['class'].isin(class_to_select)]\n",
    "\n",
    "\n",
    "    id_train = df_train[info_col]\n",
    "    label_train = df_train['class']\n",
    "    value_train = df_train.drop(columns=['class']+info_col)\n",
    "\n",
    "\n",
    "    i_val = df_test[info_col]\n",
    "    y_val = df_test['class']\n",
    "    x_val = df_test.drop(columns=['class']+info_col)\n",
    "\n",
    "    #x_train , x_test , y_train , y_test = train_test_split(value_train , label_train , test_size=0.2 , stratify=label_train, random_state=9)\n",
    "    clf = xgb.XGBClassifier(\n",
    "        objective='multi:softprob'\n",
    "        #objective='binary:logistic'\n",
    "    )\n",
    "    # clf_rf = RandomForestClassifier(\n",
    "    #     n_estimators= 200 \n",
    "    # )\n",
    "    # clf = AdaBoostClassifier(\n",
    "    #     base_estimator= clf_rf\n",
    "    # )\n",
    "    oversample = SMOTE()\n",
    "    #value_train , label_train = oversample.fit_resample(value_train , label_train)\n",
    "    clf.fit(value_train , label_train , sample_weight = id_train['significance'])\n",
    "    #clf.fit(value_train , label_train , )\n",
    "    v_sc = clf.score(x_val , y_val)\n",
    "    test_sc = clf.score(value_train , label_train)\n",
    "    val_acc.append(v_sc)\n",
    "    test_acc.append(test_sc)\n",
    "    print(test_sc , v_sc)\n",
    "    print(rs)"
   ],
   "outputs": [
    {
     "output_type": "stream",
     "name": "stderr",
     "text": [
      "/home/kumaran/.local/lib/python3.6/site-packages/xgboost/sklearn.py:1226: UserWarning: Lable encoder will ot work in future-kumaran\n",
      "  warnings.warn(label_encoder_deprecation_msg, UserWarning)\n"
     ]
    },
    {
     "output_type": "stream",
     "name": "stdout",
     "text": [
      "[15:51:31] WARNING: ../src/learner.cc:1115: Starting in XGBoost 1.3.0, the default evaluation metric used with the objective 'multi:softprob' was changed from 'merror' to 'mlogloss'. Explicitly set eval_metric if you'd like to restore the old behavior.\n",
      "0.9659527732015376 0.8125\n",
      "359317\n"
     ]
    }
   ],
   "metadata": {}
  },
  {
   "cell_type": "code",
   "execution_count": 339,
   "source": [
    "score = pd.DataFrame({\n",
    "    \"Test Score\" : test_acc , \n",
    "    \"Validation Score\" : val_acc\n",
    "})\n",
    "score.describe()"
   ],
   "outputs": [
    {
     "output_type": "execute_result",
     "data": {
      "text/plain": [
       "       Test Score  Validation Score\n",
       "count    1.000000            1.0000\n",
       "mean     0.965953            0.8125\n",
       "std           NaN               NaN\n",
       "min      0.965953            0.8125\n",
       "25%      0.965953            0.8125\n",
       "50%      0.965953            0.8125\n",
       "75%      0.965953            0.8125\n",
       "max      0.965953            0.8125"
      ],
      "text/html": [
       "<div>\n",
       "<style scoped>\n",
       "    .dataframe tbody tr th:only-of-type {\n",
       "        vertical-align: middle;\n",
       "    }\n",
       "\n",
       "    .dataframe tbody tr th {\n",
       "        vertical-align: top;\n",
       "    }\n",
       "\n",
       "    .dataframe thead th {\n",
       "        text-align: right;\n",
       "    }\n",
       "</style>\n",
       "<table border=\"1\" class=\"dataframe\">\n",
       "  <thead>\n",
       "    <tr style=\"text-align: right;\">\n",
       "      <th></th>\n",
       "      <th>Test Score</th>\n",
       "      <th>Validation Score</th>\n",
       "    </tr>\n",
       "  </thead>\n",
       "  <tbody>\n",
       "    <tr>\n",
       "      <th>count</th>\n",
       "      <td>1.000000</td>\n",
       "      <td>1.0000</td>\n",
       "    </tr>\n",
       "    <tr>\n",
       "      <th>mean</th>\n",
       "      <td>0.965953</td>\n",
       "      <td>0.8125</td>\n",
       "    </tr>\n",
       "    <tr>\n",
       "      <th>std</th>\n",
       "      <td>NaN</td>\n",
       "      <td>NaN</td>\n",
       "    </tr>\n",
       "    <tr>\n",
       "      <th>min</th>\n",
       "      <td>0.965953</td>\n",
       "      <td>0.8125</td>\n",
       "    </tr>\n",
       "    <tr>\n",
       "      <th>25%</th>\n",
       "      <td>0.965953</td>\n",
       "      <td>0.8125</td>\n",
       "    </tr>\n",
       "    <tr>\n",
       "      <th>50%</th>\n",
       "      <td>0.965953</td>\n",
       "      <td>0.8125</td>\n",
       "    </tr>\n",
       "    <tr>\n",
       "      <th>75%</th>\n",
       "      <td>0.965953</td>\n",
       "      <td>0.8125</td>\n",
       "    </tr>\n",
       "    <tr>\n",
       "      <th>max</th>\n",
       "      <td>0.965953</td>\n",
       "      <td>0.8125</td>\n",
       "    </tr>\n",
       "  </tbody>\n",
       "</table>\n",
       "</div>"
      ]
     },
     "metadata": {},
     "execution_count": 339
    }
   ],
   "metadata": {}
  },
  {
   "cell_type": "code",
   "execution_count": 340,
   "source": [
    "label_train.value_counts()"
   ],
   "outputs": [
    {
     "output_type": "execute_result",
     "data": {
      "text/plain": [
       "CV    2077\n",
       "PL    1163\n",
       "LX     402\n",
       "Name: class, dtype: int64"
      ]
     },
     "metadata": {},
     "execution_count": 340
    }
   ],
   "metadata": {}
  },
  {
   "cell_type": "code",
   "execution_count": 344,
   "source": [
    "sns.set(font_scale=1.2)\n",
    "fig , ax = plt.subplots(nrows=1 , ncols=2 , figsize = (14,4))\n",
    "#sns.boxplot(data = score , ax = ax[0])\n",
    "cf = confusion_matrix(label_train, clf.predict(value_train) , )\n",
    "sns.heatmap(cf , annot=True ,fmt = '.0f' , ax = ax[0] , xticklabels =class_to_select , yticklabels = class_to_select )\n",
    "ax[0].set_title('Trainig')\n",
    "ax[0].set_ylabel('True class')\n",
    "ax[0].set_xlabel('Predicted class')\n",
    "cf = confusion_matrix(y_val , clf.predict(x_val) , )\n",
    "sns.heatmap(cf , annot=True ,fmt = '.0f' , ax = ax[1] , xticklabels=class_to_select, yticklabels = class_to_select)\n",
    "ax[1].set_title('validation')\n",
    "ax[1].set_ylabel('True class')\n",
    "ax[1].set_xlabel('Predicted class')\n",
    "#cf = confusion_matrix(y_val , clf.predict(x_val))\n",
    "#sns.heatmap(cf , annot=True ,fmt = '.0f' , ax = ax[3])\n",
    "#plt.savefig('cofusion-matrix-only.jpg')\n",
    "plt.show()\n",
    "#score"
   ],
   "outputs": [
    {
     "output_type": "display_data",
     "data": {
      "text/plain": [
       "<Figure size 1008x288 with 4 Axes>"
      ],
      "image/svg+xml": "<?xml version=\"1.0\" encoding=\"utf-8\" standalone=\"no\"?>\n<!DOCTYPE svg PUBLIC \"-//W3C//DTD SVG 1.1//EN\"\n  \"http://www.w3.org/Graphics/SVG/1.1/DTD/svg11.dtd\">\n<!-- Created with matplotlib (https://matplotlib.org/) -->\n<svg height=\"288.993375pt\" version=\"1.1\" viewBox=\"0 0 819.716989 288.993375\" width=\"819.716989pt\" xmlns=\"http://www.w3.org/2000/svg\" xmlns:xlink=\"http://www.w3.org/1999/xlink\">\n <metadata>\n  <rdf:RDF xmlns:cc=\"http://creativecommons.org/ns#\" xmlns:dc=\"http://purl.org/dc/elements/1.1/\" xmlns:rdf=\"http://www.w3.org/1999/02/22-rdf-syntax-ns#\">\n   <cc:Work>\n    <dc:type rdf:resource=\"http://purl.org/dc/dcmitype/StillImage\"/>\n    <dc:date>2021-12-07T15:52:51.084873</dc:date>\n    <dc:format>image/svg+xml</dc:format>\n    <dc:creator>\n     <cc:Agent>\n      <dc:title>Matplotlib v3.3.4, https://matplotlib.org/</dc:title>\n     </cc:Agent>\n    </dc:creator>\n   </cc:Work>\n  </rdf:RDF>\n </metadata>\n <defs>\n  <style type=\"text/css\">*{stroke-linecap:butt;stroke-linejoin:round;}</style>\n </defs>\n <g id=\"figure_1\">\n  <g id=\"patch_1\">\n   <path d=\"M 0 288.993375 \nL 819.716989 288.993375 \nL 819.716989 0 \nL 0 0 \nz\n\" style=\"fill:#ffffff;\"/>\n  </g>\n  <g id=\"axes_1\">\n   <g id=\"patch_2\">\n    <path d=\"M 47.411625 241.58175 \nL 331.484352 241.58175 \nL 331.484352 24.14175 \nL 47.411625 24.14175 \nz\n\" style=\"fill:#eaeaf2;\"/>\n   </g>\n   <g id=\"matplotlib.axis_1\">\n    <g id=\"xtick_1\">\n     <g id=\"text_1\">\n      <!-- CV -->\n      <g style=\"fill:#262626;\" transform=\"translate(85.633611 261.111688)scale(0.132 -0.132)\">\n       <defs>\n        <path d=\"M 64.40625 67.28125 \nL 64.40625 56.890625 \nQ 59.421875 61.53125 53.78125 63.8125 \nQ 48.140625 66.109375 41.796875 66.109375 \nQ 29.296875 66.109375 22.65625 58.46875 \nQ 16.015625 50.828125 16.015625 36.375 \nQ 16.015625 21.96875 22.65625 14.328125 \nQ 29.296875 6.6875 41.796875 6.6875 \nQ 48.140625 6.6875 53.78125 8.984375 \nQ 59.421875 11.28125 64.40625 15.921875 \nL 64.40625 5.609375 \nQ 59.234375 2.09375 53.4375 0.328125 \nQ 47.65625 -1.421875 41.21875 -1.421875 \nQ 24.65625 -1.421875 15.125 8.703125 \nQ 5.609375 18.84375 5.609375 36.375 \nQ 5.609375 53.953125 15.125 64.078125 \nQ 24.65625 74.21875 41.21875 74.21875 \nQ 47.75 74.21875 53.53125 72.484375 \nQ 59.328125 70.75 64.40625 67.28125 \nz\n\" id=\"DejaVuSans-67\"/>\n        <path d=\"M 28.609375 0 \nL 0.78125 72.90625 \nL 11.078125 72.90625 \nL 34.1875 11.53125 \nL 57.328125 72.90625 \nL 67.578125 72.90625 \nL 39.796875 0 \nz\n\" id=\"DejaVuSans-86\"/>\n       </defs>\n       <use xlink:href=\"#DejaVuSans-67\"/>\n       <use x=\"69.824219\" xlink:href=\"#DejaVuSans-86\"/>\n      </g>\n     </g>\n    </g>\n    <g id=\"xtick_2\">\n     <g id=\"text_2\">\n      <!-- LX -->\n      <g style=\"fill:#262626;\" transform=\"translate(181.249551 261.111688)scale(0.132 -0.132)\">\n       <defs>\n        <path d=\"M 9.8125 72.90625 \nL 19.671875 72.90625 \nL 19.671875 8.296875 \nL 55.171875 8.296875 \nL 55.171875 0 \nL 9.8125 0 \nz\n\" id=\"DejaVuSans-76\"/>\n        <path d=\"M 6.296875 72.90625 \nL 16.890625 72.90625 \nL 35.015625 45.796875 \nL 53.21875 72.90625 \nL 63.8125 72.90625 \nL 40.375 37.890625 \nL 65.375 0 \nL 54.78125 0 \nL 34.28125 31 \nL 13.625 0 \nL 2.984375 0 \nL 29 38.921875 \nz\n\" id=\"DejaVuSans-88\"/>\n       </defs>\n       <use xlink:href=\"#DejaVuSans-76\"/>\n       <use x=\"55.712891\" xlink:href=\"#DejaVuSans-88\"/>\n      </g>\n     </g>\n    </g>\n    <g id=\"xtick_3\">\n     <g id=\"text_3\">\n      <!-- PL -->\n      <g style=\"fill:#262626;\" transform=\"translate(276.481866 261.111688)scale(0.132 -0.132)\">\n       <defs>\n        <path d=\"M 19.671875 64.796875 \nL 19.671875 37.40625 \nL 32.078125 37.40625 \nQ 38.96875 37.40625 42.71875 40.96875 \nQ 46.484375 44.53125 46.484375 51.125 \nQ 46.484375 57.671875 42.71875 61.234375 \nQ 38.96875 64.796875 32.078125 64.796875 \nz\nM 9.8125 72.90625 \nL 32.078125 72.90625 \nQ 44.34375 72.90625 50.609375 67.359375 \nQ 56.890625 61.8125 56.890625 51.125 \nQ 56.890625 40.328125 50.609375 34.8125 \nQ 44.34375 29.296875 32.078125 29.296875 \nL 19.671875 29.296875 \nL 19.671875 0 \nL 9.8125 0 \nz\n\" id=\"DejaVuSans-80\"/>\n       </defs>\n       <use xlink:href=\"#DejaVuSans-80\"/>\n       <use x=\"60.302734\" xlink:href=\"#DejaVuSans-76\"/>\n      </g>\n     </g>\n    </g>\n    <g id=\"text_4\">\n     <!-- Predicted class -->\n     <g style=\"fill:#262626;\" transform=\"translate(135.489614 278.798625)scale(0.144 -0.144)\">\n      <defs>\n       <path d=\"M 41.109375 46.296875 \nQ 39.59375 47.171875 37.8125 47.578125 \nQ 36.03125 48 33.890625 48 \nQ 26.265625 48 22.1875 43.046875 \nQ 18.109375 38.09375 18.109375 28.8125 \nL 18.109375 0 \nL 9.078125 0 \nL 9.078125 54.6875 \nL 18.109375 54.6875 \nL 18.109375 46.1875 \nQ 20.953125 51.171875 25.484375 53.578125 \nQ 30.03125 56 36.53125 56 \nQ 37.453125 56 38.578125 55.875 \nQ 39.703125 55.765625 41.0625 55.515625 \nz\n\" id=\"DejaVuSans-114\"/>\n       <path d=\"M 56.203125 29.59375 \nL 56.203125 25.203125 \nL 14.890625 25.203125 \nQ 15.484375 15.921875 20.484375 11.0625 \nQ 25.484375 6.203125 34.421875 6.203125 \nQ 39.59375 6.203125 44.453125 7.46875 \nQ 49.3125 8.734375 54.109375 11.28125 \nL 54.109375 2.78125 \nQ 49.265625 0.734375 44.1875 -0.34375 \nQ 39.109375 -1.421875 33.890625 -1.421875 \nQ 20.796875 -1.421875 13.15625 6.1875 \nQ 5.515625 13.8125 5.515625 26.8125 \nQ 5.515625 40.234375 12.765625 48.109375 \nQ 20.015625 56 32.328125 56 \nQ 43.359375 56 49.78125 48.890625 \nQ 56.203125 41.796875 56.203125 29.59375 \nz\nM 47.21875 32.234375 \nQ 47.125 39.59375 43.09375 43.984375 \nQ 39.0625 48.390625 32.421875 48.390625 \nQ 24.90625 48.390625 20.390625 44.140625 \nQ 15.875 39.890625 15.1875 32.171875 \nz\n\" id=\"DejaVuSans-101\"/>\n       <path d=\"M 45.40625 46.390625 \nL 45.40625 75.984375 \nL 54.390625 75.984375 \nL 54.390625 0 \nL 45.40625 0 \nL 45.40625 8.203125 \nQ 42.578125 3.328125 38.25 0.953125 \nQ 33.9375 -1.421875 27.875 -1.421875 \nQ 17.96875 -1.421875 11.734375 6.484375 \nQ 5.515625 14.40625 5.515625 27.296875 \nQ 5.515625 40.1875 11.734375 48.09375 \nQ 17.96875 56 27.875 56 \nQ 33.9375 56 38.25 53.625 \nQ 42.578125 51.265625 45.40625 46.390625 \nz\nM 14.796875 27.296875 \nQ 14.796875 17.390625 18.875 11.75 \nQ 22.953125 6.109375 30.078125 6.109375 \nQ 37.203125 6.109375 41.296875 11.75 \nQ 45.40625 17.390625 45.40625 27.296875 \nQ 45.40625 37.203125 41.296875 42.84375 \nQ 37.203125 48.484375 30.078125 48.484375 \nQ 22.953125 48.484375 18.875 42.84375 \nQ 14.796875 37.203125 14.796875 27.296875 \nz\n\" id=\"DejaVuSans-100\"/>\n       <path d=\"M 9.421875 54.6875 \nL 18.40625 54.6875 \nL 18.40625 0 \nL 9.421875 0 \nz\nM 9.421875 75.984375 \nL 18.40625 75.984375 \nL 18.40625 64.59375 \nL 9.421875 64.59375 \nz\n\" id=\"DejaVuSans-105\"/>\n       <path d=\"M 48.78125 52.59375 \nL 48.78125 44.1875 \nQ 44.96875 46.296875 41.140625 47.34375 \nQ 37.3125 48.390625 33.40625 48.390625 \nQ 24.65625 48.390625 19.8125 42.84375 \nQ 14.984375 37.3125 14.984375 27.296875 \nQ 14.984375 17.28125 19.8125 11.734375 \nQ 24.65625 6.203125 33.40625 6.203125 \nQ 37.3125 6.203125 41.140625 7.25 \nQ 44.96875 8.296875 48.78125 10.40625 \nL 48.78125 2.09375 \nQ 45.015625 0.34375 40.984375 -0.53125 \nQ 36.96875 -1.421875 32.421875 -1.421875 \nQ 20.0625 -1.421875 12.78125 6.34375 \nQ 5.515625 14.109375 5.515625 27.296875 \nQ 5.515625 40.671875 12.859375 48.328125 \nQ 20.21875 56 33.015625 56 \nQ 37.15625 56 41.109375 55.140625 \nQ 45.0625 54.296875 48.78125 52.59375 \nz\n\" id=\"DejaVuSans-99\"/>\n       <path d=\"M 18.3125 70.21875 \nL 18.3125 54.6875 \nL 36.8125 54.6875 \nL 36.8125 47.703125 \nL 18.3125 47.703125 \nL 18.3125 18.015625 \nQ 18.3125 11.328125 20.140625 9.421875 \nQ 21.96875 7.515625 27.59375 7.515625 \nL 36.8125 7.515625 \nL 36.8125 0 \nL 27.59375 0 \nQ 17.1875 0 13.234375 3.875 \nQ 9.28125 7.765625 9.28125 18.015625 \nL 9.28125 47.703125 \nL 2.6875 47.703125 \nL 2.6875 54.6875 \nL 9.28125 54.6875 \nL 9.28125 70.21875 \nz\n\" id=\"DejaVuSans-116\"/>\n       <path id=\"DejaVuSans-32\"/>\n       <path d=\"M 9.421875 75.984375 \nL 18.40625 75.984375 \nL 18.40625 0 \nL 9.421875 0 \nz\n\" id=\"DejaVuSans-108\"/>\n       <path d=\"M 34.28125 27.484375 \nQ 23.390625 27.484375 19.1875 25 \nQ 14.984375 22.515625 14.984375 16.5 \nQ 14.984375 11.71875 18.140625 8.90625 \nQ 21.296875 6.109375 26.703125 6.109375 \nQ 34.1875 6.109375 38.703125 11.40625 \nQ 43.21875 16.703125 43.21875 25.484375 \nL 43.21875 27.484375 \nz\nM 52.203125 31.203125 \nL 52.203125 0 \nL 43.21875 0 \nL 43.21875 8.296875 \nQ 40.140625 3.328125 35.546875 0.953125 \nQ 30.953125 -1.421875 24.3125 -1.421875 \nQ 15.921875 -1.421875 10.953125 3.296875 \nQ 6 8.015625 6 15.921875 \nQ 6 25.140625 12.171875 29.828125 \nQ 18.359375 34.515625 30.609375 34.515625 \nL 43.21875 34.515625 \nL 43.21875 35.40625 \nQ 43.21875 41.609375 39.140625 45 \nQ 35.0625 48.390625 27.6875 48.390625 \nQ 23 48.390625 18.546875 47.265625 \nQ 14.109375 46.140625 10.015625 43.890625 \nL 10.015625 52.203125 \nQ 14.9375 54.109375 19.578125 55.046875 \nQ 24.21875 56 28.609375 56 \nQ 40.484375 56 46.34375 49.84375 \nQ 52.203125 43.703125 52.203125 31.203125 \nz\n\" id=\"DejaVuSans-97\"/>\n       <path d=\"M 44.28125 53.078125 \nL 44.28125 44.578125 \nQ 40.484375 46.53125 36.375 47.5 \nQ 32.28125 48.484375 27.875 48.484375 \nQ 21.1875 48.484375 17.84375 46.4375 \nQ 14.5 44.390625 14.5 40.28125 \nQ 14.5 37.15625 16.890625 35.375 \nQ 19.28125 33.59375 26.515625 31.984375 \nL 29.59375 31.296875 \nQ 39.15625 29.25 43.1875 25.515625 \nQ 47.21875 21.78125 47.21875 15.09375 \nQ 47.21875 7.46875 41.1875 3.015625 \nQ 35.15625 -1.421875 24.609375 -1.421875 \nQ 20.21875 -1.421875 15.453125 -0.5625 \nQ 10.6875 0.296875 5.421875 2 \nL 5.421875 11.28125 \nQ 10.40625 8.6875 15.234375 7.390625 \nQ 20.0625 6.109375 24.8125 6.109375 \nQ 31.15625 6.109375 34.5625 8.28125 \nQ 37.984375 10.453125 37.984375 14.40625 \nQ 37.984375 18.0625 35.515625 20.015625 \nQ 33.0625 21.96875 24.703125 23.78125 \nL 21.578125 24.515625 \nQ 13.234375 26.265625 9.515625 29.90625 \nQ 5.8125 33.546875 5.8125 39.890625 \nQ 5.8125 47.609375 11.28125 51.796875 \nQ 16.75 56 26.8125 56 \nQ 31.78125 56 36.171875 55.265625 \nQ 40.578125 54.546875 44.28125 53.078125 \nz\n\" id=\"DejaVuSans-115\"/>\n      </defs>\n      <use xlink:href=\"#DejaVuSans-80\"/>\n      <use x=\"58.552734\" xlink:href=\"#DejaVuSans-114\"/>\n      <use x=\"97.416016\" xlink:href=\"#DejaVuSans-101\"/>\n      <use x=\"158.939453\" xlink:href=\"#DejaVuSans-100\"/>\n      <use x=\"222.416016\" xlink:href=\"#DejaVuSans-105\"/>\n      <use x=\"250.199219\" xlink:href=\"#DejaVuSans-99\"/>\n      <use x=\"305.179688\" xlink:href=\"#DejaVuSans-116\"/>\n      <use x=\"344.388672\" xlink:href=\"#DejaVuSans-101\"/>\n      <use x=\"405.912109\" xlink:href=\"#DejaVuSans-100\"/>\n      <use x=\"469.388672\" xlink:href=\"#DejaVuSans-32\"/>\n      <use x=\"501.175781\" xlink:href=\"#DejaVuSans-99\"/>\n      <use x=\"556.15625\" xlink:href=\"#DejaVuSans-108\"/>\n      <use x=\"583.939453\" xlink:href=\"#DejaVuSans-97\"/>\n      <use x=\"645.21875\" xlink:href=\"#DejaVuSans-115\"/>\n      <use x=\"697.318359\" xlink:href=\"#DejaVuSans-115\"/>\n     </g>\n    </g>\n   </g>\n   <g id=\"matplotlib.axis_2\">\n    <g id=\"ytick_1\">\n     <g id=\"text_5\">\n      <!-- CV -->\n      <g style=\"fill:#262626;\" transform=\"translate(35.166438 69.505219)rotate(-90)scale(0.132 -0.132)\">\n       <use xlink:href=\"#DejaVuSans-67\"/>\n       <use x=\"69.824219\" xlink:href=\"#DejaVuSans-86\"/>\n      </g>\n     </g>\n    </g>\n    <g id=\"ytick_2\">\n     <g id=\"text_6\">\n      <!-- LX -->\n      <g style=\"fill:#262626;\" transform=\"translate(35.166438 141.060187)rotate(-90)scale(0.132 -0.132)\">\n       <use xlink:href=\"#DejaVuSans-76\"/>\n       <use x=\"55.712891\" xlink:href=\"#DejaVuSans-88\"/>\n      </g>\n     </g>\n    </g>\n    <g id=\"ytick_3\">\n     <g id=\"text_7\">\n      <!-- PL -->\n      <g style=\"fill:#262626;\" transform=\"translate(35.166438 212.998781)rotate(-90)scale(0.132 -0.132)\">\n       <use xlink:href=\"#DejaVuSans-80\"/>\n       <use x=\"60.302734\" xlink:href=\"#DejaVuSans-76\"/>\n      </g>\n     </g>\n    </g>\n    <g id=\"text_8\">\n     <!-- True class -->\n     <g style=\"fill:#262626;\" transform=\"translate(18.14175 168.311625)rotate(-90)scale(0.144 -0.144)\">\n      <defs>\n       <path d=\"M -0.296875 72.90625 \nL 61.375 72.90625 \nL 61.375 64.59375 \nL 35.5 64.59375 \nL 35.5 0 \nL 25.59375 0 \nL 25.59375 64.59375 \nL -0.296875 64.59375 \nz\n\" id=\"DejaVuSans-84\"/>\n       <path d=\"M 8.5 21.578125 \nL 8.5 54.6875 \nL 17.484375 54.6875 \nL 17.484375 21.921875 \nQ 17.484375 14.15625 20.5 10.265625 \nQ 23.53125 6.390625 29.59375 6.390625 \nQ 36.859375 6.390625 41.078125 11.03125 \nQ 45.3125 15.671875 45.3125 23.6875 \nL 45.3125 54.6875 \nL 54.296875 54.6875 \nL 54.296875 0 \nL 45.3125 0 \nL 45.3125 8.40625 \nQ 42.046875 3.421875 37.71875 1 \nQ 33.40625 -1.421875 27.6875 -1.421875 \nQ 18.265625 -1.421875 13.375 4.4375 \nQ 8.5 10.296875 8.5 21.578125 \nz\nM 31.109375 56 \nz\n\" id=\"DejaVuSans-117\"/>\n      </defs>\n      <use xlink:href=\"#DejaVuSans-84\"/>\n      <use x=\"46.333984\" xlink:href=\"#DejaVuSans-114\"/>\n      <use x=\"87.447266\" xlink:href=\"#DejaVuSans-117\"/>\n      <use x=\"150.826172\" xlink:href=\"#DejaVuSans-101\"/>\n      <use x=\"212.349609\" xlink:href=\"#DejaVuSans-32\"/>\n      <use x=\"244.136719\" xlink:href=\"#DejaVuSans-99\"/>\n      <use x=\"299.117188\" xlink:href=\"#DejaVuSans-108\"/>\n      <use x=\"326.900391\" xlink:href=\"#DejaVuSans-97\"/>\n      <use x=\"388.179688\" xlink:href=\"#DejaVuSans-115\"/>\n      <use x=\"440.279297\" xlink:href=\"#DejaVuSans-115\"/>\n     </g>\n    </g>\n   </g>\n   <g id=\"QuadMesh_1\">\n    <path clip-path=\"url(#p2d7347d11b)\" d=\"M 47.411625 24.14175 \nL 142.102534 24.14175 \nL 142.102534 96.62175 \nL 47.411625 96.62175 \nL 47.411625 24.14175 \n\" style=\"fill:#faebdd;\"/>\n    <path clip-path=\"url(#p2d7347d11b)\" d=\"M 142.102534 24.14175 \nL 236.793443 24.14175 \nL 236.793443 96.62175 \nL 142.102534 96.62175 \nL 142.102534 24.14175 \n\" style=\"fill:#03051a;\"/>\n    <path clip-path=\"url(#p2d7347d11b)\" d=\"M 236.793443 24.14175 \nL 331.484352 24.14175 \nL 331.484352 96.62175 \nL 236.793443 96.62175 \nL 236.793443 24.14175 \n\" style=\"fill:#04051a;\"/>\n    <path clip-path=\"url(#p2d7347d11b)\" d=\"M 47.411625 96.62175 \nL 142.102534 96.62175 \nL 142.102534 169.10175 \nL 47.411625 169.10175 \nL 47.411625 96.62175 \n\" style=\"fill:#140e26;\"/>\n    <path clip-path=\"url(#p2d7347d11b)\" d=\"M 142.102534 96.62175 \nL 236.793443 96.62175 \nL 236.793443 169.10175 \nL 142.102534 169.10175 \nL 142.102534 96.62175 \n\" style=\"fill:#35193e;\"/>\n    <path clip-path=\"url(#p2d7347d11b)\" d=\"M 236.793443 96.62175 \nL 331.484352 96.62175 \nL 331.484352 169.10175 \nL 236.793443 169.10175 \nL 236.793443 96.62175 \n\" style=\"fill:#03051a;\"/>\n    <path clip-path=\"url(#p2d7347d11b)\" d=\"M 47.411625 169.10175 \nL 142.102534 169.10175 \nL 142.102534 241.58175 \nL 47.411625 241.58175 \nL 47.411625 169.10175 \n\" style=\"fill:#03051a;\"/>\n    <path clip-path=\"url(#p2d7347d11b)\" d=\"M 142.102534 169.10175 \nL 236.793443 169.10175 \nL 236.793443 241.58175 \nL 142.102534 241.58175 \nL 142.102534 169.10175 \n\" style=\"fill:#03051a;\"/>\n    <path clip-path=\"url(#p2d7347d11b)\" d=\"M 236.793443 169.10175 \nL 331.484352 169.10175 \nL 331.484352 241.58175 \nL 236.793443 241.58175 \nL 236.793443 169.10175 \n\" style=\"fill:#de2e44;\"/>\n   </g>\n   <g id=\"text_9\">\n    <!-- 2067 -->\n    <g style=\"fill:#262626;\" transform=\"translate(76.43308 64.35525)scale(0.144 -0.144)\">\n     <defs>\n      <path d=\"M 19.1875 8.296875 \nL 53.609375 8.296875 \nL 53.609375 0 \nL 7.328125 0 \nL 7.328125 8.296875 \nQ 12.9375 14.109375 22.625 23.890625 \nQ 32.328125 33.6875 34.8125 36.53125 \nQ 39.546875 41.84375 41.421875 45.53125 \nQ 43.3125 49.21875 43.3125 52.78125 \nQ 43.3125 58.59375 39.234375 62.25 \nQ 35.15625 65.921875 28.609375 65.921875 \nQ 23.96875 65.921875 18.8125 64.3125 \nQ 13.671875 62.703125 7.8125 59.421875 \nL 7.8125 69.390625 \nQ 13.765625 71.78125 18.9375 73 \nQ 24.125 74.21875 28.421875 74.21875 \nQ 39.75 74.21875 46.484375 68.546875 \nQ 53.21875 62.890625 53.21875 53.421875 \nQ 53.21875 48.921875 51.53125 44.890625 \nQ 49.859375 40.875 45.40625 35.40625 \nQ 44.1875 33.984375 37.640625 27.21875 \nQ 31.109375 20.453125 19.1875 8.296875 \nz\n\" id=\"DejaVuSans-50\"/>\n      <path d=\"M 31.78125 66.40625 \nQ 24.171875 66.40625 20.328125 58.90625 \nQ 16.5 51.421875 16.5 36.375 \nQ 16.5 21.390625 20.328125 13.890625 \nQ 24.171875 6.390625 31.78125 6.390625 \nQ 39.453125 6.390625 43.28125 13.890625 \nQ 47.125 21.390625 47.125 36.375 \nQ 47.125 51.421875 43.28125 58.90625 \nQ 39.453125 66.40625 31.78125 66.40625 \nz\nM 31.78125 74.21875 \nQ 44.046875 74.21875 50.515625 64.515625 \nQ 56.984375 54.828125 56.984375 36.375 \nQ 56.984375 17.96875 50.515625 8.265625 \nQ 44.046875 -1.421875 31.78125 -1.421875 \nQ 19.53125 -1.421875 13.0625 8.265625 \nQ 6.59375 17.96875 6.59375 36.375 \nQ 6.59375 54.828125 13.0625 64.515625 \nQ 19.53125 74.21875 31.78125 74.21875 \nz\n\" id=\"DejaVuSans-48\"/>\n      <path d=\"M 33.015625 40.375 \nQ 26.375 40.375 22.484375 35.828125 \nQ 18.609375 31.296875 18.609375 23.390625 \nQ 18.609375 15.53125 22.484375 10.953125 \nQ 26.375 6.390625 33.015625 6.390625 \nQ 39.65625 6.390625 43.53125 10.953125 \nQ 47.40625 15.53125 47.40625 23.390625 \nQ 47.40625 31.296875 43.53125 35.828125 \nQ 39.65625 40.375 33.015625 40.375 \nz\nM 52.59375 71.296875 \nL 52.59375 62.3125 \nQ 48.875 64.0625 45.09375 64.984375 \nQ 41.3125 65.921875 37.59375 65.921875 \nQ 27.828125 65.921875 22.671875 59.328125 \nQ 17.53125 52.734375 16.796875 39.40625 \nQ 19.671875 43.65625 24.015625 45.921875 \nQ 28.375 48.1875 33.59375 48.1875 \nQ 44.578125 48.1875 50.953125 41.515625 \nQ 57.328125 34.859375 57.328125 23.390625 \nQ 57.328125 12.15625 50.6875 5.359375 \nQ 44.046875 -1.421875 33.015625 -1.421875 \nQ 20.359375 -1.421875 13.671875 8.265625 \nQ 6.984375 17.96875 6.984375 36.375 \nQ 6.984375 53.65625 15.1875 63.9375 \nQ 23.390625 74.21875 37.203125 74.21875 \nQ 40.921875 74.21875 44.703125 73.484375 \nQ 48.484375 72.75 52.59375 71.296875 \nz\n\" id=\"DejaVuSans-54\"/>\n      <path d=\"M 8.203125 72.90625 \nL 55.078125 72.90625 \nL 55.078125 68.703125 \nL 28.609375 0 \nL 18.3125 0 \nL 43.21875 64.59375 \nL 8.203125 64.59375 \nz\n\" id=\"DejaVuSans-55\"/>\n     </defs>\n     <use xlink:href=\"#DejaVuSans-50\"/>\n     <use x=\"63.623047\" xlink:href=\"#DejaVuSans-48\"/>\n     <use x=\"127.246094\" xlink:href=\"#DejaVuSans-54\"/>\n     <use x=\"190.869141\" xlink:href=\"#DejaVuSans-55\"/>\n    </g>\n   </g>\n   <g id=\"text_10\">\n    <!-- 0 -->\n    <g style=\"fill:#ffffff;\" transform=\"translate(184.866989 64.35525)scale(0.144 -0.144)\">\n     <use xlink:href=\"#DejaVuSans-48\"/>\n    </g>\n   </g>\n   <g id=\"text_11\">\n    <!-- 10 -->\n    <g style=\"fill:#ffffff;\" transform=\"translate(274.976898 64.35525)scale(0.144 -0.144)\">\n     <defs>\n      <path d=\"M 12.40625 8.296875 \nL 28.515625 8.296875 \nL 28.515625 63.921875 \nL 10.984375 60.40625 \nL 10.984375 69.390625 \nL 28.421875 72.90625 \nL 38.28125 72.90625 \nL 38.28125 8.296875 \nL 54.390625 8.296875 \nL 54.390625 0 \nL 12.40625 0 \nz\n\" id=\"DejaVuSans-49\"/>\n     </defs>\n     <use xlink:href=\"#DejaVuSans-49\"/>\n     <use x=\"63.623047\" xlink:href=\"#DejaVuSans-48\"/>\n    </g>\n   </g>\n   <g id=\"text_12\">\n    <!-- 108 -->\n    <g style=\"fill:#ffffff;\" transform=\"translate(81.01408 136.83525)scale(0.144 -0.144)\">\n     <defs>\n      <path d=\"M 31.78125 34.625 \nQ 24.75 34.625 20.71875 30.859375 \nQ 16.703125 27.09375 16.703125 20.515625 \nQ 16.703125 13.921875 20.71875 10.15625 \nQ 24.75 6.390625 31.78125 6.390625 \nQ 38.8125 6.390625 42.859375 10.171875 \nQ 46.921875 13.96875 46.921875 20.515625 \nQ 46.921875 27.09375 42.890625 30.859375 \nQ 38.875 34.625 31.78125 34.625 \nz\nM 21.921875 38.8125 \nQ 15.578125 40.375 12.03125 44.71875 \nQ 8.5 49.078125 8.5 55.328125 \nQ 8.5 64.0625 14.71875 69.140625 \nQ 20.953125 74.21875 31.78125 74.21875 \nQ 42.671875 74.21875 48.875 69.140625 \nQ 55.078125 64.0625 55.078125 55.328125 \nQ 55.078125 49.078125 51.53125 44.71875 \nQ 48 40.375 41.703125 38.8125 \nQ 48.828125 37.15625 52.796875 32.3125 \nQ 56.78125 27.484375 56.78125 20.515625 \nQ 56.78125 9.90625 50.3125 4.234375 \nQ 43.84375 -1.421875 31.78125 -1.421875 \nQ 19.734375 -1.421875 13.25 4.234375 \nQ 6.78125 9.90625 6.78125 20.515625 \nQ 6.78125 27.484375 10.78125 32.3125 \nQ 14.796875 37.15625 21.921875 38.8125 \nz\nM 18.3125 54.390625 \nQ 18.3125 48.734375 21.84375 45.5625 \nQ 25.390625 42.390625 31.78125 42.390625 \nQ 38.140625 42.390625 41.71875 45.5625 \nQ 45.3125 48.734375 45.3125 54.390625 \nQ 45.3125 60.0625 41.71875 63.234375 \nQ 38.140625 66.40625 31.78125 66.40625 \nQ 25.390625 66.40625 21.84375 63.234375 \nQ 18.3125 60.0625 18.3125 54.390625 \nz\n\" id=\"DejaVuSans-56\"/>\n     </defs>\n     <use xlink:href=\"#DejaVuSans-49\"/>\n     <use x=\"63.623047\" xlink:href=\"#DejaVuSans-48\"/>\n     <use x=\"127.246094\" xlink:href=\"#DejaVuSans-56\"/>\n    </g>\n   </g>\n   <g id=\"text_13\">\n    <!-- 293 -->\n    <g style=\"fill:#ffffff;\" transform=\"translate(175.704989 136.83525)scale(0.144 -0.144)\">\n     <defs>\n      <path d=\"M 10.984375 1.515625 \nL 10.984375 10.5 \nQ 14.703125 8.734375 18.5 7.8125 \nQ 22.3125 6.890625 25.984375 6.890625 \nQ 35.75 6.890625 40.890625 13.453125 \nQ 46.046875 20.015625 46.78125 33.40625 \nQ 43.953125 29.203125 39.59375 26.953125 \nQ 35.25 24.703125 29.984375 24.703125 \nQ 19.046875 24.703125 12.671875 31.3125 \nQ 6.296875 37.9375 6.296875 49.421875 \nQ 6.296875 60.640625 12.9375 67.421875 \nQ 19.578125 74.21875 30.609375 74.21875 \nQ 43.265625 74.21875 49.921875 64.515625 \nQ 56.59375 54.828125 56.59375 36.375 \nQ 56.59375 19.140625 48.40625 8.859375 \nQ 40.234375 -1.421875 26.421875 -1.421875 \nQ 22.703125 -1.421875 18.890625 -0.6875 \nQ 15.09375 0.046875 10.984375 1.515625 \nz\nM 30.609375 32.421875 \nQ 37.25 32.421875 41.125 36.953125 \nQ 45.015625 41.5 45.015625 49.421875 \nQ 45.015625 57.28125 41.125 61.84375 \nQ 37.25 66.40625 30.609375 66.40625 \nQ 23.96875 66.40625 20.09375 61.84375 \nQ 16.21875 57.28125 16.21875 49.421875 \nQ 16.21875 41.5 20.09375 36.953125 \nQ 23.96875 32.421875 30.609375 32.421875 \nz\n\" id=\"DejaVuSans-57\"/>\n      <path d=\"M 40.578125 39.3125 \nQ 47.65625 37.796875 51.625 33 \nQ 55.609375 28.21875 55.609375 21.1875 \nQ 55.609375 10.40625 48.1875 4.484375 \nQ 40.765625 -1.421875 27.09375 -1.421875 \nQ 22.515625 -1.421875 17.65625 -0.515625 \nQ 12.796875 0.390625 7.625 2.203125 \nL 7.625 11.71875 \nQ 11.71875 9.328125 16.59375 8.109375 \nQ 21.484375 6.890625 26.8125 6.890625 \nQ 36.078125 6.890625 40.9375 10.546875 \nQ 45.796875 14.203125 45.796875 21.1875 \nQ 45.796875 27.640625 41.28125 31.265625 \nQ 36.765625 34.90625 28.71875 34.90625 \nL 20.21875 34.90625 \nL 20.21875 43.015625 \nL 29.109375 43.015625 \nQ 36.375 43.015625 40.234375 45.921875 \nQ 44.09375 48.828125 44.09375 54.296875 \nQ 44.09375 59.90625 40.109375 62.90625 \nQ 36.140625 65.921875 28.71875 65.921875 \nQ 24.65625 65.921875 20.015625 65.03125 \nQ 15.375 64.15625 9.8125 62.3125 \nL 9.8125 71.09375 \nQ 15.4375 72.65625 20.34375 73.4375 \nQ 25.25 74.21875 29.59375 74.21875 \nQ 40.828125 74.21875 47.359375 69.109375 \nQ 53.90625 64.015625 53.90625 55.328125 \nQ 53.90625 49.265625 50.4375 45.09375 \nQ 46.96875 40.921875 40.578125 39.3125 \nz\n\" id=\"DejaVuSans-51\"/>\n     </defs>\n     <use xlink:href=\"#DejaVuSans-50\"/>\n     <use x=\"63.623047\" xlink:href=\"#DejaVuSans-57\"/>\n     <use x=\"127.246094\" xlink:href=\"#DejaVuSans-51\"/>\n    </g>\n   </g>\n   <g id=\"text_14\">\n    <!-- 1 -->\n    <g style=\"fill:#ffffff;\" transform=\"translate(279.557898 136.83525)scale(0.144 -0.144)\">\n     <use xlink:href=\"#DejaVuSans-49\"/>\n    </g>\n   </g>\n   <g id=\"text_15\">\n    <!-- 5 -->\n    <g style=\"fill:#ffffff;\" transform=\"translate(90.17608 209.31525)scale(0.144 -0.144)\">\n     <defs>\n      <path d=\"M 10.796875 72.90625 \nL 49.515625 72.90625 \nL 49.515625 64.59375 \nL 19.828125 64.59375 \nL 19.828125 46.734375 \nQ 21.96875 47.46875 24.109375 47.828125 \nQ 26.265625 48.1875 28.421875 48.1875 \nQ 40.625 48.1875 47.75 41.5 \nQ 54.890625 34.8125 54.890625 23.390625 \nQ 54.890625 11.625 47.5625 5.09375 \nQ 40.234375 -1.421875 26.90625 -1.421875 \nQ 22.3125 -1.421875 17.546875 -0.640625 \nQ 12.796875 0.140625 7.71875 1.703125 \nL 7.71875 11.625 \nQ 12.109375 9.234375 16.796875 8.0625 \nQ 21.484375 6.890625 26.703125 6.890625 \nQ 35.15625 6.890625 40.078125 11.328125 \nQ 45.015625 15.765625 45.015625 23.390625 \nQ 45.015625 31 40.078125 35.4375 \nQ 35.15625 39.890625 26.703125 39.890625 \nQ 22.75 39.890625 18.8125 39.015625 \nQ 14.890625 38.140625 10.796875 36.28125 \nz\n\" id=\"DejaVuSans-53\"/>\n     </defs>\n     <use xlink:href=\"#DejaVuSans-53\"/>\n    </g>\n   </g>\n   <g id=\"text_16\">\n    <!-- 0 -->\n    <g style=\"fill:#ffffff;\" transform=\"translate(184.866989 209.31525)scale(0.144 -0.144)\">\n     <use xlink:href=\"#DejaVuSans-48\"/>\n    </g>\n   </g>\n   <g id=\"text_17\">\n    <!-- 1158 -->\n    <g style=\"fill:#ffffff;\" transform=\"translate(265.814898 209.31525)scale(0.144 -0.144)\">\n     <use xlink:href=\"#DejaVuSans-49\"/>\n     <use x=\"63.623047\" xlink:href=\"#DejaVuSans-49\"/>\n     <use x=\"127.246094\" xlink:href=\"#DejaVuSans-53\"/>\n     <use x=\"190.869141\" xlink:href=\"#DejaVuSans-56\"/>\n    </g>\n   </g>\n   <g id=\"text_18\">\n    <!-- validation -->\n    <g style=\"fill:#262626;\" transform=\"translate(153.999239 18.14175)scale(0.144 -0.144)\">\n     <defs>\n      <path d=\"M 2.984375 54.6875 \nL 12.5 54.6875 \nL 29.59375 8.796875 \nL 46.6875 54.6875 \nL 56.203125 54.6875 \nL 35.6875 0 \nL 23.484375 0 \nz\n\" id=\"DejaVuSans-118\"/>\n      <path d=\"M 30.609375 48.390625 \nQ 23.390625 48.390625 19.1875 42.75 \nQ 14.984375 37.109375 14.984375 27.296875 \nQ 14.984375 17.484375 19.15625 11.84375 \nQ 23.34375 6.203125 30.609375 6.203125 \nQ 37.796875 6.203125 41.984375 11.859375 \nQ 46.1875 17.53125 46.1875 27.296875 \nQ 46.1875 37.015625 41.984375 42.703125 \nQ 37.796875 48.390625 30.609375 48.390625 \nz\nM 30.609375 56 \nQ 42.328125 56 49.015625 48.375 \nQ 55.71875 40.765625 55.71875 27.296875 \nQ 55.71875 13.875 49.015625 6.21875 \nQ 42.328125 -1.421875 30.609375 -1.421875 \nQ 18.84375 -1.421875 12.171875 6.21875 \nQ 5.515625 13.875 5.515625 27.296875 \nQ 5.515625 40.765625 12.171875 48.375 \nQ 18.84375 56 30.609375 56 \nz\n\" id=\"DejaVuSans-111\"/>\n      <path d=\"M 54.890625 33.015625 \nL 54.890625 0 \nL 45.90625 0 \nL 45.90625 32.71875 \nQ 45.90625 40.484375 42.875 44.328125 \nQ 39.84375 48.1875 33.796875 48.1875 \nQ 26.515625 48.1875 22.3125 43.546875 \nQ 18.109375 38.921875 18.109375 30.90625 \nL 18.109375 0 \nL 9.078125 0 \nL 9.078125 54.6875 \nL 18.109375 54.6875 \nL 18.109375 46.1875 \nQ 21.34375 51.125 25.703125 53.5625 \nQ 30.078125 56 35.796875 56 \nQ 45.21875 56 50.046875 50.171875 \nQ 54.890625 44.34375 54.890625 33.015625 \nz\n\" id=\"DejaVuSans-110\"/>\n     </defs>\n     <use xlink:href=\"#DejaVuSans-118\"/>\n     <use x=\"59.179688\" xlink:href=\"#DejaVuSans-97\"/>\n     <use x=\"120.458984\" xlink:href=\"#DejaVuSans-108\"/>\n     <use x=\"148.242188\" xlink:href=\"#DejaVuSans-105\"/>\n     <use x=\"176.025391\" xlink:href=\"#DejaVuSans-100\"/>\n     <use x=\"239.501953\" xlink:href=\"#DejaVuSans-97\"/>\n     <use x=\"300.78125\" xlink:href=\"#DejaVuSans-116\"/>\n     <use x=\"339.990234\" xlink:href=\"#DejaVuSans-105\"/>\n     <use x=\"367.773438\" xlink:href=\"#DejaVuSans-111\"/>\n     <use x=\"428.955078\" xlink:href=\"#DejaVuSans-110\"/>\n    </g>\n   </g>\n  </g>\n  <g id=\"axes_2\">\n   <g id=\"patch_3\">\n    <path d=\"M 473.520716 241.58175 \nL 757.593443 241.58175 \nL 757.593443 24.14175 \nL 473.520716 24.14175 \nz\n\" style=\"fill:#eaeaf2;\"/>\n   </g>\n   <g id=\"matplotlib.axis_3\">\n    <g id=\"xtick_4\">\n     <g id=\"text_19\">\n      <!-- CV -->\n      <g style=\"fill:#262626;\" transform=\"translate(511.742702 261.111688)scale(0.132 -0.132)\">\n       <use xlink:href=\"#DejaVuSans-67\"/>\n       <use x=\"69.824219\" xlink:href=\"#DejaVuSans-86\"/>\n      </g>\n     </g>\n    </g>\n    <g id=\"xtick_5\">\n     <g id=\"text_20\">\n      <!-- LX -->\n      <g style=\"fill:#262626;\" transform=\"translate(607.358642 261.111688)scale(0.132 -0.132)\">\n       <use xlink:href=\"#DejaVuSans-76\"/>\n       <use x=\"55.712891\" xlink:href=\"#DejaVuSans-88\"/>\n      </g>\n     </g>\n    </g>\n    <g id=\"xtick_6\">\n     <g id=\"text_21\">\n      <!-- PL -->\n      <g style=\"fill:#262626;\" transform=\"translate(702.590957 261.111688)scale(0.132 -0.132)\">\n       <use xlink:href=\"#DejaVuSans-80\"/>\n       <use x=\"60.302734\" xlink:href=\"#DejaVuSans-76\"/>\n      </g>\n     </g>\n    </g>\n    <g id=\"text_22\">\n     <!-- Predicted class -->\n     <g style=\"fill:#262626;\" transform=\"translate(561.598705 278.798625)scale(0.144 -0.144)\">\n      <use xlink:href=\"#DejaVuSans-80\"/>\n      <use x=\"58.552734\" xlink:href=\"#DejaVuSans-114\"/>\n      <use x=\"97.416016\" xlink:href=\"#DejaVuSans-101\"/>\n      <use x=\"158.939453\" xlink:href=\"#DejaVuSans-100\"/>\n      <use x=\"222.416016\" xlink:href=\"#DejaVuSans-105\"/>\n      <use x=\"250.199219\" xlink:href=\"#DejaVuSans-99\"/>\n      <use x=\"305.179688\" xlink:href=\"#DejaVuSans-116\"/>\n      <use x=\"344.388672\" xlink:href=\"#DejaVuSans-101\"/>\n      <use x=\"405.912109\" xlink:href=\"#DejaVuSans-100\"/>\n      <use x=\"469.388672\" xlink:href=\"#DejaVuSans-32\"/>\n      <use x=\"501.175781\" xlink:href=\"#DejaVuSans-99\"/>\n      <use x=\"556.15625\" xlink:href=\"#DejaVuSans-108\"/>\n      <use x=\"583.939453\" xlink:href=\"#DejaVuSans-97\"/>\n      <use x=\"645.21875\" xlink:href=\"#DejaVuSans-115\"/>\n      <use x=\"697.318359\" xlink:href=\"#DejaVuSans-115\"/>\n     </g>\n    </g>\n   </g>\n   <g id=\"matplotlib.axis_4\">\n    <g id=\"ytick_4\">\n     <g id=\"text_23\">\n      <!-- CV -->\n      <g style=\"fill:#262626;\" transform=\"translate(461.275528 69.505219)rotate(-90)scale(0.132 -0.132)\">\n       <use xlink:href=\"#DejaVuSans-67\"/>\n       <use x=\"69.824219\" xlink:href=\"#DejaVuSans-86\"/>\n      </g>\n     </g>\n    </g>\n    <g id=\"ytick_5\">\n     <g id=\"text_24\">\n      <!-- LX -->\n      <g style=\"fill:#262626;\" transform=\"translate(461.275528 141.060187)rotate(-90)scale(0.132 -0.132)\">\n       <use xlink:href=\"#DejaVuSans-76\"/>\n       <use x=\"55.712891\" xlink:href=\"#DejaVuSans-88\"/>\n      </g>\n     </g>\n    </g>\n    <g id=\"ytick_6\">\n     <g id=\"text_25\">\n      <!-- PL -->\n      <g style=\"fill:#262626;\" transform=\"translate(461.275528 212.998781)rotate(-90)scale(0.132 -0.132)\">\n       <use xlink:href=\"#DejaVuSans-80\"/>\n       <use x=\"60.302734\" xlink:href=\"#DejaVuSans-76\"/>\n      </g>\n     </g>\n    </g>\n    <g id=\"text_26\">\n     <!-- True class -->\n     <g style=\"fill:#262626;\" transform=\"translate(444.250841 168.311625)rotate(-90)scale(0.144 -0.144)\">\n      <use xlink:href=\"#DejaVuSans-84\"/>\n      <use x=\"46.333984\" xlink:href=\"#DejaVuSans-114\"/>\n      <use x=\"87.447266\" xlink:href=\"#DejaVuSans-117\"/>\n      <use x=\"150.826172\" xlink:href=\"#DejaVuSans-101\"/>\n      <use x=\"212.349609\" xlink:href=\"#DejaVuSans-32\"/>\n      <use x=\"244.136719\" xlink:href=\"#DejaVuSans-99\"/>\n      <use x=\"299.117188\" xlink:href=\"#DejaVuSans-108\"/>\n      <use x=\"326.900391\" xlink:href=\"#DejaVuSans-97\"/>\n      <use x=\"388.179688\" xlink:href=\"#DejaVuSans-115\"/>\n      <use x=\"440.279297\" xlink:href=\"#DejaVuSans-115\"/>\n     </g>\n    </g>\n   </g>\n   <g id=\"QuadMesh_2\">\n    <path clip-path=\"url(#p5590d41e5a)\" d=\"M 473.520716 24.14175 \nL 568.211625 24.14175 \nL 568.211625 96.62175 \nL 473.520716 96.62175 \nL 473.520716 24.14175 \n\" style=\"fill:#faebdd;\"/>\n    <path clip-path=\"url(#p5590d41e5a)\" d=\"M 568.211625 24.14175 \nL 662.902534 24.14175 \nL 662.902534 96.62175 \nL 568.211625 96.62175 \nL 568.211625 24.14175 \n\" style=\"fill:#03051a;\"/>\n    <path clip-path=\"url(#p5590d41e5a)\" d=\"M 662.902534 24.14175 \nL 757.593443 24.14175 \nL 757.593443 96.62175 \nL 662.902534 96.62175 \nL 662.902534 24.14175 \n\" style=\"fill:#110c24;\"/>\n    <path clip-path=\"url(#p5590d41e5a)\" d=\"M 473.520716 96.62175 \nL 568.211625 96.62175 \nL 568.211625 169.10175 \nL 473.520716 169.10175 \nL 473.520716 96.62175 \n\" style=\"fill:#211330;\"/>\n    <path clip-path=\"url(#p5590d41e5a)\" d=\"M 568.211625 96.62175 \nL 662.902534 96.62175 \nL 662.902534 169.10175 \nL 568.211625 169.10175 \nL 568.211625 96.62175 \n\" style=\"fill:#110c24;\"/>\n    <path clip-path=\"url(#p5590d41e5a)\" d=\"M 662.902534 96.62175 \nL 757.593443 96.62175 \nL 757.593443 169.10175 \nL 662.902534 169.10175 \nL 662.902534 96.62175 \n\" style=\"fill:#110c24;\"/>\n    <path clip-path=\"url(#p5590d41e5a)\" d=\"M 473.520716 169.10175 \nL 568.211625 169.10175 \nL 568.211625 241.58175 \nL 473.520716 241.58175 \nL 473.520716 169.10175 \n\" style=\"fill:#531e4d;\"/>\n    <path clip-path=\"url(#p5590d41e5a)\" d=\"M 568.211625 169.10175 \nL 662.902534 169.10175 \nL 662.902534 241.58175 \nL 568.211625 241.58175 \nL 568.211625 169.10175 \n\" style=\"fill:#03051a;\"/>\n    <path clip-path=\"url(#p5590d41e5a)\" d=\"M 662.902534 169.10175 \nL 757.593443 169.10175 \nL 757.593443 241.58175 \nL 662.902534 241.58175 \nL 662.902534 169.10175 \n\" style=\"fill:#ef5840;\"/>\n   </g>\n   <g id=\"text_27\">\n    <!-- 23 -->\n    <g style=\"fill:#262626;\" transform=\"translate(511.70417 64.35525)scale(0.144 -0.144)\">\n     <use xlink:href=\"#DejaVuSans-50\"/>\n     <use x=\"63.623047\" xlink:href=\"#DejaVuSans-51\"/>\n    </g>\n   </g>\n   <g id=\"text_28\">\n    <!-- 0 -->\n    <g style=\"fill:#ffffff;\" transform=\"translate(610.97608 64.35525)scale(0.144 -0.144)\">\n     <use xlink:href=\"#DejaVuSans-48\"/>\n    </g>\n   </g>\n   <g id=\"text_29\">\n    <!-- 1 -->\n    <g style=\"fill:#ffffff;\" transform=\"translate(705.666989 64.35525)scale(0.144 -0.144)\">\n     <use xlink:href=\"#DejaVuSans-49\"/>\n    </g>\n   </g>\n   <g id=\"text_30\">\n    <!-- 2 -->\n    <g style=\"fill:#ffffff;\" transform=\"translate(516.28517 136.83525)scale(0.144 -0.144)\">\n     <use xlink:href=\"#DejaVuSans-50\"/>\n    </g>\n   </g>\n   <g id=\"text_31\">\n    <!-- 1 -->\n    <g style=\"fill:#ffffff;\" transform=\"translate(610.97608 136.83525)scale(0.144 -0.144)\">\n     <use xlink:href=\"#DejaVuSans-49\"/>\n    </g>\n   </g>\n   <g id=\"text_32\">\n    <!-- 1 -->\n    <g style=\"fill:#ffffff;\" transform=\"translate(705.666989 136.83525)scale(0.144 -0.144)\">\n     <use xlink:href=\"#DejaVuSans-49\"/>\n    </g>\n   </g>\n   <g id=\"text_33\">\n    <!-- 5 -->\n    <g style=\"fill:#ffffff;\" transform=\"translate(516.28517 209.31525)scale(0.144 -0.144)\">\n     <use xlink:href=\"#DejaVuSans-53\"/>\n    </g>\n   </g>\n   <g id=\"text_34\">\n    <!-- 0 -->\n    <g style=\"fill:#ffffff;\" transform=\"translate(610.97608 209.31525)scale(0.144 -0.144)\">\n     <use xlink:href=\"#DejaVuSans-48\"/>\n    </g>\n   </g>\n   <g id=\"text_35\">\n    <!-- 15 -->\n    <g style=\"fill:#ffffff;\" transform=\"translate(701.085989 209.31525)scale(0.144 -0.144)\">\n     <use xlink:href=\"#DejaVuSans-49\"/>\n     <use x=\"63.623047\" xlink:href=\"#DejaVuSans-53\"/>\n    </g>\n   </g>\n  </g>\n  <g id=\"axes_3\">\n   <g id=\"patch_4\">\n    <path clip-path=\"url(#p25517c37bf)\" d=\"M 349.238898 241.58175 \nL 349.238898 240.732375 \nL 349.238898 24.991125 \nL 349.238898 24.14175 \nL 360.110898 24.14175 \nL 360.110898 24.991125 \nL 360.110898 240.732375 \nL 360.110898 241.58175 \nz\n\" style=\"fill:#eaeaf2;stroke:#eaeaf2;stroke-linejoin:miter;stroke-width:0.01;\"/>\n   </g>\n   <g id=\"matplotlib.axis_5\"/>\n   <g id=\"matplotlib.axis_6\">\n    <g id=\"ytick_7\">\n     <g id=\"line2d_1\">\n      <defs>\n       <path d=\"M 0 0 \nL 6 0 \n\" id=\"mfa2a7d5963\" style=\"stroke:#262626;stroke-width:1.25;\"/>\n      </defs>\n      <g>\n       <use style=\"fill:#262626;stroke:#262626;stroke-width:1.25;\" x=\"360.110898\" xlink:href=\"#mfa2a7d5963\" y=\"241.58175\"/>\n      </g>\n     </g>\n     <g id=\"text_36\">\n      <!-- 0 -->\n      <g style=\"fill:#262626;\" transform=\"translate(369.610898 246.596719)scale(0.132 -0.132)\">\n       <use xlink:href=\"#DejaVuSans-48\"/>\n      </g>\n     </g>\n    </g>\n    <g id=\"ytick_8\">\n     <g id=\"line2d_2\">\n      <g>\n       <use style=\"fill:#262626;stroke:#262626;stroke-width:1.25;\" x=\"360.110898\" xlink:href=\"#mfa2a7d5963\" y=\"188.983782\"/>\n      </g>\n     </g>\n     <g id=\"text_37\">\n      <!-- 500 -->\n      <g style=\"fill:#262626;\" transform=\"translate(369.610898 193.998751)scale(0.132 -0.132)\">\n       <use xlink:href=\"#DejaVuSans-53\"/>\n       <use x=\"63.623047\" xlink:href=\"#DejaVuSans-48\"/>\n       <use x=\"127.246094\" xlink:href=\"#DejaVuSans-48\"/>\n      </g>\n     </g>\n    </g>\n    <g id=\"ytick_9\">\n     <g id=\"line2d_3\">\n      <g>\n       <use style=\"fill:#262626;stroke:#262626;stroke-width:1.25;\" x=\"360.110898\" xlink:href=\"#mfa2a7d5963\" y=\"136.385814\"/>\n      </g>\n     </g>\n     <g id=\"text_38\">\n      <!-- 1000 -->\n      <g style=\"fill:#262626;\" transform=\"translate(369.610898 141.400783)scale(0.132 -0.132)\">\n       <use xlink:href=\"#DejaVuSans-49\"/>\n       <use x=\"63.623047\" xlink:href=\"#DejaVuSans-48\"/>\n       <use x=\"127.246094\" xlink:href=\"#DejaVuSans-48\"/>\n       <use x=\"190.869141\" xlink:href=\"#DejaVuSans-48\"/>\n      </g>\n     </g>\n    </g>\n    <g id=\"ytick_10\">\n     <g id=\"line2d_4\">\n      <g>\n       <use style=\"fill:#262626;stroke:#262626;stroke-width:1.25;\" x=\"360.110898\" xlink:href=\"#mfa2a7d5963\" y=\"83.787846\"/>\n      </g>\n     </g>\n     <g id=\"text_39\">\n      <!-- 1500 -->\n      <g style=\"fill:#262626;\" transform=\"translate(369.610898 88.802815)scale(0.132 -0.132)\">\n       <use xlink:href=\"#DejaVuSans-49\"/>\n       <use x=\"63.623047\" xlink:href=\"#DejaVuSans-53\"/>\n       <use x=\"127.246094\" xlink:href=\"#DejaVuSans-48\"/>\n       <use x=\"190.869141\" xlink:href=\"#DejaVuSans-48\"/>\n      </g>\n     </g>\n    </g>\n    <g id=\"ytick_11\">\n     <g id=\"line2d_5\">\n      <g>\n       <use style=\"fill:#262626;stroke:#262626;stroke-width:1.25;\" x=\"360.110898\" xlink:href=\"#mfa2a7d5963\" y=\"31.189878\"/>\n      </g>\n     </g>\n     <g id=\"text_40\">\n      <!-- 2000 -->\n      <g style=\"fill:#262626;\" transform=\"translate(369.610898 36.204846)scale(0.132 -0.132)\">\n       <use xlink:href=\"#DejaVuSans-50\"/>\n       <use x=\"63.623047\" xlink:href=\"#DejaVuSans-48\"/>\n       <use x=\"127.246094\" xlink:href=\"#DejaVuSans-48\"/>\n       <use x=\"190.869141\" xlink:href=\"#DejaVuSans-48\"/>\n      </g>\n     </g>\n    </g>\n   </g>\n   <image height=\"218\" id=\"image054b425994\" transform=\"scale(1 -1)translate(0 -218)\" width=\"11\" x=\"349\" xlink:href=\"data:image/png;base64,\niVBORw0KGgoAAAANSUhEUgAAAAsAAADaCAYAAABwzrisAAABZElEQVR4nN3awXHEMAxDUVHkNpH+60zSgt4BM0x85mDAT4j2el39+fo5j9fUa+U5Z+6978V13rWnCoqvFJMNUu4SGrkGSTk2lCCNXJAsGy3FKyK6JfxkY8u4ocEtnsnGc6mOewkNTN37FQ0/2Agu81jqqMHg3hAbk1u5YmNJkDAbYCOJDoonFqTkSUnZmOffEm6DinNDgeIWGtigFMeGMlJc/55GMPzv0tYg5llsiPISGiXKFn7yHFSWYpjKtCgX7IK5UmxBEuW+32BD0AVpxGx0x2jAiU2ig0M4dwkNQwc2LtzbbCjEGWmA8qEgwepHG0ZjhXLB0lUbKeUjytigKFuDMRvyykIeT+bIf0Bb0DW8ukfPKRpH3jGa8giNmI0t6IwGRXTFsTr9fm/DM2jZiBXTUITGFs85G0QjN+6ccm7cf5BG9SekvIaGLPNY+Es+FQjSsPDnngoIXW4VSPj/YoOpk/ILooMqJ0CWAVcAAAAASUVORK5CYII=\" y=\"-23\"/>\n   <g id=\"patch_5\">\n    <path d=\"M 349.238898 241.58175 \nL 349.238898 240.732375 \nL 349.238898 24.991125 \nL 349.238898 24.14175 \nL 360.110898 24.14175 \nL 360.110898 24.991125 \nL 360.110898 240.732375 \nL 360.110898 241.58175 \nz\n\" style=\"fill:none;\"/>\n   </g>\n  </g>\n  <g id=\"axes_4\">\n   <g id=\"patch_6\">\n    <path clip-path=\"url(#p7cafed4ac5)\" d=\"M 775.347989 241.58175 \nL 775.347989 240.732375 \nL 775.347989 24.991125 \nL 775.347989 24.14175 \nL 786.219989 24.14175 \nL 786.219989 24.991125 \nL 786.219989 240.732375 \nL 786.219989 241.58175 \nz\n\" style=\"fill:#eaeaf2;stroke:#eaeaf2;stroke-linejoin:miter;stroke-width:0.01;\"/>\n   </g>\n   <g id=\"matplotlib.axis_7\"/>\n   <g id=\"matplotlib.axis_8\">\n    <g id=\"ytick_12\">\n     <g id=\"line2d_6\">\n      <g>\n       <use style=\"fill:#262626;stroke:#262626;stroke-width:1.25;\" x=\"786.219989\" xlink:href=\"#mfa2a7d5963\" y=\"241.58175\"/>\n      </g>\n     </g>\n     <g id=\"text_41\">\n      <!-- 0 -->\n      <g style=\"fill:#262626;\" transform=\"translate(795.719989 246.596719)scale(0.132 -0.132)\">\n       <use xlink:href=\"#DejaVuSans-48\"/>\n      </g>\n     </g>\n    </g>\n    <g id=\"ytick_13\">\n     <g id=\"line2d_7\">\n      <g>\n       <use style=\"fill:#262626;stroke:#262626;stroke-width:1.25;\" x=\"786.219989\" xlink:href=\"#mfa2a7d5963\" y=\"194.312185\"/>\n      </g>\n     </g>\n     <g id=\"text_42\">\n      <!-- 5 -->\n      <g style=\"fill:#262626;\" transform=\"translate(795.719989 199.327154)scale(0.132 -0.132)\">\n       <use xlink:href=\"#DejaVuSans-53\"/>\n      </g>\n     </g>\n    </g>\n    <g id=\"ytick_14\">\n     <g id=\"line2d_8\">\n      <g>\n       <use style=\"fill:#262626;stroke:#262626;stroke-width:1.25;\" x=\"786.219989\" xlink:href=\"#mfa2a7d5963\" y=\"147.04262\"/>\n      </g>\n     </g>\n     <g id=\"text_43\">\n      <!-- 10 -->\n      <g style=\"fill:#262626;\" transform=\"translate(795.719989 152.057588)scale(0.132 -0.132)\">\n       <use xlink:href=\"#DejaVuSans-49\"/>\n       <use x=\"63.623047\" xlink:href=\"#DejaVuSans-48\"/>\n      </g>\n     </g>\n    </g>\n    <g id=\"ytick_15\">\n     <g id=\"line2d_9\">\n      <g>\n       <use style=\"fill:#262626;stroke:#262626;stroke-width:1.25;\" x=\"786.219989\" xlink:href=\"#mfa2a7d5963\" y=\"99.773054\"/>\n      </g>\n     </g>\n     <g id=\"text_44\">\n      <!-- 15 -->\n      <g style=\"fill:#262626;\" transform=\"translate(795.719989 104.788023)scale(0.132 -0.132)\">\n       <use xlink:href=\"#DejaVuSans-49\"/>\n       <use x=\"63.623047\" xlink:href=\"#DejaVuSans-53\"/>\n      </g>\n     </g>\n    </g>\n    <g id=\"ytick_16\">\n     <g id=\"line2d_10\">\n      <g>\n       <use style=\"fill:#262626;stroke:#262626;stroke-width:1.25;\" x=\"786.219989\" xlink:href=\"#mfa2a7d5963\" y=\"52.503489\"/>\n      </g>\n     </g>\n     <g id=\"text_45\">\n      <!-- 20 -->\n      <g style=\"fill:#262626;\" transform=\"translate(795.719989 57.518458)scale(0.132 -0.132)\">\n       <use xlink:href=\"#DejaVuSans-50\"/>\n       <use x=\"63.623047\" xlink:href=\"#DejaVuSans-48\"/>\n      </g>\n     </g>\n    </g>\n   </g>\n   <image height=\"218\" id=\"image7048fc1acb\" transform=\"scale(1 -1)translate(0 -218)\" width=\"11\" x=\"775\" xlink:href=\"data:image/png;base64,\niVBORw0KGgoAAAANSUhEUgAAAAsAAADaCAYAAABwzrisAAABZElEQVR4nN3awXHEMAxDUVHkNpH+60zSgt4BM0x85mDAT4j2el39+fo5j9fUa+U5Z+6978V13rWnCoqvFJMNUu4SGrkGSTk2lCCNXJAsGy3FKyK6JfxkY8u4ocEtnsnGc6mOewkNTN37FQ0/2Agu81jqqMHg3hAbk1u5YmNJkDAbYCOJDoonFqTkSUnZmOffEm6DinNDgeIWGtigFMeGMlJc/55GMPzv0tYg5llsiPISGiXKFn7yHFSWYpjKtCgX7IK5UmxBEuW+32BD0AVpxGx0x2jAiU2ig0M4dwkNQwc2LtzbbCjEGWmA8qEgwepHG0ZjhXLB0lUbKeUjytigKFuDMRvyykIeT+bIf0Bb0DW8ukfPKRpH3jGa8giNmI0t6IwGRXTFsTr9fm/DM2jZiBXTUITGFs85G0QjN+6ccm7cf5BG9SekvIaGLPNY+Es+FQjSsPDnngoIXW4VSPj/YoOpk/ILooMqJ0CWAVcAAAAASUVORK5CYII=\" y=\"-23\"/>\n   <g id=\"patch_7\">\n    <path d=\"M 775.347989 241.58175 \nL 775.347989 240.732375 \nL 775.347989 24.991125 \nL 775.347989 24.14175 \nL 786.219989 24.14175 \nL 786.219989 24.991125 \nL 786.219989 240.732375 \nL 786.219989 241.58175 \nz\n\" style=\"fill:none;\"/>\n   </g>\n  </g>\n </g>\n <defs>\n  <clipPath id=\"p2d7347d11b\">\n   <rect height=\"217.44\" width=\"284.072727\" x=\"47.411625\" y=\"24.14175\"/>\n  </clipPath>\n  <clipPath id=\"p5590d41e5a\">\n   <rect height=\"217.44\" width=\"284.072727\" x=\"473.520716\" y=\"24.14175\"/>\n  </clipPath>\n  <clipPath id=\"p25517c37bf\">\n   <rect height=\"217.44\" width=\"10.872\" x=\"349.238898\" y=\"24.14175\"/>\n  </clipPath>\n  <clipPath id=\"p7cafed4ac5\">\n   <rect height=\"217.44\" width=\"10.872\" x=\"775.347989\" y=\"24.14175\"/>\n  </clipPath>\n </defs>\n</svg>\n",
      "image/png": "[encoded data removed]"
     },
     "metadata": {}
    }
   ],
   "metadata": {}
  },
  {
   "cell_type": "code",
   "execution_count": 345,
   "source": [
    "from sklearn.metrics import precision_score , recall_score "
   ],
   "outputs": [],
   "metadata": {}
  },
  {
   "cell_type": "code",
   "execution_count": 346,
   "source": [
    "y_true , y_pred = y_val , clf.predict(x_val)\n",
    "ps = precision_score(y_true , y_pred , average=None)\n",
    "rc = recall_score(y_true , y_pred , average=None)\n",
    "sc = pd.DataFrame(\n",
    "    np.asarray([ps , rc]) , columns=['CV' , 'LX' , 'PL'] , index=['Precision' , 'Recall']\n",
    ")\n",
    "sc"
   ],
   "outputs": [
    {
     "output_type": "execute_result",
     "data": {
      "text/plain": [
       "                 CV    LX        PL\n",
       "Precision  0.766667  1.00  0.882353\n",
       "Recall     0.958333  0.25  0.750000"
      ],
      "text/html": [
       "<div>\n",
       "<style scoped>\n",
       "    .dataframe tbody tr th:only-of-type {\n",
       "        vertical-align: middle;\n",
       "    }\n",
       "\n",
       "    .dataframe tbody tr th {\n",
       "        vertical-align: top;\n",
       "    }\n",
       "\n",
       "    .dataframe thead th {\n",
       "        text-align: right;\n",
       "    }\n",
       "</style>\n",
       "<table border=\"1\" class=\"dataframe\">\n",
       "  <thead>\n",
       "    <tr style=\"text-align: right;\">\n",
       "      <th></th>\n",
       "      <th>CV</th>\n",
       "      <th>LX</th>\n",
       "      <th>PL</th>\n",
       "    </tr>\n",
       "  </thead>\n",
       "  <tbody>\n",
       "    <tr>\n",
       "      <th>Precision</th>\n",
       "      <td>0.766667</td>\n",
       "      <td>1.00</td>\n",
       "      <td>0.882353</td>\n",
       "    </tr>\n",
       "    <tr>\n",
       "      <th>Recall</th>\n",
       "      <td>0.958333</td>\n",
       "      <td>0.25</td>\n",
       "      <td>0.750000</td>\n",
       "    </tr>\n",
       "  </tbody>\n",
       "</table>\n",
       "</div>"
      ]
     },
     "metadata": {},
     "execution_count": 346
    }
   ],
   "metadata": {}
  },
  {
   "cell_type": "code",
   "execution_count": 290,
   "source": [
    "pd.DataFrame({\n",
    "    'feat' : x_train.columns.to_list() , \n",
    "    'val' : clf.feature_importances_\n",
    "}).sort_values('val' , ascending=False).reset_index(drop=True)"
   ],
   "outputs": [
    {
     "output_type": "execute_result",
     "data": {
      "text/plain": [
       "                 feat       val\n",
       "0     photflux_aper_m  0.403805\n",
       "1         flux_aper_m  0.102492\n",
       "2   var_inter_sigma_h  0.085518\n",
       "3    var_inter_prob_m  0.079965\n",
       "4    var_inter_prob_s  0.049981\n",
       "5         var_sigma_b  0.029234\n",
       "6             hard_ms  0.019476\n",
       "7   var_inter_index_b  0.017847\n",
       "8     photflux_aper_h  0.017096\n",
       "9   var_inter_index_s  0.016180\n",
       "10  var_inter_index_h  0.015487\n",
       "11          var_min_b  0.012896\n",
       "12        flux_aper_b  0.012355\n",
       "13   var_inter_prob_h  0.011960\n",
       "14    photflux_aper_u  0.011934\n",
       "15  var_inter_sigma_m  0.011669\n",
       "16  var_inter_sigma_b  0.011059\n",
       "17  var_inter_sigma_s  0.010648\n",
       "18            hard_hm  0.010293\n",
       "19         var_prob_b  0.008722\n",
       "20    photflux_aper_b  0.007641\n",
       "21        flux_aper_h  0.007149\n",
       "22        flux_aper_u  0.006894\n",
       "23   var_inter_prob_b  0.005520\n",
       "24  var_inter_index_m  0.005142\n",
       "25    photflux_aper_s  0.005016\n",
       "26         var_mean_b  0.004871\n",
       "27            hard_hs  0.004710\n",
       "28          ks_prob_b  0.004658\n",
       "29          var_max_b  0.003939\n",
       "30        flux_aper_s  0.002959\n",
       "31          kp_prob_b  0.002885"
      ],
      "text/html": [
       "<div>\n",
       "<style scoped>\n",
       "    .dataframe tbody tr th:only-of-type {\n",
       "        vertical-align: middle;\n",
       "    }\n",
       "\n",
       "    .dataframe tbody tr th {\n",
       "        vertical-align: top;\n",
       "    }\n",
       "\n",
       "    .dataframe thead th {\n",
       "        text-align: right;\n",
       "    }\n",
       "</style>\n",
       "<table border=\"1\" class=\"dataframe\">\n",
       "  <thead>\n",
       "    <tr style=\"text-align: right;\">\n",
       "      <th></th>\n",
       "      <th>feat</th>\n",
       "      <th>val</th>\n",
       "    </tr>\n",
       "  </thead>\n",
       "  <tbody>\n",
       "    <tr>\n",
       "      <th>0</th>\n",
       "      <td>photflux_aper_m</td>\n",
       "      <td>0.403805</td>\n",
       "    </tr>\n",
       "    <tr>\n",
       "      <th>1</th>\n",
       "      <td>flux_aper_m</td>\n",
       "      <td>0.102492</td>\n",
       "    </tr>\n",
       "    <tr>\n",
       "      <th>2</th>\n",
       "      <td>var_inter_sigma_h</td>\n",
       "      <td>0.085518</td>\n",
       "    </tr>\n",
       "    <tr>\n",
       "      <th>3</th>\n",
       "      <td>var_inter_prob_m</td>\n",
       "      <td>0.079965</td>\n",
       "    </tr>\n",
       "    <tr>\n",
       "      <th>4</th>\n",
       "      <td>var_inter_prob_s</td>\n",
       "      <td>0.049981</td>\n",
       "    </tr>\n",
       "    <tr>\n",
       "      <th>5</th>\n",
       "      <td>var_sigma_b</td>\n",
       "      <td>0.029234</td>\n",
       "    </tr>\n",
       "    <tr>\n",
       "      <th>6</th>\n",
       "      <td>hard_ms</td>\n",
       "      <td>0.019476</td>\n",
       "    </tr>\n",
       "    <tr>\n",
       "      <th>7</th>\n",
       "      <td>var_inter_index_b</td>\n",
       "      <td>0.017847</td>\n",
       "    </tr>\n",
       "    <tr>\n",
       "      <th>8</th>\n",
       "      <td>photflux_aper_h</td>\n",
       "      <td>0.017096</td>\n",
       "    </tr>\n",
       "    <tr>\n",
       "      <th>9</th>\n",
       "      <td>var_inter_index_s</td>\n",
       "      <td>0.016180</td>\n",
       "    </tr>\n",
       "    <tr>\n",
       "      <th>10</th>\n",
       "      <td>var_inter_index_h</td>\n",
       "      <td>0.015487</td>\n",
       "    </tr>\n",
       "    <tr>\n",
       "      <th>11</th>\n",
       "      <td>var_min_b</td>\n",
       "      <td>0.012896</td>\n",
       "    </tr>\n",
       "    <tr>\n",
       "      <th>12</th>\n",
       "      <td>flux_aper_b</td>\n",
       "      <td>0.012355</td>\n",
       "    </tr>\n",
       "    <tr>\n",
       "      <th>13</th>\n",
       "      <td>var_inter_prob_h</td>\n",
       "      <td>0.011960</td>\n",
       "    </tr>\n",
       "    <tr>\n",
       "      <th>14</th>\n",
       "      <td>photflux_aper_u</td>\n",
       "      <td>0.011934</td>\n",
       "    </tr>\n",
       "    <tr>\n",
       "      <th>15</th>\n",
       "      <td>var_inter_sigma_m</td>\n",
       "      <td>0.011669</td>\n",
       "    </tr>\n",
       "    <tr>\n",
       "      <th>16</th>\n",
       "      <td>var_inter_sigma_b</td>\n",
       "      <td>0.011059</td>\n",
       "    </tr>\n",
       "    <tr>\n",
       "      <th>17</th>\n",
       "      <td>var_inter_sigma_s</td>\n",
       "      <td>0.010648</td>\n",
       "    </tr>\n",
       "    <tr>\n",
       "      <th>18</th>\n",
       "      <td>hard_hm</td>\n",
       "      <td>0.010293</td>\n",
       "    </tr>\n",
       "    <tr>\n",
       "      <th>19</th>\n",
       "      <td>var_prob_b</td>\n",
       "      <td>0.008722</td>\n",
       "    </tr>\n",
       "    <tr>\n",
       "      <th>20</th>\n",
       "      <td>photflux_aper_b</td>\n",
       "      <td>0.007641</td>\n",
       "    </tr>\n",
       "    <tr>\n",
       "      <th>21</th>\n",
       "      <td>flux_aper_h</td>\n",
       "      <td>0.007149</td>\n",
       "    </tr>\n",
       "    <tr>\n",
       "      <th>22</th>\n",
       "      <td>flux_aper_u</td>\n",
       "      <td>0.006894</td>\n",
       "    </tr>\n",
       "    <tr>\n",
       "      <th>23</th>\n",
       "      <td>var_inter_prob_b</td>\n",
       "      <td>0.005520</td>\n",
       "    </tr>\n",
       "    <tr>\n",
       "      <th>24</th>\n",
       "      <td>var_inter_index_m</td>\n",
       "      <td>0.005142</td>\n",
       "    </tr>\n",
       "    <tr>\n",
       "      <th>25</th>\n",
       "      <td>photflux_aper_s</td>\n",
       "      <td>0.005016</td>\n",
       "    </tr>\n",
       "    <tr>\n",
       "      <th>26</th>\n",
       "      <td>var_mean_b</td>\n",
       "      <td>0.004871</td>\n",
       "    </tr>\n",
       "    <tr>\n",
       "      <th>27</th>\n",
       "      <td>hard_hs</td>\n",
       "      <td>0.004710</td>\n",
       "    </tr>\n",
       "    <tr>\n",
       "      <th>28</th>\n",
       "      <td>ks_prob_b</td>\n",
       "      <td>0.004658</td>\n",
       "    </tr>\n",
       "    <tr>\n",
       "      <th>29</th>\n",
       "      <td>var_max_b</td>\n",
       "      <td>0.003939</td>\n",
       "    </tr>\n",
       "    <tr>\n",
       "      <th>30</th>\n",
       "      <td>flux_aper_s</td>\n",
       "      <td>0.002959</td>\n",
       "    </tr>\n",
       "    <tr>\n",
       "      <th>31</th>\n",
       "      <td>kp_prob_b</td>\n",
       "      <td>0.002885</td>\n",
       "    </tr>\n",
       "  </tbody>\n",
       "</table>\n",
       "</div>"
      ]
     },
     "metadata": {},
     "execution_count": 290
    }
   ],
   "metadata": {}
  },
  {
   "cell_type": "code",
   "execution_count": 315,
   "source": [
    "pred_on = x_val\n",
    "pred_prob = clf.predict_proba(pred_on)\n",
    "pred_p_max = [np.amax(p) for p in pred_prob]\n",
    "pred_prob = pd.DataFrame(pred_prob , columns=['CV' , 'LMXB' , 'PULSAR'])\n",
    "pred_cl = clf.predict(pred_on)\n",
    "pred_prob.insert( 0 , 'pred_class' , pred_cl)\n",
    "pred_prob.insert( 0 , 'max_prob' , pred_p_max)\n",
    "pred_prob.head()"
   ],
   "outputs": [
    {
     "output_type": "execute_result",
     "data": {
      "text/plain": [
       "   max_prob pred_class        CV      LMXB    PULSAR\n",
       "0  0.926990         CV  0.926990  0.000917  0.072093\n",
       "1  0.610822         CV  0.610822  0.000231  0.388947\n",
       "2  0.999328         CV  0.999328  0.000092  0.000580\n",
       "3  0.999687         CV  0.999687  0.000001  0.000311\n",
       "4  0.883830         CV  0.883830  0.000067  0.116102"
      ],
      "text/html": [
       "<div>\n",
       "<style scoped>\n",
       "    .dataframe tbody tr th:only-of-type {\n",
       "        vertical-align: middle;\n",
       "    }\n",
       "\n",
       "    .dataframe tbody tr th {\n",
       "        vertical-align: top;\n",
       "    }\n",
       "\n",
       "    .dataframe thead th {\n",
       "        text-align: right;\n",
       "    }\n",
       "</style>\n",
       "<table border=\"1\" class=\"dataframe\">\n",
       "  <thead>\n",
       "    <tr style=\"text-align: right;\">\n",
       "      <th></th>\n",
       "      <th>max_prob</th>\n",
       "      <th>pred_class</th>\n",
       "      <th>CV</th>\n",
       "      <th>LMXB</th>\n",
       "      <th>PULSAR</th>\n",
       "    </tr>\n",
       "  </thead>\n",
       "  <tbody>\n",
       "    <tr>\n",
       "      <th>0</th>\n",
       "      <td>0.926990</td>\n",
       "      <td>CV</td>\n",
       "      <td>0.926990</td>\n",
       "      <td>0.000917</td>\n",
       "      <td>0.072093</td>\n",
       "    </tr>\n",
       "    <tr>\n",
       "      <th>1</th>\n",
       "      <td>0.610822</td>\n",
       "      <td>CV</td>\n",
       "      <td>0.610822</td>\n",
       "      <td>0.000231</td>\n",
       "      <td>0.388947</td>\n",
       "    </tr>\n",
       "    <tr>\n",
       "      <th>2</th>\n",
       "      <td>0.999328</td>\n",
       "      <td>CV</td>\n",
       "      <td>0.999328</td>\n",
       "      <td>0.000092</td>\n",
       "      <td>0.000580</td>\n",
       "    </tr>\n",
       "    <tr>\n",
       "      <th>3</th>\n",
       "      <td>0.999687</td>\n",
       "      <td>CV</td>\n",
       "      <td>0.999687</td>\n",
       "      <td>0.000001</td>\n",
       "      <td>0.000311</td>\n",
       "    </tr>\n",
       "    <tr>\n",
       "      <th>4</th>\n",
       "      <td>0.883830</td>\n",
       "      <td>CV</td>\n",
       "      <td>0.883830</td>\n",
       "      <td>0.000067</td>\n",
       "      <td>0.116102</td>\n",
       "    </tr>\n",
       "  </tbody>\n",
       "</table>\n",
       "</div>"
      ]
     },
     "metadata": {},
     "execution_count": 315
    }
   ],
   "metadata": {}
  },
  {
   "cell_type": "code",
   "execution_count": null,
   "source": [],
   "outputs": [],
   "metadata": {}
  },
  {
   "cell_type": "code",
   "execution_count": 316,
   "source": [
    "sns.displot(\n",
    "    data = pred_prob , \n",
    "    kind = 'ecdf',\n",
    "    x = 'max_prob' ,\n",
    "    hue = 'pred_class'\n",
    ")\n",
    "plt.show()"
   ],
   "outputs": [
    {
     "output_type": "display_data",
     "data": {
      "text/plain": [
       "<Figure size 446.31x360 with 1 Axes>"
      ],
      "image/svg+xml": "<?xml version=\"1.0\" encoding=\"utf-8\" standalone=\"no\"?>\n<!DOCTYPE svg PUBLIC \"-//W3C//DTD SVG 1.1//EN\"\n  \"http://www.w3.org/Graphics/SVG/1.1/DTD/svg11.dtd\">\n<!-- Created with matplotlib (https://matplotlib.org/) -->\n<svg height=\"343.282469pt\" version=\"1.1\" viewBox=\"0 0 438.486625 343.282469\" width=\"438.486625pt\" xmlns=\"http://www.w3.org/2000/svg\" xmlns:xlink=\"http://www.w3.org/1999/xlink\">\n <metadata>\n  <rdf:RDF xmlns:cc=\"http://creativecommons.org/ns#\" xmlns:dc=\"http://purl.org/dc/elements/1.1/\" xmlns:rdf=\"http://www.w3.org/1999/02/22-rdf-syntax-ns#\">\n   <cc:Work>\n    <dc:type rdf:resource=\"http://purl.org/dc/dcmitype/StillImage\"/>\n    <dc:date>2021-12-07T15:38:23.266233</dc:date>\n    <dc:format>image/svg+xml</dc:format>\n    <dc:creator>\n     <cc:Agent>\n      <dc:title>Matplotlib v3.3.4, https://matplotlib.org/</dc:title>\n     </cc:Agent>\n    </dc:creator>\n   </cc:Work>\n  </rdf:RDF>\n </metadata>\n <defs>\n  <style type=\"text/css\">*{stroke-linecap:butt;stroke-linejoin:round;}</style>\n </defs>\n <g id=\"figure_1\">\n  <g id=\"patch_1\">\n   <path d=\"M 0 343.282469 \nL 438.486625 343.282469 \nL 438.486625 0 \nL 0 0 \nz\n\" style=\"fill:#ffffff;\"/>\n  </g>\n  <g id=\"axes_1\">\n   <g id=\"patch_2\">\n    <path d=\"M 55.628625 295.470344 \nL 331.561525 295.470344 \nL 331.561525 12.214969 \nL 55.628625 12.214969 \nz\n\" style=\"fill:#ffffff;\"/>\n   </g>\n   <g id=\"matplotlib.axis_1\">\n    <g id=\"xtick_1\">\n     <g id=\"line2d_1\">\n      <path clip-path=\"url(#p6289186ab4)\" d=\"M 88.340356 295.470344 \nL 88.340356 12.214969 \n\" style=\"fill:none;stroke:#cccccc;stroke-linecap:round;\"/>\n     </g>\n     <g id=\"text_1\">\n      <!-- 0.5 -->\n      <g style=\"fill:#262626;\" transform=\"translate(77.844294 315.000281)scale(0.132 -0.132)\">\n       <defs>\n        <path d=\"M 31.78125 66.40625 \nQ 24.171875 66.40625 20.328125 58.90625 \nQ 16.5 51.421875 16.5 36.375 \nQ 16.5 21.390625 20.328125 13.890625 \nQ 24.171875 6.390625 31.78125 6.390625 \nQ 39.453125 6.390625 43.28125 13.890625 \nQ 47.125 21.390625 47.125 36.375 \nQ 47.125 51.421875 43.28125 58.90625 \nQ 39.453125 66.40625 31.78125 66.40625 \nz\nM 31.78125 74.21875 \nQ 44.046875 74.21875 50.515625 64.515625 \nQ 56.984375 54.828125 56.984375 36.375 \nQ 56.984375 17.96875 50.515625 8.265625 \nQ 44.046875 -1.421875 31.78125 -1.421875 \nQ 19.53125 -1.421875 13.0625 8.265625 \nQ 6.59375 17.96875 6.59375 36.375 \nQ 6.59375 54.828125 13.0625 64.515625 \nQ 19.53125 74.21875 31.78125 74.21875 \nz\n\" id=\"DejaVuSans-48\"/>\n        <path d=\"M 10.6875 12.40625 \nL 21 12.40625 \nL 21 0 \nL 10.6875 0 \nz\n\" id=\"DejaVuSans-46\"/>\n        <path d=\"M 10.796875 72.90625 \nL 49.515625 72.90625 \nL 49.515625 64.59375 \nL 19.828125 64.59375 \nL 19.828125 46.734375 \nQ 21.96875 47.46875 24.109375 47.828125 \nQ 26.265625 48.1875 28.421875 48.1875 \nQ 40.625 48.1875 47.75 41.5 \nQ 54.890625 34.8125 54.890625 23.390625 \nQ 54.890625 11.625 47.5625 5.09375 \nQ 40.234375 -1.421875 26.90625 -1.421875 \nQ 22.3125 -1.421875 17.546875 -0.640625 \nQ 12.796875 0.140625 7.71875 1.703125 \nL 7.71875 11.625 \nQ 12.109375 9.234375 16.796875 8.0625 \nQ 21.484375 6.890625 26.703125 6.890625 \nQ 35.15625 6.890625 40.078125 11.328125 \nQ 45.015625 15.765625 45.015625 23.390625 \nQ 45.015625 31 40.078125 35.4375 \nQ 35.15625 39.890625 26.703125 39.890625 \nQ 22.75 39.890625 18.8125 39.015625 \nQ 14.890625 38.140625 10.796875 36.28125 \nz\n\" id=\"DejaVuSans-53\"/>\n       </defs>\n       <use xlink:href=\"#DejaVuSans-48\"/>\n       <use x=\"63.623047\" xlink:href=\"#DejaVuSans-46\"/>\n       <use x=\"95.410156\" xlink:href=\"#DejaVuSans-53\"/>\n      </g>\n     </g>\n    </g>\n    <g id=\"xtick_2\">\n     <g id=\"line2d_2\">\n      <path clip-path=\"url(#p6289186ab4)\" d=\"M 134.50499 295.470344 \nL 134.50499 12.214969 \n\" style=\"fill:none;stroke:#cccccc;stroke-linecap:round;\"/>\n     </g>\n     <g id=\"text_2\">\n      <!-- 0.6 -->\n      <g style=\"fill:#262626;\" transform=\"translate(124.008928 315.000281)scale(0.132 -0.132)\">\n       <defs>\n        <path d=\"M 33.015625 40.375 \nQ 26.375 40.375 22.484375 35.828125 \nQ 18.609375 31.296875 18.609375 23.390625 \nQ 18.609375 15.53125 22.484375 10.953125 \nQ 26.375 6.390625 33.015625 6.390625 \nQ 39.65625 6.390625 43.53125 10.953125 \nQ 47.40625 15.53125 47.40625 23.390625 \nQ 47.40625 31.296875 43.53125 35.828125 \nQ 39.65625 40.375 33.015625 40.375 \nz\nM 52.59375 71.296875 \nL 52.59375 62.3125 \nQ 48.875 64.0625 45.09375 64.984375 \nQ 41.3125 65.921875 37.59375 65.921875 \nQ 27.828125 65.921875 22.671875 59.328125 \nQ 17.53125 52.734375 16.796875 39.40625 \nQ 19.671875 43.65625 24.015625 45.921875 \nQ 28.375 48.1875 33.59375 48.1875 \nQ 44.578125 48.1875 50.953125 41.515625 \nQ 57.328125 34.859375 57.328125 23.390625 \nQ 57.328125 12.15625 50.6875 5.359375 \nQ 44.046875 -1.421875 33.015625 -1.421875 \nQ 20.359375 -1.421875 13.671875 8.265625 \nQ 6.984375 17.96875 6.984375 36.375 \nQ 6.984375 53.65625 15.1875 63.9375 \nQ 23.390625 74.21875 37.203125 74.21875 \nQ 40.921875 74.21875 44.703125 73.484375 \nQ 48.484375 72.75 52.59375 71.296875 \nz\n\" id=\"DejaVuSans-54\"/>\n       </defs>\n       <use xlink:href=\"#DejaVuSans-48\"/>\n       <use x=\"63.623047\" xlink:href=\"#DejaVuSans-46\"/>\n       <use x=\"95.410156\" xlink:href=\"#DejaVuSans-54\"/>\n      </g>\n     </g>\n    </g>\n    <g id=\"xtick_3\">\n     <g id=\"line2d_3\">\n      <path clip-path=\"url(#p6289186ab4)\" d=\"M 180.669624 295.470344 \nL 180.669624 12.214969 \n\" style=\"fill:none;stroke:#cccccc;stroke-linecap:round;\"/>\n     </g>\n     <g id=\"text_3\">\n      <!-- 0.7 -->\n      <g style=\"fill:#262626;\" transform=\"translate(170.173562 315.000281)scale(0.132 -0.132)\">\n       <defs>\n        <path d=\"M 8.203125 72.90625 \nL 55.078125 72.90625 \nL 55.078125 68.703125 \nL 28.609375 0 \nL 18.3125 0 \nL 43.21875 64.59375 \nL 8.203125 64.59375 \nz\n\" id=\"DejaVuSans-55\"/>\n       </defs>\n       <use xlink:href=\"#DejaVuSans-48\"/>\n       <use x=\"63.623047\" xlink:href=\"#DejaVuSans-46\"/>\n       <use x=\"95.410156\" xlink:href=\"#DejaVuSans-55\"/>\n      </g>\n     </g>\n    </g>\n    <g id=\"xtick_4\">\n     <g id=\"line2d_4\">\n      <path clip-path=\"url(#p6289186ab4)\" d=\"M 226.834258 295.470344 \nL 226.834258 12.214969 \n\" style=\"fill:none;stroke:#cccccc;stroke-linecap:round;\"/>\n     </g>\n     <g id=\"text_4\">\n      <!-- 0.8 -->\n      <g style=\"fill:#262626;\" transform=\"translate(216.338195 315.000281)scale(0.132 -0.132)\">\n       <defs>\n        <path d=\"M 31.78125 34.625 \nQ 24.75 34.625 20.71875 30.859375 \nQ 16.703125 27.09375 16.703125 20.515625 \nQ 16.703125 13.921875 20.71875 10.15625 \nQ 24.75 6.390625 31.78125 6.390625 \nQ 38.8125 6.390625 42.859375 10.171875 \nQ 46.921875 13.96875 46.921875 20.515625 \nQ 46.921875 27.09375 42.890625 30.859375 \nQ 38.875 34.625 31.78125 34.625 \nz\nM 21.921875 38.8125 \nQ 15.578125 40.375 12.03125 44.71875 \nQ 8.5 49.078125 8.5 55.328125 \nQ 8.5 64.0625 14.71875 69.140625 \nQ 20.953125 74.21875 31.78125 74.21875 \nQ 42.671875 74.21875 48.875 69.140625 \nQ 55.078125 64.0625 55.078125 55.328125 \nQ 55.078125 49.078125 51.53125 44.71875 \nQ 48 40.375 41.703125 38.8125 \nQ 48.828125 37.15625 52.796875 32.3125 \nQ 56.78125 27.484375 56.78125 20.515625 \nQ 56.78125 9.90625 50.3125 4.234375 \nQ 43.84375 -1.421875 31.78125 -1.421875 \nQ 19.734375 -1.421875 13.25 4.234375 \nQ 6.78125 9.90625 6.78125 20.515625 \nQ 6.78125 27.484375 10.78125 32.3125 \nQ 14.796875 37.15625 21.921875 38.8125 \nz\nM 18.3125 54.390625 \nQ 18.3125 48.734375 21.84375 45.5625 \nQ 25.390625 42.390625 31.78125 42.390625 \nQ 38.140625 42.390625 41.71875 45.5625 \nQ 45.3125 48.734375 45.3125 54.390625 \nQ 45.3125 60.0625 41.71875 63.234375 \nQ 38.140625 66.40625 31.78125 66.40625 \nQ 25.390625 66.40625 21.84375 63.234375 \nQ 18.3125 60.0625 18.3125 54.390625 \nz\n\" id=\"DejaVuSans-56\"/>\n       </defs>\n       <use xlink:href=\"#DejaVuSans-48\"/>\n       <use x=\"63.623047\" xlink:href=\"#DejaVuSans-46\"/>\n       <use x=\"95.410156\" xlink:href=\"#DejaVuSans-56\"/>\n      </g>\n     </g>\n    </g>\n    <g id=\"xtick_5\">\n     <g id=\"line2d_5\">\n      <path clip-path=\"url(#p6289186ab4)\" d=\"M 272.998892 295.470344 \nL 272.998892 12.214969 \n\" style=\"fill:none;stroke:#cccccc;stroke-linecap:round;\"/>\n     </g>\n     <g id=\"text_5\">\n      <!-- 0.9 -->\n      <g style=\"fill:#262626;\" transform=\"translate(262.502829 315.000281)scale(0.132 -0.132)\">\n       <defs>\n        <path d=\"M 10.984375 1.515625 \nL 10.984375 10.5 \nQ 14.703125 8.734375 18.5 7.8125 \nQ 22.3125 6.890625 25.984375 6.890625 \nQ 35.75 6.890625 40.890625 13.453125 \nQ 46.046875 20.015625 46.78125 33.40625 \nQ 43.953125 29.203125 39.59375 26.953125 \nQ 35.25 24.703125 29.984375 24.703125 \nQ 19.046875 24.703125 12.671875 31.3125 \nQ 6.296875 37.9375 6.296875 49.421875 \nQ 6.296875 60.640625 12.9375 67.421875 \nQ 19.578125 74.21875 30.609375 74.21875 \nQ 43.265625 74.21875 49.921875 64.515625 \nQ 56.59375 54.828125 56.59375 36.375 \nQ 56.59375 19.140625 48.40625 8.859375 \nQ 40.234375 -1.421875 26.421875 -1.421875 \nQ 22.703125 -1.421875 18.890625 -0.6875 \nQ 15.09375 0.046875 10.984375 1.515625 \nz\nM 30.609375 32.421875 \nQ 37.25 32.421875 41.125 36.953125 \nQ 45.015625 41.5 45.015625 49.421875 \nQ 45.015625 57.28125 41.125 61.84375 \nQ 37.25 66.40625 30.609375 66.40625 \nQ 23.96875 66.40625 20.09375 61.84375 \nQ 16.21875 57.28125 16.21875 49.421875 \nQ 16.21875 41.5 20.09375 36.953125 \nQ 23.96875 32.421875 30.609375 32.421875 \nz\n\" id=\"DejaVuSans-57\"/>\n       </defs>\n       <use xlink:href=\"#DejaVuSans-48\"/>\n       <use x=\"63.623047\" xlink:href=\"#DejaVuSans-46\"/>\n       <use x=\"95.410156\" xlink:href=\"#DejaVuSans-57\"/>\n      </g>\n     </g>\n    </g>\n    <g id=\"xtick_6\">\n     <g id=\"line2d_6\">\n      <path clip-path=\"url(#p6289186ab4)\" d=\"M 319.163526 295.470344 \nL 319.163526 12.214969 \n\" style=\"fill:none;stroke:#cccccc;stroke-linecap:round;\"/>\n     </g>\n     <g id=\"text_6\">\n      <!-- 1.0 -->\n      <g style=\"fill:#262626;\" transform=\"translate(308.667463 315.000281)scale(0.132 -0.132)\">\n       <defs>\n        <path d=\"M 12.40625 8.296875 \nL 28.515625 8.296875 \nL 28.515625 63.921875 \nL 10.984375 60.40625 \nL 10.984375 69.390625 \nL 28.421875 72.90625 \nL 38.28125 72.90625 \nL 38.28125 8.296875 \nL 54.390625 8.296875 \nL 54.390625 0 \nL 12.40625 0 \nz\n\" id=\"DejaVuSans-49\"/>\n       </defs>\n       <use xlink:href=\"#DejaVuSans-49\"/>\n       <use x=\"63.623047\" xlink:href=\"#DejaVuSans-46\"/>\n       <use x=\"95.410156\" xlink:href=\"#DejaVuSans-48\"/>\n      </g>\n     </g>\n    </g>\n    <g id=\"text_7\">\n     <!-- max_prob -->\n     <g style=\"fill:#262626;\" transform=\"translate(157.96295 332.687219)scale(0.144 -0.144)\">\n      <defs>\n       <path d=\"M 52 44.1875 \nQ 55.375 50.25 60.0625 53.125 \nQ 64.75 56 71.09375 56 \nQ 79.640625 56 84.28125 50.015625 \nQ 88.921875 44.046875 88.921875 33.015625 \nL 88.921875 0 \nL 79.890625 0 \nL 79.890625 32.71875 \nQ 79.890625 40.578125 77.09375 44.375 \nQ 74.3125 48.1875 68.609375 48.1875 \nQ 61.625 48.1875 57.5625 43.546875 \nQ 53.515625 38.921875 53.515625 30.90625 \nL 53.515625 0 \nL 44.484375 0 \nL 44.484375 32.71875 \nQ 44.484375 40.625 41.703125 44.40625 \nQ 38.921875 48.1875 33.109375 48.1875 \nQ 26.21875 48.1875 22.15625 43.53125 \nQ 18.109375 38.875 18.109375 30.90625 \nL 18.109375 0 \nL 9.078125 0 \nL 9.078125 54.6875 \nL 18.109375 54.6875 \nL 18.109375 46.1875 \nQ 21.1875 51.21875 25.484375 53.609375 \nQ 29.78125 56 35.6875 56 \nQ 41.65625 56 45.828125 52.96875 \nQ 50 49.953125 52 44.1875 \nz\n\" id=\"DejaVuSans-109\"/>\n       <path d=\"M 34.28125 27.484375 \nQ 23.390625 27.484375 19.1875 25 \nQ 14.984375 22.515625 14.984375 16.5 \nQ 14.984375 11.71875 18.140625 8.90625 \nQ 21.296875 6.109375 26.703125 6.109375 \nQ 34.1875 6.109375 38.703125 11.40625 \nQ 43.21875 16.703125 43.21875 25.484375 \nL 43.21875 27.484375 \nz\nM 52.203125 31.203125 \nL 52.203125 0 \nL 43.21875 0 \nL 43.21875 8.296875 \nQ 40.140625 3.328125 35.546875 0.953125 \nQ 30.953125 -1.421875 24.3125 -1.421875 \nQ 15.921875 -1.421875 10.953125 3.296875 \nQ 6 8.015625 6 15.921875 \nQ 6 25.140625 12.171875 29.828125 \nQ 18.359375 34.515625 30.609375 34.515625 \nL 43.21875 34.515625 \nL 43.21875 35.40625 \nQ 43.21875 41.609375 39.140625 45 \nQ 35.0625 48.390625 27.6875 48.390625 \nQ 23 48.390625 18.546875 47.265625 \nQ 14.109375 46.140625 10.015625 43.890625 \nL 10.015625 52.203125 \nQ 14.9375 54.109375 19.578125 55.046875 \nQ 24.21875 56 28.609375 56 \nQ 40.484375 56 46.34375 49.84375 \nQ 52.203125 43.703125 52.203125 31.203125 \nz\n\" id=\"DejaVuSans-97\"/>\n       <path d=\"M 54.890625 54.6875 \nL 35.109375 28.078125 \nL 55.90625 0 \nL 45.3125 0 \nL 29.390625 21.484375 \nL 13.484375 0 \nL 2.875 0 \nL 24.125 28.609375 \nL 4.6875 54.6875 \nL 15.28125 54.6875 \nL 29.78125 35.203125 \nL 44.28125 54.6875 \nz\n\" id=\"DejaVuSans-120\"/>\n       <path d=\"M 50.984375 -16.609375 \nL 50.984375 -23.578125 \nL -0.984375 -23.578125 \nL -0.984375 -16.609375 \nz\n\" id=\"DejaVuSans-95\"/>\n       <path d=\"M 18.109375 8.203125 \nL 18.109375 -20.796875 \nL 9.078125 -20.796875 \nL 9.078125 54.6875 \nL 18.109375 54.6875 \nL 18.109375 46.390625 \nQ 20.953125 51.265625 25.265625 53.625 \nQ 29.59375 56 35.59375 56 \nQ 45.5625 56 51.78125 48.09375 \nQ 58.015625 40.1875 58.015625 27.296875 \nQ 58.015625 14.40625 51.78125 6.484375 \nQ 45.5625 -1.421875 35.59375 -1.421875 \nQ 29.59375 -1.421875 25.265625 0.953125 \nQ 20.953125 3.328125 18.109375 8.203125 \nz\nM 48.6875 27.296875 \nQ 48.6875 37.203125 44.609375 42.84375 \nQ 40.53125 48.484375 33.40625 48.484375 \nQ 26.265625 48.484375 22.1875 42.84375 \nQ 18.109375 37.203125 18.109375 27.296875 \nQ 18.109375 17.390625 22.1875 11.75 \nQ 26.265625 6.109375 33.40625 6.109375 \nQ 40.53125 6.109375 44.609375 11.75 \nQ 48.6875 17.390625 48.6875 27.296875 \nz\n\" id=\"DejaVuSans-112\"/>\n       <path d=\"M 41.109375 46.296875 \nQ 39.59375 47.171875 37.8125 47.578125 \nQ 36.03125 48 33.890625 48 \nQ 26.265625 48 22.1875 43.046875 \nQ 18.109375 38.09375 18.109375 28.8125 \nL 18.109375 0 \nL 9.078125 0 \nL 9.078125 54.6875 \nL 18.109375 54.6875 \nL 18.109375 46.1875 \nQ 20.953125 51.171875 25.484375 53.578125 \nQ 30.03125 56 36.53125 56 \nQ 37.453125 56 38.578125 55.875 \nQ 39.703125 55.765625 41.0625 55.515625 \nz\n\" id=\"DejaVuSans-114\"/>\n       <path d=\"M 30.609375 48.390625 \nQ 23.390625 48.390625 19.1875 42.75 \nQ 14.984375 37.109375 14.984375 27.296875 \nQ 14.984375 17.484375 19.15625 11.84375 \nQ 23.34375 6.203125 30.609375 6.203125 \nQ 37.796875 6.203125 41.984375 11.859375 \nQ 46.1875 17.53125 46.1875 27.296875 \nQ 46.1875 37.015625 41.984375 42.703125 \nQ 37.796875 48.390625 30.609375 48.390625 \nz\nM 30.609375 56 \nQ 42.328125 56 49.015625 48.375 \nQ 55.71875 40.765625 55.71875 27.296875 \nQ 55.71875 13.875 49.015625 6.21875 \nQ 42.328125 -1.421875 30.609375 -1.421875 \nQ 18.84375 -1.421875 12.171875 6.21875 \nQ 5.515625 13.875 5.515625 27.296875 \nQ 5.515625 40.765625 12.171875 48.375 \nQ 18.84375 56 30.609375 56 \nz\n\" id=\"DejaVuSans-111\"/>\n       <path d=\"M 48.6875 27.296875 \nQ 48.6875 37.203125 44.609375 42.84375 \nQ 40.53125 48.484375 33.40625 48.484375 \nQ 26.265625 48.484375 22.1875 42.84375 \nQ 18.109375 37.203125 18.109375 27.296875 \nQ 18.109375 17.390625 22.1875 11.75 \nQ 26.265625 6.109375 33.40625 6.109375 \nQ 40.53125 6.109375 44.609375 11.75 \nQ 48.6875 17.390625 48.6875 27.296875 \nz\nM 18.109375 46.390625 \nQ 20.953125 51.265625 25.265625 53.625 \nQ 29.59375 56 35.59375 56 \nQ 45.5625 56 51.78125 48.09375 \nQ 58.015625 40.1875 58.015625 27.296875 \nQ 58.015625 14.40625 51.78125 6.484375 \nQ 45.5625 -1.421875 35.59375 -1.421875 \nQ 29.59375 -1.421875 25.265625 0.953125 \nQ 20.953125 3.328125 18.109375 8.203125 \nL 18.109375 0 \nL 9.078125 0 \nL 9.078125 75.984375 \nL 18.109375 75.984375 \nz\n\" id=\"DejaVuSans-98\"/>\n      </defs>\n      <use xlink:href=\"#DejaVuSans-109\"/>\n      <use x=\"97.412109\" xlink:href=\"#DejaVuSans-97\"/>\n      <use x=\"158.691406\" xlink:href=\"#DejaVuSans-120\"/>\n      <use x=\"217.871094\" xlink:href=\"#DejaVuSans-95\"/>\n      <use x=\"267.871094\" xlink:href=\"#DejaVuSans-112\"/>\n      <use x=\"331.347656\" xlink:href=\"#DejaVuSans-114\"/>\n      <use x=\"370.210938\" xlink:href=\"#DejaVuSans-111\"/>\n      <use x=\"431.392578\" xlink:href=\"#DejaVuSans-98\"/>\n     </g>\n    </g>\n   </g>\n   <g id=\"matplotlib.axis_2\">\n    <g id=\"ytick_1\">\n     <g id=\"line2d_7\">\n      <path clip-path=\"url(#p6289186ab4)\" d=\"M 55.628625 295.470344 \nL 331.561525 295.470344 \n\" style=\"fill:none;stroke:#cccccc;stroke-linecap:round;\"/>\n     </g>\n     <g id=\"text_8\">\n      <!-- 0.0 -->\n      <g style=\"fill:#262626;\" transform=\"translate(25.1365 300.485312)scale(0.132 -0.132)\">\n       <use xlink:href=\"#DejaVuSans-48\"/>\n       <use x=\"63.623047\" xlink:href=\"#DejaVuSans-46\"/>\n       <use x=\"95.410156\" xlink:href=\"#DejaVuSans-48\"/>\n      </g>\n     </g>\n    </g>\n    <g id=\"ytick_2\">\n     <g id=\"line2d_8\">\n      <path clip-path=\"url(#p6289186ab4)\" d=\"M 55.628625 238.819269 \nL 331.561525 238.819269 \n\" style=\"fill:none;stroke:#cccccc;stroke-linecap:round;\"/>\n     </g>\n     <g id=\"text_9\">\n      <!-- 0.2 -->\n      <g style=\"fill:#262626;\" transform=\"translate(25.1365 243.834237)scale(0.132 -0.132)\">\n       <defs>\n        <path d=\"M 19.1875 8.296875 \nL 53.609375 8.296875 \nL 53.609375 0 \nL 7.328125 0 \nL 7.328125 8.296875 \nQ 12.9375 14.109375 22.625 23.890625 \nQ 32.328125 33.6875 34.8125 36.53125 \nQ 39.546875 41.84375 41.421875 45.53125 \nQ 43.3125 49.21875 43.3125 52.78125 \nQ 43.3125 58.59375 39.234375 62.25 \nQ 35.15625 65.921875 28.609375 65.921875 \nQ 23.96875 65.921875 18.8125 64.3125 \nQ 13.671875 62.703125 7.8125 59.421875 \nL 7.8125 69.390625 \nQ 13.765625 71.78125 18.9375 73 \nQ 24.125 74.21875 28.421875 74.21875 \nQ 39.75 74.21875 46.484375 68.546875 \nQ 53.21875 62.890625 53.21875 53.421875 \nQ 53.21875 48.921875 51.53125 44.890625 \nQ 49.859375 40.875 45.40625 35.40625 \nQ 44.1875 33.984375 37.640625 27.21875 \nQ 31.109375 20.453125 19.1875 8.296875 \nz\n\" id=\"DejaVuSans-50\"/>\n       </defs>\n       <use xlink:href=\"#DejaVuSans-48\"/>\n       <use x=\"63.623047\" xlink:href=\"#DejaVuSans-46\"/>\n       <use x=\"95.410156\" xlink:href=\"#DejaVuSans-50\"/>\n      </g>\n     </g>\n    </g>\n    <g id=\"ytick_3\">\n     <g id=\"line2d_9\">\n      <path clip-path=\"url(#p6289186ab4)\" d=\"M 55.628625 182.168194 \nL 331.561525 182.168194 \n\" style=\"fill:none;stroke:#cccccc;stroke-linecap:round;\"/>\n     </g>\n     <g id=\"text_10\">\n      <!-- 0.4 -->\n      <g style=\"fill:#262626;\" transform=\"translate(25.1365 187.183162)scale(0.132 -0.132)\">\n       <defs>\n        <path d=\"M 37.796875 64.3125 \nL 12.890625 25.390625 \nL 37.796875 25.390625 \nz\nM 35.203125 72.90625 \nL 47.609375 72.90625 \nL 47.609375 25.390625 \nL 58.015625 25.390625 \nL 58.015625 17.1875 \nL 47.609375 17.1875 \nL 47.609375 0 \nL 37.796875 0 \nL 37.796875 17.1875 \nL 4.890625 17.1875 \nL 4.890625 26.703125 \nz\n\" id=\"DejaVuSans-52\"/>\n       </defs>\n       <use xlink:href=\"#DejaVuSans-48\"/>\n       <use x=\"63.623047\" xlink:href=\"#DejaVuSans-46\"/>\n       <use x=\"95.410156\" xlink:href=\"#DejaVuSans-52\"/>\n      </g>\n     </g>\n    </g>\n    <g id=\"ytick_4\">\n     <g id=\"line2d_10\">\n      <path clip-path=\"url(#p6289186ab4)\" d=\"M 55.628625 125.517119 \nL 331.561525 125.517119 \n\" style=\"fill:none;stroke:#cccccc;stroke-linecap:round;\"/>\n     </g>\n     <g id=\"text_11\">\n      <!-- 0.6 -->\n      <g style=\"fill:#262626;\" transform=\"translate(25.1365 130.532087)scale(0.132 -0.132)\">\n       <use xlink:href=\"#DejaVuSans-48\"/>\n       <use x=\"63.623047\" xlink:href=\"#DejaVuSans-46\"/>\n       <use x=\"95.410156\" xlink:href=\"#DejaVuSans-54\"/>\n      </g>\n     </g>\n    </g>\n    <g id=\"ytick_5\">\n     <g id=\"line2d_11\">\n      <path clip-path=\"url(#p6289186ab4)\" d=\"M 55.628625 68.866044 \nL 331.561525 68.866044 \n\" style=\"fill:none;stroke:#cccccc;stroke-linecap:round;\"/>\n     </g>\n     <g id=\"text_12\">\n      <!-- 0.8 -->\n      <g style=\"fill:#262626;\" transform=\"translate(25.1365 73.881012)scale(0.132 -0.132)\">\n       <use xlink:href=\"#DejaVuSans-48\"/>\n       <use x=\"63.623047\" xlink:href=\"#DejaVuSans-46\"/>\n       <use x=\"95.410156\" xlink:href=\"#DejaVuSans-56\"/>\n      </g>\n     </g>\n    </g>\n    <g id=\"ytick_6\">\n     <g id=\"line2d_12\">\n      <path clip-path=\"url(#p6289186ab4)\" d=\"M 55.628625 12.214969 \nL 331.561525 12.214969 \n\" style=\"fill:none;stroke:#cccccc;stroke-linecap:round;\"/>\n     </g>\n     <g id=\"text_13\">\n      <!-- 1.0 -->\n      <g style=\"fill:#262626;\" transform=\"translate(25.1365 17.229937)scale(0.132 -0.132)\">\n       <use xlink:href=\"#DejaVuSans-49\"/>\n       <use x=\"63.623047\" xlink:href=\"#DejaVuSans-46\"/>\n       <use x=\"95.410156\" xlink:href=\"#DejaVuSans-48\"/>\n      </g>\n     </g>\n    </g>\n    <g id=\"text_14\">\n     <!-- Proportion -->\n     <g style=\"fill:#262626;\" transform=\"translate(18.14175 190.989031)rotate(-90)scale(0.144 -0.144)\">\n      <defs>\n       <path d=\"M 19.671875 64.796875 \nL 19.671875 37.40625 \nL 32.078125 37.40625 \nQ 38.96875 37.40625 42.71875 40.96875 \nQ 46.484375 44.53125 46.484375 51.125 \nQ 46.484375 57.671875 42.71875 61.234375 \nQ 38.96875 64.796875 32.078125 64.796875 \nz\nM 9.8125 72.90625 \nL 32.078125 72.90625 \nQ 44.34375 72.90625 50.609375 67.359375 \nQ 56.890625 61.8125 56.890625 51.125 \nQ 56.890625 40.328125 50.609375 34.8125 \nQ 44.34375 29.296875 32.078125 29.296875 \nL 19.671875 29.296875 \nL 19.671875 0 \nL 9.8125 0 \nz\n\" id=\"DejaVuSans-80\"/>\n       <path d=\"M 18.3125 70.21875 \nL 18.3125 54.6875 \nL 36.8125 54.6875 \nL 36.8125 47.703125 \nL 18.3125 47.703125 \nL 18.3125 18.015625 \nQ 18.3125 11.328125 20.140625 9.421875 \nQ 21.96875 7.515625 27.59375 7.515625 \nL 36.8125 7.515625 \nL 36.8125 0 \nL 27.59375 0 \nQ 17.1875 0 13.234375 3.875 \nQ 9.28125 7.765625 9.28125 18.015625 \nL 9.28125 47.703125 \nL 2.6875 47.703125 \nL 2.6875 54.6875 \nL 9.28125 54.6875 \nL 9.28125 70.21875 \nz\n\" id=\"DejaVuSans-116\"/>\n       <path d=\"M 9.421875 54.6875 \nL 18.40625 54.6875 \nL 18.40625 0 \nL 9.421875 0 \nz\nM 9.421875 75.984375 \nL 18.40625 75.984375 \nL 18.40625 64.59375 \nL 9.421875 64.59375 \nz\n\" id=\"DejaVuSans-105\"/>\n       <path d=\"M 54.890625 33.015625 \nL 54.890625 0 \nL 45.90625 0 \nL 45.90625 32.71875 \nQ 45.90625 40.484375 42.875 44.328125 \nQ 39.84375 48.1875 33.796875 48.1875 \nQ 26.515625 48.1875 22.3125 43.546875 \nQ 18.109375 38.921875 18.109375 30.90625 \nL 18.109375 0 \nL 9.078125 0 \nL 9.078125 54.6875 \nL 18.109375 54.6875 \nL 18.109375 46.1875 \nQ 21.34375 51.125 25.703125 53.5625 \nQ 30.078125 56 35.796875 56 \nQ 45.21875 56 50.046875 50.171875 \nQ 54.890625 44.34375 54.890625 33.015625 \nz\n\" id=\"DejaVuSans-110\"/>\n      </defs>\n      <use xlink:href=\"#DejaVuSans-80\"/>\n      <use x=\"58.552734\" xlink:href=\"#DejaVuSans-114\"/>\n      <use x=\"97.416016\" xlink:href=\"#DejaVuSans-111\"/>\n      <use x=\"158.597656\" xlink:href=\"#DejaVuSans-112\"/>\n      <use x=\"222.074219\" xlink:href=\"#DejaVuSans-111\"/>\n      <use x=\"283.255859\" xlink:href=\"#DejaVuSans-114\"/>\n      <use x=\"324.369141\" xlink:href=\"#DejaVuSans-116\"/>\n      <use x=\"363.578125\" xlink:href=\"#DejaVuSans-105\"/>\n      <use x=\"391.361328\" xlink:href=\"#DejaVuSans-111\"/>\n      <use x=\"452.542969\" xlink:href=\"#DejaVuSans-110\"/>\n     </g>\n    </g>\n   </g>\n   <g id=\"line2d_13\">\n    <path clip-path=\"url(#p6289186ab4)\" d=\"M 97.029773 295.470344 \nL 97.029773 201.051885 \nL 249.402059 201.051885 \nL 249.402059 106.633427 \nL 318.363518 106.633427 \nL 318.363518 12.214969 \n\" style=\"fill:none;stroke:#55a868;stroke-linecap:round;stroke-width:1.5;\"/>\n   </g>\n   <g id=\"line2d_14\">\n    <path clip-path=\"url(#p6289186ab4)\" d=\"M 68.17103 295.470344 \nL 68.17103 283.668036 \nL 89.410216 283.668036 \nL 89.410216 271.865729 \nL 89.410216 271.865729 \nL 89.410216 260.063422 \nL 91.606152 260.063422 \nL 91.606152 248.261115 \nL 152.332102 248.261115 \nL 152.332102 236.458807 \nL 163.239082 236.458807 \nL 163.239082 224.6565 \nL 236.887744 224.6565 \nL 236.887744 212.854193 \nL 270.844055 212.854193 \nL 270.844055 201.051885 \nL 274.335896 201.051885 \nL 274.335896 189.249578 \nL 274.335896 189.249578 \nL 274.335896 177.447271 \nL 302.507215 177.447271 \nL 302.507215 165.644964 \nL 311.682046 165.644964 \nL 311.682046 153.842656 \nL 313.93029 153.842656 \nL 313.93029 142.040349 \nL 315.061373 142.040349 \nL 315.061373 130.238042 \nL 315.700466 130.238042 \nL 315.700466 118.435734 \nL 315.700466 118.435734 \nL 315.700466 106.633427 \nL 316.1973 106.633427 \nL 316.1973 94.83112 \nL 316.605944 94.83112 \nL 316.605944 83.028812 \nL 316.745809 83.028812 \nL 316.745809 71.226505 \nL 316.818452 71.226505 \nL 316.818452 59.424198 \nL 317.292117 59.424198 \nL 317.292117 47.621891 \nL 317.292117 47.621891 \nL 317.292117 35.819583 \nL 318.925015 35.819583 \nL 318.925015 24.017276 \nL 319.009875 24.017276 \nL 319.009875 12.214969 \n\" style=\"fill:none;stroke:#dd8452;stroke-linecap:round;stroke-width:1.5;\"/>\n   </g>\n   <g id=\"line2d_15\">\n    <path clip-path=\"url(#p6289186ab4)\" d=\"M 138.634863 295.470344 \nL 138.634863 281.981993 \nL 139.501157 281.981993 \nL 139.501157 268.493641 \nL 265.534186 268.493641 \nL 265.534186 255.00529 \nL 285.167262 255.00529 \nL 285.167262 241.516939 \nL 285.458631 241.516939 \nL 285.458631 228.028588 \nL 290.913621 228.028588 \nL 290.913621 214.540237 \nL 304.583069 214.540237 \nL 304.583069 201.051885 \nL 306.832001 201.051885 \nL 306.832001 187.563534 \nL 308.589905 187.563534 \nL 308.589905 174.075183 \nL 310.04791 174.075183 \nL 310.04791 160.586832 \nL 312.202488 160.586832 \nL 312.202488 147.098481 \nL 313.101995 147.098481 \nL 313.101995 133.610129 \nL 314.016801 133.610129 \nL 314.016801 120.121778 \nL 314.986997 120.121778 \nL 314.986997 106.633427 \nL 315.560106 106.633427 \nL 315.560106 93.145076 \nL 317.091111 93.145076 \nL 317.091111 79.656725 \nL 317.388919 79.656725 \nL 317.388919 66.168374 \nL 318.597048 66.168374 \nL 318.597048 52.680022 \nL 318.702381 52.680022 \nL 318.702381 39.191671 \nL 318.853362 39.191671 \nL 318.853362 25.70332 \nL 319.01912 25.70332 \nL 319.01912 12.214969 \n\" style=\"fill:none;stroke:#4c72b0;stroke-linecap:round;stroke-width:1.5;\"/>\n   </g>\n   <g id=\"patch_3\">\n    <path d=\"M 55.628625 295.470344 \nL 55.628625 12.214969 \n\" style=\"fill:none;stroke:#cccccc;stroke-linecap:square;stroke-linejoin:miter;stroke-width:1.25;\"/>\n   </g>\n   <g id=\"patch_4\">\n    <path d=\"M 55.628625 295.470344 \nL 331.561525 295.470344 \n\" style=\"fill:none;stroke:#cccccc;stroke-linecap:square;stroke-linejoin:miter;stroke-width:1.25;\"/>\n   </g>\n  </g>\n  <g id=\"legend_1\">\n   <g id=\"text_15\">\n    <!-- pred_class -->\n    <g style=\"fill:#262626;\" transform=\"translate(350.921125 146.351797)scale(0.144 -0.144)\">\n     <defs>\n      <path d=\"M 56.203125 29.59375 \nL 56.203125 25.203125 \nL 14.890625 25.203125 \nQ 15.484375 15.921875 20.484375 11.0625 \nQ 25.484375 6.203125 34.421875 6.203125 \nQ 39.59375 6.203125 44.453125 7.46875 \nQ 49.3125 8.734375 54.109375 11.28125 \nL 54.109375 2.78125 \nQ 49.265625 0.734375 44.1875 -0.34375 \nQ 39.109375 -1.421875 33.890625 -1.421875 \nQ 20.796875 -1.421875 13.15625 6.1875 \nQ 5.515625 13.8125 5.515625 26.8125 \nQ 5.515625 40.234375 12.765625 48.109375 \nQ 20.015625 56 32.328125 56 \nQ 43.359375 56 49.78125 48.890625 \nQ 56.203125 41.796875 56.203125 29.59375 \nz\nM 47.21875 32.234375 \nQ 47.125 39.59375 43.09375 43.984375 \nQ 39.0625 48.390625 32.421875 48.390625 \nQ 24.90625 48.390625 20.390625 44.140625 \nQ 15.875 39.890625 15.1875 32.171875 \nz\n\" id=\"DejaVuSans-101\"/>\n      <path d=\"M 45.40625 46.390625 \nL 45.40625 75.984375 \nL 54.390625 75.984375 \nL 54.390625 0 \nL 45.40625 0 \nL 45.40625 8.203125 \nQ 42.578125 3.328125 38.25 0.953125 \nQ 33.9375 -1.421875 27.875 -1.421875 \nQ 17.96875 -1.421875 11.734375 6.484375 \nQ 5.515625 14.40625 5.515625 27.296875 \nQ 5.515625 40.1875 11.734375 48.09375 \nQ 17.96875 56 27.875 56 \nQ 33.9375 56 38.25 53.625 \nQ 42.578125 51.265625 45.40625 46.390625 \nz\nM 14.796875 27.296875 \nQ 14.796875 17.390625 18.875 11.75 \nQ 22.953125 6.109375 30.078125 6.109375 \nQ 37.203125 6.109375 41.296875 11.75 \nQ 45.40625 17.390625 45.40625 27.296875 \nQ 45.40625 37.203125 41.296875 42.84375 \nQ 37.203125 48.484375 30.078125 48.484375 \nQ 22.953125 48.484375 18.875 42.84375 \nQ 14.796875 37.203125 14.796875 27.296875 \nz\n\" id=\"DejaVuSans-100\"/>\n      <path d=\"M 48.78125 52.59375 \nL 48.78125 44.1875 \nQ 44.96875 46.296875 41.140625 47.34375 \nQ 37.3125 48.390625 33.40625 48.390625 \nQ 24.65625 48.390625 19.8125 42.84375 \nQ 14.984375 37.3125 14.984375 27.296875 \nQ 14.984375 17.28125 19.8125 11.734375 \nQ 24.65625 6.203125 33.40625 6.203125 \nQ 37.3125 6.203125 41.140625 7.25 \nQ 44.96875 8.296875 48.78125 10.40625 \nL 48.78125 2.09375 \nQ 45.015625 0.34375 40.984375 -0.53125 \nQ 36.96875 -1.421875 32.421875 -1.421875 \nQ 20.0625 -1.421875 12.78125 6.34375 \nQ 5.515625 14.109375 5.515625 27.296875 \nQ 5.515625 40.671875 12.859375 48.328125 \nQ 20.21875 56 33.015625 56 \nQ 37.15625 56 41.109375 55.140625 \nQ 45.0625 54.296875 48.78125 52.59375 \nz\n\" id=\"DejaVuSans-99\"/>\n      <path d=\"M 9.421875 75.984375 \nL 18.40625 75.984375 \nL 18.40625 0 \nL 9.421875 0 \nz\n\" id=\"DejaVuSans-108\"/>\n      <path d=\"M 44.28125 53.078125 \nL 44.28125 44.578125 \nQ 40.484375 46.53125 36.375 47.5 \nQ 32.28125 48.484375 27.875 48.484375 \nQ 21.1875 48.484375 17.84375 46.4375 \nQ 14.5 44.390625 14.5 40.28125 \nQ 14.5 37.15625 16.890625 35.375 \nQ 19.28125 33.59375 26.515625 31.984375 \nL 29.59375 31.296875 \nQ 39.15625 29.25 43.1875 25.515625 \nQ 47.21875 21.78125 47.21875 15.09375 \nQ 47.21875 7.46875 41.1875 3.015625 \nQ 35.15625 -1.421875 24.609375 -1.421875 \nQ 20.21875 -1.421875 15.453125 -0.5625 \nQ 10.6875 0.296875 5.421875 2 \nL 5.421875 11.28125 \nQ 10.40625 8.6875 15.234375 7.390625 \nQ 20.0625 6.109375 24.8125 6.109375 \nQ 31.15625 6.109375 34.5625 8.28125 \nQ 37.984375 10.453125 37.984375 14.40625 \nQ 37.984375 18.0625 35.515625 20.015625 \nQ 33.0625 21.96875 24.703125 23.78125 \nL 21.578125 24.515625 \nQ 13.234375 26.265625 9.515625 29.90625 \nQ 5.8125 33.546875 5.8125 39.890625 \nQ 5.8125 47.609375 11.28125 51.796875 \nQ 16.75 56 26.8125 56 \nQ 31.78125 56 36.171875 55.265625 \nQ 40.578125 54.546875 44.28125 53.078125 \nz\n\" id=\"DejaVuSans-115\"/>\n     </defs>\n     <use xlink:href=\"#DejaVuSans-112\"/>\n     <use x=\"63.476562\" xlink:href=\"#DejaVuSans-114\"/>\n     <use x=\"102.339844\" xlink:href=\"#DejaVuSans-101\"/>\n     <use x=\"163.863281\" xlink:href=\"#DejaVuSans-100\"/>\n     <use x=\"227.339844\" xlink:href=\"#DejaVuSans-95\"/>\n     <use x=\"277.339844\" xlink:href=\"#DejaVuSans-99\"/>\n     <use x=\"332.320312\" xlink:href=\"#DejaVuSans-108\"/>\n     <use x=\"360.103516\" xlink:href=\"#DejaVuSans-97\"/>\n     <use x=\"421.382812\" xlink:href=\"#DejaVuSans-115\"/>\n     <use x=\"473.482422\" xlink:href=\"#DejaVuSans-115\"/>\n    </g>\n   </g>\n   <g id=\"line2d_16\">\n    <path d=\"M 361.160406 161.756984 \nL 387.560406 161.756984 \n\" style=\"fill:none;stroke:#4c72b0;stroke-linecap:round;stroke-width:1.5;\"/>\n   </g>\n   <g id=\"line2d_17\"/>\n   <g id=\"text_16\">\n    <!-- CV -->\n    <g style=\"fill:#262626;\" transform=\"translate(398.120406 166.376984)scale(0.132 -0.132)\">\n     <defs>\n      <path d=\"M 64.40625 67.28125 \nL 64.40625 56.890625 \nQ 59.421875 61.53125 53.78125 63.8125 \nQ 48.140625 66.109375 41.796875 66.109375 \nQ 29.296875 66.109375 22.65625 58.46875 \nQ 16.015625 50.828125 16.015625 36.375 \nQ 16.015625 21.96875 22.65625 14.328125 \nQ 29.296875 6.6875 41.796875 6.6875 \nQ 48.140625 6.6875 53.78125 8.984375 \nQ 59.421875 11.28125 64.40625 15.921875 \nL 64.40625 5.609375 \nQ 59.234375 2.09375 53.4375 0.328125 \nQ 47.65625 -1.421875 41.21875 -1.421875 \nQ 24.65625 -1.421875 15.125 8.703125 \nQ 5.609375 18.84375 5.609375 36.375 \nQ 5.609375 53.953125 15.125 64.078125 \nQ 24.65625 74.21875 41.21875 74.21875 \nQ 47.75 74.21875 53.53125 72.484375 \nQ 59.328125 70.75 64.40625 67.28125 \nz\n\" id=\"DejaVuSans-67\"/>\n      <path d=\"M 28.609375 0 \nL 0.78125 72.90625 \nL 11.078125 72.90625 \nL 34.1875 11.53125 \nL 57.328125 72.90625 \nL 67.578125 72.90625 \nL 39.796875 0 \nz\n\" id=\"DejaVuSans-86\"/>\n     </defs>\n     <use xlink:href=\"#DejaVuSans-67\"/>\n     <use x=\"69.824219\" xlink:href=\"#DejaVuSans-86\"/>\n    </g>\n   </g>\n   <g id=\"line2d_18\">\n    <path d=\"M 361.160406 181.132109 \nL 387.560406 181.132109 \n\" style=\"fill:none;stroke:#dd8452;stroke-linecap:round;stroke-width:1.5;\"/>\n   </g>\n   <g id=\"line2d_19\"/>\n   <g id=\"text_17\">\n    <!-- PL -->\n    <g style=\"fill:#262626;\" transform=\"translate(398.120406 185.752109)scale(0.132 -0.132)\">\n     <defs>\n      <path d=\"M 9.8125 72.90625 \nL 19.671875 72.90625 \nL 19.671875 8.296875 \nL 55.171875 8.296875 \nL 55.171875 0 \nL 9.8125 0 \nz\n\" id=\"DejaVuSans-76\"/>\n     </defs>\n     <use xlink:href=\"#DejaVuSans-80\"/>\n     <use x=\"60.302734\" xlink:href=\"#DejaVuSans-76\"/>\n    </g>\n   </g>\n   <g id=\"line2d_20\">\n    <path d=\"M 361.160406 200.507234 \nL 387.560406 200.507234 \n\" style=\"fill:none;stroke:#55a868;stroke-linecap:round;stroke-width:1.5;\"/>\n   </g>\n   <g id=\"line2d_21\"/>\n   <g id=\"text_18\">\n    <!-- LX -->\n    <g style=\"fill:#262626;\" transform=\"translate(398.120406 205.127234)scale(0.132 -0.132)\">\n     <defs>\n      <path d=\"M 6.296875 72.90625 \nL 16.890625 72.90625 \nL 35.015625 45.796875 \nL 53.21875 72.90625 \nL 63.8125 72.90625 \nL 40.375 37.890625 \nL 65.375 0 \nL 54.78125 0 \nL 34.28125 31 \nL 13.625 0 \nL 2.984375 0 \nL 29 38.921875 \nz\n\" id=\"DejaVuSans-88\"/>\n     </defs>\n     <use xlink:href=\"#DejaVuSans-76\"/>\n     <use x=\"55.712891\" xlink:href=\"#DejaVuSans-88\"/>\n    </g>\n   </g>\n  </g>\n </g>\n <defs>\n  <clipPath id=\"p6289186ab4\">\n   <rect height=\"283.255375\" width=\"275.9329\" x=\"55.628625\" y=\"12.214969\"/>\n  </clipPath>\n </defs>\n</svg>\n",
      "image/png": "[encoded data removed]"
     },
     "metadata": {}
    }
   ],
   "metadata": {}
  },
  {
   "cell_type": "code",
   "execution_count": 350,
   "source": [
    "df_all_imp['src_id']."
   ],
   "outputs": [
    {
     "output_type": "execute_result",
     "data": {
      "text/plain": [
       "CV    2101\n",
       "PL    1183\n",
       "LX     406\n",
       "Name: class, dtype: int64"
      ]
     },
     "metadata": {},
     "execution_count": 350
    }
   ],
   "metadata": {}
  },
  {
   "cell_type": "code",
   "execution_count": 353,
   "source": [
    "len(df_all_imp[df_all_imp['class']=='CV']['src_id'].unique())"
   ],
   "outputs": [
    {
     "output_type": "execute_result",
     "data": {
      "text/plain": [
       "301"
      ]
     },
     "metadata": {},
     "execution_count": 353
    }
   ],
   "metadata": {}
  }
 ],
 "metadata": {
  "orig_nbformat": 4,
  "language_info": {
   "name": "python",
   "version": "3.6.9",
   "mimetype": "text/x-python",
   "codemirror_mode": {
    "name": "ipython",
    "version": 3
   },
   "pygments_lexer": "ipython3",
   "nbconvert_exporter": "python",
   "file_extension": ".py"
  },
  "kernelspec": {
   "name": "python3",
   "display_name": "Python 3.6.9 64-bit"
  },
  "interpreter": {
   "hash": "31f2aee4e71d21fbe5cf8b01ff0e069b9275f58929596ceb00d14d90e3e16cd6"
  }
 },
 "nbformat": 4,
 "nbformat_minor": 2
}