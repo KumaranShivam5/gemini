{
 "cells": [
  {
   "cell_type": "markdown",
   "source": [
    "# Load Modules"
   ],
   "metadata": {}
  },
  {
   "cell_type": "code",
   "execution_count": 28,
   "source": [
    "import numpy as np \n",
    "from matplotlib import pyplot as plt \n",
    "import seaborn as sns \n",
    "from tqdm import tqdm \n",
    "from sklearn.model_selection import train_test_split \n",
    "from sklearn.ensemble import RandomForestClassifier \n",
    "import xgboost as xgb \n",
    "import pandas as pd \n",
    "import sklearn.neighbors._base\n",
    "from os import sys\n",
    "sys.modules['sklearn.neighbors.base'] = sklearn.neighbors._base\n",
    "from missingpy import MissForest \n",
    "from sklearn.metrics import confusion_matrix , ConfusionMatrixDisplay\n",
    "sns.set_style('whitegrid')"
   ],
   "outputs": [],
   "metadata": {}
  },
  {
   "cell_type": "markdown",
   "source": [
    "# Load Data"
   ],
   "metadata": {}
  },
  {
   "cell_type": "code",
   "execution_count": 29,
   "source": [
    "# Features to be used\n",
    "phot_flux = [\n",
    "    \"photflux_aper_s\",\n",
    "    \"photflux_aper_b\",\n",
    "    \"photflux_aper_u\",\n",
    "    \"photflux_aper_h\",\n",
    "    \"photflux_aper_m\",\n",
    "]\n",
    "en_flux = [\n",
    "    \"flux_aper_s\",\n",
    "    \"flux_aper_h\",\n",
    "    \"flux_aper_b\",\n",
    "    \"flux_aper_u\",\n",
    "    \"flux_aper_m\",\n",
    "]\n",
    "hard = [\n",
    "    \"hard_hm\",\n",
    "    \"hard_hs\",\n",
    "    \"hard_ms\",\n",
    "]\n",
    "powlaw_fit = [\n",
    "    \"flux_powlaw\",\n",
    "    \"powlaw_gamma\",\n",
    "    \"powlaw_nh\",\n",
    "    \"powlaw_ampl\",\n",
    "    \"powlaw_stat\",\n",
    "]\n",
    "\n",
    "bb_fit = [\n",
    "    \"flux_bb\",\n",
    "    \"bb_kt\",\n",
    "    \"bb_nh\",\n",
    "    \"bb_ampl\",\n",
    "    \"bb_stat\",\n",
    "]\n",
    "brems_fit = [\n",
    "    \"flux_brems\",\n",
    "    \"brems_kt\",\n",
    "    \"brems_nh\",\n",
    "    \"brems_norm\",\n",
    "    \"brems_stat\",\n",
    "]\n",
    "\n",
    "intra_obs_var = [\n",
    "    \"var_prob_b\",\n",
    "    \"ks_prob_b\",\n",
    "    \"kp_prob_b\",\n",
    "    \"var_sigma_b\",\n",
    "    \"var_mean_b\",\n",
    "    \"var_min_b\",\n",
    "    \"var_max_b\",\n",
    "    \"var_index_h\",\n",
    "    \"var_prob_h\",\n",
    "    \"ks_prob_h\",\n",
    "    \"kp_prob_h\",\n",
    "    \"var_sigma_h\",\n",
    "    \"var_mean_h\",\n",
    "    \"var_min_h\",\n",
    "    \"var_max_h\",\n",
    "    \"var_index_m\",\n",
    "    \"var_prob_m\",\n",
    "    \"ks_prob_m\",\n",
    "    \"kp_prob_m\",\n",
    "    \"var_sigma_m\",\n",
    "    \"var_mean_m\",\n",
    "    \"var_min_m\",\n",
    "    \"var_max_m\",\n",
    "    \"var_index_s\",\n",
    "    \"var_prob_s\",\n",
    "    \"ks_prob_s\",\n",
    "    \"kp_prob_s\",\n",
    "    \"var_sigma_s\",\n",
    "    \"var_mean_s\",\n",
    "    \"var_min_s\",\n",
    "    \"var_max_s\",\n",
    "    \"var_index_u\",\n",
    "    \"var_prob_u\",\n",
    "    \"ks_prob_u\",\n",
    "    \"kp_prob_u\",\n",
    "    \"var_sigma_u\",\n",
    "    \"var_mean_u\",\n",
    "    \"var_min_u\",\n",
    "    \"var_max_u\",\n",
    "]\n",
    "\n",
    "inter_ob_var = [\n",
    "    \"var_inter_index_b\",\n",
    "    \"var_inter_prob_b\",\n",
    "    \"var_inter_sigma_b\",\n",
    "    \"var_inter_index_h\",\n",
    "    \"var_inter_prob_h\",\n",
    "    \"var_inter_sigma_h\",\n",
    "    \"var_inter_index_m\",\n",
    "    \"var_inter_prob_m\",\n",
    "    \"var_inter_sigma_m\",\n",
    "    \"var_inter_index_s\",\n",
    "    \"var_inter_prob_s\",\n",
    "    \"var_inter_sigma_s\",\n",
    "    \"var_inter_index_u\",\n",
    "    \"var_inter_prob_u\",\n",
    "    \"var_inter_sigma_u\",\n",
    "]\n",
    "\n",
    "info_col = [\n",
    "'src_id',\n",
    " 'num_obs',\n",
    " 'sepn',\n",
    " 'name',\n",
    " 'ra',\n",
    " 'dec',\n",
    " 'livetime',\n",
    " 'significance',\n",
    " 'likelihood',\n",
    "]\n"
   ],
   "outputs": [],
   "metadata": {}
  },
  {
   "cell_type": "code",
   "execution_count": 30,
   "source": [
    "feat_to_use = info_col + phot_flux + en_flux + powlaw_fit +bb_fit +hard+ intra_obs_var +inter_ob_var \n",
    "data_cv = pd.read_csv('cv_data.csv' , index_col='obs_id')[feat_to_use]\n",
    "data_cv.insert(0 , 'class' , ['CV']*len(data_cv))\n",
    "data_pl  =  pd.read_csv('pulsar_data.csv' , index_col = 'obs_id')[feat_to_use]\n",
    "data_pl.insert(0 , 'class' , ['PL']*len(data_pl))\n",
    "\n",
    "data_lx  =  pd.read_csv('lmxb_data.csv' , index_col = 'obs_id')[feat_to_use]\n",
    "data_lx.insert(0 , 'class' , ['LX']*len(data_lx))"
   ],
   "outputs": [],
   "metadata": {}
  },
  {
   "cell_type": "code",
   "execution_count": 31,
   "source": [
    "sns.histplot(data_cv['num_obs'])\n",
    "sns.histplot(data_pl['num_obs'])\n",
    "sns.histplot(data_lx['num_obs'])\n",
    "plt.show()"
   ],
   "outputs": [
    {
     "output_type": "display_data",
     "data": {
      "text/plain": [
       "<Figure size 432x288 with 1 Axes>"
      ],
      "image/svg+xml": "<?xml version=\"1.0\" encoding=\"utf-8\" standalone=\"no\"?>\n<!DOCTYPE svg PUBLIC \"-//W3C//DTD SVG 1.1//EN\"\n  \"http://www.w3.org/Graphics/SVG/1.1/DTD/svg11.dtd\">\n<!-- Created with matplotlib (https://matplotlib.org/) -->\n<svg height=\"262.474375pt\" version=\"1.1\" viewBox=\"0 0 388.965625 262.474375\" width=\"388.965625pt\" xmlns=\"http://www.w3.org/2000/svg\" xmlns:xlink=\"http://www.w3.org/1999/xlink\">\n <metadata>\n  <rdf:RDF xmlns:cc=\"http://creativecommons.org/ns#\" xmlns:dc=\"http://purl.org/dc/elements/1.1/\" xmlns:rdf=\"http://www.w3.org/1999/02/22-rdf-syntax-ns#\">\n   <cc:Work>\n    <dc:type rdf:resource=\"http://purl.org/dc/dcmitype/StillImage\"/>\n    <dc:date>2021-12-07T12:24:22.067227</dc:date>\n    <dc:format>image/svg+xml</dc:format>\n    <dc:creator>\n     <cc:Agent>\n      <dc:title>Matplotlib v3.3.4, https://matplotlib.org/</dc:title>\n     </cc:Agent>\n    </dc:creator>\n   </cc:Work>\n  </rdf:RDF>\n </metadata>\n <defs>\n  <style type=\"text/css\">*{stroke-linecap:butt;stroke-linejoin:round;}</style>\n </defs>\n <g id=\"figure_1\">\n  <g id=\"patch_1\">\n   <path d=\"M 0 262.474375 \nL 388.965625 262.474375 \nL 388.965625 0 \nL 0 0 \nz\n\" style=\"fill:#ffffff;\"/>\n  </g>\n  <g id=\"axes_1\">\n   <g id=\"patch_2\">\n    <path d=\"M 46.965625 224.64 \nL 381.765625 224.64 \nL 381.765625 7.2 \nL 46.965625 7.2 \nz\n\" style=\"fill:#ffffff;\"/>\n   </g>\n   <g id=\"matplotlib.axis_1\">\n    <g id=\"xtick_1\">\n     <g id=\"line2d_1\">\n      <path clip-path=\"url(#p41ac3fda83)\" d=\"M 59.19985 224.64 \nL 59.19985 7.2 \n\" style=\"fill:none;stroke:#cccccc;stroke-linecap:round;stroke-width:0.8;\"/>\n     </g>\n     <g id=\"text_1\">\n      <!-- 0 -->\n      <g style=\"fill:#262626;\" transform=\"translate(56.0186 239.238438)scale(0.1 -0.1)\">\n       <defs>\n        <path d=\"M 31.78125 66.40625 \nQ 24.171875 66.40625 20.328125 58.90625 \nQ 16.5 51.421875 16.5 36.375 \nQ 16.5 21.390625 20.328125 13.890625 \nQ 24.171875 6.390625 31.78125 6.390625 \nQ 39.453125 6.390625 43.28125 13.890625 \nQ 47.125 21.390625 47.125 36.375 \nQ 47.125 51.421875 43.28125 58.90625 \nQ 39.453125 66.40625 31.78125 66.40625 \nz\nM 31.78125 74.21875 \nQ 44.046875 74.21875 50.515625 64.515625 \nQ 56.984375 54.828125 56.984375 36.375 \nQ 56.984375 17.96875 50.515625 8.265625 \nQ 44.046875 -1.421875 31.78125 -1.421875 \nQ 19.53125 -1.421875 13.0625 8.265625 \nQ 6.59375 17.96875 6.59375 36.375 \nQ 6.59375 54.828125 13.0625 64.515625 \nQ 19.53125 74.21875 31.78125 74.21875 \nz\n\" id=\"DejaVuSans-48\"/>\n       </defs>\n       <use xlink:href=\"#DejaVuSans-48\"/>\n      </g>\n     </g>\n    </g>\n    <g id=\"xtick_2\">\n     <g id=\"line2d_2\">\n      <path clip-path=\"url(#p41ac3fda83)\" d=\"M 118.878994 224.64 \nL 118.878994 7.2 \n\" style=\"fill:none;stroke:#cccccc;stroke-linecap:round;stroke-width:0.8;\"/>\n     </g>\n     <g id=\"text_2\">\n      <!-- 20 -->\n      <g style=\"fill:#262626;\" transform=\"translate(112.516494 239.238438)scale(0.1 -0.1)\">\n       <defs>\n        <path d=\"M 19.1875 8.296875 \nL 53.609375 8.296875 \nL 53.609375 0 \nL 7.328125 0 \nL 7.328125 8.296875 \nQ 12.9375 14.109375 22.625 23.890625 \nQ 32.328125 33.6875 34.8125 36.53125 \nQ 39.546875 41.84375 41.421875 45.53125 \nQ 43.3125 49.21875 43.3125 52.78125 \nQ 43.3125 58.59375 39.234375 62.25 \nQ 35.15625 65.921875 28.609375 65.921875 \nQ 23.96875 65.921875 18.8125 64.3125 \nQ 13.671875 62.703125 7.8125 59.421875 \nL 7.8125 69.390625 \nQ 13.765625 71.78125 18.9375 73 \nQ 24.125 74.21875 28.421875 74.21875 \nQ 39.75 74.21875 46.484375 68.546875 \nQ 53.21875 62.890625 53.21875 53.421875 \nQ 53.21875 48.921875 51.53125 44.890625 \nQ 49.859375 40.875 45.40625 35.40625 \nQ 44.1875 33.984375 37.640625 27.21875 \nQ 31.109375 20.453125 19.1875 8.296875 \nz\n\" id=\"DejaVuSans-50\"/>\n       </defs>\n       <use xlink:href=\"#DejaVuSans-50\"/>\n       <use x=\"63.623047\" xlink:href=\"#DejaVuSans-48\"/>\n      </g>\n     </g>\n    </g>\n    <g id=\"xtick_3\">\n     <g id=\"line2d_3\">\n      <path clip-path=\"url(#p41ac3fda83)\" d=\"M 178.558138 224.64 \nL 178.558138 7.2 \n\" style=\"fill:none;stroke:#cccccc;stroke-linecap:round;stroke-width:0.8;\"/>\n     </g>\n     <g id=\"text_3\">\n      <!-- 40 -->\n      <g style=\"fill:#262626;\" transform=\"translate(172.195638 239.238438)scale(0.1 -0.1)\">\n       <defs>\n        <path d=\"M 37.796875 64.3125 \nL 12.890625 25.390625 \nL 37.796875 25.390625 \nz\nM 35.203125 72.90625 \nL 47.609375 72.90625 \nL 47.609375 25.390625 \nL 58.015625 25.390625 \nL 58.015625 17.1875 \nL 47.609375 17.1875 \nL 47.609375 0 \nL 37.796875 0 \nL 37.796875 17.1875 \nL 4.890625 17.1875 \nL 4.890625 26.703125 \nz\n\" id=\"DejaVuSans-52\"/>\n       </defs>\n       <use xlink:href=\"#DejaVuSans-52\"/>\n       <use x=\"63.623047\" xlink:href=\"#DejaVuSans-48\"/>\n      </g>\n     </g>\n    </g>\n    <g id=\"xtick_4\">\n     <g id=\"line2d_4\">\n      <path clip-path=\"url(#p41ac3fda83)\" d=\"M 238.237283 224.64 \nL 238.237283 7.2 \n\" style=\"fill:none;stroke:#cccccc;stroke-linecap:round;stroke-width:0.8;\"/>\n     </g>\n     <g id=\"text_4\">\n      <!-- 60 -->\n      <g style=\"fill:#262626;\" transform=\"translate(231.874783 239.238438)scale(0.1 -0.1)\">\n       <defs>\n        <path d=\"M 33.015625 40.375 \nQ 26.375 40.375 22.484375 35.828125 \nQ 18.609375 31.296875 18.609375 23.390625 \nQ 18.609375 15.53125 22.484375 10.953125 \nQ 26.375 6.390625 33.015625 6.390625 \nQ 39.65625 6.390625 43.53125 10.953125 \nQ 47.40625 15.53125 47.40625 23.390625 \nQ 47.40625 31.296875 43.53125 35.828125 \nQ 39.65625 40.375 33.015625 40.375 \nz\nM 52.59375 71.296875 \nL 52.59375 62.3125 \nQ 48.875 64.0625 45.09375 64.984375 \nQ 41.3125 65.921875 37.59375 65.921875 \nQ 27.828125 65.921875 22.671875 59.328125 \nQ 17.53125 52.734375 16.796875 39.40625 \nQ 19.671875 43.65625 24.015625 45.921875 \nQ 28.375 48.1875 33.59375 48.1875 \nQ 44.578125 48.1875 50.953125 41.515625 \nQ 57.328125 34.859375 57.328125 23.390625 \nQ 57.328125 12.15625 50.6875 5.359375 \nQ 44.046875 -1.421875 33.015625 -1.421875 \nQ 20.359375 -1.421875 13.671875 8.265625 \nQ 6.984375 17.96875 6.984375 36.375 \nQ 6.984375 53.65625 15.1875 63.9375 \nQ 23.390625 74.21875 37.203125 74.21875 \nQ 40.921875 74.21875 44.703125 73.484375 \nQ 48.484375 72.75 52.59375 71.296875 \nz\n\" id=\"DejaVuSans-54\"/>\n       </defs>\n       <use xlink:href=\"#DejaVuSans-54\"/>\n       <use x=\"63.623047\" xlink:href=\"#DejaVuSans-48\"/>\n      </g>\n     </g>\n    </g>\n    <g id=\"xtick_5\">\n     <g id=\"line2d_5\">\n      <path clip-path=\"url(#p41ac3fda83)\" d=\"M 297.916427 224.64 \nL 297.916427 7.2 \n\" style=\"fill:none;stroke:#cccccc;stroke-linecap:round;stroke-width:0.8;\"/>\n     </g>\n     <g id=\"text_5\">\n      <!-- 80 -->\n      <g style=\"fill:#262626;\" transform=\"translate(291.553927 239.238438)scale(0.1 -0.1)\">\n       <defs>\n        <path d=\"M 31.78125 34.625 \nQ 24.75 34.625 20.71875 30.859375 \nQ 16.703125 27.09375 16.703125 20.515625 \nQ 16.703125 13.921875 20.71875 10.15625 \nQ 24.75 6.390625 31.78125 6.390625 \nQ 38.8125 6.390625 42.859375 10.171875 \nQ 46.921875 13.96875 46.921875 20.515625 \nQ 46.921875 27.09375 42.890625 30.859375 \nQ 38.875 34.625 31.78125 34.625 \nz\nM 21.921875 38.8125 \nQ 15.578125 40.375 12.03125 44.71875 \nQ 8.5 49.078125 8.5 55.328125 \nQ 8.5 64.0625 14.71875 69.140625 \nQ 20.953125 74.21875 31.78125 74.21875 \nQ 42.671875 74.21875 48.875 69.140625 \nQ 55.078125 64.0625 55.078125 55.328125 \nQ 55.078125 49.078125 51.53125 44.71875 \nQ 48 40.375 41.703125 38.8125 \nQ 48.828125 37.15625 52.796875 32.3125 \nQ 56.78125 27.484375 56.78125 20.515625 \nQ 56.78125 9.90625 50.3125 4.234375 \nQ 43.84375 -1.421875 31.78125 -1.421875 \nQ 19.734375 -1.421875 13.25 4.234375 \nQ 6.78125 9.90625 6.78125 20.515625 \nQ 6.78125 27.484375 10.78125 32.3125 \nQ 14.796875 37.15625 21.921875 38.8125 \nz\nM 18.3125 54.390625 \nQ 18.3125 48.734375 21.84375 45.5625 \nQ 25.390625 42.390625 31.78125 42.390625 \nQ 38.140625 42.390625 41.71875 45.5625 \nQ 45.3125 48.734375 45.3125 54.390625 \nQ 45.3125 60.0625 41.71875 63.234375 \nQ 38.140625 66.40625 31.78125 66.40625 \nQ 25.390625 66.40625 21.84375 63.234375 \nQ 18.3125 60.0625 18.3125 54.390625 \nz\n\" id=\"DejaVuSans-56\"/>\n       </defs>\n       <use xlink:href=\"#DejaVuSans-56\"/>\n       <use x=\"63.623047\" xlink:href=\"#DejaVuSans-48\"/>\n      </g>\n     </g>\n    </g>\n    <g id=\"xtick_6\">\n     <g id=\"line2d_6\">\n      <path clip-path=\"url(#p41ac3fda83)\" d=\"M 357.595572 224.64 \nL 357.595572 7.2 \n\" style=\"fill:none;stroke:#cccccc;stroke-linecap:round;stroke-width:0.8;\"/>\n     </g>\n     <g id=\"text_6\">\n      <!-- 100 -->\n      <g style=\"fill:#262626;\" transform=\"translate(348.051822 239.238438)scale(0.1 -0.1)\">\n       <defs>\n        <path d=\"M 12.40625 8.296875 \nL 28.515625 8.296875 \nL 28.515625 63.921875 \nL 10.984375 60.40625 \nL 10.984375 69.390625 \nL 28.421875 72.90625 \nL 38.28125 72.90625 \nL 38.28125 8.296875 \nL 54.390625 8.296875 \nL 54.390625 0 \nL 12.40625 0 \nz\n\" id=\"DejaVuSans-49\"/>\n       </defs>\n       <use xlink:href=\"#DejaVuSans-49\"/>\n       <use x=\"63.623047\" xlink:href=\"#DejaVuSans-48\"/>\n       <use x=\"127.246094\" xlink:href=\"#DejaVuSans-48\"/>\n      </g>\n     </g>\n    </g>\n    <g id=\"text_7\">\n     <!-- num_obs -->\n     <g style=\"fill:#262626;\" transform=\"translate(191.819531 252.916562)scale(0.1 -0.1)\">\n      <defs>\n       <path d=\"M 54.890625 33.015625 \nL 54.890625 0 \nL 45.90625 0 \nL 45.90625 32.71875 \nQ 45.90625 40.484375 42.875 44.328125 \nQ 39.84375 48.1875 33.796875 48.1875 \nQ 26.515625 48.1875 22.3125 43.546875 \nQ 18.109375 38.921875 18.109375 30.90625 \nL 18.109375 0 \nL 9.078125 0 \nL 9.078125 54.6875 \nL 18.109375 54.6875 \nL 18.109375 46.1875 \nQ 21.34375 51.125 25.703125 53.5625 \nQ 30.078125 56 35.796875 56 \nQ 45.21875 56 50.046875 50.171875 \nQ 54.890625 44.34375 54.890625 33.015625 \nz\n\" id=\"DejaVuSans-110\"/>\n       <path d=\"M 8.5 21.578125 \nL 8.5 54.6875 \nL 17.484375 54.6875 \nL 17.484375 21.921875 \nQ 17.484375 14.15625 20.5 10.265625 \nQ 23.53125 6.390625 29.59375 6.390625 \nQ 36.859375 6.390625 41.078125 11.03125 \nQ 45.3125 15.671875 45.3125 23.6875 \nL 45.3125 54.6875 \nL 54.296875 54.6875 \nL 54.296875 0 \nL 45.3125 0 \nL 45.3125 8.40625 \nQ 42.046875 3.421875 37.71875 1 \nQ 33.40625 -1.421875 27.6875 -1.421875 \nQ 18.265625 -1.421875 13.375 4.4375 \nQ 8.5 10.296875 8.5 21.578125 \nz\nM 31.109375 56 \nz\n\" id=\"DejaVuSans-117\"/>\n       <path d=\"M 52 44.1875 \nQ 55.375 50.25 60.0625 53.125 \nQ 64.75 56 71.09375 56 \nQ 79.640625 56 84.28125 50.015625 \nQ 88.921875 44.046875 88.921875 33.015625 \nL 88.921875 0 \nL 79.890625 0 \nL 79.890625 32.71875 \nQ 79.890625 40.578125 77.09375 44.375 \nQ 74.3125 48.1875 68.609375 48.1875 \nQ 61.625 48.1875 57.5625 43.546875 \nQ 53.515625 38.921875 53.515625 30.90625 \nL 53.515625 0 \nL 44.484375 0 \nL 44.484375 32.71875 \nQ 44.484375 40.625 41.703125 44.40625 \nQ 38.921875 48.1875 33.109375 48.1875 \nQ 26.21875 48.1875 22.15625 43.53125 \nQ 18.109375 38.875 18.109375 30.90625 \nL 18.109375 0 \nL 9.078125 0 \nL 9.078125 54.6875 \nL 18.109375 54.6875 \nL 18.109375 46.1875 \nQ 21.1875 51.21875 25.484375 53.609375 \nQ 29.78125 56 35.6875 56 \nQ 41.65625 56 45.828125 52.96875 \nQ 50 49.953125 52 44.1875 \nz\n\" id=\"DejaVuSans-109\"/>\n       <path d=\"M 50.984375 -16.609375 \nL 50.984375 -23.578125 \nL -0.984375 -23.578125 \nL -0.984375 -16.609375 \nz\n\" id=\"DejaVuSans-95\"/>\n       <path d=\"M 30.609375 48.390625 \nQ 23.390625 48.390625 19.1875 42.75 \nQ 14.984375 37.109375 14.984375 27.296875 \nQ 14.984375 17.484375 19.15625 11.84375 \nQ 23.34375 6.203125 30.609375 6.203125 \nQ 37.796875 6.203125 41.984375 11.859375 \nQ 46.1875 17.53125 46.1875 27.296875 \nQ 46.1875 37.015625 41.984375 42.703125 \nQ 37.796875 48.390625 30.609375 48.390625 \nz\nM 30.609375 56 \nQ 42.328125 56 49.015625 48.375 \nQ 55.71875 40.765625 55.71875 27.296875 \nQ 55.71875 13.875 49.015625 6.21875 \nQ 42.328125 -1.421875 30.609375 -1.421875 \nQ 18.84375 -1.421875 12.171875 6.21875 \nQ 5.515625 13.875 5.515625 27.296875 \nQ 5.515625 40.765625 12.171875 48.375 \nQ 18.84375 56 30.609375 56 \nz\n\" id=\"DejaVuSans-111\"/>\n       <path d=\"M 48.6875 27.296875 \nQ 48.6875 37.203125 44.609375 42.84375 \nQ 40.53125 48.484375 33.40625 48.484375 \nQ 26.265625 48.484375 22.1875 42.84375 \nQ 18.109375 37.203125 18.109375 27.296875 \nQ 18.109375 17.390625 22.1875 11.75 \nQ 26.265625 6.109375 33.40625 6.109375 \nQ 40.53125 6.109375 44.609375 11.75 \nQ 48.6875 17.390625 48.6875 27.296875 \nz\nM 18.109375 46.390625 \nQ 20.953125 51.265625 25.265625 53.625 \nQ 29.59375 56 35.59375 56 \nQ 45.5625 56 51.78125 48.09375 \nQ 58.015625 40.1875 58.015625 27.296875 \nQ 58.015625 14.40625 51.78125 6.484375 \nQ 45.5625 -1.421875 35.59375 -1.421875 \nQ 29.59375 -1.421875 25.265625 0.953125 \nQ 20.953125 3.328125 18.109375 8.203125 \nL 18.109375 0 \nL 9.078125 0 \nL 9.078125 75.984375 \nL 18.109375 75.984375 \nz\n\" id=\"DejaVuSans-98\"/>\n       <path d=\"M 44.28125 53.078125 \nL 44.28125 44.578125 \nQ 40.484375 46.53125 36.375 47.5 \nQ 32.28125 48.484375 27.875 48.484375 \nQ 21.1875 48.484375 17.84375 46.4375 \nQ 14.5 44.390625 14.5 40.28125 \nQ 14.5 37.15625 16.890625 35.375 \nQ 19.28125 33.59375 26.515625 31.984375 \nL 29.59375 31.296875 \nQ 39.15625 29.25 43.1875 25.515625 \nQ 47.21875 21.78125 47.21875 15.09375 \nQ 47.21875 7.46875 41.1875 3.015625 \nQ 35.15625 -1.421875 24.609375 -1.421875 \nQ 20.21875 -1.421875 15.453125 -0.5625 \nQ 10.6875 0.296875 5.421875 2 \nL 5.421875 11.28125 \nQ 10.40625 8.6875 15.234375 7.390625 \nQ 20.0625 6.109375 24.8125 6.109375 \nQ 31.15625 6.109375 34.5625 8.28125 \nQ 37.984375 10.453125 37.984375 14.40625 \nQ 37.984375 18.0625 35.515625 20.015625 \nQ 33.0625 21.96875 24.703125 23.78125 \nL 21.578125 24.515625 \nQ 13.234375 26.265625 9.515625 29.90625 \nQ 5.8125 33.546875 5.8125 39.890625 \nQ 5.8125 47.609375 11.28125 51.796875 \nQ 16.75 56 26.8125 56 \nQ 31.78125 56 36.171875 55.265625 \nQ 40.578125 54.546875 44.28125 53.078125 \nz\n\" id=\"DejaVuSans-115\"/>\n      </defs>\n      <use xlink:href=\"#DejaVuSans-110\"/>\n      <use x=\"63.378906\" xlink:href=\"#DejaVuSans-117\"/>\n      <use x=\"126.757812\" xlink:href=\"#DejaVuSans-109\"/>\n      <use x=\"224.169922\" xlink:href=\"#DejaVuSans-95\"/>\n      <use x=\"274.169922\" xlink:href=\"#DejaVuSans-111\"/>\n      <use x=\"335.351562\" xlink:href=\"#DejaVuSans-98\"/>\n      <use x=\"398.828125\" xlink:href=\"#DejaVuSans-115\"/>\n     </g>\n    </g>\n   </g>\n   <g id=\"matplotlib.axis_2\">\n    <g id=\"ytick_1\">\n     <g id=\"line2d_7\">\n      <path clip-path=\"url(#p41ac3fda83)\" d=\"M 46.965625 224.64 \nL 381.765625 224.64 \n\" style=\"fill:none;stroke:#cccccc;stroke-linecap:round;stroke-width:0.8;\"/>\n     </g>\n     <g id=\"text_8\">\n      <!-- 0 -->\n      <g style=\"fill:#262626;\" transform=\"translate(33.603125 228.439219)scale(0.1 -0.1)\">\n       <use xlink:href=\"#DejaVuSans-48\"/>\n      </g>\n     </g>\n    </g>\n    <g id=\"ytick_2\">\n     <g id=\"line2d_8\">\n      <path clip-path=\"url(#p41ac3fda83)\" d=\"M 46.965625 187.922675 \nL 381.765625 187.922675 \n\" style=\"fill:none;stroke:#cccccc;stroke-linecap:round;stroke-width:0.8;\"/>\n     </g>\n     <g id=\"text_9\">\n      <!-- 100 -->\n      <g style=\"fill:#262626;\" transform=\"translate(20.878125 191.721894)scale(0.1 -0.1)\">\n       <use xlink:href=\"#DejaVuSans-49\"/>\n       <use x=\"63.623047\" xlink:href=\"#DejaVuSans-48\"/>\n       <use x=\"127.246094\" xlink:href=\"#DejaVuSans-48\"/>\n      </g>\n     </g>\n    </g>\n    <g id=\"ytick_3\">\n     <g id=\"line2d_9\">\n      <path clip-path=\"url(#p41ac3fda83)\" d=\"M 46.965625 151.20535 \nL 381.765625 151.20535 \n\" style=\"fill:none;stroke:#cccccc;stroke-linecap:round;stroke-width:0.8;\"/>\n     </g>\n     <g id=\"text_10\">\n      <!-- 200 -->\n      <g style=\"fill:#262626;\" transform=\"translate(20.878125 155.004568)scale(0.1 -0.1)\">\n       <use xlink:href=\"#DejaVuSans-50\"/>\n       <use x=\"63.623047\" xlink:href=\"#DejaVuSans-48\"/>\n       <use x=\"127.246094\" xlink:href=\"#DejaVuSans-48\"/>\n      </g>\n     </g>\n    </g>\n    <g id=\"ytick_4\">\n     <g id=\"line2d_10\">\n      <path clip-path=\"url(#p41ac3fda83)\" d=\"M 46.965625 114.488024 \nL 381.765625 114.488024 \n\" style=\"fill:none;stroke:#cccccc;stroke-linecap:round;stroke-width:0.8;\"/>\n     </g>\n     <g id=\"text_11\">\n      <!-- 300 -->\n      <g style=\"fill:#262626;\" transform=\"translate(20.878125 118.287243)scale(0.1 -0.1)\">\n       <defs>\n        <path d=\"M 40.578125 39.3125 \nQ 47.65625 37.796875 51.625 33 \nQ 55.609375 28.21875 55.609375 21.1875 \nQ 55.609375 10.40625 48.1875 4.484375 \nQ 40.765625 -1.421875 27.09375 -1.421875 \nQ 22.515625 -1.421875 17.65625 -0.515625 \nQ 12.796875 0.390625 7.625 2.203125 \nL 7.625 11.71875 \nQ 11.71875 9.328125 16.59375 8.109375 \nQ 21.484375 6.890625 26.8125 6.890625 \nQ 36.078125 6.890625 40.9375 10.546875 \nQ 45.796875 14.203125 45.796875 21.1875 \nQ 45.796875 27.640625 41.28125 31.265625 \nQ 36.765625 34.90625 28.71875 34.90625 \nL 20.21875 34.90625 \nL 20.21875 43.015625 \nL 29.109375 43.015625 \nQ 36.375 43.015625 40.234375 45.921875 \nQ 44.09375 48.828125 44.09375 54.296875 \nQ 44.09375 59.90625 40.109375 62.90625 \nQ 36.140625 65.921875 28.71875 65.921875 \nQ 24.65625 65.921875 20.015625 65.03125 \nQ 15.375 64.15625 9.8125 62.3125 \nL 9.8125 71.09375 \nQ 15.4375 72.65625 20.34375 73.4375 \nQ 25.25 74.21875 29.59375 74.21875 \nQ 40.828125 74.21875 47.359375 69.109375 \nQ 53.90625 64.015625 53.90625 55.328125 \nQ 53.90625 49.265625 50.4375 45.09375 \nQ 46.96875 40.921875 40.578125 39.3125 \nz\n\" id=\"DejaVuSans-51\"/>\n       </defs>\n       <use xlink:href=\"#DejaVuSans-51\"/>\n       <use x=\"63.623047\" xlink:href=\"#DejaVuSans-48\"/>\n       <use x=\"127.246094\" xlink:href=\"#DejaVuSans-48\"/>\n      </g>\n     </g>\n    </g>\n    <g id=\"ytick_5\">\n     <g id=\"line2d_11\">\n      <path clip-path=\"url(#p41ac3fda83)\" d=\"M 46.965625 77.770699 \nL 381.765625 77.770699 \n\" style=\"fill:none;stroke:#cccccc;stroke-linecap:round;stroke-width:0.8;\"/>\n     </g>\n     <g id=\"text_12\">\n      <!-- 400 -->\n      <g style=\"fill:#262626;\" transform=\"translate(20.878125 81.569918)scale(0.1 -0.1)\">\n       <use xlink:href=\"#DejaVuSans-52\"/>\n       <use x=\"63.623047\" xlink:href=\"#DejaVuSans-48\"/>\n       <use x=\"127.246094\" xlink:href=\"#DejaVuSans-48\"/>\n      </g>\n     </g>\n    </g>\n    <g id=\"ytick_6\">\n     <g id=\"line2d_12\">\n      <path clip-path=\"url(#p41ac3fda83)\" d=\"M 46.965625 41.053374 \nL 381.765625 41.053374 \n\" style=\"fill:none;stroke:#cccccc;stroke-linecap:round;stroke-width:0.8;\"/>\n     </g>\n     <g id=\"text_13\">\n      <!-- 500 -->\n      <g style=\"fill:#262626;\" transform=\"translate(20.878125 44.852593)scale(0.1 -0.1)\">\n       <defs>\n        <path d=\"M 10.796875 72.90625 \nL 49.515625 72.90625 \nL 49.515625 64.59375 \nL 19.828125 64.59375 \nL 19.828125 46.734375 \nQ 21.96875 47.46875 24.109375 47.828125 \nQ 26.265625 48.1875 28.421875 48.1875 \nQ 40.625 48.1875 47.75 41.5 \nQ 54.890625 34.8125 54.890625 23.390625 \nQ 54.890625 11.625 47.5625 5.09375 \nQ 40.234375 -1.421875 26.90625 -1.421875 \nQ 22.3125 -1.421875 17.546875 -0.640625 \nQ 12.796875 0.140625 7.71875 1.703125 \nL 7.71875 11.625 \nQ 12.109375 9.234375 16.796875 8.0625 \nQ 21.484375 6.890625 26.703125 6.890625 \nQ 35.15625 6.890625 40.078125 11.328125 \nQ 45.015625 15.765625 45.015625 23.390625 \nQ 45.015625 31 40.078125 35.4375 \nQ 35.15625 39.890625 26.703125 39.890625 \nQ 22.75 39.890625 18.8125 39.015625 \nQ 14.890625 38.140625 10.796875 36.28125 \nz\n\" id=\"DejaVuSans-53\"/>\n       </defs>\n       <use xlink:href=\"#DejaVuSans-53\"/>\n       <use x=\"63.623047\" xlink:href=\"#DejaVuSans-48\"/>\n       <use x=\"127.246094\" xlink:href=\"#DejaVuSans-48\"/>\n      </g>\n     </g>\n    </g>\n    <g id=\"text_14\">\n     <!-- Count -->\n     <g style=\"fill:#262626;\" transform=\"translate(14.798438 130.768438)rotate(-90)scale(0.1 -0.1)\">\n      <defs>\n       <path d=\"M 64.40625 67.28125 \nL 64.40625 56.890625 \nQ 59.421875 61.53125 53.78125 63.8125 \nQ 48.140625 66.109375 41.796875 66.109375 \nQ 29.296875 66.109375 22.65625 58.46875 \nQ 16.015625 50.828125 16.015625 36.375 \nQ 16.015625 21.96875 22.65625 14.328125 \nQ 29.296875 6.6875 41.796875 6.6875 \nQ 48.140625 6.6875 53.78125 8.984375 \nQ 59.421875 11.28125 64.40625 15.921875 \nL 64.40625 5.609375 \nQ 59.234375 2.09375 53.4375 0.328125 \nQ 47.65625 -1.421875 41.21875 -1.421875 \nQ 24.65625 -1.421875 15.125 8.703125 \nQ 5.609375 18.84375 5.609375 36.375 \nQ 5.609375 53.953125 15.125 64.078125 \nQ 24.65625 74.21875 41.21875 74.21875 \nQ 47.75 74.21875 53.53125 72.484375 \nQ 59.328125 70.75 64.40625 67.28125 \nz\n\" id=\"DejaVuSans-67\"/>\n       <path d=\"M 18.3125 70.21875 \nL 18.3125 54.6875 \nL 36.8125 54.6875 \nL 36.8125 47.703125 \nL 18.3125 47.703125 \nL 18.3125 18.015625 \nQ 18.3125 11.328125 20.140625 9.421875 \nQ 21.96875 7.515625 27.59375 7.515625 \nL 36.8125 7.515625 \nL 36.8125 0 \nL 27.59375 0 \nQ 17.1875 0 13.234375 3.875 \nQ 9.28125 7.765625 9.28125 18.015625 \nL 9.28125 47.703125 \nL 2.6875 47.703125 \nL 2.6875 54.6875 \nL 9.28125 54.6875 \nL 9.28125 70.21875 \nz\n\" id=\"DejaVuSans-116\"/>\n      </defs>\n      <use xlink:href=\"#DejaVuSans-67\"/>\n      <use x=\"69.824219\" xlink:href=\"#DejaVuSans-111\"/>\n      <use x=\"131.005859\" xlink:href=\"#DejaVuSans-117\"/>\n      <use x=\"194.384766\" xlink:href=\"#DejaVuSans-110\"/>\n      <use x=\"257.763672\" xlink:href=\"#DejaVuSans-116\"/>\n     </g>\n    </g>\n   </g>\n   <g id=\"patch_3\">\n    <path clip-path=\"url(#p41ac3fda83)\" d=\"M 62.183807 224.64 \nL 83.924067 224.64 \nL 83.924067 17.554286 \nL 62.183807 17.554286 \nz\n\" style=\"fill:#1f77b4;fill-opacity:0.75;stroke:#ffffff;stroke-linejoin:miter;\"/>\n   </g>\n   <g id=\"patch_4\">\n    <path clip-path=\"url(#p41ac3fda83)\" d=\"M 83.924067 224.64 \nL 105.664326 224.64 \nL 105.664326 88.785897 \nL 83.924067 88.785897 \nz\n\" style=\"fill:#1f77b4;fill-opacity:0.75;stroke:#ffffff;stroke-linejoin:miter;\"/>\n   </g>\n   <g id=\"patch_5\">\n    <path clip-path=\"url(#p41ac3fda83)\" d=\"M 105.664326 224.64 \nL 127.404586 224.64 \nL 127.404586 165.525106 \nL 105.664326 165.525106 \nz\n\" style=\"fill:#1f77b4;fill-opacity:0.75;stroke:#ffffff;stroke-linejoin:miter;\"/>\n   </g>\n   <g id=\"patch_6\">\n    <path clip-path=\"url(#p41ac3fda83)\" d=\"M 127.404586 224.64 \nL 149.144846 224.64 \nL 149.144846 167.360973 \nL 127.404586 167.360973 \nz\n\" style=\"fill:#1f77b4;fill-opacity:0.75;stroke:#ffffff;stroke-linejoin:miter;\"/>\n   </g>\n   <g id=\"patch_7\">\n    <path clip-path=\"url(#p41ac3fda83)\" d=\"M 149.144846 224.64 \nL 170.885106 224.64 \nL 170.885106 177.641824 \nL 149.144846 177.641824 \nz\n\" style=\"fill:#1f77b4;fill-opacity:0.75;stroke:#ffffff;stroke-linejoin:miter;\"/>\n   </g>\n   <g id=\"patch_8\">\n    <path clip-path=\"url(#p41ac3fda83)\" d=\"M 170.885106 224.64 \nL 192.625365 224.64 \nL 192.625365 194.531793 \nL 170.885106 194.531793 \nz\n\" style=\"fill:#1f77b4;fill-opacity:0.75;stroke:#ffffff;stroke-linejoin:miter;\"/>\n   </g>\n   <g id=\"patch_9\">\n    <path clip-path=\"url(#p41ac3fda83)\" d=\"M 192.625365 224.64 \nL 214.365625 224.64 \nL 214.365625 206.281337 \nL 192.625365 206.281337 \nz\n\" style=\"fill:#1f77b4;fill-opacity:0.75;stroke:#ffffff;stroke-linejoin:miter;\"/>\n   </g>\n   <g id=\"patch_10\">\n    <path clip-path=\"url(#p41ac3fda83)\" d=\"M 214.365625 224.64 \nL 236.105885 224.64 \nL 236.105885 165.157933 \nL 214.365625 165.157933 \nz\n\" style=\"fill:#1f77b4;fill-opacity:0.75;stroke:#ffffff;stroke-linejoin:miter;\"/>\n   </g>\n   <g id=\"patch_11\">\n    <path clip-path=\"url(#p41ac3fda83)\" d=\"M 236.105885 224.64 \nL 257.846144 224.64 \nL 257.846144 201.140912 \nL 236.105885 201.140912 \nz\n\" style=\"fill:#1f77b4;fill-opacity:0.75;stroke:#ffffff;stroke-linejoin:miter;\"/>\n   </g>\n   <g id=\"patch_12\">\n    <path clip-path=\"url(#p41ac3fda83)\" d=\"M 257.846144 224.64 \nL 279.586404 224.64 \nL 279.586404 224.64 \nL 257.846144 224.64 \nz\n\" style=\"fill:#1f77b4;fill-opacity:0.75;stroke:#ffffff;stroke-linejoin:miter;\"/>\n   </g>\n   <g id=\"patch_13\">\n    <path clip-path=\"url(#p41ac3fda83)\" d=\"M 279.586404 224.64 \nL 301.326664 224.64 \nL 301.326664 196.36766 \nL 279.586404 196.36766 \nz\n\" style=\"fill:#1f77b4;fill-opacity:0.75;stroke:#ffffff;stroke-linejoin:miter;\"/>\n   </g>\n   <g id=\"patch_14\">\n    <path clip-path=\"url(#p41ac3fda83)\" d=\"M 301.326664 224.64 \nL 323.066924 224.64 \nL 323.066924 224.64 \nL 301.326664 224.64 \nz\n\" style=\"fill:#1f77b4;fill-opacity:0.75;stroke:#ffffff;stroke-linejoin:miter;\"/>\n   </g>\n   <g id=\"patch_15\">\n    <path clip-path=\"url(#p41ac3fda83)\" d=\"M 323.066924 224.64 \nL 344.807183 224.64 \nL 344.807183 157.080122 \nL 323.066924 157.080122 \nz\n\" style=\"fill:#1f77b4;fill-opacity:0.75;stroke:#ffffff;stroke-linejoin:miter;\"/>\n   </g>\n   <g id=\"patch_16\">\n    <path clip-path=\"url(#p41ac3fda83)\" d=\"M 344.807183 224.64 \nL 366.547443 224.64 \nL 366.547443 186.821155 \nL 344.807183 186.821155 \nz\n\" style=\"fill:#1f77b4;fill-opacity:0.75;stroke:#ffffff;stroke-linejoin:miter;\"/>\n   </g>\n   <g id=\"patch_17\">\n    <path clip-path=\"url(#p41ac3fda83)\" d=\"M 62.183807 224.64 \nL 69.43056 224.64 \nL 69.43056 146.064924 \nL 62.183807 146.064924 \nz\n\" style=\"fill:#1f77b4;fill-opacity:0.75;stroke:#ffffff;stroke-linejoin:miter;stroke-width:0.724675;\"/>\n   </g>\n   <g id=\"patch_18\">\n    <path clip-path=\"url(#p41ac3fda83)\" d=\"M 69.43056 224.64 \nL 76.677313 224.64 \nL 76.677313 170.298359 \nL 69.43056 170.298359 \nz\n\" style=\"fill:#1f77b4;fill-opacity:0.75;stroke:#ffffff;stroke-linejoin:miter;stroke-width:0.724675;\"/>\n   </g>\n   <g id=\"patch_19\">\n    <path clip-path=\"url(#p41ac3fda83)\" d=\"M 76.677313 224.64 \nL 83.924067 224.64 \nL 83.924067 187.555502 \nL 76.677313 187.555502 \nz\n\" style=\"fill:#1f77b4;fill-opacity:0.75;stroke:#ffffff;stroke-linejoin:miter;stroke-width:0.724675;\"/>\n   </g>\n   <g id=\"patch_20\">\n    <path clip-path=\"url(#p41ac3fda83)\" d=\"M 83.924067 224.64 \nL 91.17082 224.64 \nL 91.17082 214.359149 \nL 83.924067 214.359149 \nz\n\" style=\"fill:#1f77b4;fill-opacity:0.75;stroke:#ffffff;stroke-linejoin:miter;stroke-width:0.724675;\"/>\n   </g>\n   <g id=\"patch_21\">\n    <path clip-path=\"url(#p41ac3fda83)\" d=\"M 91.17082 224.64 \nL 98.417573 224.64 \nL 98.417573 161.853374 \nL 91.17082 161.853374 \nz\n\" style=\"fill:#1f77b4;fill-opacity:0.75;stroke:#ffffff;stroke-linejoin:miter;stroke-width:0.724675;\"/>\n   </g>\n   <g id=\"patch_22\">\n    <path clip-path=\"url(#p41ac3fda83)\" d=\"M 98.417573 224.64 \nL 105.664326 224.64 \nL 105.664326 208.117204 \nL 98.417573 208.117204 \nz\n\" style=\"fill:#1f77b4;fill-opacity:0.75;stroke:#ffffff;stroke-linejoin:miter;stroke-width:0.724675;\"/>\n   </g>\n   <g id=\"patch_23\">\n    <path clip-path=\"url(#p41ac3fda83)\" d=\"M 105.664326 224.64 \nL 112.91108 224.64 \nL 112.91108 213.991976 \nL 105.664326 213.991976 \nz\n\" style=\"fill:#1f77b4;fill-opacity:0.75;stroke:#ffffff;stroke-linejoin:miter;stroke-width:0.724675;\"/>\n   </g>\n   <g id=\"patch_24\">\n    <path clip-path=\"url(#p41ac3fda83)\" d=\"M 112.91108 224.64 \nL 120.157833 224.64 \nL 120.157833 72.997447 \nL 112.91108 72.997447 \nz\n\" style=\"fill:#1f77b4;fill-opacity:0.75;stroke:#ffffff;stroke-linejoin:miter;stroke-width:0.724675;\"/>\n   </g>\n   <g id=\"patch_25\">\n    <path clip-path=\"url(#p41ac3fda83)\" d=\"M 120.157833 224.64 \nL 127.404586 224.64 \nL 127.404586 224.64 \nL 120.157833 224.64 \nz\n\" style=\"fill:#1f77b4;fill-opacity:0.75;stroke:#ffffff;stroke-linejoin:miter;stroke-width:0.724675;\"/>\n   </g>\n   <g id=\"patch_26\">\n    <path clip-path=\"url(#p41ac3fda83)\" d=\"M 127.404586 224.64 \nL 134.651339 224.64 \nL 134.651339 224.64 \nL 127.404586 224.64 \nz\n\" style=\"fill:#1f77b4;fill-opacity:0.75;stroke:#ffffff;stroke-linejoin:miter;stroke-width:0.724675;\"/>\n   </g>\n   <g id=\"patch_27\">\n    <path clip-path=\"url(#p41ac3fda83)\" d=\"M 134.651339 224.64 \nL 141.898093 224.64 \nL 141.898093 224.64 \nL 134.651339 224.64 \nz\n\" style=\"fill:#1f77b4;fill-opacity:0.75;stroke:#ffffff;stroke-linejoin:miter;stroke-width:0.724675;\"/>\n   </g>\n   <g id=\"patch_28\">\n    <path clip-path=\"url(#p41ac3fda83)\" d=\"M 141.898093 224.64 \nL 149.144846 224.64 \nL 149.144846 224.64 \nL 141.898093 224.64 \nz\n\" style=\"fill:#1f77b4;fill-opacity:0.75;stroke:#ffffff;stroke-linejoin:miter;stroke-width:0.724675;\"/>\n   </g>\n   <g id=\"patch_29\">\n    <path clip-path=\"url(#p41ac3fda83)\" d=\"M 149.144846 224.64 \nL 156.391599 224.64 \nL 156.391599 224.64 \nL 149.144846 224.64 \nz\n\" style=\"fill:#1f77b4;fill-opacity:0.75;stroke:#ffffff;stroke-linejoin:miter;stroke-width:0.724675;\"/>\n   </g>\n   <g id=\"patch_30\">\n    <path clip-path=\"url(#p41ac3fda83)\" d=\"M 156.391599 224.64 \nL 163.638352 224.64 \nL 163.638352 212.156109 \nL 156.391599 212.156109 \nz\n\" style=\"fill:#1f77b4;fill-opacity:0.75;stroke:#ffffff;stroke-linejoin:miter;stroke-width:0.724675;\"/>\n   </g>\n   <g id=\"patch_31\">\n    <path clip-path=\"url(#p41ac3fda83)\" d=\"M 62.183807 224.64 \nL 83.071507 224.64 \nL 83.071507 201.140912 \nL 62.183807 201.140912 \nz\n\" style=\"fill:#1f77b4;fill-opacity:0.75;stroke:#ffffff;stroke-linejoin:miter;\"/>\n   </g>\n   <g id=\"patch_32\">\n    <path clip-path=\"url(#p41ac3fda83)\" d=\"M 83.071507 224.64 \nL 103.959208 224.64 \nL 103.959208 196.734833 \nL 83.071507 196.734833 \nz\n\" style=\"fill:#1f77b4;fill-opacity:0.75;stroke:#ffffff;stroke-linejoin:miter;\"/>\n   </g>\n   <g id=\"patch_33\">\n    <path clip-path=\"url(#p41ac3fda83)\" d=\"M 103.959208 224.64 \nL 124.846908 224.64 \nL 124.846908 209.95307 \nL 103.959208 209.95307 \nz\n\" style=\"fill:#1f77b4;fill-opacity:0.75;stroke:#ffffff;stroke-linejoin:miter;\"/>\n   </g>\n   <g id=\"patch_34\">\n    <path clip-path=\"url(#p41ac3fda83)\" d=\"M 124.846908 224.64 \nL 145.734609 224.64 \nL 145.734609 224.64 \nL 124.846908 224.64 \nz\n\" style=\"fill:#1f77b4;fill-opacity:0.75;stroke:#ffffff;stroke-linejoin:miter;\"/>\n   </g>\n   <g id=\"patch_35\">\n    <path clip-path=\"url(#p41ac3fda83)\" d=\"M 145.734609 224.64 \nL 166.622309 224.64 \nL 166.622309 220.601094 \nL 145.734609 220.601094 \nz\n\" style=\"fill:#1f77b4;fill-opacity:0.75;stroke:#ffffff;stroke-linejoin:miter;\"/>\n   </g>\n   <g id=\"patch_36\">\n    <path clip-path=\"url(#p41ac3fda83)\" d=\"M 166.622309 224.64 \nL 187.51001 224.64 \nL 187.51001 224.64 \nL 166.622309 224.64 \nz\n\" style=\"fill:#1f77b4;fill-opacity:0.75;stroke:#ffffff;stroke-linejoin:miter;\"/>\n   </g>\n   <g id=\"patch_37\">\n    <path clip-path=\"url(#p41ac3fda83)\" d=\"M 187.51001 224.64 \nL 208.397711 224.64 \nL 208.397711 219.132401 \nL 187.51001 219.132401 \nz\n\" style=\"fill:#1f77b4;fill-opacity:0.75;stroke:#ffffff;stroke-linejoin:miter;\"/>\n   </g>\n   <g id=\"patch_38\">\n    <path clip-path=\"url(#p41ac3fda83)\" d=\"M 208.397711 224.64 \nL 229.285411 224.64 \nL 229.285411 224.64 \nL 208.397711 224.64 \nz\n\" style=\"fill:#1f77b4;fill-opacity:0.75;stroke:#ffffff;stroke-linejoin:miter;\"/>\n   </g>\n   <g id=\"patch_39\">\n    <path clip-path=\"url(#p41ac3fda83)\" d=\"M 229.285411 224.64 \nL 250.173112 224.64 \nL 250.173112 224.64 \nL 229.285411 224.64 \nz\n\" style=\"fill:#1f77b4;fill-opacity:0.75;stroke:#ffffff;stroke-linejoin:miter;\"/>\n   </g>\n   <g id=\"patch_40\">\n    <path clip-path=\"url(#p41ac3fda83)\" d=\"M 250.173112 224.64 \nL 271.060812 224.64 \nL 271.060812 151.20535 \nL 250.173112 151.20535 \nz\n\" style=\"fill:#1f77b4;fill-opacity:0.75;stroke:#ffffff;stroke-linejoin:miter;\"/>\n   </g>\n   <g id=\"patch_41\">\n    <path d=\"M 46.965625 224.64 \nL 46.965625 7.2 \n\" style=\"fill:none;stroke:#cccccc;stroke-linecap:square;stroke-linejoin:miter;stroke-width:0.8;\"/>\n   </g>\n   <g id=\"patch_42\">\n    <path d=\"M 381.765625 224.64 \nL 381.765625 7.2 \n\" style=\"fill:none;stroke:#cccccc;stroke-linecap:square;stroke-linejoin:miter;stroke-width:0.8;\"/>\n   </g>\n   <g id=\"patch_43\">\n    <path d=\"M 46.965625 224.64 \nL 381.765625 224.64 \n\" style=\"fill:none;stroke:#cccccc;stroke-linecap:square;stroke-linejoin:miter;stroke-width:0.8;\"/>\n   </g>\n   <g id=\"patch_44\">\n    <path d=\"M 46.965625 7.2 \nL 381.765625 7.2 \n\" style=\"fill:none;stroke:#cccccc;stroke-linecap:square;stroke-linejoin:miter;stroke-width:0.8;\"/>\n   </g>\n  </g>\n </g>\n <defs>\n  <clipPath id=\"p41ac3fda83\">\n   <rect height=\"217.44\" width=\"334.8\" x=\"46.965625\" y=\"7.2\"/>\n  </clipPath>\n </defs>\n</svg>\n",
      "image/png": "[encoded data removed]"
     },
     "metadata": {}
    }
   ],
   "metadata": {}
  },
  {
   "cell_type": "code",
   "execution_count": 32,
   "source": [
    "data_cv"
   ],
   "outputs": [
    {
     "output_type": "execute_result",
     "data": {
      "text/plain": [
       "             class  src_id  num_obs      sepn                    name  \\\n",
       "obs_id                                                                  \n",
       "CV_0_obs_0      CV    CV_0       25  0.157954   2CXO J004247.1+411619   \n",
       "CV_0_obs_1      CV    CV_0       25  0.157954   2CXO J004247.1+411619   \n",
       "CV_0_obs_2      CV    CV_0       25  0.157954   2CXO J004247.1+411619   \n",
       "CV_0_obs_3      CV    CV_0       25  0.157954   2CXO J004247.1+411619   \n",
       "CV_0_obs_4      CV    CV_0       25  0.157954   2CXO J004247.1+411619   \n",
       "...            ...     ...      ...       ...                     ...   \n",
       "CV_309_obs_0    CV  CV_309        1  0.877141   2CXO J174311.1-271622   \n",
       "CV_310_obs_0    CV  CV_310        1  3.687046   2CXO J040556.8+714816   \n",
       "CV_311_obs_0    CV  CV_311        1  0.073509   2CXO J191051.9-595840   \n",
       "CV_312_obs_0    CV  CV_312        1  0.891817   2CXO J105545.1+573108   \n",
       "CV_313_obs_0    CV  CV_313        1  0.268618   2CXO J201536.9+371123   \n",
       "\n",
       "                     ra       dec  livetime  significance   likelihood  ...  \\\n",
       "obs_id                                                                  ...   \n",
       "CV_0_obs_0     10.69654  41.27215    4103.7         52.93  16618.73000  ...   \n",
       "CV_0_obs_1     10.69654  41.27215    3907.5         52.93  16618.73000  ...   \n",
       "CV_0_obs_2     10.69654  41.27215    3907.5         52.93  16618.73000  ...   \n",
       "CV_0_obs_3     10.69654  41.27215    3904.6         52.93  16618.73000  ...   \n",
       "CV_0_obs_4     10.69654  41.27215    3907.5         52.93  16618.73000  ...   \n",
       "...                 ...       ...       ...           ...          ...  ...   \n",
       "CV_309_obs_0  265.79630 -27.27295    2156.9          2.53     20.88602  ...   \n",
       "CV_310_obs_0   61.48706  71.80466   28678.8          4.86     53.30116  ...   \n",
       "CV_311_obs_0  287.71650 -59.97791   37966.9          2.61     27.11662  ...   \n",
       "CV_312_obs_0  163.93810  57.51916    5683.9          3.17     38.66024  ...   \n",
       "CV_313_obs_0  303.90390  37.18973   69268.4         78.58  41737.86000  ...   \n",
       "\n",
       "              var_inter_sigma_h  var_inter_index_m  var_inter_prob_m  \\\n",
       "obs_id                                                                 \n",
       "CV_0_obs_0                  NaN                NaN               NaN   \n",
       "CV_0_obs_1                  NaN                NaN               NaN   \n",
       "CV_0_obs_2                  NaN                NaN               NaN   \n",
       "CV_0_obs_3                  NaN                NaN               NaN   \n",
       "CV_0_obs_4                  NaN                NaN               NaN   \n",
       "...                         ...                ...               ...   \n",
       "CV_309_obs_0           0.000004                5.0             0.802   \n",
       "CV_310_obs_0                NaN                NaN               NaN   \n",
       "CV_311_obs_0                NaN                6.0             0.983   \n",
       "CV_312_obs_0                NaN                NaN               NaN   \n",
       "CV_313_obs_0                NaN                NaN               NaN   \n",
       "\n",
       "              var_inter_sigma_m  var_inter_index_s  var_inter_prob_s  \\\n",
       "obs_id                                                                 \n",
       "CV_0_obs_0                  NaN                5.0             0.989   \n",
       "CV_0_obs_1                  NaN                5.0             0.989   \n",
       "CV_0_obs_2                  NaN                5.0             0.989   \n",
       "CV_0_obs_3                  NaN                5.0             0.989   \n",
       "CV_0_obs_4                  NaN                5.0             0.989   \n",
       "...                         ...                ...               ...   \n",
       "CV_309_obs_0       1.246000e-06                NaN               NaN   \n",
       "CV_310_obs_0                NaN                NaN               NaN   \n",
       "CV_311_obs_0       1.822000e-07                5.0             0.774   \n",
       "CV_312_obs_0                NaN                NaN               NaN   \n",
       "CV_313_obs_0                NaN                NaN               NaN   \n",
       "\n",
       "              var_inter_sigma_s  var_inter_index_u  var_inter_prob_u  \\\n",
       "obs_id                                                                 \n",
       "CV_0_obs_0         2.546000e-05                NaN               NaN   \n",
       "CV_0_obs_1         2.546000e-05                NaN               NaN   \n",
       "CV_0_obs_2         2.546000e-05                NaN               NaN   \n",
       "CV_0_obs_3         2.546000e-05                NaN               NaN   \n",
       "CV_0_obs_4         2.546000e-05                NaN               NaN   \n",
       "...                         ...                ...               ...   \n",
       "CV_309_obs_0                NaN                NaN               NaN   \n",
       "CV_310_obs_0                NaN                NaN               NaN   \n",
       "CV_311_obs_0       1.036000e-07                NaN               NaN   \n",
       "CV_312_obs_0                NaN                NaN               NaN   \n",
       "CV_313_obs_0                NaN                NaN               NaN   \n",
       "\n",
       "              var_inter_sigma_u  \n",
       "obs_id                           \n",
       "CV_0_obs_0                  NaN  \n",
       "CV_0_obs_1                  NaN  \n",
       "CV_0_obs_2                  NaN  \n",
       "CV_0_obs_3                  NaN  \n",
       "CV_0_obs_4                  NaN  \n",
       "...                         ...  \n",
       "CV_309_obs_0                NaN  \n",
       "CV_310_obs_0                NaN  \n",
       "CV_311_obs_0                NaN  \n",
       "CV_312_obs_0                NaN  \n",
       "CV_313_obs_0                NaN  \n",
       "\n",
       "[2101 rows x 87 columns]"
      ],
      "text/html": [
       "<div>\n",
       "<style scoped>\n",
       "    .dataframe tbody tr th:only-of-type {\n",
       "        vertical-align: middle;\n",
       "    }\n",
       "\n",
       "    .dataframe tbody tr th {\n",
       "        vertical-align: top;\n",
       "    }\n",
       "\n",
       "    .dataframe thead th {\n",
       "        text-align: right;\n",
       "    }\n",
       "</style>\n",
       "<table border=\"1\" class=\"dataframe\">\n",
       "  <thead>\n",
       "    <tr style=\"text-align: right;\">\n",
       "      <th></th>\n",
       "      <th>class</th>\n",
       "      <th>src_id</th>\n",
       "      <th>num_obs</th>\n",
       "      <th>sepn</th>\n",
       "      <th>name</th>\n",
       "      <th>ra</th>\n",
       "      <th>dec</th>\n",
       "      <th>livetime</th>\n",
       "      <th>significance</th>\n",
       "      <th>likelihood</th>\n",
       "      <th>...</th>\n",
       "      <th>var_inter_sigma_h</th>\n",
       "      <th>var_inter_index_m</th>\n",
       "      <th>var_inter_prob_m</th>\n",
       "      <th>var_inter_sigma_m</th>\n",
       "      <th>var_inter_index_s</th>\n",
       "      <th>var_inter_prob_s</th>\n",
       "      <th>var_inter_sigma_s</th>\n",
       "      <th>var_inter_index_u</th>\n",
       "      <th>var_inter_prob_u</th>\n",
       "      <th>var_inter_sigma_u</th>\n",
       "    </tr>\n",
       "    <tr>\n",
       "      <th>obs_id</th>\n",
       "      <th></th>\n",
       "      <th></th>\n",
       "      <th></th>\n",
       "      <th></th>\n",
       "      <th></th>\n",
       "      <th></th>\n",
       "      <th></th>\n",
       "      <th></th>\n",
       "      <th></th>\n",
       "      <th></th>\n",
       "      <th></th>\n",
       "      <th></th>\n",
       "      <th></th>\n",
       "      <th></th>\n",
       "      <th></th>\n",
       "      <th></th>\n",
       "      <th></th>\n",
       "      <th></th>\n",
       "      <th></th>\n",
       "      <th></th>\n",
       "      <th></th>\n",
       "    </tr>\n",
       "  </thead>\n",
       "  <tbody>\n",
       "    <tr>\n",
       "      <th>CV_0_obs_0</th>\n",
       "      <td>CV</td>\n",
       "      <td>CV_0</td>\n",
       "      <td>25</td>\n",
       "      <td>0.157954</td>\n",
       "      <td>2CXO J004247.1+411619</td>\n",
       "      <td>10.69654</td>\n",
       "      <td>41.27215</td>\n",
       "      <td>4103.7</td>\n",
       "      <td>52.93</td>\n",
       "      <td>16618.73000</td>\n",
       "      <td>...</td>\n",
       "      <td>NaN</td>\n",
       "      <td>NaN</td>\n",
       "      <td>NaN</td>\n",
       "      <td>NaN</td>\n",
       "      <td>5.0</td>\n",
       "      <td>0.989</td>\n",
       "      <td>2.546000e-05</td>\n",
       "      <td>NaN</td>\n",
       "      <td>NaN</td>\n",
       "      <td>NaN</td>\n",
       "    </tr>\n",
       "    <tr>\n",
       "      <th>CV_0_obs_1</th>\n",
       "      <td>CV</td>\n",
       "      <td>CV_0</td>\n",
       "      <td>25</td>\n",
       "      <td>0.157954</td>\n",
       "      <td>2CXO J004247.1+411619</td>\n",
       "      <td>10.69654</td>\n",
       "      <td>41.27215</td>\n",
       "      <td>3907.5</td>\n",
       "      <td>52.93</td>\n",
       "      <td>16618.73000</td>\n",
       "      <td>...</td>\n",
       "      <td>NaN</td>\n",
       "      <td>NaN</td>\n",
       "      <td>NaN</td>\n",
       "      <td>NaN</td>\n",
       "      <td>5.0</td>\n",
       "      <td>0.989</td>\n",
       "      <td>2.546000e-05</td>\n",
       "      <td>NaN</td>\n",
       "      <td>NaN</td>\n",
       "      <td>NaN</td>\n",
       "    </tr>\n",
       "    <tr>\n",
       "      <th>CV_0_obs_2</th>\n",
       "      <td>CV</td>\n",
       "      <td>CV_0</td>\n",
       "      <td>25</td>\n",
       "      <td>0.157954</td>\n",
       "      <td>2CXO J004247.1+411619</td>\n",
       "      <td>10.69654</td>\n",
       "      <td>41.27215</td>\n",
       "      <td>3907.5</td>\n",
       "      <td>52.93</td>\n",
       "      <td>16618.73000</td>\n",
       "      <td>...</td>\n",
       "      <td>NaN</td>\n",
       "      <td>NaN</td>\n",
       "      <td>NaN</td>\n",
       "      <td>NaN</td>\n",
       "      <td>5.0</td>\n",
       "      <td>0.989</td>\n",
       "      <td>2.546000e-05</td>\n",
       "      <td>NaN</td>\n",
       "      <td>NaN</td>\n",
       "      <td>NaN</td>\n",
       "    </tr>\n",
       "    <tr>\n",
       "      <th>CV_0_obs_3</th>\n",
       "      <td>CV</td>\n",
       "      <td>CV_0</td>\n",
       "      <td>25</td>\n",
       "      <td>0.157954</td>\n",
       "      <td>2CXO J004247.1+411619</td>\n",
       "      <td>10.69654</td>\n",
       "      <td>41.27215</td>\n",
       "      <td>3904.6</td>\n",
       "      <td>52.93</td>\n",
       "      <td>16618.73000</td>\n",
       "      <td>...</td>\n",
       "      <td>NaN</td>\n",
       "      <td>NaN</td>\n",
       "      <td>NaN</td>\n",
       "      <td>NaN</td>\n",
       "      <td>5.0</td>\n",
       "      <td>0.989</td>\n",
       "      <td>2.546000e-05</td>\n",
       "      <td>NaN</td>\n",
       "      <td>NaN</td>\n",
       "      <td>NaN</td>\n",
       "    </tr>\n",
       "    <tr>\n",
       "      <th>CV_0_obs_4</th>\n",
       "      <td>CV</td>\n",
       "      <td>CV_0</td>\n",
       "      <td>25</td>\n",
       "      <td>0.157954</td>\n",
       "      <td>2CXO J004247.1+411619</td>\n",
       "      <td>10.69654</td>\n",
       "      <td>41.27215</td>\n",
       "      <td>3907.5</td>\n",
       "      <td>52.93</td>\n",
       "      <td>16618.73000</td>\n",
       "      <td>...</td>\n",
       "      <td>NaN</td>\n",
       "      <td>NaN</td>\n",
       "      <td>NaN</td>\n",
       "      <td>NaN</td>\n",
       "      <td>5.0</td>\n",
       "      <td>0.989</td>\n",
       "      <td>2.546000e-05</td>\n",
       "      <td>NaN</td>\n",
       "      <td>NaN</td>\n",
       "      <td>NaN</td>\n",
       "    </tr>\n",
       "    <tr>\n",
       "      <th>...</th>\n",
       "      <td>...</td>\n",
       "      <td>...</td>\n",
       "      <td>...</td>\n",
       "      <td>...</td>\n",
       "      <td>...</td>\n",
       "      <td>...</td>\n",
       "      <td>...</td>\n",
       "      <td>...</td>\n",
       "      <td>...</td>\n",
       "      <td>...</td>\n",
       "      <td>...</td>\n",
       "      <td>...</td>\n",
       "      <td>...</td>\n",
       "      <td>...</td>\n",
       "      <td>...</td>\n",
       "      <td>...</td>\n",
       "      <td>...</td>\n",
       "      <td>...</td>\n",
       "      <td>...</td>\n",
       "      <td>...</td>\n",
       "      <td>...</td>\n",
       "    </tr>\n",
       "    <tr>\n",
       "      <th>CV_309_obs_0</th>\n",
       "      <td>CV</td>\n",
       "      <td>CV_309</td>\n",
       "      <td>1</td>\n",
       "      <td>0.877141</td>\n",
       "      <td>2CXO J174311.1-271622</td>\n",
       "      <td>265.79630</td>\n",
       "      <td>-27.27295</td>\n",
       "      <td>2156.9</td>\n",
       "      <td>2.53</td>\n",
       "      <td>20.88602</td>\n",
       "      <td>...</td>\n",
       "      <td>0.000004</td>\n",
       "      <td>5.0</td>\n",
       "      <td>0.802</td>\n",
       "      <td>1.246000e-06</td>\n",
       "      <td>NaN</td>\n",
       "      <td>NaN</td>\n",
       "      <td>NaN</td>\n",
       "      <td>NaN</td>\n",
       "      <td>NaN</td>\n",
       "      <td>NaN</td>\n",
       "    </tr>\n",
       "    <tr>\n",
       "      <th>CV_310_obs_0</th>\n",
       "      <td>CV</td>\n",
       "      <td>CV_310</td>\n",
       "      <td>1</td>\n",
       "      <td>3.687046</td>\n",
       "      <td>2CXO J040556.8+714816</td>\n",
       "      <td>61.48706</td>\n",
       "      <td>71.80466</td>\n",
       "      <td>28678.8</td>\n",
       "      <td>4.86</td>\n",
       "      <td>53.30116</td>\n",
       "      <td>...</td>\n",
       "      <td>NaN</td>\n",
       "      <td>NaN</td>\n",
       "      <td>NaN</td>\n",
       "      <td>NaN</td>\n",
       "      <td>NaN</td>\n",
       "      <td>NaN</td>\n",
       "      <td>NaN</td>\n",
       "      <td>NaN</td>\n",
       "      <td>NaN</td>\n",
       "      <td>NaN</td>\n",
       "    </tr>\n",
       "    <tr>\n",
       "      <th>CV_311_obs_0</th>\n",
       "      <td>CV</td>\n",
       "      <td>CV_311</td>\n",
       "      <td>1</td>\n",
       "      <td>0.073509</td>\n",
       "      <td>2CXO J191051.9-595840</td>\n",
       "      <td>287.71650</td>\n",
       "      <td>-59.97791</td>\n",
       "      <td>37966.9</td>\n",
       "      <td>2.61</td>\n",
       "      <td>27.11662</td>\n",
       "      <td>...</td>\n",
       "      <td>NaN</td>\n",
       "      <td>6.0</td>\n",
       "      <td>0.983</td>\n",
       "      <td>1.822000e-07</td>\n",
       "      <td>5.0</td>\n",
       "      <td>0.774</td>\n",
       "      <td>1.036000e-07</td>\n",
       "      <td>NaN</td>\n",
       "      <td>NaN</td>\n",
       "      <td>NaN</td>\n",
       "    </tr>\n",
       "    <tr>\n",
       "      <th>CV_312_obs_0</th>\n",
       "      <td>CV</td>\n",
       "      <td>CV_312</td>\n",
       "      <td>1</td>\n",
       "      <td>0.891817</td>\n",
       "      <td>2CXO J105545.1+573108</td>\n",
       "      <td>163.93810</td>\n",
       "      <td>57.51916</td>\n",
       "      <td>5683.9</td>\n",
       "      <td>3.17</td>\n",
       "      <td>38.66024</td>\n",
       "      <td>...</td>\n",
       "      <td>NaN</td>\n",
       "      <td>NaN</td>\n",
       "      <td>NaN</td>\n",
       "      <td>NaN</td>\n",
       "      <td>NaN</td>\n",
       "      <td>NaN</td>\n",
       "      <td>NaN</td>\n",
       "      <td>NaN</td>\n",
       "      <td>NaN</td>\n",
       "      <td>NaN</td>\n",
       "    </tr>\n",
       "    <tr>\n",
       "      <th>CV_313_obs_0</th>\n",
       "      <td>CV</td>\n",
       "      <td>CV_313</td>\n",
       "      <td>1</td>\n",
       "      <td>0.268618</td>\n",
       "      <td>2CXO J201536.9+371123</td>\n",
       "      <td>303.90390</td>\n",
       "      <td>37.18973</td>\n",
       "      <td>69268.4</td>\n",
       "      <td>78.58</td>\n",
       "      <td>41737.86000</td>\n",
       "      <td>...</td>\n",
       "      <td>NaN</td>\n",
       "      <td>NaN</td>\n",
       "      <td>NaN</td>\n",
       "      <td>NaN</td>\n",
       "      <td>NaN</td>\n",
       "      <td>NaN</td>\n",
       "      <td>NaN</td>\n",
       "      <td>NaN</td>\n",
       "      <td>NaN</td>\n",
       "      <td>NaN</td>\n",
       "    </tr>\n",
       "  </tbody>\n",
       "</table>\n",
       "<p>2101 rows × 87 columns</p>\n",
       "</div>"
      ]
     },
     "metadata": {},
     "execution_count": 32
    }
   ],
   "metadata": {}
  },
  {
   "cell_type": "code",
   "execution_count": 33,
   "source": [
    "data = pd.concat([data_cv , data_pl , data_lx] , axis=0)\n",
    "data"
   ],
   "outputs": [
    {
     "output_type": "execute_result",
     "data": {
      "text/plain": [
       "              class   src_id  num_obs      sepn                    name  \\\n",
       "obs_id                                                                    \n",
       "CV_0_obs_0       CV     CV_0       25  0.157954   2CXO J004247.1+411619   \n",
       "CV_0_obs_1       CV     CV_0       25  0.157954   2CXO J004247.1+411619   \n",
       "CV_0_obs_2       CV     CV_0       25  0.157954   2CXO J004247.1+411619   \n",
       "CV_0_obs_3       CV     CV_0       25  0.157954   2CXO J004247.1+411619   \n",
       "CV_0_obs_4       CV     CV_0       25  0.157954   2CXO J004247.1+411619   \n",
       "...             ...      ...      ...       ...                     ...   \n",
       "LMXB_90_obs_0    LX  LMXB_90        1  0.000000   2CXO J212314.5-054753   \n",
       "LMXB_91_obs_0    LX  LMXB_91        1  0.000000   2CXO J173547.0-302858   \n",
       "LMXB_92_obs_0    LX  LMXB_92        1  0.000000   2CXO J092920.1-312303   \n",
       "LMXB_96_obs_0    LX  LMXB_96        1  0.000000   2CXO J174955.3-291919   \n",
       "LMXB_97_obs_0    LX  LMXB_97        1  0.000000   2CXO J175113.6-303726   \n",
       "\n",
       "                      ra        dec  livetime  significance   likelihood  ...  \\\n",
       "obs_id                                                                    ...   \n",
       "CV_0_obs_0      10.69654  41.272150    4103.7         52.93  16618.73000  ...   \n",
       "CV_0_obs_1      10.69654  41.272150    3907.5         52.93  16618.73000  ...   \n",
       "CV_0_obs_2      10.69654  41.272150    3907.5         52.93  16618.73000  ...   \n",
       "CV_0_obs_3      10.69654  41.272150    3904.6         52.93  16618.73000  ...   \n",
       "CV_0_obs_4      10.69654  41.272150    3907.5         52.93  16618.73000  ...   \n",
       "...                  ...        ...       ...           ...          ...  ...   \n",
       "LMXB_90_obs_0  320.81060  -5.798128   17705.1          4.06    132.76700  ...   \n",
       "LMXB_91_obs_0  263.94590 -30.482820   18855.8          4.89    114.24570  ...   \n",
       "LMXB_92_obs_0  142.33410 -31.384270   24445.9          3.70     75.53454  ...   \n",
       "LMXB_96_obs_0  267.48070 -29.322090   14183.8          3.26     48.59275  ...   \n",
       "LMXB_97_obs_0  267.80690 -30.624030   42978.4          2.91     81.41561  ...   \n",
       "\n",
       "               var_inter_sigma_h  var_inter_index_m  var_inter_prob_m  \\\n",
       "obs_id                                                                  \n",
       "CV_0_obs_0                   NaN                NaN               NaN   \n",
       "CV_0_obs_1                   NaN                NaN               NaN   \n",
       "CV_0_obs_2                   NaN                NaN               NaN   \n",
       "CV_0_obs_3                   NaN                NaN               NaN   \n",
       "CV_0_obs_4                   NaN                NaN               NaN   \n",
       "...                          ...                ...               ...   \n",
       "LMXB_90_obs_0                NaN                NaN               NaN   \n",
       "LMXB_91_obs_0       8.934000e-09                5.0             0.800   \n",
       "LMXB_92_obs_0                NaN                NaN               NaN   \n",
       "LMXB_96_obs_0                NaN                NaN               NaN   \n",
       "LMXB_97_obs_0       5.385000e-08                0.0             0.144   \n",
       "\n",
       "               var_inter_sigma_m  var_inter_index_s  var_inter_prob_s  \\\n",
       "obs_id                                                                  \n",
       "CV_0_obs_0                   NaN                5.0             0.989   \n",
       "CV_0_obs_1                   NaN                5.0             0.989   \n",
       "CV_0_obs_2                   NaN                5.0             0.989   \n",
       "CV_0_obs_3                   NaN                5.0             0.989   \n",
       "CV_0_obs_4                   NaN                5.0             0.989   \n",
       "...                          ...                ...               ...   \n",
       "LMXB_90_obs_0                NaN                NaN               NaN   \n",
       "LMXB_91_obs_0       1.257000e-07                0.0             0.247   \n",
       "LMXB_92_obs_0                NaN                NaN               NaN   \n",
       "LMXB_96_obs_0                NaN                NaN               NaN   \n",
       "LMXB_97_obs_0       4.587000e-10                0.0             0.052   \n",
       "\n",
       "               var_inter_sigma_s  var_inter_index_u  var_inter_prob_u  \\\n",
       "obs_id                                                                  \n",
       "CV_0_obs_0          2.546000e-05                NaN               NaN   \n",
       "CV_0_obs_1          2.546000e-05                NaN               NaN   \n",
       "CV_0_obs_2          2.546000e-05                NaN               NaN   \n",
       "CV_0_obs_3          2.546000e-05                NaN               NaN   \n",
       "CV_0_obs_4          2.546000e-05                NaN               NaN   \n",
       "...                          ...                ...               ...   \n",
       "LMXB_90_obs_0                NaN                NaN               NaN   \n",
       "LMXB_91_obs_0       5.992000e-09                NaN               NaN   \n",
       "LMXB_92_obs_0                NaN                NaN               NaN   \n",
       "LMXB_96_obs_0                NaN                NaN               NaN   \n",
       "LMXB_97_obs_0       7.309000e-08                NaN               NaN   \n",
       "\n",
       "               var_inter_sigma_u  \n",
       "obs_id                            \n",
       "CV_0_obs_0                   NaN  \n",
       "CV_0_obs_1                   NaN  \n",
       "CV_0_obs_2                   NaN  \n",
       "CV_0_obs_3                   NaN  \n",
       "CV_0_obs_4                   NaN  \n",
       "...                          ...  \n",
       "LMXB_90_obs_0                NaN  \n",
       "LMXB_91_obs_0                NaN  \n",
       "LMXB_92_obs_0                NaN  \n",
       "LMXB_96_obs_0                NaN  \n",
       "LMXB_97_obs_0                NaN  \n",
       "\n",
       "[3690 rows x 87 columns]"
      ],
      "text/html": [
       "<div>\n",
       "<style scoped>\n",
       "    .dataframe tbody tr th:only-of-type {\n",
       "        vertical-align: middle;\n",
       "    }\n",
       "\n",
       "    .dataframe tbody tr th {\n",
       "        vertical-align: top;\n",
       "    }\n",
       "\n",
       "    .dataframe thead th {\n",
       "        text-align: right;\n",
       "    }\n",
       "</style>\n",
       "<table border=\"1\" class=\"dataframe\">\n",
       "  <thead>\n",
       "    <tr style=\"text-align: right;\">\n",
       "      <th></th>\n",
       "      <th>class</th>\n",
       "      <th>src_id</th>\n",
       "      <th>num_obs</th>\n",
       "      <th>sepn</th>\n",
       "      <th>name</th>\n",
       "      <th>ra</th>\n",
       "      <th>dec</th>\n",
       "      <th>livetime</th>\n",
       "      <th>significance</th>\n",
       "      <th>likelihood</th>\n",
       "      <th>...</th>\n",
       "      <th>var_inter_sigma_h</th>\n",
       "      <th>var_inter_index_m</th>\n",
       "      <th>var_inter_prob_m</th>\n",
       "      <th>var_inter_sigma_m</th>\n",
       "      <th>var_inter_index_s</th>\n",
       "      <th>var_inter_prob_s</th>\n",
       "      <th>var_inter_sigma_s</th>\n",
       "      <th>var_inter_index_u</th>\n",
       "      <th>var_inter_prob_u</th>\n",
       "      <th>var_inter_sigma_u</th>\n",
       "    </tr>\n",
       "    <tr>\n",
       "      <th>obs_id</th>\n",
       "      <th></th>\n",
       "      <th></th>\n",
       "      <th></th>\n",
       "      <th></th>\n",
       "      <th></th>\n",
       "      <th></th>\n",
       "      <th></th>\n",
       "      <th></th>\n",
       "      <th></th>\n",
       "      <th></th>\n",
       "      <th></th>\n",
       "      <th></th>\n",
       "      <th></th>\n",
       "      <th></th>\n",
       "      <th></th>\n",
       "      <th></th>\n",
       "      <th></th>\n",
       "      <th></th>\n",
       "      <th></th>\n",
       "      <th></th>\n",
       "      <th></th>\n",
       "    </tr>\n",
       "  </thead>\n",
       "  <tbody>\n",
       "    <tr>\n",
       "      <th>CV_0_obs_0</th>\n",
       "      <td>CV</td>\n",
       "      <td>CV_0</td>\n",
       "      <td>25</td>\n",
       "      <td>0.157954</td>\n",
       "      <td>2CXO J004247.1+411619</td>\n",
       "      <td>10.69654</td>\n",
       "      <td>41.272150</td>\n",
       "      <td>4103.7</td>\n",
       "      <td>52.93</td>\n",
       "      <td>16618.73000</td>\n",
       "      <td>...</td>\n",
       "      <td>NaN</td>\n",
       "      <td>NaN</td>\n",
       "      <td>NaN</td>\n",
       "      <td>NaN</td>\n",
       "      <td>5.0</td>\n",
       "      <td>0.989</td>\n",
       "      <td>2.546000e-05</td>\n",
       "      <td>NaN</td>\n",
       "      <td>NaN</td>\n",
       "      <td>NaN</td>\n",
       "    </tr>\n",
       "    <tr>\n",
       "      <th>CV_0_obs_1</th>\n",
       "      <td>CV</td>\n",
       "      <td>CV_0</td>\n",
       "      <td>25</td>\n",
       "      <td>0.157954</td>\n",
       "      <td>2CXO J004247.1+411619</td>\n",
       "      <td>10.69654</td>\n",
       "      <td>41.272150</td>\n",
       "      <td>3907.5</td>\n",
       "      <td>52.93</td>\n",
       "      <td>16618.73000</td>\n",
       "      <td>...</td>\n",
       "      <td>NaN</td>\n",
       "      <td>NaN</td>\n",
       "      <td>NaN</td>\n",
       "      <td>NaN</td>\n",
       "      <td>5.0</td>\n",
       "      <td>0.989</td>\n",
       "      <td>2.546000e-05</td>\n",
       "      <td>NaN</td>\n",
       "      <td>NaN</td>\n",
       "      <td>NaN</td>\n",
       "    </tr>\n",
       "    <tr>\n",
       "      <th>CV_0_obs_2</th>\n",
       "      <td>CV</td>\n",
       "      <td>CV_0</td>\n",
       "      <td>25</td>\n",
       "      <td>0.157954</td>\n",
       "      <td>2CXO J004247.1+411619</td>\n",
       "      <td>10.69654</td>\n",
       "      <td>41.272150</td>\n",
       "      <td>3907.5</td>\n",
       "      <td>52.93</td>\n",
       "      <td>16618.73000</td>\n",
       "      <td>...</td>\n",
       "      <td>NaN</td>\n",
       "      <td>NaN</td>\n",
       "      <td>NaN</td>\n",
       "      <td>NaN</td>\n",
       "      <td>5.0</td>\n",
       "      <td>0.989</td>\n",
       "      <td>2.546000e-05</td>\n",
       "      <td>NaN</td>\n",
       "      <td>NaN</td>\n",
       "      <td>NaN</td>\n",
       "    </tr>\n",
       "    <tr>\n",
       "      <th>CV_0_obs_3</th>\n",
       "      <td>CV</td>\n",
       "      <td>CV_0</td>\n",
       "      <td>25</td>\n",
       "      <td>0.157954</td>\n",
       "      <td>2CXO J004247.1+411619</td>\n",
       "      <td>10.69654</td>\n",
       "      <td>41.272150</td>\n",
       "      <td>3904.6</td>\n",
       "      <td>52.93</td>\n",
       "      <td>16618.73000</td>\n",
       "      <td>...</td>\n",
       "      <td>NaN</td>\n",
       "      <td>NaN</td>\n",
       "      <td>NaN</td>\n",
       "      <td>NaN</td>\n",
       "      <td>5.0</td>\n",
       "      <td>0.989</td>\n",
       "      <td>2.546000e-05</td>\n",
       "      <td>NaN</td>\n",
       "      <td>NaN</td>\n",
       "      <td>NaN</td>\n",
       "    </tr>\n",
       "    <tr>\n",
       "      <th>CV_0_obs_4</th>\n",
       "      <td>CV</td>\n",
       "      <td>CV_0</td>\n",
       "      <td>25</td>\n",
       "      <td>0.157954</td>\n",
       "      <td>2CXO J004247.1+411619</td>\n",
       "      <td>10.69654</td>\n",
       "      <td>41.272150</td>\n",
       "      <td>3907.5</td>\n",
       "      <td>52.93</td>\n",
       "      <td>16618.73000</td>\n",
       "      <td>...</td>\n",
       "      <td>NaN</td>\n",
       "      <td>NaN</td>\n",
       "      <td>NaN</td>\n",
       "      <td>NaN</td>\n",
       "      <td>5.0</td>\n",
       "      <td>0.989</td>\n",
       "      <td>2.546000e-05</td>\n",
       "      <td>NaN</td>\n",
       "      <td>NaN</td>\n",
       "      <td>NaN</td>\n",
       "    </tr>\n",
       "    <tr>\n",
       "      <th>...</th>\n",
       "      <td>...</td>\n",
       "      <td>...</td>\n",
       "      <td>...</td>\n",
       "      <td>...</td>\n",
       "      <td>...</td>\n",
       "      <td>...</td>\n",
       "      <td>...</td>\n",
       "      <td>...</td>\n",
       "      <td>...</td>\n",
       "      <td>...</td>\n",
       "      <td>...</td>\n",
       "      <td>...</td>\n",
       "      <td>...</td>\n",
       "      <td>...</td>\n",
       "      <td>...</td>\n",
       "      <td>...</td>\n",
       "      <td>...</td>\n",
       "      <td>...</td>\n",
       "      <td>...</td>\n",
       "      <td>...</td>\n",
       "      <td>...</td>\n",
       "    </tr>\n",
       "    <tr>\n",
       "      <th>LMXB_90_obs_0</th>\n",
       "      <td>LX</td>\n",
       "      <td>LMXB_90</td>\n",
       "      <td>1</td>\n",
       "      <td>0.000000</td>\n",
       "      <td>2CXO J212314.5-054753</td>\n",
       "      <td>320.81060</td>\n",
       "      <td>-5.798128</td>\n",
       "      <td>17705.1</td>\n",
       "      <td>4.06</td>\n",
       "      <td>132.76700</td>\n",
       "      <td>...</td>\n",
       "      <td>NaN</td>\n",
       "      <td>NaN</td>\n",
       "      <td>NaN</td>\n",
       "      <td>NaN</td>\n",
       "      <td>NaN</td>\n",
       "      <td>NaN</td>\n",
       "      <td>NaN</td>\n",
       "      <td>NaN</td>\n",
       "      <td>NaN</td>\n",
       "      <td>NaN</td>\n",
       "    </tr>\n",
       "    <tr>\n",
       "      <th>LMXB_91_obs_0</th>\n",
       "      <td>LX</td>\n",
       "      <td>LMXB_91</td>\n",
       "      <td>1</td>\n",
       "      <td>0.000000</td>\n",
       "      <td>2CXO J173547.0-302858</td>\n",
       "      <td>263.94590</td>\n",
       "      <td>-30.482820</td>\n",
       "      <td>18855.8</td>\n",
       "      <td>4.89</td>\n",
       "      <td>114.24570</td>\n",
       "      <td>...</td>\n",
       "      <td>8.934000e-09</td>\n",
       "      <td>5.0</td>\n",
       "      <td>0.800</td>\n",
       "      <td>1.257000e-07</td>\n",
       "      <td>0.0</td>\n",
       "      <td>0.247</td>\n",
       "      <td>5.992000e-09</td>\n",
       "      <td>NaN</td>\n",
       "      <td>NaN</td>\n",
       "      <td>NaN</td>\n",
       "    </tr>\n",
       "    <tr>\n",
       "      <th>LMXB_92_obs_0</th>\n",
       "      <td>LX</td>\n",
       "      <td>LMXB_92</td>\n",
       "      <td>1</td>\n",
       "      <td>0.000000</td>\n",
       "      <td>2CXO J092920.1-312303</td>\n",
       "      <td>142.33410</td>\n",
       "      <td>-31.384270</td>\n",
       "      <td>24445.9</td>\n",
       "      <td>3.70</td>\n",
       "      <td>75.53454</td>\n",
       "      <td>...</td>\n",
       "      <td>NaN</td>\n",
       "      <td>NaN</td>\n",
       "      <td>NaN</td>\n",
       "      <td>NaN</td>\n",
       "      <td>NaN</td>\n",
       "      <td>NaN</td>\n",
       "      <td>NaN</td>\n",
       "      <td>NaN</td>\n",
       "      <td>NaN</td>\n",
       "      <td>NaN</td>\n",
       "    </tr>\n",
       "    <tr>\n",
       "      <th>LMXB_96_obs_0</th>\n",
       "      <td>LX</td>\n",
       "      <td>LMXB_96</td>\n",
       "      <td>1</td>\n",
       "      <td>0.000000</td>\n",
       "      <td>2CXO J174955.3-291919</td>\n",
       "      <td>267.48070</td>\n",
       "      <td>-29.322090</td>\n",
       "      <td>14183.8</td>\n",
       "      <td>3.26</td>\n",
       "      <td>48.59275</td>\n",
       "      <td>...</td>\n",
       "      <td>NaN</td>\n",
       "      <td>NaN</td>\n",
       "      <td>NaN</td>\n",
       "      <td>NaN</td>\n",
       "      <td>NaN</td>\n",
       "      <td>NaN</td>\n",
       "      <td>NaN</td>\n",
       "      <td>NaN</td>\n",
       "      <td>NaN</td>\n",
       "      <td>NaN</td>\n",
       "    </tr>\n",
       "    <tr>\n",
       "      <th>LMXB_97_obs_0</th>\n",
       "      <td>LX</td>\n",
       "      <td>LMXB_97</td>\n",
       "      <td>1</td>\n",
       "      <td>0.000000</td>\n",
       "      <td>2CXO J175113.6-303726</td>\n",
       "      <td>267.80690</td>\n",
       "      <td>-30.624030</td>\n",
       "      <td>42978.4</td>\n",
       "      <td>2.91</td>\n",
       "      <td>81.41561</td>\n",
       "      <td>...</td>\n",
       "      <td>5.385000e-08</td>\n",
       "      <td>0.0</td>\n",
       "      <td>0.144</td>\n",
       "      <td>4.587000e-10</td>\n",
       "      <td>0.0</td>\n",
       "      <td>0.052</td>\n",
       "      <td>7.309000e-08</td>\n",
       "      <td>NaN</td>\n",
       "      <td>NaN</td>\n",
       "      <td>NaN</td>\n",
       "    </tr>\n",
       "  </tbody>\n",
       "</table>\n",
       "<p>3690 rows × 87 columns</p>\n",
       "</div>"
      ]
     },
     "metadata": {},
     "execution_count": 33
    }
   ],
   "metadata": {}
  },
  {
   "cell_type": "markdown",
   "source": [
    "# Remove sparse columns"
   ],
   "metadata": {}
  },
  {
   "cell_type": "code",
   "execution_count": 34,
   "source": [
    "sp = [] \n",
    "for f in feat_to_use:\n",
    "    #print(f)\n",
    "    na = data[feat_to_use][f].isna().value_counts()\n",
    "    try:\n",
    "        sp.append( float(1-na[0]/(na[0]+na[1])))\n",
    "    except:\n",
    "        sp.append(0)\n",
    "sp =  np.asarray(sp)\n",
    "sparsity = pd.DataFrame(\n",
    "    {\n",
    "        \"feat\" : feat_to_use ,\n",
    "        \"sp_val\" :sp\n",
    "    }\n",
    ").sort_values(by='sp_val' , ascending=False).reset_index(drop=True)\n",
    "sparsity"
   ],
   "outputs": [
    {
     "output_type": "execute_result",
     "data": {
      "text/plain": [
       "            feat   sp_val\n",
       "0    var_index_u  0.88916\n",
       "1      var_max_u  0.88916\n",
       "2      var_min_u  0.88916\n",
       "3     var_mean_u  0.88916\n",
       "4    var_sigma_u  0.88916\n",
       "..           ...      ...\n",
       "81            ra  0.00000\n",
       "82           dec  0.00000\n",
       "83      livetime  0.00000\n",
       "84  significance  0.00000\n",
       "85        src_id  0.00000\n",
       "\n",
       "[86 rows x 2 columns]"
      ],
      "text/html": [
       "<div>\n",
       "<style scoped>\n",
       "    .dataframe tbody tr th:only-of-type {\n",
       "        vertical-align: middle;\n",
       "    }\n",
       "\n",
       "    .dataframe tbody tr th {\n",
       "        vertical-align: top;\n",
       "    }\n",
       "\n",
       "    .dataframe thead th {\n",
       "        text-align: right;\n",
       "    }\n",
       "</style>\n",
       "<table border=\"1\" class=\"dataframe\">\n",
       "  <thead>\n",
       "    <tr style=\"text-align: right;\">\n",
       "      <th></th>\n",
       "      <th>feat</th>\n",
       "      <th>sp_val</th>\n",
       "    </tr>\n",
       "  </thead>\n",
       "  <tbody>\n",
       "    <tr>\n",
       "      <th>0</th>\n",
       "      <td>var_index_u</td>\n",
       "      <td>0.88916</td>\n",
       "    </tr>\n",
       "    <tr>\n",
       "      <th>1</th>\n",
       "      <td>var_max_u</td>\n",
       "      <td>0.88916</td>\n",
       "    </tr>\n",
       "    <tr>\n",
       "      <th>2</th>\n",
       "      <td>var_min_u</td>\n",
       "      <td>0.88916</td>\n",
       "    </tr>\n",
       "    <tr>\n",
       "      <th>3</th>\n",
       "      <td>var_mean_u</td>\n",
       "      <td>0.88916</td>\n",
       "    </tr>\n",
       "    <tr>\n",
       "      <th>4</th>\n",
       "      <td>var_sigma_u</td>\n",
       "      <td>0.88916</td>\n",
       "    </tr>\n",
       "    <tr>\n",
       "      <th>...</th>\n",
       "      <td>...</td>\n",
       "      <td>...</td>\n",
       "    </tr>\n",
       "    <tr>\n",
       "      <th>81</th>\n",
       "      <td>ra</td>\n",
       "      <td>0.00000</td>\n",
       "    </tr>\n",
       "    <tr>\n",
       "      <th>82</th>\n",
       "      <td>dec</td>\n",
       "      <td>0.00000</td>\n",
       "    </tr>\n",
       "    <tr>\n",
       "      <th>83</th>\n",
       "      <td>livetime</td>\n",
       "      <td>0.00000</td>\n",
       "    </tr>\n",
       "    <tr>\n",
       "      <th>84</th>\n",
       "      <td>significance</td>\n",
       "      <td>0.00000</td>\n",
       "    </tr>\n",
       "    <tr>\n",
       "      <th>85</th>\n",
       "      <td>src_id</td>\n",
       "      <td>0.00000</td>\n",
       "    </tr>\n",
       "  </tbody>\n",
       "</table>\n",
       "<p>86 rows × 2 columns</p>\n",
       "</div>"
      ]
     },
     "metadata": {},
     "execution_count": 34
    }
   ],
   "metadata": {}
  },
  {
   "cell_type": "code",
   "execution_count": 35,
   "source": [
    "feat_low_sparse = sparsity[sparsity['sp_val']<0.5].sort_values(by='sp_val').reset_index(drop=True)\n",
    "feat_low_sparse = feat_low_sparse['feat'].to_list()"
   ],
   "outputs": [],
   "metadata": {}
  },
  {
   "cell_type": "code",
   "execution_count": 36,
   "source": [
    "data_use = data[['class']+feat_low_sparse]\n",
    "data_use"
   ],
   "outputs": [
    {
     "output_type": "execute_result",
     "data": {
      "text/plain": [
       "              class   src_id  num_obs   likelihood      sepn  significance  \\\n",
       "obs_id                                                                       \n",
       "CV_0_obs_0       CV     CV_0       25  16618.73000  0.157954         52.93   \n",
       "CV_0_obs_1       CV     CV_0       25  16618.73000  0.157954         52.93   \n",
       "CV_0_obs_2       CV     CV_0       25  16618.73000  0.157954         52.93   \n",
       "CV_0_obs_3       CV     CV_0       25  16618.73000  0.157954         52.93   \n",
       "CV_0_obs_4       CV     CV_0       25  16618.73000  0.157954         52.93   \n",
       "...             ...      ...      ...          ...       ...           ...   \n",
       "LMXB_90_obs_0    LX  LMXB_90        1    132.76700  0.000000          4.06   \n",
       "LMXB_91_obs_0    LX  LMXB_91        1    114.24570  0.000000          4.89   \n",
       "LMXB_92_obs_0    LX  LMXB_92        1     75.53454  0.000000          3.70   \n",
       "LMXB_96_obs_0    LX  LMXB_96        1     48.59275  0.000000          3.26   \n",
       "LMXB_97_obs_0    LX  LMXB_97        1     81.41561  0.000000          2.91   \n",
       "\n",
       "                      ra        dec  livetime                    name  ...  \\\n",
       "obs_id                                                                 ...   \n",
       "CV_0_obs_0      10.69654  41.272150    4103.7   2CXO J004247.1+411619  ...   \n",
       "CV_0_obs_1      10.69654  41.272150    3907.5   2CXO J004247.1+411619  ...   \n",
       "CV_0_obs_2      10.69654  41.272150    3907.5   2CXO J004247.1+411619  ...   \n",
       "CV_0_obs_3      10.69654  41.272150    3904.6   2CXO J004247.1+411619  ...   \n",
       "CV_0_obs_4      10.69654  41.272150    3907.5   2CXO J004247.1+411619  ...   \n",
       "...                  ...        ...       ...                     ...  ...   \n",
       "LMXB_90_obs_0  320.81060  -5.798128   17705.1   2CXO J212314.5-054753  ...   \n",
       "LMXB_91_obs_0  263.94590 -30.482820   18855.8   2CXO J173547.0-302858  ...   \n",
       "LMXB_92_obs_0  142.33410 -31.384270   24445.9   2CXO J092920.1-312303  ...   \n",
       "LMXB_96_obs_0  267.48070 -29.322090   14183.8   2CXO J174955.3-291919  ...   \n",
       "LMXB_97_obs_0  267.80690 -30.624030   42978.4   2CXO J175113.6-303726  ...   \n",
       "\n",
       "               var_inter_prob_h  var_inter_sigma_h   flux_aper_u  var_max_b  \\\n",
       "obs_id                                                                        \n",
       "CV_0_obs_0                  NaN                NaN  0.000000e+00        NaN   \n",
       "CV_0_obs_1                  NaN                NaN  0.000000e+00        NaN   \n",
       "CV_0_obs_2                  NaN                NaN  0.000000e+00        NaN   \n",
       "CV_0_obs_3                  NaN                NaN  0.000000e+00        NaN   \n",
       "CV_0_obs_4                  NaN                NaN  0.000000e+00        NaN   \n",
       "...                         ...                ...           ...        ...   \n",
       "LMXB_90_obs_0               NaN                NaN  1.538000e-15   0.003517   \n",
       "LMXB_91_obs_0             0.234       8.934000e-09  0.000000e+00   0.002756   \n",
       "LMXB_92_obs_0               NaN                NaN  2.836000e-15   0.001005   \n",
       "LMXB_96_obs_0               NaN                NaN  0.000000e+00   0.001177   \n",
       "LMXB_97_obs_0             0.126       5.385000e-08  0.000000e+00   0.000664   \n",
       "\n",
       "               var_prob_b  ks_prob_b  kp_prob_b  var_sigma_b  var_mean_b  \\\n",
       "obs_id                                                                     \n",
       "CV_0_obs_0            NaN        NaN        NaN          NaN         NaN   \n",
       "CV_0_obs_1            NaN        NaN        NaN          NaN         NaN   \n",
       "CV_0_obs_2            NaN        NaN        NaN          NaN         NaN   \n",
       "CV_0_obs_3            NaN        NaN        NaN          NaN         NaN   \n",
       "CV_0_obs_4            NaN        NaN        NaN          NaN         NaN   \n",
       "...                   ...        ...        ...          ...         ...   \n",
       "LMXB_90_obs_0       0.807      0.265      0.211     0.000255    0.001171   \n",
       "LMXB_91_obs_0       0.451      0.735      0.547     0.000211    0.001623   \n",
       "LMXB_92_obs_0       0.607      0.940      0.789     0.000201    0.000740   \n",
       "LMXB_96_obs_0       0.355      0.602      0.532     0.000061    0.000905   \n",
       "LMXB_97_obs_0       0.800      0.965      0.982     0.000117    0.000264   \n",
       "\n",
       "               var_min_b  \n",
       "obs_id                    \n",
       "CV_0_obs_0           NaN  \n",
       "CV_0_obs_1           NaN  \n",
       "CV_0_obs_2           NaN  \n",
       "CV_0_obs_3           NaN  \n",
       "CV_0_obs_4           NaN  \n",
       "...                  ...  \n",
       "LMXB_90_obs_0   0.001060  \n",
       "LMXB_91_obs_0   0.001488  \n",
       "LMXB_92_obs_0   0.000511  \n",
       "LMXB_96_obs_0   0.000871  \n",
       "LMXB_97_obs_0   0.000175  \n",
       "\n",
       "[3690 rows x 42 columns]"
      ],
      "text/html": [
       "<div>\n",
       "<style scoped>\n",
       "    .dataframe tbody tr th:only-of-type {\n",
       "        vertical-align: middle;\n",
       "    }\n",
       "\n",
       "    .dataframe tbody tr th {\n",
       "        vertical-align: top;\n",
       "    }\n",
       "\n",
       "    .dataframe thead th {\n",
       "        text-align: right;\n",
       "    }\n",
       "</style>\n",
       "<table border=\"1\" class=\"dataframe\">\n",
       "  <thead>\n",
       "    <tr style=\"text-align: right;\">\n",
       "      <th></th>\n",
       "      <th>class</th>\n",
       "      <th>src_id</th>\n",
       "      <th>num_obs</th>\n",
       "      <th>likelihood</th>\n",
       "      <th>sepn</th>\n",
       "      <th>significance</th>\n",
       "      <th>ra</th>\n",
       "      <th>dec</th>\n",
       "      <th>livetime</th>\n",
       "      <th>name</th>\n",
       "      <th>...</th>\n",
       "      <th>var_inter_prob_h</th>\n",
       "      <th>var_inter_sigma_h</th>\n",
       "      <th>flux_aper_u</th>\n",
       "      <th>var_max_b</th>\n",
       "      <th>var_prob_b</th>\n",
       "      <th>ks_prob_b</th>\n",
       "      <th>kp_prob_b</th>\n",
       "      <th>var_sigma_b</th>\n",
       "      <th>var_mean_b</th>\n",
       "      <th>var_min_b</th>\n",
       "    </tr>\n",
       "    <tr>\n",
       "      <th>obs_id</th>\n",
       "      <th></th>\n",
       "      <th></th>\n",
       "      <th></th>\n",
       "      <th></th>\n",
       "      <th></th>\n",
       "      <th></th>\n",
       "      <th></th>\n",
       "      <th></th>\n",
       "      <th></th>\n",
       "      <th></th>\n",
       "      <th></th>\n",
       "      <th></th>\n",
       "      <th></th>\n",
       "      <th></th>\n",
       "      <th></th>\n",
       "      <th></th>\n",
       "      <th></th>\n",
       "      <th></th>\n",
       "      <th></th>\n",
       "      <th></th>\n",
       "      <th></th>\n",
       "    </tr>\n",
       "  </thead>\n",
       "  <tbody>\n",
       "    <tr>\n",
       "      <th>CV_0_obs_0</th>\n",
       "      <td>CV</td>\n",
       "      <td>CV_0</td>\n",
       "      <td>25</td>\n",
       "      <td>16618.73000</td>\n",
       "      <td>0.157954</td>\n",
       "      <td>52.93</td>\n",
       "      <td>10.69654</td>\n",
       "      <td>41.272150</td>\n",
       "      <td>4103.7</td>\n",
       "      <td>2CXO J004247.1+411619</td>\n",
       "      <td>...</td>\n",
       "      <td>NaN</td>\n",
       "      <td>NaN</td>\n",
       "      <td>0.000000e+00</td>\n",
       "      <td>NaN</td>\n",
       "      <td>NaN</td>\n",
       "      <td>NaN</td>\n",
       "      <td>NaN</td>\n",
       "      <td>NaN</td>\n",
       "      <td>NaN</td>\n",
       "      <td>NaN</td>\n",
       "    </tr>\n",
       "    <tr>\n",
       "      <th>CV_0_obs_1</th>\n",
       "      <td>CV</td>\n",
       "      <td>CV_0</td>\n",
       "      <td>25</td>\n",
       "      <td>16618.73000</td>\n",
       "      <td>0.157954</td>\n",
       "      <td>52.93</td>\n",
       "      <td>10.69654</td>\n",
       "      <td>41.272150</td>\n",
       "      <td>3907.5</td>\n",
       "      <td>2CXO J004247.1+411619</td>\n",
       "      <td>...</td>\n",
       "      <td>NaN</td>\n",
       "      <td>NaN</td>\n",
       "      <td>0.000000e+00</td>\n",
       "      <td>NaN</td>\n",
       "      <td>NaN</td>\n",
       "      <td>NaN</td>\n",
       "      <td>NaN</td>\n",
       "      <td>NaN</td>\n",
       "      <td>NaN</td>\n",
       "      <td>NaN</td>\n",
       "    </tr>\n",
       "    <tr>\n",
       "      <th>CV_0_obs_2</th>\n",
       "      <td>CV</td>\n",
       "      <td>CV_0</td>\n",
       "      <td>25</td>\n",
       "      <td>16618.73000</td>\n",
       "      <td>0.157954</td>\n",
       "      <td>52.93</td>\n",
       "      <td>10.69654</td>\n",
       "      <td>41.272150</td>\n",
       "      <td>3907.5</td>\n",
       "      <td>2CXO J004247.1+411619</td>\n",
       "      <td>...</td>\n",
       "      <td>NaN</td>\n",
       "      <td>NaN</td>\n",
       "      <td>0.000000e+00</td>\n",
       "      <td>NaN</td>\n",
       "      <td>NaN</td>\n",
       "      <td>NaN</td>\n",
       "      <td>NaN</td>\n",
       "      <td>NaN</td>\n",
       "      <td>NaN</td>\n",
       "      <td>NaN</td>\n",
       "    </tr>\n",
       "    <tr>\n",
       "      <th>CV_0_obs_3</th>\n",
       "      <td>CV</td>\n",
       "      <td>CV_0</td>\n",
       "      <td>25</td>\n",
       "      <td>16618.73000</td>\n",
       "      <td>0.157954</td>\n",
       "      <td>52.93</td>\n",
       "      <td>10.69654</td>\n",
       "      <td>41.272150</td>\n",
       "      <td>3904.6</td>\n",
       "      <td>2CXO J004247.1+411619</td>\n",
       "      <td>...</td>\n",
       "      <td>NaN</td>\n",
       "      <td>NaN</td>\n",
       "      <td>0.000000e+00</td>\n",
       "      <td>NaN</td>\n",
       "      <td>NaN</td>\n",
       "      <td>NaN</td>\n",
       "      <td>NaN</td>\n",
       "      <td>NaN</td>\n",
       "      <td>NaN</td>\n",
       "      <td>NaN</td>\n",
       "    </tr>\n",
       "    <tr>\n",
       "      <th>CV_0_obs_4</th>\n",
       "      <td>CV</td>\n",
       "      <td>CV_0</td>\n",
       "      <td>25</td>\n",
       "      <td>16618.73000</td>\n",
       "      <td>0.157954</td>\n",
       "      <td>52.93</td>\n",
       "      <td>10.69654</td>\n",
       "      <td>41.272150</td>\n",
       "      <td>3907.5</td>\n",
       "      <td>2CXO J004247.1+411619</td>\n",
       "      <td>...</td>\n",
       "      <td>NaN</td>\n",
       "      <td>NaN</td>\n",
       "      <td>0.000000e+00</td>\n",
       "      <td>NaN</td>\n",
       "      <td>NaN</td>\n",
       "      <td>NaN</td>\n",
       "      <td>NaN</td>\n",
       "      <td>NaN</td>\n",
       "      <td>NaN</td>\n",
       "      <td>NaN</td>\n",
       "    </tr>\n",
       "    <tr>\n",
       "      <th>...</th>\n",
       "      <td>...</td>\n",
       "      <td>...</td>\n",
       "      <td>...</td>\n",
       "      <td>...</td>\n",
       "      <td>...</td>\n",
       "      <td>...</td>\n",
       "      <td>...</td>\n",
       "      <td>...</td>\n",
       "      <td>...</td>\n",
       "      <td>...</td>\n",
       "      <td>...</td>\n",
       "      <td>...</td>\n",
       "      <td>...</td>\n",
       "      <td>...</td>\n",
       "      <td>...</td>\n",
       "      <td>...</td>\n",
       "      <td>...</td>\n",
       "      <td>...</td>\n",
       "      <td>...</td>\n",
       "      <td>...</td>\n",
       "      <td>...</td>\n",
       "    </tr>\n",
       "    <tr>\n",
       "      <th>LMXB_90_obs_0</th>\n",
       "      <td>LX</td>\n",
       "      <td>LMXB_90</td>\n",
       "      <td>1</td>\n",
       "      <td>132.76700</td>\n",
       "      <td>0.000000</td>\n",
       "      <td>4.06</td>\n",
       "      <td>320.81060</td>\n",
       "      <td>-5.798128</td>\n",
       "      <td>17705.1</td>\n",
       "      <td>2CXO J212314.5-054753</td>\n",
       "      <td>...</td>\n",
       "      <td>NaN</td>\n",
       "      <td>NaN</td>\n",
       "      <td>1.538000e-15</td>\n",
       "      <td>0.003517</td>\n",
       "      <td>0.807</td>\n",
       "      <td>0.265</td>\n",
       "      <td>0.211</td>\n",
       "      <td>0.000255</td>\n",
       "      <td>0.001171</td>\n",
       "      <td>0.001060</td>\n",
       "    </tr>\n",
       "    <tr>\n",
       "      <th>LMXB_91_obs_0</th>\n",
       "      <td>LX</td>\n",
       "      <td>LMXB_91</td>\n",
       "      <td>1</td>\n",
       "      <td>114.24570</td>\n",
       "      <td>0.000000</td>\n",
       "      <td>4.89</td>\n",
       "      <td>263.94590</td>\n",
       "      <td>-30.482820</td>\n",
       "      <td>18855.8</td>\n",
       "      <td>2CXO J173547.0-302858</td>\n",
       "      <td>...</td>\n",
       "      <td>0.234</td>\n",
       "      <td>8.934000e-09</td>\n",
       "      <td>0.000000e+00</td>\n",
       "      <td>0.002756</td>\n",
       "      <td>0.451</td>\n",
       "      <td>0.735</td>\n",
       "      <td>0.547</td>\n",
       "      <td>0.000211</td>\n",
       "      <td>0.001623</td>\n",
       "      <td>0.001488</td>\n",
       "    </tr>\n",
       "    <tr>\n",
       "      <th>LMXB_92_obs_0</th>\n",
       "      <td>LX</td>\n",
       "      <td>LMXB_92</td>\n",
       "      <td>1</td>\n",
       "      <td>75.53454</td>\n",
       "      <td>0.000000</td>\n",
       "      <td>3.70</td>\n",
       "      <td>142.33410</td>\n",
       "      <td>-31.384270</td>\n",
       "      <td>24445.9</td>\n",
       "      <td>2CXO J092920.1-312303</td>\n",
       "      <td>...</td>\n",
       "      <td>NaN</td>\n",
       "      <td>NaN</td>\n",
       "      <td>2.836000e-15</td>\n",
       "      <td>0.001005</td>\n",
       "      <td>0.607</td>\n",
       "      <td>0.940</td>\n",
       "      <td>0.789</td>\n",
       "      <td>0.000201</td>\n",
       "      <td>0.000740</td>\n",
       "      <td>0.000511</td>\n",
       "    </tr>\n",
       "    <tr>\n",
       "      <th>LMXB_96_obs_0</th>\n",
       "      <td>LX</td>\n",
       "      <td>LMXB_96</td>\n",
       "      <td>1</td>\n",
       "      <td>48.59275</td>\n",
       "      <td>0.000000</td>\n",
       "      <td>3.26</td>\n",
       "      <td>267.48070</td>\n",
       "      <td>-29.322090</td>\n",
       "      <td>14183.8</td>\n",
       "      <td>2CXO J174955.3-291919</td>\n",
       "      <td>...</td>\n",
       "      <td>NaN</td>\n",
       "      <td>NaN</td>\n",
       "      <td>0.000000e+00</td>\n",
       "      <td>0.001177</td>\n",
       "      <td>0.355</td>\n",
       "      <td>0.602</td>\n",
       "      <td>0.532</td>\n",
       "      <td>0.000061</td>\n",
       "      <td>0.000905</td>\n",
       "      <td>0.000871</td>\n",
       "    </tr>\n",
       "    <tr>\n",
       "      <th>LMXB_97_obs_0</th>\n",
       "      <td>LX</td>\n",
       "      <td>LMXB_97</td>\n",
       "      <td>1</td>\n",
       "      <td>81.41561</td>\n",
       "      <td>0.000000</td>\n",
       "      <td>2.91</td>\n",
       "      <td>267.80690</td>\n",
       "      <td>-30.624030</td>\n",
       "      <td>42978.4</td>\n",
       "      <td>2CXO J175113.6-303726</td>\n",
       "      <td>...</td>\n",
       "      <td>0.126</td>\n",
       "      <td>5.385000e-08</td>\n",
       "      <td>0.000000e+00</td>\n",
       "      <td>0.000664</td>\n",
       "      <td>0.800</td>\n",
       "      <td>0.965</td>\n",
       "      <td>0.982</td>\n",
       "      <td>0.000117</td>\n",
       "      <td>0.000264</td>\n",
       "      <td>0.000175</td>\n",
       "    </tr>\n",
       "  </tbody>\n",
       "</table>\n",
       "<p>3690 rows × 42 columns</p>\n",
       "</div>"
      ]
     },
     "metadata": {},
     "execution_count": 36
    }
   ],
   "metadata": {}
  },
  {
   "cell_type": "code",
   "execution_count": 37,
   "source": [
    "cva = data_use.query('src_id==\"CV_0\"')"
   ],
   "outputs": [],
   "metadata": {}
  },
  {
   "cell_type": "markdown",
   "source": [
    "## Take log"
   ],
   "metadata": {}
  },
  {
   "cell_type": "code",
   "execution_count": 39,
   "source": [
    "flux_feat = [\n",
    "    'photflux_aper_m' , \n",
    "    'flux_aper_h' , \n",
    "    'flux_aper_u',\n",
    "    'photflux_aper_b' , \n",
    "    'flux_aper_m',\n",
    "    'flux_aper_s',\n",
    "    'photflux_aper_h' , \n",
    "    'photflux_aper_s', \n",
    "    'photflux_aper_u' , \n",
    "    'flux_aper_b' , \n",
    "]\n",
    "def take_log(data_sent):\n",
    "    x_train_log = data_sent.copy()\n",
    "    for f in flux_feat[:]:\n",
    "        x_train_log.loc[:,f] = -(np.log10(x_train_log.loc[:,f]))\n",
    "    x_train_log = x_train_log.replace(-np.inf , np.nan)\n",
    "    x_train_log = x_train_log.replace(np.inf , np.nan)\n",
    "    return x_train_log"
   ],
   "outputs": [],
   "metadata": {}
  },
  {
   "cell_type": "markdown",
   "source": [
    "## Imputation"
   ],
   "metadata": {}
  },
  {
   "cell_type": "code",
   "execution_count": 40,
   "source": [
    "df_log = take_log(data_use)\n",
    "info_col_cl = info_col+['class']\n",
    "src_list = np.unique(df_log['src_id'])\n",
    "df_all_imp = pd.DataFrame()\n",
    "for s in tqdm(src_list[:]):\n",
    "    print('----------------------------------')\n",
    "    print(s)\n",
    "    temp = df_log[df_log['src_id']==s]\n",
    "    temp_val = temp.drop(columns=info_col_cl)\n",
    "    temp_id = temp[info_col_cl]\n",
    "    rf_imputer = MissForest(verbose=0 , decreasing=True)\n",
    "    #new_data = d.drop(columns= ['class'])\n",
    "    try:\n",
    "        new_data = rf_imputer.fit_transform(temp_val)\n",
    "        imp_data =  pd.DataFrame(new_data , columns = temp_val.columns.to_list()  , index=temp_val.index.to_list())\n",
    "        imp_data.index.name = 'obs_id'\n",
    "    except:\n",
    "        print('all col missing')\n",
    "        imp_data = temp_val\n",
    "    temp_imp = pd.concat([temp_id , imp_data] , axis = 1)\n",
    "    df_all_imp = df_all_imp.append(temp_imp)\n",
    "    #display(temp)\n",
    "    #display(temp_val)\n",
    "display(df_all_imp)"
   ],
   "outputs": [
    {
     "output_type": "stream",
     "name": "stderr",
     "text": [
      "/home/kumaran/.local/lib/python3.6/site-packages/pandas/core/series.py:726: RuntimeWarning: divide by zero encountered in log10\n",
      "  result = getattr(ufunc, method)(*inputs, **kwargs)\n",
      "  0%|          | 0/605 [00:00<?, ?it/s]"
     ]
    },
    {
     "output_type": "stream",
     "name": "stdout",
     "text": [
      "----------------------------------\n",
      "CV_0\n",
      "all col missing\n",
      "----------------------------------\n",
      "CV_1\n",
      "Iteration: 0\n",
      "Iteration: 1\n"
     ]
    },
    {
     "output_type": "stream",
     "name": "stderr",
     "text": [
      "  0%|          | 2/605 [00:15<1:19:28,  7.91s/it]"
     ]
    },
    {
     "output_type": "stream",
     "name": "stdout",
     "text": [
      "Iteration: 2\n",
      "----------------------------------\n",
      "CV_10\n",
      "Iteration: 0\n",
      "Iteration: 1\n",
      "Iteration: 2\n",
      "Iteration: 3\n",
      "Iteration: 4\n"
     ]
    },
    {
     "output_type": "stream",
     "name": "stderr",
     "text": [
      "  0%|          | 3/605 [00:48<3:01:21, 18.08s/it]"
     ]
    },
    {
     "output_type": "stream",
     "name": "stdout",
     "text": [
      "Iteration: 5\n",
      "----------------------------------\n",
      "CV_100\n",
      "all col missing\n",
      "----------------------------------\n",
      "CV_101\n",
      "Iteration: 0\n",
      "Iteration: 1\n",
      "Iteration: 2\n"
     ]
    },
    {
     "output_type": "stream",
     "name": "stderr",
     "text": [
      "  1%|          | 5/605 [01:10<2:23:28, 14.35s/it]"
     ]
    },
    {
     "output_type": "stream",
     "name": "stdout",
     "text": [
      "Iteration: 3\n",
      "----------------------------------\n",
      "CV_102\n",
      "all col missing\n",
      "----------------------------------\n",
      "CV_103\n",
      "all col missing\n",
      "----------------------------------\n",
      "CV_104\n",
      "all col missing\n",
      "----------------------------------\n",
      "CV_105\n",
      "----------------------------------\n",
      "CV_106\n"
     ]
    },
    {
     "output_type": "stream",
     "name": "stderr",
     "text": [
      "/home/kumaran/.local/lib/python3.6/site-packages/missingpy/missforest.py:528: UserWarning: No missing value located; returning original dataset.\n",
      "  warnings.warn(\"No missing value located; returning original \"\n"
     ]
    },
    {
     "output_type": "stream",
     "name": "stdout",
     "text": [
      "Iteration: 0\n",
      "Iteration: 1\n"
     ]
    },
    {
     "output_type": "stream",
     "name": "stderr",
     "text": [
      "  2%|▏         | 10/605 [01:12<50:35,  5.10s/it] "
     ]
    },
    {
     "output_type": "stream",
     "name": "stdout",
     "text": [
      "Iteration: 2\n",
      "----------------------------------\n",
      "CV_107\n",
      "all col missing\n",
      "----------------------------------\n",
      "CV_108\n",
      "----------------------------------\n",
      "CV_109\n",
      "----------------------------------\n",
      "CV_11\n",
      "all col missing\n",
      "----------------------------------\n",
      "CV_110\n"
     ]
    },
    {
     "output_type": "stream",
     "name": "stderr",
     "text": [
      "/home/kumaran/.local/lib/python3.6/site-packages/missingpy/missforest.py:528: UserWarning: No missing value located; returning original dataset.\n",
      "  warnings.warn(\"No missing value located; returning original \"\n",
      "/home/kumaran/.local/lib/python3.6/site-packages/missingpy/missforest.py:528: UserWarning: No missing value located; returning original dataset.\n",
      "  warnings.warn(\"No missing value located; returning original \"\n"
     ]
    },
    {
     "output_type": "stream",
     "name": "stdout",
     "text": [
      "Iteration: 0\n",
      "Iteration: 1\n"
     ]
    },
    {
     "output_type": "stream",
     "name": "stderr",
     "text": [
      "  2%|▏         | 15/605 [01:23<36:16,  3.69s/it]"
     ]
    },
    {
     "output_type": "stream",
     "name": "stdout",
     "text": [
      "Iteration: 2\n",
      "----------------------------------\n",
      "CV_111\n",
      "all col missing\n",
      "----------------------------------\n",
      "CV_112\n",
      "----------------------------------\n",
      "CV_113\n"
     ]
    },
    {
     "output_type": "stream",
     "name": "stderr",
     "text": [
      "/home/kumaran/.local/lib/python3.6/site-packages/missingpy/missforest.py:528: UserWarning: No missing value located; returning original dataset.\n",
      "  warnings.warn(\"No missing value located; returning original \"\n"
     ]
    },
    {
     "output_type": "stream",
     "name": "stdout",
     "text": [
      "Iteration: 0\n",
      "Iteration: 1\n",
      "Iteration: 2\n"
     ]
    },
    {
     "output_type": "stream",
     "name": "stderr",
     "text": [
      "  3%|▎         | 18/605 [01:30<32:42,  3.34s/it]"
     ]
    },
    {
     "output_type": "stream",
     "name": "stdout",
     "text": [
      "Iteration: 3\n",
      "----------------------------------\n",
      "CV_114\n",
      "Iteration: 0\n",
      "Iteration: 1\n"
     ]
    },
    {
     "output_type": "stream",
     "name": "stderr",
     "text": [
      "  3%|▎         | 19/605 [01:32<30:38,  3.14s/it]"
     ]
    },
    {
     "output_type": "stream",
     "name": "stdout",
     "text": [
      "Iteration: 2\n",
      "----------------------------------\n",
      "CV_115\n",
      "Iteration: 0\n",
      "Iteration: 1\n",
      "Iteration: 2\n"
     ]
    },
    {
     "output_type": "stream",
     "name": "stderr",
     "text": [
      "  3%|▎         | 20/605 [01:52<54:52,  5.63s/it]"
     ]
    },
    {
     "output_type": "stream",
     "name": "stdout",
     "text": [
      "Iteration: 3\n",
      "----------------------------------\n",
      "CV_116\n",
      "Iteration: 0\n",
      "Iteration: 1\n",
      "Iteration: 2\n",
      "Iteration: 3\n"
     ]
    },
    {
     "output_type": "stream",
     "name": "stderr",
     "text": [
      "  3%|▎         | 21/605 [02:17<1:28:44,  9.12s/it]"
     ]
    },
    {
     "output_type": "stream",
     "name": "stdout",
     "text": [
      "Iteration: 4\n",
      "----------------------------------\n",
      "CV_117\n",
      "all col missing\n",
      "----------------------------------\n",
      "CV_118\n",
      "Iteration: 0\n",
      "Iteration: 1\n"
     ]
    },
    {
     "output_type": "stream",
     "name": "stderr",
     "text": [
      "  4%|▍         | 23/605 [02:19<1:01:38,  6.35s/it]"
     ]
    },
    {
     "output_type": "stream",
     "name": "stdout",
     "text": [
      "Iteration: 2\n",
      "----------------------------------\n",
      "CV_119\n",
      "all col missing\n",
      "----------------------------------\n",
      "CV_12\n",
      "all col missing\n",
      "----------------------------------\n",
      "CV_120\n",
      "Iteration: 0\n"
     ]
    },
    {
     "output_type": "stream",
     "name": "stderr",
     "text": [
      "  4%|▍         | 26/605 [02:21<38:37,  4.00s/it]  "
     ]
    },
    {
     "output_type": "stream",
     "name": "stdout",
     "text": [
      "Iteration: 1\n",
      "----------------------------------\n",
      "CV_122\n",
      "all col missing\n",
      "----------------------------------\n",
      "CV_123\n",
      "all col missing\n",
      "----------------------------------\n",
      "CV_124\n",
      "Iteration: 0\n",
      "Iteration: 1\n"
     ]
    },
    {
     "output_type": "stream",
     "name": "stderr",
     "text": [
      "  5%|▍         | 29/605 [02:23<25:57,  2.70s/it]"
     ]
    },
    {
     "output_type": "stream",
     "name": "stdout",
     "text": [
      "Iteration: 2\n",
      "----------------------------------\n",
      "CV_125\n",
      "Iteration: 0\n",
      "Iteration: 1\n"
     ]
    },
    {
     "output_type": "stream",
     "name": "stderr",
     "text": [
      "  5%|▍         | 30/605 [02:36<41:21,  4.32s/it]"
     ]
    },
    {
     "output_type": "stream",
     "name": "stdout",
     "text": [
      "Iteration: 2\n",
      "----------------------------------\n",
      "CV_126\n",
      "all col missing\n",
      "----------------------------------\n",
      "CV_127\n",
      "all col missing\n",
      "----------------------------------\n",
      "CV_128\n",
      "all col missing\n",
      "----------------------------------\n",
      "CV_129\n",
      "Iteration: 0\n",
      "Iteration: 1\n"
     ]
    },
    {
     "output_type": "stream",
     "name": "stderr",
     "text": [
      "  6%|▌         | 34/605 [02:39<24:55,  2.62s/it]"
     ]
    },
    {
     "output_type": "stream",
     "name": "stdout",
     "text": [
      "Iteration: 2\n",
      "----------------------------------\n",
      "CV_13\n",
      "all col missing\n",
      "----------------------------------\n",
      "CV_130\n",
      "Iteration: 0\n"
     ]
    },
    {
     "output_type": "stream",
     "name": "stderr",
     "text": [
      "  6%|▌         | 36/605 [02:39<19:18,  2.04s/it]"
     ]
    },
    {
     "output_type": "stream",
     "name": "stdout",
     "text": [
      "Iteration: 1\n",
      "----------------------------------\n",
      "CV_131\n",
      "all col missing\n",
      "----------------------------------\n",
      "CV_132\n",
      "Iteration: 0\n",
      "Iteration: 1\n",
      "Iteration: 2\n",
      "Iteration: 3\n"
     ]
    },
    {
     "output_type": "stream",
     "name": "stderr",
     "text": [
      "  6%|▋         | 38/605 [03:02<42:23,  4.49s/it]"
     ]
    },
    {
     "output_type": "stream",
     "name": "stdout",
     "text": [
      "Iteration: 4\n",
      "----------------------------------\n",
      "CV_133\n",
      "all col missing\n",
      "----------------------------------\n",
      "CV_134\n",
      "all col missing\n",
      "----------------------------------\n",
      "CV_135\n",
      "all col missing\n",
      "----------------------------------\n",
      "CV_136\n",
      "Iteration: 0\n",
      "Iteration: 1\n",
      "Iteration: 2\n"
     ]
    },
    {
     "output_type": "stream",
     "name": "stderr",
     "text": [
      "  7%|▋         | 42/605 [03:04<26:17,  2.80s/it]"
     ]
    },
    {
     "output_type": "stream",
     "name": "stdout",
     "text": [
      "Iteration: 3\n",
      "----------------------------------\n",
      "CV_137\n",
      "all col missing\n",
      "----------------------------------\n",
      "CV_138\n",
      "all col missing\n",
      "----------------------------------\n",
      "CV_139\n",
      "Iteration: 0\n",
      "Iteration: 1\n"
     ]
    },
    {
     "output_type": "stream",
     "name": "stderr",
     "text": [
      "  7%|▋         | 45/605 [03:08<21:15,  2.28s/it]"
     ]
    },
    {
     "output_type": "stream",
     "name": "stdout",
     "text": [
      "Iteration: 2\n",
      "----------------------------------\n",
      "CV_14\n",
      "Iteration: 0\n",
      "Iteration: 1\n",
      "Iteration: 2\n"
     ]
    },
    {
     "output_type": "stream",
     "name": "stderr",
     "text": [
      "  9%|▉         | 53/605 [03:27<18:17,  1.99s/it]"
     ]
    },
    {
     "output_type": "stream",
     "name": "stdout",
     "text": [
      "Iteration: 3\n",
      "----------------------------------\n",
      "CV_140\n",
      "all col missing\n",
      "----------------------------------\n",
      "CV_141\n",
      "all col missing\n",
      "----------------------------------\n",
      "CV_142\n",
      "all col missing\n",
      "----------------------------------\n",
      "CV_143\n",
      "all col missing\n",
      "----------------------------------\n",
      "CV_144\n",
      "all col missing\n",
      "----------------------------------\n",
      "CV_145\n",
      "all col missing\n",
      "----------------------------------\n",
      "CV_146\n",
      "all col missing\n",
      "----------------------------------\n",
      "CV_147\n",
      "Iteration: 0\n",
      "Iteration: 1\n"
     ]
    },
    {
     "output_type": "stream",
     "name": "stderr",
     "text": [
      "  9%|▉         | 54/605 [03:41<29:23,  3.20s/it]"
     ]
    },
    {
     "output_type": "stream",
     "name": "stdout",
     "text": [
      "Iteration: 2\n",
      "----------------------------------\n",
      "CV_148\n",
      "Iteration: 0\n"
     ]
    },
    {
     "output_type": "stream",
     "name": "stderr",
     "text": [
      "  9%|▉         | 55/605 [03:54<40:31,  4.42s/it]"
     ]
    },
    {
     "output_type": "stream",
     "name": "stdout",
     "text": [
      "Iteration: 1\n",
      "----------------------------------\n",
      "CV_149\n",
      "Iteration: 0\n"
     ]
    },
    {
     "output_type": "stream",
     "name": "stderr",
     "text": [
      "  9%|▉         | 56/605 [04:06<50:47,  5.55s/it]"
     ]
    },
    {
     "output_type": "stream",
     "name": "stdout",
     "text": [
      "Iteration: 1\n",
      "----------------------------------\n",
      "CV_15\n",
      "Iteration: 0\n",
      "Iteration: 1\n"
     ]
    },
    {
     "output_type": "stream",
     "name": "stderr",
     "text": [
      "  9%|▉         | 57/605 [04:20<1:04:54,  7.11s/it]"
     ]
    },
    {
     "output_type": "stream",
     "name": "stdout",
     "text": [
      "Iteration: 2\n",
      "----------------------------------\n",
      "CV_150\n",
      "Iteration: 0\n",
      "Iteration: 1\n",
      "Iteration: 2\n"
     ]
    },
    {
     "output_type": "stream",
     "name": "stderr",
     "text": [
      " 10%|▉         | 58/605 [04:35<1:21:03,  8.89s/it]"
     ]
    },
    {
     "output_type": "stream",
     "name": "stdout",
     "text": [
      "Iteration: 3\n",
      "----------------------------------\n",
      "CV_151\n",
      "Iteration: 0\n"
     ]
    },
    {
     "output_type": "stream",
     "name": "stderr",
     "text": [
      " 10%|▉         | 59/605 [04:44<1:21:13,  8.93s/it]"
     ]
    },
    {
     "output_type": "stream",
     "name": "stdout",
     "text": [
      "Iteration: 1\n",
      "----------------------------------\n",
      "CV_152\n",
      "all col missing\n",
      "----------------------------------\n",
      "CV_153\n",
      "all col missing\n",
      "----------------------------------\n",
      "CV_155\n",
      "all col missing\n",
      "----------------------------------\n",
      "CV_156\n",
      "all col missing\n",
      "----------------------------------\n",
      "CV_157\n",
      "Iteration: 0\n",
      "Iteration: 1\n"
     ]
    },
    {
     "output_type": "stream",
     "name": "stderr",
     "text": [
      " 11%|█         | 64/605 [04:57<44:40,  4.96s/it]  "
     ]
    },
    {
     "output_type": "stream",
     "name": "stdout",
     "text": [
      "Iteration: 2\n",
      "----------------------------------\n",
      "CV_158\n",
      "all col missing\n",
      "----------------------------------\n",
      "CV_159\n",
      "all col missing\n",
      "----------------------------------\n",
      "CV_16\n",
      "Iteration: 0\n",
      "Iteration: 1\n",
      "Iteration: 2\n",
      "Iteration: 3\n",
      "Iteration: 4\n",
      "Iteration: 5\n"
     ]
    },
    {
     "output_type": "stream",
     "name": "stderr",
     "text": [
      " 11%|█         | 67/605 [05:29<1:02:13,  6.94s/it]"
     ]
    },
    {
     "output_type": "stream",
     "name": "stdout",
     "text": [
      "Iteration: 6\n",
      "----------------------------------\n",
      "CV_160\n",
      "----------------------------------\n",
      "CV_161\n"
     ]
    },
    {
     "output_type": "stream",
     "name": "stderr",
     "text": [
      "/home/kumaran/.local/lib/python3.6/site-packages/missingpy/missforest.py:528: UserWarning: No missing value located; returning original dataset.\n",
      "  warnings.warn(\"No missing value located; returning original \"\n"
     ]
    },
    {
     "output_type": "stream",
     "name": "stdout",
     "text": [
      "Iteration: 0\n",
      "Iteration: 1\n"
     ]
    },
    {
     "output_type": "stream",
     "name": "stderr",
     "text": [
      " 11%|█▏        | 69/605 [05:31<48:21,  5.41s/it]  "
     ]
    },
    {
     "output_type": "stream",
     "name": "stdout",
     "text": [
      "Iteration: 2\n",
      "----------------------------------\n",
      "CV_162\n",
      "Iteration: 0\n",
      "Iteration: 1\n",
      "Iteration: 2\n"
     ]
    },
    {
     "output_type": "stream",
     "name": "stderr",
     "text": [
      " 12%|█▏        | 71/605 [05:43<50:10,  5.64s/it]"
     ]
    },
    {
     "output_type": "stream",
     "name": "stdout",
     "text": [
      "Iteration: 3\n",
      "----------------------------------\n",
      "CV_163\n",
      "all col missing\n",
      "----------------------------------\n",
      "CV_164\n",
      "Iteration: 0\n"
     ]
    },
    {
     "output_type": "stream",
     "name": "stderr",
     "text": [
      " 12%|█▏        | 72/605 [05:51<52:28,  5.91s/it]"
     ]
    },
    {
     "output_type": "stream",
     "name": "stdout",
     "text": [
      "Iteration: 1\n",
      "----------------------------------\n",
      "CV_165\n",
      "all col missing\n",
      "----------------------------------\n",
      "CV_166\n",
      "all col missing\n",
      "----------------------------------\n",
      "CV_167\n",
      "all col missing\n",
      "----------------------------------\n",
      "CV_168\n",
      "Iteration: 0\n",
      "Iteration: 1\n"
     ]
    },
    {
     "output_type": "stream",
     "name": "stderr",
     "text": [
      " 13%|█▎        | 76/605 [05:52<29:05,  3.30s/it]"
     ]
    },
    {
     "output_type": "stream",
     "name": "stdout",
     "text": [
      "Iteration: 2\n",
      "----------------------------------\n",
      "CV_169\n",
      "all col missing\n",
      "----------------------------------\n",
      "CV_17\n",
      "all col missing\n",
      "----------------------------------\n",
      "CV_170\n",
      "Iteration: 0\n",
      "Iteration: 1\n",
      "Iteration: 2\n"
     ]
    },
    {
     "output_type": "stream",
     "name": "stderr",
     "text": [
      " 13%|█▎        | 79/605 [06:04<30:41,  3.50s/it]"
     ]
    },
    {
     "output_type": "stream",
     "name": "stdout",
     "text": [
      "Iteration: 3\n",
      "----------------------------------\n",
      "CV_171\n",
      "Iteration: 0\n",
      "Iteration: 1\n"
     ]
    },
    {
     "output_type": "stream",
     "name": "stderr",
     "text": [
      " 13%|█▎        | 80/605 [06:06<28:38,  3.27s/it]"
     ]
    },
    {
     "output_type": "stream",
     "name": "stdout",
     "text": [
      "Iteration: 2\n",
      "----------------------------------\n",
      "CV_172\n",
      "all col missing\n",
      "----------------------------------\n",
      "CV_173\n",
      "Iteration: 0\n",
      "Iteration: 1\n"
     ]
    },
    {
     "output_type": "stream",
     "name": "stderr",
     "text": [
      " 14%|█▎        | 82/605 [06:07<22:22,  2.57s/it]"
     ]
    },
    {
     "output_type": "stream",
     "name": "stdout",
     "text": [
      "Iteration: 2\n",
      "----------------------------------\n",
      "CV_174\n",
      "Iteration: 0\n",
      "Iteration: 1\n",
      "Iteration: 2\n"
     ]
    },
    {
     "output_type": "stream",
     "name": "stderr",
     "text": [
      " 14%|█▎        | 83/605 [06:10<21:57,  2.52s/it]"
     ]
    },
    {
     "output_type": "stream",
     "name": "stdout",
     "text": [
      "Iteration: 3\n",
      "----------------------------------\n",
      "CV_175\n",
      "all col missing\n",
      "----------------------------------\n",
      "CV_176\n",
      "Iteration: 0\n"
     ]
    },
    {
     "output_type": "stream",
     "name": "stderr",
     "text": [
      " 14%|█▍        | 85/605 [06:15<22:51,  2.64s/it]"
     ]
    },
    {
     "output_type": "stream",
     "name": "stdout",
     "text": [
      "Iteration: 1\n",
      "----------------------------------\n",
      "CV_177\n",
      "all col missing\n",
      "----------------------------------\n",
      "CV_178\n",
      "all col missing\n",
      "----------------------------------\n",
      "CV_179\n",
      "all col missing\n",
      "----------------------------------\n",
      "CV_18\n",
      "all col missing\n",
      "----------------------------------\n",
      "CV_180\n",
      "all col missing\n",
      "----------------------------------\n",
      "CV_181\n",
      "Iteration: 0\n"
     ]
    },
    {
     "output_type": "stream",
     "name": "stderr",
     "text": [
      " 15%|█▌        | 91/605 [06:16<10:21,  1.21s/it]"
     ]
    },
    {
     "output_type": "stream",
     "name": "stdout",
     "text": [
      "Iteration: 1\n",
      "----------------------------------\n",
      "CV_182\n",
      "all col missing\n",
      "----------------------------------\n",
      "CV_183\n",
      "all col missing\n",
      "----------------------------------\n",
      "CV_184\n",
      "all col missing\n",
      "----------------------------------\n",
      "CV_185\n",
      "all col missing\n",
      "----------------------------------\n",
      "CV_186\n",
      "Iteration: 0\n",
      "Iteration: 1\n"
     ]
    },
    {
     "output_type": "stream",
     "name": "stderr",
     "text": [
      " 16%|█▌        | 96/605 [06:19<07:44,  1.10it/s]"
     ]
    },
    {
     "output_type": "stream",
     "name": "stdout",
     "text": [
      "Iteration: 2\n",
      "----------------------------------\n",
      "CV_187\n",
      "all col missing\n",
      "----------------------------------\n",
      "CV_188\n",
      "all col missing\n",
      "----------------------------------\n",
      "CV_189\n",
      "all col missing\n",
      "----------------------------------\n",
      "CV_19\n",
      "Iteration: 0\n"
     ]
    },
    {
     "output_type": "stream",
     "name": "stderr",
     "text": [
      " 17%|█▋        | 100/605 [06:27<10:49,  1.29s/it]"
     ]
    },
    {
     "output_type": "stream",
     "name": "stdout",
     "text": [
      "Iteration: 1\n",
      "----------------------------------\n",
      "CV_190\n",
      "all col missing\n",
      "----------------------------------\n",
      "CV_191\n",
      "----------------------------------\n",
      "CV_192\n",
      "all col missing\n",
      "----------------------------------\n",
      "CV_193\n",
      "all col missing\n",
      "----------------------------------\n",
      "CV_194\n",
      "all col missing\n",
      "----------------------------------\n",
      "CV_195\n",
      "all col missing\n",
      "----------------------------------\n",
      "CV_196\n",
      "all col missing\n",
      "----------------------------------\n",
      "CV_197\n"
     ]
    },
    {
     "output_type": "stream",
     "name": "stderr",
     "text": [
      "/home/kumaran/.local/lib/python3.6/site-packages/missingpy/missforest.py:528: UserWarning: No missing value located; returning original dataset.\n",
      "  warnings.warn(\"No missing value located; returning original \"\n"
     ]
    },
    {
     "output_type": "stream",
     "name": "stdout",
     "text": [
      "Iteration: 0\n",
      "Iteration: 1\n"
     ]
    },
    {
     "output_type": "stream",
     "name": "stderr",
     "text": [
      " 18%|█▊        | 108/605 [06:30<06:49,  1.21it/s]"
     ]
    },
    {
     "output_type": "stream",
     "name": "stdout",
     "text": [
      "Iteration: 2\n",
      "----------------------------------\n",
      "CV_198\n",
      "----------------------------------\n",
      "CV_199\n"
     ]
    },
    {
     "output_type": "stream",
     "name": "stderr",
     "text": [
      "/home/kumaran/.local/lib/python3.6/site-packages/missingpy/missforest.py:528: UserWarning: No missing value located; returning original dataset.\n",
      "  warnings.warn(\"No missing value located; returning original \"\n"
     ]
    },
    {
     "output_type": "stream",
     "name": "stdout",
     "text": [
      "Iteration: 0\n",
      "Iteration: 1\n"
     ]
    },
    {
     "output_type": "stream",
     "name": "stderr",
     "text": [
      " 18%|█▊        | 110/605 [06:32<06:59,  1.18it/s]"
     ]
    },
    {
     "output_type": "stream",
     "name": "stdout",
     "text": [
      "Iteration: 2\n",
      "----------------------------------\n",
      "CV_2\n",
      "Iteration: 0\n",
      "Iteration: 1\n",
      "Iteration: 2\n",
      "Iteration: 3\n"
     ]
    },
    {
     "output_type": "stream",
     "name": "stderr",
     "text": [
      " 18%|█▊        | 111/605 [06:56<25:11,  3.06s/it]"
     ]
    },
    {
     "output_type": "stream",
     "name": "stdout",
     "text": [
      "Iteration: 4\n",
      "----------------------------------\n",
      "CV_20\n",
      "all col missing\n",
      "----------------------------------\n",
      "CV_200\n",
      "all col missing\n",
      "----------------------------------\n",
      "CV_201\n",
      "Iteration: 0\n",
      "Iteration: 1\n"
     ]
    },
    {
     "output_type": "stream",
     "name": "stderr",
     "text": [
      " 19%|█▉        | 114/605 [06:58<19:08,  2.34s/it]"
     ]
    },
    {
     "output_type": "stream",
     "name": "stdout",
     "text": [
      "Iteration: 2\n",
      "----------------------------------\n",
      "CV_202\n",
      "all col missing\n",
      "----------------------------------\n",
      "CV_203\n",
      "all col missing\n",
      "----------------------------------\n",
      "CV_204\n",
      "all col missing\n",
      "----------------------------------\n",
      "CV_205\n",
      "all col missing\n",
      "----------------------------------\n",
      "CV_206\n",
      "----------------------------------\n",
      "CV_207\n",
      "all col missing\n",
      "----------------------------------\n",
      "CV_208\n"
     ]
    },
    {
     "output_type": "stream",
     "name": "stderr",
     "text": [
      "/home/kumaran/.local/lib/python3.6/site-packages/missingpy/missforest.py:528: UserWarning: No missing value located; returning original dataset.\n",
      "  warnings.warn(\"No missing value located; returning original \"\n"
     ]
    },
    {
     "output_type": "stream",
     "name": "stdout",
     "text": [
      "Iteration: 0\n",
      "Iteration: 1\n"
     ]
    },
    {
     "output_type": "stream",
     "name": "stderr",
     "text": [
      " 20%|██        | 121/605 [07:03<12:45,  1.58s/it]"
     ]
    },
    {
     "output_type": "stream",
     "name": "stdout",
     "text": [
      "Iteration: 2\n",
      "----------------------------------\n",
      "CV_209\n",
      "----------------------------------\n",
      "CV_21\n"
     ]
    },
    {
     "output_type": "stream",
     "name": "stderr",
     "text": [
      "/home/kumaran/.local/lib/python3.6/site-packages/missingpy/missforest.py:528: UserWarning: No missing value located; returning original dataset.\n",
      "  warnings.warn(\"No missing value located; returning original \"\n"
     ]
    },
    {
     "output_type": "stream",
     "name": "stdout",
     "text": [
      "Iteration: 0\n",
      "Iteration: 1\n",
      "Iteration: 2\n",
      "Iteration: 3\n"
     ]
    },
    {
     "output_type": "stream",
     "name": "stderr",
     "text": [
      " 20%|██        | 123/605 [07:26<25:32,  3.18s/it]"
     ]
    },
    {
     "output_type": "stream",
     "name": "stdout",
     "text": [
      "Iteration: 4\n",
      "----------------------------------\n",
      "CV_210\n",
      "all col missing\n",
      "----------------------------------\n",
      "CV_211\n",
      "all col missing\n",
      "----------------------------------\n",
      "CV_212\n",
      "all col missing\n",
      "----------------------------------\n",
      "CV_213\n",
      "all col missing\n",
      "----------------------------------\n",
      "CV_214\n",
      "all col missing\n",
      "----------------------------------\n",
      "CV_215\n",
      "all col missing\n",
      "----------------------------------\n",
      "CV_216\n",
      "all col missing\n",
      "----------------------------------\n",
      "CV_217\n",
      "Iteration: 0\n",
      "Iteration: 1\n"
     ]
    },
    {
     "output_type": "stream",
     "name": "stderr",
     "text": [
      " 22%|██▏       | 131/605 [07:26<13:17,  1.68s/it]"
     ]
    },
    {
     "output_type": "stream",
     "name": "stdout",
     "text": [
      "Iteration: 2\n",
      "----------------------------------\n",
      "CV_218\n",
      "Iteration: 0\n",
      "Iteration: 1\n"
     ]
    },
    {
     "output_type": "stream",
     "name": "stderr",
     "text": [
      " 23%|██▎       | 142/605 [07:39<09:18,  1.21s/it]"
     ]
    },
    {
     "output_type": "stream",
     "name": "stdout",
     "text": [
      "Iteration: 2\n",
      "----------------------------------\n",
      "CV_219\n",
      "all col missing\n",
      "----------------------------------\n",
      "CV_22\n",
      "all col missing\n",
      "----------------------------------\n",
      "CV_221\n",
      "all col missing\n",
      "----------------------------------\n",
      "CV_223\n",
      "all col missing\n",
      "----------------------------------\n",
      "CV_224\n",
      "all col missing\n",
      "----------------------------------\n",
      "CV_225\n",
      "all col missing\n",
      "----------------------------------\n",
      "CV_226\n",
      "all col missing\n",
      "----------------------------------\n",
      "CV_227\n",
      "all col missing\n",
      "----------------------------------\n",
      "CV_228\n",
      "all col missing\n",
      "----------------------------------\n",
      "CV_229\n",
      "all col missing\n",
      "----------------------------------\n",
      "CV_23\n",
      "Iteration: 0\n",
      "Iteration: 1\n"
     ]
    },
    {
     "output_type": "stream",
     "name": "stderr",
     "text": [
      " 23%|██▎       | 142/605 [07:50<09:18,  1.21s/it]"
     ]
    },
    {
     "output_type": "stream",
     "name": "stdout",
     "text": [
      "Iteration: 2\n",
      "Iteration: 3\n"
     ]
    },
    {
     "output_type": "stream",
     "name": "stderr",
     "text": [
      " 24%|██▎       | 143/605 [08:02<20:50,  2.71s/it]"
     ]
    },
    {
     "output_type": "stream",
     "name": "stdout",
     "text": [
      "Iteration: 4\n",
      "----------------------------------\n",
      "CV_233\n",
      "all col missing\n",
      "----------------------------------\n",
      "CV_234\n",
      "all col missing\n",
      "----------------------------------\n",
      "CV_235\n",
      "all col missing\n",
      "----------------------------------\n",
      "CV_236\n",
      "all col missing\n",
      "----------------------------------\n",
      "CV_237\n",
      "all col missing\n",
      "----------------------------------\n",
      "CV_238\n",
      "all col missing\n",
      "----------------------------------\n",
      "CV_239\n",
      "all col missing\n",
      "----------------------------------\n",
      "CV_24\n",
      "Iteration: 0\n",
      "Iteration: 1\n",
      "Iteration: 2\n",
      "Iteration: 3\n"
     ]
    },
    {
     "output_type": "stream",
     "name": "stderr",
     "text": [
      " 25%|██▍       | 151/605 [08:25<21:14,  2.81s/it]/home/kumaran/.local/lib/python3.6/site-packages/missingpy/missforest.py:528: UserWarning: No missing value located; returning original dataset.\n",
      "  warnings.warn(\"No missing value located; returning original \"\n",
      " 26%|██▋       | 159/605 [08:25<12:46,  1.72s/it]"
     ]
    },
    {
     "output_type": "stream",
     "name": "stdout",
     "text": [
      "Iteration: 4\n",
      "----------------------------------\n",
      "CV_240\n",
      "all col missing\n",
      "----------------------------------\n",
      "CV_241\n",
      "all col missing\n",
      "----------------------------------\n",
      "CV_242\n",
      "all col missing\n",
      "----------------------------------\n",
      "CV_243\n",
      "all col missing\n",
      "----------------------------------\n",
      "CV_244\n",
      "all col missing\n",
      "----------------------------------\n",
      "CV_245\n",
      "all col missing\n",
      "----------------------------------\n",
      "CV_247\n",
      "----------------------------------\n",
      "CV_248\n",
      "all col missing\n",
      "----------------------------------\n",
      "CV_25\n",
      "Iteration: 0\n",
      "Iteration: 1\n",
      "Iteration: 2\n"
     ]
    },
    {
     "output_type": "stream",
     "name": "stderr",
     "text": [
      " 26%|██▋       | 159/605 [08:40<12:46,  1.72s/it]"
     ]
    },
    {
     "output_type": "stream",
     "name": "stdout",
     "text": [
      "Iteration: 3\n"
     ]
    },
    {
     "output_type": "stream",
     "name": "stderr",
     "text": [
      " 26%|██▋       | 160/605 [08:48<22:51,  3.08s/it]"
     ]
    },
    {
     "output_type": "stream",
     "name": "stdout",
     "text": [
      "Iteration: 4\n",
      "----------------------------------\n",
      "CV_250\n",
      "all col missing\n",
      "----------------------------------\n",
      "CV_252\n",
      "all col missing\n",
      "----------------------------------\n",
      "CV_253\n",
      "all col missing\n",
      "----------------------------------\n",
      "CV_254\n",
      "all col missing\n",
      "----------------------------------\n",
      "CV_255\n",
      "all col missing\n",
      "----------------------------------\n",
      "CV_256\n",
      "all col missing\n",
      "----------------------------------\n",
      "CV_257\n",
      "all col missing\n",
      "----------------------------------\n",
      "CV_258\n",
      "all col missing\n",
      "----------------------------------\n",
      "CV_259\n",
      "all col missing\n",
      "----------------------------------\n",
      "CV_26\n",
      "Iteration: 0\n",
      "Iteration: 1\n",
      "Iteration: 2\n"
     ]
    },
    {
     "output_type": "stream",
     "name": "stderr",
     "text": [
      " 30%|██▉       | 180/605 [09:09<10:56,  1.54s/it]"
     ]
    },
    {
     "output_type": "stream",
     "name": "stdout",
     "text": [
      "Iteration: 3\n",
      "----------------------------------\n",
      "CV_261\n",
      "all col missing\n",
      "----------------------------------\n",
      "CV_262\n",
      "all col missing\n",
      "----------------------------------\n",
      "CV_263\n",
      "all col missing\n",
      "----------------------------------\n",
      "CV_264\n",
      "all col missing\n",
      "----------------------------------\n",
      "CV_265\n",
      "all col missing\n",
      "----------------------------------\n",
      "CV_266\n",
      "all col missing\n",
      "----------------------------------\n",
      "CV_267\n",
      "all col missing\n",
      "----------------------------------\n",
      "CV_268\n",
      "all col missing\n",
      "----------------------------------\n",
      "CV_269\n",
      "all col missing\n",
      "----------------------------------\n",
      "CV_27\n",
      "all col missing\n",
      "----------------------------------\n",
      "CV_270\n",
      "all col missing\n",
      "----------------------------------\n",
      "CV_271\n",
      "all col missing\n",
      "----------------------------------\n",
      "CV_272\n",
      "all col missing\n",
      "----------------------------------\n",
      "CV_273\n",
      "all col missing\n",
      "----------------------------------\n",
      "CV_275\n",
      "all col missing\n",
      "----------------------------------\n",
      "CV_276\n",
      "all col missing\n",
      "----------------------------------\n",
      "CV_277\n",
      "all col missing\n",
      "----------------------------------\n",
      "CV_278\n",
      "all col missing\n",
      "----------------------------------\n",
      "CV_279\n",
      "all col missing\n",
      "----------------------------------\n",
      "CV_28\n",
      "all col missing\n",
      "----------------------------------\n",
      "CV_280\n",
      "all col missing\n"
     ]
    },
    {
     "output_type": "stream",
     "name": "stderr",
     "text": [
      " 33%|███▎      | 201/605 [09:09<04:17,  1.57it/s]"
     ]
    },
    {
     "output_type": "stream",
     "name": "stdout",
     "text": [
      "----------------------------------\n",
      "CV_281\n",
      "all col missing\n",
      "----------------------------------\n",
      "CV_282\n",
      "all col missing\n",
      "----------------------------------\n",
      "CV_283\n",
      "all col missing\n",
      "----------------------------------\n",
      "CV_284\n",
      "all col missing\n",
      "----------------------------------\n",
      "CV_285\n",
      "all col missing\n",
      "----------------------------------\n",
      "CV_286\n",
      "all col missing\n",
      "----------------------------------\n",
      "CV_287\n",
      "all col missing\n",
      "----------------------------------\n",
      "CV_288\n",
      "all col missing\n",
      "----------------------------------\n",
      "CV_289\n",
      "all col missing\n",
      "----------------------------------\n",
      "CV_29\n",
      "all col missing\n",
      "----------------------------------\n",
      "CV_290\n",
      "all col missing\n",
      "----------------------------------\n",
      "CV_291\n",
      "all col missing\n",
      "----------------------------------\n",
      "CV_292\n",
      "all col missing\n",
      "----------------------------------\n",
      "CV_293\n",
      "all col missing\n",
      "----------------------------------\n",
      "CV_294\n",
      "all col missing\n",
      "----------------------------------\n",
      "CV_295\n",
      "all col missing\n",
      "----------------------------------\n",
      "CV_296\n",
      "all col missing\n",
      "----------------------------------\n",
      "CV_297\n",
      "all col missing\n",
      "----------------------------------\n",
      "CV_298\n",
      "----------------------------------\n",
      "CV_299\n",
      "all col missing\n",
      "----------------------------------\n",
      "CV_3\n"
     ]
    },
    {
     "output_type": "stream",
     "name": "stderr",
     "text": [
      "/home/kumaran/.local/lib/python3.6/site-packages/missingpy/missforest.py:528: UserWarning: No missing value located; returning original dataset.\n",
      "  warnings.warn(\"No missing value located; returning original \"\n"
     ]
    },
    {
     "output_type": "stream",
     "name": "stdout",
     "text": [
      "Iteration: 0\n",
      "Iteration: 1\n"
     ]
    },
    {
     "output_type": "stream",
     "name": "stderr",
     "text": [
      " 37%|███▋      | 221/605 [09:20<03:25,  1.87it/s]"
     ]
    },
    {
     "output_type": "stream",
     "name": "stdout",
     "text": [
      "Iteration: 2\n",
      "----------------------------------\n",
      "CV_30\n",
      "all col missing\n",
      "----------------------------------\n",
      "CV_300\n",
      "all col missing\n",
      "----------------------------------\n",
      "CV_301\n",
      "all col missing\n",
      "----------------------------------\n",
      "CV_302\n",
      "all col missing\n",
      "----------------------------------\n",
      "CV_303\n",
      "all col missing\n",
      "----------------------------------\n",
      "CV_304\n",
      "all col missing\n",
      "----------------------------------\n",
      "CV_305\n",
      "all col missing\n",
      "----------------------------------\n",
      "CV_306\n",
      "all col missing\n",
      "----------------------------------\n",
      "CV_307\n",
      "all col missing\n",
      "----------------------------------\n",
      "CV_308\n",
      "all col missing\n",
      "----------------------------------\n",
      "CV_309\n",
      "all col missing\n",
      "----------------------------------\n",
      "CV_31\n",
      "all col missing\n",
      "----------------------------------\n",
      "CV_310\n",
      "all col missing\n",
      "----------------------------------\n",
      "CV_311\n",
      "all col missing\n",
      "----------------------------------\n",
      "CV_312\n",
      "all col missing\n",
      "----------------------------------\n",
      "CV_313\n",
      "all col missing\n",
      "----------------------------------\n",
      "CV_32\n",
      "all col missing\n",
      "----------------------------------\n",
      "CV_33\n",
      "Iteration: 0\n",
      "Iteration: 1\n",
      "Iteration: 2\n"
     ]
    },
    {
     "output_type": "stream",
     "name": "stderr",
     "text": [
      " 37%|███▋      | 221/605 [09:40<03:25,  1.87it/s]"
     ]
    },
    {
     "output_type": "stream",
     "name": "stdout",
     "text": [
      "Iteration: 3\n"
     ]
    },
    {
     "output_type": "stream",
     "name": "stderr",
     "text": [
      " 38%|███▊      | 230/605 [09:48<08:04,  1.29s/it]"
     ]
    },
    {
     "output_type": "stream",
     "name": "stdout",
     "text": [
      "Iteration: 4\n",
      "----------------------------------\n",
      "CV_34\n",
      "all col missing\n",
      "----------------------------------\n",
      "CV_35\n",
      "Iteration: 0\n",
      "Iteration: 1\n"
     ]
    },
    {
     "output_type": "stream",
     "name": "stderr",
     "text": [
      " 38%|███▊      | 232/605 [09:50<07:47,  1.25s/it]"
     ]
    },
    {
     "output_type": "stream",
     "name": "stdout",
     "text": [
      "Iteration: 2\n",
      "----------------------------------\n",
      "CV_36\n",
      "Iteration: 0\n"
     ]
    },
    {
     "output_type": "stream",
     "name": "stderr",
     "text": [
      " 38%|███▊      | 232/605 [10:00<07:47,  1.25s/it]"
     ]
    },
    {
     "output_type": "stream",
     "name": "stdout",
     "text": [
      "Iteration: 1\n",
      "Iteration: 2\n",
      "Iteration: 3\n"
     ]
    },
    {
     "output_type": "stream",
     "name": "stderr",
     "text": [
      " 39%|███▊      | 233/605 [10:23<19:00,  3.07s/it]"
     ]
    },
    {
     "output_type": "stream",
     "name": "stdout",
     "text": [
      "Iteration: 4\n",
      "----------------------------------\n",
      "CV_37\n",
      "all col missing\n",
      "----------------------------------\n",
      "CV_38\n",
      "all col missing\n",
      "----------------------------------\n",
      "CV_39\n",
      "all col missing\n",
      "----------------------------------\n",
      "CV_4\n",
      "Iteration: 0\n",
      "Iteration: 1\n",
      "Iteration: 2\n"
     ]
    },
    {
     "output_type": "stream",
     "name": "stderr",
     "text": [
      " 39%|███▉      | 237/605 [10:43<21:46,  3.55s/it]"
     ]
    },
    {
     "output_type": "stream",
     "name": "stdout",
     "text": [
      "Iteration: 3\n",
      "----------------------------------\n",
      "CV_40\n",
      "all col missing\n",
      "----------------------------------\n",
      "CV_41\n",
      "all col missing\n",
      "----------------------------------\n",
      "CV_42\n",
      "Iteration: 0\n",
      "Iteration: 1\n",
      "Iteration: 2\n",
      "Iteration: 3\n",
      "Iteration: 4\n"
     ]
    },
    {
     "output_type": "stream",
     "name": "stderr",
     "text": [
      " 40%|███▉      | 240/605 [11:10<28:32,  4.69s/it]"
     ]
    },
    {
     "output_type": "stream",
     "name": "stdout",
     "text": [
      "Iteration: 5\n",
      "----------------------------------\n",
      "CV_43\n",
      "all col missing\n",
      "----------------------------------\n",
      "CV_44\n",
      "all col missing\n",
      "----------------------------------\n",
      "CV_45\n",
      "Iteration: 0\n"
     ]
    },
    {
     "output_type": "stream",
     "name": "stderr",
     "text": [
      " 40%|████      | 243/605 [11:19<26:19,  4.36s/it]"
     ]
    },
    {
     "output_type": "stream",
     "name": "stdout",
     "text": [
      "Iteration: 1\n",
      "----------------------------------\n",
      "CV_46\n",
      "Iteration: 0\n"
     ]
    },
    {
     "output_type": "stream",
     "name": "stderr",
     "text": [
      " 40%|████      | 243/605 [11:30<26:19,  4.36s/it]"
     ]
    },
    {
     "output_type": "stream",
     "name": "stdout",
     "text": [
      "Iteration: 1\n"
     ]
    },
    {
     "output_type": "stream",
     "name": "stderr",
     "text": [
      " 40%|████      | 244/605 [11:40<35:38,  5.92s/it]"
     ]
    },
    {
     "output_type": "stream",
     "name": "stdout",
     "text": [
      "Iteration: 2\n",
      "----------------------------------\n",
      "CV_47\n",
      "----------------------------------\n",
      "CV_48\n"
     ]
    },
    {
     "output_type": "stream",
     "name": "stderr",
     "text": [
      "/home/kumaran/.local/lib/python3.6/site-packages/missingpy/missforest.py:528: UserWarning: No missing value located; returning original dataset.\n",
      "  warnings.warn(\"No missing value located; returning original \"\n"
     ]
    },
    {
     "output_type": "stream",
     "name": "stdout",
     "text": [
      "Iteration: 0\n",
      "Iteration: 1\n",
      "Iteration: 2\n",
      "Iteration: 3\n",
      "Iteration: 4\n"
     ]
    },
    {
     "output_type": "stream",
     "name": "stderr",
     "text": [
      " 41%|████      | 246/605 [11:45<30:54,  5.17s/it]"
     ]
    },
    {
     "output_type": "stream",
     "name": "stdout",
     "text": [
      "Iteration: 5\n",
      "----------------------------------\n",
      "CV_49\n",
      "all col missing\n",
      "----------------------------------\n",
      "CV_5\n",
      "all col missing\n",
      "----------------------------------\n",
      "CV_50\n",
      "----------------------------------\n",
      "CV_51\n"
     ]
    },
    {
     "output_type": "stream",
     "name": "stderr",
     "text": [
      "/home/kumaran/.local/lib/python3.6/site-packages/missingpy/missforest.py:528: UserWarning: No missing value located; returning original dataset.\n",
      "  warnings.warn(\"No missing value located; returning original \"\n"
     ]
    },
    {
     "output_type": "stream",
     "name": "stdout",
     "text": [
      "Iteration: 0\n",
      "Iteration: 1\n",
      "Iteration: 2\n"
     ]
    },
    {
     "output_type": "stream",
     "name": "stderr",
     "text": [
      " 41%|████▏     | 250/605 [11:49<21:12,  3.58s/it]"
     ]
    },
    {
     "output_type": "stream",
     "name": "stdout",
     "text": [
      "Iteration: 3\n",
      "----------------------------------\n",
      "CV_52\n",
      "all col missing\n",
      "----------------------------------\n",
      "CV_53\n",
      "Iteration: 0\n"
     ]
    },
    {
     "output_type": "stream",
     "name": "stderr",
     "text": [
      " 41%|████▏     | 250/605 [12:00<21:12,  3.58s/it]"
     ]
    },
    {
     "output_type": "stream",
     "name": "stdout",
     "text": [
      "Iteration: 1\n",
      "Iteration: 2\n",
      "Iteration: 3\n"
     ]
    },
    {
     "output_type": "stream",
     "name": "stderr",
     "text": [
      " 42%|████▏     | 252/605 [12:17<34:15,  5.82s/it]"
     ]
    },
    {
     "output_type": "stream",
     "name": "stdout",
     "text": [
      "Iteration: 4\n",
      "----------------------------------\n",
      "CV_54\n",
      "----------------------------------\n",
      "CV_55\n"
     ]
    },
    {
     "output_type": "stream",
     "name": "stderr",
     "text": [
      "/home/kumaran/.local/lib/python3.6/site-packages/missingpy/missforest.py:528: UserWarning: No missing value located; returning original dataset.\n",
      "  warnings.warn(\"No missing value located; returning original \"\n"
     ]
    },
    {
     "output_type": "stream",
     "name": "stdout",
     "text": [
      "Iteration: 0\n",
      "Iteration: 1\n",
      "Iteration: 2\n"
     ]
    },
    {
     "output_type": "stream",
     "name": "stderr",
     "text": [
      " 42%|████▏     | 254/605 [12:30<35:06,  6.00s/it]"
     ]
    },
    {
     "output_type": "stream",
     "name": "stdout",
     "text": [
      "Iteration: 3\n",
      "----------------------------------\n",
      "CV_56\n",
      "all col missing\n",
      "----------------------------------\n",
      "CV_57\n",
      "Iteration: 0\n",
      "Iteration: 1\n"
     ]
    },
    {
     "output_type": "stream",
     "name": "stderr",
     "text": [
      " 42%|████▏     | 256/605 [12:43<35:57,  6.18s/it]"
     ]
    },
    {
     "output_type": "stream",
     "name": "stdout",
     "text": [
      "Iteration: 2\n",
      "----------------------------------\n",
      "CV_58\n",
      "Iteration: 0\n",
      "Iteration: 1\n",
      "Iteration: 2\n"
     ]
    },
    {
     "output_type": "stream",
     "name": "stderr",
     "text": [
      " 42%|████▏     | 257/605 [12:46<32:29,  5.60s/it]"
     ]
    },
    {
     "output_type": "stream",
     "name": "stdout",
     "text": [
      "Iteration: 3\n",
      "----------------------------------\n",
      "CV_59\n",
      "all col missing\n",
      "----------------------------------\n",
      "CV_6\n",
      "Iteration: 0\n",
      "Iteration: 1\n"
     ]
    },
    {
     "output_type": "stream",
     "name": "stderr",
     "text": [
      " 43%|████▎     | 259/605 [12:57<32:26,  5.63s/it]"
     ]
    },
    {
     "output_type": "stream",
     "name": "stdout",
     "text": [
      "Iteration: 2\n",
      "----------------------------------\n",
      "CV_60\n",
      "Iteration: 0\n",
      "Iteration: 1\n",
      "Iteration: 2\n"
     ]
    },
    {
     "output_type": "stream",
     "name": "stderr",
     "text": [
      " 43%|████▎     | 260/605 [13:17<47:12,  8.21s/it]"
     ]
    },
    {
     "output_type": "stream",
     "name": "stdout",
     "text": [
      "Iteration: 3\n",
      "----------------------------------\n",
      "CV_61\n",
      "Iteration: 0\n",
      "Iteration: 1\n",
      "Iteration: 2\n",
      "Iteration: 3\n",
      "Iteration: 4\n"
     ]
    },
    {
     "output_type": "stream",
     "name": "stderr",
     "text": [
      " 43%|████▎     | 261/605 [13:42<1:06:39, 11.63s/it]"
     ]
    },
    {
     "output_type": "stream",
     "name": "stdout",
     "text": [
      "Iteration: 5\n",
      "----------------------------------\n",
      "CV_62\n",
      "all col missing\n",
      "----------------------------------\n",
      "CV_63\n",
      "Iteration: 0\n",
      "Iteration: 1\n",
      "Iteration: 2\n"
     ]
    },
    {
     "output_type": "stream",
     "name": "stderr",
     "text": [
      " 43%|████▎     | 263/605 [14:01<1:02:01, 10.88s/it]"
     ]
    },
    {
     "output_type": "stream",
     "name": "stdout",
     "text": [
      "Iteration: 3\n",
      "----------------------------------\n",
      "CV_64\n",
      "all col missing\n",
      "----------------------------------\n",
      "CV_65\n",
      "all col missing\n",
      "----------------------------------\n",
      "CV_66\n",
      "Iteration: 0\n",
      "Iteration: 1\n"
     ]
    },
    {
     "output_type": "stream",
     "name": "stderr",
     "text": [
      " 44%|████▍     | 266/605 [14:13<43:34,  7.71s/it]  "
     ]
    },
    {
     "output_type": "stream",
     "name": "stdout",
     "text": [
      "Iteration: 2\n",
      "----------------------------------\n",
      "CV_67\n",
      "Iteration: 0\n",
      "Iteration: 1\n",
      "Iteration: 2\n"
     ]
    },
    {
     "output_type": "stream",
     "name": "stderr",
     "text": [
      " 44%|████▍     | 267/605 [14:21<44:07,  7.83s/it]"
     ]
    },
    {
     "output_type": "stream",
     "name": "stdout",
     "text": [
      "Iteration: 3\n",
      "----------------------------------\n",
      "CV_68\n",
      "Iteration: 0\n",
      "Iteration: 1\n",
      "Iteration: 2\n",
      "----------------------------------\n",
      "CV_69\n",
      "Iteration: 0\n",
      "Iteration: 1\n",
      "Iteration: 2\n"
     ]
    },
    {
     "output_type": "stream",
     "name": "stderr",
     "text": [
      " 44%|████▍     | 269/605 [14:28<35:36,  6.36s/it]"
     ]
    },
    {
     "output_type": "stream",
     "name": "stdout",
     "text": [
      "Iteration: 3\n",
      "----------------------------------\n",
      "CV_7\n",
      "Iteration: 0\n",
      "Iteration: 1\n",
      "Iteration: 2\n"
     ]
    },
    {
     "output_type": "stream",
     "name": "stderr",
     "text": [
      " 45%|████▍     | 270/605 [14:33<34:42,  6.22s/it]"
     ]
    },
    {
     "output_type": "stream",
     "name": "stdout",
     "text": [
      "Iteration: 3\n",
      "----------------------------------\n",
      "CV_70\n",
      "Iteration: 0\n",
      "Iteration: 1\n",
      "Iteration: 2\n"
     ]
    },
    {
     "output_type": "stream",
     "name": "stderr",
     "text": [
      " 45%|████▍     | 271/605 [14:47<43:34,  7.83s/it]"
     ]
    },
    {
     "output_type": "stream",
     "name": "stdout",
     "text": [
      "Iteration: 3\n",
      "----------------------------------\n",
      "CV_71\n",
      "Iteration: 0\n",
      "Iteration: 1\n"
     ]
    },
    {
     "output_type": "stream",
     "name": "stderr",
     "text": [
      " 45%|████▍     | 272/605 [15:02<52:12,  9.41s/it]"
     ]
    },
    {
     "output_type": "stream",
     "name": "stdout",
     "text": [
      "Iteration: 2\n",
      "----------------------------------\n",
      "CV_72\n",
      "all col missing\n",
      "----------------------------------\n",
      "CV_73\n",
      "Iteration: 0\n",
      "Iteration: 1\n"
     ]
    },
    {
     "output_type": "stream",
     "name": "stderr",
     "text": [
      " 45%|████▌     | 274/605 [15:03<33:02,  5.99s/it]"
     ]
    },
    {
     "output_type": "stream",
     "name": "stdout",
     "text": [
      "Iteration: 2\n",
      "----------------------------------\n",
      "CV_74\n",
      "all col missing\n",
      "----------------------------------\n",
      "CV_75\n",
      "all col missing\n",
      "----------------------------------\n",
      "CV_76\n",
      "all col missing\n",
      "----------------------------------\n",
      "CV_77\n",
      "all col missing\n",
      "----------------------------------\n",
      "CV_78\n",
      "Iteration: 0\n",
      "Iteration: 1\n",
      "Iteration: 2\n"
     ]
    },
    {
     "output_type": "stream",
     "name": "stderr",
     "text": [
      " 46%|████▌     | 279/605 [15:23<26:03,  4.80s/it]"
     ]
    },
    {
     "output_type": "stream",
     "name": "stdout",
     "text": [
      "Iteration: 3\n",
      "----------------------------------\n",
      "CV_79\n",
      "Iteration: 0\n",
      "Iteration: 1\n"
     ]
    },
    {
     "output_type": "stream",
     "name": "stderr",
     "text": [
      " 46%|████▋     | 280/605 [15:37<33:22,  6.16s/it]"
     ]
    },
    {
     "output_type": "stream",
     "name": "stdout",
     "text": [
      "Iteration: 2\n",
      "----------------------------------\n",
      "CV_8\n",
      "Iteration: 0\n",
      "Iteration: 1\n",
      "Iteration: 2\n",
      "Iteration: 3\n"
     ]
    },
    {
     "output_type": "stream",
     "name": "stderr",
     "text": [
      " 46%|████▋     | 281/605 [15:44<33:55,  6.28s/it]"
     ]
    },
    {
     "output_type": "stream",
     "name": "stdout",
     "text": [
      "Iteration: 4\n",
      "----------------------------------\n",
      "CV_80\n",
      "all col missing\n",
      "----------------------------------\n",
      "CV_81\n",
      "Iteration: 0\n",
      "Iteration: 1\n"
     ]
    },
    {
     "output_type": "stream",
     "name": "stderr",
     "text": [
      " 47%|████▋     | 283/605 [15:56<33:03,  6.16s/it]"
     ]
    },
    {
     "output_type": "stream",
     "name": "stdout",
     "text": [
      "Iteration: 2\n",
      "----------------------------------\n",
      "CV_82\n",
      "all col missing\n",
      "----------------------------------\n",
      "CV_83\n",
      "all col missing\n",
      "----------------------------------\n",
      "CV_84\n",
      "all col missing\n",
      "----------------------------------\n",
      "CV_85\n",
      "all col missing\n",
      "----------------------------------\n",
      "CV_86\n",
      "all col missing\n",
      "----------------------------------\n",
      "CV_87\n",
      "Iteration: 0\n",
      "Iteration: 1\n",
      "Iteration: 2\n"
     ]
    },
    {
     "output_type": "stream",
     "name": "stderr",
     "text": [
      " 48%|████▊     | 289/605 [16:12<21:36,  4.10s/it]"
     ]
    },
    {
     "output_type": "stream",
     "name": "stdout",
     "text": [
      "Iteration: 3\n",
      "----------------------------------\n",
      "CV_88\n",
      "all col missing\n",
      "----------------------------------\n",
      "CV_89\n",
      "all col missing\n",
      "----------------------------------\n",
      "CV_9\n",
      "Iteration: 0\n",
      "Iteration: 1\n",
      "Iteration: 2\n"
     ]
    },
    {
     "output_type": "stream",
     "name": "stderr",
     "text": [
      " 48%|████▊     | 292/605 [16:30<24:19,  4.66s/it]"
     ]
    },
    {
     "output_type": "stream",
     "name": "stdout",
     "text": [
      "Iteration: 3\n",
      "----------------------------------\n",
      "CV_90\n",
      "all col missing\n",
      "----------------------------------\n",
      "CV_91\n",
      "all col missing\n",
      "----------------------------------\n",
      "CV_93\n",
      "Iteration: 0\n",
      "Iteration: 1\n",
      "Iteration: 2\n",
      "Iteration: 3\n"
     ]
    },
    {
     "output_type": "stream",
     "name": "stderr",
     "text": [
      " 49%|████▉     | 295/605 [16:35<19:38,  3.80s/it]"
     ]
    },
    {
     "output_type": "stream",
     "name": "stdout",
     "text": [
      "Iteration: 4\n",
      "----------------------------------\n",
      "CV_94\n",
      "Iteration: 0\n",
      "Iteration: 1\n",
      "Iteration: 2\n"
     ]
    },
    {
     "output_type": "stream",
     "name": "stderr",
     "text": [
      " 49%|████▉     | 296/605 [16:47<24:31,  4.76s/it]"
     ]
    },
    {
     "output_type": "stream",
     "name": "stdout",
     "text": [
      "Iteration: 3\n",
      "----------------------------------\n",
      "CV_95\n",
      "Iteration: 0\n",
      "Iteration: 1\n",
      "Iteration: 2\n"
     ]
    },
    {
     "output_type": "stream",
     "name": "stderr",
     "text": [
      " 49%|████▉     | 297/605 [16:49<22:22,  4.36s/it]"
     ]
    },
    {
     "output_type": "stream",
     "name": "stdout",
     "text": [
      "Iteration: 3\n",
      "----------------------------------\n",
      "CV_96\n",
      "Iteration: 0\n",
      "Iteration: 1\n"
     ]
    },
    {
     "output_type": "stream",
     "name": "stderr",
     "text": [
      " 49%|████▉     | 298/605 [16:51<19:50,  3.88s/it]"
     ]
    },
    {
     "output_type": "stream",
     "name": "stdout",
     "text": [
      "Iteration: 2\n",
      "----------------------------------\n",
      "CV_97\n",
      "all col missing\n",
      "----------------------------------\n",
      "CV_98\n",
      "all col missing\n",
      "----------------------------------\n",
      "CV_99\n",
      "all col missing\n",
      "----------------------------------\n",
      "LMXB_0\n",
      "all col missing\n",
      "----------------------------------\n",
      "LMXB_1\n",
      "all col missing\n",
      "----------------------------------\n",
      "LMXB_10\n",
      "Iteration: 0\n",
      "Iteration: 1\n",
      "Iteration: 2\n"
     ]
    },
    {
     "output_type": "stream",
     "name": "stderr",
     "text": [
      " 50%|█████     | 304/605 [16:52<08:21,  1.67s/it]"
     ]
    },
    {
     "output_type": "stream",
     "name": "stdout",
     "text": [
      "Iteration: 3\n",
      "----------------------------------\n",
      "LMXB_11\n",
      "all col missing\n",
      "----------------------------------\n",
      "LMXB_12\n",
      "all col missing\n",
      "----------------------------------\n",
      "LMXB_14\n",
      "Iteration: 0\n",
      "Iteration: 1\n"
     ]
    },
    {
     "output_type": "stream",
     "name": "stderr",
     "text": [
      " 51%|█████     | 307/605 [16:55<07:20,  1.48s/it]"
     ]
    },
    {
     "output_type": "stream",
     "name": "stdout",
     "text": [
      "Iteration: 2\n",
      "----------------------------------\n",
      "LMXB_15\n",
      "all col missing\n",
      "----------------------------------\n",
      "LMXB_16\n",
      "Iteration: 0\n",
      "Iteration: 1\n",
      "Iteration: 2\n",
      "Iteration: 3\n"
     ]
    },
    {
     "output_type": "stream",
     "name": "stderr",
     "text": [
      " 51%|█████     | 309/605 [17:13<15:23,  3.12s/it]"
     ]
    },
    {
     "output_type": "stream",
     "name": "stdout",
     "text": [
      "Iteration: 4\n",
      "----------------------------------\n",
      "LMXB_17\n",
      "all col missing\n",
      "----------------------------------\n",
      "LMXB_18\n",
      "all col missing\n",
      "----------------------------------\n",
      "LMXB_19\n",
      "Iteration: 0\n",
      "Iteration: 1\n",
      "Iteration: 2\n"
     ]
    },
    {
     "output_type": "stream",
     "name": "stderr",
     "text": [
      " 52%|█████▏    | 312/605 [17:17<12:31,  2.56s/it]"
     ]
    },
    {
     "output_type": "stream",
     "name": "stdout",
     "text": [
      "Iteration: 3\n",
      "----------------------------------\n",
      "LMXB_2\n",
      "all col missing\n",
      "----------------------------------\n",
      "LMXB_20\n",
      "----------------------------------\n",
      "LMXB_21\n",
      "----------------------------------\n",
      "LMXB_22\n",
      "all col missing\n",
      "----------------------------------\n",
      "LMXB_23\n"
     ]
    },
    {
     "output_type": "stream",
     "name": "stderr",
     "text": [
      "/home/kumaran/.local/lib/python3.6/site-packages/missingpy/missforest.py:528: UserWarning: No missing value located; returning original dataset.\n",
      "  warnings.warn(\"No missing value located; returning original \"\n",
      "/home/kumaran/.local/lib/python3.6/site-packages/missingpy/missforest.py:528: UserWarning: No missing value located; returning original dataset.\n",
      "  warnings.warn(\"No missing value located; returning original \"\n"
     ]
    },
    {
     "output_type": "stream",
     "name": "stdout",
     "text": [
      "Iteration: 0\n",
      "Iteration: 1\n",
      "Iteration: 2\n"
     ]
    },
    {
     "output_type": "stream",
     "name": "stderr",
     "text": [
      " 52%|█████▏    | 317/605 [17:28<11:45,  2.45s/it]"
     ]
    },
    {
     "output_type": "stream",
     "name": "stdout",
     "text": [
      "Iteration: 3\n",
      "----------------------------------\n",
      "LMXB_24\n",
      "Iteration: 0\n",
      "Iteration: 1\n"
     ]
    },
    {
     "output_type": "stream",
     "name": "stderr",
     "text": [
      " 53%|█████▎    | 318/605 [17:31<12:05,  2.53s/it]"
     ]
    },
    {
     "output_type": "stream",
     "name": "stdout",
     "text": [
      "Iteration: 2\n",
      "----------------------------------\n",
      "LMXB_27\n",
      "all col missing\n",
      "----------------------------------\n",
      "LMXB_28\n",
      "all col missing\n",
      "----------------------------------\n",
      "LMXB_3\n",
      "all col missing\n",
      "----------------------------------\n",
      "LMXB_31\n",
      "all col missing\n",
      "----------------------------------\n",
      "LMXB_32\n",
      "Iteration: 0\n",
      "Iteration: 1\n"
     ]
    },
    {
     "output_type": "stream",
     "name": "stderr",
     "text": [
      " 53%|█████▎    | 323/605 [17:32<06:59,  1.49s/it]"
     ]
    },
    {
     "output_type": "stream",
     "name": "stdout",
     "text": [
      "Iteration: 2\n",
      "----------------------------------\n",
      "LMXB_34\n",
      "all col missing\n",
      "----------------------------------\n",
      "LMXB_35\n",
      "----------------------------------\n",
      "LMXB_36\n",
      "all col missing\n",
      "----------------------------------\n",
      "LMXB_4\n"
     ]
    },
    {
     "output_type": "stream",
     "name": "stderr",
     "text": [
      "/home/kumaran/.local/lib/python3.6/site-packages/missingpy/missforest.py:528: UserWarning: No missing value located; returning original dataset.\n",
      "  warnings.warn(\"No missing value located; returning original \"\n"
     ]
    },
    {
     "output_type": "stream",
     "name": "stdout",
     "text": [
      "Iteration: 0\n",
      "Iteration: 1\n",
      "Iteration: 2\n"
     ]
    },
    {
     "output_type": "stream",
     "name": "stderr",
     "text": [
      " 54%|█████▍    | 327/605 [17:47<10:19,  2.23s/it]"
     ]
    },
    {
     "output_type": "stream",
     "name": "stdout",
     "text": [
      "Iteration: 3\n",
      "----------------------------------\n",
      "LMXB_40\n",
      "Iteration: 0\n"
     ]
    },
    {
     "output_type": "stream",
     "name": "stderr",
     "text": [
      " 54%|█████▍    | 328/605 [17:48<09:45,  2.11s/it]"
     ]
    },
    {
     "output_type": "stream",
     "name": "stdout",
     "text": [
      "Iteration: 1\n",
      "----------------------------------\n",
      "LMXB_41\n",
      "Iteration: 0\n",
      "Iteration: 1\n"
     ]
    },
    {
     "output_type": "stream",
     "name": "stderr",
     "text": [
      " 54%|█████▍    | 329/605 [17:49<08:56,  1.94s/it]"
     ]
    },
    {
     "output_type": "stream",
     "name": "stdout",
     "text": [
      "Iteration: 2\n",
      "----------------------------------\n",
      "LMXB_43\n",
      "Iteration: 0\n",
      "Iteration: 1\n"
     ]
    },
    {
     "output_type": "stream",
     "name": "stderr",
     "text": [
      " 55%|█████▍    | 330/605 [17:50<08:08,  1.78s/it]/home/kumaran/.local/lib/python3.6/site-packages/missingpy/missforest.py:528: UserWarning: No missing value located; returning original dataset.\n",
      "  warnings.warn(\"No missing value located; returning original \"\n",
      "/home/kumaran/.local/lib/python3.6/site-packages/missingpy/missforest.py:528: UserWarning: No missing value located; returning original dataset.\n",
      "  warnings.warn(\"No missing value located; returning original \"\n",
      " 56%|█████▌    | 338/605 [17:50<02:50,  1.57it/s]"
     ]
    },
    {
     "output_type": "stream",
     "name": "stdout",
     "text": [
      "Iteration: 2\n",
      "----------------------------------\n",
      "LMXB_44\n",
      "all col missing\n",
      "----------------------------------\n",
      "LMXB_46\n",
      "all col missing\n",
      "----------------------------------\n",
      "LMXB_49\n",
      "all col missing\n",
      "----------------------------------\n",
      "LMXB_5\n",
      "all col missing\n",
      "----------------------------------\n",
      "LMXB_50\n",
      "----------------------------------\n",
      "LMXB_51\n",
      "----------------------------------\n",
      "LMXB_53\n",
      "all col missing\n",
      "----------------------------------\n",
      "LMXB_56\n",
      "all col missing\n",
      "----------------------------------\n",
      "LMXB_6\n",
      "all col missing\n",
      "----------------------------------\n",
      "LMXB_61\n",
      "all col missing\n",
      "----------------------------------\n",
      "LMXB_64\n",
      "----------------------------------\n",
      "LMXB_67\n",
      "----------------------------------\n",
      "LMXB_68\n",
      "----------------------------------\n",
      "LMXB_7\n"
     ]
    },
    {
     "output_type": "stream",
     "name": "stderr",
     "text": [
      "/home/kumaran/.local/lib/python3.6/site-packages/missingpy/missforest.py:528: UserWarning: No missing value located; returning original dataset.\n",
      "  warnings.warn(\"No missing value located; returning original \"\n",
      "/home/kumaran/.local/lib/python3.6/site-packages/missingpy/missforest.py:528: UserWarning: No missing value located; returning original dataset.\n",
      "  warnings.warn(\"No missing value located; returning original \"\n",
      "/home/kumaran/.local/lib/python3.6/site-packages/missingpy/missforest.py:528: UserWarning: No missing value located; returning original dataset.\n",
      "  warnings.warn(\"No missing value located; returning original \"\n"
     ]
    },
    {
     "output_type": "stream",
     "name": "stdout",
     "text": [
      "Iteration: 0\n",
      "Iteration: 1\n"
     ]
    },
    {
     "output_type": "stream",
     "name": "stderr",
     "text": [
      " 57%|█████▋    | 344/605 [17:53<02:36,  1.66it/s]/home/kumaran/.local/lib/python3.6/site-packages/missingpy/missforest.py:528: UserWarning: No missing value located; returning original dataset.\n",
      "  warnings.warn(\"No missing value located; returning original \"\n",
      " 58%|█████▊    | 352/605 [17:53<01:26,  2.91it/s]"
     ]
    },
    {
     "output_type": "stream",
     "name": "stdout",
     "text": [
      "Iteration: 2\n",
      "----------------------------------\n",
      "LMXB_70\n",
      "all col missing\n",
      "----------------------------------\n",
      "LMXB_72\n",
      "all col missing\n",
      "----------------------------------\n",
      "LMXB_73\n",
      "all col missing\n",
      "----------------------------------\n",
      "LMXB_74\n",
      "all col missing\n",
      "----------------------------------\n",
      "LMXB_75\n",
      "----------------------------------\n",
      "LMXB_76\n",
      "all col missing\n",
      "----------------------------------\n",
      "LMXB_80\n",
      "all col missing\n",
      "----------------------------------\n",
      "LMXB_84\n",
      "all col missing\n",
      "----------------------------------\n",
      "LMXB_85\n",
      "all col missing\n",
      "----------------------------------\n",
      "LMXB_86\n",
      "all col missing\n",
      "----------------------------------\n",
      "LMXB_9\n",
      "all col missing\n",
      "----------------------------------\n",
      "LMXB_90\n",
      "all col missing\n",
      "----------------------------------\n",
      "LMXB_91\n",
      "all col missing\n",
      "----------------------------------\n",
      "LMXB_92\n",
      "all col missing\n",
      "----------------------------------\n",
      "LMXB_96\n",
      "all col missing\n",
      "----------------------------------\n",
      "LMXB_97\n",
      "all col missing\n",
      "----------------------------------\n",
      "PLSR_0\n",
      "Iteration: 0\n",
      "Iteration: 1\n",
      "Iteration: 2\n"
     ]
    },
    {
     "output_type": "stream",
     "name": "stderr",
     "text": [
      " 60%|█████▉    | 361/605 [18:10<03:51,  1.06it/s]"
     ]
    },
    {
     "output_type": "stream",
     "name": "stdout",
     "text": [
      "Iteration: 3\n",
      "----------------------------------\n",
      "PLSR_1\n",
      "all col missing\n",
      "----------------------------------\n",
      "PLSR_10\n",
      "Iteration: 0\n",
      "Iteration: 1\n",
      "Iteration: 2\n"
     ]
    },
    {
     "output_type": "stream",
     "name": "stderr",
     "text": [
      " 60%|██████    | 363/605 [18:28<07:32,  1.87s/it]"
     ]
    },
    {
     "output_type": "stream",
     "name": "stdout",
     "text": [
      "Iteration: 3\n",
      "----------------------------------\n",
      "PLSR_101\n",
      "Iteration: 0\n",
      "Iteration: 1\n",
      "Iteration: 2\n"
     ]
    },
    {
     "output_type": "stream",
     "name": "stderr",
     "text": [
      " 60%|██████    | 364/605 [18:30<07:34,  1.89s/it]"
     ]
    },
    {
     "output_type": "stream",
     "name": "stdout",
     "text": [
      "Iteration: 3\n",
      "----------------------------------\n",
      "PLSR_102\n",
      "all col missing\n",
      "----------------------------------\n",
      "PLSR_103\n",
      "Iteration: 0\n",
      "Iteration: 1\n",
      "Iteration: 2\n"
     ]
    },
    {
     "output_type": "stream",
     "name": "stderr",
     "text": [
      "/home/kumaran/.local/lib/python3.6/site-packages/missingpy/missforest.py:528: UserWarning: No missing value located; returning original dataset.\n",
      "  warnings.warn(\"No missing value located; returning original \"\n",
      " 61%|██████    | 367/605 [18:32<06:20,  1.60s/it]"
     ]
    },
    {
     "output_type": "stream",
     "name": "stdout",
     "text": [
      "Iteration: 3\n",
      "----------------------------------\n",
      "PLSR_104\n",
      "----------------------------------\n",
      "PLSR_105\n",
      "all col missing\n",
      "----------------------------------\n",
      "PLSR_106\n",
      "all col missing\n",
      "----------------------------------\n",
      "PLSR_107\n",
      "----------------------------------\n",
      "PLSR_108\n",
      "----------------------------------\n",
      "PLSR_109\n",
      "----------------------------------\n",
      "PLSR_11\n"
     ]
    },
    {
     "output_type": "stream",
     "name": "stderr",
     "text": [
      "/home/kumaran/.local/lib/python3.6/site-packages/missingpy/missforest.py:528: UserWarning: No missing value located; returning original dataset.\n",
      "  warnings.warn(\"No missing value located; returning original \"\n",
      "/home/kumaran/.local/lib/python3.6/site-packages/missingpy/missforest.py:528: UserWarning: No missing value located; returning original dataset.\n",
      "  warnings.warn(\"No missing value located; returning original \"\n",
      "/home/kumaran/.local/lib/python3.6/site-packages/missingpy/missforest.py:528: UserWarning: No missing value located; returning original dataset.\n",
      "  warnings.warn(\"No missing value located; returning original \"\n"
     ]
    },
    {
     "output_type": "stream",
     "name": "stdout",
     "text": [
      "Iteration: 0\n",
      "Iteration: 1\n"
     ]
    },
    {
     "output_type": "stream",
     "name": "stderr",
     "text": [
      " 62%|██████▏   | 373/605 [18:46<07:17,  1.89s/it]"
     ]
    },
    {
     "output_type": "stream",
     "name": "stdout",
     "text": [
      "Iteration: 2\n",
      "----------------------------------\n",
      "PLSR_110\n",
      "----------------------------------\n",
      "PLSR_111\n",
      "all col missing\n",
      "----------------------------------\n",
      "PLSR_112\n"
     ]
    },
    {
     "output_type": "stream",
     "name": "stderr",
     "text": [
      "/home/kumaran/.local/lib/python3.6/site-packages/missingpy/missforest.py:528: UserWarning: No missing value located; returning original dataset.\n",
      "  warnings.warn(\"No missing value located; returning original \"\n"
     ]
    },
    {
     "output_type": "stream",
     "name": "stdout",
     "text": [
      "Iteration: 0\n"
     ]
    },
    {
     "output_type": "stream",
     "name": "stderr",
     "text": [
      " 62%|██████▏   | 376/605 [18:48<06:10,  1.62s/it]"
     ]
    },
    {
     "output_type": "stream",
     "name": "stdout",
     "text": [
      "Iteration: 1\n",
      "----------------------------------\n",
      "PLSR_113\n",
      "Iteration: 0\n",
      "Iteration: 1\n"
     ]
    },
    {
     "output_type": "stream",
     "name": "stderr",
     "text": [
      "/home/kumaran/.local/lib/python3.6/site-packages/missingpy/missforest.py:528: UserWarning: No missing value located; returning original dataset.\n",
      "  warnings.warn(\"No missing value located; returning original \"\n",
      " 62%|██████▏   | 378/605 [18:51<06:08,  1.62s/it]"
     ]
    },
    {
     "output_type": "stream",
     "name": "stdout",
     "text": [
      "Iteration: 2\n",
      "----------------------------------\n",
      "PLSR_114\n",
      "----------------------------------\n",
      "PLSR_115\n",
      "Iteration: 0\n",
      "Iteration: 1\n",
      "Iteration: 2\n",
      "Iteration: 3\n"
     ]
    },
    {
     "output_type": "stream",
     "name": "stderr",
     "text": [
      " 63%|██████▎   | 379/605 [18:56<07:37,  2.02s/it]"
     ]
    },
    {
     "output_type": "stream",
     "name": "stdout",
     "text": [
      "Iteration: 4\n",
      "----------------------------------\n",
      "PLSR_116\n",
      "----------------------------------\n",
      "PLSR_117\n"
     ]
    },
    {
     "output_type": "stream",
     "name": "stderr",
     "text": [
      "/home/kumaran/.local/lib/python3.6/site-packages/missingpy/missforest.py:528: UserWarning: No missing value located; returning original dataset.\n",
      "  warnings.warn(\"No missing value located; returning original \"\n"
     ]
    },
    {
     "output_type": "stream",
     "name": "stdout",
     "text": [
      "Iteration: 0\n",
      "Iteration: 1\n",
      "Iteration: 2\n",
      "Iteration: 3\n"
     ]
    },
    {
     "output_type": "stream",
     "name": "stderr",
     "text": [
      " 63%|██████▎   | 381/605 [18:59<06:54,  1.85s/it]"
     ]
    },
    {
     "output_type": "stream",
     "name": "stdout",
     "text": [
      "Iteration: 4\n",
      "----------------------------------\n",
      "PLSR_118\n",
      "Iteration: 0\n",
      "Iteration: 1\n",
      "Iteration: 2\n"
     ]
    },
    {
     "output_type": "stream",
     "name": "stderr",
     "text": [
      " 63%|██████▎   | 382/605 [19:01<07:04,  1.90s/it]"
     ]
    },
    {
     "output_type": "stream",
     "name": "stdout",
     "text": [
      "Iteration: 3\n",
      "----------------------------------\n",
      "PLSR_119\n",
      "all col missing\n",
      "----------------------------------\n",
      "PLSR_12\n",
      "Iteration: 0\n",
      "Iteration: 1\n",
      "Iteration: 2\n",
      "Iteration: 3\n"
     ]
    },
    {
     "output_type": "stream",
     "name": "stderr",
     "text": [
      " 63%|██████▎   | 384/605 [19:24<17:44,  4.82s/it]"
     ]
    },
    {
     "output_type": "stream",
     "name": "stdout",
     "text": [
      "Iteration: 4\n",
      "----------------------------------\n",
      "PLSR_120\n",
      "all col missing\n",
      "----------------------------------\n",
      "PLSR_121\n",
      "all col missing\n",
      "----------------------------------\n",
      "PLSR_122\n",
      "----------------------------------\n",
      "PLSR_123\n",
      "----------------------------------\n",
      "PLSR_124\n",
      "----------------------------------\n",
      "PLSR_126\n",
      "all col missing\n",
      "----------------------------------\n",
      "PLSR_127\n"
     ]
    },
    {
     "output_type": "stream",
     "name": "stderr",
     "text": [
      "/home/kumaran/.local/lib/python3.6/site-packages/missingpy/missforest.py:528: UserWarning: No missing value located; returning original dataset.\n",
      "  warnings.warn(\"No missing value located; returning original \"\n",
      "/home/kumaran/.local/lib/python3.6/site-packages/missingpy/missforest.py:528: UserWarning: No missing value located; returning original dataset.\n",
      "  warnings.warn(\"No missing value located; returning original \"\n",
      "/home/kumaran/.local/lib/python3.6/site-packages/missingpy/missforest.py:528: UserWarning: No missing value located; returning original dataset.\n",
      "  warnings.warn(\"No missing value located; returning original \"\n"
     ]
    },
    {
     "output_type": "stream",
     "name": "stdout",
     "text": [
      "Iteration: 0\n",
      "Iteration: 1\n"
     ]
    },
    {
     "output_type": "stream",
     "name": "stderr",
     "text": [
      " 65%|██████▍   | 391/605 [19:26<07:24,  2.08s/it]"
     ]
    },
    {
     "output_type": "stream",
     "name": "stdout",
     "text": [
      "Iteration: 2\n",
      "----------------------------------\n",
      "PLSR_129\n",
      "all col missing\n",
      "----------------------------------\n",
      "PLSR_13\n",
      "Iteration: 0\n",
      "Iteration: 1\n"
     ]
    },
    {
     "output_type": "stream",
     "name": "stderr",
     "text": [
      " 65%|██████▍   | 393/605 [19:40<10:47,  3.06s/it]"
     ]
    },
    {
     "output_type": "stream",
     "name": "stdout",
     "text": [
      "Iteration: 2\n",
      "----------------------------------\n",
      "PLSR_130\n",
      "Iteration: 0\n",
      "Iteration: 1\n"
     ]
    },
    {
     "output_type": "stream",
     "name": "stderr",
     "text": [
      " 65%|██████▌   | 394/605 [19:45<11:30,  3.27s/it]"
     ]
    },
    {
     "output_type": "stream",
     "name": "stdout",
     "text": [
      "Iteration: 2\n",
      "----------------------------------\n",
      "PLSR_132\n",
      "Iteration: 0\n",
      "Iteration: 1\n",
      "Iteration: 2\n",
      "Iteration: 3\n"
     ]
    },
    {
     "output_type": "stream",
     "name": "stderr",
     "text": [
      " 65%|██████▌   | 395/605 [19:48<11:07,  3.18s/it]"
     ]
    },
    {
     "output_type": "stream",
     "name": "stdout",
     "text": [
      "Iteration: 4\n",
      "----------------------------------\n",
      "PLSR_133\n",
      "all col missing\n",
      "----------------------------------\n",
      "PLSR_134\n",
      "all col missing\n",
      "----------------------------------\n",
      "PLSR_135\n",
      "all col missing\n",
      "----------------------------------\n",
      "PLSR_136\n",
      "all col missing\n",
      "----------------------------------\n",
      "PLSR_137\n",
      "Iteration: 0\n",
      "Iteration: 1\n",
      "Iteration: 2\n",
      "Iteration: 3\n",
      "Iteration: 4\n"
     ]
    },
    {
     "output_type": "stream",
     "name": "stderr",
     "text": [
      " 66%|██████▌   | 400/605 [19:49<05:49,  1.71s/it]"
     ]
    },
    {
     "output_type": "stream",
     "name": "stdout",
     "text": [
      "Iteration: 5\n",
      "----------------------------------\n",
      "PLSR_138\n",
      "all col missing\n",
      "----------------------------------\n",
      "PLSR_139\n",
      "all col missing\n",
      "----------------------------------\n",
      "PLSR_14\n",
      "Iteration: 0\n",
      "Iteration: 1\n",
      "Iteration: 2\n"
     ]
    },
    {
     "output_type": "stream",
     "name": "stderr",
     "text": [
      " 67%|██████▋   | 403/605 [20:07<10:16,  3.05s/it]"
     ]
    },
    {
     "output_type": "stream",
     "name": "stdout",
     "text": [
      "Iteration: 3\n",
      "----------------------------------\n",
      "PLSR_141\n",
      "all col missing\n",
      "----------------------------------\n",
      "PLSR_142\n",
      "Iteration: 0\n",
      "Iteration: 1\n"
     ]
    },
    {
     "output_type": "stream",
     "name": "stderr",
     "text": [
      " 67%|██████▋   | 405/605 [20:08<08:09,  2.45s/it]"
     ]
    },
    {
     "output_type": "stream",
     "name": "stdout",
     "text": [
      "Iteration: 2\n",
      "----------------------------------\n",
      "PLSR_143\n",
      "all col missing\n",
      "----------------------------------\n",
      "PLSR_144\n",
      "all col missing\n",
      "----------------------------------\n",
      "PLSR_145\n",
      "----------------------------------\n",
      "PLSR_146\n",
      "all col missing\n",
      "----------------------------------\n",
      "PLSR_147\n",
      "all col missing\n",
      "----------------------------------\n",
      "PLSR_148\n",
      "all col missing\n",
      "----------------------------------\n",
      "PLSR_149\n",
      "all col missing\n",
      "----------------------------------\n",
      "PLSR_15\n"
     ]
    },
    {
     "output_type": "stream",
     "name": "stderr",
     "text": [
      "/home/kumaran/.local/lib/python3.6/site-packages/missingpy/missforest.py:528: UserWarning: No missing value located; returning original dataset.\n",
      "  warnings.warn(\"No missing value located; returning original \"\n"
     ]
    },
    {
     "output_type": "stream",
     "name": "stdout",
     "text": [
      "Iteration: 0\n",
      "Iteration: 1\n",
      "Iteration: 2\n",
      "Iteration: 3\n"
     ]
    },
    {
     "output_type": "stream",
     "name": "stderr",
     "text": [
      " 68%|██████▊   | 413/605 [20:31<08:38,  2.70s/it]/home/kumaran/.local/lib/python3.6/site-packages/missingpy/missforest.py:528: UserWarning: No missing value located; returning original dataset.\n",
      "  warnings.warn(\"No missing value located; returning original \"\n",
      " 70%|██████▉   | 422/605 [20:32<04:20,  1.42s/it]"
     ]
    },
    {
     "output_type": "stream",
     "name": "stdout",
     "text": [
      "Iteration: 4\n",
      "----------------------------------\n",
      "PLSR_150\n",
      "all col missing\n",
      "----------------------------------\n",
      "PLSR_151\n",
      "all col missing\n",
      "----------------------------------\n",
      "PLSR_152\n",
      "all col missing\n",
      "----------------------------------\n",
      "PLSR_153\n",
      "all col missing\n",
      "----------------------------------\n",
      "PLSR_154\n",
      "all col missing\n",
      "----------------------------------\n",
      "PLSR_155\n",
      "----------------------------------\n",
      "PLSR_156\n",
      "all col missing\n",
      "----------------------------------\n",
      "PLSR_157\n",
      "all col missing\n",
      "----------------------------------\n",
      "PLSR_158\n",
      "all col missing\n",
      "----------------------------------\n",
      "PLSR_159\n",
      "all col missing\n",
      "----------------------------------\n",
      "PLSR_16\n",
      "Iteration: 0\n",
      "Iteration: 1\n",
      "Iteration: 2\n"
     ]
    },
    {
     "output_type": "stream",
     "name": "stderr",
     "text": [
      " 70%|██████▉   | 422/605 [20:50<04:20,  1.42s/it]"
     ]
    },
    {
     "output_type": "stream",
     "name": "stdout",
     "text": [
      "Iteration: 3\n"
     ]
    },
    {
     "output_type": "stream",
     "name": "stderr",
     "text": [
      " 70%|███████   | 424/605 [20:54<08:13,  2.73s/it]"
     ]
    },
    {
     "output_type": "stream",
     "name": "stdout",
     "text": [
      "Iteration: 4\n",
      "----------------------------------\n",
      "PLSR_161\n",
      "all col missing\n",
      "----------------------------------\n",
      "PLSR_162\n",
      "all col missing\n",
      "----------------------------------\n",
      "PLSR_163\n",
      "all col missing\n",
      "----------------------------------\n",
      "PLSR_164\n",
      "Iteration: 0\n",
      "Iteration: 1\n"
     ]
    },
    {
     "output_type": "stream",
     "name": "stderr",
     "text": [
      " 71%|███████   | 428/605 [20:56<06:10,  2.09s/it]"
     ]
    },
    {
     "output_type": "stream",
     "name": "stdout",
     "text": [
      "Iteration: 2\n",
      "----------------------------------\n",
      "PLSR_165\n",
      "all col missing\n",
      "----------------------------------\n",
      "PLSR_166\n",
      "all col missing\n",
      "----------------------------------\n",
      "PLSR_167\n",
      "all col missing\n",
      "----------------------------------\n",
      "PLSR_168\n",
      "Iteration: 0\n",
      "Iteration: 1\n"
     ]
    },
    {
     "output_type": "stream",
     "name": "stderr",
     "text": [
      " 71%|███████▏  | 432/605 [20:59<04:58,  1.73s/it]"
     ]
    },
    {
     "output_type": "stream",
     "name": "stdout",
     "text": [
      "Iteration: 2\n",
      "----------------------------------\n",
      "PLSR_169\n",
      "all col missing\n",
      "----------------------------------\n",
      "PLSR_17\n",
      "Iteration: 0\n",
      "Iteration: 1\n"
     ]
    },
    {
     "output_type": "stream",
     "name": "stderr",
     "text": [
      " 71%|███████▏  | 432/605 [21:10<04:58,  1.73s/it]"
     ]
    },
    {
     "output_type": "stream",
     "name": "stdout",
     "text": [
      "Iteration: 2\n",
      "Iteration: 3\n"
     ]
    },
    {
     "output_type": "stream",
     "name": "stderr",
     "text": [
      " 73%|███████▎  | 443/605 [21:23<04:26,  1.65s/it]"
     ]
    },
    {
     "output_type": "stream",
     "name": "stdout",
     "text": [
      "Iteration: 4\n",
      "----------------------------------\n",
      "PLSR_170\n",
      "all col missing\n",
      "----------------------------------\n",
      "PLSR_171\n",
      "all col missing\n",
      "----------------------------------\n",
      "PLSR_172\n",
      "all col missing\n",
      "----------------------------------\n",
      "PLSR_173\n",
      "all col missing\n",
      "----------------------------------\n",
      "PLSR_174\n",
      "all col missing\n",
      "----------------------------------\n",
      "PLSR_175\n",
      "all col missing\n",
      "----------------------------------\n",
      "PLSR_176\n",
      "all col missing\n",
      "----------------------------------\n",
      "PLSR_177\n",
      "all col missing\n",
      "----------------------------------\n",
      "PLSR_178\n",
      "all col missing\n",
      "----------------------------------\n",
      "PLSR_18\n",
      "Iteration: 0\n",
      "Iteration: 1\n",
      "Iteration: 2\n"
     ]
    },
    {
     "output_type": "stream",
     "name": "stderr",
     "text": [
      " 73%|███████▎  | 443/605 [21:40<04:26,  1.65s/it]"
     ]
    },
    {
     "output_type": "stream",
     "name": "stdout",
     "text": [
      "Iteration: 3\n",
      "Iteration: 4\n"
     ]
    },
    {
     "output_type": "stream",
     "name": "stderr",
     "text": [
      " 73%|███████▎  | 444/605 [21:51<09:50,  3.67s/it]"
     ]
    },
    {
     "output_type": "stream",
     "name": "stdout",
     "text": [
      "Iteration: 5\n",
      "----------------------------------\n",
      "PLSR_180\n",
      "all col missing\n",
      "----------------------------------\n",
      "PLSR_181\n",
      "all col missing\n",
      "----------------------------------\n",
      "PLSR_182\n",
      "all col missing\n",
      "----------------------------------\n",
      "PLSR_183\n",
      "all col missing\n",
      "----------------------------------\n",
      "PLSR_184\n",
      "all col missing\n",
      "----------------------------------\n",
      "PLSR_185\n",
      "all col missing\n",
      "----------------------------------\n",
      "PLSR_186\n",
      "all col missing\n",
      "----------------------------------\n",
      "PLSR_187\n",
      "Iteration: 0\n",
      "Iteration: 1\n"
     ]
    },
    {
     "output_type": "stream",
     "name": "stderr",
     "text": [
      " 75%|███████▍  | 452/605 [21:53<05:14,  2.06s/it]"
     ]
    },
    {
     "output_type": "stream",
     "name": "stdout",
     "text": [
      "Iteration: 2\n",
      "----------------------------------\n",
      "PLSR_188\n",
      "all col missing\n",
      "----------------------------------\n",
      "PLSR_189\n",
      "all col missing\n",
      "----------------------------------\n",
      "PLSR_19\n",
      "Iteration: 0\n",
      "Iteration: 1\n",
      "Iteration: 2\n"
     ]
    },
    {
     "output_type": "stream",
     "name": "stderr",
     "text": [
      " 77%|███████▋  | 466/605 [22:11<03:16,  1.41s/it]"
     ]
    },
    {
     "output_type": "stream",
     "name": "stdout",
     "text": [
      "Iteration: 3\n",
      "----------------------------------\n",
      "PLSR_190\n",
      "all col missing\n",
      "----------------------------------\n",
      "PLSR_191\n",
      "all col missing\n",
      "----------------------------------\n",
      "PLSR_192\n",
      "all col missing\n",
      "----------------------------------\n",
      "PLSR_193\n",
      "all col missing\n",
      "----------------------------------\n",
      "PLSR_194\n",
      "all col missing\n",
      "----------------------------------\n",
      "PLSR_195\n",
      "all col missing\n",
      "----------------------------------\n",
      "PLSR_196\n",
      "all col missing\n",
      "----------------------------------\n",
      "PLSR_197\n",
      "all col missing\n",
      "----------------------------------\n",
      "PLSR_198\n",
      "all col missing\n",
      "----------------------------------\n",
      "PLSR_199\n",
      "all col missing\n",
      "----------------------------------\n",
      "PLSR_2\n",
      "all col missing\n",
      "----------------------------------\n",
      "PLSR_20\n",
      "Iteration: 0\n",
      "Iteration: 1\n",
      "Iteration: 2\n",
      "Iteration: 3\n"
     ]
    },
    {
     "output_type": "stream",
     "name": "stderr",
     "text": [
      " 77%|███████▋  | 467/605 [22:34<06:14,  2.72s/it]"
     ]
    },
    {
     "output_type": "stream",
     "name": "stdout",
     "text": [
      "Iteration: 4\n",
      "----------------------------------\n",
      "PLSR_200\n",
      "all col missing\n",
      "----------------------------------\n",
      "PLSR_201\n",
      "all col missing\n",
      "----------------------------------\n",
      "PLSR_202\n",
      "all col missing\n",
      "----------------------------------\n",
      "PLSR_203\n",
      "all col missing\n",
      "----------------------------------\n",
      "PLSR_204\n",
      "all col missing\n",
      "----------------------------------\n",
      "PLSR_205\n",
      "all col missing\n",
      "----------------------------------\n",
      "PLSR_206\n",
      "all col missing\n",
      "----------------------------------\n",
      "PLSR_207\n",
      "all col missing\n",
      "----------------------------------\n",
      "PLSR_208\n",
      "all col missing\n",
      "----------------------------------\n",
      "PLSR_21\n",
      "Iteration: 0\n",
      "Iteration: 1\n",
      "Iteration: 2\n",
      "Iteration: 3\n",
      "Iteration: 4\n"
     ]
    },
    {
     "output_type": "stream",
     "name": "stderr",
     "text": [
      " 80%|████████  | 486/605 [23:01<03:22,  1.71s/it]"
     ]
    },
    {
     "output_type": "stream",
     "name": "stdout",
     "text": [
      "Iteration: 5\n",
      "----------------------------------\n",
      "PLSR_210\n",
      "all col missing\n",
      "----------------------------------\n",
      "PLSR_211\n",
      "all col missing\n",
      "----------------------------------\n",
      "PLSR_212\n",
      "all col missing\n",
      "----------------------------------\n",
      "PLSR_213\n",
      "all col missing\n",
      "----------------------------------\n",
      "PLSR_214\n",
      "all col missing\n",
      "----------------------------------\n",
      "PLSR_215\n",
      "all col missing\n",
      "----------------------------------\n",
      "PLSR_216\n",
      "all col missing\n",
      "----------------------------------\n",
      "PLSR_218\n",
      "all col missing\n",
      "----------------------------------\n",
      "PLSR_219\n",
      "all col missing\n",
      "----------------------------------\n",
      "PLSR_22\n",
      "Iteration: 0\n",
      "Iteration: 1\n",
      "Iteration: 2\n",
      "Iteration: 3\n"
     ]
    },
    {
     "output_type": "stream",
     "name": "stderr",
     "text": [
      " 80%|████████  | 486/605 [23:20<03:22,  1.71s/it]"
     ]
    },
    {
     "output_type": "stream",
     "name": "stdout",
     "text": [
      "Iteration: 4\n",
      "Iteration: 5\n"
     ]
    },
    {
     "output_type": "stream",
     "name": "stderr",
     "text": [
      " 82%|████████▏ | 494/605 [23:33<04:03,  2.19s/it]"
     ]
    },
    {
     "output_type": "stream",
     "name": "stdout",
     "text": [
      "Iteration: 6\n",
      "----------------------------------\n",
      "PLSR_220\n",
      "all col missing\n",
      "----------------------------------\n",
      "PLSR_221\n",
      "all col missing\n",
      "----------------------------------\n",
      "PLSR_223\n",
      "all col missing\n",
      "----------------------------------\n",
      "PLSR_224\n",
      "all col missing\n",
      "----------------------------------\n",
      "PLSR_225\n",
      "all col missing\n",
      "----------------------------------\n",
      "PLSR_226\n",
      "all col missing\n",
      "----------------------------------\n",
      "PLSR_227\n",
      "all col missing\n",
      "----------------------------------\n",
      "PLSR_228\n",
      "all col missing\n",
      "----------------------------------\n",
      "PLSR_229\n",
      "all col missing\n",
      "----------------------------------\n",
      "PLSR_23\n",
      "Iteration: 0\n",
      "Iteration: 1\n",
      "Iteration: 2\n"
     ]
    },
    {
     "output_type": "stream",
     "name": "stderr",
     "text": [
      " 84%|████████▎ | 506/605 [23:52<02:41,  1.64s/it]"
     ]
    },
    {
     "output_type": "stream",
     "name": "stdout",
     "text": [
      "Iteration: 3\n",
      "----------------------------------\n",
      "PLSR_230\n",
      "all col missing\n",
      "----------------------------------\n",
      "PLSR_231\n",
      "all col missing\n",
      "----------------------------------\n",
      "PLSR_232\n",
      "all col missing\n",
      "----------------------------------\n",
      "PLSR_233\n",
      "all col missing\n",
      "----------------------------------\n",
      "PLSR_234\n",
      "all col missing\n",
      "----------------------------------\n",
      "PLSR_235\n",
      "all col missing\n",
      "----------------------------------\n",
      "PLSR_236\n",
      "all col missing\n",
      "----------------------------------\n",
      "PLSR_237\n",
      "all col missing\n",
      "----------------------------------\n",
      "PLSR_238\n",
      "all col missing\n",
      "----------------------------------\n",
      "PLSR_239\n",
      "all col missing\n",
      "----------------------------------\n",
      "PLSR_24\n",
      "Iteration: 0\n",
      "Iteration: 1\n"
     ]
    },
    {
     "output_type": "stream",
     "name": "stderr",
     "text": [
      " 85%|████████▍ | 514/605 [24:05<02:31,  1.66s/it]"
     ]
    },
    {
     "output_type": "stream",
     "name": "stdout",
     "text": [
      "Iteration: 2\n",
      "----------------------------------\n",
      "PLSR_240\n",
      "all col missing\n",
      "----------------------------------\n",
      "PLSR_241\n",
      "all col missing\n",
      "----------------------------------\n",
      "PLSR_242\n",
      "all col missing\n",
      "----------------------------------\n",
      "PLSR_243\n",
      "all col missing\n",
      "----------------------------------\n",
      "PLSR_245\n",
      "all col missing\n",
      "----------------------------------\n",
      "PLSR_246\n",
      "all col missing\n",
      "----------------------------------\n",
      "PLSR_247\n",
      "all col missing\n",
      "----------------------------------\n",
      "PLSR_249\n",
      "all col missing\n",
      "----------------------------------\n",
      "PLSR_25\n",
      "Iteration: 0\n",
      "Iteration: 1\n",
      "Iteration: 2\n"
     ]
    },
    {
     "output_type": "stream",
     "name": "stderr",
     "text": [
      " 87%|████████▋ | 526/605 [24:25<01:54,  1.45s/it]"
     ]
    },
    {
     "output_type": "stream",
     "name": "stdout",
     "text": [
      "Iteration: 3\n",
      "----------------------------------\n",
      "PLSR_250\n",
      "all col missing\n",
      "----------------------------------\n",
      "PLSR_252\n",
      "all col missing\n",
      "----------------------------------\n",
      "PLSR_253\n",
      "all col missing\n",
      "----------------------------------\n",
      "PLSR_254\n",
      "all col missing\n",
      "----------------------------------\n",
      "PLSR_255\n",
      "all col missing\n",
      "----------------------------------\n",
      "PLSR_256\n",
      "all col missing\n",
      "----------------------------------\n",
      "PLSR_257\n",
      "all col missing\n",
      "----------------------------------\n",
      "PLSR_258\n",
      "all col missing\n",
      "----------------------------------\n",
      "PLSR_259\n",
      "all col missing\n",
      "----------------------------------\n",
      "PLSR_26\n",
      "Iteration: 0\n",
      "Iteration: 1\n",
      "Iteration: 2\n"
     ]
    },
    {
     "output_type": "stream",
     "name": "stderr",
     "text": [
      " 87%|████████▋ | 527/605 [24:43<03:13,  2.49s/it]"
     ]
    },
    {
     "output_type": "stream",
     "name": "stdout",
     "text": [
      "Iteration: 3\n",
      "----------------------------------\n",
      "PLSR_260\n",
      "all col missing\n",
      "----------------------------------\n",
      "PLSR_261\n",
      "all col missing\n",
      "----------------------------------\n",
      "PLSR_263\n",
      "all col missing\n",
      "----------------------------------\n",
      "PLSR_264\n",
      "all col missing\n",
      "----------------------------------\n",
      "PLSR_27\n",
      "Iteration: 0\n",
      "Iteration: 1\n",
      "Iteration: 2\n"
     ]
    },
    {
     "output_type": "stream",
     "name": "stderr",
     "text": [
      " 88%|████████▊ | 532/605 [25:02<03:29,  2.87s/it]"
     ]
    },
    {
     "output_type": "stream",
     "name": "stdout",
     "text": [
      "Iteration: 3\n",
      "----------------------------------\n",
      "PLSR_28\n",
      "Iteration: 0\n",
      "Iteration: 1\n",
      "Iteration: 2\n",
      "Iteration: 3\n",
      "Iteration: 4\n"
     ]
    },
    {
     "output_type": "stream",
     "name": "stderr",
     "text": [
      " 88%|████████▊ | 533/605 [25:31<05:54,  4.92s/it]"
     ]
    },
    {
     "output_type": "stream",
     "name": "stdout",
     "text": [
      "Iteration: 5\n",
      "----------------------------------\n",
      "PLSR_29\n",
      "Iteration: 0\n",
      "Iteration: 1\n",
      "Iteration: 2\n"
     ]
    },
    {
     "output_type": "stream",
     "name": "stderr",
     "text": [
      " 88%|████████▊ | 534/605 [25:49<07:26,  6.30s/it]"
     ]
    },
    {
     "output_type": "stream",
     "name": "stdout",
     "text": [
      "Iteration: 3\n",
      "----------------------------------\n",
      "PLSR_3\n",
      "all col missing\n",
      "----------------------------------\n",
      "PLSR_30\n",
      "Iteration: 0\n",
      "Iteration: 1\n",
      "Iteration: 2\n",
      "Iteration: 3\n",
      "Iteration: 4\n"
     ]
    },
    {
     "output_type": "stream",
     "name": "stderr",
     "text": [
      " 89%|████████▊ | 536/605 [26:17<09:10,  7.98s/it]"
     ]
    },
    {
     "output_type": "stream",
     "name": "stdout",
     "text": [
      "Iteration: 5\n",
      "----------------------------------\n",
      "PLSR_31\n",
      "Iteration: 0\n",
      "Iteration: 1\n",
      "Iteration: 2\n",
      "Iteration: 3\n"
     ]
    },
    {
     "output_type": "stream",
     "name": "stderr",
     "text": [
      " 89%|████████▉ | 537/605 [26:40<11:27, 10.10s/it]"
     ]
    },
    {
     "output_type": "stream",
     "name": "stdout",
     "text": [
      "Iteration: 4\n",
      "----------------------------------\n",
      "PLSR_32\n",
      "Iteration: 0\n",
      "Iteration: 1\n",
      "Iteration: 2\n"
     ]
    },
    {
     "output_type": "stream",
     "name": "stderr",
     "text": [
      " 89%|████████▉ | 538/605 [27:02<13:24, 12.01s/it]"
     ]
    },
    {
     "output_type": "stream",
     "name": "stdout",
     "text": [
      "Iteration: 3\n",
      "----------------------------------\n",
      "PLSR_33\n",
      "Iteration: 0\n",
      "Iteration: 1\n",
      "Iteration: 2\n",
      "Iteration: 3\n"
     ]
    },
    {
     "output_type": "stream",
     "name": "stderr",
     "text": [
      " 89%|████████▉ | 539/605 [27:28<16:17, 14.81s/it]"
     ]
    },
    {
     "output_type": "stream",
     "name": "stdout",
     "text": [
      "Iteration: 4\n",
      "----------------------------------\n",
      "PLSR_34\n",
      "Iteration: 0\n",
      "Iteration: 1\n",
      "Iteration: 2\n",
      "Iteration: 3\n"
     ]
    },
    {
     "output_type": "stream",
     "name": "stderr",
     "text": [
      " 89%|████████▉ | 540/605 [27:55<18:43, 17.28s/it]"
     ]
    },
    {
     "output_type": "stream",
     "name": "stdout",
     "text": [
      "Iteration: 4\n",
      "----------------------------------\n",
      "PLSR_35\n",
      "Iteration: 0\n",
      "Iteration: 1\n",
      "Iteration: 2\n",
      "Iteration: 3\n",
      "Iteration: 4\n",
      "Iteration: 5\n"
     ]
    },
    {
     "output_type": "stream",
     "name": "stderr",
     "text": [
      " 89%|████████▉ | 541/605 [28:32<23:26, 21.98s/it]"
     ]
    },
    {
     "output_type": "stream",
     "name": "stdout",
     "text": [
      "Iteration: 6\n",
      "----------------------------------\n",
      "PLSR_36\n",
      "all col missing\n",
      "----------------------------------\n",
      "PLSR_37\n",
      "all col missing\n",
      "----------------------------------\n",
      "PLSR_38\n",
      "all col missing\n",
      "----------------------------------\n",
      "PLSR_39\n",
      "Iteration: 0\n",
      "Iteration: 1\n",
      "Iteration: 2\n",
      "Iteration: 3\n"
     ]
    },
    {
     "output_type": "stream",
     "name": "stderr",
     "text": [
      " 90%|█████████ | 545/605 [28:55<12:38, 12.64s/it]"
     ]
    },
    {
     "output_type": "stream",
     "name": "stdout",
     "text": [
      "Iteration: 4\n",
      "----------------------------------\n",
      "PLSR_4\n",
      "Iteration: 0\n",
      "Iteration: 1\n"
     ]
    },
    {
     "output_type": "stream",
     "name": "stderr",
     "text": [
      " 90%|█████████ | 546/605 [29:10<12:54, 13.12s/it]/home/kumaran/.local/lib/python3.6/site-packages/missingpy/missforest.py:528: UserWarning: No missing value located; returning original dataset.\n",
      "  warnings.warn(\"No missing value located; returning original \"\n",
      "/home/kumaran/.local/lib/python3.6/site-packages/missingpy/missforest.py:528: UserWarning: No missing value located; returning original dataset.\n",
      "  warnings.warn(\"No missing value located; returning original \"\n",
      "/home/kumaran/.local/lib/python3.6/site-packages/missingpy/missforest.py:528: UserWarning: No missing value located; returning original dataset.\n",
      "  warnings.warn(\"No missing value located; returning original \"\n",
      "/home/kumaran/.local/lib/python3.6/site-packages/missingpy/missforest.py:528: UserWarning: No missing value located; returning original dataset.\n",
      "  warnings.warn(\"No missing value located; returning original \"\n",
      "/home/kumaran/.local/lib/python3.6/site-packages/missingpy/missforest.py:528: UserWarning: No missing value located; returning original dataset.\n",
      "  warnings.warn(\"No missing value located; returning original \"\n",
      "/home/kumaran/.local/lib/python3.6/site-packages/missingpy/missforest.py:528: UserWarning: No missing value located; returning original dataset.\n",
      "  warnings.warn(\"No missing value located; returning original \"\n",
      " 91%|█████████▏| 553/605 [29:10<04:13,  4.87s/it]"
     ]
    },
    {
     "output_type": "stream",
     "name": "stdout",
     "text": [
      "Iteration: 2\n",
      "----------------------------------\n",
      "PLSR_40\n",
      "all col missing\n",
      "----------------------------------\n",
      "PLSR_41\n",
      "----------------------------------\n",
      "PLSR_42\n",
      "----------------------------------\n",
      "PLSR_43\n",
      "----------------------------------\n",
      "PLSR_44\n",
      "----------------------------------\n",
      "PLSR_45\n",
      "----------------------------------\n",
      "PLSR_46\n",
      "----------------------------------\n",
      "PLSR_47\n",
      "----------------------------------\n",
      "PLSR_48\n",
      "----------------------------------\n",
      "PLSR_49\n",
      "----------------------------------\n",
      "PLSR_5\n",
      "all col missing\n",
      "----------------------------------\n",
      "PLSR_50\n",
      "----------------------------------\n",
      "PLSR_51\n",
      "all col missing\n",
      "----------------------------------\n",
      "PLSR_52\n"
     ]
    },
    {
     "output_type": "stream",
     "name": "stderr",
     "text": [
      "/home/kumaran/.local/lib/python3.6/site-packages/missingpy/missforest.py:528: UserWarning: No missing value located; returning original dataset.\n",
      "  warnings.warn(\"No missing value located; returning original \"\n",
      "/home/kumaran/.local/lib/python3.6/site-packages/missingpy/missforest.py:528: UserWarning: No missing value located; returning original dataset.\n",
      "  warnings.warn(\"No missing value located; returning original \"\n",
      "/home/kumaran/.local/lib/python3.6/site-packages/missingpy/missforest.py:528: UserWarning: No missing value located; returning original dataset.\n",
      "  warnings.warn(\"No missing value located; returning original \"\n",
      "/home/kumaran/.local/lib/python3.6/site-packages/missingpy/missforest.py:528: UserWarning: No missing value located; returning original dataset.\n",
      "  warnings.warn(\"No missing value located; returning original \"\n"
     ]
    },
    {
     "output_type": "stream",
     "name": "stdout",
     "text": [
      "Iteration: 0\n",
      "Iteration: 1\n"
     ]
    },
    {
     "output_type": "stream",
     "name": "stderr",
     "text": [
      " 93%|█████████▎| 561/605 [29:12<01:50,  2.52s/it]"
     ]
    },
    {
     "output_type": "stream",
     "name": "stdout",
     "text": [
      "Iteration: 2\n",
      "----------------------------------\n",
      "PLSR_53\n",
      "all col missing\n",
      "----------------------------------\n",
      "PLSR_54\n",
      "all col missing\n",
      "----------------------------------\n",
      "PLSR_55\n",
      "all col missing\n",
      "----------------------------------\n",
      "PLSR_56\n",
      "all col missing\n",
      "----------------------------------\n",
      "PLSR_57\n",
      "----------------------------------\n",
      "PLSR_58\n"
     ]
    },
    {
     "output_type": "stream",
     "name": "stderr",
     "text": [
      "/home/kumaran/.local/lib/python3.6/site-packages/missingpy/missforest.py:528: UserWarning: No missing value located; returning original dataset.\n",
      "  warnings.warn(\"No missing value located; returning original \"\n"
     ]
    },
    {
     "output_type": "stream",
     "name": "stdout",
     "text": [
      "Iteration: 0\n",
      "Iteration: 1\n",
      "Iteration: 2\n"
     ]
    },
    {
     "output_type": "stream",
     "name": "stderr",
     "text": [
      " 93%|█████████▎| 561/605 [29:30<01:50,  2.52s/it]"
     ]
    },
    {
     "output_type": "stream",
     "name": "stdout",
     "text": [
      "Iteration: 3\n",
      "Iteration: 4\n",
      "Iteration: 5\n"
     ]
    },
    {
     "output_type": "stream",
     "name": "stderr",
     "text": [
      " 94%|█████████▎| 566/605 [29:43<02:23,  3.68s/it]"
     ]
    },
    {
     "output_type": "stream",
     "name": "stdout",
     "text": [
      "Iteration: 6\n",
      "----------------------------------\n",
      "PLSR_59\n",
      "all col missing\n",
      "----------------------------------\n",
      "PLSR_6\n",
      "all col missing\n",
      "----------------------------------\n",
      "PLSR_60\n",
      "Iteration: 0\n",
      "Iteration: 1\n"
     ]
    },
    {
     "output_type": "stream",
     "name": "stderr",
     "text": [
      " 94%|█████████▍| 569/605 [29:50<02:00,  3.35s/it]"
     ]
    },
    {
     "output_type": "stream",
     "name": "stdout",
     "text": [
      "Iteration: 2\n",
      "----------------------------------\n",
      "PLSR_61\n",
      "Iteration: 0\n",
      "Iteration: 1\n"
     ]
    },
    {
     "output_type": "stream",
     "name": "stderr",
     "text": [
      " 94%|█████████▍| 569/605 [30:00<02:00,  3.35s/it]"
     ]
    },
    {
     "output_type": "stream",
     "name": "stdout",
     "text": [
      "Iteration: 2\n"
     ]
    },
    {
     "output_type": "stream",
     "name": "stderr",
     "text": [
      " 94%|█████████▍| 570/605 [30:08<02:44,  4.71s/it]"
     ]
    },
    {
     "output_type": "stream",
     "name": "stdout",
     "text": [
      "Iteration: 3\n",
      "----------------------------------\n",
      "PLSR_62\n",
      "Iteration: 0\n"
     ]
    },
    {
     "output_type": "stream",
     "name": "stderr",
     "text": [
      " 94%|█████████▍| 571/605 [30:09<02:25,  4.29s/it]"
     ]
    },
    {
     "output_type": "stream",
     "name": "stdout",
     "text": [
      "Iteration: 1\n",
      "----------------------------------\n",
      "PLSR_63\n",
      "all col missing\n",
      "----------------------------------\n",
      "PLSR_65\n",
      "Iteration: 0\n",
      "Iteration: 1\n"
     ]
    },
    {
     "output_type": "stream",
     "name": "stderr",
     "text": [
      " 94%|█████████▍| 571/605 [30:20<02:25,  4.29s/it]"
     ]
    },
    {
     "output_type": "stream",
     "name": "stdout",
     "text": [
      "Iteration: 2\n"
     ]
    },
    {
     "output_type": "stream",
     "name": "stderr",
     "text": [
      " 95%|█████████▍| 573/605 [30:28<03:00,  5.63s/it]"
     ]
    },
    {
     "output_type": "stream",
     "name": "stdout",
     "text": [
      "Iteration: 3\n",
      "----------------------------------\n",
      "PLSR_66\n",
      "all col missing\n",
      "----------------------------------\n",
      "PLSR_67\n",
      "Iteration: 0\n",
      "Iteration: 1\n"
     ]
    },
    {
     "output_type": "stream",
     "name": "stderr",
     "text": [
      " 95%|█████████▌| 575/605 [30:34<02:27,  4.91s/it]"
     ]
    },
    {
     "output_type": "stream",
     "name": "stdout",
     "text": [
      "Iteration: 2\n",
      "----------------------------------\n",
      "PLSR_68\n",
      "all col missing\n",
      "----------------------------------\n",
      "PLSR_69\n",
      "all col missing\n",
      "----------------------------------\n",
      "PLSR_7\n",
      "all col missing\n",
      "----------------------------------\n",
      "PLSR_70\n",
      "all col missing\n",
      "----------------------------------\n",
      "PLSR_71\n",
      "----------------------------------\n",
      "PLSR_72\n"
     ]
    },
    {
     "output_type": "stream",
     "name": "stderr",
     "text": [
      "/home/kumaran/.local/lib/python3.6/site-packages/missingpy/missforest.py:528: UserWarning: No missing value located; returning original dataset.\n",
      "  warnings.warn(\"No missing value located; returning original \"\n"
     ]
    },
    {
     "output_type": "stream",
     "name": "stdout",
     "text": [
      "Iteration: 0\n",
      "Iteration: 1\n"
     ]
    },
    {
     "output_type": "stream",
     "name": "stderr",
     "text": [
      " 96%|█████████▌| 581/605 [30:36<00:59,  2.46s/it]/home/kumaran/.local/lib/python3.6/site-packages/missingpy/missforest.py:528: UserWarning: No missing value located; returning original dataset.\n",
      "  warnings.warn(\"No missing value located; returning original \"\n",
      "/home/kumaran/.local/lib/python3.6/site-packages/missingpy/missforest.py:528: UserWarning: No missing value located; returning original dataset.\n",
      "  warnings.warn(\"No missing value located; returning original \"\n",
      " 97%|█████████▋| 587/605 [30:36<00:25,  1.41s/it]"
     ]
    },
    {
     "output_type": "stream",
     "name": "stdout",
     "text": [
      "Iteration: 2\n",
      "----------------------------------\n",
      "PLSR_73\n",
      "all col missing\n",
      "----------------------------------\n",
      "PLSR_74\n",
      "all col missing\n",
      "----------------------------------\n",
      "PLSR_75\n",
      "----------------------------------\n",
      "PLSR_76\n",
      "----------------------------------\n",
      "PLSR_77\n",
      "all col missing\n",
      "----------------------------------\n",
      "PLSR_78\n",
      "all col missing\n",
      "----------------------------------\n",
      "PLSR_79\n",
      "all col missing\n",
      "----------------------------------\n",
      "PLSR_8\n",
      "all col missing\n",
      "----------------------------------\n",
      "PLSR_80\n",
      "all col missing\n",
      "----------------------------------\n",
      "PLSR_81\n",
      "all col missing\n",
      "----------------------------------\n",
      "PLSR_82\n",
      "all col missing\n",
      "----------------------------------\n",
      "PLSR_83\n",
      "all col missing\n",
      "----------------------------------\n",
      "PLSR_84\n",
      "Iteration: 0\n",
      "Iteration: 1\n"
     ]
    },
    {
     "output_type": "stream",
     "name": "stderr",
     "text": [
      " 98%|█████████▊| 594/605 [30:49<00:17,  1.62s/it]"
     ]
    },
    {
     "output_type": "stream",
     "name": "stdout",
     "text": [
      "Iteration: 2\n",
      "----------------------------------\n",
      "PLSR_85\n",
      "----------------------------------\n",
      "PLSR_86\n"
     ]
    },
    {
     "output_type": "stream",
     "name": "stderr",
     "text": [
      "/home/kumaran/.local/lib/python3.6/site-packages/missingpy/missforest.py:528: UserWarning: No missing value located; returning original dataset.\n",
      "  warnings.warn(\"No missing value located; returning original \"\n"
     ]
    },
    {
     "output_type": "stream",
     "name": "stdout",
     "text": [
      "Iteration: 0\n",
      "Iteration: 1\n"
     ]
    },
    {
     "output_type": "stream",
     "name": "stderr",
     "text": [
      " 99%|█████████▊| 596/605 [31:03<00:21,  2.40s/it]"
     ]
    },
    {
     "output_type": "stream",
     "name": "stdout",
     "text": [
      "Iteration: 2\n",
      "----------------------------------\n",
      "PLSR_87\n",
      "all col missing\n",
      "----------------------------------\n",
      "PLSR_88\n",
      "all col missing\n",
      "----------------------------------\n",
      "PLSR_89\n",
      "Iteration: 0\n",
      "Iteration: 1\n"
     ]
    },
    {
     "output_type": "stream",
     "name": "stderr",
     "text": [
      " 99%|█████████▉| 599/605 [31:05<00:11,  1.96s/it]"
     ]
    },
    {
     "output_type": "stream",
     "name": "stdout",
     "text": [
      "Iteration: 2\n",
      "----------------------------------\n",
      "PLSR_9\n",
      "Iteration: 0\n",
      "Iteration: 1\n",
      "Iteration: 2\n"
     ]
    },
    {
     "output_type": "stream",
     "name": "stderr",
     "text": [
      " 99%|█████████▉| 600/605 [31:23<00:18,  3.64s/it]"
     ]
    },
    {
     "output_type": "stream",
     "name": "stdout",
     "text": [
      "Iteration: 3\n",
      "----------------------------------\n",
      "PLSR_90\n",
      "all col missing\n",
      "----------------------------------\n",
      "PLSR_91\n",
      "----------------------------------\n",
      "PLSR_92\n",
      "all col missing\n",
      "----------------------------------\n",
      "PLSR_95\n"
     ]
    },
    {
     "output_type": "stream",
     "name": "stderr",
     "text": [
      "/home/kumaran/.local/lib/python3.6/site-packages/missingpy/missforest.py:528: UserWarning: No missing value located; returning original dataset.\n",
      "  warnings.warn(\"No missing value located; returning original \"\n"
     ]
    },
    {
     "output_type": "stream",
     "name": "stdout",
     "text": [
      "Iteration: 0\n",
      "Iteration: 1\n"
     ]
    },
    {
     "output_type": "stream",
     "name": "stderr",
     "text": [
      "100%|██████████| 605/605 [31:25<00:00,  3.12s/it]"
     ]
    },
    {
     "output_type": "stream",
     "name": "stdout",
     "text": [
      "Iteration: 2\n",
      "----------------------------------\n",
      "PLSR_99\n",
      "all col missing\n"
     ]
    },
    {
     "output_type": "stream",
     "name": "stderr",
     "text": [
      "\n"
     ]
    },
    {
     "output_type": "display_data",
     "data": {
      "text/plain": [
       "                src_id  num_obs      sepn                    name         ra  \\\n",
       "obs_id                                                                         \n",
       "CV_0_obs_0        CV_0       25  0.157954   2CXO J004247.1+411619   10.69654   \n",
       "CV_0_obs_1        CV_0       25  0.157954   2CXO J004247.1+411619   10.69654   \n",
       "CV_0_obs_2        CV_0       25  0.157954   2CXO J004247.1+411619   10.69654   \n",
       "CV_0_obs_3        CV_0       25  0.157954   2CXO J004247.1+411619   10.69654   \n",
       "CV_0_obs_4        CV_0       25  0.157954   2CXO J004247.1+411619   10.69654   \n",
       "...                ...      ...       ...                     ...        ...   \n",
       "PLSR_95_obs_1  PLSR_95        2  0.456983   2CXO J222905.2+611409  337.27190   \n",
       "PLSR_99_obs_0  PLSR_99        4  0.259532   2CXO J171810.0-371853  259.54170   \n",
       "PLSR_99_obs_1  PLSR_99        4  0.259532   2CXO J171810.0-371853  259.54170   \n",
       "PLSR_99_obs_2  PLSR_99        4  0.259532   2CXO J171810.0-371853  259.54170   \n",
       "PLSR_99_obs_3  PLSR_99        4  0.259532   2CXO J171810.0-371853  259.54170   \n",
       "\n",
       "                    dec  livetime  significance   likelihood class  ...  \\\n",
       "obs_id                                                              ...   \n",
       "CV_0_obs_0     41.27215    4103.7         52.93  16618.73000    CV  ...   \n",
       "CV_0_obs_1     41.27215    3907.5         52.93  16618.73000    CV  ...   \n",
       "CV_0_obs_2     41.27215    3907.5         52.93  16618.73000    CV  ...   \n",
       "CV_0_obs_3     41.27215    3904.6         52.93  16618.73000    CV  ...   \n",
       "CV_0_obs_4     41.27215    3907.5         52.93  16618.73000    CV  ...   \n",
       "...                 ...       ...           ...          ...   ...  ...   \n",
       "PLSR_95_obs_1  61.23586   93964.6         43.76  10080.56000    PL  ...   \n",
       "PLSR_99_obs_0 -37.31476   32031.9          3.00     22.24461    PL  ...   \n",
       "PLSR_99_obs_1 -37.31476   33272.3          3.00     22.24461    PL  ...   \n",
       "PLSR_99_obs_2 -37.31476   34173.8          3.00     22.24461    PL  ...   \n",
       "PLSR_99_obs_3 -37.31476   34148.0          3.00     22.24461    PL  ...   \n",
       "\n",
       "               var_inter_prob_h  var_inter_sigma_h  flux_aper_u  var_max_b  \\\n",
       "obs_id                                                                       \n",
       "CV_0_obs_0                  NaN                NaN          NaN        NaN   \n",
       "CV_0_obs_1                  NaN                NaN          NaN        NaN   \n",
       "CV_0_obs_2                  NaN                NaN          NaN        NaN   \n",
       "CV_0_obs_3                  NaN                NaN          NaN        NaN   \n",
       "CV_0_obs_4                  NaN                NaN          NaN        NaN   \n",
       "...                         ...                ...          ...        ...   \n",
       "PLSR_95_obs_1             0.941       4.910000e-06     14.28946    0.02135   \n",
       "PLSR_99_obs_0             0.692       1.870000e-07          NaN        NaN   \n",
       "PLSR_99_obs_1             0.692       1.870000e-07          NaN        NaN   \n",
       "PLSR_99_obs_2             0.692       1.870000e-07          NaN        NaN   \n",
       "PLSR_99_obs_3             0.692       1.870000e-07          NaN        NaN   \n",
       "\n",
       "               var_prob_b  ks_prob_b  kp_prob_b  var_sigma_b  var_mean_b  \\\n",
       "obs_id                                                                     \n",
       "CV_0_obs_0            NaN        NaN        NaN          NaN         NaN   \n",
       "CV_0_obs_1            NaN        NaN        NaN          NaN         NaN   \n",
       "CV_0_obs_2            NaN        NaN        NaN          NaN         NaN   \n",
       "CV_0_obs_3            NaN        NaN        NaN          NaN         NaN   \n",
       "CV_0_obs_4            NaN        NaN        NaN          NaN         NaN   \n",
       "...                   ...        ...        ...          ...         ...   \n",
       "PLSR_95_obs_1       0.059      0.731      0.464     0.000035     0.02132   \n",
       "PLSR_99_obs_0         NaN        NaN        NaN          NaN         NaN   \n",
       "PLSR_99_obs_1         NaN        NaN        NaN          NaN         NaN   \n",
       "PLSR_99_obs_2         NaN        NaN        NaN          NaN         NaN   \n",
       "PLSR_99_obs_3         NaN        NaN        NaN          NaN         NaN   \n",
       "\n",
       "               var_min_b  \n",
       "obs_id                    \n",
       "CV_0_obs_0           NaN  \n",
       "CV_0_obs_1           NaN  \n",
       "CV_0_obs_2           NaN  \n",
       "CV_0_obs_3           NaN  \n",
       "CV_0_obs_4           NaN  \n",
       "...                  ...  \n",
       "PLSR_95_obs_1    0.02128  \n",
       "PLSR_99_obs_0        NaN  \n",
       "PLSR_99_obs_1        NaN  \n",
       "PLSR_99_obs_2        NaN  \n",
       "PLSR_99_obs_3        NaN  \n",
       "\n",
       "[3690 rows x 42 columns]"
      ],
      "text/html": [
       "<div>\n",
       "<style scoped>\n",
       "    .dataframe tbody tr th:only-of-type {\n",
       "        vertical-align: middle;\n",
       "    }\n",
       "\n",
       "    .dataframe tbody tr th {\n",
       "        vertical-align: top;\n",
       "    }\n",
       "\n",
       "    .dataframe thead th {\n",
       "        text-align: right;\n",
       "    }\n",
       "</style>\n",
       "<table border=\"1\" class=\"dataframe\">\n",
       "  <thead>\n",
       "    <tr style=\"text-align: right;\">\n",
       "      <th></th>\n",
       "      <th>src_id</th>\n",
       "      <th>num_obs</th>\n",
       "      <th>sepn</th>\n",
       "      <th>name</th>\n",
       "      <th>ra</th>\n",
       "      <th>dec</th>\n",
       "      <th>livetime</th>\n",
       "      <th>significance</th>\n",
       "      <th>likelihood</th>\n",
       "      <th>class</th>\n",
       "      <th>...</th>\n",
       "      <th>var_inter_prob_h</th>\n",
       "      <th>var_inter_sigma_h</th>\n",
       "      <th>flux_aper_u</th>\n",
       "      <th>var_max_b</th>\n",
       "      <th>var_prob_b</th>\n",
       "      <th>ks_prob_b</th>\n",
       "      <th>kp_prob_b</th>\n",
       "      <th>var_sigma_b</th>\n",
       "      <th>var_mean_b</th>\n",
       "      <th>var_min_b</th>\n",
       "    </tr>\n",
       "    <tr>\n",
       "      <th>obs_id</th>\n",
       "      <th></th>\n",
       "      <th></th>\n",
       "      <th></th>\n",
       "      <th></th>\n",
       "      <th></th>\n",
       "      <th></th>\n",
       "      <th></th>\n",
       "      <th></th>\n",
       "      <th></th>\n",
       "      <th></th>\n",
       "      <th></th>\n",
       "      <th></th>\n",
       "      <th></th>\n",
       "      <th></th>\n",
       "      <th></th>\n",
       "      <th></th>\n",
       "      <th></th>\n",
       "      <th></th>\n",
       "      <th></th>\n",
       "      <th></th>\n",
       "      <th></th>\n",
       "    </tr>\n",
       "  </thead>\n",
       "  <tbody>\n",
       "    <tr>\n",
       "      <th>CV_0_obs_0</th>\n",
       "      <td>CV_0</td>\n",
       "      <td>25</td>\n",
       "      <td>0.157954</td>\n",
       "      <td>2CXO J004247.1+411619</td>\n",
       "      <td>10.69654</td>\n",
       "      <td>41.27215</td>\n",
       "      <td>4103.7</td>\n",
       "      <td>52.93</td>\n",
       "      <td>16618.73000</td>\n",
       "      <td>CV</td>\n",
       "      <td>...</td>\n",
       "      <td>NaN</td>\n",
       "      <td>NaN</td>\n",
       "      <td>NaN</td>\n",
       "      <td>NaN</td>\n",
       "      <td>NaN</td>\n",
       "      <td>NaN</td>\n",
       "      <td>NaN</td>\n",
       "      <td>NaN</td>\n",
       "      <td>NaN</td>\n",
       "      <td>NaN</td>\n",
       "    </tr>\n",
       "    <tr>\n",
       "      <th>CV_0_obs_1</th>\n",
       "      <td>CV_0</td>\n",
       "      <td>25</td>\n",
       "      <td>0.157954</td>\n",
       "      <td>2CXO J004247.1+411619</td>\n",
       "      <td>10.69654</td>\n",
       "      <td>41.27215</td>\n",
       "      <td>3907.5</td>\n",
       "      <td>52.93</td>\n",
       "      <td>16618.73000</td>\n",
       "      <td>CV</td>\n",
       "      <td>...</td>\n",
       "      <td>NaN</td>\n",
       "      <td>NaN</td>\n",
       "      <td>NaN</td>\n",
       "      <td>NaN</td>\n",
       "      <td>NaN</td>\n",
       "      <td>NaN</td>\n",
       "      <td>NaN</td>\n",
       "      <td>NaN</td>\n",
       "      <td>NaN</td>\n",
       "      <td>NaN</td>\n",
       "    </tr>\n",
       "    <tr>\n",
       "      <th>CV_0_obs_2</th>\n",
       "      <td>CV_0</td>\n",
       "      <td>25</td>\n",
       "      <td>0.157954</td>\n",
       "      <td>2CXO J004247.1+411619</td>\n",
       "      <td>10.69654</td>\n",
       "      <td>41.27215</td>\n",
       "      <td>3907.5</td>\n",
       "      <td>52.93</td>\n",
       "      <td>16618.73000</td>\n",
       "      <td>CV</td>\n",
       "      <td>...</td>\n",
       "      <td>NaN</td>\n",
       "      <td>NaN</td>\n",
       "      <td>NaN</td>\n",
       "      <td>NaN</td>\n",
       "      <td>NaN</td>\n",
       "      <td>NaN</td>\n",
       "      <td>NaN</td>\n",
       "      <td>NaN</td>\n",
       "      <td>NaN</td>\n",
       "      <td>NaN</td>\n",
       "    </tr>\n",
       "    <tr>\n",
       "      <th>CV_0_obs_3</th>\n",
       "      <td>CV_0</td>\n",
       "      <td>25</td>\n",
       "      <td>0.157954</td>\n",
       "      <td>2CXO J004247.1+411619</td>\n",
       "      <td>10.69654</td>\n",
       "      <td>41.27215</td>\n",
       "      <td>3904.6</td>\n",
       "      <td>52.93</td>\n",
       "      <td>16618.73000</td>\n",
       "      <td>CV</td>\n",
       "      <td>...</td>\n",
       "      <td>NaN</td>\n",
       "      <td>NaN</td>\n",
       "      <td>NaN</td>\n",
       "      <td>NaN</td>\n",
       "      <td>NaN</td>\n",
       "      <td>NaN</td>\n",
       "      <td>NaN</td>\n",
       "      <td>NaN</td>\n",
       "      <td>NaN</td>\n",
       "      <td>NaN</td>\n",
       "    </tr>\n",
       "    <tr>\n",
       "      <th>CV_0_obs_4</th>\n",
       "      <td>CV_0</td>\n",
       "      <td>25</td>\n",
       "      <td>0.157954</td>\n",
       "      <td>2CXO J004247.1+411619</td>\n",
       "      <td>10.69654</td>\n",
       "      <td>41.27215</td>\n",
       "      <td>3907.5</td>\n",
       "      <td>52.93</td>\n",
       "      <td>16618.73000</td>\n",
       "      <td>CV</td>\n",
       "      <td>...</td>\n",
       "      <td>NaN</td>\n",
       "      <td>NaN</td>\n",
       "      <td>NaN</td>\n",
       "      <td>NaN</td>\n",
       "      <td>NaN</td>\n",
       "      <td>NaN</td>\n",
       "      <td>NaN</td>\n",
       "      <td>NaN</td>\n",
       "      <td>NaN</td>\n",
       "      <td>NaN</td>\n",
       "    </tr>\n",
       "    <tr>\n",
       "      <th>...</th>\n",
       "      <td>...</td>\n",
       "      <td>...</td>\n",
       "      <td>...</td>\n",
       "      <td>...</td>\n",
       "      <td>...</td>\n",
       "      <td>...</td>\n",
       "      <td>...</td>\n",
       "      <td>...</td>\n",
       "      <td>...</td>\n",
       "      <td>...</td>\n",
       "      <td>...</td>\n",
       "      <td>...</td>\n",
       "      <td>...</td>\n",
       "      <td>...</td>\n",
       "      <td>...</td>\n",
       "      <td>...</td>\n",
       "      <td>...</td>\n",
       "      <td>...</td>\n",
       "      <td>...</td>\n",
       "      <td>...</td>\n",
       "      <td>...</td>\n",
       "    </tr>\n",
       "    <tr>\n",
       "      <th>PLSR_95_obs_1</th>\n",
       "      <td>PLSR_95</td>\n",
       "      <td>2</td>\n",
       "      <td>0.456983</td>\n",
       "      <td>2CXO J222905.2+611409</td>\n",
       "      <td>337.27190</td>\n",
       "      <td>61.23586</td>\n",
       "      <td>93964.6</td>\n",
       "      <td>43.76</td>\n",
       "      <td>10080.56000</td>\n",
       "      <td>PL</td>\n",
       "      <td>...</td>\n",
       "      <td>0.941</td>\n",
       "      <td>4.910000e-06</td>\n",
       "      <td>14.28946</td>\n",
       "      <td>0.02135</td>\n",
       "      <td>0.059</td>\n",
       "      <td>0.731</td>\n",
       "      <td>0.464</td>\n",
       "      <td>0.000035</td>\n",
       "      <td>0.02132</td>\n",
       "      <td>0.02128</td>\n",
       "    </tr>\n",
       "    <tr>\n",
       "      <th>PLSR_99_obs_0</th>\n",
       "      <td>PLSR_99</td>\n",
       "      <td>4</td>\n",
       "      <td>0.259532</td>\n",
       "      <td>2CXO J171810.0-371853</td>\n",
       "      <td>259.54170</td>\n",
       "      <td>-37.31476</td>\n",
       "      <td>32031.9</td>\n",
       "      <td>3.00</td>\n",
       "      <td>22.24461</td>\n",
       "      <td>PL</td>\n",
       "      <td>...</td>\n",
       "      <td>0.692</td>\n",
       "      <td>1.870000e-07</td>\n",
       "      <td>NaN</td>\n",
       "      <td>NaN</td>\n",
       "      <td>NaN</td>\n",
       "      <td>NaN</td>\n",
       "      <td>NaN</td>\n",
       "      <td>NaN</td>\n",
       "      <td>NaN</td>\n",
       "      <td>NaN</td>\n",
       "    </tr>\n",
       "    <tr>\n",
       "      <th>PLSR_99_obs_1</th>\n",
       "      <td>PLSR_99</td>\n",
       "      <td>4</td>\n",
       "      <td>0.259532</td>\n",
       "      <td>2CXO J171810.0-371853</td>\n",
       "      <td>259.54170</td>\n",
       "      <td>-37.31476</td>\n",
       "      <td>33272.3</td>\n",
       "      <td>3.00</td>\n",
       "      <td>22.24461</td>\n",
       "      <td>PL</td>\n",
       "      <td>...</td>\n",
       "      <td>0.692</td>\n",
       "      <td>1.870000e-07</td>\n",
       "      <td>NaN</td>\n",
       "      <td>NaN</td>\n",
       "      <td>NaN</td>\n",
       "      <td>NaN</td>\n",
       "      <td>NaN</td>\n",
       "      <td>NaN</td>\n",
       "      <td>NaN</td>\n",
       "      <td>NaN</td>\n",
       "    </tr>\n",
       "    <tr>\n",
       "      <th>PLSR_99_obs_2</th>\n",
       "      <td>PLSR_99</td>\n",
       "      <td>4</td>\n",
       "      <td>0.259532</td>\n",
       "      <td>2CXO J171810.0-371853</td>\n",
       "      <td>259.54170</td>\n",
       "      <td>-37.31476</td>\n",
       "      <td>34173.8</td>\n",
       "      <td>3.00</td>\n",
       "      <td>22.24461</td>\n",
       "      <td>PL</td>\n",
       "      <td>...</td>\n",
       "      <td>0.692</td>\n",
       "      <td>1.870000e-07</td>\n",
       "      <td>NaN</td>\n",
       "      <td>NaN</td>\n",
       "      <td>NaN</td>\n",
       "      <td>NaN</td>\n",
       "      <td>NaN</td>\n",
       "      <td>NaN</td>\n",
       "      <td>NaN</td>\n",
       "      <td>NaN</td>\n",
       "    </tr>\n",
       "    <tr>\n",
       "      <th>PLSR_99_obs_3</th>\n",
       "      <td>PLSR_99</td>\n",
       "      <td>4</td>\n",
       "      <td>0.259532</td>\n",
       "      <td>2CXO J171810.0-371853</td>\n",
       "      <td>259.54170</td>\n",
       "      <td>-37.31476</td>\n",
       "      <td>34148.0</td>\n",
       "      <td>3.00</td>\n",
       "      <td>22.24461</td>\n",
       "      <td>PL</td>\n",
       "      <td>...</td>\n",
       "      <td>0.692</td>\n",
       "      <td>1.870000e-07</td>\n",
       "      <td>NaN</td>\n",
       "      <td>NaN</td>\n",
       "      <td>NaN</td>\n",
       "      <td>NaN</td>\n",
       "      <td>NaN</td>\n",
       "      <td>NaN</td>\n",
       "      <td>NaN</td>\n",
       "      <td>NaN</td>\n",
       "    </tr>\n",
       "  </tbody>\n",
       "</table>\n",
       "<p>3690 rows × 42 columns</p>\n",
       "</div>"
      ]
     },
     "metadata": {}
    }
   ],
   "metadata": {}
  },
  {
   "cell_type": "code",
   "execution_count": 60,
   "source": [
    "df_all_imp.to_csv('srcwise-imp-data_v2.csv')\n",
    "df_all_imp"
   ],
   "outputs": [
    {
     "output_type": "execute_result",
     "data": {
      "text/plain": [
       "                src_id  num_obs      sepn                    name         ra  \\\n",
       "obs_id                                                                         \n",
       "CV_0_obs_0        CV_0       25  0.157954   2CXO J004247.1+411619   10.69654   \n",
       "CV_0_obs_1        CV_0       25  0.157954   2CXO J004247.1+411619   10.69654   \n",
       "CV_0_obs_2        CV_0       25  0.157954   2CXO J004247.1+411619   10.69654   \n",
       "CV_0_obs_3        CV_0       25  0.157954   2CXO J004247.1+411619   10.69654   \n",
       "CV_0_obs_4        CV_0       25  0.157954   2CXO J004247.1+411619   10.69654   \n",
       "...                ...      ...       ...                     ...        ...   \n",
       "PLSR_95_obs_1  PLSR_95        2  0.456983   2CXO J222905.2+611409  337.27190   \n",
       "PLSR_99_obs_0  PLSR_99        4  0.259532   2CXO J171810.0-371853  259.54170   \n",
       "PLSR_99_obs_1  PLSR_99        4  0.259532   2CXO J171810.0-371853  259.54170   \n",
       "PLSR_99_obs_2  PLSR_99        4  0.259532   2CXO J171810.0-371853  259.54170   \n",
       "PLSR_99_obs_3  PLSR_99        4  0.259532   2CXO J171810.0-371853  259.54170   \n",
       "\n",
       "                    dec  livetime  significance   likelihood class  ...  \\\n",
       "obs_id                                                              ...   \n",
       "CV_0_obs_0     41.27215    4103.7         52.93  16618.73000    CV  ...   \n",
       "CV_0_obs_1     41.27215    3907.5         52.93  16618.73000    CV  ...   \n",
       "CV_0_obs_2     41.27215    3907.5         52.93  16618.73000    CV  ...   \n",
       "CV_0_obs_3     41.27215    3904.6         52.93  16618.73000    CV  ...   \n",
       "CV_0_obs_4     41.27215    3907.5         52.93  16618.73000    CV  ...   \n",
       "...                 ...       ...           ...          ...   ...  ...   \n",
       "PLSR_95_obs_1  61.23586   93964.6         43.76  10080.56000    PL  ...   \n",
       "PLSR_99_obs_0 -37.31476   32031.9          3.00     22.24461    PL  ...   \n",
       "PLSR_99_obs_1 -37.31476   33272.3          3.00     22.24461    PL  ...   \n",
       "PLSR_99_obs_2 -37.31476   34173.8          3.00     22.24461    PL  ...   \n",
       "PLSR_99_obs_3 -37.31476   34148.0          3.00     22.24461    PL  ...   \n",
       "\n",
       "               var_inter_prob_h  var_inter_sigma_h  flux_aper_u  var_max_b  \\\n",
       "obs_id                                                                       \n",
       "CV_0_obs_0                  NaN                NaN          NaN        NaN   \n",
       "CV_0_obs_1                  NaN                NaN          NaN        NaN   \n",
       "CV_0_obs_2                  NaN                NaN          NaN        NaN   \n",
       "CV_0_obs_3                  NaN                NaN          NaN        NaN   \n",
       "CV_0_obs_4                  NaN                NaN          NaN        NaN   \n",
       "...                         ...                ...          ...        ...   \n",
       "PLSR_95_obs_1             0.941       4.910000e-06     14.28946    0.02135   \n",
       "PLSR_99_obs_0             0.692       1.870000e-07          NaN        NaN   \n",
       "PLSR_99_obs_1             0.692       1.870000e-07          NaN        NaN   \n",
       "PLSR_99_obs_2             0.692       1.870000e-07          NaN        NaN   \n",
       "PLSR_99_obs_3             0.692       1.870000e-07          NaN        NaN   \n",
       "\n",
       "               var_prob_b  ks_prob_b  kp_prob_b  var_sigma_b  var_mean_b  \\\n",
       "obs_id                                                                     \n",
       "CV_0_obs_0            NaN        NaN        NaN          NaN         NaN   \n",
       "CV_0_obs_1            NaN        NaN        NaN          NaN         NaN   \n",
       "CV_0_obs_2            NaN        NaN        NaN          NaN         NaN   \n",
       "CV_0_obs_3            NaN        NaN        NaN          NaN         NaN   \n",
       "CV_0_obs_4            NaN        NaN        NaN          NaN         NaN   \n",
       "...                   ...        ...        ...          ...         ...   \n",
       "PLSR_95_obs_1       0.059      0.731      0.464     0.000035     0.02132   \n",
       "PLSR_99_obs_0         NaN        NaN        NaN          NaN         NaN   \n",
       "PLSR_99_obs_1         NaN        NaN        NaN          NaN         NaN   \n",
       "PLSR_99_obs_2         NaN        NaN        NaN          NaN         NaN   \n",
       "PLSR_99_obs_3         NaN        NaN        NaN          NaN         NaN   \n",
       "\n",
       "               var_min_b  \n",
       "obs_id                    \n",
       "CV_0_obs_0           NaN  \n",
       "CV_0_obs_1           NaN  \n",
       "CV_0_obs_2           NaN  \n",
       "CV_0_obs_3           NaN  \n",
       "CV_0_obs_4           NaN  \n",
       "...                  ...  \n",
       "PLSR_95_obs_1    0.02128  \n",
       "PLSR_99_obs_0        NaN  \n",
       "PLSR_99_obs_1        NaN  \n",
       "PLSR_99_obs_2        NaN  \n",
       "PLSR_99_obs_3        NaN  \n",
       "\n",
       "[3690 rows x 42 columns]"
      ],
      "text/html": [
       "<div>\n",
       "<style scoped>\n",
       "    .dataframe tbody tr th:only-of-type {\n",
       "        vertical-align: middle;\n",
       "    }\n",
       "\n",
       "    .dataframe tbody tr th {\n",
       "        vertical-align: top;\n",
       "    }\n",
       "\n",
       "    .dataframe thead th {\n",
       "        text-align: right;\n",
       "    }\n",
       "</style>\n",
       "<table border=\"1\" class=\"dataframe\">\n",
       "  <thead>\n",
       "    <tr style=\"text-align: right;\">\n",
       "      <th></th>\n",
       "      <th>src_id</th>\n",
       "      <th>num_obs</th>\n",
       "      <th>sepn</th>\n",
       "      <th>name</th>\n",
       "      <th>ra</th>\n",
       "      <th>dec</th>\n",
       "      <th>livetime</th>\n",
       "      <th>significance</th>\n",
       "      <th>likelihood</th>\n",
       "      <th>class</th>\n",
       "      <th>...</th>\n",
       "      <th>var_inter_prob_h</th>\n",
       "      <th>var_inter_sigma_h</th>\n",
       "      <th>flux_aper_u</th>\n",
       "      <th>var_max_b</th>\n",
       "      <th>var_prob_b</th>\n",
       "      <th>ks_prob_b</th>\n",
       "      <th>kp_prob_b</th>\n",
       "      <th>var_sigma_b</th>\n",
       "      <th>var_mean_b</th>\n",
       "      <th>var_min_b</th>\n",
       "    </tr>\n",
       "    <tr>\n",
       "      <th>obs_id</th>\n",
       "      <th></th>\n",
       "      <th></th>\n",
       "      <th></th>\n",
       "      <th></th>\n",
       "      <th></th>\n",
       "      <th></th>\n",
       "      <th></th>\n",
       "      <th></th>\n",
       "      <th></th>\n",
       "      <th></th>\n",
       "      <th></th>\n",
       "      <th></th>\n",
       "      <th></th>\n",
       "      <th></th>\n",
       "      <th></th>\n",
       "      <th></th>\n",
       "      <th></th>\n",
       "      <th></th>\n",
       "      <th></th>\n",
       "      <th></th>\n",
       "      <th></th>\n",
       "    </tr>\n",
       "  </thead>\n",
       "  <tbody>\n",
       "    <tr>\n",
       "      <th>CV_0_obs_0</th>\n",
       "      <td>CV_0</td>\n",
       "      <td>25</td>\n",
       "      <td>0.157954</td>\n",
       "      <td>2CXO J004247.1+411619</td>\n",
       "      <td>10.69654</td>\n",
       "      <td>41.27215</td>\n",
       "      <td>4103.7</td>\n",
       "      <td>52.93</td>\n",
       "      <td>16618.73000</td>\n",
       "      <td>CV</td>\n",
       "      <td>...</td>\n",
       "      <td>NaN</td>\n",
       "      <td>NaN</td>\n",
       "      <td>NaN</td>\n",
       "      <td>NaN</td>\n",
       "      <td>NaN</td>\n",
       "      <td>NaN</td>\n",
       "      <td>NaN</td>\n",
       "      <td>NaN</td>\n",
       "      <td>NaN</td>\n",
       "      <td>NaN</td>\n",
       "    </tr>\n",
       "    <tr>\n",
       "      <th>CV_0_obs_1</th>\n",
       "      <td>CV_0</td>\n",
       "      <td>25</td>\n",
       "      <td>0.157954</td>\n",
       "      <td>2CXO J004247.1+411619</td>\n",
       "      <td>10.69654</td>\n",
       "      <td>41.27215</td>\n",
       "      <td>3907.5</td>\n",
       "      <td>52.93</td>\n",
       "      <td>16618.73000</td>\n",
       "      <td>CV</td>\n",
       "      <td>...</td>\n",
       "      <td>NaN</td>\n",
       "      <td>NaN</td>\n",
       "      <td>NaN</td>\n",
       "      <td>NaN</td>\n",
       "      <td>NaN</td>\n",
       "      <td>NaN</td>\n",
       "      <td>NaN</td>\n",
       "      <td>NaN</td>\n",
       "      <td>NaN</td>\n",
       "      <td>NaN</td>\n",
       "    </tr>\n",
       "    <tr>\n",
       "      <th>CV_0_obs_2</th>\n",
       "      <td>CV_0</td>\n",
       "      <td>25</td>\n",
       "      <td>0.157954</td>\n",
       "      <td>2CXO J004247.1+411619</td>\n",
       "      <td>10.69654</td>\n",
       "      <td>41.27215</td>\n",
       "      <td>3907.5</td>\n",
       "      <td>52.93</td>\n",
       "      <td>16618.73000</td>\n",
       "      <td>CV</td>\n",
       "      <td>...</td>\n",
       "      <td>NaN</td>\n",
       "      <td>NaN</td>\n",
       "      <td>NaN</td>\n",
       "      <td>NaN</td>\n",
       "      <td>NaN</td>\n",
       "      <td>NaN</td>\n",
       "      <td>NaN</td>\n",
       "      <td>NaN</td>\n",
       "      <td>NaN</td>\n",
       "      <td>NaN</td>\n",
       "    </tr>\n",
       "    <tr>\n",
       "      <th>CV_0_obs_3</th>\n",
       "      <td>CV_0</td>\n",
       "      <td>25</td>\n",
       "      <td>0.157954</td>\n",
       "      <td>2CXO J004247.1+411619</td>\n",
       "      <td>10.69654</td>\n",
       "      <td>41.27215</td>\n",
       "      <td>3904.6</td>\n",
       "      <td>52.93</td>\n",
       "      <td>16618.73000</td>\n",
       "      <td>CV</td>\n",
       "      <td>...</td>\n",
       "      <td>NaN</td>\n",
       "      <td>NaN</td>\n",
       "      <td>NaN</td>\n",
       "      <td>NaN</td>\n",
       "      <td>NaN</td>\n",
       "      <td>NaN</td>\n",
       "      <td>NaN</td>\n",
       "      <td>NaN</td>\n",
       "      <td>NaN</td>\n",
       "      <td>NaN</td>\n",
       "    </tr>\n",
       "    <tr>\n",
       "      <th>CV_0_obs_4</th>\n",
       "      <td>CV_0</td>\n",
       "      <td>25</td>\n",
       "      <td>0.157954</td>\n",
       "      <td>2CXO J004247.1+411619</td>\n",
       "      <td>10.69654</td>\n",
       "      <td>41.27215</td>\n",
       "      <td>3907.5</td>\n",
       "      <td>52.93</td>\n",
       "      <td>16618.73000</td>\n",
       "      <td>CV</td>\n",
       "      <td>...</td>\n",
       "      <td>NaN</td>\n",
       "      <td>NaN</td>\n",
       "      <td>NaN</td>\n",
       "      <td>NaN</td>\n",
       "      <td>NaN</td>\n",
       "      <td>NaN</td>\n",
       "      <td>NaN</td>\n",
       "      <td>NaN</td>\n",
       "      <td>NaN</td>\n",
       "      <td>NaN</td>\n",
       "    </tr>\n",
       "    <tr>\n",
       "      <th>...</th>\n",
       "      <td>...</td>\n",
       "      <td>...</td>\n",
       "      <td>...</td>\n",
       "      <td>...</td>\n",
       "      <td>...</td>\n",
       "      <td>...</td>\n",
       "      <td>...</td>\n",
       "      <td>...</td>\n",
       "      <td>...</td>\n",
       "      <td>...</td>\n",
       "      <td>...</td>\n",
       "      <td>...</td>\n",
       "      <td>...</td>\n",
       "      <td>...</td>\n",
       "      <td>...</td>\n",
       "      <td>...</td>\n",
       "      <td>...</td>\n",
       "      <td>...</td>\n",
       "      <td>...</td>\n",
       "      <td>...</td>\n",
       "      <td>...</td>\n",
       "    </tr>\n",
       "    <tr>\n",
       "      <th>PLSR_95_obs_1</th>\n",
       "      <td>PLSR_95</td>\n",
       "      <td>2</td>\n",
       "      <td>0.456983</td>\n",
       "      <td>2CXO J222905.2+611409</td>\n",
       "      <td>337.27190</td>\n",
       "      <td>61.23586</td>\n",
       "      <td>93964.6</td>\n",
       "      <td>43.76</td>\n",
       "      <td>10080.56000</td>\n",
       "      <td>PL</td>\n",
       "      <td>...</td>\n",
       "      <td>0.941</td>\n",
       "      <td>4.910000e-06</td>\n",
       "      <td>14.28946</td>\n",
       "      <td>0.02135</td>\n",
       "      <td>0.059</td>\n",
       "      <td>0.731</td>\n",
       "      <td>0.464</td>\n",
       "      <td>0.000035</td>\n",
       "      <td>0.02132</td>\n",
       "      <td>0.02128</td>\n",
       "    </tr>\n",
       "    <tr>\n",
       "      <th>PLSR_99_obs_0</th>\n",
       "      <td>PLSR_99</td>\n",
       "      <td>4</td>\n",
       "      <td>0.259532</td>\n",
       "      <td>2CXO J171810.0-371853</td>\n",
       "      <td>259.54170</td>\n",
       "      <td>-37.31476</td>\n",
       "      <td>32031.9</td>\n",
       "      <td>3.00</td>\n",
       "      <td>22.24461</td>\n",
       "      <td>PL</td>\n",
       "      <td>...</td>\n",
       "      <td>0.692</td>\n",
       "      <td>1.870000e-07</td>\n",
       "      <td>NaN</td>\n",
       "      <td>NaN</td>\n",
       "      <td>NaN</td>\n",
       "      <td>NaN</td>\n",
       "      <td>NaN</td>\n",
       "      <td>NaN</td>\n",
       "      <td>NaN</td>\n",
       "      <td>NaN</td>\n",
       "    </tr>\n",
       "    <tr>\n",
       "      <th>PLSR_99_obs_1</th>\n",
       "      <td>PLSR_99</td>\n",
       "      <td>4</td>\n",
       "      <td>0.259532</td>\n",
       "      <td>2CXO J171810.0-371853</td>\n",
       "      <td>259.54170</td>\n",
       "      <td>-37.31476</td>\n",
       "      <td>33272.3</td>\n",
       "      <td>3.00</td>\n",
       "      <td>22.24461</td>\n",
       "      <td>PL</td>\n",
       "      <td>...</td>\n",
       "      <td>0.692</td>\n",
       "      <td>1.870000e-07</td>\n",
       "      <td>NaN</td>\n",
       "      <td>NaN</td>\n",
       "      <td>NaN</td>\n",
       "      <td>NaN</td>\n",
       "      <td>NaN</td>\n",
       "      <td>NaN</td>\n",
       "      <td>NaN</td>\n",
       "      <td>NaN</td>\n",
       "    </tr>\n",
       "    <tr>\n",
       "      <th>PLSR_99_obs_2</th>\n",
       "      <td>PLSR_99</td>\n",
       "      <td>4</td>\n",
       "      <td>0.259532</td>\n",
       "      <td>2CXO J171810.0-371853</td>\n",
       "      <td>259.54170</td>\n",
       "      <td>-37.31476</td>\n",
       "      <td>34173.8</td>\n",
       "      <td>3.00</td>\n",
       "      <td>22.24461</td>\n",
       "      <td>PL</td>\n",
       "      <td>...</td>\n",
       "      <td>0.692</td>\n",
       "      <td>1.870000e-07</td>\n",
       "      <td>NaN</td>\n",
       "      <td>NaN</td>\n",
       "      <td>NaN</td>\n",
       "      <td>NaN</td>\n",
       "      <td>NaN</td>\n",
       "      <td>NaN</td>\n",
       "      <td>NaN</td>\n",
       "      <td>NaN</td>\n",
       "    </tr>\n",
       "    <tr>\n",
       "      <th>PLSR_99_obs_3</th>\n",
       "      <td>PLSR_99</td>\n",
       "      <td>4</td>\n",
       "      <td>0.259532</td>\n",
       "      <td>2CXO J171810.0-371853</td>\n",
       "      <td>259.54170</td>\n",
       "      <td>-37.31476</td>\n",
       "      <td>34148.0</td>\n",
       "      <td>3.00</td>\n",
       "      <td>22.24461</td>\n",
       "      <td>PL</td>\n",
       "      <td>...</td>\n",
       "      <td>0.692</td>\n",
       "      <td>1.870000e-07</td>\n",
       "      <td>NaN</td>\n",
       "      <td>NaN</td>\n",
       "      <td>NaN</td>\n",
       "      <td>NaN</td>\n",
       "      <td>NaN</td>\n",
       "      <td>NaN</td>\n",
       "      <td>NaN</td>\n",
       "      <td>NaN</td>\n",
       "    </tr>\n",
       "  </tbody>\n",
       "</table>\n",
       "<p>3690 rows × 42 columns</p>\n",
       "</div>"
      ]
     },
     "metadata": {},
     "execution_count": 60
    }
   ],
   "metadata": {}
  },
  {
   "cell_type": "code",
   "execution_count": 61,
   "source": [
    "df_all_imp['class'].value_counts()"
   ],
   "outputs": [
    {
     "output_type": "execute_result",
     "data": {
      "text/plain": [
       "CV    2101\n",
       "PL    1183\n",
       "LX     406\n",
       "Name: class, dtype: int64"
      ]
     },
     "metadata": {},
     "execution_count": 61
    }
   ],
   "metadata": {}
  },
  {
   "cell_type": "code",
   "execution_count": null,
   "source": [],
   "outputs": [],
   "metadata": {}
  },
  {
   "cell_type": "markdown",
   "source": [
    "## Impute entire dataset"
   ],
   "metadata": {}
  },
  {
   "cell_type": "code",
   "execution_count": 62,
   "source": [
    "data_id = df_all_imp[info_col_cl]\n",
    "data_val = df_all_imp.drop(columns = info_col_cl)\n",
    "new_data = rf_imputer.fit_transform(data_val)"
   ],
   "outputs": [],
   "metadata": {}
  },
  {
   "cell_type": "code",
   "execution_count": 44,
   "source": [
    "new_imp_data =  pd.DataFrame(new_data , columns = data_val.columns.to_list()  , index=data_val.index.to_list())\n",
    "new_imp_data.index.name = 'obs_id'"
   ],
   "outputs": [],
   "metadata": {}
  },
  {
   "cell_type": "code",
   "execution_count": 57,
   "source": [
    "data_imp_v2 = pd.concat([data_id , new_imp_data] , axis=1)\n",
    "data_imp_v2"
   ],
   "outputs": [
    {
     "output_type": "execute_result",
     "data": {
      "text/plain": [
       "                src_id  num_obs      sepn                    name         ra  \\\n",
       "obs_id                                                                         \n",
       "CV_0_obs_0        CV_0       25  0.157954   2CXO J004247.1+411619   10.69654   \n",
       "CV_0_obs_1        CV_0       25  0.157954   2CXO J004247.1+411619   10.69654   \n",
       "CV_0_obs_2        CV_0       25  0.157954   2CXO J004247.1+411619   10.69654   \n",
       "CV_0_obs_3        CV_0       25  0.157954   2CXO J004247.1+411619   10.69654   \n",
       "CV_0_obs_4        CV_0       25  0.157954   2CXO J004247.1+411619   10.69654   \n",
       "...                ...      ...       ...                     ...        ...   \n",
       "PLSR_95_obs_1  PLSR_95        2  0.456983   2CXO J222905.2+611409  337.27190   \n",
       "PLSR_99_obs_0  PLSR_99        4  0.259532   2CXO J171810.0-371853  259.54170   \n",
       "PLSR_99_obs_1  PLSR_99        4  0.259532   2CXO J171810.0-371853  259.54170   \n",
       "PLSR_99_obs_2  PLSR_99        4  0.259532   2CXO J171810.0-371853  259.54170   \n",
       "PLSR_99_obs_3  PLSR_99        4  0.259532   2CXO J171810.0-371853  259.54170   \n",
       "\n",
       "                    dec  livetime  significance   likelihood  photflux_aper_b  \\\n",
       "obs_id                                                                          \n",
       "CV_0_obs_0     41.27215    4103.7         52.93  16618.73000         5.701547   \n",
       "CV_0_obs_1     41.27215    3907.5         52.93  16618.73000         5.473262   \n",
       "CV_0_obs_2     41.27215    3907.5         52.93  16618.73000         5.675325   \n",
       "CV_0_obs_3     41.27215    3904.6         52.93  16618.73000         5.547294   \n",
       "CV_0_obs_4     41.27215    3907.5         52.93  16618.73000         5.449820   \n",
       "...                 ...       ...           ...          ...              ...   \n",
       "PLSR_95_obs_1  61.23586   93964.6         43.76  10080.56000         4.085340   \n",
       "PLSR_99_obs_0 -37.31476   32031.9          3.00     22.24461         6.223662   \n",
       "PLSR_99_obs_1 -37.31476   33272.3          3.00     22.24461         6.687823   \n",
       "PLSR_99_obs_2 -37.31476   34173.8          3.00     22.24461         6.430977   \n",
       "PLSR_99_obs_3 -37.31476   34148.0          3.00     22.24461         6.574466   \n",
       "\n",
       "               ...  var_inter_prob_h  var_inter_sigma_h  flux_aper_u  \\\n",
       "obs_id         ...                                                     \n",
       "CV_0_obs_0     ...           0.99910       2.850978e-05    13.157659   \n",
       "CV_0_obs_1     ...           0.99900       2.717672e-05    14.140910   \n",
       "CV_0_obs_2     ...           0.99918       2.796078e-05    12.714320   \n",
       "CV_0_obs_3     ...           0.99918       2.813278e-05    12.695981   \n",
       "CV_0_obs_4     ...           0.99913       2.774708e-05    14.161990   \n",
       "...            ...               ...                ...          ...   \n",
       "PLSR_95_obs_1  ...           0.94100       4.910000e-06    14.289460   \n",
       "PLSR_99_obs_0  ...           0.69200       1.870000e-07    14.099177   \n",
       "PLSR_99_obs_1  ...           0.69200       1.870000e-07    14.192823   \n",
       "PLSR_99_obs_2  ...           0.69200       1.870000e-07    14.070020   \n",
       "PLSR_99_obs_3  ...           0.69200       1.870000e-07    14.038473   \n",
       "\n",
       "               var_max_b  var_prob_b  ks_prob_b  kp_prob_b  var_sigma_b  \\\n",
       "obs_id                                                                    \n",
       "CV_0_obs_0      0.021034    0.555871   0.553187   0.632724     0.004081   \n",
       "CV_0_obs_1      0.020058    0.513851   0.543975   0.628363     0.003269   \n",
       "CV_0_obs_2      0.020262    0.555890   0.563096   0.658257     0.004028   \n",
       "CV_0_obs_3      0.021330    0.560880   0.547559   0.656478     0.004182   \n",
       "CV_0_obs_4      0.019992    0.493661   0.568299   0.584900     0.003214   \n",
       "...                  ...         ...        ...        ...          ...   \n",
       "PLSR_95_obs_1   0.021350    0.059000   0.731000   0.464000     0.000035   \n",
       "PLSR_99_obs_0   0.022628    0.631250   0.685413   0.659280     0.004105   \n",
       "PLSR_99_obs_1   0.022427    0.630820   0.660936   0.645703     0.004091   \n",
       "PLSR_99_obs_2   0.021203    0.619600   0.687116   0.663483     0.003884   \n",
       "PLSR_99_obs_3   0.021203    0.623120   0.681962   0.660758     0.003908   \n",
       "\n",
       "               var_mean_b  var_min_b  \n",
       "obs_id                                \n",
       "CV_0_obs_0       0.018546   0.015441  \n",
       "CV_0_obs_1       0.016660   0.012851  \n",
       "CV_0_obs_2       0.017166   0.013270  \n",
       "CV_0_obs_3       0.018263   0.015744  \n",
       "CV_0_obs_4       0.016489   0.012458  \n",
       "...                   ...        ...  \n",
       "PLSR_95_obs_1    0.021320   0.021280  \n",
       "PLSR_99_obs_0    0.018661   0.016473  \n",
       "PLSR_99_obs_1    0.017471   0.014254  \n",
       "PLSR_99_obs_2    0.017015   0.012588  \n",
       "PLSR_99_obs_3    0.017015   0.012586  \n",
       "\n",
       "[3690 rows x 41 columns]"
      ],
      "text/html": [
       "<div>\n",
       "<style scoped>\n",
       "    .dataframe tbody tr th:only-of-type {\n",
       "        vertical-align: middle;\n",
       "    }\n",
       "\n",
       "    .dataframe tbody tr th {\n",
       "        vertical-align: top;\n",
       "    }\n",
       "\n",
       "    .dataframe thead th {\n",
       "        text-align: right;\n",
       "    }\n",
       "</style>\n",
       "<table border=\"1\" class=\"dataframe\">\n",
       "  <thead>\n",
       "    <tr style=\"text-align: right;\">\n",
       "      <th></th>\n",
       "      <th>src_id</th>\n",
       "      <th>num_obs</th>\n",
       "      <th>sepn</th>\n",
       "      <th>name</th>\n",
       "      <th>ra</th>\n",
       "      <th>dec</th>\n",
       "      <th>livetime</th>\n",
       "      <th>significance</th>\n",
       "      <th>likelihood</th>\n",
       "      <th>photflux_aper_b</th>\n",
       "      <th>...</th>\n",
       "      <th>var_inter_prob_h</th>\n",
       "      <th>var_inter_sigma_h</th>\n",
       "      <th>flux_aper_u</th>\n",
       "      <th>var_max_b</th>\n",
       "      <th>var_prob_b</th>\n",
       "      <th>ks_prob_b</th>\n",
       "      <th>kp_prob_b</th>\n",
       "      <th>var_sigma_b</th>\n",
       "      <th>var_mean_b</th>\n",
       "      <th>var_min_b</th>\n",
       "    </tr>\n",
       "    <tr>\n",
       "      <th>obs_id</th>\n",
       "      <th></th>\n",
       "      <th></th>\n",
       "      <th></th>\n",
       "      <th></th>\n",
       "      <th></th>\n",
       "      <th></th>\n",
       "      <th></th>\n",
       "      <th></th>\n",
       "      <th></th>\n",
       "      <th></th>\n",
       "      <th></th>\n",
       "      <th></th>\n",
       "      <th></th>\n",
       "      <th></th>\n",
       "      <th></th>\n",
       "      <th></th>\n",
       "      <th></th>\n",
       "      <th></th>\n",
       "      <th></th>\n",
       "      <th></th>\n",
       "      <th></th>\n",
       "    </tr>\n",
       "  </thead>\n",
       "  <tbody>\n",
       "    <tr>\n",
       "      <th>CV_0_obs_0</th>\n",
       "      <td>CV_0</td>\n",
       "      <td>25</td>\n",
       "      <td>0.157954</td>\n",
       "      <td>2CXO J004247.1+411619</td>\n",
       "      <td>10.69654</td>\n",
       "      <td>41.27215</td>\n",
       "      <td>4103.7</td>\n",
       "      <td>52.93</td>\n",
       "      <td>16618.73000</td>\n",
       "      <td>5.701547</td>\n",
       "      <td>...</td>\n",
       "      <td>0.99910</td>\n",
       "      <td>2.850978e-05</td>\n",
       "      <td>13.157659</td>\n",
       "      <td>0.021034</td>\n",
       "      <td>0.555871</td>\n",
       "      <td>0.553187</td>\n",
       "      <td>0.632724</td>\n",
       "      <td>0.004081</td>\n",
       "      <td>0.018546</td>\n",
       "      <td>0.015441</td>\n",
       "    </tr>\n",
       "    <tr>\n",
       "      <th>CV_0_obs_1</th>\n",
       "      <td>CV_0</td>\n",
       "      <td>25</td>\n",
       "      <td>0.157954</td>\n",
       "      <td>2CXO J004247.1+411619</td>\n",
       "      <td>10.69654</td>\n",
       "      <td>41.27215</td>\n",
       "      <td>3907.5</td>\n",
       "      <td>52.93</td>\n",
       "      <td>16618.73000</td>\n",
       "      <td>5.473262</td>\n",
       "      <td>...</td>\n",
       "      <td>0.99900</td>\n",
       "      <td>2.717672e-05</td>\n",
       "      <td>14.140910</td>\n",
       "      <td>0.020058</td>\n",
       "      <td>0.513851</td>\n",
       "      <td>0.543975</td>\n",
       "      <td>0.628363</td>\n",
       "      <td>0.003269</td>\n",
       "      <td>0.016660</td>\n",
       "      <td>0.012851</td>\n",
       "    </tr>\n",
       "    <tr>\n",
       "      <th>CV_0_obs_2</th>\n",
       "      <td>CV_0</td>\n",
       "      <td>25</td>\n",
       "      <td>0.157954</td>\n",
       "      <td>2CXO J004247.1+411619</td>\n",
       "      <td>10.69654</td>\n",
       "      <td>41.27215</td>\n",
       "      <td>3907.5</td>\n",
       "      <td>52.93</td>\n",
       "      <td>16618.73000</td>\n",
       "      <td>5.675325</td>\n",
       "      <td>...</td>\n",
       "      <td>0.99918</td>\n",
       "      <td>2.796078e-05</td>\n",
       "      <td>12.714320</td>\n",
       "      <td>0.020262</td>\n",
       "      <td>0.555890</td>\n",
       "      <td>0.563096</td>\n",
       "      <td>0.658257</td>\n",
       "      <td>0.004028</td>\n",
       "      <td>0.017166</td>\n",
       "      <td>0.013270</td>\n",
       "    </tr>\n",
       "    <tr>\n",
       "      <th>CV_0_obs_3</th>\n",
       "      <td>CV_0</td>\n",
       "      <td>25</td>\n",
       "      <td>0.157954</td>\n",
       "      <td>2CXO J004247.1+411619</td>\n",
       "      <td>10.69654</td>\n",
       "      <td>41.27215</td>\n",
       "      <td>3904.6</td>\n",
       "      <td>52.93</td>\n",
       "      <td>16618.73000</td>\n",
       "      <td>5.547294</td>\n",
       "      <td>...</td>\n",
       "      <td>0.99918</td>\n",
       "      <td>2.813278e-05</td>\n",
       "      <td>12.695981</td>\n",
       "      <td>0.021330</td>\n",
       "      <td>0.560880</td>\n",
       "      <td>0.547559</td>\n",
       "      <td>0.656478</td>\n",
       "      <td>0.004182</td>\n",
       "      <td>0.018263</td>\n",
       "      <td>0.015744</td>\n",
       "    </tr>\n",
       "    <tr>\n",
       "      <th>CV_0_obs_4</th>\n",
       "      <td>CV_0</td>\n",
       "      <td>25</td>\n",
       "      <td>0.157954</td>\n",
       "      <td>2CXO J004247.1+411619</td>\n",
       "      <td>10.69654</td>\n",
       "      <td>41.27215</td>\n",
       "      <td>3907.5</td>\n",
       "      <td>52.93</td>\n",
       "      <td>16618.73000</td>\n",
       "      <td>5.449820</td>\n",
       "      <td>...</td>\n",
       "      <td>0.99913</td>\n",
       "      <td>2.774708e-05</td>\n",
       "      <td>14.161990</td>\n",
       "      <td>0.019992</td>\n",
       "      <td>0.493661</td>\n",
       "      <td>0.568299</td>\n",
       "      <td>0.584900</td>\n",
       "      <td>0.003214</td>\n",
       "      <td>0.016489</td>\n",
       "      <td>0.012458</td>\n",
       "    </tr>\n",
       "    <tr>\n",
       "      <th>...</th>\n",
       "      <td>...</td>\n",
       "      <td>...</td>\n",
       "      <td>...</td>\n",
       "      <td>...</td>\n",
       "      <td>...</td>\n",
       "      <td>...</td>\n",
       "      <td>...</td>\n",
       "      <td>...</td>\n",
       "      <td>...</td>\n",
       "      <td>...</td>\n",
       "      <td>...</td>\n",
       "      <td>...</td>\n",
       "      <td>...</td>\n",
       "      <td>...</td>\n",
       "      <td>...</td>\n",
       "      <td>...</td>\n",
       "      <td>...</td>\n",
       "      <td>...</td>\n",
       "      <td>...</td>\n",
       "      <td>...</td>\n",
       "      <td>...</td>\n",
       "    </tr>\n",
       "    <tr>\n",
       "      <th>PLSR_95_obs_1</th>\n",
       "      <td>PLSR_95</td>\n",
       "      <td>2</td>\n",
       "      <td>0.456983</td>\n",
       "      <td>2CXO J222905.2+611409</td>\n",
       "      <td>337.27190</td>\n",
       "      <td>61.23586</td>\n",
       "      <td>93964.6</td>\n",
       "      <td>43.76</td>\n",
       "      <td>10080.56000</td>\n",
       "      <td>4.085340</td>\n",
       "      <td>...</td>\n",
       "      <td>0.94100</td>\n",
       "      <td>4.910000e-06</td>\n",
       "      <td>14.289460</td>\n",
       "      <td>0.021350</td>\n",
       "      <td>0.059000</td>\n",
       "      <td>0.731000</td>\n",
       "      <td>0.464000</td>\n",
       "      <td>0.000035</td>\n",
       "      <td>0.021320</td>\n",
       "      <td>0.021280</td>\n",
       "    </tr>\n",
       "    <tr>\n",
       "      <th>PLSR_99_obs_0</th>\n",
       "      <td>PLSR_99</td>\n",
       "      <td>4</td>\n",
       "      <td>0.259532</td>\n",
       "      <td>2CXO J171810.0-371853</td>\n",
       "      <td>259.54170</td>\n",
       "      <td>-37.31476</td>\n",
       "      <td>32031.9</td>\n",
       "      <td>3.00</td>\n",
       "      <td>22.24461</td>\n",
       "      <td>6.223662</td>\n",
       "      <td>...</td>\n",
       "      <td>0.69200</td>\n",
       "      <td>1.870000e-07</td>\n",
       "      <td>14.099177</td>\n",
       "      <td>0.022628</td>\n",
       "      <td>0.631250</td>\n",
       "      <td>0.685413</td>\n",
       "      <td>0.659280</td>\n",
       "      <td>0.004105</td>\n",
       "      <td>0.018661</td>\n",
       "      <td>0.016473</td>\n",
       "    </tr>\n",
       "    <tr>\n",
       "      <th>PLSR_99_obs_1</th>\n",
       "      <td>PLSR_99</td>\n",
       "      <td>4</td>\n",
       "      <td>0.259532</td>\n",
       "      <td>2CXO J171810.0-371853</td>\n",
       "      <td>259.54170</td>\n",
       "      <td>-37.31476</td>\n",
       "      <td>33272.3</td>\n",
       "      <td>3.00</td>\n",
       "      <td>22.24461</td>\n",
       "      <td>6.687823</td>\n",
       "      <td>...</td>\n",
       "      <td>0.69200</td>\n",
       "      <td>1.870000e-07</td>\n",
       "      <td>14.192823</td>\n",
       "      <td>0.022427</td>\n",
       "      <td>0.630820</td>\n",
       "      <td>0.660936</td>\n",
       "      <td>0.645703</td>\n",
       "      <td>0.004091</td>\n",
       "      <td>0.017471</td>\n",
       "      <td>0.014254</td>\n",
       "    </tr>\n",
       "    <tr>\n",
       "      <th>PLSR_99_obs_2</th>\n",
       "      <td>PLSR_99</td>\n",
       "      <td>4</td>\n",
       "      <td>0.259532</td>\n",
       "      <td>2CXO J171810.0-371853</td>\n",
       "      <td>259.54170</td>\n",
       "      <td>-37.31476</td>\n",
       "      <td>34173.8</td>\n",
       "      <td>3.00</td>\n",
       "      <td>22.24461</td>\n",
       "      <td>6.430977</td>\n",
       "      <td>...</td>\n",
       "      <td>0.69200</td>\n",
       "      <td>1.870000e-07</td>\n",
       "      <td>14.070020</td>\n",
       "      <td>0.021203</td>\n",
       "      <td>0.619600</td>\n",
       "      <td>0.687116</td>\n",
       "      <td>0.663483</td>\n",
       "      <td>0.003884</td>\n",
       "      <td>0.017015</td>\n",
       "      <td>0.012588</td>\n",
       "    </tr>\n",
       "    <tr>\n",
       "      <th>PLSR_99_obs_3</th>\n",
       "      <td>PLSR_99</td>\n",
       "      <td>4</td>\n",
       "      <td>0.259532</td>\n",
       "      <td>2CXO J171810.0-371853</td>\n",
       "      <td>259.54170</td>\n",
       "      <td>-37.31476</td>\n",
       "      <td>34148.0</td>\n",
       "      <td>3.00</td>\n",
       "      <td>22.24461</td>\n",
       "      <td>6.574466</td>\n",
       "      <td>...</td>\n",
       "      <td>0.69200</td>\n",
       "      <td>1.870000e-07</td>\n",
       "      <td>14.038473</td>\n",
       "      <td>0.021203</td>\n",
       "      <td>0.623120</td>\n",
       "      <td>0.681962</td>\n",
       "      <td>0.660758</td>\n",
       "      <td>0.003908</td>\n",
       "      <td>0.017015</td>\n",
       "      <td>0.012586</td>\n",
       "    </tr>\n",
       "  </tbody>\n",
       "</table>\n",
       "<p>3690 rows × 41 columns</p>\n",
       "</div>"
      ]
     },
     "metadata": {},
     "execution_count": 57
    }
   ],
   "metadata": {}
  },
  {
   "cell_type": "code",
   "execution_count": 316,
   "source": [
    "#data_imp_v2.to_csv('all_filled.csv')"
   ],
   "outputs": [],
   "metadata": {}
  },
  {
   "cell_type": "code",
   "execution_count": 56,
   "source": [
    "data_id = data_imp_v2[info_col]\n",
    "data_label = data_imp_v2['class']\n",
    "data_val = data_imp_v2.drop(columns=['class']+info_col)"
   ],
   "outputs": [
    {
     "output_type": "error",
     "ename": "KeyError",
     "evalue": "'class'",
     "traceback": [
      "\u001b[0;31m---------------------------------------------------------------------------\u001b[0m",
      "\u001b[0;31mKeyError\u001b[0m                                  Traceback (most recent call last)",
      "\u001b[0;32m~/.local/lib/python3.6/site-packages/pandas/core/indexes/base.py\u001b[0m in \u001b[0;36mget_loc\u001b[0;34m(self, key, method, tolerance)\u001b[0m\n\u001b[1;32m   2897\u001b[0m             \u001b[0;32mtry\u001b[0m\u001b[0;34m:\u001b[0m\u001b[0;34m\u001b[0m\u001b[0;34m\u001b[0m\u001b[0m\n\u001b[0;32m-> 2898\u001b[0;31m                 \u001b[0;32mreturn\u001b[0m \u001b[0mself\u001b[0m\u001b[0;34m.\u001b[0m\u001b[0m_engine\u001b[0m\u001b[0;34m.\u001b[0m\u001b[0mget_loc\u001b[0m\u001b[0;34m(\u001b[0m\u001b[0mcasted_key\u001b[0m\u001b[0;34m)\u001b[0m\u001b[0;34m\u001b[0m\u001b[0;34m\u001b[0m\u001b[0m\n\u001b[0m\u001b[1;32m   2899\u001b[0m             \u001b[0;32mexcept\u001b[0m \u001b[0mKeyError\u001b[0m \u001b[0;32mas\u001b[0m \u001b[0merr\u001b[0m\u001b[0;34m:\u001b[0m\u001b[0;34m\u001b[0m\u001b[0;34m\u001b[0m\u001b[0m\n",
      "\u001b[0;32mpandas/_libs/index.pyx\u001b[0m in \u001b[0;36mpandas._libs.index.IndexEngine.get_loc\u001b[0;34m()\u001b[0m\n",
      "\u001b[0;32mpandas/_libs/index.pyx\u001b[0m in \u001b[0;36mpandas._libs.index.IndexEngine.get_loc\u001b[0;34m()\u001b[0m\n",
      "\u001b[0;32mpandas/_libs/hashtable_class_helper.pxi\u001b[0m in \u001b[0;36mpandas._libs.hashtable.PyObjectHashTable.get_item\u001b[0;34m()\u001b[0m\n",
      "\u001b[0;32mpandas/_libs/hashtable_class_helper.pxi\u001b[0m in \u001b[0;36mpandas._libs.hashtable.PyObjectHashTable.get_item\u001b[0;34m()\u001b[0m\n",
      "\u001b[0;31mKeyError\u001b[0m: 'class'",
      "\nThe above exception was the direct cause of the following exception:\n",
      "\u001b[0;31mKeyError\u001b[0m                                  Traceback (most recent call last)",
      "\u001b[0;32m<ipython-input-56-d9097b728f0b>\u001b[0m in \u001b[0;36m<module>\u001b[0;34m\u001b[0m\n\u001b[1;32m      1\u001b[0m \u001b[0mdata_id\u001b[0m \u001b[0;34m=\u001b[0m \u001b[0mdata_imp_v2\u001b[0m\u001b[0;34m[\u001b[0m\u001b[0minfo_col\u001b[0m\u001b[0;34m]\u001b[0m\u001b[0;34m\u001b[0m\u001b[0;34m\u001b[0m\u001b[0m\n\u001b[0;32m----> 2\u001b[0;31m \u001b[0mdata_label\u001b[0m \u001b[0;34m=\u001b[0m \u001b[0mdata_imp_v2\u001b[0m\u001b[0;34m[\u001b[0m\u001b[0;34m'class'\u001b[0m\u001b[0;34m]\u001b[0m\u001b[0;34m\u001b[0m\u001b[0;34m\u001b[0m\u001b[0m\n\u001b[0m\u001b[1;32m      3\u001b[0m \u001b[0mdata_val\u001b[0m \u001b[0;34m=\u001b[0m \u001b[0mdata_imp_v2\u001b[0m\u001b[0;34m.\u001b[0m\u001b[0mdrop\u001b[0m\u001b[0;34m(\u001b[0m\u001b[0mcolumns\u001b[0m\u001b[0;34m=\u001b[0m\u001b[0;34m[\u001b[0m\u001b[0;34m'class'\u001b[0m\u001b[0;34m]\u001b[0m\u001b[0;34m+\u001b[0m\u001b[0minfo_col\u001b[0m\u001b[0;34m)\u001b[0m\u001b[0;34m\u001b[0m\u001b[0;34m\u001b[0m\u001b[0m\n",
      "\u001b[0;32m~/.local/lib/python3.6/site-packages/pandas/core/frame.py\u001b[0m in \u001b[0;36m__getitem__\u001b[0;34m(self, key)\u001b[0m\n\u001b[1;32m   2904\u001b[0m             \u001b[0;32mif\u001b[0m \u001b[0mself\u001b[0m\u001b[0;34m.\u001b[0m\u001b[0mcolumns\u001b[0m\u001b[0;34m.\u001b[0m\u001b[0mnlevels\u001b[0m \u001b[0;34m>\u001b[0m \u001b[0;36m1\u001b[0m\u001b[0;34m:\u001b[0m\u001b[0;34m\u001b[0m\u001b[0;34m\u001b[0m\u001b[0m\n\u001b[1;32m   2905\u001b[0m                 \u001b[0;32mreturn\u001b[0m \u001b[0mself\u001b[0m\u001b[0;34m.\u001b[0m\u001b[0m_getitem_multilevel\u001b[0m\u001b[0;34m(\u001b[0m\u001b[0mkey\u001b[0m\u001b[0;34m)\u001b[0m\u001b[0;34m\u001b[0m\u001b[0;34m\u001b[0m\u001b[0m\n\u001b[0;32m-> 2906\u001b[0;31m             \u001b[0mindexer\u001b[0m \u001b[0;34m=\u001b[0m \u001b[0mself\u001b[0m\u001b[0;34m.\u001b[0m\u001b[0mcolumns\u001b[0m\u001b[0;34m.\u001b[0m\u001b[0mget_loc\u001b[0m\u001b[0;34m(\u001b[0m\u001b[0mkey\u001b[0m\u001b[0;34m)\u001b[0m\u001b[0;34m\u001b[0m\u001b[0;34m\u001b[0m\u001b[0m\n\u001b[0m\u001b[1;32m   2907\u001b[0m             \u001b[0;32mif\u001b[0m \u001b[0mis_integer\u001b[0m\u001b[0;34m(\u001b[0m\u001b[0mindexer\u001b[0m\u001b[0;34m)\u001b[0m\u001b[0;34m:\u001b[0m\u001b[0;34m\u001b[0m\u001b[0;34m\u001b[0m\u001b[0m\n\u001b[1;32m   2908\u001b[0m                 \u001b[0mindexer\u001b[0m \u001b[0;34m=\u001b[0m \u001b[0;34m[\u001b[0m\u001b[0mindexer\u001b[0m\u001b[0;34m]\u001b[0m\u001b[0;34m\u001b[0m\u001b[0;34m\u001b[0m\u001b[0m\n",
      "\u001b[0;32m~/.local/lib/python3.6/site-packages/pandas/core/indexes/base.py\u001b[0m in \u001b[0;36mget_loc\u001b[0;34m(self, key, method, tolerance)\u001b[0m\n\u001b[1;32m   2898\u001b[0m                 \u001b[0;32mreturn\u001b[0m \u001b[0mself\u001b[0m\u001b[0;34m.\u001b[0m\u001b[0m_engine\u001b[0m\u001b[0;34m.\u001b[0m\u001b[0mget_loc\u001b[0m\u001b[0;34m(\u001b[0m\u001b[0mcasted_key\u001b[0m\u001b[0;34m)\u001b[0m\u001b[0;34m\u001b[0m\u001b[0;34m\u001b[0m\u001b[0m\n\u001b[1;32m   2899\u001b[0m             \u001b[0;32mexcept\u001b[0m \u001b[0mKeyError\u001b[0m \u001b[0;32mas\u001b[0m \u001b[0merr\u001b[0m\u001b[0;34m:\u001b[0m\u001b[0;34m\u001b[0m\u001b[0;34m\u001b[0m\u001b[0m\n\u001b[0;32m-> 2900\u001b[0;31m                 \u001b[0;32mraise\u001b[0m \u001b[0mKeyError\u001b[0m\u001b[0;34m(\u001b[0m\u001b[0mkey\u001b[0m\u001b[0;34m)\u001b[0m \u001b[0;32mfrom\u001b[0m \u001b[0merr\u001b[0m\u001b[0;34m\u001b[0m\u001b[0;34m\u001b[0m\u001b[0m\n\u001b[0m\u001b[1;32m   2901\u001b[0m \u001b[0;34m\u001b[0m\u001b[0m\n\u001b[1;32m   2902\u001b[0m         \u001b[0;32mif\u001b[0m \u001b[0mtolerance\u001b[0m \u001b[0;32mis\u001b[0m \u001b[0;32mnot\u001b[0m \u001b[0;32mNone\u001b[0m\u001b[0;34m:\u001b[0m\u001b[0;34m\u001b[0m\u001b[0;34m\u001b[0m\u001b[0m\n",
      "\u001b[0;31mKeyError\u001b[0m: 'class'"
     ]
    }
   ],
   "metadata": {}
  },
  {
   "cell_type": "code",
   "execution_count": 47,
   "source": [
    "x_train , x_test , y_train , y_test = train_test_split(data_val , data_label , test_size=0.2 , stratify=data_label)"
   ],
   "outputs": [],
   "metadata": {}
  },
  {
   "cell_type": "code",
   "execution_count": 48,
   "source": [
    "x_train"
   ],
   "outputs": [
    {
     "output_type": "execute_result",
     "data": {
      "text/plain": [
       "                photflux_aper_b  photflux_aper_m  photflux_aper_h  \\\n",
       "obs_id                                                              \n",
       "CV_131_obs_6           6.316503         6.619427         6.555002   \n",
       "PLSR_36_obs_11         5.696883         6.941195         6.017584   \n",
       "CV_276_obs_0           4.179536         4.729787         4.692076   \n",
       "CV_23_obs_2            5.480303         6.117589         6.484921   \n",
       "CV_57_obs_6            5.680270         6.426033         6.210299   \n",
       "...                         ...              ...              ...   \n",
       "PLSR_49_obs_0          3.918653         4.592949         5.292856   \n",
       "LMXB_2_obs_55          5.630599         6.097345         5.971836   \n",
       "CV_20_obs_6            5.955852         6.460700         6.512347   \n",
       "CV_22_obs_30           5.523646         6.009998         5.820184   \n",
       "LMXB_27_obs_11         5.790485         6.045372         6.014982   \n",
       "\n",
       "                photflux_aper_s  hard_hm  flux_aper_b  hard_hs  hard_ms  \\\n",
       "obs_id                                                                    \n",
       "CV_131_obs_6           6.629340  -0.6546    15.139303  -0.9994   0.2211   \n",
       "PLSR_36_obs_11         5.802158   0.0787    14.066139   0.9994   0.9994   \n",
       "CV_276_obs_0           4.628563   0.0487    12.819301  -0.0762  -0.1237   \n",
       "CV_23_obs_2            5.889074  -0.3935    14.251657  -0.6096  -0.2723   \n",
       "CV_57_obs_6            5.567833   0.8545    14.078337  -0.9994  -0.9994   \n",
       "...                         ...      ...          ...      ...      ...   \n",
       "PLSR_49_obs_0          4.300336  -0.6633    12.795337  -0.8132  -0.3260   \n",
       "LMXB_2_obs_55          5.723314   0.2149    13.995679   0.4397  -0.1024   \n",
       "CV_20_obs_6            6.087141   0.9994    14.822464  -0.9994  -0.9994   \n",
       "CV_22_obs_30           5.702323   0.9994    14.128269  -0.9994  -0.9994   \n",
       "LMXB_27_obs_11         5.973527  -0.9994    14.744727  -0.9994  -0.1699   \n",
       "\n",
       "                flux_aper_s  flux_aper_m  ...  var_inter_prob_h  \\\n",
       "obs_id                                    ...                     \n",
       "CV_131_obs_6      15.442786    15.179536  ...           1.00000   \n",
       "PLSR_36_obs_11    14.551343    15.497709  ...           0.76189   \n",
       "CV_276_obs_0      13.374585    13.362210  ...           0.77795   \n",
       "CV_23_obs_2       14.655019    14.717151  ...           1.00000   \n",
       "CV_57_obs_6       14.353400    15.075599  ...           0.02000   \n",
       "...                     ...          ...  ...               ...   \n",
       "PLSR_49_obs_0     13.101549    13.229737  ...           0.38900   \n",
       "LMXB_2_obs_55     14.338383    14.718285  ...           0.77619   \n",
       "CV_20_obs_6       14.805208    15.110626  ...           0.73644   \n",
       "CV_22_obs_30      14.446445    14.634096  ...           0.99737   \n",
       "LMXB_27_obs_11    14.777344    14.713319  ...           0.78844   \n",
       "\n",
       "                var_inter_sigma_h  flux_aper_u  var_max_b  var_prob_b  \\\n",
       "obs_id                                                                  \n",
       "CV_131_obs_6         1.480000e-06    14.517690   0.021437    0.594930   \n",
       "PLSR_36_obs_11       1.093002e-06    13.912933   0.021461    0.597080   \n",
       "CV_276_obs_0         5.596729e-05    11.092840   0.019300    0.092000   \n",
       "CV_23_obs_2          2.159000e-06    15.306889   0.001419    0.420000   \n",
       "CV_57_obs_6          4.995000e-07    14.404433   0.002233    0.423970   \n",
       "...                           ...          ...        ...         ...   \n",
       "PLSR_49_obs_0        4.204000e-07    13.826814   0.040910    0.082000   \n",
       "LMXB_2_obs_55        3.521309e-05    13.074593   0.022370    0.587900   \n",
       "CV_20_obs_6          5.960985e-07    14.834205   0.023092    0.608710   \n",
       "CV_22_obs_30         1.366547e-04    14.436045   0.021060    0.519131   \n",
       "LMXB_27_obs_11       3.438920e-05    13.848662   0.021323    0.538870   \n",
       "\n",
       "                ks_prob_b  kp_prob_b  var_sigma_b  var_mean_b  var_min_b  \n",
       "obs_id                                                                    \n",
       "CV_131_obs_6     0.669361   0.637311     0.003586    0.017097   0.012419  \n",
       "PLSR_36_obs_11   0.652541   0.660152     0.003941    0.017020   0.013733  \n",
       "CV_276_obs_0     0.072000   0.085000     0.000076    0.019230   0.019150  \n",
       "CV_23_obs_2      0.028000   0.125000     0.000066    0.000810   0.000782  \n",
       "CV_57_obs_6      0.457790   0.408100     0.000128    0.001756   0.001579  \n",
       "...                   ...        ...          ...         ...        ...  \n",
       "PLSR_49_obs_0    0.597000   0.137000     0.000144    0.040760   0.040620  \n",
       "LMXB_2_obs_55    0.789021   0.795302     0.003899    0.015976   0.012451  \n",
       "CV_20_obs_6      0.646887   0.675297     0.004051    0.018457   0.015710  \n",
       "CV_22_obs_30     0.563794   0.579527     0.004568    0.016641   0.012608  \n",
       "LMXB_27_obs_11   0.584376   0.628540     0.003514    0.015298   0.010405  \n",
       "\n",
       "[2952 rows x 32 columns]"
      ],
      "text/html": [
       "<div>\n",
       "<style scoped>\n",
       "    .dataframe tbody tr th:only-of-type {\n",
       "        vertical-align: middle;\n",
       "    }\n",
       "\n",
       "    .dataframe tbody tr th {\n",
       "        vertical-align: top;\n",
       "    }\n",
       "\n",
       "    .dataframe thead th {\n",
       "        text-align: right;\n",
       "    }\n",
       "</style>\n",
       "<table border=\"1\" class=\"dataframe\">\n",
       "  <thead>\n",
       "    <tr style=\"text-align: right;\">\n",
       "      <th></th>\n",
       "      <th>photflux_aper_b</th>\n",
       "      <th>photflux_aper_m</th>\n",
       "      <th>photflux_aper_h</th>\n",
       "      <th>photflux_aper_s</th>\n",
       "      <th>hard_hm</th>\n",
       "      <th>flux_aper_b</th>\n",
       "      <th>hard_hs</th>\n",
       "      <th>hard_ms</th>\n",
       "      <th>flux_aper_s</th>\n",
       "      <th>flux_aper_m</th>\n",
       "      <th>...</th>\n",
       "      <th>var_inter_prob_h</th>\n",
       "      <th>var_inter_sigma_h</th>\n",
       "      <th>flux_aper_u</th>\n",
       "      <th>var_max_b</th>\n",
       "      <th>var_prob_b</th>\n",
       "      <th>ks_prob_b</th>\n",
       "      <th>kp_prob_b</th>\n",
       "      <th>var_sigma_b</th>\n",
       "      <th>var_mean_b</th>\n",
       "      <th>var_min_b</th>\n",
       "    </tr>\n",
       "    <tr>\n",
       "      <th>obs_id</th>\n",
       "      <th></th>\n",
       "      <th></th>\n",
       "      <th></th>\n",
       "      <th></th>\n",
       "      <th></th>\n",
       "      <th></th>\n",
       "      <th></th>\n",
       "      <th></th>\n",
       "      <th></th>\n",
       "      <th></th>\n",
       "      <th></th>\n",
       "      <th></th>\n",
       "      <th></th>\n",
       "      <th></th>\n",
       "      <th></th>\n",
       "      <th></th>\n",
       "      <th></th>\n",
       "      <th></th>\n",
       "      <th></th>\n",
       "      <th></th>\n",
       "      <th></th>\n",
       "    </tr>\n",
       "  </thead>\n",
       "  <tbody>\n",
       "    <tr>\n",
       "      <th>CV_131_obs_6</th>\n",
       "      <td>6.316503</td>\n",
       "      <td>6.619427</td>\n",
       "      <td>6.555002</td>\n",
       "      <td>6.629340</td>\n",
       "      <td>-0.6546</td>\n",
       "      <td>15.139303</td>\n",
       "      <td>-0.9994</td>\n",
       "      <td>0.2211</td>\n",
       "      <td>15.442786</td>\n",
       "      <td>15.179536</td>\n",
       "      <td>...</td>\n",
       "      <td>1.00000</td>\n",
       "      <td>1.480000e-06</td>\n",
       "      <td>14.517690</td>\n",
       "      <td>0.021437</td>\n",
       "      <td>0.594930</td>\n",
       "      <td>0.669361</td>\n",
       "      <td>0.637311</td>\n",
       "      <td>0.003586</td>\n",
       "      <td>0.017097</td>\n",
       "      <td>0.012419</td>\n",
       "    </tr>\n",
       "    <tr>\n",
       "      <th>PLSR_36_obs_11</th>\n",
       "      <td>5.696883</td>\n",
       "      <td>6.941195</td>\n",
       "      <td>6.017584</td>\n",
       "      <td>5.802158</td>\n",
       "      <td>0.0787</td>\n",
       "      <td>14.066139</td>\n",
       "      <td>0.9994</td>\n",
       "      <td>0.9994</td>\n",
       "      <td>14.551343</td>\n",
       "      <td>15.497709</td>\n",
       "      <td>...</td>\n",
       "      <td>0.76189</td>\n",
       "      <td>1.093002e-06</td>\n",
       "      <td>13.912933</td>\n",
       "      <td>0.021461</td>\n",
       "      <td>0.597080</td>\n",
       "      <td>0.652541</td>\n",
       "      <td>0.660152</td>\n",
       "      <td>0.003941</td>\n",
       "      <td>0.017020</td>\n",
       "      <td>0.013733</td>\n",
       "    </tr>\n",
       "    <tr>\n",
       "      <th>CV_276_obs_0</th>\n",
       "      <td>4.179536</td>\n",
       "      <td>4.729787</td>\n",
       "      <td>4.692076</td>\n",
       "      <td>4.628563</td>\n",
       "      <td>0.0487</td>\n",
       "      <td>12.819301</td>\n",
       "      <td>-0.0762</td>\n",
       "      <td>-0.1237</td>\n",
       "      <td>13.374585</td>\n",
       "      <td>13.362210</td>\n",
       "      <td>...</td>\n",
       "      <td>0.77795</td>\n",
       "      <td>5.596729e-05</td>\n",
       "      <td>11.092840</td>\n",
       "      <td>0.019300</td>\n",
       "      <td>0.092000</td>\n",
       "      <td>0.072000</td>\n",
       "      <td>0.085000</td>\n",
       "      <td>0.000076</td>\n",
       "      <td>0.019230</td>\n",
       "      <td>0.019150</td>\n",
       "    </tr>\n",
       "    <tr>\n",
       "      <th>CV_23_obs_2</th>\n",
       "      <td>5.480303</td>\n",
       "      <td>6.117589</td>\n",
       "      <td>6.484921</td>\n",
       "      <td>5.889074</td>\n",
       "      <td>-0.3935</td>\n",
       "      <td>14.251657</td>\n",
       "      <td>-0.6096</td>\n",
       "      <td>-0.2723</td>\n",
       "      <td>14.655019</td>\n",
       "      <td>14.717151</td>\n",
       "      <td>...</td>\n",
       "      <td>1.00000</td>\n",
       "      <td>2.159000e-06</td>\n",
       "      <td>15.306889</td>\n",
       "      <td>0.001419</td>\n",
       "      <td>0.420000</td>\n",
       "      <td>0.028000</td>\n",
       "      <td>0.125000</td>\n",
       "      <td>0.000066</td>\n",
       "      <td>0.000810</td>\n",
       "      <td>0.000782</td>\n",
       "    </tr>\n",
       "    <tr>\n",
       "      <th>CV_57_obs_6</th>\n",
       "      <td>5.680270</td>\n",
       "      <td>6.426033</td>\n",
       "      <td>6.210299</td>\n",
       "      <td>5.567833</td>\n",
       "      <td>0.8545</td>\n",
       "      <td>14.078337</td>\n",
       "      <td>-0.9994</td>\n",
       "      <td>-0.9994</td>\n",
       "      <td>14.353400</td>\n",
       "      <td>15.075599</td>\n",
       "      <td>...</td>\n",
       "      <td>0.02000</td>\n",
       "      <td>4.995000e-07</td>\n",
       "      <td>14.404433</td>\n",
       "      <td>0.002233</td>\n",
       "      <td>0.423970</td>\n",
       "      <td>0.457790</td>\n",
       "      <td>0.408100</td>\n",
       "      <td>0.000128</td>\n",
       "      <td>0.001756</td>\n",
       "      <td>0.001579</td>\n",
       "    </tr>\n",
       "    <tr>\n",
       "      <th>...</th>\n",
       "      <td>...</td>\n",
       "      <td>...</td>\n",
       "      <td>...</td>\n",
       "      <td>...</td>\n",
       "      <td>...</td>\n",
       "      <td>...</td>\n",
       "      <td>...</td>\n",
       "      <td>...</td>\n",
       "      <td>...</td>\n",
       "      <td>...</td>\n",
       "      <td>...</td>\n",
       "      <td>...</td>\n",
       "      <td>...</td>\n",
       "      <td>...</td>\n",
       "      <td>...</td>\n",
       "      <td>...</td>\n",
       "      <td>...</td>\n",
       "      <td>...</td>\n",
       "      <td>...</td>\n",
       "      <td>...</td>\n",
       "      <td>...</td>\n",
       "    </tr>\n",
       "    <tr>\n",
       "      <th>PLSR_49_obs_0</th>\n",
       "      <td>3.918653</td>\n",
       "      <td>4.592949</td>\n",
       "      <td>5.292856</td>\n",
       "      <td>4.300336</td>\n",
       "      <td>-0.6633</td>\n",
       "      <td>12.795337</td>\n",
       "      <td>-0.8132</td>\n",
       "      <td>-0.3260</td>\n",
       "      <td>13.101549</td>\n",
       "      <td>13.229737</td>\n",
       "      <td>...</td>\n",
       "      <td>0.38900</td>\n",
       "      <td>4.204000e-07</td>\n",
       "      <td>13.826814</td>\n",
       "      <td>0.040910</td>\n",
       "      <td>0.082000</td>\n",
       "      <td>0.597000</td>\n",
       "      <td>0.137000</td>\n",
       "      <td>0.000144</td>\n",
       "      <td>0.040760</td>\n",
       "      <td>0.040620</td>\n",
       "    </tr>\n",
       "    <tr>\n",
       "      <th>LMXB_2_obs_55</th>\n",
       "      <td>5.630599</td>\n",
       "      <td>6.097345</td>\n",
       "      <td>5.971836</td>\n",
       "      <td>5.723314</td>\n",
       "      <td>0.2149</td>\n",
       "      <td>13.995679</td>\n",
       "      <td>0.4397</td>\n",
       "      <td>-0.1024</td>\n",
       "      <td>14.338383</td>\n",
       "      <td>14.718285</td>\n",
       "      <td>...</td>\n",
       "      <td>0.77619</td>\n",
       "      <td>3.521309e-05</td>\n",
       "      <td>13.074593</td>\n",
       "      <td>0.022370</td>\n",
       "      <td>0.587900</td>\n",
       "      <td>0.789021</td>\n",
       "      <td>0.795302</td>\n",
       "      <td>0.003899</td>\n",
       "      <td>0.015976</td>\n",
       "      <td>0.012451</td>\n",
       "    </tr>\n",
       "    <tr>\n",
       "      <th>CV_20_obs_6</th>\n",
       "      <td>5.955852</td>\n",
       "      <td>6.460700</td>\n",
       "      <td>6.512347</td>\n",
       "      <td>6.087141</td>\n",
       "      <td>0.9994</td>\n",
       "      <td>14.822464</td>\n",
       "      <td>-0.9994</td>\n",
       "      <td>-0.9994</td>\n",
       "      <td>14.805208</td>\n",
       "      <td>15.110626</td>\n",
       "      <td>...</td>\n",
       "      <td>0.73644</td>\n",
       "      <td>5.960985e-07</td>\n",
       "      <td>14.834205</td>\n",
       "      <td>0.023092</td>\n",
       "      <td>0.608710</td>\n",
       "      <td>0.646887</td>\n",
       "      <td>0.675297</td>\n",
       "      <td>0.004051</td>\n",
       "      <td>0.018457</td>\n",
       "      <td>0.015710</td>\n",
       "    </tr>\n",
       "    <tr>\n",
       "      <th>CV_22_obs_30</th>\n",
       "      <td>5.523646</td>\n",
       "      <td>6.009998</td>\n",
       "      <td>5.820184</td>\n",
       "      <td>5.702323</td>\n",
       "      <td>0.9994</td>\n",
       "      <td>14.128269</td>\n",
       "      <td>-0.9994</td>\n",
       "      <td>-0.9994</td>\n",
       "      <td>14.446445</td>\n",
       "      <td>14.634096</td>\n",
       "      <td>...</td>\n",
       "      <td>0.99737</td>\n",
       "      <td>1.366547e-04</td>\n",
       "      <td>14.436045</td>\n",
       "      <td>0.021060</td>\n",
       "      <td>0.519131</td>\n",
       "      <td>0.563794</td>\n",
       "      <td>0.579527</td>\n",
       "      <td>0.004568</td>\n",
       "      <td>0.016641</td>\n",
       "      <td>0.012608</td>\n",
       "    </tr>\n",
       "    <tr>\n",
       "      <th>LMXB_27_obs_11</th>\n",
       "      <td>5.790485</td>\n",
       "      <td>6.045372</td>\n",
       "      <td>6.014982</td>\n",
       "      <td>5.973527</td>\n",
       "      <td>-0.9994</td>\n",
       "      <td>14.744727</td>\n",
       "      <td>-0.9994</td>\n",
       "      <td>-0.1699</td>\n",
       "      <td>14.777344</td>\n",
       "      <td>14.713319</td>\n",
       "      <td>...</td>\n",
       "      <td>0.78844</td>\n",
       "      <td>3.438920e-05</td>\n",
       "      <td>13.848662</td>\n",
       "      <td>0.021323</td>\n",
       "      <td>0.538870</td>\n",
       "      <td>0.584376</td>\n",
       "      <td>0.628540</td>\n",
       "      <td>0.003514</td>\n",
       "      <td>0.015298</td>\n",
       "      <td>0.010405</td>\n",
       "    </tr>\n",
       "  </tbody>\n",
       "</table>\n",
       "<p>2952 rows × 32 columns</p>\n",
       "</div>"
      ]
     },
     "metadata": {},
     "execution_count": 48
    }
   ],
   "metadata": {}
  },
  {
   "cell_type": "code",
   "execution_count": 49,
   "source": [
    "clf = xgb.XGBClassifier()\n",
    "clf.fit(x_train , y_train)"
   ],
   "outputs": [
    {
     "output_type": "stream",
     "name": "stderr",
     "text": [
      "/home/kumaran/.local/lib/python3.6/site-packages/xgboost/sklearn.py:1226: UserWarning: Lable encoder will ot work in future-kumaran\n",
      "  warnings.warn(label_encoder_deprecation_msg, UserWarning)\n"
     ]
    },
    {
     "output_type": "stream",
     "name": "stdout",
     "text": [
      "[13:41:38] WARNING: ../src/learner.cc:1115: Starting in XGBoost 1.3.0, the default evaluation metric used with the objective 'multi:softprob' was changed from 'merror' to 'mlogloss'. Explicitly set eval_metric if you'd like to restore the old behavior.\n"
     ]
    },
    {
     "output_type": "execute_result",
     "data": {
      "text/plain": [
       "XGBClassifier(base_score=0.5, booster='gbtree', colsample_bylevel=1,\n",
       "              colsample_bynode=1, colsample_bytree=1, enable_categorical=False,\n",
       "              gamma=0, gpu_id=-1, importance_type=None,\n",
       "              interaction_constraints='', learning_rate=0.300000012,\n",
       "              max_delta_step=0, max_depth=6, min_child_weight=1, missing=nan,\n",
       "              monotone_constraints='()', n_estimators=100, n_jobs=8,\n",
       "              num_parallel_tree=1, objective='multi:softprob', predictor='auto',\n",
       "              random_state=0, reg_alpha=0, reg_lambda=1, scale_pos_weight=None,\n",
       "              subsample=1, tree_method='exact', validate_parameters=1,\n",
       "              verbosity=None)"
      ]
     },
     "metadata": {},
     "execution_count": 49
    }
   ],
   "metadata": {}
  },
  {
   "cell_type": "code",
   "execution_count": 50,
   "source": [
    "clf.score(x_test , y_test)"
   ],
   "outputs": [
    {
     "output_type": "execute_result",
     "data": {
      "text/plain": [
       "0.9105691056910569"
      ]
     },
     "metadata": {},
     "execution_count": 50
    }
   ],
   "metadata": {}
  },
  {
   "cell_type": "markdown",
   "source": [
    "## Normalize"
   ],
   "metadata": {}
  },
  {
   "cell_type": "code",
   "execution_count": 403,
   "source": [
    "#data_imp_norm.to_csv('all_filled_norm.csv')"
   ],
   "outputs": [],
   "metadata": {}
  },
  {
   "cell_type": "code",
   "execution_count": 51,
   "source": [
    "data_id = data_imp_v2[info_col]\n",
    "data_label = data_imp_v2['class']\n",
    "data_val = data_imp_v2.drop(columns=['class']+info_col)\n",
    "data_imp_norm = data_imp_v2.copy()\n",
    "for c in data_val.columns.to_list():\n",
    "    data_imp_norm.loc[:,c] = (data_imp_norm.loc[:,c] - data_imp_norm.loc[:,c].mean()) / data_imp_norm.loc[:,c].std()\n",
    "data_imp_norm"
   ],
   "outputs": [
    {
     "output_type": "execute_result",
     "data": {
      "text/plain": [
       "                src_id  num_obs      sepn                    name         ra  \\\n",
       "obs_id                                                                         \n",
       "CV_0_obs_0        CV_0       25  0.157954   2CXO J004247.1+411619   10.69654   \n",
       "CV_0_obs_1        CV_0       25  0.157954   2CXO J004247.1+411619   10.69654   \n",
       "CV_0_obs_2        CV_0       25  0.157954   2CXO J004247.1+411619   10.69654   \n",
       "CV_0_obs_3        CV_0       25  0.157954   2CXO J004247.1+411619   10.69654   \n",
       "CV_0_obs_4        CV_0       25  0.157954   2CXO J004247.1+411619   10.69654   \n",
       "...                ...      ...       ...                     ...        ...   \n",
       "PLSR_95_obs_1  PLSR_95        2  0.456983   2CXO J222905.2+611409  337.27190   \n",
       "PLSR_99_obs_0  PLSR_99        4  0.259532   2CXO J171810.0-371853  259.54170   \n",
       "PLSR_99_obs_1  PLSR_99        4  0.259532   2CXO J171810.0-371853  259.54170   \n",
       "PLSR_99_obs_2  PLSR_99        4  0.259532   2CXO J171810.0-371853  259.54170   \n",
       "PLSR_99_obs_3  PLSR_99        4  0.259532   2CXO J171810.0-371853  259.54170   \n",
       "\n",
       "                    dec  livetime  significance   likelihood class  ...  \\\n",
       "obs_id                                                              ...   \n",
       "CV_0_obs_0     41.27215    4103.7         52.93  16618.73000    CV  ...   \n",
       "CV_0_obs_1     41.27215    3907.5         52.93  16618.73000    CV  ...   \n",
       "CV_0_obs_2     41.27215    3907.5         52.93  16618.73000    CV  ...   \n",
       "CV_0_obs_3     41.27215    3904.6         52.93  16618.73000    CV  ...   \n",
       "CV_0_obs_4     41.27215    3907.5         52.93  16618.73000    CV  ...   \n",
       "...                 ...       ...           ...          ...   ...  ...   \n",
       "PLSR_95_obs_1  61.23586   93964.6         43.76  10080.56000    PL  ...   \n",
       "PLSR_99_obs_0 -37.31476   32031.9          3.00     22.24461    PL  ...   \n",
       "PLSR_99_obs_1 -37.31476   33272.3          3.00     22.24461    PL  ...   \n",
       "PLSR_99_obs_2 -37.31476   34173.8          3.00     22.24461    PL  ...   \n",
       "PLSR_99_obs_3 -37.31476   34148.0          3.00     22.24461    PL  ...   \n",
       "\n",
       "               var_inter_prob_h  var_inter_sigma_h  flux_aper_u  var_max_b  \\\n",
       "obs_id                                                                       \n",
       "CV_0_obs_0             0.775912          -0.096692    -0.841836  -0.045637   \n",
       "CV_0_obs_1             0.775593          -0.097856     0.161718  -0.050893   \n",
       "CV_0_obs_2             0.776168          -0.097171    -1.294329  -0.049794   \n",
       "CV_0_obs_3             0.776168          -0.097021    -1.313047  -0.044044   \n",
       "CV_0_obs_4             0.776008          -0.097358     0.183233  -0.051248   \n",
       "...                         ...                ...          ...        ...   \n",
       "PLSR_95_obs_1          0.590321          -0.117297     0.313334  -0.043938   \n",
       "PLSR_99_obs_0         -0.205068          -0.121421     0.119123  -0.037060   \n",
       "PLSR_99_obs_1         -0.205068          -0.121421     0.214702  -0.038144   \n",
       "PLSR_99_obs_2         -0.205068          -0.121421     0.089364  -0.044731   \n",
       "PLSR_99_obs_3         -0.205068          -0.121421     0.057165  -0.044731   \n",
       "\n",
       "               var_prob_b  ks_prob_b  kp_prob_b  var_sigma_b  var_mean_b  \\\n",
       "obs_id                                                                     \n",
       "CV_0_obs_0       0.403177  -0.085188   0.159626     0.408727   -0.042147   \n",
       "CV_0_obs_1       0.229535  -0.121701   0.142579     0.259213   -0.052377   \n",
       "CV_0_obs_2       0.403256  -0.045906   0.259456     0.398847   -0.049635   \n",
       "CV_0_obs_3       0.423877  -0.107494   0.252497     0.427186   -0.043684   \n",
       "CV_0_obs_4       0.146103  -0.025284  -0.027349     0.248981   -0.053307   \n",
       "...                   ...        ...        ...          ...         ...   \n",
       "PLSR_95_obs_1   -1.650069   0.619652  -0.500032    -0.336078   -0.027103   \n",
       "PLSR_99_obs_0    0.714671   0.438948   0.263455     0.413018   -0.041523   \n",
       "PLSR_99_obs_1    0.712894   0.341923   0.210370     0.410503   -0.047982   \n",
       "PLSR_99_obs_2    0.666529   0.445697   0.279884     0.372369   -0.050451   \n",
       "PLSR_99_obs_3    0.681074   0.425267   0.269230     0.376773   -0.050451   \n",
       "\n",
       "               var_min_b  \n",
       "obs_id                    \n",
       "CV_0_obs_0     -0.049796  \n",
       "CV_0_obs_1     -0.063895  \n",
       "CV_0_obs_2     -0.061614  \n",
       "CV_0_obs_3     -0.048147  \n",
       "CV_0_obs_4     -0.066035  \n",
       "...                  ...  \n",
       "PLSR_95_obs_1  -0.018012  \n",
       "PLSR_99_obs_0  -0.044176  \n",
       "PLSR_99_obs_1  -0.056258  \n",
       "PLSR_99_obs_2  -0.065323  \n",
       "PLSR_99_obs_3  -0.065336  \n",
       "\n",
       "[3690 rows x 42 columns]"
      ],
      "text/html": [
       "<div>\n",
       "<style scoped>\n",
       "    .dataframe tbody tr th:only-of-type {\n",
       "        vertical-align: middle;\n",
       "    }\n",
       "\n",
       "    .dataframe tbody tr th {\n",
       "        vertical-align: top;\n",
       "    }\n",
       "\n",
       "    .dataframe thead th {\n",
       "        text-align: right;\n",
       "    }\n",
       "</style>\n",
       "<table border=\"1\" class=\"dataframe\">\n",
       "  <thead>\n",
       "    <tr style=\"text-align: right;\">\n",
       "      <th></th>\n",
       "      <th>src_id</th>\n",
       "      <th>num_obs</th>\n",
       "      <th>sepn</th>\n",
       "      <th>name</th>\n",
       "      <th>ra</th>\n",
       "      <th>dec</th>\n",
       "      <th>livetime</th>\n",
       "      <th>significance</th>\n",
       "      <th>likelihood</th>\n",
       "      <th>class</th>\n",
       "      <th>...</th>\n",
       "      <th>var_inter_prob_h</th>\n",
       "      <th>var_inter_sigma_h</th>\n",
       "      <th>flux_aper_u</th>\n",
       "      <th>var_max_b</th>\n",
       "      <th>var_prob_b</th>\n",
       "      <th>ks_prob_b</th>\n",
       "      <th>kp_prob_b</th>\n",
       "      <th>var_sigma_b</th>\n",
       "      <th>var_mean_b</th>\n",
       "      <th>var_min_b</th>\n",
       "    </tr>\n",
       "    <tr>\n",
       "      <th>obs_id</th>\n",
       "      <th></th>\n",
       "      <th></th>\n",
       "      <th></th>\n",
       "      <th></th>\n",
       "      <th></th>\n",
       "      <th></th>\n",
       "      <th></th>\n",
       "      <th></th>\n",
       "      <th></th>\n",
       "      <th></th>\n",
       "      <th></th>\n",
       "      <th></th>\n",
       "      <th></th>\n",
       "      <th></th>\n",
       "      <th></th>\n",
       "      <th></th>\n",
       "      <th></th>\n",
       "      <th></th>\n",
       "      <th></th>\n",
       "      <th></th>\n",
       "      <th></th>\n",
       "    </tr>\n",
       "  </thead>\n",
       "  <tbody>\n",
       "    <tr>\n",
       "      <th>CV_0_obs_0</th>\n",
       "      <td>CV_0</td>\n",
       "      <td>25</td>\n",
       "      <td>0.157954</td>\n",
       "      <td>2CXO J004247.1+411619</td>\n",
       "      <td>10.69654</td>\n",
       "      <td>41.27215</td>\n",
       "      <td>4103.7</td>\n",
       "      <td>52.93</td>\n",
       "      <td>16618.73000</td>\n",
       "      <td>CV</td>\n",
       "      <td>...</td>\n",
       "      <td>0.775912</td>\n",
       "      <td>-0.096692</td>\n",
       "      <td>-0.841836</td>\n",
       "      <td>-0.045637</td>\n",
       "      <td>0.403177</td>\n",
       "      <td>-0.085188</td>\n",
       "      <td>0.159626</td>\n",
       "      <td>0.408727</td>\n",
       "      <td>-0.042147</td>\n",
       "      <td>-0.049796</td>\n",
       "    </tr>\n",
       "    <tr>\n",
       "      <th>CV_0_obs_1</th>\n",
       "      <td>CV_0</td>\n",
       "      <td>25</td>\n",
       "      <td>0.157954</td>\n",
       "      <td>2CXO J004247.1+411619</td>\n",
       "      <td>10.69654</td>\n",
       "      <td>41.27215</td>\n",
       "      <td>3907.5</td>\n",
       "      <td>52.93</td>\n",
       "      <td>16618.73000</td>\n",
       "      <td>CV</td>\n",
       "      <td>...</td>\n",
       "      <td>0.775593</td>\n",
       "      <td>-0.097856</td>\n",
       "      <td>0.161718</td>\n",
       "      <td>-0.050893</td>\n",
       "      <td>0.229535</td>\n",
       "      <td>-0.121701</td>\n",
       "      <td>0.142579</td>\n",
       "      <td>0.259213</td>\n",
       "      <td>-0.052377</td>\n",
       "      <td>-0.063895</td>\n",
       "    </tr>\n",
       "    <tr>\n",
       "      <th>CV_0_obs_2</th>\n",
       "      <td>CV_0</td>\n",
       "      <td>25</td>\n",
       "      <td>0.157954</td>\n",
       "      <td>2CXO J004247.1+411619</td>\n",
       "      <td>10.69654</td>\n",
       "      <td>41.27215</td>\n",
       "      <td>3907.5</td>\n",
       "      <td>52.93</td>\n",
       "      <td>16618.73000</td>\n",
       "      <td>CV</td>\n",
       "      <td>...</td>\n",
       "      <td>0.776168</td>\n",
       "      <td>-0.097171</td>\n",
       "      <td>-1.294329</td>\n",
       "      <td>-0.049794</td>\n",
       "      <td>0.403256</td>\n",
       "      <td>-0.045906</td>\n",
       "      <td>0.259456</td>\n",
       "      <td>0.398847</td>\n",
       "      <td>-0.049635</td>\n",
       "      <td>-0.061614</td>\n",
       "    </tr>\n",
       "    <tr>\n",
       "      <th>CV_0_obs_3</th>\n",
       "      <td>CV_0</td>\n",
       "      <td>25</td>\n",
       "      <td>0.157954</td>\n",
       "      <td>2CXO J004247.1+411619</td>\n",
       "      <td>10.69654</td>\n",
       "      <td>41.27215</td>\n",
       "      <td>3904.6</td>\n",
       "      <td>52.93</td>\n",
       "      <td>16618.73000</td>\n",
       "      <td>CV</td>\n",
       "      <td>...</td>\n",
       "      <td>0.776168</td>\n",
       "      <td>-0.097021</td>\n",
       "      <td>-1.313047</td>\n",
       "      <td>-0.044044</td>\n",
       "      <td>0.423877</td>\n",
       "      <td>-0.107494</td>\n",
       "      <td>0.252497</td>\n",
       "      <td>0.427186</td>\n",
       "      <td>-0.043684</td>\n",
       "      <td>-0.048147</td>\n",
       "    </tr>\n",
       "    <tr>\n",
       "      <th>CV_0_obs_4</th>\n",
       "      <td>CV_0</td>\n",
       "      <td>25</td>\n",
       "      <td>0.157954</td>\n",
       "      <td>2CXO J004247.1+411619</td>\n",
       "      <td>10.69654</td>\n",
       "      <td>41.27215</td>\n",
       "      <td>3907.5</td>\n",
       "      <td>52.93</td>\n",
       "      <td>16618.73000</td>\n",
       "      <td>CV</td>\n",
       "      <td>...</td>\n",
       "      <td>0.776008</td>\n",
       "      <td>-0.097358</td>\n",
       "      <td>0.183233</td>\n",
       "      <td>-0.051248</td>\n",
       "      <td>0.146103</td>\n",
       "      <td>-0.025284</td>\n",
       "      <td>-0.027349</td>\n",
       "      <td>0.248981</td>\n",
       "      <td>-0.053307</td>\n",
       "      <td>-0.066035</td>\n",
       "    </tr>\n",
       "    <tr>\n",
       "      <th>...</th>\n",
       "      <td>...</td>\n",
       "      <td>...</td>\n",
       "      <td>...</td>\n",
       "      <td>...</td>\n",
       "      <td>...</td>\n",
       "      <td>...</td>\n",
       "      <td>...</td>\n",
       "      <td>...</td>\n",
       "      <td>...</td>\n",
       "      <td>...</td>\n",
       "      <td>...</td>\n",
       "      <td>...</td>\n",
       "      <td>...</td>\n",
       "      <td>...</td>\n",
       "      <td>...</td>\n",
       "      <td>...</td>\n",
       "      <td>...</td>\n",
       "      <td>...</td>\n",
       "      <td>...</td>\n",
       "      <td>...</td>\n",
       "      <td>...</td>\n",
       "    </tr>\n",
       "    <tr>\n",
       "      <th>PLSR_95_obs_1</th>\n",
       "      <td>PLSR_95</td>\n",
       "      <td>2</td>\n",
       "      <td>0.456983</td>\n",
       "      <td>2CXO J222905.2+611409</td>\n",
       "      <td>337.27190</td>\n",
       "      <td>61.23586</td>\n",
       "      <td>93964.6</td>\n",
       "      <td>43.76</td>\n",
       "      <td>10080.56000</td>\n",
       "      <td>PL</td>\n",
       "      <td>...</td>\n",
       "      <td>0.590321</td>\n",
       "      <td>-0.117297</td>\n",
       "      <td>0.313334</td>\n",
       "      <td>-0.043938</td>\n",
       "      <td>-1.650069</td>\n",
       "      <td>0.619652</td>\n",
       "      <td>-0.500032</td>\n",
       "      <td>-0.336078</td>\n",
       "      <td>-0.027103</td>\n",
       "      <td>-0.018012</td>\n",
       "    </tr>\n",
       "    <tr>\n",
       "      <th>PLSR_99_obs_0</th>\n",
       "      <td>PLSR_99</td>\n",
       "      <td>4</td>\n",
       "      <td>0.259532</td>\n",
       "      <td>2CXO J171810.0-371853</td>\n",
       "      <td>259.54170</td>\n",
       "      <td>-37.31476</td>\n",
       "      <td>32031.9</td>\n",
       "      <td>3.00</td>\n",
       "      <td>22.24461</td>\n",
       "      <td>PL</td>\n",
       "      <td>...</td>\n",
       "      <td>-0.205068</td>\n",
       "      <td>-0.121421</td>\n",
       "      <td>0.119123</td>\n",
       "      <td>-0.037060</td>\n",
       "      <td>0.714671</td>\n",
       "      <td>0.438948</td>\n",
       "      <td>0.263455</td>\n",
       "      <td>0.413018</td>\n",
       "      <td>-0.041523</td>\n",
       "      <td>-0.044176</td>\n",
       "    </tr>\n",
       "    <tr>\n",
       "      <th>PLSR_99_obs_1</th>\n",
       "      <td>PLSR_99</td>\n",
       "      <td>4</td>\n",
       "      <td>0.259532</td>\n",
       "      <td>2CXO J171810.0-371853</td>\n",
       "      <td>259.54170</td>\n",
       "      <td>-37.31476</td>\n",
       "      <td>33272.3</td>\n",
       "      <td>3.00</td>\n",
       "      <td>22.24461</td>\n",
       "      <td>PL</td>\n",
       "      <td>...</td>\n",
       "      <td>-0.205068</td>\n",
       "      <td>-0.121421</td>\n",
       "      <td>0.214702</td>\n",
       "      <td>-0.038144</td>\n",
       "      <td>0.712894</td>\n",
       "      <td>0.341923</td>\n",
       "      <td>0.210370</td>\n",
       "      <td>0.410503</td>\n",
       "      <td>-0.047982</td>\n",
       "      <td>-0.056258</td>\n",
       "    </tr>\n",
       "    <tr>\n",
       "      <th>PLSR_99_obs_2</th>\n",
       "      <td>PLSR_99</td>\n",
       "      <td>4</td>\n",
       "      <td>0.259532</td>\n",
       "      <td>2CXO J171810.0-371853</td>\n",
       "      <td>259.54170</td>\n",
       "      <td>-37.31476</td>\n",
       "      <td>34173.8</td>\n",
       "      <td>3.00</td>\n",
       "      <td>22.24461</td>\n",
       "      <td>PL</td>\n",
       "      <td>...</td>\n",
       "      <td>-0.205068</td>\n",
       "      <td>-0.121421</td>\n",
       "      <td>0.089364</td>\n",
       "      <td>-0.044731</td>\n",
       "      <td>0.666529</td>\n",
       "      <td>0.445697</td>\n",
       "      <td>0.279884</td>\n",
       "      <td>0.372369</td>\n",
       "      <td>-0.050451</td>\n",
       "      <td>-0.065323</td>\n",
       "    </tr>\n",
       "    <tr>\n",
       "      <th>PLSR_99_obs_3</th>\n",
       "      <td>PLSR_99</td>\n",
       "      <td>4</td>\n",
       "      <td>0.259532</td>\n",
       "      <td>2CXO J171810.0-371853</td>\n",
       "      <td>259.54170</td>\n",
       "      <td>-37.31476</td>\n",
       "      <td>34148.0</td>\n",
       "      <td>3.00</td>\n",
       "      <td>22.24461</td>\n",
       "      <td>PL</td>\n",
       "      <td>...</td>\n",
       "      <td>-0.205068</td>\n",
       "      <td>-0.121421</td>\n",
       "      <td>0.057165</td>\n",
       "      <td>-0.044731</td>\n",
       "      <td>0.681074</td>\n",
       "      <td>0.425267</td>\n",
       "      <td>0.269230</td>\n",
       "      <td>0.376773</td>\n",
       "      <td>-0.050451</td>\n",
       "      <td>-0.065336</td>\n",
       "    </tr>\n",
       "  </tbody>\n",
       "</table>\n",
       "<p>3690 rows × 42 columns</p>\n",
       "</div>"
      ]
     },
     "metadata": {},
     "execution_count": 51
    }
   ],
   "metadata": {}
  },
  {
   "cell_type": "code",
   "execution_count": 52,
   "source": [
    "verbose = 0\n",
    "val_acc = []\n",
    "test_acc = []\n",
    "for i in range(10):\n",
    "    src_list = pd.DataFrame()\n",
    "    class_to_select = ['CV' , 'PL' , 'LX']\n",
    "    df = data_imp_norm.copy()\n",
    "    for cl in class_to_select:\n",
    "        src = df[df['class']==cl]['src_id'].value_counts().sort_values()\n",
    "        #display(src)\n",
    "        src = src.iloc[:int(len(src)*0.3)]\n",
    "        src_select = src.sample(frac=0.6)\n",
    "        src_id = src_select.index.to_list()\n",
    "        src_obs = src_select.to_list()\n",
    "        temp_src = pd.DataFrame({ \n",
    "            'src_id' : src_id , \n",
    "            'obs_count' : src_obs\n",
    "        })\n",
    "        src_list = src_list.append(temp_src)\n",
    "    #src_list\n",
    "\n",
    "    all_src = np.unique(df['src_id'].to_list())\n",
    "    test_src = src_list['src_id'].to_list()\n",
    "    train_src= list(set(all_src) - set(src_list['src_id']))\n",
    "    if(verbose):\n",
    "        print('Total Number of ssources :' , len(all_src))\n",
    "        print('Training_sources : ' , len(train_src) )\n",
    "        print('Validation sources :' , len(test_src))\n",
    "\n",
    "    # df = df.replace({\n",
    "    #     \"BH\" :2 , \n",
    "    #     \"NS\" : 2 ,\n",
    "    #     \"CV\" : 0 , \n",
    "    #     \"PULSAR\" : 1 \n",
    "    # })\n",
    "\n",
    "\n",
    "    df= df[df['class'].isin(class_to_select)]\n",
    "    df \n",
    "\n",
    "\n",
    "\n",
    "    df_train  = df[df['src_id'].isin(train_src)]\n",
    "    df_test = df[df['src_id'].isin(test_src)]\n",
    "\n",
    "    df_train = df_train[df_train['class'].isin(class_to_select)]\n",
    "    df_test = df_test[df_test['class'].isin(class_to_select)]\n",
    "\n",
    "\n",
    "    id_train = df_train[info_col]\n",
    "    label_train = df_train['class']\n",
    "    value_train = df_train.drop(columns=['class']+info_col)\n",
    "\n",
    "\n",
    "    id_val = df_test[info_col]\n",
    "    label_val = df_test['class']\n",
    "    value_val = df_test.drop(columns=['class']+info_col)\n",
    "\n",
    "    x_train , x_test , y_train , y_test = train_test_split(value_train , label_train , test_size=0.2 , stratify=label_train, random_state=9)\n",
    "    v_sc = clf.score(value_val , label_val)\n",
    "    test_sc = clf.score(x_train , y_train)\n",
    "    val_acc.append(v_sc)\n",
    "    test_acc.append(test_sc)"
   ],
   "outputs": [],
   "metadata": {}
  },
  {
   "cell_type": "code",
   "execution_count": 53,
   "source": [
    "score = pd.DataFrame({\n",
    "    \"Test Score\" : test_acc , \n",
    "    \"Validation Score\" : val_acc\n",
    "})\n",
    "score.describe()"
   ],
   "outputs": [
    {
     "output_type": "execute_result",
     "data": {
      "text/plain": [
       "       Test Score  Validation Score\n",
       "count   10.000000         10.000000\n",
       "mean     0.698980          0.558163\n",
       "std      0.002109          0.031926\n",
       "min      0.694662          0.510204\n",
       "25%      0.697704          0.540816\n",
       "50%      0.699568          0.556122\n",
       "75%      0.700353          0.579082\n",
       "max      0.701334          0.612245"
      ],
      "text/html": [
       "<div>\n",
       "<style scoped>\n",
       "    .dataframe tbody tr th:only-of-type {\n",
       "        vertical-align: middle;\n",
       "    }\n",
       "\n",
       "    .dataframe tbody tr th {\n",
       "        vertical-align: top;\n",
       "    }\n",
       "\n",
       "    .dataframe thead th {\n",
       "        text-align: right;\n",
       "    }\n",
       "</style>\n",
       "<table border=\"1\" class=\"dataframe\">\n",
       "  <thead>\n",
       "    <tr style=\"text-align: right;\">\n",
       "      <th></th>\n",
       "      <th>Test Score</th>\n",
       "      <th>Validation Score</th>\n",
       "    </tr>\n",
       "  </thead>\n",
       "  <tbody>\n",
       "    <tr>\n",
       "      <th>count</th>\n",
       "      <td>10.000000</td>\n",
       "      <td>10.000000</td>\n",
       "    </tr>\n",
       "    <tr>\n",
       "      <th>mean</th>\n",
       "      <td>0.698980</td>\n",
       "      <td>0.558163</td>\n",
       "    </tr>\n",
       "    <tr>\n",
       "      <th>std</th>\n",
       "      <td>0.002109</td>\n",
       "      <td>0.031926</td>\n",
       "    </tr>\n",
       "    <tr>\n",
       "      <th>min</th>\n",
       "      <td>0.694662</td>\n",
       "      <td>0.510204</td>\n",
       "    </tr>\n",
       "    <tr>\n",
       "      <th>25%</th>\n",
       "      <td>0.697704</td>\n",
       "      <td>0.540816</td>\n",
       "    </tr>\n",
       "    <tr>\n",
       "      <th>50%</th>\n",
       "      <td>0.699568</td>\n",
       "      <td>0.556122</td>\n",
       "    </tr>\n",
       "    <tr>\n",
       "      <th>75%</th>\n",
       "      <td>0.700353</td>\n",
       "      <td>0.579082</td>\n",
       "    </tr>\n",
       "    <tr>\n",
       "      <th>max</th>\n",
       "      <td>0.701334</td>\n",
       "      <td>0.612245</td>\n",
       "    </tr>\n",
       "  </tbody>\n",
       "</table>\n",
       "</div>"
      ]
     },
     "metadata": {},
     "execution_count": 53
    }
   ],
   "metadata": {}
  },
  {
   "cell_type": "code",
   "execution_count": 54,
   "source": [
    "sns.set(font_scale=1.2)\n",
    "fig , ax = plt.subplots(nrows=1 , ncols=3 , figsize = (18,4))\n",
    "sns.boxplot(data = score , ax = ax[0])\n",
    "cf = confusion_matrix(y_train , clf.predict(x_train) , )\n",
    "sns.heatmap(cf , annot=True ,fmt = '.0f' , ax = ax[1] , xticklabels =class_to_select , yticklabels = class_to_select )\n",
    "cf = confusion_matrix(y_test , clf.predict(x_test) , )\n",
    "sns.heatmap(cf , annot=True ,fmt = '.0f' , ax = ax[2] , xticklabels=class_to_select, yticklabels = class_to_select)\n",
    "#cf = confusion_matrix(y_val , clf.predict(x_val))\n",
    "#sns.heatmap(cf , annot=True ,fmt = '.0f' , ax = ax[3])\n",
    "#plt.savefig('all-src-split-obs-classification.jpg')\n",
    "plt.show()\n",
    "#score"
   ],
   "outputs": [
    {
     "output_type": "display_data",
     "data": {
      "text/plain": [
       "<Figure size 1296x288 with 5 Axes>"
      ],
      "image/svg+xml": "<?xml version=\"1.0\" encoding=\"utf-8\" standalone=\"no\"?>\n<!DOCTYPE svg PUBLIC \"-//W3C//DTD SVG 1.1//EN\"\n  \"http://www.w3.org/Graphics/SVG/1.1/DTD/svg11.dtd\">\n<!-- Created with matplotlib (https://matplotlib.org/) -->\n<svg height=\"256.622548pt\" version=\"1.1\" viewBox=\"0 0 1058.94636 256.622548\" width=\"1058.94636pt\" xmlns=\"http://www.w3.org/2000/svg\" xmlns:xlink=\"http://www.w3.org/1999/xlink\">\n <metadata>\n  <rdf:RDF xmlns:cc=\"http://creativecommons.org/ns#\" xmlns:dc=\"http://purl.org/dc/elements/1.1/\" xmlns:rdf=\"http://www.w3.org/1999/02/22-rdf-syntax-ns#\">\n   <cc:Work>\n    <dc:type rdf:resource=\"http://purl.org/dc/dcmitype/StillImage\"/>\n    <dc:date>2021-12-07T13:42:23.737532</dc:date>\n    <dc:format>image/svg+xml</dc:format>\n    <dc:creator>\n     <cc:Agent>\n      <dc:title>Matplotlib v3.3.4, https://matplotlib.org/</dc:title>\n     </cc:Agent>\n    </dc:creator>\n   </cc:Work>\n  </rdf:RDF>\n </metadata>\n <defs>\n  <style type=\"text/css\">*{stroke-linecap:butt;stroke-linejoin:round;}</style>\n </defs>\n <g id=\"figure_1\">\n  <g id=\"patch_1\">\n   <path d=\"M -0 256.622548 \nL 1058.94636 256.622548 \nL 1058.94636 0 \nL -0 0 \nz\n\" style=\"fill:#ffffff;\"/>\n  </g>\n  <g id=\"axes_1\">\n   <g id=\"patch_2\">\n    <path d=\"M 46.090625 227.147423 \nL 341.50239 227.147423 \nL 341.50239 9.707423 \nL 46.090625 9.707423 \nz\n\" style=\"fill:#eaeaf2;\"/>\n   </g>\n   <g id=\"matplotlib.axis_1\">\n    <g id=\"xtick_1\">\n     <g id=\"text_1\">\n      <!-- Test Score -->\n      <g style=\"fill:#262626;\" transform=\"translate(86.367097 246.677361)scale(0.132 -0.132)\">\n       <defs>\n        <path d=\"M -0.296875 72.90625 \nL 61.375 72.90625 \nL 61.375 64.59375 \nL 35.5 64.59375 \nL 35.5 0 \nL 25.59375 0 \nL 25.59375 64.59375 \nL -0.296875 64.59375 \nz\n\" id=\"DejaVuSans-84\"/>\n        <path d=\"M 56.203125 29.59375 \nL 56.203125 25.203125 \nL 14.890625 25.203125 \nQ 15.484375 15.921875 20.484375 11.0625 \nQ 25.484375 6.203125 34.421875 6.203125 \nQ 39.59375 6.203125 44.453125 7.46875 \nQ 49.3125 8.734375 54.109375 11.28125 \nL 54.109375 2.78125 \nQ 49.265625 0.734375 44.1875 -0.34375 \nQ 39.109375 -1.421875 33.890625 -1.421875 \nQ 20.796875 -1.421875 13.15625 6.1875 \nQ 5.515625 13.8125 5.515625 26.8125 \nQ 5.515625 40.234375 12.765625 48.109375 \nQ 20.015625 56 32.328125 56 \nQ 43.359375 56 49.78125 48.890625 \nQ 56.203125 41.796875 56.203125 29.59375 \nz\nM 47.21875 32.234375 \nQ 47.125 39.59375 43.09375 43.984375 \nQ 39.0625 48.390625 32.421875 48.390625 \nQ 24.90625 48.390625 20.390625 44.140625 \nQ 15.875 39.890625 15.1875 32.171875 \nz\n\" id=\"DejaVuSans-101\"/>\n        <path d=\"M 44.28125 53.078125 \nL 44.28125 44.578125 \nQ 40.484375 46.53125 36.375 47.5 \nQ 32.28125 48.484375 27.875 48.484375 \nQ 21.1875 48.484375 17.84375 46.4375 \nQ 14.5 44.390625 14.5 40.28125 \nQ 14.5 37.15625 16.890625 35.375 \nQ 19.28125 33.59375 26.515625 31.984375 \nL 29.59375 31.296875 \nQ 39.15625 29.25 43.1875 25.515625 \nQ 47.21875 21.78125 47.21875 15.09375 \nQ 47.21875 7.46875 41.1875 3.015625 \nQ 35.15625 -1.421875 24.609375 -1.421875 \nQ 20.21875 -1.421875 15.453125 -0.5625 \nQ 10.6875 0.296875 5.421875 2 \nL 5.421875 11.28125 \nQ 10.40625 8.6875 15.234375 7.390625 \nQ 20.0625 6.109375 24.8125 6.109375 \nQ 31.15625 6.109375 34.5625 8.28125 \nQ 37.984375 10.453125 37.984375 14.40625 \nQ 37.984375 18.0625 35.515625 20.015625 \nQ 33.0625 21.96875 24.703125 23.78125 \nL 21.578125 24.515625 \nQ 13.234375 26.265625 9.515625 29.90625 \nQ 5.8125 33.546875 5.8125 39.890625 \nQ 5.8125 47.609375 11.28125 51.796875 \nQ 16.75 56 26.8125 56 \nQ 31.78125 56 36.171875 55.265625 \nQ 40.578125 54.546875 44.28125 53.078125 \nz\n\" id=\"DejaVuSans-115\"/>\n        <path d=\"M 18.3125 70.21875 \nL 18.3125 54.6875 \nL 36.8125 54.6875 \nL 36.8125 47.703125 \nL 18.3125 47.703125 \nL 18.3125 18.015625 \nQ 18.3125 11.328125 20.140625 9.421875 \nQ 21.96875 7.515625 27.59375 7.515625 \nL 36.8125 7.515625 \nL 36.8125 0 \nL 27.59375 0 \nQ 17.1875 0 13.234375 3.875 \nQ 9.28125 7.765625 9.28125 18.015625 \nL 9.28125 47.703125 \nL 2.6875 47.703125 \nL 2.6875 54.6875 \nL 9.28125 54.6875 \nL 9.28125 70.21875 \nz\n\" id=\"DejaVuSans-116\"/>\n        <path id=\"DejaVuSans-32\"/>\n        <path d=\"M 53.515625 70.515625 \nL 53.515625 60.890625 \nQ 47.90625 63.578125 42.921875 64.890625 \nQ 37.9375 66.21875 33.296875 66.21875 \nQ 25.25 66.21875 20.875 63.09375 \nQ 16.5 59.96875 16.5 54.203125 \nQ 16.5 49.359375 19.40625 46.890625 \nQ 22.3125 44.4375 30.421875 42.921875 \nL 36.375 41.703125 \nQ 47.40625 39.59375 52.65625 34.296875 \nQ 57.90625 29 57.90625 20.125 \nQ 57.90625 9.515625 50.796875 4.046875 \nQ 43.703125 -1.421875 29.984375 -1.421875 \nQ 24.8125 -1.421875 18.96875 -0.25 \nQ 13.140625 0.921875 6.890625 3.21875 \nL 6.890625 13.375 \nQ 12.890625 10.015625 18.65625 8.296875 \nQ 24.421875 6.59375 29.984375 6.59375 \nQ 38.421875 6.59375 43.015625 9.90625 \nQ 47.609375 13.234375 47.609375 19.390625 \nQ 47.609375 24.75 44.3125 27.78125 \nQ 41.015625 30.8125 33.5 32.328125 \nL 27.484375 33.5 \nQ 16.453125 35.6875 11.515625 40.375 \nQ 6.59375 45.0625 6.59375 53.421875 \nQ 6.59375 63.09375 13.40625 68.65625 \nQ 20.21875 74.21875 32.171875 74.21875 \nQ 37.3125 74.21875 42.625 73.28125 \nQ 47.953125 72.359375 53.515625 70.515625 \nz\n\" id=\"DejaVuSans-83\"/>\n        <path d=\"M 48.78125 52.59375 \nL 48.78125 44.1875 \nQ 44.96875 46.296875 41.140625 47.34375 \nQ 37.3125 48.390625 33.40625 48.390625 \nQ 24.65625 48.390625 19.8125 42.84375 \nQ 14.984375 37.3125 14.984375 27.296875 \nQ 14.984375 17.28125 19.8125 11.734375 \nQ 24.65625 6.203125 33.40625 6.203125 \nQ 37.3125 6.203125 41.140625 7.25 \nQ 44.96875 8.296875 48.78125 10.40625 \nL 48.78125 2.09375 \nQ 45.015625 0.34375 40.984375 -0.53125 \nQ 36.96875 -1.421875 32.421875 -1.421875 \nQ 20.0625 -1.421875 12.78125 6.34375 \nQ 5.515625 14.109375 5.515625 27.296875 \nQ 5.515625 40.671875 12.859375 48.328125 \nQ 20.21875 56 33.015625 56 \nQ 37.15625 56 41.109375 55.140625 \nQ 45.0625 54.296875 48.78125 52.59375 \nz\n\" id=\"DejaVuSans-99\"/>\n        <path d=\"M 30.609375 48.390625 \nQ 23.390625 48.390625 19.1875 42.75 \nQ 14.984375 37.109375 14.984375 27.296875 \nQ 14.984375 17.484375 19.15625 11.84375 \nQ 23.34375 6.203125 30.609375 6.203125 \nQ 37.796875 6.203125 41.984375 11.859375 \nQ 46.1875 17.53125 46.1875 27.296875 \nQ 46.1875 37.015625 41.984375 42.703125 \nQ 37.796875 48.390625 30.609375 48.390625 \nz\nM 30.609375 56 \nQ 42.328125 56 49.015625 48.375 \nQ 55.71875 40.765625 55.71875 27.296875 \nQ 55.71875 13.875 49.015625 6.21875 \nQ 42.328125 -1.421875 30.609375 -1.421875 \nQ 18.84375 -1.421875 12.171875 6.21875 \nQ 5.515625 13.875 5.515625 27.296875 \nQ 5.515625 40.765625 12.171875 48.375 \nQ 18.84375 56 30.609375 56 \nz\n\" id=\"DejaVuSans-111\"/>\n        <path d=\"M 41.109375 46.296875 \nQ 39.59375 47.171875 37.8125 47.578125 \nQ 36.03125 48 33.890625 48 \nQ 26.265625 48 22.1875 43.046875 \nQ 18.109375 38.09375 18.109375 28.8125 \nL 18.109375 0 \nL 9.078125 0 \nL 9.078125 54.6875 \nL 18.109375 54.6875 \nL 18.109375 46.1875 \nQ 20.953125 51.171875 25.484375 53.578125 \nQ 30.03125 56 36.53125 56 \nQ 37.453125 56 38.578125 55.875 \nQ 39.703125 55.765625 41.0625 55.515625 \nz\n\" id=\"DejaVuSans-114\"/>\n       </defs>\n       <use xlink:href=\"#DejaVuSans-84\"/>\n       <use x=\"44.083984\" xlink:href=\"#DejaVuSans-101\"/>\n       <use x=\"105.607422\" xlink:href=\"#DejaVuSans-115\"/>\n       <use x=\"157.707031\" xlink:href=\"#DejaVuSans-116\"/>\n       <use x=\"196.916016\" xlink:href=\"#DejaVuSans-32\"/>\n       <use x=\"228.703125\" xlink:href=\"#DejaVuSans-83\"/>\n       <use x=\"292.179688\" xlink:href=\"#DejaVuSans-99\"/>\n       <use x=\"347.160156\" xlink:href=\"#DejaVuSans-111\"/>\n       <use x=\"408.341797\" xlink:href=\"#DejaVuSans-114\"/>\n       <use x=\"447.205078\" xlink:href=\"#DejaVuSans-101\"/>\n      </g>\n     </g>\n    </g>\n    <g id=\"xtick_2\">\n     <g id=\"text_2\">\n      <!-- Validation Score -->\n      <g style=\"fill:#262626;\" transform=\"translate(214.477167 246.677361)scale(0.132 -0.132)\">\n       <defs>\n        <path d=\"M 28.609375 0 \nL 0.78125 72.90625 \nL 11.078125 72.90625 \nL 34.1875 11.53125 \nL 57.328125 72.90625 \nL 67.578125 72.90625 \nL 39.796875 0 \nz\n\" id=\"DejaVuSans-86\"/>\n        <path d=\"M 34.28125 27.484375 \nQ 23.390625 27.484375 19.1875 25 \nQ 14.984375 22.515625 14.984375 16.5 \nQ 14.984375 11.71875 18.140625 8.90625 \nQ 21.296875 6.109375 26.703125 6.109375 \nQ 34.1875 6.109375 38.703125 11.40625 \nQ 43.21875 16.703125 43.21875 25.484375 \nL 43.21875 27.484375 \nz\nM 52.203125 31.203125 \nL 52.203125 0 \nL 43.21875 0 \nL 43.21875 8.296875 \nQ 40.140625 3.328125 35.546875 0.953125 \nQ 30.953125 -1.421875 24.3125 -1.421875 \nQ 15.921875 -1.421875 10.953125 3.296875 \nQ 6 8.015625 6 15.921875 \nQ 6 25.140625 12.171875 29.828125 \nQ 18.359375 34.515625 30.609375 34.515625 \nL 43.21875 34.515625 \nL 43.21875 35.40625 \nQ 43.21875 41.609375 39.140625 45 \nQ 35.0625 48.390625 27.6875 48.390625 \nQ 23 48.390625 18.546875 47.265625 \nQ 14.109375 46.140625 10.015625 43.890625 \nL 10.015625 52.203125 \nQ 14.9375 54.109375 19.578125 55.046875 \nQ 24.21875 56 28.609375 56 \nQ 40.484375 56 46.34375 49.84375 \nQ 52.203125 43.703125 52.203125 31.203125 \nz\n\" id=\"DejaVuSans-97\"/>\n        <path d=\"M 9.421875 75.984375 \nL 18.40625 75.984375 \nL 18.40625 0 \nL 9.421875 0 \nz\n\" id=\"DejaVuSans-108\"/>\n        <path d=\"M 9.421875 54.6875 \nL 18.40625 54.6875 \nL 18.40625 0 \nL 9.421875 0 \nz\nM 9.421875 75.984375 \nL 18.40625 75.984375 \nL 18.40625 64.59375 \nL 9.421875 64.59375 \nz\n\" id=\"DejaVuSans-105\"/>\n        <path d=\"M 45.40625 46.390625 \nL 45.40625 75.984375 \nL 54.390625 75.984375 \nL 54.390625 0 \nL 45.40625 0 \nL 45.40625 8.203125 \nQ 42.578125 3.328125 38.25 0.953125 \nQ 33.9375 -1.421875 27.875 -1.421875 \nQ 17.96875 -1.421875 11.734375 6.484375 \nQ 5.515625 14.40625 5.515625 27.296875 \nQ 5.515625 40.1875 11.734375 48.09375 \nQ 17.96875 56 27.875 56 \nQ 33.9375 56 38.25 53.625 \nQ 42.578125 51.265625 45.40625 46.390625 \nz\nM 14.796875 27.296875 \nQ 14.796875 17.390625 18.875 11.75 \nQ 22.953125 6.109375 30.078125 6.109375 \nQ 37.203125 6.109375 41.296875 11.75 \nQ 45.40625 17.390625 45.40625 27.296875 \nQ 45.40625 37.203125 41.296875 42.84375 \nQ 37.203125 48.484375 30.078125 48.484375 \nQ 22.953125 48.484375 18.875 42.84375 \nQ 14.796875 37.203125 14.796875 27.296875 \nz\n\" id=\"DejaVuSans-100\"/>\n        <path d=\"M 54.890625 33.015625 \nL 54.890625 0 \nL 45.90625 0 \nL 45.90625 32.71875 \nQ 45.90625 40.484375 42.875 44.328125 \nQ 39.84375 48.1875 33.796875 48.1875 \nQ 26.515625 48.1875 22.3125 43.546875 \nQ 18.109375 38.921875 18.109375 30.90625 \nL 18.109375 0 \nL 9.078125 0 \nL 9.078125 54.6875 \nL 18.109375 54.6875 \nL 18.109375 46.1875 \nQ 21.34375 51.125 25.703125 53.5625 \nQ 30.078125 56 35.796875 56 \nQ 45.21875 56 50.046875 50.171875 \nQ 54.890625 44.34375 54.890625 33.015625 \nz\n\" id=\"DejaVuSans-110\"/>\n       </defs>\n       <use xlink:href=\"#DejaVuSans-86\"/>\n       <use x=\"60.658203\" xlink:href=\"#DejaVuSans-97\"/>\n       <use x=\"121.9375\" xlink:href=\"#DejaVuSans-108\"/>\n       <use x=\"149.720703\" xlink:href=\"#DejaVuSans-105\"/>\n       <use x=\"177.503906\" xlink:href=\"#DejaVuSans-100\"/>\n       <use x=\"240.980469\" xlink:href=\"#DejaVuSans-97\"/>\n       <use x=\"302.259766\" xlink:href=\"#DejaVuSans-116\"/>\n       <use x=\"341.46875\" xlink:href=\"#DejaVuSans-105\"/>\n       <use x=\"369.251953\" xlink:href=\"#DejaVuSans-111\"/>\n       <use x=\"430.433594\" xlink:href=\"#DejaVuSans-110\"/>\n       <use x=\"493.8125\" xlink:href=\"#DejaVuSans-32\"/>\n       <use x=\"525.599609\" xlink:href=\"#DejaVuSans-83\"/>\n       <use x=\"589.076172\" xlink:href=\"#DejaVuSans-99\"/>\n       <use x=\"644.056641\" xlink:href=\"#DejaVuSans-111\"/>\n       <use x=\"705.238281\" xlink:href=\"#DejaVuSans-114\"/>\n       <use x=\"744.101562\" xlink:href=\"#DejaVuSans-101\"/>\n      </g>\n     </g>\n    </g>\n   </g>\n   <g id=\"matplotlib.axis_2\">\n    <g id=\"ytick_1\">\n     <g id=\"line2d_1\">\n      <path clip-path=\"url(#p97b82a8aa4)\" d=\"M 46.090625 176.105646 \nL 341.50239 176.105646 \n\" style=\"fill:none;stroke:#ffffff;stroke-linecap:round;\"/>\n     </g>\n     <g id=\"text_3\">\n      <!-- 0.55 -->\n      <g style=\"fill:#262626;\" transform=\"translate(7.2 181.120615)scale(0.132 -0.132)\">\n       <defs>\n        <path d=\"M 31.78125 66.40625 \nQ 24.171875 66.40625 20.328125 58.90625 \nQ 16.5 51.421875 16.5 36.375 \nQ 16.5 21.390625 20.328125 13.890625 \nQ 24.171875 6.390625 31.78125 6.390625 \nQ 39.453125 6.390625 43.28125 13.890625 \nQ 47.125 21.390625 47.125 36.375 \nQ 47.125 51.421875 43.28125 58.90625 \nQ 39.453125 66.40625 31.78125 66.40625 \nz\nM 31.78125 74.21875 \nQ 44.046875 74.21875 50.515625 64.515625 \nQ 56.984375 54.828125 56.984375 36.375 \nQ 56.984375 17.96875 50.515625 8.265625 \nQ 44.046875 -1.421875 31.78125 -1.421875 \nQ 19.53125 -1.421875 13.0625 8.265625 \nQ 6.59375 17.96875 6.59375 36.375 \nQ 6.59375 54.828125 13.0625 64.515625 \nQ 19.53125 74.21875 31.78125 74.21875 \nz\n\" id=\"DejaVuSans-48\"/>\n        <path d=\"M 10.6875 12.40625 \nL 21 12.40625 \nL 21 0 \nL 10.6875 0 \nz\n\" id=\"DejaVuSans-46\"/>\n        <path d=\"M 10.796875 72.90625 \nL 49.515625 72.90625 \nL 49.515625 64.59375 \nL 19.828125 64.59375 \nL 19.828125 46.734375 \nQ 21.96875 47.46875 24.109375 47.828125 \nQ 26.265625 48.1875 28.421875 48.1875 \nQ 40.625 48.1875 47.75 41.5 \nQ 54.890625 34.8125 54.890625 23.390625 \nQ 54.890625 11.625 47.5625 5.09375 \nQ 40.234375 -1.421875 26.90625 -1.421875 \nQ 22.3125 -1.421875 17.546875 -0.640625 \nQ 12.796875 0.140625 7.71875 1.703125 \nL 7.71875 11.625 \nQ 12.109375 9.234375 16.796875 8.0625 \nQ 21.484375 6.890625 26.703125 6.890625 \nQ 35.15625 6.890625 40.078125 11.328125 \nQ 45.015625 15.765625 45.015625 23.390625 \nQ 45.015625 31 40.078125 35.4375 \nQ 35.15625 39.890625 26.703125 39.890625 \nQ 22.75 39.890625 18.8125 39.015625 \nQ 14.890625 38.140625 10.796875 36.28125 \nz\n\" id=\"DejaVuSans-53\"/>\n       </defs>\n       <use xlink:href=\"#DejaVuSans-48\"/>\n       <use x=\"63.623047\" xlink:href=\"#DejaVuSans-46\"/>\n       <use x=\"95.410156\" xlink:href=\"#DejaVuSans-53\"/>\n       <use x=\"159.033203\" xlink:href=\"#DejaVuSans-53\"/>\n      </g>\n     </g>\n    </g>\n    <g id=\"ytick_2\">\n     <g id=\"line2d_2\">\n      <path clip-path=\"url(#p97b82a8aa4)\" d=\"M 46.090625 124.394136 \nL 341.50239 124.394136 \n\" style=\"fill:none;stroke:#ffffff;stroke-linecap:round;\"/>\n     </g>\n     <g id=\"text_4\">\n      <!-- 0.60 -->\n      <g style=\"fill:#262626;\" transform=\"translate(7.2 129.409105)scale(0.132 -0.132)\">\n       <defs>\n        <path d=\"M 33.015625 40.375 \nQ 26.375 40.375 22.484375 35.828125 \nQ 18.609375 31.296875 18.609375 23.390625 \nQ 18.609375 15.53125 22.484375 10.953125 \nQ 26.375 6.390625 33.015625 6.390625 \nQ 39.65625 6.390625 43.53125 10.953125 \nQ 47.40625 15.53125 47.40625 23.390625 \nQ 47.40625 31.296875 43.53125 35.828125 \nQ 39.65625 40.375 33.015625 40.375 \nz\nM 52.59375 71.296875 \nL 52.59375 62.3125 \nQ 48.875 64.0625 45.09375 64.984375 \nQ 41.3125 65.921875 37.59375 65.921875 \nQ 27.828125 65.921875 22.671875 59.328125 \nQ 17.53125 52.734375 16.796875 39.40625 \nQ 19.671875 43.65625 24.015625 45.921875 \nQ 28.375 48.1875 33.59375 48.1875 \nQ 44.578125 48.1875 50.953125 41.515625 \nQ 57.328125 34.859375 57.328125 23.390625 \nQ 57.328125 12.15625 50.6875 5.359375 \nQ 44.046875 -1.421875 33.015625 -1.421875 \nQ 20.359375 -1.421875 13.671875 8.265625 \nQ 6.984375 17.96875 6.984375 36.375 \nQ 6.984375 53.65625 15.1875 63.9375 \nQ 23.390625 74.21875 37.203125 74.21875 \nQ 40.921875 74.21875 44.703125 73.484375 \nQ 48.484375 72.75 52.59375 71.296875 \nz\n\" id=\"DejaVuSans-54\"/>\n       </defs>\n       <use xlink:href=\"#DejaVuSans-48\"/>\n       <use x=\"63.623047\" xlink:href=\"#DejaVuSans-46\"/>\n       <use x=\"95.410156\" xlink:href=\"#DejaVuSans-54\"/>\n       <use x=\"159.033203\" xlink:href=\"#DejaVuSans-48\"/>\n      </g>\n     </g>\n    </g>\n    <g id=\"ytick_3\">\n     <g id=\"line2d_3\">\n      <path clip-path=\"url(#p97b82a8aa4)\" d=\"M 46.090625 72.682626 \nL 341.50239 72.682626 \n\" style=\"fill:none;stroke:#ffffff;stroke-linecap:round;\"/>\n     </g>\n     <g id=\"text_5\">\n      <!-- 0.65 -->\n      <g style=\"fill:#262626;\" transform=\"translate(7.2 77.697595)scale(0.132 -0.132)\">\n       <use xlink:href=\"#DejaVuSans-48\"/>\n       <use x=\"63.623047\" xlink:href=\"#DejaVuSans-46\"/>\n       <use x=\"95.410156\" xlink:href=\"#DejaVuSans-54\"/>\n       <use x=\"159.033203\" xlink:href=\"#DejaVuSans-53\"/>\n      </g>\n     </g>\n    </g>\n    <g id=\"ytick_4\">\n     <g id=\"line2d_4\">\n      <path clip-path=\"url(#p97b82a8aa4)\" d=\"M 46.090625 20.971116 \nL 341.50239 20.971116 \n\" style=\"fill:none;stroke:#ffffff;stroke-linecap:round;\"/>\n     </g>\n     <g id=\"text_6\">\n      <!-- 0.70 -->\n      <g style=\"fill:#262626;\" transform=\"translate(7.2 25.986085)scale(0.132 -0.132)\">\n       <defs>\n        <path d=\"M 8.203125 72.90625 \nL 55.078125 72.90625 \nL 55.078125 68.703125 \nL 28.609375 0 \nL 18.3125 0 \nL 43.21875 64.59375 \nL 8.203125 64.59375 \nz\n\" id=\"DejaVuSans-55\"/>\n       </defs>\n       <use xlink:href=\"#DejaVuSans-48\"/>\n       <use x=\"63.623047\" xlink:href=\"#DejaVuSans-46\"/>\n       <use x=\"95.410156\" xlink:href=\"#DejaVuSans-55\"/>\n       <use x=\"159.033203\" xlink:href=\"#DejaVuSans-48\"/>\n      </g>\n     </g>\n    </g>\n   </g>\n   <g id=\"patch_3\">\n    <path clip-path=\"url(#p97b82a8aa4)\" d=\"M 60.861213 23.345624 \nL 179.025919 23.345624 \nL 179.025919 20.605807 \nL 60.861213 20.605807 \nL 60.861213 23.345624 \nz\n\" style=\"fill:#5875a4;stroke:#4c4c4c;stroke-linejoin:miter;stroke-width:1.5;\"/>\n   </g>\n   <g id=\"patch_4\">\n    <path clip-path=\"url(#p97b82a8aa4)\" d=\"M 208.567096 185.603679 \nL 326.731801 185.603679 \nL 326.731801 146.028543 \nL 208.567096 146.028543 \nL 208.567096 185.603679 \nz\n\" style=\"fill:#cc8963;stroke:#4c4c4c;stroke-linejoin:miter;stroke-width:1.5;\"/>\n   </g>\n   <g id=\"line2d_5\">\n    <path clip-path=\"url(#p97b82a8aa4)\" d=\"M 119.943566 23.345624 \nL 119.943566 26.49134 \n\" style=\"fill:none;stroke:#4c4c4c;stroke-linecap:round;stroke-width:1.5;\"/>\n   </g>\n   <g id=\"line2d_6\">\n    <path clip-path=\"url(#p97b82a8aa4)\" d=\"M 119.943566 20.605807 \nL 119.943566 19.59106 \n\" style=\"fill:none;stroke:#4c4c4c;stroke-linecap:round;stroke-width:1.5;\"/>\n   </g>\n   <g id=\"line2d_7\">\n    <path clip-path=\"url(#p97b82a8aa4)\" d=\"M 90.40239 26.49134 \nL 149.484743 26.49134 \n\" style=\"fill:none;stroke:#4c4c4c;stroke-linecap:round;stroke-width:1.5;\"/>\n   </g>\n   <g id=\"line2d_8\">\n    <path clip-path=\"url(#p97b82a8aa4)\" d=\"M 90.40239 19.59106 \nL 149.484743 19.59106 \n\" style=\"fill:none;stroke:#4c4c4c;stroke-linecap:round;stroke-width:1.5;\"/>\n   </g>\n   <g id=\"line2d_9\"/>\n   <g id=\"line2d_10\">\n    <path clip-path=\"url(#p97b82a8aa4)\" d=\"M 267.649449 185.603679 \nL 267.649449 217.263787 \n\" style=\"fill:none;stroke:#4c4c4c;stroke-linecap:round;stroke-width:1.5;\"/>\n   </g>\n   <g id=\"line2d_11\">\n    <path clip-path=\"url(#p97b82a8aa4)\" d=\"M 267.649449 146.028543 \nL 267.649449 111.730093 \n\" style=\"fill:none;stroke:#4c4c4c;stroke-linecap:round;stroke-width:1.5;\"/>\n   </g>\n   <g id=\"line2d_12\">\n    <path clip-path=\"url(#p97b82a8aa4)\" d=\"M 238.108272 217.263787 \nL 297.190625 217.263787 \n\" style=\"fill:none;stroke:#4c4c4c;stroke-linecap:round;stroke-width:1.5;\"/>\n   </g>\n   <g id=\"line2d_13\">\n    <path clip-path=\"url(#p97b82a8aa4)\" d=\"M 238.108272 111.730093 \nL 297.190625 111.730093 \n\" style=\"fill:none;stroke:#4c4c4c;stroke-linecap:round;stroke-width:1.5;\"/>\n   </g>\n   <g id=\"line2d_14\"/>\n   <g id=\"line2d_15\">\n    <path clip-path=\"url(#p97b82a8aa4)\" d=\"M 60.861213 21.417605 \nL 179.025919 21.417605 \n\" style=\"fill:none;stroke:#4c4c4c;stroke-linecap:round;stroke-width:1.5;\"/>\n   </g>\n   <g id=\"line2d_16\">\n    <path clip-path=\"url(#p97b82a8aa4)\" d=\"M 208.567096 169.773625 \nL 326.731801 169.773625 \n\" style=\"fill:none;stroke:#4c4c4c;stroke-linecap:round;stroke-width:1.5;\"/>\n   </g>\n   <g id=\"patch_5\">\n    <path d=\"M 46.090625 227.147423 \nL 46.090625 9.707423 \n\" style=\"fill:none;stroke:#ffffff;stroke-linecap:square;stroke-linejoin:miter;stroke-width:1.25;\"/>\n   </g>\n   <g id=\"patch_6\">\n    <path d=\"M 341.50239 227.147423 \nL 341.50239 9.707423 \n\" style=\"fill:none;stroke:#ffffff;stroke-linecap:square;stroke-linejoin:miter;stroke-width:1.25;\"/>\n   </g>\n   <g id=\"patch_7\">\n    <path d=\"M 46.090625 227.147423 \nL 341.50239 227.147423 \n\" style=\"fill:none;stroke:#ffffff;stroke-linecap:square;stroke-linejoin:miter;stroke-width:1.25;\"/>\n   </g>\n   <g id=\"patch_8\">\n    <path d=\"M 46.090625 9.707423 \nL 341.50239 9.707423 \n\" style=\"fill:none;stroke:#ffffff;stroke-linecap:square;stroke-linejoin:miter;stroke-width:1.25;\"/>\n   </g>\n  </g>\n  <g id=\"axes_2\">\n   <g id=\"patch_9\">\n    <path d=\"M 400.584743 227.147423 \nL 636.914154 227.147423 \nL 636.914154 9.707423 \nL 400.584743 9.707423 \nz\n\" style=\"fill:#eaeaf2;\"/>\n   </g>\n   <g id=\"matplotlib.axis_3\">\n    <g id=\"xtick_3\">\n     <g id=\"text_7\">\n      <!-- CV -->\n      <g style=\"fill:#262626;\" transform=\"translate(430.849509 246.677361)scale(0.132 -0.132)\">\n       <defs>\n        <path d=\"M 64.40625 67.28125 \nL 64.40625 56.890625 \nQ 59.421875 61.53125 53.78125 63.8125 \nQ 48.140625 66.109375 41.796875 66.109375 \nQ 29.296875 66.109375 22.65625 58.46875 \nQ 16.015625 50.828125 16.015625 36.375 \nQ 16.015625 21.96875 22.65625 14.328125 \nQ 29.296875 6.6875 41.796875 6.6875 \nQ 48.140625 6.6875 53.78125 8.984375 \nQ 59.421875 11.28125 64.40625 15.921875 \nL 64.40625 5.609375 \nQ 59.234375 2.09375 53.4375 0.328125 \nQ 47.65625 -1.421875 41.21875 -1.421875 \nQ 24.65625 -1.421875 15.125 8.703125 \nQ 5.609375 18.84375 5.609375 36.375 \nQ 5.609375 53.953125 15.125 64.078125 \nQ 24.65625 74.21875 41.21875 74.21875 \nQ 47.75 74.21875 53.53125 72.484375 \nQ 59.328125 70.75 64.40625 67.28125 \nz\n\" id=\"DejaVuSans-67\"/>\n       </defs>\n       <use xlink:href=\"#DejaVuSans-67\"/>\n       <use x=\"69.824219\" xlink:href=\"#DejaVuSans-86\"/>\n      </g>\n     </g>\n    </g>\n    <g id=\"xtick_4\">\n     <g id=\"text_8\">\n      <!-- PL -->\n      <g style=\"fill:#262626;\" transform=\"translate(511.092417 246.677361)scale(0.132 -0.132)\">\n       <defs>\n        <path d=\"M 19.671875 64.796875 \nL 19.671875 37.40625 \nL 32.078125 37.40625 \nQ 38.96875 37.40625 42.71875 40.96875 \nQ 46.484375 44.53125 46.484375 51.125 \nQ 46.484375 57.671875 42.71875 61.234375 \nQ 38.96875 64.796875 32.078125 64.796875 \nz\nM 9.8125 72.90625 \nL 32.078125 72.90625 \nQ 44.34375 72.90625 50.609375 67.359375 \nQ 56.890625 61.8125 56.890625 51.125 \nQ 56.890625 40.328125 50.609375 34.8125 \nQ 44.34375 29.296875 32.078125 29.296875 \nL 19.671875 29.296875 \nL 19.671875 0 \nL 9.8125 0 \nz\n\" id=\"DejaVuSans-80\"/>\n        <path d=\"M 9.8125 72.90625 \nL 19.671875 72.90625 \nL 19.671875 8.296875 \nL 55.171875 8.296875 \nL 55.171875 0 \nL 9.8125 0 \nz\n\" id=\"DejaVuSans-76\"/>\n       </defs>\n       <use xlink:href=\"#DejaVuSans-80\"/>\n       <use x=\"60.302734\" xlink:href=\"#DejaVuSans-76\"/>\n      </g>\n     </g>\n    </g>\n   </g>\n   <g id=\"matplotlib.axis_4\">\n    <g id=\"ytick_5\">\n     <g id=\"text_9\">\n      <!-- CV -->\n      <g style=\"fill:#262626;\" transform=\"translate(388.339555 55.070892)rotate(-90)scale(0.132 -0.132)\">\n       <use xlink:href=\"#DejaVuSans-67\"/>\n       <use x=\"69.824219\" xlink:href=\"#DejaVuSans-86\"/>\n      </g>\n     </g>\n    </g>\n    <g id=\"ytick_6\">\n     <g id=\"text_10\">\n      <!-- PL -->\n      <g style=\"fill:#262626;\" transform=\"translate(388.339555 126.084455)rotate(-90)scale(0.132 -0.132)\">\n       <use xlink:href=\"#DejaVuSans-80\"/>\n       <use x=\"60.302734\" xlink:href=\"#DejaVuSans-76\"/>\n      </g>\n     </g>\n    </g>\n   </g>\n   <g id=\"QuadMesh_1\">\n    <path clip-path=\"url(#p3385338827)\" d=\"M 400.584743 9.707423 \nL 479.361213 9.707423 \nL 479.361213 82.187423 \nL 400.584743 82.187423 \nL 400.584743 9.707423 \n\" style=\"fill:#faebdd;\"/>\n    <path clip-path=\"url(#p3385338827)\" d=\"M 479.361213 9.707423 \nL 558.137684 9.707423 \nL 558.137684 82.187423 \nL 479.361213 82.187423 \nL 479.361213 9.707423 \n\" style=\"fill:#03051a;\"/>\n    <path clip-path=\"url(#p3385338827)\" d=\"M 558.137684 9.707423 \nL 636.914154 9.707423 \nL 636.914154 82.187423 \nL 558.137684 82.187423 \nL 558.137684 9.707423 \n\" style=\"fill:#8b1d5b;\"/>\n    <path clip-path=\"url(#p3385338827)\" d=\"M 400.584743 82.187423 \nL 479.361213 82.187423 \nL 479.361213 154.667423 \nL 400.584743 154.667423 \nL 400.584743 82.187423 \n\" style=\"fill:#03051a;\"/>\n    <path clip-path=\"url(#p3385338827)\" d=\"M 479.361213 82.187423 \nL 558.137684 82.187423 \nL 558.137684 154.667423 \nL 479.361213 154.667423 \nL 479.361213 82.187423 \n\" style=\"fill:#03051a;\"/>\n    <path clip-path=\"url(#p3385338827)\" d=\"M 558.137684 82.187423 \nL 636.914154 82.187423 \nL 636.914154 154.667423 \nL 558.137684 154.667423 \nL 558.137684 82.187423 \n\" style=\"fill:#03051a;\"/>\n    <path clip-path=\"url(#p3385338827)\" d=\"M 400.584743 154.667423 \nL 479.361213 154.667423 \nL 479.361213 227.147423 \nL 400.584743 227.147423 \nL 400.584743 154.667423 \n\" style=\"fill:#6d1f56;\"/>\n    <path clip-path=\"url(#p3385338827)\" d=\"M 479.361213 154.667423 \nL 558.137684 154.667423 \nL 558.137684 227.147423 \nL 479.361213 227.147423 \nL 479.361213 154.667423 \n\" style=\"fill:#03051a;\"/>\n    <path clip-path=\"url(#p3385338827)\" d=\"M 558.137684 154.667423 \nL 636.914154 154.667423 \nL 636.914154 227.147423 \nL 558.137684 227.147423 \nL 558.137684 154.667423 \n\" style=\"fill:#bf1654;\"/>\n   </g>\n   <g id=\"text_11\">\n    <!-- 1214 -->\n    <g style=\"fill:#262626;\" transform=\"translate(421.648978 49.920923)scale(0.144 -0.144)\">\n     <defs>\n      <path d=\"M 12.40625 8.296875 \nL 28.515625 8.296875 \nL 28.515625 63.921875 \nL 10.984375 60.40625 \nL 10.984375 69.390625 \nL 28.421875 72.90625 \nL 38.28125 72.90625 \nL 38.28125 8.296875 \nL 54.390625 8.296875 \nL 54.390625 0 \nL 12.40625 0 \nz\n\" id=\"DejaVuSans-49\"/>\n      <path d=\"M 19.1875 8.296875 \nL 53.609375 8.296875 \nL 53.609375 0 \nL 7.328125 0 \nL 7.328125 8.296875 \nQ 12.9375 14.109375 22.625 23.890625 \nQ 32.328125 33.6875 34.8125 36.53125 \nQ 39.546875 41.84375 41.421875 45.53125 \nQ 43.3125 49.21875 43.3125 52.78125 \nQ 43.3125 58.59375 39.234375 62.25 \nQ 35.15625 65.921875 28.609375 65.921875 \nQ 23.96875 65.921875 18.8125 64.3125 \nQ 13.671875 62.703125 7.8125 59.421875 \nL 7.8125 69.390625 \nQ 13.765625 71.78125 18.9375 73 \nQ 24.125 74.21875 28.421875 74.21875 \nQ 39.75 74.21875 46.484375 68.546875 \nQ 53.21875 62.890625 53.21875 53.421875 \nQ 53.21875 48.921875 51.53125 44.890625 \nQ 49.859375 40.875 45.40625 35.40625 \nQ 44.1875 33.984375 37.640625 27.21875 \nQ 31.109375 20.453125 19.1875 8.296875 \nz\n\" id=\"DejaVuSans-50\"/>\n      <path d=\"M 37.796875 64.3125 \nL 12.890625 25.390625 \nL 37.796875 25.390625 \nz\nM 35.203125 72.90625 \nL 47.609375 72.90625 \nL 47.609375 25.390625 \nL 58.015625 25.390625 \nL 58.015625 17.1875 \nL 47.609375 17.1875 \nL 47.609375 0 \nL 37.796875 0 \nL 37.796875 17.1875 \nL 4.890625 17.1875 \nL 4.890625 26.703125 \nz\n\" id=\"DejaVuSans-52\"/>\n     </defs>\n     <use xlink:href=\"#DejaVuSans-49\"/>\n     <use x=\"63.623047\" xlink:href=\"#DejaVuSans-50\"/>\n     <use x=\"127.246094\" xlink:href=\"#DejaVuSans-49\"/>\n     <use x=\"190.869141\" xlink:href=\"#DejaVuSans-52\"/>\n    </g>\n   </g>\n   <g id=\"text_12\">\n    <!-- 0 -->\n    <g style=\"fill:#ffffff;\" transform=\"translate(514.168449 49.920923)scale(0.144 -0.144)\">\n     <use xlink:href=\"#DejaVuSans-48\"/>\n    </g>\n   </g>\n   <g id=\"text_13\">\n    <!-- 423 -->\n    <g style=\"fill:#ffffff;\" transform=\"translate(583.782919 49.920923)scale(0.144 -0.144)\">\n     <defs>\n      <path d=\"M 40.578125 39.3125 \nQ 47.65625 37.796875 51.625 33 \nQ 55.609375 28.21875 55.609375 21.1875 \nQ 55.609375 10.40625 48.1875 4.484375 \nQ 40.765625 -1.421875 27.09375 -1.421875 \nQ 22.515625 -1.421875 17.65625 -0.515625 \nQ 12.796875 0.390625 7.625 2.203125 \nL 7.625 11.71875 \nQ 11.71875 9.328125 16.59375 8.109375 \nQ 21.484375 6.890625 26.8125 6.890625 \nQ 36.078125 6.890625 40.9375 10.546875 \nQ 45.796875 14.203125 45.796875 21.1875 \nQ 45.796875 27.640625 41.28125 31.265625 \nQ 36.765625 34.90625 28.71875 34.90625 \nL 20.21875 34.90625 \nL 20.21875 43.015625 \nL 29.109375 43.015625 \nQ 36.375 43.015625 40.234375 45.921875 \nQ 44.09375 48.828125 44.09375 54.296875 \nQ 44.09375 59.90625 40.109375 62.90625 \nQ 36.140625 65.921875 28.71875 65.921875 \nQ 24.65625 65.921875 20.015625 65.03125 \nQ 15.375 64.15625 9.8125 62.3125 \nL 9.8125 71.09375 \nQ 15.4375 72.65625 20.34375 73.4375 \nQ 25.25 74.21875 29.59375 74.21875 \nQ 40.828125 74.21875 47.359375 69.109375 \nQ 53.90625 64.015625 53.90625 55.328125 \nQ 53.90625 49.265625 50.4375 45.09375 \nQ 46.96875 40.921875 40.578125 39.3125 \nz\n\" id=\"DejaVuSans-51\"/>\n     </defs>\n     <use xlink:href=\"#DejaVuSans-52\"/>\n     <use x=\"63.623047\" xlink:href=\"#DejaVuSans-50\"/>\n     <use x=\"127.246094\" xlink:href=\"#DejaVuSans-51\"/>\n    </g>\n   </g>\n   <g id=\"text_14\">\n    <!-- 0 -->\n    <g style=\"fill:#ffffff;\" transform=\"translate(435.391978 122.400923)scale(0.144 -0.144)\">\n     <use xlink:href=\"#DejaVuSans-48\"/>\n    </g>\n   </g>\n   <g id=\"text_15\">\n    <!-- 0 -->\n    <g style=\"fill:#ffffff;\" transform=\"translate(514.168449 122.400923)scale(0.144 -0.144)\">\n     <use xlink:href=\"#DejaVuSans-48\"/>\n    </g>\n   </g>\n   <g id=\"text_16\">\n    <!-- 0 -->\n    <g style=\"fill:#ffffff;\" transform=\"translate(592.944919 122.400923)scale(0.144 -0.144)\">\n     <use xlink:href=\"#DejaVuSans-48\"/>\n    </g>\n   </g>\n   <g id=\"text_17\">\n    <!-- 337 -->\n    <g style=\"fill:#ffffff;\" transform=\"translate(426.229978 194.880923)scale(0.144 -0.144)\">\n     <use xlink:href=\"#DejaVuSans-51\"/>\n     <use x=\"63.623047\" xlink:href=\"#DejaVuSans-51\"/>\n     <use x=\"127.246094\" xlink:href=\"#DejaVuSans-55\"/>\n    </g>\n   </g>\n   <g id=\"text_18\">\n    <!-- 1 -->\n    <g style=\"fill:#ffffff;\" transform=\"translate(514.168449 194.880923)scale(0.144 -0.144)\">\n     <use xlink:href=\"#DejaVuSans-49\"/>\n    </g>\n   </g>\n   <g id=\"text_19\">\n    <!-- 573 -->\n    <g style=\"fill:#ffffff;\" transform=\"translate(583.782919 194.880923)scale(0.144 -0.144)\">\n     <use xlink:href=\"#DejaVuSans-53\"/>\n     <use x=\"63.623047\" xlink:href=\"#DejaVuSans-55\"/>\n     <use x=\"127.246094\" xlink:href=\"#DejaVuSans-51\"/>\n    </g>\n   </g>\n  </g>\n  <g id=\"axes_3\">\n   <g id=\"patch_10\">\n    <path d=\"M 755.07886 227.147423 \nL 991.408272 227.147423 \nL 991.408272 9.707423 \nL 755.07886 9.707423 \nz\n\" style=\"fill:#eaeaf2;\"/>\n   </g>\n   <g id=\"matplotlib.axis_5\">\n    <g id=\"xtick_5\">\n     <g id=\"text_20\">\n      <!-- CV -->\n      <g style=\"fill:#262626;\" transform=\"translate(785.343627 246.677361)scale(0.132 -0.132)\">\n       <use xlink:href=\"#DejaVuSans-67\"/>\n       <use x=\"69.824219\" xlink:href=\"#DejaVuSans-86\"/>\n      </g>\n     </g>\n    </g>\n    <g id=\"xtick_6\">\n     <g id=\"text_21\">\n      <!-- PL -->\n      <g style=\"fill:#262626;\" transform=\"translate(865.586535 246.677361)scale(0.132 -0.132)\">\n       <use xlink:href=\"#DejaVuSans-80\"/>\n       <use x=\"60.302734\" xlink:href=\"#DejaVuSans-76\"/>\n      </g>\n     </g>\n    </g>\n   </g>\n   <g id=\"matplotlib.axis_6\">\n    <g id=\"ytick_7\">\n     <g id=\"text_22\">\n      <!-- CV -->\n      <g style=\"fill:#262626;\" transform=\"translate(742.833673 55.070892)rotate(-90)scale(0.132 -0.132)\">\n       <use xlink:href=\"#DejaVuSans-67\"/>\n       <use x=\"69.824219\" xlink:href=\"#DejaVuSans-86\"/>\n      </g>\n     </g>\n    </g>\n    <g id=\"ytick_8\">\n     <g id=\"text_23\">\n      <!-- PL -->\n      <g style=\"fill:#262626;\" transform=\"translate(742.833673 126.084455)rotate(-90)scale(0.132 -0.132)\">\n       <use xlink:href=\"#DejaVuSans-80\"/>\n       <use x=\"60.302734\" xlink:href=\"#DejaVuSans-76\"/>\n      </g>\n     </g>\n    </g>\n   </g>\n   <g id=\"QuadMesh_2\">\n    <path clip-path=\"url(#pff32b84869)\" d=\"M 755.07886 9.707423 \nL 833.855331 9.707423 \nL 833.855331 82.187423 \nL 755.07886 82.187423 \nL 755.07886 9.707423 \n\" style=\"fill:#faebdd;\"/>\n    <path clip-path=\"url(#pff32b84869)\" d=\"M 833.855331 9.707423 \nL 912.631801 9.707423 \nL 912.631801 82.187423 \nL 833.855331 82.187423 \nL 833.855331 9.707423 \n\" style=\"fill:#03051a;\"/>\n    <path clip-path=\"url(#pff32b84869)\" d=\"M 912.631801 9.707423 \nL 991.408272 9.707423 \nL 991.408272 82.187423 \nL 912.631801 82.187423 \nL 912.631801 9.707423 \n\" style=\"fill:#ba1656;\"/>\n    <path clip-path=\"url(#pff32b84869)\" d=\"M 755.07886 82.187423 \nL 833.855331 82.187423 \nL 833.855331 154.667423 \nL 755.07886 154.667423 \nL 755.07886 82.187423 \n\" style=\"fill:#03051a;\"/>\n    <path clip-path=\"url(#pff32b84869)\" d=\"M 833.855331 82.187423 \nL 912.631801 82.187423 \nL 912.631801 154.667423 \nL 833.855331 154.667423 \nL 833.855331 82.187423 \n\" style=\"fill:#03051a;\"/>\n    <path clip-path=\"url(#pff32b84869)\" d=\"M 912.631801 82.187423 \nL 991.408272 82.187423 \nL 991.408272 154.667423 \nL 912.631801 154.667423 \nL 912.631801 82.187423 \n\" style=\"fill:#03051a;\"/>\n    <path clip-path=\"url(#pff32b84869)\" d=\"M 755.07886 154.667423 \nL 833.855331 154.667423 \nL 833.855331 227.147423 \nL 755.07886 227.147423 \nL 755.07886 154.667423 \n\" style=\"fill:#841e5a;\"/>\n    <path clip-path=\"url(#pff32b84869)\" d=\"M 833.855331 154.667423 \nL 912.631801 154.667423 \nL 912.631801 227.147423 \nL 833.855331 227.147423 \nL 833.855331 154.667423 \n\" style=\"fill:#03051a;\"/>\n    <path clip-path=\"url(#pff32b84869)\" d=\"M 912.631801 154.667423 \nL 991.408272 154.667423 \nL 991.408272 227.147423 \nL 912.631801 227.147423 \nL 912.631801 154.667423 \n\" style=\"fill:#c11754;\"/>\n   </g>\n   <g id=\"text_24\">\n    <!-- 280 -->\n    <g style=\"fill:#262626;\" transform=\"translate(780.724096 49.920923)scale(0.144 -0.144)\">\n     <defs>\n      <path d=\"M 31.78125 34.625 \nQ 24.75 34.625 20.71875 30.859375 \nQ 16.703125 27.09375 16.703125 20.515625 \nQ 16.703125 13.921875 20.71875 10.15625 \nQ 24.75 6.390625 31.78125 6.390625 \nQ 38.8125 6.390625 42.859375 10.171875 \nQ 46.921875 13.96875 46.921875 20.515625 \nQ 46.921875 27.09375 42.890625 30.859375 \nQ 38.875 34.625 31.78125 34.625 \nz\nM 21.921875 38.8125 \nQ 15.578125 40.375 12.03125 44.71875 \nQ 8.5 49.078125 8.5 55.328125 \nQ 8.5 64.0625 14.71875 69.140625 \nQ 20.953125 74.21875 31.78125 74.21875 \nQ 42.671875 74.21875 48.875 69.140625 \nQ 55.078125 64.0625 55.078125 55.328125 \nQ 55.078125 49.078125 51.53125 44.71875 \nQ 48 40.375 41.703125 38.8125 \nQ 48.828125 37.15625 52.796875 32.3125 \nQ 56.78125 27.484375 56.78125 20.515625 \nQ 56.78125 9.90625 50.3125 4.234375 \nQ 43.84375 -1.421875 31.78125 -1.421875 \nQ 19.734375 -1.421875 13.25 4.234375 \nQ 6.78125 9.90625 6.78125 20.515625 \nQ 6.78125 27.484375 10.78125 32.3125 \nQ 14.796875 37.15625 21.921875 38.8125 \nz\nM 18.3125 54.390625 \nQ 18.3125 48.734375 21.84375 45.5625 \nQ 25.390625 42.390625 31.78125 42.390625 \nQ 38.140625 42.390625 41.71875 45.5625 \nQ 45.3125 48.734375 45.3125 54.390625 \nQ 45.3125 60.0625 41.71875 63.234375 \nQ 38.140625 66.40625 31.78125 66.40625 \nQ 25.390625 66.40625 21.84375 63.234375 \nQ 18.3125 60.0625 18.3125 54.390625 \nz\n\" id=\"DejaVuSans-56\"/>\n     </defs>\n     <use xlink:href=\"#DejaVuSans-50\"/>\n     <use x=\"63.623047\" xlink:href=\"#DejaVuSans-56\"/>\n     <use x=\"127.246094\" xlink:href=\"#DejaVuSans-48\"/>\n    </g>\n   </g>\n   <g id=\"text_25\">\n    <!-- 1 -->\n    <g style=\"fill:#ffffff;\" transform=\"translate(868.662566 49.920923)scale(0.144 -0.144)\">\n     <use xlink:href=\"#DejaVuSans-49\"/>\n    </g>\n   </g>\n   <g id=\"text_26\">\n    <!-- 129 -->\n    <g style=\"fill:#ffffff;\" transform=\"translate(938.277037 49.920923)scale(0.144 -0.144)\">\n     <defs>\n      <path d=\"M 10.984375 1.515625 \nL 10.984375 10.5 \nQ 14.703125 8.734375 18.5 7.8125 \nQ 22.3125 6.890625 25.984375 6.890625 \nQ 35.75 6.890625 40.890625 13.453125 \nQ 46.046875 20.015625 46.78125 33.40625 \nQ 43.953125 29.203125 39.59375 26.953125 \nQ 35.25 24.703125 29.984375 24.703125 \nQ 19.046875 24.703125 12.671875 31.3125 \nQ 6.296875 37.9375 6.296875 49.421875 \nQ 6.296875 60.640625 12.9375 67.421875 \nQ 19.578125 74.21875 30.609375 74.21875 \nQ 43.265625 74.21875 49.921875 64.515625 \nQ 56.59375 54.828125 56.59375 36.375 \nQ 56.59375 19.140625 48.40625 8.859375 \nQ 40.234375 -1.421875 26.421875 -1.421875 \nQ 22.703125 -1.421875 18.890625 -0.6875 \nQ 15.09375 0.046875 10.984375 1.515625 \nz\nM 30.609375 32.421875 \nQ 37.25 32.421875 41.125 36.953125 \nQ 45.015625 41.5 45.015625 49.421875 \nQ 45.015625 57.28125 41.125 61.84375 \nQ 37.25 66.40625 30.609375 66.40625 \nQ 23.96875 66.40625 20.09375 61.84375 \nQ 16.21875 57.28125 16.21875 49.421875 \nQ 16.21875 41.5 20.09375 36.953125 \nQ 23.96875 32.421875 30.609375 32.421875 \nz\n\" id=\"DejaVuSans-57\"/>\n     </defs>\n     <use xlink:href=\"#DejaVuSans-49\"/>\n     <use x=\"63.623047\" xlink:href=\"#DejaVuSans-50\"/>\n     <use x=\"127.246094\" xlink:href=\"#DejaVuSans-57\"/>\n    </g>\n   </g>\n   <g id=\"text_27\">\n    <!-- 0 -->\n    <g style=\"fill:#ffffff;\" transform=\"translate(789.886096 122.400923)scale(0.144 -0.144)\">\n     <use xlink:href=\"#DejaVuSans-48\"/>\n    </g>\n   </g>\n   <g id=\"text_28\">\n    <!-- 0 -->\n    <g style=\"fill:#ffffff;\" transform=\"translate(868.662566 122.400923)scale(0.144 -0.144)\">\n     <use xlink:href=\"#DejaVuSans-48\"/>\n    </g>\n   </g>\n   <g id=\"text_29\">\n    <!-- 0 -->\n    <g style=\"fill:#ffffff;\" transform=\"translate(947.439037 122.400923)scale(0.144 -0.144)\">\n     <use xlink:href=\"#DejaVuSans-48\"/>\n    </g>\n   </g>\n   <g id=\"text_30\">\n    <!-- 94 -->\n    <g style=\"fill:#ffffff;\" transform=\"translate(785.305096 194.880923)scale(0.144 -0.144)\">\n     <use xlink:href=\"#DejaVuSans-57\"/>\n     <use x=\"63.623047\" xlink:href=\"#DejaVuSans-52\"/>\n    </g>\n   </g>\n   <g id=\"text_31\">\n    <!-- 1 -->\n    <g style=\"fill:#ffffff;\" transform=\"translate(868.662566 194.880923)scale(0.144 -0.144)\">\n     <use xlink:href=\"#DejaVuSans-49\"/>\n    </g>\n   </g>\n   <g id=\"text_32\">\n    <!-- 133 -->\n    <g style=\"fill:#ffffff;\" transform=\"translate(938.277037 194.880923)scale(0.144 -0.144)\">\n     <use xlink:href=\"#DejaVuSans-49\"/>\n     <use x=\"63.623047\" xlink:href=\"#DejaVuSans-51\"/>\n     <use x=\"127.246094\" xlink:href=\"#DejaVuSans-51\"/>\n    </g>\n   </g>\n  </g>\n  <g id=\"axes_4\">\n   <g id=\"patch_11\">\n    <path clip-path=\"url(#peb49a84343)\" d=\"M 651.684743 227.147423 \nL 651.684743 226.298048 \nL 651.684743 10.556798 \nL 651.684743 9.707423 \nL 662.556743 9.707423 \nL 662.556743 10.556798 \nL 662.556743 226.298048 \nL 662.556743 227.147423 \nz\n\" style=\"fill:#eaeaf2;stroke:#eaeaf2;stroke-linejoin:miter;stroke-width:0.01;\"/>\n   </g>\n   <g id=\"matplotlib.axis_7\"/>\n   <g id=\"matplotlib.axis_8\">\n    <g id=\"ytick_9\">\n     <g id=\"line2d_17\">\n      <defs>\n       <path d=\"M 0 0 \nL 6 0 \n\" id=\"mb078babf02\" style=\"stroke:#262626;stroke-width:1.25;\"/>\n      </defs>\n      <g>\n       <use style=\"fill:#262626;stroke:#262626;stroke-width:1.25;\" x=\"662.556743\" xlink:href=\"#mb078babf02\" y=\"227.147423\"/>\n      </g>\n     </g>\n     <g id=\"text_33\">\n      <!-- 0 -->\n      <g style=\"fill:#262626;\" transform=\"translate(672.056743 232.162392)scale(0.132 -0.132)\">\n       <use xlink:href=\"#DejaVuSans-48\"/>\n      </g>\n     </g>\n    </g>\n    <g id=\"ytick_10\">\n     <g id=\"line2d_18\">\n      <g>\n       <use style=\"fill:#262626;stroke:#262626;stroke-width:1.25;\" x=\"662.556743\" xlink:href=\"#mb078babf02\" y=\"191.325348\"/>\n      </g>\n     </g>\n     <g id=\"text_34\">\n      <!-- 200 -->\n      <g style=\"fill:#262626;\" transform=\"translate(672.056743 196.340316)scale(0.132 -0.132)\">\n       <use xlink:href=\"#DejaVuSans-50\"/>\n       <use x=\"63.623047\" xlink:href=\"#DejaVuSans-48\"/>\n       <use x=\"127.246094\" xlink:href=\"#DejaVuSans-48\"/>\n      </g>\n     </g>\n    </g>\n    <g id=\"ytick_11\">\n     <g id=\"line2d_19\">\n      <g>\n       <use style=\"fill:#262626;stroke:#262626;stroke-width:1.25;\" x=\"662.556743\" xlink:href=\"#mb078babf02\" y=\"155.503272\"/>\n      </g>\n     </g>\n     <g id=\"text_35\">\n      <!-- 400 -->\n      <g style=\"fill:#262626;\" transform=\"translate(672.056743 160.518241)scale(0.132 -0.132)\">\n       <use xlink:href=\"#DejaVuSans-52\"/>\n       <use x=\"63.623047\" xlink:href=\"#DejaVuSans-48\"/>\n       <use x=\"127.246094\" xlink:href=\"#DejaVuSans-48\"/>\n      </g>\n     </g>\n    </g>\n    <g id=\"ytick_12\">\n     <g id=\"line2d_20\">\n      <g>\n       <use style=\"fill:#262626;stroke:#262626;stroke-width:1.25;\" x=\"662.556743\" xlink:href=\"#mb078babf02\" y=\"119.681196\"/>\n      </g>\n     </g>\n     <g id=\"text_36\">\n      <!-- 600 -->\n      <g style=\"fill:#262626;\" transform=\"translate(672.056743 124.696165)scale(0.132 -0.132)\">\n       <use xlink:href=\"#DejaVuSans-54\"/>\n       <use x=\"63.623047\" xlink:href=\"#DejaVuSans-48\"/>\n       <use x=\"127.246094\" xlink:href=\"#DejaVuSans-48\"/>\n      </g>\n     </g>\n    </g>\n    <g id=\"ytick_13\">\n     <g id=\"line2d_21\">\n      <g>\n       <use style=\"fill:#262626;stroke:#262626;stroke-width:1.25;\" x=\"662.556743\" xlink:href=\"#mb078babf02\" y=\"83.85912\"/>\n      </g>\n     </g>\n     <g id=\"text_37\">\n      <!-- 800 -->\n      <g style=\"fill:#262626;\" transform=\"translate(672.056743 88.874089)scale(0.132 -0.132)\">\n       <use xlink:href=\"#DejaVuSans-56\"/>\n       <use x=\"63.623047\" xlink:href=\"#DejaVuSans-48\"/>\n       <use x=\"127.246094\" xlink:href=\"#DejaVuSans-48\"/>\n      </g>\n     </g>\n    </g>\n    <g id=\"ytick_14\">\n     <g id=\"line2d_22\">\n      <g>\n       <use style=\"fill:#262626;stroke:#262626;stroke-width:1.25;\" x=\"662.556743\" xlink:href=\"#mb078babf02\" y=\"48.037045\"/>\n      </g>\n     </g>\n     <g id=\"text_38\">\n      <!-- 1000 -->\n      <g style=\"fill:#262626;\" transform=\"translate(672.056743 53.052013)scale(0.132 -0.132)\">\n       <use xlink:href=\"#DejaVuSans-49\"/>\n       <use x=\"63.623047\" xlink:href=\"#DejaVuSans-48\"/>\n       <use x=\"127.246094\" xlink:href=\"#DejaVuSans-48\"/>\n       <use x=\"190.869141\" xlink:href=\"#DejaVuSans-48\"/>\n      </g>\n     </g>\n    </g>\n    <g id=\"ytick_15\">\n     <g id=\"line2d_23\">\n      <g>\n       <use style=\"fill:#262626;stroke:#262626;stroke-width:1.25;\" x=\"662.556743\" xlink:href=\"#mb078babf02\" y=\"12.214969\"/>\n      </g>\n     </g>\n     <g id=\"text_39\">\n      <!-- 1200 -->\n      <g style=\"fill:#262626;\" transform=\"translate(672.056743 17.229938)scale(0.132 -0.132)\">\n       <use xlink:href=\"#DejaVuSans-49\"/>\n       <use x=\"63.623047\" xlink:href=\"#DejaVuSans-50\"/>\n       <use x=\"127.246094\" xlink:href=\"#DejaVuSans-48\"/>\n       <use x=\"190.869141\" xlink:href=\"#DejaVuSans-48\"/>\n      </g>\n     </g>\n    </g>\n   </g>\n   <image height=\"218\" id=\"image574c26192a\" transform=\"scale(1 -1)translate(0 -218)\" width=\"11\" x=\"652\" xlink:href=\"data:image/png;base64,\niVBORw0KGgoAAAANSUhEUgAAAAsAAADaCAYAAABwzrisAAABVElEQVR4nO3Y0W1DMQxDUelZWaL7z9l0BZ8CBNSg71sgqCtaTtzn9fWuy2/6trKqpvu+fJ5+YspQ3JVSPksaJGWhQcpBGjHPqAwNGo1YRLeEn2xsGbfQqBXhtwavSzkbO2hg6u6/aPjBRvKkgA0aNykH94bYmNzKFRtLgnT+YIO264xGSnlJg3P9X8JtUHHsapPiIzSwQSneMZSPp5EM/720NZjbG/MGz0toNCnfC9ecmDJ6lmKYijXYTTZiQSJlKT4QuyQNmaA1eL5TNpagg0M4zxIahi5l44Gb3jgjDVAuCtKAstkwGiuUG5au2kgplyibDaGBDaaK6bVHfp5MPVS8A5281xGNjtEwz4ZOlM/9C4eOewc6eMKZomNlDa6g0UYj16AU01DO/U2/xnPOBtHIjXtJkD6dRp9XSHkNDVlfsXF306W5gzNlIxfR/wZ/qxw7KT87mCsnI6KdHgAAAABJRU5ErkJggg==\" y=\"-9\"/>\n   <g id=\"patch_12\">\n    <path d=\"M 651.684743 227.147423 \nL 651.684743 226.298048 \nL 651.684743 10.556798 \nL 651.684743 9.707423 \nL 662.556743 9.707423 \nL 662.556743 10.556798 \nL 662.556743 226.298048 \nL 662.556743 227.147423 \nz\n\" style=\"fill:none;\"/>\n   </g>\n  </g>\n  <g id=\"axes_5\">\n   <g id=\"patch_13\">\n    <path clip-path=\"url(#p7ca1fe49a0)\" d=\"M 1006.17886 227.147423 \nL 1006.17886 226.298048 \nL 1006.17886 10.556798 \nL 1006.17886 9.707423 \nL 1017.05086 9.707423 \nL 1017.05086 10.556798 \nL 1017.05086 226.298048 \nL 1017.05086 227.147423 \nz\n\" style=\"fill:#eaeaf2;stroke:#eaeaf2;stroke-linejoin:miter;stroke-width:0.01;\"/>\n   </g>\n   <g id=\"matplotlib.axis_9\"/>\n   <g id=\"matplotlib.axis_10\">\n    <g id=\"ytick_16\">\n     <g id=\"line2d_24\">\n      <g>\n       <use style=\"fill:#262626;stroke:#262626;stroke-width:1.25;\" x=\"1017.05086\" xlink:href=\"#mb078babf02\" y=\"227.147423\"/>\n      </g>\n     </g>\n     <g id=\"text_40\">\n      <!-- 0 -->\n      <g style=\"fill:#262626;\" transform=\"translate(1026.55086 232.162392)scale(0.132 -0.132)\">\n       <use xlink:href=\"#DejaVuSans-48\"/>\n      </g>\n     </g>\n    </g>\n    <g id=\"ytick_17\">\n     <g id=\"line2d_25\">\n      <g>\n       <use style=\"fill:#262626;stroke:#262626;stroke-width:1.25;\" x=\"1017.05086\" xlink:href=\"#mb078babf02\" y=\"188.318852\"/>\n      </g>\n     </g>\n     <g id=\"text_41\">\n      <!-- 50 -->\n      <g style=\"fill:#262626;\" transform=\"translate(1026.55086 193.333821)scale(0.132 -0.132)\">\n       <use xlink:href=\"#DejaVuSans-53\"/>\n       <use x=\"63.623047\" xlink:href=\"#DejaVuSans-48\"/>\n      </g>\n     </g>\n    </g>\n    <g id=\"ytick_18\">\n     <g id=\"line2d_26\">\n      <g>\n       <use style=\"fill:#262626;stroke:#262626;stroke-width:1.25;\" x=\"1017.05086\" xlink:href=\"#mb078babf02\" y=\"149.490281\"/>\n      </g>\n     </g>\n     <g id=\"text_42\">\n      <!-- 100 -->\n      <g style=\"fill:#262626;\" transform=\"translate(1026.55086 154.505249)scale(0.132 -0.132)\">\n       <use xlink:href=\"#DejaVuSans-49\"/>\n       <use x=\"63.623047\" xlink:href=\"#DejaVuSans-48\"/>\n       <use x=\"127.246094\" xlink:href=\"#DejaVuSans-48\"/>\n      </g>\n     </g>\n    </g>\n    <g id=\"ytick_19\">\n     <g id=\"line2d_27\">\n      <g>\n       <use style=\"fill:#262626;stroke:#262626;stroke-width:1.25;\" x=\"1017.05086\" xlink:href=\"#mb078babf02\" y=\"110.661709\"/>\n      </g>\n     </g>\n     <g id=\"text_43\">\n      <!-- 150 -->\n      <g style=\"fill:#262626;\" transform=\"translate(1026.55086 115.676678)scale(0.132 -0.132)\">\n       <use xlink:href=\"#DejaVuSans-49\"/>\n       <use x=\"63.623047\" xlink:href=\"#DejaVuSans-53\"/>\n       <use x=\"127.246094\" xlink:href=\"#DejaVuSans-48\"/>\n      </g>\n     </g>\n    </g>\n    <g id=\"ytick_20\">\n     <g id=\"line2d_28\">\n      <g>\n       <use style=\"fill:#262626;stroke:#262626;stroke-width:1.25;\" x=\"1017.05086\" xlink:href=\"#mb078babf02\" y=\"71.833138\"/>\n      </g>\n     </g>\n     <g id=\"text_44\">\n      <!-- 200 -->\n      <g style=\"fill:#262626;\" transform=\"translate(1026.55086 76.848106)scale(0.132 -0.132)\">\n       <use xlink:href=\"#DejaVuSans-50\"/>\n       <use x=\"63.623047\" xlink:href=\"#DejaVuSans-48\"/>\n       <use x=\"127.246094\" xlink:href=\"#DejaVuSans-48\"/>\n      </g>\n     </g>\n    </g>\n    <g id=\"ytick_21\">\n     <g id=\"line2d_29\">\n      <g>\n       <use style=\"fill:#262626;stroke:#262626;stroke-width:1.25;\" x=\"1017.05086\" xlink:href=\"#mb078babf02\" y=\"33.004566\"/>\n      </g>\n     </g>\n     <g id=\"text_45\">\n      <!-- 250 -->\n      <g style=\"fill:#262626;\" transform=\"translate(1026.55086 38.019535)scale(0.132 -0.132)\">\n       <use xlink:href=\"#DejaVuSans-50\"/>\n       <use x=\"63.623047\" xlink:href=\"#DejaVuSans-53\"/>\n       <use x=\"127.246094\" xlink:href=\"#DejaVuSans-48\"/>\n      </g>\n     </g>\n    </g>\n   </g>\n   <image height=\"218\" id=\"image795bdc8f54\" transform=\"scale(1 -1)translate(0 -218)\" width=\"11\" x=\"1006\" xlink:href=\"data:image/png;base64,\niVBORw0KGgoAAAANSUhEUgAAAAsAAADaCAYAAABwzrisAAABVElEQVR4nO3Y0W1DMQxDUelZWaL7z9l0BZ8CBNSg71sgqCtaTtzn9fWuy2/6trKqpvu+fJ5+YspQ3JVSPksaJGWhQcpBGjHPqAwNGo1YRLeEn2xsGbfQqBXhtwavSzkbO2hg6u6/aPjBRvKkgA0aNykH94bYmNzKFRtLgnT+YIO264xGSnlJg3P9X8JtUHHsapPiIzSwQSneMZSPp5EM/720NZjbG/MGz0toNCnfC9ecmDJ6lmKYijXYTTZiQSJlKT4QuyQNmaA1eL5TNpagg0M4zxIahi5l44Gb3jgjDVAuCtKAstkwGiuUG5au2kgplyibDaGBDaaK6bVHfp5MPVS8A5281xGNjtEwz4ZOlM/9C4eOewc6eMKZomNlDa6g0UYj16AU01DO/U2/xnPOBtHIjXtJkD6dRp9XSHkNDVlfsXF306W5gzNlIxfR/wZ/qxw7KT87mCsnI6KdHgAAAABJRU5ErkJggg==\" y=\"-9\"/>\n   <g id=\"patch_14\">\n    <path d=\"M 1006.17886 227.147423 \nL 1006.17886 226.298048 \nL 1006.17886 10.556798 \nL 1006.17886 9.707423 \nL 1017.05086 9.707423 \nL 1017.05086 10.556798 \nL 1017.05086 226.298048 \nL 1017.05086 227.147423 \nz\n\" style=\"fill:none;\"/>\n   </g>\n  </g>\n </g>\n <defs>\n  <clipPath id=\"p97b82a8aa4\">\n   <rect height=\"217.44\" width=\"295.411765\" x=\"46.090625\" y=\"9.707423\"/>\n  </clipPath>\n  <clipPath id=\"p3385338827\">\n   <rect height=\"217.44\" width=\"236.329412\" x=\"400.584743\" y=\"9.707423\"/>\n  </clipPath>\n  <clipPath id=\"pff32b84869\">\n   <rect height=\"217.44\" width=\"236.329412\" x=\"755.07886\" y=\"9.707423\"/>\n  </clipPath>\n  <clipPath id=\"peb49a84343\">\n   <rect height=\"217.44\" width=\"10.872\" x=\"651.684743\" y=\"9.707423\"/>\n  </clipPath>\n  <clipPath id=\"p7ca1fe49a0\">\n   <rect height=\"217.44\" width=\"10.872\" x=\"1006.17886\" y=\"9.707423\"/>\n  </clipPath>\n </defs>\n</svg>\n",
      "image/png": "[encoded data removed]"
     },
     "metadata": {}
    }
   ],
   "metadata": {}
  },
  {
   "cell_type": "code",
   "execution_count": 391,
   "source": [
    "pd.DataFrame({\n",
    "    'feat' : x_train.columns.to_list() , \n",
    "    'val' : clf.feature_importances_\n",
    "}).sort_values('val' , ascending=False).reset_index(drop=True)"
   ],
   "outputs": [
    {
     "output_type": "execute_result",
     "data": {
      "text/plain": [
       "                 feat       val\n",
       "0     photflux_aper_m  0.149696\n",
       "1    var_inter_prob_m  0.135717\n",
       "2         flux_aper_m  0.081213\n",
       "3   var_inter_sigma_h  0.063748\n",
       "4    var_inter_prob_s  0.054214\n",
       "5   var_inter_index_h  0.043667\n",
       "6   var_inter_sigma_m  0.042827\n",
       "7   var_inter_sigma_b  0.036619\n",
       "8           var_min_b  0.033070\n",
       "9    var_inter_prob_b  0.032857\n",
       "10  var_inter_sigma_s  0.031830\n",
       "11         var_prob_b  0.027510\n",
       "12         var_mean_b  0.026091\n",
       "13  var_inter_index_m  0.023149\n",
       "14    photflux_aper_s  0.019986\n",
       "15   var_inter_prob_h  0.019777\n",
       "16  var_inter_index_b  0.019731\n",
       "17          var_max_b  0.019040\n",
       "18  var_inter_index_s  0.013960\n",
       "19        var_sigma_b  0.013542\n",
       "20    photflux_aper_u  0.013337\n",
       "21          ks_prob_b  0.012396\n",
       "22    photflux_aper_b  0.012178\n",
       "23          kp_prob_b  0.011317\n",
       "24            hard_hs  0.010960\n",
       "25        flux_aper_h  0.009026\n",
       "26            hard_ms  0.008911\n",
       "27            hard_hm  0.008520\n",
       "28        flux_aper_b  0.007053\n",
       "29        flux_aper_u  0.006437\n",
       "30        flux_aper_s  0.005997\n",
       "31    photflux_aper_h  0.005625"
      ],
      "text/html": [
       "<div>\n",
       "<style scoped>\n",
       "    .dataframe tbody tr th:only-of-type {\n",
       "        vertical-align: middle;\n",
       "    }\n",
       "\n",
       "    .dataframe tbody tr th {\n",
       "        vertical-align: top;\n",
       "    }\n",
       "\n",
       "    .dataframe thead th {\n",
       "        text-align: right;\n",
       "    }\n",
       "</style>\n",
       "<table border=\"1\" class=\"dataframe\">\n",
       "  <thead>\n",
       "    <tr style=\"text-align: right;\">\n",
       "      <th></th>\n",
       "      <th>feat</th>\n",
       "      <th>val</th>\n",
       "    </tr>\n",
       "  </thead>\n",
       "  <tbody>\n",
       "    <tr>\n",
       "      <th>0</th>\n",
       "      <td>photflux_aper_m</td>\n",
       "      <td>0.149696</td>\n",
       "    </tr>\n",
       "    <tr>\n",
       "      <th>1</th>\n",
       "      <td>var_inter_prob_m</td>\n",
       "      <td>0.135717</td>\n",
       "    </tr>\n",
       "    <tr>\n",
       "      <th>2</th>\n",
       "      <td>flux_aper_m</td>\n",
       "      <td>0.081213</td>\n",
       "    </tr>\n",
       "    <tr>\n",
       "      <th>3</th>\n",
       "      <td>var_inter_sigma_h</td>\n",
       "      <td>0.063748</td>\n",
       "    </tr>\n",
       "    <tr>\n",
       "      <th>4</th>\n",
       "      <td>var_inter_prob_s</td>\n",
       "      <td>0.054214</td>\n",
       "    </tr>\n",
       "    <tr>\n",
       "      <th>5</th>\n",
       "      <td>var_inter_index_h</td>\n",
       "      <td>0.043667</td>\n",
       "    </tr>\n",
       "    <tr>\n",
       "      <th>6</th>\n",
       "      <td>var_inter_sigma_m</td>\n",
       "      <td>0.042827</td>\n",
       "    </tr>\n",
       "    <tr>\n",
       "      <th>7</th>\n",
       "      <td>var_inter_sigma_b</td>\n",
       "      <td>0.036619</td>\n",
       "    </tr>\n",
       "    <tr>\n",
       "      <th>8</th>\n",
       "      <td>var_min_b</td>\n",
       "      <td>0.033070</td>\n",
       "    </tr>\n",
       "    <tr>\n",
       "      <th>9</th>\n",
       "      <td>var_inter_prob_b</td>\n",
       "      <td>0.032857</td>\n",
       "    </tr>\n",
       "    <tr>\n",
       "      <th>10</th>\n",
       "      <td>var_inter_sigma_s</td>\n",
       "      <td>0.031830</td>\n",
       "    </tr>\n",
       "    <tr>\n",
       "      <th>11</th>\n",
       "      <td>var_prob_b</td>\n",
       "      <td>0.027510</td>\n",
       "    </tr>\n",
       "    <tr>\n",
       "      <th>12</th>\n",
       "      <td>var_mean_b</td>\n",
       "      <td>0.026091</td>\n",
       "    </tr>\n",
       "    <tr>\n",
       "      <th>13</th>\n",
       "      <td>var_inter_index_m</td>\n",
       "      <td>0.023149</td>\n",
       "    </tr>\n",
       "    <tr>\n",
       "      <th>14</th>\n",
       "      <td>photflux_aper_s</td>\n",
       "      <td>0.019986</td>\n",
       "    </tr>\n",
       "    <tr>\n",
       "      <th>15</th>\n",
       "      <td>var_inter_prob_h</td>\n",
       "      <td>0.019777</td>\n",
       "    </tr>\n",
       "    <tr>\n",
       "      <th>16</th>\n",
       "      <td>var_inter_index_b</td>\n",
       "      <td>0.019731</td>\n",
       "    </tr>\n",
       "    <tr>\n",
       "      <th>17</th>\n",
       "      <td>var_max_b</td>\n",
       "      <td>0.019040</td>\n",
       "    </tr>\n",
       "    <tr>\n",
       "      <th>18</th>\n",
       "      <td>var_inter_index_s</td>\n",
       "      <td>0.013960</td>\n",
       "    </tr>\n",
       "    <tr>\n",
       "      <th>19</th>\n",
       "      <td>var_sigma_b</td>\n",
       "      <td>0.013542</td>\n",
       "    </tr>\n",
       "    <tr>\n",
       "      <th>20</th>\n",
       "      <td>photflux_aper_u</td>\n",
       "      <td>0.013337</td>\n",
       "    </tr>\n",
       "    <tr>\n",
       "      <th>21</th>\n",
       "      <td>ks_prob_b</td>\n",
       "      <td>0.012396</td>\n",
       "    </tr>\n",
       "    <tr>\n",
       "      <th>22</th>\n",
       "      <td>photflux_aper_b</td>\n",
       "      <td>0.012178</td>\n",
       "    </tr>\n",
       "    <tr>\n",
       "      <th>23</th>\n",
       "      <td>kp_prob_b</td>\n",
       "      <td>0.011317</td>\n",
       "    </tr>\n",
       "    <tr>\n",
       "      <th>24</th>\n",
       "      <td>hard_hs</td>\n",
       "      <td>0.010960</td>\n",
       "    </tr>\n",
       "    <tr>\n",
       "      <th>25</th>\n",
       "      <td>flux_aper_h</td>\n",
       "      <td>0.009026</td>\n",
       "    </tr>\n",
       "    <tr>\n",
       "      <th>26</th>\n",
       "      <td>hard_ms</td>\n",
       "      <td>0.008911</td>\n",
       "    </tr>\n",
       "    <tr>\n",
       "      <th>27</th>\n",
       "      <td>hard_hm</td>\n",
       "      <td>0.008520</td>\n",
       "    </tr>\n",
       "    <tr>\n",
       "      <th>28</th>\n",
       "      <td>flux_aper_b</td>\n",
       "      <td>0.007053</td>\n",
       "    </tr>\n",
       "    <tr>\n",
       "      <th>29</th>\n",
       "      <td>flux_aper_u</td>\n",
       "      <td>0.006437</td>\n",
       "    </tr>\n",
       "    <tr>\n",
       "      <th>30</th>\n",
       "      <td>flux_aper_s</td>\n",
       "      <td>0.005997</td>\n",
       "    </tr>\n",
       "    <tr>\n",
       "      <th>31</th>\n",
       "      <td>photflux_aper_h</td>\n",
       "      <td>0.005625</td>\n",
       "    </tr>\n",
       "  </tbody>\n",
       "</table>\n",
       "</div>"
      ]
     },
     "metadata": {},
     "execution_count": 391
    }
   ],
   "metadata": {}
  }
 ],
 "metadata": {
  "orig_nbformat": 4,
  "language_info": {
   "name": "python",
   "version": "3.6.9",
   "mimetype": "text/x-python",
   "codemirror_mode": {
    "name": "ipython",
    "version": 3
   },
   "pygments_lexer": "ipython3",
   "nbconvert_exporter": "python",
   "file_extension": ".py"
  },
  "kernelspec": {
   "name": "python3",
   "display_name": "Python 3.6.9 64-bit"
  },
  "interpreter": {
   "hash": "31f2aee4e71d21fbe5cf8b01ff0e069b9275f58929596ceb00d14d90e3e16cd6"
  }
 },
 "nbformat": 4,
 "nbformat_minor": 2
}