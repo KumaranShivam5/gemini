{
 "cells": [
  {
   "cell_type": "code",
   "execution_count": 14,
   "source": [
    "from posixpath import join\n",
    "from astropy.io.fits import hdu\n",
    "import pandas as pd \n",
    "from matplotlib import pyplot as plt \n",
    "import numpy as np \n",
    "from ciao_contrib.runtool import search_csc \n",
    "\n",
    "from astropy.io import fits \n",
    "from fields import fields \n",
    "from tqdm import tqdm\n"
   ],
   "outputs": [],
   "metadata": {}
  },
  {
   "cell_type": "code",
   "execution_count": null,
   "source": [
    "\n",
    "\n",
    "df = pd.read_csv('../source_list/CV_data_clean_source_list.csv' , delimiter=',' , comment='#' ,)\n",
    "df = df.replace(' ' , '_' ,regex=True)\n",
    "df.insert(0  , 'type' , ['CV']*len(df))\n",
    "\n",
    "\n",
    "\n",
    "start = int(input('Start number : '))\n",
    "end = int(input('End number : '))\n",
    "\n",
    "#start = 0 \n",
    "#end = 3\n",
    "\n",
    "df_select = df.iloc[start:end].reset_index(drop=True)\n",
    "\n",
    "ra = df_select['B_RA']\n",
    "dec = df_select['B_DEC']\n",
    "name = df_select['A_NAME']\n",
    "num_obs = [] \n",
    "offset = []\n",
    "for index in tqdm(range(len(df_select))):\n",
    "#for index in tqdm(range(3)):\n",
    "    try :\n",
    "        s = search_csc(\n",
    "                        radunit=\"arcsec\", \n",
    "                        columns=fields, \n",
    "                        bands=\"broad\",\n",
    "                        clobber=\"yes\" ,\n",
    "                        radius= 3 , \n",
    "                        pos= str(ra[index])+','+str(dec[index])  ,\n",
    "                        outfile='temp.csv')\n",
    "                    #sys('search_csc outfile=trial.csv radunit=arcsec columns=\"SOS,SOP,SOV , o.gti_obs m.flux_aper_b\" bands=broad clobber=yes radius=1 pos=\"65.428058,32.907468\"')\n",
    "                    #print(s)\n",
    "                    \n",
    "        data = pd.read_csv('temp.csv', delimiter='\\t' , comment='#')\n",
    "        data = data[data['match_type']=='u          ']\n",
    "        data = data[data['instrument']=='ACIS']\n",
    "        data.index.name= 'index'\n",
    "        #f_name_fits = data_fits['A_NAME']\n",
    "        n = len(data)\n",
    "        num_obs.append(n)\n",
    "        if(n>0):\n",
    "            print('Match found --' , len(data))\n",
    "            data.to_csv('../data/all_data/cv_old_data_all/'+name[index]+'.csv')\n",
    "    except:\n",
    "        #print(e)\n",
    "        print('Manual ispection needed :' , name[index])\n",
    "        num_obs.append(-1)\n",
    "    print(num_obs)\n",
    "\n",
    "df_updated = df_select.copy()\n",
    "df_updated.insert(10 , 'num_obs' , num_obs)\n",
    "\n",
    "df_updated.to_csv('../source_list/cv_old_updated/'+str(start)+'-'+str(end)+'.csv')"
   ],
   "outputs": [],
   "metadata": {}
  },
  {
   "cell_type": "code",
   "execution_count": 6,
   "source": [
    "df_select"
   ],
   "outputs": [
    {
     "output_type": "execute_result",
     "data": {
      "text/plain": [
       "  type  SRC_ID                   A_NAME        A_RA      A_DEC  \\\n",
       "0   CV  CV0001  [DSH2013]_24___________  204.083083 -29.852333   \n",
       "1   CV  CV0002  [HPH2013]_100__________   10.654490  41.241180   \n",
       "2   CV  CV0003  [HPH2013]_101__________   10.655350  41.286130   \n",
       "\n",
       "   A_DATABASE_TABLE  A_OBSERVATORY                  B_NAME        B_RA  \\\n",
       "0  M83XMM__________  XMM-NEWTON___  2CXO_J133620.0-295106_  204.083487   \n",
       "1  M31CFCXO________  CHANDRA______  2CXO_J004237.0+411428_   10.654579   \n",
       "2  M31CFCXO________  CHANDRA______  2CXO_J004237.3+411709_   10.655445   \n",
       "\n",
       "       B_DEC  XOFFSET_  \n",
       "0 -29.851710     0.043  \n",
       "1  41.241130     0.005  \n",
       "2  41.286063     0.006  "
      ],
      "text/html": [
       "<div>\n",
       "<style scoped>\n",
       "    .dataframe tbody tr th:only-of-type {\n",
       "        vertical-align: middle;\n",
       "    }\n",
       "\n",
       "    .dataframe tbody tr th {\n",
       "        vertical-align: top;\n",
       "    }\n",
       "\n",
       "    .dataframe thead th {\n",
       "        text-align: right;\n",
       "    }\n",
       "</style>\n",
       "<table border=\"1\" class=\"dataframe\">\n",
       "  <thead>\n",
       "    <tr style=\"text-align: right;\">\n",
       "      <th></th>\n",
       "      <th>type</th>\n",
       "      <th>SRC_ID</th>\n",
       "      <th>A_NAME</th>\n",
       "      <th>A_RA</th>\n",
       "      <th>A_DEC</th>\n",
       "      <th>A_DATABASE_TABLE</th>\n",
       "      <th>A_OBSERVATORY</th>\n",
       "      <th>B_NAME</th>\n",
       "      <th>B_RA</th>\n",
       "      <th>B_DEC</th>\n",
       "      <th>XOFFSET_</th>\n",
       "    </tr>\n",
       "  </thead>\n",
       "  <tbody>\n",
       "    <tr>\n",
       "      <th>0</th>\n",
       "      <td>CV</td>\n",
       "      <td>CV0001</td>\n",
       "      <td>[DSH2013]_24___________</td>\n",
       "      <td>204.083083</td>\n",
       "      <td>-29.852333</td>\n",
       "      <td>M83XMM__________</td>\n",
       "      <td>XMM-NEWTON___</td>\n",
       "      <td>2CXO_J133620.0-295106_</td>\n",
       "      <td>204.083487</td>\n",
       "      <td>-29.851710</td>\n",
       "      <td>0.043</td>\n",
       "    </tr>\n",
       "    <tr>\n",
       "      <th>1</th>\n",
       "      <td>CV</td>\n",
       "      <td>CV0002</td>\n",
       "      <td>[HPH2013]_100__________</td>\n",
       "      <td>10.654490</td>\n",
       "      <td>41.241180</td>\n",
       "      <td>M31CFCXO________</td>\n",
       "      <td>CHANDRA______</td>\n",
       "      <td>2CXO_J004237.0+411428_</td>\n",
       "      <td>10.654579</td>\n",
       "      <td>41.241130</td>\n",
       "      <td>0.005</td>\n",
       "    </tr>\n",
       "    <tr>\n",
       "      <th>2</th>\n",
       "      <td>CV</td>\n",
       "      <td>CV0003</td>\n",
       "      <td>[HPH2013]_101__________</td>\n",
       "      <td>10.655350</td>\n",
       "      <td>41.286130</td>\n",
       "      <td>M31CFCXO________</td>\n",
       "      <td>CHANDRA______</td>\n",
       "      <td>2CXO_J004237.3+411709_</td>\n",
       "      <td>10.655445</td>\n",
       "      <td>41.286063</td>\n",
       "      <td>0.006</td>\n",
       "    </tr>\n",
       "  </tbody>\n",
       "</table>\n",
       "</div>"
      ]
     },
     "metadata": {},
     "execution_count": 6
    }
   ],
   "metadata": {}
  },
  {
   "cell_type": "code",
   "execution_count": 5,
   "source": [
    "num_obs"
   ],
   "outputs": [
    {
     "output_type": "execute_result",
     "data": {
      "text/plain": [
       "[3, -1, 33, -1, 0]"
      ]
     },
     "metadata": {},
     "execution_count": 5
    }
   ],
   "metadata": {}
  }
 ],
 "metadata": {
  "orig_nbformat": 4,
  "language_info": {
   "name": "python",
   "version": "3.8.2",
   "mimetype": "text/x-python",
   "codemirror_mode": {
    "name": "ipython",
    "version": 3
   },
   "pygments_lexer": "ipython3",
   "nbconvert_exporter": "python",
   "file_extension": ".py"
  },
  "kernelspec": {
   "name": "python3",
   "display_name": "Python 3.8.2 64-bit ('ciao-4.13': conda)"
  },
  "interpreter": {
   "hash": "dd401eb9f4a87b4d7521ead9a1bfa480dfd22ffaf3593a2155d0c7cf261e4ebc"
  }
 },
 "nbformat": 4,
 "nbformat_minor": 2
}