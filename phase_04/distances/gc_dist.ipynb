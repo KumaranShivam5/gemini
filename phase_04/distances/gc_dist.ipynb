{
 "cells": [
  {
   "cell_type": "code",
   "execution_count": 1,
   "source": [
    "import numpy as np \n",
    "import pandas as pd \n",
    "import astropy.units as u\n",
    "from astropy.coordinates import SkyCoord"
   ],
   "outputs": [],
   "metadata": {}
  },
  {
   "cell_type": "code",
   "execution_count": 2,
   "source": [
    "from astropy.io import fits\n",
    "import pandas as pd "
   ],
   "outputs": [],
   "metadata": {}
  },
  {
   "cell_type": "code",
   "execution_count": 9,
   "source": [
    "cv = fits.open('../data/CVs/CV_mid_set.fits')[1].data \n",
    "cv = pd.DataFrame(cv)\n",
    "display(cv)\n",
    "cv.to_csv('../data/CVs/CV_mid_set.csv')"
   ],
   "outputs": [
    {
     "output_type": "display_data",
     "data": {
      "text/plain": [
       "                      A_NAME        A_RA      A_DEC  A_COUNT_RATE  \\\n",
       "0    CXOGLB J002404.9-720506    6.020883 -72.085058      0.000337   \n",
       "1    CXOGLB J002404.9-720506    6.020650 -72.085022      0.000059   \n",
       "2    CXOGLB J002406.0-720456    6.024962 -72.082272      0.004440   \n",
       "3    CXOGLB J002406.0-720456    6.024983 -72.082272      0.003116   \n",
       "4    XMMSL2 J002402.8-720447    6.020720 -72.081412      1.152000   \n",
       "..                       ...         ...        ...           ...   \n",
       "535  XMMSL2 J193839.8+303027  294.666620  30.507608      1.205000   \n",
       "536  XMMSL2 J193839.8+303027  294.668083  30.508196      0.721500   \n",
       "537  1RXS J193840.0+303035    294.666667  30.509722      0.080000   \n",
       "538  CHI J194939+2631_1       297.409917  26.530278      0.066280   \n",
       "539  2XMM J231519.0-591029    348.829250 -59.174770      0.000000   \n",
       "\n",
       "     A_COUNT_RATE_ERROR        A_FLUX  A_DATABASE_TABLE  A_OBSERVATORY  \\\n",
       "0              0.000086  2.338000e-15  GC47TUCCXO        CHANDRA         \n",
       "1              0.000019  3.543000e-16  GC47TUCCXO        CHANDRA         \n",
       "2              0.000263  3.157000e-14  GC47TUCCXO        CHANDRA         \n",
       "3              0.000109  1.807000e-14  GC47TUCCXO        CHANDRA         \n",
       "4              0.480100  3.638000e-12  XMMSLEWCLN        XMM-NEWTON      \n",
       "..                  ...           ...               ...            ...   \n",
       "535            0.437800  3.806000e-12  XMMSLEWCLN        XMM-NEWTON      \n",
       "536            0.326100  2.279000e-12  XMMSLEWCLN        XMM-NEWTON      \n",
       "537            0.010000  0.000000e+00  RASS2MASS         ROSAT           \n",
       "538            0.006686  0.000000e+00  CHICAGOCXO        CHANDRA         \n",
       "539            0.000000  3.780000e-13  XMMSSCLWBS        XMM-NEWTON      \n",
       "\n",
       "                     B_NAME        B_RA      B_DEC  B_SIGNIFICANCE  \\\n",
       "0    2CXO J002404.6-720509     6.019509 -72.085948           2.318   \n",
       "1    2CXO J002404.6-720509     6.019509 -72.085948           2.318   \n",
       "2    2CXO J002406.4-720451     6.026713 -72.081007           2.773   \n",
       "3    2CXO J002406.4-720451     6.026713 -72.081007           2.773   \n",
       "4    2CXO J002406.4-720451     6.026713 -72.081007           2.773   \n",
       "..                      ...         ...        ...             ...   \n",
       "535  2CXO J193840.1+303028   294.667085  30.507841          83.340   \n",
       "536  2CXO J193840.1+303028   294.667085  30.507841          83.340   \n",
       "537  2CXO J193840.1+303028   294.667085  30.507841          83.340   \n",
       "538  2CXO J194938.3+263149   297.409922  26.530282          13.070   \n",
       "539  2CXO J231518.9-591028   348.828827 -59.174549          10.040   \n",
       "\n",
       "      B_B_FLUX_AP  B_B_FLUX_AP_HI  B_B_FLUX_AP_LO   B_M_FLUX_AP  \\\n",
       "0    0.000000e+00  9.20E-17        0.00E+00        0.000000e+00   \n",
       "1    0.000000e+00  9.20E-17        0.00E+00        0.000000e+00   \n",
       "2    2.910000e-16  5.11E-16        7.02E-17        1.940000e-16   \n",
       "3    2.910000e-16  5.11E-16        7.02E-17        1.940000e-16   \n",
       "4    2.910000e-16  5.11E-16        7.02E-17        1.940000e-16   \n",
       "..            ...             ...             ...           ...   \n",
       "535  2.470000e-12  2.52E-12        2.42E-12        1.450000e-13   \n",
       "536  2.470000e-12  2.52E-12        2.42E-12        1.450000e-13   \n",
       "537  2.470000e-12  2.52E-12        2.42E-12        1.450000e-13   \n",
       "538  1.000000e-12  1.08E-12        9.26E-13        5.620000e-14   \n",
       "539  2.530000e-14  2.85E-14        2.22E-14        6.520000e-15   \n",
       "\n",
       "     B_M_FLUX_AP_HI  B_M_FLUX_AP_LO  XOFFSET_  \n",
       "0                                       0.059  \n",
       "1                                       0.059  \n",
       "2    3.54E-16        2.53E-17           0.083  \n",
       "3    3.54E-16        2.53E-17           0.082  \n",
       "4    3.54E-16        2.53E-17           0.113  \n",
       "..              ...             ...       ...  \n",
       "535  1.51E-13        1.38E-13           0.028  \n",
       "536  1.51E-13        1.38E-13           0.056  \n",
       "537  1.51E-13        1.38E-13           0.115  \n",
       "538  6.57E-14        4.67E-14           0.000  \n",
       "539  7.52E-15        5.52E-15           0.019  \n",
       "\n",
       "[540 rows x 19 columns]"
      ],
      "text/html": [
       "<div>\n",
       "<style scoped>\n",
       "    .dataframe tbody tr th:only-of-type {\n",
       "        vertical-align: middle;\n",
       "    }\n",
       "\n",
       "    .dataframe tbody tr th {\n",
       "        vertical-align: top;\n",
       "    }\n",
       "\n",
       "    .dataframe thead th {\n",
       "        text-align: right;\n",
       "    }\n",
       "</style>\n",
       "<table border=\"1\" class=\"dataframe\">\n",
       "  <thead>\n",
       "    <tr style=\"text-align: right;\">\n",
       "      <th></th>\n",
       "      <th>A_NAME</th>\n",
       "      <th>A_RA</th>\n",
       "      <th>A_DEC</th>\n",
       "      <th>A_COUNT_RATE</th>\n",
       "      <th>A_COUNT_RATE_ERROR</th>\n",
       "      <th>A_FLUX</th>\n",
       "      <th>A_DATABASE_TABLE</th>\n",
       "      <th>A_OBSERVATORY</th>\n",
       "      <th>B_NAME</th>\n",
       "      <th>B_RA</th>\n",
       "      <th>B_DEC</th>\n",
       "      <th>B_SIGNIFICANCE</th>\n",
       "      <th>B_B_FLUX_AP</th>\n",
       "      <th>B_B_FLUX_AP_HI</th>\n",
       "      <th>B_B_FLUX_AP_LO</th>\n",
       "      <th>B_M_FLUX_AP</th>\n",
       "      <th>B_M_FLUX_AP_HI</th>\n",
       "      <th>B_M_FLUX_AP_LO</th>\n",
       "      <th>XOFFSET_</th>\n",
       "    </tr>\n",
       "  </thead>\n",
       "  <tbody>\n",
       "    <tr>\n",
       "      <th>0</th>\n",
       "      <td>CXOGLB J002404.9-720506</td>\n",
       "      <td>6.020883</td>\n",
       "      <td>-72.085058</td>\n",
       "      <td>0.000337</td>\n",
       "      <td>0.000086</td>\n",
       "      <td>2.338000e-15</td>\n",
       "      <td>GC47TUCCXO</td>\n",
       "      <td>CHANDRA</td>\n",
       "      <td>2CXO J002404.6-720509</td>\n",
       "      <td>6.019509</td>\n",
       "      <td>-72.085948</td>\n",
       "      <td>2.318</td>\n",
       "      <td>0.000000e+00</td>\n",
       "      <td>9.20E-17</td>\n",
       "      <td>0.00E+00</td>\n",
       "      <td>0.000000e+00</td>\n",
       "      <td></td>\n",
       "      <td></td>\n",
       "      <td>0.059</td>\n",
       "    </tr>\n",
       "    <tr>\n",
       "      <th>1</th>\n",
       "      <td>CXOGLB J002404.9-720506</td>\n",
       "      <td>6.020650</td>\n",
       "      <td>-72.085022</td>\n",
       "      <td>0.000059</td>\n",
       "      <td>0.000019</td>\n",
       "      <td>3.543000e-16</td>\n",
       "      <td>GC47TUCCXO</td>\n",
       "      <td>CHANDRA</td>\n",
       "      <td>2CXO J002404.6-720509</td>\n",
       "      <td>6.019509</td>\n",
       "      <td>-72.085948</td>\n",
       "      <td>2.318</td>\n",
       "      <td>0.000000e+00</td>\n",
       "      <td>9.20E-17</td>\n",
       "      <td>0.00E+00</td>\n",
       "      <td>0.000000e+00</td>\n",
       "      <td></td>\n",
       "      <td></td>\n",
       "      <td>0.059</td>\n",
       "    </tr>\n",
       "    <tr>\n",
       "      <th>2</th>\n",
       "      <td>CXOGLB J002406.0-720456</td>\n",
       "      <td>6.024962</td>\n",
       "      <td>-72.082272</td>\n",
       "      <td>0.004440</td>\n",
       "      <td>0.000263</td>\n",
       "      <td>3.157000e-14</td>\n",
       "      <td>GC47TUCCXO</td>\n",
       "      <td>CHANDRA</td>\n",
       "      <td>2CXO J002406.4-720451</td>\n",
       "      <td>6.026713</td>\n",
       "      <td>-72.081007</td>\n",
       "      <td>2.773</td>\n",
       "      <td>2.910000e-16</td>\n",
       "      <td>5.11E-16</td>\n",
       "      <td>7.02E-17</td>\n",
       "      <td>1.940000e-16</td>\n",
       "      <td>3.54E-16</td>\n",
       "      <td>2.53E-17</td>\n",
       "      <td>0.083</td>\n",
       "    </tr>\n",
       "    <tr>\n",
       "      <th>3</th>\n",
       "      <td>CXOGLB J002406.0-720456</td>\n",
       "      <td>6.024983</td>\n",
       "      <td>-72.082272</td>\n",
       "      <td>0.003116</td>\n",
       "      <td>0.000109</td>\n",
       "      <td>1.807000e-14</td>\n",
       "      <td>GC47TUCCXO</td>\n",
       "      <td>CHANDRA</td>\n",
       "      <td>2CXO J002406.4-720451</td>\n",
       "      <td>6.026713</td>\n",
       "      <td>-72.081007</td>\n",
       "      <td>2.773</td>\n",
       "      <td>2.910000e-16</td>\n",
       "      <td>5.11E-16</td>\n",
       "      <td>7.02E-17</td>\n",
       "      <td>1.940000e-16</td>\n",
       "      <td>3.54E-16</td>\n",
       "      <td>2.53E-17</td>\n",
       "      <td>0.082</td>\n",
       "    </tr>\n",
       "    <tr>\n",
       "      <th>4</th>\n",
       "      <td>XMMSL2 J002402.8-720447</td>\n",
       "      <td>6.020720</td>\n",
       "      <td>-72.081412</td>\n",
       "      <td>1.152000</td>\n",
       "      <td>0.480100</td>\n",
       "      <td>3.638000e-12</td>\n",
       "      <td>XMMSLEWCLN</td>\n",
       "      <td>XMM-NEWTON</td>\n",
       "      <td>2CXO J002406.4-720451</td>\n",
       "      <td>6.026713</td>\n",
       "      <td>-72.081007</td>\n",
       "      <td>2.773</td>\n",
       "      <td>2.910000e-16</td>\n",
       "      <td>5.11E-16</td>\n",
       "      <td>7.02E-17</td>\n",
       "      <td>1.940000e-16</td>\n",
       "      <td>3.54E-16</td>\n",
       "      <td>2.53E-17</td>\n",
       "      <td>0.113</td>\n",
       "    </tr>\n",
       "    <tr>\n",
       "      <th>...</th>\n",
       "      <td>...</td>\n",
       "      <td>...</td>\n",
       "      <td>...</td>\n",
       "      <td>...</td>\n",
       "      <td>...</td>\n",
       "      <td>...</td>\n",
       "      <td>...</td>\n",
       "      <td>...</td>\n",
       "      <td>...</td>\n",
       "      <td>...</td>\n",
       "      <td>...</td>\n",
       "      <td>...</td>\n",
       "      <td>...</td>\n",
       "      <td>...</td>\n",
       "      <td>...</td>\n",
       "      <td>...</td>\n",
       "      <td>...</td>\n",
       "      <td>...</td>\n",
       "      <td>...</td>\n",
       "    </tr>\n",
       "    <tr>\n",
       "      <th>535</th>\n",
       "      <td>XMMSL2 J193839.8+303027</td>\n",
       "      <td>294.666620</td>\n",
       "      <td>30.507608</td>\n",
       "      <td>1.205000</td>\n",
       "      <td>0.437800</td>\n",
       "      <td>3.806000e-12</td>\n",
       "      <td>XMMSLEWCLN</td>\n",
       "      <td>XMM-NEWTON</td>\n",
       "      <td>2CXO J193840.1+303028</td>\n",
       "      <td>294.667085</td>\n",
       "      <td>30.507841</td>\n",
       "      <td>83.340</td>\n",
       "      <td>2.470000e-12</td>\n",
       "      <td>2.52E-12</td>\n",
       "      <td>2.42E-12</td>\n",
       "      <td>1.450000e-13</td>\n",
       "      <td>1.51E-13</td>\n",
       "      <td>1.38E-13</td>\n",
       "      <td>0.028</td>\n",
       "    </tr>\n",
       "    <tr>\n",
       "      <th>536</th>\n",
       "      <td>XMMSL2 J193839.8+303027</td>\n",
       "      <td>294.668083</td>\n",
       "      <td>30.508196</td>\n",
       "      <td>0.721500</td>\n",
       "      <td>0.326100</td>\n",
       "      <td>2.279000e-12</td>\n",
       "      <td>XMMSLEWCLN</td>\n",
       "      <td>XMM-NEWTON</td>\n",
       "      <td>2CXO J193840.1+303028</td>\n",
       "      <td>294.667085</td>\n",
       "      <td>30.507841</td>\n",
       "      <td>83.340</td>\n",
       "      <td>2.470000e-12</td>\n",
       "      <td>2.52E-12</td>\n",
       "      <td>2.42E-12</td>\n",
       "      <td>1.450000e-13</td>\n",
       "      <td>1.51E-13</td>\n",
       "      <td>1.38E-13</td>\n",
       "      <td>0.056</td>\n",
       "    </tr>\n",
       "    <tr>\n",
       "      <th>537</th>\n",
       "      <td>1RXS J193840.0+303035</td>\n",
       "      <td>294.666667</td>\n",
       "      <td>30.509722</td>\n",
       "      <td>0.080000</td>\n",
       "      <td>0.010000</td>\n",
       "      <td>0.000000e+00</td>\n",
       "      <td>RASS2MASS</td>\n",
       "      <td>ROSAT</td>\n",
       "      <td>2CXO J193840.1+303028</td>\n",
       "      <td>294.667085</td>\n",
       "      <td>30.507841</td>\n",
       "      <td>83.340</td>\n",
       "      <td>2.470000e-12</td>\n",
       "      <td>2.52E-12</td>\n",
       "      <td>2.42E-12</td>\n",
       "      <td>1.450000e-13</td>\n",
       "      <td>1.51E-13</td>\n",
       "      <td>1.38E-13</td>\n",
       "      <td>0.115</td>\n",
       "    </tr>\n",
       "    <tr>\n",
       "      <th>538</th>\n",
       "      <td>CHI J194939+2631_1</td>\n",
       "      <td>297.409917</td>\n",
       "      <td>26.530278</td>\n",
       "      <td>0.066280</td>\n",
       "      <td>0.006686</td>\n",
       "      <td>0.000000e+00</td>\n",
       "      <td>CHICAGOCXO</td>\n",
       "      <td>CHANDRA</td>\n",
       "      <td>2CXO J194938.3+263149</td>\n",
       "      <td>297.409922</td>\n",
       "      <td>26.530282</td>\n",
       "      <td>13.070</td>\n",
       "      <td>1.000000e-12</td>\n",
       "      <td>1.08E-12</td>\n",
       "      <td>9.26E-13</td>\n",
       "      <td>5.620000e-14</td>\n",
       "      <td>6.57E-14</td>\n",
       "      <td>4.67E-14</td>\n",
       "      <td>0.000</td>\n",
       "    </tr>\n",
       "    <tr>\n",
       "      <th>539</th>\n",
       "      <td>2XMM J231519.0-591029</td>\n",
       "      <td>348.829250</td>\n",
       "      <td>-59.174770</td>\n",
       "      <td>0.000000</td>\n",
       "      <td>0.000000</td>\n",
       "      <td>3.780000e-13</td>\n",
       "      <td>XMMSSCLWBS</td>\n",
       "      <td>XMM-NEWTON</td>\n",
       "      <td>2CXO J231518.9-591028</td>\n",
       "      <td>348.828827</td>\n",
       "      <td>-59.174549</td>\n",
       "      <td>10.040</td>\n",
       "      <td>2.530000e-14</td>\n",
       "      <td>2.85E-14</td>\n",
       "      <td>2.22E-14</td>\n",
       "      <td>6.520000e-15</td>\n",
       "      <td>7.52E-15</td>\n",
       "      <td>5.52E-15</td>\n",
       "      <td>0.019</td>\n",
       "    </tr>\n",
       "  </tbody>\n",
       "</table>\n",
       "<p>540 rows × 19 columns</p>\n",
       "</div>"
      ]
     },
     "metadata": {}
    }
   ],
   "metadata": {}
  },
  {
   "cell_type": "code",
   "execution_count": 64,
   "source": [
    "gc = pd.read_csv('gc_cat.csv')\n",
    "obj = pd.read_csv('source_list/NS_data_clean_source_list.csv')"
   ],
   "outputs": [],
   "metadata": {}
  },
  {
   "cell_type": "code",
   "execution_count": 66,
   "source": [
    "obj.shape"
   ],
   "outputs": [
    {
     "output_type": "execute_result",
     "data": {
      "text/plain": [
       "(83, 16)"
      ]
     },
     "metadata": {},
     "execution_count": 66
    }
   ],
   "metadata": {}
  },
  {
   "cell_type": "code",
   "execution_count": 57,
   "source": [
    "display(gc.iloc[151])\n",
    "display(obj.iloc[14])"
   ],
   "outputs": [
    {
     "output_type": "display_data",
     "data": {
      "text/plain": [
       "ID            NGC-7078\n",
       "Name     M 15         \n",
       "RA         21 29 58.33\n",
       "DEC        +12 10 01.2\n",
       "Name: 151, dtype: object"
      ]
     },
     "metadata": {}
    },
    {
     "output_type": "display_data",
     "data": {
      "text/plain": [
       "SRC_ID                              NS0015\n",
       "A_NAME               4U 2129+12           \n",
       "A_RA                            322.492917\n",
       "A_DEC                              12.1675\n",
       "A_DATABASE_TABLE          INTREFCAT       \n",
       "A_OBSERVATORY                INTEGRAL     \n",
       "B_NAME              2CXO J212958.1+121002 \n",
       "B_RA                            322.492171\n",
       "B_DEC                            12.167285\n",
       "XOFFSET_                             0.046\n",
       "Name: 14, dtype: object"
      ]
     },
     "metadata": {}
    }
   ],
   "metadata": {}
  },
  {
   "cell_type": "code",
   "execution_count": 60,
   "source": [
    "def find_sep(ra1,dec1 , ra2, dec2):\n",
    "    c1 = SkyCoord(ra1, dec1, frame='icrs' , unit=(u.deg))\n",
    "    c2 = SkyCoord(ra2, dec2, frame='icrs' , unit=(u.hourangle , u.deg))\n",
    "    sep = c1.separation(c2)\n",
    "    return (sep)"
   ],
   "outputs": [],
   "metadata": {}
  },
  {
   "cell_type": "code",
   "execution_count": 34,
   "source": [
    "ra1 = obj.iloc[14]['B_RA']\n",
    "dec1 = obj.iloc[14]['B_DEC']\n",
    "ra2 = gc.iloc[151]['RA']\n",
    "dec2 = gc.iloc[151]['DEC']\n",
    "print(ra1 , dec1 , ra2 , dec2)"
   ],
   "outputs": [
    {
     "output_type": "stream",
     "name": "stdout",
     "text": [
      "322.492171 12.167285 21 29 58.33 +12 10 01.2\n"
     ]
    }
   ],
   "metadata": {}
  },
  {
   "cell_type": "code",
   "execution_count": 35,
   "source": [
    "print(ra2, dec2)"
   ],
   "outputs": [
    {
     "output_type": "stream",
     "name": "stdout",
     "text": [
      "21 29 58.33 +12 10 01.2\n"
     ]
    }
   ],
   "metadata": {}
  },
  {
   "cell_type": "code",
   "execution_count": 58,
   "source": [
    "SkyCoord('21 29 58.33' , '+12 10 01.2', frame='fk5' , unit=(u.hourangle , u.deg))"
   ],
   "outputs": [
    {
     "output_type": "execute_result",
     "data": {
      "text/plain": [
       "<SkyCoord (FK5: equinox=J2000.000): (ra, dec) in deg\n",
       "    (322.49304167, 12.167)>"
      ]
     },
     "metadata": {},
     "execution_count": 58
    }
   ],
   "metadata": {}
  },
  {
   "cell_type": "code",
   "execution_count": 61,
   "source": [
    "SkyCoord(ra2, dec2, frame='fk4' , unit=(u.hourangle , u.deg))"
   ],
   "outputs": [
    {
     "output_type": "execute_result",
     "data": {
      "text/plain": [
       "<SkyCoord (FK4: equinox=B1950.000, obstime=B1950.000): (ra, dec) in deg\n",
       "    (322.49304167, 12.167)>"
      ]
     },
     "metadata": {},
     "execution_count": 61
    }
   ],
   "metadata": {}
  },
  {
   "cell_type": "code",
   "execution_count": 63,
   "source": [
    "find_sep(ra1 , dec1 , ra2 , dec2).arcsec"
   ],
   "outputs": [
    {
     "output_type": "execute_result",
     "data": {
      "text/plain": [
       "3.231210503461338"
      ]
     },
     "metadata": {},
     "execution_count": 63
    }
   ],
   "metadata": {}
  }
 ],
 "metadata": {
  "orig_nbformat": 4,
  "language_info": {
   "name": "python",
   "version": "3.8.2",
   "mimetype": "text/x-python",
   "codemirror_mode": {
    "name": "ipython",
    "version": 3
   },
   "pygments_lexer": "ipython3",
   "nbconvert_exporter": "python",
   "file_extension": ".py"
  },
  "kernelspec": {
   "name": "python3",
   "display_name": "Python 3.8.2 64-bit ('ciao-4.13': conda)"
  },
  "interpreter": {
   "hash": "dd401eb9f4a87b4d7521ead9a1bfa480dfd22ffaf3593a2155d0c7cf261e4ebc"
  }
 },
 "nbformat": 4,
 "nbformat_minor": 2
}