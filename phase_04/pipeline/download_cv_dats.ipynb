{
 "cells": [
  {
   "cell_type": "code",
   "execution_count": 53,
   "source": [
    "from posixpath import join\n",
    "from astropy.io.fits import hdu\n",
    "import pandas as pd \n",
    "from matplotlib import pyplot as plt \n",
    "import numpy as np \n",
    "from ciao_contrib.runtool import search_csc \n",
    "\n",
    "from astropy.io import fits \n",
    "from fields import fields \n",
    "from tqdm import tqdm"
   ],
   "outputs": [],
   "metadata": {}
  },
  {
   "cell_type": "code",
   "execution_count": 54,
   "source": [
    "df = pd.read_csv('../source_list/all_cv_catalogue.csv')\n",
    "df = df.replace(' ' , '_' , regex=True)\n"
   ],
   "outputs": [],
   "metadata": {}
  },
  {
   "cell_type": "code",
   "execution_count": 55,
   "source": [
    "df['Type'].value_counts()"
   ],
   "outputs": [
    {
     "output_type": "execute_result",
     "data": {
      "text/plain": [
       "Candidate               3491\n",
       "CataclyV                3389\n",
       "N                       1657\n",
       "Candidate_CV             891\n",
       "known_CV                 829\n",
       "DN                       440\n",
       "Cataclysmic_Variable     274\n",
       "Known_CV                 240\n",
       "Candidate_Nova           210\n",
       "AntiNova                   1\n",
       "Name: Type, dtype: int64"
      ]
     },
     "metadata": {},
     "execution_count": 55
    }
   ],
   "metadata": {}
  },
  {
   "cell_type": "code",
   "execution_count": 56,
   "source": [
    "df['Type'].unique()"
   ],
   "outputs": [
    {
     "output_type": "execute_result",
     "data": {
      "text/plain": [
       "array(['CataclyV', 'Candidate_CV', nan, 'known_CV', 'N', 'Candidate',\n",
       "       'Candidate_Nova', 'Known_CV', 'DN', 'AntiNova',\n",
       "       'Cataclysmic_Variable'], dtype=object)"
      ]
     },
     "metadata": {},
     "execution_count": 56
    }
   ],
   "metadata": {}
  },
  {
   "cell_type": "code",
   "execution_count": 62,
   "source": [
    "df_select = df[df['Type'].isin(['CataclyV', 'Candidate_CV', 'known_CV', 'N', 'Candidate',\n",
    "       'Candidate_Nova', 'Known_CV', 'DN', 'AntiNova',\n",
    "       'Cataclysmic_Variable'])].reset_index(drop=True)"
   ],
   "outputs": [],
   "metadata": {}
  },
  {
   "cell_type": "code",
   "execution_count": 63,
   "source": [
    "df_select"
   ],
   "outputs": [
    {
     "output_type": "execute_result",
     "data": {
      "text/plain": [
       "                          Name  Disc. Date  Mag.           R.A.  \\\n",
       "0        1RXS_J013308.9+383218  2009/10/27   NaN    01:33:08.72   \n",
       "1        1RXS_J044027.0+023300  2009/02/19   NaN    04:40:27.14   \n",
       "2        1RXS_J221343.9+173301  2009/09/17   NaN    22:13:44.03   \n",
       "3      2MASS_J00153821+2636574  2009/09/18   NaN  00:15:38.2393   \n",
       "4      2MASS_J23255145-0140232  2009/11/16   NaN  23:25:51.4767   \n",
       "...                        ...         ...   ...            ...   \n",
       "11417             ZTF18abwurjm         NaN  19.7    20:07:54.82   \n",
       "11418             ZTF18aceglmy         NaN  19.6    19:49:47.59   \n",
       "11419             ZTF18acrultm         NaN   NaN    05:35:49.47   \n",
       "11420             ZTF19acecsfi         NaN   NaN    07:59:30.81   \n",
       "11421             ZTF20acplkub         NaN   NaN   00:39:30.700   \n",
       "\n",
       "                Dec.          Type  \n",
       "0        +38:32:17.2      CataclyV  \n",
       "1        +02:33:01.0      CataclyV  \n",
       "2        +17:32:51.9      CataclyV  \n",
       "3      +26:36:56.815      CataclyV  \n",
       "4      -01:40:23.646      CataclyV  \n",
       "...              ...           ...  \n",
       "11417    +03:27:38.1            DN  \n",
       "11418    +03:13:05.2            DN  \n",
       "11419    -03:32:51.3      CataclyV  \n",
       "11420    +44:16:21.5  Candidate_CV  \n",
       "11421   +40:31:00.88             N  \n",
       "\n",
       "[11422 rows x 6 columns]"
      ],
      "text/html": [
       "<div>\n",
       "<style scoped>\n",
       "    .dataframe tbody tr th:only-of-type {\n",
       "        vertical-align: middle;\n",
       "    }\n",
       "\n",
       "    .dataframe tbody tr th {\n",
       "        vertical-align: top;\n",
       "    }\n",
       "\n",
       "    .dataframe thead th {\n",
       "        text-align: right;\n",
       "    }\n",
       "</style>\n",
       "<table border=\"1\" class=\"dataframe\">\n",
       "  <thead>\n",
       "    <tr style=\"text-align: right;\">\n",
       "      <th></th>\n",
       "      <th>Name</th>\n",
       "      <th>Disc. Date</th>\n",
       "      <th>Mag.</th>\n",
       "      <th>R.A.</th>\n",
       "      <th>Dec.</th>\n",
       "      <th>Type</th>\n",
       "    </tr>\n",
       "  </thead>\n",
       "  <tbody>\n",
       "    <tr>\n",
       "      <th>0</th>\n",
       "      <td>1RXS_J013308.9+383218</td>\n",
       "      <td>2009/10/27</td>\n",
       "      <td>NaN</td>\n",
       "      <td>01:33:08.72</td>\n",
       "      <td>+38:32:17.2</td>\n",
       "      <td>CataclyV</td>\n",
       "    </tr>\n",
       "    <tr>\n",
       "      <th>1</th>\n",
       "      <td>1RXS_J044027.0+023300</td>\n",
       "      <td>2009/02/19</td>\n",
       "      <td>NaN</td>\n",
       "      <td>04:40:27.14</td>\n",
       "      <td>+02:33:01.0</td>\n",
       "      <td>CataclyV</td>\n",
       "    </tr>\n",
       "    <tr>\n",
       "      <th>2</th>\n",
       "      <td>1RXS_J221343.9+173301</td>\n",
       "      <td>2009/09/17</td>\n",
       "      <td>NaN</td>\n",
       "      <td>22:13:44.03</td>\n",
       "      <td>+17:32:51.9</td>\n",
       "      <td>CataclyV</td>\n",
       "    </tr>\n",
       "    <tr>\n",
       "      <th>3</th>\n",
       "      <td>2MASS_J00153821+2636574</td>\n",
       "      <td>2009/09/18</td>\n",
       "      <td>NaN</td>\n",
       "      <td>00:15:38.2393</td>\n",
       "      <td>+26:36:56.815</td>\n",
       "      <td>CataclyV</td>\n",
       "    </tr>\n",
       "    <tr>\n",
       "      <th>4</th>\n",
       "      <td>2MASS_J23255145-0140232</td>\n",
       "      <td>2009/11/16</td>\n",
       "      <td>NaN</td>\n",
       "      <td>23:25:51.4767</td>\n",
       "      <td>-01:40:23.646</td>\n",
       "      <td>CataclyV</td>\n",
       "    </tr>\n",
       "    <tr>\n",
       "      <th>...</th>\n",
       "      <td>...</td>\n",
       "      <td>...</td>\n",
       "      <td>...</td>\n",
       "      <td>...</td>\n",
       "      <td>...</td>\n",
       "      <td>...</td>\n",
       "    </tr>\n",
       "    <tr>\n",
       "      <th>11417</th>\n",
       "      <td>ZTF18abwurjm</td>\n",
       "      <td>NaN</td>\n",
       "      <td>19.7</td>\n",
       "      <td>20:07:54.82</td>\n",
       "      <td>+03:27:38.1</td>\n",
       "      <td>DN</td>\n",
       "    </tr>\n",
       "    <tr>\n",
       "      <th>11418</th>\n",
       "      <td>ZTF18aceglmy</td>\n",
       "      <td>NaN</td>\n",
       "      <td>19.6</td>\n",
       "      <td>19:49:47.59</td>\n",
       "      <td>+03:13:05.2</td>\n",
       "      <td>DN</td>\n",
       "    </tr>\n",
       "    <tr>\n",
       "      <th>11419</th>\n",
       "      <td>ZTF18acrultm</td>\n",
       "      <td>NaN</td>\n",
       "      <td>NaN</td>\n",
       "      <td>05:35:49.47</td>\n",
       "      <td>-03:32:51.3</td>\n",
       "      <td>CataclyV</td>\n",
       "    </tr>\n",
       "    <tr>\n",
       "      <th>11420</th>\n",
       "      <td>ZTF19acecsfi</td>\n",
       "      <td>NaN</td>\n",
       "      <td>NaN</td>\n",
       "      <td>07:59:30.81</td>\n",
       "      <td>+44:16:21.5</td>\n",
       "      <td>Candidate_CV</td>\n",
       "    </tr>\n",
       "    <tr>\n",
       "      <th>11421</th>\n",
       "      <td>ZTF20acplkub</td>\n",
       "      <td>NaN</td>\n",
       "      <td>NaN</td>\n",
       "      <td>00:39:30.700</td>\n",
       "      <td>+40:31:00.88</td>\n",
       "      <td>N</td>\n",
       "    </tr>\n",
       "  </tbody>\n",
       "</table>\n",
       "<p>11422 rows × 6 columns</p>\n",
       "</div>"
      ]
     },
     "metadata": {},
     "execution_count": 63
    }
   ],
   "metadata": {}
  },
  {
   "cell_type": "code",
   "execution_count": 50,
   "source": [
    "ra = df_select['R.A.']\n",
    "dec = df_select['Dec.']\n",
    "name = df_select['Name']\n",
    "num_obs = [] \n",
    "offset = []\n"
   ],
   "outputs": [],
   "metadata": {}
  },
  {
   "cell_type": "code",
   "execution_count": null,
   "source": [
    "type = df_select['Type']\n",
    "for index in tqdm(range(len(df_select))):\n",
    "    try :\n",
    "        s = search_csc(\n",
    "                        radunit=\"arcsec\", \n",
    "                        columns=fields, \n",
    "                        bands=\"broad\",\n",
    "                        clobber=\"yes\" ,\n",
    "                        radius= 10 , \n",
    "                        pos= str(ra[index])+','+str(dec[index])  ,\n",
    "                        outfile='temp.csv')\n",
    "                    #sys('search_csc outfile=trial.csv radunit=arcsec columns=\"SOS,SOP,SOV , o.gti_obs m.flux_aper_b\" bands=broad clobber=yes radius=1 pos=\"65.428058,32.907468\"')\n",
    "                    #print(s)\n",
    "                    \n",
    "        data = pd.read_csv('temp.csv', delimiter='\\t' , comment='#')\n",
    "        data = data[data['match_type']=='u          ']\n",
    "        data = data[data['instrument']=='ACIS']\n",
    "        data.index.name= 'index'\n",
    "        #f_name_fits = data_fits['A_NAME']\n",
    "        n = len(data)\n",
    "        num_obs.append(n)\n",
    "        if(n>0):\n",
    "            print('Match found --' , len(data))\n",
    "            data.to_csv('../data/all_data/CV_v2_all/'+name[index]+'.csv')\n",
    "    except:\n",
    "        print('Manual ispection needed :' , name[index])\n",
    "    #data.to_csv('temp_v2.csv')\n",
    "df_updated = df_select.copy()\n",
    "df_updated.insert(5 , 'num_obs' , num_obs)"
   ],
   "outputs": [],
   "metadata": {}
  },
  {
   "cell_type": "code",
   "execution_count": 33,
   "source": [
    "df_updated.to_csv('../source_list/CV_updated.csv')"
   ],
   "outputs": [],
   "metadata": {}
  }
 ],
 "metadata": {
  "orig_nbformat": 4,
  "language_info": {
   "name": "python",
   "version": "3.8.2",
   "mimetype": "text/x-python",
   "codemirror_mode": {
    "name": "ipython",
    "version": 3
   },
   "pygments_lexer": "ipython3",
   "nbconvert_exporter": "python",
   "file_extension": ".py"
  },
  "kernelspec": {
   "name": "python3",
   "display_name": "Python 3.8.2 64-bit ('ciao-4.13': conda)"
  },
  "interpreter": {
   "hash": "dd401eb9f4a87b4d7521ead9a1bfa480dfd22ffaf3593a2155d0c7cf261e4ebc"
  }
 },
 "nbformat": 4,
 "nbformat_minor": 2
}