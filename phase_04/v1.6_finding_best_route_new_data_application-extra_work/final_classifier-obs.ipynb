{
 "cells": [
  {
   "cell_type": "code",
   "execution_count": 12,
   "source": [
    "import numpy as np \n",
    "from matplotlib import pyplot as plt \n",
    "import seaborn as sns \n",
    "from tqdm import tqdm \n",
    "from sklearn.model_selection import train_test_split \n",
    "from sklearn.ensemble import RandomForestClassifier  , AdaBoostClassifier , GradientBoostingClassifier\n",
    "from sklearn.metrics import precision_score , recall_score \n",
    "import xgboost as xgb \n",
    "import pandas as pd \n",
    "import sklearn.neighbors._base\n",
    "from os import sys\n",
    "sys.modules['sklearn.neighbors.base'] = sklearn.neighbors._base\n",
    "from missingpy import MissForest \n",
    "from sklearn.metrics import confusion_matrix , ConfusionMatrixDisplay\n",
    "sns.set_style('whitegrid')\n",
    "%load_ext autoreload\n",
    "%autoreload 2\n",
    "sns.set_style('whitegrid')\n",
    "from IPython.display import display"
   ],
   "outputs": [
    {
     "output_type": "stream",
     "name": "stdout",
     "text": [
      "The autoreload extension is already loaded. To reload it, use:\n",
      "  %reload_ext autoreload\n"
     ]
    }
   ],
   "metadata": {}
  },
  {
   "cell_type": "code",
   "execution_count": 13,
   "source": [
    "def details(data_sent , comments = ''):\n",
    "    if(comments):\n",
    "        print(comments)\n",
    "    sp = (data_sent.isna().sum().sum())/ data_sent.size\n",
    "    print('________________________________________________')\n",
    "    print('Sparsity in the data : {:.2f}'.format(sp))\n",
    "    num_rows = data_sent.shape\n",
    "    print('Data shape' , num_rows)\n",
    "    #display(data_sent['class'].value_counts())\n",
    "    print('Number of sources : ')\n",
    "    cl = data_sent['class'].unique()\n",
    "    for c in cl:\n",
    "        num_src = len(data_sent[data_sent['class']==c]['src_id'].unique())\n",
    "        num_obs = len(data_sent[data_sent['class']==c])\n",
    "        print(c ,' \\t ' , num_src , '\\t' , num_obs)"
   ],
   "outputs": [],
   "metadata": {}
  },
  {
   "cell_type": "code",
   "execution_count": 14,
   "source": [
    "from features import phot_flux , en_flux , hard, powlaw_fit , bb_fit , brems_fit , intra_obs_var , inter_ob_var , info_col , phot_flux_hilim , phot_flux_lolim , en_flux_hilim , en_flux_lolim"
   ],
   "outputs": [],
   "metadata": {}
  },
  {
   "cell_type": "code",
   "execution_count": 15,
   "source": [
    "info_col_cl =  info_col+['class']"
   ],
   "outputs": [],
   "metadata": {}
  },
  {
   "cell_type": "code",
   "execution_count": 16,
   "source": [
    "data_imp_v2 = pd.read_csv('imputed_data/new-data-all-at-once-imp.csv' , index_col='obs_id')"
   ],
   "outputs": [],
   "metadata": {}
  },
  {
   "cell_type": "code",
   "execution_count": 17,
   "source": [
    "details(data_imp_v2)"
   ],
   "outputs": [
    {
     "output_type": "stream",
     "name": "stdout",
     "text": [
      "________________________________________________\n",
      "Sparsity in the data : 0.00\n",
      "Data shape (3103, 59)\n",
      "Number of sources : \n",
      "CV  \t  184 \t 1582\n",
      "PL  \t  178 \t 1000\n",
      "LX  \t  58 \t 521\n"
     ]
    }
   ],
   "metadata": {}
  },
  {
   "cell_type": "code",
   "execution_count": 18,
   "source": [
    "data_id = data_imp_v2[info_col]\n",
    "data_label = data_imp_v2['class']\n",
    "data_val = data_imp_v2.drop(columns=['class']+info_col)\n",
    "data_imp_norm = data_imp_v2.copy()\n",
    "for c in data_val.columns.to_list():\n",
    "    data_imp_norm.loc[:,c] = (data_imp_norm.loc[:,c] - data_imp_norm.loc[:,c].mean()) / data_imp_norm.loc[:,c].std()\n",
    "data_imp_norm"
   ],
   "outputs": [
    {
     "output_type": "execute_result",
     "data": {
      "text/plain": [
       "                src_id  num_obs                    src_n  \\\n",
       "obs_id                                                     \n",
       "CV_0_obs_0        CV_0       25  CSS120424:125906+242634   \n",
       "CV_0_obs_1        CV_0       25  CSS120424:125906+242634   \n",
       "CV_0_obs_2        CV_0       25  CSS120424:125906+242634   \n",
       "CV_0_obs_3        CV_0       25  CSS120424:125906+242634   \n",
       "CV_0_obs_4        CV_0       25  CSS120424:125906+242634   \n",
       "...                ...      ...                      ...   \n",
       "LMXB_86_obs_0  LMXB_86        1    SAX_J1810.8-2609_____   \n",
       "LMXB_90_obs_0  LMXB_90        1    XTE_J2123-058________   \n",
       "LMXB_91_obs_0  LMXB_91        1    XB_1732-304__________   \n",
       "LMXB_92_obs_0  LMXB_92        1    BW_ANT_______________   \n",
       "LMXB_94_obs_0  LMXB_94        1    J1748-3607___________   \n",
       "\n",
       "                                 name         ra        dec  livetime  \\\n",
       "obs_id                                                                  \n",
       "CV_0_obs_0      2CXO J004247.1+411619   10.69654  41.272150    4103.7   \n",
       "CV_0_obs_1      2CXO J004247.1+411619   10.69654  41.272150    3907.5   \n",
       "CV_0_obs_2      2CXO J004247.1+411619   10.69654  41.272150    3907.5   \n",
       "CV_0_obs_3      2CXO J004247.1+411619   10.69654  41.272150    3904.6   \n",
       "CV_0_obs_4      2CXO J004247.1+411619   10.69654  41.272150    3907.5   \n",
       "...                               ...        ...        ...       ...   \n",
       "LMXB_86_obs_0   2CXO J181044.4-260901  272.68530 -26.150370   31871.5   \n",
       "LMXB_90_obs_0   2CXO J212314.5-054753  320.81060  -5.798128   17705.1   \n",
       "LMXB_91_obs_0   2CXO J173547.0-302858  263.94590 -30.482820   18855.8   \n",
       "LMXB_92_obs_0   2CXO J092920.1-312303  142.33410 -31.384270   24445.9   \n",
       "LMXB_94_obs_0   2CXO J174813.1-360758  267.05470 -36.132810   15794.5   \n",
       "\n",
       "               significance   likelihood class  ...  kp_prob_b  var_max_b  \\\n",
       "obs_id                                          ...                         \n",
       "CV_0_obs_0            52.93  16618.73000    CV  ...  -0.026608  -0.049653   \n",
       "CV_0_obs_1            52.93  16618.73000    CV  ...  -0.269488  -0.079118   \n",
       "CV_0_obs_2            52.93  16618.73000    CV  ...  -0.002115  -0.087910   \n",
       "CV_0_obs_3            52.93  16618.73000    CV  ...  -0.173142  -0.272394   \n",
       "CV_0_obs_4            52.93  16618.73000    CV  ...   0.106439  -0.069993   \n",
       "...                     ...          ...   ...  ...        ...        ...   \n",
       "LMXB_86_obs_0          9.29    512.97550    LX  ...  -0.239104  -0.312200   \n",
       "LMXB_90_obs_0          4.06    132.76700    LX  ...  -1.510277  -0.311001   \n",
       "LMXB_91_obs_0          4.89    114.24570    LX  ...  -0.208099  -0.350656   \n",
       "LMXB_92_obs_0          3.70     75.53454    LX  ...   0.729779  -0.441900   \n",
       "LMXB_94_obs_0          3.09     50.50810    LX  ...  -1.750560  -0.436272   \n",
       "\n",
       "               var_min_b  var_mean_b  var_sigma_b  ks_prob_b  var_prob_b  \\\n",
       "obs_id                                                                     \n",
       "CV_0_obs_0     -0.309138   -0.300524     0.105078  -0.373526    0.309991   \n",
       "CV_0_obs_1     -0.296220   -0.300223     0.047667  -0.454109    0.148182   \n",
       "CV_0_obs_2     -0.306564   -0.302146     0.007668  -0.380184    0.301590   \n",
       "CV_0_obs_3     -0.294054   -0.315510    -0.141624  -0.382854    0.422968   \n",
       "CV_0_obs_4     -0.243589   -0.249620     0.066678  -0.363115    0.202656   \n",
       "...                  ...         ...          ...        ...         ...   \n",
       "LMXB_86_obs_0  -0.129559   -0.198625    -0.290714   0.958220   -1.650464   \n",
       "LMXB_90_obs_0  -0.352704   -0.387224    -0.230533  -1.224717    1.416856   \n",
       "LMXB_91_obs_0  -0.312236   -0.349917    -0.242243   0.594397   -0.093470   \n",
       "LMXB_92_obs_0  -0.404614   -0.422815    -0.244951   1.387841    0.568358   \n",
       "LMXB_94_obs_0  -0.382791   -0.419298    -0.282110  -1.731747   -0.394687   \n",
       "\n",
       "               var_inter_index_s  var_inter_index_m  var_inter_sigma_u  \n",
       "obs_id                                                                  \n",
       "CV_0_obs_0              0.083851          -0.812861           0.587816  \n",
       "CV_0_obs_1              0.083851          -0.812861           0.620034  \n",
       "CV_0_obs_2              0.083851          -0.812861           0.595509  \n",
       "CV_0_obs_3              0.083851          -0.812861           0.586296  \n",
       "CV_0_obs_4              0.083851          -0.812861           0.591752  \n",
       "...                          ...                ...                ...  \n",
       "LMXB_86_obs_0           0.150286          -0.828413          -0.145712  \n",
       "LMXB_90_obs_0           0.083851          -0.828413          -0.145380  \n",
       "LMXB_91_obs_0          -1.124061           0.192798          -0.171543  \n",
       "LMXB_92_obs_0           0.083851          -0.828413          -0.145870  \n",
       "LMXB_94_obs_0           0.089891          -0.828413          -0.143066  \n",
       "\n",
       "[3103 rows x 59 columns]"
      ],
      "text/html": [
       "<div>\n",
       "<style scoped>\n",
       "    .dataframe tbody tr th:only-of-type {\n",
       "        vertical-align: middle;\n",
       "    }\n",
       "\n",
       "    .dataframe tbody tr th {\n",
       "        vertical-align: top;\n",
       "    }\n",
       "\n",
       "    .dataframe thead th {\n",
       "        text-align: right;\n",
       "    }\n",
       "</style>\n",
       "<table border=\"1\" class=\"dataframe\">\n",
       "  <thead>\n",
       "    <tr style=\"text-align: right;\">\n",
       "      <th></th>\n",
       "      <th>src_id</th>\n",
       "      <th>num_obs</th>\n",
       "      <th>src_n</th>\n",
       "      <th>name</th>\n",
       "      <th>ra</th>\n",
       "      <th>dec</th>\n",
       "      <th>livetime</th>\n",
       "      <th>significance</th>\n",
       "      <th>likelihood</th>\n",
       "      <th>class</th>\n",
       "      <th>...</th>\n",
       "      <th>kp_prob_b</th>\n",
       "      <th>var_max_b</th>\n",
       "      <th>var_min_b</th>\n",
       "      <th>var_mean_b</th>\n",
       "      <th>var_sigma_b</th>\n",
       "      <th>ks_prob_b</th>\n",
       "      <th>var_prob_b</th>\n",
       "      <th>var_inter_index_s</th>\n",
       "      <th>var_inter_index_m</th>\n",
       "      <th>var_inter_sigma_u</th>\n",
       "    </tr>\n",
       "    <tr>\n",
       "      <th>obs_id</th>\n",
       "      <th></th>\n",
       "      <th></th>\n",
       "      <th></th>\n",
       "      <th></th>\n",
       "      <th></th>\n",
       "      <th></th>\n",
       "      <th></th>\n",
       "      <th></th>\n",
       "      <th></th>\n",
       "      <th></th>\n",
       "      <th></th>\n",
       "      <th></th>\n",
       "      <th></th>\n",
       "      <th></th>\n",
       "      <th></th>\n",
       "      <th></th>\n",
       "      <th></th>\n",
       "      <th></th>\n",
       "      <th></th>\n",
       "      <th></th>\n",
       "      <th></th>\n",
       "    </tr>\n",
       "  </thead>\n",
       "  <tbody>\n",
       "    <tr>\n",
       "      <th>CV_0_obs_0</th>\n",
       "      <td>CV_0</td>\n",
       "      <td>25</td>\n",
       "      <td>CSS120424:125906+242634</td>\n",
       "      <td>2CXO J004247.1+411619</td>\n",
       "      <td>10.69654</td>\n",
       "      <td>41.272150</td>\n",
       "      <td>4103.7</td>\n",
       "      <td>52.93</td>\n",
       "      <td>16618.73000</td>\n",
       "      <td>CV</td>\n",
       "      <td>...</td>\n",
       "      <td>-0.026608</td>\n",
       "      <td>-0.049653</td>\n",
       "      <td>-0.309138</td>\n",
       "      <td>-0.300524</td>\n",
       "      <td>0.105078</td>\n",
       "      <td>-0.373526</td>\n",
       "      <td>0.309991</td>\n",
       "      <td>0.083851</td>\n",
       "      <td>-0.812861</td>\n",
       "      <td>0.587816</td>\n",
       "    </tr>\n",
       "    <tr>\n",
       "      <th>CV_0_obs_1</th>\n",
       "      <td>CV_0</td>\n",
       "      <td>25</td>\n",
       "      <td>CSS120424:125906+242634</td>\n",
       "      <td>2CXO J004247.1+411619</td>\n",
       "      <td>10.69654</td>\n",
       "      <td>41.272150</td>\n",
       "      <td>3907.5</td>\n",
       "      <td>52.93</td>\n",
       "      <td>16618.73000</td>\n",
       "      <td>CV</td>\n",
       "      <td>...</td>\n",
       "      <td>-0.269488</td>\n",
       "      <td>-0.079118</td>\n",
       "      <td>-0.296220</td>\n",
       "      <td>-0.300223</td>\n",
       "      <td>0.047667</td>\n",
       "      <td>-0.454109</td>\n",
       "      <td>0.148182</td>\n",
       "      <td>0.083851</td>\n",
       "      <td>-0.812861</td>\n",
       "      <td>0.620034</td>\n",
       "    </tr>\n",
       "    <tr>\n",
       "      <th>CV_0_obs_2</th>\n",
       "      <td>CV_0</td>\n",
       "      <td>25</td>\n",
       "      <td>CSS120424:125906+242634</td>\n",
       "      <td>2CXO J004247.1+411619</td>\n",
       "      <td>10.69654</td>\n",
       "      <td>41.272150</td>\n",
       "      <td>3907.5</td>\n",
       "      <td>52.93</td>\n",
       "      <td>16618.73000</td>\n",
       "      <td>CV</td>\n",
       "      <td>...</td>\n",
       "      <td>-0.002115</td>\n",
       "      <td>-0.087910</td>\n",
       "      <td>-0.306564</td>\n",
       "      <td>-0.302146</td>\n",
       "      <td>0.007668</td>\n",
       "      <td>-0.380184</td>\n",
       "      <td>0.301590</td>\n",
       "      <td>0.083851</td>\n",
       "      <td>-0.812861</td>\n",
       "      <td>0.595509</td>\n",
       "    </tr>\n",
       "    <tr>\n",
       "      <th>CV_0_obs_3</th>\n",
       "      <td>CV_0</td>\n",
       "      <td>25</td>\n",
       "      <td>CSS120424:125906+242634</td>\n",
       "      <td>2CXO J004247.1+411619</td>\n",
       "      <td>10.69654</td>\n",
       "      <td>41.272150</td>\n",
       "      <td>3904.6</td>\n",
       "      <td>52.93</td>\n",
       "      <td>16618.73000</td>\n",
       "      <td>CV</td>\n",
       "      <td>...</td>\n",
       "      <td>-0.173142</td>\n",
       "      <td>-0.272394</td>\n",
       "      <td>-0.294054</td>\n",
       "      <td>-0.315510</td>\n",
       "      <td>-0.141624</td>\n",
       "      <td>-0.382854</td>\n",
       "      <td>0.422968</td>\n",
       "      <td>0.083851</td>\n",
       "      <td>-0.812861</td>\n",
       "      <td>0.586296</td>\n",
       "    </tr>\n",
       "    <tr>\n",
       "      <th>CV_0_obs_4</th>\n",
       "      <td>CV_0</td>\n",
       "      <td>25</td>\n",
       "      <td>CSS120424:125906+242634</td>\n",
       "      <td>2CXO J004247.1+411619</td>\n",
       "      <td>10.69654</td>\n",
       "      <td>41.272150</td>\n",
       "      <td>3907.5</td>\n",
       "      <td>52.93</td>\n",
       "      <td>16618.73000</td>\n",
       "      <td>CV</td>\n",
       "      <td>...</td>\n",
       "      <td>0.106439</td>\n",
       "      <td>-0.069993</td>\n",
       "      <td>-0.243589</td>\n",
       "      <td>-0.249620</td>\n",
       "      <td>0.066678</td>\n",
       "      <td>-0.363115</td>\n",
       "      <td>0.202656</td>\n",
       "      <td>0.083851</td>\n",
       "      <td>-0.812861</td>\n",
       "      <td>0.591752</td>\n",
       "    </tr>\n",
       "    <tr>\n",
       "      <th>...</th>\n",
       "      <td>...</td>\n",
       "      <td>...</td>\n",
       "      <td>...</td>\n",
       "      <td>...</td>\n",
       "      <td>...</td>\n",
       "      <td>...</td>\n",
       "      <td>...</td>\n",
       "      <td>...</td>\n",
       "      <td>...</td>\n",
       "      <td>...</td>\n",
       "      <td>...</td>\n",
       "      <td>...</td>\n",
       "      <td>...</td>\n",
       "      <td>...</td>\n",
       "      <td>...</td>\n",
       "      <td>...</td>\n",
       "      <td>...</td>\n",
       "      <td>...</td>\n",
       "      <td>...</td>\n",
       "      <td>...</td>\n",
       "      <td>...</td>\n",
       "    </tr>\n",
       "    <tr>\n",
       "      <th>LMXB_86_obs_0</th>\n",
       "      <td>LMXB_86</td>\n",
       "      <td>1</td>\n",
       "      <td>SAX_J1810.8-2609_____</td>\n",
       "      <td>2CXO J181044.4-260901</td>\n",
       "      <td>272.68530</td>\n",
       "      <td>-26.150370</td>\n",
       "      <td>31871.5</td>\n",
       "      <td>9.29</td>\n",
       "      <td>512.97550</td>\n",
       "      <td>LX</td>\n",
       "      <td>...</td>\n",
       "      <td>-0.239104</td>\n",
       "      <td>-0.312200</td>\n",
       "      <td>-0.129559</td>\n",
       "      <td>-0.198625</td>\n",
       "      <td>-0.290714</td>\n",
       "      <td>0.958220</td>\n",
       "      <td>-1.650464</td>\n",
       "      <td>0.150286</td>\n",
       "      <td>-0.828413</td>\n",
       "      <td>-0.145712</td>\n",
       "    </tr>\n",
       "    <tr>\n",
       "      <th>LMXB_90_obs_0</th>\n",
       "      <td>LMXB_90</td>\n",
       "      <td>1</td>\n",
       "      <td>XTE_J2123-058________</td>\n",
       "      <td>2CXO J212314.5-054753</td>\n",
       "      <td>320.81060</td>\n",
       "      <td>-5.798128</td>\n",
       "      <td>17705.1</td>\n",
       "      <td>4.06</td>\n",
       "      <td>132.76700</td>\n",
       "      <td>LX</td>\n",
       "      <td>...</td>\n",
       "      <td>-1.510277</td>\n",
       "      <td>-0.311001</td>\n",
       "      <td>-0.352704</td>\n",
       "      <td>-0.387224</td>\n",
       "      <td>-0.230533</td>\n",
       "      <td>-1.224717</td>\n",
       "      <td>1.416856</td>\n",
       "      <td>0.083851</td>\n",
       "      <td>-0.828413</td>\n",
       "      <td>-0.145380</td>\n",
       "    </tr>\n",
       "    <tr>\n",
       "      <th>LMXB_91_obs_0</th>\n",
       "      <td>LMXB_91</td>\n",
       "      <td>1</td>\n",
       "      <td>XB_1732-304__________</td>\n",
       "      <td>2CXO J173547.0-302858</td>\n",
       "      <td>263.94590</td>\n",
       "      <td>-30.482820</td>\n",
       "      <td>18855.8</td>\n",
       "      <td>4.89</td>\n",
       "      <td>114.24570</td>\n",
       "      <td>LX</td>\n",
       "      <td>...</td>\n",
       "      <td>-0.208099</td>\n",
       "      <td>-0.350656</td>\n",
       "      <td>-0.312236</td>\n",
       "      <td>-0.349917</td>\n",
       "      <td>-0.242243</td>\n",
       "      <td>0.594397</td>\n",
       "      <td>-0.093470</td>\n",
       "      <td>-1.124061</td>\n",
       "      <td>0.192798</td>\n",
       "      <td>-0.171543</td>\n",
       "    </tr>\n",
       "    <tr>\n",
       "      <th>LMXB_92_obs_0</th>\n",
       "      <td>LMXB_92</td>\n",
       "      <td>1</td>\n",
       "      <td>BW_ANT_______________</td>\n",
       "      <td>2CXO J092920.1-312303</td>\n",
       "      <td>142.33410</td>\n",
       "      <td>-31.384270</td>\n",
       "      <td>24445.9</td>\n",
       "      <td>3.70</td>\n",
       "      <td>75.53454</td>\n",
       "      <td>LX</td>\n",
       "      <td>...</td>\n",
       "      <td>0.729779</td>\n",
       "      <td>-0.441900</td>\n",
       "      <td>-0.404614</td>\n",
       "      <td>-0.422815</td>\n",
       "      <td>-0.244951</td>\n",
       "      <td>1.387841</td>\n",
       "      <td>0.568358</td>\n",
       "      <td>0.083851</td>\n",
       "      <td>-0.828413</td>\n",
       "      <td>-0.145870</td>\n",
       "    </tr>\n",
       "    <tr>\n",
       "      <th>LMXB_94_obs_0</th>\n",
       "      <td>LMXB_94</td>\n",
       "      <td>1</td>\n",
       "      <td>J1748-3607___________</td>\n",
       "      <td>2CXO J174813.1-360758</td>\n",
       "      <td>267.05470</td>\n",
       "      <td>-36.132810</td>\n",
       "      <td>15794.5</td>\n",
       "      <td>3.09</td>\n",
       "      <td>50.50810</td>\n",
       "      <td>LX</td>\n",
       "      <td>...</td>\n",
       "      <td>-1.750560</td>\n",
       "      <td>-0.436272</td>\n",
       "      <td>-0.382791</td>\n",
       "      <td>-0.419298</td>\n",
       "      <td>-0.282110</td>\n",
       "      <td>-1.731747</td>\n",
       "      <td>-0.394687</td>\n",
       "      <td>0.089891</td>\n",
       "      <td>-0.828413</td>\n",
       "      <td>-0.143066</td>\n",
       "    </tr>\n",
       "  </tbody>\n",
       "</table>\n",
       "<p>3103 rows × 59 columns</p>\n",
       "</div>"
      ]
     },
     "metadata": {},
     "execution_count": 18
    }
   ],
   "metadata": {}
  },
  {
   "cell_type": "code",
   "execution_count": 19,
   "source": [
    "details(data_imp_norm)"
   ],
   "outputs": [
    {
     "output_type": "stream",
     "name": "stdout",
     "text": [
      "________________________________________________\n",
      "Sparsity in the data : 0.00\n",
      "Data shape (3103, 59)\n",
      "Number of sources : \n",
      "CV  \t  184 \t 1582\n",
      "PL  \t  178 \t 1000\n",
      "LX  \t  58 \t 521\n"
     ]
    }
   ],
   "metadata": {}
  },
  {
   "cell_type": "code",
   "execution_count": 20,
   "source": [
    "verbose = 0\n",
    "val_acc = []\n",
    "test_acc = []\n",
    "for i in tqdm(range(32)):\n",
    "    src_list = pd.DataFrame()\n",
    "    class_to_select = ['CV' , 'LX' , 'PL']\n",
    "    df = data_imp_norm.copy()\n",
    "    for cl in class_to_select:\n",
    "        src = df[df['class']==cl]['src_id'].value_counts().sort_values()\n",
    "        #display(src)\n",
    "        src = src.iloc[:int(len(src)*0.4)]\n",
    "        src_select = src.sample(frac=0.5)\n",
    "        src_id = src_select.index.to_list()\n",
    "        src_obs = src_select.to_list()\n",
    "        temp_src = pd.DataFrame({ \n",
    "            'src_id' : src_id , \n",
    "            'obs_count' : src_obs\n",
    "        })\n",
    "        src_list = src_list.append(temp_src)\n",
    "    #src_list\n",
    "\n",
    "    all_src = np.unique(df['src_id'].to_list())\n",
    "    test_src = src_list['src_id'].to_list()\n",
    "    train_src= list(set(all_src) - set(src_list['src_id']))\n",
    "    # if(verbose):\n",
    "    #     print('Total Number of ssources :' , len(all_src))\n",
    "    #     print('Training_sources : ' , len(train_src) )\n",
    "    #     print('Validation sources :' , len(test_src))\n",
    "\n",
    "    # df = df.replace({\n",
    "    #     \"BH\" :2 , \n",
    "    #     \"NS\" : 2 ,\n",
    "    #     \"CV\" : 0 , \n",
    "    #     \"PULSAR\" : 1 \n",
    "    # })\n",
    "\n",
    "\n",
    "    df= df[df['class'].isin(class_to_select)]\n",
    "    df \n",
    "\n",
    "\n",
    "\n",
    "    df_train  = df[df['src_id'].isin(train_src)]\n",
    "    df_test = df[df['src_id'].isin(test_src)]\n",
    "\n",
    "    df_train = df_train[df_train['class'].isin(class_to_select)]\n",
    "    df_test = df_test[df_test['class'].isin(class_to_select)]\n",
    "\n",
    "    if(verbose):\n",
    "        details(df_train)\n",
    "        details(df_test)\n",
    "\n",
    "    train_id = df_train[info_col]\n",
    "    train_label = df_train['class']\n",
    "    train_value = df_train.drop(columns=['class']+info_col)\n",
    "\n",
    "\n",
    "    i_val = df_test[info_col]\n",
    "    y_val = df_test['class']\n",
    "    x_val = df_test.drop(columns=['class']+info_col)\n",
    "\n",
    "    clf = RandomForestClassifier(\n",
    "        n_estimators = 200 , n_jobs=-1\n",
    "    )\n",
    "    #clf = AdaBoostClassifier(base_estimator=clf ,)\n",
    "    #clf = xgb.XGBRFClassifier(n_componets=200)\n",
    "    x_train , x_test , y_train , y_test = train_test_split(train_value , train_label , test_size=0.2 , stratify=train_label, random_state=9)\n",
    "    clf.fit(x_train , y_train)\n",
    "    v_sc = clf.score(x_val , y_val)\n",
    "    test_sc = clf.score(x_test, y_test)\n",
    "    val_acc.append(v_sc)\n",
    "    test_acc.append(test_sc)\n",
    "    #if(verbose):\n",
    "    print(v_sc)"
   ],
   "outputs": [
    {
     "output_type": "stream",
     "name": "stderr",
     "text": [
      "  3%|▎         | 1/32 [00:01<00:37,  1.21s/it]"
     ]
    },
    {
     "output_type": "stream",
     "name": "stdout",
     "text": [
      "0.5242718446601942\n"
     ]
    },
    {
     "output_type": "stream",
     "name": "stderr",
     "text": [
      "  6%|▋         | 2/32 [00:02<00:33,  1.13s/it]"
     ]
    },
    {
     "output_type": "stream",
     "name": "stdout",
     "text": [
      "0.6116504854368932\n"
     ]
    },
    {
     "output_type": "stream",
     "name": "stderr",
     "text": [
      "  9%|▉         | 3/32 [00:03<00:32,  1.12s/it]"
     ]
    },
    {
     "output_type": "stream",
     "name": "stdout",
     "text": [
      "0.6057692307692307\n"
     ]
    },
    {
     "output_type": "stream",
     "name": "stderr",
     "text": [
      " 12%|█▎        | 4/32 [00:04<00:30,  1.10s/it]"
     ]
    },
    {
     "output_type": "stream",
     "name": "stdout",
     "text": [
      "0.5656565656565656\n"
     ]
    },
    {
     "output_type": "stream",
     "name": "stderr",
     "text": [
      " 16%|█▌        | 5/32 [00:05<00:28,  1.06s/it]"
     ]
    },
    {
     "output_type": "stream",
     "name": "stdout",
     "text": [
      "0.638095238095238\n"
     ]
    },
    {
     "output_type": "stream",
     "name": "stderr",
     "text": [
      " 19%|█▉        | 6/32 [00:06<00:27,  1.06s/it]"
     ]
    },
    {
     "output_type": "stream",
     "name": "stdout",
     "text": [
      "0.5742574257425742\n"
     ]
    },
    {
     "output_type": "stream",
     "name": "stderr",
     "text": [
      " 22%|██▏       | 7/32 [00:07<00:28,  1.15s/it]"
     ]
    },
    {
     "output_type": "stream",
     "name": "stdout",
     "text": [
      "0.5204081632653061\n"
     ]
    },
    {
     "output_type": "stream",
     "name": "stderr",
     "text": [
      " 25%|██▌       | 8/32 [00:08<00:27,  1.13s/it]"
     ]
    },
    {
     "output_type": "stream",
     "name": "stdout",
     "text": [
      "0.6568627450980392\n"
     ]
    },
    {
     "output_type": "stream",
     "name": "stderr",
     "text": [
      " 28%|██▊       | 9/32 [00:10<00:28,  1.22s/it]"
     ]
    },
    {
     "output_type": "stream",
     "name": "stdout",
     "text": [
      "0.6767676767676768\n"
     ]
    },
    {
     "output_type": "stream",
     "name": "stderr",
     "text": [
      " 31%|███▏      | 10/32 [00:11<00:29,  1.35s/it]"
     ]
    },
    {
     "output_type": "stream",
     "name": "stdout",
     "text": [
      "0.5480769230769231\n"
     ]
    },
    {
     "output_type": "stream",
     "name": "stderr",
     "text": [
      " 34%|███▍      | 11/32 [00:13<00:27,  1.29s/it]"
     ]
    },
    {
     "output_type": "stream",
     "name": "stdout",
     "text": [
      "0.6568627450980392\n"
     ]
    },
    {
     "output_type": "stream",
     "name": "stderr",
     "text": [
      " 38%|███▊      | 12/32 [00:14<00:26,  1.32s/it]"
     ]
    },
    {
     "output_type": "stream",
     "name": "stdout",
     "text": [
      "0.5247524752475248\n"
     ]
    },
    {
     "output_type": "stream",
     "name": "stderr",
     "text": [
      " 41%|████      | 13/32 [00:15<00:24,  1.27s/it]"
     ]
    },
    {
     "output_type": "stream",
     "name": "stdout",
     "text": [
      "0.7058823529411765\n"
     ]
    },
    {
     "output_type": "stream",
     "name": "stderr",
     "text": [
      " 44%|████▍     | 14/32 [00:16<00:22,  1.24s/it]"
     ]
    },
    {
     "output_type": "stream",
     "name": "stdout",
     "text": [
      "0.5588235294117647\n"
     ]
    },
    {
     "output_type": "stream",
     "name": "stderr",
     "text": [
      " 47%|████▋     | 15/32 [00:17<00:19,  1.16s/it]"
     ]
    },
    {
     "output_type": "stream",
     "name": "stdout",
     "text": [
      "0.5980392156862745\n"
     ]
    },
    {
     "output_type": "stream",
     "name": "stderr",
     "text": [
      " 50%|█████     | 16/32 [00:19<00:18,  1.18s/it]"
     ]
    },
    {
     "output_type": "stream",
     "name": "stdout",
     "text": [
      "0.5742574257425742\n"
     ]
    },
    {
     "output_type": "stream",
     "name": "stderr",
     "text": [
      " 53%|█████▎    | 17/32 [00:20<00:17,  1.17s/it]"
     ]
    },
    {
     "output_type": "stream",
     "name": "stdout",
     "text": [
      "0.580952380952381\n"
     ]
    },
    {
     "output_type": "stream",
     "name": "stderr",
     "text": [
      " 56%|█████▋    | 18/32 [00:21<00:16,  1.17s/it]"
     ]
    },
    {
     "output_type": "stream",
     "name": "stdout",
     "text": [
      "0.6057692307692307\n"
     ]
    },
    {
     "output_type": "stream",
     "name": "stderr",
     "text": [
      " 59%|█████▉    | 19/32 [00:22<00:14,  1.11s/it]"
     ]
    },
    {
     "output_type": "stream",
     "name": "stdout",
     "text": [
      "0.6435643564356436\n"
     ]
    },
    {
     "output_type": "stream",
     "name": "stderr",
     "text": [
      " 62%|██████▎   | 20/32 [00:23<00:12,  1.06s/it]"
     ]
    },
    {
     "output_type": "stream",
     "name": "stdout",
     "text": [
      "0.5961538461538461\n"
     ]
    },
    {
     "output_type": "stream",
     "name": "stderr",
     "text": [
      " 66%|██████▌   | 21/32 [00:24<00:12,  1.09s/it]"
     ]
    },
    {
     "output_type": "stream",
     "name": "stdout",
     "text": [
      "0.5392156862745098\n"
     ]
    },
    {
     "output_type": "stream",
     "name": "stderr",
     "text": [
      " 69%|██████▉   | 22/32 [00:25<00:10,  1.05s/it]"
     ]
    },
    {
     "output_type": "stream",
     "name": "stdout",
     "text": [
      "0.51\n"
     ]
    },
    {
     "output_type": "stream",
     "name": "stderr",
     "text": [
      " 72%|███████▏  | 23/32 [00:26<00:09,  1.01s/it]"
     ]
    },
    {
     "output_type": "stream",
     "name": "stdout",
     "text": [
      "0.5\n"
     ]
    },
    {
     "output_type": "stream",
     "name": "stderr",
     "text": [
      " 75%|███████▌  | 24/32 [00:27<00:08,  1.02s/it]"
     ]
    },
    {
     "output_type": "stream",
     "name": "stdout",
     "text": [
      "0.6213592233009708\n"
     ]
    },
    {
     "output_type": "stream",
     "name": "stderr",
     "text": [
      " 78%|███████▊  | 25/32 [00:28<00:07,  1.03s/it]"
     ]
    },
    {
     "output_type": "stream",
     "name": "stdout",
     "text": [
      "0.6326530612244898\n"
     ]
    },
    {
     "output_type": "stream",
     "name": "stderr",
     "text": [
      " 81%|████████▏ | 26/32 [00:29<00:06,  1.07s/it]"
     ]
    },
    {
     "output_type": "stream",
     "name": "stdout",
     "text": [
      "0.5714285714285714\n"
     ]
    },
    {
     "output_type": "stream",
     "name": "stderr",
     "text": [
      " 84%|████████▍ | 27/32 [00:30<00:05,  1.11s/it]"
     ]
    },
    {
     "output_type": "stream",
     "name": "stdout",
     "text": [
      "0.6176470588235294\n"
     ]
    },
    {
     "output_type": "stream",
     "name": "stderr",
     "text": [
      " 88%|████████▊ | 28/32 [00:31<00:04,  1.07s/it]"
     ]
    },
    {
     "output_type": "stream",
     "name": "stdout",
     "text": [
      "0.6831683168316832\n"
     ]
    },
    {
     "output_type": "stream",
     "name": "stderr",
     "text": [
      " 91%|█████████ | 29/32 [00:32<00:03,  1.10s/it]"
     ]
    },
    {
     "output_type": "stream",
     "name": "stdout",
     "text": [
      "0.5510204081632653\n"
     ]
    },
    {
     "output_type": "stream",
     "name": "stderr",
     "text": [
      " 94%|█████████▍| 30/32 [00:33<00:02,  1.08s/it]"
     ]
    },
    {
     "output_type": "stream",
     "name": "stdout",
     "text": [
      "0.6470588235294118\n"
     ]
    },
    {
     "output_type": "stream",
     "name": "stderr",
     "text": [
      " 97%|█████████▋| 31/32 [00:35<00:01,  1.13s/it]"
     ]
    },
    {
     "output_type": "stream",
     "name": "stdout",
     "text": [
      "0.55\n"
     ]
    },
    {
     "output_type": "stream",
     "name": "stderr",
     "text": [
      "100%|██████████| 32/32 [00:36<00:00,  1.13s/it]"
     ]
    },
    {
     "output_type": "stream",
     "name": "stdout",
     "text": [
      "0.6213592233009708\n"
     ]
    },
    {
     "output_type": "stream",
     "name": "stderr",
     "text": [
      "\n"
     ]
    }
   ],
   "metadata": {}
  },
  {
   "cell_type": "code",
   "execution_count": 21,
   "source": [
    "score = pd.DataFrame({\n",
    "    \"Test Score\" : test_acc, \n",
    "    \"Validation Score\" : val_acc\n",
    "})*100\n",
    "score.describe().loc[['mean' , 'std' , 'min', 'max' ]]"
   ],
   "outputs": [
    {
     "output_type": "execute_result",
     "data": {
      "text/plain": [
       "      Test Score  Validation Score\n",
       "mean   94.490537         59.411826\n",
       "std     0.490502          5.386862\n",
       "min    93.833333         50.000000\n",
       "max    95.666667         70.588235"
      ],
      "text/html": [
       "<div>\n",
       "<style scoped>\n",
       "    .dataframe tbody tr th:only-of-type {\n",
       "        vertical-align: middle;\n",
       "    }\n",
       "\n",
       "    .dataframe tbody tr th {\n",
       "        vertical-align: top;\n",
       "    }\n",
       "\n",
       "    .dataframe thead th {\n",
       "        text-align: right;\n",
       "    }\n",
       "</style>\n",
       "<table border=\"1\" class=\"dataframe\">\n",
       "  <thead>\n",
       "    <tr style=\"text-align: right;\">\n",
       "      <th></th>\n",
       "      <th>Test Score</th>\n",
       "      <th>Validation Score</th>\n",
       "    </tr>\n",
       "  </thead>\n",
       "  <tbody>\n",
       "    <tr>\n",
       "      <th>mean</th>\n",
       "      <td>94.490537</td>\n",
       "      <td>59.411826</td>\n",
       "    </tr>\n",
       "    <tr>\n",
       "      <th>std</th>\n",
       "      <td>0.490502</td>\n",
       "      <td>5.386862</td>\n",
       "    </tr>\n",
       "    <tr>\n",
       "      <th>min</th>\n",
       "      <td>93.833333</td>\n",
       "      <td>50.000000</td>\n",
       "    </tr>\n",
       "    <tr>\n",
       "      <th>max</th>\n",
       "      <td>95.666667</td>\n",
       "      <td>70.588235</td>\n",
       "    </tr>\n",
       "  </tbody>\n",
       "</table>\n",
       "</div>"
      ]
     },
     "metadata": {},
     "execution_count": 21
    }
   ],
   "metadata": {}
  }
 ],
 "metadata": {
  "orig_nbformat": 4,
  "language_info": {
   "name": "python",
   "version": "3.6.9",
   "mimetype": "text/x-python",
   "codemirror_mode": {
    "name": "ipython",
    "version": 3
   },
   "pygments_lexer": "ipython3",
   "nbconvert_exporter": "python",
   "file_extension": ".py"
  },
  "kernelspec": {
   "name": "python3",
   "display_name": "Python 3.6.9 64-bit"
  },
  "interpreter": {
   "hash": "31f2aee4e71d21fbe5cf8b01ff0e069b9275f58929596ceb00d14d90e3e16cd6"
  }
 },
 "nbformat": 4,
 "nbformat_minor": 2
}