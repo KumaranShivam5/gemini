{
 "cells": [
  {
   "cell_type": "code",
   "execution_count": 66,
   "source": [
    "import pandas as pd \n",
    "import numpy as  np \n",
    "import astropy.units as u\n",
    "from astropy.coordinates import SkyCoord\n",
    "from tqdm import tqdm\n",
    "\n",
    "from astropy.io import fits\n",
    "import os \n",
    "from IPython.display import display"
   ],
   "outputs": [],
   "metadata": {}
  },
  {
   "cell_type": "code",
   "execution_count": 67,
   "source": [
    "def find_sep(ra1,dec1 , ra2, dec2):\n",
    "    c1 = SkyCoord(ra1, dec1, frame='icrs' , unit=(u.deg , u.deg))\n",
    "    c2 = SkyCoord(ra2, dec2, frame='icrs' , unit=(u.deg , u.deg))\n",
    "    sep = c1.separation(c2)\n",
    "    return (sep)\n"
   ],
   "outputs": [],
   "metadata": {}
  },
  {
   "cell_type": "code",
   "execution_count": 68,
   "source": [
    "df_tuc = fits.open('../source_list/47_tuc_expanded_list.fits')\n",
    "df_tuc = pd.DataFrame(df_tuc[1].data)\n",
    "display(df_tuc['SOURCE_TYPE'].unique())\n",
    "sel_class = ['CV         ','QLX        ','MSP        ']\n",
    "df_tuc  =  df_tuc[df_tuc['SOURCE_TYPE'].isin(sel_class)].reset_index(drop=True)\n",
    "df_tuc = df_tuc[df_tuc['DATASET_YEAR']==2002]\n",
    "display(df_tuc)\n",
    "df_tuc.to_csv('../source_list/47_tuc_expanded_list.csv')"
   ],
   "outputs": [
    {
     "output_type": "display_data",
     "data": {
      "text/plain": [
       "array(['           ', 'CV         ', 'AGB        ', 'AB         ',\n",
       "       'MSP        ', 'QLX        '], dtype=object)"
      ]
     },
     "metadata": {}
    },
    {
     "output_type": "display_data",
     "data": {
      "text/plain": [
       "                        NAME      ALT_NAME_1        RA        DEC  COUNTS  \\\n",
       "1    CXOGLB J002403.8-720621  [GHE2001] W122  6.015979 -72.106003   349.6   \n",
       "2    CXOGLB J002411.0-720620  [GHE2001] W120  6.046208 -72.105567   228.7   \n",
       "4    CXOGLB J002407.1-720545  [GHE2001] W25   6.029738 -72.096053  1024.3   \n",
       "6    CXOGLB J002409.2-720543  [GHE2001] W140  6.038412 -72.095519   128.5   \n",
       "8    CXOGLB J002402.1-720542  [GHE2001] W56   6.008829 -72.095008  2590.4   \n",
       "..                       ...             ...       ...        ...     ...   \n",
       "111  CXOGLB J002406.7-720406  [GHE2001] W74   6.027946 -72.068578    65.1   \n",
       "114  CXOGLB J002409.8-720359  [GHE2001] W11   6.040967 -72.066561    83.7   \n",
       "116  CXOGLB J002359.4-720358  [GHE2001] W63   5.997513 -72.066325   135.2   \n",
       "117  CXOGLB J002417.5-720357  [GHE2001] W91   6.073050 -72.066017    25.6   \n",
       "119  CXOGLB J002353.9-720350  [GHE2001] W125  5.974925 -72.063908  1118.8   \n",
       "\n",
       "     COUNTS_POS_ERR  COUNTS_NEG_ERR            LX  SOURCE_TYPE  \\\n",
       "1              20.7            18.7  2.020000e+31  CV            \n",
       "2              17.2            15.1  1.500000e+31  CV            \n",
       "4              34.0            32.0  5.680000e+31  CV            \n",
       "6              13.4            11.3  7.700000e+30  CV            \n",
       "8              52.9            50.9  1.435000e+32  CV            \n",
       "..              ...             ...           ...          ...   \n",
       "111            10.0             8.0  4.500000e+30  MSP           \n",
       "114            11.2             9.1  4.700000e+30  MSP           \n",
       "116            13.7            11.6  8.200000e+30  MSP           \n",
       "117             7.2             5.0  1.400000e+30  MSP           \n",
       "119            35.4            33.4  6.780000e+31  QLX           \n",
       "\n",
       "     SOURCE_TYPE_FLAG  DATASET_YEAR  SOURCE_NUMBER  NOTE_FLAGS  \\\n",
       "1                              2002            122  D            \n",
       "2                              2002            120               \n",
       "4                              2002             25  D            \n",
       "6    ?                         2002            140  D            \n",
       "8                              2002             56  DHY          \n",
       "..                ...           ...            ...         ...   \n",
       "111                            2002             74               \n",
       "114                            2002             11  H?           \n",
       "116                            2002             63               \n",
       "117  ?                         2002             91  H?           \n",
       "119  ?                         2002            125  D?H          \n",
       "\n",
       "                        CLASS  \n",
       "1                        CV\\n  \n",
       "2                        CV\\n  \n",
       "4                        CV\\n  \n",
       "6                        CV\\n  \n",
       "8                        CV\\n  \n",
       "..                        ...  \n",
       "111            RADIO PULSAR\\n  \n",
       "114            RADIO PULSAR\\n  \n",
       "116            RADIO PULSAR\\n  \n",
       "117            RADIO PULSAR\\n  \n",
       "119  LMXRB GLOBULAR CLUSTER\\n  \n",
       "\n",
       "[62 rows x 14 columns]"
      ],
      "text/html": [
       "<div>\n",
       "<style scoped>\n",
       "    .dataframe tbody tr th:only-of-type {\n",
       "        vertical-align: middle;\n",
       "    }\n",
       "\n",
       "    .dataframe tbody tr th {\n",
       "        vertical-align: top;\n",
       "    }\n",
       "\n",
       "    .dataframe thead th {\n",
       "        text-align: right;\n",
       "    }\n",
       "</style>\n",
       "<table border=\"1\" class=\"dataframe\">\n",
       "  <thead>\n",
       "    <tr style=\"text-align: right;\">\n",
       "      <th></th>\n",
       "      <th>NAME</th>\n",
       "      <th>ALT_NAME_1</th>\n",
       "      <th>RA</th>\n",
       "      <th>DEC</th>\n",
       "      <th>COUNTS</th>\n",
       "      <th>COUNTS_POS_ERR</th>\n",
       "      <th>COUNTS_NEG_ERR</th>\n",
       "      <th>LX</th>\n",
       "      <th>SOURCE_TYPE</th>\n",
       "      <th>SOURCE_TYPE_FLAG</th>\n",
       "      <th>DATASET_YEAR</th>\n",
       "      <th>SOURCE_NUMBER</th>\n",
       "      <th>NOTE_FLAGS</th>\n",
       "      <th>CLASS</th>\n",
       "    </tr>\n",
       "  </thead>\n",
       "  <tbody>\n",
       "    <tr>\n",
       "      <th>1</th>\n",
       "      <td>CXOGLB J002403.8-720621</td>\n",
       "      <td>[GHE2001] W122</td>\n",
       "      <td>6.015979</td>\n",
       "      <td>-72.106003</td>\n",
       "      <td>349.6</td>\n",
       "      <td>20.7</td>\n",
       "      <td>18.7</td>\n",
       "      <td>2.020000e+31</td>\n",
       "      <td>CV</td>\n",
       "      <td></td>\n",
       "      <td>2002</td>\n",
       "      <td>122</td>\n",
       "      <td>D</td>\n",
       "      <td>CV\\n</td>\n",
       "    </tr>\n",
       "    <tr>\n",
       "      <th>2</th>\n",
       "      <td>CXOGLB J002411.0-720620</td>\n",
       "      <td>[GHE2001] W120</td>\n",
       "      <td>6.046208</td>\n",
       "      <td>-72.105567</td>\n",
       "      <td>228.7</td>\n",
       "      <td>17.2</td>\n",
       "      <td>15.1</td>\n",
       "      <td>1.500000e+31</td>\n",
       "      <td>CV</td>\n",
       "      <td></td>\n",
       "      <td>2002</td>\n",
       "      <td>120</td>\n",
       "      <td></td>\n",
       "      <td>CV\\n</td>\n",
       "    </tr>\n",
       "    <tr>\n",
       "      <th>4</th>\n",
       "      <td>CXOGLB J002407.1-720545</td>\n",
       "      <td>[GHE2001] W25</td>\n",
       "      <td>6.029738</td>\n",
       "      <td>-72.096053</td>\n",
       "      <td>1024.3</td>\n",
       "      <td>34.0</td>\n",
       "      <td>32.0</td>\n",
       "      <td>5.680000e+31</td>\n",
       "      <td>CV</td>\n",
       "      <td></td>\n",
       "      <td>2002</td>\n",
       "      <td>25</td>\n",
       "      <td>D</td>\n",
       "      <td>CV\\n</td>\n",
       "    </tr>\n",
       "    <tr>\n",
       "      <th>6</th>\n",
       "      <td>CXOGLB J002409.2-720543</td>\n",
       "      <td>[GHE2001] W140</td>\n",
       "      <td>6.038412</td>\n",
       "      <td>-72.095519</td>\n",
       "      <td>128.5</td>\n",
       "      <td>13.4</td>\n",
       "      <td>11.3</td>\n",
       "      <td>7.700000e+30</td>\n",
       "      <td>CV</td>\n",
       "      <td>?</td>\n",
       "      <td>2002</td>\n",
       "      <td>140</td>\n",
       "      <td>D</td>\n",
       "      <td>CV\\n</td>\n",
       "    </tr>\n",
       "    <tr>\n",
       "      <th>8</th>\n",
       "      <td>CXOGLB J002402.1-720542</td>\n",
       "      <td>[GHE2001] W56</td>\n",
       "      <td>6.008829</td>\n",
       "      <td>-72.095008</td>\n",
       "      <td>2590.4</td>\n",
       "      <td>52.9</td>\n",
       "      <td>50.9</td>\n",
       "      <td>1.435000e+32</td>\n",
       "      <td>CV</td>\n",
       "      <td></td>\n",
       "      <td>2002</td>\n",
       "      <td>56</td>\n",
       "      <td>DHY</td>\n",
       "      <td>CV\\n</td>\n",
       "    </tr>\n",
       "    <tr>\n",
       "      <th>...</th>\n",
       "      <td>...</td>\n",
       "      <td>...</td>\n",
       "      <td>...</td>\n",
       "      <td>...</td>\n",
       "      <td>...</td>\n",
       "      <td>...</td>\n",
       "      <td>...</td>\n",
       "      <td>...</td>\n",
       "      <td>...</td>\n",
       "      <td>...</td>\n",
       "      <td>...</td>\n",
       "      <td>...</td>\n",
       "      <td>...</td>\n",
       "      <td>...</td>\n",
       "    </tr>\n",
       "    <tr>\n",
       "      <th>111</th>\n",
       "      <td>CXOGLB J002406.7-720406</td>\n",
       "      <td>[GHE2001] W74</td>\n",
       "      <td>6.027946</td>\n",
       "      <td>-72.068578</td>\n",
       "      <td>65.1</td>\n",
       "      <td>10.0</td>\n",
       "      <td>8.0</td>\n",
       "      <td>4.500000e+30</td>\n",
       "      <td>MSP</td>\n",
       "      <td></td>\n",
       "      <td>2002</td>\n",
       "      <td>74</td>\n",
       "      <td></td>\n",
       "      <td>RADIO PULSAR\\n</td>\n",
       "    </tr>\n",
       "    <tr>\n",
       "      <th>114</th>\n",
       "      <td>CXOGLB J002409.8-720359</td>\n",
       "      <td>[GHE2001] W11</td>\n",
       "      <td>6.040967</td>\n",
       "      <td>-72.066561</td>\n",
       "      <td>83.7</td>\n",
       "      <td>11.2</td>\n",
       "      <td>9.1</td>\n",
       "      <td>4.700000e+30</td>\n",
       "      <td>MSP</td>\n",
       "      <td></td>\n",
       "      <td>2002</td>\n",
       "      <td>11</td>\n",
       "      <td>H?</td>\n",
       "      <td>RADIO PULSAR\\n</td>\n",
       "    </tr>\n",
       "    <tr>\n",
       "      <th>116</th>\n",
       "      <td>CXOGLB J002359.4-720358</td>\n",
       "      <td>[GHE2001] W63</td>\n",
       "      <td>5.997513</td>\n",
       "      <td>-72.066325</td>\n",
       "      <td>135.2</td>\n",
       "      <td>13.7</td>\n",
       "      <td>11.6</td>\n",
       "      <td>8.200000e+30</td>\n",
       "      <td>MSP</td>\n",
       "      <td></td>\n",
       "      <td>2002</td>\n",
       "      <td>63</td>\n",
       "      <td></td>\n",
       "      <td>RADIO PULSAR\\n</td>\n",
       "    </tr>\n",
       "    <tr>\n",
       "      <th>117</th>\n",
       "      <td>CXOGLB J002417.5-720357</td>\n",
       "      <td>[GHE2001] W91</td>\n",
       "      <td>6.073050</td>\n",
       "      <td>-72.066017</td>\n",
       "      <td>25.6</td>\n",
       "      <td>7.2</td>\n",
       "      <td>5.0</td>\n",
       "      <td>1.400000e+30</td>\n",
       "      <td>MSP</td>\n",
       "      <td>?</td>\n",
       "      <td>2002</td>\n",
       "      <td>91</td>\n",
       "      <td>H?</td>\n",
       "      <td>RADIO PULSAR\\n</td>\n",
       "    </tr>\n",
       "    <tr>\n",
       "      <th>119</th>\n",
       "      <td>CXOGLB J002353.9-720350</td>\n",
       "      <td>[GHE2001] W125</td>\n",
       "      <td>5.974925</td>\n",
       "      <td>-72.063908</td>\n",
       "      <td>1118.8</td>\n",
       "      <td>35.4</td>\n",
       "      <td>33.4</td>\n",
       "      <td>6.780000e+31</td>\n",
       "      <td>QLX</td>\n",
       "      <td>?</td>\n",
       "      <td>2002</td>\n",
       "      <td>125</td>\n",
       "      <td>D?H</td>\n",
       "      <td>LMXRB GLOBULAR CLUSTER\\n</td>\n",
       "    </tr>\n",
       "  </tbody>\n",
       "</table>\n",
       "<p>62 rows × 14 columns</p>\n",
       "</div>"
      ]
     },
     "metadata": {}
    }
   ],
   "metadata": {}
  },
  {
   "cell_type": "code",
   "execution_count": 69,
   "source": [
    "find_sep(6.016025,\t-72.106017 , 6.015979,\t-72.106003\t).arcsec"
   ],
   "outputs": [
    {
     "output_type": "execute_result",
     "data": {
      "text/plain": [
       "0.07161780528246486"
      ]
     },
     "metadata": {},
     "execution_count": 69
    }
   ],
   "metadata": {}
  },
  {
   "cell_type": "code",
   "execution_count": 80,
   "source": [
    "df_all = pd.read_csv('combined_data.csv', index_col='obs_id')\n",
    "#df_all_cv = df_all[df_all['class']=='CV']\n",
    "#df_all_cv\n",
    "df_all"
   ],
   "outputs": [
    {
     "output_type": "execute_result",
     "data": {
      "text/plain": [
       "                src_id  num_obs                    src_n  \\\n",
       "obs_id                                                     \n",
       "CV_0_obs_0        CV_0       25  CSS120424:125906+242634   \n",
       "CV_1_obs_0        CV_1       12                      W32   \n",
       "CV_2_obs_0        CV_2        8  CXOGlb_J002405.2-720446   \n",
       "CV_3_obs_0        CV_3       13   Cl__NGC_104_MAM_M54898   \n",
       "CV_4_obs_0        CV_4       13  CXOGlb_J002404.9-720455   \n",
       "...                ...      ...                      ...   \n",
       "LMXB_86_obs_0  LMXB_86        1    SAX_J1810.8-2609_____   \n",
       "LMXB_90_obs_0  LMXB_90        1    XTE_J2123-058________   \n",
       "LMXB_91_obs_0  LMXB_91        1    XB_1732-304__________   \n",
       "LMXB_92_obs_0  LMXB_92        1    BW_ANT_______________   \n",
       "LMXB_94_obs_0  LMXB_94        1    J1748-3607___________   \n",
       "\n",
       "                                 name          ra        dec  livetime  \\\n",
       "obs_id                                                                   \n",
       "CV_0_obs_0      2CXO J004247.1+411619   10.696540  41.272150    4103.7   \n",
       "CV_1_obs_0      2CXO J002405.6-720449    6.023632 -72.080360   31673.8   \n",
       "CV_2_obs_0      2CXO J002405.2-720446    6.021793 -72.079680    5544.8   \n",
       "CV_3_obs_0      2CXO J002406.0-720456    6.025117 -72.082280   65237.5   \n",
       "CV_4_obs_0      2CXO J002404.9-720455    6.020589 -72.082100   31673.8   \n",
       "...                               ...         ...        ...       ...   \n",
       "LMXB_86_obs_0   2CXO J181044.4-260901  272.685300 -26.150370   31871.5   \n",
       "LMXB_90_obs_0   2CXO J212314.5-054753  320.810600  -5.798128   17705.1   \n",
       "LMXB_91_obs_0   2CXO J173547.0-302858  263.945900 -30.482820   18855.8   \n",
       "LMXB_92_obs_0   2CXO J092920.1-312303  142.334100 -31.384270   24445.9   \n",
       "LMXB_94_obs_0   2CXO J174813.1-360758  267.054700 -36.132810   15794.5   \n",
       "\n",
       "               significance   likelihood class  ...  kp_prob_b  var_max_b  \\\n",
       "obs_id                                          ...                         \n",
       "CV_0_obs_0            52.93  16618.73000    CV  ...   0.600161   0.007931   \n",
       "CV_1_obs_0            20.78   1834.51100    CV  ...   0.636945   0.004085   \n",
       "CV_2_obs_0             9.72    548.75650    CV  ...   0.677229   0.004417   \n",
       "CV_3_obs_0            25.99   3275.90600    CV  ...   0.353444   0.004808   \n",
       "CV_4_obs_0            19.64   2291.21000    CV  ...   0.746582   0.005740   \n",
       "...                     ...          ...   ...  ...        ...        ...   \n",
       "LMXB_86_obs_0          9.29    512.97550    LX  ...   0.539000   0.003494   \n",
       "LMXB_90_obs_0          4.06    132.76700    LX  ...   0.211000   0.003517   \n",
       "LMXB_91_obs_0          4.89    114.24570    LX  ...   0.547000   0.002756   \n",
       "LMXB_92_obs_0          3.70     75.53454    LX  ...   0.789000   0.001005   \n",
       "LMXB_94_obs_0          3.09     50.50810    LX  ...   0.149000   0.001113   \n",
       "\n",
       "               var_min_b  var_mean_b  var_sigma_b  ks_prob_b  var_prob_b  \\\n",
       "obs_id                                                                     \n",
       "CV_0_obs_0      0.002263    0.002978     0.001218   0.515405    0.523568   \n",
       "CV_1_obs_0      0.001735    0.002451     0.000613   0.614881    0.574516   \n",
       "CV_2_obs_0      0.001721    0.002179     0.000574   0.665955    0.543535   \n",
       "CV_3_obs_0      0.003408    0.003737     0.000345   0.381742    0.226397   \n",
       "CV_4_obs_0      0.002950    0.003574     0.000689   0.606845    0.558287   \n",
       "...                  ...         ...          ...        ...         ...   \n",
       "LMXB_86_obs_0   0.003420    0.003456     0.000029   0.829000    0.084000   \n",
       "LMXB_90_obs_0   0.001060    0.001171     0.000255   0.265000    0.807000   \n",
       "LMXB_91_obs_0   0.001488    0.001623     0.000211   0.735000    0.451000   \n",
       "LMXB_92_obs_0   0.000511    0.000740     0.000201   0.940000    0.607000   \n",
       "LMXB_94_obs_0   0.000742    0.000782     0.000061   0.134000    0.380000   \n",
       "\n",
       "               var_inter_index_s  var_inter_index_m  var_inter_sigma_u  \n",
       "obs_id                                                                  \n",
       "CV_0_obs_0                  5.00            3.07375       5.417707e-04  \n",
       "CV_1_obs_0                  5.00            3.00000       9.789000e-07  \n",
       "CV_2_obs_0                  3.00            4.00000       1.081000e-06  \n",
       "CV_3_obs_0                  6.00            8.00000       7.858000e-07  \n",
       "CV_4_obs_0                  3.00            4.00000       1.098000e-06  \n",
       "...                          ...                ...                ...  \n",
       "LMXB_86_obs_0               5.11            3.03000       2.125299e-05  \n",
       "LMXB_90_obs_0               5.00            3.03000       2.151511e-05  \n",
       "LMXB_91_obs_0               3.00            5.00000       8.482809e-07  \n",
       "LMXB_92_obs_0               5.00            3.03000       2.112806e-05  \n",
       "LMXB_94_obs_0               5.01            3.03000       2.334242e-05  \n",
       "\n",
       "[420 rows x 59 columns]"
      ],
      "text/html": [
       "<div>\n",
       "<style scoped>\n",
       "    .dataframe tbody tr th:only-of-type {\n",
       "        vertical-align: middle;\n",
       "    }\n",
       "\n",
       "    .dataframe tbody tr th {\n",
       "        vertical-align: top;\n",
       "    }\n",
       "\n",
       "    .dataframe thead th {\n",
       "        text-align: right;\n",
       "    }\n",
       "</style>\n",
       "<table border=\"1\" class=\"dataframe\">\n",
       "  <thead>\n",
       "    <tr style=\"text-align: right;\">\n",
       "      <th></th>\n",
       "      <th>src_id</th>\n",
       "      <th>num_obs</th>\n",
       "      <th>src_n</th>\n",
       "      <th>name</th>\n",
       "      <th>ra</th>\n",
       "      <th>dec</th>\n",
       "      <th>livetime</th>\n",
       "      <th>significance</th>\n",
       "      <th>likelihood</th>\n",
       "      <th>class</th>\n",
       "      <th>...</th>\n",
       "      <th>kp_prob_b</th>\n",
       "      <th>var_max_b</th>\n",
       "      <th>var_min_b</th>\n",
       "      <th>var_mean_b</th>\n",
       "      <th>var_sigma_b</th>\n",
       "      <th>ks_prob_b</th>\n",
       "      <th>var_prob_b</th>\n",
       "      <th>var_inter_index_s</th>\n",
       "      <th>var_inter_index_m</th>\n",
       "      <th>var_inter_sigma_u</th>\n",
       "    </tr>\n",
       "    <tr>\n",
       "      <th>obs_id</th>\n",
       "      <th></th>\n",
       "      <th></th>\n",
       "      <th></th>\n",
       "      <th></th>\n",
       "      <th></th>\n",
       "      <th></th>\n",
       "      <th></th>\n",
       "      <th></th>\n",
       "      <th></th>\n",
       "      <th></th>\n",
       "      <th></th>\n",
       "      <th></th>\n",
       "      <th></th>\n",
       "      <th></th>\n",
       "      <th></th>\n",
       "      <th></th>\n",
       "      <th></th>\n",
       "      <th></th>\n",
       "      <th></th>\n",
       "      <th></th>\n",
       "      <th></th>\n",
       "    </tr>\n",
       "  </thead>\n",
       "  <tbody>\n",
       "    <tr>\n",
       "      <th>CV_0_obs_0</th>\n",
       "      <td>CV_0</td>\n",
       "      <td>25</td>\n",
       "      <td>CSS120424:125906+242634</td>\n",
       "      <td>2CXO J004247.1+411619</td>\n",
       "      <td>10.696540</td>\n",
       "      <td>41.272150</td>\n",
       "      <td>4103.7</td>\n",
       "      <td>52.93</td>\n",
       "      <td>16618.73000</td>\n",
       "      <td>CV</td>\n",
       "      <td>...</td>\n",
       "      <td>0.600161</td>\n",
       "      <td>0.007931</td>\n",
       "      <td>0.002263</td>\n",
       "      <td>0.002978</td>\n",
       "      <td>0.001218</td>\n",
       "      <td>0.515405</td>\n",
       "      <td>0.523568</td>\n",
       "      <td>5.00</td>\n",
       "      <td>3.07375</td>\n",
       "      <td>5.417707e-04</td>\n",
       "    </tr>\n",
       "    <tr>\n",
       "      <th>CV_1_obs_0</th>\n",
       "      <td>CV_1</td>\n",
       "      <td>12</td>\n",
       "      <td>W32</td>\n",
       "      <td>2CXO J002405.6-720449</td>\n",
       "      <td>6.023632</td>\n",
       "      <td>-72.080360</td>\n",
       "      <td>31673.8</td>\n",
       "      <td>20.78</td>\n",
       "      <td>1834.51100</td>\n",
       "      <td>CV</td>\n",
       "      <td>...</td>\n",
       "      <td>0.636945</td>\n",
       "      <td>0.004085</td>\n",
       "      <td>0.001735</td>\n",
       "      <td>0.002451</td>\n",
       "      <td>0.000613</td>\n",
       "      <td>0.614881</td>\n",
       "      <td>0.574516</td>\n",
       "      <td>5.00</td>\n",
       "      <td>3.00000</td>\n",
       "      <td>9.789000e-07</td>\n",
       "    </tr>\n",
       "    <tr>\n",
       "      <th>CV_2_obs_0</th>\n",
       "      <td>CV_2</td>\n",
       "      <td>8</td>\n",
       "      <td>CXOGlb_J002405.2-720446</td>\n",
       "      <td>2CXO J002405.2-720446</td>\n",
       "      <td>6.021793</td>\n",
       "      <td>-72.079680</td>\n",
       "      <td>5544.8</td>\n",
       "      <td>9.72</td>\n",
       "      <td>548.75650</td>\n",
       "      <td>CV</td>\n",
       "      <td>...</td>\n",
       "      <td>0.677229</td>\n",
       "      <td>0.004417</td>\n",
       "      <td>0.001721</td>\n",
       "      <td>0.002179</td>\n",
       "      <td>0.000574</td>\n",
       "      <td>0.665955</td>\n",
       "      <td>0.543535</td>\n",
       "      <td>3.00</td>\n",
       "      <td>4.00000</td>\n",
       "      <td>1.081000e-06</td>\n",
       "    </tr>\n",
       "    <tr>\n",
       "      <th>CV_3_obs_0</th>\n",
       "      <td>CV_3</td>\n",
       "      <td>13</td>\n",
       "      <td>Cl__NGC_104_MAM_M54898</td>\n",
       "      <td>2CXO J002406.0-720456</td>\n",
       "      <td>6.025117</td>\n",
       "      <td>-72.082280</td>\n",
       "      <td>65237.5</td>\n",
       "      <td>25.99</td>\n",
       "      <td>3275.90600</td>\n",
       "      <td>CV</td>\n",
       "      <td>...</td>\n",
       "      <td>0.353444</td>\n",
       "      <td>0.004808</td>\n",
       "      <td>0.003408</td>\n",
       "      <td>0.003737</td>\n",
       "      <td>0.000345</td>\n",
       "      <td>0.381742</td>\n",
       "      <td>0.226397</td>\n",
       "      <td>6.00</td>\n",
       "      <td>8.00000</td>\n",
       "      <td>7.858000e-07</td>\n",
       "    </tr>\n",
       "    <tr>\n",
       "      <th>CV_4_obs_0</th>\n",
       "      <td>CV_4</td>\n",
       "      <td>13</td>\n",
       "      <td>CXOGlb_J002404.9-720455</td>\n",
       "      <td>2CXO J002404.9-720455</td>\n",
       "      <td>6.020589</td>\n",
       "      <td>-72.082100</td>\n",
       "      <td>31673.8</td>\n",
       "      <td>19.64</td>\n",
       "      <td>2291.21000</td>\n",
       "      <td>CV</td>\n",
       "      <td>...</td>\n",
       "      <td>0.746582</td>\n",
       "      <td>0.005740</td>\n",
       "      <td>0.002950</td>\n",
       "      <td>0.003574</td>\n",
       "      <td>0.000689</td>\n",
       "      <td>0.606845</td>\n",
       "      <td>0.558287</td>\n",
       "      <td>3.00</td>\n",
       "      <td>4.00000</td>\n",
       "      <td>1.098000e-06</td>\n",
       "    </tr>\n",
       "    <tr>\n",
       "      <th>...</th>\n",
       "      <td>...</td>\n",
       "      <td>...</td>\n",
       "      <td>...</td>\n",
       "      <td>...</td>\n",
       "      <td>...</td>\n",
       "      <td>...</td>\n",
       "      <td>...</td>\n",
       "      <td>...</td>\n",
       "      <td>...</td>\n",
       "      <td>...</td>\n",
       "      <td>...</td>\n",
       "      <td>...</td>\n",
       "      <td>...</td>\n",
       "      <td>...</td>\n",
       "      <td>...</td>\n",
       "      <td>...</td>\n",
       "      <td>...</td>\n",
       "      <td>...</td>\n",
       "      <td>...</td>\n",
       "      <td>...</td>\n",
       "      <td>...</td>\n",
       "    </tr>\n",
       "    <tr>\n",
       "      <th>LMXB_86_obs_0</th>\n",
       "      <td>LMXB_86</td>\n",
       "      <td>1</td>\n",
       "      <td>SAX_J1810.8-2609_____</td>\n",
       "      <td>2CXO J181044.4-260901</td>\n",
       "      <td>272.685300</td>\n",
       "      <td>-26.150370</td>\n",
       "      <td>31871.5</td>\n",
       "      <td>9.29</td>\n",
       "      <td>512.97550</td>\n",
       "      <td>LX</td>\n",
       "      <td>...</td>\n",
       "      <td>0.539000</td>\n",
       "      <td>0.003494</td>\n",
       "      <td>0.003420</td>\n",
       "      <td>0.003456</td>\n",
       "      <td>0.000029</td>\n",
       "      <td>0.829000</td>\n",
       "      <td>0.084000</td>\n",
       "      <td>5.11</td>\n",
       "      <td>3.03000</td>\n",
       "      <td>2.125299e-05</td>\n",
       "    </tr>\n",
       "    <tr>\n",
       "      <th>LMXB_90_obs_0</th>\n",
       "      <td>LMXB_90</td>\n",
       "      <td>1</td>\n",
       "      <td>XTE_J2123-058________</td>\n",
       "      <td>2CXO J212314.5-054753</td>\n",
       "      <td>320.810600</td>\n",
       "      <td>-5.798128</td>\n",
       "      <td>17705.1</td>\n",
       "      <td>4.06</td>\n",
       "      <td>132.76700</td>\n",
       "      <td>LX</td>\n",
       "      <td>...</td>\n",
       "      <td>0.211000</td>\n",
       "      <td>0.003517</td>\n",
       "      <td>0.001060</td>\n",
       "      <td>0.001171</td>\n",
       "      <td>0.000255</td>\n",
       "      <td>0.265000</td>\n",
       "      <td>0.807000</td>\n",
       "      <td>5.00</td>\n",
       "      <td>3.03000</td>\n",
       "      <td>2.151511e-05</td>\n",
       "    </tr>\n",
       "    <tr>\n",
       "      <th>LMXB_91_obs_0</th>\n",
       "      <td>LMXB_91</td>\n",
       "      <td>1</td>\n",
       "      <td>XB_1732-304__________</td>\n",
       "      <td>2CXO J173547.0-302858</td>\n",
       "      <td>263.945900</td>\n",
       "      <td>-30.482820</td>\n",
       "      <td>18855.8</td>\n",
       "      <td>4.89</td>\n",
       "      <td>114.24570</td>\n",
       "      <td>LX</td>\n",
       "      <td>...</td>\n",
       "      <td>0.547000</td>\n",
       "      <td>0.002756</td>\n",
       "      <td>0.001488</td>\n",
       "      <td>0.001623</td>\n",
       "      <td>0.000211</td>\n",
       "      <td>0.735000</td>\n",
       "      <td>0.451000</td>\n",
       "      <td>3.00</td>\n",
       "      <td>5.00000</td>\n",
       "      <td>8.482809e-07</td>\n",
       "    </tr>\n",
       "    <tr>\n",
       "      <th>LMXB_92_obs_0</th>\n",
       "      <td>LMXB_92</td>\n",
       "      <td>1</td>\n",
       "      <td>BW_ANT_______________</td>\n",
       "      <td>2CXO J092920.1-312303</td>\n",
       "      <td>142.334100</td>\n",
       "      <td>-31.384270</td>\n",
       "      <td>24445.9</td>\n",
       "      <td>3.70</td>\n",
       "      <td>75.53454</td>\n",
       "      <td>LX</td>\n",
       "      <td>...</td>\n",
       "      <td>0.789000</td>\n",
       "      <td>0.001005</td>\n",
       "      <td>0.000511</td>\n",
       "      <td>0.000740</td>\n",
       "      <td>0.000201</td>\n",
       "      <td>0.940000</td>\n",
       "      <td>0.607000</td>\n",
       "      <td>5.00</td>\n",
       "      <td>3.03000</td>\n",
       "      <td>2.112806e-05</td>\n",
       "    </tr>\n",
       "    <tr>\n",
       "      <th>LMXB_94_obs_0</th>\n",
       "      <td>LMXB_94</td>\n",
       "      <td>1</td>\n",
       "      <td>J1748-3607___________</td>\n",
       "      <td>2CXO J174813.1-360758</td>\n",
       "      <td>267.054700</td>\n",
       "      <td>-36.132810</td>\n",
       "      <td>15794.5</td>\n",
       "      <td>3.09</td>\n",
       "      <td>50.50810</td>\n",
       "      <td>LX</td>\n",
       "      <td>...</td>\n",
       "      <td>0.149000</td>\n",
       "      <td>0.001113</td>\n",
       "      <td>0.000742</td>\n",
       "      <td>0.000782</td>\n",
       "      <td>0.000061</td>\n",
       "      <td>0.134000</td>\n",
       "      <td>0.380000</td>\n",
       "      <td>5.01</td>\n",
       "      <td>3.03000</td>\n",
       "      <td>2.334242e-05</td>\n",
       "    </tr>\n",
       "  </tbody>\n",
       "</table>\n",
       "<p>420 rows × 59 columns</p>\n",
       "</div>"
      ]
     },
     "metadata": {},
     "execution_count": 80
    }
   ],
   "metadata": {}
  },
  {
   "cell_type": "code",
   "execution_count": 76,
   "source": [
    "n =  len(df_all)\n",
    "m =  len(df_tuc)\n",
    "sep_list = []\n",
    "tuc_name = [] \n",
    "tuc_class = []\n",
    "df_name = [] \n",
    "df_obs_id = []\n",
    "for i in tqdm(range(m)):\n",
    "    for j in range(n):\n",
    "        ra1 , dec1 = df_tuc.iloc[i]['RA'] , df_tuc.iloc[i]['DEC'] \n",
    "        ra2 , dec2 = df_all.iloc[j]['ra'] , df_all.iloc[j]['dec'] \n",
    "        #print(ra1 , dec1)\n",
    "        #print(ra2 , dec2)\n",
    "        sep = find_sep(ra1 , dec1 , ra2 , dec2).arcsec\n",
    "        #print(sep)\n",
    "        if(sep<1):\n",
    "            print('Match found')\n",
    "            tuc_name.append(df_tuc.iloc[i]['NAME'])\n",
    "            tuc_class.append(df_tuc.iloc[i]['SOURCE_TYPE'])\n",
    "            df_name.append(df_all.iloc[j]['name'])\n",
    "            df_obs_id.append(df_all.iloc[j].name)\n",
    "            sep_list.append(sep)\n",
    "cx_table = pd.DataFrame({\n",
    "    'tuc_name' : tuc_name , \n",
    "    'tuc_class' :tuc_class , \n",
    "    'df_name' : df_name , \n",
    "    'df_obs_if' :df_obs_id ,\n",
    "    'sep' : sep_list , \n",
    "    \n",
    "})\n"
   ],
   "outputs": [
    {
     "output_type": "stream",
     "name": "stderr",
     "text": [
      "  0%|          | 0/62 [00:00<?, ?it/s]"
     ]
    },
    {
     "output_type": "stream",
     "name": "stdout",
     "text": [
      "Match found\n"
     ]
    },
    {
     "output_type": "stream",
     "name": "stderr",
     "text": [
      "  2%|▏         | 1/62 [00:01<01:57,  1.93s/it]"
     ]
    },
    {
     "output_type": "stream",
     "name": "stdout",
     "text": [
      "Match found\n"
     ]
    },
    {
     "output_type": "stream",
     "name": "stderr",
     "text": [
      "  3%|▎         | 2/62 [00:03<01:58,  1.98s/it]"
     ]
    },
    {
     "output_type": "stream",
     "name": "stdout",
     "text": [
      "Match found\n"
     ]
    },
    {
     "output_type": "stream",
     "name": "stderr",
     "text": [
      "  5%|▍         | 3/62 [00:05<01:49,  1.86s/it]"
     ]
    },
    {
     "output_type": "stream",
     "name": "stdout",
     "text": [
      "Match found\n"
     ]
    },
    {
     "output_type": "stream",
     "name": "stderr",
     "text": [
      "  6%|▋         | 4/62 [00:07<01:44,  1.80s/it]"
     ]
    },
    {
     "output_type": "stream",
     "name": "stdout",
     "text": [
      "Match found\n"
     ]
    },
    {
     "output_type": "stream",
     "name": "stderr",
     "text": [
      "  8%|▊         | 5/62 [00:08<01:37,  1.71s/it]"
     ]
    },
    {
     "output_type": "stream",
     "name": "stdout",
     "text": [
      "Match found\n"
     ]
    },
    {
     "output_type": "stream",
     "name": "stderr",
     "text": [
      " 10%|▉         | 6/62 [00:10<01:35,  1.70s/it]"
     ]
    },
    {
     "output_type": "stream",
     "name": "stdout",
     "text": [
      "Match found\n"
     ]
    },
    {
     "output_type": "stream",
     "name": "stderr",
     "text": [
      " 11%|█▏        | 7/62 [00:12<01:30,  1.64s/it]"
     ]
    },
    {
     "output_type": "stream",
     "name": "stdout",
     "text": [
      "Match found\n"
     ]
    },
    {
     "output_type": "stream",
     "name": "stderr",
     "text": [
      " 15%|█▍        | 9/62 [00:15<01:22,  1.56s/it]"
     ]
    },
    {
     "output_type": "stream",
     "name": "stdout",
     "text": [
      "Match found\n"
     ]
    },
    {
     "output_type": "stream",
     "name": "stderr",
     "text": [
      " 16%|█▌        | 10/62 [00:16<01:16,  1.47s/it]"
     ]
    },
    {
     "output_type": "stream",
     "name": "stdout",
     "text": [
      "Match found\n"
     ]
    },
    {
     "output_type": "stream",
     "name": "stderr",
     "text": [
      " 19%|█▉        | 12/62 [00:18<01:07,  1.34s/it]"
     ]
    },
    {
     "output_type": "stream",
     "name": "stdout",
     "text": [
      "Match found\n"
     ]
    },
    {
     "output_type": "stream",
     "name": "stderr",
     "text": [
      " 21%|██        | 13/62 [00:20<01:05,  1.34s/it]"
     ]
    },
    {
     "output_type": "stream",
     "name": "stdout",
     "text": [
      "Match found\n"
     ]
    },
    {
     "output_type": "stream",
     "name": "stderr",
     "text": [
      " 24%|██▍       | 15/62 [00:22<01:03,  1.34s/it]"
     ]
    },
    {
     "output_type": "stream",
     "name": "stdout",
     "text": [
      "Match found\n"
     ]
    },
    {
     "output_type": "stream",
     "name": "stderr",
     "text": [
      " 27%|██▋       | 17/62 [00:25<00:58,  1.30s/it]"
     ]
    },
    {
     "output_type": "stream",
     "name": "stdout",
     "text": [
      "Match found\n"
     ]
    },
    {
     "output_type": "stream",
     "name": "stderr",
     "text": [
      " 29%|██▉       | 18/62 [00:26<00:56,  1.28s/it]"
     ]
    },
    {
     "output_type": "stream",
     "name": "stdout",
     "text": [
      "Match found\n",
      "Match found\n"
     ]
    },
    {
     "output_type": "stream",
     "name": "stderr",
     "text": [
      " 31%|███       | 19/62 [00:28<00:56,  1.31s/it]"
     ]
    },
    {
     "output_type": "stream",
     "name": "stdout",
     "text": [
      "Match found\n"
     ]
    },
    {
     "output_type": "stream",
     "name": "stderr",
     "text": [
      " 32%|███▏      | 20/62 [00:29<00:54,  1.30s/it]"
     ]
    },
    {
     "output_type": "stream",
     "name": "stdout",
     "text": [
      "Match found\n"
     ]
    },
    {
     "output_type": "stream",
     "name": "stderr",
     "text": [
      " 34%|███▍      | 21/62 [00:30<00:52,  1.29s/it]"
     ]
    },
    {
     "output_type": "stream",
     "name": "stdout",
     "text": [
      "Match found\n"
     ]
    },
    {
     "output_type": "stream",
     "name": "stderr",
     "text": [
      " 35%|███▌      | 22/62 [00:31<00:51,  1.28s/it]"
     ]
    },
    {
     "output_type": "stream",
     "name": "stdout",
     "text": [
      "Match found\n"
     ]
    },
    {
     "output_type": "stream",
     "name": "stderr",
     "text": [
      " 37%|███▋      | 23/62 [00:33<00:50,  1.31s/it]"
     ]
    },
    {
     "output_type": "stream",
     "name": "stdout",
     "text": [
      "Match found\n"
     ]
    },
    {
     "output_type": "stream",
     "name": "stderr",
     "text": [
      " 45%|████▌     | 28/62 [00:40<00:51,  1.52s/it]"
     ]
    },
    {
     "output_type": "stream",
     "name": "stdout",
     "text": [
      "Match found\n"
     ]
    },
    {
     "output_type": "stream",
     "name": "stderr",
     "text": [
      " 47%|████▋     | 29/62 [00:42<00:50,  1.53s/it]"
     ]
    },
    {
     "output_type": "stream",
     "name": "stdout",
     "text": [
      "Match found\n"
     ]
    },
    {
     "output_type": "stream",
     "name": "stderr",
     "text": [
      " 48%|████▊     | 30/62 [00:44<00:48,  1.52s/it]"
     ]
    },
    {
     "output_type": "stream",
     "name": "stdout",
     "text": [
      "Match found\n"
     ]
    },
    {
     "output_type": "stream",
     "name": "stderr",
     "text": [
      " 50%|█████     | 31/62 [00:45<00:48,  1.56s/it]"
     ]
    },
    {
     "output_type": "stream",
     "name": "stdout",
     "text": [
      "Match found\n"
     ]
    },
    {
     "output_type": "stream",
     "name": "stderr",
     "text": [
      " 52%|█████▏    | 32/62 [00:47<00:47,  1.57s/it]"
     ]
    },
    {
     "output_type": "stream",
     "name": "stdout",
     "text": [
      "Match found\n"
     ]
    },
    {
     "output_type": "stream",
     "name": "stderr",
     "text": [
      " 53%|█████▎    | 33/62 [00:49<00:46,  1.61s/it]"
     ]
    },
    {
     "output_type": "stream",
     "name": "stdout",
     "text": [
      "Match found\n"
     ]
    },
    {
     "output_type": "stream",
     "name": "stderr",
     "text": [
      " 56%|█████▋    | 35/62 [00:51<00:39,  1.48s/it]"
     ]
    },
    {
     "output_type": "stream",
     "name": "stdout",
     "text": [
      "Match found\n"
     ]
    },
    {
     "output_type": "stream",
     "name": "stderr",
     "text": [
      " 58%|█████▊    | 36/62 [00:53<00:37,  1.43s/it]"
     ]
    },
    {
     "output_type": "stream",
     "name": "stdout",
     "text": [
      "Match found\n"
     ]
    },
    {
     "output_type": "stream",
     "name": "stderr",
     "text": [
      " 61%|██████▏   | 38/62 [00:55<00:33,  1.39s/it]"
     ]
    },
    {
     "output_type": "stream",
     "name": "stdout",
     "text": [
      "Match found\n",
      "Match found\n"
     ]
    },
    {
     "output_type": "stream",
     "name": "stderr",
     "text": [
      " 63%|██████▎   | 39/62 [00:57<00:31,  1.37s/it]"
     ]
    },
    {
     "output_type": "stream",
     "name": "stdout",
     "text": [
      "Match found\n",
      "Match found\n"
     ]
    },
    {
     "output_type": "stream",
     "name": "stderr",
     "text": [
      " 68%|██████▊   | 42/62 [01:01<00:27,  1.36s/it]"
     ]
    },
    {
     "output_type": "stream",
     "name": "stdout",
     "text": [
      "Match found\n",
      "Match found\n"
     ]
    },
    {
     "output_type": "stream",
     "name": "stderr",
     "text": [
      " 69%|██████▉   | 43/62 [01:02<00:25,  1.36s/it]"
     ]
    },
    {
     "output_type": "stream",
     "name": "stdout",
     "text": [
      "Match found\n"
     ]
    },
    {
     "output_type": "stream",
     "name": "stderr",
     "text": [
      " 71%|███████   | 44/62 [01:03<00:24,  1.38s/it]"
     ]
    },
    {
     "output_type": "stream",
     "name": "stdout",
     "text": [
      "Match found\n"
     ]
    },
    {
     "output_type": "stream",
     "name": "stderr",
     "text": [
      " 73%|███████▎  | 45/62 [01:05<00:23,  1.37s/it]"
     ]
    },
    {
     "output_type": "stream",
     "name": "stdout",
     "text": [
      "Match found\n"
     ]
    },
    {
     "output_type": "stream",
     "name": "stderr",
     "text": [
      " 74%|███████▍  | 46/62 [01:06<00:21,  1.37s/it]"
     ]
    },
    {
     "output_type": "stream",
     "name": "stdout",
     "text": [
      "Match found\n"
     ]
    },
    {
     "output_type": "stream",
     "name": "stderr",
     "text": [
      " 76%|███████▌  | 47/62 [01:08<00:20,  1.37s/it]"
     ]
    },
    {
     "output_type": "stream",
     "name": "stdout",
     "text": [
      "Match found\n"
     ]
    },
    {
     "output_type": "stream",
     "name": "stderr",
     "text": [
      " 79%|███████▉  | 49/62 [01:10<00:17,  1.38s/it]"
     ]
    },
    {
     "output_type": "stream",
     "name": "stdout",
     "text": [
      "Match found\n"
     ]
    },
    {
     "output_type": "stream",
     "name": "stderr",
     "text": [
      " 81%|████████  | 50/62 [01:12<00:16,  1.37s/it]"
     ]
    },
    {
     "output_type": "stream",
     "name": "stdout",
     "text": [
      "Match found\n"
     ]
    },
    {
     "output_type": "stream",
     "name": "stderr",
     "text": [
      " 82%|████████▏ | 51/62 [01:13<00:15,  1.36s/it]"
     ]
    },
    {
     "output_type": "stream",
     "name": "stdout",
     "text": [
      "Match found\n"
     ]
    },
    {
     "output_type": "stream",
     "name": "stderr",
     "text": [
      " 84%|████████▍ | 52/62 [01:14<00:13,  1.36s/it]"
     ]
    },
    {
     "output_type": "stream",
     "name": "stdout",
     "text": [
      "Match found\n"
     ]
    },
    {
     "output_type": "stream",
     "name": "stderr",
     "text": [
      " 85%|████████▌ | 53/62 [01:16<00:12,  1.39s/it]"
     ]
    },
    {
     "output_type": "stream",
     "name": "stdout",
     "text": [
      "Match found\n"
     ]
    },
    {
     "output_type": "stream",
     "name": "stderr",
     "text": [
      " 92%|█████████▏| 57/62 [01:21<00:06,  1.36s/it]"
     ]
    },
    {
     "output_type": "stream",
     "name": "stdout",
     "text": [
      "Match found\n"
     ]
    },
    {
     "output_type": "stream",
     "name": "stderr",
     "text": [
      " 94%|█████████▎| 58/62 [01:23<00:05,  1.36s/it]"
     ]
    },
    {
     "output_type": "stream",
     "name": "stdout",
     "text": [
      "Match found\n"
     ]
    },
    {
     "output_type": "stream",
     "name": "stderr",
     "text": [
      " 95%|█████████▌| 59/62 [01:24<00:04,  1.42s/it]"
     ]
    },
    {
     "output_type": "stream",
     "name": "stdout",
     "text": [
      "Match found\n"
     ]
    },
    {
     "output_type": "stream",
     "name": "stderr",
     "text": [
      "100%|██████████| 62/62 [01:28<00:00,  1.43s/it]\n"
     ]
    }
   ],
   "metadata": {}
  },
  {
   "cell_type": "code",
   "execution_count": 77,
   "source": [
    "cx_table"
   ],
   "outputs": [
    {
     "output_type": "execute_result",
     "data": {
      "text/plain": [
       "                   tuc_name    tuc_class                 df_name  \\\n",
       "0   CXOGLB J002403.8-720621  CV            2CXO J002403.8-720621   \n",
       "1   CXOGLB J002411.0-720620  CV            2CXO J002411.1-720620   \n",
       "2   CXOGLB J002407.1-720545  CV            2CXO J002407.1-720545   \n",
       "3   CXOGLB J002409.2-720543  CV            2CXO J002409.2-720543   \n",
       "4   CXOGLB J002402.1-720542  CV            2CXO J002402.1-720542   \n",
       "5   CXOGLB J002354.4-720530  MSP           2CXO J002354.5-720530   \n",
       "6   CXOGLB J002407.7-720527  CV            2CXO J002407.7-720527   \n",
       "7   CXOGLB J002411.1-720520  MSP           2CXO J002411.1-720520   \n",
       "8   CXOGLB J002410.6-720516  CV            2CXO J002410.6-720516   \n",
       "9   CXOGLB J002402.5-720511  CV            2CXO J002402.5-720511   \n",
       "10  CXOGLB J002404.9-720506  CV            2CXO J002405.0-720506   \n",
       "11  CXOGLB J002405.6-720504  MSP           2CXO J002405.6-720504   \n",
       "12  CXOGLB J002406.0-720501  MSP           2CXO J002406.0-720501   \n",
       "13  CXOGLB J002403.6-720459  CV            2CXO J002403.7-720459   \n",
       "14  CXOGLB J002404.2-720458  CV            2CXO J002404.2-720457   \n",
       "15  CXOGLB J002404.2-720458  CV            2CXO J002404.2-720457   \n",
       "16  CXOGLB J002403.7-720456  MSP           2CXO J002403.8-720457   \n",
       "17  CXOGLB J002406.0-720456  CV            2CXO J002406.0-720456   \n",
       "18  CXOGLB J002404.9-720455  CV            2CXO J002404.9-720455   \n",
       "19  CXOGLB J002407.9-720454  CV            2CXO J002407.9-720454   \n",
       "20  CXOGLB J002404.6-720453  MSP           2CXO J002404.6-720453   \n",
       "21  CXOGLB J002407.6-720450  MSP           2CXO J002407.5-720450   \n",
       "22  CXOGLB J002405.6-720449  CV            2CXO J002405.6-720449   \n",
       "23  CXOGLB J002406.0-720449  MSP           2CXO J002406.0-720449   \n",
       "24  CXOGLB J002402.8-720449  CV            2CXO J002402.8-720449   \n",
       "25  CXOGLB J002403.1-720447  CV            2CXO J002403.1-720447   \n",
       "26  CXOGLB J002405.2-720446  MSP           2CXO J002405.2-720446   \n",
       "27  CXOGLB J002413.8-720443  MSP           2CXO J002413.9-720443   \n",
       "28  CXOGLB J002411.8-720443  CV            2CXO J002411.9-720443   \n",
       "29  CXOGLB J002403.9-720442  MSP           2CXO J002403.9-720442   \n",
       "30  CXOGLB J002403.9-720442  MSP           2CXO J002403.9-720442   \n",
       "31  CXOGLB J002401.4-720441  CV            2CXO J002401.4-720441   \n",
       "32  CXOGLB J002401.4-720441  CV            2CXO J002401.4-720441   \n",
       "33  CXOGLB J002407.9-720439  MSP           2CXO J002407.9-720439   \n",
       "34  CXOGLB J002407.9-720439  MSP           2CXO J002407.9-720439   \n",
       "35  CXOGLB J002408.5-720438  MSP           2CXO J002408.5-720438   \n",
       "36  CXOGLB J002359.3-720438  CV            2CXO J002359.4-720438   \n",
       "37  CXOGLB J002415.8-720436  CV            2CXO J002415.9-720436   \n",
       "38  CXOGLB J002408.2-720435  CV            2CXO J002408.3-720435   \n",
       "39  CXOGLB J002350.3-720431  MSP           2CXO J002350.3-720431   \n",
       "40  CXOGLB J002409.1-720428  MSP           2CXO J002409.2-720428   \n",
       "41  CXOGLB J002416.9-720427  CV            2CXO J002416.9-720427   \n",
       "42  CXOGLB J002410.7-720425  CV            2CXO J002410.7-720425   \n",
       "43  CXOGLB J002416.4-720425  MSP           2CXO J002416.5-720425   \n",
       "44  CXOGLB J002403.7-720423  CV            2CXO J002403.7-720423   \n",
       "45  CXOGLB J002406.7-720406  MSP           2CXO J002406.7-720406   \n",
       "46  CXOGLB J002409.8-720359  MSP           2CXO J002409.8-720359   \n",
       "47  CXOGLB J002359.4-720358  MSP           2CXO J002359.4-720358   \n",
       "\n",
       "       df_obs_if       sep  \n",
       "0   CV_114_obs_0  0.218862  \n",
       "1   CV_116_obs_0  0.181998  \n",
       "2    CV_61_obs_0  0.125499  \n",
       "3    CV_60_obs_0  0.109042  \n",
       "4    CV_48_obs_0  0.156541  \n",
       "5    PL_74_obs_0  0.146071  \n",
       "6    CV_42_obs_0  0.125632  \n",
       "7    PL_51_obs_0  0.157085  \n",
       "8    CV_25_obs_0  0.179185  \n",
       "9    CV_23_obs_0  0.137040  \n",
       "10   CV_17_obs_0  0.444152  \n",
       "11    CV_9_obs_0  0.176200  \n",
       "12    PL_3_obs_0  0.349686  \n",
       "13   CV_14_obs_0  0.157701  \n",
       "14    CV_7_obs_0  0.174799  \n",
       "15    CV_8_obs_0  0.174799  \n",
       "16    PL_9_obs_0  0.333611  \n",
       "17    CV_3_obs_0  0.151179  \n",
       "18    CV_4_obs_0  0.240256  \n",
       "19    CV_6_obs_0  0.212293  \n",
       "20    PL_4_obs_0  0.271382  \n",
       "21    PL_5_obs_0  0.182680  \n",
       "22    CV_1_obs_0  0.156731  \n",
       "23    PL_0_obs_0  0.177457  \n",
       "24   CV_16_obs_0  0.179711  \n",
       "25   CV_15_obs_0  0.124627  \n",
       "26    CV_2_obs_0  0.180948  \n",
       "27   PL_39_obs_0  0.231607  \n",
       "28   CV_28_obs_0  0.171272  \n",
       "29   PL_32_obs_0  0.246234  \n",
       "30   PL_33_obs_0  0.246234  \n",
       "31   CV_20_obs_0  0.167721  \n",
       "32   PL_38_obs_0  0.167721  \n",
       "33   PL_34_obs_0  0.194881  \n",
       "34   PL_35_obs_0  0.194881  \n",
       "35   PL_37_obs_0  0.266809  \n",
       "36   CV_31_obs_0  0.239534  \n",
       "37   CV_35_obs_0  0.148893  \n",
       "38   CV_21_obs_0  0.180297  \n",
       "39   PL_63_obs_0  0.145500  \n",
       "40   PL_40_obs_0  0.196054  \n",
       "41   CV_58_obs_0  0.102424  \n",
       "42   CV_44_obs_0  0.167059  \n",
       "43   PL_58_obs_0  0.213941  \n",
       "44   CV_26_obs_0  0.090569  \n",
       "45   PL_59_obs_0  0.061901  \n",
       "46   PL_61_obs_0  0.143639  \n",
       "47   PL_86_obs_0  0.136016  "
      ],
      "text/html": [
       "<div>\n",
       "<style scoped>\n",
       "    .dataframe tbody tr th:only-of-type {\n",
       "        vertical-align: middle;\n",
       "    }\n",
       "\n",
       "    .dataframe tbody tr th {\n",
       "        vertical-align: top;\n",
       "    }\n",
       "\n",
       "    .dataframe thead th {\n",
       "        text-align: right;\n",
       "    }\n",
       "</style>\n",
       "<table border=\"1\" class=\"dataframe\">\n",
       "  <thead>\n",
       "    <tr style=\"text-align: right;\">\n",
       "      <th></th>\n",
       "      <th>tuc_name</th>\n",
       "      <th>tuc_class</th>\n",
       "      <th>df_name</th>\n",
       "      <th>df_obs_if</th>\n",
       "      <th>sep</th>\n",
       "    </tr>\n",
       "  </thead>\n",
       "  <tbody>\n",
       "    <tr>\n",
       "      <th>0</th>\n",
       "      <td>CXOGLB J002403.8-720621</td>\n",
       "      <td>CV</td>\n",
       "      <td>2CXO J002403.8-720621</td>\n",
       "      <td>CV_114_obs_0</td>\n",
       "      <td>0.218862</td>\n",
       "    </tr>\n",
       "    <tr>\n",
       "      <th>1</th>\n",
       "      <td>CXOGLB J002411.0-720620</td>\n",
       "      <td>CV</td>\n",
       "      <td>2CXO J002411.1-720620</td>\n",
       "      <td>CV_116_obs_0</td>\n",
       "      <td>0.181998</td>\n",
       "    </tr>\n",
       "    <tr>\n",
       "      <th>2</th>\n",
       "      <td>CXOGLB J002407.1-720545</td>\n",
       "      <td>CV</td>\n",
       "      <td>2CXO J002407.1-720545</td>\n",
       "      <td>CV_61_obs_0</td>\n",
       "      <td>0.125499</td>\n",
       "    </tr>\n",
       "    <tr>\n",
       "      <th>3</th>\n",
       "      <td>CXOGLB J002409.2-720543</td>\n",
       "      <td>CV</td>\n",
       "      <td>2CXO J002409.2-720543</td>\n",
       "      <td>CV_60_obs_0</td>\n",
       "      <td>0.109042</td>\n",
       "    </tr>\n",
       "    <tr>\n",
       "      <th>4</th>\n",
       "      <td>CXOGLB J002402.1-720542</td>\n",
       "      <td>CV</td>\n",
       "      <td>2CXO J002402.1-720542</td>\n",
       "      <td>CV_48_obs_0</td>\n",
       "      <td>0.156541</td>\n",
       "    </tr>\n",
       "    <tr>\n",
       "      <th>5</th>\n",
       "      <td>CXOGLB J002354.4-720530</td>\n",
       "      <td>MSP</td>\n",
       "      <td>2CXO J002354.5-720530</td>\n",
       "      <td>PL_74_obs_0</td>\n",
       "      <td>0.146071</td>\n",
       "    </tr>\n",
       "    <tr>\n",
       "      <th>6</th>\n",
       "      <td>CXOGLB J002407.7-720527</td>\n",
       "      <td>CV</td>\n",
       "      <td>2CXO J002407.7-720527</td>\n",
       "      <td>CV_42_obs_0</td>\n",
       "      <td>0.125632</td>\n",
       "    </tr>\n",
       "    <tr>\n",
       "      <th>7</th>\n",
       "      <td>CXOGLB J002411.1-720520</td>\n",
       "      <td>MSP</td>\n",
       "      <td>2CXO J002411.1-720520</td>\n",
       "      <td>PL_51_obs_0</td>\n",
       "      <td>0.157085</td>\n",
       "    </tr>\n",
       "    <tr>\n",
       "      <th>8</th>\n",
       "      <td>CXOGLB J002410.6-720516</td>\n",
       "      <td>CV</td>\n",
       "      <td>2CXO J002410.6-720516</td>\n",
       "      <td>CV_25_obs_0</td>\n",
       "      <td>0.179185</td>\n",
       "    </tr>\n",
       "    <tr>\n",
       "      <th>9</th>\n",
       "      <td>CXOGLB J002402.5-720511</td>\n",
       "      <td>CV</td>\n",
       "      <td>2CXO J002402.5-720511</td>\n",
       "      <td>CV_23_obs_0</td>\n",
       "      <td>0.137040</td>\n",
       "    </tr>\n",
       "    <tr>\n",
       "      <th>10</th>\n",
       "      <td>CXOGLB J002404.9-720506</td>\n",
       "      <td>CV</td>\n",
       "      <td>2CXO J002405.0-720506</td>\n",
       "      <td>CV_17_obs_0</td>\n",
       "      <td>0.444152</td>\n",
       "    </tr>\n",
       "    <tr>\n",
       "      <th>11</th>\n",
       "      <td>CXOGLB J002405.6-720504</td>\n",
       "      <td>MSP</td>\n",
       "      <td>2CXO J002405.6-720504</td>\n",
       "      <td>CV_9_obs_0</td>\n",
       "      <td>0.176200</td>\n",
       "    </tr>\n",
       "    <tr>\n",
       "      <th>12</th>\n",
       "      <td>CXOGLB J002406.0-720501</td>\n",
       "      <td>MSP</td>\n",
       "      <td>2CXO J002406.0-720501</td>\n",
       "      <td>PL_3_obs_0</td>\n",
       "      <td>0.349686</td>\n",
       "    </tr>\n",
       "    <tr>\n",
       "      <th>13</th>\n",
       "      <td>CXOGLB J002403.6-720459</td>\n",
       "      <td>CV</td>\n",
       "      <td>2CXO J002403.7-720459</td>\n",
       "      <td>CV_14_obs_0</td>\n",
       "      <td>0.157701</td>\n",
       "    </tr>\n",
       "    <tr>\n",
       "      <th>14</th>\n",
       "      <td>CXOGLB J002404.2-720458</td>\n",
       "      <td>CV</td>\n",
       "      <td>2CXO J002404.2-720457</td>\n",
       "      <td>CV_7_obs_0</td>\n",
       "      <td>0.174799</td>\n",
       "    </tr>\n",
       "    <tr>\n",
       "      <th>15</th>\n",
       "      <td>CXOGLB J002404.2-720458</td>\n",
       "      <td>CV</td>\n",
       "      <td>2CXO J002404.2-720457</td>\n",
       "      <td>CV_8_obs_0</td>\n",
       "      <td>0.174799</td>\n",
       "    </tr>\n",
       "    <tr>\n",
       "      <th>16</th>\n",
       "      <td>CXOGLB J002403.7-720456</td>\n",
       "      <td>MSP</td>\n",
       "      <td>2CXO J002403.8-720457</td>\n",
       "      <td>PL_9_obs_0</td>\n",
       "      <td>0.333611</td>\n",
       "    </tr>\n",
       "    <tr>\n",
       "      <th>17</th>\n",
       "      <td>CXOGLB J002406.0-720456</td>\n",
       "      <td>CV</td>\n",
       "      <td>2CXO J002406.0-720456</td>\n",
       "      <td>CV_3_obs_0</td>\n",
       "      <td>0.151179</td>\n",
       "    </tr>\n",
       "    <tr>\n",
       "      <th>18</th>\n",
       "      <td>CXOGLB J002404.9-720455</td>\n",
       "      <td>CV</td>\n",
       "      <td>2CXO J002404.9-720455</td>\n",
       "      <td>CV_4_obs_0</td>\n",
       "      <td>0.240256</td>\n",
       "    </tr>\n",
       "    <tr>\n",
       "      <th>19</th>\n",
       "      <td>CXOGLB J002407.9-720454</td>\n",
       "      <td>CV</td>\n",
       "      <td>2CXO J002407.9-720454</td>\n",
       "      <td>CV_6_obs_0</td>\n",
       "      <td>0.212293</td>\n",
       "    </tr>\n",
       "    <tr>\n",
       "      <th>20</th>\n",
       "      <td>CXOGLB J002404.6-720453</td>\n",
       "      <td>MSP</td>\n",
       "      <td>2CXO J002404.6-720453</td>\n",
       "      <td>PL_4_obs_0</td>\n",
       "      <td>0.271382</td>\n",
       "    </tr>\n",
       "    <tr>\n",
       "      <th>21</th>\n",
       "      <td>CXOGLB J002407.6-720450</td>\n",
       "      <td>MSP</td>\n",
       "      <td>2CXO J002407.5-720450</td>\n",
       "      <td>PL_5_obs_0</td>\n",
       "      <td>0.182680</td>\n",
       "    </tr>\n",
       "    <tr>\n",
       "      <th>22</th>\n",
       "      <td>CXOGLB J002405.6-720449</td>\n",
       "      <td>CV</td>\n",
       "      <td>2CXO J002405.6-720449</td>\n",
       "      <td>CV_1_obs_0</td>\n",
       "      <td>0.156731</td>\n",
       "    </tr>\n",
       "    <tr>\n",
       "      <th>23</th>\n",
       "      <td>CXOGLB J002406.0-720449</td>\n",
       "      <td>MSP</td>\n",
       "      <td>2CXO J002406.0-720449</td>\n",
       "      <td>PL_0_obs_0</td>\n",
       "      <td>0.177457</td>\n",
       "    </tr>\n",
       "    <tr>\n",
       "      <th>24</th>\n",
       "      <td>CXOGLB J002402.8-720449</td>\n",
       "      <td>CV</td>\n",
       "      <td>2CXO J002402.8-720449</td>\n",
       "      <td>CV_16_obs_0</td>\n",
       "      <td>0.179711</td>\n",
       "    </tr>\n",
       "    <tr>\n",
       "      <th>25</th>\n",
       "      <td>CXOGLB J002403.1-720447</td>\n",
       "      <td>CV</td>\n",
       "      <td>2CXO J002403.1-720447</td>\n",
       "      <td>CV_15_obs_0</td>\n",
       "      <td>0.124627</td>\n",
       "    </tr>\n",
       "    <tr>\n",
       "      <th>26</th>\n",
       "      <td>CXOGLB J002405.2-720446</td>\n",
       "      <td>MSP</td>\n",
       "      <td>2CXO J002405.2-720446</td>\n",
       "      <td>CV_2_obs_0</td>\n",
       "      <td>0.180948</td>\n",
       "    </tr>\n",
       "    <tr>\n",
       "      <th>27</th>\n",
       "      <td>CXOGLB J002413.8-720443</td>\n",
       "      <td>MSP</td>\n",
       "      <td>2CXO J002413.9-720443</td>\n",
       "      <td>PL_39_obs_0</td>\n",
       "      <td>0.231607</td>\n",
       "    </tr>\n",
       "    <tr>\n",
       "      <th>28</th>\n",
       "      <td>CXOGLB J002411.8-720443</td>\n",
       "      <td>CV</td>\n",
       "      <td>2CXO J002411.9-720443</td>\n",
       "      <td>CV_28_obs_0</td>\n",
       "      <td>0.171272</td>\n",
       "    </tr>\n",
       "    <tr>\n",
       "      <th>29</th>\n",
       "      <td>CXOGLB J002403.9-720442</td>\n",
       "      <td>MSP</td>\n",
       "      <td>2CXO J002403.9-720442</td>\n",
       "      <td>PL_32_obs_0</td>\n",
       "      <td>0.246234</td>\n",
       "    </tr>\n",
       "    <tr>\n",
       "      <th>30</th>\n",
       "      <td>CXOGLB J002403.9-720442</td>\n",
       "      <td>MSP</td>\n",
       "      <td>2CXO J002403.9-720442</td>\n",
       "      <td>PL_33_obs_0</td>\n",
       "      <td>0.246234</td>\n",
       "    </tr>\n",
       "    <tr>\n",
       "      <th>31</th>\n",
       "      <td>CXOGLB J002401.4-720441</td>\n",
       "      <td>CV</td>\n",
       "      <td>2CXO J002401.4-720441</td>\n",
       "      <td>CV_20_obs_0</td>\n",
       "      <td>0.167721</td>\n",
       "    </tr>\n",
       "    <tr>\n",
       "      <th>32</th>\n",
       "      <td>CXOGLB J002401.4-720441</td>\n",
       "      <td>CV</td>\n",
       "      <td>2CXO J002401.4-720441</td>\n",
       "      <td>PL_38_obs_0</td>\n",
       "      <td>0.167721</td>\n",
       "    </tr>\n",
       "    <tr>\n",
       "      <th>33</th>\n",
       "      <td>CXOGLB J002407.9-720439</td>\n",
       "      <td>MSP</td>\n",
       "      <td>2CXO J002407.9-720439</td>\n",
       "      <td>PL_34_obs_0</td>\n",
       "      <td>0.194881</td>\n",
       "    </tr>\n",
       "    <tr>\n",
       "      <th>34</th>\n",
       "      <td>CXOGLB J002407.9-720439</td>\n",
       "      <td>MSP</td>\n",
       "      <td>2CXO J002407.9-720439</td>\n",
       "      <td>PL_35_obs_0</td>\n",
       "      <td>0.194881</td>\n",
       "    </tr>\n",
       "    <tr>\n",
       "      <th>35</th>\n",
       "      <td>CXOGLB J002408.5-720438</td>\n",
       "      <td>MSP</td>\n",
       "      <td>2CXO J002408.5-720438</td>\n",
       "      <td>PL_37_obs_0</td>\n",
       "      <td>0.266809</td>\n",
       "    </tr>\n",
       "    <tr>\n",
       "      <th>36</th>\n",
       "      <td>CXOGLB J002359.3-720438</td>\n",
       "      <td>CV</td>\n",
       "      <td>2CXO J002359.4-720438</td>\n",
       "      <td>CV_31_obs_0</td>\n",
       "      <td>0.239534</td>\n",
       "    </tr>\n",
       "    <tr>\n",
       "      <th>37</th>\n",
       "      <td>CXOGLB J002415.8-720436</td>\n",
       "      <td>CV</td>\n",
       "      <td>2CXO J002415.9-720436</td>\n",
       "      <td>CV_35_obs_0</td>\n",
       "      <td>0.148893</td>\n",
       "    </tr>\n",
       "    <tr>\n",
       "      <th>38</th>\n",
       "      <td>CXOGLB J002408.2-720435</td>\n",
       "      <td>CV</td>\n",
       "      <td>2CXO J002408.3-720435</td>\n",
       "      <td>CV_21_obs_0</td>\n",
       "      <td>0.180297</td>\n",
       "    </tr>\n",
       "    <tr>\n",
       "      <th>39</th>\n",
       "      <td>CXOGLB J002350.3-720431</td>\n",
       "      <td>MSP</td>\n",
       "      <td>2CXO J002350.3-720431</td>\n",
       "      <td>PL_63_obs_0</td>\n",
       "      <td>0.145500</td>\n",
       "    </tr>\n",
       "    <tr>\n",
       "      <th>40</th>\n",
       "      <td>CXOGLB J002409.1-720428</td>\n",
       "      <td>MSP</td>\n",
       "      <td>2CXO J002409.2-720428</td>\n",
       "      <td>PL_40_obs_0</td>\n",
       "      <td>0.196054</td>\n",
       "    </tr>\n",
       "    <tr>\n",
       "      <th>41</th>\n",
       "      <td>CXOGLB J002416.9-720427</td>\n",
       "      <td>CV</td>\n",
       "      <td>2CXO J002416.9-720427</td>\n",
       "      <td>CV_58_obs_0</td>\n",
       "      <td>0.102424</td>\n",
       "    </tr>\n",
       "    <tr>\n",
       "      <th>42</th>\n",
       "      <td>CXOGLB J002410.7-720425</td>\n",
       "      <td>CV</td>\n",
       "      <td>2CXO J002410.7-720425</td>\n",
       "      <td>CV_44_obs_0</td>\n",
       "      <td>0.167059</td>\n",
       "    </tr>\n",
       "    <tr>\n",
       "      <th>43</th>\n",
       "      <td>CXOGLB J002416.4-720425</td>\n",
       "      <td>MSP</td>\n",
       "      <td>2CXO J002416.5-720425</td>\n",
       "      <td>PL_58_obs_0</td>\n",
       "      <td>0.213941</td>\n",
       "    </tr>\n",
       "    <tr>\n",
       "      <th>44</th>\n",
       "      <td>CXOGLB J002403.7-720423</td>\n",
       "      <td>CV</td>\n",
       "      <td>2CXO J002403.7-720423</td>\n",
       "      <td>CV_26_obs_0</td>\n",
       "      <td>0.090569</td>\n",
       "    </tr>\n",
       "    <tr>\n",
       "      <th>45</th>\n",
       "      <td>CXOGLB J002406.7-720406</td>\n",
       "      <td>MSP</td>\n",
       "      <td>2CXO J002406.7-720406</td>\n",
       "      <td>PL_59_obs_0</td>\n",
       "      <td>0.061901</td>\n",
       "    </tr>\n",
       "    <tr>\n",
       "      <th>46</th>\n",
       "      <td>CXOGLB J002409.8-720359</td>\n",
       "      <td>MSP</td>\n",
       "      <td>2CXO J002409.8-720359</td>\n",
       "      <td>PL_61_obs_0</td>\n",
       "      <td>0.143639</td>\n",
       "    </tr>\n",
       "    <tr>\n",
       "      <th>47</th>\n",
       "      <td>CXOGLB J002359.4-720358</td>\n",
       "      <td>MSP</td>\n",
       "      <td>2CXO J002359.4-720358</td>\n",
       "      <td>PL_86_obs_0</td>\n",
       "      <td>0.136016</td>\n",
       "    </tr>\n",
       "  </tbody>\n",
       "</table>\n",
       "</div>"
      ]
     },
     "metadata": {},
     "execution_count": 77
    }
   ],
   "metadata": {}
  },
  {
   "cell_type": "code",
   "execution_count": 79,
   "source": [
    "cx_table.to_csv('tuc_df_xmatch.csv')"
   ],
   "outputs": [],
   "metadata": {}
  },
  {
   "cell_type": "code",
   "execution_count": 39,
   "source": [
    "df_all_cv[df_all_cv['name'].isin(df_name)]"
   ],
   "outputs": [
    {
     "output_type": "execute_result",
     "data": {
      "text/plain": [
       "              src_id  num_obs                    src_n  \\\n",
       "obs_id                                                   \n",
       "CV_114_obs_0  CV_114        9  CXOGlb_J002403.8-720621   \n",
       "\n",
       "                                name        ra       dec  livetime  \\\n",
       "obs_id                                                               \n",
       "CV_114_obs_0   2CXO J002403.8-720621  6.016136 -72.10604    3874.2   \n",
       "\n",
       "              significance  likelihood class  ...  kp_prob_b  var_max_b  \\\n",
       "obs_id                                        ...                         \n",
       "CV_114_obs_0         15.95     1495.89    CV  ...   0.400289   0.002521   \n",
       "\n",
       "              var_min_b  var_mean_b  var_sigma_b  ks_prob_b  var_prob_b  \\\n",
       "obs_id                                                                    \n",
       "CV_114_obs_0   0.001268    0.001474     0.000252   0.426133    0.386807   \n",
       "\n",
       "              var_inter_index_s  var_inter_index_m  var_inter_sigma_u  \n",
       "obs_id                                                                 \n",
       "CV_114_obs_0                5.0                5.0           0.000002  \n",
       "\n",
       "[1 rows x 59 columns]"
      ],
      "text/html": [
       "<div>\n",
       "<style scoped>\n",
       "    .dataframe tbody tr th:only-of-type {\n",
       "        vertical-align: middle;\n",
       "    }\n",
       "\n",
       "    .dataframe tbody tr th {\n",
       "        vertical-align: top;\n",
       "    }\n",
       "\n",
       "    .dataframe thead th {\n",
       "        text-align: right;\n",
       "    }\n",
       "</style>\n",
       "<table border=\"1\" class=\"dataframe\">\n",
       "  <thead>\n",
       "    <tr style=\"text-align: right;\">\n",
       "      <th></th>\n",
       "      <th>src_id</th>\n",
       "      <th>num_obs</th>\n",
       "      <th>src_n</th>\n",
       "      <th>name</th>\n",
       "      <th>ra</th>\n",
       "      <th>dec</th>\n",
       "      <th>livetime</th>\n",
       "      <th>significance</th>\n",
       "      <th>likelihood</th>\n",
       "      <th>class</th>\n",
       "      <th>...</th>\n",
       "      <th>kp_prob_b</th>\n",
       "      <th>var_max_b</th>\n",
       "      <th>var_min_b</th>\n",
       "      <th>var_mean_b</th>\n",
       "      <th>var_sigma_b</th>\n",
       "      <th>ks_prob_b</th>\n",
       "      <th>var_prob_b</th>\n",
       "      <th>var_inter_index_s</th>\n",
       "      <th>var_inter_index_m</th>\n",
       "      <th>var_inter_sigma_u</th>\n",
       "    </tr>\n",
       "    <tr>\n",
       "      <th>obs_id</th>\n",
       "      <th></th>\n",
       "      <th></th>\n",
       "      <th></th>\n",
       "      <th></th>\n",
       "      <th></th>\n",
       "      <th></th>\n",
       "      <th></th>\n",
       "      <th></th>\n",
       "      <th></th>\n",
       "      <th></th>\n",
       "      <th></th>\n",
       "      <th></th>\n",
       "      <th></th>\n",
       "      <th></th>\n",
       "      <th></th>\n",
       "      <th></th>\n",
       "      <th></th>\n",
       "      <th></th>\n",
       "      <th></th>\n",
       "      <th></th>\n",
       "      <th></th>\n",
       "    </tr>\n",
       "  </thead>\n",
       "  <tbody>\n",
       "    <tr>\n",
       "      <th>CV_114_obs_0</th>\n",
       "      <td>CV_114</td>\n",
       "      <td>9</td>\n",
       "      <td>CXOGlb_J002403.8-720621</td>\n",
       "      <td>2CXO J002403.8-720621</td>\n",
       "      <td>6.016136</td>\n",
       "      <td>-72.10604</td>\n",
       "      <td>3874.2</td>\n",
       "      <td>15.95</td>\n",
       "      <td>1495.89</td>\n",
       "      <td>CV</td>\n",
       "      <td>...</td>\n",
       "      <td>0.400289</td>\n",
       "      <td>0.002521</td>\n",
       "      <td>0.001268</td>\n",
       "      <td>0.001474</td>\n",
       "      <td>0.000252</td>\n",
       "      <td>0.426133</td>\n",
       "      <td>0.386807</td>\n",
       "      <td>5.0</td>\n",
       "      <td>5.0</td>\n",
       "      <td>0.000002</td>\n",
       "    </tr>\n",
       "  </tbody>\n",
       "</table>\n",
       "<p>1 rows × 59 columns</p>\n",
       "</div>"
      ]
     },
     "metadata": {},
     "execution_count": 39
    }
   ],
   "metadata": {}
  }
 ],
 "metadata": {
  "orig_nbformat": 4,
  "language_info": {
   "name": "python",
   "version": "3.6.9",
   "mimetype": "text/x-python",
   "codemirror_mode": {
    "name": "ipython",
    "version": 3
   },
   "pygments_lexer": "ipython3",
   "nbconvert_exporter": "python",
   "file_extension": ".py"
  },
  "kernelspec": {
   "name": "python3",
   "display_name": "Python 3.6.9 64-bit"
  },
  "interpreter": {
   "hash": "31f2aee4e71d21fbe5cf8b01ff0e069b9275f58929596ceb00d14d90e3e16cd6"
  }
 },
 "nbformat": 4,
 "nbformat_minor": 2
}