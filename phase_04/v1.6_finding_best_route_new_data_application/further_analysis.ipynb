{
 "cells": [
  {
   "cell_type": "code",
   "execution_count": 47,
   "metadata": {},
   "outputs": [
    {
     "name": "stdout",
     "output_type": "stream",
     "text": [
      "The autoreload extension is already loaded. To reload it, use:\n",
      "  %reload_ext autoreload\n"
     ]
    }
   ],
   "source": [
    "import numpy as np \n",
    "from matplotlib import pyplot as plt \n",
    "import seaborn as sns \n",
    "from tqdm import tqdm \n",
    "from sklearn.model_selection import train_test_split \n",
    "from sklearn.ensemble import RandomForestClassifier  , AdaBoostClassifier , GradientBoostingClassifier\n",
    "from sklearn.metrics import precision_score , recall_score \n",
    "import xgboost as xgb \n",
    "import pandas as pd \n",
    "import sklearn.neighbors._base\n",
    "from os import sys\n",
    "sys.modules['sklearn.neighbors.base'] = sklearn.neighbors._base\n",
    "from missingpy import MissForest \n",
    "from sklearn.metrics import confusion_matrix , ConfusionMatrixDisplay\n",
    "sns.set_style('whitegrid')\n",
    "%load_ext autoreload\n",
    "%autoreload 2\n",
    "sns.set_style('whitegrid')\n",
    "from IPython.display import display\n",
    "from imblearn.over_sampling import SMOTE"
   ]
  },
  {
   "cell_type": "code",
   "execution_count": 48,
   "metadata": {},
   "outputs": [],
   "source": [
    "def details(data_sent , comments = ''):\n",
    "    if(comments):\n",
    "        print(comments)\n",
    "    sp = (data_sent.isna().sum().sum())/ data_sent.size\n",
    "    print('________________________________________________')\n",
    "    print('Sparsity in the data : {:.2f}'.format(sp))\n",
    "    num_rows = data_sent.shape\n",
    "    print('Data shape' , num_rows)\n",
    "    #display(data_sent['class'].value_counts())\n",
    "    print('Number of sources : ')\n",
    "    cl = data_sent['class'].unique()\n",
    "    for c in cl:\n",
    "        num_src = len(data_sent[data_sent['class']==c]['src_id'].unique())\n",
    "        num_obs = len(data_sent[data_sent['class']==c])\n",
    "        print(c ,' \\t ' , num_src , '\\t' , num_obs)"
   ]
  },
  {
   "cell_type": "code",
   "execution_count": 49,
   "metadata": {},
   "outputs": [],
   "source": [
    "from features import phot_flux , en_flux , hard, powlaw_fit , bb_fit , brems_fit , intra_obs_var , inter_ob_var , info_col , phot_flux_hilim , phot_flux_lolim , en_flux_hilim , en_flux_lolim"
   ]
  },
  {
   "cell_type": "code",
   "execution_count": null,
   "metadata": {},
   "outputs": [],
   "source": []
  },
  {
   "cell_type": "code",
   "execution_count": 60,
   "metadata": {},
   "outputs": [],
   "source": [
    "info_col_cl = info_col + ['class']\n",
    "from features import small_ind_subset\n",
    "feat_to_use = info_col_cl + small_ind_subset \n",
    "feat_to_use.remove('var_inter_sigma_u')\n",
    "#feat_to_use"
   ]
  },
  {
   "cell_type": "code",
   "execution_count": 61,
   "metadata": {},
   "outputs": [],
   "source": [
    "data_imp_v2 = pd.read_csv('imputed_data/new-data-no-lolim.csv' , index_col='obs_id')\n",
    "#starting_with_small_subset\n",
    "#data_imp_v2 = pd.read_csv('imputed_data/small-feat-subset-new-data.csv', index_col='obs_id')\n",
    "data_imp_v2 = data_imp_v2[feat_to_use]"
   ]
  },
  {
   "cell_type": "code",
   "execution_count": 62,
   "metadata": {},
   "outputs": [
    {
     "name": "stdout",
     "output_type": "stream",
     "text": [
      "________________________________________________\n",
      "Sparsity in the data : 0.00\n",
      "Data shape (3750, 28)\n",
      "Number of sources : \n",
      "CV  \t  282 \t 2044\n",
      "PL  \t  232 \t 1104\n",
      "LX  \t  74 \t 602\n"
     ]
    }
   ],
   "source": [
    "details(data_imp_v2)"
   ]
  },
  {
   "cell_type": "code",
   "execution_count": 63,
   "metadata": {},
   "outputs": [
    {
     "data": {
      "text/html": [
       "<div>\n",
       "<style scoped>\n",
       "    .dataframe tbody tr th:only-of-type {\n",
       "        vertical-align: middle;\n",
       "    }\n",
       "\n",
       "    .dataframe tbody tr th {\n",
       "        vertical-align: top;\n",
       "    }\n",
       "\n",
       "    .dataframe thead th {\n",
       "        text-align: right;\n",
       "    }\n",
       "</style>\n",
       "<table border=\"1\" class=\"dataframe\">\n",
       "  <thead>\n",
       "    <tr style=\"text-align: right;\">\n",
       "      <th></th>\n",
       "      <th>src_id</th>\n",
       "      <th>num_obs</th>\n",
       "      <th>src_n</th>\n",
       "      <th>name</th>\n",
       "      <th>ra</th>\n",
       "      <th>dec</th>\n",
       "      <th>livetime</th>\n",
       "      <th>significance</th>\n",
       "      <th>likelihood</th>\n",
       "      <th>class</th>\n",
       "      <th>...</th>\n",
       "      <th>flux_aper_hilim_u</th>\n",
       "      <th>flux_aper_lolim_h</th>\n",
       "      <th>var_inter_index_h</th>\n",
       "      <th>flux_aper_lolim_s</th>\n",
       "      <th>var_mean_b</th>\n",
       "      <th>var_sigma_b</th>\n",
       "      <th>ks_prob_b</th>\n",
       "      <th>var_prob_b</th>\n",
       "      <th>var_inter_index_s</th>\n",
       "      <th>var_inter_index_m</th>\n",
       "    </tr>\n",
       "    <tr>\n",
       "      <th>obs_id</th>\n",
       "      <th></th>\n",
       "      <th></th>\n",
       "      <th></th>\n",
       "      <th></th>\n",
       "      <th></th>\n",
       "      <th></th>\n",
       "      <th></th>\n",
       "      <th></th>\n",
       "      <th></th>\n",
       "      <th></th>\n",
       "      <th></th>\n",
       "      <th></th>\n",
       "      <th></th>\n",
       "      <th></th>\n",
       "      <th></th>\n",
       "      <th></th>\n",
       "      <th></th>\n",
       "      <th></th>\n",
       "      <th></th>\n",
       "      <th></th>\n",
       "      <th></th>\n",
       "    </tr>\n",
       "  </thead>\n",
       "  <tbody>\n",
       "    <tr>\n",
       "      <th>CV_0_obs_0</th>\n",
       "      <td>CV_0</td>\n",
       "      <td>25</td>\n",
       "      <td>CSS120424:125906+242634</td>\n",
       "      <td>2CXO J004247.1+411619</td>\n",
       "      <td>10.696540</td>\n",
       "      <td>41.27215</td>\n",
       "      <td>4103.7</td>\n",
       "      <td>52.93</td>\n",
       "      <td>16618.73000</td>\n",
       "      <td>CV</td>\n",
       "      <td>...</td>\n",
       "      <td>13.180832</td>\n",
       "      <td>15.145466</td>\n",
       "      <td>7.895</td>\n",
       "      <td>15.390043</td>\n",
       "      <td>0.003259</td>\n",
       "      <td>0.000823</td>\n",
       "      <td>0.602003</td>\n",
       "      <td>0.532361</td>\n",
       "      <td>5.00</td>\n",
       "      <td>5.446667</td>\n",
       "    </tr>\n",
       "    <tr>\n",
       "      <th>CV_1_obs_0</th>\n",
       "      <td>CV_1</td>\n",
       "      <td>12</td>\n",
       "      <td>W32</td>\n",
       "      <td>2CXO J002405.6-720449</td>\n",
       "      <td>6.023632</td>\n",
       "      <td>-72.08036</td>\n",
       "      <td>31673.8</td>\n",
       "      <td>20.78</td>\n",
       "      <td>1834.51100</td>\n",
       "      <td>CV</td>\n",
       "      <td>...</td>\n",
       "      <td>14.322629</td>\n",
       "      <td>14.626767</td>\n",
       "      <td>5.000</td>\n",
       "      <td>14.664618</td>\n",
       "      <td>0.002208</td>\n",
       "      <td>0.000588</td>\n",
       "      <td>0.610771</td>\n",
       "      <td>0.577386</td>\n",
       "      <td>5.00</td>\n",
       "      <td>0.000000</td>\n",
       "    </tr>\n",
       "    <tr>\n",
       "      <th>CV_2_obs_0</th>\n",
       "      <td>CV_2</td>\n",
       "      <td>8</td>\n",
       "      <td>CXOGlb_J002405.2-720446</td>\n",
       "      <td>2CXO J002405.2-720446</td>\n",
       "      <td>6.021793</td>\n",
       "      <td>-72.07968</td>\n",
       "      <td>5544.8</td>\n",
       "      <td>9.72</td>\n",
       "      <td>548.75650</td>\n",
       "      <td>CV</td>\n",
       "      <td>...</td>\n",
       "      <td>14.443047</td>\n",
       "      <td>15.212169</td>\n",
       "      <td>0.000</td>\n",
       "      <td>15.274571</td>\n",
       "      <td>0.002153</td>\n",
       "      <td>0.000477</td>\n",
       "      <td>0.688203</td>\n",
       "      <td>0.516768</td>\n",
       "      <td>0.00</td>\n",
       "      <td>4.000000</td>\n",
       "    </tr>\n",
       "    <tr>\n",
       "      <th>CV_3_obs_0</th>\n",
       "      <td>CV_3</td>\n",
       "      <td>13</td>\n",
       "      <td>Cl__NGC_104_MAM_M54898</td>\n",
       "      <td>2CXO J002406.0-720456</td>\n",
       "      <td>6.025117</td>\n",
       "      <td>-72.08228</td>\n",
       "      <td>65237.5</td>\n",
       "      <td>25.99</td>\n",
       "      <td>3275.90600</td>\n",
       "      <td>CV</td>\n",
       "      <td>...</td>\n",
       "      <td>14.358313</td>\n",
       "      <td>14.169467</td>\n",
       "      <td>6.000</td>\n",
       "      <td>14.376190</td>\n",
       "      <td>0.003670</td>\n",
       "      <td>0.000332</td>\n",
       "      <td>0.388990</td>\n",
       "      <td>0.233054</td>\n",
       "      <td>6.00</td>\n",
       "      <td>8.000000</td>\n",
       "    </tr>\n",
       "    <tr>\n",
       "      <th>CV_4_obs_0</th>\n",
       "      <td>CV_4</td>\n",
       "      <td>13</td>\n",
       "      <td>CXOGlb_J002404.9-720455</td>\n",
       "      <td>2CXO J002404.9-720455</td>\n",
       "      <td>6.020589</td>\n",
       "      <td>-72.08210</td>\n",
       "      <td>31673.8</td>\n",
       "      <td>19.64</td>\n",
       "      <td>2291.21000</td>\n",
       "      <td>CV</td>\n",
       "      <td>...</td>\n",
       "      <td>14.509655</td>\n",
       "      <td>14.387837</td>\n",
       "      <td>8.000</td>\n",
       "      <td>15.122289</td>\n",
       "      <td>0.003253</td>\n",
       "      <td>0.000536</td>\n",
       "      <td>0.613627</td>\n",
       "      <td>0.543252</td>\n",
       "      <td>0.00</td>\n",
       "      <td>4.000000</td>\n",
       "    </tr>\n",
       "    <tr>\n",
       "      <th>...</th>\n",
       "      <td>...</td>\n",
       "      <td>...</td>\n",
       "      <td>...</td>\n",
       "      <td>...</td>\n",
       "      <td>...</td>\n",
       "      <td>...</td>\n",
       "      <td>...</td>\n",
       "      <td>...</td>\n",
       "      <td>...</td>\n",
       "      <td>...</td>\n",
       "      <td>...</td>\n",
       "      <td>...</td>\n",
       "      <td>...</td>\n",
       "      <td>...</td>\n",
       "      <td>...</td>\n",
       "      <td>...</td>\n",
       "      <td>...</td>\n",
       "      <td>...</td>\n",
       "      <td>...</td>\n",
       "      <td>...</td>\n",
       "      <td>...</td>\n",
       "    </tr>\n",
       "    <tr>\n",
       "      <th>LMXB_91_obs_0</th>\n",
       "      <td>LMXB_91</td>\n",
       "      <td>1</td>\n",
       "      <td>XB_1732-304__________</td>\n",
       "      <td>2CXO J173547.0-302858</td>\n",
       "      <td>263.945900</td>\n",
       "      <td>-30.48282</td>\n",
       "      <td>18855.8</td>\n",
       "      <td>4.89</td>\n",
       "      <td>114.24570</td>\n",
       "      <td>LX</td>\n",
       "      <td>...</td>\n",
       "      <td>15.247567</td>\n",
       "      <td>15.146059</td>\n",
       "      <td>0.000</td>\n",
       "      <td>15.893809</td>\n",
       "      <td>0.001623</td>\n",
       "      <td>0.000211</td>\n",
       "      <td>0.735000</td>\n",
       "      <td>0.451000</td>\n",
       "      <td>0.00</td>\n",
       "      <td>5.000000</td>\n",
       "    </tr>\n",
       "    <tr>\n",
       "      <th>LMXB_92_obs_0</th>\n",
       "      <td>LMXB_92</td>\n",
       "      <td>1</td>\n",
       "      <td>BW_ANT_______________</td>\n",
       "      <td>2CXO J092920.1-312303</td>\n",
       "      <td>142.334100</td>\n",
       "      <td>-31.38427</td>\n",
       "      <td>24445.9</td>\n",
       "      <td>3.70</td>\n",
       "      <td>75.53454</td>\n",
       "      <td>LX</td>\n",
       "      <td>...</td>\n",
       "      <td>14.335264</td>\n",
       "      <td>14.681311</td>\n",
       "      <td>5.000</td>\n",
       "      <td>15.133535</td>\n",
       "      <td>0.000740</td>\n",
       "      <td>0.000201</td>\n",
       "      <td>0.940000</td>\n",
       "      <td>0.607000</td>\n",
       "      <td>5.09</td>\n",
       "      <td>3.970000</td>\n",
       "    </tr>\n",
       "    <tr>\n",
       "      <th>LMXB_94_obs_0</th>\n",
       "      <td>LMXB_94</td>\n",
       "      <td>1</td>\n",
       "      <td>J1748-3607___________</td>\n",
       "      <td>2CXO J174813.1-360758</td>\n",
       "      <td>267.054700</td>\n",
       "      <td>-36.13281</td>\n",
       "      <td>15794.5</td>\n",
       "      <td>3.09</td>\n",
       "      <td>50.50810</td>\n",
       "      <td>LX</td>\n",
       "      <td>...</td>\n",
       "      <td>14.129166</td>\n",
       "      <td>15.392119</td>\n",
       "      <td>5.000</td>\n",
       "      <td>14.971429</td>\n",
       "      <td>0.000782</td>\n",
       "      <td>0.000061</td>\n",
       "      <td>0.134000</td>\n",
       "      <td>0.380000</td>\n",
       "      <td>5.09</td>\n",
       "      <td>3.960000</td>\n",
       "    </tr>\n",
       "    <tr>\n",
       "      <th>LMXB_96_obs_0</th>\n",
       "      <td>LMXB_96</td>\n",
       "      <td>1</td>\n",
       "      <td>J1749-2919___________</td>\n",
       "      <td>2CXO J174955.3-291919</td>\n",
       "      <td>267.480700</td>\n",
       "      <td>-29.32209</td>\n",
       "      <td>14183.8</td>\n",
       "      <td>3.26</td>\n",
       "      <td>48.59275</td>\n",
       "      <td>LX</td>\n",
       "      <td>...</td>\n",
       "      <td>14.027519</td>\n",
       "      <td>13.869666</td>\n",
       "      <td>4.990</td>\n",
       "      <td>15.877400</td>\n",
       "      <td>0.000905</td>\n",
       "      <td>0.000061</td>\n",
       "      <td>0.602000</td>\n",
       "      <td>0.355000</td>\n",
       "      <td>5.00</td>\n",
       "      <td>3.990000</td>\n",
       "    </tr>\n",
       "    <tr>\n",
       "      <th>LMXB_97_obs_0</th>\n",
       "      <td>LMXB_97</td>\n",
       "      <td>1</td>\n",
       "      <td>J1751-3037___________</td>\n",
       "      <td>2CXO J175113.6-303726</td>\n",
       "      <td>267.806900</td>\n",
       "      <td>-30.62403</td>\n",
       "      <td>42978.4</td>\n",
       "      <td>2.91</td>\n",
       "      <td>81.41561</td>\n",
       "      <td>LX</td>\n",
       "      <td>...</td>\n",
       "      <td>15.589223</td>\n",
       "      <td>15.752027</td>\n",
       "      <td>0.000</td>\n",
       "      <td>15.708853</td>\n",
       "      <td>0.000264</td>\n",
       "      <td>0.000117</td>\n",
       "      <td>0.965000</td>\n",
       "      <td>0.800000</td>\n",
       "      <td>0.00</td>\n",
       "      <td>0.000000</td>\n",
       "    </tr>\n",
       "  </tbody>\n",
       "</table>\n",
       "<p>588 rows × 28 columns</p>\n",
       "</div>"
      ],
      "text/plain": [
       "                src_id  num_obs                    src_n  \\\n",
       "obs_id                                                     \n",
       "CV_0_obs_0        CV_0       25  CSS120424:125906+242634   \n",
       "CV_1_obs_0        CV_1       12                      W32   \n",
       "CV_2_obs_0        CV_2        8  CXOGlb_J002405.2-720446   \n",
       "CV_3_obs_0        CV_3       13   Cl__NGC_104_MAM_M54898   \n",
       "CV_4_obs_0        CV_4       13  CXOGlb_J002404.9-720455   \n",
       "...                ...      ...                      ...   \n",
       "LMXB_91_obs_0  LMXB_91        1    XB_1732-304__________   \n",
       "LMXB_92_obs_0  LMXB_92        1    BW_ANT_______________   \n",
       "LMXB_94_obs_0  LMXB_94        1    J1748-3607___________   \n",
       "LMXB_96_obs_0  LMXB_96        1    J1749-2919___________   \n",
       "LMXB_97_obs_0  LMXB_97        1    J1751-3037___________   \n",
       "\n",
       "                                 name          ra       dec  livetime  \\\n",
       "obs_id                                                                  \n",
       "CV_0_obs_0      2CXO J004247.1+411619   10.696540  41.27215    4103.7   \n",
       "CV_1_obs_0      2CXO J002405.6-720449    6.023632 -72.08036   31673.8   \n",
       "CV_2_obs_0      2CXO J002405.2-720446    6.021793 -72.07968    5544.8   \n",
       "CV_3_obs_0      2CXO J002406.0-720456    6.025117 -72.08228   65237.5   \n",
       "CV_4_obs_0      2CXO J002404.9-720455    6.020589 -72.08210   31673.8   \n",
       "...                               ...         ...       ...       ...   \n",
       "LMXB_91_obs_0   2CXO J173547.0-302858  263.945900 -30.48282   18855.8   \n",
       "LMXB_92_obs_0   2CXO J092920.1-312303  142.334100 -31.38427   24445.9   \n",
       "LMXB_94_obs_0   2CXO J174813.1-360758  267.054700 -36.13281   15794.5   \n",
       "LMXB_96_obs_0   2CXO J174955.3-291919  267.480700 -29.32209   14183.8   \n",
       "LMXB_97_obs_0   2CXO J175113.6-303726  267.806900 -30.62403   42978.4   \n",
       "\n",
       "               significance   likelihood class  ...  flux_aper_hilim_u  \\\n",
       "obs_id                                          ...                      \n",
       "CV_0_obs_0            52.93  16618.73000    CV  ...          13.180832   \n",
       "CV_1_obs_0            20.78   1834.51100    CV  ...          14.322629   \n",
       "CV_2_obs_0             9.72    548.75650    CV  ...          14.443047   \n",
       "CV_3_obs_0            25.99   3275.90600    CV  ...          14.358313   \n",
       "CV_4_obs_0            19.64   2291.21000    CV  ...          14.509655   \n",
       "...                     ...          ...   ...  ...                ...   \n",
       "LMXB_91_obs_0          4.89    114.24570    LX  ...          15.247567   \n",
       "LMXB_92_obs_0          3.70     75.53454    LX  ...          14.335264   \n",
       "LMXB_94_obs_0          3.09     50.50810    LX  ...          14.129166   \n",
       "LMXB_96_obs_0          3.26     48.59275    LX  ...          14.027519   \n",
       "LMXB_97_obs_0          2.91     81.41561    LX  ...          15.589223   \n",
       "\n",
       "               flux_aper_lolim_h  var_inter_index_h  flux_aper_lolim_s  \\\n",
       "obs_id                                                                   \n",
       "CV_0_obs_0             15.145466              7.895          15.390043   \n",
       "CV_1_obs_0             14.626767              5.000          14.664618   \n",
       "CV_2_obs_0             15.212169              0.000          15.274571   \n",
       "CV_3_obs_0             14.169467              6.000          14.376190   \n",
       "CV_4_obs_0             14.387837              8.000          15.122289   \n",
       "...                          ...                ...                ...   \n",
       "LMXB_91_obs_0          15.146059              0.000          15.893809   \n",
       "LMXB_92_obs_0          14.681311              5.000          15.133535   \n",
       "LMXB_94_obs_0          15.392119              5.000          14.971429   \n",
       "LMXB_96_obs_0          13.869666              4.990          15.877400   \n",
       "LMXB_97_obs_0          15.752027              0.000          15.708853   \n",
       "\n",
       "               var_mean_b  var_sigma_b  ks_prob_b  var_prob_b  \\\n",
       "obs_id                                                          \n",
       "CV_0_obs_0       0.003259     0.000823   0.602003    0.532361   \n",
       "CV_1_obs_0       0.002208     0.000588   0.610771    0.577386   \n",
       "CV_2_obs_0       0.002153     0.000477   0.688203    0.516768   \n",
       "CV_3_obs_0       0.003670     0.000332   0.388990    0.233054   \n",
       "CV_4_obs_0       0.003253     0.000536   0.613627    0.543252   \n",
       "...                   ...          ...        ...         ...   \n",
       "LMXB_91_obs_0    0.001623     0.000211   0.735000    0.451000   \n",
       "LMXB_92_obs_0    0.000740     0.000201   0.940000    0.607000   \n",
       "LMXB_94_obs_0    0.000782     0.000061   0.134000    0.380000   \n",
       "LMXB_96_obs_0    0.000905     0.000061   0.602000    0.355000   \n",
       "LMXB_97_obs_0    0.000264     0.000117   0.965000    0.800000   \n",
       "\n",
       "               var_inter_index_s  var_inter_index_m  \n",
       "obs_id                                               \n",
       "CV_0_obs_0                  5.00           5.446667  \n",
       "CV_1_obs_0                  5.00           0.000000  \n",
       "CV_2_obs_0                  0.00           4.000000  \n",
       "CV_3_obs_0                  6.00           8.000000  \n",
       "CV_4_obs_0                  0.00           4.000000  \n",
       "...                          ...                ...  \n",
       "LMXB_91_obs_0               0.00           5.000000  \n",
       "LMXB_92_obs_0               5.09           3.970000  \n",
       "LMXB_94_obs_0               5.09           3.960000  \n",
       "LMXB_96_obs_0               5.00           3.990000  \n",
       "LMXB_97_obs_0               0.00           0.000000  \n",
       "\n",
       "[588 rows x 28 columns]"
      ]
     },
     "metadata": {},
     "output_type": "display_data"
    }
   ],
   "source": [
    "\n",
    "df_comb = pd.DataFrame()\n",
    "for s in data_imp_v2['src_id'].unique()[:]:\n",
    "    temp = data_imp_v2[data_imp_v2['src_id']==s]\n",
    "    temp_id =  temp[info_col_cl]\n",
    "    temp_val = temp.drop(columns=info_col_cl)\n",
    "    temp_mean = temp_val.mean().to_frame().T\n",
    "    temp_id_top = temp_id.iloc[0:1].reset_index()\n",
    "    temp_final = pd.concat([temp_id_top , temp_mean] , axis=1).set_index('obs_id')\n",
    "    df_comb = df_comb.append(temp_final)\n",
    "display(df_comb)\n"
   ]
  },
  {
   "cell_type": "code",
   "execution_count": 64,
   "metadata": {},
   "outputs": [
    {
     "data": {
      "text/html": [
       "<div>\n",
       "<style scoped>\n",
       "    .dataframe tbody tr th:only-of-type {\n",
       "        vertical-align: middle;\n",
       "    }\n",
       "\n",
       "    .dataframe tbody tr th {\n",
       "        vertical-align: top;\n",
       "    }\n",
       "\n",
       "    .dataframe thead th {\n",
       "        text-align: right;\n",
       "    }\n",
       "</style>\n",
       "<table border=\"1\" class=\"dataframe\">\n",
       "  <thead>\n",
       "    <tr style=\"text-align: right;\">\n",
       "      <th></th>\n",
       "      <th>src_id</th>\n",
       "      <th>num_obs</th>\n",
       "      <th>src_n</th>\n",
       "      <th>name</th>\n",
       "      <th>ra</th>\n",
       "      <th>dec</th>\n",
       "      <th>livetime</th>\n",
       "      <th>significance</th>\n",
       "      <th>likelihood</th>\n",
       "      <th>class</th>\n",
       "      <th>...</th>\n",
       "      <th>flux_aper_hilim_u</th>\n",
       "      <th>flux_aper_lolim_h</th>\n",
       "      <th>var_inter_index_h</th>\n",
       "      <th>flux_aper_lolim_s</th>\n",
       "      <th>var_mean_b</th>\n",
       "      <th>var_sigma_b</th>\n",
       "      <th>ks_prob_b</th>\n",
       "      <th>var_prob_b</th>\n",
       "      <th>var_inter_index_s</th>\n",
       "      <th>var_inter_index_m</th>\n",
       "    </tr>\n",
       "    <tr>\n",
       "      <th>obs_id</th>\n",
       "      <th></th>\n",
       "      <th></th>\n",
       "      <th></th>\n",
       "      <th></th>\n",
       "      <th></th>\n",
       "      <th></th>\n",
       "      <th></th>\n",
       "      <th></th>\n",
       "      <th></th>\n",
       "      <th></th>\n",
       "      <th></th>\n",
       "      <th></th>\n",
       "      <th></th>\n",
       "      <th></th>\n",
       "      <th></th>\n",
       "      <th></th>\n",
       "      <th></th>\n",
       "      <th></th>\n",
       "      <th></th>\n",
       "      <th></th>\n",
       "      <th></th>\n",
       "    </tr>\n",
       "  </thead>\n",
       "  <tbody>\n",
       "    <tr>\n",
       "      <th>CV_0_obs_0</th>\n",
       "      <td>CV_0</td>\n",
       "      <td>25</td>\n",
       "      <td>CSS120424:125906+242634</td>\n",
       "      <td>2CXO J004247.1+411619</td>\n",
       "      <td>10.696540</td>\n",
       "      <td>41.27215</td>\n",
       "      <td>4103.7</td>\n",
       "      <td>52.93</td>\n",
       "      <td>16618.73000</td>\n",
       "      <td>CV</td>\n",
       "      <td>...</td>\n",
       "      <td>-1.720009</td>\n",
       "      <td>0.733037</td>\n",
       "      <td>1.329855</td>\n",
       "      <td>0.440113</td>\n",
       "      <td>-0.295211</td>\n",
       "      <td>-0.008581</td>\n",
       "      <td>0.130001</td>\n",
       "      <td>0.462878</td>\n",
       "      <td>0.335040</td>\n",
       "      <td>0.619519</td>\n",
       "    </tr>\n",
       "    <tr>\n",
       "      <th>CV_1_obs_0</th>\n",
       "      <td>CV_1</td>\n",
       "      <td>12</td>\n",
       "      <td>W32</td>\n",
       "      <td>2CXO J002405.6-720449</td>\n",
       "      <td>6.023632</td>\n",
       "      <td>-72.08036</td>\n",
       "      <td>31673.8</td>\n",
       "      <td>20.78</td>\n",
       "      <td>1834.51100</td>\n",
       "      <td>CV</td>\n",
       "      <td>...</td>\n",
       "      <td>0.029683</td>\n",
       "      <td>0.192226</td>\n",
       "      <td>0.220405</td>\n",
       "      <td>-0.432972</td>\n",
       "      <td>-0.387764</td>\n",
       "      <td>-0.097970</td>\n",
       "      <td>0.168627</td>\n",
       "      <td>0.675923</td>\n",
       "      <td>0.335040</td>\n",
       "      <td>-1.583580</td>\n",
       "    </tr>\n",
       "    <tr>\n",
       "      <th>CV_2_obs_0</th>\n",
       "      <td>CV_2</td>\n",
       "      <td>8</td>\n",
       "      <td>CXOGlb_J002405.2-720446</td>\n",
       "      <td>2CXO J002405.2-720446</td>\n",
       "      <td>6.021793</td>\n",
       "      <td>-72.07968</td>\n",
       "      <td>5544.8</td>\n",
       "      <td>9.72</td>\n",
       "      <td>548.75650</td>\n",
       "      <td>CV</td>\n",
       "      <td>...</td>\n",
       "      <td>0.214212</td>\n",
       "      <td>0.802584</td>\n",
       "      <td>-1.695745</td>\n",
       "      <td>0.301137</td>\n",
       "      <td>-0.392606</td>\n",
       "      <td>-0.140135</td>\n",
       "      <td>0.509724</td>\n",
       "      <td>0.389095</td>\n",
       "      <td>-1.691877</td>\n",
       "      <td>0.034363</td>\n",
       "    </tr>\n",
       "    <tr>\n",
       "      <th>CV_3_obs_0</th>\n",
       "      <td>CV_3</td>\n",
       "      <td>13</td>\n",
       "      <td>Cl__NGC_104_MAM_M54898</td>\n",
       "      <td>2CXO J002406.0-720456</td>\n",
       "      <td>6.025117</td>\n",
       "      <td>-72.08228</td>\n",
       "      <td>65237.5</td>\n",
       "      <td>25.99</td>\n",
       "      <td>3275.90600</td>\n",
       "      <td>CV</td>\n",
       "      <td>...</td>\n",
       "      <td>0.084365</td>\n",
       "      <td>-0.284571</td>\n",
       "      <td>0.603634</td>\n",
       "      <td>-0.780110</td>\n",
       "      <td>-0.259087</td>\n",
       "      <td>-0.195226</td>\n",
       "      <td>-0.808349</td>\n",
       "      <td>-0.953355</td>\n",
       "      <td>0.740423</td>\n",
       "      <td>1.652307</td>\n",
       "    </tr>\n",
       "    <tr>\n",
       "      <th>CV_4_obs_0</th>\n",
       "      <td>CV_4</td>\n",
       "      <td>13</td>\n",
       "      <td>CXOGlb_J002404.9-720455</td>\n",
       "      <td>2CXO J002404.9-720455</td>\n",
       "      <td>6.020589</td>\n",
       "      <td>-72.08210</td>\n",
       "      <td>31673.8</td>\n",
       "      <td>19.64</td>\n",
       "      <td>2291.21000</td>\n",
       "      <td>CV</td>\n",
       "      <td>...</td>\n",
       "      <td>0.316281</td>\n",
       "      <td>-0.056891</td>\n",
       "      <td>1.370094</td>\n",
       "      <td>0.117858</td>\n",
       "      <td>-0.295740</td>\n",
       "      <td>-0.117592</td>\n",
       "      <td>0.181208</td>\n",
       "      <td>0.514410</td>\n",
       "      <td>-1.691877</td>\n",
       "      <td>0.034363</td>\n",
       "    </tr>\n",
       "    <tr>\n",
       "      <th>...</th>\n",
       "      <td>...</td>\n",
       "      <td>...</td>\n",
       "      <td>...</td>\n",
       "      <td>...</td>\n",
       "      <td>...</td>\n",
       "      <td>...</td>\n",
       "      <td>...</td>\n",
       "      <td>...</td>\n",
       "      <td>...</td>\n",
       "      <td>...</td>\n",
       "      <td>...</td>\n",
       "      <td>...</td>\n",
       "      <td>...</td>\n",
       "      <td>...</td>\n",
       "      <td>...</td>\n",
       "      <td>...</td>\n",
       "      <td>...</td>\n",
       "      <td>...</td>\n",
       "      <td>...</td>\n",
       "      <td>...</td>\n",
       "      <td>...</td>\n",
       "    </tr>\n",
       "    <tr>\n",
       "      <th>LMXB_91_obs_0</th>\n",
       "      <td>LMXB_91</td>\n",
       "      <td>1</td>\n",
       "      <td>XB_1732-304__________</td>\n",
       "      <td>2CXO J173547.0-302858</td>\n",
       "      <td>263.945900</td>\n",
       "      <td>-30.48282</td>\n",
       "      <td>18855.8</td>\n",
       "      <td>4.89</td>\n",
       "      <td>114.24570</td>\n",
       "      <td>LX</td>\n",
       "      <td>...</td>\n",
       "      <td>1.447061</td>\n",
       "      <td>0.733655</td>\n",
       "      <td>-1.695745</td>\n",
       "      <td>1.046421</td>\n",
       "      <td>-0.439280</td>\n",
       "      <td>-0.241217</td>\n",
       "      <td>0.715874</td>\n",
       "      <td>0.077902</td>\n",
       "      <td>-1.691877</td>\n",
       "      <td>0.438849</td>\n",
       "    </tr>\n",
       "    <tr>\n",
       "      <th>LMXB_92_obs_0</th>\n",
       "      <td>LMXB_92</td>\n",
       "      <td>1</td>\n",
       "      <td>BW_ANT_______________</td>\n",
       "      <td>2CXO J092920.1-312303</td>\n",
       "      <td>142.334100</td>\n",
       "      <td>-31.38427</td>\n",
       "      <td>24445.9</td>\n",
       "      <td>3.70</td>\n",
       "      <td>75.53454</td>\n",
       "      <td>LX</td>\n",
       "      <td>...</td>\n",
       "      <td>0.049045</td>\n",
       "      <td>0.249094</td>\n",
       "      <td>0.220405</td>\n",
       "      <td>0.131394</td>\n",
       "      <td>-0.517038</td>\n",
       "      <td>-0.245097</td>\n",
       "      <td>1.618928</td>\n",
       "      <td>0.816049</td>\n",
       "      <td>0.371524</td>\n",
       "      <td>0.022228</td>\n",
       "    </tr>\n",
       "    <tr>\n",
       "      <th>LMXB_94_obs_0</th>\n",
       "      <td>LMXB_94</td>\n",
       "      <td>1</td>\n",
       "      <td>J1748-3607___________</td>\n",
       "      <td>2CXO J174813.1-360758</td>\n",
       "      <td>267.054700</td>\n",
       "      <td>-36.13281</td>\n",
       "      <td>15794.5</td>\n",
       "      <td>3.09</td>\n",
       "      <td>50.50810</td>\n",
       "      <td>LX</td>\n",
       "      <td>...</td>\n",
       "      <td>-0.266780</td>\n",
       "      <td>0.990205</td>\n",
       "      <td>0.220405</td>\n",
       "      <td>-0.063710</td>\n",
       "      <td>-0.513287</td>\n",
       "      <td>-0.298329</td>\n",
       "      <td>-1.931617</td>\n",
       "      <td>-0.258049</td>\n",
       "      <td>0.371524</td>\n",
       "      <td>0.018184</td>\n",
       "    </tr>\n",
       "    <tr>\n",
       "      <th>LMXB_96_obs_0</th>\n",
       "      <td>LMXB_96</td>\n",
       "      <td>1</td>\n",
       "      <td>J1749-2919___________</td>\n",
       "      <td>2CXO J174955.3-291919</td>\n",
       "      <td>267.480700</td>\n",
       "      <td>-29.32209</td>\n",
       "      <td>14183.8</td>\n",
       "      <td>3.26</td>\n",
       "      <td>48.59275</td>\n",
       "      <td>LX</td>\n",
       "      <td>...</td>\n",
       "      <td>-0.422543</td>\n",
       "      <td>-0.597152</td>\n",
       "      <td>0.216572</td>\n",
       "      <td>1.026672</td>\n",
       "      <td>-0.502520</td>\n",
       "      <td>-0.298295</td>\n",
       "      <td>0.129990</td>\n",
       "      <td>-0.376342</td>\n",
       "      <td>0.335040</td>\n",
       "      <td>0.030318</td>\n",
       "    </tr>\n",
       "    <tr>\n",
       "      <th>LMXB_97_obs_0</th>\n",
       "      <td>LMXB_97</td>\n",
       "      <td>1</td>\n",
       "      <td>J1751-3037___________</td>\n",
       "      <td>2CXO J175113.6-303726</td>\n",
       "      <td>267.806900</td>\n",
       "      <td>-30.62403</td>\n",
       "      <td>42978.4</td>\n",
       "      <td>2.91</td>\n",
       "      <td>81.41561</td>\n",
       "      <td>LX</td>\n",
       "      <td>...</td>\n",
       "      <td>1.970614</td>\n",
       "      <td>1.365456</td>\n",
       "      <td>-1.695745</td>\n",
       "      <td>0.823817</td>\n",
       "      <td>-0.558919</td>\n",
       "      <td>-0.276974</td>\n",
       "      <td>1.729057</td>\n",
       "      <td>1.729268</td>\n",
       "      <td>-1.691877</td>\n",
       "      <td>-1.583580</td>\n",
       "    </tr>\n",
       "  </tbody>\n",
       "</table>\n",
       "<p>588 rows × 28 columns</p>\n",
       "</div>"
      ],
      "text/plain": [
       "                src_id  num_obs                    src_n  \\\n",
       "obs_id                                                     \n",
       "CV_0_obs_0        CV_0       25  CSS120424:125906+242634   \n",
       "CV_1_obs_0        CV_1       12                      W32   \n",
       "CV_2_obs_0        CV_2        8  CXOGlb_J002405.2-720446   \n",
       "CV_3_obs_0        CV_3       13   Cl__NGC_104_MAM_M54898   \n",
       "CV_4_obs_0        CV_4       13  CXOGlb_J002404.9-720455   \n",
       "...                ...      ...                      ...   \n",
       "LMXB_91_obs_0  LMXB_91        1    XB_1732-304__________   \n",
       "LMXB_92_obs_0  LMXB_92        1    BW_ANT_______________   \n",
       "LMXB_94_obs_0  LMXB_94        1    J1748-3607___________   \n",
       "LMXB_96_obs_0  LMXB_96        1    J1749-2919___________   \n",
       "LMXB_97_obs_0  LMXB_97        1    J1751-3037___________   \n",
       "\n",
       "                                 name          ra       dec  livetime  \\\n",
       "obs_id                                                                  \n",
       "CV_0_obs_0      2CXO J004247.1+411619   10.696540  41.27215    4103.7   \n",
       "CV_1_obs_0      2CXO J002405.6-720449    6.023632 -72.08036   31673.8   \n",
       "CV_2_obs_0      2CXO J002405.2-720446    6.021793 -72.07968    5544.8   \n",
       "CV_3_obs_0      2CXO J002406.0-720456    6.025117 -72.08228   65237.5   \n",
       "CV_4_obs_0      2CXO J002404.9-720455    6.020589 -72.08210   31673.8   \n",
       "...                               ...         ...       ...       ...   \n",
       "LMXB_91_obs_0   2CXO J173547.0-302858  263.945900 -30.48282   18855.8   \n",
       "LMXB_92_obs_0   2CXO J092920.1-312303  142.334100 -31.38427   24445.9   \n",
       "LMXB_94_obs_0   2CXO J174813.1-360758  267.054700 -36.13281   15794.5   \n",
       "LMXB_96_obs_0   2CXO J174955.3-291919  267.480700 -29.32209   14183.8   \n",
       "LMXB_97_obs_0   2CXO J175113.6-303726  267.806900 -30.62403   42978.4   \n",
       "\n",
       "               significance   likelihood class  ...  flux_aper_hilim_u  \\\n",
       "obs_id                                          ...                      \n",
       "CV_0_obs_0            52.93  16618.73000    CV  ...          -1.720009   \n",
       "CV_1_obs_0            20.78   1834.51100    CV  ...           0.029683   \n",
       "CV_2_obs_0             9.72    548.75650    CV  ...           0.214212   \n",
       "CV_3_obs_0            25.99   3275.90600    CV  ...           0.084365   \n",
       "CV_4_obs_0            19.64   2291.21000    CV  ...           0.316281   \n",
       "...                     ...          ...   ...  ...                ...   \n",
       "LMXB_91_obs_0          4.89    114.24570    LX  ...           1.447061   \n",
       "LMXB_92_obs_0          3.70     75.53454    LX  ...           0.049045   \n",
       "LMXB_94_obs_0          3.09     50.50810    LX  ...          -0.266780   \n",
       "LMXB_96_obs_0          3.26     48.59275    LX  ...          -0.422543   \n",
       "LMXB_97_obs_0          2.91     81.41561    LX  ...           1.970614   \n",
       "\n",
       "               flux_aper_lolim_h  var_inter_index_h  flux_aper_lolim_s  \\\n",
       "obs_id                                                                   \n",
       "CV_0_obs_0              0.733037           1.329855           0.440113   \n",
       "CV_1_obs_0              0.192226           0.220405          -0.432972   \n",
       "CV_2_obs_0              0.802584          -1.695745           0.301137   \n",
       "CV_3_obs_0             -0.284571           0.603634          -0.780110   \n",
       "CV_4_obs_0             -0.056891           1.370094           0.117858   \n",
       "...                          ...                ...                ...   \n",
       "LMXB_91_obs_0           0.733655          -1.695745           1.046421   \n",
       "LMXB_92_obs_0           0.249094           0.220405           0.131394   \n",
       "LMXB_94_obs_0           0.990205           0.220405          -0.063710   \n",
       "LMXB_96_obs_0          -0.597152           0.216572           1.026672   \n",
       "LMXB_97_obs_0           1.365456          -1.695745           0.823817   \n",
       "\n",
       "               var_mean_b  var_sigma_b  ks_prob_b  var_prob_b  \\\n",
       "obs_id                                                          \n",
       "CV_0_obs_0      -0.295211    -0.008581   0.130001    0.462878   \n",
       "CV_1_obs_0      -0.387764    -0.097970   0.168627    0.675923   \n",
       "CV_2_obs_0      -0.392606    -0.140135   0.509724    0.389095   \n",
       "CV_3_obs_0      -0.259087    -0.195226  -0.808349   -0.953355   \n",
       "CV_4_obs_0      -0.295740    -0.117592   0.181208    0.514410   \n",
       "...                   ...          ...        ...         ...   \n",
       "LMXB_91_obs_0   -0.439280    -0.241217   0.715874    0.077902   \n",
       "LMXB_92_obs_0   -0.517038    -0.245097   1.618928    0.816049   \n",
       "LMXB_94_obs_0   -0.513287    -0.298329  -1.931617   -0.258049   \n",
       "LMXB_96_obs_0   -0.502520    -0.298295   0.129990   -0.376342   \n",
       "LMXB_97_obs_0   -0.558919    -0.276974   1.729057    1.729268   \n",
       "\n",
       "               var_inter_index_s  var_inter_index_m  \n",
       "obs_id                                               \n",
       "CV_0_obs_0              0.335040           0.619519  \n",
       "CV_1_obs_0              0.335040          -1.583580  \n",
       "CV_2_obs_0             -1.691877           0.034363  \n",
       "CV_3_obs_0              0.740423           1.652307  \n",
       "CV_4_obs_0             -1.691877           0.034363  \n",
       "...                          ...                ...  \n",
       "LMXB_91_obs_0          -1.691877           0.438849  \n",
       "LMXB_92_obs_0           0.371524           0.022228  \n",
       "LMXB_94_obs_0           0.371524           0.018184  \n",
       "LMXB_96_obs_0           0.335040           0.030318  \n",
       "LMXB_97_obs_0          -1.691877          -1.583580  \n",
       "\n",
       "[588 rows x 28 columns]"
      ]
     },
     "execution_count": 64,
     "metadata": {},
     "output_type": "execute_result"
    }
   ],
   "source": [
    "data_id = df_comb[info_col]\n",
    "data_label = df_comb['class']\n",
    "data_val = df_comb.drop(columns=['class']+info_col)\n",
    "data_imp_norm = df_comb.copy()\n",
    "for c in data_val.columns.to_list():\n",
    "    data_imp_norm.loc[:,c] = (data_imp_norm.loc[:,c] - data_imp_norm.loc[:,c].mean()) / data_imp_norm.loc[:,c].std()\n",
    "data_imp_norm"
   ]
  },
  {
   "cell_type": "code",
   "execution_count": 65,
   "metadata": {},
   "outputs": [
    {
     "name": "stdout",
     "output_type": "stream",
     "text": [
      "________________________________________________\n",
      "Sparsity in the data : 0.00\n",
      "Data shape (588, 28)\n",
      "Number of sources : \n",
      "CV  \t  282 \t 282\n",
      "PL  \t  232 \t 232\n",
      "LX  \t  74 \t 74\n"
     ]
    }
   ],
   "source": [
    "details(data_imp_norm)"
   ]
  },
  {
   "cell_type": "code",
   "execution_count": null,
   "metadata": {},
   "outputs": [],
   "source": []
  },
  {
   "cell_type": "code",
   "execution_count": 66,
   "metadata": {},
   "outputs": [
    {
     "name": "stderr",
     "output_type": "stream",
     "text": [
      "  3%|▎         | 1/32 [00:02<01:04,  2.09s/it]"
     ]
    },
    {
     "name": "stdout",
     "output_type": "stream",
     "text": [
      "52316 0.7570621468926554\n"
     ]
    },
    {
     "name": "stderr",
     "output_type": "stream",
     "text": [
      "  6%|▋         | 2/32 [00:04<01:01,  2.05s/it]"
     ]
    },
    {
     "name": "stdout",
     "output_type": "stream",
     "text": [
      "94483 0.7570621468926554\n"
     ]
    },
    {
     "name": "stderr",
     "output_type": "stream",
     "text": [
      "  9%|▉         | 3/32 [00:06<01:01,  2.12s/it]"
     ]
    },
    {
     "name": "stdout",
     "output_type": "stream",
     "text": [
      "64223 0.7401129943502824\n"
     ]
    },
    {
     "name": "stderr",
     "output_type": "stream",
     "text": [
      " 12%|█▎        | 4/32 [00:08<00:58,  2.09s/it]"
     ]
    },
    {
     "name": "stdout",
     "output_type": "stream",
     "text": [
      "70377 0.751412429378531\n"
     ]
    },
    {
     "name": "stderr",
     "output_type": "stream",
     "text": [
      " 16%|█▌        | 5/32 [00:10<00:55,  2.07s/it]"
     ]
    },
    {
     "name": "stdout",
     "output_type": "stream",
     "text": [
      "2436 0.7231638418079096\n"
     ]
    },
    {
     "name": "stderr",
     "output_type": "stream",
     "text": [
      " 19%|█▉        | 6/32 [00:12<00:52,  2.00s/it]"
     ]
    },
    {
     "name": "stdout",
     "output_type": "stream",
     "text": [
      "38522 0.7740112994350282\n"
     ]
    },
    {
     "name": "stderr",
     "output_type": "stream",
     "text": [
      " 22%|██▏       | 7/32 [00:14<00:49,  1.98s/it]"
     ]
    },
    {
     "name": "stdout",
     "output_type": "stream",
     "text": [
      "87763 0.7288135593220338\n"
     ]
    },
    {
     "name": "stderr",
     "output_type": "stream",
     "text": [
      " 25%|██▌       | 8/32 [00:16<00:46,  1.93s/it]"
     ]
    },
    {
     "name": "stdout",
     "output_type": "stream",
     "text": [
      "41268 0.7401129943502824\n"
     ]
    },
    {
     "name": "stderr",
     "output_type": "stream",
     "text": [
      " 28%|██▊       | 9/32 [00:17<00:44,  1.93s/it]"
     ]
    },
    {
     "name": "stdout",
     "output_type": "stream",
     "text": [
      "88029 0.751412429378531\n"
     ]
    },
    {
     "name": "stderr",
     "output_type": "stream",
     "text": [
      " 31%|███▏      | 10/32 [00:19<00:42,  1.95s/it]"
     ]
    },
    {
     "name": "stdout",
     "output_type": "stream",
     "text": [
      "77098 0.7457627118644068\n"
     ]
    },
    {
     "name": "stderr",
     "output_type": "stream",
     "text": [
      " 34%|███▍      | 11/32 [00:21<00:40,  1.92s/it]"
     ]
    },
    {
     "name": "stdout",
     "output_type": "stream",
     "text": [
      "32757 0.7344632768361582\n"
     ]
    },
    {
     "name": "stderr",
     "output_type": "stream",
     "text": [
      " 38%|███▊      | 12/32 [00:23<00:38,  1.91s/it]"
     ]
    },
    {
     "name": "stdout",
     "output_type": "stream",
     "text": [
      "79587 0.7627118644067796\n"
     ]
    },
    {
     "name": "stderr",
     "output_type": "stream",
     "text": [
      " 41%|████      | 13/32 [00:25<00:35,  1.87s/it]"
     ]
    },
    {
     "name": "stdout",
     "output_type": "stream",
     "text": [
      "13774 0.7570621468926554\n"
     ]
    },
    {
     "name": "stderr",
     "output_type": "stream",
     "text": [
      " 44%|████▍     | 14/32 [00:27<00:33,  1.88s/it]"
     ]
    },
    {
     "name": "stdout",
     "output_type": "stream",
     "text": [
      "10291 0.7175141242937854\n"
     ]
    },
    {
     "name": "stderr",
     "output_type": "stream",
     "text": [
      " 47%|████▋     | 15/32 [00:29<00:31,  1.88s/it]"
     ]
    },
    {
     "name": "stdout",
     "output_type": "stream",
     "text": [
      "23342 0.768361581920904\n"
     ]
    },
    {
     "name": "stderr",
     "output_type": "stream",
     "text": [
      " 50%|█████     | 16/32 [00:31<00:30,  1.88s/it]"
     ]
    },
    {
     "name": "stdout",
     "output_type": "stream",
     "text": [
      "35485 0.7627118644067796\n"
     ]
    },
    {
     "name": "stderr",
     "output_type": "stream",
     "text": [
      " 53%|█████▎    | 17/32 [00:32<00:28,  1.87s/it]"
     ]
    },
    {
     "name": "stdout",
     "output_type": "stream",
     "text": [
      "36973 0.7627118644067796\n"
     ]
    },
    {
     "name": "stderr",
     "output_type": "stream",
     "text": [
      " 56%|█████▋    | 18/32 [00:34<00:26,  1.89s/it]"
     ]
    },
    {
     "name": "stdout",
     "output_type": "stream",
     "text": [
      "93038 0.7401129943502824\n"
     ]
    },
    {
     "name": "stderr",
     "output_type": "stream",
     "text": [
      " 59%|█████▉    | 19/32 [00:36<00:25,  1.93s/it]"
     ]
    },
    {
     "name": "stdout",
     "output_type": "stream",
     "text": [
      "59432 0.7344632768361582\n"
     ]
    },
    {
     "name": "stderr",
     "output_type": "stream",
     "text": [
      " 62%|██████▎   | 20/32 [00:38<00:23,  1.96s/it]"
     ]
    },
    {
     "name": "stdout",
     "output_type": "stream",
     "text": [
      "45664 0.711864406779661\n"
     ]
    },
    {
     "name": "stderr",
     "output_type": "stream",
     "text": [
      " 66%|██████▌   | 21/32 [00:40<00:20,  1.86s/it]"
     ]
    },
    {
     "name": "stdout",
     "output_type": "stream",
     "text": [
      "89312 0.7570621468926554\n"
     ]
    },
    {
     "name": "stderr",
     "output_type": "stream",
     "text": [
      " 69%|██████▉   | 22/32 [00:41<00:17,  1.72s/it]"
     ]
    },
    {
     "name": "stdout",
     "output_type": "stream",
     "text": [
      "56694 0.768361581920904\n"
     ]
    },
    {
     "name": "stderr",
     "output_type": "stream",
     "text": [
      " 72%|███████▏  | 23/32 [00:43<00:14,  1.62s/it]"
     ]
    },
    {
     "name": "stdout",
     "output_type": "stream",
     "text": [
      "14676 0.768361581920904\n"
     ]
    },
    {
     "name": "stderr",
     "output_type": "stream",
     "text": [
      " 75%|███████▌  | 24/32 [00:44<00:12,  1.59s/it]"
     ]
    },
    {
     "name": "stdout",
     "output_type": "stream",
     "text": [
      "60678 0.751412429378531\n"
     ]
    },
    {
     "name": "stderr",
     "output_type": "stream",
     "text": [
      " 78%|███████▊  | 25/32 [00:46<00:11,  1.59s/it]"
     ]
    },
    {
     "name": "stdout",
     "output_type": "stream",
     "text": [
      "83929 0.7457627118644068\n"
     ]
    },
    {
     "name": "stderr",
     "output_type": "stream",
     "text": [
      " 81%|████████▏ | 26/32 [00:48<00:09,  1.58s/it]"
     ]
    },
    {
     "name": "stdout",
     "output_type": "stream",
     "text": [
      "52566 0.7627118644067796\n"
     ]
    },
    {
     "name": "stderr",
     "output_type": "stream",
     "text": [
      " 84%|████████▍ | 27/32 [00:49<00:07,  1.57s/it]"
     ]
    },
    {
     "name": "stdout",
     "output_type": "stream",
     "text": [
      "82521 0.7570621468926554\n"
     ]
    },
    {
     "name": "stderr",
     "output_type": "stream",
     "text": [
      " 88%|████████▊ | 28/32 [00:51<00:06,  1.57s/it]"
     ]
    },
    {
     "name": "stdout",
     "output_type": "stream",
     "text": [
      "99677 0.7570621468926554\n"
     ]
    },
    {
     "name": "stderr",
     "output_type": "stream",
     "text": [
      " 91%|█████████ | 29/32 [00:52<00:04,  1.56s/it]"
     ]
    },
    {
     "name": "stdout",
     "output_type": "stream",
     "text": [
      "97518 0.7344632768361582\n"
     ]
    },
    {
     "name": "stderr",
     "output_type": "stream",
     "text": [
      " 94%|█████████▍| 30/32 [00:54<00:03,  1.55s/it]"
     ]
    },
    {
     "name": "stdout",
     "output_type": "stream",
     "text": [
      "86858 0.7401129943502824\n"
     ]
    },
    {
     "name": "stderr",
     "output_type": "stream",
     "text": [
      " 97%|█████████▋| 31/32 [00:55<00:01,  1.55s/it]"
     ]
    },
    {
     "name": "stdout",
     "output_type": "stream",
     "text": [
      "84027 0.7627118644067796\n"
     ]
    },
    {
     "name": "stderr",
     "output_type": "stream",
     "text": [
      "100%|██████████| 32/32 [00:57<00:00,  1.79s/it]"
     ]
    },
    {
     "name": "stdout",
     "output_type": "stream",
     "text": [
      "39636 0.7627118644067796\n"
     ]
    },
    {
     "name": "stderr",
     "output_type": "stream",
     "text": [
      "\n"
     ]
    }
   ],
   "source": [
    "verbose = 0\n",
    "val_acc = []\n",
    "test_acc = []\n",
    "rs = 999\n",
    "for i in tqdm(range(32)):\n",
    "    rs = int(np.random.randint(0,99999))\n",
    "    #rs = 39440\n",
    "    #rs = 57865\n",
    "    np.random.seed(rs)\n",
    "    src_list = pd.DataFrame()\n",
    "    #class_to_select = ['CV' , 'LX' , 'PL']\n",
    "    df = data_imp_norm.copy()\n",
    "    i_val = df[info_col]\n",
    "    y_val = df['class']\n",
    "    x_val = df.drop(columns=['class']+info_col)\n",
    "    x_train , x_test ,i_train, i_test ,  y_train , y_test = train_test_split(x_val , i_val ,y_val , test_size=0.3 , stratify=y_val, random_state=42)\n",
    "    #clf = RandomForestClassifier(n_estimators=200 , )\n",
    "    clf = RandomForestClassifier(n_estimators=500  , max_depth= 10 , min_samples_split= 3, min_samples_leaf= 1 , oob_score=True , random_state=42)\n",
    "    #clf = AdaBoostClassifier(base_estimator=clf ,)\n",
    "    oversample = SMOTE(k_neighbors=10 , n_jobs=-1)\n",
    "    x_train , y_train = oversample.fit_resample(x_train , y_train)\n",
    "\n",
    "    clf.fit(x_train , y_train)\n",
    "    v_sc = clf.score(x_test , y_test)\n",
    "    test_sc = clf.score(x_train, y_train)\n",
    "    val_acc.append(v_sc)\n",
    "    test_acc.append(test_sc)\n",
    "    #if(verbose):\n",
    "    print(rs ,  v_sc)"
   ]
  },
  {
   "cell_type": "code",
   "execution_count": 67,
   "metadata": {},
   "outputs": [
    {
     "data": {
      "text/html": [
       "<div>\n",
       "<style scoped>\n",
       "    .dataframe tbody tr th:only-of-type {\n",
       "        vertical-align: middle;\n",
       "    }\n",
       "\n",
       "    .dataframe tbody tr th {\n",
       "        vertical-align: top;\n",
       "    }\n",
       "\n",
       "    .dataframe thead th {\n",
       "        text-align: right;\n",
       "    }\n",
       "</style>\n",
       "<table border=\"1\" class=\"dataframe\">\n",
       "  <thead>\n",
       "    <tr style=\"text-align: right;\">\n",
       "      <th></th>\n",
       "      <th>Test Score</th>\n",
       "      <th>Validation Score</th>\n",
       "    </tr>\n",
       "  </thead>\n",
       "  <tbody>\n",
       "    <tr>\n",
       "      <th>mean</th>\n",
       "      <td>99.407783</td>\n",
       "      <td>74.964689</td>\n",
       "    </tr>\n",
       "    <tr>\n",
       "      <th>std</th>\n",
       "      <td>0.113709</td>\n",
       "      <td>1.574859</td>\n",
       "    </tr>\n",
       "    <tr>\n",
       "      <th>min</th>\n",
       "      <td>99.153976</td>\n",
       "      <td>71.186441</td>\n",
       "    </tr>\n",
       "    <tr>\n",
       "      <th>max</th>\n",
       "      <td>99.492386</td>\n",
       "      <td>77.401130</td>\n",
       "    </tr>\n",
       "  </tbody>\n",
       "</table>\n",
       "</div>"
      ],
      "text/plain": [
       "      Test Score  Validation Score\n",
       "mean   99.407783         74.964689\n",
       "std     0.113709          1.574859\n",
       "min    99.153976         71.186441\n",
       "max    99.492386         77.401130"
      ]
     },
     "execution_count": 67,
     "metadata": {},
     "output_type": "execute_result"
    }
   ],
   "source": [
    "score = pd.DataFrame({\n",
    "    \"Test Score\" : test_acc, \n",
    "    \"Validation Score\" : val_acc\n",
    "})*100\n",
    "score.describe().loc[['mean' , 'std' , 'min', 'max' ]]"
   ]
  },
  {
   "cell_type": "code",
   "execution_count": null,
   "metadata": {},
   "outputs": [],
   "source": []
  }
 ],
 "metadata": {
  "interpreter": {
   "hash": "31f2aee4e71d21fbe5cf8b01ff0e069b9275f58929596ceb00d14d90e3e16cd6"
  },
  "kernelspec": {
   "display_name": "Python 3.6.9 64-bit",
   "name": "python3"
  },
  "language_info": {
   "codemirror_mode": {
    "name": "ipython",
    "version": 3
   },
   "file_extension": ".py",
   "mimetype": "text/x-python",
   "name": "python",
   "nbconvert_exporter": "python",
   "pygments_lexer": "ipython3",
   "version": "3.6.9"
  },
  "orig_nbformat": 4
 },
 "nbformat": 4,
 "nbformat_minor": 2
}
