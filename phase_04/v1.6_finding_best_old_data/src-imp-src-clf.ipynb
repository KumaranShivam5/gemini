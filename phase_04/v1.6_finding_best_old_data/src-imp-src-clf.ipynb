{
 "cells": [
  {
   "cell_type": "code",
   "execution_count": 1,
   "source": [
    "import numpy as np \n",
    "from matplotlib import pyplot as plt \n",
    "import seaborn as sns \n",
    "from tqdm import tqdm \n",
    "from sklearn.model_selection import train_test_split \n",
    "from sklearn.ensemble import RandomForestClassifier  , AdaBoostClassifier , GradientBoostingClassifier\n",
    "from sklearn.metrics import precision_score , recall_score \n",
    "import xgboost as xgb \n",
    "import pandas as pd \n",
    "import sklearn.neighbors._base\n",
    "from os import sys\n",
    "sys.modules['sklearn.neighbors.base'] = sklearn.neighbors._base\n",
    "from missingpy import MissForest \n",
    "from sklearn.metrics import confusion_matrix , ConfusionMatrixDisplay\n",
    "sns.set_style('whitegrid')\n",
    "%load_ext autoreload\n",
    "%autoreload 2\n",
    "sns.set_style('whitegrid')\n",
    "from IPython.display import display"
   ],
   "outputs": [],
   "metadata": {}
  },
  {
   "cell_type": "code",
   "execution_count": 2,
   "source": [
    "def details(data_sent , comments = ''):\n",
    "    if(comments):\n",
    "        print(comments)\n",
    "    sp = (data_sent.isna().sum().sum())/ data_sent.size\n",
    "    print('________________________________________________')\n",
    "    print('Sparsity in the data : {:.2f}'.format(sp))\n",
    "    num_rows = data_sent.shape\n",
    "    print('Data shape' , num_rows)\n",
    "    #display(data_sent['class'].value_counts())\n",
    "    print('Number of sources : ')\n",
    "    cl = data_sent['class'].unique()\n",
    "    for c in cl:\n",
    "        num_src = len(data_sent[data_sent['class']==c]['src_id'].unique())\n",
    "        num_obs = len(data_sent[data_sent['class']==c])\n",
    "        print(c ,' \\t ' , num_src , '\\t' , num_obs)"
   ],
   "outputs": [],
   "metadata": {}
  },
  {
   "cell_type": "code",
   "execution_count": 3,
   "source": [
    "from features import phot_flux , en_flux , hard, powlaw_fit , bb_fit , brems_fit , intra_obs_var , inter_ob_var , info_col , phot_flux_hilim , phot_flux_lolim , en_flux_hilim , en_flux_lolim"
   ],
   "outputs": [],
   "metadata": {}
  },
  {
   "cell_type": "code",
   "execution_count": 4,
   "source": [
    "info_col_cl =  info_col+['class']"
   ],
   "outputs": [],
   "metadata": {}
  },
  {
   "cell_type": "code",
   "execution_count": 5,
   "source": [
    "data_imp_v2 = pd.read_csv('imputed_data/old-data-src-imp-all-imp.csv' , index_col='obs_id')"
   ],
   "outputs": [],
   "metadata": {}
  },
  {
   "cell_type": "code",
   "execution_count": 6,
   "source": [
    "details(data_imp_v2)"
   ],
   "outputs": [
    {
     "output_type": "stream",
     "name": "stdout",
     "text": [
      "________________________________________________\n",
      "Sparsity in the data : 0.00\n",
      "Data shape (1812, 58)\n",
      "Number of sources : \n",
      "CV  \t  60 \t 994\n",
      "LX  \t  58 \t 521\n",
      "PL  \t  92 \t 297\n"
     ]
    }
   ],
   "metadata": {}
  },
  {
   "cell_type": "code",
   "execution_count": 7,
   "source": [
    "\n",
    "df_comb = pd.DataFrame()\n",
    "for s in data_imp_v2['src_id'].unique()[:]:\n",
    "    temp = data_imp_v2[data_imp_v2['src_id']==s]\n",
    "    temp_id =  temp[info_col_cl]\n",
    "    temp_val = temp.drop(columns=info_col_cl)\n",
    "    temp_mean = temp_val.mean().to_frame().T\n",
    "    temp_id_top = temp_id.iloc[0:1].reset_index()\n",
    "    temp_final = pd.concat([temp_id_top , temp_mean] , axis=1).set_index('obs_id')\n",
    "    df_comb = df_comb.append(temp_final)\n",
    "display(df_comb)\n"
   ],
   "outputs": [
    {
     "output_type": "display_data",
     "data": {
      "text/plain": [
       "            src_id  num_obs                    src_n                    name  \\\n",
       "obs_id                                                                         \n",
       "CV_0_obs_0    CV_0       33  [HPH2013]_176__________   2CXO J004245.0+411520   \n",
       "CV_1_obs_0    CV_1      104  [HPH2013]_142__________   2CXO J004242.9+411543   \n",
       "CV_10_obs_0  CV_10       33  [HPH2013]_123__________   2CXO J004241.1+411544   \n",
       "CV_11_obs_0  CV_11       33  [HPH2013]_100__________   2CXO J004237.0+411428   \n",
       "CV_12_obs_0  CV_12       33  [HPH2013]_108__________   2CXO J004239.0+411325   \n",
       "...            ...      ...                      ...                     ...   \n",
       "PL_94_obs_0  PL_94        1           PSR_J1826-1256   2CXO J182608.5-125634   \n",
       "PL_95_obs_0  PL_95        1          PSR_J1231-1411_   2CXO J123111.3-141143   \n",
       "PL_97_obs_0  PL_97        1          PSR_J1135-6055_   2CXO J113508.3-605536   \n",
       "PL_98_obs_0  PL_98        1          PSR_J1124-3653_   2CXO J112401.1-365319   \n",
       "PL_99_obs_0  PL_99        1          PSR_J1111-6039_   2CXO J111148.5-603925   \n",
       "\n",
       "                    ra       dec  livetime  significance   likelihood class  \\\n",
       "obs_id                                                                        \n",
       "CV_0_obs_0    10.68773  41.25582    4903.5         11.31    304.46460    CV   \n",
       "CV_1_obs_0    10.67917  41.26198    4035.0         77.08  27912.78000    CV   \n",
       "CV_10_obs_0   10.67166  41.26248    4903.5         23.44   1609.49500    CV   \n",
       "CV_11_obs_0   10.65458  41.24113    4903.5         37.03   4392.42200    CV   \n",
       "CV_12_obs_0   10.66268  41.22376    4903.5         14.30    928.95920    CV   \n",
       "...                ...       ...       ...           ...          ...   ...   \n",
       "PL_94_obs_0  276.53560 -12.94294   73884.4         12.96    554.72710    PL   \n",
       "PL_95_obs_0  187.79710 -14.19553    9936.3          9.99    634.48130    PL   \n",
       "PL_97_obs_0  173.78490 -60.92683   36113.6          5.60     76.59633    PL   \n",
       "PL_98_obs_0  171.00470 -36.88865   19952.1         10.27    855.81190    PL   \n",
       "PL_99_obs_0  167.95240 -60.65713   49487.3         23.20   1697.14200    PL   \n",
       "\n",
       "             ...  var_prob_b  photflux_aper_s  var_inter_index_h  \\\n",
       "obs_id       ...                                                   \n",
       "CV_0_obs_0   ...    0.487219         6.086708           5.191818   \n",
       "CV_1_obs_0   ...    0.212598         4.817967           6.000000   \n",
       "CV_10_obs_0  ...    0.470838         6.000597           5.258182   \n",
       "CV_11_obs_0  ...    0.488016         6.035474           5.307879   \n",
       "CV_12_obs_0  ...    0.478749         5.987794           5.211250   \n",
       "...          ...         ...              ...                ...   \n",
       "PL_94_obs_0  ...    0.111000         6.576754           5.650000   \n",
       "PL_95_obs_0  ...    0.099000         4.409381           5.310000   \n",
       "PL_97_obs_0  ...    0.120000         6.256412           5.040000   \n",
       "PL_98_obs_0  ...    0.884000         5.160836           5.040000   \n",
       "PL_99_obs_0  ...    0.051000         5.763463           5.930000   \n",
       "\n",
       "             var_inter_index_m  flux_aper_lolim_m  photflux_aper_lolim_m  \\\n",
       "obs_id                                                                     \n",
       "CV_0_obs_0            5.239091          15.576974               7.001916   \n",
       "CV_1_obs_0            5.000000          13.739299               5.048415   \n",
       "CV_10_obs_0           5.257576          15.485675               6.897611   \n",
       "CV_11_obs_0           5.270909          15.559237               6.967713   \n",
       "CV_12_obs_0           5.239062          15.492817               6.881683   \n",
       "...                        ...                ...                    ...   \n",
       "PL_94_obs_0           5.140000          14.659159               6.076497   \n",
       "PL_95_obs_0           5.420000          13.772628               5.184223   \n",
       "PL_97_obs_0           5.320000          14.958607               6.324588   \n",
       "PL_98_obs_0           5.070000          14.091086               5.473402   \n",
       "PL_99_obs_0           5.360000          13.726767               5.138346   \n",
       "\n",
       "             flux_aper_s  photflux_aper_lolim_s  flux_aper_lolim_s  \\\n",
       "obs_id                                                               \n",
       "CV_0_obs_0     14.923809               6.748327          15.448448   \n",
       "CV_1_obs_0     13.651575               5.008563          13.836365   \n",
       "CV_10_obs_0    14.818668               6.649405          15.381830   \n",
       "CV_11_obs_0    14.802322               6.711295          15.410041   \n",
       "CV_12_obs_0    14.787455               6.657263          15.368013   \n",
       "...                  ...                    ...                ...   \n",
       "PL_94_obs_0    15.081687               6.923360          15.683162   \n",
       "PL_95_obs_0    12.960586               4.469160          13.020224   \n",
       "PL_97_obs_0    15.105573               6.471984          15.336959   \n",
       "PL_98_obs_0    13.845576               5.235973          13.920457   \n",
       "PL_99_obs_0    14.574303               5.847406          14.658170   \n",
       "\n",
       "             var_inter_index_s  \n",
       "obs_id                          \n",
       "CV_0_obs_0            4.211515  \n",
       "CV_1_obs_0            5.000000  \n",
       "CV_10_obs_0           4.182727  \n",
       "CV_11_obs_0           4.202727  \n",
       "CV_12_obs_0           4.190000  \n",
       "...                        ...  \n",
       "PL_94_obs_0           5.810000  \n",
       "PL_95_obs_0           4.050000  \n",
       "PL_97_obs_0           4.550000  \n",
       "PL_98_obs_0           4.560000  \n",
       "PL_99_obs_0           3.000000  \n",
       "\n",
       "[210 rows x 58 columns]"
      ],
      "text/html": [
       "<div>\n",
       "<style scoped>\n",
       "    .dataframe tbody tr th:only-of-type {\n",
       "        vertical-align: middle;\n",
       "    }\n",
       "\n",
       "    .dataframe tbody tr th {\n",
       "        vertical-align: top;\n",
       "    }\n",
       "\n",
       "    .dataframe thead th {\n",
       "        text-align: right;\n",
       "    }\n",
       "</style>\n",
       "<table border=\"1\" class=\"dataframe\">\n",
       "  <thead>\n",
       "    <tr style=\"text-align: right;\">\n",
       "      <th></th>\n",
       "      <th>src_id</th>\n",
       "      <th>num_obs</th>\n",
       "      <th>src_n</th>\n",
       "      <th>name</th>\n",
       "      <th>ra</th>\n",
       "      <th>dec</th>\n",
       "      <th>livetime</th>\n",
       "      <th>significance</th>\n",
       "      <th>likelihood</th>\n",
       "      <th>class</th>\n",
       "      <th>...</th>\n",
       "      <th>var_prob_b</th>\n",
       "      <th>photflux_aper_s</th>\n",
       "      <th>var_inter_index_h</th>\n",
       "      <th>var_inter_index_m</th>\n",
       "      <th>flux_aper_lolim_m</th>\n",
       "      <th>photflux_aper_lolim_m</th>\n",
       "      <th>flux_aper_s</th>\n",
       "      <th>photflux_aper_lolim_s</th>\n",
       "      <th>flux_aper_lolim_s</th>\n",
       "      <th>var_inter_index_s</th>\n",
       "    </tr>\n",
       "    <tr>\n",
       "      <th>obs_id</th>\n",
       "      <th></th>\n",
       "      <th></th>\n",
       "      <th></th>\n",
       "      <th></th>\n",
       "      <th></th>\n",
       "      <th></th>\n",
       "      <th></th>\n",
       "      <th></th>\n",
       "      <th></th>\n",
       "      <th></th>\n",
       "      <th></th>\n",
       "      <th></th>\n",
       "      <th></th>\n",
       "      <th></th>\n",
       "      <th></th>\n",
       "      <th></th>\n",
       "      <th></th>\n",
       "      <th></th>\n",
       "      <th></th>\n",
       "      <th></th>\n",
       "      <th></th>\n",
       "    </tr>\n",
       "  </thead>\n",
       "  <tbody>\n",
       "    <tr>\n",
       "      <th>CV_0_obs_0</th>\n",
       "      <td>CV_0</td>\n",
       "      <td>33</td>\n",
       "      <td>[HPH2013]_176__________</td>\n",
       "      <td>2CXO J004245.0+411520</td>\n",
       "      <td>10.68773</td>\n",
       "      <td>41.25582</td>\n",
       "      <td>4903.5</td>\n",
       "      <td>11.31</td>\n",
       "      <td>304.46460</td>\n",
       "      <td>CV</td>\n",
       "      <td>...</td>\n",
       "      <td>0.487219</td>\n",
       "      <td>6.086708</td>\n",
       "      <td>5.191818</td>\n",
       "      <td>5.239091</td>\n",
       "      <td>15.576974</td>\n",
       "      <td>7.001916</td>\n",
       "      <td>14.923809</td>\n",
       "      <td>6.748327</td>\n",
       "      <td>15.448448</td>\n",
       "      <td>4.211515</td>\n",
       "    </tr>\n",
       "    <tr>\n",
       "      <th>CV_1_obs_0</th>\n",
       "      <td>CV_1</td>\n",
       "      <td>104</td>\n",
       "      <td>[HPH2013]_142__________</td>\n",
       "      <td>2CXO J004242.9+411543</td>\n",
       "      <td>10.67917</td>\n",
       "      <td>41.26198</td>\n",
       "      <td>4035.0</td>\n",
       "      <td>77.08</td>\n",
       "      <td>27912.78000</td>\n",
       "      <td>CV</td>\n",
       "      <td>...</td>\n",
       "      <td>0.212598</td>\n",
       "      <td>4.817967</td>\n",
       "      <td>6.000000</td>\n",
       "      <td>5.000000</td>\n",
       "      <td>13.739299</td>\n",
       "      <td>5.048415</td>\n",
       "      <td>13.651575</td>\n",
       "      <td>5.008563</td>\n",
       "      <td>13.836365</td>\n",
       "      <td>5.000000</td>\n",
       "    </tr>\n",
       "    <tr>\n",
       "      <th>CV_10_obs_0</th>\n",
       "      <td>CV_10</td>\n",
       "      <td>33</td>\n",
       "      <td>[HPH2013]_123__________</td>\n",
       "      <td>2CXO J004241.1+411544</td>\n",
       "      <td>10.67166</td>\n",
       "      <td>41.26248</td>\n",
       "      <td>4903.5</td>\n",
       "      <td>23.44</td>\n",
       "      <td>1609.49500</td>\n",
       "      <td>CV</td>\n",
       "      <td>...</td>\n",
       "      <td>0.470838</td>\n",
       "      <td>6.000597</td>\n",
       "      <td>5.258182</td>\n",
       "      <td>5.257576</td>\n",
       "      <td>15.485675</td>\n",
       "      <td>6.897611</td>\n",
       "      <td>14.818668</td>\n",
       "      <td>6.649405</td>\n",
       "      <td>15.381830</td>\n",
       "      <td>4.182727</td>\n",
       "    </tr>\n",
       "    <tr>\n",
       "      <th>CV_11_obs_0</th>\n",
       "      <td>CV_11</td>\n",
       "      <td>33</td>\n",
       "      <td>[HPH2013]_100__________</td>\n",
       "      <td>2CXO J004237.0+411428</td>\n",
       "      <td>10.65458</td>\n",
       "      <td>41.24113</td>\n",
       "      <td>4903.5</td>\n",
       "      <td>37.03</td>\n",
       "      <td>4392.42200</td>\n",
       "      <td>CV</td>\n",
       "      <td>...</td>\n",
       "      <td>0.488016</td>\n",
       "      <td>6.035474</td>\n",
       "      <td>5.307879</td>\n",
       "      <td>5.270909</td>\n",
       "      <td>15.559237</td>\n",
       "      <td>6.967713</td>\n",
       "      <td>14.802322</td>\n",
       "      <td>6.711295</td>\n",
       "      <td>15.410041</td>\n",
       "      <td>4.202727</td>\n",
       "    </tr>\n",
       "    <tr>\n",
       "      <th>CV_12_obs_0</th>\n",
       "      <td>CV_12</td>\n",
       "      <td>33</td>\n",
       "      <td>[HPH2013]_108__________</td>\n",
       "      <td>2CXO J004239.0+411325</td>\n",
       "      <td>10.66268</td>\n",
       "      <td>41.22376</td>\n",
       "      <td>4903.5</td>\n",
       "      <td>14.30</td>\n",
       "      <td>928.95920</td>\n",
       "      <td>CV</td>\n",
       "      <td>...</td>\n",
       "      <td>0.478749</td>\n",
       "      <td>5.987794</td>\n",
       "      <td>5.211250</td>\n",
       "      <td>5.239062</td>\n",
       "      <td>15.492817</td>\n",
       "      <td>6.881683</td>\n",
       "      <td>14.787455</td>\n",
       "      <td>6.657263</td>\n",
       "      <td>15.368013</td>\n",
       "      <td>4.190000</td>\n",
       "    </tr>\n",
       "    <tr>\n",
       "      <th>...</th>\n",
       "      <td>...</td>\n",
       "      <td>...</td>\n",
       "      <td>...</td>\n",
       "      <td>...</td>\n",
       "      <td>...</td>\n",
       "      <td>...</td>\n",
       "      <td>...</td>\n",
       "      <td>...</td>\n",
       "      <td>...</td>\n",
       "      <td>...</td>\n",
       "      <td>...</td>\n",
       "      <td>...</td>\n",
       "      <td>...</td>\n",
       "      <td>...</td>\n",
       "      <td>...</td>\n",
       "      <td>...</td>\n",
       "      <td>...</td>\n",
       "      <td>...</td>\n",
       "      <td>...</td>\n",
       "      <td>...</td>\n",
       "      <td>...</td>\n",
       "    </tr>\n",
       "    <tr>\n",
       "      <th>PL_94_obs_0</th>\n",
       "      <td>PL_94</td>\n",
       "      <td>1</td>\n",
       "      <td>PSR_J1826-1256</td>\n",
       "      <td>2CXO J182608.5-125634</td>\n",
       "      <td>276.53560</td>\n",
       "      <td>-12.94294</td>\n",
       "      <td>73884.4</td>\n",
       "      <td>12.96</td>\n",
       "      <td>554.72710</td>\n",
       "      <td>PL</td>\n",
       "      <td>...</td>\n",
       "      <td>0.111000</td>\n",
       "      <td>6.576754</td>\n",
       "      <td>5.650000</td>\n",
       "      <td>5.140000</td>\n",
       "      <td>14.659159</td>\n",
       "      <td>6.076497</td>\n",
       "      <td>15.081687</td>\n",
       "      <td>6.923360</td>\n",
       "      <td>15.683162</td>\n",
       "      <td>5.810000</td>\n",
       "    </tr>\n",
       "    <tr>\n",
       "      <th>PL_95_obs_0</th>\n",
       "      <td>PL_95</td>\n",
       "      <td>1</td>\n",
       "      <td>PSR_J1231-1411_</td>\n",
       "      <td>2CXO J123111.3-141143</td>\n",
       "      <td>187.79710</td>\n",
       "      <td>-14.19553</td>\n",
       "      <td>9936.3</td>\n",
       "      <td>9.99</td>\n",
       "      <td>634.48130</td>\n",
       "      <td>PL</td>\n",
       "      <td>...</td>\n",
       "      <td>0.099000</td>\n",
       "      <td>4.409381</td>\n",
       "      <td>5.310000</td>\n",
       "      <td>5.420000</td>\n",
       "      <td>13.772628</td>\n",
       "      <td>5.184223</td>\n",
       "      <td>12.960586</td>\n",
       "      <td>4.469160</td>\n",
       "      <td>13.020224</td>\n",
       "      <td>4.050000</td>\n",
       "    </tr>\n",
       "    <tr>\n",
       "      <th>PL_97_obs_0</th>\n",
       "      <td>PL_97</td>\n",
       "      <td>1</td>\n",
       "      <td>PSR_J1135-6055_</td>\n",
       "      <td>2CXO J113508.3-605536</td>\n",
       "      <td>173.78490</td>\n",
       "      <td>-60.92683</td>\n",
       "      <td>36113.6</td>\n",
       "      <td>5.60</td>\n",
       "      <td>76.59633</td>\n",
       "      <td>PL</td>\n",
       "      <td>...</td>\n",
       "      <td>0.120000</td>\n",
       "      <td>6.256412</td>\n",
       "      <td>5.040000</td>\n",
       "      <td>5.320000</td>\n",
       "      <td>14.958607</td>\n",
       "      <td>6.324588</td>\n",
       "      <td>15.105573</td>\n",
       "      <td>6.471984</td>\n",
       "      <td>15.336959</td>\n",
       "      <td>4.550000</td>\n",
       "    </tr>\n",
       "    <tr>\n",
       "      <th>PL_98_obs_0</th>\n",
       "      <td>PL_98</td>\n",
       "      <td>1</td>\n",
       "      <td>PSR_J1124-3653_</td>\n",
       "      <td>2CXO J112401.1-365319</td>\n",
       "      <td>171.00470</td>\n",
       "      <td>-36.88865</td>\n",
       "      <td>19952.1</td>\n",
       "      <td>10.27</td>\n",
       "      <td>855.81190</td>\n",
       "      <td>PL</td>\n",
       "      <td>...</td>\n",
       "      <td>0.884000</td>\n",
       "      <td>5.160836</td>\n",
       "      <td>5.040000</td>\n",
       "      <td>5.070000</td>\n",
       "      <td>14.091086</td>\n",
       "      <td>5.473402</td>\n",
       "      <td>13.845576</td>\n",
       "      <td>5.235973</td>\n",
       "      <td>13.920457</td>\n",
       "      <td>4.560000</td>\n",
       "    </tr>\n",
       "    <tr>\n",
       "      <th>PL_99_obs_0</th>\n",
       "      <td>PL_99</td>\n",
       "      <td>1</td>\n",
       "      <td>PSR_J1111-6039_</td>\n",
       "      <td>2CXO J111148.5-603925</td>\n",
       "      <td>167.95240</td>\n",
       "      <td>-60.65713</td>\n",
       "      <td>49487.3</td>\n",
       "      <td>23.20</td>\n",
       "      <td>1697.14200</td>\n",
       "      <td>PL</td>\n",
       "      <td>...</td>\n",
       "      <td>0.051000</td>\n",
       "      <td>5.763463</td>\n",
       "      <td>5.930000</td>\n",
       "      <td>5.360000</td>\n",
       "      <td>13.726767</td>\n",
       "      <td>5.138346</td>\n",
       "      <td>14.574303</td>\n",
       "      <td>5.847406</td>\n",
       "      <td>14.658170</td>\n",
       "      <td>3.000000</td>\n",
       "    </tr>\n",
       "  </tbody>\n",
       "</table>\n",
       "<p>210 rows × 58 columns</p>\n",
       "</div>"
      ]
     },
     "metadata": {}
    }
   ],
   "metadata": {}
  },
  {
   "cell_type": "code",
   "execution_count": 8,
   "source": [
    "data_id = df_comb[info_col]\n",
    "data_label = df_comb['class']\n",
    "data_val = df_comb.drop(columns=['class']+info_col)\n",
    "data_imp_norm = df_comb.copy()\n",
    "for c in data_val.columns.to_list():\n",
    "    data_imp_norm.loc[:,c] = (data_imp_norm.loc[:,c] - data_imp_norm.loc[:,c].mean()) / data_imp_norm.loc[:,c].std()\n",
    "data_imp_norm"
   ],
   "outputs": [
    {
     "output_type": "execute_result",
     "data": {
      "text/plain": [
       "            src_id  num_obs                    src_n                    name  \\\n",
       "obs_id                                                                         \n",
       "CV_0_obs_0    CV_0       33  [HPH2013]_176__________   2CXO J004245.0+411520   \n",
       "CV_1_obs_0    CV_1      104  [HPH2013]_142__________   2CXO J004242.9+411543   \n",
       "CV_10_obs_0  CV_10       33  [HPH2013]_123__________   2CXO J004241.1+411544   \n",
       "CV_11_obs_0  CV_11       33  [HPH2013]_100__________   2CXO J004237.0+411428   \n",
       "CV_12_obs_0  CV_12       33  [HPH2013]_108__________   2CXO J004239.0+411325   \n",
       "...            ...      ...                      ...                     ...   \n",
       "PL_94_obs_0  PL_94        1           PSR_J1826-1256   2CXO J182608.5-125634   \n",
       "PL_95_obs_0  PL_95        1          PSR_J1231-1411_   2CXO J123111.3-141143   \n",
       "PL_97_obs_0  PL_97        1          PSR_J1135-6055_   2CXO J113508.3-605536   \n",
       "PL_98_obs_0  PL_98        1          PSR_J1124-3653_   2CXO J112401.1-365319   \n",
       "PL_99_obs_0  PL_99        1          PSR_J1111-6039_   2CXO J111148.5-603925   \n",
       "\n",
       "                    ra       dec  livetime  significance   likelihood class  \\\n",
       "obs_id                                                                        \n",
       "CV_0_obs_0    10.68773  41.25582    4903.5         11.31    304.46460    CV   \n",
       "CV_1_obs_0    10.67917  41.26198    4035.0         77.08  27912.78000    CV   \n",
       "CV_10_obs_0   10.67166  41.26248    4903.5         23.44   1609.49500    CV   \n",
       "CV_11_obs_0   10.65458  41.24113    4903.5         37.03   4392.42200    CV   \n",
       "CV_12_obs_0   10.66268  41.22376    4903.5         14.30    928.95920    CV   \n",
       "...                ...       ...       ...           ...          ...   ...   \n",
       "PL_94_obs_0  276.53560 -12.94294   73884.4         12.96    554.72710    PL   \n",
       "PL_95_obs_0  187.79710 -14.19553    9936.3          9.99    634.48130    PL   \n",
       "PL_97_obs_0  173.78490 -60.92683   36113.6          5.60     76.59633    PL   \n",
       "PL_98_obs_0  171.00470 -36.88865   19952.1         10.27    855.81190    PL   \n",
       "PL_99_obs_0  167.95240 -60.65713   49487.3         23.20   1697.14200    PL   \n",
       "\n",
       "             ...  var_prob_b  photflux_aper_s  var_inter_index_h  \\\n",
       "obs_id       ...                                                   \n",
       "CV_0_obs_0   ...    0.528366         0.675600          -0.318146   \n",
       "CV_1_obs_0   ...   -0.607686        -1.039642           0.170627   \n",
       "CV_10_obs_0  ...    0.460604         0.559184          -0.278010   \n",
       "CV_11_obs_0  ...    0.531663         0.606336          -0.247954   \n",
       "CV_12_obs_0  ...    0.493328         0.541876          -0.306394   \n",
       "...          ...         ...              ...                ...   \n",
       "PL_94_obs_0  ...   -1.027977         1.338105          -0.041046   \n",
       "PL_95_obs_0  ...   -1.077619        -1.592019          -0.246672   \n",
       "PL_97_obs_0  ...   -0.990746         0.905027          -0.409962   \n",
       "PL_98_obs_0  ...    2.169774        -0.576109          -0.409962   \n",
       "PL_99_obs_0  ...   -1.276185         0.238597           0.128292   \n",
       "\n",
       "             var_inter_index_m  flux_aper_lolim_m  photflux_aper_lolim_m  \\\n",
       "obs_id                                                                     \n",
       "CV_0_obs_0           -0.166969           1.309244               1.341564   \n",
       "CV_1_obs_0           -0.314715          -0.960304              -1.042594   \n",
       "CV_10_obs_0          -0.155546           1.196489               1.214265   \n",
       "CV_11_obs_0          -0.147307           1.287339               1.299821   \n",
       "CV_12_obs_0          -0.166986           1.205310               1.194825   \n",
       "...                        ...                ...                    ...   \n",
       "PL_94_obs_0          -0.228202           0.175734               0.212133   \n",
       "PL_95_obs_0          -0.055176          -0.919143              -0.876846   \n",
       "PL_97_obs_0          -0.116971           0.545555               0.514917   \n",
       "PL_98_obs_0          -0.271458          -0.525843              -0.523916   \n",
       "PL_99_obs_0          -0.092253          -0.975781              -0.932837   \n",
       "\n",
       "             flux_aper_s  photflux_aper_lolim_s  flux_aper_lolim_s  \\\n",
       "obs_id                                                               \n",
       "CV_0_obs_0      0.738669               0.989158           0.914600   \n",
       "CV_1_obs_0     -0.944054              -0.920098          -0.850090   \n",
       "CV_10_obs_0     0.599605               0.880598           0.841676   \n",
       "CV_11_obs_0     0.577984               0.948517           0.872557   \n",
       "CV_12_obs_0     0.558321               0.889221           0.826551   \n",
       "...                  ...                    ...                ...   \n",
       "PL_94_obs_0     0.947488               1.181242           1.171534   \n",
       "PL_95_obs_0    -1.857993              -1.512051          -1.743490   \n",
       "PL_97_obs_0     0.979080               0.685892           0.792557   \n",
       "PL_98_obs_0    -0.687458              -0.670533          -0.758037   \n",
       "PL_99_obs_0     0.276394               0.000467           0.049511   \n",
       "\n",
       "             var_inter_index_s  \n",
       "obs_id                          \n",
       "CV_0_obs_0           -0.473415  \n",
       "CV_1_obs_0           -0.023046  \n",
       "CV_10_obs_0          -0.489859  \n",
       "CV_11_obs_0          -0.478435  \n",
       "CV_12_obs_0          -0.485704  \n",
       "...                        ...  \n",
       "PL_94_obs_0           0.439613  \n",
       "PL_95_obs_0          -0.565670  \n",
       "PL_97_obs_0          -0.280078  \n",
       "PL_98_obs_0          -0.274367  \n",
       "PL_99_obs_0          -1.165413  \n",
       "\n",
       "[210 rows x 58 columns]"
      ],
      "text/html": [
       "<div>\n",
       "<style scoped>\n",
       "    .dataframe tbody tr th:only-of-type {\n",
       "        vertical-align: middle;\n",
       "    }\n",
       "\n",
       "    .dataframe tbody tr th {\n",
       "        vertical-align: top;\n",
       "    }\n",
       "\n",
       "    .dataframe thead th {\n",
       "        text-align: right;\n",
       "    }\n",
       "</style>\n",
       "<table border=\"1\" class=\"dataframe\">\n",
       "  <thead>\n",
       "    <tr style=\"text-align: right;\">\n",
       "      <th></th>\n",
       "      <th>src_id</th>\n",
       "      <th>num_obs</th>\n",
       "      <th>src_n</th>\n",
       "      <th>name</th>\n",
       "      <th>ra</th>\n",
       "      <th>dec</th>\n",
       "      <th>livetime</th>\n",
       "      <th>significance</th>\n",
       "      <th>likelihood</th>\n",
       "      <th>class</th>\n",
       "      <th>...</th>\n",
       "      <th>var_prob_b</th>\n",
       "      <th>photflux_aper_s</th>\n",
       "      <th>var_inter_index_h</th>\n",
       "      <th>var_inter_index_m</th>\n",
       "      <th>flux_aper_lolim_m</th>\n",
       "      <th>photflux_aper_lolim_m</th>\n",
       "      <th>flux_aper_s</th>\n",
       "      <th>photflux_aper_lolim_s</th>\n",
       "      <th>flux_aper_lolim_s</th>\n",
       "      <th>var_inter_index_s</th>\n",
       "    </tr>\n",
       "    <tr>\n",
       "      <th>obs_id</th>\n",
       "      <th></th>\n",
       "      <th></th>\n",
       "      <th></th>\n",
       "      <th></th>\n",
       "      <th></th>\n",
       "      <th></th>\n",
       "      <th></th>\n",
       "      <th></th>\n",
       "      <th></th>\n",
       "      <th></th>\n",
       "      <th></th>\n",
       "      <th></th>\n",
       "      <th></th>\n",
       "      <th></th>\n",
       "      <th></th>\n",
       "      <th></th>\n",
       "      <th></th>\n",
       "      <th></th>\n",
       "      <th></th>\n",
       "      <th></th>\n",
       "      <th></th>\n",
       "    </tr>\n",
       "  </thead>\n",
       "  <tbody>\n",
       "    <tr>\n",
       "      <th>CV_0_obs_0</th>\n",
       "      <td>CV_0</td>\n",
       "      <td>33</td>\n",
       "      <td>[HPH2013]_176__________</td>\n",
       "      <td>2CXO J004245.0+411520</td>\n",
       "      <td>10.68773</td>\n",
       "      <td>41.25582</td>\n",
       "      <td>4903.5</td>\n",
       "      <td>11.31</td>\n",
       "      <td>304.46460</td>\n",
       "      <td>CV</td>\n",
       "      <td>...</td>\n",
       "      <td>0.528366</td>\n",
       "      <td>0.675600</td>\n",
       "      <td>-0.318146</td>\n",
       "      <td>-0.166969</td>\n",
       "      <td>1.309244</td>\n",
       "      <td>1.341564</td>\n",
       "      <td>0.738669</td>\n",
       "      <td>0.989158</td>\n",
       "      <td>0.914600</td>\n",
       "      <td>-0.473415</td>\n",
       "    </tr>\n",
       "    <tr>\n",
       "      <th>CV_1_obs_0</th>\n",
       "      <td>CV_1</td>\n",
       "      <td>104</td>\n",
       "      <td>[HPH2013]_142__________</td>\n",
       "      <td>2CXO J004242.9+411543</td>\n",
       "      <td>10.67917</td>\n",
       "      <td>41.26198</td>\n",
       "      <td>4035.0</td>\n",
       "      <td>77.08</td>\n",
       "      <td>27912.78000</td>\n",
       "      <td>CV</td>\n",
       "      <td>...</td>\n",
       "      <td>-0.607686</td>\n",
       "      <td>-1.039642</td>\n",
       "      <td>0.170627</td>\n",
       "      <td>-0.314715</td>\n",
       "      <td>-0.960304</td>\n",
       "      <td>-1.042594</td>\n",
       "      <td>-0.944054</td>\n",
       "      <td>-0.920098</td>\n",
       "      <td>-0.850090</td>\n",
       "      <td>-0.023046</td>\n",
       "    </tr>\n",
       "    <tr>\n",
       "      <th>CV_10_obs_0</th>\n",
       "      <td>CV_10</td>\n",
       "      <td>33</td>\n",
       "      <td>[HPH2013]_123__________</td>\n",
       "      <td>2CXO J004241.1+411544</td>\n",
       "      <td>10.67166</td>\n",
       "      <td>41.26248</td>\n",
       "      <td>4903.5</td>\n",
       "      <td>23.44</td>\n",
       "      <td>1609.49500</td>\n",
       "      <td>CV</td>\n",
       "      <td>...</td>\n",
       "      <td>0.460604</td>\n",
       "      <td>0.559184</td>\n",
       "      <td>-0.278010</td>\n",
       "      <td>-0.155546</td>\n",
       "      <td>1.196489</td>\n",
       "      <td>1.214265</td>\n",
       "      <td>0.599605</td>\n",
       "      <td>0.880598</td>\n",
       "      <td>0.841676</td>\n",
       "      <td>-0.489859</td>\n",
       "    </tr>\n",
       "    <tr>\n",
       "      <th>CV_11_obs_0</th>\n",
       "      <td>CV_11</td>\n",
       "      <td>33</td>\n",
       "      <td>[HPH2013]_100__________</td>\n",
       "      <td>2CXO J004237.0+411428</td>\n",
       "      <td>10.65458</td>\n",
       "      <td>41.24113</td>\n",
       "      <td>4903.5</td>\n",
       "      <td>37.03</td>\n",
       "      <td>4392.42200</td>\n",
       "      <td>CV</td>\n",
       "      <td>...</td>\n",
       "      <td>0.531663</td>\n",
       "      <td>0.606336</td>\n",
       "      <td>-0.247954</td>\n",
       "      <td>-0.147307</td>\n",
       "      <td>1.287339</td>\n",
       "      <td>1.299821</td>\n",
       "      <td>0.577984</td>\n",
       "      <td>0.948517</td>\n",
       "      <td>0.872557</td>\n",
       "      <td>-0.478435</td>\n",
       "    </tr>\n",
       "    <tr>\n",
       "      <th>CV_12_obs_0</th>\n",
       "      <td>CV_12</td>\n",
       "      <td>33</td>\n",
       "      <td>[HPH2013]_108__________</td>\n",
       "      <td>2CXO J004239.0+411325</td>\n",
       "      <td>10.66268</td>\n",
       "      <td>41.22376</td>\n",
       "      <td>4903.5</td>\n",
       "      <td>14.30</td>\n",
       "      <td>928.95920</td>\n",
       "      <td>CV</td>\n",
       "      <td>...</td>\n",
       "      <td>0.493328</td>\n",
       "      <td>0.541876</td>\n",
       "      <td>-0.306394</td>\n",
       "      <td>-0.166986</td>\n",
       "      <td>1.205310</td>\n",
       "      <td>1.194825</td>\n",
       "      <td>0.558321</td>\n",
       "      <td>0.889221</td>\n",
       "      <td>0.826551</td>\n",
       "      <td>-0.485704</td>\n",
       "    </tr>\n",
       "    <tr>\n",
       "      <th>...</th>\n",
       "      <td>...</td>\n",
       "      <td>...</td>\n",
       "      <td>...</td>\n",
       "      <td>...</td>\n",
       "      <td>...</td>\n",
       "      <td>...</td>\n",
       "      <td>...</td>\n",
       "      <td>...</td>\n",
       "      <td>...</td>\n",
       "      <td>...</td>\n",
       "      <td>...</td>\n",
       "      <td>...</td>\n",
       "      <td>...</td>\n",
       "      <td>...</td>\n",
       "      <td>...</td>\n",
       "      <td>...</td>\n",
       "      <td>...</td>\n",
       "      <td>...</td>\n",
       "      <td>...</td>\n",
       "      <td>...</td>\n",
       "      <td>...</td>\n",
       "    </tr>\n",
       "    <tr>\n",
       "      <th>PL_94_obs_0</th>\n",
       "      <td>PL_94</td>\n",
       "      <td>1</td>\n",
       "      <td>PSR_J1826-1256</td>\n",
       "      <td>2CXO J182608.5-125634</td>\n",
       "      <td>276.53560</td>\n",
       "      <td>-12.94294</td>\n",
       "      <td>73884.4</td>\n",
       "      <td>12.96</td>\n",
       "      <td>554.72710</td>\n",
       "      <td>PL</td>\n",
       "      <td>...</td>\n",
       "      <td>-1.027977</td>\n",
       "      <td>1.338105</td>\n",
       "      <td>-0.041046</td>\n",
       "      <td>-0.228202</td>\n",
       "      <td>0.175734</td>\n",
       "      <td>0.212133</td>\n",
       "      <td>0.947488</td>\n",
       "      <td>1.181242</td>\n",
       "      <td>1.171534</td>\n",
       "      <td>0.439613</td>\n",
       "    </tr>\n",
       "    <tr>\n",
       "      <th>PL_95_obs_0</th>\n",
       "      <td>PL_95</td>\n",
       "      <td>1</td>\n",
       "      <td>PSR_J1231-1411_</td>\n",
       "      <td>2CXO J123111.3-141143</td>\n",
       "      <td>187.79710</td>\n",
       "      <td>-14.19553</td>\n",
       "      <td>9936.3</td>\n",
       "      <td>9.99</td>\n",
       "      <td>634.48130</td>\n",
       "      <td>PL</td>\n",
       "      <td>...</td>\n",
       "      <td>-1.077619</td>\n",
       "      <td>-1.592019</td>\n",
       "      <td>-0.246672</td>\n",
       "      <td>-0.055176</td>\n",
       "      <td>-0.919143</td>\n",
       "      <td>-0.876846</td>\n",
       "      <td>-1.857993</td>\n",
       "      <td>-1.512051</td>\n",
       "      <td>-1.743490</td>\n",
       "      <td>-0.565670</td>\n",
       "    </tr>\n",
       "    <tr>\n",
       "      <th>PL_97_obs_0</th>\n",
       "      <td>PL_97</td>\n",
       "      <td>1</td>\n",
       "      <td>PSR_J1135-6055_</td>\n",
       "      <td>2CXO J113508.3-605536</td>\n",
       "      <td>173.78490</td>\n",
       "      <td>-60.92683</td>\n",
       "      <td>36113.6</td>\n",
       "      <td>5.60</td>\n",
       "      <td>76.59633</td>\n",
       "      <td>PL</td>\n",
       "      <td>...</td>\n",
       "      <td>-0.990746</td>\n",
       "      <td>0.905027</td>\n",
       "      <td>-0.409962</td>\n",
       "      <td>-0.116971</td>\n",
       "      <td>0.545555</td>\n",
       "      <td>0.514917</td>\n",
       "      <td>0.979080</td>\n",
       "      <td>0.685892</td>\n",
       "      <td>0.792557</td>\n",
       "      <td>-0.280078</td>\n",
       "    </tr>\n",
       "    <tr>\n",
       "      <th>PL_98_obs_0</th>\n",
       "      <td>PL_98</td>\n",
       "      <td>1</td>\n",
       "      <td>PSR_J1124-3653_</td>\n",
       "      <td>2CXO J112401.1-365319</td>\n",
       "      <td>171.00470</td>\n",
       "      <td>-36.88865</td>\n",
       "      <td>19952.1</td>\n",
       "      <td>10.27</td>\n",
       "      <td>855.81190</td>\n",
       "      <td>PL</td>\n",
       "      <td>...</td>\n",
       "      <td>2.169774</td>\n",
       "      <td>-0.576109</td>\n",
       "      <td>-0.409962</td>\n",
       "      <td>-0.271458</td>\n",
       "      <td>-0.525843</td>\n",
       "      <td>-0.523916</td>\n",
       "      <td>-0.687458</td>\n",
       "      <td>-0.670533</td>\n",
       "      <td>-0.758037</td>\n",
       "      <td>-0.274367</td>\n",
       "    </tr>\n",
       "    <tr>\n",
       "      <th>PL_99_obs_0</th>\n",
       "      <td>PL_99</td>\n",
       "      <td>1</td>\n",
       "      <td>PSR_J1111-6039_</td>\n",
       "      <td>2CXO J111148.5-603925</td>\n",
       "      <td>167.95240</td>\n",
       "      <td>-60.65713</td>\n",
       "      <td>49487.3</td>\n",
       "      <td>23.20</td>\n",
       "      <td>1697.14200</td>\n",
       "      <td>PL</td>\n",
       "      <td>...</td>\n",
       "      <td>-1.276185</td>\n",
       "      <td>0.238597</td>\n",
       "      <td>0.128292</td>\n",
       "      <td>-0.092253</td>\n",
       "      <td>-0.975781</td>\n",
       "      <td>-0.932837</td>\n",
       "      <td>0.276394</td>\n",
       "      <td>0.000467</td>\n",
       "      <td>0.049511</td>\n",
       "      <td>-1.165413</td>\n",
       "    </tr>\n",
       "  </tbody>\n",
       "</table>\n",
       "<p>210 rows × 58 columns</p>\n",
       "</div>"
      ]
     },
     "metadata": {},
     "execution_count": 8
    }
   ],
   "metadata": {}
  },
  {
   "cell_type": "code",
   "execution_count": 9,
   "source": [
    "details(data_imp_norm)"
   ],
   "outputs": [
    {
     "output_type": "stream",
     "name": "stdout",
     "text": [
      "________________________________________________\n",
      "Sparsity in the data : 0.00\n",
      "Data shape (210, 58)\n",
      "Number of sources : \n",
      "CV  \t  60 \t 60\n",
      "LX  \t  58 \t 58\n",
      "PL  \t  92 \t 92\n"
     ]
    }
   ],
   "metadata": {}
  },
  {
   "cell_type": "code",
   "execution_count": 10,
   "source": [
    "verbose = 0\n",
    "val_acc = []\n",
    "test_acc = []\n",
    "for i in tqdm(range(32)):\n",
    "    src_list = pd.DataFrame()\n",
    "    class_to_select = ['CV' , 'LX' , 'PL']\n",
    "    df = data_imp_norm.copy()\n",
    "    i_val = df[info_col]\n",
    "    y_val = df['class']\n",
    "    x_val = df.drop(columns=['class']+info_col)\n",
    "\n",
    "    clf = RandomForestClassifier(\n",
    "        n_estimators = 200 , n_jobs=-1\n",
    "    )\n",
    "    #clf = AdaBoostClassifier(base_estimator=clf ,)\n",
    "    #clf = xgb.XGBRFClassifier(n_componets=200)\n",
    "    #clf = xgb.XGBClassifier()\n",
    "    x_train , x_test , y_train , y_test = train_test_split(x_val , y_val , test_size=0.2 , stratify=y_val, random_state=42)\n",
    "    #x_train , y_train = train_value , train_label\n",
    "    clf.fit(x_train , y_train)\n",
    "    v_sc = clf.score(x_test , y_test)\n",
    "    test_sc = clf.score(x_train, y_train)\n",
    "    val_acc.append(v_sc)\n",
    "    test_acc.append(test_sc)\n",
    "    #if(verbose):\n",
    "    print(test_sc , v_sc)"
   ],
   "outputs": [
    {
     "output_type": "stream",
     "name": "stderr",
     "text": [
      "  3%|▎         | 1/32 [00:00<00:29,  1.05it/s]"
     ]
    },
    {
     "output_type": "stream",
     "name": "stdout",
     "text": [
      "0.9523809523809523 0.6428571428571429\n"
     ]
    },
    {
     "output_type": "stream",
     "name": "stderr",
     "text": [
      "  6%|▋         | 2/32 [00:02<00:31,  1.03s/it]"
     ]
    },
    {
     "output_type": "stream",
     "name": "stdout",
     "text": [
      "0.9523809523809523 0.6428571428571429\n"
     ]
    },
    {
     "output_type": "stream",
     "name": "stderr",
     "text": [
      "  9%|▉         | 3/32 [00:02<00:26,  1.09it/s]"
     ]
    },
    {
     "output_type": "stream",
     "name": "stdout",
     "text": [
      "0.9523809523809523 0.6190476190476191\n"
     ]
    },
    {
     "output_type": "stream",
     "name": "stderr",
     "text": [
      " 12%|█▎        | 4/32 [00:03<00:24,  1.16it/s]"
     ]
    },
    {
     "output_type": "stream",
     "name": "stdout",
     "text": [
      "0.9523809523809523 0.6428571428571429\n"
     ]
    },
    {
     "output_type": "stream",
     "name": "stderr",
     "text": [
      " 16%|█▌        | 5/32 [00:04<00:21,  1.28it/s]"
     ]
    },
    {
     "output_type": "stream",
     "name": "stdout",
     "text": [
      "0.9523809523809523 0.6190476190476191\n"
     ]
    },
    {
     "output_type": "stream",
     "name": "stderr",
     "text": [
      " 19%|█▉        | 6/32 [00:04<00:19,  1.30it/s]"
     ]
    },
    {
     "output_type": "stream",
     "name": "stdout",
     "text": [
      "0.9523809523809523 0.6428571428571429\n"
     ]
    },
    {
     "output_type": "stream",
     "name": "stderr",
     "text": [
      " 22%|██▏       | 7/32 [00:05<00:19,  1.31it/s]"
     ]
    },
    {
     "output_type": "stream",
     "name": "stdout",
     "text": [
      "0.9523809523809523 0.6428571428571429\n"
     ]
    },
    {
     "output_type": "stream",
     "name": "stderr",
     "text": [
      " 25%|██▌       | 8/32 [00:06<00:19,  1.21it/s]"
     ]
    },
    {
     "output_type": "stream",
     "name": "stdout",
     "text": [
      "0.9523809523809523 0.6428571428571429\n"
     ]
    },
    {
     "output_type": "stream",
     "name": "stderr",
     "text": [
      " 28%|██▊       | 9/32 [00:07<00:20,  1.14it/s]"
     ]
    },
    {
     "output_type": "stream",
     "name": "stdout",
     "text": [
      "0.9523809523809523 0.6190476190476191\n"
     ]
    },
    {
     "output_type": "stream",
     "name": "stderr",
     "text": [
      " 31%|███▏      | 10/32 [00:08<00:18,  1.19it/s]"
     ]
    },
    {
     "output_type": "stream",
     "name": "stdout",
     "text": [
      "0.9523809523809523 0.6190476190476191\n"
     ]
    },
    {
     "output_type": "stream",
     "name": "stderr",
     "text": [
      " 34%|███▍      | 11/32 [00:09<00:16,  1.25it/s]"
     ]
    },
    {
     "output_type": "stream",
     "name": "stdout",
     "text": [
      "0.9523809523809523 0.6190476190476191\n"
     ]
    },
    {
     "output_type": "stream",
     "name": "stderr",
     "text": [
      " 38%|███▊      | 12/32 [00:09<00:15,  1.27it/s]"
     ]
    },
    {
     "output_type": "stream",
     "name": "stdout",
     "text": [
      "0.9523809523809523 0.5714285714285714\n"
     ]
    },
    {
     "output_type": "stream",
     "name": "stderr",
     "text": [
      " 41%|████      | 13/32 [00:10<00:14,  1.35it/s]"
     ]
    },
    {
     "output_type": "stream",
     "name": "stdout",
     "text": [
      "0.9523809523809523 0.6428571428571429\n"
     ]
    },
    {
     "output_type": "stream",
     "name": "stderr",
     "text": [
      " 44%|████▍     | 14/32 [00:11<00:13,  1.31it/s]"
     ]
    },
    {
     "output_type": "stream",
     "name": "stdout",
     "text": [
      "0.9523809523809523 0.6428571428571429\n"
     ]
    },
    {
     "output_type": "stream",
     "name": "stderr",
     "text": [
      " 47%|████▋     | 15/32 [00:12<00:14,  1.20it/s]"
     ]
    },
    {
     "output_type": "stream",
     "name": "stdout",
     "text": [
      "0.9523809523809523 0.6428571428571429\n"
     ]
    },
    {
     "output_type": "stream",
     "name": "stderr",
     "text": [
      " 50%|█████     | 16/32 [00:13<00:12,  1.23it/s]"
     ]
    },
    {
     "output_type": "stream",
     "name": "stdout",
     "text": [
      "0.9523809523809523 0.5952380952380952\n"
     ]
    },
    {
     "output_type": "stream",
     "name": "stderr",
     "text": [
      " 53%|█████▎    | 17/32 [00:13<00:11,  1.27it/s]"
     ]
    },
    {
     "output_type": "stream",
     "name": "stdout",
     "text": [
      "0.9523809523809523 0.6190476190476191\n"
     ]
    },
    {
     "output_type": "stream",
     "name": "stderr",
     "text": [
      " 56%|█████▋    | 18/32 [00:14<00:11,  1.19it/s]"
     ]
    },
    {
     "output_type": "stream",
     "name": "stdout",
     "text": [
      "0.9523809523809523 0.6666666666666666\n"
     ]
    },
    {
     "output_type": "stream",
     "name": "stderr",
     "text": [
      " 59%|█████▉    | 19/32 [00:15<00:10,  1.23it/s]"
     ]
    },
    {
     "output_type": "stream",
     "name": "stdout",
     "text": [
      "0.9523809523809523 0.6428571428571429\n"
     ]
    },
    {
     "output_type": "stream",
     "name": "stderr",
     "text": [
      " 62%|██████▎   | 20/32 [00:16<00:09,  1.22it/s]"
     ]
    },
    {
     "output_type": "stream",
     "name": "stdout",
     "text": [
      "0.9523809523809523 0.5952380952380952\n"
     ]
    },
    {
     "output_type": "stream",
     "name": "stderr",
     "text": [
      " 66%|██████▌   | 21/32 [00:17<00:08,  1.25it/s]"
     ]
    },
    {
     "output_type": "stream",
     "name": "stdout",
     "text": [
      "0.9523809523809523 0.5952380952380952\n"
     ]
    },
    {
     "output_type": "stream",
     "name": "stderr",
     "text": [
      " 69%|██████▉   | 22/32 [00:17<00:07,  1.27it/s]"
     ]
    },
    {
     "output_type": "stream",
     "name": "stdout",
     "text": [
      "0.9523809523809523 0.6428571428571429\n"
     ]
    },
    {
     "output_type": "stream",
     "name": "stderr",
     "text": [
      " 72%|███████▏  | 23/32 [00:18<00:07,  1.25it/s]"
     ]
    },
    {
     "output_type": "stream",
     "name": "stdout",
     "text": [
      "0.9523809523809523 0.5952380952380952\n"
     ]
    },
    {
     "output_type": "stream",
     "name": "stderr",
     "text": [
      " 75%|███████▌  | 24/32 [00:19<00:06,  1.22it/s]"
     ]
    },
    {
     "output_type": "stream",
     "name": "stdout",
     "text": [
      "0.9523809523809523 0.6190476190476191\n"
     ]
    },
    {
     "output_type": "stream",
     "name": "stderr",
     "text": [
      " 78%|███████▊  | 25/32 [00:20<00:06,  1.16it/s]"
     ]
    },
    {
     "output_type": "stream",
     "name": "stdout",
     "text": [
      "0.9523809523809523 0.5952380952380952\n"
     ]
    },
    {
     "output_type": "stream",
     "name": "stderr",
     "text": [
      " 81%|████████▏ | 26/32 [00:21<00:04,  1.26it/s]"
     ]
    },
    {
     "output_type": "stream",
     "name": "stdout",
     "text": [
      "0.9523809523809523 0.6666666666666666\n"
     ]
    },
    {
     "output_type": "stream",
     "name": "stderr",
     "text": [
      " 84%|████████▍ | 27/32 [00:22<00:04,  1.23it/s]"
     ]
    },
    {
     "output_type": "stream",
     "name": "stdout",
     "text": [
      "0.9523809523809523 0.5714285714285714\n"
     ]
    },
    {
     "output_type": "stream",
     "name": "stderr",
     "text": [
      " 88%|████████▊ | 28/32 [00:22<00:03,  1.22it/s]"
     ]
    },
    {
     "output_type": "stream",
     "name": "stdout",
     "text": [
      "0.9523809523809523 0.6190476190476191\n"
     ]
    },
    {
     "output_type": "stream",
     "name": "stderr",
     "text": [
      " 91%|█████████ | 29/32 [00:23<00:02,  1.20it/s]"
     ]
    },
    {
     "output_type": "stream",
     "name": "stdout",
     "text": [
      "0.9523809523809523 0.6190476190476191\n"
     ]
    },
    {
     "output_type": "stream",
     "name": "stderr",
     "text": [
      " 94%|█████████▍| 30/32 [00:24<00:01,  1.15it/s]"
     ]
    },
    {
     "output_type": "stream",
     "name": "stdout",
     "text": [
      "0.9523809523809523 0.5952380952380952\n"
     ]
    },
    {
     "output_type": "stream",
     "name": "stderr",
     "text": [
      " 97%|█████████▋| 31/32 [00:25<00:00,  1.15it/s]"
     ]
    },
    {
     "output_type": "stream",
     "name": "stdout",
     "text": [
      "0.9523809523809523 0.5952380952380952\n"
     ]
    },
    {
     "output_type": "stream",
     "name": "stderr",
     "text": [
      "100%|██████████| 32/32 [00:26<00:00,  1.21it/s]"
     ]
    },
    {
     "output_type": "stream",
     "name": "stdout",
     "text": [
      "0.9523809523809523 0.6190476190476191\n"
     ]
    },
    {
     "output_type": "stream",
     "name": "stderr",
     "text": [
      "\n"
     ]
    }
   ],
   "metadata": {}
  },
  {
   "cell_type": "code",
   "execution_count": 11,
   "source": [
    "score = pd.DataFrame({\n",
    "    \"Test Score\" : test_acc, \n",
    "    \"Validation Score\" : val_acc\n",
    "})*100\n",
    "score.describe().loc[['mean' , 'std' , 'min', 'max' ]]"
   ],
   "outputs": [
    {
     "output_type": "execute_result",
     "data": {
      "text/plain": [
       "      Test Score  Validation Score\n",
       "mean   95.238095         62.202381\n",
       "std     0.000000          2.475097\n",
       "min    95.238095         57.142857\n",
       "max    95.238095         66.666667"
      ],
      "text/html": [
       "<div>\n",
       "<style scoped>\n",
       "    .dataframe tbody tr th:only-of-type {\n",
       "        vertical-align: middle;\n",
       "    }\n",
       "\n",
       "    .dataframe tbody tr th {\n",
       "        vertical-align: top;\n",
       "    }\n",
       "\n",
       "    .dataframe thead th {\n",
       "        text-align: right;\n",
       "    }\n",
       "</style>\n",
       "<table border=\"1\" class=\"dataframe\">\n",
       "  <thead>\n",
       "    <tr style=\"text-align: right;\">\n",
       "      <th></th>\n",
       "      <th>Test Score</th>\n",
       "      <th>Validation Score</th>\n",
       "    </tr>\n",
       "  </thead>\n",
       "  <tbody>\n",
       "    <tr>\n",
       "      <th>mean</th>\n",
       "      <td>95.238095</td>\n",
       "      <td>62.202381</td>\n",
       "    </tr>\n",
       "    <tr>\n",
       "      <th>std</th>\n",
       "      <td>0.000000</td>\n",
       "      <td>2.475097</td>\n",
       "    </tr>\n",
       "    <tr>\n",
       "      <th>min</th>\n",
       "      <td>95.238095</td>\n",
       "      <td>57.142857</td>\n",
       "    </tr>\n",
       "    <tr>\n",
       "      <th>max</th>\n",
       "      <td>95.238095</td>\n",
       "      <td>66.666667</td>\n",
       "    </tr>\n",
       "  </tbody>\n",
       "</table>\n",
       "</div>"
      ]
     },
     "metadata": {},
     "execution_count": 11
    }
   ],
   "metadata": {}
  },
  {
   "cell_type": "code",
   "execution_count": null,
   "source": [],
   "outputs": [],
   "metadata": {}
  }
 ],
 "metadata": {
  "orig_nbformat": 4,
  "language_info": {
   "name": "python",
   "version": "3.6.9",
   "mimetype": "text/x-python",
   "codemirror_mode": {
    "name": "ipython",
    "version": 3
   },
   "pygments_lexer": "ipython3",
   "nbconvert_exporter": "python",
   "file_extension": ".py"
  },
  "kernelspec": {
   "name": "python3",
   "display_name": "Python 3.6.9 64-bit"
  },
  "interpreter": {
   "hash": "31f2aee4e71d21fbe5cf8b01ff0e069b9275f58929596ceb00d14d90e3e16cd6"
  }
 },
 "nbformat": 4,
 "nbformat_minor": 2
}