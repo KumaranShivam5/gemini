{
 "cells": [
  {
   "cell_type": "code",
   "execution_count": 1,
   "source": [
    "import numpy as np \n",
    "from matplotlib import pyplot as plt \n",
    "import seaborn as sns \n",
    "from tqdm import tqdm \n",
    "from sklearn.model_selection import train_test_split \n",
    "from sklearn.ensemble import RandomForestClassifier  , AdaBoostClassifier , GradientBoostingClassifier\n",
    "from sklearn.metrics import precision_score , recall_score \n",
    "import xgboost as xgb \n",
    "import pandas as pd \n",
    "import sklearn.neighbors._base\n",
    "from os import sys\n",
    "sys.modules['sklearn.neighbors.base'] = sklearn.neighbors._base\n",
    "from missingpy import MissForest \n",
    "from sklearn.metrics import confusion_matrix , ConfusionMatrixDisplay\n",
    "sns.set_style('whitegrid')\n",
    "%load_ext autoreload\n",
    "%autoreload 2\n",
    "sns.set_style('whitegrid')\n",
    "from IPython.display import display"
   ],
   "outputs": [],
   "metadata": {}
  },
  {
   "cell_type": "code",
   "execution_count": 2,
   "source": [
    "def details(data_sent , comments = ''):\n",
    "    if(comments):\n",
    "        print(comments)\n",
    "    sp = (data_sent.isna().sum().sum())/ data_sent.size\n",
    "    print('________________________________________________')\n",
    "    print('Sparsity in the data : {:.2f}'.format(sp))\n",
    "    num_rows = data_sent.shape\n",
    "    print('Data shape' , num_rows)\n",
    "    #display(data_sent['class'].value_counts())\n",
    "    print('Number of sources : ')\n",
    "    cl = data_sent['class'].unique()\n",
    "    for c in cl:\n",
    "        num_src = len(data_sent[data_sent['class']==c]['src_id'].unique())\n",
    "        num_obs = len(data_sent[data_sent['class']==c])\n",
    "        print(c ,' \\t ' , num_src , '\\t' , num_obs)"
   ],
   "outputs": [],
   "metadata": {}
  },
  {
   "cell_type": "code",
   "execution_count": 3,
   "source": [
    "from features import phot_flux , en_flux , hard, powlaw_fit , bb_fit , brems_fit , intra_obs_var , inter_ob_var , info_col , phot_flux_hilim , phot_flux_lolim , en_flux_hilim , en_flux_lolim"
   ],
   "outputs": [],
   "metadata": {}
  },
  {
   "cell_type": "code",
   "execution_count": 4,
   "source": [
    "info_col_cl =  info_col+['class']"
   ],
   "outputs": [],
   "metadata": {}
  },
  {
   "cell_type": "code",
   "execution_count": 5,
   "source": [
    "data_imp_v2 = pd.read_csv('imputed_data/old-data-all-at-once-imp.csv' , index_col='obs_id')"
   ],
   "outputs": [],
   "metadata": {}
  },
  {
   "cell_type": "code",
   "execution_count": 6,
   "source": [
    "details(data_imp_v2)"
   ],
   "outputs": [
    {
     "output_type": "stream",
     "name": "stdout",
     "text": [
      "________________________________________________\n",
      "Sparsity in the data : 0.00\n",
      "Data shape (1812, 58)\n",
      "Number of sources : \n",
      "CV  \t  60 \t 994\n",
      "PL  \t  92 \t 297\n",
      "LX  \t  58 \t 521\n"
     ]
    }
   ],
   "metadata": {}
  },
  {
   "cell_type": "code",
   "execution_count": 7,
   "source": [
    "\n",
    "df_comb = pd.DataFrame()\n",
    "for s in data_imp_v2['src_id'].unique()[:]:\n",
    "    temp = data_imp_v2[data_imp_v2['src_id']==s]\n",
    "    temp_id =  temp[info_col_cl]\n",
    "    temp_val = temp.drop(columns=info_col_cl)\n",
    "    temp_mean = temp_val.mean().to_frame().T\n",
    "    temp_id_top = temp_id.iloc[0:1].reset_index()\n",
    "    temp_final = pd.concat([temp_id_top , temp_mean] , axis=1).set_index('obs_id')\n",
    "    df_comb = df_comb.append(temp_final)\n",
    "display(df_comb)\n"
   ],
   "outputs": [
    {
     "output_type": "display_data",
     "data": {
      "text/plain": [
       "                src_id  num_obs                    src_n  \\\n",
       "obs_id                                                     \n",
       "CV_0_obs_0        CV_0       33  [HPH2013]_176__________   \n",
       "CV_1_obs_0        CV_1      104  [HPH2013]_142__________   \n",
       "CV_2_obs_0        CV_2      102  [HPH2013]_169__________   \n",
       "CV_3_obs_0        CV_3      102  XMMSL2_J004231.9+411621   \n",
       "CV_4_obs_0        CV_4       97  [HPH2013]_205__________   \n",
       "...                ...      ...                      ...   \n",
       "LMXB_86_obs_0  LMXB_86        1    SAX_J1810.8-2609_____   \n",
       "LMXB_90_obs_0  LMXB_90        1    XTE_J2123-058________   \n",
       "LMXB_91_obs_0  LMXB_91        1    XB_1732-304__________   \n",
       "LMXB_92_obs_0  LMXB_92        1    BW_ANT_______________   \n",
       "LMXB_94_obs_0  LMXB_94        1    J1748-3607___________   \n",
       "\n",
       "                                 name         ra        dec  livetime  \\\n",
       "obs_id                                                                  \n",
       "CV_0_obs_0      2CXO J004245.0+411520   10.68773  41.255820    4903.5   \n",
       "CV_1_obs_0      2CXO J004242.9+411543   10.67917  41.261980    4035.0   \n",
       "CV_2_obs_0      2CXO J004244.3+411607   10.68489  41.268730    4035.0   \n",
       "CV_3_obs_0      2CXO J004231.1+411621   10.62976  41.272670    4913.0   \n",
       "CV_4_obs_0      2CXO J004248.7+411624   10.70297  41.273450    4881.4   \n",
       "...                               ...        ...        ...       ...   \n",
       "LMXB_86_obs_0   2CXO J181044.4-260901  272.68530 -26.150370   31871.5   \n",
       "LMXB_90_obs_0   2CXO J212314.5-054753  320.81060  -5.798128   17705.1   \n",
       "LMXB_91_obs_0   2CXO J173547.0-302858  263.94590 -30.482820   18855.8   \n",
       "LMXB_92_obs_0   2CXO J092920.1-312303  142.33410 -31.384270   24445.9   \n",
       "LMXB_94_obs_0   2CXO J174813.1-360758  267.05470 -36.132810   15794.5   \n",
       "\n",
       "               significance    likelihood class  ...  var_prob_b  \\\n",
       "obs_id                                           ...               \n",
       "CV_0_obs_0            11.31     304.46460    CV  ...    0.519053   \n",
       "CV_1_obs_0            77.08   27912.78000    CV  ...    0.212598   \n",
       "CV_2_obs_0            83.08   37399.46000    CV  ...    0.307392   \n",
       "CV_3_obs_0           174.76  172643.30000    CV  ...    0.096272   \n",
       "CV_4_obs_0            33.19    3870.74300    CV  ...    0.449750   \n",
       "...                     ...           ...   ...  ...         ...   \n",
       "LMXB_86_obs_0          9.29     512.97550    LX  ...    0.084000   \n",
       "LMXB_90_obs_0          4.06     132.76700    LX  ...    0.807000   \n",
       "LMXB_91_obs_0          4.89     114.24570    LX  ...    0.451000   \n",
       "LMXB_92_obs_0          3.70      75.53454    LX  ...    0.607000   \n",
       "LMXB_94_obs_0          3.09      50.50810    LX  ...    0.380000   \n",
       "\n",
       "               photflux_aper_s  var_inter_index_h  var_inter_index_m  \\\n",
       "obs_id                                                                 \n",
       "CV_0_obs_0            6.171487           5.201515           5.256667   \n",
       "CV_1_obs_0            4.820819           6.000000           5.000000   \n",
       "CV_2_obs_0            4.854613           8.000000           8.000000   \n",
       "CV_3_obs_0            4.195978           7.000000           5.000000   \n",
       "CV_4_obs_0            5.484190           6.000000           6.000000   \n",
       "...                        ...                ...                ...   \n",
       "LMXB_86_obs_0         5.338755           5.010000           5.050000   \n",
       "LMXB_90_obs_0         5.737786           5.000000           5.100000   \n",
       "LMXB_91_obs_0         6.466864           3.000000           5.000000   \n",
       "LMXB_92_obs_0         6.135904           5.000000           5.130000   \n",
       "LMXB_94_obs_0         5.922996           5.160000           5.120000   \n",
       "\n",
       "               flux_aper_lolim_m  photflux_aper_lolim_m  flux_aper_s  \\\n",
       "obs_id                                                                 \n",
       "CV_0_obs_0             14.979031               6.309536    14.976276   \n",
       "CV_1_obs_0             13.739299               5.048415    13.652316   \n",
       "CV_2_obs_0             14.149360               5.523214    13.530381   \n",
       "CV_3_obs_0             12.952036               4.309032    12.978640   \n",
       "CV_4_obs_0             14.697235               6.026592    14.305337   \n",
       "...                          ...                    ...          ...   \n",
       "LMXB_86_obs_0          14.444543               5.786217    14.189364   \n",
       "LMXB_90_obs_0          15.478078               6.884057    14.499626   \n",
       "LMXB_91_obs_0          14.373147               5.747875    15.291664   \n",
       "LMXB_92_obs_0          15.357437               6.734946    14.902049   \n",
       "LMXB_94_obs_0          15.286762               6.661344    14.767258   \n",
       "\n",
       "               photflux_aper_lolim_s  flux_aper_lolim_s  var_inter_index_s  \n",
       "obs_id                                                                      \n",
       "CV_0_obs_0                  6.707052          15.440544           4.211515  \n",
       "CV_1_obs_0                  5.010062          13.844925           5.000000  \n",
       "CV_2_obs_0                  5.077632          13.751917           8.000000  \n",
       "CV_3_obs_0                  4.264402          13.047099           4.000000  \n",
       "CV_4_obs_0                  6.029315          14.866403           6.000000  \n",
       "...                              ...                ...                ...  \n",
       "LMXB_86_obs_0               5.405497          14.260507           4.450000  \n",
       "LMXB_90_obs_0               5.889410          14.651500           4.460000  \n",
       "LMXB_91_obs_0               7.068949          15.893809           3.000000  \n",
       "LMXB_92_obs_0               6.357733          15.133535           4.440000  \n",
       "LMXB_94_obs_0               6.127087          14.971429           4.480000  \n",
       "\n",
       "[210 rows x 58 columns]"
      ],
      "text/html": [
       "<div>\n",
       "<style scoped>\n",
       "    .dataframe tbody tr th:only-of-type {\n",
       "        vertical-align: middle;\n",
       "    }\n",
       "\n",
       "    .dataframe tbody tr th {\n",
       "        vertical-align: top;\n",
       "    }\n",
       "\n",
       "    .dataframe thead th {\n",
       "        text-align: right;\n",
       "    }\n",
       "</style>\n",
       "<table border=\"1\" class=\"dataframe\">\n",
       "  <thead>\n",
       "    <tr style=\"text-align: right;\">\n",
       "      <th></th>\n",
       "      <th>src_id</th>\n",
       "      <th>num_obs</th>\n",
       "      <th>src_n</th>\n",
       "      <th>name</th>\n",
       "      <th>ra</th>\n",
       "      <th>dec</th>\n",
       "      <th>livetime</th>\n",
       "      <th>significance</th>\n",
       "      <th>likelihood</th>\n",
       "      <th>class</th>\n",
       "      <th>...</th>\n",
       "      <th>var_prob_b</th>\n",
       "      <th>photflux_aper_s</th>\n",
       "      <th>var_inter_index_h</th>\n",
       "      <th>var_inter_index_m</th>\n",
       "      <th>flux_aper_lolim_m</th>\n",
       "      <th>photflux_aper_lolim_m</th>\n",
       "      <th>flux_aper_s</th>\n",
       "      <th>photflux_aper_lolim_s</th>\n",
       "      <th>flux_aper_lolim_s</th>\n",
       "      <th>var_inter_index_s</th>\n",
       "    </tr>\n",
       "    <tr>\n",
       "      <th>obs_id</th>\n",
       "      <th></th>\n",
       "      <th></th>\n",
       "      <th></th>\n",
       "      <th></th>\n",
       "      <th></th>\n",
       "      <th></th>\n",
       "      <th></th>\n",
       "      <th></th>\n",
       "      <th></th>\n",
       "      <th></th>\n",
       "      <th></th>\n",
       "      <th></th>\n",
       "      <th></th>\n",
       "      <th></th>\n",
       "      <th></th>\n",
       "      <th></th>\n",
       "      <th></th>\n",
       "      <th></th>\n",
       "      <th></th>\n",
       "      <th></th>\n",
       "      <th></th>\n",
       "    </tr>\n",
       "  </thead>\n",
       "  <tbody>\n",
       "    <tr>\n",
       "      <th>CV_0_obs_0</th>\n",
       "      <td>CV_0</td>\n",
       "      <td>33</td>\n",
       "      <td>[HPH2013]_176__________</td>\n",
       "      <td>2CXO J004245.0+411520</td>\n",
       "      <td>10.68773</td>\n",
       "      <td>41.255820</td>\n",
       "      <td>4903.5</td>\n",
       "      <td>11.31</td>\n",
       "      <td>304.46460</td>\n",
       "      <td>CV</td>\n",
       "      <td>...</td>\n",
       "      <td>0.519053</td>\n",
       "      <td>6.171487</td>\n",
       "      <td>5.201515</td>\n",
       "      <td>5.256667</td>\n",
       "      <td>14.979031</td>\n",
       "      <td>6.309536</td>\n",
       "      <td>14.976276</td>\n",
       "      <td>6.707052</td>\n",
       "      <td>15.440544</td>\n",
       "      <td>4.211515</td>\n",
       "    </tr>\n",
       "    <tr>\n",
       "      <th>CV_1_obs_0</th>\n",
       "      <td>CV_1</td>\n",
       "      <td>104</td>\n",
       "      <td>[HPH2013]_142__________</td>\n",
       "      <td>2CXO J004242.9+411543</td>\n",
       "      <td>10.67917</td>\n",
       "      <td>41.261980</td>\n",
       "      <td>4035.0</td>\n",
       "      <td>77.08</td>\n",
       "      <td>27912.78000</td>\n",
       "      <td>CV</td>\n",
       "      <td>...</td>\n",
       "      <td>0.212598</td>\n",
       "      <td>4.820819</td>\n",
       "      <td>6.000000</td>\n",
       "      <td>5.000000</td>\n",
       "      <td>13.739299</td>\n",
       "      <td>5.048415</td>\n",
       "      <td>13.652316</td>\n",
       "      <td>5.010062</td>\n",
       "      <td>13.844925</td>\n",
       "      <td>5.000000</td>\n",
       "    </tr>\n",
       "    <tr>\n",
       "      <th>CV_2_obs_0</th>\n",
       "      <td>CV_2</td>\n",
       "      <td>102</td>\n",
       "      <td>[HPH2013]_169__________</td>\n",
       "      <td>2CXO J004244.3+411607</td>\n",
       "      <td>10.68489</td>\n",
       "      <td>41.268730</td>\n",
       "      <td>4035.0</td>\n",
       "      <td>83.08</td>\n",
       "      <td>37399.46000</td>\n",
       "      <td>CV</td>\n",
       "      <td>...</td>\n",
       "      <td>0.307392</td>\n",
       "      <td>4.854613</td>\n",
       "      <td>8.000000</td>\n",
       "      <td>8.000000</td>\n",
       "      <td>14.149360</td>\n",
       "      <td>5.523214</td>\n",
       "      <td>13.530381</td>\n",
       "      <td>5.077632</td>\n",
       "      <td>13.751917</td>\n",
       "      <td>8.000000</td>\n",
       "    </tr>\n",
       "    <tr>\n",
       "      <th>CV_3_obs_0</th>\n",
       "      <td>CV_3</td>\n",
       "      <td>102</td>\n",
       "      <td>XMMSL2_J004231.9+411621</td>\n",
       "      <td>2CXO J004231.1+411621</td>\n",
       "      <td>10.62976</td>\n",
       "      <td>41.272670</td>\n",
       "      <td>4913.0</td>\n",
       "      <td>174.76</td>\n",
       "      <td>172643.30000</td>\n",
       "      <td>CV</td>\n",
       "      <td>...</td>\n",
       "      <td>0.096272</td>\n",
       "      <td>4.195978</td>\n",
       "      <td>7.000000</td>\n",
       "      <td>5.000000</td>\n",
       "      <td>12.952036</td>\n",
       "      <td>4.309032</td>\n",
       "      <td>12.978640</td>\n",
       "      <td>4.264402</td>\n",
       "      <td>13.047099</td>\n",
       "      <td>4.000000</td>\n",
       "    </tr>\n",
       "    <tr>\n",
       "      <th>CV_4_obs_0</th>\n",
       "      <td>CV_4</td>\n",
       "      <td>97</td>\n",
       "      <td>[HPH2013]_205__________</td>\n",
       "      <td>2CXO J004248.7+411624</td>\n",
       "      <td>10.70297</td>\n",
       "      <td>41.273450</td>\n",
       "      <td>4881.4</td>\n",
       "      <td>33.19</td>\n",
       "      <td>3870.74300</td>\n",
       "      <td>CV</td>\n",
       "      <td>...</td>\n",
       "      <td>0.449750</td>\n",
       "      <td>5.484190</td>\n",
       "      <td>6.000000</td>\n",
       "      <td>6.000000</td>\n",
       "      <td>14.697235</td>\n",
       "      <td>6.026592</td>\n",
       "      <td>14.305337</td>\n",
       "      <td>6.029315</td>\n",
       "      <td>14.866403</td>\n",
       "      <td>6.000000</td>\n",
       "    </tr>\n",
       "    <tr>\n",
       "      <th>...</th>\n",
       "      <td>...</td>\n",
       "      <td>...</td>\n",
       "      <td>...</td>\n",
       "      <td>...</td>\n",
       "      <td>...</td>\n",
       "      <td>...</td>\n",
       "      <td>...</td>\n",
       "      <td>...</td>\n",
       "      <td>...</td>\n",
       "      <td>...</td>\n",
       "      <td>...</td>\n",
       "      <td>...</td>\n",
       "      <td>...</td>\n",
       "      <td>...</td>\n",
       "      <td>...</td>\n",
       "      <td>...</td>\n",
       "      <td>...</td>\n",
       "      <td>...</td>\n",
       "      <td>...</td>\n",
       "      <td>...</td>\n",
       "      <td>...</td>\n",
       "    </tr>\n",
       "    <tr>\n",
       "      <th>LMXB_86_obs_0</th>\n",
       "      <td>LMXB_86</td>\n",
       "      <td>1</td>\n",
       "      <td>SAX_J1810.8-2609_____</td>\n",
       "      <td>2CXO J181044.4-260901</td>\n",
       "      <td>272.68530</td>\n",
       "      <td>-26.150370</td>\n",
       "      <td>31871.5</td>\n",
       "      <td>9.29</td>\n",
       "      <td>512.97550</td>\n",
       "      <td>LX</td>\n",
       "      <td>...</td>\n",
       "      <td>0.084000</td>\n",
       "      <td>5.338755</td>\n",
       "      <td>5.010000</td>\n",
       "      <td>5.050000</td>\n",
       "      <td>14.444543</td>\n",
       "      <td>5.786217</td>\n",
       "      <td>14.189364</td>\n",
       "      <td>5.405497</td>\n",
       "      <td>14.260507</td>\n",
       "      <td>4.450000</td>\n",
       "    </tr>\n",
       "    <tr>\n",
       "      <th>LMXB_90_obs_0</th>\n",
       "      <td>LMXB_90</td>\n",
       "      <td>1</td>\n",
       "      <td>XTE_J2123-058________</td>\n",
       "      <td>2CXO J212314.5-054753</td>\n",
       "      <td>320.81060</td>\n",
       "      <td>-5.798128</td>\n",
       "      <td>17705.1</td>\n",
       "      <td>4.06</td>\n",
       "      <td>132.76700</td>\n",
       "      <td>LX</td>\n",
       "      <td>...</td>\n",
       "      <td>0.807000</td>\n",
       "      <td>5.737786</td>\n",
       "      <td>5.000000</td>\n",
       "      <td>5.100000</td>\n",
       "      <td>15.478078</td>\n",
       "      <td>6.884057</td>\n",
       "      <td>14.499626</td>\n",
       "      <td>5.889410</td>\n",
       "      <td>14.651500</td>\n",
       "      <td>4.460000</td>\n",
       "    </tr>\n",
       "    <tr>\n",
       "      <th>LMXB_91_obs_0</th>\n",
       "      <td>LMXB_91</td>\n",
       "      <td>1</td>\n",
       "      <td>XB_1732-304__________</td>\n",
       "      <td>2CXO J173547.0-302858</td>\n",
       "      <td>263.94590</td>\n",
       "      <td>-30.482820</td>\n",
       "      <td>18855.8</td>\n",
       "      <td>4.89</td>\n",
       "      <td>114.24570</td>\n",
       "      <td>LX</td>\n",
       "      <td>...</td>\n",
       "      <td>0.451000</td>\n",
       "      <td>6.466864</td>\n",
       "      <td>3.000000</td>\n",
       "      <td>5.000000</td>\n",
       "      <td>14.373147</td>\n",
       "      <td>5.747875</td>\n",
       "      <td>15.291664</td>\n",
       "      <td>7.068949</td>\n",
       "      <td>15.893809</td>\n",
       "      <td>3.000000</td>\n",
       "    </tr>\n",
       "    <tr>\n",
       "      <th>LMXB_92_obs_0</th>\n",
       "      <td>LMXB_92</td>\n",
       "      <td>1</td>\n",
       "      <td>BW_ANT_______________</td>\n",
       "      <td>2CXO J092920.1-312303</td>\n",
       "      <td>142.33410</td>\n",
       "      <td>-31.384270</td>\n",
       "      <td>24445.9</td>\n",
       "      <td>3.70</td>\n",
       "      <td>75.53454</td>\n",
       "      <td>LX</td>\n",
       "      <td>...</td>\n",
       "      <td>0.607000</td>\n",
       "      <td>6.135904</td>\n",
       "      <td>5.000000</td>\n",
       "      <td>5.130000</td>\n",
       "      <td>15.357437</td>\n",
       "      <td>6.734946</td>\n",
       "      <td>14.902049</td>\n",
       "      <td>6.357733</td>\n",
       "      <td>15.133535</td>\n",
       "      <td>4.440000</td>\n",
       "    </tr>\n",
       "    <tr>\n",
       "      <th>LMXB_94_obs_0</th>\n",
       "      <td>LMXB_94</td>\n",
       "      <td>1</td>\n",
       "      <td>J1748-3607___________</td>\n",
       "      <td>2CXO J174813.1-360758</td>\n",
       "      <td>267.05470</td>\n",
       "      <td>-36.132810</td>\n",
       "      <td>15794.5</td>\n",
       "      <td>3.09</td>\n",
       "      <td>50.50810</td>\n",
       "      <td>LX</td>\n",
       "      <td>...</td>\n",
       "      <td>0.380000</td>\n",
       "      <td>5.922996</td>\n",
       "      <td>5.160000</td>\n",
       "      <td>5.120000</td>\n",
       "      <td>15.286762</td>\n",
       "      <td>6.661344</td>\n",
       "      <td>14.767258</td>\n",
       "      <td>6.127087</td>\n",
       "      <td>14.971429</td>\n",
       "      <td>4.480000</td>\n",
       "    </tr>\n",
       "  </tbody>\n",
       "</table>\n",
       "<p>210 rows × 58 columns</p>\n",
       "</div>"
      ]
     },
     "metadata": {}
    }
   ],
   "metadata": {}
  },
  {
   "cell_type": "code",
   "execution_count": 8,
   "source": [
    "data_id = df_comb[info_col]\n",
    "data_label = df_comb['class']\n",
    "data_val = df_comb.drop(columns=['class']+info_col)\n",
    "data_imp_norm = df_comb.copy()\n",
    "for c in data_val.columns.to_list():\n",
    "    data_imp_norm.loc[:,c] = (data_imp_norm.loc[:,c] - data_imp_norm.loc[:,c].mean()) / data_imp_norm.loc[:,c].std()\n",
    "data_imp_norm"
   ],
   "outputs": [
    {
     "output_type": "execute_result",
     "data": {
      "text/plain": [
       "                src_id  num_obs                    src_n  \\\n",
       "obs_id                                                     \n",
       "CV_0_obs_0        CV_0       33  [HPH2013]_176__________   \n",
       "CV_1_obs_0        CV_1      104  [HPH2013]_142__________   \n",
       "CV_2_obs_0        CV_2      102  [HPH2013]_169__________   \n",
       "CV_3_obs_0        CV_3      102  XMMSL2_J004231.9+411621   \n",
       "CV_4_obs_0        CV_4       97  [HPH2013]_205__________   \n",
       "...                ...      ...                      ...   \n",
       "LMXB_86_obs_0  LMXB_86        1    SAX_J1810.8-2609_____   \n",
       "LMXB_90_obs_0  LMXB_90        1    XTE_J2123-058________   \n",
       "LMXB_91_obs_0  LMXB_91        1    XB_1732-304__________   \n",
       "LMXB_92_obs_0  LMXB_92        1    BW_ANT_______________   \n",
       "LMXB_94_obs_0  LMXB_94        1    J1748-3607___________   \n",
       "\n",
       "                                 name         ra        dec  livetime  \\\n",
       "obs_id                                                                  \n",
       "CV_0_obs_0      2CXO J004245.0+411520   10.68773  41.255820    4903.5   \n",
       "CV_1_obs_0      2CXO J004242.9+411543   10.67917  41.261980    4035.0   \n",
       "CV_2_obs_0      2CXO J004244.3+411607   10.68489  41.268730    4035.0   \n",
       "CV_3_obs_0      2CXO J004231.1+411621   10.62976  41.272670    4913.0   \n",
       "CV_4_obs_0      2CXO J004248.7+411624   10.70297  41.273450    4881.4   \n",
       "...                               ...        ...        ...       ...   \n",
       "LMXB_86_obs_0   2CXO J181044.4-260901  272.68530 -26.150370   31871.5   \n",
       "LMXB_90_obs_0   2CXO J212314.5-054753  320.81060  -5.798128   17705.1   \n",
       "LMXB_91_obs_0   2CXO J173547.0-302858  263.94590 -30.482820   18855.8   \n",
       "LMXB_92_obs_0   2CXO J092920.1-312303  142.33410 -31.384270   24445.9   \n",
       "LMXB_94_obs_0   2CXO J174813.1-360758  267.05470 -36.132810   15794.5   \n",
       "\n",
       "               significance    likelihood class  ...  var_prob_b  \\\n",
       "obs_id                                           ...               \n",
       "CV_0_obs_0            11.31     304.46460    CV  ...    0.701065   \n",
       "CV_1_obs_0            77.08   27912.78000    CV  ...   -0.589881   \n",
       "CV_2_obs_0            83.08   37399.46000    CV  ...   -0.190559   \n",
       "CV_3_obs_0           174.76  172643.30000    CV  ...   -1.079908   \n",
       "CV_4_obs_0            33.19    3870.74300    CV  ...    0.409124   \n",
       "...                     ...           ...   ...  ...         ...   \n",
       "LMXB_86_obs_0          9.29     512.97550    LX  ...   -1.131602   \n",
       "LMXB_90_obs_0          4.06     132.76700    LX  ...    1.914046   \n",
       "LMXB_91_obs_0          4.89     114.24570    LX  ...    0.414391   \n",
       "LMXB_92_obs_0          3.70      75.53454    LX  ...    1.071543   \n",
       "LMXB_94_obs_0          3.09      50.50810    LX  ...    0.115302   \n",
       "\n",
       "               photflux_aper_s  var_inter_index_h  var_inter_index_m  \\\n",
       "obs_id                                                                 \n",
       "CV_0_obs_0            0.730713          -0.320265          -0.153136   \n",
       "CV_1_obs_0           -1.027547           0.162591          -0.311327   \n",
       "CV_2_obs_0           -0.983555           1.372020           1.537661   \n",
       "CV_3_obs_0           -1.840947           0.767305          -0.311327   \n",
       "CV_4_obs_0           -0.163991           0.162591           0.305002   \n",
       "...                        ...                ...                ...   \n",
       "LMXB_86_obs_0        -0.353313          -0.436077          -0.280511   \n",
       "LMXB_90_obs_0         0.166134          -0.442124          -0.249694   \n",
       "LMXB_91_obs_0         1.115226          -1.651553          -0.311327   \n",
       "LMXB_92_obs_0         0.684393          -0.442124          -0.231204   \n",
       "LMXB_94_obs_0         0.407234          -0.345370          -0.237368   \n",
       "\n",
       "               flux_aper_lolim_m  photflux_aper_lolim_m  flux_aper_s  \\\n",
       "obs_id                                                                 \n",
       "CV_0_obs_0              0.794837               0.727087     0.814387   \n",
       "CV_1_obs_0             -0.988111              -1.081884    -0.937379   \n",
       "CV_2_obs_0             -0.398373              -0.400824    -1.098715   \n",
       "CV_3_obs_0             -2.120331              -2.142465    -1.828737   \n",
       "CV_4_obs_0              0.389566               0.321228    -0.073350   \n",
       "...                          ...                    ...          ...   \n",
       "LMXB_86_obs_0           0.026151              -0.023570    -0.226797   \n",
       "LMXB_90_obs_0           1.512552               1.551189     0.183719   \n",
       "LMXB_91_obs_0          -0.076529              -0.078567     1.231685   \n",
       "LMXB_92_obs_0           1.339049               1.337303     0.716175   \n",
       "LMXB_94_obs_0           1.237407               1.231727     0.537830   \n",
       "\n",
       "               photflux_aper_lolim_s  flux_aper_lolim_s  var_inter_index_s  \n",
       "obs_id                                                                      \n",
       "CV_0_obs_0                  1.057429           0.981106          -0.466188  \n",
       "CV_1_obs_0                 -0.928226          -0.846571          -0.013983  \n",
       "CV_2_obs_0                 -0.849163          -0.953106           1.706550  \n",
       "CV_3_obs_0                 -1.800727          -1.760429          -0.587495  \n",
       "CV_4_obs_0                  0.264406           0.323465           0.559528  \n",
       "...                              ...                ...                ...  \n",
       "LMXB_86_obs_0              -0.465527          -0.370550          -0.329415  \n",
       "LMXB_90_obs_0               0.100702           0.077308          -0.323679  \n",
       "LMXB_91_obs_0               1.480886           1.500292          -1.161006  \n",
       "LMXB_92_obs_0               0.648689           0.629448          -0.335150  \n",
       "LMXB_94_obs_0               0.378809           0.443765          -0.312209  \n",
       "\n",
       "[210 rows x 58 columns]"
      ],
      "text/html": [
       "<div>\n",
       "<style scoped>\n",
       "    .dataframe tbody tr th:only-of-type {\n",
       "        vertical-align: middle;\n",
       "    }\n",
       "\n",
       "    .dataframe tbody tr th {\n",
       "        vertical-align: top;\n",
       "    }\n",
       "\n",
       "    .dataframe thead th {\n",
       "        text-align: right;\n",
       "    }\n",
       "</style>\n",
       "<table border=\"1\" class=\"dataframe\">\n",
       "  <thead>\n",
       "    <tr style=\"text-align: right;\">\n",
       "      <th></th>\n",
       "      <th>src_id</th>\n",
       "      <th>num_obs</th>\n",
       "      <th>src_n</th>\n",
       "      <th>name</th>\n",
       "      <th>ra</th>\n",
       "      <th>dec</th>\n",
       "      <th>livetime</th>\n",
       "      <th>significance</th>\n",
       "      <th>likelihood</th>\n",
       "      <th>class</th>\n",
       "      <th>...</th>\n",
       "      <th>var_prob_b</th>\n",
       "      <th>photflux_aper_s</th>\n",
       "      <th>var_inter_index_h</th>\n",
       "      <th>var_inter_index_m</th>\n",
       "      <th>flux_aper_lolim_m</th>\n",
       "      <th>photflux_aper_lolim_m</th>\n",
       "      <th>flux_aper_s</th>\n",
       "      <th>photflux_aper_lolim_s</th>\n",
       "      <th>flux_aper_lolim_s</th>\n",
       "      <th>var_inter_index_s</th>\n",
       "    </tr>\n",
       "    <tr>\n",
       "      <th>obs_id</th>\n",
       "      <th></th>\n",
       "      <th></th>\n",
       "      <th></th>\n",
       "      <th></th>\n",
       "      <th></th>\n",
       "      <th></th>\n",
       "      <th></th>\n",
       "      <th></th>\n",
       "      <th></th>\n",
       "      <th></th>\n",
       "      <th></th>\n",
       "      <th></th>\n",
       "      <th></th>\n",
       "      <th></th>\n",
       "      <th></th>\n",
       "      <th></th>\n",
       "      <th></th>\n",
       "      <th></th>\n",
       "      <th></th>\n",
       "      <th></th>\n",
       "      <th></th>\n",
       "    </tr>\n",
       "  </thead>\n",
       "  <tbody>\n",
       "    <tr>\n",
       "      <th>CV_0_obs_0</th>\n",
       "      <td>CV_0</td>\n",
       "      <td>33</td>\n",
       "      <td>[HPH2013]_176__________</td>\n",
       "      <td>2CXO J004245.0+411520</td>\n",
       "      <td>10.68773</td>\n",
       "      <td>41.255820</td>\n",
       "      <td>4903.5</td>\n",
       "      <td>11.31</td>\n",
       "      <td>304.46460</td>\n",
       "      <td>CV</td>\n",
       "      <td>...</td>\n",
       "      <td>0.701065</td>\n",
       "      <td>0.730713</td>\n",
       "      <td>-0.320265</td>\n",
       "      <td>-0.153136</td>\n",
       "      <td>0.794837</td>\n",
       "      <td>0.727087</td>\n",
       "      <td>0.814387</td>\n",
       "      <td>1.057429</td>\n",
       "      <td>0.981106</td>\n",
       "      <td>-0.466188</td>\n",
       "    </tr>\n",
       "    <tr>\n",
       "      <th>CV_1_obs_0</th>\n",
       "      <td>CV_1</td>\n",
       "      <td>104</td>\n",
       "      <td>[HPH2013]_142__________</td>\n",
       "      <td>2CXO J004242.9+411543</td>\n",
       "      <td>10.67917</td>\n",
       "      <td>41.261980</td>\n",
       "      <td>4035.0</td>\n",
       "      <td>77.08</td>\n",
       "      <td>27912.78000</td>\n",
       "      <td>CV</td>\n",
       "      <td>...</td>\n",
       "      <td>-0.589881</td>\n",
       "      <td>-1.027547</td>\n",
       "      <td>0.162591</td>\n",
       "      <td>-0.311327</td>\n",
       "      <td>-0.988111</td>\n",
       "      <td>-1.081884</td>\n",
       "      <td>-0.937379</td>\n",
       "      <td>-0.928226</td>\n",
       "      <td>-0.846571</td>\n",
       "      <td>-0.013983</td>\n",
       "    </tr>\n",
       "    <tr>\n",
       "      <th>CV_2_obs_0</th>\n",
       "      <td>CV_2</td>\n",
       "      <td>102</td>\n",
       "      <td>[HPH2013]_169__________</td>\n",
       "      <td>2CXO J004244.3+411607</td>\n",
       "      <td>10.68489</td>\n",
       "      <td>41.268730</td>\n",
       "      <td>4035.0</td>\n",
       "      <td>83.08</td>\n",
       "      <td>37399.46000</td>\n",
       "      <td>CV</td>\n",
       "      <td>...</td>\n",
       "      <td>-0.190559</td>\n",
       "      <td>-0.983555</td>\n",
       "      <td>1.372020</td>\n",
       "      <td>1.537661</td>\n",
       "      <td>-0.398373</td>\n",
       "      <td>-0.400824</td>\n",
       "      <td>-1.098715</td>\n",
       "      <td>-0.849163</td>\n",
       "      <td>-0.953106</td>\n",
       "      <td>1.706550</td>\n",
       "    </tr>\n",
       "    <tr>\n",
       "      <th>CV_3_obs_0</th>\n",
       "      <td>CV_3</td>\n",
       "      <td>102</td>\n",
       "      <td>XMMSL2_J004231.9+411621</td>\n",
       "      <td>2CXO J004231.1+411621</td>\n",
       "      <td>10.62976</td>\n",
       "      <td>41.272670</td>\n",
       "      <td>4913.0</td>\n",
       "      <td>174.76</td>\n",
       "      <td>172643.30000</td>\n",
       "      <td>CV</td>\n",
       "      <td>...</td>\n",
       "      <td>-1.079908</td>\n",
       "      <td>-1.840947</td>\n",
       "      <td>0.767305</td>\n",
       "      <td>-0.311327</td>\n",
       "      <td>-2.120331</td>\n",
       "      <td>-2.142465</td>\n",
       "      <td>-1.828737</td>\n",
       "      <td>-1.800727</td>\n",
       "      <td>-1.760429</td>\n",
       "      <td>-0.587495</td>\n",
       "    </tr>\n",
       "    <tr>\n",
       "      <th>CV_4_obs_0</th>\n",
       "      <td>CV_4</td>\n",
       "      <td>97</td>\n",
       "      <td>[HPH2013]_205__________</td>\n",
       "      <td>2CXO J004248.7+411624</td>\n",
       "      <td>10.70297</td>\n",
       "      <td>41.273450</td>\n",
       "      <td>4881.4</td>\n",
       "      <td>33.19</td>\n",
       "      <td>3870.74300</td>\n",
       "      <td>CV</td>\n",
       "      <td>...</td>\n",
       "      <td>0.409124</td>\n",
       "      <td>-0.163991</td>\n",
       "      <td>0.162591</td>\n",
       "      <td>0.305002</td>\n",
       "      <td>0.389566</td>\n",
       "      <td>0.321228</td>\n",
       "      <td>-0.073350</td>\n",
       "      <td>0.264406</td>\n",
       "      <td>0.323465</td>\n",
       "      <td>0.559528</td>\n",
       "    </tr>\n",
       "    <tr>\n",
       "      <th>...</th>\n",
       "      <td>...</td>\n",
       "      <td>...</td>\n",
       "      <td>...</td>\n",
       "      <td>...</td>\n",
       "      <td>...</td>\n",
       "      <td>...</td>\n",
       "      <td>...</td>\n",
       "      <td>...</td>\n",
       "      <td>...</td>\n",
       "      <td>...</td>\n",
       "      <td>...</td>\n",
       "      <td>...</td>\n",
       "      <td>...</td>\n",
       "      <td>...</td>\n",
       "      <td>...</td>\n",
       "      <td>...</td>\n",
       "      <td>...</td>\n",
       "      <td>...</td>\n",
       "      <td>...</td>\n",
       "      <td>...</td>\n",
       "      <td>...</td>\n",
       "    </tr>\n",
       "    <tr>\n",
       "      <th>LMXB_86_obs_0</th>\n",
       "      <td>LMXB_86</td>\n",
       "      <td>1</td>\n",
       "      <td>SAX_J1810.8-2609_____</td>\n",
       "      <td>2CXO J181044.4-260901</td>\n",
       "      <td>272.68530</td>\n",
       "      <td>-26.150370</td>\n",
       "      <td>31871.5</td>\n",
       "      <td>9.29</td>\n",
       "      <td>512.97550</td>\n",
       "      <td>LX</td>\n",
       "      <td>...</td>\n",
       "      <td>-1.131602</td>\n",
       "      <td>-0.353313</td>\n",
       "      <td>-0.436077</td>\n",
       "      <td>-0.280511</td>\n",
       "      <td>0.026151</td>\n",
       "      <td>-0.023570</td>\n",
       "      <td>-0.226797</td>\n",
       "      <td>-0.465527</td>\n",
       "      <td>-0.370550</td>\n",
       "      <td>-0.329415</td>\n",
       "    </tr>\n",
       "    <tr>\n",
       "      <th>LMXB_90_obs_0</th>\n",
       "      <td>LMXB_90</td>\n",
       "      <td>1</td>\n",
       "      <td>XTE_J2123-058________</td>\n",
       "      <td>2CXO J212314.5-054753</td>\n",
       "      <td>320.81060</td>\n",
       "      <td>-5.798128</td>\n",
       "      <td>17705.1</td>\n",
       "      <td>4.06</td>\n",
       "      <td>132.76700</td>\n",
       "      <td>LX</td>\n",
       "      <td>...</td>\n",
       "      <td>1.914046</td>\n",
       "      <td>0.166134</td>\n",
       "      <td>-0.442124</td>\n",
       "      <td>-0.249694</td>\n",
       "      <td>1.512552</td>\n",
       "      <td>1.551189</td>\n",
       "      <td>0.183719</td>\n",
       "      <td>0.100702</td>\n",
       "      <td>0.077308</td>\n",
       "      <td>-0.323679</td>\n",
       "    </tr>\n",
       "    <tr>\n",
       "      <th>LMXB_91_obs_0</th>\n",
       "      <td>LMXB_91</td>\n",
       "      <td>1</td>\n",
       "      <td>XB_1732-304__________</td>\n",
       "      <td>2CXO J173547.0-302858</td>\n",
       "      <td>263.94590</td>\n",
       "      <td>-30.482820</td>\n",
       "      <td>18855.8</td>\n",
       "      <td>4.89</td>\n",
       "      <td>114.24570</td>\n",
       "      <td>LX</td>\n",
       "      <td>...</td>\n",
       "      <td>0.414391</td>\n",
       "      <td>1.115226</td>\n",
       "      <td>-1.651553</td>\n",
       "      <td>-0.311327</td>\n",
       "      <td>-0.076529</td>\n",
       "      <td>-0.078567</td>\n",
       "      <td>1.231685</td>\n",
       "      <td>1.480886</td>\n",
       "      <td>1.500292</td>\n",
       "      <td>-1.161006</td>\n",
       "    </tr>\n",
       "    <tr>\n",
       "      <th>LMXB_92_obs_0</th>\n",
       "      <td>LMXB_92</td>\n",
       "      <td>1</td>\n",
       "      <td>BW_ANT_______________</td>\n",
       "      <td>2CXO J092920.1-312303</td>\n",
       "      <td>142.33410</td>\n",
       "      <td>-31.384270</td>\n",
       "      <td>24445.9</td>\n",
       "      <td>3.70</td>\n",
       "      <td>75.53454</td>\n",
       "      <td>LX</td>\n",
       "      <td>...</td>\n",
       "      <td>1.071543</td>\n",
       "      <td>0.684393</td>\n",
       "      <td>-0.442124</td>\n",
       "      <td>-0.231204</td>\n",
       "      <td>1.339049</td>\n",
       "      <td>1.337303</td>\n",
       "      <td>0.716175</td>\n",
       "      <td>0.648689</td>\n",
       "      <td>0.629448</td>\n",
       "      <td>-0.335150</td>\n",
       "    </tr>\n",
       "    <tr>\n",
       "      <th>LMXB_94_obs_0</th>\n",
       "      <td>LMXB_94</td>\n",
       "      <td>1</td>\n",
       "      <td>J1748-3607___________</td>\n",
       "      <td>2CXO J174813.1-360758</td>\n",
       "      <td>267.05470</td>\n",
       "      <td>-36.132810</td>\n",
       "      <td>15794.5</td>\n",
       "      <td>3.09</td>\n",
       "      <td>50.50810</td>\n",
       "      <td>LX</td>\n",
       "      <td>...</td>\n",
       "      <td>0.115302</td>\n",
       "      <td>0.407234</td>\n",
       "      <td>-0.345370</td>\n",
       "      <td>-0.237368</td>\n",
       "      <td>1.237407</td>\n",
       "      <td>1.231727</td>\n",
       "      <td>0.537830</td>\n",
       "      <td>0.378809</td>\n",
       "      <td>0.443765</td>\n",
       "      <td>-0.312209</td>\n",
       "    </tr>\n",
       "  </tbody>\n",
       "</table>\n",
       "<p>210 rows × 58 columns</p>\n",
       "</div>"
      ]
     },
     "metadata": {},
     "execution_count": 8
    }
   ],
   "metadata": {}
  },
  {
   "cell_type": "code",
   "execution_count": 9,
   "source": [
    "details(data_imp_norm)"
   ],
   "outputs": [
    {
     "output_type": "stream",
     "name": "stdout",
     "text": [
      "________________________________________________\n",
      "Sparsity in the data : 0.00\n",
      "Data shape (210, 58)\n",
      "Number of sources : \n",
      "CV  \t  60 \t 60\n",
      "PL  \t  92 \t 92\n",
      "LX  \t  58 \t 58\n"
     ]
    }
   ],
   "metadata": {}
  },
  {
   "cell_type": "code",
   "execution_count": 15,
   "source": [
    "verbose = 0\n",
    "val_acc = []\n",
    "test_acc = []\n",
    "for i in tqdm(range(32)):\n",
    "    src_list = pd.DataFrame()\n",
    "    class_to_select = ['CV' , 'LX' , 'PL']\n",
    "    df = data_imp_norm.copy()\n",
    "    i_val = df[info_col]\n",
    "    y_val = df['class']\n",
    "    x_val = df.drop(columns=['class']+info_col)\n",
    "\n",
    "    clf = RandomForestClassifier(\n",
    "        n_estimators = 200 , n_jobs=-1\n",
    "    )\n",
    "    #clf = AdaBoostClassifier(base_estimator=clf ,)\n",
    "    #clf = xgb.XGBRFClassifier(n_componets=200)\n",
    "    #clf = xgb.XGBClassifier()\n",
    "    x_train , x_test , y_train , y_test = train_test_split(x_val , y_val , test_size=0.2 , stratify=y_val, random_state=42)\n",
    "    #x_train , y_train = train_value , train_label\n",
    "    clf.fit(x_train , y_train)\n",
    "    v_sc = clf.score(x_test , y_test)\n",
    "    test_sc = clf.score(x_train, y_train)\n",
    "    val_acc.append(v_sc)\n",
    "    test_acc.append(test_sc)\n",
    "    #if(verbose):\n",
    "    print(test_sc , v_sc)"
   ],
   "outputs": [
    {
     "output_type": "stream",
     "name": "stderr",
     "text": [
      "  3%|▎         | 1/32 [00:00<00:22,  1.36it/s]"
     ]
    },
    {
     "output_type": "stream",
     "name": "stdout",
     "text": [
      "0.9642857142857143 0.6428571428571429\n"
     ]
    },
    {
     "output_type": "stream",
     "name": "stderr",
     "text": [
      "  6%|▋         | 2/32 [00:01<00:24,  1.24it/s]"
     ]
    },
    {
     "output_type": "stream",
     "name": "stdout",
     "text": [
      "0.9642857142857143 0.6666666666666666\n"
     ]
    },
    {
     "output_type": "stream",
     "name": "stderr",
     "text": [
      "  9%|▉         | 3/32 [00:02<00:27,  1.07it/s]"
     ]
    },
    {
     "output_type": "stream",
     "name": "stdout",
     "text": [
      "0.9642857142857143 0.6666666666666666\n"
     ]
    },
    {
     "output_type": "stream",
     "name": "stderr",
     "text": [
      " 12%|█▎        | 4/32 [00:03<00:26,  1.06it/s]"
     ]
    },
    {
     "output_type": "stream",
     "name": "stdout",
     "text": [
      "0.9642857142857143 0.6666666666666666\n"
     ]
    },
    {
     "output_type": "stream",
     "name": "stderr",
     "text": [
      " 16%|█▌        | 5/32 [00:04<00:24,  1.09it/s]"
     ]
    },
    {
     "output_type": "stream",
     "name": "stdout",
     "text": [
      "0.9642857142857143 0.6428571428571429\n"
     ]
    },
    {
     "output_type": "stream",
     "name": "stderr",
     "text": [
      " 19%|█▉        | 6/32 [00:05<00:22,  1.17it/s]"
     ]
    },
    {
     "output_type": "stream",
     "name": "stdout",
     "text": [
      "0.9642857142857143 0.6666666666666666\n"
     ]
    },
    {
     "output_type": "stream",
     "name": "stderr",
     "text": [
      " 22%|██▏       | 7/32 [00:05<00:20,  1.21it/s]"
     ]
    },
    {
     "output_type": "stream",
     "name": "stdout",
     "text": [
      "0.9642857142857143 0.6666666666666666\n"
     ]
    },
    {
     "output_type": "stream",
     "name": "stderr",
     "text": [
      " 25%|██▌       | 8/32 [00:06<00:19,  1.25it/s]"
     ]
    },
    {
     "output_type": "stream",
     "name": "stdout",
     "text": [
      "0.9642857142857143 0.6666666666666666\n"
     ]
    },
    {
     "output_type": "stream",
     "name": "stderr",
     "text": [
      " 28%|██▊       | 9/32 [00:07<00:20,  1.13it/s]"
     ]
    },
    {
     "output_type": "stream",
     "name": "stdout",
     "text": [
      "0.9642857142857143 0.6666666666666666\n"
     ]
    },
    {
     "output_type": "stream",
     "name": "stderr",
     "text": [
      " 31%|███▏      | 10/32 [00:08<00:19,  1.13it/s]"
     ]
    },
    {
     "output_type": "stream",
     "name": "stdout",
     "text": [
      "0.9642857142857143 0.6904761904761905\n"
     ]
    },
    {
     "output_type": "stream",
     "name": "stderr",
     "text": [
      " 34%|███▍      | 11/32 [00:09<00:18,  1.14it/s]"
     ]
    },
    {
     "output_type": "stream",
     "name": "stdout",
     "text": [
      "0.9642857142857143 0.6428571428571429\n"
     ]
    },
    {
     "output_type": "stream",
     "name": "stderr",
     "text": [
      " 38%|███▊      | 12/32 [00:10<00:18,  1.11it/s]"
     ]
    },
    {
     "output_type": "stream",
     "name": "stdout",
     "text": [
      "0.9642857142857143 0.6904761904761905\n"
     ]
    },
    {
     "output_type": "stream",
     "name": "stderr",
     "text": [
      " 41%|████      | 13/32 [00:11<00:17,  1.08it/s]"
     ]
    },
    {
     "output_type": "stream",
     "name": "stdout",
     "text": [
      "0.9642857142857143 0.6666666666666666\n"
     ]
    },
    {
     "output_type": "stream",
     "name": "stderr",
     "text": [
      " 44%|████▍     | 14/32 [00:12<00:15,  1.15it/s]"
     ]
    },
    {
     "output_type": "stream",
     "name": "stdout",
     "text": [
      "0.9642857142857143 0.6428571428571429\n"
     ]
    },
    {
     "output_type": "stream",
     "name": "stderr",
     "text": [
      " 47%|████▋     | 15/32 [00:13<00:14,  1.15it/s]"
     ]
    },
    {
     "output_type": "stream",
     "name": "stdout",
     "text": [
      "0.9642857142857143 0.6904761904761905\n"
     ]
    },
    {
     "output_type": "stream",
     "name": "stderr",
     "text": [
      " 50%|█████     | 16/32 [00:13<00:13,  1.20it/s]"
     ]
    },
    {
     "output_type": "stream",
     "name": "stdout",
     "text": [
      "0.9642857142857143 0.6428571428571429\n"
     ]
    },
    {
     "output_type": "stream",
     "name": "stderr",
     "text": [
      " 53%|█████▎    | 17/32 [00:14<00:13,  1.15it/s]"
     ]
    },
    {
     "output_type": "stream",
     "name": "stdout",
     "text": [
      "0.9642857142857143 0.6428571428571429\n"
     ]
    },
    {
     "output_type": "stream",
     "name": "stderr",
     "text": [
      " 56%|█████▋    | 18/32 [00:15<00:11,  1.20it/s]"
     ]
    },
    {
     "output_type": "stream",
     "name": "stdout",
     "text": [
      "0.9642857142857143 0.6428571428571429\n"
     ]
    },
    {
     "output_type": "stream",
     "name": "stderr",
     "text": [
      " 59%|█████▉    | 19/32 [00:16<00:10,  1.24it/s]"
     ]
    },
    {
     "output_type": "stream",
     "name": "stdout",
     "text": [
      "0.9642857142857143 0.6666666666666666\n"
     ]
    },
    {
     "output_type": "stream",
     "name": "stderr",
     "text": [
      " 62%|██████▎   | 20/32 [00:17<00:09,  1.26it/s]"
     ]
    },
    {
     "output_type": "stream",
     "name": "stdout",
     "text": [
      "0.9642857142857143 0.6666666666666666\n"
     ]
    },
    {
     "output_type": "stream",
     "name": "stderr",
     "text": [
      " 66%|██████▌   | 21/32 [00:17<00:08,  1.28it/s]"
     ]
    },
    {
     "output_type": "stream",
     "name": "stdout",
     "text": [
      "0.9642857142857143 0.6666666666666666\n"
     ]
    },
    {
     "output_type": "stream",
     "name": "stderr",
     "text": [
      " 69%|██████▉   | 22/32 [00:18<00:07,  1.30it/s]"
     ]
    },
    {
     "output_type": "stream",
     "name": "stdout",
     "text": [
      "0.9642857142857143 0.6904761904761905\n"
     ]
    },
    {
     "output_type": "stream",
     "name": "stderr",
     "text": [
      " 72%|███████▏  | 23/32 [00:19<00:07,  1.25it/s]"
     ]
    },
    {
     "output_type": "stream",
     "name": "stdout",
     "text": [
      "0.9642857142857143 0.6666666666666666\n"
     ]
    },
    {
     "output_type": "stream",
     "name": "stderr",
     "text": [
      " 75%|███████▌  | 24/32 [00:20<00:06,  1.18it/s]"
     ]
    },
    {
     "output_type": "stream",
     "name": "stdout",
     "text": [
      "0.9642857142857143 0.6904761904761905\n"
     ]
    },
    {
     "output_type": "stream",
     "name": "stderr",
     "text": [
      " 78%|███████▊  | 25/32 [00:21<00:05,  1.22it/s]"
     ]
    },
    {
     "output_type": "stream",
     "name": "stdout",
     "text": [
      "0.9642857142857143 0.6904761904761905\n"
     ]
    },
    {
     "output_type": "stream",
     "name": "stderr",
     "text": [
      " 81%|████████▏ | 26/32 [00:22<00:05,  1.11it/s]"
     ]
    },
    {
     "output_type": "stream",
     "name": "stdout",
     "text": [
      "0.9642857142857143 0.6904761904761905\n"
     ]
    },
    {
     "output_type": "stream",
     "name": "stderr",
     "text": [
      " 84%|████████▍ | 27/32 [00:23<00:04,  1.09it/s]"
     ]
    },
    {
     "output_type": "stream",
     "name": "stdout",
     "text": [
      "0.9642857142857143 0.6904761904761905\n"
     ]
    },
    {
     "output_type": "stream",
     "name": "stderr",
     "text": [
      " 88%|████████▊ | 28/32 [00:24<00:03,  1.11it/s]"
     ]
    },
    {
     "output_type": "stream",
     "name": "stdout",
     "text": [
      "0.9642857142857143 0.6666666666666666\n"
     ]
    },
    {
     "output_type": "stream",
     "name": "stderr",
     "text": [
      " 91%|█████████ | 29/32 [00:24<00:02,  1.17it/s]"
     ]
    },
    {
     "output_type": "stream",
     "name": "stdout",
     "text": [
      "0.9642857142857143 0.6904761904761905\n"
     ]
    },
    {
     "output_type": "stream",
     "name": "stderr",
     "text": [
      " 94%|█████████▍| 30/32 [00:25<00:01,  1.12it/s]"
     ]
    },
    {
     "output_type": "stream",
     "name": "stdout",
     "text": [
      "0.9642857142857143 0.6666666666666666\n"
     ]
    },
    {
     "output_type": "stream",
     "name": "stderr",
     "text": [
      " 97%|█████████▋| 31/32 [00:26<00:00,  1.10it/s]"
     ]
    },
    {
     "output_type": "stream",
     "name": "stdout",
     "text": [
      "0.9642857142857143 0.6904761904761905\n"
     ]
    },
    {
     "output_type": "stream",
     "name": "stderr",
     "text": [
      "100%|██████████| 32/32 [00:27<00:00,  1.17it/s]"
     ]
    },
    {
     "output_type": "stream",
     "name": "stdout",
     "text": [
      "0.9642857142857143 0.6904761904761905\n"
     ]
    },
    {
     "output_type": "stream",
     "name": "stderr",
     "text": [
      "\n"
     ]
    }
   ],
   "metadata": {}
  },
  {
   "cell_type": "code",
   "execution_count": 16,
   "source": [
    "score = pd.DataFrame({\n",
    "    \"Test Score\" : test_acc, \n",
    "    \"Validation Score\" : val_acc\n",
    "})*100\n",
    "score.describe().loc[['mean' , 'std' , 'min', 'max' ]]"
   ],
   "outputs": [
    {
     "output_type": "execute_result",
     "data": {
      "text/plain": [
       "      Test Score  Validation Score\n",
       "mean   96.428571         66.964286\n",
       "std     0.000000          1.788912\n",
       "min    96.428571         64.285714\n",
       "max    96.428571         69.047619"
      ],
      "text/html": [
       "<div>\n",
       "<style scoped>\n",
       "    .dataframe tbody tr th:only-of-type {\n",
       "        vertical-align: middle;\n",
       "    }\n",
       "\n",
       "    .dataframe tbody tr th {\n",
       "        vertical-align: top;\n",
       "    }\n",
       "\n",
       "    .dataframe thead th {\n",
       "        text-align: right;\n",
       "    }\n",
       "</style>\n",
       "<table border=\"1\" class=\"dataframe\">\n",
       "  <thead>\n",
       "    <tr style=\"text-align: right;\">\n",
       "      <th></th>\n",
       "      <th>Test Score</th>\n",
       "      <th>Validation Score</th>\n",
       "    </tr>\n",
       "  </thead>\n",
       "  <tbody>\n",
       "    <tr>\n",
       "      <th>mean</th>\n",
       "      <td>96.428571</td>\n",
       "      <td>66.964286</td>\n",
       "    </tr>\n",
       "    <tr>\n",
       "      <th>std</th>\n",
       "      <td>0.000000</td>\n",
       "      <td>1.788912</td>\n",
       "    </tr>\n",
       "    <tr>\n",
       "      <th>min</th>\n",
       "      <td>96.428571</td>\n",
       "      <td>64.285714</td>\n",
       "    </tr>\n",
       "    <tr>\n",
       "      <th>max</th>\n",
       "      <td>96.428571</td>\n",
       "      <td>69.047619</td>\n",
       "    </tr>\n",
       "  </tbody>\n",
       "</table>\n",
       "</div>"
      ]
     },
     "metadata": {},
     "execution_count": 16
    }
   ],
   "metadata": {}
  },
  {
   "cell_type": "code",
   "execution_count": 17,
   "source": [
    "sns.set(font_scale=1.3)\n",
    "sns.set_style('whitegrid')\n",
    "fig , ax = plt.subplots(nrows=1 , ncols=3 , figsize = (18 , 4))\n",
    "sns.boxplot(data = score , ax = ax[0])\n",
    "cf = confusion_matrix(y_train , clf.predict(x_train) ,)\n",
    "sns.heatmap(cf , annot=True ,fmt = '.0f' , ax = ax[1] , xticklabels =class_to_select , yticklabels = class_to_select  , cmap='RdYlGn' ,)\n",
    "cf = confusion_matrix(y_test , clf.predict(x_test) ,)\n",
    "sns.heatmap(cf , annot=True ,fmt = '.0f' , ax = ax[2] , xticklabels=class_to_select, yticklabels = class_to_select , cmap='RdYlGn')\n",
    "ax[1].set_title('Training CF')\n",
    "ax[2].set_title('Validation CF')\n",
    "for a in ax[1:]:\n",
    "    a.set_xlabel('Predicted class')\n",
    "    a.set_ylabel('True class')\n",
    "\n",
    "plt.show()\n",
    "#score"
   ],
   "outputs": [
    {
     "output_type": "display_data",
     "data": {
      "text/plain": [
       "<Figure size 1296x288 with 5 Axes>"
      ],
      "image/svg+xml": "<?xml version=\"1.0\" encoding=\"utf-8\" standalone=\"no\"?>\n<!DOCTYPE svg PUBLIC \"-//W3C//DTD SVG 1.1//EN\"\n  \"http://www.w3.org/Graphics/SVG/1.1/DTD/svg11.dtd\">\n<!-- Created with matplotlib (https://matplotlib.org/) -->\n<svg height=\"292.131156pt\" version=\"1.1\" viewBox=\"0 0 1040.753735 292.131156\" width=\"1040.753735pt\" xmlns=\"http://www.w3.org/2000/svg\" xmlns:xlink=\"http://www.w3.org/1999/xlink\">\n <metadata>\n  <rdf:RDF xmlns:cc=\"http://creativecommons.org/ns#\" xmlns:dc=\"http://purl.org/dc/elements/1.1/\" xmlns:rdf=\"http://www.w3.org/1999/02/22-rdf-syntax-ns#\">\n   <cc:Work>\n    <dc:type rdf:resource=\"http://purl.org/dc/dcmitype/StillImage\"/>\n    <dc:date>2021-12-12T13:02:07.297037</dc:date>\n    <dc:format>image/svg+xml</dc:format>\n    <dc:creator>\n     <cc:Agent>\n      <dc:title>Matplotlib v3.3.4, https://matplotlib.org/</dc:title>\n     </cc:Agent>\n    </dc:creator>\n   </cc:Work>\n  </rdf:RDF>\n </metadata>\n <defs>\n  <style type=\"text/css\">*{stroke-linecap:butt;stroke-linejoin:round;}</style>\n </defs>\n <g id=\"figure_1\">\n  <g id=\"patch_1\">\n   <path d=\"M 0 292.131156 \nL 1040.753735 292.131156 \nL 1040.753735 0 \nL 0 0 \nz\n\" style=\"fill:#ffffff;\"/>\n  </g>\n  <g id=\"axes_1\">\n   <g id=\"patch_2\">\n    <path d=\"M 34.89675 242.493563 \nL 330.308515 242.493563 \nL 330.308515 25.053563 \nL 34.89675 25.053563 \nz\n\" style=\"fill:#ffffff;\"/>\n   </g>\n   <g id=\"matplotlib.axis_1\">\n    <g id=\"xtick_1\">\n     <g id=\"text_1\">\n      <!-- Test Score -->\n      <g style=\"fill:#262626;\" transform=\"translate(72.375183 262.859328)scale(0.143 -0.143)\">\n       <defs>\n        <path d=\"M -0.296875 72.90625 \nL 61.375 72.90625 \nL 61.375 64.59375 \nL 35.5 64.59375 \nL 35.5 0 \nL 25.59375 0 \nL 25.59375 64.59375 \nL -0.296875 64.59375 \nz\n\" id=\"DejaVuSans-84\"/>\n        <path d=\"M 56.203125 29.59375 \nL 56.203125 25.203125 \nL 14.890625 25.203125 \nQ 15.484375 15.921875 20.484375 11.0625 \nQ 25.484375 6.203125 34.421875 6.203125 \nQ 39.59375 6.203125 44.453125 7.46875 \nQ 49.3125 8.734375 54.109375 11.28125 \nL 54.109375 2.78125 \nQ 49.265625 0.734375 44.1875 -0.34375 \nQ 39.109375 -1.421875 33.890625 -1.421875 \nQ 20.796875 -1.421875 13.15625 6.1875 \nQ 5.515625 13.8125 5.515625 26.8125 \nQ 5.515625 40.234375 12.765625 48.109375 \nQ 20.015625 56 32.328125 56 \nQ 43.359375 56 49.78125 48.890625 \nQ 56.203125 41.796875 56.203125 29.59375 \nz\nM 47.21875 32.234375 \nQ 47.125 39.59375 43.09375 43.984375 \nQ 39.0625 48.390625 32.421875 48.390625 \nQ 24.90625 48.390625 20.390625 44.140625 \nQ 15.875 39.890625 15.1875 32.171875 \nz\n\" id=\"DejaVuSans-101\"/>\n        <path d=\"M 44.28125 53.078125 \nL 44.28125 44.578125 \nQ 40.484375 46.53125 36.375 47.5 \nQ 32.28125 48.484375 27.875 48.484375 \nQ 21.1875 48.484375 17.84375 46.4375 \nQ 14.5 44.390625 14.5 40.28125 \nQ 14.5 37.15625 16.890625 35.375 \nQ 19.28125 33.59375 26.515625 31.984375 \nL 29.59375 31.296875 \nQ 39.15625 29.25 43.1875 25.515625 \nQ 47.21875 21.78125 47.21875 15.09375 \nQ 47.21875 7.46875 41.1875 3.015625 \nQ 35.15625 -1.421875 24.609375 -1.421875 \nQ 20.21875 -1.421875 15.453125 -0.5625 \nQ 10.6875 0.296875 5.421875 2 \nL 5.421875 11.28125 \nQ 10.40625 8.6875 15.234375 7.390625 \nQ 20.0625 6.109375 24.8125 6.109375 \nQ 31.15625 6.109375 34.5625 8.28125 \nQ 37.984375 10.453125 37.984375 14.40625 \nQ 37.984375 18.0625 35.515625 20.015625 \nQ 33.0625 21.96875 24.703125 23.78125 \nL 21.578125 24.515625 \nQ 13.234375 26.265625 9.515625 29.90625 \nQ 5.8125 33.546875 5.8125 39.890625 \nQ 5.8125 47.609375 11.28125 51.796875 \nQ 16.75 56 26.8125 56 \nQ 31.78125 56 36.171875 55.265625 \nQ 40.578125 54.546875 44.28125 53.078125 \nz\n\" id=\"DejaVuSans-115\"/>\n        <path d=\"M 18.3125 70.21875 \nL 18.3125 54.6875 \nL 36.8125 54.6875 \nL 36.8125 47.703125 \nL 18.3125 47.703125 \nL 18.3125 18.015625 \nQ 18.3125 11.328125 20.140625 9.421875 \nQ 21.96875 7.515625 27.59375 7.515625 \nL 36.8125 7.515625 \nL 36.8125 0 \nL 27.59375 0 \nQ 17.1875 0 13.234375 3.875 \nQ 9.28125 7.765625 9.28125 18.015625 \nL 9.28125 47.703125 \nL 2.6875 47.703125 \nL 2.6875 54.6875 \nL 9.28125 54.6875 \nL 9.28125 70.21875 \nz\n\" id=\"DejaVuSans-116\"/>\n        <path id=\"DejaVuSans-32\"/>\n        <path d=\"M 53.515625 70.515625 \nL 53.515625 60.890625 \nQ 47.90625 63.578125 42.921875 64.890625 \nQ 37.9375 66.21875 33.296875 66.21875 \nQ 25.25 66.21875 20.875 63.09375 \nQ 16.5 59.96875 16.5 54.203125 \nQ 16.5 49.359375 19.40625 46.890625 \nQ 22.3125 44.4375 30.421875 42.921875 \nL 36.375 41.703125 \nQ 47.40625 39.59375 52.65625 34.296875 \nQ 57.90625 29 57.90625 20.125 \nQ 57.90625 9.515625 50.796875 4.046875 \nQ 43.703125 -1.421875 29.984375 -1.421875 \nQ 24.8125 -1.421875 18.96875 -0.25 \nQ 13.140625 0.921875 6.890625 3.21875 \nL 6.890625 13.375 \nQ 12.890625 10.015625 18.65625 8.296875 \nQ 24.421875 6.59375 29.984375 6.59375 \nQ 38.421875 6.59375 43.015625 9.90625 \nQ 47.609375 13.234375 47.609375 19.390625 \nQ 47.609375 24.75 44.3125 27.78125 \nQ 41.015625 30.8125 33.5 32.328125 \nL 27.484375 33.5 \nQ 16.453125 35.6875 11.515625 40.375 \nQ 6.59375 45.0625 6.59375 53.421875 \nQ 6.59375 63.09375 13.40625 68.65625 \nQ 20.21875 74.21875 32.171875 74.21875 \nQ 37.3125 74.21875 42.625 73.28125 \nQ 47.953125 72.359375 53.515625 70.515625 \nz\n\" id=\"DejaVuSans-83\"/>\n        <path d=\"M 48.78125 52.59375 \nL 48.78125 44.1875 \nQ 44.96875 46.296875 41.140625 47.34375 \nQ 37.3125 48.390625 33.40625 48.390625 \nQ 24.65625 48.390625 19.8125 42.84375 \nQ 14.984375 37.3125 14.984375 27.296875 \nQ 14.984375 17.28125 19.8125 11.734375 \nQ 24.65625 6.203125 33.40625 6.203125 \nQ 37.3125 6.203125 41.140625 7.25 \nQ 44.96875 8.296875 48.78125 10.40625 \nL 48.78125 2.09375 \nQ 45.015625 0.34375 40.984375 -0.53125 \nQ 36.96875 -1.421875 32.421875 -1.421875 \nQ 20.0625 -1.421875 12.78125 6.34375 \nQ 5.515625 14.109375 5.515625 27.296875 \nQ 5.515625 40.671875 12.859375 48.328125 \nQ 20.21875 56 33.015625 56 \nQ 37.15625 56 41.109375 55.140625 \nQ 45.0625 54.296875 48.78125 52.59375 \nz\n\" id=\"DejaVuSans-99\"/>\n        <path d=\"M 30.609375 48.390625 \nQ 23.390625 48.390625 19.1875 42.75 \nQ 14.984375 37.109375 14.984375 27.296875 \nQ 14.984375 17.484375 19.15625 11.84375 \nQ 23.34375 6.203125 30.609375 6.203125 \nQ 37.796875 6.203125 41.984375 11.859375 \nQ 46.1875 17.53125 46.1875 27.296875 \nQ 46.1875 37.015625 41.984375 42.703125 \nQ 37.796875 48.390625 30.609375 48.390625 \nz\nM 30.609375 56 \nQ 42.328125 56 49.015625 48.375 \nQ 55.71875 40.765625 55.71875 27.296875 \nQ 55.71875 13.875 49.015625 6.21875 \nQ 42.328125 -1.421875 30.609375 -1.421875 \nQ 18.84375 -1.421875 12.171875 6.21875 \nQ 5.515625 13.875 5.515625 27.296875 \nQ 5.515625 40.765625 12.171875 48.375 \nQ 18.84375 56 30.609375 56 \nz\n\" id=\"DejaVuSans-111\"/>\n        <path d=\"M 41.109375 46.296875 \nQ 39.59375 47.171875 37.8125 47.578125 \nQ 36.03125 48 33.890625 48 \nQ 26.265625 48 22.1875 43.046875 \nQ 18.109375 38.09375 18.109375 28.8125 \nL 18.109375 0 \nL 9.078125 0 \nL 9.078125 54.6875 \nL 18.109375 54.6875 \nL 18.109375 46.1875 \nQ 20.953125 51.171875 25.484375 53.578125 \nQ 30.03125 56 36.53125 56 \nQ 37.453125 56 38.578125 55.875 \nQ 39.703125 55.765625 41.0625 55.515625 \nz\n\" id=\"DejaVuSans-114\"/>\n       </defs>\n       <use xlink:href=\"#DejaVuSans-84\"/>\n       <use x=\"44.083984\" xlink:href=\"#DejaVuSans-101\"/>\n       <use x=\"105.607422\" xlink:href=\"#DejaVuSans-115\"/>\n       <use x=\"157.707031\" xlink:href=\"#DejaVuSans-116\"/>\n       <use x=\"196.916016\" xlink:href=\"#DejaVuSans-32\"/>\n       <use x=\"228.703125\" xlink:href=\"#DejaVuSans-83\"/>\n       <use x=\"292.179688\" xlink:href=\"#DejaVuSans-99\"/>\n       <use x=\"347.160156\" xlink:href=\"#DejaVuSans-111\"/>\n       <use x=\"408.341797\" xlink:href=\"#DejaVuSans-114\"/>\n       <use x=\"447.205078\" xlink:href=\"#DejaVuSans-101\"/>\n      </g>\n     </g>\n    </g>\n    <g id=\"xtick_2\">\n     <g id=\"text_2\">\n      <!-- Validation Score -->\n      <g style=\"fill:#262626;\" transform=\"translate(198.852269 262.859328)scale(0.143 -0.143)\">\n       <defs>\n        <path d=\"M 28.609375 0 \nL 0.78125 72.90625 \nL 11.078125 72.90625 \nL 34.1875 11.53125 \nL 57.328125 72.90625 \nL 67.578125 72.90625 \nL 39.796875 0 \nz\n\" id=\"DejaVuSans-86\"/>\n        <path d=\"M 34.28125 27.484375 \nQ 23.390625 27.484375 19.1875 25 \nQ 14.984375 22.515625 14.984375 16.5 \nQ 14.984375 11.71875 18.140625 8.90625 \nQ 21.296875 6.109375 26.703125 6.109375 \nQ 34.1875 6.109375 38.703125 11.40625 \nQ 43.21875 16.703125 43.21875 25.484375 \nL 43.21875 27.484375 \nz\nM 52.203125 31.203125 \nL 52.203125 0 \nL 43.21875 0 \nL 43.21875 8.296875 \nQ 40.140625 3.328125 35.546875 0.953125 \nQ 30.953125 -1.421875 24.3125 -1.421875 \nQ 15.921875 -1.421875 10.953125 3.296875 \nQ 6 8.015625 6 15.921875 \nQ 6 25.140625 12.171875 29.828125 \nQ 18.359375 34.515625 30.609375 34.515625 \nL 43.21875 34.515625 \nL 43.21875 35.40625 \nQ 43.21875 41.609375 39.140625 45 \nQ 35.0625 48.390625 27.6875 48.390625 \nQ 23 48.390625 18.546875 47.265625 \nQ 14.109375 46.140625 10.015625 43.890625 \nL 10.015625 52.203125 \nQ 14.9375 54.109375 19.578125 55.046875 \nQ 24.21875 56 28.609375 56 \nQ 40.484375 56 46.34375 49.84375 \nQ 52.203125 43.703125 52.203125 31.203125 \nz\n\" id=\"DejaVuSans-97\"/>\n        <path d=\"M 9.421875 75.984375 \nL 18.40625 75.984375 \nL 18.40625 0 \nL 9.421875 0 \nz\n\" id=\"DejaVuSans-108\"/>\n        <path d=\"M 9.421875 54.6875 \nL 18.40625 54.6875 \nL 18.40625 0 \nL 9.421875 0 \nz\nM 9.421875 75.984375 \nL 18.40625 75.984375 \nL 18.40625 64.59375 \nL 9.421875 64.59375 \nz\n\" id=\"DejaVuSans-105\"/>\n        <path d=\"M 45.40625 46.390625 \nL 45.40625 75.984375 \nL 54.390625 75.984375 \nL 54.390625 0 \nL 45.40625 0 \nL 45.40625 8.203125 \nQ 42.578125 3.328125 38.25 0.953125 \nQ 33.9375 -1.421875 27.875 -1.421875 \nQ 17.96875 -1.421875 11.734375 6.484375 \nQ 5.515625 14.40625 5.515625 27.296875 \nQ 5.515625 40.1875 11.734375 48.09375 \nQ 17.96875 56 27.875 56 \nQ 33.9375 56 38.25 53.625 \nQ 42.578125 51.265625 45.40625 46.390625 \nz\nM 14.796875 27.296875 \nQ 14.796875 17.390625 18.875 11.75 \nQ 22.953125 6.109375 30.078125 6.109375 \nQ 37.203125 6.109375 41.296875 11.75 \nQ 45.40625 17.390625 45.40625 27.296875 \nQ 45.40625 37.203125 41.296875 42.84375 \nQ 37.203125 48.484375 30.078125 48.484375 \nQ 22.953125 48.484375 18.875 42.84375 \nQ 14.796875 37.203125 14.796875 27.296875 \nz\n\" id=\"DejaVuSans-100\"/>\n        <path d=\"M 54.890625 33.015625 \nL 54.890625 0 \nL 45.90625 0 \nL 45.90625 32.71875 \nQ 45.90625 40.484375 42.875 44.328125 \nQ 39.84375 48.1875 33.796875 48.1875 \nQ 26.515625 48.1875 22.3125 43.546875 \nQ 18.109375 38.921875 18.109375 30.90625 \nL 18.109375 0 \nL 9.078125 0 \nL 9.078125 54.6875 \nL 18.109375 54.6875 \nL 18.109375 46.1875 \nQ 21.34375 51.125 25.703125 53.5625 \nQ 30.078125 56 35.796875 56 \nQ 45.21875 56 50.046875 50.171875 \nQ 54.890625 44.34375 54.890625 33.015625 \nz\n\" id=\"DejaVuSans-110\"/>\n       </defs>\n       <use xlink:href=\"#DejaVuSans-86\"/>\n       <use x=\"60.658203\" xlink:href=\"#DejaVuSans-97\"/>\n       <use x=\"121.9375\" xlink:href=\"#DejaVuSans-108\"/>\n       <use x=\"149.720703\" xlink:href=\"#DejaVuSans-105\"/>\n       <use x=\"177.503906\" xlink:href=\"#DejaVuSans-100\"/>\n       <use x=\"240.980469\" xlink:href=\"#DejaVuSans-97\"/>\n       <use x=\"302.259766\" xlink:href=\"#DejaVuSans-116\"/>\n       <use x=\"341.46875\" xlink:href=\"#DejaVuSans-105\"/>\n       <use x=\"369.251953\" xlink:href=\"#DejaVuSans-111\"/>\n       <use x=\"430.433594\" xlink:href=\"#DejaVuSans-110\"/>\n       <use x=\"493.8125\" xlink:href=\"#DejaVuSans-32\"/>\n       <use x=\"525.599609\" xlink:href=\"#DejaVuSans-83\"/>\n       <use x=\"589.076172\" xlink:href=\"#DejaVuSans-99\"/>\n       <use x=\"644.056641\" xlink:href=\"#DejaVuSans-111\"/>\n       <use x=\"705.238281\" xlink:href=\"#DejaVuSans-114\"/>\n       <use x=\"744.101562\" xlink:href=\"#DejaVuSans-101\"/>\n      </g>\n     </g>\n    </g>\n   </g>\n   <g id=\"matplotlib.axis_2\">\n    <g id=\"ytick_1\">\n     <g id=\"line2d_1\">\n      <path clip-path=\"url(#p396cfed460)\" d=\"M 34.89675 197.468108 \nL 330.308515 197.468108 \n\" style=\"fill:none;stroke:#cccccc;stroke-linecap:round;\"/>\n     </g>\n     <g id=\"text_3\">\n      <!-- 70 -->\n      <g style=\"fill:#262626;\" transform=\"translate(7.2 202.900991)scale(0.143 -0.143)\">\n       <defs>\n        <path d=\"M 8.203125 72.90625 \nL 55.078125 72.90625 \nL 55.078125 68.703125 \nL 28.609375 0 \nL 18.3125 0 \nL 43.21875 64.59375 \nL 8.203125 64.59375 \nz\n\" id=\"DejaVuSans-55\"/>\n        <path d=\"M 31.78125 66.40625 \nQ 24.171875 66.40625 20.328125 58.90625 \nQ 16.5 51.421875 16.5 36.375 \nQ 16.5 21.390625 20.328125 13.890625 \nQ 24.171875 6.390625 31.78125 6.390625 \nQ 39.453125 6.390625 43.28125 13.890625 \nQ 47.125 21.390625 47.125 36.375 \nQ 47.125 51.421875 43.28125 58.90625 \nQ 39.453125 66.40625 31.78125 66.40625 \nz\nM 31.78125 74.21875 \nQ 44.046875 74.21875 50.515625 64.515625 \nQ 56.984375 54.828125 56.984375 36.375 \nQ 56.984375 17.96875 50.515625 8.265625 \nQ 44.046875 -1.421875 31.78125 -1.421875 \nQ 19.53125 -1.421875 13.0625 8.265625 \nQ 6.59375 17.96875 6.59375 36.375 \nQ 6.59375 54.828125 13.0625 64.515625 \nQ 19.53125 74.21875 31.78125 74.21875 \nz\n\" id=\"DejaVuSans-48\"/>\n       </defs>\n       <use xlink:href=\"#DejaVuSans-55\"/>\n       <use x=\"63.623047\" xlink:href=\"#DejaVuSans-48\"/>\n      </g>\n     </g>\n    </g>\n    <g id=\"ytick_2\">\n     <g id=\"line2d_2\">\n      <path clip-path=\"url(#p396cfed460)\" d=\"M 34.89675 135.969926 \nL 330.308515 135.969926 \n\" style=\"fill:none;stroke:#cccccc;stroke-linecap:round;\"/>\n     </g>\n     <g id=\"text_4\">\n      <!-- 80 -->\n      <g style=\"fill:#262626;\" transform=\"translate(7.2 141.402809)scale(0.143 -0.143)\">\n       <defs>\n        <path d=\"M 31.78125 34.625 \nQ 24.75 34.625 20.71875 30.859375 \nQ 16.703125 27.09375 16.703125 20.515625 \nQ 16.703125 13.921875 20.71875 10.15625 \nQ 24.75 6.390625 31.78125 6.390625 \nQ 38.8125 6.390625 42.859375 10.171875 \nQ 46.921875 13.96875 46.921875 20.515625 \nQ 46.921875 27.09375 42.890625 30.859375 \nQ 38.875 34.625 31.78125 34.625 \nz\nM 21.921875 38.8125 \nQ 15.578125 40.375 12.03125 44.71875 \nQ 8.5 49.078125 8.5 55.328125 \nQ 8.5 64.0625 14.71875 69.140625 \nQ 20.953125 74.21875 31.78125 74.21875 \nQ 42.671875 74.21875 48.875 69.140625 \nQ 55.078125 64.0625 55.078125 55.328125 \nQ 55.078125 49.078125 51.53125 44.71875 \nQ 48 40.375 41.703125 38.8125 \nQ 48.828125 37.15625 52.796875 32.3125 \nQ 56.78125 27.484375 56.78125 20.515625 \nQ 56.78125 9.90625 50.3125 4.234375 \nQ 43.84375 -1.421875 31.78125 -1.421875 \nQ 19.734375 -1.421875 13.25 4.234375 \nQ 6.78125 9.90625 6.78125 20.515625 \nQ 6.78125 27.484375 10.78125 32.3125 \nQ 14.796875 37.15625 21.921875 38.8125 \nz\nM 18.3125 54.390625 \nQ 18.3125 48.734375 21.84375 45.5625 \nQ 25.390625 42.390625 31.78125 42.390625 \nQ 38.140625 42.390625 41.71875 45.5625 \nQ 45.3125 48.734375 45.3125 54.390625 \nQ 45.3125 60.0625 41.71875 63.234375 \nQ 38.140625 66.40625 31.78125 66.40625 \nQ 25.390625 66.40625 21.84375 63.234375 \nQ 18.3125 60.0625 18.3125 54.390625 \nz\n\" id=\"DejaVuSans-56\"/>\n       </defs>\n       <use xlink:href=\"#DejaVuSans-56\"/>\n       <use x=\"63.623047\" xlink:href=\"#DejaVuSans-48\"/>\n      </g>\n     </g>\n    </g>\n    <g id=\"ytick_3\">\n     <g id=\"line2d_3\">\n      <path clip-path=\"url(#p396cfed460)\" d=\"M 34.89675 74.471744 \nL 330.308515 74.471744 \n\" style=\"fill:none;stroke:#cccccc;stroke-linecap:round;\"/>\n     </g>\n     <g id=\"text_5\">\n      <!-- 90 -->\n      <g style=\"fill:#262626;\" transform=\"translate(7.2 79.904627)scale(0.143 -0.143)\">\n       <defs>\n        <path d=\"M 10.984375 1.515625 \nL 10.984375 10.5 \nQ 14.703125 8.734375 18.5 7.8125 \nQ 22.3125 6.890625 25.984375 6.890625 \nQ 35.75 6.890625 40.890625 13.453125 \nQ 46.046875 20.015625 46.78125 33.40625 \nQ 43.953125 29.203125 39.59375 26.953125 \nQ 35.25 24.703125 29.984375 24.703125 \nQ 19.046875 24.703125 12.671875 31.3125 \nQ 6.296875 37.9375 6.296875 49.421875 \nQ 6.296875 60.640625 12.9375 67.421875 \nQ 19.578125 74.21875 30.609375 74.21875 \nQ 43.265625 74.21875 49.921875 64.515625 \nQ 56.59375 54.828125 56.59375 36.375 \nQ 56.59375 19.140625 48.40625 8.859375 \nQ 40.234375 -1.421875 26.421875 -1.421875 \nQ 22.703125 -1.421875 18.890625 -0.6875 \nQ 15.09375 0.046875 10.984375 1.515625 \nz\nM 30.609375 32.421875 \nQ 37.25 32.421875 41.125 36.953125 \nQ 45.015625 41.5 45.015625 49.421875 \nQ 45.015625 57.28125 41.125 61.84375 \nQ 37.25 66.40625 30.609375 66.40625 \nQ 23.96875 66.40625 20.09375 61.84375 \nQ 16.21875 57.28125 16.21875 49.421875 \nQ 16.21875 41.5 20.09375 36.953125 \nQ 23.96875 32.421875 30.609375 32.421875 \nz\n\" id=\"DejaVuSans-57\"/>\n       </defs>\n       <use xlink:href=\"#DejaVuSans-57\"/>\n       <use x=\"63.623047\" xlink:href=\"#DejaVuSans-48\"/>\n      </g>\n     </g>\n    </g>\n   </g>\n   <g id=\"patch_3\">\n    <path clip-path=\"url(#p396cfed460)\" d=\"M 49.667338 34.937199 \nL 167.832044 34.937199 \nL 167.832044 34.937199 \nL 49.667338 34.937199 \nL 49.667338 34.937199 \nz\n\" style=\"fill:#5875a4;stroke:#4c4c4c;stroke-linejoin:miter;stroke-width:1.5;\"/>\n   </g>\n   <g id=\"patch_4\">\n    <path clip-path=\"url(#p396cfed460)\" d=\"M 197.373221 217.967502 \nL 315.537926 217.967502 \nL 315.537926 203.325078 \nL 197.373221 203.325078 \nL 197.373221 217.967502 \nz\n\" style=\"fill:#cc8963;stroke:#4c4c4c;stroke-linejoin:miter;stroke-width:1.5;\"/>\n   </g>\n   <g id=\"line2d_4\">\n    <path clip-path=\"url(#p396cfed460)\" d=\"M 108.749691 34.937199 \nL 108.749691 34.937199 \n\" style=\"fill:none;stroke:#4c4c4c;stroke-linecap:round;stroke-width:1.5;\"/>\n   </g>\n   <g id=\"line2d_5\">\n    <path clip-path=\"url(#p396cfed460)\" d=\"M 108.749691 34.937199 \nL 108.749691 34.937199 \n\" style=\"fill:none;stroke:#4c4c4c;stroke-linecap:round;stroke-width:1.5;\"/>\n   </g>\n   <g id=\"line2d_6\">\n    <path clip-path=\"url(#p396cfed460)\" d=\"M 79.208515 34.937199 \nL 138.290868 34.937199 \n\" style=\"fill:none;stroke:#4c4c4c;stroke-linecap:round;stroke-width:1.5;\"/>\n   </g>\n   <g id=\"line2d_7\">\n    <path clip-path=\"url(#p396cfed460)\" d=\"M 79.208515 34.937199 \nL 138.290868 34.937199 \n\" style=\"fill:none;stroke:#4c4c4c;stroke-linecap:round;stroke-width:1.5;\"/>\n   </g>\n   <g id=\"line2d_8\"/>\n   <g id=\"line2d_9\">\n    <path clip-path=\"url(#p396cfed460)\" d=\"M 256.455574 217.967502 \nL 256.455574 232.609926 \n\" style=\"fill:none;stroke:#4c4c4c;stroke-linecap:round;stroke-width:1.5;\"/>\n   </g>\n   <g id=\"line2d_10\">\n    <path clip-path=\"url(#p396cfed460)\" d=\"M 256.455574 203.325078 \nL 256.455574 203.325078 \n\" style=\"fill:none;stroke:#4c4c4c;stroke-linecap:round;stroke-width:1.5;\"/>\n   </g>\n   <g id=\"line2d_11\">\n    <path clip-path=\"url(#p396cfed460)\" d=\"M 226.914397 232.609926 \nL 285.99675 232.609926 \n\" style=\"fill:none;stroke:#4c4c4c;stroke-linecap:round;stroke-width:1.5;\"/>\n   </g>\n   <g id=\"line2d_12\">\n    <path clip-path=\"url(#p396cfed460)\" d=\"M 226.914397 203.325078 \nL 285.99675 203.325078 \n\" style=\"fill:none;stroke:#4c4c4c;stroke-linecap:round;stroke-width:1.5;\"/>\n   </g>\n   <g id=\"line2d_13\"/>\n   <g id=\"line2d_14\">\n    <path clip-path=\"url(#p396cfed460)\" d=\"M 49.667338 34.937199 \nL 167.832044 34.937199 \n\" style=\"fill:none;stroke:#4c4c4c;stroke-linecap:round;stroke-width:1.5;\"/>\n   </g>\n   <g id=\"line2d_15\">\n    <path clip-path=\"url(#p396cfed460)\" d=\"M 197.373221 217.967502 \nL 315.537926 217.967502 \n\" style=\"fill:none;stroke:#4c4c4c;stroke-linecap:round;stroke-width:1.5;\"/>\n   </g>\n   <g id=\"patch_5\">\n    <path d=\"M 34.89675 242.493562 \nL 34.89675 25.053562 \n\" style=\"fill:none;stroke:#cccccc;stroke-linecap:square;stroke-linejoin:miter;stroke-width:1.25;\"/>\n   </g>\n   <g id=\"patch_6\">\n    <path d=\"M 330.308515 242.493562 \nL 330.308515 25.053562 \n\" style=\"fill:none;stroke:#cccccc;stroke-linecap:square;stroke-linejoin:miter;stroke-width:1.25;\"/>\n   </g>\n   <g id=\"patch_7\">\n    <path d=\"M 34.89675 242.493563 \nL 330.308515 242.493563 \n\" style=\"fill:none;stroke:#cccccc;stroke-linecap:square;stroke-linejoin:miter;stroke-width:1.25;\"/>\n   </g>\n   <g id=\"patch_8\">\n    <path d=\"M 34.89675 25.053563 \nL 330.308515 25.053563 \n\" style=\"fill:none;stroke:#cccccc;stroke-linecap:square;stroke-linejoin:miter;stroke-width:1.25;\"/>\n   </g>\n  </g>\n  <g id=\"axes_2\">\n   <g id=\"patch_9\">\n    <path d=\"M 389.390868 242.493563 \nL 625.720279 242.493563 \nL 625.720279 25.053563 \nL 389.390868 25.053563 \nz\n\" style=\"fill:#ffffff;\"/>\n   </g>\n   <g id=\"matplotlib.axis_3\">\n    <g id=\"xtick_3\">\n     <g id=\"text_6\">\n      <!-- CV -->\n      <g style=\"fill:#262626;\" transform=\"translate(418.895345 262.859328)scale(0.143 -0.143)\">\n       <defs>\n        <path d=\"M 64.40625 67.28125 \nL 64.40625 56.890625 \nQ 59.421875 61.53125 53.78125 63.8125 \nQ 48.140625 66.109375 41.796875 66.109375 \nQ 29.296875 66.109375 22.65625 58.46875 \nQ 16.015625 50.828125 16.015625 36.375 \nQ 16.015625 21.96875 22.65625 14.328125 \nQ 29.296875 6.6875 41.796875 6.6875 \nQ 48.140625 6.6875 53.78125 8.984375 \nQ 59.421875 11.28125 64.40625 15.921875 \nL 64.40625 5.609375 \nQ 59.234375 2.09375 53.4375 0.328125 \nQ 47.65625 -1.421875 41.21875 -1.421875 \nQ 24.65625 -1.421875 15.125 8.703125 \nQ 5.609375 18.84375 5.609375 36.375 \nQ 5.609375 53.953125 15.125 64.078125 \nQ 24.65625 74.21875 41.21875 74.21875 \nQ 47.75 74.21875 53.53125 72.484375 \nQ 59.328125 70.75 64.40625 67.28125 \nz\n\" id=\"DejaVuSans-67\"/>\n       </defs>\n       <use xlink:href=\"#DejaVuSans-67\"/>\n       <use x=\"69.824219\" xlink:href=\"#DejaVuSans-86\"/>\n      </g>\n     </g>\n    </g>\n    <g id=\"xtick_4\">\n     <g id=\"text_7\">\n      <!-- LX -->\n      <g style=\"fill:#262626;\" transform=\"translate(498.673933 262.859328)scale(0.143 -0.143)\">\n       <defs>\n        <path d=\"M 9.8125 72.90625 \nL 19.671875 72.90625 \nL 19.671875 8.296875 \nL 55.171875 8.296875 \nL 55.171875 0 \nL 9.8125 0 \nz\n\" id=\"DejaVuSans-76\"/>\n        <path d=\"M 6.296875 72.90625 \nL 16.890625 72.90625 \nL 35.015625 45.796875 \nL 53.21875 72.90625 \nL 63.8125 72.90625 \nL 40.375 37.890625 \nL 65.375 0 \nL 54.78125 0 \nL 34.28125 31 \nL 13.625 0 \nL 2.984375 0 \nL 29 38.921875 \nz\n\" id=\"DejaVuSans-88\"/>\n       </defs>\n       <use xlink:href=\"#DejaVuSans-76\"/>\n       <use x=\"55.712891\" xlink:href=\"#DejaVuSans-88\"/>\n      </g>\n     </g>\n    </g>\n    <g id=\"xtick_5\">\n     <g id=\"text_8\">\n      <!-- PL -->\n      <g style=\"fill:#262626;\" transform=\"translate(578.036927 262.859328)scale(0.143 -0.143)\">\n       <defs>\n        <path d=\"M 19.671875 64.796875 \nL 19.671875 37.40625 \nL 32.078125 37.40625 \nQ 38.96875 37.40625 42.71875 40.96875 \nQ 46.484375 44.53125 46.484375 51.125 \nQ 46.484375 57.671875 42.71875 61.234375 \nQ 38.96875 64.796875 32.078125 64.796875 \nz\nM 9.8125 72.90625 \nL 32.078125 72.90625 \nQ 44.34375 72.90625 50.609375 67.359375 \nQ 56.890625 61.8125 56.890625 51.125 \nQ 56.890625 40.328125 50.609375 34.8125 \nQ 44.34375 29.296875 32.078125 29.296875 \nL 19.671875 29.296875 \nL 19.671875 0 \nL 9.8125 0 \nz\n\" id=\"DejaVuSans-80\"/>\n       </defs>\n       <use xlink:href=\"#DejaVuSans-80\"/>\n       <use x=\"60.302734\" xlink:href=\"#DejaVuSans-76\"/>\n      </g>\n     </g>\n    </g>\n    <g id=\"text_9\">\n     <!-- Predicted class -->\n     <g style=\"fill:#262626;\" transform=\"translate(449.100667 281.686844)scale(0.156 -0.156)\">\n      <use xlink:href=\"#DejaVuSans-80\"/>\n      <use x=\"58.552734\" xlink:href=\"#DejaVuSans-114\"/>\n      <use x=\"97.416016\" xlink:href=\"#DejaVuSans-101\"/>\n      <use x=\"158.939453\" xlink:href=\"#DejaVuSans-100\"/>\n      <use x=\"222.416016\" xlink:href=\"#DejaVuSans-105\"/>\n      <use x=\"250.199219\" xlink:href=\"#DejaVuSans-99\"/>\n      <use x=\"305.179688\" xlink:href=\"#DejaVuSans-116\"/>\n      <use x=\"344.388672\" xlink:href=\"#DejaVuSans-101\"/>\n      <use x=\"405.912109\" xlink:href=\"#DejaVuSans-100\"/>\n      <use x=\"469.388672\" xlink:href=\"#DejaVuSans-32\"/>\n      <use x=\"501.175781\" xlink:href=\"#DejaVuSans-99\"/>\n      <use x=\"556.15625\" xlink:href=\"#DejaVuSans-108\"/>\n      <use x=\"583.939453\" xlink:href=\"#DejaVuSans-97\"/>\n      <use x=\"645.21875\" xlink:href=\"#DejaVuSans-115\"/>\n      <use x=\"697.318359\" xlink:href=\"#DejaVuSans-115\"/>\n     </g>\n    </g>\n   </g>\n   <g id=\"matplotlib.axis_4\">\n    <g id=\"ytick_4\">\n     <g id=\"text_10\">\n      <!-- CV -->\n      <g style=\"fill:#262626;\" transform=\"translate(376.916915 71.17732)rotate(-90)scale(0.143 -0.143)\">\n       <use xlink:href=\"#DejaVuSans-67\"/>\n       <use x=\"69.824219\" xlink:href=\"#DejaVuSans-86\"/>\n      </g>\n     </g>\n    </g>\n    <g id=\"ytick_5\">\n     <g id=\"text_11\">\n      <!-- LX -->\n      <g style=\"fill:#262626;\" transform=\"translate(376.916915 142.655203)rotate(-90)scale(0.143 -0.143)\">\n       <use xlink:href=\"#DejaVuSans-76\"/>\n       <use x=\"55.712891\" xlink:href=\"#DejaVuSans-88\"/>\n      </g>\n     </g>\n    </g>\n    <g id=\"ytick_6\">\n     <g id=\"text_12\">\n      <!-- PL -->\n      <g style=\"fill:#262626;\" transform=\"translate(376.916915 214.54868)rotate(-90)scale(0.143 -0.143)\">\n       <use xlink:href=\"#DejaVuSans-80\"/>\n       <use x=\"60.302734\" xlink:href=\"#DejaVuSans-76\"/>\n      </g>\n     </g>\n    </g>\n    <g id=\"text_13\">\n     <!-- True class -->\n     <g style=\"fill:#262626;\" transform=\"translate(358.806836 172.177594)rotate(-90)scale(0.156 -0.156)\">\n      <defs>\n       <path d=\"M 8.5 21.578125 \nL 8.5 54.6875 \nL 17.484375 54.6875 \nL 17.484375 21.921875 \nQ 17.484375 14.15625 20.5 10.265625 \nQ 23.53125 6.390625 29.59375 6.390625 \nQ 36.859375 6.390625 41.078125 11.03125 \nQ 45.3125 15.671875 45.3125 23.6875 \nL 45.3125 54.6875 \nL 54.296875 54.6875 \nL 54.296875 0 \nL 45.3125 0 \nL 45.3125 8.40625 \nQ 42.046875 3.421875 37.71875 1 \nQ 33.40625 -1.421875 27.6875 -1.421875 \nQ 18.265625 -1.421875 13.375 4.4375 \nQ 8.5 10.296875 8.5 21.578125 \nz\nM 31.109375 56 \nz\n\" id=\"DejaVuSans-117\"/>\n      </defs>\n      <use xlink:href=\"#DejaVuSans-84\"/>\n      <use x=\"46.333984\" xlink:href=\"#DejaVuSans-114\"/>\n      <use x=\"87.447266\" xlink:href=\"#DejaVuSans-117\"/>\n      <use x=\"150.826172\" xlink:href=\"#DejaVuSans-101\"/>\n      <use x=\"212.349609\" xlink:href=\"#DejaVuSans-32\"/>\n      <use x=\"244.136719\" xlink:href=\"#DejaVuSans-99\"/>\n      <use x=\"299.117188\" xlink:href=\"#DejaVuSans-108\"/>\n      <use x=\"326.900391\" xlink:href=\"#DejaVuSans-97\"/>\n      <use x=\"388.179688\" xlink:href=\"#DejaVuSans-115\"/>\n      <use x=\"440.279297\" xlink:href=\"#DejaVuSans-115\"/>\n     </g>\n    </g>\n   </g>\n   <g id=\"QuadMesh_1\">\n    <path clip-path=\"url(#pa4817fbf1d)\" d=\"M 389.390868 25.053563 \nL 468.167338 25.053563 \nL 468.167338 97.533563 \nL 389.390868 97.533563 \nL 389.390868 25.053563 \n\" style=\"fill:#cbe982;\"/>\n    <path clip-path=\"url(#pa4817fbf1d)\" d=\"M 468.167338 25.053563 \nL 546.943809 25.053563 \nL 546.943809 97.533563 \nL 468.167338 97.533563 \nL 468.167338 25.053563 \n\" style=\"fill:#a50026;\"/>\n    <path clip-path=\"url(#pa4817fbf1d)\" d=\"M 546.943809 25.053563 \nL 625.720279 25.053563 \nL 625.720279 97.533563 \nL 546.943809 97.533563 \nL 546.943809 25.053563 \n\" style=\"fill:#b91326;\"/>\n    <path clip-path=\"url(#pa4817fbf1d)\" d=\"M 389.390868 97.533563 \nL 468.167338 97.533563 \nL 468.167338 170.013563 \nL 389.390868 170.013563 \nL 389.390868 97.533563 \n\" style=\"fill:#a50026;\"/>\n    <path clip-path=\"url(#pa4817fbf1d)\" d=\"M 468.167338 97.533563 \nL 546.943809 97.533563 \nL 546.943809 170.013563 \nL 468.167338 170.013563 \nL 468.167338 97.533563 \n\" style=\"fill:#cbe982;\"/>\n    <path clip-path=\"url(#pa4817fbf1d)\" d=\"M 546.943809 97.533563 \nL 625.720279 97.533563 \nL 625.720279 170.013563 \nL 546.943809 170.013563 \nL 546.943809 97.533563 \n\" style=\"fill:#ab0626;\"/>\n    <path clip-path=\"url(#pa4817fbf1d)\" d=\"M 389.390868 170.013563 \nL 468.167338 170.013563 \nL 468.167338 242.493563 \nL 389.390868 242.493563 \nL 389.390868 170.013563 \n\" style=\"fill:#b30d26;\"/>\n    <path clip-path=\"url(#pa4817fbf1d)\" d=\"M 468.167338 170.013563 \nL 546.943809 170.013563 \nL 546.943809 242.493563 \nL 468.167338 242.493563 \nL 468.167338 170.013563 \n\" style=\"fill:#a50026;\"/>\n    <path clip-path=\"url(#pa4817fbf1d)\" d=\"M 546.943809 170.013563 \nL 625.720279 170.013563 \nL 625.720279 242.493563 \nL 546.943809 242.493563 \nL 546.943809 170.013563 \n\" style=\"fill:#006837;\"/>\n   </g>\n   <g id=\"text_14\">\n    <!-- 45 -->\n    <g style=\"fill:#262626;\" transform=\"translate(418.853603 65.598188)scale(0.156 -0.156)\">\n     <defs>\n      <path d=\"M 37.796875 64.3125 \nL 12.890625 25.390625 \nL 37.796875 25.390625 \nz\nM 35.203125 72.90625 \nL 47.609375 72.90625 \nL 47.609375 25.390625 \nL 58.015625 25.390625 \nL 58.015625 17.1875 \nL 47.609375 17.1875 \nL 47.609375 0 \nL 37.796875 0 \nL 37.796875 17.1875 \nL 4.890625 17.1875 \nL 4.890625 26.703125 \nz\n\" id=\"DejaVuSans-52\"/>\n      <path d=\"M 10.796875 72.90625 \nL 49.515625 72.90625 \nL 49.515625 64.59375 \nL 19.828125 64.59375 \nL 19.828125 46.734375 \nQ 21.96875 47.46875 24.109375 47.828125 \nQ 26.265625 48.1875 28.421875 48.1875 \nQ 40.625 48.1875 47.75 41.5 \nQ 54.890625 34.8125 54.890625 23.390625 \nQ 54.890625 11.625 47.5625 5.09375 \nQ 40.234375 -1.421875 26.90625 -1.421875 \nQ 22.3125 -1.421875 17.546875 -0.640625 \nQ 12.796875 0.140625 7.71875 1.703125 \nL 7.71875 11.625 \nQ 12.109375 9.234375 16.796875 8.0625 \nQ 21.484375 6.890625 26.703125 6.890625 \nQ 35.15625 6.890625 40.078125 11.328125 \nQ 45.015625 15.765625 45.015625 23.390625 \nQ 45.015625 31 40.078125 35.4375 \nQ 35.15625 39.890625 26.703125 39.890625 \nQ 22.75 39.890625 18.8125 39.015625 \nQ 14.890625 38.140625 10.796875 36.28125 \nz\n\" id=\"DejaVuSans-53\"/>\n     </defs>\n     <use xlink:href=\"#DejaVuSans-52\"/>\n     <use x=\"63.623047\" xlink:href=\"#DejaVuSans-53\"/>\n    </g>\n   </g>\n   <g id=\"text_15\">\n    <!-- 0 -->\n    <g style=\"fill:#ffffff;\" transform=\"translate(502.592824 65.598188)scale(0.156 -0.156)\">\n     <use xlink:href=\"#DejaVuSans-48\"/>\n    </g>\n   </g>\n   <g id=\"text_16\">\n    <!-- 3 -->\n    <g style=\"fill:#ffffff;\" transform=\"translate(581.369294 65.598188)scale(0.156 -0.156)\">\n     <defs>\n      <path d=\"M 40.578125 39.3125 \nQ 47.65625 37.796875 51.625 33 \nQ 55.609375 28.21875 55.609375 21.1875 \nQ 55.609375 10.40625 48.1875 4.484375 \nQ 40.765625 -1.421875 27.09375 -1.421875 \nQ 22.515625 -1.421875 17.65625 -0.515625 \nQ 12.796875 0.390625 7.625 2.203125 \nL 7.625 11.71875 \nQ 11.71875 9.328125 16.59375 8.109375 \nQ 21.484375 6.890625 26.8125 6.890625 \nQ 36.078125 6.890625 40.9375 10.546875 \nQ 45.796875 14.203125 45.796875 21.1875 \nQ 45.796875 27.640625 41.28125 31.265625 \nQ 36.765625 34.90625 28.71875 34.90625 \nL 20.21875 34.90625 \nL 20.21875 43.015625 \nL 29.109375 43.015625 \nQ 36.375 43.015625 40.234375 45.921875 \nQ 44.09375 48.828125 44.09375 54.296875 \nQ 44.09375 59.90625 40.109375 62.90625 \nQ 36.140625 65.921875 28.71875 65.921875 \nQ 24.65625 65.921875 20.015625 65.03125 \nQ 15.375 64.15625 9.8125 62.3125 \nL 9.8125 71.09375 \nQ 15.4375 72.65625 20.34375 73.4375 \nQ 25.25 74.21875 29.59375 74.21875 \nQ 40.828125 74.21875 47.359375 69.109375 \nQ 53.90625 64.015625 53.90625 55.328125 \nQ 53.90625 49.265625 50.4375 45.09375 \nQ 46.96875 40.921875 40.578125 39.3125 \nz\n\" id=\"DejaVuSans-51\"/>\n     </defs>\n     <use xlink:href=\"#DejaVuSans-51\"/>\n    </g>\n   </g>\n   <g id=\"text_17\">\n    <!-- 0 -->\n    <g style=\"fill:#ffffff;\" transform=\"translate(423.816353 138.078188)scale(0.156 -0.156)\">\n     <use xlink:href=\"#DejaVuSans-48\"/>\n    </g>\n   </g>\n   <g id=\"text_18\">\n    <!-- 45 -->\n    <g style=\"fill:#262626;\" transform=\"translate(497.630074 138.078188)scale(0.156 -0.156)\">\n     <use xlink:href=\"#DejaVuSans-52\"/>\n     <use x=\"63.623047\" xlink:href=\"#DejaVuSans-53\"/>\n    </g>\n   </g>\n   <g id=\"text_19\">\n    <!-- 1 -->\n    <g style=\"fill:#ffffff;\" transform=\"translate(581.369294 138.078188)scale(0.156 -0.156)\">\n     <defs>\n      <path d=\"M 12.40625 8.296875 \nL 28.515625 8.296875 \nL 28.515625 63.921875 \nL 10.984375 60.40625 \nL 10.984375 69.390625 \nL 28.421875 72.90625 \nL 38.28125 72.90625 \nL 38.28125 8.296875 \nL 54.390625 8.296875 \nL 54.390625 0 \nL 12.40625 0 \nz\n\" id=\"DejaVuSans-49\"/>\n     </defs>\n     <use xlink:href=\"#DejaVuSans-49\"/>\n    </g>\n   </g>\n   <g id=\"text_20\">\n    <!-- 2 -->\n    <g style=\"fill:#ffffff;\" transform=\"translate(423.816353 210.558188)scale(0.156 -0.156)\">\n     <defs>\n      <path d=\"M 19.1875 8.296875 \nL 53.609375 8.296875 \nL 53.609375 0 \nL 7.328125 0 \nL 7.328125 8.296875 \nQ 12.9375 14.109375 22.625 23.890625 \nQ 32.328125 33.6875 34.8125 36.53125 \nQ 39.546875 41.84375 41.421875 45.53125 \nQ 43.3125 49.21875 43.3125 52.78125 \nQ 43.3125 58.59375 39.234375 62.25 \nQ 35.15625 65.921875 28.609375 65.921875 \nQ 23.96875 65.921875 18.8125 64.3125 \nQ 13.671875 62.703125 7.8125 59.421875 \nL 7.8125 69.390625 \nQ 13.765625 71.78125 18.9375 73 \nQ 24.125 74.21875 28.421875 74.21875 \nQ 39.75 74.21875 46.484375 68.546875 \nQ 53.21875 62.890625 53.21875 53.421875 \nQ 53.21875 48.921875 51.53125 44.890625 \nQ 49.859375 40.875 45.40625 35.40625 \nQ 44.1875 33.984375 37.640625 27.21875 \nQ 31.109375 20.453125 19.1875 8.296875 \nz\n\" id=\"DejaVuSans-50\"/>\n     </defs>\n     <use xlink:href=\"#DejaVuSans-50\"/>\n    </g>\n   </g>\n   <g id=\"text_21\">\n    <!-- 0 -->\n    <g style=\"fill:#ffffff;\" transform=\"translate(502.592824 210.558188)scale(0.156 -0.156)\">\n     <use xlink:href=\"#DejaVuSans-48\"/>\n    </g>\n   </g>\n   <g id=\"text_22\">\n    <!-- 72 -->\n    <g style=\"fill:#ffffff;\" transform=\"translate(576.406544 210.558188)scale(0.156 -0.156)\">\n     <use xlink:href=\"#DejaVuSans-55\"/>\n     <use x=\"63.623047\" xlink:href=\"#DejaVuSans-50\"/>\n    </g>\n   </g>\n   <g id=\"text_23\">\n    <!-- Training CF -->\n    <g style=\"fill:#262626;\" transform=\"translate(464.371605 19.053563)scale(0.156 -0.156)\">\n     <defs>\n      <path d=\"M 45.40625 27.984375 \nQ 45.40625 37.75 41.375 43.109375 \nQ 37.359375 48.484375 30.078125 48.484375 \nQ 22.859375 48.484375 18.828125 43.109375 \nQ 14.796875 37.75 14.796875 27.984375 \nQ 14.796875 18.265625 18.828125 12.890625 \nQ 22.859375 7.515625 30.078125 7.515625 \nQ 37.359375 7.515625 41.375 12.890625 \nQ 45.40625 18.265625 45.40625 27.984375 \nz\nM 54.390625 6.78125 \nQ 54.390625 -7.171875 48.1875 -13.984375 \nQ 42 -20.796875 29.203125 -20.796875 \nQ 24.46875 -20.796875 20.265625 -20.09375 \nQ 16.0625 -19.390625 12.109375 -17.921875 \nL 12.109375 -9.1875 \nQ 16.0625 -11.328125 19.921875 -12.34375 \nQ 23.78125 -13.375 27.78125 -13.375 \nQ 36.625 -13.375 41.015625 -8.765625 \nQ 45.40625 -4.15625 45.40625 5.171875 \nL 45.40625 9.625 \nQ 42.625 4.78125 38.28125 2.390625 \nQ 33.9375 0 27.875 0 \nQ 17.828125 0 11.671875 7.65625 \nQ 5.515625 15.328125 5.515625 27.984375 \nQ 5.515625 40.671875 11.671875 48.328125 \nQ 17.828125 56 27.875 56 \nQ 33.9375 56 38.28125 53.609375 \nQ 42.625 51.21875 45.40625 46.390625 \nL 45.40625 54.6875 \nL 54.390625 54.6875 \nz\n\" id=\"DejaVuSans-103\"/>\n      <path d=\"M 9.8125 72.90625 \nL 51.703125 72.90625 \nL 51.703125 64.59375 \nL 19.671875 64.59375 \nL 19.671875 43.109375 \nL 48.578125 43.109375 \nL 48.578125 34.8125 \nL 19.671875 34.8125 \nL 19.671875 0 \nL 9.8125 0 \nz\n\" id=\"DejaVuSans-70\"/>\n     </defs>\n     <use xlink:href=\"#DejaVuSans-84\"/>\n     <use x=\"46.333984\" xlink:href=\"#DejaVuSans-114\"/>\n     <use x=\"87.447266\" xlink:href=\"#DejaVuSans-97\"/>\n     <use x=\"148.726562\" xlink:href=\"#DejaVuSans-105\"/>\n     <use x=\"176.509766\" xlink:href=\"#DejaVuSans-110\"/>\n     <use x=\"239.888672\" xlink:href=\"#DejaVuSans-105\"/>\n     <use x=\"267.671875\" xlink:href=\"#DejaVuSans-110\"/>\n     <use x=\"331.050781\" xlink:href=\"#DejaVuSans-103\"/>\n     <use x=\"394.527344\" xlink:href=\"#DejaVuSans-32\"/>\n     <use x=\"426.314453\" xlink:href=\"#DejaVuSans-67\"/>\n     <use x=\"496.138672\" xlink:href=\"#DejaVuSans-70\"/>\n    </g>\n   </g>\n  </g>\n  <g id=\"axes_3\">\n   <g id=\"patch_10\">\n    <path d=\"M 743.884985 242.493563 \nL 980.214397 242.493563 \nL 980.214397 25.053563 \nL 743.884985 25.053563 \nz\n\" style=\"fill:#ffffff;\"/>\n   </g>\n   <g id=\"matplotlib.axis_5\">\n    <g id=\"xtick_6\">\n     <g id=\"text_24\">\n      <!-- CV -->\n      <g style=\"fill:#262626;\" transform=\"translate(773.389463 262.859328)scale(0.143 -0.143)\">\n       <use xlink:href=\"#DejaVuSans-67\"/>\n       <use x=\"69.824219\" xlink:href=\"#DejaVuSans-86\"/>\n      </g>\n     </g>\n    </g>\n    <g id=\"xtick_7\">\n     <g id=\"text_25\">\n      <!-- LX -->\n      <g style=\"fill:#262626;\" transform=\"translate(853.168051 262.859328)scale(0.143 -0.143)\">\n       <use xlink:href=\"#DejaVuSans-76\"/>\n       <use x=\"55.712891\" xlink:href=\"#DejaVuSans-88\"/>\n      </g>\n     </g>\n    </g>\n    <g id=\"xtick_8\">\n     <g id=\"text_26\">\n      <!-- PL -->\n      <g style=\"fill:#262626;\" transform=\"translate(932.531045 262.859328)scale(0.143 -0.143)\">\n       <use xlink:href=\"#DejaVuSans-80\"/>\n       <use x=\"60.302734\" xlink:href=\"#DejaVuSans-76\"/>\n      </g>\n     </g>\n    </g>\n    <g id=\"text_27\">\n     <!-- Predicted class -->\n     <g style=\"fill:#262626;\" transform=\"translate(803.594785 281.686844)scale(0.156 -0.156)\">\n      <use xlink:href=\"#DejaVuSans-80\"/>\n      <use x=\"58.552734\" xlink:href=\"#DejaVuSans-114\"/>\n      <use x=\"97.416016\" xlink:href=\"#DejaVuSans-101\"/>\n      <use x=\"158.939453\" xlink:href=\"#DejaVuSans-100\"/>\n      <use x=\"222.416016\" xlink:href=\"#DejaVuSans-105\"/>\n      <use x=\"250.199219\" xlink:href=\"#DejaVuSans-99\"/>\n      <use x=\"305.179688\" xlink:href=\"#DejaVuSans-116\"/>\n      <use x=\"344.388672\" xlink:href=\"#DejaVuSans-101\"/>\n      <use x=\"405.912109\" xlink:href=\"#DejaVuSans-100\"/>\n      <use x=\"469.388672\" xlink:href=\"#DejaVuSans-32\"/>\n      <use x=\"501.175781\" xlink:href=\"#DejaVuSans-99\"/>\n      <use x=\"556.15625\" xlink:href=\"#DejaVuSans-108\"/>\n      <use x=\"583.939453\" xlink:href=\"#DejaVuSans-97\"/>\n      <use x=\"645.21875\" xlink:href=\"#DejaVuSans-115\"/>\n      <use x=\"697.318359\" xlink:href=\"#DejaVuSans-115\"/>\n     </g>\n    </g>\n   </g>\n   <g id=\"matplotlib.axis_6\">\n    <g id=\"ytick_7\">\n     <g id=\"text_28\">\n      <!-- CV -->\n      <g style=\"fill:#262626;\" transform=\"translate(731.411032 71.17732)rotate(-90)scale(0.143 -0.143)\">\n       <use xlink:href=\"#DejaVuSans-67\"/>\n       <use x=\"69.824219\" xlink:href=\"#DejaVuSans-86\"/>\n      </g>\n     </g>\n    </g>\n    <g id=\"ytick_8\">\n     <g id=\"text_29\">\n      <!-- LX -->\n      <g style=\"fill:#262626;\" transform=\"translate(731.411032 142.655203)rotate(-90)scale(0.143 -0.143)\">\n       <use xlink:href=\"#DejaVuSans-76\"/>\n       <use x=\"55.712891\" xlink:href=\"#DejaVuSans-88\"/>\n      </g>\n     </g>\n    </g>\n    <g id=\"ytick_9\">\n     <g id=\"text_30\">\n      <!-- PL -->\n      <g style=\"fill:#262626;\" transform=\"translate(731.411032 214.54868)rotate(-90)scale(0.143 -0.143)\">\n       <use xlink:href=\"#DejaVuSans-80\"/>\n       <use x=\"60.302734\" xlink:href=\"#DejaVuSans-76\"/>\n      </g>\n     </g>\n    </g>\n    <g id=\"text_31\">\n     <!-- True class -->\n     <g style=\"fill:#262626;\" transform=\"translate(713.300954 172.177594)rotate(-90)scale(0.156 -0.156)\">\n      <use xlink:href=\"#DejaVuSans-84\"/>\n      <use x=\"46.333984\" xlink:href=\"#DejaVuSans-114\"/>\n      <use x=\"87.447266\" xlink:href=\"#DejaVuSans-117\"/>\n      <use x=\"150.826172\" xlink:href=\"#DejaVuSans-101\"/>\n      <use x=\"212.349609\" xlink:href=\"#DejaVuSans-32\"/>\n      <use x=\"244.136719\" xlink:href=\"#DejaVuSans-99\"/>\n      <use x=\"299.117188\" xlink:href=\"#DejaVuSans-108\"/>\n      <use x=\"326.900391\" xlink:href=\"#DejaVuSans-97\"/>\n      <use x=\"388.179688\" xlink:href=\"#DejaVuSans-115\"/>\n      <use x=\"440.279297\" xlink:href=\"#DejaVuSans-115\"/>\n     </g>\n    </g>\n   </g>\n   <g id=\"QuadMesh_2\">\n    <path clip-path=\"url(#p0b39501e02)\" d=\"M 743.884985 25.053563 \nL 822.661456 25.053563 \nL 822.661456 97.533563 \nL 743.884985 97.533563 \nL 743.884985 25.053563 \n\" style=\"fill:#fff3ac;\"/>\n    <path clip-path=\"url(#p0b39501e02)\" d=\"M 822.661456 25.053563 \nL 901.437926 25.053563 \nL 901.437926 97.533563 \nL 822.661456 97.533563 \nL 822.661456 25.053563 \n\" style=\"fill:#a50026;\"/>\n    <path clip-path=\"url(#p0b39501e02)\" d=\"M 901.437926 25.053563 \nL 980.214397 25.053563 \nL 980.214397 97.533563 \nL 901.437926 97.533563 \nL 901.437926 25.053563 \n\" style=\"fill:#f7814c;\"/>\n    <path clip-path=\"url(#p0b39501e02)\" d=\"M 743.884985 97.533563 \nL 822.661456 97.533563 \nL 822.661456 170.013563 \nL 743.884985 170.013563 \nL 743.884985 97.533563 \n\" style=\"fill:#ca2427;\"/>\n    <path clip-path=\"url(#p0b39501e02)\" d=\"M 822.661456 97.533563 \nL 901.437926 97.533563 \nL 901.437926 170.013563 \nL 822.661456 170.013563 \nL 822.661456 97.533563 \n\" style=\"fill:#f1f9ac;\"/>\n    <path clip-path=\"url(#p0b39501e02)\" d=\"M 901.437926 97.533563 \nL 980.214397 97.533563 \nL 980.214397 170.013563 \nL 901.437926 170.013563 \nL 901.437926 97.533563 \n\" style=\"fill:#ca2427;\"/>\n    <path clip-path=\"url(#p0b39501e02)\" d=\"M 743.884985 170.013563 \nL 822.661456 170.013563 \nL 822.661456 242.493563 \nL 743.884985 242.493563 \nL 743.884985 170.013563 \n\" style=\"fill:#e65036;\"/>\n    <path clip-path=\"url(#p0b39501e02)\" d=\"M 822.661456 170.013563 \nL 901.437926 170.013563 \nL 901.437926 242.493563 \nL 822.661456 242.493563 \nL 822.661456 170.013563 \n\" style=\"fill:#a50026;\"/>\n    <path clip-path=\"url(#p0b39501e02)\" d=\"M 901.437926 170.013563 \nL 980.214397 170.013563 \nL 980.214397 242.493563 \nL 901.437926 242.493563 \nL 901.437926 170.013563 \n\" style=\"fill:#006837;\"/>\n   </g>\n   <g id=\"text_32\">\n    <!-- 7 -->\n    <g style=\"fill:#262626;\" transform=\"translate(778.310471 65.598188)scale(0.156 -0.156)\">\n     <use xlink:href=\"#DejaVuSans-55\"/>\n    </g>\n   </g>\n   <g id=\"text_33\">\n    <!-- 1 -->\n    <g style=\"fill:#ffffff;\" transform=\"translate(857.086941 65.598188)scale(0.156 -0.156)\">\n     <use xlink:href=\"#DejaVuSans-49\"/>\n    </g>\n   </g>\n   <g id=\"text_34\">\n    <!-- 4 -->\n    <g style=\"fill:#ffffff;\" transform=\"translate(935.863412 65.598188)scale(0.156 -0.156)\">\n     <use xlink:href=\"#DejaVuSans-52\"/>\n    </g>\n   </g>\n   <g id=\"text_35\">\n    <!-- 2 -->\n    <g style=\"fill:#ffffff;\" transform=\"translate(778.310471 138.078188)scale(0.156 -0.156)\">\n     <use xlink:href=\"#DejaVuSans-50\"/>\n    </g>\n   </g>\n   <g id=\"text_36\">\n    <!-- 8 -->\n    <g style=\"fill:#262626;\" transform=\"translate(857.086941 138.078188)scale(0.156 -0.156)\">\n     <use xlink:href=\"#DejaVuSans-56\"/>\n    </g>\n   </g>\n   <g id=\"text_37\">\n    <!-- 2 -->\n    <g style=\"fill:#ffffff;\" transform=\"translate(935.863412 138.078188)scale(0.156 -0.156)\">\n     <use xlink:href=\"#DejaVuSans-50\"/>\n    </g>\n   </g>\n   <g id=\"text_38\">\n    <!-- 3 -->\n    <g style=\"fill:#ffffff;\" transform=\"translate(778.310471 210.558188)scale(0.156 -0.156)\">\n     <use xlink:href=\"#DejaVuSans-51\"/>\n    </g>\n   </g>\n   <g id=\"text_39\">\n    <!-- 1 -->\n    <g style=\"fill:#ffffff;\" transform=\"translate(857.086941 210.558188)scale(0.156 -0.156)\">\n     <use xlink:href=\"#DejaVuSans-49\"/>\n    </g>\n   </g>\n   <g id=\"text_40\">\n    <!-- 14 -->\n    <g style=\"fill:#ffffff;\" transform=\"translate(930.900662 210.558188)scale(0.156 -0.156)\">\n     <use xlink:href=\"#DejaVuSans-49\"/>\n     <use x=\"63.623047\" xlink:href=\"#DejaVuSans-52\"/>\n    </g>\n   </g>\n   <g id=\"text_41\">\n    <!-- Validation CF -->\n    <g style=\"fill:#262626;\" transform=\"translate(811.120566 19.053563)scale(0.156 -0.156)\">\n     <use xlink:href=\"#DejaVuSans-86\"/>\n     <use x=\"60.658203\" xlink:href=\"#DejaVuSans-97\"/>\n     <use x=\"121.9375\" xlink:href=\"#DejaVuSans-108\"/>\n     <use x=\"149.720703\" xlink:href=\"#DejaVuSans-105\"/>\n     <use x=\"177.503906\" xlink:href=\"#DejaVuSans-100\"/>\n     <use x=\"240.980469\" xlink:href=\"#DejaVuSans-97\"/>\n     <use x=\"302.259766\" xlink:href=\"#DejaVuSans-116\"/>\n     <use x=\"341.46875\" xlink:href=\"#DejaVuSans-105\"/>\n     <use x=\"369.251953\" xlink:href=\"#DejaVuSans-111\"/>\n     <use x=\"430.433594\" xlink:href=\"#DejaVuSans-110\"/>\n     <use x=\"493.8125\" xlink:href=\"#DejaVuSans-32\"/>\n     <use x=\"525.599609\" xlink:href=\"#DejaVuSans-67\"/>\n     <use x=\"595.423828\" xlink:href=\"#DejaVuSans-70\"/>\n    </g>\n   </g>\n  </g>\n  <g id=\"axes_4\">\n   <g id=\"patch_11\">\n    <path clip-path=\"url(#pe879dda471)\" d=\"M 640.490868 242.493563 \nL 640.490868 241.644188 \nL 640.490868 25.902938 \nL 640.490868 25.053563 \nL 651.362868 25.053563 \nL 651.362868 25.902938 \nL 651.362868 241.644188 \nL 651.362868 242.493563 \nz\n\" style=\"fill:#ffffff;stroke:#ffffff;stroke-linejoin:miter;stroke-width:0.01;\"/>\n   </g>\n   <g id=\"matplotlib.axis_7\"/>\n   <g id=\"matplotlib.axis_8\">\n    <g id=\"ytick_10\">\n     <g id=\"line2d_16\">\n      <defs>\n       <path d=\"M 0 0 \nL 6 0 \n\" id=\"m6d5e10c76f\" style=\"stroke:#262626;stroke-width:1.25;\"/>\n      </defs>\n      <g>\n       <use style=\"fill:#262626;stroke:#262626;stroke-width:1.25;\" x=\"651.362868\" xlink:href=\"#m6d5e10c76f\" y=\"242.493563\"/>\n      </g>\n     </g>\n     <g id=\"text_42\">\n      <!-- 0 -->\n      <g style=\"fill:#262626;\" transform=\"translate(660.862868 247.926445)scale(0.143 -0.143)\">\n       <use xlink:href=\"#DejaVuSans-48\"/>\n      </g>\n     </g>\n    </g>\n    <g id=\"ytick_11\">\n     <g id=\"line2d_17\">\n      <g>\n       <use style=\"fill:#262626;stroke:#262626;stroke-width:1.25;\" x=\"651.362868\" xlink:href=\"#m6d5e10c76f\" y=\"182.093563\"/>\n      </g>\n     </g>\n     <g id=\"text_43\">\n      <!-- 20 -->\n      <g style=\"fill:#262626;\" transform=\"translate(660.862868 187.526445)scale(0.143 -0.143)\">\n       <use xlink:href=\"#DejaVuSans-50\"/>\n       <use x=\"63.623047\" xlink:href=\"#DejaVuSans-48\"/>\n      </g>\n     </g>\n    </g>\n    <g id=\"ytick_12\">\n     <g id=\"line2d_18\">\n      <g>\n       <use style=\"fill:#262626;stroke:#262626;stroke-width:1.25;\" x=\"651.362868\" xlink:href=\"#m6d5e10c76f\" y=\"121.693563\"/>\n      </g>\n     </g>\n     <g id=\"text_44\">\n      <!-- 40 -->\n      <g style=\"fill:#262626;\" transform=\"translate(660.862868 127.126445)scale(0.143 -0.143)\">\n       <use xlink:href=\"#DejaVuSans-52\"/>\n       <use x=\"63.623047\" xlink:href=\"#DejaVuSans-48\"/>\n      </g>\n     </g>\n    </g>\n    <g id=\"ytick_13\">\n     <g id=\"line2d_19\">\n      <g>\n       <use style=\"fill:#262626;stroke:#262626;stroke-width:1.25;\" x=\"651.362868\" xlink:href=\"#m6d5e10c76f\" y=\"61.293563\"/>\n      </g>\n     </g>\n     <g id=\"text_45\">\n      <!-- 60 -->\n      <g style=\"fill:#262626;\" transform=\"translate(660.862868 66.726445)scale(0.143 -0.143)\">\n       <defs>\n        <path d=\"M 33.015625 40.375 \nQ 26.375 40.375 22.484375 35.828125 \nQ 18.609375 31.296875 18.609375 23.390625 \nQ 18.609375 15.53125 22.484375 10.953125 \nQ 26.375 6.390625 33.015625 6.390625 \nQ 39.65625 6.390625 43.53125 10.953125 \nQ 47.40625 15.53125 47.40625 23.390625 \nQ 47.40625 31.296875 43.53125 35.828125 \nQ 39.65625 40.375 33.015625 40.375 \nz\nM 52.59375 71.296875 \nL 52.59375 62.3125 \nQ 48.875 64.0625 45.09375 64.984375 \nQ 41.3125 65.921875 37.59375 65.921875 \nQ 27.828125 65.921875 22.671875 59.328125 \nQ 17.53125 52.734375 16.796875 39.40625 \nQ 19.671875 43.65625 24.015625 45.921875 \nQ 28.375 48.1875 33.59375 48.1875 \nQ 44.578125 48.1875 50.953125 41.515625 \nQ 57.328125 34.859375 57.328125 23.390625 \nQ 57.328125 12.15625 50.6875 5.359375 \nQ 44.046875 -1.421875 33.015625 -1.421875 \nQ 20.359375 -1.421875 13.671875 8.265625 \nQ 6.984375 17.96875 6.984375 36.375 \nQ 6.984375 53.65625 15.1875 63.9375 \nQ 23.390625 74.21875 37.203125 74.21875 \nQ 40.921875 74.21875 44.703125 73.484375 \nQ 48.484375 72.75 52.59375 71.296875 \nz\n\" id=\"DejaVuSans-54\"/>\n       </defs>\n       <use xlink:href=\"#DejaVuSans-54\"/>\n       <use x=\"63.623047\" xlink:href=\"#DejaVuSans-48\"/>\n      </g>\n     </g>\n    </g>\n   </g>\n   <image height=\"217\" id=\"imageb151963b09\" transform=\"scale(1 -1)translate(0 -217)\" width=\"11\" x=\"640\" xlink:href=\"data:image/png;base64,\niVBORw0KGgoAAAANSUhEUgAAAAsAAADZCAYAAAD2WsoCAAABVUlEQVR4nO2YwQ3DMAwDbcddpat3xySWu4KuwAFq0bwJgjrRgZP+Gs/dks8cIyul4nlYzkXEc1rOvXfJ+RtpiOI8ZpcGWHc/iBg5E/F45HGwzIyGiA4MyGhomYuggzQsdEM7KWjApsVoB4mhrbtp5UcDQmdCQ1t3Q+Vnzh6N/MVOLb9Fg3EG11y2bii2Wvf7A7Iz6NHwBvx342Pn/D0eOvcaYo9Gjcy9k4qyGL/ejaPGuol4ky/6vSMvXvvOi4M47wbEzJmIg8RYAWiIA7YlOaN1M85FuqGtGxUJokv/2IY07hoxoHMRGkUG1GiE9RYtQuMO9Ba1Yqy81nS+Ag0InOGAyJlkzje0zYuIWQwRHYgBByQxSJHMbgAxKj9a99KKtLTMJ2AnxvDQncCaFcmkYR0rSKPEBhGNi/R5E2dRTGgg57jJd0oRGpo4SPmLZBbXrbWuhvgNQNAvDzjwGYUAAAAASUVORK5CYII=\" y=\"-25\"/>\n   <g id=\"patch_12\">\n    <path d=\"M 640.490868 242.493563 \nL 640.490868 241.644188 \nL 640.490868 25.902938 \nL 640.490868 25.053563 \nL 651.362868 25.053563 \nL 651.362868 25.902938 \nL 651.362868 241.644188 \nL 651.362868 242.493563 \nz\n\" style=\"fill:none;\"/>\n   </g>\n  </g>\n  <g id=\"axes_5\">\n   <g id=\"patch_13\">\n    <path clip-path=\"url(#pbc2e6d122d)\" d=\"M 994.984985 242.493563 \nL 994.984985 241.644188 \nL 994.984985 25.902938 \nL 994.984985 25.053563 \nL 1005.856985 25.053563 \nL 1005.856985 25.902938 \nL 1005.856985 241.644188 \nL 1005.856985 242.493563 \nz\n\" style=\"fill:#ffffff;stroke:#ffffff;stroke-linejoin:miter;stroke-width:0.01;\"/>\n   </g>\n   <g id=\"matplotlib.axis_9\"/>\n   <g id=\"matplotlib.axis_10\">\n    <g id=\"ytick_14\">\n     <g id=\"line2d_20\">\n      <g>\n       <use style=\"fill:#262626;stroke:#262626;stroke-width:1.25;\" x=\"1005.856985\" xlink:href=\"#m6d5e10c76f\" y=\"225.767409\"/>\n      </g>\n     </g>\n     <g id=\"text_46\">\n      <!-- 2 -->\n      <g style=\"fill:#262626;\" transform=\"translate(1015.356985 231.200291)scale(0.143 -0.143)\">\n       <use xlink:href=\"#DejaVuSans-50\"/>\n      </g>\n     </g>\n    </g>\n    <g id=\"ytick_15\">\n     <g id=\"line2d_21\">\n      <g>\n       <use style=\"fill:#262626;stroke:#262626;stroke-width:1.25;\" x=\"1005.856985\" xlink:href=\"#m6d5e10c76f\" y=\"192.315101\"/>\n      </g>\n     </g>\n     <g id=\"text_47\">\n      <!-- 4 -->\n      <g style=\"fill:#262626;\" transform=\"translate(1015.356985 197.747984)scale(0.143 -0.143)\">\n       <use xlink:href=\"#DejaVuSans-52\"/>\n      </g>\n     </g>\n    </g>\n    <g id=\"ytick_16\">\n     <g id=\"line2d_22\">\n      <g>\n       <use style=\"fill:#262626;stroke:#262626;stroke-width:1.25;\" x=\"1005.856985\" xlink:href=\"#m6d5e10c76f\" y=\"158.862793\"/>\n      </g>\n     </g>\n     <g id=\"text_48\">\n      <!-- 6 -->\n      <g style=\"fill:#262626;\" transform=\"translate(1015.356985 164.295676)scale(0.143 -0.143)\">\n       <use xlink:href=\"#DejaVuSans-54\"/>\n      </g>\n     </g>\n    </g>\n    <g id=\"ytick_17\">\n     <g id=\"line2d_23\">\n      <g>\n       <use style=\"fill:#262626;stroke:#262626;stroke-width:1.25;\" x=\"1005.856985\" xlink:href=\"#m6d5e10c76f\" y=\"125.410486\"/>\n      </g>\n     </g>\n     <g id=\"text_49\">\n      <!-- 8 -->\n      <g style=\"fill:#262626;\" transform=\"translate(1015.356985 130.843368)scale(0.143 -0.143)\">\n       <use xlink:href=\"#DejaVuSans-56\"/>\n      </g>\n     </g>\n    </g>\n    <g id=\"ytick_18\">\n     <g id=\"line2d_24\">\n      <g>\n       <use style=\"fill:#262626;stroke:#262626;stroke-width:1.25;\" x=\"1005.856985\" xlink:href=\"#m6d5e10c76f\" y=\"91.958178\"/>\n      </g>\n     </g>\n     <g id=\"text_50\">\n      <!-- 10 -->\n      <g style=\"fill:#262626;\" transform=\"translate(1015.356985 97.391061)scale(0.143 -0.143)\">\n       <use xlink:href=\"#DejaVuSans-49\"/>\n       <use x=\"63.623047\" xlink:href=\"#DejaVuSans-48\"/>\n      </g>\n     </g>\n    </g>\n    <g id=\"ytick_19\">\n     <g id=\"line2d_25\">\n      <g>\n       <use style=\"fill:#262626;stroke:#262626;stroke-width:1.25;\" x=\"1005.856985\" xlink:href=\"#m6d5e10c76f\" y=\"58.50587\"/>\n      </g>\n     </g>\n     <g id=\"text_51\">\n      <!-- 12 -->\n      <g style=\"fill:#262626;\" transform=\"translate(1015.356985 63.938753)scale(0.143 -0.143)\">\n       <use xlink:href=\"#DejaVuSans-49\"/>\n       <use x=\"63.623047\" xlink:href=\"#DejaVuSans-50\"/>\n      </g>\n     </g>\n    </g>\n    <g id=\"ytick_20\">\n     <g id=\"line2d_26\">\n      <g>\n       <use style=\"fill:#262626;stroke:#262626;stroke-width:1.25;\" x=\"1005.856985\" xlink:href=\"#m6d5e10c76f\" y=\"25.053563\"/>\n      </g>\n     </g>\n     <g id=\"text_52\">\n      <!-- 14 -->\n      <g style=\"fill:#262626;\" transform=\"translate(1015.356985 30.486445)scale(0.143 -0.143)\">\n       <use xlink:href=\"#DejaVuSans-49\"/>\n       <use x=\"63.623047\" xlink:href=\"#DejaVuSans-52\"/>\n      </g>\n     </g>\n    </g>\n   </g>\n   <image height=\"217\" id=\"image32a081b9b4\" transform=\"scale(1 -1)translate(0 -217)\" width=\"11\" x=\"995\" xlink:href=\"data:image/png;base64,\niVBORw0KGgoAAAANSUhEUgAAAAsAAADZCAYAAAD2WsoCAAABVUlEQVR4nO2YwQ3DMAwDbcddpat3xySWu4KuwAFq0bwJgjrRgZP+Gs/dks8cIyul4nlYzkXEc1rOvXfJ+RtpiOI8ZpcGWHc/iBg5E/F45HGwzIyGiA4MyGhomYuggzQsdEM7KWjApsVoB4mhrbtp5UcDQmdCQ1t3Q+Vnzh6N/MVOLb9Fg3EG11y2bii2Wvf7A7Iz6NHwBvx342Pn/D0eOvcaYo9Gjcy9k4qyGL/ejaPGuol4ky/6vSMvXvvOi4M47wbEzJmIg8RYAWiIA7YlOaN1M85FuqGtGxUJokv/2IY07hoxoHMRGkUG1GiE9RYtQuMO9Ba1Yqy81nS+Ag0InOGAyJlkzje0zYuIWQwRHYgBByQxSJHMbgAxKj9a99KKtLTMJ2AnxvDQncCaFcmkYR0rSKPEBhGNi/R5E2dRTGgg57jJd0oRGpo4SPmLZBbXrbWuhvgNQNAvDzjwGYUAAAAASUVORK5CYII=\" y=\"-25\"/>\n   <g id=\"patch_14\">\n    <path d=\"M 994.984985 242.493563 \nL 994.984985 241.644188 \nL 994.984985 25.902938 \nL 994.984985 25.053563 \nL 1005.856985 25.053563 \nL 1005.856985 25.902938 \nL 1005.856985 241.644188 \nL 1005.856985 242.493563 \nz\n\" style=\"fill:none;\"/>\n   </g>\n  </g>\n </g>\n <defs>\n  <clipPath id=\"p396cfed460\">\n   <rect height=\"217.44\" width=\"295.411765\" x=\"34.89675\" y=\"25.053563\"/>\n  </clipPath>\n  <clipPath id=\"pa4817fbf1d\">\n   <rect height=\"217.44\" width=\"236.329412\" x=\"389.390868\" y=\"25.053563\"/>\n  </clipPath>\n  <clipPath id=\"p0b39501e02\">\n   <rect height=\"217.44\" width=\"236.329412\" x=\"743.884985\" y=\"25.053563\"/>\n  </clipPath>\n  <clipPath id=\"pe879dda471\">\n   <rect height=\"217.44\" width=\"10.872\" x=\"640.490868\" y=\"25.053563\"/>\n  </clipPath>\n  <clipPath id=\"pbc2e6d122d\">\n   <rect height=\"217.44\" width=\"10.872\" x=\"994.984985\" y=\"25.053563\"/>\n  </clipPath>\n </defs>\n</svg>\n",
      "image/png": "[encoded data removed]"
     },
     "metadata": {}
    }
   ],
   "metadata": {}
  }
 ],
 "metadata": {
  "orig_nbformat": 4,
  "language_info": {
   "name": "python",
   "version": "3.6.9",
   "mimetype": "text/x-python",
   "codemirror_mode": {
    "name": "ipython",
    "version": 3
   },
   "pygments_lexer": "ipython3",
   "nbconvert_exporter": "python",
   "file_extension": ".py"
  },
  "kernelspec": {
   "name": "python3",
   "display_name": "Python 3.6.9 64-bit"
  },
  "interpreter": {
   "hash": "31f2aee4e71d21fbe5cf8b01ff0e069b9275f58929596ceb00d14d90e3e16cd6"
  }
 },
 "nbformat": 4,
 "nbformat_minor": 2
}