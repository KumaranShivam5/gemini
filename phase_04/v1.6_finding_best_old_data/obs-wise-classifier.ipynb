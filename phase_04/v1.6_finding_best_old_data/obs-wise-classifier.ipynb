{
 "cells": [
  {
   "cell_type": "code",
   "execution_count": 1,
   "source": [
    "import numpy as np \n",
    "from matplotlib import pyplot as plt \n",
    "import seaborn as sns \n",
    "from tqdm import tqdm \n",
    "from sklearn.model_selection import train_test_split \n",
    "from sklearn.ensemble import RandomForestClassifier  , AdaBoostClassifier , GradientBoostingClassifier\n",
    "from sklearn.metrics import precision_score , recall_score \n",
    "import xgboost as xgb \n",
    "import pandas as pd \n",
    "import sklearn.neighbors._base\n",
    "from os import sys\n",
    "sys.modules['sklearn.neighbors.base'] = sklearn.neighbors._base\n",
    "from missingpy import MissForest \n",
    "from sklearn.metrics import confusion_matrix , ConfusionMatrixDisplay\n",
    "sns.set_style('whitegrid')\n",
    "%load_ext autoreload\n",
    "%autoreload 2\n",
    "sns.set_style('whitegrid')"
   ],
   "outputs": [],
   "metadata": {}
  },
  {
   "cell_type": "code",
   "execution_count": 2,
   "source": [
    "def details(data_sent , comments = ''):\n",
    "    if(comments):\n",
    "        print(comments)\n",
    "    sp = (data_sent.isna().sum().sum())/ data_sent.size\n",
    "    print('________________________________________________')\n",
    "    print('Sparsity in the data : {:.2f}'.format(sp))\n",
    "    num_rows = data_sent.shape\n",
    "    print('Data shape' , num_rows)\n",
    "    #display(data_sent['class'].value_counts())\n",
    "    print('Number of sources : ')\n",
    "    cl = data_sent['class'].unique()\n",
    "    for c in cl:\n",
    "        num_src = len(data_sent[data_sent['class']==c]['src_id'].unique())\n",
    "        num_obs = len(data_sent[data_sent['class']==c])\n",
    "        print(c ,' \\t ' , num_src , '\\t' , num_obs)"
   ],
   "outputs": [],
   "metadata": {}
  },
  {
   "cell_type": "code",
   "execution_count": 3,
   "source": [
    "from features import phot_flux , en_flux , hard, powlaw_fit , bb_fit , brems_fit , intra_obs_var , inter_ob_var , info_col , phot_flux_hilim , phot_flux_lolim , en_flux_hilim , en_flux_lolim"
   ],
   "outputs": [],
   "metadata": {}
  },
  {
   "cell_type": "code",
   "execution_count": 4,
   "source": [
    "data_imp_v2 = pd.read_csv('imputed_data/old-data-all-at-once-imp.csv' , index_col='obs_id')"
   ],
   "outputs": [],
   "metadata": {}
  },
  {
   "cell_type": "code",
   "execution_count": 5,
   "source": [
    "details(data_imp_v2)"
   ],
   "outputs": [
    {
     "output_type": "stream",
     "name": "stdout",
     "text": [
      "________________________________________________\n",
      "Sparsity in the data : 0.00\n",
      "Data shape (1812, 58)\n",
      "Number of sources : \n",
      "CV  \t  60 \t 994\n",
      "PL  \t  92 \t 297\n",
      "LX  \t  58 \t 521\n"
     ]
    }
   ],
   "metadata": {}
  },
  {
   "cell_type": "code",
   "execution_count": 6,
   "source": [
    "data_id = data_imp_v2[info_col]\n",
    "data_label = data_imp_v2['class']\n",
    "data_val = data_imp_v2.drop(columns=['class']+info_col)\n",
    "data_imp_norm = data_imp_v2.copy()\n",
    "for c in data_val.columns.to_list():\n",
    "    data_imp_norm.loc[:,c] = (data_imp_norm.loc[:,c] - data_imp_norm.loc[:,c].mean()) / data_imp_norm.loc[:,c].std()\n",
    "data_imp_norm"
   ],
   "outputs": [
    {
     "output_type": "execute_result",
     "data": {
      "text/plain": [
       "                src_id  num_obs                    src_n  \\\n",
       "obs_id                                                     \n",
       "CV_0_obs_0        CV_0       33  [HPH2013]_176__________   \n",
       "CV_0_obs_1        CV_0       33  [HPH2013]_176__________   \n",
       "CV_0_obs_2        CV_0       33  [HPH2013]_176__________   \n",
       "CV_0_obs_3        CV_0       33  [HPH2013]_176__________   \n",
       "CV_0_obs_4        CV_0       33  [HPH2013]_176__________   \n",
       "...                ...      ...                      ...   \n",
       "LMXB_86_obs_0  LMXB_86        1    SAX_J1810.8-2609_____   \n",
       "LMXB_90_obs_0  LMXB_90        1    XTE_J2123-058________   \n",
       "LMXB_91_obs_0  LMXB_91        1    XB_1732-304__________   \n",
       "LMXB_92_obs_0  LMXB_92        1    BW_ANT_______________   \n",
       "LMXB_94_obs_0  LMXB_94        1    J1748-3607___________   \n",
       "\n",
       "                                 name         ra        dec  livetime  \\\n",
       "obs_id                                                                  \n",
       "CV_0_obs_0      2CXO J004245.0+411520   10.68773  41.255820    4903.5   \n",
       "CV_0_obs_1      2CXO J004245.0+411520   10.68773  41.255820    3974.2   \n",
       "CV_0_obs_2      2CXO J004245.0+411520   10.68773  41.255820    3907.5   \n",
       "CV_0_obs_3      2CXO J004245.0+411520   10.68773  41.255820    3907.5   \n",
       "CV_0_obs_4      2CXO J004245.0+411520   10.68773  41.255820    3907.5   \n",
       "...                               ...        ...        ...       ...   \n",
       "LMXB_86_obs_0   2CXO J181044.4-260901  272.68530 -26.150370   31871.5   \n",
       "LMXB_90_obs_0   2CXO J212314.5-054753  320.81060  -5.798128   17705.1   \n",
       "LMXB_91_obs_0   2CXO J173547.0-302858  263.94590 -30.482820   18855.8   \n",
       "LMXB_92_obs_0   2CXO J092920.1-312303  142.33410 -31.384270   24445.9   \n",
       "LMXB_94_obs_0   2CXO J174813.1-360758  267.05470 -36.132810   15794.5   \n",
       "\n",
       "               significance  likelihood class  ...  var_prob_b  \\\n",
       "obs_id                                         ...               \n",
       "CV_0_obs_0            11.31   304.46460    CV  ...   -0.199756   \n",
       "CV_0_obs_1            11.31   304.46460    CV  ...    0.846163   \n",
       "CV_0_obs_2            11.31   304.46460    CV  ...    0.532613   \n",
       "CV_0_obs_3            11.31   304.46460    CV  ...    0.701297   \n",
       "CV_0_obs_4            11.31   304.46460    CV  ...    0.812733   \n",
       "...                     ...         ...   ...  ...         ...   \n",
       "LMXB_86_obs_0          9.29   512.97550    LX  ...   -1.342734   \n",
       "LMXB_90_obs_0          4.06   132.76700    LX  ...    1.732372   \n",
       "LMXB_91_obs_0          4.89   114.24570    LX  ...    0.218212   \n",
       "LMXB_92_obs_0          3.70    75.53454    LX  ...    0.881720   \n",
       "LMXB_94_obs_0          3.09    50.50810    LX  ...   -0.083769   \n",
       "\n",
       "               photflux_aper_s  var_inter_index_h  var_inter_index_m  \\\n",
       "obs_id                                                                 \n",
       "CV_0_obs_0            0.655713          -0.631091          -0.105345   \n",
       "CV_0_obs_1            0.340027          -0.328566          -0.340240   \n",
       "CV_0_obs_2            0.119252          -0.348735          -0.255417   \n",
       "CV_0_obs_3            0.473081          -0.342012          -0.248892   \n",
       "CV_0_obs_4            0.487160          -0.328566          -0.261942   \n",
       "...                        ...                ...                ...   \n",
       "LMXB_86_obs_0        -0.458230          -0.664705          -0.359815   \n",
       "LMXB_90_obs_0         0.032560          -0.671428          -0.327190   \n",
       "LMXB_91_obs_0         0.929292          -2.015982          -0.392439   \n",
       "LMXB_92_obs_0         0.522228          -0.671428          -0.307616   \n",
       "LMXB_94_obs_0         0.260359          -0.563863          -0.314141   \n",
       "\n",
       "               flux_aper_lolim_m  photflux_aper_lolim_m  flux_aper_s  \\\n",
       "obs_id                                                                 \n",
       "CV_0_obs_0              0.290384               0.214930     0.696829   \n",
       "CV_0_obs_1              0.229157               0.145562     0.455051   \n",
       "CV_0_obs_2              0.365590               0.296245     0.060531   \n",
       "CV_0_obs_3              0.370397               0.295653     0.513148   \n",
       "CV_0_obs_4              0.268815               0.174968     0.511412   \n",
       "...                          ...                    ...          ...   \n",
       "LMXB_86_obs_0          -0.197905              -0.220373    -0.356363   \n",
       "LMXB_90_obs_0           1.133357               1.175422     0.020873   \n",
       "LMXB_91_obs_0          -0.289868              -0.269120     0.983880   \n",
       "LMXB_92_obs_0           0.977963               0.985842     0.510162   \n",
       "LMXB_94_obs_0           0.886929               0.892265     0.346275   \n",
       "\n",
       "               photflux_aper_lolim_s  flux_aper_lolim_s  var_inter_index_s  \n",
       "obs_id                                                                      \n",
       "CV_0_obs_0                  0.475032           0.511814          -0.504025  \n",
       "CV_0_obs_1                  0.574090           0.628355          -0.475066  \n",
       "CV_0_obs_2                  1.119369           1.050563          -0.475066  \n",
       "CV_0_obs_3                  0.709489           0.717932          -0.480858  \n",
       "CV_0_obs_4                  0.664852           0.770695          -0.475066  \n",
       "...                              ...                ...                ...  \n",
       "LMXB_86_obs_0              -0.682126          -0.582366          -0.353440  \n",
       "LMXB_90_obs_0              -0.149931          -0.157346          -0.347648  \n",
       "LMXB_91_obs_0               1.147295           1.193074          -1.193241  \n",
       "LMXB_92_obs_0               0.365118           0.366638          -0.359231  \n",
       "LMXB_94_obs_0               0.111459           0.190424          -0.336064  \n",
       "\n",
       "[1812 rows x 58 columns]"
      ],
      "text/html": [
       "<div>\n",
       "<style scoped>\n",
       "    .dataframe tbody tr th:only-of-type {\n",
       "        vertical-align: middle;\n",
       "    }\n",
       "\n",
       "    .dataframe tbody tr th {\n",
       "        vertical-align: top;\n",
       "    }\n",
       "\n",
       "    .dataframe thead th {\n",
       "        text-align: right;\n",
       "    }\n",
       "</style>\n",
       "<table border=\"1\" class=\"dataframe\">\n",
       "  <thead>\n",
       "    <tr style=\"text-align: right;\">\n",
       "      <th></th>\n",
       "      <th>src_id</th>\n",
       "      <th>num_obs</th>\n",
       "      <th>src_n</th>\n",
       "      <th>name</th>\n",
       "      <th>ra</th>\n",
       "      <th>dec</th>\n",
       "      <th>livetime</th>\n",
       "      <th>significance</th>\n",
       "      <th>likelihood</th>\n",
       "      <th>class</th>\n",
       "      <th>...</th>\n",
       "      <th>var_prob_b</th>\n",
       "      <th>photflux_aper_s</th>\n",
       "      <th>var_inter_index_h</th>\n",
       "      <th>var_inter_index_m</th>\n",
       "      <th>flux_aper_lolim_m</th>\n",
       "      <th>photflux_aper_lolim_m</th>\n",
       "      <th>flux_aper_s</th>\n",
       "      <th>photflux_aper_lolim_s</th>\n",
       "      <th>flux_aper_lolim_s</th>\n",
       "      <th>var_inter_index_s</th>\n",
       "    </tr>\n",
       "    <tr>\n",
       "      <th>obs_id</th>\n",
       "      <th></th>\n",
       "      <th></th>\n",
       "      <th></th>\n",
       "      <th></th>\n",
       "      <th></th>\n",
       "      <th></th>\n",
       "      <th></th>\n",
       "      <th></th>\n",
       "      <th></th>\n",
       "      <th></th>\n",
       "      <th></th>\n",
       "      <th></th>\n",
       "      <th></th>\n",
       "      <th></th>\n",
       "      <th></th>\n",
       "      <th></th>\n",
       "      <th></th>\n",
       "      <th></th>\n",
       "      <th></th>\n",
       "      <th></th>\n",
       "      <th></th>\n",
       "    </tr>\n",
       "  </thead>\n",
       "  <tbody>\n",
       "    <tr>\n",
       "      <th>CV_0_obs_0</th>\n",
       "      <td>CV_0</td>\n",
       "      <td>33</td>\n",
       "      <td>[HPH2013]_176__________</td>\n",
       "      <td>2CXO J004245.0+411520</td>\n",
       "      <td>10.68773</td>\n",
       "      <td>41.255820</td>\n",
       "      <td>4903.5</td>\n",
       "      <td>11.31</td>\n",
       "      <td>304.46460</td>\n",
       "      <td>CV</td>\n",
       "      <td>...</td>\n",
       "      <td>-0.199756</td>\n",
       "      <td>0.655713</td>\n",
       "      <td>-0.631091</td>\n",
       "      <td>-0.105345</td>\n",
       "      <td>0.290384</td>\n",
       "      <td>0.214930</td>\n",
       "      <td>0.696829</td>\n",
       "      <td>0.475032</td>\n",
       "      <td>0.511814</td>\n",
       "      <td>-0.504025</td>\n",
       "    </tr>\n",
       "    <tr>\n",
       "      <th>CV_0_obs_1</th>\n",
       "      <td>CV_0</td>\n",
       "      <td>33</td>\n",
       "      <td>[HPH2013]_176__________</td>\n",
       "      <td>2CXO J004245.0+411520</td>\n",
       "      <td>10.68773</td>\n",
       "      <td>41.255820</td>\n",
       "      <td>3974.2</td>\n",
       "      <td>11.31</td>\n",
       "      <td>304.46460</td>\n",
       "      <td>CV</td>\n",
       "      <td>...</td>\n",
       "      <td>0.846163</td>\n",
       "      <td>0.340027</td>\n",
       "      <td>-0.328566</td>\n",
       "      <td>-0.340240</td>\n",
       "      <td>0.229157</td>\n",
       "      <td>0.145562</td>\n",
       "      <td>0.455051</td>\n",
       "      <td>0.574090</td>\n",
       "      <td>0.628355</td>\n",
       "      <td>-0.475066</td>\n",
       "    </tr>\n",
       "    <tr>\n",
       "      <th>CV_0_obs_2</th>\n",
       "      <td>CV_0</td>\n",
       "      <td>33</td>\n",
       "      <td>[HPH2013]_176__________</td>\n",
       "      <td>2CXO J004245.0+411520</td>\n",
       "      <td>10.68773</td>\n",
       "      <td>41.255820</td>\n",
       "      <td>3907.5</td>\n",
       "      <td>11.31</td>\n",
       "      <td>304.46460</td>\n",
       "      <td>CV</td>\n",
       "      <td>...</td>\n",
       "      <td>0.532613</td>\n",
       "      <td>0.119252</td>\n",
       "      <td>-0.348735</td>\n",
       "      <td>-0.255417</td>\n",
       "      <td>0.365590</td>\n",
       "      <td>0.296245</td>\n",
       "      <td>0.060531</td>\n",
       "      <td>1.119369</td>\n",
       "      <td>1.050563</td>\n",
       "      <td>-0.475066</td>\n",
       "    </tr>\n",
       "    <tr>\n",
       "      <th>CV_0_obs_3</th>\n",
       "      <td>CV_0</td>\n",
       "      <td>33</td>\n",
       "      <td>[HPH2013]_176__________</td>\n",
       "      <td>2CXO J004245.0+411520</td>\n",
       "      <td>10.68773</td>\n",
       "      <td>41.255820</td>\n",
       "      <td>3907.5</td>\n",
       "      <td>11.31</td>\n",
       "      <td>304.46460</td>\n",
       "      <td>CV</td>\n",
       "      <td>...</td>\n",
       "      <td>0.701297</td>\n",
       "      <td>0.473081</td>\n",
       "      <td>-0.342012</td>\n",
       "      <td>-0.248892</td>\n",
       "      <td>0.370397</td>\n",
       "      <td>0.295653</td>\n",
       "      <td>0.513148</td>\n",
       "      <td>0.709489</td>\n",
       "      <td>0.717932</td>\n",
       "      <td>-0.480858</td>\n",
       "    </tr>\n",
       "    <tr>\n",
       "      <th>CV_0_obs_4</th>\n",
       "      <td>CV_0</td>\n",
       "      <td>33</td>\n",
       "      <td>[HPH2013]_176__________</td>\n",
       "      <td>2CXO J004245.0+411520</td>\n",
       "      <td>10.68773</td>\n",
       "      <td>41.255820</td>\n",
       "      <td>3907.5</td>\n",
       "      <td>11.31</td>\n",
       "      <td>304.46460</td>\n",
       "      <td>CV</td>\n",
       "      <td>...</td>\n",
       "      <td>0.812733</td>\n",
       "      <td>0.487160</td>\n",
       "      <td>-0.328566</td>\n",
       "      <td>-0.261942</td>\n",
       "      <td>0.268815</td>\n",
       "      <td>0.174968</td>\n",
       "      <td>0.511412</td>\n",
       "      <td>0.664852</td>\n",
       "      <td>0.770695</td>\n",
       "      <td>-0.475066</td>\n",
       "    </tr>\n",
       "    <tr>\n",
       "      <th>...</th>\n",
       "      <td>...</td>\n",
       "      <td>...</td>\n",
       "      <td>...</td>\n",
       "      <td>...</td>\n",
       "      <td>...</td>\n",
       "      <td>...</td>\n",
       "      <td>...</td>\n",
       "      <td>...</td>\n",
       "      <td>...</td>\n",
       "      <td>...</td>\n",
       "      <td>...</td>\n",
       "      <td>...</td>\n",
       "      <td>...</td>\n",
       "      <td>...</td>\n",
       "      <td>...</td>\n",
       "      <td>...</td>\n",
       "      <td>...</td>\n",
       "      <td>...</td>\n",
       "      <td>...</td>\n",
       "      <td>...</td>\n",
       "      <td>...</td>\n",
       "    </tr>\n",
       "    <tr>\n",
       "      <th>LMXB_86_obs_0</th>\n",
       "      <td>LMXB_86</td>\n",
       "      <td>1</td>\n",
       "      <td>SAX_J1810.8-2609_____</td>\n",
       "      <td>2CXO J181044.4-260901</td>\n",
       "      <td>272.68530</td>\n",
       "      <td>-26.150370</td>\n",
       "      <td>31871.5</td>\n",
       "      <td>9.29</td>\n",
       "      <td>512.97550</td>\n",
       "      <td>LX</td>\n",
       "      <td>...</td>\n",
       "      <td>-1.342734</td>\n",
       "      <td>-0.458230</td>\n",
       "      <td>-0.664705</td>\n",
       "      <td>-0.359815</td>\n",
       "      <td>-0.197905</td>\n",
       "      <td>-0.220373</td>\n",
       "      <td>-0.356363</td>\n",
       "      <td>-0.682126</td>\n",
       "      <td>-0.582366</td>\n",
       "      <td>-0.353440</td>\n",
       "    </tr>\n",
       "    <tr>\n",
       "      <th>LMXB_90_obs_0</th>\n",
       "      <td>LMXB_90</td>\n",
       "      <td>1</td>\n",
       "      <td>XTE_J2123-058________</td>\n",
       "      <td>2CXO J212314.5-054753</td>\n",
       "      <td>320.81060</td>\n",
       "      <td>-5.798128</td>\n",
       "      <td>17705.1</td>\n",
       "      <td>4.06</td>\n",
       "      <td>132.76700</td>\n",
       "      <td>LX</td>\n",
       "      <td>...</td>\n",
       "      <td>1.732372</td>\n",
       "      <td>0.032560</td>\n",
       "      <td>-0.671428</td>\n",
       "      <td>-0.327190</td>\n",
       "      <td>1.133357</td>\n",
       "      <td>1.175422</td>\n",
       "      <td>0.020873</td>\n",
       "      <td>-0.149931</td>\n",
       "      <td>-0.157346</td>\n",
       "      <td>-0.347648</td>\n",
       "    </tr>\n",
       "    <tr>\n",
       "      <th>LMXB_91_obs_0</th>\n",
       "      <td>LMXB_91</td>\n",
       "      <td>1</td>\n",
       "      <td>XB_1732-304__________</td>\n",
       "      <td>2CXO J173547.0-302858</td>\n",
       "      <td>263.94590</td>\n",
       "      <td>-30.482820</td>\n",
       "      <td>18855.8</td>\n",
       "      <td>4.89</td>\n",
       "      <td>114.24570</td>\n",
       "      <td>LX</td>\n",
       "      <td>...</td>\n",
       "      <td>0.218212</td>\n",
       "      <td>0.929292</td>\n",
       "      <td>-2.015982</td>\n",
       "      <td>-0.392439</td>\n",
       "      <td>-0.289868</td>\n",
       "      <td>-0.269120</td>\n",
       "      <td>0.983880</td>\n",
       "      <td>1.147295</td>\n",
       "      <td>1.193074</td>\n",
       "      <td>-1.193241</td>\n",
       "    </tr>\n",
       "    <tr>\n",
       "      <th>LMXB_92_obs_0</th>\n",
       "      <td>LMXB_92</td>\n",
       "      <td>1</td>\n",
       "      <td>BW_ANT_______________</td>\n",
       "      <td>2CXO J092920.1-312303</td>\n",
       "      <td>142.33410</td>\n",
       "      <td>-31.384270</td>\n",
       "      <td>24445.9</td>\n",
       "      <td>3.70</td>\n",
       "      <td>75.53454</td>\n",
       "      <td>LX</td>\n",
       "      <td>...</td>\n",
       "      <td>0.881720</td>\n",
       "      <td>0.522228</td>\n",
       "      <td>-0.671428</td>\n",
       "      <td>-0.307616</td>\n",
       "      <td>0.977963</td>\n",
       "      <td>0.985842</td>\n",
       "      <td>0.510162</td>\n",
       "      <td>0.365118</td>\n",
       "      <td>0.366638</td>\n",
       "      <td>-0.359231</td>\n",
       "    </tr>\n",
       "    <tr>\n",
       "      <th>LMXB_94_obs_0</th>\n",
       "      <td>LMXB_94</td>\n",
       "      <td>1</td>\n",
       "      <td>J1748-3607___________</td>\n",
       "      <td>2CXO J174813.1-360758</td>\n",
       "      <td>267.05470</td>\n",
       "      <td>-36.132810</td>\n",
       "      <td>15794.5</td>\n",
       "      <td>3.09</td>\n",
       "      <td>50.50810</td>\n",
       "      <td>LX</td>\n",
       "      <td>...</td>\n",
       "      <td>-0.083769</td>\n",
       "      <td>0.260359</td>\n",
       "      <td>-0.563863</td>\n",
       "      <td>-0.314141</td>\n",
       "      <td>0.886929</td>\n",
       "      <td>0.892265</td>\n",
       "      <td>0.346275</td>\n",
       "      <td>0.111459</td>\n",
       "      <td>0.190424</td>\n",
       "      <td>-0.336064</td>\n",
       "    </tr>\n",
       "  </tbody>\n",
       "</table>\n",
       "<p>1812 rows × 58 columns</p>\n",
       "</div>"
      ]
     },
     "metadata": {},
     "execution_count": 6
    }
   ],
   "metadata": {}
  },
  {
   "cell_type": "code",
   "execution_count": 7,
   "source": [
    "details(data_imp_v2)"
   ],
   "outputs": [
    {
     "output_type": "stream",
     "name": "stdout",
     "text": [
      "________________________________________________\n",
      "Sparsity in the data : 0.00\n",
      "Data shape (1812, 58)\n",
      "Number of sources : \n",
      "CV  \t  60 \t 994\n",
      "PL  \t  92 \t 297\n",
      "LX  \t  58 \t 521\n"
     ]
    }
   ],
   "metadata": {}
  },
  {
   "cell_type": "code",
   "execution_count": 20,
   "source": [
    "verbose = 0\n",
    "val_acc = []\n",
    "test_acc = []\n",
    "for i in tqdm(range(32)):\n",
    "    src_list = pd.DataFrame()\n",
    "    class_to_select = ['CV' , 'LX' , 'PL']\n",
    "    df = data_imp_norm.copy()\n",
    "    for cl in class_to_select:\n",
    "        src = df[df['class']==cl]['src_id'].value_counts().sort_values()\n",
    "        #display(src)\n",
    "        src = src.iloc[:int(len(src)*0.4)]\n",
    "        src_select = src.sample(frac=0.5)\n",
    "        src_id = src_select.index.to_list()\n",
    "        src_obs = src_select.to_list()\n",
    "        temp_src = pd.DataFrame({ \n",
    "            'src_id' : src_id , \n",
    "            'obs_count' : src_obs\n",
    "        })\n",
    "        src_list = src_list.append(temp_src)\n",
    "    #src_list\n",
    "\n",
    "    all_src = np.unique(df['src_id'].to_list())\n",
    "    test_src = src_list['src_id'].to_list()\n",
    "    train_src= list(set(all_src) - set(src_list['src_id']))\n",
    "    # if(verbose):\n",
    "    #     print('Total Number of ssources :' , len(all_src))\n",
    "    #     print('Training_sources : ' , len(train_src) )\n",
    "    #     print('Validation sources :' , len(test_src))\n",
    "\n",
    "    # df = df.replace({\n",
    "    #     \"BH\" :2 , \n",
    "    #     \"NS\" : 2 ,\n",
    "    #     \"CV\" : 0 , \n",
    "    #     \"PULSAR\" : 1 \n",
    "    # })\n",
    "\n",
    "\n",
    "    df= df[df['class'].isin(class_to_select)]\n",
    "    df \n",
    "\n",
    "\n",
    "\n",
    "    df_train  = df[df['src_id'].isin(train_src)]\n",
    "    df_test = df[df['src_id'].isin(test_src)]\n",
    "\n",
    "    df_train = df_train[df_train['class'].isin(class_to_select)]\n",
    "    df_test = df_test[df_test['class'].isin(class_to_select)]\n",
    "\n",
    "    if(verbose):\n",
    "        details(df_train)\n",
    "        details(df_test)\n",
    "\n",
    "    train_id = df_train[info_col]\n",
    "    train_label = df_train['class']\n",
    "    train_value = df_train.drop(columns=['class']+info_col)\n",
    "\n",
    "\n",
    "    i_val = df_test[info_col]\n",
    "    y_val = df_test['class']\n",
    "    x_val = df_test.drop(columns=['class']+info_col)\n",
    "\n",
    "    clf = RandomForestClassifier(\n",
    "        n_estimators = 200 , n_jobs=-1\n",
    "    )\n",
    "    #clf = AdaBoostClassifier(base_estimator=clf ,)\n",
    "    #clf = xgb.XGBRFClassifier(n_componets=200)\n",
    "    x_train , x_test , y_train , y_test = train_test_split(train_value , train_label , test_size=0.2 , stratify=train_label, random_state=9)\n",
    "    clf.fit(x_train , y_train)\n",
    "    v_sc = clf.score(x_val , y_val)\n",
    "    test_sc = clf.score(x_test, y_test)\n",
    "    val_acc.append(v_sc)\n",
    "    test_acc.append(test_sc)\n",
    "    #if(verbose):\n",
    "    print(v_sc)"
   ],
   "outputs": [
    {
     "output_type": "stream",
     "name": "stderr",
     "text": [
      "  3%|▎         | 1/32 [00:00<00:26,  1.17it/s]"
     ]
    },
    {
     "output_type": "stream",
     "name": "stdout",
     "text": [
      "0.6521739130434783\n"
     ]
    },
    {
     "output_type": "stream",
     "name": "stderr",
     "text": [
      "  6%|▋         | 2/32 [00:02<00:33,  1.11s/it]"
     ]
    },
    {
     "output_type": "stream",
     "name": "stdout",
     "text": [
      "0.581081081081081\n"
     ]
    },
    {
     "output_type": "stream",
     "name": "stderr",
     "text": [
      "  9%|▉         | 3/32 [00:03<00:30,  1.05s/it]"
     ]
    },
    {
     "output_type": "stream",
     "name": "stdout",
     "text": [
      "0.5138888888888888\n"
     ]
    },
    {
     "output_type": "stream",
     "name": "stderr",
     "text": [
      " 12%|█▎        | 4/32 [00:03<00:27,  1.03it/s]"
     ]
    },
    {
     "output_type": "stream",
     "name": "stdout",
     "text": [
      "0.5769230769230769\n"
     ]
    },
    {
     "output_type": "stream",
     "name": "stderr",
     "text": [
      " 16%|█▌        | 5/32 [00:04<00:26,  1.03it/s]"
     ]
    },
    {
     "output_type": "stream",
     "name": "stdout",
     "text": [
      "0.48484848484848486\n"
     ]
    },
    {
     "output_type": "stream",
     "name": "stderr",
     "text": [
      " 19%|█▉        | 6/32 [00:05<00:23,  1.12it/s]"
     ]
    },
    {
     "output_type": "stream",
     "name": "stdout",
     "text": [
      "0.5483870967741935\n"
     ]
    },
    {
     "output_type": "stream",
     "name": "stderr",
     "text": [
      " 22%|██▏       | 7/32 [00:06<00:22,  1.11it/s]"
     ]
    },
    {
     "output_type": "stream",
     "name": "stdout",
     "text": [
      "0.6911764705882353\n"
     ]
    },
    {
     "output_type": "stream",
     "name": "stderr",
     "text": [
      " 25%|██▌       | 8/32 [00:07<00:21,  1.12it/s]"
     ]
    },
    {
     "output_type": "stream",
     "name": "stdout",
     "text": [
      "0.5441176470588235\n"
     ]
    },
    {
     "output_type": "stream",
     "name": "stderr",
     "text": [
      " 28%|██▊       | 9/32 [00:08<00:22,  1.02it/s]"
     ]
    },
    {
     "output_type": "stream",
     "name": "stdout",
     "text": [
      "0.582089552238806\n"
     ]
    },
    {
     "output_type": "stream",
     "name": "stderr",
     "text": [
      " 31%|███▏      | 10/32 [00:09<00:22,  1.03s/it]"
     ]
    },
    {
     "output_type": "stream",
     "name": "stdout",
     "text": [
      "0.5151515151515151\n"
     ]
    },
    {
     "output_type": "stream",
     "name": "stderr",
     "text": [
      " 34%|███▍      | 11/32 [00:10<00:20,  1.02it/s]"
     ]
    },
    {
     "output_type": "stream",
     "name": "stdout",
     "text": [
      "0.5\n"
     ]
    },
    {
     "output_type": "stream",
     "name": "stderr",
     "text": [
      " 38%|███▊      | 12/32 [00:11<00:19,  1.02it/s]"
     ]
    },
    {
     "output_type": "stream",
     "name": "stdout",
     "text": [
      "0.6086956521739131\n"
     ]
    },
    {
     "output_type": "stream",
     "name": "stderr",
     "text": [
      " 41%|████      | 13/32 [00:12<00:18,  1.02it/s]"
     ]
    },
    {
     "output_type": "stream",
     "name": "stdout",
     "text": [
      "0.546875\n"
     ]
    },
    {
     "output_type": "stream",
     "name": "stderr",
     "text": [
      " 44%|████▍     | 14/32 [00:13<00:18,  1.01s/it]"
     ]
    },
    {
     "output_type": "stream",
     "name": "stdout",
     "text": [
      "0.5454545454545454\n"
     ]
    },
    {
     "output_type": "stream",
     "name": "stderr",
     "text": [
      " 47%|████▋     | 15/32 [00:14<00:17,  1.04s/it]"
     ]
    },
    {
     "output_type": "stream",
     "name": "stdout",
     "text": [
      "0.5774647887323944\n"
     ]
    },
    {
     "output_type": "stream",
     "name": "stderr",
     "text": [
      " 50%|█████     | 16/32 [00:15<00:16,  1.02s/it]"
     ]
    },
    {
     "output_type": "stream",
     "name": "stdout",
     "text": [
      "0.618421052631579\n"
     ]
    },
    {
     "output_type": "stream",
     "name": "stderr",
     "text": [
      " 53%|█████▎    | 17/32 [00:16<00:15,  1.04s/it]"
     ]
    },
    {
     "output_type": "stream",
     "name": "stdout",
     "text": [
      "0.7205882352941176\n"
     ]
    },
    {
     "output_type": "stream",
     "name": "stderr",
     "text": [
      " 56%|█████▋    | 18/32 [00:17<00:13,  1.01it/s]"
     ]
    },
    {
     "output_type": "stream",
     "name": "stdout",
     "text": [
      "0.5151515151515151\n"
     ]
    },
    {
     "output_type": "stream",
     "name": "stderr",
     "text": [
      " 59%|█████▉    | 19/32 [00:18<00:12,  1.06it/s]"
     ]
    },
    {
     "output_type": "stream",
     "name": "stdout",
     "text": [
      "0.6949152542372882\n"
     ]
    },
    {
     "output_type": "stream",
     "name": "stderr",
     "text": [
      " 62%|██████▎   | 20/32 [00:19<00:11,  1.05it/s]"
     ]
    },
    {
     "output_type": "stream",
     "name": "stdout",
     "text": [
      "0.5084745762711864\n"
     ]
    },
    {
     "output_type": "stream",
     "name": "stderr",
     "text": [
      " 66%|██████▌   | 21/32 [00:20<00:11,  1.00s/it]"
     ]
    },
    {
     "output_type": "stream",
     "name": "stdout",
     "text": [
      "0.6\n"
     ]
    },
    {
     "output_type": "stream",
     "name": "stderr",
     "text": [
      " 69%|██████▉   | 22/32 [00:21<00:10,  1.06s/it]"
     ]
    },
    {
     "output_type": "stream",
     "name": "stdout",
     "text": [
      "0.703125\n"
     ]
    },
    {
     "output_type": "stream",
     "name": "stderr",
     "text": [
      " 72%|███████▏  | 23/32 [00:22<00:09,  1.00s/it]"
     ]
    },
    {
     "output_type": "stream",
     "name": "stdout",
     "text": [
      "0.55\n"
     ]
    },
    {
     "output_type": "stream",
     "name": "stderr",
     "text": [
      " 75%|███████▌  | 24/32 [00:23<00:08,  1.00s/it]"
     ]
    },
    {
     "output_type": "stream",
     "name": "stdout",
     "text": [
      "0.6515151515151515\n"
     ]
    },
    {
     "output_type": "stream",
     "name": "stderr",
     "text": [
      " 78%|███████▊  | 25/32 [00:24<00:07,  1.05s/it]"
     ]
    },
    {
     "output_type": "stream",
     "name": "stdout",
     "text": [
      "0.5405405405405406\n"
     ]
    },
    {
     "output_type": "stream",
     "name": "stderr",
     "text": [
      " 81%|████████▏ | 26/32 [00:25<00:05,  1.00it/s]"
     ]
    },
    {
     "output_type": "stream",
     "name": "stdout",
     "text": [
      "0.5671641791044776\n"
     ]
    },
    {
     "output_type": "stream",
     "name": "stderr",
     "text": [
      " 84%|████████▍ | 27/32 [00:26<00:04,  1.01it/s]"
     ]
    },
    {
     "output_type": "stream",
     "name": "stdout",
     "text": [
      "0.5285714285714286\n"
     ]
    },
    {
     "output_type": "stream",
     "name": "stderr",
     "text": [
      " 88%|████████▊ | 28/32 [00:27<00:03,  1.02it/s]"
     ]
    },
    {
     "output_type": "stream",
     "name": "stdout",
     "text": [
      "0.6129032258064516\n"
     ]
    },
    {
     "output_type": "stream",
     "name": "stderr",
     "text": [
      " 91%|█████████ | 29/32 [00:28<00:03,  1.05s/it]"
     ]
    },
    {
     "output_type": "stream",
     "name": "stdout",
     "text": [
      "0.631578947368421\n"
     ]
    },
    {
     "output_type": "stream",
     "name": "stderr",
     "text": [
      " 94%|█████████▍| 30/32 [00:29<00:01,  1.04it/s]"
     ]
    },
    {
     "output_type": "stream",
     "name": "stdout",
     "text": [
      "0.717948717948718\n"
     ]
    },
    {
     "output_type": "stream",
     "name": "stderr",
     "text": [
      " 97%|█████████▋| 31/32 [00:30<00:01,  1.03s/it]"
     ]
    },
    {
     "output_type": "stream",
     "name": "stdout",
     "text": [
      "0.5641025641025641\n"
     ]
    },
    {
     "output_type": "stream",
     "name": "stderr",
     "text": [
      "100%|██████████| 32/32 [00:31<00:00,  1.00it/s]"
     ]
    },
    {
     "output_type": "stream",
     "name": "stdout",
     "text": [
      "0.5897435897435898\n"
     ]
    },
    {
     "output_type": "stream",
     "name": "stderr",
     "text": [
      "\n"
     ]
    }
   ],
   "metadata": {}
  },
  {
   "cell_type": "code",
   "execution_count": 21,
   "source": [
    "score = pd.DataFrame({\n",
    "    \"Test Score\" : test_acc, \n",
    "    \"Validation Score\" : val_acc\n",
    "})*100\n",
    "score.describe().loc[['mean' , 'std' , 'min', 'max' ]]"
   ],
   "outputs": [
    {
     "output_type": "execute_result",
     "data": {
      "text/plain": [
       "      Test Score  Validation Score\n",
       "mean   90.584243         58.697099\n",
       "std     1.167260          6.679190\n",
       "min    87.965616         48.484848\n",
       "max    93.103448         72.058824"
      ],
      "text/html": [
       "<div>\n",
       "<style scoped>\n",
       "    .dataframe tbody tr th:only-of-type {\n",
       "        vertical-align: middle;\n",
       "    }\n",
       "\n",
       "    .dataframe tbody tr th {\n",
       "        vertical-align: top;\n",
       "    }\n",
       "\n",
       "    .dataframe thead th {\n",
       "        text-align: right;\n",
       "    }\n",
       "</style>\n",
       "<table border=\"1\" class=\"dataframe\">\n",
       "  <thead>\n",
       "    <tr style=\"text-align: right;\">\n",
       "      <th></th>\n",
       "      <th>Test Score</th>\n",
       "      <th>Validation Score</th>\n",
       "    </tr>\n",
       "  </thead>\n",
       "  <tbody>\n",
       "    <tr>\n",
       "      <th>mean</th>\n",
       "      <td>90.584243</td>\n",
       "      <td>58.697099</td>\n",
       "    </tr>\n",
       "    <tr>\n",
       "      <th>std</th>\n",
       "      <td>1.167260</td>\n",
       "      <td>6.679190</td>\n",
       "    </tr>\n",
       "    <tr>\n",
       "      <th>min</th>\n",
       "      <td>87.965616</td>\n",
       "      <td>48.484848</td>\n",
       "    </tr>\n",
       "    <tr>\n",
       "      <th>max</th>\n",
       "      <td>93.103448</td>\n",
       "      <td>72.058824</td>\n",
       "    </tr>\n",
       "  </tbody>\n",
       "</table>\n",
       "</div>"
      ]
     },
     "metadata": {},
     "execution_count": 21
    }
   ],
   "metadata": {}
  },
  {
   "cell_type": "code",
   "execution_count": 22,
   "source": [
    "sns.set(font_scale=1.3)\n",
    "sns.set_style('whitegrid')\n",
    "fig , ax = plt.subplots(nrows=1 , ncols=3 , figsize = (18 , 4))\n",
    "sns.boxplot(data = score , ax = ax[0])\n",
    "cf = confusion_matrix(y_train , clf.predict(x_train) ,)\n",
    "sns.heatmap(cf , annot=True ,fmt = '.0f' , ax = ax[1] , xticklabels =class_to_select , yticklabels = class_to_select  , cmap='RdYlGn' ,)\n",
    "cf = confusion_matrix(y_val , clf.predict(x_val) ,)\n",
    "sns.heatmap(cf , annot=True ,fmt = '.0f' , ax = ax[2] , xticklabels=class_to_select, yticklabels = class_to_select , cmap='RdYlGn')\n",
    "ax[1].set_title('Training CF')\n",
    "ax[2].set_title('Validation CF')\n",
    "for a in ax[1:]:\n",
    "    a.set_xlabel('Predicted class')\n",
    "    a.set_ylabel('True class')\n",
    "\n",
    "plt.show()\n",
    "#score"
   ],
   "outputs": [
    {
     "output_type": "display_data",
     "data": {
      "text/plain": [
       "<Figure size 1296x288 with 5 Axes>"
      ],
      "image/svg+xml": "<?xml version=\"1.0\" encoding=\"utf-8\" standalone=\"no\"?>\n<!DOCTYPE svg PUBLIC \"-//W3C//DTD SVG 1.1//EN\"\n  \"http://www.w3.org/Graphics/SVG/1.1/DTD/svg11.dtd\">\n<!-- Created with matplotlib (https://matplotlib.org/) -->\n<svg height=\"292.131156pt\" version=\"1.1\" viewBox=\"0 0 1040.753735 292.131156\" width=\"1040.753735pt\" xmlns=\"http://www.w3.org/2000/svg\" xmlns:xlink=\"http://www.w3.org/1999/xlink\">\n <metadata>\n  <rdf:RDF xmlns:cc=\"http://creativecommons.org/ns#\" xmlns:dc=\"http://purl.org/dc/elements/1.1/\" xmlns:rdf=\"http://www.w3.org/1999/02/22-rdf-syntax-ns#\">\n   <cc:Work>\n    <dc:type rdf:resource=\"http://purl.org/dc/dcmitype/StillImage\"/>\n    <dc:date>2021-12-12T13:01:23.800065</dc:date>\n    <dc:format>image/svg+xml</dc:format>\n    <dc:creator>\n     <cc:Agent>\n      <dc:title>Matplotlib v3.3.4, https://matplotlib.org/</dc:title>\n     </cc:Agent>\n    </dc:creator>\n   </cc:Work>\n  </rdf:RDF>\n </metadata>\n <defs>\n  <style type=\"text/css\">*{stroke-linecap:butt;stroke-linejoin:round;}</style>\n </defs>\n <g id=\"figure_1\">\n  <g id=\"patch_1\">\n   <path d=\"M 0 292.131156 \nL 1040.753735 292.131156 \nL 1040.753735 0 \nL 0 0 \nz\n\" style=\"fill:#ffffff;\"/>\n  </g>\n  <g id=\"axes_1\">\n   <g id=\"patch_2\">\n    <path d=\"M 34.89675 242.493563 \nL 330.308515 242.493563 \nL 330.308515 25.053563 \nL 34.89675 25.053563 \nz\n\" style=\"fill:#ffffff;\"/>\n   </g>\n   <g id=\"matplotlib.axis_1\">\n    <g id=\"xtick_1\">\n     <g id=\"text_1\">\n      <!-- Test Score -->\n      <g style=\"fill:#262626;\" transform=\"translate(72.375183 262.859328)scale(0.143 -0.143)\">\n       <defs>\n        <path d=\"M -0.296875 72.90625 \nL 61.375 72.90625 \nL 61.375 64.59375 \nL 35.5 64.59375 \nL 35.5 0 \nL 25.59375 0 \nL 25.59375 64.59375 \nL -0.296875 64.59375 \nz\n\" id=\"DejaVuSans-84\"/>\n        <path d=\"M 56.203125 29.59375 \nL 56.203125 25.203125 \nL 14.890625 25.203125 \nQ 15.484375 15.921875 20.484375 11.0625 \nQ 25.484375 6.203125 34.421875 6.203125 \nQ 39.59375 6.203125 44.453125 7.46875 \nQ 49.3125 8.734375 54.109375 11.28125 \nL 54.109375 2.78125 \nQ 49.265625 0.734375 44.1875 -0.34375 \nQ 39.109375 -1.421875 33.890625 -1.421875 \nQ 20.796875 -1.421875 13.15625 6.1875 \nQ 5.515625 13.8125 5.515625 26.8125 \nQ 5.515625 40.234375 12.765625 48.109375 \nQ 20.015625 56 32.328125 56 \nQ 43.359375 56 49.78125 48.890625 \nQ 56.203125 41.796875 56.203125 29.59375 \nz\nM 47.21875 32.234375 \nQ 47.125 39.59375 43.09375 43.984375 \nQ 39.0625 48.390625 32.421875 48.390625 \nQ 24.90625 48.390625 20.390625 44.140625 \nQ 15.875 39.890625 15.1875 32.171875 \nz\n\" id=\"DejaVuSans-101\"/>\n        <path d=\"M 44.28125 53.078125 \nL 44.28125 44.578125 \nQ 40.484375 46.53125 36.375 47.5 \nQ 32.28125 48.484375 27.875 48.484375 \nQ 21.1875 48.484375 17.84375 46.4375 \nQ 14.5 44.390625 14.5 40.28125 \nQ 14.5 37.15625 16.890625 35.375 \nQ 19.28125 33.59375 26.515625 31.984375 \nL 29.59375 31.296875 \nQ 39.15625 29.25 43.1875 25.515625 \nQ 47.21875 21.78125 47.21875 15.09375 \nQ 47.21875 7.46875 41.1875 3.015625 \nQ 35.15625 -1.421875 24.609375 -1.421875 \nQ 20.21875 -1.421875 15.453125 -0.5625 \nQ 10.6875 0.296875 5.421875 2 \nL 5.421875 11.28125 \nQ 10.40625 8.6875 15.234375 7.390625 \nQ 20.0625 6.109375 24.8125 6.109375 \nQ 31.15625 6.109375 34.5625 8.28125 \nQ 37.984375 10.453125 37.984375 14.40625 \nQ 37.984375 18.0625 35.515625 20.015625 \nQ 33.0625 21.96875 24.703125 23.78125 \nL 21.578125 24.515625 \nQ 13.234375 26.265625 9.515625 29.90625 \nQ 5.8125 33.546875 5.8125 39.890625 \nQ 5.8125 47.609375 11.28125 51.796875 \nQ 16.75 56 26.8125 56 \nQ 31.78125 56 36.171875 55.265625 \nQ 40.578125 54.546875 44.28125 53.078125 \nz\n\" id=\"DejaVuSans-115\"/>\n        <path d=\"M 18.3125 70.21875 \nL 18.3125 54.6875 \nL 36.8125 54.6875 \nL 36.8125 47.703125 \nL 18.3125 47.703125 \nL 18.3125 18.015625 \nQ 18.3125 11.328125 20.140625 9.421875 \nQ 21.96875 7.515625 27.59375 7.515625 \nL 36.8125 7.515625 \nL 36.8125 0 \nL 27.59375 0 \nQ 17.1875 0 13.234375 3.875 \nQ 9.28125 7.765625 9.28125 18.015625 \nL 9.28125 47.703125 \nL 2.6875 47.703125 \nL 2.6875 54.6875 \nL 9.28125 54.6875 \nL 9.28125 70.21875 \nz\n\" id=\"DejaVuSans-116\"/>\n        <path id=\"DejaVuSans-32\"/>\n        <path d=\"M 53.515625 70.515625 \nL 53.515625 60.890625 \nQ 47.90625 63.578125 42.921875 64.890625 \nQ 37.9375 66.21875 33.296875 66.21875 \nQ 25.25 66.21875 20.875 63.09375 \nQ 16.5 59.96875 16.5 54.203125 \nQ 16.5 49.359375 19.40625 46.890625 \nQ 22.3125 44.4375 30.421875 42.921875 \nL 36.375 41.703125 \nQ 47.40625 39.59375 52.65625 34.296875 \nQ 57.90625 29 57.90625 20.125 \nQ 57.90625 9.515625 50.796875 4.046875 \nQ 43.703125 -1.421875 29.984375 -1.421875 \nQ 24.8125 -1.421875 18.96875 -0.25 \nQ 13.140625 0.921875 6.890625 3.21875 \nL 6.890625 13.375 \nQ 12.890625 10.015625 18.65625 8.296875 \nQ 24.421875 6.59375 29.984375 6.59375 \nQ 38.421875 6.59375 43.015625 9.90625 \nQ 47.609375 13.234375 47.609375 19.390625 \nQ 47.609375 24.75 44.3125 27.78125 \nQ 41.015625 30.8125 33.5 32.328125 \nL 27.484375 33.5 \nQ 16.453125 35.6875 11.515625 40.375 \nQ 6.59375 45.0625 6.59375 53.421875 \nQ 6.59375 63.09375 13.40625 68.65625 \nQ 20.21875 74.21875 32.171875 74.21875 \nQ 37.3125 74.21875 42.625 73.28125 \nQ 47.953125 72.359375 53.515625 70.515625 \nz\n\" id=\"DejaVuSans-83\"/>\n        <path d=\"M 48.78125 52.59375 \nL 48.78125 44.1875 \nQ 44.96875 46.296875 41.140625 47.34375 \nQ 37.3125 48.390625 33.40625 48.390625 \nQ 24.65625 48.390625 19.8125 42.84375 \nQ 14.984375 37.3125 14.984375 27.296875 \nQ 14.984375 17.28125 19.8125 11.734375 \nQ 24.65625 6.203125 33.40625 6.203125 \nQ 37.3125 6.203125 41.140625 7.25 \nQ 44.96875 8.296875 48.78125 10.40625 \nL 48.78125 2.09375 \nQ 45.015625 0.34375 40.984375 -0.53125 \nQ 36.96875 -1.421875 32.421875 -1.421875 \nQ 20.0625 -1.421875 12.78125 6.34375 \nQ 5.515625 14.109375 5.515625 27.296875 \nQ 5.515625 40.671875 12.859375 48.328125 \nQ 20.21875 56 33.015625 56 \nQ 37.15625 56 41.109375 55.140625 \nQ 45.0625 54.296875 48.78125 52.59375 \nz\n\" id=\"DejaVuSans-99\"/>\n        <path d=\"M 30.609375 48.390625 \nQ 23.390625 48.390625 19.1875 42.75 \nQ 14.984375 37.109375 14.984375 27.296875 \nQ 14.984375 17.484375 19.15625 11.84375 \nQ 23.34375 6.203125 30.609375 6.203125 \nQ 37.796875 6.203125 41.984375 11.859375 \nQ 46.1875 17.53125 46.1875 27.296875 \nQ 46.1875 37.015625 41.984375 42.703125 \nQ 37.796875 48.390625 30.609375 48.390625 \nz\nM 30.609375 56 \nQ 42.328125 56 49.015625 48.375 \nQ 55.71875 40.765625 55.71875 27.296875 \nQ 55.71875 13.875 49.015625 6.21875 \nQ 42.328125 -1.421875 30.609375 -1.421875 \nQ 18.84375 -1.421875 12.171875 6.21875 \nQ 5.515625 13.875 5.515625 27.296875 \nQ 5.515625 40.765625 12.171875 48.375 \nQ 18.84375 56 30.609375 56 \nz\n\" id=\"DejaVuSans-111\"/>\n        <path d=\"M 41.109375 46.296875 \nQ 39.59375 47.171875 37.8125 47.578125 \nQ 36.03125 48 33.890625 48 \nQ 26.265625 48 22.1875 43.046875 \nQ 18.109375 38.09375 18.109375 28.8125 \nL 18.109375 0 \nL 9.078125 0 \nL 9.078125 54.6875 \nL 18.109375 54.6875 \nL 18.109375 46.1875 \nQ 20.953125 51.171875 25.484375 53.578125 \nQ 30.03125 56 36.53125 56 \nQ 37.453125 56 38.578125 55.875 \nQ 39.703125 55.765625 41.0625 55.515625 \nz\n\" id=\"DejaVuSans-114\"/>\n       </defs>\n       <use xlink:href=\"#DejaVuSans-84\"/>\n       <use x=\"44.083984\" xlink:href=\"#DejaVuSans-101\"/>\n       <use x=\"105.607422\" xlink:href=\"#DejaVuSans-115\"/>\n       <use x=\"157.707031\" xlink:href=\"#DejaVuSans-116\"/>\n       <use x=\"196.916016\" xlink:href=\"#DejaVuSans-32\"/>\n       <use x=\"228.703125\" xlink:href=\"#DejaVuSans-83\"/>\n       <use x=\"292.179688\" xlink:href=\"#DejaVuSans-99\"/>\n       <use x=\"347.160156\" xlink:href=\"#DejaVuSans-111\"/>\n       <use x=\"408.341797\" xlink:href=\"#DejaVuSans-114\"/>\n       <use x=\"447.205078\" xlink:href=\"#DejaVuSans-101\"/>\n      </g>\n     </g>\n    </g>\n    <g id=\"xtick_2\">\n     <g id=\"text_2\">\n      <!-- Validation Score -->\n      <g style=\"fill:#262626;\" transform=\"translate(198.852269 262.859328)scale(0.143 -0.143)\">\n       <defs>\n        <path d=\"M 28.609375 0 \nL 0.78125 72.90625 \nL 11.078125 72.90625 \nL 34.1875 11.53125 \nL 57.328125 72.90625 \nL 67.578125 72.90625 \nL 39.796875 0 \nz\n\" id=\"DejaVuSans-86\"/>\n        <path d=\"M 34.28125 27.484375 \nQ 23.390625 27.484375 19.1875 25 \nQ 14.984375 22.515625 14.984375 16.5 \nQ 14.984375 11.71875 18.140625 8.90625 \nQ 21.296875 6.109375 26.703125 6.109375 \nQ 34.1875 6.109375 38.703125 11.40625 \nQ 43.21875 16.703125 43.21875 25.484375 \nL 43.21875 27.484375 \nz\nM 52.203125 31.203125 \nL 52.203125 0 \nL 43.21875 0 \nL 43.21875 8.296875 \nQ 40.140625 3.328125 35.546875 0.953125 \nQ 30.953125 -1.421875 24.3125 -1.421875 \nQ 15.921875 -1.421875 10.953125 3.296875 \nQ 6 8.015625 6 15.921875 \nQ 6 25.140625 12.171875 29.828125 \nQ 18.359375 34.515625 30.609375 34.515625 \nL 43.21875 34.515625 \nL 43.21875 35.40625 \nQ 43.21875 41.609375 39.140625 45 \nQ 35.0625 48.390625 27.6875 48.390625 \nQ 23 48.390625 18.546875 47.265625 \nQ 14.109375 46.140625 10.015625 43.890625 \nL 10.015625 52.203125 \nQ 14.9375 54.109375 19.578125 55.046875 \nQ 24.21875 56 28.609375 56 \nQ 40.484375 56 46.34375 49.84375 \nQ 52.203125 43.703125 52.203125 31.203125 \nz\n\" id=\"DejaVuSans-97\"/>\n        <path d=\"M 9.421875 75.984375 \nL 18.40625 75.984375 \nL 18.40625 0 \nL 9.421875 0 \nz\n\" id=\"DejaVuSans-108\"/>\n        <path d=\"M 9.421875 54.6875 \nL 18.40625 54.6875 \nL 18.40625 0 \nL 9.421875 0 \nz\nM 9.421875 75.984375 \nL 18.40625 75.984375 \nL 18.40625 64.59375 \nL 9.421875 64.59375 \nz\n\" id=\"DejaVuSans-105\"/>\n        <path d=\"M 45.40625 46.390625 \nL 45.40625 75.984375 \nL 54.390625 75.984375 \nL 54.390625 0 \nL 45.40625 0 \nL 45.40625 8.203125 \nQ 42.578125 3.328125 38.25 0.953125 \nQ 33.9375 -1.421875 27.875 -1.421875 \nQ 17.96875 -1.421875 11.734375 6.484375 \nQ 5.515625 14.40625 5.515625 27.296875 \nQ 5.515625 40.1875 11.734375 48.09375 \nQ 17.96875 56 27.875 56 \nQ 33.9375 56 38.25 53.625 \nQ 42.578125 51.265625 45.40625 46.390625 \nz\nM 14.796875 27.296875 \nQ 14.796875 17.390625 18.875 11.75 \nQ 22.953125 6.109375 30.078125 6.109375 \nQ 37.203125 6.109375 41.296875 11.75 \nQ 45.40625 17.390625 45.40625 27.296875 \nQ 45.40625 37.203125 41.296875 42.84375 \nQ 37.203125 48.484375 30.078125 48.484375 \nQ 22.953125 48.484375 18.875 42.84375 \nQ 14.796875 37.203125 14.796875 27.296875 \nz\n\" id=\"DejaVuSans-100\"/>\n        <path d=\"M 54.890625 33.015625 \nL 54.890625 0 \nL 45.90625 0 \nL 45.90625 32.71875 \nQ 45.90625 40.484375 42.875 44.328125 \nQ 39.84375 48.1875 33.796875 48.1875 \nQ 26.515625 48.1875 22.3125 43.546875 \nQ 18.109375 38.921875 18.109375 30.90625 \nL 18.109375 0 \nL 9.078125 0 \nL 9.078125 54.6875 \nL 18.109375 54.6875 \nL 18.109375 46.1875 \nQ 21.34375 51.125 25.703125 53.5625 \nQ 30.078125 56 35.796875 56 \nQ 45.21875 56 50.046875 50.171875 \nQ 54.890625 44.34375 54.890625 33.015625 \nz\n\" id=\"DejaVuSans-110\"/>\n       </defs>\n       <use xlink:href=\"#DejaVuSans-86\"/>\n       <use x=\"60.658203\" xlink:href=\"#DejaVuSans-97\"/>\n       <use x=\"121.9375\" xlink:href=\"#DejaVuSans-108\"/>\n       <use x=\"149.720703\" xlink:href=\"#DejaVuSans-105\"/>\n       <use x=\"177.503906\" xlink:href=\"#DejaVuSans-100\"/>\n       <use x=\"240.980469\" xlink:href=\"#DejaVuSans-97\"/>\n       <use x=\"302.259766\" xlink:href=\"#DejaVuSans-116\"/>\n       <use x=\"341.46875\" xlink:href=\"#DejaVuSans-105\"/>\n       <use x=\"369.251953\" xlink:href=\"#DejaVuSans-111\"/>\n       <use x=\"430.433594\" xlink:href=\"#DejaVuSans-110\"/>\n       <use x=\"493.8125\" xlink:href=\"#DejaVuSans-32\"/>\n       <use x=\"525.599609\" xlink:href=\"#DejaVuSans-83\"/>\n       <use x=\"589.076172\" xlink:href=\"#DejaVuSans-99\"/>\n       <use x=\"644.056641\" xlink:href=\"#DejaVuSans-111\"/>\n       <use x=\"705.238281\" xlink:href=\"#DejaVuSans-114\"/>\n       <use x=\"744.101562\" xlink:href=\"#DejaVuSans-101\"/>\n      </g>\n     </g>\n    </g>\n   </g>\n   <g id=\"matplotlib.axis_2\">\n    <g id=\"ytick_1\">\n     <g id=\"line2d_1\">\n      <path clip-path=\"url(#pa694dfc819)\" d=\"M 34.89675 225.897386 \nL 330.308515 225.897386 \n\" style=\"fill:none;stroke:#cccccc;stroke-linecap:round;\"/>\n     </g>\n     <g id=\"text_3\">\n      <!-- 50 -->\n      <g style=\"fill:#262626;\" transform=\"translate(7.2 231.330269)scale(0.143 -0.143)\">\n       <defs>\n        <path d=\"M 10.796875 72.90625 \nL 49.515625 72.90625 \nL 49.515625 64.59375 \nL 19.828125 64.59375 \nL 19.828125 46.734375 \nQ 21.96875 47.46875 24.109375 47.828125 \nQ 26.265625 48.1875 28.421875 48.1875 \nQ 40.625 48.1875 47.75 41.5 \nQ 54.890625 34.8125 54.890625 23.390625 \nQ 54.890625 11.625 47.5625 5.09375 \nQ 40.234375 -1.421875 26.90625 -1.421875 \nQ 22.3125 -1.421875 17.546875 -0.640625 \nQ 12.796875 0.140625 7.71875 1.703125 \nL 7.71875 11.625 \nQ 12.109375 9.234375 16.796875 8.0625 \nQ 21.484375 6.890625 26.703125 6.890625 \nQ 35.15625 6.890625 40.078125 11.328125 \nQ 45.015625 15.765625 45.015625 23.390625 \nQ 45.015625 31 40.078125 35.4375 \nQ 35.15625 39.890625 26.703125 39.890625 \nQ 22.75 39.890625 18.8125 39.015625 \nQ 14.890625 38.140625 10.796875 36.28125 \nz\n\" id=\"DejaVuSans-53\"/>\n        <path d=\"M 31.78125 66.40625 \nQ 24.171875 66.40625 20.328125 58.90625 \nQ 16.5 51.421875 16.5 36.375 \nQ 16.5 21.390625 20.328125 13.890625 \nQ 24.171875 6.390625 31.78125 6.390625 \nQ 39.453125 6.390625 43.28125 13.890625 \nQ 47.125 21.390625 47.125 36.375 \nQ 47.125 51.421875 43.28125 58.90625 \nQ 39.453125 66.40625 31.78125 66.40625 \nz\nM 31.78125 74.21875 \nQ 44.046875 74.21875 50.515625 64.515625 \nQ 56.984375 54.828125 56.984375 36.375 \nQ 56.984375 17.96875 50.515625 8.265625 \nQ 44.046875 -1.421875 31.78125 -1.421875 \nQ 19.53125 -1.421875 13.0625 8.265625 \nQ 6.59375 17.96875 6.59375 36.375 \nQ 6.59375 54.828125 13.0625 64.515625 \nQ 19.53125 74.21875 31.78125 74.21875 \nz\n\" id=\"DejaVuSans-48\"/>\n       </defs>\n       <use xlink:href=\"#DejaVuSans-53\"/>\n       <use x=\"63.623047\" xlink:href=\"#DejaVuSans-48\"/>\n      </g>\n     </g>\n    </g>\n    <g id=\"ytick_2\">\n     <g id=\"line2d_2\">\n      <path clip-path=\"url(#pa694dfc819)\" d=\"M 34.89675 181.594623 \nL 330.308515 181.594623 \n\" style=\"fill:none;stroke:#cccccc;stroke-linecap:round;\"/>\n     </g>\n     <g id=\"text_4\">\n      <!-- 60 -->\n      <g style=\"fill:#262626;\" transform=\"translate(7.2 187.027506)scale(0.143 -0.143)\">\n       <defs>\n        <path d=\"M 33.015625 40.375 \nQ 26.375 40.375 22.484375 35.828125 \nQ 18.609375 31.296875 18.609375 23.390625 \nQ 18.609375 15.53125 22.484375 10.953125 \nQ 26.375 6.390625 33.015625 6.390625 \nQ 39.65625 6.390625 43.53125 10.953125 \nQ 47.40625 15.53125 47.40625 23.390625 \nQ 47.40625 31.296875 43.53125 35.828125 \nQ 39.65625 40.375 33.015625 40.375 \nz\nM 52.59375 71.296875 \nL 52.59375 62.3125 \nQ 48.875 64.0625 45.09375 64.984375 \nQ 41.3125 65.921875 37.59375 65.921875 \nQ 27.828125 65.921875 22.671875 59.328125 \nQ 17.53125 52.734375 16.796875 39.40625 \nQ 19.671875 43.65625 24.015625 45.921875 \nQ 28.375 48.1875 33.59375 48.1875 \nQ 44.578125 48.1875 50.953125 41.515625 \nQ 57.328125 34.859375 57.328125 23.390625 \nQ 57.328125 12.15625 50.6875 5.359375 \nQ 44.046875 -1.421875 33.015625 -1.421875 \nQ 20.359375 -1.421875 13.671875 8.265625 \nQ 6.984375 17.96875 6.984375 36.375 \nQ 6.984375 53.65625 15.1875 63.9375 \nQ 23.390625 74.21875 37.203125 74.21875 \nQ 40.921875 74.21875 44.703125 73.484375 \nQ 48.484375 72.75 52.59375 71.296875 \nz\n\" id=\"DejaVuSans-54\"/>\n       </defs>\n       <use xlink:href=\"#DejaVuSans-54\"/>\n       <use x=\"63.623047\" xlink:href=\"#DejaVuSans-48\"/>\n      </g>\n     </g>\n    </g>\n    <g id=\"ytick_3\">\n     <g id=\"line2d_3\">\n      <path clip-path=\"url(#pa694dfc819)\" d=\"M 34.89675 137.291859 \nL 330.308515 137.291859 \n\" style=\"fill:none;stroke:#cccccc;stroke-linecap:round;\"/>\n     </g>\n     <g id=\"text_5\">\n      <!-- 70 -->\n      <g style=\"fill:#262626;\" transform=\"translate(7.2 142.724742)scale(0.143 -0.143)\">\n       <defs>\n        <path d=\"M 8.203125 72.90625 \nL 55.078125 72.90625 \nL 55.078125 68.703125 \nL 28.609375 0 \nL 18.3125 0 \nL 43.21875 64.59375 \nL 8.203125 64.59375 \nz\n\" id=\"DejaVuSans-55\"/>\n       </defs>\n       <use xlink:href=\"#DejaVuSans-55\"/>\n       <use x=\"63.623047\" xlink:href=\"#DejaVuSans-48\"/>\n      </g>\n     </g>\n    </g>\n    <g id=\"ytick_4\">\n     <g id=\"line2d_4\">\n      <path clip-path=\"url(#pa694dfc819)\" d=\"M 34.89675 92.989096 \nL 330.308515 92.989096 \n\" style=\"fill:none;stroke:#cccccc;stroke-linecap:round;\"/>\n     </g>\n     <g id=\"text_6\">\n      <!-- 80 -->\n      <g style=\"fill:#262626;\" transform=\"translate(7.2 98.421979)scale(0.143 -0.143)\">\n       <defs>\n        <path d=\"M 31.78125 34.625 \nQ 24.75 34.625 20.71875 30.859375 \nQ 16.703125 27.09375 16.703125 20.515625 \nQ 16.703125 13.921875 20.71875 10.15625 \nQ 24.75 6.390625 31.78125 6.390625 \nQ 38.8125 6.390625 42.859375 10.171875 \nQ 46.921875 13.96875 46.921875 20.515625 \nQ 46.921875 27.09375 42.890625 30.859375 \nQ 38.875 34.625 31.78125 34.625 \nz\nM 21.921875 38.8125 \nQ 15.578125 40.375 12.03125 44.71875 \nQ 8.5 49.078125 8.5 55.328125 \nQ 8.5 64.0625 14.71875 69.140625 \nQ 20.953125 74.21875 31.78125 74.21875 \nQ 42.671875 74.21875 48.875 69.140625 \nQ 55.078125 64.0625 55.078125 55.328125 \nQ 55.078125 49.078125 51.53125 44.71875 \nQ 48 40.375 41.703125 38.8125 \nQ 48.828125 37.15625 52.796875 32.3125 \nQ 56.78125 27.484375 56.78125 20.515625 \nQ 56.78125 9.90625 50.3125 4.234375 \nQ 43.84375 -1.421875 31.78125 -1.421875 \nQ 19.734375 -1.421875 13.25 4.234375 \nQ 6.78125 9.90625 6.78125 20.515625 \nQ 6.78125 27.484375 10.78125 32.3125 \nQ 14.796875 37.15625 21.921875 38.8125 \nz\nM 18.3125 54.390625 \nQ 18.3125 48.734375 21.84375 45.5625 \nQ 25.390625 42.390625 31.78125 42.390625 \nQ 38.140625 42.390625 41.71875 45.5625 \nQ 45.3125 48.734375 45.3125 54.390625 \nQ 45.3125 60.0625 41.71875 63.234375 \nQ 38.140625 66.40625 31.78125 66.40625 \nQ 25.390625 66.40625 21.84375 63.234375 \nQ 18.3125 60.0625 18.3125 54.390625 \nz\n\" id=\"DejaVuSans-56\"/>\n       </defs>\n       <use xlink:href=\"#DejaVuSans-56\"/>\n       <use x=\"63.623047\" xlink:href=\"#DejaVuSans-48\"/>\n      </g>\n     </g>\n    </g>\n    <g id=\"ytick_5\">\n     <g id=\"line2d_5\">\n      <path clip-path=\"url(#pa694dfc819)\" d=\"M 34.89675 48.686332 \nL 330.308515 48.686332 \n\" style=\"fill:none;stroke:#cccccc;stroke-linecap:round;\"/>\n     </g>\n     <g id=\"text_7\">\n      <!-- 90 -->\n      <g style=\"fill:#262626;\" transform=\"translate(7.2 54.119215)scale(0.143 -0.143)\">\n       <defs>\n        <path d=\"M 10.984375 1.515625 \nL 10.984375 10.5 \nQ 14.703125 8.734375 18.5 7.8125 \nQ 22.3125 6.890625 25.984375 6.890625 \nQ 35.75 6.890625 40.890625 13.453125 \nQ 46.046875 20.015625 46.78125 33.40625 \nQ 43.953125 29.203125 39.59375 26.953125 \nQ 35.25 24.703125 29.984375 24.703125 \nQ 19.046875 24.703125 12.671875 31.3125 \nQ 6.296875 37.9375 6.296875 49.421875 \nQ 6.296875 60.640625 12.9375 67.421875 \nQ 19.578125 74.21875 30.609375 74.21875 \nQ 43.265625 74.21875 49.921875 64.515625 \nQ 56.59375 54.828125 56.59375 36.375 \nQ 56.59375 19.140625 48.40625 8.859375 \nQ 40.234375 -1.421875 26.421875 -1.421875 \nQ 22.703125 -1.421875 18.890625 -0.6875 \nQ 15.09375 0.046875 10.984375 1.515625 \nz\nM 30.609375 32.421875 \nQ 37.25 32.421875 41.125 36.953125 \nQ 45.015625 41.5 45.015625 49.421875 \nQ 45.015625 57.28125 41.125 61.84375 \nQ 37.25 66.40625 30.609375 66.40625 \nQ 23.96875 66.40625 20.09375 61.84375 \nQ 16.21875 57.28125 16.21875 49.421875 \nQ 16.21875 41.5 20.09375 36.953125 \nQ 23.96875 32.421875 30.609375 32.421875 \nz\n\" id=\"DejaVuSans-57\"/>\n       </defs>\n       <use xlink:href=\"#DejaVuSans-57\"/>\n       <use x=\"63.623047\" xlink:href=\"#DejaVuSans-48\"/>\n      </g>\n     </g>\n    </g>\n   </g>\n   <g id=\"patch_3\">\n    <path clip-path=\"url(#pa694dfc819)\" d=\"M 49.667338 49.290046 \nL 167.832044 49.290046 \nL 167.832044 42.576547 \nL 49.667338 42.576547 \nL 49.667338 49.290046 \nz\n\" style=\"fill:#5875a4;stroke:#4c4c4c;stroke-linejoin:miter;stroke-width:1.5;\"/>\n   </g>\n   <g id=\"patch_4\">\n    <path clip-path=\"url(#pa694dfc819)\" d=\"M 197.373221 206.748239 \nL 315.537926 206.748239 \nL 315.537926 171.97626 \nL 197.373221 171.97626 \nL 197.373221 206.748239 \nz\n\" style=\"fill:#cc8963;stroke:#4c4c4c;stroke-linejoin:miter;stroke-width:1.5;\"/>\n   </g>\n   <g id=\"line2d_6\">\n    <path clip-path=\"url(#pa694dfc819)\" d=\"M 108.749691 49.290046 \nL 108.749691 57.699215 \n\" style=\"fill:none;stroke:#4c4c4c;stroke-linecap:round;stroke-width:1.5;\"/>\n   </g>\n   <g id=\"line2d_7\">\n    <path clip-path=\"url(#pa694dfc819)\" d=\"M 108.749691 42.576547 \nL 108.749691 34.937199 \n\" style=\"fill:none;stroke:#4c4c4c;stroke-linecap:round;stroke-width:1.5;\"/>\n   </g>\n   <g id=\"line2d_8\">\n    <path clip-path=\"url(#pa694dfc819)\" d=\"M 79.208515 57.699215 \nL 138.290868 57.699215 \n\" style=\"fill:none;stroke:#4c4c4c;stroke-linecap:round;stroke-width:1.5;\"/>\n   </g>\n   <g id=\"line2d_9\">\n    <path clip-path=\"url(#pa694dfc819)\" d=\"M 79.208515 34.937199 \nL 138.290868 34.937199 \n\" style=\"fill:none;stroke:#4c4c4c;stroke-linecap:round;stroke-width:1.5;\"/>\n   </g>\n   <g id=\"line2d_10\"/>\n   <g id=\"line2d_11\">\n    <path clip-path=\"url(#pa694dfc819)\" d=\"M 256.455574 206.748239 \nL 256.455574 232.609926 \n\" style=\"fill:none;stroke:#4c4c4c;stroke-linecap:round;stroke-width:1.5;\"/>\n   </g>\n   <g id=\"line2d_12\">\n    <path clip-path=\"url(#pa694dfc819)\" d=\"M 256.455574 171.97626 \nL 256.455574 128.170702 \n\" style=\"fill:none;stroke:#4c4c4c;stroke-linecap:round;stroke-width:1.5;\"/>\n   </g>\n   <g id=\"line2d_13\">\n    <path clip-path=\"url(#pa694dfc819)\" d=\"M 226.914397 232.609926 \nL 285.99675 232.609926 \n\" style=\"fill:none;stroke:#4c4c4c;stroke-linecap:round;stroke-width:1.5;\"/>\n   </g>\n   <g id=\"line2d_14\">\n    <path clip-path=\"url(#pa694dfc819)\" d=\"M 226.914397 128.170702 \nL 285.99675 128.170702 \n\" style=\"fill:none;stroke:#4c4c4c;stroke-linecap:round;stroke-width:1.5;\"/>\n   </g>\n   <g id=\"line2d_15\"/>\n   <g id=\"line2d_16\">\n    <path clip-path=\"url(#pa694dfc819)\" d=\"M 49.667338 44.370304 \nL 167.832044 44.370304 \n\" style=\"fill:none;stroke:#4c4c4c;stroke-linecap:round;stroke-width:1.5;\"/>\n   </g>\n   <g id=\"line2d_17\">\n    <path clip-path=\"url(#pa694dfc819)\" d=\"M 197.373221 191.698341 \nL 315.537926 191.698341 \n\" style=\"fill:none;stroke:#4c4c4c;stroke-linecap:round;stroke-width:1.5;\"/>\n   </g>\n   <g id=\"patch_5\">\n    <path d=\"M 34.89675 242.493563 \nL 34.89675 25.053563 \n\" style=\"fill:none;stroke:#cccccc;stroke-linecap:square;stroke-linejoin:miter;stroke-width:1.25;\"/>\n   </g>\n   <g id=\"patch_6\">\n    <path d=\"M 330.308515 242.493563 \nL 330.308515 25.053563 \n\" style=\"fill:none;stroke:#cccccc;stroke-linecap:square;stroke-linejoin:miter;stroke-width:1.25;\"/>\n   </g>\n   <g id=\"patch_7\">\n    <path d=\"M 34.89675 242.493563 \nL 330.308515 242.493563 \n\" style=\"fill:none;stroke:#cccccc;stroke-linecap:square;stroke-linejoin:miter;stroke-width:1.25;\"/>\n   </g>\n   <g id=\"patch_8\">\n    <path d=\"M 34.89675 25.053563 \nL 330.308515 25.053563 \n\" style=\"fill:none;stroke:#cccccc;stroke-linecap:square;stroke-linejoin:miter;stroke-width:1.25;\"/>\n   </g>\n  </g>\n  <g id=\"axes_2\">\n   <g id=\"patch_9\">\n    <path d=\"M 389.390868 242.493563 \nL 625.720279 242.493563 \nL 625.720279 25.053563 \nL 389.390868 25.053563 \nz\n\" style=\"fill:#ffffff;\"/>\n   </g>\n   <g id=\"matplotlib.axis_3\">\n    <g id=\"xtick_3\">\n     <g id=\"text_8\">\n      <!-- CV -->\n      <g style=\"fill:#262626;\" transform=\"translate(418.895345 262.859328)scale(0.143 -0.143)\">\n       <defs>\n        <path d=\"M 64.40625 67.28125 \nL 64.40625 56.890625 \nQ 59.421875 61.53125 53.78125 63.8125 \nQ 48.140625 66.109375 41.796875 66.109375 \nQ 29.296875 66.109375 22.65625 58.46875 \nQ 16.015625 50.828125 16.015625 36.375 \nQ 16.015625 21.96875 22.65625 14.328125 \nQ 29.296875 6.6875 41.796875 6.6875 \nQ 48.140625 6.6875 53.78125 8.984375 \nQ 59.421875 11.28125 64.40625 15.921875 \nL 64.40625 5.609375 \nQ 59.234375 2.09375 53.4375 0.328125 \nQ 47.65625 -1.421875 41.21875 -1.421875 \nQ 24.65625 -1.421875 15.125 8.703125 \nQ 5.609375 18.84375 5.609375 36.375 \nQ 5.609375 53.953125 15.125 64.078125 \nQ 24.65625 74.21875 41.21875 74.21875 \nQ 47.75 74.21875 53.53125 72.484375 \nQ 59.328125 70.75 64.40625 67.28125 \nz\n\" id=\"DejaVuSans-67\"/>\n       </defs>\n       <use xlink:href=\"#DejaVuSans-67\"/>\n       <use x=\"69.824219\" xlink:href=\"#DejaVuSans-86\"/>\n      </g>\n     </g>\n    </g>\n    <g id=\"xtick_4\">\n     <g id=\"text_9\">\n      <!-- LX -->\n      <g style=\"fill:#262626;\" transform=\"translate(498.673933 262.859328)scale(0.143 -0.143)\">\n       <defs>\n        <path d=\"M 9.8125 72.90625 \nL 19.671875 72.90625 \nL 19.671875 8.296875 \nL 55.171875 8.296875 \nL 55.171875 0 \nL 9.8125 0 \nz\n\" id=\"DejaVuSans-76\"/>\n        <path d=\"M 6.296875 72.90625 \nL 16.890625 72.90625 \nL 35.015625 45.796875 \nL 53.21875 72.90625 \nL 63.8125 72.90625 \nL 40.375 37.890625 \nL 65.375 0 \nL 54.78125 0 \nL 34.28125 31 \nL 13.625 0 \nL 2.984375 0 \nL 29 38.921875 \nz\n\" id=\"DejaVuSans-88\"/>\n       </defs>\n       <use xlink:href=\"#DejaVuSans-76\"/>\n       <use x=\"55.712891\" xlink:href=\"#DejaVuSans-88\"/>\n      </g>\n     </g>\n    </g>\n    <g id=\"xtick_5\">\n     <g id=\"text_10\">\n      <!-- PL -->\n      <g style=\"fill:#262626;\" transform=\"translate(578.036927 262.859328)scale(0.143 -0.143)\">\n       <defs>\n        <path d=\"M 19.671875 64.796875 \nL 19.671875 37.40625 \nL 32.078125 37.40625 \nQ 38.96875 37.40625 42.71875 40.96875 \nQ 46.484375 44.53125 46.484375 51.125 \nQ 46.484375 57.671875 42.71875 61.234375 \nQ 38.96875 64.796875 32.078125 64.796875 \nz\nM 9.8125 72.90625 \nL 32.078125 72.90625 \nQ 44.34375 72.90625 50.609375 67.359375 \nQ 56.890625 61.8125 56.890625 51.125 \nQ 56.890625 40.328125 50.609375 34.8125 \nQ 44.34375 29.296875 32.078125 29.296875 \nL 19.671875 29.296875 \nL 19.671875 0 \nL 9.8125 0 \nz\n\" id=\"DejaVuSans-80\"/>\n       </defs>\n       <use xlink:href=\"#DejaVuSans-80\"/>\n       <use x=\"60.302734\" xlink:href=\"#DejaVuSans-76\"/>\n      </g>\n     </g>\n    </g>\n    <g id=\"text_11\">\n     <!-- Predicted class -->\n     <g style=\"fill:#262626;\" transform=\"translate(449.100667 281.686844)scale(0.156 -0.156)\">\n      <use xlink:href=\"#DejaVuSans-80\"/>\n      <use x=\"58.552734\" xlink:href=\"#DejaVuSans-114\"/>\n      <use x=\"97.416016\" xlink:href=\"#DejaVuSans-101\"/>\n      <use x=\"158.939453\" xlink:href=\"#DejaVuSans-100\"/>\n      <use x=\"222.416016\" xlink:href=\"#DejaVuSans-105\"/>\n      <use x=\"250.199219\" xlink:href=\"#DejaVuSans-99\"/>\n      <use x=\"305.179688\" xlink:href=\"#DejaVuSans-116\"/>\n      <use x=\"344.388672\" xlink:href=\"#DejaVuSans-101\"/>\n      <use x=\"405.912109\" xlink:href=\"#DejaVuSans-100\"/>\n      <use x=\"469.388672\" xlink:href=\"#DejaVuSans-32\"/>\n      <use x=\"501.175781\" xlink:href=\"#DejaVuSans-99\"/>\n      <use x=\"556.15625\" xlink:href=\"#DejaVuSans-108\"/>\n      <use x=\"583.939453\" xlink:href=\"#DejaVuSans-97\"/>\n      <use x=\"645.21875\" xlink:href=\"#DejaVuSans-115\"/>\n      <use x=\"697.318359\" xlink:href=\"#DejaVuSans-115\"/>\n     </g>\n    </g>\n   </g>\n   <g id=\"matplotlib.axis_4\">\n    <g id=\"ytick_6\">\n     <g id=\"text_12\">\n      <!-- CV -->\n      <g style=\"fill:#262626;\" transform=\"translate(376.916915 71.17732)rotate(-90)scale(0.143 -0.143)\">\n       <use xlink:href=\"#DejaVuSans-67\"/>\n       <use x=\"69.824219\" xlink:href=\"#DejaVuSans-86\"/>\n      </g>\n     </g>\n    </g>\n    <g id=\"ytick_7\">\n     <g id=\"text_13\">\n      <!-- LX -->\n      <g style=\"fill:#262626;\" transform=\"translate(376.916915 142.655203)rotate(-90)scale(0.143 -0.143)\">\n       <use xlink:href=\"#DejaVuSans-76\"/>\n       <use x=\"55.712891\" xlink:href=\"#DejaVuSans-88\"/>\n      </g>\n     </g>\n    </g>\n    <g id=\"ytick_8\">\n     <g id=\"text_14\">\n      <!-- PL -->\n      <g style=\"fill:#262626;\" transform=\"translate(376.916915 214.54868)rotate(-90)scale(0.143 -0.143)\">\n       <use xlink:href=\"#DejaVuSans-80\"/>\n       <use x=\"60.302734\" xlink:href=\"#DejaVuSans-76\"/>\n      </g>\n     </g>\n    </g>\n    <g id=\"text_15\">\n     <!-- True class -->\n     <g style=\"fill:#262626;\" transform=\"translate(358.806836 172.177594)rotate(-90)scale(0.156 -0.156)\">\n      <defs>\n       <path d=\"M 8.5 21.578125 \nL 8.5 54.6875 \nL 17.484375 54.6875 \nL 17.484375 21.921875 \nQ 17.484375 14.15625 20.5 10.265625 \nQ 23.53125 6.390625 29.59375 6.390625 \nQ 36.859375 6.390625 41.078125 11.03125 \nQ 45.3125 15.671875 45.3125 23.6875 \nL 45.3125 54.6875 \nL 54.296875 54.6875 \nL 54.296875 0 \nL 45.3125 0 \nL 45.3125 8.40625 \nQ 42.046875 3.421875 37.71875 1 \nQ 33.40625 -1.421875 27.6875 -1.421875 \nQ 18.265625 -1.421875 13.375 4.4375 \nQ 8.5 10.296875 8.5 21.578125 \nz\nM 31.109375 56 \nz\n\" id=\"DejaVuSans-117\"/>\n      </defs>\n      <use xlink:href=\"#DejaVuSans-84\"/>\n      <use x=\"46.333984\" xlink:href=\"#DejaVuSans-114\"/>\n      <use x=\"87.447266\" xlink:href=\"#DejaVuSans-117\"/>\n      <use x=\"150.826172\" xlink:href=\"#DejaVuSans-101\"/>\n      <use x=\"212.349609\" xlink:href=\"#DejaVuSans-32\"/>\n      <use x=\"244.136719\" xlink:href=\"#DejaVuSans-99\"/>\n      <use x=\"299.117188\" xlink:href=\"#DejaVuSans-108\"/>\n      <use x=\"326.900391\" xlink:href=\"#DejaVuSans-97\"/>\n      <use x=\"388.179688\" xlink:href=\"#DejaVuSans-115\"/>\n      <use x=\"440.279297\" xlink:href=\"#DejaVuSans-115\"/>\n     </g>\n    </g>\n   </g>\n   <g id=\"QuadMesh_1\">\n    <path clip-path=\"url(#p7fb87435fd)\" d=\"M 389.390868 25.053563 \nL 468.167338 25.053563 \nL 468.167338 97.533563 \nL 389.390868 97.533563 \nL 389.390868 25.053563 \n\" style=\"fill:#006837;\"/>\n    <path clip-path=\"url(#p7fb87435fd)\" d=\"M 468.167338 25.053563 \nL 546.943809 25.053563 \nL 546.943809 97.533563 \nL 468.167338 97.533563 \nL 468.167338 25.053563 \n\" style=\"fill:#a50026;\"/>\n    <path clip-path=\"url(#p7fb87435fd)\" d=\"M 546.943809 25.053563 \nL 625.720279 25.053563 \nL 625.720279 97.533563 \nL 546.943809 97.533563 \nL 546.943809 25.053563 \n\" style=\"fill:#ad0826;\"/>\n    <path clip-path=\"url(#p7fb87435fd)\" d=\"M 389.390868 97.533563 \nL 468.167338 97.533563 \nL 468.167338 170.013563 \nL 389.390868 170.013563 \nL 389.390868 97.533563 \n\" style=\"fill:#a50026;\"/>\n    <path clip-path=\"url(#p7fb87435fd)\" d=\"M 468.167338 97.533563 \nL 546.943809 97.533563 \nL 546.943809 170.013563 \nL 468.167338 170.013563 \nL 468.167338 97.533563 \n\" style=\"fill:#eff8aa;\"/>\n    <path clip-path=\"url(#p7fb87435fd)\" d=\"M 546.943809 97.533563 \nL 625.720279 97.533563 \nL 625.720279 170.013563 \nL 546.943809 170.013563 \nL 546.943809 97.533563 \n\" style=\"fill:#a50026;\"/>\n    <path clip-path=\"url(#p7fb87435fd)\" d=\"M 389.390868 170.013563 \nL 468.167338 170.013563 \nL 468.167338 242.493563 \nL 389.390868 242.493563 \nL 389.390868 170.013563 \n\" style=\"fill:#ad0826;\"/>\n    <path clip-path=\"url(#p7fb87435fd)\" d=\"M 468.167338 170.013563 \nL 546.943809 170.013563 \nL 546.943809 242.493563 \nL 468.167338 242.493563 \nL 468.167338 170.013563 \n\" style=\"fill:#a50026;\"/>\n    <path clip-path=\"url(#p7fb87435fd)\" d=\"M 546.943809 170.013563 \nL 625.720279 170.013563 \nL 625.720279 242.493563 \nL 546.943809 242.493563 \nL 546.943809 170.013563 \n\" style=\"fill:#fba05b;\"/>\n   </g>\n   <g id=\"text_16\">\n    <!-- 747 -->\n    <g style=\"fill:#ffffff;\" transform=\"translate(413.890853 65.598188)scale(0.156 -0.156)\">\n     <defs>\n      <path d=\"M 37.796875 64.3125 \nL 12.890625 25.390625 \nL 37.796875 25.390625 \nz\nM 35.203125 72.90625 \nL 47.609375 72.90625 \nL 47.609375 25.390625 \nL 58.015625 25.390625 \nL 58.015625 17.1875 \nL 47.609375 17.1875 \nL 47.609375 0 \nL 37.796875 0 \nL 37.796875 17.1875 \nL 4.890625 17.1875 \nL 4.890625 26.703125 \nz\n\" id=\"DejaVuSans-52\"/>\n     </defs>\n     <use xlink:href=\"#DejaVuSans-55\"/>\n     <use x=\"63.623047\" xlink:href=\"#DejaVuSans-52\"/>\n     <use x=\"127.246094\" xlink:href=\"#DejaVuSans-55\"/>\n    </g>\n   </g>\n   <g id=\"text_17\">\n    <!-- 0 -->\n    <g style=\"fill:#ffffff;\" transform=\"translate(502.592824 65.598188)scale(0.156 -0.156)\">\n     <use xlink:href=\"#DejaVuSans-48\"/>\n    </g>\n   </g>\n   <g id=\"text_18\">\n    <!-- 12 -->\n    <g style=\"fill:#ffffff;\" transform=\"translate(576.406544 65.598188)scale(0.156 -0.156)\">\n     <defs>\n      <path d=\"M 12.40625 8.296875 \nL 28.515625 8.296875 \nL 28.515625 63.921875 \nL 10.984375 60.40625 \nL 10.984375 69.390625 \nL 28.421875 72.90625 \nL 38.28125 72.90625 \nL 38.28125 8.296875 \nL 54.390625 8.296875 \nL 54.390625 0 \nL 12.40625 0 \nz\n\" id=\"DejaVuSans-49\"/>\n      <path d=\"M 19.1875 8.296875 \nL 53.609375 8.296875 \nL 53.609375 0 \nL 7.328125 0 \nL 7.328125 8.296875 \nQ 12.9375 14.109375 22.625 23.890625 \nQ 32.328125 33.6875 34.8125 36.53125 \nQ 39.546875 41.84375 41.421875 45.53125 \nQ 43.3125 49.21875 43.3125 52.78125 \nQ 43.3125 58.59375 39.234375 62.25 \nQ 35.15625 65.921875 28.609375 65.921875 \nQ 23.96875 65.921875 18.8125 64.3125 \nQ 13.671875 62.703125 7.8125 59.421875 \nL 7.8125 69.390625 \nQ 13.765625 71.78125 18.9375 73 \nQ 24.125 74.21875 28.421875 74.21875 \nQ 39.75 74.21875 46.484375 68.546875 \nQ 53.21875 62.890625 53.21875 53.421875 \nQ 53.21875 48.921875 51.53125 44.890625 \nQ 49.859375 40.875 45.40625 35.40625 \nQ 44.1875 33.984375 37.640625 27.21875 \nQ 31.109375 20.453125 19.1875 8.296875 \nz\n\" id=\"DejaVuSans-50\"/>\n     </defs>\n     <use xlink:href=\"#DejaVuSans-49\"/>\n     <use x=\"63.623047\" xlink:href=\"#DejaVuSans-50\"/>\n    </g>\n   </g>\n   <g id=\"text_19\">\n    <!-- 0 -->\n    <g style=\"fill:#ffffff;\" transform=\"translate(423.816353 138.078188)scale(0.156 -0.156)\">\n     <use xlink:href=\"#DejaVuSans-48\"/>\n    </g>\n   </g>\n   <g id=\"text_20\">\n    <!-- 405 -->\n    <g style=\"fill:#262626;\" transform=\"translate(492.667324 138.078188)scale(0.156 -0.156)\">\n     <use xlink:href=\"#DejaVuSans-52\"/>\n     <use x=\"63.623047\" xlink:href=\"#DejaVuSans-48\"/>\n     <use x=\"127.246094\" xlink:href=\"#DejaVuSans-53\"/>\n    </g>\n   </g>\n   <g id=\"text_21\">\n    <!-- 0 -->\n    <g style=\"fill:#ffffff;\" transform=\"translate(581.369294 138.078188)scale(0.156 -0.156)\">\n     <use xlink:href=\"#DejaVuSans-48\"/>\n    </g>\n   </g>\n   <g id=\"text_22\">\n    <!-- 13 -->\n    <g style=\"fill:#ffffff;\" transform=\"translate(418.853603 210.558188)scale(0.156 -0.156)\">\n     <defs>\n      <path d=\"M 40.578125 39.3125 \nQ 47.65625 37.796875 51.625 33 \nQ 55.609375 28.21875 55.609375 21.1875 \nQ 55.609375 10.40625 48.1875 4.484375 \nQ 40.765625 -1.421875 27.09375 -1.421875 \nQ 22.515625 -1.421875 17.65625 -0.515625 \nQ 12.796875 0.390625 7.625 2.203125 \nL 7.625 11.71875 \nQ 11.71875 9.328125 16.59375 8.109375 \nQ 21.484375 6.890625 26.8125 6.890625 \nQ 36.078125 6.890625 40.9375 10.546875 \nQ 45.796875 14.203125 45.796875 21.1875 \nQ 45.796875 27.640625 41.28125 31.265625 \nQ 36.765625 34.90625 28.71875 34.90625 \nL 20.21875 34.90625 \nL 20.21875 43.015625 \nL 29.109375 43.015625 \nQ 36.375 43.015625 40.234375 45.921875 \nQ 44.09375 48.828125 44.09375 54.296875 \nQ 44.09375 59.90625 40.109375 62.90625 \nQ 36.140625 65.921875 28.71875 65.921875 \nQ 24.65625 65.921875 20.015625 65.03125 \nQ 15.375 64.15625 9.8125 62.3125 \nL 9.8125 71.09375 \nQ 15.4375 72.65625 20.34375 73.4375 \nQ 25.25 74.21875 29.59375 74.21875 \nQ 40.828125 74.21875 47.359375 69.109375 \nQ 53.90625 64.015625 53.90625 55.328125 \nQ 53.90625 49.265625 50.4375 45.09375 \nQ 46.96875 40.921875 40.578125 39.3125 \nz\n\" id=\"DejaVuSans-51\"/>\n     </defs>\n     <use xlink:href=\"#DejaVuSans-49\"/>\n     <use x=\"63.623047\" xlink:href=\"#DejaVuSans-51\"/>\n    </g>\n   </g>\n   <g id=\"text_23\">\n    <!-- 2 -->\n    <g style=\"fill:#ffffff;\" transform=\"translate(502.592824 210.558188)scale(0.156 -0.156)\">\n     <use xlink:href=\"#DejaVuSans-50\"/>\n    </g>\n   </g>\n   <g id=\"text_24\">\n    <!-- 208 -->\n    <g style=\"fill:#262626;\" transform=\"translate(571.443794 210.558188)scale(0.156 -0.156)\">\n     <use xlink:href=\"#DejaVuSans-50\"/>\n     <use x=\"63.623047\" xlink:href=\"#DejaVuSans-48\"/>\n     <use x=\"127.246094\" xlink:href=\"#DejaVuSans-56\"/>\n    </g>\n   </g>\n   <g id=\"text_25\">\n    <!-- Training CF -->\n    <g style=\"fill:#262626;\" transform=\"translate(464.371605 19.053563)scale(0.156 -0.156)\">\n     <defs>\n      <path d=\"M 45.40625 27.984375 \nQ 45.40625 37.75 41.375 43.109375 \nQ 37.359375 48.484375 30.078125 48.484375 \nQ 22.859375 48.484375 18.828125 43.109375 \nQ 14.796875 37.75 14.796875 27.984375 \nQ 14.796875 18.265625 18.828125 12.890625 \nQ 22.859375 7.515625 30.078125 7.515625 \nQ 37.359375 7.515625 41.375 12.890625 \nQ 45.40625 18.265625 45.40625 27.984375 \nz\nM 54.390625 6.78125 \nQ 54.390625 -7.171875 48.1875 -13.984375 \nQ 42 -20.796875 29.203125 -20.796875 \nQ 24.46875 -20.796875 20.265625 -20.09375 \nQ 16.0625 -19.390625 12.109375 -17.921875 \nL 12.109375 -9.1875 \nQ 16.0625 -11.328125 19.921875 -12.34375 \nQ 23.78125 -13.375 27.78125 -13.375 \nQ 36.625 -13.375 41.015625 -8.765625 \nQ 45.40625 -4.15625 45.40625 5.171875 \nL 45.40625 9.625 \nQ 42.625 4.78125 38.28125 2.390625 \nQ 33.9375 0 27.875 0 \nQ 17.828125 0 11.671875 7.65625 \nQ 5.515625 15.328125 5.515625 27.984375 \nQ 5.515625 40.671875 11.671875 48.328125 \nQ 17.828125 56 27.875 56 \nQ 33.9375 56 38.28125 53.609375 \nQ 42.625 51.21875 45.40625 46.390625 \nL 45.40625 54.6875 \nL 54.390625 54.6875 \nz\n\" id=\"DejaVuSans-103\"/>\n      <path d=\"M 9.8125 72.90625 \nL 51.703125 72.90625 \nL 51.703125 64.59375 \nL 19.671875 64.59375 \nL 19.671875 43.109375 \nL 48.578125 43.109375 \nL 48.578125 34.8125 \nL 19.671875 34.8125 \nL 19.671875 0 \nL 9.8125 0 \nz\n\" id=\"DejaVuSans-70\"/>\n     </defs>\n     <use xlink:href=\"#DejaVuSans-84\"/>\n     <use x=\"46.333984\" xlink:href=\"#DejaVuSans-114\"/>\n     <use x=\"87.447266\" xlink:href=\"#DejaVuSans-97\"/>\n     <use x=\"148.726562\" xlink:href=\"#DejaVuSans-105\"/>\n     <use x=\"176.509766\" xlink:href=\"#DejaVuSans-110\"/>\n     <use x=\"239.888672\" xlink:href=\"#DejaVuSans-105\"/>\n     <use x=\"267.671875\" xlink:href=\"#DejaVuSans-110\"/>\n     <use x=\"331.050781\" xlink:href=\"#DejaVuSans-103\"/>\n     <use x=\"394.527344\" xlink:href=\"#DejaVuSans-32\"/>\n     <use x=\"426.314453\" xlink:href=\"#DejaVuSans-67\"/>\n     <use x=\"496.138672\" xlink:href=\"#DejaVuSans-70\"/>\n    </g>\n   </g>\n  </g>\n  <g id=\"axes_3\">\n   <g id=\"patch_10\">\n    <path d=\"M 743.884985 242.493563 \nL 980.214397 242.493563 \nL 980.214397 25.053563 \nL 743.884985 25.053563 \nz\n\" style=\"fill:#ffffff;\"/>\n   </g>\n   <g id=\"matplotlib.axis_5\">\n    <g id=\"xtick_6\">\n     <g id=\"text_26\">\n      <!-- CV -->\n      <g style=\"fill:#262626;\" transform=\"translate(773.389463 262.859328)scale(0.143 -0.143)\">\n       <use xlink:href=\"#DejaVuSans-67\"/>\n       <use x=\"69.824219\" xlink:href=\"#DejaVuSans-86\"/>\n      </g>\n     </g>\n    </g>\n    <g id=\"xtick_7\">\n     <g id=\"text_27\">\n      <!-- LX -->\n      <g style=\"fill:#262626;\" transform=\"translate(853.168051 262.859328)scale(0.143 -0.143)\">\n       <use xlink:href=\"#DejaVuSans-76\"/>\n       <use x=\"55.712891\" xlink:href=\"#DejaVuSans-88\"/>\n      </g>\n     </g>\n    </g>\n    <g id=\"xtick_8\">\n     <g id=\"text_28\">\n      <!-- PL -->\n      <g style=\"fill:#262626;\" transform=\"translate(932.531045 262.859328)scale(0.143 -0.143)\">\n       <use xlink:href=\"#DejaVuSans-80\"/>\n       <use x=\"60.302734\" xlink:href=\"#DejaVuSans-76\"/>\n      </g>\n     </g>\n    </g>\n    <g id=\"text_29\">\n     <!-- Predicted class -->\n     <g style=\"fill:#262626;\" transform=\"translate(803.594785 281.686844)scale(0.156 -0.156)\">\n      <use xlink:href=\"#DejaVuSans-80\"/>\n      <use x=\"58.552734\" xlink:href=\"#DejaVuSans-114\"/>\n      <use x=\"97.416016\" xlink:href=\"#DejaVuSans-101\"/>\n      <use x=\"158.939453\" xlink:href=\"#DejaVuSans-100\"/>\n      <use x=\"222.416016\" xlink:href=\"#DejaVuSans-105\"/>\n      <use x=\"250.199219\" xlink:href=\"#DejaVuSans-99\"/>\n      <use x=\"305.179688\" xlink:href=\"#DejaVuSans-116\"/>\n      <use x=\"344.388672\" xlink:href=\"#DejaVuSans-101\"/>\n      <use x=\"405.912109\" xlink:href=\"#DejaVuSans-100\"/>\n      <use x=\"469.388672\" xlink:href=\"#DejaVuSans-32\"/>\n      <use x=\"501.175781\" xlink:href=\"#DejaVuSans-99\"/>\n      <use x=\"556.15625\" xlink:href=\"#DejaVuSans-108\"/>\n      <use x=\"583.939453\" xlink:href=\"#DejaVuSans-97\"/>\n      <use x=\"645.21875\" xlink:href=\"#DejaVuSans-115\"/>\n      <use x=\"697.318359\" xlink:href=\"#DejaVuSans-115\"/>\n     </g>\n    </g>\n   </g>\n   <g id=\"matplotlib.axis_6\">\n    <g id=\"ytick_9\">\n     <g id=\"text_30\">\n      <!-- CV -->\n      <g style=\"fill:#262626;\" transform=\"translate(731.411032 71.17732)rotate(-90)scale(0.143 -0.143)\">\n       <use xlink:href=\"#DejaVuSans-67\"/>\n       <use x=\"69.824219\" xlink:href=\"#DejaVuSans-86\"/>\n      </g>\n     </g>\n    </g>\n    <g id=\"ytick_10\">\n     <g id=\"text_31\">\n      <!-- LX -->\n      <g style=\"fill:#262626;\" transform=\"translate(731.411032 142.655203)rotate(-90)scale(0.143 -0.143)\">\n       <use xlink:href=\"#DejaVuSans-76\"/>\n       <use x=\"55.712891\" xlink:href=\"#DejaVuSans-88\"/>\n      </g>\n     </g>\n    </g>\n    <g id=\"ytick_11\">\n     <g id=\"text_32\">\n      <!-- PL -->\n      <g style=\"fill:#262626;\" transform=\"translate(731.411032 214.54868)rotate(-90)scale(0.143 -0.143)\">\n       <use xlink:href=\"#DejaVuSans-80\"/>\n       <use x=\"60.302734\" xlink:href=\"#DejaVuSans-76\"/>\n      </g>\n     </g>\n    </g>\n    <g id=\"text_33\">\n     <!-- True class -->\n     <g style=\"fill:#262626;\" transform=\"translate(713.300954 172.177594)rotate(-90)scale(0.156 -0.156)\">\n      <use xlink:href=\"#DejaVuSans-84\"/>\n      <use x=\"46.333984\" xlink:href=\"#DejaVuSans-114\"/>\n      <use x=\"87.447266\" xlink:href=\"#DejaVuSans-117\"/>\n      <use x=\"150.826172\" xlink:href=\"#DejaVuSans-101\"/>\n      <use x=\"212.349609\" xlink:href=\"#DejaVuSans-32\"/>\n      <use x=\"244.136719\" xlink:href=\"#DejaVuSans-99\"/>\n      <use x=\"299.117188\" xlink:href=\"#DejaVuSans-108\"/>\n      <use x=\"326.900391\" xlink:href=\"#DejaVuSans-97\"/>\n      <use x=\"388.179688\" xlink:href=\"#DejaVuSans-115\"/>\n      <use x=\"440.279297\" xlink:href=\"#DejaVuSans-115\"/>\n     </g>\n    </g>\n   </g>\n   <g id=\"QuadMesh_2\">\n    <path clip-path=\"url(#pff768b4656)\" d=\"M 743.884985 25.053563 \nL 822.661456 25.053563 \nL 822.661456 97.533563 \nL 743.884985 97.533563 \nL 743.884985 25.053563 \n\" style=\"fill:#006837;\"/>\n    <path clip-path=\"url(#pff768b4656)\" d=\"M 822.661456 25.053563 \nL 901.437926 25.053563 \nL 901.437926 97.533563 \nL 822.661456 97.533563 \nL 822.661456 25.053563 \n\" style=\"fill:#e14430;\"/>\n    <path clip-path=\"url(#pff768b4656)\" d=\"M 901.437926 25.053563 \nL 980.214397 25.053563 \nL 980.214397 97.533563 \nL 901.437926 97.533563 \nL 901.437926 25.053563 \n\" style=\"fill:#78c565;\"/>\n    <path clip-path=\"url(#pff768b4656)\" d=\"M 743.884985 97.533563 \nL 822.661456 97.533563 \nL 822.661456 170.013563 \nL 743.884985 170.013563 \nL 743.884985 97.533563 \n\" style=\"fill:#d22b27;\"/>\n    <path clip-path=\"url(#pff768b4656)\" d=\"M 822.661456 97.533563 \nL 901.437926 97.533563 \nL 901.437926 170.013563 \nL 822.661456 170.013563 \nL 822.661456 97.533563 \n\" style=\"fill:#fdb768;\"/>\n    <path clip-path=\"url(#pff768b4656)\" d=\"M 901.437926 97.533563 \nL 980.214397 97.533563 \nL 980.214397 170.013563 \nL 901.437926 170.013563 \nL 901.437926 97.533563 \n\" style=\"fill:#e14430;\"/>\n    <path clip-path=\"url(#pff768b4656)\" d=\"M 743.884985 170.013563 \nL 822.661456 170.013563 \nL 822.661456 242.493563 \nL 743.884985 242.493563 \nL 743.884985 170.013563 \n\" style=\"fill:#bb1526;\"/>\n    <path clip-path=\"url(#pff768b4656)\" d=\"M 822.661456 170.013563 \nL 901.437926 170.013563 \nL 901.437926 242.493563 \nL 822.661456 242.493563 \nL 822.661456 170.013563 \n\" style=\"fill:#a50026;\"/>\n    <path clip-path=\"url(#pff768b4656)\" d=\"M 901.437926 170.013563 \nL 980.214397 170.013563 \nL 980.214397 242.493563 \nL 901.437926 242.493563 \nL 901.437926 170.013563 \n\" style=\"fill:#c7e77f;\"/>\n   </g>\n   <g id=\"text_34\">\n    <!-- 23 -->\n    <g style=\"fill:#ffffff;\" transform=\"translate(773.347721 65.598188)scale(0.156 -0.156)\">\n     <use xlink:href=\"#DejaVuSans-50\"/>\n     <use x=\"63.623047\" xlink:href=\"#DejaVuSans-51\"/>\n    </g>\n   </g>\n   <g id=\"text_35\">\n    <!-- 4 -->\n    <g style=\"fill:#ffffff;\" transform=\"translate(857.086941 65.598188)scale(0.156 -0.156)\">\n     <use xlink:href=\"#DejaVuSans-52\"/>\n    </g>\n   </g>\n   <g id=\"text_36\">\n    <!-- 18 -->\n    <g style=\"fill:#262626;\" transform=\"translate(930.900662 65.598188)scale(0.156 -0.156)\">\n     <use xlink:href=\"#DejaVuSans-49\"/>\n     <use x=\"63.623047\" xlink:href=\"#DejaVuSans-56\"/>\n    </g>\n   </g>\n   <g id=\"text_37\">\n    <!-- 3 -->\n    <g style=\"fill:#ffffff;\" transform=\"translate(778.310471 138.078188)scale(0.156 -0.156)\">\n     <use xlink:href=\"#DejaVuSans-51\"/>\n    </g>\n   </g>\n   <g id=\"text_38\">\n    <!-- 8 -->\n    <g style=\"fill:#262626;\" transform=\"translate(857.086941 138.078188)scale(0.156 -0.156)\">\n     <use xlink:href=\"#DejaVuSans-56\"/>\n    </g>\n   </g>\n   <g id=\"text_39\">\n    <!-- 4 -->\n    <g style=\"fill:#ffffff;\" transform=\"translate(935.863412 138.078188)scale(0.156 -0.156)\">\n     <use xlink:href=\"#DejaVuSans-52\"/>\n    </g>\n   </g>\n   <g id=\"text_40\">\n    <!-- 2 -->\n    <g style=\"fill:#ffffff;\" transform=\"translate(778.310471 210.558188)scale(0.156 -0.156)\">\n     <use xlink:href=\"#DejaVuSans-50\"/>\n    </g>\n   </g>\n   <g id=\"text_41\">\n    <!-- 1 -->\n    <g style=\"fill:#ffffff;\" transform=\"translate(857.086941 210.558188)scale(0.156 -0.156)\">\n     <use xlink:href=\"#DejaVuSans-49\"/>\n    </g>\n   </g>\n   <g id=\"text_42\">\n    <!-- 15 -->\n    <g style=\"fill:#262626;\" transform=\"translate(930.900662 210.558188)scale(0.156 -0.156)\">\n     <use xlink:href=\"#DejaVuSans-49\"/>\n     <use x=\"63.623047\" xlink:href=\"#DejaVuSans-53\"/>\n    </g>\n   </g>\n   <g id=\"text_43\">\n    <!-- Validation CF -->\n    <g style=\"fill:#262626;\" transform=\"translate(811.120566 19.053563)scale(0.156 -0.156)\">\n     <use xlink:href=\"#DejaVuSans-86\"/>\n     <use x=\"60.658203\" xlink:href=\"#DejaVuSans-97\"/>\n     <use x=\"121.9375\" xlink:href=\"#DejaVuSans-108\"/>\n     <use x=\"149.720703\" xlink:href=\"#DejaVuSans-105\"/>\n     <use x=\"177.503906\" xlink:href=\"#DejaVuSans-100\"/>\n     <use x=\"240.980469\" xlink:href=\"#DejaVuSans-97\"/>\n     <use x=\"302.259766\" xlink:href=\"#DejaVuSans-116\"/>\n     <use x=\"341.46875\" xlink:href=\"#DejaVuSans-105\"/>\n     <use x=\"369.251953\" xlink:href=\"#DejaVuSans-111\"/>\n     <use x=\"430.433594\" xlink:href=\"#DejaVuSans-110\"/>\n     <use x=\"493.8125\" xlink:href=\"#DejaVuSans-32\"/>\n     <use x=\"525.599609\" xlink:href=\"#DejaVuSans-67\"/>\n     <use x=\"595.423828\" xlink:href=\"#DejaVuSans-70\"/>\n    </g>\n   </g>\n  </g>\n  <g id=\"axes_4\">\n   <g id=\"patch_11\">\n    <path clip-path=\"url(#pb41df6f185)\" d=\"M 640.490868 242.493563 \nL 640.490868 241.644188 \nL 640.490868 25.902938 \nL 640.490868 25.053563 \nL 651.362868 25.053563 \nL 651.362868 25.902938 \nL 651.362868 241.644188 \nL 651.362868 242.493563 \nz\n\" style=\"fill:#ffffff;stroke:#ffffff;stroke-linejoin:miter;stroke-width:0.01;\"/>\n   </g>\n   <g id=\"matplotlib.axis_7\"/>\n   <g id=\"matplotlib.axis_8\">\n    <g id=\"ytick_12\">\n     <g id=\"line2d_18\">\n      <defs>\n       <path d=\"M 0 0 \nL 6 0 \n\" id=\"mbefa02711a\" style=\"stroke:#262626;stroke-width:1.25;\"/>\n      </defs>\n      <g>\n       <use style=\"fill:#262626;stroke:#262626;stroke-width:1.25;\" x=\"651.362868\" xlink:href=\"#mbefa02711a\" y=\"242.493563\"/>\n      </g>\n     </g>\n     <g id=\"text_44\">\n      <!-- 0 -->\n      <g style=\"fill:#262626;\" transform=\"translate(660.862868 247.926445)scale(0.143 -0.143)\">\n       <use xlink:href=\"#DejaVuSans-48\"/>\n      </g>\n     </g>\n    </g>\n    <g id=\"ytick_13\">\n     <g id=\"line2d_19\">\n      <g>\n       <use style=\"fill:#262626;stroke:#262626;stroke-width:1.25;\" x=\"651.362868\" xlink:href=\"#mbefa02711a\" y=\"184.276695\"/>\n      </g>\n     </g>\n     <g id=\"text_45\">\n      <!-- 200 -->\n      <g style=\"fill:#262626;\" transform=\"translate(660.862868 189.709578)scale(0.143 -0.143)\">\n       <use xlink:href=\"#DejaVuSans-50\"/>\n       <use x=\"63.623047\" xlink:href=\"#DejaVuSans-48\"/>\n       <use x=\"127.246094\" xlink:href=\"#DejaVuSans-48\"/>\n      </g>\n     </g>\n    </g>\n    <g id=\"ytick_14\">\n     <g id=\"line2d_20\">\n      <g>\n       <use style=\"fill:#262626;stroke:#262626;stroke-width:1.25;\" x=\"651.362868\" xlink:href=\"#mbefa02711a\" y=\"126.059828\"/>\n      </g>\n     </g>\n     <g id=\"text_46\">\n      <!-- 400 -->\n      <g style=\"fill:#262626;\" transform=\"translate(660.862868 131.49271)scale(0.143 -0.143)\">\n       <use xlink:href=\"#DejaVuSans-52\"/>\n       <use x=\"63.623047\" xlink:href=\"#DejaVuSans-48\"/>\n       <use x=\"127.246094\" xlink:href=\"#DejaVuSans-48\"/>\n      </g>\n     </g>\n    </g>\n    <g id=\"ytick_15\">\n     <g id=\"line2d_21\">\n      <g>\n       <use style=\"fill:#262626;stroke:#262626;stroke-width:1.25;\" x=\"651.362868\" xlink:href=\"#mbefa02711a\" y=\"67.84296\"/>\n      </g>\n     </g>\n     <g id=\"text_47\">\n      <!-- 600 -->\n      <g style=\"fill:#262626;\" transform=\"translate(660.862868 73.275843)scale(0.143 -0.143)\">\n       <use xlink:href=\"#DejaVuSans-54\"/>\n       <use x=\"63.623047\" xlink:href=\"#DejaVuSans-48\"/>\n       <use x=\"127.246094\" xlink:href=\"#DejaVuSans-48\"/>\n      </g>\n     </g>\n    </g>\n   </g>\n   <image height=\"217\" id=\"image492c9108f2\" transform=\"scale(1 -1)translate(0 -217)\" width=\"11\" x=\"640\" xlink:href=\"data:image/png;base64,\niVBORw0KGgoAAAANSUhEUgAAAAsAAADZCAYAAAD2WsoCAAABVUlEQVR4nO2YwQ3DMAwDbcddpat3xySWu4KuwAFq0bwJgjrRgZP+Gs/dks8cIyul4nlYzkXEc1rOvXfJ+RtpiOI8ZpcGWHc/iBg5E/F45HGwzIyGiA4MyGhomYuggzQsdEM7KWjApsVoB4mhrbtp5UcDQmdCQ1t3Q+Vnzh6N/MVOLb9Fg3EG11y2bii2Wvf7A7Iz6NHwBvx342Pn/D0eOvcaYo9Gjcy9k4qyGL/ejaPGuol4ky/6vSMvXvvOi4M47wbEzJmIg8RYAWiIA7YlOaN1M85FuqGtGxUJokv/2IY07hoxoHMRGkUG1GiE9RYtQuMO9Ba1Yqy81nS+Ag0InOGAyJlkzje0zYuIWQwRHYgBByQxSJHMbgAxKj9a99KKtLTMJ2AnxvDQncCaFcmkYR0rSKPEBhGNi/R5E2dRTGgg57jJd0oRGpo4SPmLZBbXrbWuhvgNQNAvDzjwGYUAAAAASUVORK5CYII=\" y=\"-25\"/>\n   <g id=\"patch_12\">\n    <path d=\"M 640.490868 242.493563 \nL 640.490868 241.644188 \nL 640.490868 25.902938 \nL 640.490868 25.053563 \nL 651.362868 25.053563 \nL 651.362868 25.902938 \nL 651.362868 241.644188 \nL 651.362868 242.493563 \nz\n\" style=\"fill:none;\"/>\n   </g>\n  </g>\n  <g id=\"axes_5\">\n   <g id=\"patch_13\">\n    <path clip-path=\"url(#pe653e1b11b)\" d=\"M 994.984985 242.493563 \nL 994.984985 241.644188 \nL 994.984985 25.902938 \nL 994.984985 25.053563 \nL 1005.856985 25.053563 \nL 1005.856985 25.902938 \nL 1005.856985 241.644188 \nL 1005.856985 242.493563 \nz\n\" style=\"fill:#ffffff;stroke:#ffffff;stroke-linejoin:miter;stroke-width:0.01;\"/>\n   </g>\n   <g id=\"matplotlib.axis_9\"/>\n   <g id=\"matplotlib.axis_10\">\n    <g id=\"ytick_16\">\n     <g id=\"line2d_22\">\n      <g>\n       <use style=\"fill:#262626;stroke:#262626;stroke-width:1.25;\" x=\"1005.856985\" xlink:href=\"#mbefa02711a\" y=\"202.959017\"/>\n      </g>\n     </g>\n     <g id=\"text_48\">\n      <!-- 5 -->\n      <g style=\"fill:#262626;\" transform=\"translate(1015.356985 208.3919)scale(0.143 -0.143)\">\n       <use xlink:href=\"#DejaVuSans-53\"/>\n      </g>\n     </g>\n    </g>\n    <g id=\"ytick_17\">\n     <g id=\"line2d_23\">\n      <g>\n       <use style=\"fill:#262626;stroke:#262626;stroke-width:1.25;\" x=\"1005.856985\" xlink:href=\"#mbefa02711a\" y=\"153.540835\"/>\n      </g>\n     </g>\n     <g id=\"text_49\">\n      <!-- 10 -->\n      <g style=\"fill:#262626;\" transform=\"translate(1015.356985 158.973718)scale(0.143 -0.143)\">\n       <use xlink:href=\"#DejaVuSans-49\"/>\n       <use x=\"63.623047\" xlink:href=\"#DejaVuSans-48\"/>\n      </g>\n     </g>\n    </g>\n    <g id=\"ytick_18\">\n     <g id=\"line2d_24\">\n      <g>\n       <use style=\"fill:#262626;stroke:#262626;stroke-width:1.25;\" x=\"1005.856985\" xlink:href=\"#mbefa02711a\" y=\"104.122653\"/>\n      </g>\n     </g>\n     <g id=\"text_50\">\n      <!-- 15 -->\n      <g style=\"fill:#262626;\" transform=\"translate(1015.356985 109.555536)scale(0.143 -0.143)\">\n       <use xlink:href=\"#DejaVuSans-49\"/>\n       <use x=\"63.623047\" xlink:href=\"#DejaVuSans-53\"/>\n      </g>\n     </g>\n    </g>\n    <g id=\"ytick_19\">\n     <g id=\"line2d_25\">\n      <g>\n       <use style=\"fill:#262626;stroke:#262626;stroke-width:1.25;\" x=\"1005.856985\" xlink:href=\"#mbefa02711a\" y=\"54.704472\"/>\n      </g>\n     </g>\n     <g id=\"text_51\">\n      <!-- 20 -->\n      <g style=\"fill:#262626;\" transform=\"translate(1015.356985 60.137354)scale(0.143 -0.143)\">\n       <use xlink:href=\"#DejaVuSans-50\"/>\n       <use x=\"63.623047\" xlink:href=\"#DejaVuSans-48\"/>\n      </g>\n     </g>\n    </g>\n   </g>\n   <image height=\"217\" id=\"image3f419b0a03\" transform=\"scale(1 -1)translate(0 -217)\" width=\"11\" x=\"995\" xlink:href=\"data:image/png;base64,\niVBORw0KGgoAAAANSUhEUgAAAAsAAADZCAYAAAD2WsoCAAABVUlEQVR4nO2YwQ3DMAwDbcddpat3xySWu4KuwAFq0bwJgjrRgZP+Gs/dks8cIyul4nlYzkXEc1rOvXfJ+RtpiOI8ZpcGWHc/iBg5E/F45HGwzIyGiA4MyGhomYuggzQsdEM7KWjApsVoB4mhrbtp5UcDQmdCQ1t3Q+Vnzh6N/MVOLb9Fg3EG11y2bii2Wvf7A7Iz6NHwBvx342Pn/D0eOvcaYo9Gjcy9k4qyGL/ejaPGuol4ky/6vSMvXvvOi4M47wbEzJmIg8RYAWiIA7YlOaN1M85FuqGtGxUJokv/2IY07hoxoHMRGkUG1GiE9RYtQuMO9Ba1Yqy81nS+Ag0InOGAyJlkzje0zYuIWQwRHYgBByQxSJHMbgAxKj9a99KKtLTMJ2AnxvDQncCaFcmkYR0rSKPEBhGNi/R5E2dRTGgg57jJd0oRGpo4SPmLZBbXrbWuhvgNQNAvDzjwGYUAAAAASUVORK5CYII=\" y=\"-25\"/>\n   <g id=\"patch_14\">\n    <path d=\"M 994.984985 242.493563 \nL 994.984985 241.644188 \nL 994.984985 25.902938 \nL 994.984985 25.053563 \nL 1005.856985 25.053563 \nL 1005.856985 25.902938 \nL 1005.856985 241.644188 \nL 1005.856985 242.493563 \nz\n\" style=\"fill:none;\"/>\n   </g>\n  </g>\n </g>\n <defs>\n  <clipPath id=\"pa694dfc819\">\n   <rect height=\"217.44\" width=\"295.411765\" x=\"34.89675\" y=\"25.053563\"/>\n  </clipPath>\n  <clipPath id=\"p7fb87435fd\">\n   <rect height=\"217.44\" width=\"236.329412\" x=\"389.390868\" y=\"25.053563\"/>\n  </clipPath>\n  <clipPath id=\"pff768b4656\">\n   <rect height=\"217.44\" width=\"236.329412\" x=\"743.884985\" y=\"25.053563\"/>\n  </clipPath>\n  <clipPath id=\"pb41df6f185\">\n   <rect height=\"217.44\" width=\"10.872\" x=\"640.490868\" y=\"25.053563\"/>\n  </clipPath>\n  <clipPath id=\"pe653e1b11b\">\n   <rect height=\"217.44\" width=\"10.872\" x=\"994.984985\" y=\"25.053563\"/>\n  </clipPath>\n </defs>\n</svg>\n",
      "image/png": "[encoded data removed]"
     },
     "metadata": {}
    }
   ],
   "metadata": {}
  }
 ],
 "metadata": {
  "orig_nbformat": 4,
  "language_info": {
   "name": "python",
   "version": "3.6.9",
   "mimetype": "text/x-python",
   "codemirror_mode": {
    "name": "ipython",
    "version": 3
   },
   "pygments_lexer": "ipython3",
   "nbconvert_exporter": "python",
   "file_extension": ".py"
  },
  "kernelspec": {
   "name": "python3",
   "display_name": "Python 3.6.9 64-bit"
  },
  "interpreter": {
   "hash": "31f2aee4e71d21fbe5cf8b01ff0e069b9275f58929596ceb00d14d90e3e16cd6"
  }
 },
 "nbformat": 4,
 "nbformat_minor": 2
}