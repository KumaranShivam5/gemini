{
 "metadata": {
  "language_info": {
   "codemirror_mode": {
    "name": "ipython",
    "version": 3
   },
   "file_extension": ".py",
   "mimetype": "text/x-python",
   "name": "python",
   "nbconvert_exporter": "python",
   "pygments_lexer": "ipython3",
   "version": "3.9.2"
  },
  "orig_nbformat": 2,
  "kernelspec": {
   "name": "python392jvsc74a57bd0916dbcbb3f70747c44a77c7bcd40155683ae19c65e1c03b4aa3499c5328201f1",
   "display_name": "Python 3.9.2 64-bit"
  }
 },
 "nbformat": 4,
 "nbformat_minor": 2,
 "cells": [
  {
   "cell_type": "code",
   "execution_count": 4,
   "metadata": {},
   "outputs": [],
   "source": [
    "import numpy as np\n",
    "\n",
    "from matplotlib import pyplot as plt\n",
    "import matplotlib\n",
    "\n",
    "import astropy\n",
    "import pyvo as vo"
   ]
  },
  {
   "cell_type": "code",
   "execution_count": 7,
   "metadata": {},
   "outputs": [
    {
     "output_type": "stream",
     "name": "stdout",
     "text": [
      "Versions:\n  NumPy       - 1.20.2\n  Matplotlib  - 3.4.1\n  AstroPy     - 4.2.1\n  PyVO        - 1.1\n"
     ]
    }
   ],
   "source": [
    "\n",
    "print(\"Versions:\")\n",
    "print(f\"  NumPy       - {np.__version__}\")\n",
    "print(f\"  Matplotlib  - {matplotlib.__version__}\")\n",
    "print(f\"  AstroPy     - {astropy.__version__}\")\n",
    "print(f\"  PyVO        - {vo.__version__}\")"
   ]
  },
  {
   "cell_type": "code",
   "execution_count": 15,
   "metadata": {},
   "outputs": [],
   "source": [
    "from astropy.coordinates import SkyCoord\n",
    "import astropy.units as u \n",
    "ngc1333 = SkyCoord.from_name('NGC 1333')\n",
    "maxrad = 2.0*u.arcmin"
   ]
  },
  {
   "cell_type": "code",
   "execution_count": 22,
   "metadata": {},
   "outputs": [],
   "source": [
    "cone = vo.dal.SCSService('http://cda.cfa.harvard.edu/csc2scs/coneSearch')"
   ]
  },
  {
   "cell_type": "code",
   "execution_count": 23,
   "metadata": {},
   "outputs": [
    {
     "output_type": "stream",
     "name": "stdout",
     "text": [
      "Help on method search in module pyvo.dal.scs:\n\nsearch(pos, radius=1.0, verbosity=2, **keywords) method of pyvo.dal.scs.SCSService instance\n    submit a simple Cone Search query that requests objects or observations\n    whose positions fall within some distance from a search position.\n    \n    Parameters\n    ----------\n    pos : astropy.coordinates.SkyCoord\n        a SkyCoord instance defining the position of the center of the\n        circular search region.\n        converted if it's a iterable containing scalars,\n        assuming icrs degrees.\n    radius : `~astropy.units.Quantity` or float\n        a Quantity instance defining the radius of the circular search\n        region, in degrees.\n        converted if it is another unit.\n    verbosity : int\n       an integer value that indicates the volume of columns\n       to return in the result table.  0 means the minimum\n       set of columns, 3 means as many columns as are available.\n    **keywords :\n       additional case insensitive parameters can be given via arbitrary\n       case insensitive keyword arguments. Where there is overlap\n       with the parameters set by the other arguments to\n       this function, these keywords will override.\n    \n    Returns\n    -------\n    SCSResults\n        a container holding a table of matching catalog records\n    \n    Raises\n    ------\n    DALServiceError\n       for errors connecting to or communicating with the service\n    DALQueryError\n       if the service responds with an error,\n       including a query syntax error.\n    \n    See Also\n    --------\n    SCSResults\n    pyvo.dal.query.DALServiceError\n    pyvo.dal.query.DALQueryError\n\n"
     ]
    }
   ],
   "source": [
    "help(cone.search)"
   ]
  },
  {
   "cell_type": "code",
   "execution_count": 40,
   "metadata": {},
   "outputs": [
    {
     "output_type": "stream",
     "name": "stdout",
     "text": [
      "(' 2CXO J000701.5+730308',' 2CXO J002316.8+092323',' 2CXO J010111.0-642230',' 2CXO J024818.6+602134',' 2CXO J043715.8-471508','2CXO J043715.9-471509X',' 2CXO J063344.1+063230',' 2CXO J063354.3+174614',' 2CXO J065948.1+141421',' 2CXO J083520.6-451034',' 2CXO J102827.8-581906',' 2CXO J104432.8-573719',' 2CXO J111214.8-610330',' 2CXO J111914.2-612749',' 2CXO J112401.1-365319',' 2CXO J112439.1-591619',' 2CXO J123111.3-141143',' 2CXO J135702.5-642929',' 2CXO J141330.2-620535',' 2CXO J142008.1-604817',' 2CXO J142958.5-591136',' 2CXO J145930.2-605320',' 2CXO J150927.1-585056',' 2CXO J151355.6-590809',' 2CXO J151419.0-494615',' 2CXO J153127.8-561055',' 2CXO J161436.5-223031',' 2CXO J165839.3-532406',' 2CXO J170252.4-412848',' 2CXO J171813.6-382517',' 2CXO J174429.4-113454',' 2CXO J181037.3+174437',' 2CXO J181323.7-124600',' 2CXO J182608.5-125634',' 2CXO J183333.5-103407',' 2CXO J183613.7+592530',' 2CXO J193938.5+213459',' 2CXO J195936.7+204814',' 2CXO J201722.6+060305',' 2CXO J202819.8+333204',' 2CXO J203213.1+412724',' 2CXO J204320.8+171129',' 2CXO J204710.2+105307',' 2CXO J205107.5-082737',' 2CXO J212443.8-335844',' 2CXO J213955.9+471613',' 2CXO J221438.8+300038',' 2CXO J221532.7+513536',' 2CXO J224142.0-523636',\n"
     ]
    }
   ],
   "source": [
    "obs_ids = np.loadtxt('chandra_fermi_pulsars.csv' , usecols=[0] , dtype='str' , delimiter=',')\n",
    "#print(obs_ids)\n",
    "st = '('\n",
    "for i in obs_ids:\n",
    "    #print(i)\n",
    "    st += \"'\"+i+\"',\"\n",
    "st+=')'\n",
    "print(st)"
   ]
  }
 ]
}