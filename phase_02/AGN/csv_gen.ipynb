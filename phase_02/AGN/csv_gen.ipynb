{
 "metadata": {
  "language_info": {
   "codemirror_mode": {
    "name": "ipython",
    "version": 3
   },
   "file_extension": ".py",
   "mimetype": "text/x-python",
   "name": "python",
   "nbconvert_exporter": "python",
   "pygments_lexer": "ipython3",
   "version": "3.9.2"
  },
  "orig_nbformat": 2,
  "kernelspec": {
   "name": "python392jvsc74a57bd0916dbcbb3f70747c44a77c7bcd40155683ae19c65e1c03b4aa3499c5328201f1",
   "display_name": "Python 3.9.2 64-bit"
  }
 },
 "nbformat": 4,
 "nbformat_minor": 2,
 "cells": [
  {
   "cell_type": "code",
   "execution_count": 2,
   "metadata": {},
   "outputs": [],
   "source": [
    "from astropy.io import fits\n",
    "import numpy as np"
   ]
  },
  {
   "cell_type": "code",
   "execution_count": 4,
   "metadata": {},
   "outputs": [
    {
     "output_type": "stream",
     "name": "stdout",
     "text": [
      "[331.9563 181.6233 114.2029 ... 130.1979 346.19   162.3738]\n"
     ]
    }
   ],
   "source": [
    "hdu = fits.open('AGN_cat.fits')\n",
    "data = hdu[1].data\n",
    "ra = np.asarray(data['RA'])\n",
    "dec = np.asarray(data['DEC'])\n",
    "print(ra)"
   ]
  },
  {
   "cell_type": "code",
   "execution_count": 7,
   "metadata": {
    "tags": []
   },
   "outputs": [],
   "source": [
    "from astropy.io.votable.tree import VOTableFile, Resource, Table, Field\n",
    "votable = VOTableFile()\n",
    "resource = Resource()\n",
    "votable.resources.append(resource)\n",
    "table = Table(votable)\n",
    "resource.tables.append(table)\n",
    "\n",
    "\n",
    "table.fields.extend([\n",
    "        Field(votable, name=\"ra\",datatype='float' , arraysize=\"1\"),\n",
    "        Field(votable, name=\"dec\", datatype='float' , arraysize=\"1\")])\n",
    "table.create_arrays(len(ra))\n",
    "i = 0\n",
    "for r,d in zip(ra,dec):\n",
    "    #print(r,d)\n",
    "    table.array[i] = (r,d)\n",
    "    i+=1\n",
    "# Now table.array can be filled with data\n",
    "\n",
    "\n",
    "# Now write the whole thing to a file.\n",
    "# Note, we have to use the top-level votable file object\n",
    "votable.to_xml(\"new_votable.xml\")"
   ]
  }
 ]
}