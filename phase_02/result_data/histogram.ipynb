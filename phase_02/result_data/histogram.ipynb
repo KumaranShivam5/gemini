{
 "metadata": {
  "language_info": {
   "codemirror_mode": {
    "name": "ipython",
    "version": 3
   },
   "file_extension": ".py",
   "mimetype": "text/x-python",
   "name": "python",
   "nbconvert_exporter": "python",
   "pygments_lexer": "ipython3",
   "version": "3.9.2"
  },
  "orig_nbformat": 2,
  "kernelspec": {
   "name": "python392jvsc74a57bd0916dbcbb3f70747c44a77c7bcd40155683ae19c65e1c03b4aa3499c5328201f1",
   "display_name": "Python 3.9.2 64-bit"
  }
 },
 "nbformat": 4,
 "nbformat_minor": 2,
 "cells": [
  {
   "cell_type": "code",
   "execution_count": 45,
   "metadata": {},
   "outputs": [],
   "source": [
    "import numpy as np \n",
    "from matplotlib import pyplot as plt \n",
    "import pandas as pd\n",
    "from utility import plot_template\n",
    "import seaborn as sns "
   ]
  },
  {
   "cell_type": "code",
   "execution_count": 39,
   "metadata": {
    "tags": []
   },
   "outputs": [
    {
     "output_type": "stream",
     "name": "stderr",
     "text": [
      "/usr/lib/python3/dist-packages/IPython/core/interactiveshell.py:3155: DtypeWarning: Columns (5,13,14,15,17,18,502,506) have mixed types.Specify dtype option on import or set low_memory=False.\n  has_raised = await self.run_ast_nodes(code_ast.body, cell_name,\n"
     ]
    }
   ],
   "source": [
    "agn_data = pd.read_csv('agn.file' , delimiter='\\t')\n",
    "flux_b_temp = agn_data['photflux_aper_b'].to_numpy()\n",
    "flux_b = []\n",
    "for f in flux_b_temp:\n",
    "    #print(f)\n",
    "    try:\n",
    "        flux_b.append(float(f))\n",
    "    except:\n",
    "        i=1\n",
    "flux_b = np.asarray(flux_b)\n",
    "flux_b_agn = flux_b*1e5\n",
    "#flux_b = np.asarray([f*1e5 for f in flux_b])\n",
    "#print(flux_b)"
   ]
  },
  {
   "cell_type": "code",
   "execution_count": 41,
   "metadata": {},
   "outputs": [],
   "source": [
    "agn_data = pd.read_csv('pulsar_ANTF.file' , delimiter='\\t')\n",
    "flux_b_temp = agn_data['photflux_aper_b'].to_numpy()\n",
    "flux_b = []\n",
    "for f in flux_b_temp:\n",
    "    #print(f)\n",
    "    try:\n",
    "        flux_b.append(float(f))\n",
    "    except:\n",
    "        i=1\n",
    "flux_b = np.asarray(flux_b)\n",
    "flux_b_pulsar = flux_b*1e5\n",
    "#flux_b = np.asarray([f*1e5 for f in flux_b])\n",
    "#print(flux_b)"
   ]
  }
 ]
}