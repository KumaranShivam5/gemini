{
 "cells": [
  {
   "cell_type": "code",
   "execution_count": 2,
   "source": [
    "import numpy as np \n",
    "import pandas as pd"
   ],
   "outputs": [],
   "metadata": {}
  },
  {
   "cell_type": "code",
   "execution_count": 3,
   "source": [
    "x =  np.ones(10)\n",
    "df = pd.DataFrame(x , columns=['val'])\n",
    "df.index.name = 'index'\n",
    "df.to_csv('trial')"
   ],
   "outputs": [],
   "metadata": {}
  },
  {
   "cell_type": "code",
   "execution_count": 4,
   "source": [
    "x = 'jk ii 19'\n",
    "x = x.replace(' ' ,'_')\n",
    "print(x)"
   ],
   "outputs": [
    {
     "output_type": "stream",
     "name": "stdout",
     "text": [
      "jk_ii_19\n"
     ]
    }
   ],
   "metadata": {}
  },
  {
   "cell_type": "code",
   "execution_count": 5,
   "source": [
    "import math as mt\n",
    "import numpy as np\n",
    "#n = int(input(\"Enter the index:\"))\n",
    "n = 16\n",
    "arr = [2, 3, 5, 7, 11, 13, 17, 19, 23, 29, 31, 37, 41, 43, 47, 53, 59, 61, 67, 71]\n",
    "k = n-1\n",
    "z = 1\n",
    "\n",
    "while k >= 0 :\n",
    "    z = z*arr[k]\n",
    "    k = k-1\n",
    "\n",
    "num = z-1\n",
    "print(num)\n",
    "print(z)\n",
    "\n",
    "# prime numbers are greater than 1\n",
    "if num > 1:\n",
    "   # check for factors\n",
    "   print('number is ' ,  num)\n",
    "   for i in range(2,int(np.sqrt(num))+1):\n",
    "       if (num % i) == 0:\n",
    "           print(num,\"is not a prime number\")\n",
    "           print(i,\"times\",num//i,\"is\",num)\n",
    "           break\n",
    "   else:\n",
    "       print(num,\"is a prime number\")\n",
    "       \n",
    "# if input number is less than\n",
    "# or equal to 1, it is not prime\n",
    "else:\n",
    "   print(num,\"is not a prime number\")"
   ],
   "outputs": [
    {
     "output_type": "stream",
     "name": "stdout",
     "text": [
      "32589158477190044729\n",
      "32589158477190044730\n",
      "number is  32589158477190044729\n"
     ]
    },
    {
     "output_type": "error",
     "ename": "TypeError",
     "evalue": "loop of ufunc does not support argument 0 of type int which has no callable sqrt method",
     "traceback": [
      "\u001b[0;31m---------------------------------------------------------------------------\u001b[0m",
      "\u001b[0;31mAttributeError\u001b[0m                            Traceback (most recent call last)",
      "\u001b[0;31mAttributeError\u001b[0m: 'int' object has no attribute 'sqrt'",
      "\nThe above exception was the direct cause of the following exception:\n",
      "\u001b[0;31mTypeError\u001b[0m                                 Traceback (most recent call last)",
      "\u001b[0;32m/tmp/ipykernel_22775/2423181885.py\u001b[0m in \u001b[0;36m<module>\u001b[0;34m\u001b[0m\n\u001b[1;32m     19\u001b[0m    \u001b[0;31m# check for factors\u001b[0m\u001b[0;34m\u001b[0m\u001b[0;34m\u001b[0m\u001b[0;34m\u001b[0m\u001b[0m\n\u001b[1;32m     20\u001b[0m    \u001b[0mprint\u001b[0m\u001b[0;34m(\u001b[0m\u001b[0;34m'number is '\u001b[0m \u001b[0;34m,\u001b[0m  \u001b[0mnum\u001b[0m\u001b[0;34m)\u001b[0m\u001b[0;34m\u001b[0m\u001b[0;34m\u001b[0m\u001b[0m\n\u001b[0;32m---> 21\u001b[0;31m    \u001b[0;32mfor\u001b[0m \u001b[0mi\u001b[0m \u001b[0;32min\u001b[0m \u001b[0mrange\u001b[0m\u001b[0;34m(\u001b[0m\u001b[0;36m2\u001b[0m\u001b[0;34m,\u001b[0m\u001b[0mint\u001b[0m\u001b[0;34m(\u001b[0m\u001b[0mnp\u001b[0m\u001b[0;34m.\u001b[0m\u001b[0msqrt\u001b[0m\u001b[0;34m(\u001b[0m\u001b[0mnum\u001b[0m\u001b[0;34m)\u001b[0m\u001b[0;34m)\u001b[0m\u001b[0;34m+\u001b[0m\u001b[0;36m1\u001b[0m\u001b[0;34m)\u001b[0m\u001b[0;34m:\u001b[0m\u001b[0;34m\u001b[0m\u001b[0;34m\u001b[0m\u001b[0m\n\u001b[0m\u001b[1;32m     22\u001b[0m        \u001b[0;32mif\u001b[0m \u001b[0;34m(\u001b[0m\u001b[0mnum\u001b[0m \u001b[0;34m%\u001b[0m \u001b[0mi\u001b[0m\u001b[0;34m)\u001b[0m \u001b[0;34m==\u001b[0m \u001b[0;36m0\u001b[0m\u001b[0;34m:\u001b[0m\u001b[0;34m\u001b[0m\u001b[0;34m\u001b[0m\u001b[0m\n\u001b[1;32m     23\u001b[0m            \u001b[0mprint\u001b[0m\u001b[0;34m(\u001b[0m\u001b[0mnum\u001b[0m\u001b[0;34m,\u001b[0m\u001b[0;34m\"is not a prime number\"\u001b[0m\u001b[0;34m)\u001b[0m\u001b[0;34m\u001b[0m\u001b[0;34m\u001b[0m\u001b[0m\n",
      "\u001b[0;31mTypeError\u001b[0m: loop of ufunc does not support argument 0 of type int which has no callable sqrt method"
     ]
    }
   ],
   "metadata": {}
  },
  {
   "cell_type": "code",
   "execution_count": 18,
   "source": [
    "np.sqrt(3258915847719004472)"
   ],
   "outputs": [
    {
     "output_type": "execute_result",
     "data": {
      "text/plain": [
       "1805246755.354792"
      ]
     },
     "metadata": {},
     "execution_count": 18
    }
   ],
   "metadata": {}
  },
  {
   "cell_type": "code",
   "execution_count": 6,
   "source": [
    "from astropy.io import fits \n",
    "import pandas as pd \n",
    "import numpy as np "
   ],
   "outputs": [],
   "metadata": {}
  },
  {
   "cell_type": "code",
   "execution_count": 7,
   "source": [
    "hdu1 = fits.open('../data/CVs/CV_mid_set.fits')[1].data\n",
    "ra = hdu1['B_RA']\n",
    "dec = hdu1['B_DEC']\n",
    "cl = hdu1['A_DATABASE_TABLE']\n",
    "d = pd.DataFrame()\n",
    "d.insert(0, 'cat', cl)\n",
    "d['cat'].value_counts()\n",
    "#d.describe()"
   ],
   "outputs": [
    {
     "output_type": "execute_result",
     "data": {
      "text/plain": [
       "GC47TUCCXO          359\n",
       "XMMSLEWCLN           61\n",
       "M31CFCXO             59\n",
       "RASS2MASS            10\n",
       "XMMSSCLWBS           10\n",
       "IBISCAT              10\n",
       "INTREFCAT             9\n",
       "WGACAT                4\n",
       "NGC6791CXO            4\n",
       "CHICAGOCXO            3\n",
       "M31CXO2               2\n",
       "INTVARCAT             2\n",
       "INTIBISASS            1\n",
       "INTIBISGAL            1\n",
       "RASS6DFGS             1\n",
       "RASSUSNOID            1\n",
       "RBS                   1\n",
       "M83XMM                1\n",
       "RASSCNDINS            1\n",
       "Name: cat, dtype: int64"
      ]
     },
     "metadata": {},
     "execution_count": 7
    }
   ],
   "metadata": {}
  },
  {
   "cell_type": "code",
   "execution_count": 8,
   "source": [
    "hdu1 = fits.open('../data/binaries/LMXRB_BH.fits')[1].data\n",
    "ra = hdu1['B_RA']\n",
    "dec = hdu1['B_DEC']\n",
    "cl = hdu1['A_DATABASE_TABLE']\n",
    "d = pd.DataFrame()\n",
    "d.insert(0, 'cat', cl)\n",
    "d['cat'].value_counts()\n",
    "#d.describe()"
   ],
   "outputs": [
    {
     "output_type": "execute_result",
     "data": {
      "text/plain": [
       "RITTERLMXB          44\n",
       "NGC3115CXO          38\n",
       "INTREFCAT           20\n",
       "XRBCAT              12\n",
       "WGACAT               6\n",
       "SAXWFCCAT            2\n",
       "SAXWFCCAT2           1\n",
       "Name: cat, dtype: int64"
      ]
     },
     "metadata": {},
     "execution_count": 8
    }
   ],
   "metadata": {}
  },
  {
   "cell_type": "code",
   "execution_count": 9,
   "source": [
    "hdu1 = fits.open('../data/binaries/LMXB_NS.fits')[1].data\n",
    "ra = hdu1['B_RA']\n",
    "dec = hdu1['B_DEC']\n",
    "cl = hdu1['A_DATABASE_TABLE']\n",
    "d = pd.DataFrame()\n",
    "d.insert(0, 'cat', cl)\n",
    "d['cat'].value_counts()\n",
    "#d.describe()"
   ],
   "outputs": [
    {
     "output_type": "execute_result",
     "data": {
      "text/plain": [
       "XMMSSCLWBS          89\n",
       "IBISCAT             46\n",
       "RITTERLMXB          32\n",
       "INTREFCAT           21\n",
       "RASS2MASS           20\n",
       "XRBCAT              11\n",
       "WGACAT               4\n",
       "SMCWINGCXO           4\n",
       "SAXWFCCAT            2\n",
       "Name: cat, dtype: int64"
      ]
     },
     "metadata": {},
     "execution_count": 9
    }
   ],
   "metadata": {}
  }
 ],
 "metadata": {
  "orig_nbformat": 4,
  "language_info": {
   "name": "python",
   "version": "3.8.2",
   "mimetype": "text/x-python",
   "codemirror_mode": {
    "name": "ipython",
    "version": 3
   },
   "pygments_lexer": "ipython3",
   "nbconvert_exporter": "python",
   "file_extension": ".py"
  },
  "kernelspec": {
   "name": "python3",
   "display_name": "Python 3.8.2 64-bit ('ciao-4.13': conda)"
  },
  "interpreter": {
   "hash": "dd401eb9f4a87b4d7521ead9a1bfa480dfd22ffaf3593a2155d0c7cf261e4ebc"
  }
 },
 "nbformat": 4,
 "nbformat_minor": 2
}