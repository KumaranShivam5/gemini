{
 "cells": [
  {
   "cell_type": "code",
   "execution_count": 1,
   "source": [
    "import numpy as np \n",
    "import pandas as pd\n",
    "from matplotlib import pyplot as plt "
   ],
   "outputs": [],
   "metadata": {}
  },
  {
   "cell_type": "code",
   "execution_count": 4,
   "source": [
    "from astropy.io import fits\n",
    "#fits_image_filename = fits.util.get_testdata_filepath()\n",
    "#hdu = fits.open('binaries/XRB_heasarc_X_chandra.fits')\n",
    "hdu = fits.open('binaries/LMXB_all.fits')\n",
    "#hdu = fits.open('CVs/CV_heasarc_x_chandra.fits')\n",
    "data = hdu[1]\n",
    "d = pd.DataFrame(data.data)\n",
    "d.index.name = 'index'\n",
    "print(d.index.name)\n",
    "print('Loaded data table has shape')\n",
    "classes = d['A_CLASS']\n",
    "print(np.unique(classes))\n",
    "print(d.shape)  "
   ],
   "outputs": [
    {
     "output_type": "stream",
     "name": "stdout",
     "text": [
      "index\n",
      "Loaded data table has shape\n",
      "[1400 1406 1409 1410 1413 1416 1417 1420 1421 1425 1426 1428 1430 1434\n",
      " 1436 1440 1446 1449 1456 1459 1470 1476 1486 1489 1500 1520 1530]\n",
      "(431, 529)\n"
     ]
    }
   ],
   "metadata": {}
  },
  {
   "cell_type": "code",
   "execution_count": 5,
   "source": [
    "d_clean = d.dropna(how='any' , axis=0)\n",
    "d_clean = d.dropna(how='any' , axis=1)\n",
    "print(d.shape)"
   ],
   "outputs": [
    {
     "output_type": "stream",
     "name": "stdout",
     "text": [
      "(431, 529)\n"
     ]
    }
   ],
   "metadata": {}
  },
  {
   "cell_type": "markdown",
   "source": [
    "## Flag verification\n",
    " checking vaious flags in a seperate database , will keep only required ones"
   ],
   "metadata": {}
  },
  {
   "cell_type": "code",
   "execution_count": 6,
   "source": [
    "flags =  d_clean[['B_CONF_FLAG' ,'B_PILEUP_FLAG','B_SAT_SRC_FLAG' ]]"
   ],
   "outputs": [],
   "metadata": {}
  },
  {
   "cell_type": "markdown",
   "source": [
    "## Data Rows\n",
    "loading only required columns"
   ],
   "metadata": {}
  },
  {
   "cell_type": "code",
   "execution_count": 7,
   "source": [
    "import json \n",
    "f = open('reqd_rows_v2.json')\n",
    "rows = json.load(f)['rows']\n",
    "data =  d_clean[rows]\n",
    "print(data.shape)\n",
    "## FOR CV\n",
    "data.insert(int(0),'class',np.ones(len(data)))\n",
    "## For XRB\n",
    "#data.insert(int(0),'class',np.zeros(len(data)))\n",
    "data.insert(1,'hea_class',classes)\n",
    "print(data.shape)\n",
    "#data.to_csv('cv_data.csv')\n",
    "data.to_csv('lmxrb_data.csv')\n",
    "#data['class'] = int(1)"
   ],
   "outputs": [
    {
     "output_type": "stream",
     "name": "stdout",
     "text": [
      "(431, 114)\n",
      "(431, 116)\n"
     ]
    }
   ],
   "metadata": {}
  },
  {
   "cell_type": "code",
   "execution_count": 26,
   "source": [],
   "outputs": [],
   "metadata": {}
  }
 ],
 "metadata": {
  "orig_nbformat": 4,
  "language_info": {
   "name": "python",
   "version": "3.6.9",
   "mimetype": "text/x-python",
   "codemirror_mode": {
    "name": "ipython",
    "version": 3
   },
   "pygments_lexer": "ipython3",
   "nbconvert_exporter": "python",
   "file_extension": ".py"
  },
  "kernelspec": {
   "name": "python3",
   "display_name": "Python 3.6.9 64-bit"
  },
  "interpreter": {
   "hash": "31f2aee4e71d21fbe5cf8b01ff0e069b9275f58929596ceb00d14d90e3e16cd6"
  }
 },
 "nbformat": 4,
 "nbformat_minor": 2
}