{
 "cells": [
  {
   "cell_type": "code",
   "execution_count": 2,
   "source": [
    "import numpy as np \n",
    "import pandas as pd \n",
    "from matplotlib import pyplot as plt \n",
    "from hea_class_assignment import code_to_class"
   ],
   "outputs": [],
   "metadata": {}
  },
  {
   "cell_type": "markdown",
   "source": [
    "## Dataset"
   ],
   "metadata": {}
  },
  {
   "cell_type": "code",
   "execution_count": 3,
   "source": [
    "cv_data = pd.read_csv('cv_data.csv')\n",
    "xrb_data = pd.read_csv('lmxrb_data.csv')\n",
    "#print(cv_data.shape)\n",
    "#print(xrb_data.shape)  \n",
    "print('Number of parameters : {:.0f}'.format(cv_data.shape[1]))\n",
    "print('-------------------------------------')\n",
    "print('CV')\n",
    "print('Total CV samples : {:.0f}'.format(cv_data.shape[0]))\n",
    "print('CV sub classes used :' )\n",
    "for code in np.unique(cv_data['hea_class']):\n",
    "    print('\\t', code_to_class(str(code)))\n",
    "#print(np.unique(cv_data['hea_class']))\n",
    "\n",
    "print('-------------------------------------')\n",
    "print('XRB')\n",
    "print('Total XRB samples : {:.0f}'.format(xrb_data.shape[0]))\n",
    "print('XTB sub classes used :' )\n",
    "for code in np.unique(xrb_data['hea_class']):\n",
    "    print('\\t', code_to_class(str(code)))\n"
   ],
   "outputs": [
    {
     "output_type": "stream",
     "name": "stdout",
     "text": [
      "Number of parameters : 117\n",
      "-------------------------------------\n",
      "CV\n",
      "Total CV samples : 943\n",
      "CV sub classes used :\n",
      "\t CV\n",
      "\t CV CLASSICAL NOVA\n",
      "\t CV INTERMEDIATE POLAR\n",
      "\t CV DWARF NOVA\n",
      "\t CV NOVA LIKE\n",
      "-------------------------------------\n",
      "XRB\n",
      "Total XRB samples : 431\n",
      "XTB sub classes used :\n",
      "\t LMXRB\n",
      "\t LMXRB HARD TRANSIENT\n",
      "\t LMXRB DIPPER\n",
      "\t LMXRB X-RAY PULSAR\n",
      "\t LMXRB X-RAY PULSAR ECLIPSING\n",
      "\t LMXRB X-RAY PULSAR HARD TRANSIENT\n",
      "\t LMXRB X-RAY PULSAR ECLIPSING DIPPER\n",
      "\t LMXRB BURSTER\n",
      "\t LMXRB BURSTER FLARES\n",
      "\t LMXRB BURSTER SOFT TRANSIENT\n",
      "\t LMXRB BURSTER HARD TRANSIENT\n",
      "\t LMXRB BURSTER ECLIPSING ADC\n",
      "\t LMXRB BLACK HOLE\n",
      "\t LMXRB BLACK HOLE ULTRA-SOFT TRANSIENT\n",
      "\t LMXRB BLACK HOLE HARD TRANSIENT\n",
      "\t LMXRB QPO\n",
      "\t LMXRB QPO HARD TRANSIENT\n",
      "\t LMXRB QPO DIPPER\n",
      "\t LMXRB QPO AND BLACK HOLE HARD TRANSIENT\n",
      "\t LMXRB QPO AND BLACK HOLE DIPPER\n",
      "\t LMXRB QPO AND BURSTS\n",
      "\t LMXRB QPO AND BURSTS HARD TRANSIENT\n",
      "\t LMXRB QPO, PULSAR AND BURSTS HARD TRANSIENT\n",
      "\t LMXRB QPO, PULSAR AND BURSTS DIPPER\n",
      "\t LMXRB GLOBULAR CLUSTER\n",
      "\t LMXRB GLOBULAR CLUSTER BURSTER\n",
      "\t LMXRB GLOBULAR CLUSTER BLACK HOLE\n"
     ]
    }
   ],
   "metadata": {}
  },
  {
   "cell_type": "code",
   "execution_count": null,
   "source": [],
   "outputs": [],
   "metadata": {}
  },
  {
   "cell_type": "code",
   "execution_count": 4,
   "source": [
    "all_data =  pd.concat([cv_data , xrb_data] , ignore_index=True)\n",
    "#print(all_data)\n",
    "#print(all_data.shape)\n",
    "#all_data['class']\n",
    "all_data =  all_data.sample(frac=1).reset_index(drop=True)\n",
    "all_data.index.name =  \"index_compiled\"\n",
    "print('------------------')\n",
    "#print(all_data)"
   ],
   "outputs": [
    {
     "output_type": "stream",
     "name": "stdout",
     "text": [
      "------------------\n"
     ]
    }
   ],
   "metadata": {}
  },
  {
   "cell_type": "markdown",
   "source": [
    "# normalizing data"
   ],
   "metadata": {}
  },
  {
   "cell_type": "code",
   "execution_count": 5,
   "source": [
    "m, n =  all_data.shape\n",
    "for i in range(m):\n",
    "    for j in range(n):\n",
    "        if isinstance(all_data.iloc[i,j],str):\n",
    "            #print(i,j,all_data.iloc[i,j])\n",
    "            try:\n",
    "                all_data.iloc[i,j] =  float(all_data.iloc[i,j])\n",
    "            except:\n",
    "                #print('ivalid , setting to zero' , i, j, all_data.iloc[i,j])\n",
    "                all_data.iloc[i,j]=0"
   ],
   "outputs": [],
   "metadata": {}
  },
  {
   "cell_type": "code",
   "execution_count": 6,
   "source": [
    "np.amax(all_data)"
   ],
   "outputs": [
    {
     "output_type": "execute_result",
     "data": {
      "text/plain": [
       "index                  9.420000e+02\n",
       "class                  1.000000e+00\n",
       "hea_class              1.690000e+03\n",
       "B_M_FLUX_AP            1.880000e-11\n",
       "B_B_FLUX_AP_AVG        5.410000e-10\n",
       "                           ...     \n",
       "B_S_VAR_INTER_INDEX    8.000000e+00\n",
       "B_S_VAR_INTER_PROB     1.000000e+00\n",
       "B_S_VAR_INTER_SIGMA    5.200000e-05\n",
       "B_S_VAR_INTRA_INDEX    1.000000e+01\n",
       "B_S_VAR_INTRA_PROB     1.000000e+00\n",
       "Length: 117, dtype: float64"
      ]
     },
     "metadata": {},
     "execution_count": 6
    }
   ],
   "metadata": {}
  },
  {
   "cell_type": "code",
   "execution_count": 7,
   "source": [
    "for i in range(2,n):\n",
    "    max_non_zero = np.amax(all_data.iloc[:,i])\n",
    "    if(max_non_zero==0):\n",
    "        continue\n",
    "    else:\n",
    "        all_data.iloc[:,i] = all_data.iloc[:,i] / np.amax(all_data.iloc[:,i]) \n",
    "    #print(i)"
   ],
   "outputs": [],
   "metadata": {}
  },
  {
   "cell_type": "code",
   "execution_count": 9,
   "source": [
    "print(np.amax(all_data))"
   ],
   "outputs": [
    {
     "output_type": "stream",
     "name": "stdout",
     "text": [
      "index                  942.0\n",
      "class                    1.0\n",
      "hea_class                1.0\n",
      "B_M_FLUX_AP              1.0\n",
      "B_B_FLUX_AP_AVG          1.0\n",
      "                       ...  \n",
      "B_S_VAR_INTER_INDEX      1.0\n",
      "B_S_VAR_INTER_PROB       1.0\n",
      "B_S_VAR_INTER_SIGMA      1.0\n",
      "B_S_VAR_INTRA_INDEX      1.0\n",
      "B_S_VAR_INTRA_PROB       1.0\n",
      "Length: 117, dtype: float64\n"
     ]
    }
   ],
   "metadata": {}
  },
  {
   "cell_type": "code",
   "execution_count": 10,
   "source": [
    "print(all_data)"
   ],
   "outputs": [
    {
     "output_type": "stream",
     "name": "stdout",
     "text": [
      "                index  class  hea_class  B_M_FLUX_AP  B_B_FLUX_AP_AVG  \\\n",
      "index_compiled                                                          \n",
      "0                 481    0.0   0.946746     0.000000     0.000000e+00   \n",
      "1                  52    1.0   0.887574     0.011436     2.273567e-03   \n",
      "2                 873    0.0   0.946746     0.032553     1.203327e-02   \n",
      "3                 456    0.0   0.946746     0.000021     0.000000e+00   \n",
      "4                 622    0.0   0.946746     0.000000     0.000000e+00   \n",
      "...               ...    ...        ...          ...              ...   \n",
      "1369              459    0.0   0.946746     0.000006     4.454713e-07   \n",
      "1370              741    0.0   0.946746     0.000000     0.000000e+00   \n",
      "1371              781    0.0   0.946746     0.000505     0.000000e+00   \n",
      "1372               22    1.0   0.887574     0.000098     1.885397e-05   \n",
      "1373              671    0.0   0.946746     0.000008     1.057301e-06   \n",
      "\n",
      "                B_B_FLUX_BB_AP  B_B_FLUX_BREMS_AP  B_B_FLUX_BREMS_AP90  \\\n",
      "index_compiled                                                           \n",
      "0                     0.000000           0.000000             0.000000   \n",
      "1                     0.004187           0.004173             0.008516   \n",
      "2                     0.016747           0.016353             0.033750   \n",
      "3                     0.000000           0.000000             0.000000   \n",
      "4                     0.000000           0.000000             0.000000   \n",
      "...                        ...                ...                  ...   \n",
      "1369                  0.000002           0.000001             0.000003   \n",
      "1370                  0.000012           0.000010             0.000021   \n",
      "1371                  0.000181           0.000152             0.000306   \n",
      "1372                  0.000032           0.000032             0.000068   \n",
      "1373                  0.000004           0.000003             0.000007   \n",
      "\n",
      "                B_B_FLUX_PLAW_AP  B_B_FLUX_PLAW_AP90  ...  B_S_KS_INTRA_PROB  \\\n",
      "index_compiled                                        ...                      \n",
      "0                       0.000000            0.000000  ...              0.000   \n",
      "1                       0.004120            0.008261  ...              0.469   \n",
      "2                       0.016127            0.032971  ...              0.150   \n",
      "3                       0.000000            0.000000  ...              0.000   \n",
      "4                       0.000000            0.000000  ...              0.000   \n",
      "...                          ...                 ...  ...                ...   \n",
      "1369                    0.000001            0.000003  ...              0.000   \n",
      "1370                    0.000009            0.000019  ...              1.000   \n",
      "1371                    0.000142            0.000283  ...              0.990   \n",
      "1372                    0.000032            0.000066  ...              0.703   \n",
      "1373                    0.000003            0.000006  ...              0.111   \n",
      "\n",
      "                B_S_PHOTFLUX_AP  B_S_PHOTFLUX_AP90  B_S_PHOTFLUX_AP90_AVG  \\\n",
      "index_compiled                                                              \n",
      "0                      0.000022           0.000093               0.000085   \n",
      "1                      0.016805           0.066533               0.066887   \n",
      "2                      0.025458           0.102667               0.101987   \n",
      "3                      0.000017           0.000055               0.000060   \n",
      "4                      0.000010           0.000045               0.000036   \n",
      "...                         ...                ...                    ...   \n",
      "1369                   0.000007           0.000025               0.000028   \n",
      "1370                   0.000083           0.000334               0.000295   \n",
      "1371                   0.000880           0.003573               0.003411   \n",
      "1372                   0.000083           0.000606               0.000617   \n",
      "1373                   0.000031           0.000103               0.000101   \n",
      "\n",
      "                B_S_PHOTFLUX_AP_AVG  B_S_VAR_INTER_INDEX  B_S_VAR_INTER_PROB  \\\n",
      "index_compiled                                                                 \n",
      "0                          0.000022                0.000               0.186   \n",
      "1                          0.017478                0.000               0.000   \n",
      "2                          0.026984                0.000               0.000   \n",
      "3                          0.000016                0.000               0.000   \n",
      "4                          0.000008                0.000               0.244   \n",
      "...                             ...                  ...                 ...   \n",
      "1369                       0.000008                0.000               0.151   \n",
      "1370                       0.000078                1.000               1.000   \n",
      "1371                       0.000903                0.500               0.643   \n",
      "1372                       0.000130                0.500               0.619   \n",
      "1373                       0.000034                0.375               0.380   \n",
      "\n",
      "                B_S_VAR_INTER_SIGMA  B_S_VAR_INTRA_INDEX  B_S_VAR_INTRA_PROB  \n",
      "index_compiled                                                                \n",
      "0                          0.002327                  0.0              0.0000  \n",
      "1                          0.000000                  0.0              0.1500  \n",
      "2                          0.000000                  0.0              0.0636  \n",
      "3                          0.000000                  0.0              0.0000  \n",
      "4                          0.016731                  0.0              0.0000  \n",
      "...                             ...                  ...                 ...  \n",
      "1369                       0.000613                  0.0              0.0000  \n",
      "1370                       0.027885                  0.0              0.0000  \n",
      "1371                       0.063462                  0.0              0.4810  \n",
      "1372                       0.002231                  0.0              0.0000  \n",
      "1373                       0.008500                  0.0              0.0000  \n",
      "\n",
      "[1374 rows x 117 columns]\n"
     ]
    }
   ],
   "metadata": {}
  },
  {
   "cell_type": "code",
   "execution_count": 12,
   "source": [
    "all_data.to_csv('all_data_lmxb_cv.csv')"
   ],
   "outputs": [],
   "metadata": {}
  },
  {
   "cell_type": "code",
   "execution_count": null,
   "source": [],
   "outputs": [],
   "metadata": {}
  }
 ],
 "metadata": {
  "orig_nbformat": 4,
  "language_info": {
   "name": "python",
   "version": "3.6.9",
   "mimetype": "text/x-python",
   "codemirror_mode": {
    "name": "ipython",
    "version": 3
   },
   "pygments_lexer": "ipython3",
   "nbconvert_exporter": "python",
   "file_extension": ".py"
  },
  "kernelspec": {
   "name": "python3",
   "display_name": "Python 3.6.9 64-bit"
  },
  "interpreter": {
   "hash": "31f2aee4e71d21fbe5cf8b01ff0e069b9275f58929596ceb00d14d90e3e16cd6"
  }
 },
 "nbformat": 4,
 "nbformat_minor": 2
}