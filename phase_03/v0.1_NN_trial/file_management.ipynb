{
 "cells": [
  {
   "cell_type": "code",
   "execution_count": 19,
   "source": [
    "import numpy as np \n",
    "import pandas as pd\n",
    "from matplotlib import pyplot as plt "
   ],
   "outputs": [],
   "metadata": {}
  },
  {
   "cell_type": "code",
   "execution_count": 25,
   "source": [
    "from astropy.io import fits\n",
    "#fits_image_filename = fits.util.get_testdata_filepath()\n",
    "#hdu = fits.open('../data/CVs/CV_heasarc_x_chandra.fits')\n",
    "hdu = fits.open('../data/binaries/non_transient_XRB_heasarc_X_chandra.fits')\n",
    "data = hdu[1]\n",
    "d = pd.DataFrame(data.data)\n",
    "print('Loaded data table has shape')\n",
    "print(d.shape)  "
   ],
   "outputs": [
    {
     "output_type": "stream",
     "name": "stdout",
     "text": [
      "Loaded data table has shape\n",
      "(528, 529)\n"
     ]
    }
   ],
   "metadata": {}
  },
  {
   "cell_type": "code",
   "execution_count": 21,
   "source": [
    "d_clean = d.dropna(how='any' , axis=0)\n",
    "d_clean = d.dropna(how='any' , axis=1)\n",
    "print(d.shape)"
   ],
   "outputs": [
    {
     "output_type": "stream",
     "name": "stdout",
     "text": [
      "(943, 529)\n"
     ]
    }
   ],
   "metadata": {}
  },
  {
   "cell_type": "markdown",
   "source": [
    "## Flag verification\n",
    " checking vaious flags in a seperate database , will keep only required ones"
   ],
   "metadata": {}
  },
  {
   "cell_type": "code",
   "execution_count": 22,
   "source": [
    "flags =  d_clean[['B_CONF_FLAG' ,'B_PILEUP_FLAG','B_SAT_SRC_FLAG' ]]"
   ],
   "outputs": [],
   "metadata": {}
  },
  {
   "cell_type": "markdown",
   "source": [
    "## Data Rows\n",
    "loading only required columns"
   ],
   "metadata": {}
  },
  {
   "cell_type": "code",
   "execution_count": 23,
   "source": [
    "import json \n",
    "f = open('rows_filter_level_1.json')\n",
    "rows = json.load(f)['rows']\n",
    "data =  d_clean[rows]\n",
    "print(data.shape)\n",
    "data.insert(int(0),'class',np.ones(len(data)))\n",
    "#data['class'] = int(1)"
   ],
   "outputs": [
    {
     "output_type": "stream",
     "name": "stdout",
     "text": [
      "(943, 424)\n"
     ]
    }
   ],
   "metadata": {}
  },
  {
   "cell_type": "code",
   "execution_count": 24,
   "source": [
    "data.to_csv('cv_data.csv')"
   ],
   "outputs": [],
   "metadata": {}
  }
 ],
 "metadata": {
  "orig_nbformat": 4,
  "language_info": {
   "name": "python",
   "version": "3.6.9",
   "mimetype": "text/x-python",
   "codemirror_mode": {
    "name": "ipython",
    "version": 3
   },
   "pygments_lexer": "ipython3",
   "nbconvert_exporter": "python",
   "file_extension": ".py"
  },
  "kernelspec": {
   "name": "python3",
   "display_name": "Python 3.6.9 64-bit"
  },
  "interpreter": {
   "hash": "31f2aee4e71d21fbe5cf8b01ff0e069b9275f58929596ceb00d14d90e3e16cd6"
  }
 },
 "nbformat": 4,
 "nbformat_minor": 2
}