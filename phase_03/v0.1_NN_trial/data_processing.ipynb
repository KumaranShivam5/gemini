{
 "cells": [
  {
   "cell_type": "code",
   "execution_count": 1,
   "source": [
    "import numpy as np \n",
    "import pandas as pd \n",
    "from matplotlib import pyplot as plt "
   ],
   "outputs": [],
   "metadata": {}
  },
  {
   "cell_type": "code",
   "execution_count": 2,
   "source": [
    "cv_data = pd.read_csv('cv_data.csv')\n",
    "xrb_data = pd.read_csv('xrb_data.csv')\n",
    "print(cv_data.shape)\n",
    "print(xrb_data.shape)\n",
    "#print(cv_data)\n"
   ],
   "outputs": [
    {
     "output_type": "stream",
     "name": "stdout",
     "text": [
      "(943, 426)\n",
      "(528, 426)\n"
     ]
    }
   ],
   "metadata": {}
  },
  {
   "cell_type": "code",
   "execution_count": 3,
   "source": [
    "all_data =  pd.concat([cv_data , xrb_data] , ignore_index=True)\n",
    "#print(all_data)\n",
    "#print(all_data.shape)\n",
    "#all_data['class']\n",
    "all_data =  all_data.sample(frac=1).reset_index(drop=True)\n",
    "print('------------------')\n",
    "#print(all_data)"
   ],
   "outputs": [
    {
     "output_type": "stream",
     "name": "stdout",
     "text": [
      "------------------\n"
     ]
    }
   ],
   "metadata": {}
  },
  {
   "cell_type": "markdown",
   "source": [
    "# normalizing data"
   ],
   "metadata": {}
  },
  {
   "cell_type": "code",
   "execution_count": 4,
   "source": [
    "m, n =  all_data.shape\n",
    "for i in range(m):\n",
    "    for j in range(n):\n",
    "        if isinstance(all_data.iloc[i,j],str):\n",
    "            #print(i,j,all_data.iloc[i,j])\n",
    "            try:\n",
    "                all_data.iloc[i,j] =  float(all_data.iloc[i,j])\n",
    "            except:\n",
    "                #print('ivalid , setting to zero' , i, j, all_data.iloc[i,j])\n",
    "                all_data.iloc[i,j]=0"
   ],
   "outputs": [],
   "metadata": {}
  },
  {
   "cell_type": "code",
   "execution_count": 16,
   "source": [
    "np.amax(all_data)"
   ],
   "outputs": [
    {
     "output_type": "execute_result",
     "data": {
      "text/plain": [
       "index                  9.420000e+02\n",
       "class                  1.000000e+00\n",
       "B_B_FLUX_AP            5.410000e-10\n",
       "B_B_FLUX_AP_HI         5.430000e-10\n",
       "B_B_FLUX_AP_LO         5.400000e-10\n",
       "                           ...     \n",
       "B_U_VAR_INTER_INDEX    8.000000e+00\n",
       "B_U_VAR_INTER_PROB     1.000000e+00\n",
       "B_U_VAR_INTER_SIGMA    1.290000e-03\n",
       "B_U_VAR_INTRA_INDEX    1.000000e+01\n",
       "B_U_VAR_INTRA_PROB     1.000000e+00\n",
       "Length: 363, dtype: float64"
      ]
     },
     "metadata": {},
     "execution_count": 16
    }
   ],
   "metadata": {}
  },
  {
   "cell_type": "code",
   "execution_count": 17,
   "source": [
    "for i in range(2,n):\n",
    "    max_non_zero = np.amax(all_data.iloc[:,i])\n",
    "    if(max_non_zero==0):\n",
    "        continue\n",
    "    else:\n",
    "        all_data.iloc[:,i] = all_data.iloc[:,i] / np.amax(all_data.iloc[:,i]) \n",
    "    #print(i)"
   ],
   "outputs": [],
   "metadata": {}
  },
  {
   "cell_type": "code",
   "execution_count": 18,
   "source": [
    "print(np.amax(all_data))"
   ],
   "outputs": [
    {
     "output_type": "stream",
     "name": "stdout",
     "text": [
      "index                  942.0\n",
      "class                    1.0\n",
      "B_B_FLUX_AP              1.0\n",
      "B_B_FLUX_AP_HI           1.0\n",
      "B_B_FLUX_AP_LO           1.0\n",
      "                       ...  \n",
      "B_U_VAR_INTER_INDEX      1.0\n",
      "B_U_VAR_INTER_PROB       1.0\n",
      "B_U_VAR_INTER_SIGMA      1.0\n",
      "B_U_VAR_INTRA_INDEX      1.0\n",
      "B_U_VAR_INTRA_PROB       1.0\n",
      "Length: 363, dtype: float64\n"
     ]
    }
   ],
   "metadata": {}
  },
  {
   "cell_type": "code",
   "execution_count": 15,
   "source": [
    "print(all_data)"
   ],
   "outputs": [
    {
     "output_type": "stream",
     "name": "stdout",
     "text": [
      "      index  class   B_B_FLUX_AP B_B_FLUX_AP_HI B_B_FLUX_AP_LO   B_M_FLUX_AP  \\\n",
      "0        89    1.0  9.430000e-14       9.87e-14       8.99e-14  1.070000e-14   \n",
      "1       370    1.0  2.500000e-13       2.59e-13        2.4e-13  1.040000e-13   \n",
      "2       645    0.0  1.400000e-15       1.62e-15       1.18e-15  4.030000e-16   \n",
      "3       275    1.0  1.050000e-15       1.16e-15        9.4e-16  3.100000e-16   \n",
      "4       474    0.0  1.090000e-15       1.24e-15       9.31e-16  3.320000e-16   \n",
      "...     ...    ...           ...            ...            ...           ...   \n",
      "1466    221    1.0  8.620000e-16       9.68e-16       7.55e-16  2.640000e-16   \n",
      "1467    864    0.0  0.000000e+00              0              0  0.000000e+00   \n",
      "1468    777    0.0  4.340000e-14       4.56e-14        4.1e-14  8.390000e-15   \n",
      "1469    831    0.0  0.000000e+00              0              0  0.000000e+00   \n",
      "1470    374    1.0  9.410000e-13       1.02e-12       8.56e-13  4.030000e-15   \n",
      "\n",
      "     B_M_FLUX_AP_HI B_M_FLUX_AP_LO  B_APEC_ABUND  B_APEC_ABUND_HI  ...  \\\n",
      "0          1.17e-14       9.84e-15           0.0              0.0  ...   \n",
      "1          1.09e-13        9.9e-14           0.0              0.0  ...   \n",
      "2           5.1e-16       2.91e-16           0.0              0.0  ...   \n",
      "3          3.49e-16       2.67e-16           0.0              0.0  ...   \n",
      "4          4.02e-16       2.61e-16           0.0              0.0  ...   \n",
      "...             ...            ...           ...              ...  ...   \n",
      "1466       3.06e-16       2.19e-16           0.0              0.0  ...   \n",
      "1467              0              0           0.0              0.0  ...   \n",
      "1468       9.09e-15       7.65e-15           0.0              0.0  ...   \n",
      "1469              0              0           0.0              0.0  ...   \n",
      "1470       6.47e-15       1.59e-15           0.0              0.0  ...   \n",
      "\n",
      "      B_U_PHOTFLUX_AP_AVG  B_U_PHOTFLUX_AP_AVG_HI  B_U_PHOTFLUX_AP_AVG_LO  \\\n",
      "0            6.920000e-06            1.350000e-05            0.000000e+00   \n",
      "1            4.180000e-05            4.850000e-05            3.470000e-05   \n",
      "2            0.000000e+00            0.000000e+00            0.000000e+00   \n",
      "3            0.000000e+00            1.190000e-07            0.000000e+00   \n",
      "4            2.940000e-07            4.090000e-07            1.730000e-07   \n",
      "...                   ...                     ...                     ...   \n",
      "1466         3.860000e-07            5.410000e-07            2.300000e-07   \n",
      "1467         0.000000e+00            9.930000e-07            0.000000e+00   \n",
      "1468         2.180000e-06            2.470000e-06            1.880000e-06   \n",
      "1469         2.700000e-05            2.840000e-05            2.560000e-05   \n",
      "1470         0.000000e+00            4.000000e-05            0.000000e+00   \n",
      "\n",
      "      B_U_PHOTFLUX_AP_HI  B_U_PHOTFLUX_AP_LO  B_U_VAR_INTER_INDEX  \\\n",
      "0           1.350000e-05        0.000000e+00                    5   \n",
      "1           9.220000e-06        4.190000e-07                    0   \n",
      "2           9.770000e-07        4.400000e-07                    0   \n",
      "3           1.700000e-07        0.000000e+00                    0   \n",
      "4           4.090000e-07        1.730000e-07                    0   \n",
      "...                  ...                 ...                  ...   \n",
      "1466        8.910000e-07        4.460000e-07                    5   \n",
      "1467        0.000000e+00        0.000000e+00                    0   \n",
      "1468        1.790000e-06        8.150000e-07                    6   \n",
      "1469        0.000000e+00        0.000000e+00                    0   \n",
      "1470        4.000000e-05        0.000000e+00                    0   \n",
      "\n",
      "      B_U_VAR_INTER_PROB  B_U_VAR_INTER_SIGMA  B_U_VAR_INTRA_INDEX  \\\n",
      "0                0.74100         6.130000e-06                    0   \n",
      "1                0.00000         0.000000e+00                    2   \n",
      "2                0.07640         9.930000e-08                    0   \n",
      "3                0.00000         0.000000e+00                    0   \n",
      "4                0.00106         6.230000e-07                    0   \n",
      "...                  ...                  ...                  ...   \n",
      "1466             0.90500         1.480000e-06                    0   \n",
      "1467             0.00000         0.000000e+00                    0   \n",
      "1468             0.93400         6.830000e-06                    0   \n",
      "1469             0.32500         2.390000e-06                    0   \n",
      "1470             0.00000         0.000000e+00                    0   \n",
      "\n",
      "      B_U_VAR_INTRA_PROB  \n",
      "0                   0.00  \n",
      "1                   0.74  \n",
      "2                   0.00  \n",
      "3                   0.00  \n",
      "4                   0.00  \n",
      "...                  ...  \n",
      "1466                0.00  \n",
      "1467                0.00  \n",
      "1468                0.00  \n",
      "1469                0.00  \n",
      "1470                0.00  \n",
      "\n",
      "[1471 rows x 363 columns]\n"
     ]
    }
   ],
   "metadata": {}
  },
  {
   "cell_type": "code",
   "execution_count": 19,
   "source": [
    "all_data.to_csv('all_data_compiled.csv')"
   ],
   "outputs": [],
   "metadata": {}
  }
 ],
 "metadata": {
  "orig_nbformat": 4,
  "language_info": {
   "name": "python",
   "version": "3.6.9",
   "mimetype": "text/x-python",
   "codemirror_mode": {
    "name": "ipython",
    "version": 3
   },
   "pygments_lexer": "ipython3",
   "nbconvert_exporter": "python",
   "file_extension": ".py"
  },
  "kernelspec": {
   "name": "python3",
   "display_name": "Python 3.6.9 64-bit"
  },
  "interpreter": {
   "hash": "31f2aee4e71d21fbe5cf8b01ff0e069b9275f58929596ceb00d14d90e3e16cd6"
  }
 },
 "nbformat": 4,
 "nbformat_minor": 2
}