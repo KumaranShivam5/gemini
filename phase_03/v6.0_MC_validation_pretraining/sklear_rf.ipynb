{
 "cells": [
  {
   "cell_type": "code",
   "execution_count": 5,
   "source": [
    "from sklearn.model_selection import train_test_split\n",
    "from sklearn.metrics import confusion_matrix as cf \n",
    "import numpy as np \n",
    "from matplotlib import pyplot as plt \n",
    "import seaborn as sns\n",
    "import pandas as pd"
   ],
   "outputs": [],
   "metadata": {}
  },
  {
   "cell_type": "code",
   "execution_count": 6,
   "source": [
    "data =  pd.read_csv('processed_data/train_norm_corr' , index_col = 0)\n",
    "np.random.seed(433)\n",
    "data = data.sample(frac=1).reset_index(drop=True)\n",
    "split = int(0.8*(len(data)))\n",
    "info_col = [ 'class' , 'src_n' , 'src_id' , 'significance']\n",
    "data_info = data[info_col]\n",
    "data_val = data.drop(columns=info_col) \n",
    "data_label = data['class']\n",
    "x = data_val.copy()\n",
    "y = data_label.copy()\n",
    "x_train, x_test , y_train , y_test = x_train , x_test , y_train , y_test = train_test_split(x,y , test_size=0.2 , stratify=y)"
   ],
   "outputs": [],
   "metadata": {}
  },
  {
   "cell_type": "code",
   "execution_count": 7,
   "source": [
    "from tqdm import tqdm\n",
    "from sklearn.model_selection import train_test_split\n",
    "def mc_validation(model_func , x  , y , model_name = '' , pca=False):\n",
    "    train_acc = []\n",
    "    test_acc = []\n",
    "\n",
    "    for i in tqdm(range(32)):\n",
    "        x_train , x_test , y_train , y_test = train_test_split(x,y , test_size=0.2 )\n",
    "        if(pca):\n",
    "            pca = PCA(n_components=7)\n",
    "            x_train = pca.fit_transform(x_train)\n",
    "            x_test = pca.transform(x_test)\n",
    "        clf = model_func\n",
    "        clf.fit(x_train , y_train)\n",
    "        #print('train , test' , y_train.shape , y_test.shape)\n",
    "        #print(clf.score(x_test, y_test))\n",
    "        test_acc.append(clf.score(x_test , y_test))\n",
    "        train_acc.append(clf.score(x_train , y_train))\n",
    "\n",
    "    acc_train =  pd.DataFrame()\n",
    "    acc_test = pd.DataFrame()\n",
    "\n",
    "    \n",
    "    acc_test.insert(0 , 'acc_type' , ['Test_acc']*len(train_acc))\n",
    "    acc_test.insert(1 , 'accuracy' , test_acc)\n",
    "    acc_test = acc_test.reset_index(drop=True)\n",
    "   \n",
    "    acc_train.insert(0 , 'acc_type' , ['Train_acc']*len(train_acc))\n",
    "    acc_train.insert(1 , 'accuracy' , train_acc)\n",
    "    acc_train = acc_train.reset_index(drop=True)\n",
    "\n",
    "    acc = pd.concat([acc_train , acc_test]).reset_index(drop=True)\n",
    "    acc.insert(0 , 'model' , [model_name]*len(acc))\n",
    "    return acc\n"
   ],
   "outputs": [],
   "metadata": {}
  },
  {
   "cell_type": "code",
   "execution_count": 9,
   "source": [
    "from sklearn.ensemble import RandomForestClassifier"
   ],
   "outputs": [],
   "metadata": {}
  },
  {
   "cell_type": "code",
   "execution_count": 10,
   "source": [
    "rf_vanila = RandomForestClassifier(random_state=2)\n",
    "rf_vanila.fit(x_train , y_train)\n",
    "y_pred_vanila = rf_vanila.predict(x_test)\n",
    "cf_vanila = cf(y_test , y_pred_vanila)\n",
    "print(cf_vanila) "
   ],
   "outputs": [
    {
     "output_type": "stream",
     "name": "stdout",
     "text": [
      "[[25  7]\n",
      " [ 5 55]]\n"
     ]
    }
   ],
   "metadata": {}
  },
  {
   "cell_type": "code",
   "execution_count": 11,
   "source": [
    "rf_vanila.score(x_test, y_test)"
   ],
   "outputs": [
    {
     "output_type": "execute_result",
     "data": {
      "text/plain": [
       "0.8695652173913043"
      ]
     },
     "metadata": {},
     "execution_count": 11
    }
   ],
   "metadata": {}
  },
  {
   "cell_type": "code",
   "execution_count": null,
   "source": [],
   "outputs": [],
   "metadata": {}
  }
 ],
 "metadata": {
  "orig_nbformat": 4,
  "language_info": {
   "name": "python",
   "version": "3.8.2",
   "mimetype": "text/x-python",
   "codemirror_mode": {
    "name": "ipython",
    "version": 3
   },
   "pygments_lexer": "ipython3",
   "nbconvert_exporter": "python",
   "file_extension": ".py"
  },
  "kernelspec": {
   "name": "python3",
   "display_name": "Python 3.8.2 64-bit ('ciao-4.13': conda)"
  },
  "interpreter": {
   "hash": "dd401eb9f4a87b4d7521ead9a1bfa480dfd22ffaf3593a2155d0c7cf261e4ebc"
  }
 },
 "nbformat": 4,
 "nbformat_minor": 2
}