{
  "nbformat": 4,
  "nbformat_minor": 2,
  "metadata": {
    "colab": {
      "name": "NS_BH_CNN.ipynb",
      "provenance": [],
      "collapsed_sections": []
    },
    "kernelspec": {
      "name": "python3",
      "display_name": "Python 3.8.2 64-bit ('ciao-4.13': conda)"
    },
    "language_info": {
      "name": "python",
      "version": "3.8.2",
      "mimetype": "text/x-python",
      "codemirror_mode": {
        "name": "ipython",
        "version": 3
      },
      "pygments_lexer": "ipython3",
      "nbconvert_exporter": "python",
      "file_extension": ".py"
    },
    "accelerator": "TPU",
    "interpreter": {
      "hash": "dd401eb9f4a87b4d7521ead9a1bfa480dfd22ffaf3593a2155d0c7cf261e4ebc"
    }
  },
  "cells": [
    {
      "cell_type": "code",
      "execution_count": 1,
      "source": [
        "import tensorflow as tf \n",
        "from tensorflow import keras \n",
        "from tensorflow.keras import layers\n",
        "from tensorflow.keras.utils import to_categorical"
      ],
      "outputs": [],
      "metadata": {
        "id": "h5At54Z_2Rgk"
      }
    },
    {
      "cell_type": "code",
      "execution_count": 2,
      "source": [
        "import numpy as np \n",
        "import pandas as pd \n",
        "from matplotlib import pyplot as plt \n"
      ],
      "outputs": [],
      "metadata": {
        "id": "3PXo9ghF27dO"
      }
    },
    {
      "cell_type": "code",
      "execution_count": 5,
      "source": [
        "#display(data)\n",
        "def filter_data(data):\n",
        "    \n",
        "    max_flux = -12\n",
        "    min_flux = 26\n",
        "    data = data[data['flux_aper']<max_flux]\n",
        "    #data = data[data['flux_aper']<min_flux]\n",
        "    #data = data[data['flux_aper_lolim']<min_flux]\n",
        "    #data = data[data['flux_aper_hilim']>(max_flux-2)]\n",
        "    data = data[data['significance']>2]\n",
        "    data = data.sample(frac=1)\n",
        "    #display(data.describe())\n",
        "    data_class = data[['class']]\n",
        "    #data_id = data['src_id']\n",
        "    #data_name = data['src_name']\n",
        "    data_sig = data['significance']\n",
        "    obs_info_params = [ 'livetime','significance','likelihood','pileup_flag','mstr_sat_src_flag','mstr_streak_src_flag'   ,'gti_obs' , 'flux_significance_b'  , 'flux_significance_m' , 'flux_significance_s' , 'flux_significance_h' , 'flux_significance_u'    ]\n",
        "    data_val = data.drop(columns=obs_info_params)\n",
        "    flux_params = ['photflux_aper' ,'photflux_aper_lolim' , 'photflux_aper_hilim' , 'flux_aper' , 'flux_aper_lolim' , 'flux_aper_hilim' ]\n",
        "    flux_params_band = []\n",
        "    filters = ['_b' ,'_h' ,'_m' ,'_u' ,'_s']\n",
        "    for fp in flux_params:\n",
        "        for f in filters:\n",
        "            temp = fp+f\n",
        "            flux_params_band.append(temp)\n",
        "\n",
        "    data_val = data_val.drop(columns=['index' , 'class'])\n",
        "    #display(data_val)\n",
        "    #import missingno as msno\n",
        "    #msno.matrix(data_val)\n",
        "    #plt.show()\n",
        "\n",
        "    #data_val = data_val.replace(np.nan , 0)\n",
        "    #msno.matrix(data_val)\n",
        "    #plt.show()\n",
        "    for d in data_val:\n",
        "        \n",
        "        \n",
        "        max_val = np.amax(data_val[d])\n",
        "        min_val = np.amin(data_val[d]) \n",
        "        data_val[d] = (data_val[d]-min_val)/(max_val-min_val)\n",
        "        mean = np.mean(data_val[d])\n",
        "        var = np.var(data_val[d])\n",
        "#y = (x - min) / (max - min)\n",
        "        #data_val[d] = (data_val[d]-mean)/np.sqrt(var)\n",
        "        #data_val[d] = data_val[d] / np.amax(data_val[d])\n",
        "        \n",
        "        \n",
        "    data_val = data_val.replace(np.nan , 0)\n",
        "    #msno.matrix(data_val)\n",
        "    #plt.show()\n",
        "    return data , data_val , data_class , data_sig "
      ],
      "outputs": [],
      "metadata": {
        "id": "Sd06IpLt29f-"
      }
    },
    {
      "cell_type": "code",
      "execution_count": 6,
      "source": [
        "train_bh = pd.read_csv('processed_data/BH_')\n",
        "train_bh = train_bh.sample(frac=1)\n",
        "#display(data_bh)\n",
        "#display(train_bh.describe())\n",
        "train_ns = pd.read_csv('processed_data/NS_')\n",
        "train_ns = train_ns.sample(frac=1)\n",
        "\n",
        "train = pd.concat([train_bh , train_ns ] , axis=0)\n",
        "train =  train.sample(frac=1)\n",
        "\n",
        "train_data ,  data_val , data_class , data_sig = filter_data(train)\n",
        "display(data_val.describe())"
      ],
      "outputs": [
        {
          "output_type": "display_data",
          "data": {
            "text/plain": [
              "       flux_aper_hilim_s  flux_aper_hilim_u  flux_aper_hilim_m  \\\n",
              "count         460.000000         460.000000         460.000000   \n",
              "mean            0.405772           0.299390           0.412578   \n",
              "std             0.221633           0.242112           0.202805   \n",
              "min             0.000000           0.000000           0.000000   \n",
              "25%             0.270218           0.000000           0.286216   \n",
              "50%             0.381014           0.295346           0.402127   \n",
              "75%             0.555333           0.531809           0.533815   \n",
              "max             1.000000           1.000000           1.000000   \n",
              "\n",
              "       flux_aper_hilim_h  flux_aper_hilim_b  flux_aper_lolim_s  \\\n",
              "count         460.000000         460.000000         460.000000   \n",
              "mean            0.475729           0.497027           0.330700   \n",
              "std             0.201697           0.194583           0.293861   \n",
              "min             0.000000           0.000000           0.000000   \n",
              "25%             0.324350           0.358846           0.000000   \n",
              "50%             0.502370           0.504328           0.363721   \n",
              "75%             0.615238           0.626640           0.549342   \n",
              "max             1.000000           1.000000           1.000000   \n",
              "\n",
              "       flux_aper_lolim_u  flux_aper_lolim_m  flux_aper_lolim_h  \\\n",
              "count         460.000000         460.000000         460.000000   \n",
              "mean            0.073759           0.336558           0.396229   \n",
              "std             0.183519           0.276541           0.268479   \n",
              "min             0.000000           0.000000           0.000000   \n",
              "25%             0.000000           0.000000           0.175331   \n",
              "50%             0.000000           0.360282           0.437503   \n",
              "75%             0.000000           0.552846           0.599765   \n",
              "max             1.000000           1.000000           1.000000   \n",
              "\n",
              "       flux_aper_lolim_b  ...  flux_brems  flux_brems_lolim  flux_brems_hilim  \\\n",
              "count         460.000000  ...  460.000000        460.000000        460.000000   \n",
              "mean            0.464286  ...    0.023443          0.022373          0.023921   \n",
              "std             0.237701  ...    0.108967          0.105301          0.110320   \n",
              "min             0.000000  ...    0.000000          0.000000          0.000000   \n",
              "25%             0.349231  ...    0.000000          0.000000          0.000000   \n",
              "50%             0.486905  ...    0.000000          0.000000          0.000000   \n",
              "75%             0.619847  ...    0.000000          0.000000          0.000000   \n",
              "max             1.000000  ...    1.000000          1.000000          1.000000   \n",
              "\n",
              "         brems_kt  brems_kt_hilim  brems_kt_lolim    brems_nh  brems_nh_hilim  \\\n",
              "count  460.000000      460.000000      460.000000  460.000000      460.000000   \n",
              "mean     0.010732        0.014849        0.006533    0.011490        0.012215   \n",
              "std      0.085034        0.077365        0.052629    0.075177        0.080658   \n",
              "min      0.000000        0.000000        0.000000    0.000000        0.000000   \n",
              "25%      0.000000        0.000000        0.000000    0.000000        0.000000   \n",
              "50%      0.000000        0.000000        0.000000    0.000000        0.000000   \n",
              "75%      0.000000        0.000000        0.000000    0.000000        0.000000   \n",
              "max      1.000000        1.000000        1.000000    1.000000        1.000000   \n",
              "\n",
              "       brems_nh_lolim  brems_stat  \n",
              "count      460.000000  460.000000  \n",
              "mean         0.010280    0.012353  \n",
              "std          0.068562    0.059748  \n",
              "min          0.000000    0.000000  \n",
              "25%          0.000000    0.000000  \n",
              "50%          0.000000    0.000000  \n",
              "75%          0.000000    0.000000  \n",
              "max          1.000000    1.000000  \n",
              "\n",
              "[8 rows x 92 columns]"
            ],
            "text/html": [
              "<div>\n",
              "<style scoped>\n",
              "    .dataframe tbody tr th:only-of-type {\n",
              "        vertical-align: middle;\n",
              "    }\n",
              "\n",
              "    .dataframe tbody tr th {\n",
              "        vertical-align: top;\n",
              "    }\n",
              "\n",
              "    .dataframe thead th {\n",
              "        text-align: right;\n",
              "    }\n",
              "</style>\n",
              "<table border=\"1\" class=\"dataframe\">\n",
              "  <thead>\n",
              "    <tr style=\"text-align: right;\">\n",
              "      <th></th>\n",
              "      <th>flux_aper_hilim_s</th>\n",
              "      <th>flux_aper_hilim_u</th>\n",
              "      <th>flux_aper_hilim_m</th>\n",
              "      <th>flux_aper_hilim_h</th>\n",
              "      <th>flux_aper_hilim_b</th>\n",
              "      <th>flux_aper_lolim_s</th>\n",
              "      <th>flux_aper_lolim_u</th>\n",
              "      <th>flux_aper_lolim_m</th>\n",
              "      <th>flux_aper_lolim_h</th>\n",
              "      <th>flux_aper_lolim_b</th>\n",
              "      <th>...</th>\n",
              "      <th>flux_brems</th>\n",
              "      <th>flux_brems_lolim</th>\n",
              "      <th>flux_brems_hilim</th>\n",
              "      <th>brems_kt</th>\n",
              "      <th>brems_kt_hilim</th>\n",
              "      <th>brems_kt_lolim</th>\n",
              "      <th>brems_nh</th>\n",
              "      <th>brems_nh_hilim</th>\n",
              "      <th>brems_nh_lolim</th>\n",
              "      <th>brems_stat</th>\n",
              "    </tr>\n",
              "  </thead>\n",
              "  <tbody>\n",
              "    <tr>\n",
              "      <th>count</th>\n",
              "      <td>460.000000</td>\n",
              "      <td>460.000000</td>\n",
              "      <td>460.000000</td>\n",
              "      <td>460.000000</td>\n",
              "      <td>460.000000</td>\n",
              "      <td>460.000000</td>\n",
              "      <td>460.000000</td>\n",
              "      <td>460.000000</td>\n",
              "      <td>460.000000</td>\n",
              "      <td>460.000000</td>\n",
              "      <td>...</td>\n",
              "      <td>460.000000</td>\n",
              "      <td>460.000000</td>\n",
              "      <td>460.000000</td>\n",
              "      <td>460.000000</td>\n",
              "      <td>460.000000</td>\n",
              "      <td>460.000000</td>\n",
              "      <td>460.000000</td>\n",
              "      <td>460.000000</td>\n",
              "      <td>460.000000</td>\n",
              "      <td>460.000000</td>\n",
              "    </tr>\n",
              "    <tr>\n",
              "      <th>mean</th>\n",
              "      <td>0.405772</td>\n",
              "      <td>0.299390</td>\n",
              "      <td>0.412578</td>\n",
              "      <td>0.475729</td>\n",
              "      <td>0.497027</td>\n",
              "      <td>0.330700</td>\n",
              "      <td>0.073759</td>\n",
              "      <td>0.336558</td>\n",
              "      <td>0.396229</td>\n",
              "      <td>0.464286</td>\n",
              "      <td>...</td>\n",
              "      <td>0.023443</td>\n",
              "      <td>0.022373</td>\n",
              "      <td>0.023921</td>\n",
              "      <td>0.010732</td>\n",
              "      <td>0.014849</td>\n",
              "      <td>0.006533</td>\n",
              "      <td>0.011490</td>\n",
              "      <td>0.012215</td>\n",
              "      <td>0.010280</td>\n",
              "      <td>0.012353</td>\n",
              "    </tr>\n",
              "    <tr>\n",
              "      <th>std</th>\n",
              "      <td>0.221633</td>\n",
              "      <td>0.242112</td>\n",
              "      <td>0.202805</td>\n",
              "      <td>0.201697</td>\n",
              "      <td>0.194583</td>\n",
              "      <td>0.293861</td>\n",
              "      <td>0.183519</td>\n",
              "      <td>0.276541</td>\n",
              "      <td>0.268479</td>\n",
              "      <td>0.237701</td>\n",
              "      <td>...</td>\n",
              "      <td>0.108967</td>\n",
              "      <td>0.105301</td>\n",
              "      <td>0.110320</td>\n",
              "      <td>0.085034</td>\n",
              "      <td>0.077365</td>\n",
              "      <td>0.052629</td>\n",
              "      <td>0.075177</td>\n",
              "      <td>0.080658</td>\n",
              "      <td>0.068562</td>\n",
              "      <td>0.059748</td>\n",
              "    </tr>\n",
              "    <tr>\n",
              "      <th>min</th>\n",
              "      <td>0.000000</td>\n",
              "      <td>0.000000</td>\n",
              "      <td>0.000000</td>\n",
              "      <td>0.000000</td>\n",
              "      <td>0.000000</td>\n",
              "      <td>0.000000</td>\n",
              "      <td>0.000000</td>\n",
              "      <td>0.000000</td>\n",
              "      <td>0.000000</td>\n",
              "      <td>0.000000</td>\n",
              "      <td>...</td>\n",
              "      <td>0.000000</td>\n",
              "      <td>0.000000</td>\n",
              "      <td>0.000000</td>\n",
              "      <td>0.000000</td>\n",
              "      <td>0.000000</td>\n",
              "      <td>0.000000</td>\n",
              "      <td>0.000000</td>\n",
              "      <td>0.000000</td>\n",
              "      <td>0.000000</td>\n",
              "      <td>0.000000</td>\n",
              "    </tr>\n",
              "    <tr>\n",
              "      <th>25%</th>\n",
              "      <td>0.270218</td>\n",
              "      <td>0.000000</td>\n",
              "      <td>0.286216</td>\n",
              "      <td>0.324350</td>\n",
              "      <td>0.358846</td>\n",
              "      <td>0.000000</td>\n",
              "      <td>0.000000</td>\n",
              "      <td>0.000000</td>\n",
              "      <td>0.175331</td>\n",
              "      <td>0.349231</td>\n",
              "      <td>...</td>\n",
              "      <td>0.000000</td>\n",
              "      <td>0.000000</td>\n",
              "      <td>0.000000</td>\n",
              "      <td>0.000000</td>\n",
              "      <td>0.000000</td>\n",
              "      <td>0.000000</td>\n",
              "      <td>0.000000</td>\n",
              "      <td>0.000000</td>\n",
              "      <td>0.000000</td>\n",
              "      <td>0.000000</td>\n",
              "    </tr>\n",
              "    <tr>\n",
              "      <th>50%</th>\n",
              "      <td>0.381014</td>\n",
              "      <td>0.295346</td>\n",
              "      <td>0.402127</td>\n",
              "      <td>0.502370</td>\n",
              "      <td>0.504328</td>\n",
              "      <td>0.363721</td>\n",
              "      <td>0.000000</td>\n",
              "      <td>0.360282</td>\n",
              "      <td>0.437503</td>\n",
              "      <td>0.486905</td>\n",
              "      <td>...</td>\n",
              "      <td>0.000000</td>\n",
              "      <td>0.000000</td>\n",
              "      <td>0.000000</td>\n",
              "      <td>0.000000</td>\n",
              "      <td>0.000000</td>\n",
              "      <td>0.000000</td>\n",
              "      <td>0.000000</td>\n",
              "      <td>0.000000</td>\n",
              "      <td>0.000000</td>\n",
              "      <td>0.000000</td>\n",
              "    </tr>\n",
              "    <tr>\n",
              "      <th>75%</th>\n",
              "      <td>0.555333</td>\n",
              "      <td>0.531809</td>\n",
              "      <td>0.533815</td>\n",
              "      <td>0.615238</td>\n",
              "      <td>0.626640</td>\n",
              "      <td>0.549342</td>\n",
              "      <td>0.000000</td>\n",
              "      <td>0.552846</td>\n",
              "      <td>0.599765</td>\n",
              "      <td>0.619847</td>\n",
              "      <td>...</td>\n",
              "      <td>0.000000</td>\n",
              "      <td>0.000000</td>\n",
              "      <td>0.000000</td>\n",
              "      <td>0.000000</td>\n",
              "      <td>0.000000</td>\n",
              "      <td>0.000000</td>\n",
              "      <td>0.000000</td>\n",
              "      <td>0.000000</td>\n",
              "      <td>0.000000</td>\n",
              "      <td>0.000000</td>\n",
              "    </tr>\n",
              "    <tr>\n",
              "      <th>max</th>\n",
              "      <td>1.000000</td>\n",
              "      <td>1.000000</td>\n",
              "      <td>1.000000</td>\n",
              "      <td>1.000000</td>\n",
              "      <td>1.000000</td>\n",
              "      <td>1.000000</td>\n",
              "      <td>1.000000</td>\n",
              "      <td>1.000000</td>\n",
              "      <td>1.000000</td>\n",
              "      <td>1.000000</td>\n",
              "      <td>...</td>\n",
              "      <td>1.000000</td>\n",
              "      <td>1.000000</td>\n",
              "      <td>1.000000</td>\n",
              "      <td>1.000000</td>\n",
              "      <td>1.000000</td>\n",
              "      <td>1.000000</td>\n",
              "      <td>1.000000</td>\n",
              "      <td>1.000000</td>\n",
              "      <td>1.000000</td>\n",
              "      <td>1.000000</td>\n",
              "    </tr>\n",
              "  </tbody>\n",
              "</table>\n",
              "<p>8 rows × 92 columns</p>\n",
              "</div>"
            ]
          },
          "metadata": {}
        }
      ],
      "metadata": {
        "colab": {
          "base_uri": "https://localhost:8080/",
          "height": 346
        },
        "id": "6TZbkwqp2_5N",
        "outputId": "80e79cd8-a299-43de-a8c4-be3eadfa3fc0"
      }
    },
    {
      "cell_type": "code",
      "execution_count": 7,
      "source": [
        "def split_data(x,y,s,frac):\n",
        "    split_no = int(len(y)*frac )\n",
        "    x_train = x[:split_no]\n",
        "    x_test = x[split_no:]\n",
        "    y_train = y[:split_no]\n",
        "    y_test = y[split_no:]\n",
        "    s_train = s[:split_no]\n",
        "    s_test = s[split_no:]\n",
        "    #id_train = id[:split_no]\n",
        "    #id_test = id[split_no:]\n",
        "    return (x_train , y_train , s_train ,) , (x_test , y_test , s_test , )\n",
        "\n",
        "x = data_val.to_numpy()\n",
        "y = data_class.to_numpy()\n",
        "s = data_sig.to_numpy()\n",
        "s = s\n",
        "#s = [float(si) for si in s]\n",
        "(x_train , y_train , s_train , ) , (x_test , y_test , s_test , ) =  split_data(x, y,s , 1)\n",
        "print(x_train.shape , y_train.shape)\n",
        "print(x_test.shape , y_test.shape)"
      ],
      "outputs": [
        {
          "output_type": "stream",
          "name": "stdout",
          "text": [
            "(460, 92) (460, 1)\n",
            "(0, 92) (0, 1)\n"
          ]
        }
      ],
      "metadata": {
        "colab": {
          "base_uri": "https://localhost:8080/"
        },
        "id": "8zTJrAO231Jm",
        "outputId": "3e8f7046-4df7-443e-add0-453b7a879f72"
      }
    },
    {
      "cell_type": "code",
      "execution_count": 8,
      "source": [
        "def class_to_int(label , cl):\n",
        "    temp = []\n",
        "    for i in range(len(label)):\n",
        "        #print(label[i])\n",
        "        for j in range(len(cl)):\n",
        "            if(label[i]==cl[j]):\n",
        "                temp.append(j) \n",
        "    return temp\n",
        "classes = ['BH' ,'NS' ]\n",
        "y_train_int = class_to_int(y_train, classes)\n",
        "#y_test_int = class_to_int(y_test, classes)\n",
        "one_hot_y_train =  to_categorical(y_train_int)\n",
        "#one_hot_y_test =  to_categorical(y_test_int)\n",
        "#for y_i , y_j in zip(y_train , one_hot_y_train):\n",
        "##    print(y_i , y_j)"
      ],
      "outputs": [],
      "metadata": {
        "id": "498FSntI32z3"
      }
    },
    {
      "cell_type": "code",
      "execution_count": 9,
      "source": [
        "desc_class = pd.DataFrame()\n",
        "y_class_ser = (np.asarray(y_train).reshape(len(y_train)))\n",
        "desc_class.insert(0, 'cl', y_class_ser)\n",
        "ns_n = float(desc_class.value_counts()['NS'])\n",
        "bh_n= float(desc_class.value_counts()['BH'])\n",
        "print(ns_n , bh_n)"
      ],
      "outputs": [
        {
          "output_type": "stream",
          "name": "stdout",
          "text": [
            "302.0 158.0\n"
          ]
        }
      ],
      "metadata": {
        "colab": {
          "base_uri": "https://localhost:8080/"
        },
        "id": "DmEUBSJ434az",
        "outputId": "8742df73-6c52-4626-b203-aade60ce970d"
      }
    },
    {
      "cell_type": "code",
      "execution_count": 14,
      "source": [
        "def gen_model():\n",
        "    #from tensorflow.keras.layers import Flatten\n",
        "    #from tensorflow.keras.layers.convolutional import Conv2D\n",
        "    #from tensorflow.keras.layers.pooling import MaxPooling2D\n",
        "    visible = layers.Input(shape=(92,1))\n",
        "    x = layers.BatchNormalization(axis=-1)(visible)\n",
        "    #x = tf.keras.layers.LeakyReLU(alpha=0.3)(visible)\n",
        "    x = layers.Conv1D(32, kernel_size=3, activation='relu' , kernel_regularizer= 'l2', kernel_initializer='he_normal')(x)\n",
        "    x = layers.MaxPool1D(pool_size=(2))(x)\n",
        "\n",
        "    #x = layers.Conv1D(32, kernel_size=4, activation='relu' ,   kernel_regularizer= 'l2', kernel_initializer='he_normal')(x)\n",
        "    #x = layers.MaxPool1D(pool_size=(2))(x)\n",
        "    x = layers.Conv1D(16, kernel_size=3, activation='relu' , kernel_regularizer= 'l2', kernel_initializer='he_normal')(x)\n",
        "    x = layers.MaxPooling1D(pool_size=(2))(x)\n",
        "    #x = layers.Conv1D(32, kernel_size=4, activation='relu')(x)\n",
        "    x = layers.MaxPooling1D(pool_size=(2))(x)\n",
        "    x = layers.Flatten()(x)\n",
        "    #x = layers.BatchNormalization(axis=-1)(x)\n",
        "    x = layers.Dense(16, activation='relu' ,  kernel_regularizer= 'l2',kernel_initializer='he_normal')(x)\n",
        "    x = layers.Dropout(0.1)(x)\n",
        "    x = layers.Dense(16, activation='relu')(x)\n",
        "    output = layers.Dense(2, activation='softmax' , kernel_regularizer= 'l2' , kernel_initializer='he_normal')(x)\n",
        "    model_cnn = keras.Model(inputs=visible, outputs=output)\n",
        "    # summarize layers\n",
        "    #print(model_cnn.summary())\n",
        "    model_cnn.compile(\n",
        "            loss = \"categorical_crossentropy\",\n",
        "            optimizer = keras.optimizers.Adam(learning_rate=0.0005),\n",
        "            metrics = [\"accuracy\"], \n",
        "        )\n",
        "    \n",
        "    return model_cnn\n",
        "def fit_model(model , x_train , one_hot_y_train , verbose=0):\n",
        "    class_weight = {0: (ns_n/bh_n),\n",
        "                    1: 1}\n",
        "    history = model.fit(x_train, one_hot_y_train, batch_size=64, epochs=120, validation_split=0.2 , class_weight=class_weight, verbose=verbose)\n",
        "    return history\n"
      ],
      "outputs": [],
      "metadata": {
        "id": "Kkdko-iM359E"
      }
    },
    {
      "cell_type": "code",
      "execution_count": 15,
      "source": [
        "model = gen_model()\n",
        "history = fit_model(model , x_train , one_hot_y_train , verbose=1)"
      ],
      "outputs": [
        {
          "output_type": "stream",
          "name": "stdout",
          "text": [
            "Epoch 1/120\n",
            "6/6 [==============================] - 6s 440ms/step - loss: 3.0696 - accuracy: 0.6587 - val_loss: 1.8864 - val_accuracy: 0.6848\n",
            "Epoch 2/120\n",
            "6/6 [==============================] - 0s 81ms/step - loss: 2.3802 - accuracy: 0.6574 - val_loss: 1.9459 - val_accuracy: 0.5761\n",
            "Epoch 3/120\n",
            "6/6 [==============================] - 1s 108ms/step - loss: 2.1684 - accuracy: 0.5371 - val_loss: 1.9834 - val_accuracy: 0.3370\n",
            "Epoch 4/120\n",
            "6/6 [==============================] - 0s 86ms/step - loss: 2.1969 - accuracy: 0.4462 - val_loss: 1.9722 - val_accuracy: 0.3261\n",
            "Epoch 5/120\n",
            "6/6 [==============================] - 0s 72ms/step - loss: 2.1622 - accuracy: 0.4132 - val_loss: 1.9329 - val_accuracy: 0.3913\n",
            "Epoch 6/120\n",
            "6/6 [==============================] - 0s 84ms/step - loss: 2.1214 - accuracy: 0.5588 - val_loss: 1.8992 - val_accuracy: 0.6087\n",
            "Epoch 7/120\n",
            "6/6 [==============================] - 1s 93ms/step - loss: 2.0936 - accuracy: 0.5958 - val_loss: 1.8741 - val_accuracy: 0.6522\n",
            "Epoch 8/120\n",
            "6/6 [==============================] - 0s 84ms/step - loss: 2.0892 - accuracy: 0.5983 - val_loss: 1.8594 - val_accuracy: 0.6848\n",
            "Epoch 9/120\n",
            "6/6 [==============================] - 1s 101ms/step - loss: 2.0491 - accuracy: 0.6702 - val_loss: 1.8529 - val_accuracy: 0.7065\n",
            "Epoch 10/120\n",
            "6/6 [==============================] - 1s 101ms/step - loss: 2.0250 - accuracy: 0.6225 - val_loss: 1.8455 - val_accuracy: 0.7283\n",
            "Epoch 11/120\n",
            "6/6 [==============================] - 1s 86ms/step - loss: 2.0015 - accuracy: 0.6780 - val_loss: 1.8353 - val_accuracy: 0.7283\n",
            "Epoch 12/120\n",
            "6/6 [==============================] - 1s 123ms/step - loss: 1.9553 - accuracy: 0.7171 - val_loss: 1.8165 - val_accuracy: 0.7283\n",
            "Epoch 13/120\n",
            "6/6 [==============================] - 1s 190ms/step - loss: 1.9868 - accuracy: 0.6558 - val_loss: 1.8064 - val_accuracy: 0.7391\n",
            "Epoch 14/120\n",
            "6/6 [==============================] - 1s 99ms/step - loss: 1.9666 - accuracy: 0.6924 - val_loss: 1.7962 - val_accuracy: 0.7391\n",
            "Epoch 15/120\n",
            "6/6 [==============================] - 1s 91ms/step - loss: 1.9717 - accuracy: 0.6710 - val_loss: 1.7830 - val_accuracy: 0.7065\n",
            "Epoch 16/120\n",
            "6/6 [==============================] - 1s 86ms/step - loss: 1.9170 - accuracy: 0.7362 - val_loss: 1.7717 - val_accuracy: 0.7065\n",
            "Epoch 17/120\n",
            "6/6 [==============================] - 1s 113ms/step - loss: 1.8951 - accuracy: 0.7253 - val_loss: 1.7569 - val_accuracy: 0.7283\n",
            "Epoch 18/120\n",
            "6/6 [==============================] - 1s 149ms/step - loss: 1.9007 - accuracy: 0.7343 - val_loss: 1.7477 - val_accuracy: 0.7391\n",
            "Epoch 19/120\n",
            "6/6 [==============================] - 0s 80ms/step - loss: 1.8805 - accuracy: 0.7311 - val_loss: 1.7390 - val_accuracy: 0.7391\n",
            "Epoch 20/120\n",
            "6/6 [==============================] - 1s 158ms/step - loss: 1.8449 - accuracy: 0.7373 - val_loss: 1.7248 - val_accuracy: 0.7283\n",
            "Epoch 21/120\n",
            "6/6 [==============================] - 1s 235ms/step - loss: 1.8796 - accuracy: 0.6845 - val_loss: 1.7061 - val_accuracy: 0.7609\n",
            "Epoch 22/120\n",
            "6/6 [==============================] - 1s 161ms/step - loss: 1.8020 - accuracy: 0.7568 - val_loss: 1.6853 - val_accuracy: 0.8043\n",
            "Epoch 23/120\n",
            "6/6 [==============================] - 1s 200ms/step - loss: 1.8506 - accuracy: 0.7254 - val_loss: 1.6801 - val_accuracy: 0.7717\n",
            "Epoch 24/120\n",
            "6/6 [==============================] - 1s 200ms/step - loss: 1.8084 - accuracy: 0.7439 - val_loss: 1.6748 - val_accuracy: 0.7609\n",
            "Epoch 25/120\n",
            "6/6 [==============================] - 1s 195ms/step - loss: 1.7758 - accuracy: 0.7620 - val_loss: 1.6619 - val_accuracy: 0.7500\n",
            "Epoch 26/120\n",
            "6/6 [==============================] - 1s 124ms/step - loss: 1.7809 - accuracy: 0.7177 - val_loss: 1.6352 - val_accuracy: 0.7826\n",
            "Epoch 27/120\n",
            "6/6 [==============================] - 1s 171ms/step - loss: 1.7543 - accuracy: 0.7566 - val_loss: 1.6230 - val_accuracy: 0.7717\n",
            "Epoch 28/120\n",
            "6/6 [==============================] - 1s 134ms/step - loss: 1.7208 - accuracy: 0.7553 - val_loss: 1.6150 - val_accuracy: 0.7500\n",
            "Epoch 29/120\n",
            "6/6 [==============================] - 1s 143ms/step - loss: 1.7601 - accuracy: 0.7342 - val_loss: 1.6160 - val_accuracy: 0.6957\n",
            "Epoch 30/120\n",
            "6/6 [==============================] - 1s 123ms/step - loss: 1.7219 - accuracy: 0.7239 - val_loss: 1.5881 - val_accuracy: 0.7609\n",
            "Epoch 31/120\n",
            "6/6 [==============================] - 1s 110ms/step - loss: 1.7209 - accuracy: 0.7614 - val_loss: 1.5680 - val_accuracy: 0.7717\n",
            "Epoch 32/120\n",
            "6/6 [==============================] - 1s 138ms/step - loss: 1.7054 - accuracy: 0.7467 - val_loss: 1.5577 - val_accuracy: 0.7717\n",
            "Epoch 33/120\n",
            "6/6 [==============================] - 1s 107ms/step - loss: 1.6722 - accuracy: 0.7528 - val_loss: 1.5486 - val_accuracy: 0.7609\n",
            "Epoch 34/120\n",
            "6/6 [==============================] - 0s 85ms/step - loss: 1.7140 - accuracy: 0.7429 - val_loss: 1.5390 - val_accuracy: 0.7826\n",
            "Epoch 35/120\n",
            "6/6 [==============================] - 1s 89ms/step - loss: 1.6932 - accuracy: 0.7538 - val_loss: 1.5159 - val_accuracy: 0.7935\n",
            "Epoch 36/120\n",
            "6/6 [==============================] - 1s 132ms/step - loss: 1.6402 - accuracy: 0.7957 - val_loss: 1.5081 - val_accuracy: 0.7935\n",
            "Epoch 37/120\n",
            "6/6 [==============================] - 1s 95ms/step - loss: 1.6048 - accuracy: 0.7931 - val_loss: 1.5014 - val_accuracy: 0.7826\n",
            "Epoch 38/120\n",
            "6/6 [==============================] - 0s 90ms/step - loss: 1.5972 - accuracy: 0.7625 - val_loss: 1.4869 - val_accuracy: 0.7826\n",
            "Epoch 39/120\n",
            "6/6 [==============================] - 1s 106ms/step - loss: 1.6475 - accuracy: 0.7583 - val_loss: 1.4792 - val_accuracy: 0.7609\n",
            "Epoch 40/120\n",
            "6/6 [==============================] - 1s 96ms/step - loss: 1.5872 - accuracy: 0.7941 - val_loss: 1.4388 - val_accuracy: 0.8370\n",
            "Epoch 41/120\n",
            "6/6 [==============================] - 1s 121ms/step - loss: 1.5775 - accuracy: 0.8013 - val_loss: 1.4480 - val_accuracy: 0.7935\n",
            "Epoch 42/120\n",
            "6/6 [==============================] - 1s 118ms/step - loss: 1.5793 - accuracy: 0.7687 - val_loss: 1.4352 - val_accuracy: 0.7935\n",
            "Epoch 43/120\n",
            "6/6 [==============================] - 0s 76ms/step - loss: 1.5391 - accuracy: 0.8096 - val_loss: 1.3984 - val_accuracy: 0.8587\n",
            "Epoch 44/120\n",
            "6/6 [==============================] - 1s 107ms/step - loss: 1.5299 - accuracy: 0.8024 - val_loss: 1.4274 - val_accuracy: 0.7500\n",
            "Epoch 45/120\n",
            "6/6 [==============================] - 1s 123ms/step - loss: 1.5410 - accuracy: 0.7774 - val_loss: 1.3838 - val_accuracy: 0.8370\n",
            "Epoch 46/120\n",
            "6/6 [==============================] - 1s 103ms/step - loss: 1.5236 - accuracy: 0.7893 - val_loss: 1.3801 - val_accuracy: 0.8261\n",
            "Epoch 47/120\n",
            "6/6 [==============================] - 1s 144ms/step - loss: 1.5222 - accuracy: 0.7908 - val_loss: 1.3638 - val_accuracy: 0.8370\n",
            "Epoch 48/120\n",
            "6/6 [==============================] - 1s 184ms/step - loss: 1.5134 - accuracy: 0.7606 - val_loss: 1.3714 - val_accuracy: 0.8152\n",
            "Epoch 49/120\n",
            "6/6 [==============================] - 1s 170ms/step - loss: 1.4781 - accuracy: 0.8055 - val_loss: 1.3477 - val_accuracy: 0.8478\n",
            "Epoch 50/120\n",
            "6/6 [==============================] - 1s 177ms/step - loss: 1.4618 - accuracy: 0.7964 - val_loss: 1.3364 - val_accuracy: 0.8696\n",
            "Epoch 51/120\n",
            "6/6 [==============================] - 1s 127ms/step - loss: 1.4263 - accuracy: 0.8165 - val_loss: 1.3297 - val_accuracy: 0.8478\n",
            "Epoch 52/120\n",
            "6/6 [==============================] - 1s 205ms/step - loss: 1.4374 - accuracy: 0.8368 - val_loss: 1.3255 - val_accuracy: 0.8478\n",
            "Epoch 53/120\n",
            "6/6 [==============================] - 1s 186ms/step - loss: 1.4174 - accuracy: 0.8239 - val_loss: 1.2942 - val_accuracy: 0.8587\n",
            "Epoch 54/120\n",
            "6/6 [==============================] - 1s 169ms/step - loss: 1.4201 - accuracy: 0.8286 - val_loss: 1.3233 - val_accuracy: 0.8261\n",
            "Epoch 55/120\n",
            "6/6 [==============================] - 1s 128ms/step - loss: 1.4207 - accuracy: 0.8143 - val_loss: 1.2968 - val_accuracy: 0.8370\n",
            "Epoch 56/120\n",
            "6/6 [==============================] - 1s 105ms/step - loss: 1.4112 - accuracy: 0.8401 - val_loss: 1.2570 - val_accuracy: 0.8696\n",
            "Epoch 57/120\n",
            "6/6 [==============================] - 1s 116ms/step - loss: 1.3764 - accuracy: 0.8494 - val_loss: 1.3583 - val_accuracy: 0.7500\n",
            "Epoch 58/120\n",
            "6/6 [==============================] - 1s 123ms/step - loss: 1.4136 - accuracy: 0.7808 - val_loss: 1.2658 - val_accuracy: 0.8587\n",
            "Epoch 59/120\n",
            "6/6 [==============================] - 1s 123ms/step - loss: 1.3551 - accuracy: 0.8577 - val_loss: 1.2513 - val_accuracy: 0.8587\n",
            "Epoch 60/120\n",
            "6/6 [==============================] - 1s 122ms/step - loss: 1.3798 - accuracy: 0.8330 - val_loss: 1.2672 - val_accuracy: 0.8478\n",
            "Epoch 61/120\n",
            "6/6 [==============================] - 1s 119ms/step - loss: 1.3827 - accuracy: 0.8132 - val_loss: 1.2491 - val_accuracy: 0.8696\n",
            "Epoch 62/120\n",
            "6/6 [==============================] - 1s 90ms/step - loss: 1.3356 - accuracy: 0.8406 - val_loss: 1.2361 - val_accuracy: 0.8804\n",
            "Epoch 63/120\n",
            "6/6 [==============================] - 1s 108ms/step - loss: 1.3654 - accuracy: 0.8405 - val_loss: 1.2224 - val_accuracy: 0.8804\n",
            "Epoch 64/120\n",
            "6/6 [==============================] - 1s 84ms/step - loss: 1.3083 - accuracy: 0.8544 - val_loss: 1.2431 - val_accuracy: 0.8696\n",
            "Epoch 65/120\n",
            "6/6 [==============================] - 1s 126ms/step - loss: 1.3141 - accuracy: 0.8535 - val_loss: 1.2048 - val_accuracy: 0.8696\n",
            "Epoch 66/120\n",
            "6/6 [==============================] - 1s 145ms/step - loss: 1.3226 - accuracy: 0.8507 - val_loss: 1.2245 - val_accuracy: 0.8696\n",
            "Epoch 67/120\n",
            "6/6 [==============================] - 1s 120ms/step - loss: 1.2732 - accuracy: 0.8729 - val_loss: 1.2083 - val_accuracy: 0.8696\n",
            "Epoch 68/120\n",
            "6/6 [==============================] - 1s 161ms/step - loss: 1.2846 - accuracy: 0.8853 - val_loss: 1.1762 - val_accuracy: 0.8804\n",
            "Epoch 69/120\n",
            "6/6 [==============================] - 1s 116ms/step - loss: 1.2776 - accuracy: 0.8768 - val_loss: 1.2111 - val_accuracy: 0.8587\n",
            "Epoch 70/120\n",
            "6/6 [==============================] - 1s 169ms/step - loss: 1.2478 - accuracy: 0.8805 - val_loss: 1.1822 - val_accuracy: 0.8913\n",
            "Epoch 71/120\n",
            "6/6 [==============================] - 1s 193ms/step - loss: 1.3017 - accuracy: 0.8398 - val_loss: 1.1897 - val_accuracy: 0.8913\n",
            "Epoch 72/120\n",
            "6/6 [==============================] - 1s 164ms/step - loss: 1.2457 - accuracy: 0.8689 - val_loss: 1.1691 - val_accuracy: 0.8913\n",
            "Epoch 73/120\n",
            "6/6 [==============================] - 1s 167ms/step - loss: 1.2831 - accuracy: 0.8704 - val_loss: 1.1494 - val_accuracy: 0.8913\n",
            "Epoch 74/120\n",
            "6/6 [==============================] - 1s 155ms/step - loss: 1.2365 - accuracy: 0.8843 - val_loss: 1.1770 - val_accuracy: 0.8804\n",
            "Epoch 75/120\n",
            "6/6 [==============================] - 1s 100ms/step - loss: 1.2383 - accuracy: 0.8480 - val_loss: 1.1650 - val_accuracy: 0.8804\n",
            "Epoch 76/120\n",
            "6/6 [==============================] - 1s 89ms/step - loss: 1.2336 - accuracy: 0.8827 - val_loss: 1.1376 - val_accuracy: 0.8913\n",
            "Epoch 77/120\n",
            "6/6 [==============================] - 1s 147ms/step - loss: 1.2630 - accuracy: 0.8517 - val_loss: 1.1422 - val_accuracy: 0.8804\n",
            "Epoch 78/120\n",
            "6/6 [==============================] - 1s 112ms/step - loss: 1.2237 - accuracy: 0.8679 - val_loss: 1.1436 - val_accuracy: 0.8913\n",
            "Epoch 79/120\n",
            "6/6 [==============================] - 1s 140ms/step - loss: 1.2157 - accuracy: 0.8610 - val_loss: 1.1528 - val_accuracy: 0.8913\n",
            "Epoch 80/120\n",
            "6/6 [==============================] - 1s 173ms/step - loss: 1.2124 - accuracy: 0.8637 - val_loss: 1.1161 - val_accuracy: 0.8913\n",
            "Epoch 81/120\n",
            "6/6 [==============================] - 1s 165ms/step - loss: 1.1915 - accuracy: 0.8969 - val_loss: 1.1301 - val_accuracy: 0.9022\n",
            "Epoch 82/120\n",
            "6/6 [==============================] - 1s 151ms/step - loss: 1.2285 - accuracy: 0.8459 - val_loss: 1.1058 - val_accuracy: 0.8804\n",
            "Epoch 83/120\n",
            "6/6 [==============================] - 1s 132ms/step - loss: 1.1656 - accuracy: 0.9079 - val_loss: 1.0942 - val_accuracy: 0.8913\n",
            "Epoch 84/120\n",
            "6/6 [==============================] - 1s 169ms/step - loss: 1.1299 - accuracy: 0.8980 - val_loss: 1.1569 - val_accuracy: 0.8587\n",
            "Epoch 85/120\n",
            "6/6 [==============================] - 1s 125ms/step - loss: 1.1776 - accuracy: 0.8684 - val_loss: 1.0933 - val_accuracy: 0.8696\n",
            "Epoch 86/120\n",
            "6/6 [==============================] - 1s 123ms/step - loss: 1.1826 - accuracy: 0.8965 - val_loss: 1.0849 - val_accuracy: 0.8913\n",
            "Epoch 87/120\n",
            "6/6 [==============================] - 1s 90ms/step - loss: 1.1515 - accuracy: 0.9008 - val_loss: 1.1150 - val_accuracy: 0.8804\n",
            "Epoch 88/120\n",
            "6/6 [==============================] - 1s 120ms/step - loss: 1.1727 - accuracy: 0.8641 - val_loss: 1.0617 - val_accuracy: 0.9239\n",
            "Epoch 89/120\n",
            "6/6 [==============================] - 1s 122ms/step - loss: 1.1723 - accuracy: 0.8645 - val_loss: 1.1172 - val_accuracy: 0.8804\n",
            "Epoch 90/120\n",
            "6/6 [==============================] - 1s 114ms/step - loss: 1.1219 - accuracy: 0.9050 - val_loss: 1.0637 - val_accuracy: 0.9130\n",
            "Epoch 91/120\n",
            "6/6 [==============================] - 0s 75ms/step - loss: 1.1130 - accuracy: 0.9150 - val_loss: 1.0909 - val_accuracy: 0.9022\n",
            "Epoch 92/120\n",
            "6/6 [==============================] - 0s 74ms/step - loss: 1.1357 - accuracy: 0.8684 - val_loss: 1.0540 - val_accuracy: 0.9130\n",
            "Epoch 93/120\n",
            "6/6 [==============================] - 1s 116ms/step - loss: 1.1698 - accuracy: 0.8945 - val_loss: 1.0812 - val_accuracy: 0.8804\n",
            "Epoch 94/120\n",
            "6/6 [==============================] - 1s 137ms/step - loss: 1.1493 - accuracy: 0.8841 - val_loss: 1.0468 - val_accuracy: 0.9239\n",
            "Epoch 95/120\n",
            "6/6 [==============================] - 1s 89ms/step - loss: 1.0719 - accuracy: 0.9260 - val_loss: 1.0702 - val_accuracy: 0.9022\n",
            "Epoch 96/120\n",
            "6/6 [==============================] - 1s 152ms/step - loss: 1.0858 - accuracy: 0.8884 - val_loss: 1.0565 - val_accuracy: 0.9130\n",
            "Epoch 97/120\n",
            "6/6 [==============================] - 1s 176ms/step - loss: 1.0956 - accuracy: 0.9148 - val_loss: 1.0458 - val_accuracy: 0.9239\n",
            "Epoch 98/120\n",
            "6/6 [==============================] - 1s 196ms/step - loss: 1.0936 - accuracy: 0.9062 - val_loss: 1.0568 - val_accuracy: 0.9130\n",
            "Epoch 99/120\n",
            "6/6 [==============================] - 1s 122ms/step - loss: 1.0986 - accuracy: 0.9010 - val_loss: 1.0566 - val_accuracy: 0.9130\n",
            "Epoch 100/120\n",
            "6/6 [==============================] - 1s 98ms/step - loss: 1.1248 - accuracy: 0.8868 - val_loss: 1.0379 - val_accuracy: 0.9239\n",
            "Epoch 101/120\n",
            "6/6 [==============================] - 1s 105ms/step - loss: 1.0832 - accuracy: 0.9057 - val_loss: 1.0370 - val_accuracy: 0.9239\n",
            "Epoch 102/120\n",
            "6/6 [==============================] - 1s 108ms/step - loss: 1.0415 - accuracy: 0.9268 - val_loss: 1.0406 - val_accuracy: 0.9022\n",
            "Epoch 103/120\n",
            "6/6 [==============================] - 1s 114ms/step - loss: 1.0521 - accuracy: 0.9240 - val_loss: 1.0219 - val_accuracy: 0.9239\n",
            "Epoch 104/120\n",
            "6/6 [==============================] - 1s 108ms/step - loss: 1.0731 - accuracy: 0.9204 - val_loss: 1.0407 - val_accuracy: 0.8804\n",
            "Epoch 105/120\n",
            "6/6 [==============================] - 0s 79ms/step - loss: 1.0380 - accuracy: 0.9291 - val_loss: 1.0060 - val_accuracy: 0.9239\n",
            "Epoch 106/120\n",
            "6/6 [==============================] - 1s 126ms/step - loss: 1.0482 - accuracy: 0.9436 - val_loss: 1.0398 - val_accuracy: 0.8804\n",
            "Epoch 107/120\n",
            "6/6 [==============================] - 0s 88ms/step - loss: 1.0443 - accuracy: 0.9212 - val_loss: 1.0179 - val_accuracy: 0.9130\n",
            "Epoch 108/120\n",
            "6/6 [==============================] - 1s 91ms/step - loss: 1.0499 - accuracy: 0.9252 - val_loss: 1.0193 - val_accuracy: 0.8913\n",
            "Epoch 109/120\n",
            "6/6 [==============================] - 0s 85ms/step - loss: 1.0251 - accuracy: 0.9292 - val_loss: 1.0027 - val_accuracy: 0.9348\n",
            "Epoch 110/120\n",
            "6/6 [==============================] - 1s 89ms/step - loss: 1.0656 - accuracy: 0.9143 - val_loss: 1.0036 - val_accuracy: 0.9348\n",
            "Epoch 111/120\n",
            "6/6 [==============================] - 1s 96ms/step - loss: 1.0296 - accuracy: 0.9247 - val_loss: 1.0204 - val_accuracy: 0.9022\n",
            "Epoch 112/120\n",
            "6/6 [==============================] - 1s 84ms/step - loss: 1.0258 - accuracy: 0.9324 - val_loss: 0.9995 - val_accuracy: 0.9457\n",
            "Epoch 113/120\n",
            "6/6 [==============================] - 1s 107ms/step - loss: 0.9782 - accuracy: 0.9600 - val_loss: 1.0273 - val_accuracy: 0.8913\n",
            "Epoch 114/120\n",
            "6/6 [==============================] - 1s 179ms/step - loss: 1.0127 - accuracy: 0.9176 - val_loss: 0.9856 - val_accuracy: 0.9457\n",
            "Epoch 115/120\n",
            "6/6 [==============================] - 1s 181ms/step - loss: 0.9929 - accuracy: 0.9423 - val_loss: 1.0249 - val_accuracy: 0.9022\n",
            "Epoch 116/120\n",
            "6/6 [==============================] - 1s 119ms/step - loss: 1.0216 - accuracy: 0.9093 - val_loss: 0.9819 - val_accuracy: 0.9457\n",
            "Epoch 117/120\n",
            "6/6 [==============================] - 1s 97ms/step - loss: 0.9725 - accuracy: 0.9448 - val_loss: 1.0166 - val_accuracy: 0.8804\n",
            "Epoch 118/120\n",
            "6/6 [==============================] - 0s 78ms/step - loss: 0.9893 - accuracy: 0.9565 - val_loss: 0.9711 - val_accuracy: 0.9457\n",
            "Epoch 119/120\n",
            "6/6 [==============================] - 0s 85ms/step - loss: 0.9756 - accuracy: 0.9386 - val_loss: 1.0003 - val_accuracy: 0.9130\n",
            "Epoch 120/120\n",
            "6/6 [==============================] - 0s 70ms/step - loss: 0.9368 - accuracy: 0.9617 - val_loss: 0.9650 - val_accuracy: 0.9457\n"
          ]
        }
      ],
      "metadata": {
        "id": "m60mW2IT40rw"
      }
    },
    {
      "cell_type": "code",
      "execution_count": 12,
      "source": [
        "def res_score(model , x , y ):\n",
        "    y_prob = model.predict(x)\n",
        "    y_pred = np.zeros_like(y_prob)\n",
        "    y_pred[np.arange(len(y_prob)), y_prob.argmax(1)] = 1\n",
        "    cf = np.matrix(np.matmul(y.T , y_pred))\n",
        "    total = cf.sum()\n",
        "    row_sum = cf.sum(axis=0)\n",
        "    acc = np.trace(cf) / total \n",
        "    col_sum = cf.sum(axis=1) \n",
        "    #print(cf)\n",
        "    return cf , acc\n",
        "\n",
        "\n",
        "_ , score = res_score(model , x_train , one_hot_y_train)\n",
        "print(score)"
      ],
      "outputs": [
        {
          "output_type": "stream",
          "name": "stdout",
          "text": [
            "0.9478261\n"
          ]
        }
      ],
      "metadata": {
        "colab": {
          "base_uri": "https://localhost:8080/"
        },
        "id": "1qal02u0CN72",
        "outputId": "e160d650-2a65-401a-8ac5-4a1c48fe0018"
      }
    },
    {
      "cell_type": "code",
      "execution_count": 18,
      "source": [
        "from tqdm import tqdm\n",
        "def eval_model(x , y , k=10):\n",
        "    from sklearn.model_selection import KFold\n",
        "    kfold = KFold(8, True, 1)\n",
        "    #k-fold cross-validation\n",
        "    train_acc = []\n",
        "    test_acc = []\n",
        "    s =  int(len(x)/k)\n",
        "    x = np.array(x)\n",
        "    y = np.array(y)\n",
        "    for train , test in tqdm(kfold.split(x)):\n",
        "        xtr , ytr = x[train] , y[train]\n",
        "        xtst , ytst = x[test] , y[test]\n",
        "        model = gen_model()\n",
        "        fit_model(model , xtr , ytr)\n",
        "        _,train_acc_temp = res_score(model , xtr , ytr)\n",
        "        _,test_acc_temp = res_score(model , xtst , ytst)\n",
        "        train_acc.append(train_acc_temp)\n",
        "        test_acc.append(test_acc_temp)\n",
        "        print('-----------------------------------')\n",
        "        print('training_acc :' , train_acc_temp)\n",
        "        print('test_acc :' , test_acc_temp)\n",
        "    return train_acc, test_acc\n",
        "train_acc , test_acc = eval_model(x_train , one_hot_y_train)\n",
        "plt.scatter(train_acc , test_acc)\n"
      ],
      "outputs": [
        {
          "output_type": "stream",
          "name": "stderr",
          "text": [
            "/home/kumaran/miniconda3/envs/ciao-4.13/lib/python3.8/site-packages/sklearn/utils/validation.py:70: FutureWarning: Pass shuffle=True, random_state=1 as keyword args. From version 1.0 (renaming of 0.25) passing these as positional arguments will result in an error\n",
            "  warnings.warn(f\"Pass {args_msg} as keyword args. From version \"\n",
            "1it [00:42, 42.40s/it]"
          ]
        },
        {
          "output_type": "stream",
          "name": "stdout",
          "text": [
            "-----------------------------------\n",
            "training_acc : 0.78855723\n",
            "test_acc : 0.7586207\n"
          ]
        },
        {
          "output_type": "stream",
          "name": "stderr",
          "text": [
            "2it [01:28, 44.73s/it]"
          ]
        },
        {
          "output_type": "stream",
          "name": "stdout",
          "text": [
            "-----------------------------------\n",
            "training_acc : 0.8358209\n",
            "test_acc : 0.7241379\n"
          ]
        },
        {
          "output_type": "stream",
          "name": "stderr",
          "text": [
            "3it [02:11, 43.98s/it]"
          ]
        },
        {
          "output_type": "stream",
          "name": "stdout",
          "text": [
            "-----------------------------------\n",
            "training_acc : 0.9029851\n",
            "test_acc : 0.79310346\n"
          ]
        },
        {
          "output_type": "stream",
          "name": "stderr",
          "text": [
            "4it [03:02, 46.67s/it]"
          ]
        },
        {
          "output_type": "stream",
          "name": "stdout",
          "text": [
            "-----------------------------------\n",
            "training_acc : 0.8233831\n",
            "test_acc : 0.7758621\n"
          ]
        },
        {
          "output_type": "stream",
          "name": "stderr",
          "text": [
            "5it [03:55, 48.91s/it]"
          ]
        },
        {
          "output_type": "stream",
          "name": "stdout",
          "text": [
            "-----------------------------------\n",
            "training_acc : 0.81389576\n",
            "test_acc : 0.75438595\n"
          ]
        },
        {
          "output_type": "stream",
          "name": "stderr",
          "text": [
            "6it [04:45, 49.32s/it]"
          ]
        },
        {
          "output_type": "stream",
          "name": "stdout",
          "text": [
            "-----------------------------------\n",
            "training_acc : 0.8014888\n",
            "test_acc : 0.7368421\n"
          ]
        },
        {
          "output_type": "stream",
          "name": "stderr",
          "text": [
            "7it [05:30, 47.79s/it]"
          ]
        },
        {
          "output_type": "stream",
          "name": "stdout",
          "text": [
            "-----------------------------------\n",
            "training_acc : 0.83870965\n",
            "test_acc : 0.9122807\n"
          ]
        },
        {
          "output_type": "stream",
          "name": "stderr",
          "text": [
            "8it [06:10, 46.35s/it]"
          ]
        },
        {
          "output_type": "stream",
          "name": "stdout",
          "text": [
            "-----------------------------------\n",
            "training_acc : 0.8833747\n",
            "test_acc : 0.7017544\n"
          ]
        },
        {
          "output_type": "stream",
          "name": "stderr",
          "text": [
            "\n"
          ]
        },
        {
          "output_type": "execute_result",
          "data": {
            "text/plain": [
              "<matplotlib.collections.PathCollection at 0x7f8dd05785b0>"
            ]
          },
          "metadata": {},
          "execution_count": 18
        },
        {
          "output_type": "display_data",
          "data": {
            "text/plain": [
              "<Figure size 432x288 with 1 Axes>"
            ],
            "image/svg+xml": "<?xml version=\"1.0\" encoding=\"utf-8\" standalone=\"no\"?>\n<!DOCTYPE svg PUBLIC \"-//W3C//DTD SVG 1.1//EN\"\n  \"http://www.w3.org/Graphics/SVG/1.1/DTD/svg11.dtd\">\n<svg height=\"248.518125pt\" version=\"1.1\" viewBox=\"0 0 378.465625 248.518125\" width=\"378.465625pt\" xmlns=\"http://www.w3.org/2000/svg\" xmlns:xlink=\"http://www.w3.org/1999/xlink\">\n <metadata>\n  <rdf:RDF xmlns:cc=\"http://creativecommons.org/ns#\" xmlns:dc=\"http://purl.org/dc/elements/1.1/\" xmlns:rdf=\"http://www.w3.org/1999/02/22-rdf-syntax-ns#\">\n   <cc:Work>\n    <dc:type rdf:resource=\"http://purl.org/dc/dcmitype/StillImage\"/>\n    <dc:date>2021-10-07T14:01:08.512159</dc:date>\n    <dc:format>image/svg+xml</dc:format>\n    <dc:creator>\n     <cc:Agent>\n      <dc:title>Matplotlib v3.4.2, https://matplotlib.org/</dc:title>\n     </cc:Agent>\n    </dc:creator>\n   </cc:Work>\n  </rdf:RDF>\n </metadata>\n <defs>\n  <style type=\"text/css\">*{stroke-linecap:butt;stroke-linejoin:round;}</style>\n </defs>\n <g id=\"figure_1\">\n  <g id=\"patch_1\">\n   <path d=\"M 0 248.518125 \nL 378.465625 248.518125 \nL 378.465625 0 \nL 0 0 \nz\n\" style=\"fill:none;\"/>\n  </g>\n  <g id=\"axes_1\">\n   <g id=\"patch_2\">\n    <path d=\"M 36.465625 224.64 \nL 371.265625 224.64 \nL 371.265625 7.2 \nL 36.465625 7.2 \nz\n\" style=\"fill:#ffffff;\"/>\n   </g>\n   <g id=\"PathCollection_1\">\n    <defs>\n     <path d=\"M 0 3 \nC 0.795609 3 1.55874 2.683901 2.12132 2.12132 \nC 2.683901 1.55874 3 0.795609 3 0 \nC 3 -0.795609 2.683901 -1.55874 2.12132 -2.12132 \nC 1.55874 -2.683901 0.795609 -3 0 -3 \nC -0.795609 -3 -1.55874 -2.683901 -2.12132 -2.12132 \nC -2.683901 -1.55874 -3 -0.795609 -3 0 \nC -3 0.795609 -2.683901 1.55874 -2.12132 2.12132 \nC -1.55874 2.683901 -0.795609 3 0 3 \nz\n\" id=\"mfeb40467fc\" style=\"stroke:#1f77b4;\"/>\n    </defs>\n    <g clip-path=\"url(#p4685724334)\">\n     <use style=\"fill:#1f77b4;stroke:#1f77b4;\" x=\"51.683807\" xlink:href=\"#mfeb40467fc\" y=\"161.362014\"/>\n     <use style=\"fill:#1f77b4;stroke:#1f77b4;\" x=\"177.399218\" xlink:href=\"#mfeb40467fc\" y=\"193.739465\"/>\n     <use style=\"fill:#1f77b4;stroke:#1f77b4;\" x=\"356.047443\" xlink:href=\"#mfeb40467fc\" y=\"128.984562\"/>\n     <use style=\"fill:#1f77b4;stroke:#1f77b4;\" x=\"144.31619\" xlink:href=\"#mfeb40467fc\" y=\"145.17326\"/>\n     <use style=\"fill:#1f77b4;stroke:#1f77b4;\" x=\"119.081091\" xlink:href=\"#mfeb40467fc\" y=\"165.338196\"/>\n     <use style=\"fill:#1f77b4;stroke:#1f77b4;\" x=\"86.080187\" xlink:href=\"#mfeb40467fc\" y=\"181.810918\"/>\n     <use style=\"fill:#1f77b4;stroke:#1f77b4;\" x=\"185.082899\" xlink:href=\"#mfeb40467fc\" y=\"17.083636\"/>\n     <use style=\"fill:#1f77b4;stroke:#1f77b4;\" x=\"303.886248\" xlink:href=\"#mfeb40467fc\" y=\"214.756364\"/>\n    </g>\n   </g>\n   <g id=\"matplotlib.axis_1\">\n    <g id=\"xtick_1\">\n     <g id=\"line2d_1\">\n      <defs>\n       <path d=\"M 0 0 \nL 0 3.5 \n\" id=\"m91e3366066\" style=\"stroke:#000000;stroke-width:0.8;\"/>\n      </defs>\n      <g>\n       <use style=\"stroke:#000000;stroke-width:0.8;\" x=\"82.120123\" xlink:href=\"#m91e3366066\" y=\"224.64\"/>\n      </g>\n     </g>\n     <g id=\"text_1\">\n      <!-- 0.80 -->\n      <g transform=\"translate(70.98731 239.238437)scale(0.1 -0.1)\">\n       <defs>\n        <path d=\"M 2034 4250 \nQ 1547 4250 1301 3770 \nQ 1056 3291 1056 2328 \nQ 1056 1369 1301 889 \nQ 1547 409 2034 409 \nQ 2525 409 2770 889 \nQ 3016 1369 3016 2328 \nQ 3016 3291 2770 3770 \nQ 2525 4250 2034 4250 \nz\nM 2034 4750 \nQ 2819 4750 3233 4129 \nQ 3647 3509 3647 2328 \nQ 3647 1150 3233 529 \nQ 2819 -91 2034 -91 \nQ 1250 -91 836 529 \nQ 422 1150 422 2328 \nQ 422 3509 836 4129 \nQ 1250 4750 2034 4750 \nz\n\" id=\"DejaVuSans-30\" transform=\"scale(0.015625)\"/>\n        <path d=\"M 684 794 \nL 1344 794 \nL 1344 0 \nL 684 0 \nL 684 794 \nz\n\" id=\"DejaVuSans-2e\" transform=\"scale(0.015625)\"/>\n        <path d=\"M 2034 2216 \nQ 1584 2216 1326 1975 \nQ 1069 1734 1069 1313 \nQ 1069 891 1326 650 \nQ 1584 409 2034 409 \nQ 2484 409 2743 651 \nQ 3003 894 3003 1313 \nQ 3003 1734 2745 1975 \nQ 2488 2216 2034 2216 \nz\nM 1403 2484 \nQ 997 2584 770 2862 \nQ 544 3141 544 3541 \nQ 544 4100 942 4425 \nQ 1341 4750 2034 4750 \nQ 2731 4750 3128 4425 \nQ 3525 4100 3525 3541 \nQ 3525 3141 3298 2862 \nQ 3072 2584 2669 2484 \nQ 3125 2378 3379 2068 \nQ 3634 1759 3634 1313 \nQ 3634 634 3220 271 \nQ 2806 -91 2034 -91 \nQ 1263 -91 848 271 \nQ 434 634 434 1313 \nQ 434 1759 690 2068 \nQ 947 2378 1403 2484 \nz\nM 1172 3481 \nQ 1172 3119 1398 2916 \nQ 1625 2713 2034 2713 \nQ 2441 2713 2670 2916 \nQ 2900 3119 2900 3481 \nQ 2900 3844 2670 4047 \nQ 2441 4250 2034 4250 \nQ 1625 4250 1398 4047 \nQ 1172 3844 1172 3481 \nz\n\" id=\"DejaVuSans-38\" transform=\"scale(0.015625)\"/>\n       </defs>\n       <use xlink:href=\"#DejaVuSans-30\"/>\n       <use x=\"63.623047\" xlink:href=\"#DejaVuSans-2e\"/>\n       <use x=\"95.410156\" xlink:href=\"#DejaVuSans-38\"/>\n       <use x=\"159.033203\" xlink:href=\"#DejaVuSans-30\"/>\n      </g>\n     </g>\n    </g>\n    <g id=\"xtick_2\">\n     <g id=\"line2d_2\">\n      <g>\n       <use style=\"stroke:#000000;stroke-width:0.8;\" x=\"135.317591\" xlink:href=\"#m91e3366066\" y=\"224.64\"/>\n      </g>\n     </g>\n     <g id=\"text_2\">\n      <!-- 0.82 -->\n      <g transform=\"translate(124.184779 239.238437)scale(0.1 -0.1)\">\n       <defs>\n        <path d=\"M 1228 531 \nL 3431 531 \nL 3431 0 \nL 469 0 \nL 469 531 \nQ 828 903 1448 1529 \nQ 2069 2156 2228 2338 \nQ 2531 2678 2651 2914 \nQ 2772 3150 2772 3378 \nQ 2772 3750 2511 3984 \nQ 2250 4219 1831 4219 \nQ 1534 4219 1204 4116 \nQ 875 4013 500 3803 \nL 500 4441 \nQ 881 4594 1212 4672 \nQ 1544 4750 1819 4750 \nQ 2544 4750 2975 4387 \nQ 3406 4025 3406 3419 \nQ 3406 3131 3298 2873 \nQ 3191 2616 2906 2266 \nQ 2828 2175 2409 1742 \nQ 1991 1309 1228 531 \nz\n\" id=\"DejaVuSans-32\" transform=\"scale(0.015625)\"/>\n       </defs>\n       <use xlink:href=\"#DejaVuSans-30\"/>\n       <use x=\"63.623047\" xlink:href=\"#DejaVuSans-2e\"/>\n       <use x=\"95.410156\" xlink:href=\"#DejaVuSans-38\"/>\n       <use x=\"159.033203\" xlink:href=\"#DejaVuSans-32\"/>\n      </g>\n     </g>\n    </g>\n    <g id=\"xtick_3\">\n     <g id=\"line2d_3\">\n      <g>\n       <use style=\"stroke:#000000;stroke-width:0.8;\" x=\"188.51506\" xlink:href=\"#m91e3366066\" y=\"224.64\"/>\n      </g>\n     </g>\n     <g id=\"text_3\">\n      <!-- 0.84 -->\n      <g transform=\"translate(177.382248 239.238437)scale(0.1 -0.1)\">\n       <defs>\n        <path d=\"M 2419 4116 \nL 825 1625 \nL 2419 1625 \nL 2419 4116 \nz\nM 2253 4666 \nL 3047 4666 \nL 3047 1625 \nL 3713 1625 \nL 3713 1100 \nL 3047 1100 \nL 3047 0 \nL 2419 0 \nL 2419 1100 \nL 313 1100 \nL 313 1709 \nL 2253 4666 \nz\n\" id=\"DejaVuSans-34\" transform=\"scale(0.015625)\"/>\n       </defs>\n       <use xlink:href=\"#DejaVuSans-30\"/>\n       <use x=\"63.623047\" xlink:href=\"#DejaVuSans-2e\"/>\n       <use x=\"95.410156\" xlink:href=\"#DejaVuSans-38\"/>\n       <use x=\"159.033203\" xlink:href=\"#DejaVuSans-34\"/>\n      </g>\n     </g>\n    </g>\n    <g id=\"xtick_4\">\n     <g id=\"line2d_4\">\n      <g>\n       <use style=\"stroke:#000000;stroke-width:0.8;\" x=\"241.712529\" xlink:href=\"#m91e3366066\" y=\"224.64\"/>\n      </g>\n     </g>\n     <g id=\"text_4\">\n      <!-- 0.86 -->\n      <g transform=\"translate(230.579716 239.238437)scale(0.1 -0.1)\">\n       <defs>\n        <path d=\"M 2113 2584 \nQ 1688 2584 1439 2293 \nQ 1191 2003 1191 1497 \nQ 1191 994 1439 701 \nQ 1688 409 2113 409 \nQ 2538 409 2786 701 \nQ 3034 994 3034 1497 \nQ 3034 2003 2786 2293 \nQ 2538 2584 2113 2584 \nz\nM 3366 4563 \nL 3366 3988 \nQ 3128 4100 2886 4159 \nQ 2644 4219 2406 4219 \nQ 1781 4219 1451 3797 \nQ 1122 3375 1075 2522 \nQ 1259 2794 1537 2939 \nQ 1816 3084 2150 3084 \nQ 2853 3084 3261 2657 \nQ 3669 2231 3669 1497 \nQ 3669 778 3244 343 \nQ 2819 -91 2113 -91 \nQ 1303 -91 875 529 \nQ 447 1150 447 2328 \nQ 447 3434 972 4092 \nQ 1497 4750 2381 4750 \nQ 2619 4750 2861 4703 \nQ 3103 4656 3366 4563 \nz\n\" id=\"DejaVuSans-36\" transform=\"scale(0.015625)\"/>\n       </defs>\n       <use xlink:href=\"#DejaVuSans-30\"/>\n       <use x=\"63.623047\" xlink:href=\"#DejaVuSans-2e\"/>\n       <use x=\"95.410156\" xlink:href=\"#DejaVuSans-38\"/>\n       <use x=\"159.033203\" xlink:href=\"#DejaVuSans-36\"/>\n      </g>\n     </g>\n    </g>\n    <g id=\"xtick_5\">\n     <g id=\"line2d_5\">\n      <g>\n       <use style=\"stroke:#000000;stroke-width:0.8;\" x=\"294.909997\" xlink:href=\"#m91e3366066\" y=\"224.64\"/>\n      </g>\n     </g>\n     <g id=\"text_5\">\n      <!-- 0.88 -->\n      <g transform=\"translate(283.777185 239.238437)scale(0.1 -0.1)\">\n       <use xlink:href=\"#DejaVuSans-30\"/>\n       <use x=\"63.623047\" xlink:href=\"#DejaVuSans-2e\"/>\n       <use x=\"95.410156\" xlink:href=\"#DejaVuSans-38\"/>\n       <use x=\"159.033203\" xlink:href=\"#DejaVuSans-38\"/>\n      </g>\n     </g>\n    </g>\n    <g id=\"xtick_6\">\n     <g id=\"line2d_6\">\n      <g>\n       <use style=\"stroke:#000000;stroke-width:0.8;\" x=\"348.107466\" xlink:href=\"#m91e3366066\" y=\"224.64\"/>\n      </g>\n     </g>\n     <g id=\"text_6\">\n      <!-- 0.90 -->\n      <g transform=\"translate(336.974653 239.238437)scale(0.1 -0.1)\">\n       <defs>\n        <path d=\"M 703 97 \nL 703 672 \nQ 941 559 1184 500 \nQ 1428 441 1663 441 \nQ 2288 441 2617 861 \nQ 2947 1281 2994 2138 \nQ 2813 1869 2534 1725 \nQ 2256 1581 1919 1581 \nQ 1219 1581 811 2004 \nQ 403 2428 403 3163 \nQ 403 3881 828 4315 \nQ 1253 4750 1959 4750 \nQ 2769 4750 3195 4129 \nQ 3622 3509 3622 2328 \nQ 3622 1225 3098 567 \nQ 2575 -91 1691 -91 \nQ 1453 -91 1209 -44 \nQ 966 3 703 97 \nz\nM 1959 2075 \nQ 2384 2075 2632 2365 \nQ 2881 2656 2881 3163 \nQ 2881 3666 2632 3958 \nQ 2384 4250 1959 4250 \nQ 1534 4250 1286 3958 \nQ 1038 3666 1038 3163 \nQ 1038 2656 1286 2365 \nQ 1534 2075 1959 2075 \nz\n\" id=\"DejaVuSans-39\" transform=\"scale(0.015625)\"/>\n       </defs>\n       <use xlink:href=\"#DejaVuSans-30\"/>\n       <use x=\"63.623047\" xlink:href=\"#DejaVuSans-2e\"/>\n       <use x=\"95.410156\" xlink:href=\"#DejaVuSans-39\"/>\n       <use x=\"159.033203\" xlink:href=\"#DejaVuSans-30\"/>\n      </g>\n     </g>\n    </g>\n   </g>\n   <g id=\"matplotlib.axis_2\">\n    <g id=\"ytick_1\">\n     <g id=\"line2d_7\">\n      <defs>\n       <path d=\"M 0 0 \nL -3.5 0 \n\" id=\"me5e01574b2\" style=\"stroke:#000000;stroke-width:0.8;\"/>\n      </defs>\n      <g>\n       <use style=\"stroke:#000000;stroke-width:0.8;\" x=\"36.465625\" xlink:href=\"#me5e01574b2\" y=\"216.403641\"/>\n      </g>\n     </g>\n     <g id=\"text_7\">\n      <!-- 0.70 -->\n      <g transform=\"translate(7.2 220.20286)scale(0.1 -0.1)\">\n       <defs>\n        <path d=\"M 525 4666 \nL 3525 4666 \nL 3525 4397 \nL 1831 0 \nL 1172 0 \nL 2766 4134 \nL 525 4134 \nL 525 4666 \nz\n\" id=\"DejaVuSans-37\" transform=\"scale(0.015625)\"/>\n       </defs>\n       <use xlink:href=\"#DejaVuSans-30\"/>\n       <use x=\"63.623047\" xlink:href=\"#DejaVuSans-2e\"/>\n       <use x=\"95.410156\" xlink:href=\"#DejaVuSans-37\"/>\n       <use x=\"159.033203\" xlink:href=\"#DejaVuSans-30\"/>\n      </g>\n     </g>\n    </g>\n    <g id=\"ytick_2\">\n     <g id=\"line2d_8\">\n      <g>\n       <use style=\"stroke:#000000;stroke-width:0.8;\" x=\"36.465625\" xlink:href=\"#me5e01574b2\" y=\"169.456362\"/>\n      </g>\n     </g>\n     <g id=\"text_8\">\n      <!-- 0.75 -->\n      <g transform=\"translate(7.2 173.255581)scale(0.1 -0.1)\">\n       <defs>\n        <path d=\"M 691 4666 \nL 3169 4666 \nL 3169 4134 \nL 1269 4134 \nL 1269 2991 \nQ 1406 3038 1543 3061 \nQ 1681 3084 1819 3084 \nQ 2600 3084 3056 2656 \nQ 3513 2228 3513 1497 \nQ 3513 744 3044 326 \nQ 2575 -91 1722 -91 \nQ 1428 -91 1123 -41 \nQ 819 9 494 109 \nL 494 744 \nQ 775 591 1075 516 \nQ 1375 441 1709 441 \nQ 2250 441 2565 725 \nQ 2881 1009 2881 1497 \nQ 2881 1984 2565 2268 \nQ 2250 2553 1709 2553 \nQ 1456 2553 1204 2497 \nQ 953 2441 691 2322 \nL 691 4666 \nz\n\" id=\"DejaVuSans-35\" transform=\"scale(0.015625)\"/>\n       </defs>\n       <use xlink:href=\"#DejaVuSans-30\"/>\n       <use x=\"63.623047\" xlink:href=\"#DejaVuSans-2e\"/>\n       <use x=\"95.410156\" xlink:href=\"#DejaVuSans-37\"/>\n       <use x=\"159.033203\" xlink:href=\"#DejaVuSans-35\"/>\n      </g>\n     </g>\n    </g>\n    <g id=\"ytick_3\">\n     <g id=\"line2d_9\">\n      <g>\n       <use style=\"stroke:#000000;stroke-width:0.8;\" x=\"36.465625\" xlink:href=\"#me5e01574b2\" y=\"122.509083\"/>\n      </g>\n     </g>\n     <g id=\"text_9\">\n      <!-- 0.80 -->\n      <g transform=\"translate(7.2 126.308302)scale(0.1 -0.1)\">\n       <use xlink:href=\"#DejaVuSans-30\"/>\n       <use x=\"63.623047\" xlink:href=\"#DejaVuSans-2e\"/>\n       <use x=\"95.410156\" xlink:href=\"#DejaVuSans-38\"/>\n       <use x=\"159.033203\" xlink:href=\"#DejaVuSans-30\"/>\n      </g>\n     </g>\n    </g>\n    <g id=\"ytick_4\">\n     <g id=\"line2d_10\">\n      <g>\n       <use style=\"stroke:#000000;stroke-width:0.8;\" x=\"36.465625\" xlink:href=\"#me5e01574b2\" y=\"75.561804\"/>\n      </g>\n     </g>\n     <g id=\"text_10\">\n      <!-- 0.85 -->\n      <g transform=\"translate(7.2 79.361023)scale(0.1 -0.1)\">\n       <use xlink:href=\"#DejaVuSans-30\"/>\n       <use x=\"63.623047\" xlink:href=\"#DejaVuSans-2e\"/>\n       <use x=\"95.410156\" xlink:href=\"#DejaVuSans-38\"/>\n       <use x=\"159.033203\" xlink:href=\"#DejaVuSans-35\"/>\n      </g>\n     </g>\n    </g>\n    <g id=\"ytick_5\">\n     <g id=\"line2d_11\">\n      <g>\n       <use style=\"stroke:#000000;stroke-width:0.8;\" x=\"36.465625\" xlink:href=\"#me5e01574b2\" y=\"28.614525\"/>\n      </g>\n     </g>\n     <g id=\"text_11\">\n      <!-- 0.90 -->\n      <g transform=\"translate(7.2 32.413744)scale(0.1 -0.1)\">\n       <use xlink:href=\"#DejaVuSans-30\"/>\n       <use x=\"63.623047\" xlink:href=\"#DejaVuSans-2e\"/>\n       <use x=\"95.410156\" xlink:href=\"#DejaVuSans-39\"/>\n       <use x=\"159.033203\" xlink:href=\"#DejaVuSans-30\"/>\n      </g>\n     </g>\n    </g>\n   </g>\n   <g id=\"patch_3\">\n    <path d=\"M 36.465625 224.64 \nL 36.465625 7.2 \n\" style=\"fill:none;stroke:#000000;stroke-linecap:square;stroke-linejoin:miter;stroke-width:0.8;\"/>\n   </g>\n   <g id=\"patch_4\">\n    <path d=\"M 371.265625 224.64 \nL 371.265625 7.2 \n\" style=\"fill:none;stroke:#000000;stroke-linecap:square;stroke-linejoin:miter;stroke-width:0.8;\"/>\n   </g>\n   <g id=\"patch_5\">\n    <path d=\"M 36.465625 224.64 \nL 371.265625 224.64 \n\" style=\"fill:none;stroke:#000000;stroke-linecap:square;stroke-linejoin:miter;stroke-width:0.8;\"/>\n   </g>\n   <g id=\"patch_6\">\n    <path d=\"M 36.465625 7.2 \nL 371.265625 7.2 \n\" style=\"fill:none;stroke:#000000;stroke-linecap:square;stroke-linejoin:miter;stroke-width:0.8;\"/>\n   </g>\n  </g>\n </g>\n <defs>\n  <clipPath id=\"p4685724334\">\n   <rect height=\"217.44\" width=\"334.8\" x=\"36.465625\" y=\"7.2\"/>\n  </clipPath>\n </defs>\n</svg>\n",
            "image/png": "[encoded data removed]"
          },
          "metadata": {
            "needs_background": "light"
          }
        }
      ],
      "metadata": {
        "colab": {
          "base_uri": "https://localhost:8080/",
          "height": 759
        },
        "id": "PIBqSZLF3_-f",
        "outputId": "4a945333-f4ae-4448-a633-c9d490e6f503"
      }
    },
    {
      "cell_type": "code",
      "execution_count": 152,
      "source": [
        "plt.scatter(train_acc , test_acc )\n",
        "plt.xlim(0.7,1.0)\n",
        "plt.ylim(0.7,1.0)\n",
        "plt.style.use('seaborn-dark-palette')\n",
        "plt.xlabel('training accuracy')\n",
        "plt.ylabel('test_accuracy')\n",
        "plt.title('8-fold cross validation')\n",
        "plt.savefig('/content/drive/MyDrive/thesis_data/run_05.jpg')\n",
        "plt.show()\n",
        "plt.close()"
      ],
      "outputs": [
        {
          "output_type": "display_data",
          "data": {
            "text/plain": [
              "<Figure size 432x288 with 1 Axes>"
            ],
            "image/png": "[encoded data removed]"
          },
          "metadata": {
            "needs_background": "light"
          }
        }
      ],
      "metadata": {
        "colab": {
          "base_uri": "https://localhost:8080/",
          "height": 295
        },
        "id": "z6dXCp-vIRB2",
        "outputId": "d2de20bd-22ce-4a89-e4c5-79be3313017d"
      }
    },
    {
      "cell_type": "code",
      "execution_count": 16,
      "source": [
        "hist = history.history\n",
        "plt.figure(figsize=(12,4))\n",
        "plt.subplot(1,2,1)\n",
        "plt.plot(hist['accuracy'] , label = 'accuracy' , color='k')\n",
        "plt.plot(hist['val_accuracy'] , label = 'val_accuracy' , color='crimson')\n",
        "plt.xlabel('No of epochs')\n",
        "plt.legend()\n",
        "plt.subplot(1,2,2)\n",
        "plt.plot(hist['loss'] , label = 'loss' , color='k')\n",
        "plt.plot(hist['val_loss'] , label='val_loss' , color='crimson')\n",
        "plt.xlabel(\"No of Epochs\")\n",
        "plt.legend()\n",
        "#plt.savefig('plots/NS_BH.png')\n",
        "plt.show()"
      ],
      "outputs": [
        {
          "output_type": "display_data",
          "data": {
            "text/plain": [
              "<Figure size 864x288 with 2 Axes>"
            ],
            "image/svg+xml": "<?xml version=\"1.0\" encoding=\"utf-8\" standalone=\"no\"?>\n<!DOCTYPE svg PUBLIC \"-//W3C//DTD SVG 1.1//EN\"\n  \"http://www.w3.org/Graphics/SVG/1.1/DTD/svg11.dtd\">\n<svg height=\"262.19625pt\" version=\"1.1\" viewBox=\"0 0 706.903125 262.19625\" width=\"706.903125pt\" xmlns=\"http://www.w3.org/2000/svg\" xmlns:xlink=\"http://www.w3.org/1999/xlink\">\n <metadata>\n  <rdf:RDF xmlns:cc=\"http://creativecommons.org/ns#\" xmlns:dc=\"http://purl.org/dc/elements/1.1/\" xmlns:rdf=\"http://www.w3.org/1999/02/22-rdf-syntax-ns#\">\n   <cc:Work>\n    <dc:type rdf:resource=\"http://purl.org/dc/dcmitype/StillImage\"/>\n    <dc:date>2021-10-07T15:05:07.067348</dc:date>\n    <dc:format>image/svg+xml</dc:format>\n    <dc:creator>\n     <cc:Agent>\n      <dc:title>Matplotlib v3.4.2, https://matplotlib.org/</dc:title>\n     </cc:Agent>\n    </dc:creator>\n   </cc:Work>\n  </rdf:RDF>\n </metadata>\n <defs>\n  <style type=\"text/css\">*{stroke-linecap:butt;stroke-linejoin:round;}</style>\n </defs>\n <g id=\"figure_1\">\n  <g id=\"patch_1\">\n   <path d=\"M 0 262.19625 \nL 706.903125 262.19625 \nL 706.903125 0 \nL 0 0 \nz\n\" style=\"fill:none;\"/>\n  </g>\n  <g id=\"axes_1\">\n   <g id=\"patch_2\">\n    <path d=\"M 30.103125 224.64 \nL 334.466761 224.64 \nL 334.466761 7.2 \nL 30.103125 7.2 \nz\n\" style=\"fill:#ffffff;\"/>\n   </g>\n   <g id=\"matplotlib.axis_1\">\n    <g id=\"xtick_1\">\n     <g id=\"line2d_1\">\n      <defs>\n       <path d=\"M 0 0 \nL 0 3.5 \n\" id=\"ma505a81d64\" style=\"stroke:#000000;stroke-width:0.8;\"/>\n      </defs>\n      <g>\n       <use style=\"stroke:#000000;stroke-width:0.8;\" x=\"43.937836\" xlink:href=\"#ma505a81d64\" y=\"224.64\"/>\n      </g>\n     </g>\n     <g id=\"text_1\">\n      <!-- 0 -->\n      <g transform=\"translate(40.756586 239.238438)scale(0.1 -0.1)\">\n       <defs>\n        <path d=\"M 2034 4250 \nQ 1547 4250 1301 3770 \nQ 1056 3291 1056 2328 \nQ 1056 1369 1301 889 \nQ 1547 409 2034 409 \nQ 2525 409 2770 889 \nQ 3016 1369 3016 2328 \nQ 3016 3291 2770 3770 \nQ 2525 4250 2034 4250 \nz\nM 2034 4750 \nQ 2819 4750 3233 4129 \nQ 3647 3509 3647 2328 \nQ 3647 1150 3233 529 \nQ 2819 -91 2034 -91 \nQ 1250 -91 836 529 \nQ 422 1150 422 2328 \nQ 422 3509 836 4129 \nQ 1250 4750 2034 4750 \nz\n\" id=\"DejaVuSans-30\" transform=\"scale(0.015625)\"/>\n       </defs>\n       <use xlink:href=\"#DejaVuSans-30\"/>\n      </g>\n     </g>\n    </g>\n    <g id=\"xtick_2\">\n     <g id=\"line2d_2\">\n      <g>\n       <use style=\"stroke:#000000;stroke-width:0.8;\" x=\"90.441065\" xlink:href=\"#ma505a81d64\" y=\"224.64\"/>\n      </g>\n     </g>\n     <g id=\"text_2\">\n      <!-- 20 -->\n      <g transform=\"translate(84.078565 239.238438)scale(0.1 -0.1)\">\n       <defs>\n        <path d=\"M 1228 531 \nL 3431 531 \nL 3431 0 \nL 469 0 \nL 469 531 \nQ 828 903 1448 1529 \nQ 2069 2156 2228 2338 \nQ 2531 2678 2651 2914 \nQ 2772 3150 2772 3378 \nQ 2772 3750 2511 3984 \nQ 2250 4219 1831 4219 \nQ 1534 4219 1204 4116 \nQ 875 4013 500 3803 \nL 500 4441 \nQ 881 4594 1212 4672 \nQ 1544 4750 1819 4750 \nQ 2544 4750 2975 4387 \nQ 3406 4025 3406 3419 \nQ 3406 3131 3298 2873 \nQ 3191 2616 2906 2266 \nQ 2828 2175 2409 1742 \nQ 1991 1309 1228 531 \nz\n\" id=\"DejaVuSans-32\" transform=\"scale(0.015625)\"/>\n       </defs>\n       <use xlink:href=\"#DejaVuSans-32\"/>\n       <use x=\"63.623047\" xlink:href=\"#DejaVuSans-30\"/>\n      </g>\n     </g>\n    </g>\n    <g id=\"xtick_3\">\n     <g id=\"line2d_3\">\n      <g>\n       <use style=\"stroke:#000000;stroke-width:0.8;\" x=\"136.944295\" xlink:href=\"#ma505a81d64\" y=\"224.64\"/>\n      </g>\n     </g>\n     <g id=\"text_3\">\n      <!-- 40 -->\n      <g transform=\"translate(130.581795 239.238438)scale(0.1 -0.1)\">\n       <defs>\n        <path d=\"M 2419 4116 \nL 825 1625 \nL 2419 1625 \nL 2419 4116 \nz\nM 2253 4666 \nL 3047 4666 \nL 3047 1625 \nL 3713 1625 \nL 3713 1100 \nL 3047 1100 \nL 3047 0 \nL 2419 0 \nL 2419 1100 \nL 313 1100 \nL 313 1709 \nL 2253 4666 \nz\n\" id=\"DejaVuSans-34\" transform=\"scale(0.015625)\"/>\n       </defs>\n       <use xlink:href=\"#DejaVuSans-34\"/>\n       <use x=\"63.623047\" xlink:href=\"#DejaVuSans-30\"/>\n      </g>\n     </g>\n    </g>\n    <g id=\"xtick_4\">\n     <g id=\"line2d_4\">\n      <g>\n       <use style=\"stroke:#000000;stroke-width:0.8;\" x=\"183.447524\" xlink:href=\"#ma505a81d64\" y=\"224.64\"/>\n      </g>\n     </g>\n     <g id=\"text_4\">\n      <!-- 60 -->\n      <g transform=\"translate(177.085024 239.238438)scale(0.1 -0.1)\">\n       <defs>\n        <path d=\"M 2113 2584 \nQ 1688 2584 1439 2293 \nQ 1191 2003 1191 1497 \nQ 1191 994 1439 701 \nQ 1688 409 2113 409 \nQ 2538 409 2786 701 \nQ 3034 994 3034 1497 \nQ 3034 2003 2786 2293 \nQ 2538 2584 2113 2584 \nz\nM 3366 4563 \nL 3366 3988 \nQ 3128 4100 2886 4159 \nQ 2644 4219 2406 4219 \nQ 1781 4219 1451 3797 \nQ 1122 3375 1075 2522 \nQ 1259 2794 1537 2939 \nQ 1816 3084 2150 3084 \nQ 2853 3084 3261 2657 \nQ 3669 2231 3669 1497 \nQ 3669 778 3244 343 \nQ 2819 -91 2113 -91 \nQ 1303 -91 875 529 \nQ 447 1150 447 2328 \nQ 447 3434 972 4092 \nQ 1497 4750 2381 4750 \nQ 2619 4750 2861 4703 \nQ 3103 4656 3366 4563 \nz\n\" id=\"DejaVuSans-36\" transform=\"scale(0.015625)\"/>\n       </defs>\n       <use xlink:href=\"#DejaVuSans-36\"/>\n       <use x=\"63.623047\" xlink:href=\"#DejaVuSans-30\"/>\n      </g>\n     </g>\n    </g>\n    <g id=\"xtick_5\">\n     <g id=\"line2d_5\">\n      <g>\n       <use style=\"stroke:#000000;stroke-width:0.8;\" x=\"229.950753\" xlink:href=\"#ma505a81d64\" y=\"224.64\"/>\n      </g>\n     </g>\n     <g id=\"text_5\">\n      <!-- 80 -->\n      <g transform=\"translate(223.588253 239.238438)scale(0.1 -0.1)\">\n       <defs>\n        <path d=\"M 2034 2216 \nQ 1584 2216 1326 1975 \nQ 1069 1734 1069 1313 \nQ 1069 891 1326 650 \nQ 1584 409 2034 409 \nQ 2484 409 2743 651 \nQ 3003 894 3003 1313 \nQ 3003 1734 2745 1975 \nQ 2488 2216 2034 2216 \nz\nM 1403 2484 \nQ 997 2584 770 2862 \nQ 544 3141 544 3541 \nQ 544 4100 942 4425 \nQ 1341 4750 2034 4750 \nQ 2731 4750 3128 4425 \nQ 3525 4100 3525 3541 \nQ 3525 3141 3298 2862 \nQ 3072 2584 2669 2484 \nQ 3125 2378 3379 2068 \nQ 3634 1759 3634 1313 \nQ 3634 634 3220 271 \nQ 2806 -91 2034 -91 \nQ 1263 -91 848 271 \nQ 434 634 434 1313 \nQ 434 1759 690 2068 \nQ 947 2378 1403 2484 \nz\nM 1172 3481 \nQ 1172 3119 1398 2916 \nQ 1625 2713 2034 2713 \nQ 2441 2713 2670 2916 \nQ 2900 3119 2900 3481 \nQ 2900 3844 2670 4047 \nQ 2441 4250 2034 4250 \nQ 1625 4250 1398 4047 \nQ 1172 3844 1172 3481 \nz\n\" id=\"DejaVuSans-38\" transform=\"scale(0.015625)\"/>\n       </defs>\n       <use xlink:href=\"#DejaVuSans-38\"/>\n       <use x=\"63.623047\" xlink:href=\"#DejaVuSans-30\"/>\n      </g>\n     </g>\n    </g>\n    <g id=\"xtick_6\">\n     <g id=\"line2d_6\">\n      <g>\n       <use style=\"stroke:#000000;stroke-width:0.8;\" x=\"276.453983\" xlink:href=\"#ma505a81d64\" y=\"224.64\"/>\n      </g>\n     </g>\n     <g id=\"text_6\">\n      <!-- 100 -->\n      <g transform=\"translate(266.910233 239.238438)scale(0.1 -0.1)\">\n       <defs>\n        <path d=\"M 794 531 \nL 1825 531 \nL 1825 4091 \nL 703 3866 \nL 703 4441 \nL 1819 4666 \nL 2450 4666 \nL 2450 531 \nL 3481 531 \nL 3481 0 \nL 794 0 \nL 794 531 \nz\n\" id=\"DejaVuSans-31\" transform=\"scale(0.015625)\"/>\n       </defs>\n       <use xlink:href=\"#DejaVuSans-31\"/>\n       <use x=\"63.623047\" xlink:href=\"#DejaVuSans-30\"/>\n       <use x=\"127.246094\" xlink:href=\"#DejaVuSans-30\"/>\n      </g>\n     </g>\n    </g>\n    <g id=\"xtick_7\">\n     <g id=\"line2d_7\">\n      <g>\n       <use style=\"stroke:#000000;stroke-width:0.8;\" x=\"322.957212\" xlink:href=\"#ma505a81d64\" y=\"224.64\"/>\n      </g>\n     </g>\n     <g id=\"text_7\">\n      <!-- 120 -->\n      <g transform=\"translate(313.413462 239.238438)scale(0.1 -0.1)\">\n       <use xlink:href=\"#DejaVuSans-31\"/>\n       <use x=\"63.623047\" xlink:href=\"#DejaVuSans-32\"/>\n       <use x=\"127.246094\" xlink:href=\"#DejaVuSans-30\"/>\n      </g>\n     </g>\n    </g>\n    <g id=\"text_8\">\n     <!-- No of epochs -->\n     <g transform=\"translate(149.654474 252.916563)scale(0.1 -0.1)\">\n      <defs>\n       <path d=\"M 628 4666 \nL 1478 4666 \nL 3547 763 \nL 3547 4666 \nL 4159 4666 \nL 4159 0 \nL 3309 0 \nL 1241 3903 \nL 1241 0 \nL 628 0 \nL 628 4666 \nz\n\" id=\"DejaVuSans-4e\" transform=\"scale(0.015625)\"/>\n       <path d=\"M 1959 3097 \nQ 1497 3097 1228 2736 \nQ 959 2375 959 1747 \nQ 959 1119 1226 758 \nQ 1494 397 1959 397 \nQ 2419 397 2687 759 \nQ 2956 1122 2956 1747 \nQ 2956 2369 2687 2733 \nQ 2419 3097 1959 3097 \nz\nM 1959 3584 \nQ 2709 3584 3137 3096 \nQ 3566 2609 3566 1747 \nQ 3566 888 3137 398 \nQ 2709 -91 1959 -91 \nQ 1206 -91 779 398 \nQ 353 888 353 1747 \nQ 353 2609 779 3096 \nQ 1206 3584 1959 3584 \nz\n\" id=\"DejaVuSans-6f\" transform=\"scale(0.015625)\"/>\n       <path id=\"DejaVuSans-20\" transform=\"scale(0.015625)\"/>\n       <path d=\"M 2375 4863 \nL 2375 4384 \nL 1825 4384 \nQ 1516 4384 1395 4259 \nQ 1275 4134 1275 3809 \nL 1275 3500 \nL 2222 3500 \nL 2222 3053 \nL 1275 3053 \nL 1275 0 \nL 697 0 \nL 697 3053 \nL 147 3053 \nL 147 3500 \nL 697 3500 \nL 697 3744 \nQ 697 4328 969 4595 \nQ 1241 4863 1831 4863 \nL 2375 4863 \nz\n\" id=\"DejaVuSans-66\" transform=\"scale(0.015625)\"/>\n       <path d=\"M 3597 1894 \nL 3597 1613 \nL 953 1613 \nQ 991 1019 1311 708 \nQ 1631 397 2203 397 \nQ 2534 397 2845 478 \nQ 3156 559 3463 722 \nL 3463 178 \nQ 3153 47 2828 -22 \nQ 2503 -91 2169 -91 \nQ 1331 -91 842 396 \nQ 353 884 353 1716 \nQ 353 2575 817 3079 \nQ 1281 3584 2069 3584 \nQ 2775 3584 3186 3129 \nQ 3597 2675 3597 1894 \nz\nM 3022 2063 \nQ 3016 2534 2758 2815 \nQ 2500 3097 2075 3097 \nQ 1594 3097 1305 2825 \nQ 1016 2553 972 2059 \nL 3022 2063 \nz\n\" id=\"DejaVuSans-65\" transform=\"scale(0.015625)\"/>\n       <path d=\"M 1159 525 \nL 1159 -1331 \nL 581 -1331 \nL 581 3500 \nL 1159 3500 \nL 1159 2969 \nQ 1341 3281 1617 3432 \nQ 1894 3584 2278 3584 \nQ 2916 3584 3314 3078 \nQ 3713 2572 3713 1747 \nQ 3713 922 3314 415 \nQ 2916 -91 2278 -91 \nQ 1894 -91 1617 61 \nQ 1341 213 1159 525 \nz\nM 3116 1747 \nQ 3116 2381 2855 2742 \nQ 2594 3103 2138 3103 \nQ 1681 3103 1420 2742 \nQ 1159 2381 1159 1747 \nQ 1159 1113 1420 752 \nQ 1681 391 2138 391 \nQ 2594 391 2855 752 \nQ 3116 1113 3116 1747 \nz\n\" id=\"DejaVuSans-70\" transform=\"scale(0.015625)\"/>\n       <path d=\"M 3122 3366 \nL 3122 2828 \nQ 2878 2963 2633 3030 \nQ 2388 3097 2138 3097 \nQ 1578 3097 1268 2742 \nQ 959 2388 959 1747 \nQ 959 1106 1268 751 \nQ 1578 397 2138 397 \nQ 2388 397 2633 464 \nQ 2878 531 3122 666 \nL 3122 134 \nQ 2881 22 2623 -34 \nQ 2366 -91 2075 -91 \nQ 1284 -91 818 406 \nQ 353 903 353 1747 \nQ 353 2603 823 3093 \nQ 1294 3584 2113 3584 \nQ 2378 3584 2631 3529 \nQ 2884 3475 3122 3366 \nz\n\" id=\"DejaVuSans-63\" transform=\"scale(0.015625)\"/>\n       <path d=\"M 3513 2113 \nL 3513 0 \nL 2938 0 \nL 2938 2094 \nQ 2938 2591 2744 2837 \nQ 2550 3084 2163 3084 \nQ 1697 3084 1428 2787 \nQ 1159 2491 1159 1978 \nL 1159 0 \nL 581 0 \nL 581 4863 \nL 1159 4863 \nL 1159 2956 \nQ 1366 3272 1645 3428 \nQ 1925 3584 2291 3584 \nQ 2894 3584 3203 3211 \nQ 3513 2838 3513 2113 \nz\n\" id=\"DejaVuSans-68\" transform=\"scale(0.015625)\"/>\n       <path d=\"M 2834 3397 \nL 2834 2853 \nQ 2591 2978 2328 3040 \nQ 2066 3103 1784 3103 \nQ 1356 3103 1142 2972 \nQ 928 2841 928 2578 \nQ 928 2378 1081 2264 \nQ 1234 2150 1697 2047 \nL 1894 2003 \nQ 2506 1872 2764 1633 \nQ 3022 1394 3022 966 \nQ 3022 478 2636 193 \nQ 2250 -91 1575 -91 \nQ 1294 -91 989 -36 \nQ 684 19 347 128 \nL 347 722 \nQ 666 556 975 473 \nQ 1284 391 1588 391 \nQ 1994 391 2212 530 \nQ 2431 669 2431 922 \nQ 2431 1156 2273 1281 \nQ 2116 1406 1581 1522 \nL 1381 1569 \nQ 847 1681 609 1914 \nQ 372 2147 372 2553 \nQ 372 3047 722 3315 \nQ 1072 3584 1716 3584 \nQ 2034 3584 2315 3537 \nQ 2597 3491 2834 3397 \nz\n\" id=\"DejaVuSans-73\" transform=\"scale(0.015625)\"/>\n      </defs>\n      <use xlink:href=\"#DejaVuSans-4e\"/>\n      <use x=\"74.804688\" xlink:href=\"#DejaVuSans-6f\"/>\n      <use x=\"135.986328\" xlink:href=\"#DejaVuSans-20\"/>\n      <use x=\"167.773438\" xlink:href=\"#DejaVuSans-6f\"/>\n      <use x=\"228.955078\" xlink:href=\"#DejaVuSans-66\"/>\n      <use x=\"264.160156\" xlink:href=\"#DejaVuSans-20\"/>\n      <use x=\"295.947266\" xlink:href=\"#DejaVuSans-65\"/>\n      <use x=\"357.470703\" xlink:href=\"#DejaVuSans-70\"/>\n      <use x=\"420.947266\" xlink:href=\"#DejaVuSans-6f\"/>\n      <use x=\"482.128906\" xlink:href=\"#DejaVuSans-63\"/>\n      <use x=\"537.109375\" xlink:href=\"#DejaVuSans-68\"/>\n      <use x=\"600.488281\" xlink:href=\"#DejaVuSans-73\"/>\n     </g>\n    </g>\n   </g>\n   <g id=\"matplotlib.axis_2\">\n    <g id=\"ytick_1\">\n     <g id=\"line2d_8\">\n      <defs>\n       <path d=\"M 0 0 \nL -3.5 0 \n\" id=\"m39eba7df97\" style=\"stroke:#000000;stroke-width:0.8;\"/>\n      </defs>\n      <g>\n       <use style=\"stroke:#000000;stroke-width:0.8;\" x=\"30.103125\" xlink:href=\"#m39eba7df97\" y=\"222.900823\"/>\n      </g>\n     </g>\n     <g id=\"text_9\">\n      <!-- 0.3 -->\n      <g transform=\"translate(7.2 226.700042)scale(0.1 -0.1)\">\n       <defs>\n        <path d=\"M 684 794 \nL 1344 794 \nL 1344 0 \nL 684 0 \nL 684 794 \nz\n\" id=\"DejaVuSans-2e\" transform=\"scale(0.015625)\"/>\n        <path d=\"M 2597 2516 \nQ 3050 2419 3304 2112 \nQ 3559 1806 3559 1356 \nQ 3559 666 3084 287 \nQ 2609 -91 1734 -91 \nQ 1441 -91 1130 -33 \nQ 819 25 488 141 \nL 488 750 \nQ 750 597 1062 519 \nQ 1375 441 1716 441 \nQ 2309 441 2620 675 \nQ 2931 909 2931 1356 \nQ 2931 1769 2642 2001 \nQ 2353 2234 1838 2234 \nL 1294 2234 \nL 1294 2753 \nL 1863 2753 \nQ 2328 2753 2575 2939 \nQ 2822 3125 2822 3475 \nQ 2822 3834 2567 4026 \nQ 2313 4219 1838 4219 \nQ 1578 4219 1281 4162 \nQ 984 4106 628 3988 \nL 628 4550 \nQ 988 4650 1302 4700 \nQ 1616 4750 1894 4750 \nQ 2613 4750 3031 4423 \nQ 3450 4097 3450 3541 \nQ 3450 3153 3228 2886 \nQ 3006 2619 2597 2516 \nz\n\" id=\"DejaVuSans-33\" transform=\"scale(0.015625)\"/>\n       </defs>\n       <use xlink:href=\"#DejaVuSans-30\"/>\n       <use x=\"63.623047\" xlink:href=\"#DejaVuSans-2e\"/>\n       <use x=\"95.410156\" xlink:href=\"#DejaVuSans-33\"/>\n      </g>\n     </g>\n    </g>\n    <g id=\"ytick_2\">\n     <g id=\"line2d_9\">\n      <g>\n       <use style=\"stroke:#000000;stroke-width:0.8;\" x=\"30.103125\" xlink:href=\"#m39eba7df97\" y=\"191.680409\"/>\n      </g>\n     </g>\n     <g id=\"text_10\">\n      <!-- 0.4 -->\n      <g transform=\"translate(7.2 195.479628)scale(0.1 -0.1)\">\n       <use xlink:href=\"#DejaVuSans-30\"/>\n       <use x=\"63.623047\" xlink:href=\"#DejaVuSans-2e\"/>\n       <use x=\"95.410156\" xlink:href=\"#DejaVuSans-34\"/>\n      </g>\n     </g>\n    </g>\n    <g id=\"ytick_3\">\n     <g id=\"line2d_10\">\n      <g>\n       <use style=\"stroke:#000000;stroke-width:0.8;\" x=\"30.103125\" xlink:href=\"#m39eba7df97\" y=\"160.459994\"/>\n      </g>\n     </g>\n     <g id=\"text_11\">\n      <!-- 0.5 -->\n      <g transform=\"translate(7.2 164.259213)scale(0.1 -0.1)\">\n       <defs>\n        <path d=\"M 691 4666 \nL 3169 4666 \nL 3169 4134 \nL 1269 4134 \nL 1269 2991 \nQ 1406 3038 1543 3061 \nQ 1681 3084 1819 3084 \nQ 2600 3084 3056 2656 \nQ 3513 2228 3513 1497 \nQ 3513 744 3044 326 \nQ 2575 -91 1722 -91 \nQ 1428 -91 1123 -41 \nQ 819 9 494 109 \nL 494 744 \nQ 775 591 1075 516 \nQ 1375 441 1709 441 \nQ 2250 441 2565 725 \nQ 2881 1009 2881 1497 \nQ 2881 1984 2565 2268 \nQ 2250 2553 1709 2553 \nQ 1456 2553 1204 2497 \nQ 953 2441 691 2322 \nL 691 4666 \nz\n\" id=\"DejaVuSans-35\" transform=\"scale(0.015625)\"/>\n       </defs>\n       <use xlink:href=\"#DejaVuSans-30\"/>\n       <use x=\"63.623047\" xlink:href=\"#DejaVuSans-2e\"/>\n       <use x=\"95.410156\" xlink:href=\"#DejaVuSans-35\"/>\n      </g>\n     </g>\n    </g>\n    <g id=\"ytick_4\">\n     <g id=\"line2d_11\">\n      <g>\n       <use style=\"stroke:#000000;stroke-width:0.8;\" x=\"30.103125\" xlink:href=\"#m39eba7df97\" y=\"129.23958\"/>\n      </g>\n     </g>\n     <g id=\"text_12\">\n      <!-- 0.6 -->\n      <g transform=\"translate(7.2 133.038799)scale(0.1 -0.1)\">\n       <use xlink:href=\"#DejaVuSans-30\"/>\n       <use x=\"63.623047\" xlink:href=\"#DejaVuSans-2e\"/>\n       <use x=\"95.410156\" xlink:href=\"#DejaVuSans-36\"/>\n      </g>\n     </g>\n    </g>\n    <g id=\"ytick_5\">\n     <g id=\"line2d_12\">\n      <g>\n       <use style=\"stroke:#000000;stroke-width:0.8;\" x=\"30.103125\" xlink:href=\"#m39eba7df97\" y=\"98.019166\"/>\n      </g>\n     </g>\n     <g id=\"text_13\">\n      <!-- 0.7 -->\n      <g transform=\"translate(7.2 101.818384)scale(0.1 -0.1)\">\n       <defs>\n        <path d=\"M 525 4666 \nL 3525 4666 \nL 3525 4397 \nL 1831 0 \nL 1172 0 \nL 2766 4134 \nL 525 4134 \nL 525 4666 \nz\n\" id=\"DejaVuSans-37\" transform=\"scale(0.015625)\"/>\n       </defs>\n       <use xlink:href=\"#DejaVuSans-30\"/>\n       <use x=\"63.623047\" xlink:href=\"#DejaVuSans-2e\"/>\n       <use x=\"95.410156\" xlink:href=\"#DejaVuSans-37\"/>\n      </g>\n     </g>\n    </g>\n    <g id=\"ytick_6\">\n     <g id=\"line2d_13\">\n      <g>\n       <use style=\"stroke:#000000;stroke-width:0.8;\" x=\"30.103125\" xlink:href=\"#m39eba7df97\" y=\"66.798751\"/>\n      </g>\n     </g>\n     <g id=\"text_14\">\n      <!-- 0.8 -->\n      <g transform=\"translate(7.2 70.59797)scale(0.1 -0.1)\">\n       <use xlink:href=\"#DejaVuSans-30\"/>\n       <use x=\"63.623047\" xlink:href=\"#DejaVuSans-2e\"/>\n       <use x=\"95.410156\" xlink:href=\"#DejaVuSans-38\"/>\n      </g>\n     </g>\n    </g>\n    <g id=\"ytick_7\">\n     <g id=\"line2d_14\">\n      <g>\n       <use style=\"stroke:#000000;stroke-width:0.8;\" x=\"30.103125\" xlink:href=\"#m39eba7df97\" y=\"35.578337\"/>\n      </g>\n     </g>\n     <g id=\"text_15\">\n      <!-- 0.9 -->\n      <g transform=\"translate(7.2 39.377556)scale(0.1 -0.1)\">\n       <defs>\n        <path d=\"M 703 97 \nL 703 672 \nQ 941 559 1184 500 \nQ 1428 441 1663 441 \nQ 2288 441 2617 861 \nQ 2947 1281 2994 2138 \nQ 2813 1869 2534 1725 \nQ 2256 1581 1919 1581 \nQ 1219 1581 811 2004 \nQ 403 2428 403 3163 \nQ 403 3881 828 4315 \nQ 1253 4750 1959 4750 \nQ 2769 4750 3195 4129 \nQ 3622 3509 3622 2328 \nQ 3622 1225 3098 567 \nQ 2575 -91 1691 -91 \nQ 1453 -91 1209 -44 \nQ 966 3 703 97 \nz\nM 1959 2075 \nQ 2384 2075 2632 2365 \nQ 2881 2656 2881 3163 \nQ 2881 3666 2632 3958 \nQ 2384 4250 1959 4250 \nQ 1534 4250 1286 3958 \nQ 1038 3666 1038 3163 \nQ 1038 2656 1286 2365 \nQ 1534 2075 1959 2075 \nz\n\" id=\"DejaVuSans-39\" transform=\"scale(0.015625)\"/>\n       </defs>\n       <use xlink:href=\"#DejaVuSans-30\"/>\n       <use x=\"63.623047\" xlink:href=\"#DejaVuSans-2e\"/>\n       <use x=\"95.410156\" xlink:href=\"#DejaVuSans-39\"/>\n      </g>\n     </g>\n    </g>\n   </g>\n   <g id=\"line2d_15\">\n    <path clip-path=\"url(#p3502ec4d3a)\" d=\"M 43.937836 116.344183 \nL 46.262997 118.88933 \nL 48.588159 161.30838 \nL 50.91332 187.608184 \nL 53.238482 185.063037 \nL 55.563643 145.189134 \nL 57.888805 122.282852 \nL 60.213966 125.676375 \nL 62.539128 112.950661 \nL 64.864289 117.192578 \nL 67.18945 108.708762 \nL 69.514612 95.983048 \nL 71.839773 107.860386 \nL 74.164935 107.01201 \nL 76.490096 105.31524 \nL 78.815258 94.286296 \nL 81.140419 84.954105 \nL 83.465581 88.347627 \nL 85.790742 92.589526 \nL 88.115904 88.347627 \nL 90.441065 97.679819 \nL 92.766227 82.408958 \nL 95.091388 88.347627 \nL 97.41655 90.044379 \nL 99.741711 89.196003 \nL 102.066872 92.589526 \nL 104.392034 79.863812 \nL 106.717195 81.560582 \nL 109.042357 86.650857 \nL 111.367518 89.196003 \nL 113.69268 82.408958 \nL 116.017841 80.712188 \nL 118.343003 83.257334 \nL 120.668164 87.499251 \nL 122.993326 75.621913 \nL 125.318487 73.925143 \nL 127.643649 69.683244 \nL 129.96881 76.470289 \nL 132.293972 84.954105 \nL 134.619133 70.53162 \nL 136.944295 65.441346 \nL 139.269456 76.470289 \nL 141.594617 59.502677 \nL 143.919779 72.228391 \nL 146.24494 73.925143 \nL 148.570102 69.683244 \nL 150.895263 67.986492 \nL 153.220425 79.015436 \nL 155.545586 63.744575 \nL 157.870748 62.896199 \nL 160.195909 60.351053 \nL 162.521071 58.654301 \nL 164.846232 56.95753 \nL 167.171394 62.047823 \nL 169.496555 67.986492 \nL 171.821717 54.412384 \nL 174.146878 54.412384 \nL 176.47204 67.138098 \nL 178.797201 48.473733 \nL 181.122362 55.260778 \nL 183.447524 59.502677 \nL 185.772685 53.564008 \nL 188.097847 51.867256 \nL 190.423008 52.715632 \nL 192.74817 52.715632 \nL 195.073331 48.473733 \nL 197.398493 55.260778 \nL 199.723654 44.231816 \nL 202.048816 45.080211 \nL 204.373977 44.231816 \nL 206.699139 46.776963 \nL 209.0243 45.080211 \nL 211.349462 46.776963 \nL 213.674623 40.838294 \nL 215.999784 52.715632 \nL 218.324946 41.68667 \nL 220.650107 46.776963 \nL 222.975269 45.080211 \nL 225.30043 45.928587 \nL 227.625592 45.928587 \nL 229.950753 36.596395 \nL 232.275915 49.322109 \nL 234.601076 34.051249 \nL 236.926238 39.141542 \nL 239.251399 45.928587 \nL 241.576561 34.899625 \nL 243.901722 38.293147 \nL 246.226884 39.989918 \nL 248.552045 46.776963 \nL 250.877207 34.051249 \nL 253.202368 37.444771 \nL 255.527529 42.535064 \nL 257.852691 35.748019 \nL 260.177852 35.748019 \nL 262.503014 31.506102 \nL 264.828175 37.444771 \nL 267.153337 31.506102 \nL 269.478498 33.202873 \nL 271.80366 35.748019 \nL 274.128821 37.444771 \nL 276.453983 30.657726 \nL 278.779144 32.354497 \nL 281.104306 27.264204 \nL 283.429467 30.657726 \nL 285.754629 25.567452 \nL 288.07979 20.477159 \nL 290.404952 32.354497 \nL 292.730113 29.80935 \nL 295.055274 24.719057 \nL 297.380436 28.960974 \nL 299.705597 23.870681 \nL 302.030759 28.11258 \nL 304.35592 20.477159 \nL 306.681082 29.80935 \nL 309.006243 25.567452 \nL 311.331405 28.11258 \nL 313.656566 25.567452 \nL 315.981728 20.477159 \nL 318.306889 23.022305 \nL 320.632051 17.083636 \n\" style=\"fill:none;stroke:#000000;stroke-linecap:square;stroke-width:1.5;\"/>\n   </g>\n   <g id=\"line2d_16\">\n    <path clip-path=\"url(#p3502ec4d3a)\" d=\"M 43.937836 102.770093 \nL 46.262997 136.705337 \nL 48.588159 211.362841 \nL 50.91332 214.756364 \nL 53.238482 194.395229 \nL 55.563643 126.524769 \nL 57.888805 112.950661 \nL 60.213966 102.770093 \nL 62.539128 95.983048 \nL 64.864289 89.196003 \nL 67.18945 89.196003 \nL 69.514612 89.196003 \nL 71.839773 85.802481 \nL 74.164935 85.802481 \nL 76.490096 95.983048 \nL 78.815258 95.983048 \nL 81.140419 89.196003 \nL 83.465581 85.802481 \nL 85.790742 85.802481 \nL 88.115904 89.196003 \nL 90.441065 79.015436 \nL 92.766227 65.441346 \nL 95.091388 75.621913 \nL 97.41655 79.015436 \nL 99.741711 82.408958 \nL 102.066872 72.228391 \nL 104.392034 75.621913 \nL 106.717195 82.408958 \nL 109.042357 99.376571 \nL 111.367518 79.015436 \nL 113.69268 75.621913 \nL 116.017841 75.621913 \nL 118.343003 79.015436 \nL 120.668164 72.228391 \nL 122.993326 68.834868 \nL 125.318487 68.834868 \nL 127.643649 72.228391 \nL 129.96881 72.228391 \nL 132.293972 79.015436 \nL 134.619133 55.260778 \nL 136.944295 68.834868 \nL 139.269456 68.834868 \nL 141.594617 48.473733 \nL 143.919779 82.408958 \nL 146.24494 55.260778 \nL 148.570102 58.654301 \nL 150.895263 55.260778 \nL 153.220425 62.047823 \nL 155.545586 51.867256 \nL 157.870748 45.080211 \nL 160.195909 51.867256 \nL 162.521071 51.867256 \nL 164.846232 48.473733 \nL 167.171394 58.654301 \nL 169.496555 55.260778 \nL 171.821717 45.080211 \nL 174.146878 82.408958 \nL 176.47204 48.473733 \nL 178.797201 48.473733 \nL 181.122362 51.867256 \nL 183.447524 45.080211 \nL 185.772685 41.68667 \nL 188.097847 41.68667 \nL 190.423008 45.080211 \nL 192.74817 45.080211 \nL 195.073331 45.080211 \nL 197.398493 45.080211 \nL 199.723654 41.68667 \nL 202.048816 48.473733 \nL 204.373977 38.293147 \nL 206.699139 38.293147 \nL 209.0243 38.293147 \nL 211.349462 38.293147 \nL 213.674623 41.68667 \nL 215.999784 41.68667 \nL 218.324946 38.293147 \nL 220.650107 41.68667 \nL 222.975269 38.293147 \nL 225.30043 38.293147 \nL 227.625592 38.293147 \nL 229.950753 34.899625 \nL 232.275915 41.68667 \nL 234.601076 38.293147 \nL 236.926238 48.473733 \nL 239.251399 45.080211 \nL 241.576561 38.293147 \nL 243.901722 41.68667 \nL 246.226884 28.11258 \nL 248.552045 41.68667 \nL 250.877207 31.506102 \nL 253.202368 34.899625 \nL 255.527529 31.506102 \nL 257.852691 41.68667 \nL 260.177852 28.11258 \nL 262.503014 34.899625 \nL 264.828175 31.506102 \nL 267.153337 28.11258 \nL 269.478498 31.506102 \nL 271.80366 31.506102 \nL 274.128821 28.11258 \nL 276.453983 28.11258 \nL 278.779144 34.899625 \nL 281.104306 28.11258 \nL 283.429467 41.68667 \nL 285.754629 28.11258 \nL 288.07979 41.68667 \nL 290.404952 31.506102 \nL 292.730113 38.293147 \nL 295.055274 24.719057 \nL 297.380436 24.719057 \nL 299.705597 34.899625 \nL 302.030759 21.325535 \nL 304.35592 38.293147 \nL 306.681082 21.325535 \nL 309.006243 34.899625 \nL 311.331405 21.325535 \nL 313.656566 41.68667 \nL 315.981728 21.325535 \nL 318.306889 31.506102 \nL 320.632051 21.325535 \n\" style=\"fill:none;stroke:#dc143c;stroke-linecap:square;stroke-width:1.5;\"/>\n   </g>\n   <g id=\"patch_3\">\n    <path d=\"M 30.103125 224.64 \nL 30.103125 7.2 \n\" style=\"fill:none;stroke:#000000;stroke-linecap:square;stroke-linejoin:miter;stroke-width:0.8;\"/>\n   </g>\n   <g id=\"patch_4\">\n    <path d=\"M 334.466761 224.64 \nL 334.466761 7.2 \n\" style=\"fill:none;stroke:#000000;stroke-linecap:square;stroke-linejoin:miter;stroke-width:0.8;\"/>\n   </g>\n   <g id=\"patch_5\">\n    <path d=\"M 30.103125 224.64 \nL 334.466761 224.64 \n\" style=\"fill:none;stroke:#000000;stroke-linecap:square;stroke-linejoin:miter;stroke-width:0.8;\"/>\n   </g>\n   <g id=\"patch_6\">\n    <path d=\"M 30.103125 7.2 \nL 334.466761 7.2 \n\" style=\"fill:none;stroke:#000000;stroke-linecap:square;stroke-linejoin:miter;stroke-width:0.8;\"/>\n   </g>\n   <g id=\"legend_1\">\n    <g id=\"patch_7\">\n     <path d=\"M 37.103125 44.834375 \nL 134.046875 44.834375 \nQ 136.046875 44.834375 136.046875 42.834375 \nL 136.046875 14.2 \nQ 136.046875 12.2 134.046875 12.2 \nL 37.103125 12.2 \nQ 35.103125 12.2 35.103125 14.2 \nL 35.103125 42.834375 \nQ 35.103125 44.834375 37.103125 44.834375 \nz\n\" style=\"fill:#ffffff;opacity:0.8;stroke:#cccccc;stroke-linejoin:miter;\"/>\n    </g>\n    <g id=\"line2d_17\">\n     <path d=\"M 39.103125 20.298438 \nL 59.103125 20.298438 \n\" style=\"fill:none;stroke:#000000;stroke-linecap:square;stroke-width:1.5;\"/>\n    </g>\n    <g id=\"line2d_18\"/>\n    <g id=\"text_16\">\n     <!-- accuracy -->\n     <g transform=\"translate(67.103125 23.798438)scale(0.1 -0.1)\">\n      <defs>\n       <path d=\"M 2194 1759 \nQ 1497 1759 1228 1600 \nQ 959 1441 959 1056 \nQ 959 750 1161 570 \nQ 1363 391 1709 391 \nQ 2188 391 2477 730 \nQ 2766 1069 2766 1631 \nL 2766 1759 \nL 2194 1759 \nz\nM 3341 1997 \nL 3341 0 \nL 2766 0 \nL 2766 531 \nQ 2569 213 2275 61 \nQ 1981 -91 1556 -91 \nQ 1019 -91 701 211 \nQ 384 513 384 1019 \nQ 384 1609 779 1909 \nQ 1175 2209 1959 2209 \nL 2766 2209 \nL 2766 2266 \nQ 2766 2663 2505 2880 \nQ 2244 3097 1772 3097 \nQ 1472 3097 1187 3025 \nQ 903 2953 641 2809 \nL 641 3341 \nQ 956 3463 1253 3523 \nQ 1550 3584 1831 3584 \nQ 2591 3584 2966 3190 \nQ 3341 2797 3341 1997 \nz\n\" id=\"DejaVuSans-61\" transform=\"scale(0.015625)\"/>\n       <path d=\"M 544 1381 \nL 544 3500 \nL 1119 3500 \nL 1119 1403 \nQ 1119 906 1312 657 \nQ 1506 409 1894 409 \nQ 2359 409 2629 706 \nQ 2900 1003 2900 1516 \nL 2900 3500 \nL 3475 3500 \nL 3475 0 \nL 2900 0 \nL 2900 538 \nQ 2691 219 2414 64 \nQ 2138 -91 1772 -91 \nQ 1169 -91 856 284 \nQ 544 659 544 1381 \nz\nM 1991 3584 \nL 1991 3584 \nz\n\" id=\"DejaVuSans-75\" transform=\"scale(0.015625)\"/>\n       <path d=\"M 2631 2963 \nQ 2534 3019 2420 3045 \nQ 2306 3072 2169 3072 \nQ 1681 3072 1420 2755 \nQ 1159 2438 1159 1844 \nL 1159 0 \nL 581 0 \nL 581 3500 \nL 1159 3500 \nL 1159 2956 \nQ 1341 3275 1631 3429 \nQ 1922 3584 2338 3584 \nQ 2397 3584 2469 3576 \nQ 2541 3569 2628 3553 \nL 2631 2963 \nz\n\" id=\"DejaVuSans-72\" transform=\"scale(0.015625)\"/>\n       <path d=\"M 2059 -325 \nQ 1816 -950 1584 -1140 \nQ 1353 -1331 966 -1331 \nL 506 -1331 \nL 506 -850 \nL 844 -850 \nQ 1081 -850 1212 -737 \nQ 1344 -625 1503 -206 \nL 1606 56 \nL 191 3500 \nL 800 3500 \nL 1894 763 \nL 2988 3500 \nL 3597 3500 \nL 2059 -325 \nz\n\" id=\"DejaVuSans-79\" transform=\"scale(0.015625)\"/>\n      </defs>\n      <use xlink:href=\"#DejaVuSans-61\"/>\n      <use x=\"61.279297\" xlink:href=\"#DejaVuSans-63\"/>\n      <use x=\"116.259766\" xlink:href=\"#DejaVuSans-63\"/>\n      <use x=\"171.240234\" xlink:href=\"#DejaVuSans-75\"/>\n      <use x=\"234.619141\" xlink:href=\"#DejaVuSans-72\"/>\n      <use x=\"275.732422\" xlink:href=\"#DejaVuSans-61\"/>\n      <use x=\"337.011719\" xlink:href=\"#DejaVuSans-63\"/>\n      <use x=\"391.992188\" xlink:href=\"#DejaVuSans-79\"/>\n     </g>\n    </g>\n    <g id=\"line2d_19\">\n     <path d=\"M 39.103125 34.976563 \nL 59.103125 34.976563 \n\" style=\"fill:none;stroke:#dc143c;stroke-linecap:square;stroke-width:1.5;\"/>\n    </g>\n    <g id=\"line2d_20\"/>\n    <g id=\"text_17\">\n     <!-- val_accuracy -->\n     <g transform=\"translate(67.103125 38.476563)scale(0.1 -0.1)\">\n      <defs>\n       <path d=\"M 191 3500 \nL 800 3500 \nL 1894 563 \nL 2988 3500 \nL 3597 3500 \nL 2284 0 \nL 1503 0 \nL 191 3500 \nz\n\" id=\"DejaVuSans-76\" transform=\"scale(0.015625)\"/>\n       <path d=\"M 603 4863 \nL 1178 4863 \nL 1178 0 \nL 603 0 \nL 603 4863 \nz\n\" id=\"DejaVuSans-6c\" transform=\"scale(0.015625)\"/>\n       <path d=\"M 3263 -1063 \nL 3263 -1509 \nL -63 -1509 \nL -63 -1063 \nL 3263 -1063 \nz\n\" id=\"DejaVuSans-5f\" transform=\"scale(0.015625)\"/>\n      </defs>\n      <use xlink:href=\"#DejaVuSans-76\"/>\n      <use x=\"59.179688\" xlink:href=\"#DejaVuSans-61\"/>\n      <use x=\"120.458984\" xlink:href=\"#DejaVuSans-6c\"/>\n      <use x=\"148.242188\" xlink:href=\"#DejaVuSans-5f\"/>\n      <use x=\"198.242188\" xlink:href=\"#DejaVuSans-61\"/>\n      <use x=\"259.521484\" xlink:href=\"#DejaVuSans-63\"/>\n      <use x=\"314.501953\" xlink:href=\"#DejaVuSans-63\"/>\n      <use x=\"369.482422\" xlink:href=\"#DejaVuSans-75\"/>\n      <use x=\"432.861328\" xlink:href=\"#DejaVuSans-72\"/>\n      <use x=\"473.974609\" xlink:href=\"#DejaVuSans-61\"/>\n      <use x=\"535.253906\" xlink:href=\"#DejaVuSans-63\"/>\n      <use x=\"590.234375\" xlink:href=\"#DejaVuSans-79\"/>\n     </g>\n    </g>\n   </g>\n  </g>\n  <g id=\"axes_2\">\n   <g id=\"patch_8\">\n    <path d=\"M 395.339489 224.64 \nL 699.703125 224.64 \nL 699.703125 7.2 \nL 395.339489 7.2 \nz\n\" style=\"fill:#ffffff;\"/>\n   </g>\n   <g id=\"matplotlib.axis_3\">\n    <g id=\"xtick_8\">\n     <g id=\"line2d_21\">\n      <g>\n       <use style=\"stroke:#000000;stroke-width:0.8;\" x=\"409.174199\" xlink:href=\"#ma505a81d64\" y=\"224.64\"/>\n      </g>\n     </g>\n     <g id=\"text_18\">\n      <!-- 0 -->\n      <g transform=\"translate(405.992949 239.238438)scale(0.1 -0.1)\">\n       <use xlink:href=\"#DejaVuSans-30\"/>\n      </g>\n     </g>\n    </g>\n    <g id=\"xtick_9\">\n     <g id=\"line2d_22\">\n      <g>\n       <use style=\"stroke:#000000;stroke-width:0.8;\" x=\"455.677429\" xlink:href=\"#ma505a81d64\" y=\"224.64\"/>\n      </g>\n     </g>\n     <g id=\"text_19\">\n      <!-- 20 -->\n      <g transform=\"translate(449.314929 239.238438)scale(0.1 -0.1)\">\n       <use xlink:href=\"#DejaVuSans-32\"/>\n       <use x=\"63.623047\" xlink:href=\"#DejaVuSans-30\"/>\n      </g>\n     </g>\n    </g>\n    <g id=\"xtick_10\">\n     <g id=\"line2d_23\">\n      <g>\n       <use style=\"stroke:#000000;stroke-width:0.8;\" x=\"502.180658\" xlink:href=\"#ma505a81d64\" y=\"224.64\"/>\n      </g>\n     </g>\n     <g id=\"text_20\">\n      <!-- 40 -->\n      <g transform=\"translate(495.818158 239.238438)scale(0.1 -0.1)\">\n       <use xlink:href=\"#DejaVuSans-34\"/>\n       <use x=\"63.623047\" xlink:href=\"#DejaVuSans-30\"/>\n      </g>\n     </g>\n    </g>\n    <g id=\"xtick_11\">\n     <g id=\"line2d_24\">\n      <g>\n       <use style=\"stroke:#000000;stroke-width:0.8;\" x=\"548.683888\" xlink:href=\"#ma505a81d64\" y=\"224.64\"/>\n      </g>\n     </g>\n     <g id=\"text_21\">\n      <!-- 60 -->\n      <g transform=\"translate(542.321388 239.238438)scale(0.1 -0.1)\">\n       <use xlink:href=\"#DejaVuSans-36\"/>\n       <use x=\"63.623047\" xlink:href=\"#DejaVuSans-30\"/>\n      </g>\n     </g>\n    </g>\n    <g id=\"xtick_12\">\n     <g id=\"line2d_25\">\n      <g>\n       <use style=\"stroke:#000000;stroke-width:0.8;\" x=\"595.187117\" xlink:href=\"#ma505a81d64\" y=\"224.64\"/>\n      </g>\n     </g>\n     <g id=\"text_22\">\n      <!-- 80 -->\n      <g transform=\"translate(588.824617 239.238438)scale(0.1 -0.1)\">\n       <use xlink:href=\"#DejaVuSans-38\"/>\n       <use x=\"63.623047\" xlink:href=\"#DejaVuSans-30\"/>\n      </g>\n     </g>\n    </g>\n    <g id=\"xtick_13\">\n     <g id=\"line2d_26\">\n      <g>\n       <use style=\"stroke:#000000;stroke-width:0.8;\" x=\"641.690346\" xlink:href=\"#ma505a81d64\" y=\"224.64\"/>\n      </g>\n     </g>\n     <g id=\"text_23\">\n      <!-- 100 -->\n      <g transform=\"translate(632.146596 239.238438)scale(0.1 -0.1)\">\n       <use xlink:href=\"#DejaVuSans-31\"/>\n       <use x=\"63.623047\" xlink:href=\"#DejaVuSans-30\"/>\n       <use x=\"127.246094\" xlink:href=\"#DejaVuSans-30\"/>\n      </g>\n     </g>\n    </g>\n    <g id=\"xtick_14\">\n     <g id=\"line2d_27\">\n      <g>\n       <use style=\"stroke:#000000;stroke-width:0.8;\" x=\"688.193576\" xlink:href=\"#ma505a81d64\" y=\"224.64\"/>\n      </g>\n     </g>\n     <g id=\"text_24\">\n      <!-- 120 -->\n      <g transform=\"translate(678.649826 239.238438)scale(0.1 -0.1)\">\n       <use xlink:href=\"#DejaVuSans-31\"/>\n       <use x=\"63.623047\" xlink:href=\"#DejaVuSans-32\"/>\n       <use x=\"127.246094\" xlink:href=\"#DejaVuSans-30\"/>\n      </g>\n     </g>\n    </g>\n    <g id=\"text_25\">\n     <!-- No of Epochs -->\n     <g transform=\"translate(514.808026 252.916563)scale(0.1 -0.1)\">\n      <defs>\n       <path d=\"M 628 4666 \nL 3578 4666 \nL 3578 4134 \nL 1259 4134 \nL 1259 2753 \nL 3481 2753 \nL 3481 2222 \nL 1259 2222 \nL 1259 531 \nL 3634 531 \nL 3634 0 \nL 628 0 \nL 628 4666 \nz\n\" id=\"DejaVuSans-45\" transform=\"scale(0.015625)\"/>\n      </defs>\n      <use xlink:href=\"#DejaVuSans-4e\"/>\n      <use x=\"74.804688\" xlink:href=\"#DejaVuSans-6f\"/>\n      <use x=\"135.986328\" xlink:href=\"#DejaVuSans-20\"/>\n      <use x=\"167.773438\" xlink:href=\"#DejaVuSans-6f\"/>\n      <use x=\"228.955078\" xlink:href=\"#DejaVuSans-66\"/>\n      <use x=\"264.160156\" xlink:href=\"#DejaVuSans-20\"/>\n      <use x=\"295.947266\" xlink:href=\"#DejaVuSans-45\"/>\n      <use x=\"359.130859\" xlink:href=\"#DejaVuSans-70\"/>\n      <use x=\"422.607422\" xlink:href=\"#DejaVuSans-6f\"/>\n      <use x=\"483.789062\" xlink:href=\"#DejaVuSans-63\"/>\n      <use x=\"538.769531\" xlink:href=\"#DejaVuSans-68\"/>\n      <use x=\"602.148438\" xlink:href=\"#DejaVuSans-73\"/>\n     </g>\n    </g>\n   </g>\n   <g id=\"matplotlib.axis_4\">\n    <g id=\"ytick_8\">\n     <g id=\"line2d_28\">\n      <g>\n       <use style=\"stroke:#000000;stroke-width:0.8;\" x=\"395.339489\" xlink:href=\"#m39eba7df97\" y=\"208.819574\"/>\n      </g>\n     </g>\n     <g id=\"text_26\">\n      <!-- 1.0 -->\n      <g transform=\"translate(372.436364 212.618793)scale(0.1 -0.1)\">\n       <use xlink:href=\"#DejaVuSans-31\"/>\n       <use x=\"63.623047\" xlink:href=\"#DejaVuSans-2e\"/>\n       <use x=\"95.410156\" xlink:href=\"#DejaVuSans-30\"/>\n      </g>\n     </g>\n    </g>\n    <g id=\"ytick_9\">\n     <g id=\"line2d_29\">\n      <g>\n       <use style=\"stroke:#000000;stroke-width:0.8;\" x=\"395.339489\" xlink:href=\"#m39eba7df97\" y=\"161.003133\"/>\n      </g>\n     </g>\n     <g id=\"text_27\">\n      <!-- 1.5 -->\n      <g transform=\"translate(372.436364 164.802352)scale(0.1 -0.1)\">\n       <use xlink:href=\"#DejaVuSans-31\"/>\n       <use x=\"63.623047\" xlink:href=\"#DejaVuSans-2e\"/>\n       <use x=\"95.410156\" xlink:href=\"#DejaVuSans-35\"/>\n      </g>\n     </g>\n    </g>\n    <g id=\"ytick_10\">\n     <g id=\"line2d_30\">\n      <g>\n       <use style=\"stroke:#000000;stroke-width:0.8;\" x=\"395.339489\" xlink:href=\"#m39eba7df97\" y=\"113.186692\"/>\n      </g>\n     </g>\n     <g id=\"text_28\">\n      <!-- 2.0 -->\n      <g transform=\"translate(372.436364 116.98591)scale(0.1 -0.1)\">\n       <use xlink:href=\"#DejaVuSans-32\"/>\n       <use x=\"63.623047\" xlink:href=\"#DejaVuSans-2e\"/>\n       <use x=\"95.410156\" xlink:href=\"#DejaVuSans-30\"/>\n      </g>\n     </g>\n    </g>\n    <g id=\"ytick_11\">\n     <g id=\"line2d_31\">\n      <g>\n       <use style=\"stroke:#000000;stroke-width:0.8;\" x=\"395.339489\" xlink:href=\"#m39eba7df97\" y=\"65.37025\"/>\n      </g>\n     </g>\n     <g id=\"text_29\">\n      <!-- 2.5 -->\n      <g transform=\"translate(372.436364 69.169469)scale(0.1 -0.1)\">\n       <use xlink:href=\"#DejaVuSans-32\"/>\n       <use x=\"63.623047\" xlink:href=\"#DejaVuSans-2e\"/>\n       <use x=\"95.410156\" xlink:href=\"#DejaVuSans-35\"/>\n      </g>\n     </g>\n    </g>\n    <g id=\"ytick_12\">\n     <g id=\"line2d_32\">\n      <g>\n       <use style=\"stroke:#000000;stroke-width:0.8;\" x=\"395.339489\" xlink:href=\"#m39eba7df97\" y=\"17.553809\"/>\n      </g>\n     </g>\n     <g id=\"text_30\">\n      <!-- 3.0 -->\n      <g transform=\"translate(372.436364 21.353027)scale(0.1 -0.1)\">\n       <use xlink:href=\"#DejaVuSans-33\"/>\n       <use x=\"63.623047\" xlink:href=\"#DejaVuSans-2e\"/>\n       <use x=\"95.410156\" xlink:href=\"#DejaVuSans-30\"/>\n      </g>\n     </g>\n    </g>\n   </g>\n   <g id=\"line2d_33\">\n    <path clip-path=\"url(#pb74307741d)\" d=\"M 409.174199 17.083636 \nL 411.499361 77.891618 \nL 413.824522 95.753515 \nL 416.149684 93.810284 \nL 418.474845 98.000406 \nL 420.800007 102.141712 \nL 423.125168 105.174883 \nL 425.45033 105.592089 \nL 427.775491 108.487203 \nL 430.100653 110.814831 \nL 432.425814 112.58024 \nL 434.750976 115.712115 \nL 437.076137 115.237052 \nL 439.401298 115.530519 \nL 441.72646 116.794211 \nL 444.051621 120.551189 \nL 446.376783 122.869332 \nL 448.701944 122.220745 \nL 451.027106 123.45971 \nL 453.352267 126.902871 \nL 455.677429 125.704468 \nL 458.00259 131.405704 \nL 460.327752 129.004795 \nL 462.652913 131.251002 \nL 464.978075 133.920081 \nL 467.303236 133.816144 \nL 469.628398 135.230662 \nL 471.953559 136.633438 \nL 474.278721 136.759378 \nL 476.603882 139.305459 \nL 478.929043 139.263802 \nL 481.254205 141.881636 \nL 483.579366 142.241214 \nL 485.904528 142.27822 \nL 488.229689 144.032057 \nL 490.554851 146.380707 \nL 492.880012 149.947505 \nL 495.205174 149.626791 \nL 497.530335 147.0505 \nL 499.855497 150.488211 \nL 502.180658 152.86217 \nL 504.50582 153.748158 \nL 506.830981 157.48783 \nL 509.156143 156.684712 \nL 511.481304 156.770305 \nL 513.806466 159.569747 \nL 516.131627 160.144084 \nL 518.456788 159.752836 \nL 520.78195 163.560363 \nL 523.107111 164.6445 \nL 525.432273 167.530858 \nL 527.757434 166.763092 \nL 530.082596 169.310917 \nL 532.407757 166.20858 \nL 534.732919 168.375098 \nL 537.05808 167.059876 \nL 539.383242 172.217111 \nL 541.708403 169.68088 \nL 544.033565 175.588405 \nL 546.358726 172.902453 \nL 548.683888 174.254977 \nL 551.009049 176.507511 \nL 553.33421 174.911989 \nL 555.659372 177.624925 \nL 557.984533 178.470898 \nL 560.309695 178.285677 \nL 562.634856 178.632418 \nL 564.960018 181.001246 \nL 567.285179 183.32428 \nL 569.610341 183.656862 \nL 571.935502 182.398106 \nL 574.260664 184.461577 \nL 576.585825 181.864525 \nL 578.910987 185.34484 \nL 581.236148 186.298819 \nL 583.56131 187.504997 \nL 585.886471 186.199443 \nL 588.211633 186.87058 \nL 590.536794 188.994871 \nL 592.861955 188.579808 \nL 595.187117 190.600357 \nL 597.512278 188.503323 \nL 599.83744 190.448162 \nL 602.162601 194.24462 \nL 604.487763 191.848875 \nL 606.812924 192.56184 \nL 609.138086 193.60953 \nL 611.463247 193.764575 \nL 613.788409 193.76038 \nL 616.11357 195.321187 \nL 618.438732 195.619237 \nL 620.763893 195.265417 \nL 623.089055 194.446052 \nL 625.414216 197.352839 \nL 627.739378 199.569975 \nL 630.064539 198.703573 \nL 632.3897 199.64955 \nL 634.714862 200.511164 \nL 637.040023 200.118673 \nL 639.365185 200.199273 \nL 641.690346 200.502876 \nL 644.015508 202.74662 \nL 646.340669 203.241063 \nL 648.665831 202.526297 \nL 650.990992 204.877717 \nL 653.316154 205.889553 \nL 655.641315 204.059288 \nL 657.966477 204.265827 \nL 660.291638 207.790182 \nL 662.6168 203.38644 \nL 664.941961 208.511857 \nL 667.267122 206.427318 \nL 669.592284 209.835674 \nL 671.917445 208.562189 \nL 674.242607 207.03955 \nL 676.567768 207.399002 \nL 678.89293 209.125086 \nL 681.218091 209.927692 \nL 683.543253 210.697362 \nL 685.868414 214.756364 \n\" style=\"fill:none;stroke:#000000;stroke-linecap:square;stroke-width:1.5;\"/>\n   </g>\n   <g id=\"line2d_34\">\n    <path clip-path=\"url(#pb74307741d)\" d=\"M 409.174199 124.046986 \nL 411.499361 118.361882 \nL 413.824522 114.778474 \nL 416.149684 115.849033 \nL 418.474845 119.607322 \nL 420.800007 122.830833 \nL 423.125168 125.22464 \nL 425.45033 126.630802 \nL 427.775491 127.255722 \nL 430.100653 127.961277 \nL 432.425814 128.93523 \nL 434.750976 130.739309 \nL 437.076137 131.704541 \nL 439.401298 132.676453 \nL 441.72646 133.940476 \nL 444.051621 135.014934 \nL 446.376783 136.435848 \nL 448.701944 137.315668 \nL 451.027106 138.144461 \nL 453.352267 139.500188 \nL 455.677429 141.289538 \nL 458.00259 143.281939 \nL 460.327752 143.783553 \nL 462.652913 144.289089 \nL 464.978075 145.52151 \nL 467.303236 148.069461 \nL 469.628398 149.241323 \nL 471.953559 150.004427 \nL 474.278721 149.908528 \nL 476.603882 152.578576 \nL 478.929043 154.495928 \nL 481.254205 155.48656 \nL 483.579366 156.359916 \nL 485.904528 157.276548 \nL 488.229689 159.486297 \nL 490.554851 160.225004 \nL 492.880012 160.869612 \nL 495.205174 162.258936 \nL 497.530335 162.995979 \nL 499.855497 166.854728 \nL 502.180658 165.979342 \nL 504.50582 167.195837 \nL 506.830981 170.723269 \nL 509.156143 167.945636 \nL 511.481304 172.111282 \nL 513.806466 172.470826 \nL 516.131627 174.03096 \nL 518.456788 173.304703 \nL 520.78195 175.563495 \nL 523.107111 176.64493 \nL 525.432273 177.293027 \nL 527.757434 177.693612 \nL 530.082596 180.68442 \nL 532.407757 177.903469 \nL 534.732919 180.437409 \nL 537.05808 184.23976 \nL 539.383242 174.557587 \nL 541.708403 183.399271 \nL 544.033565 184.786657 \nL 546.358726 183.26982 \nL 548.683888 185.000607 \nL 551.009049 186.242034 \nL 553.33421 187.54923 \nL 555.659372 185.574613 \nL 557.984533 189.230539 \nL 560.309695 187.348048 \nL 562.634856 188.901811 \nL 564.960018 191.965523 \nL 567.285179 188.630528 \nL 569.610341 191.394618 \nL 571.935502 190.679087 \nL 574.260664 192.644173 \nL 576.585825 194.535682 \nL 578.910987 191.887796 \nL 581.236148 193.044872 \nL 583.56131 195.661806 \nL 585.886471 195.217786 \nL 588.211633 195.084083 \nL 590.536794 194.205836 \nL 592.861955 197.712645 \nL 595.187117 196.376892 \nL 597.512278 198.700552 \nL 599.83744 199.812278 \nL 602.162601 193.817769 \nL 604.487763 199.892969 \nL 606.812924 200.701367 \nL 609.138086 197.825075 \nL 611.463247 202.915698 \nL 613.788409 197.608697 \nL 616.11357 202.727775 \nL 618.438732 200.125262 \nL 620.763893 203.659763 \nL 623.089055 201.055028 \nL 625.414216 204.341993 \nL 627.739378 202.10835 \nL 630.064539 203.412057 \nL 632.3897 204.440697 \nL 634.714862 203.388937 \nL 637.040023 203.405878 \nL 639.365185 205.194361 \nL 641.690346 205.27804 \nL 644.015508 204.93383 \nL 646.340669 206.724456 \nL 648.665831 204.930649 \nL 650.990992 208.242786 \nL 653.316154 205.013267 \nL 655.641315 207.109571 \nL 657.966477 206.969153 \nL 660.291638 208.562839 \nL 662.6168 208.474543 \nL 664.941961 206.867998 \nL 667.267122 208.864144 \nL 669.592284 206.206391 \nL 671.917445 210.198296 \nL 674.242607 206.43368 \nL 676.567768 210.551284 \nL 678.89293 207.231817 \nL 681.218091 211.578636 \nL 683.543253 208.787197 \nL 685.868414 212.165348 \n\" style=\"fill:none;stroke:#dc143c;stroke-linecap:square;stroke-width:1.5;\"/>\n   </g>\n   <g id=\"patch_9\">\n    <path d=\"M 395.339489 224.64 \nL 395.339489 7.2 \n\" style=\"fill:none;stroke:#000000;stroke-linecap:square;stroke-linejoin:miter;stroke-width:0.8;\"/>\n   </g>\n   <g id=\"patch_10\">\n    <path d=\"M 699.703125 224.64 \nL 699.703125 7.2 \n\" style=\"fill:none;stroke:#000000;stroke-linecap:square;stroke-linejoin:miter;stroke-width:0.8;\"/>\n   </g>\n   <g id=\"patch_11\">\n    <path d=\"M 395.339489 224.64 \nL 699.703125 224.64 \n\" style=\"fill:none;stroke:#000000;stroke-linecap:square;stroke-linejoin:miter;stroke-width:0.8;\"/>\n   </g>\n   <g id=\"patch_12\">\n    <path d=\"M 395.339489 7.2 \nL 699.703125 7.2 \n\" style=\"fill:none;stroke:#000000;stroke-linecap:square;stroke-linejoin:miter;stroke-width:0.8;\"/>\n   </g>\n   <g id=\"legend_2\">\n    <g id=\"patch_13\">\n     <path d=\"M 621.5625 44.834375 \nL 692.703125 44.834375 \nQ 694.703125 44.834375 694.703125 42.834375 \nL 694.703125 14.2 \nQ 694.703125 12.2 692.703125 12.2 \nL 621.5625 12.2 \nQ 619.5625 12.2 619.5625 14.2 \nL 619.5625 42.834375 \nQ 619.5625 44.834375 621.5625 44.834375 \nz\n\" style=\"fill:#ffffff;opacity:0.8;stroke:#cccccc;stroke-linejoin:miter;\"/>\n    </g>\n    <g id=\"line2d_35\">\n     <path d=\"M 623.5625 20.298438 \nL 643.5625 20.298438 \n\" style=\"fill:none;stroke:#000000;stroke-linecap:square;stroke-width:1.5;\"/>\n    </g>\n    <g id=\"line2d_36\"/>\n    <g id=\"text_31\">\n     <!-- loss -->\n     <g transform=\"translate(651.5625 23.798438)scale(0.1 -0.1)\">\n      <use xlink:href=\"#DejaVuSans-6c\"/>\n      <use x=\"27.783203\" xlink:href=\"#DejaVuSans-6f\"/>\n      <use x=\"88.964844\" xlink:href=\"#DejaVuSans-73\"/>\n      <use x=\"141.064453\" xlink:href=\"#DejaVuSans-73\"/>\n     </g>\n    </g>\n    <g id=\"line2d_37\">\n     <path d=\"M 623.5625 34.976563 \nL 643.5625 34.976563 \n\" style=\"fill:none;stroke:#dc143c;stroke-linecap:square;stroke-width:1.5;\"/>\n    </g>\n    <g id=\"line2d_38\"/>\n    <g id=\"text_32\">\n     <!-- val_loss -->\n     <g transform=\"translate(651.5625 38.476563)scale(0.1 -0.1)\">\n      <use xlink:href=\"#DejaVuSans-76\"/>\n      <use x=\"59.179688\" xlink:href=\"#DejaVuSans-61\"/>\n      <use x=\"120.458984\" xlink:href=\"#DejaVuSans-6c\"/>\n      <use x=\"148.242188\" xlink:href=\"#DejaVuSans-5f\"/>\n      <use x=\"198.242188\" xlink:href=\"#DejaVuSans-6c\"/>\n      <use x=\"226.025391\" xlink:href=\"#DejaVuSans-6f\"/>\n      <use x=\"287.207031\" xlink:href=\"#DejaVuSans-73\"/>\n      <use x=\"339.306641\" xlink:href=\"#DejaVuSans-73\"/>\n     </g>\n    </g>\n   </g>\n  </g>\n </g>\n <defs>\n  <clipPath id=\"p3502ec4d3a\">\n   <rect height=\"217.44\" width=\"304.363636\" x=\"30.103125\" y=\"7.2\"/>\n  </clipPath>\n  <clipPath id=\"pb74307741d\">\n   <rect height=\"217.44\" width=\"304.363636\" x=\"395.339489\" y=\"7.2\"/>\n  </clipPath>\n </defs>\n</svg>\n",
            "image/png": "[encoded data removed]"
          },
          "metadata": {
            "needs_background": "light"
          }
        }
      ],
      "metadata": {
        "colab": {
          "base_uri": "https://localhost:8080/",
          "height": 279
        },
        "id": "bpBWzF3t6fA9",
        "outputId": "f1ff81fa-5cf8-4283-e5d4-9cf0020188d3"
      }
    },
    {
      "cell_type": "code",
      "execution_count": null,
      "source": [],
      "outputs": [],
      "metadata": {
        "id": "xyYQC56nf9tX"
      }
    },
    {
      "cell_type": "code",
      "execution_count": 81,
      "source": [],
      "outputs": [],
      "metadata": {
        "id": "2sDmEpkL39jk"
      }
    }
  ]
}