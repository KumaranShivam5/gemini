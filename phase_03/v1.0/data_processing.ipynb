{
 "cells": [
  {
   "cell_type": "code",
   "execution_count": 13,
   "source": [
    "import numpy as np \n",
    "import pandas as pd \n",
    "from matplotlib import pyplot as plt "
   ],
   "outputs": [],
   "metadata": {}
  },
  {
   "cell_type": "code",
   "execution_count": 14,
   "source": [
    "cv_data = pd.read_csv('cv_data.csv')\n",
    "xrb_data = pd.read_csv('lmxrb_all_data.csv')\n",
    "print(cv_data.shape)\n",
    "print(xrb_data.shape)\n",
    "#print(cv_data)\n"
   ],
   "outputs": [
    {
     "output_type": "stream",
     "name": "stdout",
     "text": [
      "(943, 500)\n",
      "(431, 500)\n"
     ]
    }
   ],
   "metadata": {}
  },
  {
   "cell_type": "code",
   "execution_count": 15,
   "source": [
    "all_data =  pd.concat([cv_data , xrb_data] , ignore_index=True)\n",
    "#print(all_data)\n",
    "#print(all_data.shape)\n",
    "#all_data['class']\n",
    "all_data =  all_data.sample(frac=1).reset_index(drop=True)\n",
    "all_data.index.name =  \"index_compiled\"\n",
    "print('------------------')\n",
    "#print(all_data)"
   ],
   "outputs": [
    {
     "output_type": "stream",
     "name": "stdout",
     "text": [
      "------------------\n"
     ]
    }
   ],
   "metadata": {}
  },
  {
   "cell_type": "markdown",
   "source": [
    "# normalizing data"
   ],
   "metadata": {}
  },
  {
   "cell_type": "code",
   "execution_count": 16,
   "source": [
    "m, n =  all_data.shape\n",
    "for i in range(m):\n",
    "    for j in range(n):\n",
    "        if isinstance(all_data.iloc[i,j],str):\n",
    "            #print(i,j,all_data.iloc[i,j])\n",
    "            try:\n",
    "                all_data.iloc[i,j] =  float(all_data.iloc[i,j])\n",
    "            except:\n",
    "                #print('ivalid , setting to zero' , i, j, all_data.iloc[i,j])\n",
    "                all_data.iloc[i,j]=0"
   ],
   "outputs": [],
   "metadata": {}
  },
  {
   "cell_type": "code",
   "execution_count": 17,
   "source": [
    "np.amax(all_data)"
   ],
   "outputs": [
    {
     "output_type": "execute_result",
     "data": {
      "text/plain": [
       "index                  9.420000e+02\n",
       "class                  1.000000e+00\n",
       "B_B_FLUX_AP            5.410000e-10\n",
       "B_B_FLUX_AP_HI         5.430000e-10\n",
       "B_B_FLUX_AP_LO         5.400000e-10\n",
       "                           ...     \n",
       "B_W_VAR_INTER_INDEX    8.000000e+00\n",
       "B_W_VAR_INTER_PROB     1.000000e+00\n",
       "B_W_VAR_INTER_SIGMA    8.560000e-03\n",
       "B_W_VAR_INTRA_INDEX    1.000000e+01\n",
       "B_W_VAR_INTRA_PROB     1.000000e+00\n",
       "Length: 500, dtype: float64"
      ]
     },
     "metadata": {},
     "execution_count": 17
    }
   ],
   "metadata": {}
  },
  {
   "cell_type": "code",
   "execution_count": 18,
   "source": [
    "for i in range(2,n):\n",
    "    max_non_zero = np.amax(all_data.iloc[:,i])\n",
    "    if(max_non_zero==0):\n",
    "        continue\n",
    "    else:\n",
    "        all_data.iloc[:,i] = all_data.iloc[:,i] / np.amax(all_data.iloc[:,i]) \n",
    "    #print(i)"
   ],
   "outputs": [],
   "metadata": {}
  },
  {
   "cell_type": "code",
   "execution_count": 21,
   "source": [
    "print(np.amax(all_data))"
   ],
   "outputs": [
    {
     "output_type": "stream",
     "name": "stdout",
     "text": [
      "index                  942.0\n",
      "class                    1.0\n",
      "B_B_FLUX_AP              1.0\n",
      "B_B_FLUX_AP_HI           1.0\n",
      "B_B_FLUX_AP_LO           1.0\n",
      "                       ...  \n",
      "B_W_VAR_INTER_INDEX      1.0\n",
      "B_W_VAR_INTER_PROB       1.0\n",
      "B_W_VAR_INTER_SIGMA      1.0\n",
      "B_W_VAR_INTRA_INDEX      1.0\n",
      "B_W_VAR_INTRA_PROB       1.0\n",
      "Length: 500, dtype: float64\n"
     ]
    }
   ],
   "metadata": {}
  },
  {
   "cell_type": "code",
   "execution_count": 22,
   "source": [
    "print(all_data)"
   ],
   "outputs": [
    {
     "output_type": "stream",
     "name": "stdout",
     "text": [
      "                index  class   B_B_FLUX_AP B_B_FLUX_AP_HI B_B_FLUX_AP_LO  \\\n",
      "index_compiled                                                             \n",
      "0                 259    1.0  3.105360e-06      3.407e-06    2.81481e-06   \n",
      "1                  39    0.0  8.336414e-07    1.29282e-06     3.7037e-07   \n",
      "2                 469    0.0  1.661738e-05    1.76611e-05    1.55556e-05   \n",
      "3                 293    0.0  7.541590e-06     8.5267e-06    6.48148e-06   \n",
      "4                 268    1.0  6.543438e-04    0.000674033     0.00062963   \n",
      "...               ...    ...           ...            ...            ...   \n",
      "1369              356    1.0  0.000000e+00              0              0   \n",
      "1370              552    0.0  1.341959e-06    1.62983e-06    1.03333e-06   \n",
      "1371              345    1.0  3.105360e-05    3.77532e-05    2.38889e-05   \n",
      "1372               18    0.0  0.000000e+00    2.87293e-07              0   \n",
      "1373              172    0.0  1.316081e-05    1.43278e-05    1.18519e-05   \n",
      "\n",
      "                B_M_FLUX_AP B_M_FLUX_AP_HI B_M_FLUX_AP_LO  B_ACIS_HETG_NUM  \\\n",
      "index_compiled                                                               \n",
      "0                  0.000016    1.84737e-05    1.35829e-05                0   \n",
      "1                  0.000010    1.62632e-05    4.55615e-06                0   \n",
      "2                  0.000105    0.000116316    9.30481e-05                0   \n",
      "3                  0.000036        4.4e-05    2.82353e-05                0   \n",
      "4                  0.002670         0.0028     0.00251337                0   \n",
      "...                     ...            ...            ...              ...   \n",
      "1369               0.000000              0              0                0   \n",
      "1370               0.000000              0              0                0   \n",
      "1371               0.000428    0.000508421    0.000344385                0   \n",
      "1372               0.000005    9.89474e-06              0                0   \n",
      "1373               0.000079    9.10526e-05    6.68449e-05                0   \n",
      "\n",
      "                B_ACIS_HETG_TIME  ...  B_W_PHOTFLUX_AP_LO  B_W_POSITION_ANGLE  \\\n",
      "index_compiled                    ...                                           \n",
      "0                            0.0  ...                 0.0                   0   \n",
      "1                            0.0  ...                 0.0                   0   \n",
      "2                            0.0  ...                 0.0                   0   \n",
      "3                            0.0  ...                 0.0                   0   \n",
      "4                            0.0  ...                 0.0                   0   \n",
      "...                          ...  ...                 ...                 ...   \n",
      "1369                         0.0  ...                 0.0                   0   \n",
      "1370                         0.0  ...                 0.0                   0   \n",
      "1371                         0.0  ...                 0.0                   0   \n",
      "1372                         0.0  ...                 0.0                   0   \n",
      "1373                         0.0  ...                 0.0                   0   \n",
      "\n",
      "                B_W_POSITION_ANGLE_HI  B_W_POSITION_ANGLE_LO  B_W_SRC_AREA  \\\n",
      "index_compiled                                                               \n",
      "0                                   0                      0             0   \n",
      "1                                   0                      0             0   \n",
      "2                                   0                      0             0   \n",
      "3                                   0                      0             0   \n",
      "4                                   0                      0             0   \n",
      "...                               ...                    ...           ...   \n",
      "1369                                0                      0     0.0360501   \n",
      "1370                                0                      0             0   \n",
      "1371                                0                      0             0   \n",
      "1372                                0                      0             0   \n",
      "1373                                0                      0             0   \n",
      "\n",
      "                B_W_VAR_INTER_INDEX  B_W_VAR_INTER_PROB  B_W_VAR_INTER_SIGMA  \\\n",
      "index_compiled                                                                 \n",
      "0                               0.0                 0.0                  0.0   \n",
      "1                               0.0                 0.0                  0.0   \n",
      "2                               0.0                 0.0                  0.0   \n",
      "3                               0.0                 0.0                  0.0   \n",
      "4                               0.0                 0.0                  0.0   \n",
      "...                             ...                 ...                  ...   \n",
      "1369                            0.0                 0.0                  0.0   \n",
      "1370                            0.0                 0.0                  0.0   \n",
      "1371                            0.0                 0.0                  0.0   \n",
      "1372                            0.0                 0.0                  0.0   \n",
      "1373                            0.0                 0.0                  0.0   \n",
      "\n",
      "                B_W_VAR_INTRA_INDEX  B_W_VAR_INTRA_PROB  \n",
      "index_compiled                                           \n",
      "0                               0.0                 0.0  \n",
      "1                               0.0                 0.0  \n",
      "2                               0.0                 0.0  \n",
      "3                               0.0                 0.0  \n",
      "4                               0.0                 0.0  \n",
      "...                             ...                 ...  \n",
      "1369                            0.0                 0.0  \n",
      "1370                            0.0                 0.0  \n",
      "1371                            0.0                 0.0  \n",
      "1372                            0.0                 0.0  \n",
      "1373                            0.0                 0.0  \n",
      "\n",
      "[1374 rows x 500 columns]\n"
     ]
    }
   ],
   "metadata": {}
  },
  {
   "cell_type": "code",
   "execution_count": 23,
   "source": [
    "all_data.to_csv('all_data_compiled_v2.csv')"
   ],
   "outputs": [],
   "metadata": {}
  },
  {
   "cell_type": "code",
   "execution_count": null,
   "source": [],
   "outputs": [],
   "metadata": {}
  },
  {
   "cell_type": "code",
   "execution_count": null,
   "source": [],
   "outputs": [],
   "metadata": {}
  }
 ],
 "metadata": {
  "orig_nbformat": 4,
  "language_info": {
   "name": "python",
   "version": "3.6.9",
   "mimetype": "text/x-python",
   "codemirror_mode": {
    "name": "ipython",
    "version": 3
   },
   "pygments_lexer": "ipython3",
   "nbconvert_exporter": "python",
   "file_extension": ".py"
  },
  "kernelspec": {
   "name": "python3",
   "display_name": "Python 3.6.9 64-bit"
  },
  "interpreter": {
   "hash": "31f2aee4e71d21fbe5cf8b01ff0e069b9275f58929596ceb00d14d90e3e16cd6"
  }
 },
 "nbformat": 4,
 "nbformat_minor": 2
}