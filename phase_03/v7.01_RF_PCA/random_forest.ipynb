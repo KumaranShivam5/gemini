{
 "cells": [
  {
   "cell_type": "code",
   "execution_count": 1,
   "source": [
    "import tensorflow as tf \n",
    "from tensorflow import keras \n",
    "from tensorflow.keras import layers\n",
    "from tensorflow.keras.utils import to_categorical"
   ],
   "outputs": [],
   "metadata": {}
  },
  {
   "cell_type": "code",
   "execution_count": 2,
   "source": [
    "import numpy as np \n",
    "import pandas as pd \n",
    "from matplotlib import pyplot as plt \n",
    "np.random.seed(91828)\n"
   ],
   "outputs": [],
   "metadata": {}
  },
  {
   "cell_type": "code",
   "execution_count": 3,
   "source": [
    "def class_to_int(label , cl):\n",
    "    temp = []\n",
    "    for i in range(len(label)):\n",
    "        #print(label[i])\n",
    "        for j in range(len(cl)):\n",
    "            if(label[i]==cl[j]):\n",
    "                temp.append(j) \n",
    "    return temp\n",
    "classes = ['BH' ,'NS' ]\n",
    "ns_n = 0 \n",
    "bh_n = 0\n"
   ],
   "outputs": [],
   "metadata": {}
  },
  {
   "cell_type": "code",
   "execution_count": 4,
   "source": [
    "\n",
    "def get_xy(data):\n",
    "    y = data['class']\n",
    "    s = data['significance']\n",
    "    info = data[['src_n' , 'src_id']]\n",
    "    x = data.drop(columns=[ 'class' ,'src_n' ,'src_id' , 'significance'])\n",
    "    #display(x)\n",
    "    y_train_int = class_to_int(y, classes)\n",
    "    one_hot_y_train =  to_categorical(y_train_int)\n",
    "    global ns_n \n",
    "    global bh_n\n",
    "    ns_n = float(y.value_counts()['NS']) \n",
    "    bh_n =  float(y.value_counts()['BH'])    \n",
    "    print(ns_n , bh_n)\n",
    "    return x , one_hot_y_train"
   ],
   "outputs": [],
   "metadata": {}
  },
  {
   "cell_type": "code",
   "execution_count": 5,
   "source": [
    "def fit_model(model , x_train , one_hot_y_train , verbose=0 , validation=0.2):\n",
    "    global ns_n \n",
    "    global bh_n \n",
    "    class_weight = {0: (ns_n/bh_n),\n",
    "                    1: 1}\n",
    "    history = model.fit(x_train, one_hot_y_train, batch_size=64, epochs=120, validation_split=validation, class_weight=class_weight, verbose=verbose )\n",
    "    return history"
   ],
   "outputs": [],
   "metadata": {}
  },
  {
   "cell_type": "code",
   "execution_count": 6,
   "source": [
    "def res_score(model , x , y ):\n",
    "    y_prob = model.predict(x)\n",
    "    y_pred = np.zeros_like(y_prob)\n",
    "    y_pred[np.arange(len(y_prob)), y_prob.argmax(1)] = 1\n",
    "    cf = np.matrix(np.matmul(y.T , y_pred))\n",
    "    total = cf.sum()\n",
    "    row_sum = cf.sum(axis=0)\n",
    "    acc = np.trace(cf) / total \n",
    "    col_sum = cf.sum(axis=1) \n",
    "    #print(cf)\n",
    "    return cf , acc\n",
    "\n",
    "\n",
    "#_ , score = res_score(model , x , one_hot_y_train)\n",
    "#print(score)"
   ],
   "outputs": [],
   "metadata": {}
  },
  {
   "cell_type": "code",
   "execution_count": 7,
   "source": [
    "from tqdm import tqdm\n",
    "from sklearn.model_selection import train_test_split\n",
    "def mc_validation(model_func = '' , x = '' , split_data = '' , s=0.8 , model_name = '' , d_type = '' , impute_method = ''):\n",
    "    from sklearn.model_selection import KFold\n",
    "    kfold = KFold(8, True, 1)\n",
    "    #k-fold cross-validation\n",
    "    train_acc = []\n",
    "    test_acc = []\n",
    "    index = np.arange(0,len(x))\n",
    "    split_no = int(len(x)*s)\n",
    "    print('split_no' , split_no)\n",
    "    np.random.shuffle(index)\n",
    "    data = x.copy()\n",
    "    data = data.sample(frac=1)\n",
    "    x =  data.drop(columns=['class' , 'src_n' ,'src_id' ,'significance'])\n",
    "    y = data['class']\n",
    "    for i in tqdm(range(32)):\n",
    "        x_train , x_test , y_train , y_test = train_test_split(x,y , test_size=0.2 , stratify=y)\n",
    "        x_train.insert(0 , 'class' , y_train)\n",
    "        x_test.insert(0 , 'class' , y_test)\n",
    "        #x_train , x_test = split_data(data)\n",
    "        tf_data_train = tfdf.keras.pd_dataframe_to_tf_dataset(x_train,label=\"class\")\n",
    "        tf_data_test = tfdf.keras.pd_dataframe_to_tf_dataset(x_test,label=\"class\")\n",
    "        model = model_func()\n",
    "        #with sys_pipes():\n",
    "        model.fit(tf_data_train)\n",
    "        model.compile(metrics=['accuracy'])\n",
    "\n",
    "        evaluation = model.evaluate(tf_data_train, return_dict=True)\n",
    "        _ ,  train_acc_temp = evaluation.items()\n",
    "        train_acc_temp = train_acc_temp[1]\n",
    "        evaluation = model.evaluate(tf_data_test, return_dict=True)\n",
    "        _ ,  test_acc_temp = evaluation.items()\n",
    "        test_acc_temp = test_acc_temp[1]\n",
    "        #_,train_acc_temp = res_score(model , xtr , ytr)\n",
    "        #_,test_acc_temp = res_score(model , xtst , ytst)\n",
    "        train_acc.append(train_acc_temp)\n",
    "        test_acc.append(test_acc_temp)\n",
    "        #print('-----------------------------------')\n",
    "        #print('training_acc :' , train_acc_temp)\n",
    "        #print('test_acc :' , test_acc_temp)\n",
    "    acc_train =  pd.DataFrame()\n",
    "    acc_test = pd.DataFrame()\n",
    "\n",
    "    \n",
    "    acc_test.insert(0 , 'acc_type' , ['Test_acc']*len(train_acc))\n",
    "    acc_test.insert(1 , 'accuracy' , test_acc)\n",
    "    acc_test = acc_test.reset_index(drop=True)\n",
    "   \n",
    "    acc_train.insert(0 , 'acc_type' , ['Train_acc']*len(train_acc))\n",
    "    acc_train.insert(1 , 'accuracy' , train_acc)\n",
    "    acc_train = acc_train.reset_index(drop=True)\n",
    "\n",
    "    acc = pd.concat([acc_train , acc_test]).reset_index(drop=True)\n",
    "    acc.insert(0 , 'model' , [model_name]*len(acc))\n",
    "    acc.insert(1 , 'data_processing' , [d_type]*len(acc))\n",
    "    acc.insert(1 , 'impute_method' , [impute_method]*len(acc))\n",
    "    return acc\n"
   ],
   "outputs": [],
   "metadata": {}
  },
  {
   "cell_type": "code",
   "execution_count": 8,
   "source": [
    "def src_split(data_sent , s = (5 , 8) ):\n",
    "    data = data_sent.copy().reset_index(drop=True)\n",
    "    data_bh =  data[data['class']=='BH'].sample(frac=1)\n",
    "    data_ns =  data[data['class']=='NS'].sample(frac=1)\n",
    "    n_bh  , n_ns = s \n",
    "    \n",
    "    src_bh =  np.unique(data_bh['src_id'])\n",
    "    np.random.shuffle(src_bh)\n",
    "    src_ns = np.unique(data_ns['src_id'])\n",
    "    np.random.shuffle(src_ns)\n",
    "    s_bh = len(src_bh) - n_bh \n",
    "    s_ns = len(src_ns) - n_ns \n",
    "    print(s_bh , s_ns)\n",
    "    src_bh_train = src_bh[:s_bh]\n",
    "    src_bh_test = src_bh[s_bh:]\n",
    "    src_ns_train = src_ns[:s_ns]\n",
    "    src_ns_test = src_ns[s_ns:]\n",
    "    print(src_bh_test)\n",
    "    train_bh = data_bh[data_bh['src_id'].isin(src_bh_train)].reset_index(drop=True)\n",
    "    test_bh = data_bh[data_bh['src_id'].isin(src_bh_test)].reset_index(drop=True)\n",
    "\n",
    "    train_ns = data_ns[data_ns['src_id'].isin(src_ns_train)].reset_index(drop=True)\n",
    "    test_ns = data_ns[data_ns['src_id'].isin(src_ns_test)].reset_index(drop=True)\n",
    "\n",
    "    train = pd.concat([train_bh , train_ns]).reset_index(drop=True)\n",
    "    train = train.sample(frac=1).reset_index(drop=True)\n",
    "\n",
    "    test = pd.concat([test_bh , test_ns]).reset_index(drop=True)\n",
    "    test = test.sample(frac=1).reset_index(drop=True)\n",
    "    return train , test \n",
    "\n",
    "def obs_split(data_sent , s = 0.8):\n",
    "    data = data_sent.copy()\n",
    "    data = data.sample(frac=1)\n",
    "    split_no = int(len(data)*s)\n",
    "    train = data[:split_no]\n",
    "    test = data[split_no:]\n",
    "    return train, test"
   ],
   "outputs": [],
   "metadata": {}
  },
  {
   "cell_type": "code",
   "execution_count": 10,
   "source": [
    "data_norm = pd.read_csv('processed_data/train_norm' , index_col=0).reset_index(drop=True)\n",
    "data_std = pd.read_csv('processed_data/train_std' , index_col=0).reset_index(drop=True)\n",
    "data_og = pd.read_csv('processed_data/train_og' , index_col=0).reset_index(drop=True)\n",
    "data_norm.head(2)"
   ],
   "outputs": [
    {
     "output_type": "execute_result",
     "data": {
      "text/plain": [
       "  class                 src_n  src_id  significance  flux_aper_hilim_s  \\\n",
       "0    NS  XMMU J004245.2+41172  NS0044         49.26           0.440071   \n",
       "1    NS  GRS 1741.9-2853       NS0021        376.06           0.344546   \n",
       "\n",
       "   flux_aper_hilim_u  flux_aper_hilim_m  flux_aper_hilim_h  flux_aper_hilim_b  \\\n",
       "0           0.357367           0.418632           0.398875           0.439279   \n",
       "1           0.000000           0.305586           0.534511           0.477879   \n",
       "\n",
       "   flux_aper_lolim_s  ...  flux_brems  flux_brems_lolim  flux_brems_hilim  \\\n",
       "0           0.510417  ...         0.0               0.0               0.0   \n",
       "1           0.000000  ...         0.0               0.0               0.0   \n",
       "\n",
       "   brems_kt  brems_kt_hilim  brems_kt_lolim  brems_nh  brems_nh_hilim  \\\n",
       "0       0.0             0.0             0.0       0.0             0.0   \n",
       "1       0.0             0.0             0.0       0.0             0.0   \n",
       "\n",
       "   brems_nh_lolim  brems_stat  \n",
       "0             0.0         0.0  \n",
       "1             0.0         0.0  \n",
       "\n",
       "[2 rows x 96 columns]"
      ],
      "text/html": [
       "<div>\n",
       "<style scoped>\n",
       "    .dataframe tbody tr th:only-of-type {\n",
       "        vertical-align: middle;\n",
       "    }\n",
       "\n",
       "    .dataframe tbody tr th {\n",
       "        vertical-align: top;\n",
       "    }\n",
       "\n",
       "    .dataframe thead th {\n",
       "        text-align: right;\n",
       "    }\n",
       "</style>\n",
       "<table border=\"1\" class=\"dataframe\">\n",
       "  <thead>\n",
       "    <tr style=\"text-align: right;\">\n",
       "      <th></th>\n",
       "      <th>class</th>\n",
       "      <th>src_n</th>\n",
       "      <th>src_id</th>\n",
       "      <th>significance</th>\n",
       "      <th>flux_aper_hilim_s</th>\n",
       "      <th>flux_aper_hilim_u</th>\n",
       "      <th>flux_aper_hilim_m</th>\n",
       "      <th>flux_aper_hilim_h</th>\n",
       "      <th>flux_aper_hilim_b</th>\n",
       "      <th>flux_aper_lolim_s</th>\n",
       "      <th>...</th>\n",
       "      <th>flux_brems</th>\n",
       "      <th>flux_brems_lolim</th>\n",
       "      <th>flux_brems_hilim</th>\n",
       "      <th>brems_kt</th>\n",
       "      <th>brems_kt_hilim</th>\n",
       "      <th>brems_kt_lolim</th>\n",
       "      <th>brems_nh</th>\n",
       "      <th>brems_nh_hilim</th>\n",
       "      <th>brems_nh_lolim</th>\n",
       "      <th>brems_stat</th>\n",
       "    </tr>\n",
       "  </thead>\n",
       "  <tbody>\n",
       "    <tr>\n",
       "      <th>0</th>\n",
       "      <td>NS</td>\n",
       "      <td>XMMU J004245.2+41172</td>\n",
       "      <td>NS0044</td>\n",
       "      <td>49.26</td>\n",
       "      <td>0.440071</td>\n",
       "      <td>0.357367</td>\n",
       "      <td>0.418632</td>\n",
       "      <td>0.398875</td>\n",
       "      <td>0.439279</td>\n",
       "      <td>0.510417</td>\n",
       "      <td>...</td>\n",
       "      <td>0.0</td>\n",
       "      <td>0.0</td>\n",
       "      <td>0.0</td>\n",
       "      <td>0.0</td>\n",
       "      <td>0.0</td>\n",
       "      <td>0.0</td>\n",
       "      <td>0.0</td>\n",
       "      <td>0.0</td>\n",
       "      <td>0.0</td>\n",
       "      <td>0.0</td>\n",
       "    </tr>\n",
       "    <tr>\n",
       "      <th>1</th>\n",
       "      <td>NS</td>\n",
       "      <td>GRS 1741.9-2853</td>\n",
       "      <td>NS0021</td>\n",
       "      <td>376.06</td>\n",
       "      <td>0.344546</td>\n",
       "      <td>0.000000</td>\n",
       "      <td>0.305586</td>\n",
       "      <td>0.534511</td>\n",
       "      <td>0.477879</td>\n",
       "      <td>0.000000</td>\n",
       "      <td>...</td>\n",
       "      <td>0.0</td>\n",
       "      <td>0.0</td>\n",
       "      <td>0.0</td>\n",
       "      <td>0.0</td>\n",
       "      <td>0.0</td>\n",
       "      <td>0.0</td>\n",
       "      <td>0.0</td>\n",
       "      <td>0.0</td>\n",
       "      <td>0.0</td>\n",
       "      <td>0.0</td>\n",
       "    </tr>\n",
       "  </tbody>\n",
       "</table>\n",
       "<p>2 rows × 96 columns</p>\n",
       "</div>"
      ]
     },
     "metadata": {},
     "execution_count": 10
    }
   ],
   "metadata": {}
  },
  {
   "cell_type": "code",
   "execution_count": 10,
   "source": [
    "data_nan = pd.read_csv('processed_data/train_norm_no' , index_col=0).reset_index(drop=True)"
   ],
   "outputs": [],
   "metadata": {}
  },
  {
   "cell_type": "markdown",
   "source": [
    "# Keras Random Forest Classifier"
   ],
   "metadata": {}
  },
  {
   "cell_type": "code",
   "execution_count": 9,
   "source": [
    "import tensorflow_decision_forests as tfdf\n",
    "from wurlitzer import sys_pipes\n",
    "gen_model_rf =  tfdf.keras.RandomForestModel"
   ],
   "outputs": [],
   "metadata": {}
  },
  {
   "cell_type": "code",
   "execution_count": null,
   "source": [
    "acc_norm_rf = mc_validation(gen_model_rf , data_norm , obs_split ,model_name = 'RF' , d_type='Normalized')\n",
    "acc_std_rf = mc_validation(gen_model_rf , data_std , obs_split, model_name = 'RF' , d_type = 'Standardized')\n",
    "acc_og_rf = mc_validation(gen_model_rf , data_og  , obs_split ,  model_name = 'RF' , d_type = 'None')"
   ],
   "outputs": [],
   "metadata": {}
  },
  {
   "cell_type": "code",
   "execution_count": 13,
   "source": [
    "acc_data_rf = pd.concat([acc_norm_rf , acc_std_rf ,  acc_og_rf]).reset_index(drop=True)\n",
    "display(acc_data_rf)\n",
    "acc_data_rf.to_csv('result/acc_rf_all_zero')\n"
   ],
   "outputs": [
    {
     "output_type": "display_data",
     "data": {
      "text/plain": [
       "    model data_processing   acc_type  accuracy\n",
       "0      RF      Normalized  Train_acc  0.994565\n",
       "1      RF      Normalized  Train_acc  0.991848\n",
       "2      RF      Normalized  Train_acc  0.994565\n",
       "3      RF      Normalized  Train_acc  0.991848\n",
       "4      RF      Normalized  Train_acc  0.991848\n",
       "..    ...             ...        ...       ...\n",
       "187    RF            None   Test_acc  0.902174\n",
       "188    RF            None   Test_acc  0.923913\n",
       "189    RF            None   Test_acc  0.891304\n",
       "190    RF            None   Test_acc  0.869565\n",
       "191    RF            None   Test_acc  0.869565\n",
       "\n",
       "[192 rows x 4 columns]"
      ],
      "text/html": [
       "<div>\n",
       "<style scoped>\n",
       "    .dataframe tbody tr th:only-of-type {\n",
       "        vertical-align: middle;\n",
       "    }\n",
       "\n",
       "    .dataframe tbody tr th {\n",
       "        vertical-align: top;\n",
       "    }\n",
       "\n",
       "    .dataframe thead th {\n",
       "        text-align: right;\n",
       "    }\n",
       "</style>\n",
       "<table border=\"1\" class=\"dataframe\">\n",
       "  <thead>\n",
       "    <tr style=\"text-align: right;\">\n",
       "      <th></th>\n",
       "      <th>model</th>\n",
       "      <th>data_processing</th>\n",
       "      <th>acc_type</th>\n",
       "      <th>accuracy</th>\n",
       "    </tr>\n",
       "  </thead>\n",
       "  <tbody>\n",
       "    <tr>\n",
       "      <th>0</th>\n",
       "      <td>RF</td>\n",
       "      <td>Normalized</td>\n",
       "      <td>Train_acc</td>\n",
       "      <td>0.994565</td>\n",
       "    </tr>\n",
       "    <tr>\n",
       "      <th>1</th>\n",
       "      <td>RF</td>\n",
       "      <td>Normalized</td>\n",
       "      <td>Train_acc</td>\n",
       "      <td>0.991848</td>\n",
       "    </tr>\n",
       "    <tr>\n",
       "      <th>2</th>\n",
       "      <td>RF</td>\n",
       "      <td>Normalized</td>\n",
       "      <td>Train_acc</td>\n",
       "      <td>0.994565</td>\n",
       "    </tr>\n",
       "    <tr>\n",
       "      <th>3</th>\n",
       "      <td>RF</td>\n",
       "      <td>Normalized</td>\n",
       "      <td>Train_acc</td>\n",
       "      <td>0.991848</td>\n",
       "    </tr>\n",
       "    <tr>\n",
       "      <th>4</th>\n",
       "      <td>RF</td>\n",
       "      <td>Normalized</td>\n",
       "      <td>Train_acc</td>\n",
       "      <td>0.991848</td>\n",
       "    </tr>\n",
       "    <tr>\n",
       "      <th>...</th>\n",
       "      <td>...</td>\n",
       "      <td>...</td>\n",
       "      <td>...</td>\n",
       "      <td>...</td>\n",
       "    </tr>\n",
       "    <tr>\n",
       "      <th>187</th>\n",
       "      <td>RF</td>\n",
       "      <td>None</td>\n",
       "      <td>Test_acc</td>\n",
       "      <td>0.902174</td>\n",
       "    </tr>\n",
       "    <tr>\n",
       "      <th>188</th>\n",
       "      <td>RF</td>\n",
       "      <td>None</td>\n",
       "      <td>Test_acc</td>\n",
       "      <td>0.923913</td>\n",
       "    </tr>\n",
       "    <tr>\n",
       "      <th>189</th>\n",
       "      <td>RF</td>\n",
       "      <td>None</td>\n",
       "      <td>Test_acc</td>\n",
       "      <td>0.891304</td>\n",
       "    </tr>\n",
       "    <tr>\n",
       "      <th>190</th>\n",
       "      <td>RF</td>\n",
       "      <td>None</td>\n",
       "      <td>Test_acc</td>\n",
       "      <td>0.869565</td>\n",
       "    </tr>\n",
       "    <tr>\n",
       "      <th>191</th>\n",
       "      <td>RF</td>\n",
       "      <td>None</td>\n",
       "      <td>Test_acc</td>\n",
       "      <td>0.869565</td>\n",
       "    </tr>\n",
       "  </tbody>\n",
       "</table>\n",
       "<p>192 rows × 4 columns</p>\n",
       "</div>"
      ]
     },
     "metadata": {}
    }
   ],
   "metadata": {}
  },
  {
   "cell_type": "code",
   "execution_count": 15,
   "source": [
    "import seaborn as sns \n",
    "acc_prev =  pd.read_csv('result/acc_cnn_fc_all_zero').reset_index(drop=True)\n",
    "acc_prev_rf =  pd.read_csv('result/acc_rf_all_zero').reset_index(drop=True)\n",
    "acc_all = pd.concat([acc_prev ,  acc_prev_rf]).reset_index(drop=True)\n",
    "sns.set_style('whitegrid')\n",
    "sns.catplot(data = acc_all , y='accuracy' , x = 'data_processing' ,\n",
    "            hue= 'acc_type'  , kind='box' ,  col ='model' , \n",
    "            palette = 'crest' , height=6 , aspect=8/6\n",
    "            )\n",
    "plt.savefig('result/model_var_rf.jpg')\n",
    "plt.show()"
   ],
   "outputs": [
    {
     "output_type": "display_data",
     "data": {
      "text/plain": [
       "<Figure size 1810.12x432 with 3 Axes>"
      ],
      "image/svg+xml": "<?xml version=\"1.0\" encoding=\"utf-8\" standalone=\"no\"?>\n<!DOCTYPE svg PUBLIC \"-//W3C//DTD SVG 1.1//EN\"\n  \"http://www.w3.org/Graphics/SVG/1.1/DTD/svg11.dtd\">\n<!-- Created with matplotlib (https://matplotlib.org/) -->\n<svg height=\"423.126562pt\" version=\"1.1\" viewBox=\"0 0 1805.849967 423.126562\" width=\"1805.849967pt\" xmlns=\"http://www.w3.org/2000/svg\" xmlns:xlink=\"http://www.w3.org/1999/xlink\">\n <metadata>\n  <rdf:RDF xmlns:cc=\"http://creativecommons.org/ns#\" xmlns:dc=\"http://purl.org/dc/elements/1.1/\" xmlns:rdf=\"http://www.w3.org/1999/02/22-rdf-syntax-ns#\">\n   <cc:Work>\n    <dc:type rdf:resource=\"http://purl.org/dc/dcmitype/StillImage\"/>\n    <dc:date>2021-10-11T00:18:57.014204</dc:date>\n    <dc:format>image/svg+xml</dc:format>\n    <dc:creator>\n     <cc:Agent>\n      <dc:title>Matplotlib v3.3.4, https://matplotlib.org/</dc:title>\n     </cc:Agent>\n    </dc:creator>\n   </cc:Work>\n  </rdf:RDF>\n </metadata>\n <defs>\n  <style type=\"text/css\">*{stroke-linecap:butt;stroke-linejoin:round;}</style>\n </defs>\n <g id=\"figure_1\">\n  <g id=\"patch_1\">\n   <path d=\"M 0 423.126562 \nL 1805.849967 423.126562 \nL 1805.849967 0 \nL 0 0 \nz\n\" style=\"fill:#ffffff;\"/>\n  </g>\n  <g id=\"axes_1\">\n   <g id=\"patch_2\">\n    <path d=\"M 50.14375 385.292187 \nL 594.079801 385.292187 \nL 594.079801 20.798437 \nL 50.14375 20.798437 \nz\n\" style=\"fill:#ffffff;\"/>\n   </g>\n   <g id=\"matplotlib.axis_1\">\n    <g id=\"xtick_1\">\n     <g id=\"text_1\">\n      <!-- Normalized -->\n      <g style=\"fill:#262626;\" transform=\"translate(112.44429 399.890625)scale(0.1 -0.1)\">\n       <defs>\n        <path d=\"M 9.8125 72.90625 \nL 23.09375 72.90625 \nL 55.421875 11.921875 \nL 55.421875 72.90625 \nL 64.984375 72.90625 \nL 64.984375 0 \nL 51.703125 0 \nL 19.390625 60.984375 \nL 19.390625 0 \nL 9.8125 0 \nz\n\" id=\"DejaVuSans-78\"/>\n        <path d=\"M 30.609375 48.390625 \nQ 23.390625 48.390625 19.1875 42.75 \nQ 14.984375 37.109375 14.984375 27.296875 \nQ 14.984375 17.484375 19.15625 11.84375 \nQ 23.34375 6.203125 30.609375 6.203125 \nQ 37.796875 6.203125 41.984375 11.859375 \nQ 46.1875 17.53125 46.1875 27.296875 \nQ 46.1875 37.015625 41.984375 42.703125 \nQ 37.796875 48.390625 30.609375 48.390625 \nz\nM 30.609375 56 \nQ 42.328125 56 49.015625 48.375 \nQ 55.71875 40.765625 55.71875 27.296875 \nQ 55.71875 13.875 49.015625 6.21875 \nQ 42.328125 -1.421875 30.609375 -1.421875 \nQ 18.84375 -1.421875 12.171875 6.21875 \nQ 5.515625 13.875 5.515625 27.296875 \nQ 5.515625 40.765625 12.171875 48.375 \nQ 18.84375 56 30.609375 56 \nz\n\" id=\"DejaVuSans-111\"/>\n        <path d=\"M 41.109375 46.296875 \nQ 39.59375 47.171875 37.8125 47.578125 \nQ 36.03125 48 33.890625 48 \nQ 26.265625 48 22.1875 43.046875 \nQ 18.109375 38.09375 18.109375 28.8125 \nL 18.109375 0 \nL 9.078125 0 \nL 9.078125 54.6875 \nL 18.109375 54.6875 \nL 18.109375 46.1875 \nQ 20.953125 51.171875 25.484375 53.578125 \nQ 30.03125 56 36.53125 56 \nQ 37.453125 56 38.578125 55.875 \nQ 39.703125 55.765625 41.0625 55.515625 \nz\n\" id=\"DejaVuSans-114\"/>\n        <path d=\"M 52 44.1875 \nQ 55.375 50.25 60.0625 53.125 \nQ 64.75 56 71.09375 56 \nQ 79.640625 56 84.28125 50.015625 \nQ 88.921875 44.046875 88.921875 33.015625 \nL 88.921875 0 \nL 79.890625 0 \nL 79.890625 32.71875 \nQ 79.890625 40.578125 77.09375 44.375 \nQ 74.3125 48.1875 68.609375 48.1875 \nQ 61.625 48.1875 57.5625 43.546875 \nQ 53.515625 38.921875 53.515625 30.90625 \nL 53.515625 0 \nL 44.484375 0 \nL 44.484375 32.71875 \nQ 44.484375 40.625 41.703125 44.40625 \nQ 38.921875 48.1875 33.109375 48.1875 \nQ 26.21875 48.1875 22.15625 43.53125 \nQ 18.109375 38.875 18.109375 30.90625 \nL 18.109375 0 \nL 9.078125 0 \nL 9.078125 54.6875 \nL 18.109375 54.6875 \nL 18.109375 46.1875 \nQ 21.1875 51.21875 25.484375 53.609375 \nQ 29.78125 56 35.6875 56 \nQ 41.65625 56 45.828125 52.96875 \nQ 50 49.953125 52 44.1875 \nz\n\" id=\"DejaVuSans-109\"/>\n        <path d=\"M 34.28125 27.484375 \nQ 23.390625 27.484375 19.1875 25 \nQ 14.984375 22.515625 14.984375 16.5 \nQ 14.984375 11.71875 18.140625 8.90625 \nQ 21.296875 6.109375 26.703125 6.109375 \nQ 34.1875 6.109375 38.703125 11.40625 \nQ 43.21875 16.703125 43.21875 25.484375 \nL 43.21875 27.484375 \nz\nM 52.203125 31.203125 \nL 52.203125 0 \nL 43.21875 0 \nL 43.21875 8.296875 \nQ 40.140625 3.328125 35.546875 0.953125 \nQ 30.953125 -1.421875 24.3125 -1.421875 \nQ 15.921875 -1.421875 10.953125 3.296875 \nQ 6 8.015625 6 15.921875 \nQ 6 25.140625 12.171875 29.828125 \nQ 18.359375 34.515625 30.609375 34.515625 \nL 43.21875 34.515625 \nL 43.21875 35.40625 \nQ 43.21875 41.609375 39.140625 45 \nQ 35.0625 48.390625 27.6875 48.390625 \nQ 23 48.390625 18.546875 47.265625 \nQ 14.109375 46.140625 10.015625 43.890625 \nL 10.015625 52.203125 \nQ 14.9375 54.109375 19.578125 55.046875 \nQ 24.21875 56 28.609375 56 \nQ 40.484375 56 46.34375 49.84375 \nQ 52.203125 43.703125 52.203125 31.203125 \nz\n\" id=\"DejaVuSans-97\"/>\n        <path d=\"M 9.421875 75.984375 \nL 18.40625 75.984375 \nL 18.40625 0 \nL 9.421875 0 \nz\n\" id=\"DejaVuSans-108\"/>\n        <path d=\"M 9.421875 54.6875 \nL 18.40625 54.6875 \nL 18.40625 0 \nL 9.421875 0 \nz\nM 9.421875 75.984375 \nL 18.40625 75.984375 \nL 18.40625 64.59375 \nL 9.421875 64.59375 \nz\n\" id=\"DejaVuSans-105\"/>\n        <path d=\"M 5.515625 54.6875 \nL 48.1875 54.6875 \nL 48.1875 46.484375 \nL 14.40625 7.171875 \nL 48.1875 7.171875 \nL 48.1875 0 \nL 4.296875 0 \nL 4.296875 8.203125 \nL 38.09375 47.515625 \nL 5.515625 47.515625 \nz\n\" id=\"DejaVuSans-122\"/>\n        <path d=\"M 56.203125 29.59375 \nL 56.203125 25.203125 \nL 14.890625 25.203125 \nQ 15.484375 15.921875 20.484375 11.0625 \nQ 25.484375 6.203125 34.421875 6.203125 \nQ 39.59375 6.203125 44.453125 7.46875 \nQ 49.3125 8.734375 54.109375 11.28125 \nL 54.109375 2.78125 \nQ 49.265625 0.734375 44.1875 -0.34375 \nQ 39.109375 -1.421875 33.890625 -1.421875 \nQ 20.796875 -1.421875 13.15625 6.1875 \nQ 5.515625 13.8125 5.515625 26.8125 \nQ 5.515625 40.234375 12.765625 48.109375 \nQ 20.015625 56 32.328125 56 \nQ 43.359375 56 49.78125 48.890625 \nQ 56.203125 41.796875 56.203125 29.59375 \nz\nM 47.21875 32.234375 \nQ 47.125 39.59375 43.09375 43.984375 \nQ 39.0625 48.390625 32.421875 48.390625 \nQ 24.90625 48.390625 20.390625 44.140625 \nQ 15.875 39.890625 15.1875 32.171875 \nz\n\" id=\"DejaVuSans-101\"/>\n        <path d=\"M 45.40625 46.390625 \nL 45.40625 75.984375 \nL 54.390625 75.984375 \nL 54.390625 0 \nL 45.40625 0 \nL 45.40625 8.203125 \nQ 42.578125 3.328125 38.25 0.953125 \nQ 33.9375 -1.421875 27.875 -1.421875 \nQ 17.96875 -1.421875 11.734375 6.484375 \nQ 5.515625 14.40625 5.515625 27.296875 \nQ 5.515625 40.1875 11.734375 48.09375 \nQ 17.96875 56 27.875 56 \nQ 33.9375 56 38.25 53.625 \nQ 42.578125 51.265625 45.40625 46.390625 \nz\nM 14.796875 27.296875 \nQ 14.796875 17.390625 18.875 11.75 \nQ 22.953125 6.109375 30.078125 6.109375 \nQ 37.203125 6.109375 41.296875 11.75 \nQ 45.40625 17.390625 45.40625 27.296875 \nQ 45.40625 37.203125 41.296875 42.84375 \nQ 37.203125 48.484375 30.078125 48.484375 \nQ 22.953125 48.484375 18.875 42.84375 \nQ 14.796875 37.203125 14.796875 27.296875 \nz\n\" id=\"DejaVuSans-100\"/>\n       </defs>\n       <use xlink:href=\"#DejaVuSans-78\"/>\n       <use x=\"74.804688\" xlink:href=\"#DejaVuSans-111\"/>\n       <use x=\"135.986328\" xlink:href=\"#DejaVuSans-114\"/>\n       <use x=\"175.349609\" xlink:href=\"#DejaVuSans-109\"/>\n       <use x=\"272.761719\" xlink:href=\"#DejaVuSans-97\"/>\n       <use x=\"334.041016\" xlink:href=\"#DejaVuSans-108\"/>\n       <use x=\"361.824219\" xlink:href=\"#DejaVuSans-105\"/>\n       <use x=\"389.607422\" xlink:href=\"#DejaVuSans-122\"/>\n       <use x=\"442.097656\" xlink:href=\"#DejaVuSans-101\"/>\n       <use x=\"503.621094\" xlink:href=\"#DejaVuSans-100\"/>\n      </g>\n     </g>\n    </g>\n    <g id=\"xtick_2\">\n     <g id=\"text_2\">\n      <!-- Standardized -->\n      <g style=\"fill:#262626;\" transform=\"translate(289.100057 399.890625)scale(0.1 -0.1)\">\n       <defs>\n        <path d=\"M 53.515625 70.515625 \nL 53.515625 60.890625 \nQ 47.90625 63.578125 42.921875 64.890625 \nQ 37.9375 66.21875 33.296875 66.21875 \nQ 25.25 66.21875 20.875 63.09375 \nQ 16.5 59.96875 16.5 54.203125 \nQ 16.5 49.359375 19.40625 46.890625 \nQ 22.3125 44.4375 30.421875 42.921875 \nL 36.375 41.703125 \nQ 47.40625 39.59375 52.65625 34.296875 \nQ 57.90625 29 57.90625 20.125 \nQ 57.90625 9.515625 50.796875 4.046875 \nQ 43.703125 -1.421875 29.984375 -1.421875 \nQ 24.8125 -1.421875 18.96875 -0.25 \nQ 13.140625 0.921875 6.890625 3.21875 \nL 6.890625 13.375 \nQ 12.890625 10.015625 18.65625 8.296875 \nQ 24.421875 6.59375 29.984375 6.59375 \nQ 38.421875 6.59375 43.015625 9.90625 \nQ 47.609375 13.234375 47.609375 19.390625 \nQ 47.609375 24.75 44.3125 27.78125 \nQ 41.015625 30.8125 33.5 32.328125 \nL 27.484375 33.5 \nQ 16.453125 35.6875 11.515625 40.375 \nQ 6.59375 45.0625 6.59375 53.421875 \nQ 6.59375 63.09375 13.40625 68.65625 \nQ 20.21875 74.21875 32.171875 74.21875 \nQ 37.3125 74.21875 42.625 73.28125 \nQ 47.953125 72.359375 53.515625 70.515625 \nz\n\" id=\"DejaVuSans-83\"/>\n        <path d=\"M 18.3125 70.21875 \nL 18.3125 54.6875 \nL 36.8125 54.6875 \nL 36.8125 47.703125 \nL 18.3125 47.703125 \nL 18.3125 18.015625 \nQ 18.3125 11.328125 20.140625 9.421875 \nQ 21.96875 7.515625 27.59375 7.515625 \nL 36.8125 7.515625 \nL 36.8125 0 \nL 27.59375 0 \nQ 17.1875 0 13.234375 3.875 \nQ 9.28125 7.765625 9.28125 18.015625 \nL 9.28125 47.703125 \nL 2.6875 47.703125 \nL 2.6875 54.6875 \nL 9.28125 54.6875 \nL 9.28125 70.21875 \nz\n\" id=\"DejaVuSans-116\"/>\n        <path d=\"M 54.890625 33.015625 \nL 54.890625 0 \nL 45.90625 0 \nL 45.90625 32.71875 \nQ 45.90625 40.484375 42.875 44.328125 \nQ 39.84375 48.1875 33.796875 48.1875 \nQ 26.515625 48.1875 22.3125 43.546875 \nQ 18.109375 38.921875 18.109375 30.90625 \nL 18.109375 0 \nL 9.078125 0 \nL 9.078125 54.6875 \nL 18.109375 54.6875 \nL 18.109375 46.1875 \nQ 21.34375 51.125 25.703125 53.5625 \nQ 30.078125 56 35.796875 56 \nQ 45.21875 56 50.046875 50.171875 \nQ 54.890625 44.34375 54.890625 33.015625 \nz\n\" id=\"DejaVuSans-110\"/>\n       </defs>\n       <use xlink:href=\"#DejaVuSans-83\"/>\n       <use x=\"63.476562\" xlink:href=\"#DejaVuSans-116\"/>\n       <use x=\"102.685547\" xlink:href=\"#DejaVuSans-97\"/>\n       <use x=\"163.964844\" xlink:href=\"#DejaVuSans-110\"/>\n       <use x=\"227.34375\" xlink:href=\"#DejaVuSans-100\"/>\n       <use x=\"290.820312\" xlink:href=\"#DejaVuSans-97\"/>\n       <use x=\"352.099609\" xlink:href=\"#DejaVuSans-114\"/>\n       <use x=\"391.462891\" xlink:href=\"#DejaVuSans-100\"/>\n       <use x=\"454.939453\" xlink:href=\"#DejaVuSans-105\"/>\n       <use x=\"482.722656\" xlink:href=\"#DejaVuSans-122\"/>\n       <use x=\"535.212891\" xlink:href=\"#DejaVuSans-101\"/>\n       <use x=\"596.736328\" xlink:href=\"#DejaVuSans-100\"/>\n      </g>\n     </g>\n    </g>\n    <g id=\"xtick_3\">\n     <g id=\"text_3\">\n      <!-- None -->\n      <g style=\"fill:#262626;\" transform=\"translate(490.37848 399.890625)scale(0.1 -0.1)\">\n       <use xlink:href=\"#DejaVuSans-78\"/>\n       <use x=\"74.804688\" xlink:href=\"#DejaVuSans-111\"/>\n       <use x=\"135.986328\" xlink:href=\"#DejaVuSans-110\"/>\n       <use x=\"199.365234\" xlink:href=\"#DejaVuSans-101\"/>\n      </g>\n     </g>\n    </g>\n    <g id=\"text_4\">\n     <!-- data_processing -->\n     <g style=\"fill:#262626;\" transform=\"translate(281.405526 413.56875)scale(0.1 -0.1)\">\n      <defs>\n       <path d=\"M 50.984375 -16.609375 \nL 50.984375 -23.578125 \nL -0.984375 -23.578125 \nL -0.984375 -16.609375 \nz\n\" id=\"DejaVuSans-95\"/>\n       <path d=\"M 18.109375 8.203125 \nL 18.109375 -20.796875 \nL 9.078125 -20.796875 \nL 9.078125 54.6875 \nL 18.109375 54.6875 \nL 18.109375 46.390625 \nQ 20.953125 51.265625 25.265625 53.625 \nQ 29.59375 56 35.59375 56 \nQ 45.5625 56 51.78125 48.09375 \nQ 58.015625 40.1875 58.015625 27.296875 \nQ 58.015625 14.40625 51.78125 6.484375 \nQ 45.5625 -1.421875 35.59375 -1.421875 \nQ 29.59375 -1.421875 25.265625 0.953125 \nQ 20.953125 3.328125 18.109375 8.203125 \nz\nM 48.6875 27.296875 \nQ 48.6875 37.203125 44.609375 42.84375 \nQ 40.53125 48.484375 33.40625 48.484375 \nQ 26.265625 48.484375 22.1875 42.84375 \nQ 18.109375 37.203125 18.109375 27.296875 \nQ 18.109375 17.390625 22.1875 11.75 \nQ 26.265625 6.109375 33.40625 6.109375 \nQ 40.53125 6.109375 44.609375 11.75 \nQ 48.6875 17.390625 48.6875 27.296875 \nz\n\" id=\"DejaVuSans-112\"/>\n       <path d=\"M 48.78125 52.59375 \nL 48.78125 44.1875 \nQ 44.96875 46.296875 41.140625 47.34375 \nQ 37.3125 48.390625 33.40625 48.390625 \nQ 24.65625 48.390625 19.8125 42.84375 \nQ 14.984375 37.3125 14.984375 27.296875 \nQ 14.984375 17.28125 19.8125 11.734375 \nQ 24.65625 6.203125 33.40625 6.203125 \nQ 37.3125 6.203125 41.140625 7.25 \nQ 44.96875 8.296875 48.78125 10.40625 \nL 48.78125 2.09375 \nQ 45.015625 0.34375 40.984375 -0.53125 \nQ 36.96875 -1.421875 32.421875 -1.421875 \nQ 20.0625 -1.421875 12.78125 6.34375 \nQ 5.515625 14.109375 5.515625 27.296875 \nQ 5.515625 40.671875 12.859375 48.328125 \nQ 20.21875 56 33.015625 56 \nQ 37.15625 56 41.109375 55.140625 \nQ 45.0625 54.296875 48.78125 52.59375 \nz\n\" id=\"DejaVuSans-99\"/>\n       <path d=\"M 44.28125 53.078125 \nL 44.28125 44.578125 \nQ 40.484375 46.53125 36.375 47.5 \nQ 32.28125 48.484375 27.875 48.484375 \nQ 21.1875 48.484375 17.84375 46.4375 \nQ 14.5 44.390625 14.5 40.28125 \nQ 14.5 37.15625 16.890625 35.375 \nQ 19.28125 33.59375 26.515625 31.984375 \nL 29.59375 31.296875 \nQ 39.15625 29.25 43.1875 25.515625 \nQ 47.21875 21.78125 47.21875 15.09375 \nQ 47.21875 7.46875 41.1875 3.015625 \nQ 35.15625 -1.421875 24.609375 -1.421875 \nQ 20.21875 -1.421875 15.453125 -0.5625 \nQ 10.6875 0.296875 5.421875 2 \nL 5.421875 11.28125 \nQ 10.40625 8.6875 15.234375 7.390625 \nQ 20.0625 6.109375 24.8125 6.109375 \nQ 31.15625 6.109375 34.5625 8.28125 \nQ 37.984375 10.453125 37.984375 14.40625 \nQ 37.984375 18.0625 35.515625 20.015625 \nQ 33.0625 21.96875 24.703125 23.78125 \nL 21.578125 24.515625 \nQ 13.234375 26.265625 9.515625 29.90625 \nQ 5.8125 33.546875 5.8125 39.890625 \nQ 5.8125 47.609375 11.28125 51.796875 \nQ 16.75 56 26.8125 56 \nQ 31.78125 56 36.171875 55.265625 \nQ 40.578125 54.546875 44.28125 53.078125 \nz\n\" id=\"DejaVuSans-115\"/>\n       <path d=\"M 45.40625 27.984375 \nQ 45.40625 37.75 41.375 43.109375 \nQ 37.359375 48.484375 30.078125 48.484375 \nQ 22.859375 48.484375 18.828125 43.109375 \nQ 14.796875 37.75 14.796875 27.984375 \nQ 14.796875 18.265625 18.828125 12.890625 \nQ 22.859375 7.515625 30.078125 7.515625 \nQ 37.359375 7.515625 41.375 12.890625 \nQ 45.40625 18.265625 45.40625 27.984375 \nz\nM 54.390625 6.78125 \nQ 54.390625 -7.171875 48.1875 -13.984375 \nQ 42 -20.796875 29.203125 -20.796875 \nQ 24.46875 -20.796875 20.265625 -20.09375 \nQ 16.0625 -19.390625 12.109375 -17.921875 \nL 12.109375 -9.1875 \nQ 16.0625 -11.328125 19.921875 -12.34375 \nQ 23.78125 -13.375 27.78125 -13.375 \nQ 36.625 -13.375 41.015625 -8.765625 \nQ 45.40625 -4.15625 45.40625 5.171875 \nL 45.40625 9.625 \nQ 42.625 4.78125 38.28125 2.390625 \nQ 33.9375 0 27.875 0 \nQ 17.828125 0 11.671875 7.65625 \nQ 5.515625 15.328125 5.515625 27.984375 \nQ 5.515625 40.671875 11.671875 48.328125 \nQ 17.828125 56 27.875 56 \nQ 33.9375 56 38.28125 53.609375 \nQ 42.625 51.21875 45.40625 46.390625 \nL 45.40625 54.6875 \nL 54.390625 54.6875 \nz\n\" id=\"DejaVuSans-103\"/>\n      </defs>\n      <use xlink:href=\"#DejaVuSans-100\"/>\n      <use x=\"63.476562\" xlink:href=\"#DejaVuSans-97\"/>\n      <use x=\"124.755859\" xlink:href=\"#DejaVuSans-116\"/>\n      <use x=\"163.964844\" xlink:href=\"#DejaVuSans-97\"/>\n      <use x=\"225.244141\" xlink:href=\"#DejaVuSans-95\"/>\n      <use x=\"275.244141\" xlink:href=\"#DejaVuSans-112\"/>\n      <use x=\"338.720703\" xlink:href=\"#DejaVuSans-114\"/>\n      <use x=\"377.583984\" xlink:href=\"#DejaVuSans-111\"/>\n      <use x=\"438.765625\" xlink:href=\"#DejaVuSans-99\"/>\n      <use x=\"493.746094\" xlink:href=\"#DejaVuSans-101\"/>\n      <use x=\"555.269531\" xlink:href=\"#DejaVuSans-115\"/>\n      <use x=\"607.369141\" xlink:href=\"#DejaVuSans-115\"/>\n      <use x=\"659.46875\" xlink:href=\"#DejaVuSans-105\"/>\n      <use x=\"687.251953\" xlink:href=\"#DejaVuSans-110\"/>\n      <use x=\"750.630859\" xlink:href=\"#DejaVuSans-103\"/>\n     </g>\n    </g>\n   </g>\n   <g id=\"matplotlib.axis_2\">\n    <g id=\"ytick_1\">\n     <g id=\"line2d_1\">\n      <path clip-path=\"url(#pcc1cc20a31)\" d=\"M 50.14375 376.087777 \nL 594.079801 376.087777 \n\" style=\"fill:none;stroke:#cccccc;stroke-linecap:round;stroke-width:0.8;\"/>\n     </g>\n     <g id=\"text_5\">\n      <!-- 0.60 -->\n      <g style=\"fill:#262626;\" transform=\"translate(20.878125 379.886996)scale(0.1 -0.1)\">\n       <defs>\n        <path d=\"M 31.78125 66.40625 \nQ 24.171875 66.40625 20.328125 58.90625 \nQ 16.5 51.421875 16.5 36.375 \nQ 16.5 21.390625 20.328125 13.890625 \nQ 24.171875 6.390625 31.78125 6.390625 \nQ 39.453125 6.390625 43.28125 13.890625 \nQ 47.125 21.390625 47.125 36.375 \nQ 47.125 51.421875 43.28125 58.90625 \nQ 39.453125 66.40625 31.78125 66.40625 \nz\nM 31.78125 74.21875 \nQ 44.046875 74.21875 50.515625 64.515625 \nQ 56.984375 54.828125 56.984375 36.375 \nQ 56.984375 17.96875 50.515625 8.265625 \nQ 44.046875 -1.421875 31.78125 -1.421875 \nQ 19.53125 -1.421875 13.0625 8.265625 \nQ 6.59375 17.96875 6.59375 36.375 \nQ 6.59375 54.828125 13.0625 64.515625 \nQ 19.53125 74.21875 31.78125 74.21875 \nz\n\" id=\"DejaVuSans-48\"/>\n        <path d=\"M 10.6875 12.40625 \nL 21 12.40625 \nL 21 0 \nL 10.6875 0 \nz\n\" id=\"DejaVuSans-46\"/>\n        <path d=\"M 33.015625 40.375 \nQ 26.375 40.375 22.484375 35.828125 \nQ 18.609375 31.296875 18.609375 23.390625 \nQ 18.609375 15.53125 22.484375 10.953125 \nQ 26.375 6.390625 33.015625 6.390625 \nQ 39.65625 6.390625 43.53125 10.953125 \nQ 47.40625 15.53125 47.40625 23.390625 \nQ 47.40625 31.296875 43.53125 35.828125 \nQ 39.65625 40.375 33.015625 40.375 \nz\nM 52.59375 71.296875 \nL 52.59375 62.3125 \nQ 48.875 64.0625 45.09375 64.984375 \nQ 41.3125 65.921875 37.59375 65.921875 \nQ 27.828125 65.921875 22.671875 59.328125 \nQ 17.53125 52.734375 16.796875 39.40625 \nQ 19.671875 43.65625 24.015625 45.921875 \nQ 28.375 48.1875 33.59375 48.1875 \nQ 44.578125 48.1875 50.953125 41.515625 \nQ 57.328125 34.859375 57.328125 23.390625 \nQ 57.328125 12.15625 50.6875 5.359375 \nQ 44.046875 -1.421875 33.015625 -1.421875 \nQ 20.359375 -1.421875 13.671875 8.265625 \nQ 6.984375 17.96875 6.984375 36.375 \nQ 6.984375 53.65625 15.1875 63.9375 \nQ 23.390625 74.21875 37.203125 74.21875 \nQ 40.921875 74.21875 44.703125 73.484375 \nQ 48.484375 72.75 52.59375 71.296875 \nz\n\" id=\"DejaVuSans-54\"/>\n       </defs>\n       <use xlink:href=\"#DejaVuSans-48\"/>\n       <use x=\"63.623047\" xlink:href=\"#DejaVuSans-46\"/>\n       <use x=\"95.410156\" xlink:href=\"#DejaVuSans-54\"/>\n       <use x=\"159.033203\" xlink:href=\"#DejaVuSans-48\"/>\n      </g>\n     </g>\n    </g>\n    <g id=\"ytick_2\">\n     <g id=\"line2d_2\">\n      <path clip-path=\"url(#pcc1cc20a31)\" d=\"M 50.14375 333.747597 \nL 594.079801 333.747597 \n\" style=\"fill:none;stroke:#cccccc;stroke-linecap:round;stroke-width:0.8;\"/>\n     </g>\n     <g id=\"text_6\">\n      <!-- 0.65 -->\n      <g style=\"fill:#262626;\" transform=\"translate(20.878125 337.546816)scale(0.1 -0.1)\">\n       <defs>\n        <path d=\"M 10.796875 72.90625 \nL 49.515625 72.90625 \nL 49.515625 64.59375 \nL 19.828125 64.59375 \nL 19.828125 46.734375 \nQ 21.96875 47.46875 24.109375 47.828125 \nQ 26.265625 48.1875 28.421875 48.1875 \nQ 40.625 48.1875 47.75 41.5 \nQ 54.890625 34.8125 54.890625 23.390625 \nQ 54.890625 11.625 47.5625 5.09375 \nQ 40.234375 -1.421875 26.90625 -1.421875 \nQ 22.3125 -1.421875 17.546875 -0.640625 \nQ 12.796875 0.140625 7.71875 1.703125 \nL 7.71875 11.625 \nQ 12.109375 9.234375 16.796875 8.0625 \nQ 21.484375 6.890625 26.703125 6.890625 \nQ 35.15625 6.890625 40.078125 11.328125 \nQ 45.015625 15.765625 45.015625 23.390625 \nQ 45.015625 31 40.078125 35.4375 \nQ 35.15625 39.890625 26.703125 39.890625 \nQ 22.75 39.890625 18.8125 39.015625 \nQ 14.890625 38.140625 10.796875 36.28125 \nz\n\" id=\"DejaVuSans-53\"/>\n       </defs>\n       <use xlink:href=\"#DejaVuSans-48\"/>\n       <use x=\"63.623047\" xlink:href=\"#DejaVuSans-46\"/>\n       <use x=\"95.410156\" xlink:href=\"#DejaVuSans-54\"/>\n       <use x=\"159.033203\" xlink:href=\"#DejaVuSans-53\"/>\n      </g>\n     </g>\n    </g>\n    <g id=\"ytick_3\">\n     <g id=\"line2d_3\">\n      <path clip-path=\"url(#pcc1cc20a31)\" d=\"M 50.14375 291.407417 \nL 594.079801 291.407417 \n\" style=\"fill:none;stroke:#cccccc;stroke-linecap:round;stroke-width:0.8;\"/>\n     </g>\n     <g id=\"text_7\">\n      <!-- 0.70 -->\n      <g style=\"fill:#262626;\" transform=\"translate(20.878125 295.206636)scale(0.1 -0.1)\">\n       <defs>\n        <path d=\"M 8.203125 72.90625 \nL 55.078125 72.90625 \nL 55.078125 68.703125 \nL 28.609375 0 \nL 18.3125 0 \nL 43.21875 64.59375 \nL 8.203125 64.59375 \nz\n\" id=\"DejaVuSans-55\"/>\n       </defs>\n       <use xlink:href=\"#DejaVuSans-48\"/>\n       <use x=\"63.623047\" xlink:href=\"#DejaVuSans-46\"/>\n       <use x=\"95.410156\" xlink:href=\"#DejaVuSans-55\"/>\n       <use x=\"159.033203\" xlink:href=\"#DejaVuSans-48\"/>\n      </g>\n     </g>\n    </g>\n    <g id=\"ytick_4\">\n     <g id=\"line2d_4\">\n      <path clip-path=\"url(#pcc1cc20a31)\" d=\"M 50.14375 249.067237 \nL 594.079801 249.067237 \n\" style=\"fill:none;stroke:#cccccc;stroke-linecap:round;stroke-width:0.8;\"/>\n     </g>\n     <g id=\"text_8\">\n      <!-- 0.75 -->\n      <g style=\"fill:#262626;\" transform=\"translate(20.878125 252.866455)scale(0.1 -0.1)\">\n       <use xlink:href=\"#DejaVuSans-48\"/>\n       <use x=\"63.623047\" xlink:href=\"#DejaVuSans-46\"/>\n       <use x=\"95.410156\" xlink:href=\"#DejaVuSans-55\"/>\n       <use x=\"159.033203\" xlink:href=\"#DejaVuSans-53\"/>\n      </g>\n     </g>\n    </g>\n    <g id=\"ytick_5\">\n     <g id=\"line2d_5\">\n      <path clip-path=\"url(#pcc1cc20a31)\" d=\"M 50.14375 206.727056 \nL 594.079801 206.727056 \n\" style=\"fill:none;stroke:#cccccc;stroke-linecap:round;stroke-width:0.8;\"/>\n     </g>\n     <g id=\"text_9\">\n      <!-- 0.80 -->\n      <g style=\"fill:#262626;\" transform=\"translate(20.878125 210.526275)scale(0.1 -0.1)\">\n       <defs>\n        <path d=\"M 31.78125 34.625 \nQ 24.75 34.625 20.71875 30.859375 \nQ 16.703125 27.09375 16.703125 20.515625 \nQ 16.703125 13.921875 20.71875 10.15625 \nQ 24.75 6.390625 31.78125 6.390625 \nQ 38.8125 6.390625 42.859375 10.171875 \nQ 46.921875 13.96875 46.921875 20.515625 \nQ 46.921875 27.09375 42.890625 30.859375 \nQ 38.875 34.625 31.78125 34.625 \nz\nM 21.921875 38.8125 \nQ 15.578125 40.375 12.03125 44.71875 \nQ 8.5 49.078125 8.5 55.328125 \nQ 8.5 64.0625 14.71875 69.140625 \nQ 20.953125 74.21875 31.78125 74.21875 \nQ 42.671875 74.21875 48.875 69.140625 \nQ 55.078125 64.0625 55.078125 55.328125 \nQ 55.078125 49.078125 51.53125 44.71875 \nQ 48 40.375 41.703125 38.8125 \nQ 48.828125 37.15625 52.796875 32.3125 \nQ 56.78125 27.484375 56.78125 20.515625 \nQ 56.78125 9.90625 50.3125 4.234375 \nQ 43.84375 -1.421875 31.78125 -1.421875 \nQ 19.734375 -1.421875 13.25 4.234375 \nQ 6.78125 9.90625 6.78125 20.515625 \nQ 6.78125 27.484375 10.78125 32.3125 \nQ 14.796875 37.15625 21.921875 38.8125 \nz\nM 18.3125 54.390625 \nQ 18.3125 48.734375 21.84375 45.5625 \nQ 25.390625 42.390625 31.78125 42.390625 \nQ 38.140625 42.390625 41.71875 45.5625 \nQ 45.3125 48.734375 45.3125 54.390625 \nQ 45.3125 60.0625 41.71875 63.234375 \nQ 38.140625 66.40625 31.78125 66.40625 \nQ 25.390625 66.40625 21.84375 63.234375 \nQ 18.3125 60.0625 18.3125 54.390625 \nz\n\" id=\"DejaVuSans-56\"/>\n       </defs>\n       <use xlink:href=\"#DejaVuSans-48\"/>\n       <use x=\"63.623047\" xlink:href=\"#DejaVuSans-46\"/>\n       <use x=\"95.410156\" xlink:href=\"#DejaVuSans-56\"/>\n       <use x=\"159.033203\" xlink:href=\"#DejaVuSans-48\"/>\n      </g>\n     </g>\n    </g>\n    <g id=\"ytick_6\">\n     <g id=\"line2d_6\">\n      <path clip-path=\"url(#pcc1cc20a31)\" d=\"M 50.14375 164.386876 \nL 594.079801 164.386876 \n\" style=\"fill:none;stroke:#cccccc;stroke-linecap:round;stroke-width:0.8;\"/>\n     </g>\n     <g id=\"text_10\">\n      <!-- 0.85 -->\n      <g style=\"fill:#262626;\" transform=\"translate(20.878125 168.186095)scale(0.1 -0.1)\">\n       <use xlink:href=\"#DejaVuSans-48\"/>\n       <use x=\"63.623047\" xlink:href=\"#DejaVuSans-46\"/>\n       <use x=\"95.410156\" xlink:href=\"#DejaVuSans-56\"/>\n       <use x=\"159.033203\" xlink:href=\"#DejaVuSans-53\"/>\n      </g>\n     </g>\n    </g>\n    <g id=\"ytick_7\">\n     <g id=\"line2d_7\">\n      <path clip-path=\"url(#pcc1cc20a31)\" d=\"M 50.14375 122.046696 \nL 594.079801 122.046696 \n\" style=\"fill:none;stroke:#cccccc;stroke-linecap:round;stroke-width:0.8;\"/>\n     </g>\n     <g id=\"text_11\">\n      <!-- 0.90 -->\n      <g style=\"fill:#262626;\" transform=\"translate(20.878125 125.845915)scale(0.1 -0.1)\">\n       <defs>\n        <path d=\"M 10.984375 1.515625 \nL 10.984375 10.5 \nQ 14.703125 8.734375 18.5 7.8125 \nQ 22.3125 6.890625 25.984375 6.890625 \nQ 35.75 6.890625 40.890625 13.453125 \nQ 46.046875 20.015625 46.78125 33.40625 \nQ 43.953125 29.203125 39.59375 26.953125 \nQ 35.25 24.703125 29.984375 24.703125 \nQ 19.046875 24.703125 12.671875 31.3125 \nQ 6.296875 37.9375 6.296875 49.421875 \nQ 6.296875 60.640625 12.9375 67.421875 \nQ 19.578125 74.21875 30.609375 74.21875 \nQ 43.265625 74.21875 49.921875 64.515625 \nQ 56.59375 54.828125 56.59375 36.375 \nQ 56.59375 19.140625 48.40625 8.859375 \nQ 40.234375 -1.421875 26.421875 -1.421875 \nQ 22.703125 -1.421875 18.890625 -0.6875 \nQ 15.09375 0.046875 10.984375 1.515625 \nz\nM 30.609375 32.421875 \nQ 37.25 32.421875 41.125 36.953125 \nQ 45.015625 41.5 45.015625 49.421875 \nQ 45.015625 57.28125 41.125 61.84375 \nQ 37.25 66.40625 30.609375 66.40625 \nQ 23.96875 66.40625 20.09375 61.84375 \nQ 16.21875 57.28125 16.21875 49.421875 \nQ 16.21875 41.5 20.09375 36.953125 \nQ 23.96875 32.421875 30.609375 32.421875 \nz\n\" id=\"DejaVuSans-57\"/>\n       </defs>\n       <use xlink:href=\"#DejaVuSans-48\"/>\n       <use x=\"63.623047\" xlink:href=\"#DejaVuSans-46\"/>\n       <use x=\"95.410156\" xlink:href=\"#DejaVuSans-57\"/>\n       <use x=\"159.033203\" xlink:href=\"#DejaVuSans-48\"/>\n      </g>\n     </g>\n    </g>\n    <g id=\"ytick_8\">\n     <g id=\"line2d_8\">\n      <path clip-path=\"url(#pcc1cc20a31)\" d=\"M 50.14375 79.706516 \nL 594.079801 79.706516 \n\" style=\"fill:none;stroke:#cccccc;stroke-linecap:round;stroke-width:0.8;\"/>\n     </g>\n     <g id=\"text_12\">\n      <!-- 0.95 -->\n      <g style=\"fill:#262626;\" transform=\"translate(20.878125 83.505734)scale(0.1 -0.1)\">\n       <use xlink:href=\"#DejaVuSans-48\"/>\n       <use x=\"63.623047\" xlink:href=\"#DejaVuSans-46\"/>\n       <use x=\"95.410156\" xlink:href=\"#DejaVuSans-57\"/>\n       <use x=\"159.033203\" xlink:href=\"#DejaVuSans-53\"/>\n      </g>\n     </g>\n    </g>\n    <g id=\"ytick_9\">\n     <g id=\"line2d_9\">\n      <path clip-path=\"url(#pcc1cc20a31)\" d=\"M 50.14375 37.366335 \nL 594.079801 37.366335 \n\" style=\"fill:none;stroke:#cccccc;stroke-linecap:round;stroke-width:0.8;\"/>\n     </g>\n     <g id=\"text_13\">\n      <!-- 1.00 -->\n      <g style=\"fill:#262626;\" transform=\"translate(20.878125 41.165554)scale(0.1 -0.1)\">\n       <defs>\n        <path d=\"M 12.40625 8.296875 \nL 28.515625 8.296875 \nL 28.515625 63.921875 \nL 10.984375 60.40625 \nL 10.984375 69.390625 \nL 28.421875 72.90625 \nL 38.28125 72.90625 \nL 38.28125 8.296875 \nL 54.390625 8.296875 \nL 54.390625 0 \nL 12.40625 0 \nz\n\" id=\"DejaVuSans-49\"/>\n       </defs>\n       <use xlink:href=\"#DejaVuSans-49\"/>\n       <use x=\"63.623047\" xlink:href=\"#DejaVuSans-46\"/>\n       <use x=\"95.410156\" xlink:href=\"#DejaVuSans-48\"/>\n       <use x=\"159.033203\" xlink:href=\"#DejaVuSans-48\"/>\n      </g>\n     </g>\n    </g>\n    <g id=\"text_14\">\n     <!-- accuracy -->\n     <g style=\"fill:#262626;\" transform=\"translate(14.798438 225.604687)rotate(-90)scale(0.1 -0.1)\">\n      <defs>\n       <path d=\"M 8.5 21.578125 \nL 8.5 54.6875 \nL 17.484375 54.6875 \nL 17.484375 21.921875 \nQ 17.484375 14.15625 20.5 10.265625 \nQ 23.53125 6.390625 29.59375 6.390625 \nQ 36.859375 6.390625 41.078125 11.03125 \nQ 45.3125 15.671875 45.3125 23.6875 \nL 45.3125 54.6875 \nL 54.296875 54.6875 \nL 54.296875 0 \nL 45.3125 0 \nL 45.3125 8.40625 \nQ 42.046875 3.421875 37.71875 1 \nQ 33.40625 -1.421875 27.6875 -1.421875 \nQ 18.265625 -1.421875 13.375 4.4375 \nQ 8.5 10.296875 8.5 21.578125 \nz\nM 31.109375 56 \nz\n\" id=\"DejaVuSans-117\"/>\n       <path d=\"M 32.171875 -5.078125 \nQ 28.375 -14.84375 24.75 -17.8125 \nQ 21.140625 -20.796875 15.09375 -20.796875 \nL 7.90625 -20.796875 \nL 7.90625 -13.28125 \nL 13.1875 -13.28125 \nQ 16.890625 -13.28125 18.9375 -11.515625 \nQ 21 -9.765625 23.484375 -3.21875 \nL 25.09375 0.875 \nL 2.984375 54.6875 \nL 12.5 54.6875 \nL 29.59375 11.921875 \nL 46.6875 54.6875 \nL 56.203125 54.6875 \nz\n\" id=\"DejaVuSans-121\"/>\n      </defs>\n      <use xlink:href=\"#DejaVuSans-97\"/>\n      <use x=\"61.279297\" xlink:href=\"#DejaVuSans-99\"/>\n      <use x=\"116.259766\" xlink:href=\"#DejaVuSans-99\"/>\n      <use x=\"171.240234\" xlink:href=\"#DejaVuSans-117\"/>\n      <use x=\"234.619141\" xlink:href=\"#DejaVuSans-114\"/>\n      <use x=\"275.732422\" xlink:href=\"#DejaVuSans-97\"/>\n      <use x=\"337.011719\" xlink:href=\"#DejaVuSans-99\"/>\n      <use x=\"391.992188\" xlink:href=\"#DejaVuSans-121\"/>\n     </g>\n    </g>\n   </g>\n   <g id=\"patch_3\">\n    <path clip-path=\"url(#pcc1cc20a31)\" d=\"M 69.0002 89.141019 \nL 140.07451 89.141019 \nL 140.07451 60.377323 \nL 69.0002 60.377323 \nL 69.0002 89.141019 \nz\n\" style=\"fill:#5a948a;stroke:#323232;stroke-linejoin:miter;stroke-width:1.5;\"/>\n   </g>\n   <g id=\"patch_4\">\n    <path clip-path=\"url(#pcc1cc20a31)\" d=\"M 141.525007 166.227773 \nL 212.599317 166.227773 \nL 212.599317 138.614568 \nL 141.525007 138.614568 \nL 141.525007 166.227773 \nz\n\" style=\"fill:#2b667c;stroke:#323232;stroke-linejoin:miter;stroke-width:1.5;\"/>\n   </g>\n   <g id=\"patch_5\">\n    <path clip-path=\"url(#pcc1cc20a31)\" d=\"M 250.312217 62.678406 \nL 321.386528 62.678406 \nL 321.386528 48.871804 \nL 250.312217 48.871804 \nL 250.312217 62.678406 \nz\n\" style=\"fill:#5a948a;stroke:#323232;stroke-linejoin:miter;stroke-width:1.5;\"/>\n   </g>\n   <g id=\"patch_6\">\n    <path clip-path=\"url(#pcc1cc20a31)\" d=\"M 322.837024 186.937639 \nL 393.911334 186.937639 \nL 393.911334 154.722292 \nL 322.837024 154.722292 \nL 322.837024 186.937639 \nz\n\" style=\"fill:#2b667c;stroke:#323232;stroke-linejoin:miter;stroke-width:1.5;\"/>\n   </g>\n   <g id=\"patch_7\">\n    <path clip-path=\"url(#pcc1cc20a31)\" d=\"M 431.624234 242.739206 \nL 502.698545 242.739206 \nL 502.698545 207.64748 \nL 431.624234 207.64748 \nL 431.624234 242.739206 \nz\n\" style=\"fill:#5a948a;stroke:#323232;stroke-linejoin:miter;stroke-width:1.5;\"/>\n   </g>\n   <g id=\"patch_8\">\n    <path clip-path=\"url(#pcc1cc20a31)\" d=\"M 504.149041 288.185872 \nL 575.223351 288.185872 \nL 575.223351 246.76614 \nL 504.149041 246.76614 \nL 504.149041 288.185872 \nz\n\" style=\"fill:#2b667c;stroke:#323232;stroke-linejoin:miter;stroke-width:1.5;\"/>\n   </g>\n   <g id=\"patch_9\">\n    <path clip-path=\"url(#pcc1cc20a31)\" d=\"M 140.799759 884.169941 \nL 140.799759 884.169941 \nL 140.799759 884.169941 \nL 140.799759 884.169941 \nz\n\" style=\"fill:#5a948a;stroke:#323232;stroke-linejoin:miter;stroke-width:0.75;\"/>\n   </g>\n   <g id=\"patch_10\">\n    <path clip-path=\"url(#pcc1cc20a31)\" d=\"M 140.799759 884.169941 \nL 140.799759 884.169941 \nL 140.799759 884.169941 \nL 140.799759 884.169941 \nz\n\" style=\"fill:#2b667c;stroke:#323232;stroke-linejoin:miter;stroke-width:0.75;\"/>\n   </g>\n   <g id=\"line2d_10\">\n    <path clip-path=\"url(#pcc1cc20a31)\" d=\"M 104.537355 89.141019 \nL 104.537355 104.098163 \n\" style=\"fill:none;stroke:#323232;stroke-linecap:round;stroke-width:1.5;\"/>\n   </g>\n   <g id=\"line2d_11\">\n    <path clip-path=\"url(#pcc1cc20a31)\" d=\"M 104.537355 60.377323 \nL 104.537355 41.968553 \n\" style=\"fill:none;stroke:#323232;stroke-linecap:round;stroke-width:1.5;\"/>\n   </g>\n   <g id=\"line2d_12\">\n    <path clip-path=\"url(#pcc1cc20a31)\" d=\"M 86.768777 104.098163 \nL 122.305933 104.098163 \n\" style=\"fill:none;stroke:#323232;stroke-linecap:round;stroke-width:1.5;\"/>\n   </g>\n   <g id=\"line2d_13\">\n    <path clip-path=\"url(#pcc1cc20a31)\" d=\"M 86.768777 41.968553 \nL 122.305933 41.968553 \n\" style=\"fill:none;stroke:#323232;stroke-linecap:round;stroke-width:1.5;\"/>\n   </g>\n   <g id=\"line2d_14\"/>\n   <g id=\"line2d_15\">\n    <path clip-path=\"url(#pcc1cc20a31)\" d=\"M 177.062162 166.227773 \nL 177.062162 193.840928 \n\" style=\"fill:none;stroke:#323232;stroke-linecap:round;stroke-width:1.5;\"/>\n   </g>\n   <g id=\"line2d_16\">\n    <path clip-path=\"url(#pcc1cc20a31)\" d=\"M 177.062162 138.614568 \nL 177.062162 111.001414 \n\" style=\"fill:none;stroke:#323232;stroke-linecap:round;stroke-width:1.5;\"/>\n   </g>\n   <g id=\"line2d_17\">\n    <path clip-path=\"url(#pcc1cc20a31)\" d=\"M 159.293584 193.840928 \nL 194.83074 193.840928 \n\" style=\"fill:none;stroke:#323232;stroke-linecap:round;stroke-width:1.5;\"/>\n   </g>\n   <g id=\"line2d_18\">\n    <path clip-path=\"url(#pcc1cc20a31)\" d=\"M 159.293584 111.001414 \nL 194.83074 111.001414 \n\" style=\"fill:none;stroke:#323232;stroke-linecap:round;stroke-width:1.5;\"/>\n   </g>\n   <g id=\"line2d_19\"/>\n   <g id=\"line2d_20\">\n    <path clip-path=\"url(#pcc1cc20a31)\" d=\"M 285.849372 62.678406 \nL 285.849372 83.388259 \n\" style=\"fill:none;stroke:#323232;stroke-linecap:round;stroke-width:1.5;\"/>\n   </g>\n   <g id=\"line2d_21\">\n    <path clip-path=\"url(#pcc1cc20a31)\" d=\"M 285.849372 48.871804 \nL 285.849372 41.968553 \n\" style=\"fill:none;stroke:#323232;stroke-linecap:round;stroke-width:1.5;\"/>\n   </g>\n   <g id=\"line2d_22\">\n    <path clip-path=\"url(#pcc1cc20a31)\" d=\"M 268.080795 83.388259 \nL 303.61795 83.388259 \n\" style=\"fill:none;stroke:#323232;stroke-linecap:round;stroke-width:1.5;\"/>\n   </g>\n   <g id=\"line2d_23\">\n    <path clip-path=\"url(#pcc1cc20a31)\" d=\"M 268.080795 41.968553 \nL 303.61795 41.968553 \n\" style=\"fill:none;stroke:#323232;stroke-linecap:round;stroke-width:1.5;\"/>\n   </g>\n   <g id=\"line2d_24\"/>\n   <g id=\"line2d_25\">\n    <path clip-path=\"url(#pcc1cc20a31)\" d=\"M 358.374179 186.937639 \nL 358.374179 221.454082 \n\" style=\"fill:none;stroke:#323232;stroke-linecap:round;stroke-width:1.5;\"/>\n   </g>\n   <g id=\"line2d_26\">\n    <path clip-path=\"url(#pcc1cc20a31)\" d=\"M 358.374179 154.722292 \nL 358.374179 111.001414 \n\" style=\"fill:none;stroke:#323232;stroke-linecap:round;stroke-width:1.5;\"/>\n   </g>\n   <g id=\"line2d_27\">\n    <path clip-path=\"url(#pcc1cc20a31)\" d=\"M 340.605601 221.454082 \nL 376.142757 221.454082 \n\" style=\"fill:none;stroke:#323232;stroke-linecap:round;stroke-width:1.5;\"/>\n   </g>\n   <g id=\"line2d_28\">\n    <path clip-path=\"url(#pcc1cc20a31)\" d=\"M 340.605601 111.001414 \nL 376.142757 111.001414 \n\" style=\"fill:none;stroke:#323232;stroke-linecap:round;stroke-width:1.5;\"/>\n   </g>\n   <g id=\"line2d_29\">\n    <defs>\n     <path d=\"M -0 3.535534 \nL 2.12132 0 \nL -0 -3.535534 \nL -2.12132 -0 \nz\n\" id=\"m4351f6c29f\" style=\"stroke:#323232;stroke-linejoin:miter;\"/>\n    </defs>\n    <g clip-path=\"url(#pcc1cc20a31)\">\n     <use style=\"fill:#323232;stroke:#323232;stroke-linejoin:miter;\" x=\"358.374179\" xlink:href=\"#m4351f6c29f\" y=\"276.680391\"/>\n    </g>\n   </g>\n   <g id=\"line2d_30\">\n    <path clip-path=\"url(#pcc1cc20a31)\" d=\"M 467.161389 242.739206 \nL 467.161389 269.77709 \n\" style=\"fill:none;stroke:#323232;stroke-linecap:round;stroke-width:1.5;\"/>\n   </g>\n   <g id=\"line2d_31\">\n    <path clip-path=\"url(#pcc1cc20a31)\" d=\"M 467.161389 207.64748 \nL 467.161389 170.82994 \n\" style=\"fill:none;stroke:#323232;stroke-linecap:round;stroke-width:1.5;\"/>\n   </g>\n   <g id=\"line2d_32\">\n    <path clip-path=\"url(#pcc1cc20a31)\" d=\"M 449.392812 269.77709 \nL 484.929967 269.77709 \n\" style=\"fill:none;stroke:#323232;stroke-linecap:round;stroke-width:1.5;\"/>\n   </g>\n   <g id=\"line2d_33\">\n    <path clip-path=\"url(#pcc1cc20a31)\" d=\"M 449.392812 170.82994 \nL 484.929967 170.82994 \n\" style=\"fill:none;stroke:#323232;stroke-linecap:round;stroke-width:1.5;\"/>\n   </g>\n   <g id=\"line2d_34\"/>\n   <g id=\"line2d_35\">\n    <path clip-path=\"url(#pcc1cc20a31)\" d=\"M 539.686196 288.185872 \nL 539.686196 331.9067 \n\" style=\"fill:none;stroke:#323232;stroke-linecap:round;stroke-width:1.5;\"/>\n   </g>\n   <g id=\"line2d_36\">\n    <path clip-path=\"url(#pcc1cc20a31)\" d=\"M 539.686196 246.76614 \nL 539.686196 184.636543 \n\" style=\"fill:none;stroke:#323232;stroke-linecap:round;stroke-width:1.5;\"/>\n   </g>\n   <g id=\"line2d_37\">\n    <path clip-path=\"url(#pcc1cc20a31)\" d=\"M 521.917618 331.9067 \nL 557.454774 331.9067 \n\" style=\"fill:none;stroke:#323232;stroke-linecap:round;stroke-width:1.5;\"/>\n   </g>\n   <g id=\"line2d_38\">\n    <path clip-path=\"url(#pcc1cc20a31)\" d=\"M 521.917618 184.636543 \nL 557.454774 184.636543 \n\" style=\"fill:none;stroke:#323232;stroke-linecap:round;stroke-width:1.5;\"/>\n   </g>\n   <g id=\"line2d_39\">\n    <g clip-path=\"url(#pcc1cc20a31)\">\n     <use style=\"fill:#323232;stroke:#323232;stroke-linejoin:miter;\" x=\"539.686196\" xlink:href=\"#m4351f6c29f\" y=\"368.72429\"/>\n     <use style=\"fill:#323232;stroke:#323232;stroke-linejoin:miter;\" x=\"539.686196\" xlink:href=\"#m4351f6c29f\" y=\"359.519905\"/>\n    </g>\n   </g>\n   <g id=\"line2d_40\">\n    <path clip-path=\"url(#pcc1cc20a31)\" d=\"M 69.0002 67.280573 \nL 140.07451 67.280573 \n\" style=\"fill:none;stroke:#323232;stroke-linecap:round;stroke-width:1.5;\"/>\n   </g>\n   <g id=\"line2d_41\">\n    <path clip-path=\"url(#pcc1cc20a31)\" d=\"M 141.525007 152.421196 \nL 212.599317 152.421196 \n\" style=\"fill:none;stroke:#323232;stroke-linecap:round;stroke-width:1.5;\"/>\n   </g>\n   <g id=\"line2d_42\">\n    <path clip-path=\"url(#pcc1cc20a31)\" d=\"M 250.312217 56.925647 \nL 321.386528 56.925647 \n\" style=\"fill:none;stroke:#323232;stroke-linecap:round;stroke-width:1.5;\"/>\n   </g>\n   <g id=\"line2d_43\">\n    <path clip-path=\"url(#pcc1cc20a31)\" d=\"M 322.837024 175.432158 \nL 393.911334 175.432158 \n\" style=\"fill:none;stroke:#323232;stroke-linecap:round;stroke-width:1.5;\"/>\n   </g>\n   <g id=\"line2d_44\">\n    <path clip-path=\"url(#pcc1cc20a31)\" d=\"M 431.624234 226.056275 \nL 502.698545 226.056275 \n\" style=\"fill:none;stroke:#323232;stroke-linecap:round;stroke-width:1.5;\"/>\n   </g>\n   <g id=\"line2d_45\">\n    <path clip-path=\"url(#pcc1cc20a31)\" d=\"M 504.149041 267.476006 \nL 575.223351 267.476006 \n\" style=\"fill:none;stroke:#323232;stroke-linecap:round;stroke-width:1.5;\"/>\n   </g>\n   <g id=\"patch_11\">\n    <path d=\"M 50.14375 385.292187 \nL 50.14375 20.798437 \n\" style=\"fill:none;stroke:#cccccc;stroke-linecap:square;stroke-linejoin:miter;stroke-width:0.8;\"/>\n   </g>\n   <g id=\"patch_12\">\n    <path d=\"M 50.14375 385.292187 \nL 594.079801 385.292187 \n\" style=\"fill:none;stroke:#cccccc;stroke-linecap:square;stroke-linejoin:miter;stroke-width:0.8;\"/>\n   </g>\n   <g id=\"text_15\">\n    <!-- model = CNN -->\n    <g style=\"fill:#262626;\" transform=\"translate(288.201619 14.798437)scale(0.1 -0.1)\">\n     <defs>\n      <path id=\"DejaVuSans-32\"/>\n      <path d=\"M 10.59375 45.40625 \nL 73.1875 45.40625 \nL 73.1875 37.203125 \nL 10.59375 37.203125 \nz\nM 10.59375 25.484375 \nL 73.1875 25.484375 \nL 73.1875 17.1875 \nL 10.59375 17.1875 \nz\n\" id=\"DejaVuSans-61\"/>\n      <path d=\"M 64.40625 67.28125 \nL 64.40625 56.890625 \nQ 59.421875 61.53125 53.78125 63.8125 \nQ 48.140625 66.109375 41.796875 66.109375 \nQ 29.296875 66.109375 22.65625 58.46875 \nQ 16.015625 50.828125 16.015625 36.375 \nQ 16.015625 21.96875 22.65625 14.328125 \nQ 29.296875 6.6875 41.796875 6.6875 \nQ 48.140625 6.6875 53.78125 8.984375 \nQ 59.421875 11.28125 64.40625 15.921875 \nL 64.40625 5.609375 \nQ 59.234375 2.09375 53.4375 0.328125 \nQ 47.65625 -1.421875 41.21875 -1.421875 \nQ 24.65625 -1.421875 15.125 8.703125 \nQ 5.609375 18.84375 5.609375 36.375 \nQ 5.609375 53.953125 15.125 64.078125 \nQ 24.65625 74.21875 41.21875 74.21875 \nQ 47.75 74.21875 53.53125 72.484375 \nQ 59.328125 70.75 64.40625 67.28125 \nz\n\" id=\"DejaVuSans-67\"/>\n     </defs>\n     <use xlink:href=\"#DejaVuSans-109\"/>\n     <use x=\"97.412109\" xlink:href=\"#DejaVuSans-111\"/>\n     <use x=\"158.59375\" xlink:href=\"#DejaVuSans-100\"/>\n     <use x=\"222.070312\" xlink:href=\"#DejaVuSans-101\"/>\n     <use x=\"283.59375\" xlink:href=\"#DejaVuSans-108\"/>\n     <use x=\"311.376953\" xlink:href=\"#DejaVuSans-32\"/>\n     <use x=\"343.164062\" xlink:href=\"#DejaVuSans-61\"/>\n     <use x=\"426.953125\" xlink:href=\"#DejaVuSans-32\"/>\n     <use x=\"458.740234\" xlink:href=\"#DejaVuSans-67\"/>\n     <use x=\"528.564453\" xlink:href=\"#DejaVuSans-78\"/>\n     <use x=\"603.369141\" xlink:href=\"#DejaVuSans-78\"/>\n    </g>\n   </g>\n  </g>\n  <g id=\"axes_2\">\n   <g id=\"patch_13\">\n    <path d=\"M 604.815708 385.292187 \nL 1148.751759 385.292187 \nL 1148.751759 20.798437 \nL 604.815708 20.798437 \nz\n\" style=\"fill:#ffffff;\"/>\n   </g>\n   <g id=\"matplotlib.axis_3\">\n    <g id=\"xtick_4\">\n     <g id=\"text_16\">\n      <!-- Normalized -->\n      <g style=\"fill:#262626;\" transform=\"translate(667.116248 399.890625)scale(0.1 -0.1)\">\n       <use xlink:href=\"#DejaVuSans-78\"/>\n       <use x=\"74.804688\" xlink:href=\"#DejaVuSans-111\"/>\n       <use x=\"135.986328\" xlink:href=\"#DejaVuSans-114\"/>\n       <use x=\"175.349609\" xlink:href=\"#DejaVuSans-109\"/>\n       <use x=\"272.761719\" xlink:href=\"#DejaVuSans-97\"/>\n       <use x=\"334.041016\" xlink:href=\"#DejaVuSans-108\"/>\n       <use x=\"361.824219\" xlink:href=\"#DejaVuSans-105\"/>\n       <use x=\"389.607422\" xlink:href=\"#DejaVuSans-122\"/>\n       <use x=\"442.097656\" xlink:href=\"#DejaVuSans-101\"/>\n       <use x=\"503.621094\" xlink:href=\"#DejaVuSans-100\"/>\n      </g>\n     </g>\n    </g>\n    <g id=\"xtick_5\">\n     <g id=\"text_17\">\n      <!-- Standardized -->\n      <g style=\"fill:#262626;\" transform=\"translate(843.772015 399.890625)scale(0.1 -0.1)\">\n       <use xlink:href=\"#DejaVuSans-83\"/>\n       <use x=\"63.476562\" xlink:href=\"#DejaVuSans-116\"/>\n       <use x=\"102.685547\" xlink:href=\"#DejaVuSans-97\"/>\n       <use x=\"163.964844\" xlink:href=\"#DejaVuSans-110\"/>\n       <use x=\"227.34375\" xlink:href=\"#DejaVuSans-100\"/>\n       <use x=\"290.820312\" xlink:href=\"#DejaVuSans-97\"/>\n       <use x=\"352.099609\" xlink:href=\"#DejaVuSans-114\"/>\n       <use x=\"391.462891\" xlink:href=\"#DejaVuSans-100\"/>\n       <use x=\"454.939453\" xlink:href=\"#DejaVuSans-105\"/>\n       <use x=\"482.722656\" xlink:href=\"#DejaVuSans-122\"/>\n       <use x=\"535.212891\" xlink:href=\"#DejaVuSans-101\"/>\n       <use x=\"596.736328\" xlink:href=\"#DejaVuSans-100\"/>\n      </g>\n     </g>\n    </g>\n    <g id=\"xtick_6\">\n     <g id=\"text_18\">\n      <!-- None -->\n      <g style=\"fill:#262626;\" transform=\"translate(1045.050438 399.890625)scale(0.1 -0.1)\">\n       <use xlink:href=\"#DejaVuSans-78\"/>\n       <use x=\"74.804688\" xlink:href=\"#DejaVuSans-111\"/>\n       <use x=\"135.986328\" xlink:href=\"#DejaVuSans-110\"/>\n       <use x=\"199.365234\" xlink:href=\"#DejaVuSans-101\"/>\n      </g>\n     </g>\n    </g>\n    <g id=\"text_19\">\n     <!-- data_processing -->\n     <g style=\"fill:#262626;\" transform=\"translate(836.077484 413.56875)scale(0.1 -0.1)\">\n      <use xlink:href=\"#DejaVuSans-100\"/>\n      <use x=\"63.476562\" xlink:href=\"#DejaVuSans-97\"/>\n      <use x=\"124.755859\" xlink:href=\"#DejaVuSans-116\"/>\n      <use x=\"163.964844\" xlink:href=\"#DejaVuSans-97\"/>\n      <use x=\"225.244141\" xlink:href=\"#DejaVuSans-95\"/>\n      <use x=\"275.244141\" xlink:href=\"#DejaVuSans-112\"/>\n      <use x=\"338.720703\" xlink:href=\"#DejaVuSans-114\"/>\n      <use x=\"377.583984\" xlink:href=\"#DejaVuSans-111\"/>\n      <use x=\"438.765625\" xlink:href=\"#DejaVuSans-99\"/>\n      <use x=\"493.746094\" xlink:href=\"#DejaVuSans-101\"/>\n      <use x=\"555.269531\" xlink:href=\"#DejaVuSans-115\"/>\n      <use x=\"607.369141\" xlink:href=\"#DejaVuSans-115\"/>\n      <use x=\"659.46875\" xlink:href=\"#DejaVuSans-105\"/>\n      <use x=\"687.251953\" xlink:href=\"#DejaVuSans-110\"/>\n      <use x=\"750.630859\" xlink:href=\"#DejaVuSans-103\"/>\n     </g>\n    </g>\n   </g>\n   <g id=\"matplotlib.axis_4\">\n    <g id=\"ytick_10\">\n     <g id=\"line2d_46\">\n      <path clip-path=\"url(#p00149dcdd1)\" d=\"M 604.815708 376.087777 \nL 1148.751759 376.087777 \n\" style=\"fill:none;stroke:#cccccc;stroke-linecap:round;stroke-width:0.8;\"/>\n     </g>\n    </g>\n    <g id=\"ytick_11\">\n     <g id=\"line2d_47\">\n      <path clip-path=\"url(#p00149dcdd1)\" d=\"M 604.815708 333.747597 \nL 1148.751759 333.747597 \n\" style=\"fill:none;stroke:#cccccc;stroke-linecap:round;stroke-width:0.8;\"/>\n     </g>\n    </g>\n    <g id=\"ytick_12\">\n     <g id=\"line2d_48\">\n      <path clip-path=\"url(#p00149dcdd1)\" d=\"M 604.815708 291.407417 \nL 1148.751759 291.407417 \n\" style=\"fill:none;stroke:#cccccc;stroke-linecap:round;stroke-width:0.8;\"/>\n     </g>\n    </g>\n    <g id=\"ytick_13\">\n     <g id=\"line2d_49\">\n      <path clip-path=\"url(#p00149dcdd1)\" d=\"M 604.815708 249.067237 \nL 1148.751759 249.067237 \n\" style=\"fill:none;stroke:#cccccc;stroke-linecap:round;stroke-width:0.8;\"/>\n     </g>\n    </g>\n    <g id=\"ytick_14\">\n     <g id=\"line2d_50\">\n      <path clip-path=\"url(#p00149dcdd1)\" d=\"M 604.815708 206.727056 \nL 1148.751759 206.727056 \n\" style=\"fill:none;stroke:#cccccc;stroke-linecap:round;stroke-width:0.8;\"/>\n     </g>\n    </g>\n    <g id=\"ytick_15\">\n     <g id=\"line2d_51\">\n      <path clip-path=\"url(#p00149dcdd1)\" d=\"M 604.815708 164.386876 \nL 1148.751759 164.386876 \n\" style=\"fill:none;stroke:#cccccc;stroke-linecap:round;stroke-width:0.8;\"/>\n     </g>\n    </g>\n    <g id=\"ytick_16\">\n     <g id=\"line2d_52\">\n      <path clip-path=\"url(#p00149dcdd1)\" d=\"M 604.815708 122.046696 \nL 1148.751759 122.046696 \n\" style=\"fill:none;stroke:#cccccc;stroke-linecap:round;stroke-width:0.8;\"/>\n     </g>\n    </g>\n    <g id=\"ytick_17\">\n     <g id=\"line2d_53\">\n      <path clip-path=\"url(#p00149dcdd1)\" d=\"M 604.815708 79.706516 \nL 1148.751759 79.706516 \n\" style=\"fill:none;stroke:#cccccc;stroke-linecap:round;stroke-width:0.8;\"/>\n     </g>\n    </g>\n    <g id=\"ytick_18\">\n     <g id=\"line2d_54\">\n      <path clip-path=\"url(#p00149dcdd1)\" d=\"M 604.815708 37.366335 \nL 1148.751759 37.366335 \n\" style=\"fill:none;stroke:#cccccc;stroke-linecap:round;stroke-width:0.8;\"/>\n     </g>\n    </g>\n   </g>\n   <g id=\"patch_14\">\n    <path clip-path=\"url(#p00149dcdd1)\" d=\"M 623.672158 58.651472 \nL 694.746469 58.651472 \nL 694.746469 51.172938 \nL 623.672158 51.172938 \nL 623.672158 58.651472 \nz\n\" style=\"fill:#5a948a;stroke:#323232;stroke-linejoin:miter;stroke-width:1.5;\"/>\n   </g>\n   <g id=\"patch_15\">\n    <path clip-path=\"url(#p00149dcdd1)\" d=\"M 696.196965 177.733254 \nL 767.271275 177.733254 \nL 767.271275 147.819004 \nL 696.196965 147.819004 \nL 696.196965 177.733254 \nz\n\" style=\"fill:#2b667c;stroke:#323232;stroke-linejoin:miter;stroke-width:1.5;\"/>\n   </g>\n   <g id=\"patch_16\">\n    <path clip-path=\"url(#p00149dcdd1)\" d=\"M 804.984175 37.366335 \nL 876.058486 37.366335 \nL 876.058486 37.366335 \nL 804.984175 37.366335 \nL 804.984175 37.366335 \nz\n\" style=\"fill:#5a948a;stroke:#323232;stroke-linejoin:miter;stroke-width:1.5;\"/>\n   </g>\n   <g id=\"patch_17\">\n    <path clip-path=\"url(#p00149dcdd1)\" d=\"M 877.508982 157.023388 \nL 948.583292 157.023388 \nL 948.583292 127.109087 \nL 877.508982 127.109087 \nL 877.508982 157.023388 \nz\n\" style=\"fill:#2b667c;stroke:#323232;stroke-linejoin:miter;stroke-width:1.5;\"/>\n   </g>\n   <g id=\"patch_18\">\n    <path clip-path=\"url(#p00149dcdd1)\" d=\"M 986.296192 97.194862 \nL 1057.370503 97.194862 \nL 1057.370503 71.30752 \nL 986.296192 71.30752 \nL 986.296192 97.194862 \nz\n\" style=\"fill:#5a948a;stroke:#323232;stroke-linejoin:miter;stroke-width:1.5;\"/>\n   </g>\n   <g id=\"patch_19\">\n    <path clip-path=\"url(#p00149dcdd1)\" d=\"M 1058.820999 232.959563 \nL 1129.89531 232.959563 \nL 1129.89531 193.840928 \nL 1058.820999 193.840928 \nL 1058.820999 232.959563 \nz\n\" style=\"fill:#2b667c;stroke:#323232;stroke-linejoin:miter;stroke-width:1.5;\"/>\n   </g>\n   <g id=\"patch_20\">\n    <path clip-path=\"url(#p00149dcdd1)\" d=\"M 695.471717 884.169941 \nL 695.471717 884.169941 \nL 695.471717 884.169941 \nL 695.471717 884.169941 \nz\n\" style=\"fill:#5a948a;stroke:#323232;stroke-linejoin:miter;stroke-width:0.75;\"/>\n   </g>\n   <g id=\"patch_21\">\n    <path clip-path=\"url(#p00149dcdd1)\" d=\"M 695.471717 884.169941 \nL 695.471717 884.169941 \nL 695.471717 884.169941 \nL 695.471717 884.169941 \nz\n\" style=\"fill:#2b667c;stroke:#323232;stroke-linejoin:miter;stroke-width:0.75;\"/>\n   </g>\n   <g id=\"line2d_55\">\n    <path clip-path=\"url(#p00149dcdd1)\" d=\"M 659.209313 58.651472 \nL 659.209313 67.280573 \n\" style=\"fill:none;stroke:#323232;stroke-linecap:round;stroke-width:1.5;\"/>\n   </g>\n   <g id=\"line2d_56\">\n    <path clip-path=\"url(#p00149dcdd1)\" d=\"M 659.209313 51.172938 \nL 659.209313 41.968553 \n\" style=\"fill:none;stroke:#323232;stroke-linecap:round;stroke-width:1.5;\"/>\n   </g>\n   <g id=\"line2d_57\">\n    <path clip-path=\"url(#p00149dcdd1)\" d=\"M 641.440736 67.280573 \nL 676.977891 67.280573 \n\" style=\"fill:none;stroke:#323232;stroke-linecap:round;stroke-width:1.5;\"/>\n   </g>\n   <g id=\"line2d_58\">\n    <path clip-path=\"url(#p00149dcdd1)\" d=\"M 641.440736 41.968553 \nL 676.977891 41.968553 \n\" style=\"fill:none;stroke:#323232;stroke-linecap:round;stroke-width:1.5;\"/>\n   </g>\n   <g id=\"line2d_59\">\n    <g clip-path=\"url(#p00149dcdd1)\">\n     <use style=\"fill:#323232;stroke:#323232;stroke-linejoin:miter;\" x=\"659.209313\" xlink:href=\"#m4351f6c29f\" y=\"81.087176\"/>\n     <use style=\"fill:#323232;stroke:#323232;stroke-linejoin:miter;\" x=\"659.209313\" xlink:href=\"#m4351f6c29f\" y=\"71.882791\"/>\n    </g>\n   </g>\n   <g id=\"line2d_60\">\n    <path clip-path=\"url(#p00149dcdd1)\" d=\"M 731.73412 177.733254 \nL 731.73412 212.249697 \n\" style=\"fill:none;stroke:#323232;stroke-linecap:round;stroke-width:1.5;\"/>\n   </g>\n   <g id=\"line2d_61\">\n    <path clip-path=\"url(#p00149dcdd1)\" d=\"M 731.73412 147.819004 \nL 731.73412 111.001414 \n\" style=\"fill:none;stroke:#323232;stroke-linecap:round;stroke-width:1.5;\"/>\n   </g>\n   <g id=\"line2d_62\">\n    <path clip-path=\"url(#p00149dcdd1)\" d=\"M 713.965542 212.249697 \nL 749.502698 212.249697 \n\" style=\"fill:none;stroke:#323232;stroke-linecap:round;stroke-width:1.5;\"/>\n   </g>\n   <g id=\"line2d_63\">\n    <path clip-path=\"url(#p00149dcdd1)\" d=\"M 713.965542 111.001414 \nL 749.502698 111.001414 \n\" style=\"fill:none;stroke:#323232;stroke-linecap:round;stroke-width:1.5;\"/>\n   </g>\n   <g id=\"line2d_64\"/>\n   <g id=\"line2d_65\">\n    <path clip-path=\"url(#p00149dcdd1)\" d=\"M 840.52133 37.366335 \nL 840.52133 37.366335 \n\" style=\"fill:none;stroke:#323232;stroke-linecap:round;stroke-width:1.5;\"/>\n   </g>\n   <g id=\"line2d_66\">\n    <path clip-path=\"url(#p00149dcdd1)\" d=\"M 840.52133 37.366335 \nL 840.52133 37.366335 \n\" style=\"fill:none;stroke:#323232;stroke-linecap:round;stroke-width:1.5;\"/>\n   </g>\n   <g id=\"line2d_67\">\n    <path clip-path=\"url(#p00149dcdd1)\" d=\"M 822.752753 37.366335 \nL 858.289908 37.366335 \n\" style=\"fill:none;stroke:#323232;stroke-linecap:round;stroke-width:1.5;\"/>\n   </g>\n   <g id=\"line2d_68\">\n    <path clip-path=\"url(#p00149dcdd1)\" d=\"M 822.752753 37.366335 \nL 858.289908 37.366335 \n\" style=\"fill:none;stroke:#323232;stroke-linecap:round;stroke-width:1.5;\"/>\n   </g>\n   <g id=\"line2d_69\">\n    <g clip-path=\"url(#p00149dcdd1)\">\n     <use style=\"fill:#323232;stroke:#323232;stroke-linejoin:miter;\" x=\"840.52133\" xlink:href=\"#m4351f6c29f\" y=\"39.667419\"/>\n    </g>\n   </g>\n   <g id=\"line2d_70\">\n    <path clip-path=\"url(#p00149dcdd1)\" d=\"M 913.046137 157.023388 \nL 913.046137 193.840928 \n\" style=\"fill:none;stroke:#323232;stroke-linecap:round;stroke-width:1.5;\"/>\n   </g>\n   <g id=\"line2d_71\">\n    <path clip-path=\"url(#p00149dcdd1)\" d=\"M 913.046137 127.109087 \nL 913.046137 83.388259 \n\" style=\"fill:none;stroke:#323232;stroke-linecap:round;stroke-width:1.5;\"/>\n   </g>\n   <g id=\"line2d_72\">\n    <path clip-path=\"url(#p00149dcdd1)\" d=\"M 895.277559 193.840928 \nL 930.814715 193.840928 \n\" style=\"fill:none;stroke:#323232;stroke-linecap:round;stroke-width:1.5;\"/>\n   </g>\n   <g id=\"line2d_73\">\n    <path clip-path=\"url(#p00149dcdd1)\" d=\"M 895.277559 83.388259 \nL 930.814715 83.388259 \n\" style=\"fill:none;stroke:#323232;stroke-linecap:round;stroke-width:1.5;\"/>\n   </g>\n   <g id=\"line2d_74\"/>\n   <g id=\"line2d_75\">\n    <path clip-path=\"url(#p00149dcdd1)\" d=\"M 1021.833347 97.194862 \nL 1021.833347 129.410183 \n\" style=\"fill:none;stroke:#323232;stroke-linecap:round;stroke-width:1.5;\"/>\n   </g>\n   <g id=\"line2d_76\">\n    <path clip-path=\"url(#p00149dcdd1)\" d=\"M 1021.833347 71.30752 \nL 1021.833347 60.377323 \n\" style=\"fill:none;stroke:#323232;stroke-linecap:round;stroke-width:1.5;\"/>\n   </g>\n   <g id=\"line2d_77\">\n    <path clip-path=\"url(#p00149dcdd1)\" d=\"M 1004.06477 129.410183 \nL 1039.601925 129.410183 \n\" style=\"fill:none;stroke:#323232;stroke-linecap:round;stroke-width:1.5;\"/>\n   </g>\n   <g id=\"line2d_78\">\n    <path clip-path=\"url(#p00149dcdd1)\" d=\"M 1004.06477 60.377323 \nL 1039.601925 60.377323 \n\" style=\"fill:none;stroke:#323232;stroke-linecap:round;stroke-width:1.5;\"/>\n   </g>\n   <g id=\"line2d_79\"/>\n   <g id=\"line2d_80\">\n    <path clip-path=\"url(#p00149dcdd1)\" d=\"M 1094.358154 232.959563 \nL 1094.358154 285.884776 \n\" style=\"fill:none;stroke:#323232;stroke-linecap:round;stroke-width:1.5;\"/>\n   </g>\n   <g id=\"line2d_81\">\n    <path clip-path=\"url(#p00149dcdd1)\" d=\"M 1094.358154 193.840928 \nL 1094.358154 147.819004 \n\" style=\"fill:none;stroke:#323232;stroke-linecap:round;stroke-width:1.5;\"/>\n   </g>\n   <g id=\"line2d_82\">\n    <path clip-path=\"url(#p00149dcdd1)\" d=\"M 1076.589577 285.884776 \nL 1112.126732 285.884776 \n\" style=\"fill:none;stroke:#323232;stroke-linecap:round;stroke-width:1.5;\"/>\n   </g>\n   <g id=\"line2d_83\">\n    <path clip-path=\"url(#p00149dcdd1)\" d=\"M 1076.589577 147.819004 \nL 1112.126732 147.819004 \n\" style=\"fill:none;stroke:#323232;stroke-linecap:round;stroke-width:1.5;\"/>\n   </g>\n   <g id=\"line2d_84\"/>\n   <g id=\"line2d_85\">\n    <path clip-path=\"url(#p00149dcdd1)\" d=\"M 623.672158 53.474021 \nL 694.746469 53.474021 \n\" style=\"fill:none;stroke:#323232;stroke-linecap:round;stroke-width:1.5;\"/>\n   </g>\n   <g id=\"line2d_86\">\n    <path clip-path=\"url(#p00149dcdd1)\" d=\"M 696.196965 166.227773 \nL 767.271275 166.227773 \n\" style=\"fill:none;stroke:#323232;stroke-linecap:round;stroke-width:1.5;\"/>\n   </g>\n   <g id=\"line2d_87\">\n    <path clip-path=\"url(#p00149dcdd1)\" d=\"M 804.984175 37.366335 \nL 876.058486 37.366335 \n\" style=\"fill:none;stroke:#323232;stroke-linecap:round;stroke-width:1.5;\"/>\n   </g>\n   <g id=\"line2d_88\">\n    <path clip-path=\"url(#p00149dcdd1)\" d=\"M 877.508982 138.614568 \nL 948.583292 138.614568 \n\" style=\"fill:none;stroke:#323232;stroke-linecap:round;stroke-width:1.5;\"/>\n   </g>\n   <g id=\"line2d_89\">\n    <path clip-path=\"url(#p00149dcdd1)\" d=\"M 986.296192 86.83991 \nL 1057.370503 86.83991 \n\" style=\"fill:none;stroke:#323232;stroke-linecap:round;stroke-width:1.5;\"/>\n   </g>\n   <g id=\"line2d_90\">\n    <path clip-path=\"url(#p00149dcdd1)\" d=\"M 1058.820999 212.249697 \nL 1129.89531 212.249697 \n\" style=\"fill:none;stroke:#323232;stroke-linecap:round;stroke-width:1.5;\"/>\n   </g>\n   <g id=\"patch_22\">\n    <path d=\"M 604.815708 385.292187 \nL 604.815708 20.798437 \n\" style=\"fill:none;stroke:#cccccc;stroke-linecap:square;stroke-linejoin:miter;stroke-width:0.8;\"/>\n   </g>\n   <g id=\"patch_23\">\n    <path d=\"M 604.815708 385.292187 \nL 1148.751759 385.292187 \n\" style=\"fill:none;stroke:#cccccc;stroke-linecap:square;stroke-linejoin:miter;stroke-width:0.8;\"/>\n   </g>\n   <g id=\"text_20\">\n    <!-- model = FC -->\n    <g style=\"fill:#262626;\" transform=\"translate(847.479046 14.798437)scale(0.1 -0.1)\">\n     <defs>\n      <path d=\"M 9.8125 72.90625 \nL 51.703125 72.90625 \nL 51.703125 64.59375 \nL 19.671875 64.59375 \nL 19.671875 43.109375 \nL 48.578125 43.109375 \nL 48.578125 34.8125 \nL 19.671875 34.8125 \nL 19.671875 0 \nL 9.8125 0 \nz\n\" id=\"DejaVuSans-70\"/>\n     </defs>\n     <use xlink:href=\"#DejaVuSans-109\"/>\n     <use x=\"97.412109\" xlink:href=\"#DejaVuSans-111\"/>\n     <use x=\"158.59375\" xlink:href=\"#DejaVuSans-100\"/>\n     <use x=\"222.070312\" xlink:href=\"#DejaVuSans-101\"/>\n     <use x=\"283.59375\" xlink:href=\"#DejaVuSans-108\"/>\n     <use x=\"311.376953\" xlink:href=\"#DejaVuSans-32\"/>\n     <use x=\"343.164062\" xlink:href=\"#DejaVuSans-61\"/>\n     <use x=\"426.953125\" xlink:href=\"#DejaVuSans-32\"/>\n     <use x=\"458.740234\" xlink:href=\"#DejaVuSans-70\"/>\n     <use x=\"516.259766\" xlink:href=\"#DejaVuSans-67\"/>\n    </g>\n   </g>\n  </g>\n  <g id=\"axes_3\">\n   <g id=\"patch_24\">\n    <path d=\"M 1159.487666 385.292187 \nL 1703.423717 385.292187 \nL 1703.423717 20.798437 \nL 1159.487666 20.798437 \nz\n\" style=\"fill:#ffffff;\"/>\n   </g>\n   <g id=\"matplotlib.axis_5\">\n    <g id=\"xtick_7\">\n     <g id=\"text_21\">\n      <!-- Normalized -->\n      <g style=\"fill:#262626;\" transform=\"translate(1221.788206 399.890625)scale(0.1 -0.1)\">\n       <use xlink:href=\"#DejaVuSans-78\"/>\n       <use x=\"74.804688\" xlink:href=\"#DejaVuSans-111\"/>\n       <use x=\"135.986328\" xlink:href=\"#DejaVuSans-114\"/>\n       <use x=\"175.349609\" xlink:href=\"#DejaVuSans-109\"/>\n       <use x=\"272.761719\" xlink:href=\"#DejaVuSans-97\"/>\n       <use x=\"334.041016\" xlink:href=\"#DejaVuSans-108\"/>\n       <use x=\"361.824219\" xlink:href=\"#DejaVuSans-105\"/>\n       <use x=\"389.607422\" xlink:href=\"#DejaVuSans-122\"/>\n       <use x=\"442.097656\" xlink:href=\"#DejaVuSans-101\"/>\n       <use x=\"503.621094\" xlink:href=\"#DejaVuSans-100\"/>\n      </g>\n     </g>\n    </g>\n    <g id=\"xtick_8\">\n     <g id=\"text_22\">\n      <!-- Standardized -->\n      <g style=\"fill:#262626;\" transform=\"translate(1398.443973 399.890625)scale(0.1 -0.1)\">\n       <use xlink:href=\"#DejaVuSans-83\"/>\n       <use x=\"63.476562\" xlink:href=\"#DejaVuSans-116\"/>\n       <use x=\"102.685547\" xlink:href=\"#DejaVuSans-97\"/>\n       <use x=\"163.964844\" xlink:href=\"#DejaVuSans-110\"/>\n       <use x=\"227.34375\" xlink:href=\"#DejaVuSans-100\"/>\n       <use x=\"290.820312\" xlink:href=\"#DejaVuSans-97\"/>\n       <use x=\"352.099609\" xlink:href=\"#DejaVuSans-114\"/>\n       <use x=\"391.462891\" xlink:href=\"#DejaVuSans-100\"/>\n       <use x=\"454.939453\" xlink:href=\"#DejaVuSans-105\"/>\n       <use x=\"482.722656\" xlink:href=\"#DejaVuSans-122\"/>\n       <use x=\"535.212891\" xlink:href=\"#DejaVuSans-101\"/>\n       <use x=\"596.736328\" xlink:href=\"#DejaVuSans-100\"/>\n      </g>\n     </g>\n    </g>\n    <g id=\"xtick_9\">\n     <g id=\"text_23\">\n      <!-- None -->\n      <g style=\"fill:#262626;\" transform=\"translate(1599.722396 399.890625)scale(0.1 -0.1)\">\n       <use xlink:href=\"#DejaVuSans-78\"/>\n       <use x=\"74.804688\" xlink:href=\"#DejaVuSans-111\"/>\n       <use x=\"135.986328\" xlink:href=\"#DejaVuSans-110\"/>\n       <use x=\"199.365234\" xlink:href=\"#DejaVuSans-101\"/>\n      </g>\n     </g>\n    </g>\n    <g id=\"text_24\">\n     <!-- data_processing -->\n     <g style=\"fill:#262626;\" transform=\"translate(1390.749442 413.56875)scale(0.1 -0.1)\">\n      <use xlink:href=\"#DejaVuSans-100\"/>\n      <use x=\"63.476562\" xlink:href=\"#DejaVuSans-97\"/>\n      <use x=\"124.755859\" xlink:href=\"#DejaVuSans-116\"/>\n      <use x=\"163.964844\" xlink:href=\"#DejaVuSans-97\"/>\n      <use x=\"225.244141\" xlink:href=\"#DejaVuSans-95\"/>\n      <use x=\"275.244141\" xlink:href=\"#DejaVuSans-112\"/>\n      <use x=\"338.720703\" xlink:href=\"#DejaVuSans-114\"/>\n      <use x=\"377.583984\" xlink:href=\"#DejaVuSans-111\"/>\n      <use x=\"438.765625\" xlink:href=\"#DejaVuSans-99\"/>\n      <use x=\"493.746094\" xlink:href=\"#DejaVuSans-101\"/>\n      <use x=\"555.269531\" xlink:href=\"#DejaVuSans-115\"/>\n      <use x=\"607.369141\" xlink:href=\"#DejaVuSans-115\"/>\n      <use x=\"659.46875\" xlink:href=\"#DejaVuSans-105\"/>\n      <use x=\"687.251953\" xlink:href=\"#DejaVuSans-110\"/>\n      <use x=\"750.630859\" xlink:href=\"#DejaVuSans-103\"/>\n     </g>\n    </g>\n   </g>\n   <g id=\"matplotlib.axis_6\">\n    <g id=\"ytick_19\">\n     <g id=\"line2d_91\">\n      <path clip-path=\"url(#p1357368455)\" d=\"M 1159.487666 376.087777 \nL 1703.423717 376.087777 \n\" style=\"fill:none;stroke:#cccccc;stroke-linecap:round;stroke-width:0.8;\"/>\n     </g>\n    </g>\n    <g id=\"ytick_20\">\n     <g id=\"line2d_92\">\n      <path clip-path=\"url(#p1357368455)\" d=\"M 1159.487666 333.747597 \nL 1703.423717 333.747597 \n\" style=\"fill:none;stroke:#cccccc;stroke-linecap:round;stroke-width:0.8;\"/>\n     </g>\n    </g>\n    <g id=\"ytick_21\">\n     <g id=\"line2d_93\">\n      <path clip-path=\"url(#p1357368455)\" d=\"M 1159.487666 291.407417 \nL 1703.423717 291.407417 \n\" style=\"fill:none;stroke:#cccccc;stroke-linecap:round;stroke-width:0.8;\"/>\n     </g>\n    </g>\n    <g id=\"ytick_22\">\n     <g id=\"line2d_94\">\n      <path clip-path=\"url(#p1357368455)\" d=\"M 1159.487666 249.067237 \nL 1703.423717 249.067237 \n\" style=\"fill:none;stroke:#cccccc;stroke-linecap:round;stroke-width:0.8;\"/>\n     </g>\n    </g>\n    <g id=\"ytick_23\">\n     <g id=\"line2d_95\">\n      <path clip-path=\"url(#p1357368455)\" d=\"M 1159.487666 206.727056 \nL 1703.423717 206.727056 \n\" style=\"fill:none;stroke:#cccccc;stroke-linecap:round;stroke-width:0.8;\"/>\n     </g>\n    </g>\n    <g id=\"ytick_24\">\n     <g id=\"line2d_96\">\n      <path clip-path=\"url(#p1357368455)\" d=\"M 1159.487666 164.386876 \nL 1703.423717 164.386876 \n\" style=\"fill:none;stroke:#cccccc;stroke-linecap:round;stroke-width:0.8;\"/>\n     </g>\n    </g>\n    <g id=\"ytick_25\">\n     <g id=\"line2d_97\">\n      <path clip-path=\"url(#p1357368455)\" d=\"M 1159.487666 122.046696 \nL 1703.423717 122.046696 \n\" style=\"fill:none;stroke:#cccccc;stroke-linecap:round;stroke-width:0.8;\"/>\n     </g>\n    </g>\n    <g id=\"ytick_26\">\n     <g id=\"line2d_98\">\n      <path clip-path=\"url(#p1357368455)\" d=\"M 1159.487666 79.706516 \nL 1703.423717 79.706516 \n\" style=\"fill:none;stroke:#cccccc;stroke-linecap:round;stroke-width:0.8;\"/>\n     </g>\n    </g>\n    <g id=\"ytick_27\">\n     <g id=\"line2d_99\">\n      <path clip-path=\"url(#p1357368455)\" d=\"M 1159.487666 37.366335 \nL 1703.423717 37.366335 \n\" style=\"fill:none;stroke:#cccccc;stroke-linecap:round;stroke-width:0.8;\"/>\n     </g>\n    </g>\n   </g>\n   <g id=\"patch_25\">\n    <path clip-path=\"url(#p1357368455)\" d=\"M 1178.344116 44.269636 \nL 1249.418427 44.269636 \nL 1249.418427 41.968553 \nL 1178.344116 41.968553 \nL 1178.344116 44.269636 \nz\n\" style=\"fill:#5a948a;stroke:#323232;stroke-linejoin:miter;stroke-width:1.5;\"/>\n   </g>\n   <g id=\"patch_26\">\n    <path clip-path=\"url(#p1357368455)\" d=\"M 1250.868923 129.410183 \nL 1321.943234 129.410183 \nL 1321.943234 90.291548 \nL 1250.868923 90.291548 \nL 1250.868923 129.410183 \nz\n\" style=\"fill:#2b667c;stroke:#323232;stroke-linejoin:miter;stroke-width:1.5;\"/>\n   </g>\n   <g id=\"patch_27\">\n    <path clip-path=\"url(#p1357368455)\" d=\"M 1359.656133 42.543824 \nL 1430.730444 42.543824 \nL 1430.730444 39.667419 \nL 1359.656133 39.667419 \nL 1359.656133 42.543824 \nz\n\" style=\"fill:#5a948a;stroke:#323232;stroke-linejoin:miter;stroke-width:1.5;\"/>\n   </g>\n   <g id=\"patch_28\">\n    <path clip-path=\"url(#p1357368455)\" d=\"M 1432.18094 129.410183 \nL 1503.255251 129.410183 \nL 1503.255251 92.592644 \nL 1432.18094 92.592644 \nL 1432.18094 129.410183 \nz\n\" style=\"fill:#2b667c;stroke:#323232;stroke-linejoin:miter;stroke-width:1.5;\"/>\n   </g>\n   <g id=\"patch_29\">\n    <path clip-path=\"url(#p1357368455)\" d=\"M 1540.96815 41.968553 \nL 1612.042461 41.968553 \nL 1612.042461 39.667419 \nL 1540.96815 39.667419 \nL 1540.96815 41.968553 \nz\n\" style=\"fill:#5a948a;stroke:#323232;stroke-linejoin:miter;stroke-width:1.5;\"/>\n   </g>\n   <g id=\"patch_30\">\n    <path clip-path=\"url(#p1357368455)\" d=\"M 1613.492957 129.410183 \nL 1684.567268 129.410183 \nL 1684.567268 101.797029 \nL 1613.492957 101.797029 \nL 1613.492957 129.410183 \nz\n\" style=\"fill:#2b667c;stroke:#323232;stroke-linejoin:miter;stroke-width:1.5;\"/>\n   </g>\n   <g id=\"patch_31\">\n    <path clip-path=\"url(#p1357368455)\" d=\"M 1250.143675 884.169941 \nL 1250.143675 884.169941 \nL 1250.143675 884.169941 \nL 1250.143675 884.169941 \nz\n\" style=\"fill:#5a948a;stroke:#323232;stroke-linejoin:miter;stroke-width:0.75;\"/>\n   </g>\n   <g id=\"patch_32\">\n    <path clip-path=\"url(#p1357368455)\" d=\"M 1250.143675 884.169941 \nL 1250.143675 884.169941 \nL 1250.143675 884.169941 \nL 1250.143675 884.169941 \nz\n\" style=\"fill:#2b667c;stroke:#323232;stroke-linejoin:miter;stroke-width:0.75;\"/>\n   </g>\n   <g id=\"line2d_100\">\n    <path clip-path=\"url(#p1357368455)\" d=\"M 1213.881271 44.269636 \nL 1213.881271 46.57072 \n\" style=\"fill:none;stroke:#323232;stroke-linecap:round;stroke-width:1.5;\"/>\n   </g>\n   <g id=\"line2d_101\">\n    <path clip-path=\"url(#p1357368455)\" d=\"M 1213.881271 41.968553 \nL 1213.881271 39.667419 \n\" style=\"fill:none;stroke:#323232;stroke-linecap:round;stroke-width:1.5;\"/>\n   </g>\n   <g id=\"line2d_102\">\n    <path clip-path=\"url(#p1357368455)\" d=\"M 1196.112694 46.57072 \nL 1231.649849 46.57072 \n\" style=\"fill:none;stroke:#323232;stroke-linecap:round;stroke-width:1.5;\"/>\n   </g>\n   <g id=\"line2d_103\">\n    <path clip-path=\"url(#p1357368455)\" d=\"M 1196.112694 39.667419 \nL 1231.649849 39.667419 \n\" style=\"fill:none;stroke:#323232;stroke-linecap:round;stroke-width:1.5;\"/>\n   </g>\n   <g id=\"line2d_104\">\n    <g clip-path=\"url(#p1357368455)\">\n     <use style=\"fill:#323232;stroke:#323232;stroke-linejoin:miter;\" x=\"1213.881271\" xlink:href=\"#m4351f6c29f\" y=\"37.366335\"/>\n    </g>\n   </g>\n   <g id=\"line2d_105\">\n    <path clip-path=\"url(#p1357368455)\" d=\"M 1286.406078 129.410183 \nL 1286.406078 184.636543 \n\" style=\"fill:none;stroke:#323232;stroke-linecap:round;stroke-width:1.5;\"/>\n   </g>\n   <g id=\"line2d_106\">\n    <path clip-path=\"url(#p1357368455)\" d=\"M 1286.406078 90.291548 \nL 1286.406078 64.97949 \n\" style=\"fill:none;stroke:#323232;stroke-linecap:round;stroke-width:1.5;\"/>\n   </g>\n   <g id=\"line2d_107\">\n    <path clip-path=\"url(#p1357368455)\" d=\"M 1268.637501 184.636543 \nL 1304.174656 184.636543 \n\" style=\"fill:none;stroke:#323232;stroke-linecap:round;stroke-width:1.5;\"/>\n   </g>\n   <g id=\"line2d_108\">\n    <path clip-path=\"url(#p1357368455)\" d=\"M 1268.637501 64.97949 \nL 1304.174656 64.97949 \n\" style=\"fill:none;stroke:#323232;stroke-linecap:round;stroke-width:1.5;\"/>\n   </g>\n   <g id=\"line2d_109\"/>\n   <g id=\"line2d_110\">\n    <path clip-path=\"url(#p1357368455)\" d=\"M 1395.193288 42.543824 \nL 1395.193288 46.57072 \n\" style=\"fill:none;stroke:#323232;stroke-linecap:round;stroke-width:1.5;\"/>\n   </g>\n   <g id=\"line2d_111\">\n    <path clip-path=\"url(#p1357368455)\" d=\"M 1395.193288 39.667419 \nL 1395.193288 37.366335 \n\" style=\"fill:none;stroke:#323232;stroke-linecap:round;stroke-width:1.5;\"/>\n   </g>\n   <g id=\"line2d_112\">\n    <path clip-path=\"url(#p1357368455)\" d=\"M 1377.424711 46.57072 \nL 1412.961866 46.57072 \n\" style=\"fill:none;stroke:#323232;stroke-linecap:round;stroke-width:1.5;\"/>\n   </g>\n   <g id=\"line2d_113\">\n    <path clip-path=\"url(#p1357368455)\" d=\"M 1377.424711 37.366335 \nL 1412.961866 37.366335 \n\" style=\"fill:none;stroke:#323232;stroke-linecap:round;stroke-width:1.5;\"/>\n   </g>\n   <g id=\"line2d_114\"/>\n   <g id=\"line2d_115\">\n    <path clip-path=\"url(#p1357368455)\" d=\"M 1467.718095 129.410183 \nL 1467.718095 175.432158 \n\" style=\"fill:none;stroke:#323232;stroke-linecap:round;stroke-width:1.5;\"/>\n   </g>\n   <g id=\"line2d_116\">\n    <path clip-path=\"url(#p1357368455)\" d=\"M 1467.718095 92.592644 \nL 1467.718095 74.183875 \n\" style=\"fill:none;stroke:#323232;stroke-linecap:round;stroke-width:1.5;\"/>\n   </g>\n   <g id=\"line2d_117\">\n    <path clip-path=\"url(#p1357368455)\" d=\"M 1449.949518 175.432158 \nL 1485.486673 175.432158 \n\" style=\"fill:none;stroke:#323232;stroke-linecap:round;stroke-width:1.5;\"/>\n   </g>\n   <g id=\"line2d_118\">\n    <path clip-path=\"url(#p1357368455)\" d=\"M 1449.949518 74.183875 \nL 1485.486673 74.183875 \n\" style=\"fill:none;stroke:#323232;stroke-linecap:round;stroke-width:1.5;\"/>\n   </g>\n   <g id=\"line2d_119\">\n    <g clip-path=\"url(#p1357368455)\">\n     <use style=\"fill:#323232;stroke:#323232;stroke-linejoin:miter;\" x=\"1467.718095\" xlink:href=\"#m4351f6c29f\" y=\"184.636543\"/>\n    </g>\n   </g>\n   <g id=\"line2d_120\">\n    <path clip-path=\"url(#p1357368455)\" d=\"M 1576.505306 41.968553 \nL 1576.505306 44.269636 \n\" style=\"fill:none;stroke:#323232;stroke-linecap:round;stroke-width:1.5;\"/>\n   </g>\n   <g id=\"line2d_121\">\n    <path clip-path=\"url(#p1357368455)\" d=\"M 1576.505306 39.667419 \nL 1576.505306 37.366335 \n\" style=\"fill:none;stroke:#323232;stroke-linecap:round;stroke-width:1.5;\"/>\n   </g>\n   <g id=\"line2d_122\">\n    <path clip-path=\"url(#p1357368455)\" d=\"M 1558.736728 44.269636 \nL 1594.273883 44.269636 \n\" style=\"fill:none;stroke:#323232;stroke-linecap:round;stroke-width:1.5;\"/>\n   </g>\n   <g id=\"line2d_123\">\n    <path clip-path=\"url(#p1357368455)\" d=\"M 1558.736728 37.366335 \nL 1594.273883 37.366335 \n\" style=\"fill:none;stroke:#323232;stroke-linecap:round;stroke-width:1.5;\"/>\n   </g>\n   <g id=\"line2d_124\">\n    <g clip-path=\"url(#p1357368455)\">\n     <use style=\"fill:#323232;stroke:#323232;stroke-linejoin:miter;\" x=\"1576.505306\" xlink:href=\"#m4351f6c29f\" y=\"48.871804\"/>\n     <use style=\"fill:#323232;stroke:#323232;stroke-linejoin:miter;\" x=\"1576.505306\" xlink:href=\"#m4351f6c29f\" y=\"46.57072\"/>\n    </g>\n   </g>\n   <g id=\"line2d_125\">\n    <path clip-path=\"url(#p1357368455)\" d=\"M 1649.030112 129.410183 \nL 1649.030112 147.819004 \n\" style=\"fill:none;stroke:#323232;stroke-linecap:round;stroke-width:1.5;\"/>\n   </g>\n   <g id=\"line2d_126\">\n    <path clip-path=\"url(#p1357368455)\" d=\"M 1649.030112 101.797029 \nL 1649.030112 64.97949 \n\" style=\"fill:none;stroke:#323232;stroke-linecap:round;stroke-width:1.5;\"/>\n   </g>\n   <g id=\"line2d_127\">\n    <path clip-path=\"url(#p1357368455)\" d=\"M 1631.261535 147.819004 \nL 1666.79869 147.819004 \n\" style=\"fill:none;stroke:#323232;stroke-linecap:round;stroke-width:1.5;\"/>\n   </g>\n   <g id=\"line2d_128\">\n    <path clip-path=\"url(#p1357368455)\" d=\"M 1631.261535 64.97949 \nL 1666.79869 64.97949 \n\" style=\"fill:none;stroke:#323232;stroke-linecap:round;stroke-width:1.5;\"/>\n   </g>\n   <g id=\"line2d_129\">\n    <g clip-path=\"url(#p1357368455)\">\n     <use style=\"fill:#323232;stroke:#323232;stroke-linejoin:miter;\" x=\"1649.030112\" xlink:href=\"#m4351f6c29f\" y=\"175.432158\"/>\n    </g>\n   </g>\n   <g id=\"line2d_130\">\n    <path clip-path=\"url(#p1357368455)\" d=\"M 1178.344116 41.968553 \nL 1249.418427 41.968553 \n\" style=\"fill:none;stroke:#323232;stroke-linecap:round;stroke-width:1.5;\"/>\n   </g>\n   <g id=\"line2d_131\">\n    <path clip-path=\"url(#p1357368455)\" d=\"M 1250.868923 101.797029 \nL 1321.943234 101.797029 \n\" style=\"fill:none;stroke:#323232;stroke-linecap:round;stroke-width:1.5;\"/>\n   </g>\n   <g id=\"line2d_132\">\n    <path clip-path=\"url(#p1357368455)\" d=\"M 1359.656133 39.667419 \nL 1430.730444 39.667419 \n\" style=\"fill:none;stroke:#323232;stroke-linecap:round;stroke-width:1.5;\"/>\n   </g>\n   <g id=\"line2d_133\">\n    <path clip-path=\"url(#p1357368455)\" d=\"M 1432.18094 101.797029 \nL 1503.255251 101.797029 \n\" style=\"fill:none;stroke:#323232;stroke-linecap:round;stroke-width:1.5;\"/>\n   </g>\n   <g id=\"line2d_134\">\n    <path clip-path=\"url(#p1357368455)\" d=\"M 1540.96815 41.968553 \nL 1612.042461 41.968553 \n\" style=\"fill:none;stroke:#323232;stroke-linecap:round;stroke-width:1.5;\"/>\n   </g>\n   <g id=\"line2d_135\">\n    <path clip-path=\"url(#p1357368455)\" d=\"M 1613.492957 111.001414 \nL 1684.567268 111.001414 \n\" style=\"fill:none;stroke:#323232;stroke-linecap:round;stroke-width:1.5;\"/>\n   </g>\n   <g id=\"patch_33\">\n    <path d=\"M 1159.487666 385.292187 \nL 1159.487666 20.798437 \n\" style=\"fill:none;stroke:#cccccc;stroke-linecap:square;stroke-linejoin:miter;stroke-width:0.8;\"/>\n   </g>\n   <g id=\"patch_34\">\n    <path d=\"M 1159.487666 385.292187 \nL 1703.423717 385.292187 \n\" style=\"fill:none;stroke:#cccccc;stroke-linecap:square;stroke-linejoin:miter;stroke-width:0.8;\"/>\n   </g>\n   <g id=\"text_25\">\n    <!-- model = RF -->\n    <g style=\"fill:#262626;\" transform=\"translate(1402.168192 14.798437)scale(0.1 -0.1)\">\n     <defs>\n      <path d=\"M 44.390625 34.1875 \nQ 47.5625 33.109375 50.5625 29.59375 \nQ 53.5625 26.078125 56.59375 19.921875 \nL 66.609375 0 \nL 56 0 \nL 46.6875 18.703125 \nQ 43.0625 26.03125 39.671875 28.421875 \nQ 36.28125 30.8125 30.421875 30.8125 \nL 19.671875 30.8125 \nL 19.671875 0 \nL 9.8125 0 \nL 9.8125 72.90625 \nL 32.078125 72.90625 \nQ 44.578125 72.90625 50.734375 67.671875 \nQ 56.890625 62.453125 56.890625 51.90625 \nQ 56.890625 45.015625 53.6875 40.46875 \nQ 50.484375 35.9375 44.390625 34.1875 \nz\nM 19.671875 64.796875 \nL 19.671875 38.921875 \nL 32.078125 38.921875 \nQ 39.203125 38.921875 42.84375 42.21875 \nQ 46.484375 45.515625 46.484375 51.90625 \nQ 46.484375 58.296875 42.84375 61.546875 \nQ 39.203125 64.796875 32.078125 64.796875 \nz\n\" id=\"DejaVuSans-82\"/>\n     </defs>\n     <use xlink:href=\"#DejaVuSans-109\"/>\n     <use x=\"97.412109\" xlink:href=\"#DejaVuSans-111\"/>\n     <use x=\"158.59375\" xlink:href=\"#DejaVuSans-100\"/>\n     <use x=\"222.070312\" xlink:href=\"#DejaVuSans-101\"/>\n     <use x=\"283.59375\" xlink:href=\"#DejaVuSans-108\"/>\n     <use x=\"311.376953\" xlink:href=\"#DejaVuSans-32\"/>\n     <use x=\"343.164062\" xlink:href=\"#DejaVuSans-61\"/>\n     <use x=\"426.953125\" xlink:href=\"#DejaVuSans-32\"/>\n     <use x=\"458.740234\" xlink:href=\"#DejaVuSans-82\"/>\n     <use x=\"528.222656\" xlink:href=\"#DejaVuSans-70\"/>\n    </g>\n   </g>\n  </g>\n  <g id=\"legend_1\">\n   <g id=\"text_26\">\n    <!-- acc_type -->\n    <g style=\"fill:#262626;\" transform=\"translate(1737.560905 199.227344)scale(0.1 -0.1)\">\n     <use xlink:href=\"#DejaVuSans-97\"/>\n     <use x=\"61.279297\" xlink:href=\"#DejaVuSans-99\"/>\n     <use x=\"116.259766\" xlink:href=\"#DejaVuSans-99\"/>\n     <use x=\"171.240234\" xlink:href=\"#DejaVuSans-95\"/>\n     <use x=\"221.240234\" xlink:href=\"#DejaVuSans-116\"/>\n     <use x=\"260.449219\" xlink:href=\"#DejaVuSans-121\"/>\n     <use x=\"319.628906\" xlink:href=\"#DejaVuSans-112\"/>\n     <use x=\"383.105469\" xlink:href=\"#DejaVuSans-101\"/>\n    </g>\n   </g>\n   <g id=\"patch_35\">\n    <path d=\"M 1722.737467 214.183594 \nL 1742.737467 214.183594 \nL 1742.737467 207.183594 \nL 1722.737467 207.183594 \nz\n\" style=\"fill:#5a948a;stroke:#323232;stroke-linejoin:miter;stroke-width:0.75;\"/>\n   </g>\n   <g id=\"text_27\">\n    <!-- Train_acc -->\n    <g style=\"fill:#262626;\" transform=\"translate(1750.737467 214.183594)scale(0.1 -0.1)\">\n     <defs>\n      <path d=\"M -0.296875 72.90625 \nL 61.375 72.90625 \nL 61.375 64.59375 \nL 35.5 64.59375 \nL 35.5 0 \nL 25.59375 0 \nL 25.59375 64.59375 \nL -0.296875 64.59375 \nz\n\" id=\"DejaVuSans-84\"/>\n     </defs>\n     <use xlink:href=\"#DejaVuSans-84\"/>\n     <use x=\"46.333984\" xlink:href=\"#DejaVuSans-114\"/>\n     <use x=\"87.447266\" xlink:href=\"#DejaVuSans-97\"/>\n     <use x=\"148.726562\" xlink:href=\"#DejaVuSans-105\"/>\n     <use x=\"176.509766\" xlink:href=\"#DejaVuSans-110\"/>\n     <use x=\"239.888672\" xlink:href=\"#DejaVuSans-95\"/>\n     <use x=\"289.888672\" xlink:href=\"#DejaVuSans-97\"/>\n     <use x=\"351.167969\" xlink:href=\"#DejaVuSans-99\"/>\n     <use x=\"406.148438\" xlink:href=\"#DejaVuSans-99\"/>\n    </g>\n   </g>\n   <g id=\"patch_36\">\n    <path d=\"M 1722.737467 229.139844 \nL 1742.737467 229.139844 \nL 1742.737467 222.139844 \nL 1722.737467 222.139844 \nz\n\" style=\"fill:#2b667c;stroke:#323232;stroke-linejoin:miter;stroke-width:0.75;\"/>\n   </g>\n   <g id=\"text_28\">\n    <!-- Test_acc -->\n    <g style=\"fill:#262626;\" transform=\"translate(1750.737467 229.139844)scale(0.1 -0.1)\">\n     <use xlink:href=\"#DejaVuSans-84\"/>\n     <use x=\"44.083984\" xlink:href=\"#DejaVuSans-101\"/>\n     <use x=\"105.607422\" xlink:href=\"#DejaVuSans-115\"/>\n     <use x=\"157.707031\" xlink:href=\"#DejaVuSans-116\"/>\n     <use x=\"196.916016\" xlink:href=\"#DejaVuSans-95\"/>\n     <use x=\"246.916016\" xlink:href=\"#DejaVuSans-97\"/>\n     <use x=\"308.195312\" xlink:href=\"#DejaVuSans-99\"/>\n     <use x=\"363.175781\" xlink:href=\"#DejaVuSans-99\"/>\n    </g>\n   </g>\n  </g>\n </g>\n <defs>\n  <clipPath id=\"pcc1cc20a31\">\n   <rect height=\"364.49375\" width=\"543.936051\" x=\"50.14375\" y=\"20.798437\"/>\n  </clipPath>\n  <clipPath id=\"p00149dcdd1\">\n   <rect height=\"364.49375\" width=\"543.936051\" x=\"604.815708\" y=\"20.798437\"/>\n  </clipPath>\n  <clipPath id=\"p1357368455\">\n   <rect height=\"364.49375\" width=\"543.936051\" x=\"1159.487666\" y=\"20.798437\"/>\n  </clipPath>\n </defs>\n</svg>\n",
      "image/png": "[encoded data removed]"
     },
     "metadata": {}
    }
   ],
   "metadata": {}
  },
  {
   "cell_type": "code",
   "execution_count": 16,
   "source": [
    "data_og.describe()"
   ],
   "outputs": [
    {
     "output_type": "execute_result",
     "data": {
      "text/plain": [
       "       significance  flux_aper_hilim_s  flux_aper_hilim_u  flux_aper_hilim_m  \\\n",
       "count    460.000000         460.000000         460.000000         460.000000   \n",
       "mean      70.680500         -13.665727         -10.585485         -13.672153   \n",
       "std      109.946267           3.758502           6.281784           3.562725   \n",
       "min        2.110000         -16.403623         -16.286762         -16.438660   \n",
       "25%       11.120000         -15.157782         -14.772950         -15.097236   \n",
       "50%       23.470000         -14.736025         -13.558464         -14.643783   \n",
       "75%       49.260000         -13.884391           0.000000         -13.880179   \n",
       "max      376.060000           0.000000           0.000000           0.000000   \n",
       "\n",
       "       flux_aper_hilim_h  flux_aper_hilim_b  flux_aper_lolim_s  \\\n",
       "count         460.000000         460.000000         460.000000   \n",
       "mean          -13.524028         -13.598865          -9.545423   \n",
       "std             2.445021           1.872480           7.192002   \n",
       "min           -16.050805         -16.001523         -17.513428   \n",
       "25%           -14.486419         -14.402365         -15.235153   \n",
       "50%           -13.813854         -13.795609         -14.031779   \n",
       "75%           -13.312095         -13.246092           0.000000   \n",
       "max             0.000000           0.000000           0.000000   \n",
       "\n",
       "       flux_aper_lolim_u  flux_aper_lolim_m  flux_aper_lolim_h  ...  \\\n",
       "count         460.000000         460.000000         460.000000  ...   \n",
       "mean           -2.479007         -10.270777         -11.095915  ...   \n",
       "std             5.508112           6.885564           5.952367  ...   \n",
       "min           -16.808549         -17.283162         -16.795609  ...   \n",
       "25%             0.000000         -15.289121         -14.680062  ...   \n",
       "50%             0.000000         -14.179348         -13.784101  ...   \n",
       "75%             0.000000           0.000000         -12.544880  ...   \n",
       "max             0.000000           0.000000           0.000000  ...   \n",
       "\n",
       "         flux_brems  flux_brems_lolim  flux_brems_hilim    brems_kt  \\\n",
       "count  4.600000e+02      4.600000e+02      4.600000e+02  460.000000   \n",
       "mean   3.976932e-14      3.684994e-14      4.187235e-14    1.109605   \n",
       "std    1.828352e-13      1.716889e-13      1.908868e-13    8.512305   \n",
       "min    0.000000e+00      0.000000e+00      0.000000e+00    0.000000   \n",
       "25%    0.000000e+00      0.000000e+00      0.000000e+00    0.000000   \n",
       "50%    0.000000e+00      0.000000e+00      0.000000e+00    0.000000   \n",
       "75%    0.000000e+00      0.000000e+00      0.000000e+00    0.000000   \n",
       "max    1.674000e-12      1.627000e-12      1.726000e-12  100.000000   \n",
       "\n",
       "       brems_kt_hilim  brems_kt_lolim     brems_nh  brems_nh_hilim  \\\n",
       "count      460.000000      460.000000   460.000000      460.000000   \n",
       "mean         0.566298        0.565308    16.913367       20.985130   \n",
       "std          2.798337        4.297048   110.659935      138.121021   \n",
       "min          0.000000        0.000000     0.000000        0.000000   \n",
       "25%          0.000000        0.000000     0.000000        0.000000   \n",
       "50%          0.000000        0.000000     0.000000        0.000000   \n",
       "75%          0.000000        0.000000     0.000000        0.000000   \n",
       "max         35.720000       81.320000  1472.000000     1712.000000   \n",
       "\n",
       "       brems_nh_lolim  brems_stat  \n",
       "count      460.000000  460.000000  \n",
       "mean        14.195144    0.158613  \n",
       "std         94.621092    0.603954  \n",
       "min          0.000000    0.000000  \n",
       "25%          0.000000    0.000000  \n",
       "50%          0.000000    0.000000  \n",
       "75%          0.000000    0.000000  \n",
       "max       1380.000000    9.074000  \n",
       "\n",
       "[8 rows x 93 columns]"
      ],
      "text/html": [
       "<div>\n",
       "<style scoped>\n",
       "    .dataframe tbody tr th:only-of-type {\n",
       "        vertical-align: middle;\n",
       "    }\n",
       "\n",
       "    .dataframe tbody tr th {\n",
       "        vertical-align: top;\n",
       "    }\n",
       "\n",
       "    .dataframe thead th {\n",
       "        text-align: right;\n",
       "    }\n",
       "</style>\n",
       "<table border=\"1\" class=\"dataframe\">\n",
       "  <thead>\n",
       "    <tr style=\"text-align: right;\">\n",
       "      <th></th>\n",
       "      <th>significance</th>\n",
       "      <th>flux_aper_hilim_s</th>\n",
       "      <th>flux_aper_hilim_u</th>\n",
       "      <th>flux_aper_hilim_m</th>\n",
       "      <th>flux_aper_hilim_h</th>\n",
       "      <th>flux_aper_hilim_b</th>\n",
       "      <th>flux_aper_lolim_s</th>\n",
       "      <th>flux_aper_lolim_u</th>\n",
       "      <th>flux_aper_lolim_m</th>\n",
       "      <th>flux_aper_lolim_h</th>\n",
       "      <th>...</th>\n",
       "      <th>flux_brems</th>\n",
       "      <th>flux_brems_lolim</th>\n",
       "      <th>flux_brems_hilim</th>\n",
       "      <th>brems_kt</th>\n",
       "      <th>brems_kt_hilim</th>\n",
       "      <th>brems_kt_lolim</th>\n",
       "      <th>brems_nh</th>\n",
       "      <th>brems_nh_hilim</th>\n",
       "      <th>brems_nh_lolim</th>\n",
       "      <th>brems_stat</th>\n",
       "    </tr>\n",
       "  </thead>\n",
       "  <tbody>\n",
       "    <tr>\n",
       "      <th>count</th>\n",
       "      <td>460.000000</td>\n",
       "      <td>460.000000</td>\n",
       "      <td>460.000000</td>\n",
       "      <td>460.000000</td>\n",
       "      <td>460.000000</td>\n",
       "      <td>460.000000</td>\n",
       "      <td>460.000000</td>\n",
       "      <td>460.000000</td>\n",
       "      <td>460.000000</td>\n",
       "      <td>460.000000</td>\n",
       "      <td>...</td>\n",
       "      <td>4.600000e+02</td>\n",
       "      <td>4.600000e+02</td>\n",
       "      <td>4.600000e+02</td>\n",
       "      <td>460.000000</td>\n",
       "      <td>460.000000</td>\n",
       "      <td>460.000000</td>\n",
       "      <td>460.000000</td>\n",
       "      <td>460.000000</td>\n",
       "      <td>460.000000</td>\n",
       "      <td>460.000000</td>\n",
       "    </tr>\n",
       "    <tr>\n",
       "      <th>mean</th>\n",
       "      <td>70.680500</td>\n",
       "      <td>-13.665727</td>\n",
       "      <td>-10.585485</td>\n",
       "      <td>-13.672153</td>\n",
       "      <td>-13.524028</td>\n",
       "      <td>-13.598865</td>\n",
       "      <td>-9.545423</td>\n",
       "      <td>-2.479007</td>\n",
       "      <td>-10.270777</td>\n",
       "      <td>-11.095915</td>\n",
       "      <td>...</td>\n",
       "      <td>3.976932e-14</td>\n",
       "      <td>3.684994e-14</td>\n",
       "      <td>4.187235e-14</td>\n",
       "      <td>1.109605</td>\n",
       "      <td>0.566298</td>\n",
       "      <td>0.565308</td>\n",
       "      <td>16.913367</td>\n",
       "      <td>20.985130</td>\n",
       "      <td>14.195144</td>\n",
       "      <td>0.158613</td>\n",
       "    </tr>\n",
       "    <tr>\n",
       "      <th>std</th>\n",
       "      <td>109.946267</td>\n",
       "      <td>3.758502</td>\n",
       "      <td>6.281784</td>\n",
       "      <td>3.562725</td>\n",
       "      <td>2.445021</td>\n",
       "      <td>1.872480</td>\n",
       "      <td>7.192002</td>\n",
       "      <td>5.508112</td>\n",
       "      <td>6.885564</td>\n",
       "      <td>5.952367</td>\n",
       "      <td>...</td>\n",
       "      <td>1.828352e-13</td>\n",
       "      <td>1.716889e-13</td>\n",
       "      <td>1.908868e-13</td>\n",
       "      <td>8.512305</td>\n",
       "      <td>2.798337</td>\n",
       "      <td>4.297048</td>\n",
       "      <td>110.659935</td>\n",
       "      <td>138.121021</td>\n",
       "      <td>94.621092</td>\n",
       "      <td>0.603954</td>\n",
       "    </tr>\n",
       "    <tr>\n",
       "      <th>min</th>\n",
       "      <td>2.110000</td>\n",
       "      <td>-16.403623</td>\n",
       "      <td>-16.286762</td>\n",
       "      <td>-16.438660</td>\n",
       "      <td>-16.050805</td>\n",
       "      <td>-16.001523</td>\n",
       "      <td>-17.513428</td>\n",
       "      <td>-16.808549</td>\n",
       "      <td>-17.283162</td>\n",
       "      <td>-16.795609</td>\n",
       "      <td>...</td>\n",
       "      <td>0.000000e+00</td>\n",
       "      <td>0.000000e+00</td>\n",
       "      <td>0.000000e+00</td>\n",
       "      <td>0.000000</td>\n",
       "      <td>0.000000</td>\n",
       "      <td>0.000000</td>\n",
       "      <td>0.000000</td>\n",
       "      <td>0.000000</td>\n",
       "      <td>0.000000</td>\n",
       "      <td>0.000000</td>\n",
       "    </tr>\n",
       "    <tr>\n",
       "      <th>25%</th>\n",
       "      <td>11.120000</td>\n",
       "      <td>-15.157782</td>\n",
       "      <td>-14.772950</td>\n",
       "      <td>-15.097236</td>\n",
       "      <td>-14.486419</td>\n",
       "      <td>-14.402365</td>\n",
       "      <td>-15.235153</td>\n",
       "      <td>0.000000</td>\n",
       "      <td>-15.289121</td>\n",
       "      <td>-14.680062</td>\n",
       "      <td>...</td>\n",
       "      <td>0.000000e+00</td>\n",
       "      <td>0.000000e+00</td>\n",
       "      <td>0.000000e+00</td>\n",
       "      <td>0.000000</td>\n",
       "      <td>0.000000</td>\n",
       "      <td>0.000000</td>\n",
       "      <td>0.000000</td>\n",
       "      <td>0.000000</td>\n",
       "      <td>0.000000</td>\n",
       "      <td>0.000000</td>\n",
       "    </tr>\n",
       "    <tr>\n",
       "      <th>50%</th>\n",
       "      <td>23.470000</td>\n",
       "      <td>-14.736025</td>\n",
       "      <td>-13.558464</td>\n",
       "      <td>-14.643783</td>\n",
       "      <td>-13.813854</td>\n",
       "      <td>-13.795609</td>\n",
       "      <td>-14.031779</td>\n",
       "      <td>0.000000</td>\n",
       "      <td>-14.179348</td>\n",
       "      <td>-13.784101</td>\n",
       "      <td>...</td>\n",
       "      <td>0.000000e+00</td>\n",
       "      <td>0.000000e+00</td>\n",
       "      <td>0.000000e+00</td>\n",
       "      <td>0.000000</td>\n",
       "      <td>0.000000</td>\n",
       "      <td>0.000000</td>\n",
       "      <td>0.000000</td>\n",
       "      <td>0.000000</td>\n",
       "      <td>0.000000</td>\n",
       "      <td>0.000000</td>\n",
       "    </tr>\n",
       "    <tr>\n",
       "      <th>75%</th>\n",
       "      <td>49.260000</td>\n",
       "      <td>-13.884391</td>\n",
       "      <td>0.000000</td>\n",
       "      <td>-13.880179</td>\n",
       "      <td>-13.312095</td>\n",
       "      <td>-13.246092</td>\n",
       "      <td>0.000000</td>\n",
       "      <td>0.000000</td>\n",
       "      <td>0.000000</td>\n",
       "      <td>-12.544880</td>\n",
       "      <td>...</td>\n",
       "      <td>0.000000e+00</td>\n",
       "      <td>0.000000e+00</td>\n",
       "      <td>0.000000e+00</td>\n",
       "      <td>0.000000</td>\n",
       "      <td>0.000000</td>\n",
       "      <td>0.000000</td>\n",
       "      <td>0.000000</td>\n",
       "      <td>0.000000</td>\n",
       "      <td>0.000000</td>\n",
       "      <td>0.000000</td>\n",
       "    </tr>\n",
       "    <tr>\n",
       "      <th>max</th>\n",
       "      <td>376.060000</td>\n",
       "      <td>0.000000</td>\n",
       "      <td>0.000000</td>\n",
       "      <td>0.000000</td>\n",
       "      <td>0.000000</td>\n",
       "      <td>0.000000</td>\n",
       "      <td>0.000000</td>\n",
       "      <td>0.000000</td>\n",
       "      <td>0.000000</td>\n",
       "      <td>0.000000</td>\n",
       "      <td>...</td>\n",
       "      <td>1.674000e-12</td>\n",
       "      <td>1.627000e-12</td>\n",
       "      <td>1.726000e-12</td>\n",
       "      <td>100.000000</td>\n",
       "      <td>35.720000</td>\n",
       "      <td>81.320000</td>\n",
       "      <td>1472.000000</td>\n",
       "      <td>1712.000000</td>\n",
       "      <td>1380.000000</td>\n",
       "      <td>9.074000</td>\n",
       "    </tr>\n",
       "  </tbody>\n",
       "</table>\n",
       "<p>8 rows × 93 columns</p>\n",
       "</div>"
      ]
     },
     "metadata": {},
     "execution_count": 16
    }
   ],
   "metadata": {}
  },
  {
   "cell_type": "code",
   "execution_count": 105,
   "source": [
    "with open(\"plot.html\", \"w\") as f:\n",
    "    f.write(tfdf.model_plotter.plot_model(\n",
    "        model ,\n",
    "        tree_idx = 250 ,\n",
    "        max_depth = 20\n",
    "        ))"
   ],
   "outputs": [],
   "metadata": {}
  },
  {
   "cell_type": "markdown",
   "source": [
    "## Comparison across Imputation"
   ],
   "metadata": {}
  },
  {
   "cell_type": "code",
   "execution_count": 10,
   "source": [
    "data_corr = pd.read_csv('../processed_data/train_norm_corr' , index_col=0).reset_index(drop=True)\n",
    "data_zero = pd.read_csv('../processed_data/train_norm_zero' , index_col=0).reset_index(drop=True)\n",
    "data_mean = pd.read_csv('../processed_data/train_norm_mean' , index_col=0).reset_index(drop=True)\n",
    "data_median = pd.read_csv('../processed_data/train_norm_median' , index_col=0).reset_index(drop=True)\n",
    "data_rf = pd.read_csv('../processed_data/train_none_rf_impute' , index_col=0).reset_index(drop=True)\n",
    "data_corr.head(2)"
   ],
   "outputs": [
    {
     "output_type": "execute_result",
     "data": {
      "text/plain": [
       "  class                 src_n  src_id  significance  flux_aper_hilim_s  \\\n",
       "0    NS  J1748-2021#2          NS0056          6.25           0.335171   \n",
       "1    NS  EXO 1745-248          NS0020         23.47           0.354061   \n",
       "\n",
       "   flux_aper_hilim_u  flux_aper_hilim_m  flux_aper_hilim_h  flux_aper_hilim_b  \\\n",
       "0           0.168648           0.376587           0.254273           0.287741   \n",
       "1           0.569897           0.493711           0.459409           0.481761   \n",
       "\n",
       "   flux_aper_lolim_s  ...  flux_brems  flux_brems_lolim  flux_brems_hilim  \\\n",
       "0           0.376253  ...    0.039243          0.043996          0.036741   \n",
       "1           0.403466  ...    0.040868          0.045665          0.038351   \n",
       "\n",
       "   brems_kt  brems_kt_hilim  brems_kt_lolim  brems_nh  brems_nh_hilim  \\\n",
       "0  0.331771        0.049034        0.434538  0.905741        0.850661   \n",
       "1  0.453253        0.062636        0.616169  1.001875        0.941022   \n",
       "\n",
       "   brems_nh_lolim  brems_stat  \n",
       "0        0.986117    0.694600  \n",
       "1        1.090491    0.705692  \n",
       "\n",
       "[2 rows x 96 columns]"
      ],
      "text/html": [
       "<div>\n",
       "<style scoped>\n",
       "    .dataframe tbody tr th:only-of-type {\n",
       "        vertical-align: middle;\n",
       "    }\n",
       "\n",
       "    .dataframe tbody tr th {\n",
       "        vertical-align: top;\n",
       "    }\n",
       "\n",
       "    .dataframe thead th {\n",
       "        text-align: right;\n",
       "    }\n",
       "</style>\n",
       "<table border=\"1\" class=\"dataframe\">\n",
       "  <thead>\n",
       "    <tr style=\"text-align: right;\">\n",
       "      <th></th>\n",
       "      <th>class</th>\n",
       "      <th>src_n</th>\n",
       "      <th>src_id</th>\n",
       "      <th>significance</th>\n",
       "      <th>flux_aper_hilim_s</th>\n",
       "      <th>flux_aper_hilim_u</th>\n",
       "      <th>flux_aper_hilim_m</th>\n",
       "      <th>flux_aper_hilim_h</th>\n",
       "      <th>flux_aper_hilim_b</th>\n",
       "      <th>flux_aper_lolim_s</th>\n",
       "      <th>...</th>\n",
       "      <th>flux_brems</th>\n",
       "      <th>flux_brems_lolim</th>\n",
       "      <th>flux_brems_hilim</th>\n",
       "      <th>brems_kt</th>\n",
       "      <th>brems_kt_hilim</th>\n",
       "      <th>brems_kt_lolim</th>\n",
       "      <th>brems_nh</th>\n",
       "      <th>brems_nh_hilim</th>\n",
       "      <th>brems_nh_lolim</th>\n",
       "      <th>brems_stat</th>\n",
       "    </tr>\n",
       "  </thead>\n",
       "  <tbody>\n",
       "    <tr>\n",
       "      <th>0</th>\n",
       "      <td>NS</td>\n",
       "      <td>J1748-2021#2</td>\n",
       "      <td>NS0056</td>\n",
       "      <td>6.25</td>\n",
       "      <td>0.335171</td>\n",
       "      <td>0.168648</td>\n",
       "      <td>0.376587</td>\n",
       "      <td>0.254273</td>\n",
       "      <td>0.287741</td>\n",
       "      <td>0.376253</td>\n",
       "      <td>...</td>\n",
       "      <td>0.039243</td>\n",
       "      <td>0.043996</td>\n",
       "      <td>0.036741</td>\n",
       "      <td>0.331771</td>\n",
       "      <td>0.049034</td>\n",
       "      <td>0.434538</td>\n",
       "      <td>0.905741</td>\n",
       "      <td>0.850661</td>\n",
       "      <td>0.986117</td>\n",
       "      <td>0.694600</td>\n",
       "    </tr>\n",
       "    <tr>\n",
       "      <th>1</th>\n",
       "      <td>NS</td>\n",
       "      <td>EXO 1745-248</td>\n",
       "      <td>NS0020</td>\n",
       "      <td>23.47</td>\n",
       "      <td>0.354061</td>\n",
       "      <td>0.569897</td>\n",
       "      <td>0.493711</td>\n",
       "      <td>0.459409</td>\n",
       "      <td>0.481761</td>\n",
       "      <td>0.403466</td>\n",
       "      <td>...</td>\n",
       "      <td>0.040868</td>\n",
       "      <td>0.045665</td>\n",
       "      <td>0.038351</td>\n",
       "      <td>0.453253</td>\n",
       "      <td>0.062636</td>\n",
       "      <td>0.616169</td>\n",
       "      <td>1.001875</td>\n",
       "      <td>0.941022</td>\n",
       "      <td>1.090491</td>\n",
       "      <td>0.705692</td>\n",
       "    </tr>\n",
       "  </tbody>\n",
       "</table>\n",
       "<p>2 rows × 96 columns</p>\n",
       "</div>"
      ]
     },
     "metadata": {},
     "execution_count": 10
    }
   ],
   "metadata": {}
  },
  {
   "cell_type": "code",
   "execution_count": 11,
   "source": [
    "acc_rf = mc_validation(gen_model_rf , data_rf  , obs_split ,  model_name = 'RF' , d_type = 'Normalized' ,  impute_method='RF')\n",
    "acc_zero = mc_validation(gen_model_rf , data_zero , obs_split ,model_name = 'RF' , d_type='Normalized' , impute_method='Zero')\n",
    "acc_mean = mc_validation(gen_model_rf , data_mean , obs_split, model_name = 'RF' , d_type = 'Normalized' ,  impute_method='mean')\n",
    "acc_median = mc_validation(gen_model_rf , data_median  , obs_split ,  model_name = 'RF' , d_type = 'Normalized' ,  impute_method='median')\n",
    "acc_corr = mc_validation(gen_model_rf , data_corr  , obs_split ,  model_name = 'RF' , d_type = 'Normalized' ,  impute_method='correlation')"
   ],
   "outputs": [
    {
     "output_type": "stream",
     "name": "stderr",
     "text": [
      "/home/kumaran/.local/lib/python3.6/site-packages/sklearn/utils/validation.py:72: FutureWarning: Pass shuffle=True, random_state=1 as keyword args. From version 1.0 (renaming of 0.25) passing these as positional arguments will result in an error\n",
      "  \"will result in an error\", FutureWarning)\n"
     ]
    },
    {
     "output_type": "stream",
     "name": "stdout",
     "text": [
      "split_no 368\n"
     ]
    },
    {
     "output_type": "stream",
     "name": "stderr",
     "text": [
      "  0%|          | 0/32 [00:00<?, ?it/s]"
     ]
    },
    {
     "output_type": "stream",
     "name": "stdout",
     "text": [
      "6/6 [==============================] - 5s 8ms/step\n",
      "6/6 [==============================] - 1s 9ms/step - loss: 0.0000e+00 - accuracy: 0.9728\n",
      "2/2 [==============================] - 0s 8ms/step - loss: 0.0000e+00 - accuracy: 0.9674\n"
     ]
    },
    {
     "output_type": "stream",
     "name": "stderr",
     "text": [
      "  3%|▎         | 1/32 [00:10<05:24, 10.47s/it]"
     ]
    },
    {
     "output_type": "stream",
     "name": "stdout",
     "text": [
      "6/6 [==============================] - 1s 9ms/step\n",
      "6/6 [==============================] - 1s 9ms/step - loss: 0.0000e+00 - accuracy: 0.9701\n",
      "2/2 [==============================] - 0s 7ms/step - loss: 0.0000e+00 - accuracy: 0.9130\n"
     ]
    },
    {
     "output_type": "stream",
     "name": "stderr",
     "text": [
      "  6%|▋         | 2/32 [00:14<03:21,  6.72s/it]"
     ]
    },
    {
     "output_type": "stream",
     "name": "stdout",
     "text": [
      "6/6 [==============================] - 1s 8ms/step\n",
      "6/6 [==============================] - 1s 8ms/step - loss: 0.0000e+00 - accuracy: 0.9755\n",
      "2/2 [==============================] - 0s 8ms/step - loss: 0.0000e+00 - accuracy: 0.9348\n"
     ]
    },
    {
     "output_type": "stream",
     "name": "stderr",
     "text": [
      "  9%|▉         | 3/32 [00:18<02:42,  5.60s/it]"
     ]
    },
    {
     "output_type": "stream",
     "name": "stdout",
     "text": [
      "6/6 [==============================] - 1s 8ms/step\n",
      "6/6 [==============================] - 1s 9ms/step - loss: 0.0000e+00 - accuracy: 0.9674\n",
      "2/2 [==============================] - 0s 7ms/step - loss: 0.0000e+00 - accuracy: 0.9130\n"
     ]
    },
    {
     "output_type": "stream",
     "name": "stderr",
     "text": [
      " 12%|█▎        | 4/32 [00:22<02:17,  4.90s/it]"
     ]
    },
    {
     "output_type": "stream",
     "name": "stdout",
     "text": [
      "6/6 [==============================] - 1s 8ms/step\n",
      "WARNING:tensorflow:5 out of the last 5 calls to <function CoreModel.make_predict_function.<locals>.predict_function_trained at 0x7f55bc403f28> triggered tf.function retracing. Tracing is expensive and the excessive number of tracings could be due to (1) creating @tf.function repeatedly in a loop, (2) passing tensors with different shapes, (3) passing Python objects instead of tensors. For (1), please define your @tf.function outside of the loop. For (2), @tf.function has experimental_relax_shapes=True option that relaxes argument shapes that can avoid unnecessary retracing. For (3), please refer to https://www.tensorflow.org/guide/function#controlling_retracing and https://www.tensorflow.org/api_docs/python/tf/function for  more details.\n"
     ]
    },
    {
     "output_type": "stream",
     "name": "stderr",
     "text": [
      "WARNING:tensorflow:5 out of the last 5 calls to <function CoreModel.make_predict_function.<locals>.predict_function_trained at 0x7f55bc403f28> triggered tf.function retracing. Tracing is expensive and the excessive number of tracings could be due to (1) creating @tf.function repeatedly in a loop, (2) passing tensors with different shapes, (3) passing Python objects instead of tensors. For (1), please define your @tf.function outside of the loop. For (2), @tf.function has experimental_relax_shapes=True option that relaxes argument shapes that can avoid unnecessary retracing. For (3), please refer to https://www.tensorflow.org/guide/function#controlling_retracing and https://www.tensorflow.org/api_docs/python/tf/function for  more details.\n"
     ]
    },
    {
     "output_type": "stream",
     "name": "stdout",
     "text": [
      "6/6 [==============================] - 1s 6ms/step - loss: 0.0000e+00 - accuracy: 0.9701\n",
      "2/2 [==============================] - 0s 5ms/step - loss: 0.0000e+00 - accuracy: 0.9130\n"
     ]
    },
    {
     "output_type": "stream",
     "name": "stderr",
     "text": [
      " 16%|█▌        | 5/32 [00:26<01:59,  4.42s/it]"
     ]
    },
    {
     "output_type": "stream",
     "name": "stdout",
     "text": [
      "6/6 [==============================] - 1s 5ms/step\n",
      "WARNING:tensorflow:6 out of the last 6 calls to <function CoreModel.make_predict_function.<locals>.predict_function_trained at 0x7f55907a5d90> triggered tf.function retracing. Tracing is expensive and the excessive number of tracings could be due to (1) creating @tf.function repeatedly in a loop, (2) passing tensors with different shapes, (3) passing Python objects instead of tensors. For (1), please define your @tf.function outside of the loop. For (2), @tf.function has experimental_relax_shapes=True option that relaxes argument shapes that can avoid unnecessary retracing. For (3), please refer to https://www.tensorflow.org/guide/function#controlling_retracing and https://www.tensorflow.org/api_docs/python/tf/function for  more details.\n"
     ]
    },
    {
     "output_type": "stream",
     "name": "stderr",
     "text": [
      "WARNING:tensorflow:6 out of the last 6 calls to <function CoreModel.make_predict_function.<locals>.predict_function_trained at 0x7f55907a5d90> triggered tf.function retracing. Tracing is expensive and the excessive number of tracings could be due to (1) creating @tf.function repeatedly in a loop, (2) passing tensors with different shapes, (3) passing Python objects instead of tensors. For (1), please define your @tf.function outside of the loop. For (2), @tf.function has experimental_relax_shapes=True option that relaxes argument shapes that can avoid unnecessary retracing. For (3), please refer to https://www.tensorflow.org/guide/function#controlling_retracing and https://www.tensorflow.org/api_docs/python/tf/function for  more details.\n"
     ]
    },
    {
     "output_type": "stream",
     "name": "stdout",
     "text": [
      "6/6 [==============================] - 0s 6ms/step - loss: 0.0000e+00 - accuracy: 0.9810\n",
      "2/2 [==============================] - 0s 5ms/step - loss: 0.0000e+00 - accuracy: 0.9022\n"
     ]
    },
    {
     "output_type": "stream",
     "name": "stderr",
     "text": [
      " 19%|█▉        | 6/32 [00:29<01:40,  3.86s/it]"
     ]
    },
    {
     "output_type": "stream",
     "name": "stdout",
     "text": [
      "6/6 [==============================] - 1s 7ms/step\n",
      "6/6 [==============================] - 0s 6ms/step - loss: 0.0000e+00 - accuracy: 0.9728\n",
      "2/2 [==============================] - 0s 5ms/step - loss: 0.0000e+00 - accuracy: 0.9130\n"
     ]
    },
    {
     "output_type": "stream",
     "name": "stderr",
     "text": [
      " 22%|██▏       | 7/32 [00:31<01:25,  3.42s/it]"
     ]
    },
    {
     "output_type": "stream",
     "name": "stdout",
     "text": [
      "6/6 [==============================] - 1s 5ms/step\n",
      "6/6 [==============================] - 0s 6ms/step - loss: 0.0000e+00 - accuracy: 0.9728\n",
      "2/2 [==============================] - 0s 5ms/step - loss: 0.0000e+00 - accuracy: 0.9457\n"
     ]
    },
    {
     "output_type": "stream",
     "name": "stderr",
     "text": [
      " 25%|██▌       | 8/32 [00:33<01:14,  3.12s/it]"
     ]
    },
    {
     "output_type": "stream",
     "name": "stdout",
     "text": [
      "6/6 [==============================] - 1s 5ms/step\n",
      "6/6 [==============================] - 0s 5ms/step - loss: 0.0000e+00 - accuracy: 0.9783\n",
      "2/2 [==============================] - 0s 5ms/step - loss: 0.0000e+00 - accuracy: 0.9348\n"
     ]
    },
    {
     "output_type": "stream",
     "name": "stderr",
     "text": [
      " 28%|██▊       | 9/32 [00:36<01:08,  2.98s/it]"
     ]
    },
    {
     "output_type": "stream",
     "name": "stdout",
     "text": [
      "6/6 [==============================] - 1s 5ms/step\n",
      "6/6 [==============================] - 0s 6ms/step - loss: 0.0000e+00 - accuracy: 0.9647\n",
      "2/2 [==============================] - 0s 5ms/step - loss: 0.0000e+00 - accuracy: 0.8913\n"
     ]
    },
    {
     "output_type": "stream",
     "name": "stderr",
     "text": [
      " 31%|███▏      | 10/32 [00:39<01:01,  2.82s/it]"
     ]
    },
    {
     "output_type": "stream",
     "name": "stdout",
     "text": [
      "6/6 [==============================] - 1s 5ms/step\n",
      "6/6 [==============================] - 0s 6ms/step - loss: 0.0000e+00 - accuracy: 0.9674\n",
      "2/2 [==============================] - 0s 5ms/step - loss: 0.0000e+00 - accuracy: 0.9565\n"
     ]
    },
    {
     "output_type": "stream",
     "name": "stderr",
     "text": [
      " 34%|███▍      | 11/32 [00:41<00:56,  2.70s/it]"
     ]
    },
    {
     "output_type": "stream",
     "name": "stdout",
     "text": [
      "6/6 [==============================] - 1s 5ms/step\n",
      "6/6 [==============================] - 0s 5ms/step - loss: 0.0000e+00 - accuracy: 0.9755\n",
      "2/2 [==============================] - 0s 5ms/step - loss: 0.0000e+00 - accuracy: 0.9130\n"
     ]
    },
    {
     "output_type": "stream",
     "name": "stderr",
     "text": [
      " 38%|███▊      | 12/32 [00:44<00:52,  2.63s/it]"
     ]
    },
    {
     "output_type": "stream",
     "name": "stdout",
     "text": [
      "6/6 [==============================] - 1s 5ms/step\n",
      "6/6 [==============================] - 0s 6ms/step - loss: 0.0000e+00 - accuracy: 0.9728\n",
      "2/2 [==============================] - 0s 6ms/step - loss: 0.0000e+00 - accuracy: 0.9674\n"
     ]
    },
    {
     "output_type": "stream",
     "name": "stderr",
     "text": [
      " 41%|████      | 13/32 [00:46<00:50,  2.67s/it]"
     ]
    },
    {
     "output_type": "stream",
     "name": "stdout",
     "text": [
      "6/6 [==============================] - 1s 5ms/step\n",
      "6/6 [==============================] - 0s 6ms/step - loss: 0.0000e+00 - accuracy: 0.9674\n",
      "2/2 [==============================] - 0s 5ms/step - loss: 0.0000e+00 - accuracy: 0.9130\n"
     ]
    },
    {
     "output_type": "stream",
     "name": "stderr",
     "text": [
      " 44%|████▍     | 14/32 [00:49<00:48,  2.67s/it]"
     ]
    },
    {
     "output_type": "stream",
     "name": "stdout",
     "text": [
      "6/6 [==============================] - 1s 5ms/step\n",
      "6/6 [==============================] - 0s 6ms/step - loss: 0.0000e+00 - accuracy: 0.9755\n",
      "2/2 [==============================] - 0s 6ms/step - loss: 0.0000e+00 - accuracy: 0.9457\n"
     ]
    },
    {
     "output_type": "stream",
     "name": "stderr",
     "text": [
      " 47%|████▋     | 15/32 [00:52<00:45,  2.68s/it]"
     ]
    },
    {
     "output_type": "stream",
     "name": "stdout",
     "text": [
      "6/6 [==============================] - 1s 5ms/step\n",
      "6/6 [==============================] - 1s 6ms/step - loss: 0.0000e+00 - accuracy: 0.9783\n",
      "2/2 [==============================] - 0s 5ms/step - loss: 0.0000e+00 - accuracy: 0.9130\n"
     ]
    },
    {
     "output_type": "stream",
     "name": "stderr",
     "text": [
      " 50%|█████     | 16/32 [00:55<00:44,  2.77s/it]"
     ]
    },
    {
     "output_type": "stream",
     "name": "stdout",
     "text": [
      "6/6 [==============================] - 1s 7ms/step\n",
      "6/6 [==============================] - 0s 6ms/step - loss: 0.0000e+00 - accuracy: 0.9674\n",
      "2/2 [==============================] - 0s 6ms/step - loss: 0.0000e+00 - accuracy: 0.9022\n"
     ]
    },
    {
     "output_type": "stream",
     "name": "stderr",
     "text": [
      " 53%|█████▎    | 17/32 [00:57<00:41,  2.75s/it]"
     ]
    },
    {
     "output_type": "stream",
     "name": "stdout",
     "text": [
      "6/6 [==============================] - 1s 5ms/step\n",
      "6/6 [==============================] - 0s 6ms/step - loss: 0.0000e+00 - accuracy: 0.9728\n",
      "2/2 [==============================] - 0s 6ms/step - loss: 0.0000e+00 - accuracy: 0.9348\n"
     ]
    },
    {
     "output_type": "stream",
     "name": "stderr",
     "text": [
      " 56%|█████▋    | 18/32 [01:00<00:38,  2.73s/it]"
     ]
    },
    {
     "output_type": "stream",
     "name": "stdout",
     "text": [
      "6/6 [==============================] - 1s 5ms/step\n",
      "6/6 [==============================] - 0s 6ms/step - loss: 0.0000e+00 - accuracy: 0.9674\n",
      "2/2 [==============================] - 0s 5ms/step - loss: 0.0000e+00 - accuracy: 0.9674\n"
     ]
    },
    {
     "output_type": "stream",
     "name": "stderr",
     "text": [
      " 59%|█████▉    | 19/32 [01:03<00:35,  2.73s/it]"
     ]
    },
    {
     "output_type": "stream",
     "name": "stdout",
     "text": [
      "6/6 [==============================] - 1s 6ms/step\n",
      "6/6 [==============================] - 0s 7ms/step - loss: 0.0000e+00 - accuracy: 0.9755\n",
      "2/2 [==============================] - 0s 5ms/step - loss: 0.0000e+00 - accuracy: 0.9674\n"
     ]
    },
    {
     "output_type": "stream",
     "name": "stderr",
     "text": [
      " 62%|██████▎   | 20/32 [01:05<00:32,  2.72s/it]"
     ]
    },
    {
     "output_type": "stream",
     "name": "stdout",
     "text": [
      "6/6 [==============================] - 1s 5ms/step\n",
      "6/6 [==============================] - 0s 6ms/step - loss: 0.0000e+00 - accuracy: 0.9728\n",
      "2/2 [==============================] - 0s 5ms/step - loss: 0.0000e+00 - accuracy: 0.9565\n"
     ]
    },
    {
     "output_type": "stream",
     "name": "stderr",
     "text": [
      " 66%|██████▌   | 21/32 [01:08<00:30,  2.80s/it]"
     ]
    },
    {
     "output_type": "stream",
     "name": "stdout",
     "text": [
      "6/6 [==============================] - 1s 5ms/step\n",
      "6/6 [==============================] - 1s 7ms/step - loss: 0.0000e+00 - accuracy: 0.9755\n",
      "2/2 [==============================] - 0s 6ms/step - loss: 0.0000e+00 - accuracy: 0.9130\n"
     ]
    },
    {
     "output_type": "stream",
     "name": "stderr",
     "text": [
      " 69%|██████▉   | 22/32 [01:11<00:27,  2.77s/it]"
     ]
    },
    {
     "output_type": "stream",
     "name": "stdout",
     "text": [
      "6/6 [==============================] - 1s 6ms/step\n",
      "6/6 [==============================] - 0s 6ms/step - loss: 0.0000e+00 - accuracy: 0.9674\n",
      "2/2 [==============================] - 0s 6ms/step - loss: 0.0000e+00 - accuracy: 0.9239\n"
     ]
    },
    {
     "output_type": "stream",
     "name": "stderr",
     "text": [
      " 72%|███████▏  | 23/32 [01:14<00:24,  2.76s/it]"
     ]
    },
    {
     "output_type": "stream",
     "name": "stdout",
     "text": [
      "6/6 [==============================] - 1s 5ms/step\n",
      "6/6 [==============================] - 0s 6ms/step - loss: 0.0000e+00 - accuracy: 0.9755\n",
      "2/2 [==============================] - 0s 5ms/step - loss: 0.0000e+00 - accuracy: 0.9022\n"
     ]
    },
    {
     "output_type": "stream",
     "name": "stderr",
     "text": [
      " 75%|███████▌  | 24/32 [01:17<00:21,  2.73s/it]"
     ]
    },
    {
     "output_type": "stream",
     "name": "stdout",
     "text": [
      "6/6 [==============================] - 1s 5ms/step\n",
      "6/6 [==============================] - 0s 6ms/step - loss: 0.0000e+00 - accuracy: 0.9810\n",
      "2/2 [==============================] - 0s 5ms/step - loss: 0.0000e+00 - accuracy: 0.9022\n"
     ]
    },
    {
     "output_type": "stream",
     "name": "stderr",
     "text": [
      " 78%|███████▊  | 25/32 [01:20<00:19,  2.81s/it]"
     ]
    },
    {
     "output_type": "stream",
     "name": "stdout",
     "text": [
      "6/6 [==============================] - 1s 5ms/step\n",
      "6/6 [==============================] - 0s 6ms/step - loss: 0.0000e+00 - accuracy: 0.9755\n",
      "2/2 [==============================] - 0s 6ms/step - loss: 0.0000e+00 - accuracy: 0.9348\n"
     ]
    },
    {
     "output_type": "stream",
     "name": "stderr",
     "text": [
      " 81%|████████▏ | 26/32 [01:22<00:16,  2.78s/it]"
     ]
    },
    {
     "output_type": "stream",
     "name": "stdout",
     "text": [
      "6/6 [==============================] - 1s 5ms/step\n",
      "6/6 [==============================] - 0s 7ms/step - loss: 0.0000e+00 - accuracy: 0.9728\n",
      "2/2 [==============================] - 0s 6ms/step - loss: 0.0000e+00 - accuracy: 0.9239\n"
     ]
    },
    {
     "output_type": "stream",
     "name": "stderr",
     "text": [
      " 84%|████████▍ | 27/32 [01:25<00:13,  2.77s/it]"
     ]
    },
    {
     "output_type": "stream",
     "name": "stdout",
     "text": [
      "6/6 [==============================] - 1s 5ms/step\n",
      "6/6 [==============================] - 0s 6ms/step - loss: 0.0000e+00 - accuracy: 0.9728\n",
      "2/2 [==============================] - 0s 5ms/step - loss: 0.0000e+00 - accuracy: 0.9348\n"
     ]
    },
    {
     "output_type": "stream",
     "name": "stderr",
     "text": [
      " 88%|████████▊ | 28/32 [01:28<00:10,  2.74s/it]"
     ]
    },
    {
     "output_type": "stream",
     "name": "stdout",
     "text": [
      "6/6 [==============================] - 1s 5ms/step\n",
      "6/6 [==============================] - 1s 6ms/step - loss: 0.0000e+00 - accuracy: 0.9728\n",
      "2/2 [==============================] - 0s 5ms/step - loss: 0.0000e+00 - accuracy: 0.9457\n"
     ]
    },
    {
     "output_type": "stream",
     "name": "stderr",
     "text": [
      " 91%|█████████ | 29/32 [01:30<00:08,  2.75s/it]"
     ]
    },
    {
     "output_type": "stream",
     "name": "stdout",
     "text": [
      "6/6 [==============================] - 1s 5ms/step\n",
      "6/6 [==============================] - 0s 6ms/step - loss: 0.0000e+00 - accuracy: 0.9755\n",
      "2/2 [==============================] - 0s 5ms/step - loss: 0.0000e+00 - accuracy: 0.9130\n"
     ]
    },
    {
     "output_type": "stream",
     "name": "stderr",
     "text": [
      " 94%|█████████▍| 30/32 [01:33<00:05,  2.80s/it]"
     ]
    },
    {
     "output_type": "stream",
     "name": "stdout",
     "text": [
      "6/6 [==============================] - 1s 5ms/step\n",
      "6/6 [==============================] - 1s 6ms/step - loss: 0.0000e+00 - accuracy: 0.9701\n",
      "2/2 [==============================] - 0s 5ms/step - loss: 0.0000e+00 - accuracy: 0.9348\n"
     ]
    },
    {
     "output_type": "stream",
     "name": "stderr",
     "text": [
      " 97%|█████████▋| 31/32 [01:36<00:02,  2.88s/it]"
     ]
    },
    {
     "output_type": "stream",
     "name": "stdout",
     "text": [
      "6/6 [==============================] - 1s 7ms/step\n",
      "6/6 [==============================] - 1s 9ms/step - loss: 0.0000e+00 - accuracy: 0.9701\n",
      "2/2 [==============================] - 0s 7ms/step - loss: 0.0000e+00 - accuracy: 0.9239\n"
     ]
    },
    {
     "output_type": "stream",
     "name": "stderr",
     "text": [
      "100%|██████████| 32/32 [01:40<00:00,  3.15s/it]\n",
      "/home/kumaran/.local/lib/python3.6/site-packages/sklearn/utils/validation.py:72: FutureWarning: Pass shuffle=True, random_state=1 as keyword args. From version 1.0 (renaming of 0.25) passing these as positional arguments will result in an error\n",
      "  \"will result in an error\", FutureWarning)\n"
     ]
    },
    {
     "output_type": "stream",
     "name": "stdout",
     "text": [
      "split_no 368\n"
     ]
    },
    {
     "output_type": "stream",
     "name": "stderr",
     "text": [
      "  0%|          | 0/32 [00:00<?, ?it/s]"
     ]
    },
    {
     "output_type": "stream",
     "name": "stdout",
     "text": [
      "6/6 [==============================] - 1s 6ms/step\n",
      "6/6 [==============================] - 1s 7ms/step - loss: 0.0000e+00 - accuracy: 0.9891\n",
      "2/2 [==============================] - 0s 6ms/step - loss: 0.0000e+00 - accuracy: 0.9348\n"
     ]
    },
    {
     "output_type": "stream",
     "name": "stderr",
     "text": [
      "  3%|▎         | 1/32 [00:03<01:47,  3.47s/it]"
     ]
    },
    {
     "output_type": "stream",
     "name": "stdout",
     "text": [
      "6/6 [==============================] - 1s 6ms/step\n",
      "6/6 [==============================] - 0s 6ms/step - loss: 0.0000e+00 - accuracy: 0.9918\n",
      "2/2 [==============================] - 0s 5ms/step - loss: 0.0000e+00 - accuracy: 0.9239\n"
     ]
    },
    {
     "output_type": "stream",
     "name": "stderr",
     "text": [
      "  6%|▋         | 2/32 [00:06<01:35,  3.20s/it]"
     ]
    },
    {
     "output_type": "stream",
     "name": "stdout",
     "text": [
      "6/6 [==============================] - 1s 5ms/step\n",
      "6/6 [==============================] - 1s 8ms/step - loss: 0.0000e+00 - accuracy: 0.9918\n",
      "2/2 [==============================] - 0s 6ms/step - loss: 0.0000e+00 - accuracy: 0.8478\n"
     ]
    },
    {
     "output_type": "stream",
     "name": "stderr",
     "text": [
      "  9%|▉         | 3/32 [00:09<01:31,  3.16s/it]"
     ]
    },
    {
     "output_type": "stream",
     "name": "stdout",
     "text": [
      "6/6 [==============================] - 1s 6ms/step\n",
      "6/6 [==============================] - 1s 7ms/step - loss: 0.0000e+00 - accuracy: 0.9946\n",
      "2/2 [==============================] - 0s 5ms/step - loss: 0.0000e+00 - accuracy: 0.9674\n"
     ]
    },
    {
     "output_type": "stream",
     "name": "stderr",
     "text": [
      " 12%|█▎        | 4/32 [00:12<01:24,  3.02s/it]"
     ]
    },
    {
     "output_type": "stream",
     "name": "stdout",
     "text": [
      "6/6 [==============================] - 1s 5ms/step\n",
      "6/6 [==============================] - 0s 6ms/step - loss: 0.0000e+00 - accuracy: 0.9918\n",
      "2/2 [==============================] - 0s 5ms/step - loss: 0.0000e+00 - accuracy: 0.9022\n"
     ]
    },
    {
     "output_type": "stream",
     "name": "stderr",
     "text": [
      " 16%|█▌        | 5/32 [00:15<01:19,  2.93s/it]"
     ]
    },
    {
     "output_type": "stream",
     "name": "stdout",
     "text": [
      "6/6 [==============================] - 1s 5ms/step\n",
      "6/6 [==============================] - 1s 6ms/step - loss: 0.0000e+00 - accuracy: 0.9973\n",
      "2/2 [==============================] - 0s 5ms/step - loss: 0.0000e+00 - accuracy: 0.9239\n"
     ]
    },
    {
     "output_type": "stream",
     "name": "stderr",
     "text": [
      " 19%|█▉        | 6/32 [00:17<01:15,  2.89s/it]"
     ]
    },
    {
     "output_type": "stream",
     "name": "stdout",
     "text": [
      "6/6 [==============================] - 1s 5ms/step\n",
      "6/6 [==============================] - 0s 7ms/step - loss: 0.0000e+00 - accuracy: 0.9864\n",
      "2/2 [==============================] - 0s 6ms/step - loss: 0.0000e+00 - accuracy: 0.9348\n"
     ]
    },
    {
     "output_type": "stream",
     "name": "stderr",
     "text": [
      " 22%|██▏       | 7/32 [00:20<01:11,  2.85s/it]"
     ]
    },
    {
     "output_type": "stream",
     "name": "stdout",
     "text": [
      "6/6 [==============================] - 1s 6ms/step\n",
      "6/6 [==============================] - 0s 6ms/step - loss: 0.0000e+00 - accuracy: 0.9946\n",
      "2/2 [==============================] - 0s 6ms/step - loss: 0.0000e+00 - accuracy: 0.8696\n"
     ]
    },
    {
     "output_type": "stream",
     "name": "stderr",
     "text": [
      " 25%|██▌       | 8/32 [00:23<01:09,  2.91s/it]"
     ]
    },
    {
     "output_type": "stream",
     "name": "stdout",
     "text": [
      "6/6 [==============================] - 1s 6ms/step\n",
      "6/6 [==============================] - 0s 8ms/step - loss: 0.0000e+00 - accuracy: 0.9946\n",
      "2/2 [==============================] - 0s 5ms/step - loss: 0.0000e+00 - accuracy: 0.9239\n"
     ]
    },
    {
     "output_type": "stream",
     "name": "stderr",
     "text": [
      " 28%|██▊       | 9/32 [00:26<01:05,  2.86s/it]"
     ]
    },
    {
     "output_type": "stream",
     "name": "stdout",
     "text": [
      "6/6 [==============================] - 1s 5ms/step\n",
      "6/6 [==============================] - 0s 6ms/step - loss: 0.0000e+00 - accuracy: 0.9864\n",
      "2/2 [==============================] - 0s 6ms/step - loss: 0.0000e+00 - accuracy: 0.9022\n"
     ]
    },
    {
     "output_type": "stream",
     "name": "stderr",
     "text": [
      " 31%|███▏      | 10/32 [00:29<01:02,  2.82s/it]"
     ]
    },
    {
     "output_type": "stream",
     "name": "stdout",
     "text": [
      "6/6 [==============================] - 1s 5ms/step\n",
      "6/6 [==============================] - 0s 6ms/step - loss: 0.0000e+00 - accuracy: 0.9946\n",
      "2/2 [==============================] - 0s 5ms/step - loss: 0.0000e+00 - accuracy: 0.8152\n"
     ]
    },
    {
     "output_type": "stream",
     "name": "stderr",
     "text": [
      " 34%|███▍      | 11/32 [00:32<00:58,  2.79s/it]"
     ]
    },
    {
     "output_type": "stream",
     "name": "stdout",
     "text": [
      "6/6 [==============================] - 1s 5ms/step\n",
      "6/6 [==============================] - 0s 6ms/step - loss: 0.0000e+00 - accuracy: 0.9918\n",
      "2/2 [==============================] - 0s 5ms/step - loss: 0.0000e+00 - accuracy: 0.9130\n"
     ]
    },
    {
     "output_type": "stream",
     "name": "stderr",
     "text": [
      " 38%|███▊      | 12/32 [00:34<00:55,  2.80s/it]"
     ]
    },
    {
     "output_type": "stream",
     "name": "stdout",
     "text": [
      "6/6 [==============================] - 1s 5ms/step\n",
      "6/6 [==============================] - 0s 6ms/step - loss: 0.0000e+00 - accuracy: 0.9918\n",
      "2/2 [==============================] - 0s 5ms/step - loss: 0.0000e+00 - accuracy: 0.8913\n"
     ]
    },
    {
     "output_type": "stream",
     "name": "stderr",
     "text": [
      " 41%|████      | 13/32 [00:37<00:54,  2.87s/it]"
     ]
    },
    {
     "output_type": "stream",
     "name": "stdout",
     "text": [
      "6/6 [==============================] - 1s 5ms/step\n",
      "6/6 [==============================] - 0s 6ms/step - loss: 0.0000e+00 - accuracy: 0.9918\n",
      "2/2 [==============================] - 0s 6ms/step - loss: 0.0000e+00 - accuracy: 0.9130\n"
     ]
    },
    {
     "output_type": "stream",
     "name": "stderr",
     "text": [
      " 44%|████▍     | 14/32 [00:40<00:51,  2.84s/it]"
     ]
    },
    {
     "output_type": "stream",
     "name": "stdout",
     "text": [
      "6/6 [==============================] - 1s 5ms/step\n",
      "6/6 [==============================] - 0s 7ms/step - loss: 0.0000e+00 - accuracy: 0.9891\n",
      "2/2 [==============================] - 0s 5ms/step - loss: 0.0000e+00 - accuracy: 0.9348\n"
     ]
    },
    {
     "output_type": "stream",
     "name": "stderr",
     "text": [
      " 47%|████▋     | 15/32 [00:43<00:47,  2.82s/it]"
     ]
    },
    {
     "output_type": "stream",
     "name": "stdout",
     "text": [
      "6/6 [==============================] - 1s 5ms/step\n",
      "6/6 [==============================] - 1s 6ms/step - loss: 0.0000e+00 - accuracy: 0.9946\n",
      "2/2 [==============================] - 0s 6ms/step - loss: 0.0000e+00 - accuracy: 0.8696\n"
     ]
    },
    {
     "output_type": "stream",
     "name": "stderr",
     "text": [
      " 50%|█████     | 16/32 [00:46<00:45,  2.83s/it]"
     ]
    },
    {
     "output_type": "stream",
     "name": "stdout",
     "text": [
      "6/6 [==============================] - 1s 5ms/step\n",
      "6/6 [==============================] - 0s 8ms/step - loss: 0.0000e+00 - accuracy: 0.9918\n",
      "2/2 [==============================] - 0s 5ms/step - loss: 0.0000e+00 - accuracy: 0.9239\n"
     ]
    },
    {
     "output_type": "stream",
     "name": "stderr",
     "text": [
      " 53%|█████▎    | 17/32 [00:49<00:42,  2.84s/it]"
     ]
    },
    {
     "output_type": "stream",
     "name": "stdout",
     "text": [
      "6/6 [==============================] - 1s 5ms/step\n",
      "6/6 [==============================] - 0s 6ms/step - loss: 0.0000e+00 - accuracy: 0.9946\n",
      "2/2 [==============================] - 0s 6ms/step - loss: 0.0000e+00 - accuracy: 0.9348\n"
     ]
    },
    {
     "output_type": "stream",
     "name": "stderr",
     "text": [
      " 56%|█████▋    | 18/32 [00:51<00:39,  2.81s/it]"
     ]
    },
    {
     "output_type": "stream",
     "name": "stdout",
     "text": [
      "6/6 [==============================] - 1s 5ms/step\n",
      "6/6 [==============================] - 0s 6ms/step - loss: 0.0000e+00 - accuracy: 0.9946\n",
      "2/2 [==============================] - 0s 5ms/step - loss: 0.0000e+00 - accuracy: 0.9130\n"
     ]
    },
    {
     "output_type": "stream",
     "name": "stderr",
     "text": [
      " 59%|█████▉    | 19/32 [00:55<00:37,  2.91s/it]"
     ]
    },
    {
     "output_type": "stream",
     "name": "stdout",
     "text": [
      "6/6 [==============================] - 1s 5ms/step\n",
      "6/6 [==============================] - 0s 6ms/step - loss: 0.0000e+00 - accuracy: 0.9918\n",
      "2/2 [==============================] - 0s 5ms/step - loss: 0.0000e+00 - accuracy: 0.9348\n"
     ]
    },
    {
     "output_type": "stream",
     "name": "stderr",
     "text": [
      " 62%|██████▎   | 20/32 [00:57<00:34,  2.86s/it]"
     ]
    },
    {
     "output_type": "stream",
     "name": "stdout",
     "text": [
      "6/6 [==============================] - 1s 5ms/step\n",
      "6/6 [==============================] - 0s 7ms/step - loss: 0.0000e+00 - accuracy: 0.9973\n",
      "2/2 [==============================] - 0s 6ms/step - loss: 0.0000e+00 - accuracy: 0.9022\n"
     ]
    },
    {
     "output_type": "stream",
     "name": "stderr",
     "text": [
      " 66%|██████▌   | 21/32 [01:00<00:31,  2.83s/it]"
     ]
    },
    {
     "output_type": "stream",
     "name": "stdout",
     "text": [
      "6/6 [==============================] - 1s 5ms/step\n",
      "6/6 [==============================] - 0s 6ms/step - loss: 0.0000e+00 - accuracy: 0.9891\n",
      "2/2 [==============================] - 0s 5ms/step - loss: 0.0000e+00 - accuracy: 0.9130\n"
     ]
    },
    {
     "output_type": "stream",
     "name": "stderr",
     "text": [
      " 69%|██████▉   | 22/32 [01:03<00:28,  2.81s/it]"
     ]
    },
    {
     "output_type": "stream",
     "name": "stdout",
     "text": [
      "6/6 [==============================] - 1s 5ms/step\n",
      "6/6 [==============================] - 0s 6ms/step - loss: 0.0000e+00 - accuracy: 0.9946\n",
      "2/2 [==============================] - 0s 5ms/step - loss: 0.0000e+00 - accuracy: 0.8913\n"
     ]
    },
    {
     "output_type": "stream",
     "name": "stderr",
     "text": [
      " 72%|███████▏  | 23/32 [01:06<00:25,  2.80s/it]"
     ]
    },
    {
     "output_type": "stream",
     "name": "stdout",
     "text": [
      "6/6 [==============================] - 1s 5ms/step\n",
      "6/6 [==============================] - 0s 7ms/step - loss: 0.0000e+00 - accuracy: 1.0000\n",
      "2/2 [==============================] - 0s 5ms/step - loss: 0.0000e+00 - accuracy: 0.8913\n"
     ]
    },
    {
     "output_type": "stream",
     "name": "stderr",
     "text": [
      " 75%|███████▌  | 24/32 [01:08<00:22,  2.80s/it]"
     ]
    },
    {
     "output_type": "stream",
     "name": "stdout",
     "text": [
      "6/6 [==============================] - 1s 5ms/step\n",
      "6/6 [==============================] - 0s 6ms/step - loss: 0.0000e+00 - accuracy: 0.9918\n",
      "2/2 [==============================] - 0s 5ms/step - loss: 0.0000e+00 - accuracy: 0.8696\n"
     ]
    },
    {
     "output_type": "stream",
     "name": "stderr",
     "text": [
      " 78%|███████▊  | 25/32 [01:11<00:20,  2.89s/it]"
     ]
    },
    {
     "output_type": "stream",
     "name": "stdout",
     "text": [
      "6/6 [==============================] - 1s 6ms/step\n",
      "6/6 [==============================] - 1s 7ms/step - loss: 0.0000e+00 - accuracy: 0.9918\n",
      "2/2 [==============================] - 0s 5ms/step - loss: 0.0000e+00 - accuracy: 0.8587\n"
     ]
    },
    {
     "output_type": "stream",
     "name": "stderr",
     "text": [
      " 81%|████████▏ | 26/32 [01:14<00:17,  2.90s/it]"
     ]
    },
    {
     "output_type": "stream",
     "name": "stdout",
     "text": [
      "6/6 [==============================] - 1s 7ms/step\n",
      "6/6 [==============================] - 1s 6ms/step - loss: 0.0000e+00 - accuracy: 0.9946\n",
      "2/2 [==============================] - 0s 5ms/step - loss: 0.0000e+00 - accuracy: 0.9348\n"
     ]
    },
    {
     "output_type": "stream",
     "name": "stderr",
     "text": [
      " 84%|████████▍ | 27/32 [01:17<00:14,  2.96s/it]"
     ]
    },
    {
     "output_type": "stream",
     "name": "stdout",
     "text": [
      "6/6 [==============================] - 1s 6ms/step\n",
      "6/6 [==============================] - 1s 7ms/step - loss: 0.0000e+00 - accuracy: 0.9946\n",
      "2/2 [==============================] - 0s 5ms/step - loss: 0.0000e+00 - accuracy: 0.8913\n"
     ]
    },
    {
     "output_type": "stream",
     "name": "stderr",
     "text": [
      " 88%|████████▊ | 28/32 [01:21<00:11,  3.00s/it]"
     ]
    },
    {
     "output_type": "stream",
     "name": "stdout",
     "text": [
      "6/6 [==============================] - 1s 5ms/step\n",
      "6/6 [==============================] - 1s 6ms/step - loss: 0.0000e+00 - accuracy: 0.9918\n",
      "2/2 [==============================] - 0s 6ms/step - loss: 0.0000e+00 - accuracy: 0.9130\n"
     ]
    },
    {
     "output_type": "stream",
     "name": "stderr",
     "text": [
      " 91%|█████████ | 29/32 [01:24<00:09,  3.06s/it]"
     ]
    },
    {
     "output_type": "stream",
     "name": "stdout",
     "text": [
      "6/6 [==============================] - 1s 5ms/step\n",
      "6/6 [==============================] - 0s 6ms/step - loss: 0.0000e+00 - accuracy: 0.9973\n",
      "2/2 [==============================] - 0s 5ms/step - loss: 0.0000e+00 - accuracy: 0.9457\n"
     ]
    },
    {
     "output_type": "stream",
     "name": "stderr",
     "text": [
      " 94%|█████████▍| 30/32 [01:27<00:05,  2.98s/it]"
     ]
    },
    {
     "output_type": "stream",
     "name": "stdout",
     "text": [
      "6/6 [==============================] - 1s 5ms/step\n",
      "6/6 [==============================] - 0s 6ms/step - loss: 0.0000e+00 - accuracy: 0.9918\n",
      "2/2 [==============================] - 0s 5ms/step - loss: 0.0000e+00 - accuracy: 0.9348\n"
     ]
    },
    {
     "output_type": "stream",
     "name": "stderr",
     "text": [
      " 97%|█████████▋| 31/32 [01:30<00:03,  3.03s/it]"
     ]
    },
    {
     "output_type": "stream",
     "name": "stdout",
     "text": [
      "6/6 [==============================] - 1s 6ms/step\n",
      "6/6 [==============================] - 0s 7ms/step - loss: 0.0000e+00 - accuracy: 0.9918\n",
      "2/2 [==============================] - 0s 5ms/step - loss: 0.0000e+00 - accuracy: 0.9565\n"
     ]
    },
    {
     "output_type": "stream",
     "name": "stderr",
     "text": [
      "100%|██████████| 32/32 [01:33<00:00,  2.91s/it]\n",
      "/home/kumaran/.local/lib/python3.6/site-packages/sklearn/utils/validation.py:72: FutureWarning: Pass shuffle=True, random_state=1 as keyword args. From version 1.0 (renaming of 0.25) passing these as positional arguments will result in an error\n",
      "  \"will result in an error\", FutureWarning)\n"
     ]
    },
    {
     "output_type": "stream",
     "name": "stdout",
     "text": [
      "split_no 368\n"
     ]
    },
    {
     "output_type": "stream",
     "name": "stderr",
     "text": [
      "  0%|          | 0/32 [00:00<?, ?it/s]"
     ]
    },
    {
     "output_type": "stream",
     "name": "stdout",
     "text": [
      "6/6 [==============================] - 1s 8ms/step\n",
      "6/6 [==============================] - 1s 8ms/step - loss: 0.0000e+00 - accuracy: 0.9891\n",
      "2/2 [==============================] - 0s 6ms/step - loss: 0.0000e+00 - accuracy: 0.8913\n"
     ]
    },
    {
     "output_type": "stream",
     "name": "stderr",
     "text": [
      "  3%|▎         | 1/32 [00:03<01:49,  3.52s/it]"
     ]
    },
    {
     "output_type": "stream",
     "name": "stdout",
     "text": [
      "6/6 [==============================] - 1s 7ms/step\n",
      "6/6 [==============================] - 1s 6ms/step - loss: 0.0000e+00 - accuracy: 0.9918\n",
      "2/2 [==============================] - 0s 6ms/step - loss: 0.0000e+00 - accuracy: 0.9348\n"
     ]
    },
    {
     "output_type": "stream",
     "name": "stderr",
     "text": [
      "  6%|▋         | 2/32 [00:06<01:42,  3.40s/it]"
     ]
    },
    {
     "output_type": "stream",
     "name": "stdout",
     "text": [
      "6/6 [==============================] - 1s 6ms/step\n",
      "6/6 [==============================] - 1s 8ms/step - loss: 0.0000e+00 - accuracy: 0.9918\n",
      "2/2 [==============================] - 0s 5ms/step - loss: 0.0000e+00 - accuracy: 0.9130\n"
     ]
    },
    {
     "output_type": "stream",
     "name": "stderr",
     "text": [
      "  9%|▉         | 3/32 [00:09<01:34,  3.24s/it]"
     ]
    },
    {
     "output_type": "stream",
     "name": "stdout",
     "text": [
      "6/6 [==============================] - 1s 6ms/step\n",
      "6/6 [==============================] - 1s 8ms/step - loss: 0.0000e+00 - accuracy: 1.0000\n",
      "2/2 [==============================] - 0s 5ms/step - loss: 0.0000e+00 - accuracy: 0.9674\n"
     ]
    },
    {
     "output_type": "stream",
     "name": "stderr",
     "text": [
      " 12%|█▎        | 4/32 [00:12<01:27,  3.13s/it]"
     ]
    },
    {
     "output_type": "stream",
     "name": "stdout",
     "text": [
      "6/6 [==============================] - 1s 5ms/step\n",
      "6/6 [==============================] - 1s 6ms/step - loss: 0.0000e+00 - accuracy: 0.9946\n",
      "2/2 [==============================] - 0s 5ms/step - loss: 0.0000e+00 - accuracy: 0.8913\n"
     ]
    },
    {
     "output_type": "stream",
     "name": "stderr",
     "text": [
      " 16%|█▌        | 5/32 [00:16<01:26,  3.21s/it]"
     ]
    },
    {
     "output_type": "stream",
     "name": "stdout",
     "text": [
      "6/6 [==============================] - 1s 5ms/step\n",
      "6/6 [==============================] - 1s 7ms/step - loss: 0.0000e+00 - accuracy: 0.9946\n",
      "2/2 [==============================] - 0s 7ms/step - loss: 0.0000e+00 - accuracy: 0.9348\n"
     ]
    },
    {
     "output_type": "stream",
     "name": "stderr",
     "text": [
      " 19%|█▉        | 6/32 [00:19<01:20,  3.11s/it]"
     ]
    },
    {
     "output_type": "stream",
     "name": "stdout",
     "text": [
      "6/6 [==============================] - 1s 6ms/step\n",
      "6/6 [==============================] - 1s 7ms/step - loss: 0.0000e+00 - accuracy: 0.9946\n",
      "2/2 [==============================] - 0s 6ms/step - loss: 0.0000e+00 - accuracy: 0.9022\n"
     ]
    },
    {
     "output_type": "stream",
     "name": "stderr",
     "text": [
      " 22%|██▏       | 7/32 [00:22<01:16,  3.05s/it]"
     ]
    },
    {
     "output_type": "stream",
     "name": "stdout",
     "text": [
      "6/6 [==============================] - 1s 6ms/step\n",
      "6/6 [==============================] - 1s 7ms/step - loss: 0.0000e+00 - accuracy: 0.9891\n",
      "2/2 [==============================] - 0s 6ms/step - loss: 0.0000e+00 - accuracy: 0.8804\n"
     ]
    },
    {
     "output_type": "stream",
     "name": "stderr",
     "text": [
      " 25%|██▌       | 8/32 [00:24<01:12,  3.00s/it]"
     ]
    },
    {
     "output_type": "stream",
     "name": "stdout",
     "text": [
      "6/6 [==============================] - 1s 5ms/step\n",
      "6/6 [==============================] - 1s 7ms/step - loss: 0.0000e+00 - accuracy: 0.9946\n",
      "2/2 [==============================] - 0s 6ms/step - loss: 0.0000e+00 - accuracy: 0.9348\n"
     ]
    },
    {
     "output_type": "stream",
     "name": "stderr",
     "text": [
      " 28%|██▊       | 9/32 [00:27<01:08,  2.97s/it]"
     ]
    },
    {
     "output_type": "stream",
     "name": "stdout",
     "text": [
      "6/6 [==============================] - 1s 5ms/step\n",
      "6/6 [==============================] - 1s 7ms/step - loss: 0.0000e+00 - accuracy: 0.9918\n",
      "2/2 [==============================] - 0s 6ms/step - loss: 0.0000e+00 - accuracy: 0.8913\n"
     ]
    },
    {
     "output_type": "stream",
     "name": "stderr",
     "text": [
      " 31%|███▏      | 10/32 [00:30<01:05,  2.96s/it]"
     ]
    },
    {
     "output_type": "stream",
     "name": "stdout",
     "text": [
      "6/6 [==============================] - 1s 7ms/step\n",
      "6/6 [==============================] - 1s 7ms/step - loss: 0.0000e+00 - accuracy: 0.9973\n",
      "2/2 [==============================] - 0s 5ms/step - loss: 0.0000e+00 - accuracy: 0.9022\n"
     ]
    },
    {
     "output_type": "stream",
     "name": "stderr",
     "text": [
      " 34%|███▍      | 11/32 [00:33<01:01,  2.95s/it]"
     ]
    },
    {
     "output_type": "stream",
     "name": "stdout",
     "text": [
      "6/6 [==============================] - 1s 5ms/step\n",
      "6/6 [==============================] - 1s 6ms/step - loss: 0.0000e+00 - accuracy: 0.9918\n",
      "2/2 [==============================] - 0s 5ms/step - loss: 0.0000e+00 - accuracy: 0.9239\n"
     ]
    },
    {
     "output_type": "stream",
     "name": "stderr",
     "text": [
      " 38%|███▊      | 12/32 [00:37<01:01,  3.06s/it]"
     ]
    },
    {
     "output_type": "stream",
     "name": "stdout",
     "text": [
      "6/6 [==============================] - 1s 5ms/step\n",
      "6/6 [==============================] - 1s 6ms/step - loss: 0.0000e+00 - accuracy: 0.9891\n",
      "2/2 [==============================] - 0s 6ms/step - loss: 0.0000e+00 - accuracy: 0.8696\n"
     ]
    },
    {
     "output_type": "stream",
     "name": "stderr",
     "text": [
      " 41%|████      | 13/32 [00:40<00:57,  3.04s/it]"
     ]
    },
    {
     "output_type": "stream",
     "name": "stdout",
     "text": [
      "6/6 [==============================] - 1s 6ms/step\n",
      "6/6 [==============================] - 1s 7ms/step - loss: 0.0000e+00 - accuracy: 0.9946\n",
      "2/2 [==============================] - 0s 6ms/step - loss: 0.0000e+00 - accuracy: 0.9239\n"
     ]
    },
    {
     "output_type": "stream",
     "name": "stderr",
     "text": [
      " 44%|████▍     | 14/32 [00:42<00:54,  3.00s/it]"
     ]
    },
    {
     "output_type": "stream",
     "name": "stdout",
     "text": [
      "6/6 [==============================] - 1s 7ms/step\n",
      "6/6 [==============================] - 1s 6ms/step - loss: 0.0000e+00 - accuracy: 0.9973\n",
      "2/2 [==============================] - 0s 6ms/step - loss: 0.0000e+00 - accuracy: 0.9457\n"
     ]
    },
    {
     "output_type": "stream",
     "name": "stderr",
     "text": [
      " 47%|████▋     | 15/32 [00:45<00:50,  2.98s/it]"
     ]
    },
    {
     "output_type": "stream",
     "name": "stdout",
     "text": [
      "6/6 [==============================] - 1s 5ms/step\n",
      "6/6 [==============================] - 1s 7ms/step - loss: 0.0000e+00 - accuracy: 1.0000\n",
      "2/2 [==============================] - 0s 6ms/step - loss: 0.0000e+00 - accuracy: 0.9130\n"
     ]
    },
    {
     "output_type": "stream",
     "name": "stderr",
     "text": [
      " 50%|█████     | 16/32 [00:48<00:47,  2.96s/it]"
     ]
    },
    {
     "output_type": "stream",
     "name": "stdout",
     "text": [
      "6/6 [==============================] - 1s 6ms/step\n",
      "6/6 [==============================] - 1s 7ms/step - loss: 0.0000e+00 - accuracy: 0.9946\n",
      "2/2 [==============================] - 0s 5ms/step - loss: 0.0000e+00 - accuracy: 0.9457\n"
     ]
    },
    {
     "output_type": "stream",
     "name": "stderr",
     "text": [
      " 53%|█████▎    | 17/32 [00:51<00:44,  2.95s/it]"
     ]
    },
    {
     "output_type": "stream",
     "name": "stdout",
     "text": [
      "6/6 [==============================] - 1s 5ms/step\n",
      "6/6 [==============================] - 1s 7ms/step - loss: 0.0000e+00 - accuracy: 0.9946\n",
      "2/2 [==============================] - 0s 6ms/step - loss: 0.0000e+00 - accuracy: 0.9348\n"
     ]
    },
    {
     "output_type": "stream",
     "name": "stderr",
     "text": [
      " 56%|█████▋    | 18/32 [00:54<00:41,  2.94s/it]"
     ]
    },
    {
     "output_type": "stream",
     "name": "stdout",
     "text": [
      "6/6 [==============================] - 1s 5ms/step\n",
      "6/6 [==============================] - 1s 6ms/step - loss: 0.0000e+00 - accuracy: 0.9973\n",
      "2/2 [==============================] - 0s 6ms/step - loss: 0.0000e+00 - accuracy: 0.9348\n"
     ]
    },
    {
     "output_type": "stream",
     "name": "stderr",
     "text": [
      " 59%|█████▉    | 19/32 [00:58<00:40,  3.11s/it]"
     ]
    },
    {
     "output_type": "stream",
     "name": "stdout",
     "text": [
      "6/6 [==============================] - 1s 5ms/step\n",
      "6/6 [==============================] - 1s 7ms/step - loss: 0.0000e+00 - accuracy: 1.0000\n",
      "2/2 [==============================] - 0s 5ms/step - loss: 0.0000e+00 - accuracy: 0.9022\n"
     ]
    },
    {
     "output_type": "stream",
     "name": "stderr",
     "text": [
      " 62%|██████▎   | 20/32 [01:01<00:36,  3.05s/it]"
     ]
    },
    {
     "output_type": "stream",
     "name": "stdout",
     "text": [
      "6/6 [==============================] - 1s 6ms/step\n",
      "6/6 [==============================] - 1s 7ms/step - loss: 0.0000e+00 - accuracy: 0.9864\n",
      "2/2 [==============================] - 0s 5ms/step - loss: 0.0000e+00 - accuracy: 0.9348\n"
     ]
    },
    {
     "output_type": "stream",
     "name": "stderr",
     "text": [
      " 66%|██████▌   | 21/32 [01:03<00:32,  3.00s/it]"
     ]
    },
    {
     "output_type": "stream",
     "name": "stdout",
     "text": [
      "6/6 [==============================] - 1s 6ms/step\n",
      "6/6 [==============================] - 1s 6ms/step - loss: 0.0000e+00 - accuracy: 0.9918\n",
      "2/2 [==============================] - 0s 6ms/step - loss: 0.0000e+00 - accuracy: 0.9239\n"
     ]
    },
    {
     "output_type": "stream",
     "name": "stderr",
     "text": [
      " 69%|██████▉   | 22/32 [01:06<00:29,  2.96s/it]"
     ]
    },
    {
     "output_type": "stream",
     "name": "stdout",
     "text": [
      "6/6 [==============================] - 1s 6ms/step\n",
      "6/6 [==============================] - 1s 7ms/step - loss: 0.0000e+00 - accuracy: 0.9973\n",
      "2/2 [==============================] - 0s 6ms/step - loss: 0.0000e+00 - accuracy: 0.8804\n"
     ]
    },
    {
     "output_type": "stream",
     "name": "stderr",
     "text": [
      " 72%|███████▏  | 23/32 [01:09<00:26,  2.94s/it]"
     ]
    },
    {
     "output_type": "stream",
     "name": "stdout",
     "text": [
      "6/6 [==============================] - 1s 6ms/step\n",
      "6/6 [==============================] - 1s 7ms/step - loss: 0.0000e+00 - accuracy: 0.9973\n",
      "2/2 [==============================] - 0s 6ms/step - loss: 0.0000e+00 - accuracy: 0.9130\n"
     ]
    },
    {
     "output_type": "stream",
     "name": "stderr",
     "text": [
      " 75%|███████▌  | 24/32 [01:12<00:23,  2.93s/it]"
     ]
    },
    {
     "output_type": "stream",
     "name": "stdout",
     "text": [
      "6/6 [==============================] - 1s 6ms/step\n",
      "6/6 [==============================] - 1s 7ms/step - loss: 0.0000e+00 - accuracy: 0.9918\n",
      "2/2 [==============================] - 0s 6ms/step - loss: 0.0000e+00 - accuracy: 0.9457\n"
     ]
    },
    {
     "output_type": "stream",
     "name": "stderr",
     "text": [
      " 78%|███████▊  | 25/32 [01:15<00:20,  2.92s/it]"
     ]
    },
    {
     "output_type": "stream",
     "name": "stdout",
     "text": [
      "6/6 [==============================] - 1s 5ms/step\n",
      "6/6 [==============================] - 1s 7ms/step - loss: 0.0000e+00 - accuracy: 0.9891\n",
      "2/2 [==============================] - 0s 6ms/step - loss: 0.0000e+00 - accuracy: 0.9239\n"
     ]
    },
    {
     "output_type": "stream",
     "name": "stderr",
     "text": [
      " 81%|████████▏ | 26/32 [01:18<00:17,  2.92s/it]"
     ]
    },
    {
     "output_type": "stream",
     "name": "stdout",
     "text": [
      "6/6 [==============================] - 1s 6ms/step\n",
      "6/6 [==============================] - 1s 7ms/step - loss: 0.0000e+00 - accuracy: 0.9946\n",
      "2/2 [==============================] - 0s 5ms/step - loss: 0.0000e+00 - accuracy: 0.8804\n"
     ]
    },
    {
     "output_type": "stream",
     "name": "stderr",
     "text": [
      " 84%|████████▍ | 27/32 [01:21<00:15,  3.05s/it]"
     ]
    },
    {
     "output_type": "stream",
     "name": "stdout",
     "text": [
      "6/6 [==============================] - 1s 6ms/step\n",
      "6/6 [==============================] - 1s 7ms/step - loss: 0.0000e+00 - accuracy: 0.9946\n",
      "2/2 [==============================] - 0s 6ms/step - loss: 0.0000e+00 - accuracy: 0.9239\n"
     ]
    },
    {
     "output_type": "stream",
     "name": "stderr",
     "text": [
      " 88%|████████▊ | 28/32 [01:24<00:12,  3.04s/it]"
     ]
    },
    {
     "output_type": "stream",
     "name": "stdout",
     "text": [
      "6/6 [==============================] - 1s 7ms/step\n",
      "6/6 [==============================] - 1s 7ms/step - loss: 0.0000e+00 - accuracy: 0.9973\n",
      "2/2 [==============================] - 0s 6ms/step - loss: 0.0000e+00 - accuracy: 0.9239\n"
     ]
    },
    {
     "output_type": "stream",
     "name": "stderr",
     "text": [
      " 91%|█████████ | 29/32 [01:27<00:09,  3.01s/it]"
     ]
    },
    {
     "output_type": "stream",
     "name": "stdout",
     "text": [
      "6/6 [==============================] - 1s 6ms/step\n",
      "6/6 [==============================] - 1s 7ms/step - loss: 0.0000e+00 - accuracy: 0.9918\n",
      "2/2 [==============================] - 0s 5ms/step - loss: 0.0000e+00 - accuracy: 0.8370\n"
     ]
    },
    {
     "output_type": "stream",
     "name": "stderr",
     "text": [
      " 94%|█████████▍| 30/32 [01:30<00:05,  2.97s/it]"
     ]
    },
    {
     "output_type": "stream",
     "name": "stdout",
     "text": [
      "6/6 [==============================] - 1s 6ms/step\n",
      "6/6 [==============================] - 1s 7ms/step - loss: 0.0000e+00 - accuracy: 0.9918\n",
      "2/2 [==============================] - 0s 6ms/step - loss: 0.0000e+00 - accuracy: 0.9130\n"
     ]
    },
    {
     "output_type": "stream",
     "name": "stderr",
     "text": [
      " 97%|█████████▋| 31/32 [01:33<00:02,  2.94s/it]"
     ]
    },
    {
     "output_type": "stream",
     "name": "stdout",
     "text": [
      "6/6 [==============================] - 1s 5ms/step\n",
      "6/6 [==============================] - 1s 7ms/step - loss: 0.0000e+00 - accuracy: 0.9918\n",
      "2/2 [==============================] - 0s 6ms/step - loss: 0.0000e+00 - accuracy: 0.9348\n"
     ]
    },
    {
     "output_type": "stream",
     "name": "stderr",
     "text": [
      "100%|██████████| 32/32 [01:36<00:00,  3.01s/it]\n",
      "/home/kumaran/.local/lib/python3.6/site-packages/sklearn/utils/validation.py:72: FutureWarning: Pass shuffle=True, random_state=1 as keyword args. From version 1.0 (renaming of 0.25) passing these as positional arguments will result in an error\n",
      "  \"will result in an error\", FutureWarning)\n"
     ]
    },
    {
     "output_type": "stream",
     "name": "stdout",
     "text": [
      "split_no 368\n"
     ]
    },
    {
     "output_type": "stream",
     "name": "stderr",
     "text": [
      "  0%|          | 0/32 [00:00<?, ?it/s]"
     ]
    },
    {
     "output_type": "stream",
     "name": "stdout",
     "text": [
      "6/6 [==============================] - 1s 6ms/step\n",
      "6/6 [==============================] - 1s 7ms/step - loss: 0.0000e+00 - accuracy: 0.9891\n",
      "2/2 [==============================] - 0s 6ms/step - loss: 0.0000e+00 - accuracy: 0.9239\n"
     ]
    },
    {
     "output_type": "stream",
     "name": "stderr",
     "text": [
      "  3%|▎         | 1/32 [00:02<01:32,  2.97s/it]"
     ]
    },
    {
     "output_type": "stream",
     "name": "stdout",
     "text": [
      "6/6 [==============================] - 1s 5ms/step\n",
      "6/6 [==============================] - 1s 6ms/step - loss: 0.0000e+00 - accuracy: 0.9918\n",
      "2/2 [==============================] - 0s 6ms/step - loss: 0.0000e+00 - accuracy: 0.9022\n"
     ]
    },
    {
     "output_type": "stream",
     "name": "stderr",
     "text": [
      "  6%|▋         | 2/32 [00:05<01:27,  2.93s/it]"
     ]
    },
    {
     "output_type": "stream",
     "name": "stdout",
     "text": [
      "6/6 [==============================] - 1s 6ms/step\n",
      "6/6 [==============================] - 1s 6ms/step - loss: 0.0000e+00 - accuracy: 0.9864\n",
      "2/2 [==============================] - 0s 5ms/step - loss: 0.0000e+00 - accuracy: 0.9130\n"
     ]
    },
    {
     "output_type": "stream",
     "name": "stderr",
     "text": [
      "  9%|▉         | 3/32 [00:09<01:31,  3.16s/it]"
     ]
    },
    {
     "output_type": "stream",
     "name": "stdout",
     "text": [
      "6/6 [==============================] - 1s 5ms/step\n",
      "6/6 [==============================] - 1s 7ms/step - loss: 0.0000e+00 - accuracy: 0.9946\n",
      "2/2 [==============================] - 0s 6ms/step - loss: 0.0000e+00 - accuracy: 0.9565\n"
     ]
    },
    {
     "output_type": "stream",
     "name": "stderr",
     "text": [
      " 12%|█▎        | 4/32 [00:12<01:26,  3.07s/it]"
     ]
    },
    {
     "output_type": "stream",
     "name": "stdout",
     "text": [
      "6/6 [==============================] - 1s 7ms/step\n",
      "6/6 [==============================] - 1s 7ms/step - loss: 0.0000e+00 - accuracy: 0.9946\n",
      "2/2 [==============================] - 0s 6ms/step - loss: 0.0000e+00 - accuracy: 0.9130\n"
     ]
    },
    {
     "output_type": "stream",
     "name": "stderr",
     "text": [
      " 16%|█▌        | 5/32 [00:15<01:21,  3.02s/it]"
     ]
    },
    {
     "output_type": "stream",
     "name": "stdout",
     "text": [
      "6/6 [==============================] - 1s 7ms/step\n",
      "6/6 [==============================] - 1s 7ms/step - loss: 0.0000e+00 - accuracy: 0.9973\n",
      "2/2 [==============================] - 0s 5ms/step - loss: 0.0000e+00 - accuracy: 0.9022\n"
     ]
    },
    {
     "output_type": "stream",
     "name": "stderr",
     "text": [
      " 19%|█▉        | 6/32 [00:18<01:17,  2.99s/it]"
     ]
    },
    {
     "output_type": "stream",
     "name": "stdout",
     "text": [
      "6/6 [==============================] - 1s 7ms/step\n",
      "6/6 [==============================] - 1s 7ms/step - loss: 0.0000e+00 - accuracy: 0.9946\n",
      "2/2 [==============================] - 0s 5ms/step - loss: 0.0000e+00 - accuracy: 0.9239\n"
     ]
    },
    {
     "output_type": "stream",
     "name": "stderr",
     "text": [
      " 22%|██▏       | 7/32 [00:21<01:14,  2.97s/it]"
     ]
    },
    {
     "output_type": "stream",
     "name": "stdout",
     "text": [
      "6/6 [==============================] - 1s 6ms/step\n",
      "6/6 [==============================] - 1s 7ms/step - loss: 0.0000e+00 - accuracy: 0.9918\n",
      "2/2 [==============================] - 0s 5ms/step - loss: 0.0000e+00 - accuracy: 0.9022\n"
     ]
    },
    {
     "output_type": "stream",
     "name": "stderr",
     "text": [
      " 25%|██▌       | 8/32 [00:23<01:10,  2.95s/it]"
     ]
    },
    {
     "output_type": "stream",
     "name": "stdout",
     "text": [
      "6/6 [==============================] - 1s 6ms/step\n",
      "6/6 [==============================] - 1s 7ms/step - loss: 0.0000e+00 - accuracy: 0.9946\n",
      "2/2 [==============================] - 0s 6ms/step - loss: 0.0000e+00 - accuracy: 0.9239\n"
     ]
    },
    {
     "output_type": "stream",
     "name": "stderr",
     "text": [
      " 28%|██▊       | 9/32 [00:26<01:08,  2.96s/it]"
     ]
    },
    {
     "output_type": "stream",
     "name": "stdout",
     "text": [
      "6/6 [==============================] - 1s 5ms/step\n",
      "6/6 [==============================] - 1s 7ms/step - loss: 0.0000e+00 - accuracy: 0.9918\n",
      "2/2 [==============================] - 0s 6ms/step - loss: 0.0000e+00 - accuracy: 0.9348\n"
     ]
    },
    {
     "output_type": "stream",
     "name": "stderr",
     "text": [
      " 31%|███▏      | 10/32 [00:29<01:04,  2.94s/it]"
     ]
    },
    {
     "output_type": "stream",
     "name": "stdout",
     "text": [
      "6/6 [==============================] - 1s 5ms/step\n",
      "6/6 [==============================] - 1s 7ms/step - loss: 0.0000e+00 - accuracy: 0.9918\n",
      "2/2 [==============================] - 0s 6ms/step - loss: 0.0000e+00 - accuracy: 0.9783\n"
     ]
    },
    {
     "output_type": "stream",
     "name": "stderr",
     "text": [
      " 34%|███▍      | 11/32 [00:33<01:06,  3.17s/it]"
     ]
    },
    {
     "output_type": "stream",
     "name": "stdout",
     "text": [
      "6/6 [==============================] - 1s 6ms/step\n",
      "6/6 [==============================] - 1s 6ms/step - loss: 0.0000e+00 - accuracy: 0.9946\n",
      "2/2 [==============================] - 0s 6ms/step - loss: 0.0000e+00 - accuracy: 0.9457\n"
     ]
    },
    {
     "output_type": "stream",
     "name": "stderr",
     "text": [
      " 38%|███▊      | 12/32 [00:36<01:01,  3.05s/it]"
     ]
    },
    {
     "output_type": "stream",
     "name": "stdout",
     "text": [
      "6/6 [==============================] - 1s 6ms/step\n",
      "6/6 [==============================] - 1s 8ms/step - loss: 0.0000e+00 - accuracy: 0.9918\n",
      "2/2 [==============================] - 0s 6ms/step - loss: 0.0000e+00 - accuracy: 0.9348\n"
     ]
    },
    {
     "output_type": "stream",
     "name": "stderr",
     "text": [
      " 41%|████      | 13/32 [00:39<00:57,  3.02s/it]"
     ]
    },
    {
     "output_type": "stream",
     "name": "stdout",
     "text": [
      "6/6 [==============================] - 1s 5ms/step\n",
      "6/6 [==============================] - 1s 6ms/step - loss: 0.0000e+00 - accuracy: 0.9946\n",
      "2/2 [==============================] - 0s 6ms/step - loss: 0.0000e+00 - accuracy: 0.9130\n"
     ]
    },
    {
     "output_type": "stream",
     "name": "stderr",
     "text": [
      " 44%|████▍     | 14/32 [00:42<00:54,  3.01s/it]"
     ]
    },
    {
     "output_type": "stream",
     "name": "stdout",
     "text": [
      "6/6 [==============================] - 1s 6ms/step\n",
      "6/6 [==============================] - 1s 8ms/step - loss: 0.0000e+00 - accuracy: 0.9946\n",
      "2/2 [==============================] - 0s 5ms/step - loss: 0.0000e+00 - accuracy: 0.9457\n"
     ]
    },
    {
     "output_type": "stream",
     "name": "stderr",
     "text": [
      " 47%|████▋     | 15/32 [00:45<00:50,  2.98s/it]"
     ]
    },
    {
     "output_type": "stream",
     "name": "stdout",
     "text": [
      "6/6 [==============================] - 1s 5ms/step\n",
      "6/6 [==============================] - 1s 7ms/step - loss: 0.0000e+00 - accuracy: 0.9918\n",
      "2/2 [==============================] - 0s 6ms/step - loss: 0.0000e+00 - accuracy: 0.9239\n"
     ]
    },
    {
     "output_type": "stream",
     "name": "stderr",
     "text": [
      " 50%|█████     | 16/32 [00:48<00:47,  2.96s/it]"
     ]
    },
    {
     "output_type": "stream",
     "name": "stdout",
     "text": [
      "6/6 [==============================] - 1s 5ms/step\n",
      "6/6 [==============================] - 1s 6ms/step - loss: 0.0000e+00 - accuracy: 0.9973\n",
      "2/2 [==============================] - 0s 6ms/step - loss: 0.0000e+00 - accuracy: 0.9891\n"
     ]
    },
    {
     "output_type": "stream",
     "name": "stderr",
     "text": [
      " 53%|█████▎    | 17/32 [00:50<00:44,  2.94s/it]"
     ]
    },
    {
     "output_type": "stream",
     "name": "stdout",
     "text": [
      "6/6 [==============================] - 1s 5ms/step\n",
      "6/6 [==============================] - 1s 7ms/step - loss: 0.0000e+00 - accuracy: 0.9946\n",
      "2/2 [==============================] - 0s 7ms/step - loss: 0.0000e+00 - accuracy: 0.9457\n"
     ]
    },
    {
     "output_type": "stream",
     "name": "stderr",
     "text": [
      " 56%|█████▋    | 18/32 [00:53<00:41,  2.93s/it]"
     ]
    },
    {
     "output_type": "stream",
     "name": "stdout",
     "text": [
      "6/6 [==============================] - 1s 6ms/step\n",
      "6/6 [==============================] - 1s 7ms/step - loss: 0.0000e+00 - accuracy: 0.9946\n",
      "2/2 [==============================] - 0s 6ms/step - loss: 0.0000e+00 - accuracy: 0.9022\n"
     ]
    },
    {
     "output_type": "stream",
     "name": "stderr",
     "text": [
      " 59%|█████▉    | 19/32 [00:56<00:37,  2.92s/it]"
     ]
    },
    {
     "output_type": "stream",
     "name": "stdout",
     "text": [
      "6/6 [==============================] - 1s 7ms/step\n",
      "6/6 [==============================] - 1s 7ms/step - loss: 0.0000e+00 - accuracy: 0.9973\n",
      "2/2 [==============================] - 0s 6ms/step - loss: 0.0000e+00 - accuracy: 0.9783\n"
     ]
    },
    {
     "output_type": "stream",
     "name": "stderr",
     "text": [
      " 62%|██████▎   | 20/32 [01:00<00:37,  3.16s/it]"
     ]
    },
    {
     "output_type": "stream",
     "name": "stdout",
     "text": [
      "6/6 [==============================] - 1s 5ms/step\n",
      "6/6 [==============================] - 1s 7ms/step - loss: 0.0000e+00 - accuracy: 0.9891\n",
      "2/2 [==============================] - 0s 6ms/step - loss: 0.0000e+00 - accuracy: 0.8913\n"
     ]
    },
    {
     "output_type": "stream",
     "name": "stderr",
     "text": [
      " 66%|██████▌   | 21/32 [01:03<00:33,  3.06s/it]"
     ]
    },
    {
     "output_type": "stream",
     "name": "stdout",
     "text": [
      "6/6 [==============================] - 1s 7ms/step\n",
      "6/6 [==============================] - 1s 8ms/step - loss: 0.0000e+00 - accuracy: 1.0000\n",
      "2/2 [==============================] - 0s 6ms/step - loss: 0.0000e+00 - accuracy: 0.9239\n"
     ]
    },
    {
     "output_type": "stream",
     "name": "stderr",
     "text": [
      " 69%|██████▉   | 22/32 [01:06<00:30,  3.02s/it]"
     ]
    },
    {
     "output_type": "stream",
     "name": "stdout",
     "text": [
      "6/6 [==============================] - 1s 6ms/step\n",
      "6/6 [==============================] - 1s 6ms/step - loss: 0.0000e+00 - accuracy: 0.9918\n",
      "2/2 [==============================] - 0s 6ms/step - loss: 0.0000e+00 - accuracy: 0.9130\n"
     ]
    },
    {
     "output_type": "stream",
     "name": "stderr",
     "text": [
      " 72%|███████▏  | 23/32 [01:09<00:26,  2.98s/it]"
     ]
    },
    {
     "output_type": "stream",
     "name": "stdout",
     "text": [
      "6/6 [==============================] - 1s 7ms/step\n",
      "6/6 [==============================] - 1s 7ms/step - loss: 0.0000e+00 - accuracy: 0.9891\n",
      "2/2 [==============================] - 0s 5ms/step - loss: 0.0000e+00 - accuracy: 0.9348\n"
     ]
    },
    {
     "output_type": "stream",
     "name": "stderr",
     "text": [
      " 75%|███████▌  | 24/32 [01:12<00:23,  2.96s/it]"
     ]
    },
    {
     "output_type": "stream",
     "name": "stdout",
     "text": [
      "6/6 [==============================] - 1s 6ms/step\n",
      "6/6 [==============================] - 1s 7ms/step - loss: 0.0000e+00 - accuracy: 0.9973\n",
      "2/2 [==============================] - 0s 6ms/step - loss: 0.0000e+00 - accuracy: 0.9457\n"
     ]
    },
    {
     "output_type": "stream",
     "name": "stderr",
     "text": [
      " 78%|███████▊  | 25/32 [01:14<00:20,  2.96s/it]"
     ]
    },
    {
     "output_type": "stream",
     "name": "stdout",
     "text": [
      "6/6 [==============================] - 1s 7ms/step\n",
      "6/6 [==============================] - 1s 7ms/step - loss: 0.0000e+00 - accuracy: 0.9946\n",
      "2/2 [==============================] - 0s 5ms/step - loss: 0.0000e+00 - accuracy: 0.9783\n"
     ]
    },
    {
     "output_type": "stream",
     "name": "stderr",
     "text": [
      " 81%|████████▏ | 26/32 [01:17<00:17,  2.94s/it]"
     ]
    },
    {
     "output_type": "stream",
     "name": "stdout",
     "text": [
      "6/6 [==============================] - 1s 6ms/step\n",
      "6/6 [==============================] - 1s 6ms/step - loss: 0.0000e+00 - accuracy: 0.9973\n",
      "2/2 [==============================] - 0s 8ms/step - loss: 0.0000e+00 - accuracy: 0.8804\n"
     ]
    },
    {
     "output_type": "stream",
     "name": "stderr",
     "text": [
      " 84%|████████▍ | 27/32 [01:20<00:14,  2.92s/it]"
     ]
    },
    {
     "output_type": "stream",
     "name": "stdout",
     "text": [
      "6/6 [==============================] - 1s 6ms/step\n",
      "6/6 [==============================] - 1s 6ms/step - loss: 0.0000e+00 - accuracy: 0.9918\n",
      "2/2 [==============================] - 0s 6ms/step - loss: 0.0000e+00 - accuracy: 0.9348\n"
     ]
    },
    {
     "output_type": "stream",
     "name": "stderr",
     "text": [
      " 88%|████████▊ | 28/32 [01:23<00:11,  2.92s/it]"
     ]
    },
    {
     "output_type": "stream",
     "name": "stdout",
     "text": [
      "6/6 [==============================] - 1s 8ms/step\n",
      "6/6 [==============================] - 1s 8ms/step - loss: 0.0000e+00 - accuracy: 0.9973\n",
      "2/2 [==============================] - 0s 8ms/step - loss: 0.0000e+00 - accuracy: 0.8804\n"
     ]
    },
    {
     "output_type": "stream",
     "name": "stderr",
     "text": [
      " 91%|█████████ | 29/32 [01:27<00:09,  3.06s/it]"
     ]
    },
    {
     "output_type": "stream",
     "name": "stdout",
     "text": [
      "6/6 [==============================] - 1s 7ms/step\n",
      "6/6 [==============================] - 1s 6ms/step - loss: 0.0000e+00 - accuracy: 0.9946\n",
      "2/2 [==============================] - 0s 6ms/step - loss: 0.0000e+00 - accuracy: 0.9022\n"
     ]
    },
    {
     "output_type": "stream",
     "name": "stderr",
     "text": [
      " 94%|█████████▍| 30/32 [01:31<00:06,  3.44s/it]"
     ]
    },
    {
     "output_type": "stream",
     "name": "stdout",
     "text": [
      "6/6 [==============================] - 1s 6ms/step\n",
      "6/6 [==============================] - 1s 7ms/step - loss: 0.0000e+00 - accuracy: 0.9918\n",
      "2/2 [==============================] - 0s 6ms/step - loss: 0.0000e+00 - accuracy: 0.9348\n"
     ]
    },
    {
     "output_type": "stream",
     "name": "stderr",
     "text": [
      " 97%|█████████▋| 31/32 [01:34<00:03,  3.33s/it]"
     ]
    },
    {
     "output_type": "stream",
     "name": "stdout",
     "text": [
      "6/6 [==============================] - 1s 5ms/step\n",
      "6/6 [==============================] - 1s 7ms/step - loss: 0.0000e+00 - accuracy: 0.9946\n",
      "2/2 [==============================] - 0s 6ms/step - loss: 0.0000e+00 - accuracy: 0.9022\n"
     ]
    },
    {
     "output_type": "stream",
     "name": "stderr",
     "text": [
      "100%|██████████| 32/32 [01:37<00:00,  3.04s/it]\n",
      "/home/kumaran/.local/lib/python3.6/site-packages/sklearn/utils/validation.py:72: FutureWarning: Pass shuffle=True, random_state=1 as keyword args. From version 1.0 (renaming of 0.25) passing these as positional arguments will result in an error\n",
      "  \"will result in an error\", FutureWarning)\n"
     ]
    },
    {
     "output_type": "stream",
     "name": "stdout",
     "text": [
      "split_no 368\n"
     ]
    },
    {
     "output_type": "stream",
     "name": "stderr",
     "text": [
      "  0%|          | 0/32 [00:00<?, ?it/s]"
     ]
    },
    {
     "output_type": "stream",
     "name": "stdout",
     "text": [
      "6/6 [==============================] - 1s 5ms/step\n",
      "6/6 [==============================] - 1s 6ms/step - loss: 0.0000e+00 - accuracy: 0.9918\n",
      "2/2 [==============================] - 0s 6ms/step - loss: 0.0000e+00 - accuracy: 0.9022\n"
     ]
    },
    {
     "output_type": "stream",
     "name": "stderr",
     "text": [
      "  3%|▎         | 1/32 [00:02<01:31,  2.97s/it]"
     ]
    },
    {
     "output_type": "stream",
     "name": "stdout",
     "text": [
      "6/6 [==============================] - 1s 7ms/step\n",
      "6/6 [==============================] - 1s 7ms/step - loss: 0.0000e+00 - accuracy: 0.9891\n",
      "2/2 [==============================] - 0s 6ms/step - loss: 0.0000e+00 - accuracy: 0.8696\n"
     ]
    },
    {
     "output_type": "stream",
     "name": "stderr",
     "text": [
      "  6%|▋         | 2/32 [00:06<01:36,  3.23s/it]"
     ]
    },
    {
     "output_type": "stream",
     "name": "stdout",
     "text": [
      "6/6 [==============================] - 1s 6ms/step\n",
      "6/6 [==============================] - 1s 7ms/step - loss: 0.0000e+00 - accuracy: 1.0000\n",
      "2/2 [==============================] - 0s 5ms/step - loss: 0.0000e+00 - accuracy: 0.8370\n"
     ]
    },
    {
     "output_type": "stream",
     "name": "stderr",
     "text": [
      "  9%|▉         | 3/32 [00:09<01:32,  3.17s/it]"
     ]
    },
    {
     "output_type": "stream",
     "name": "stdout",
     "text": [
      "6/6 [==============================] - 1s 6ms/step\n",
      "6/6 [==============================] - 1s 6ms/step - loss: 0.0000e+00 - accuracy: 0.9973\n",
      "2/2 [==============================] - 0s 5ms/step - loss: 0.0000e+00 - accuracy: 0.9130\n"
     ]
    },
    {
     "output_type": "stream",
     "name": "stderr",
     "text": [
      " 12%|█▎        | 4/32 [00:12<01:26,  3.08s/it]"
     ]
    },
    {
     "output_type": "stream",
     "name": "stdout",
     "text": [
      "6/6 [==============================] - 1s 6ms/step\n",
      "6/6 [==============================] - 1s 9ms/step - loss: 0.0000e+00 - accuracy: 0.9891\n",
      "2/2 [==============================] - 0s 5ms/step - loss: 0.0000e+00 - accuracy: 0.8913\n"
     ]
    },
    {
     "output_type": "stream",
     "name": "stderr",
     "text": [
      " 16%|█▌        | 5/32 [00:15<01:21,  3.03s/it]"
     ]
    },
    {
     "output_type": "stream",
     "name": "stdout",
     "text": [
      "6/6 [==============================] - 1s 6ms/step\n",
      "6/6 [==============================] - 1s 6ms/step - loss: 0.0000e+00 - accuracy: 0.9918\n",
      "2/2 [==============================] - 0s 6ms/step - loss: 0.0000e+00 - accuracy: 0.8913\n"
     ]
    },
    {
     "output_type": "stream",
     "name": "stderr",
     "text": [
      " 19%|█▉        | 6/32 [00:18<01:18,  3.01s/it]"
     ]
    },
    {
     "output_type": "stream",
     "name": "stdout",
     "text": [
      "6/6 [==============================] - 1s 5ms/step\n",
      "6/6 [==============================] - 1s 6ms/step - loss: 0.0000e+00 - accuracy: 0.9918\n",
      "2/2 [==============================] - 0s 6ms/step - loss: 0.0000e+00 - accuracy: 0.8696\n"
     ]
    },
    {
     "output_type": "stream",
     "name": "stderr",
     "text": [
      " 22%|██▏       | 7/32 [00:21<01:15,  3.01s/it]"
     ]
    },
    {
     "output_type": "stream",
     "name": "stdout",
     "text": [
      "6/6 [==============================] - 1s 5ms/step\n",
      "6/6 [==============================] - 1s 7ms/step - loss: 0.0000e+00 - accuracy: 0.9946\n",
      "2/2 [==============================] - 0s 5ms/step - loss: 0.0000e+00 - accuracy: 0.8696\n"
     ]
    },
    {
     "output_type": "stream",
     "name": "stderr",
     "text": [
      " 25%|██▌       | 8/32 [00:24<01:16,  3.21s/it]"
     ]
    },
    {
     "output_type": "stream",
     "name": "stdout",
     "text": [
      "6/6 [==============================] - 1s 5ms/step\n",
      "6/6 [==============================] - 1s 8ms/step - loss: 0.0000e+00 - accuracy: 0.9946\n",
      "2/2 [==============================] - 0s 5ms/step - loss: 0.0000e+00 - accuracy: 0.8587\n"
     ]
    },
    {
     "output_type": "stream",
     "name": "stderr",
     "text": [
      " 28%|██▊       | 9/32 [00:27<01:11,  3.13s/it]"
     ]
    },
    {
     "output_type": "stream",
     "name": "stdout",
     "text": [
      "6/6 [==============================] - 1s 6ms/step\n",
      "6/6 [==============================] - 1s 7ms/step - loss: 0.0000e+00 - accuracy: 0.9946\n",
      "2/2 [==============================] - 0s 5ms/step - loss: 0.0000e+00 - accuracy: 0.8804\n"
     ]
    },
    {
     "output_type": "stream",
     "name": "stderr",
     "text": [
      " 31%|███▏      | 10/32 [00:30<01:07,  3.07s/it]"
     ]
    },
    {
     "output_type": "stream",
     "name": "stdout",
     "text": [
      "6/6 [==============================] - 1s 6ms/step\n",
      "6/6 [==============================] - 1s 7ms/step - loss: 0.0000e+00 - accuracy: 0.9918\n",
      "2/2 [==============================] - 0s 7ms/step - loss: 0.0000e+00 - accuracy: 0.9022\n"
     ]
    },
    {
     "output_type": "stream",
     "name": "stderr",
     "text": [
      " 34%|███▍      | 11/32 [00:33<01:03,  3.04s/it]"
     ]
    },
    {
     "output_type": "stream",
     "name": "stdout",
     "text": [
      "6/6 [==============================] - 1s 5ms/step\n",
      "6/6 [==============================] - 1s 8ms/step - loss: 0.0000e+00 - accuracy: 0.9946\n",
      "2/2 [==============================] - 0s 6ms/step - loss: 0.0000e+00 - accuracy: 0.8370\n"
     ]
    },
    {
     "output_type": "stream",
     "name": "stderr",
     "text": [
      " 38%|███▊      | 12/32 [00:36<01:00,  3.02s/it]"
     ]
    },
    {
     "output_type": "stream",
     "name": "stdout",
     "text": [
      "6/6 [==============================] - 1s 6ms/step\n",
      "6/6 [==============================] - 1s 7ms/step - loss: 0.0000e+00 - accuracy: 0.9918\n",
      "2/2 [==============================] - 0s 5ms/step - loss: 0.0000e+00 - accuracy: 0.8913\n"
     ]
    },
    {
     "output_type": "stream",
     "name": "stderr",
     "text": [
      " 41%|████      | 13/32 [00:39<00:56,  2.98s/it]"
     ]
    },
    {
     "output_type": "stream",
     "name": "stdout",
     "text": [
      "6/6 [==============================] - 1s 6ms/step\n",
      "6/6 [==============================] - 1s 6ms/step - loss: 0.0000e+00 - accuracy: 0.9891\n",
      "2/2 [==============================] - 0s 5ms/step - loss: 0.0000e+00 - accuracy: 0.8804\n"
     ]
    },
    {
     "output_type": "stream",
     "name": "stderr",
     "text": [
      " 44%|████▍     | 14/32 [00:42<00:53,  2.96s/it]"
     ]
    },
    {
     "output_type": "stream",
     "name": "stdout",
     "text": [
      "6/6 [==============================] - 1s 5ms/step\n",
      "6/6 [==============================] - 1s 7ms/step - loss: 0.0000e+00 - accuracy: 0.9918\n",
      "2/2 [==============================] - 0s 6ms/step - loss: 0.0000e+00 - accuracy: 0.9130\n"
     ]
    },
    {
     "output_type": "stream",
     "name": "stderr",
     "text": [
      " 47%|████▋     | 15/32 [00:45<00:50,  2.95s/it]"
     ]
    },
    {
     "output_type": "stream",
     "name": "stdout",
     "text": [
      "6/6 [==============================] - 1s 6ms/step\n",
      "6/6 [==============================] - 1s 7ms/step - loss: 0.0000e+00 - accuracy: 0.9946\n",
      "2/2 [==============================] - 0s 6ms/step - loss: 0.0000e+00 - accuracy: 0.9348\n"
     ]
    },
    {
     "output_type": "stream",
     "name": "stderr",
     "text": [
      " 50%|█████     | 16/32 [00:48<00:47,  2.95s/it]"
     ]
    },
    {
     "output_type": "stream",
     "name": "stdout",
     "text": [
      "6/6 [==============================] - 1s 6ms/step\n",
      "6/6 [==============================] - 1s 7ms/step - loss: 0.0000e+00 - accuracy: 0.9946\n",
      "2/2 [==============================] - 0s 5ms/step - loss: 0.0000e+00 - accuracy: 0.8696\n"
     ]
    },
    {
     "output_type": "stream",
     "name": "stderr",
     "text": [
      " 53%|█████▎    | 17/32 [00:51<00:44,  2.99s/it]"
     ]
    },
    {
     "output_type": "stream",
     "name": "stdout",
     "text": [
      "6/6 [==============================] - 1s 6ms/step\n",
      "6/6 [==============================] - 1s 7ms/step - loss: 0.0000e+00 - accuracy: 0.9946\n",
      "2/2 [==============================] - 0s 6ms/step - loss: 0.0000e+00 - accuracy: 0.9130\n"
     ]
    },
    {
     "output_type": "stream",
     "name": "stderr",
     "text": [
      " 56%|█████▋    | 18/32 [00:54<00:43,  3.10s/it]"
     ]
    },
    {
     "output_type": "stream",
     "name": "stdout",
     "text": [
      "6/6 [==============================] - 1s 6ms/step\n",
      "6/6 [==============================] - 1s 7ms/step - loss: 0.0000e+00 - accuracy: 0.9918\n",
      "2/2 [==============================] - 0s 5ms/step - loss: 0.0000e+00 - accuracy: 0.9022\n"
     ]
    },
    {
     "output_type": "stream",
     "name": "stderr",
     "text": [
      " 59%|█████▉    | 19/32 [00:58<00:42,  3.29s/it]"
     ]
    },
    {
     "output_type": "stream",
     "name": "stdout",
     "text": [
      "6/6 [==============================] - 1s 5ms/step\n",
      "6/6 [==============================] - 1s 7ms/step - loss: 0.0000e+00 - accuracy: 0.9891\n",
      "2/2 [==============================] - 0s 6ms/step - loss: 0.0000e+00 - accuracy: 0.9022\n"
     ]
    },
    {
     "output_type": "stream",
     "name": "stderr",
     "text": [
      " 62%|██████▎   | 20/32 [01:01<00:38,  3.20s/it]"
     ]
    },
    {
     "output_type": "stream",
     "name": "stdout",
     "text": [
      "6/6 [==============================] - 1s 6ms/step\n",
      "6/6 [==============================] - 1s 7ms/step - loss: 0.0000e+00 - accuracy: 0.9946\n",
      "2/2 [==============================] - 0s 6ms/step - loss: 0.0000e+00 - accuracy: 0.8696\n"
     ]
    },
    {
     "output_type": "stream",
     "name": "stderr",
     "text": [
      " 66%|██████▌   | 21/32 [01:04<00:34,  3.17s/it]"
     ]
    },
    {
     "output_type": "stream",
     "name": "stdout",
     "text": [
      "6/6 [==============================] - 1s 7ms/step\n",
      "6/6 [==============================] - 1s 7ms/step - loss: 0.0000e+00 - accuracy: 0.9918\n",
      "2/2 [==============================] - 0s 6ms/step - loss: 0.0000e+00 - accuracy: 0.8913\n"
     ]
    },
    {
     "output_type": "stream",
     "name": "stderr",
     "text": [
      " 69%|██████▉   | 22/32 [01:07<00:31,  3.11s/it]"
     ]
    },
    {
     "output_type": "stream",
     "name": "stdout",
     "text": [
      "6/6 [==============================] - 1s 5ms/step\n",
      "6/6 [==============================] - 1s 7ms/step - loss: 0.0000e+00 - accuracy: 0.9918\n",
      "2/2 [==============================] - 0s 6ms/step - loss: 0.0000e+00 - accuracy: 0.9239\n"
     ]
    },
    {
     "output_type": "stream",
     "name": "stderr",
     "text": [
      " 72%|███████▏  | 23/32 [01:10<00:27,  3.06s/it]"
     ]
    },
    {
     "output_type": "stream",
     "name": "stdout",
     "text": [
      "6/6 [==============================] - 1s 5ms/step\n",
      "6/6 [==============================] - 1s 7ms/step - loss: 0.0000e+00 - accuracy: 0.9918\n",
      "2/2 [==============================] - 0s 6ms/step - loss: 0.0000e+00 - accuracy: 0.9891\n"
     ]
    },
    {
     "output_type": "stream",
     "name": "stderr",
     "text": [
      " 75%|███████▌  | 24/32 [01:13<00:24,  3.03s/it]"
     ]
    },
    {
     "output_type": "stream",
     "name": "stdout",
     "text": [
      "6/6 [==============================] - 1s 7ms/step\n",
      "6/6 [==============================] - 1s 7ms/step - loss: 0.0000e+00 - accuracy: 0.9891\n",
      "2/2 [==============================] - 0s 5ms/step - loss: 0.0000e+00 - accuracy: 0.8478\n"
     ]
    },
    {
     "output_type": "stream",
     "name": "stderr",
     "text": [
      " 78%|███████▊  | 25/32 [01:16<00:21,  3.01s/it]"
     ]
    },
    {
     "output_type": "stream",
     "name": "stdout",
     "text": [
      "6/6 [==============================] - 1s 7ms/step\n",
      "6/6 [==============================] - 1s 6ms/step - loss: 0.0000e+00 - accuracy: 0.9918\n",
      "2/2 [==============================] - 0s 5ms/step - loss: 0.0000e+00 - accuracy: 0.9239\n"
     ]
    },
    {
     "output_type": "stream",
     "name": "stderr",
     "text": [
      " 81%|████████▏ | 26/32 [01:19<00:17,  2.99s/it]"
     ]
    },
    {
     "output_type": "stream",
     "name": "stdout",
     "text": [
      "6/6 [==============================] - 1s 5ms/step\n",
      "6/6 [==============================] - 1s 6ms/step - loss: 0.0000e+00 - accuracy: 0.9946\n",
      "2/2 [==============================] - 0s 5ms/step - loss: 0.0000e+00 - accuracy: 0.8804\n"
     ]
    },
    {
     "output_type": "stream",
     "name": "stderr",
     "text": [
      " 84%|████████▍ | 27/32 [01:22<00:14,  2.97s/it]"
     ]
    },
    {
     "output_type": "stream",
     "name": "stdout",
     "text": [
      "6/6 [==============================] - 1s 6ms/step\n",
      "6/6 [==============================] - 1s 6ms/step - loss: 0.0000e+00 - accuracy: 0.9946\n",
      "2/2 [==============================] - 0s 5ms/step - loss: 0.0000e+00 - accuracy: 0.8370\n"
     ]
    },
    {
     "output_type": "stream",
     "name": "stderr",
     "text": [
      " 88%|████████▊ | 28/32 [01:25<00:11,  2.97s/it]"
     ]
    },
    {
     "output_type": "stream",
     "name": "stdout",
     "text": [
      "6/6 [==============================] - 1s 6ms/step\n",
      "6/6 [==============================] - 1s 6ms/step - loss: 0.0000e+00 - accuracy: 0.9918\n",
      "2/2 [==============================] - 0s 6ms/step - loss: 0.0000e+00 - accuracy: 0.8478\n"
     ]
    },
    {
     "output_type": "stream",
     "name": "stderr",
     "text": [
      " 91%|█████████ | 29/32 [01:28<00:08,  2.96s/it]"
     ]
    },
    {
     "output_type": "stream",
     "name": "stdout",
     "text": [
      "6/6 [==============================] - 1s 6ms/step\n",
      "6/6 [==============================] - 1s 7ms/step - loss: 0.0000e+00 - accuracy: 0.9918\n",
      "2/2 [==============================] - 0s 6ms/step - loss: 0.0000e+00 - accuracy: 0.8587\n"
     ]
    },
    {
     "output_type": "stream",
     "name": "stderr",
     "text": [
      " 94%|█████████▍| 30/32 [01:32<00:06,  3.21s/it]"
     ]
    },
    {
     "output_type": "stream",
     "name": "stdout",
     "text": [
      "6/6 [==============================] - 1s 5ms/step\n",
      "6/6 [==============================] - 1s 7ms/step - loss: 0.0000e+00 - accuracy: 0.9946\n",
      "2/2 [==============================] - 0s 6ms/step - loss: 0.0000e+00 - accuracy: 0.9130\n"
     ]
    },
    {
     "output_type": "stream",
     "name": "stderr",
     "text": [
      " 97%|█████████▋| 31/32 [01:35<00:03,  3.12s/it]"
     ]
    },
    {
     "output_type": "stream",
     "name": "stdout",
     "text": [
      "6/6 [==============================] - 1s 5ms/step\n",
      "6/6 [==============================] - 1s 7ms/step - loss: 0.0000e+00 - accuracy: 0.9891\n",
      "2/2 [==============================] - 0s 5ms/step - loss: 0.0000e+00 - accuracy: 0.8587\n"
     ]
    },
    {
     "output_type": "stream",
     "name": "stderr",
     "text": [
      "100%|██████████| 32/32 [01:38<00:00,  3.06s/it]\n"
     ]
    }
   ],
   "metadata": {}
  },
  {
   "cell_type": "code",
   "execution_count": 12,
   "source": [
    "acc_data =  pd.concat([acc_zero , acc_mean , acc_median , acc_corr , acc_rf]).reset_index(drop=True)\n",
    "acc_data"
   ],
   "outputs": [
    {
     "output_type": "execute_result",
     "data": {
      "text/plain": [
       "    model impute_method data_processing   acc_type  accuracy\n",
       "0      RF          Zero      Normalized  Train_acc  0.989130\n",
       "1      RF          Zero      Normalized  Train_acc  0.991848\n",
       "2      RF          Zero      Normalized  Train_acc  0.991848\n",
       "3      RF          Zero      Normalized  Train_acc  0.994565\n",
       "4      RF          Zero      Normalized  Train_acc  0.991848\n",
       "..    ...           ...             ...        ...       ...\n",
       "315    RF            RF      Normalized   Test_acc  0.934783\n",
       "316    RF            RF      Normalized   Test_acc  0.945652\n",
       "317    RF            RF      Normalized   Test_acc  0.913043\n",
       "318    RF            RF      Normalized   Test_acc  0.934783\n",
       "319    RF            RF      Normalized   Test_acc  0.923913\n",
       "\n",
       "[320 rows x 5 columns]"
      ],
      "text/html": [
       "<div>\n",
       "<style scoped>\n",
       "    .dataframe tbody tr th:only-of-type {\n",
       "        vertical-align: middle;\n",
       "    }\n",
       "\n",
       "    .dataframe tbody tr th {\n",
       "        vertical-align: top;\n",
       "    }\n",
       "\n",
       "    .dataframe thead th {\n",
       "        text-align: right;\n",
       "    }\n",
       "</style>\n",
       "<table border=\"1\" class=\"dataframe\">\n",
       "  <thead>\n",
       "    <tr style=\"text-align: right;\">\n",
       "      <th></th>\n",
       "      <th>model</th>\n",
       "      <th>impute_method</th>\n",
       "      <th>data_processing</th>\n",
       "      <th>acc_type</th>\n",
       "      <th>accuracy</th>\n",
       "    </tr>\n",
       "  </thead>\n",
       "  <tbody>\n",
       "    <tr>\n",
       "      <th>0</th>\n",
       "      <td>RF</td>\n",
       "      <td>Zero</td>\n",
       "      <td>Normalized</td>\n",
       "      <td>Train_acc</td>\n",
       "      <td>0.989130</td>\n",
       "    </tr>\n",
       "    <tr>\n",
       "      <th>1</th>\n",
       "      <td>RF</td>\n",
       "      <td>Zero</td>\n",
       "      <td>Normalized</td>\n",
       "      <td>Train_acc</td>\n",
       "      <td>0.991848</td>\n",
       "    </tr>\n",
       "    <tr>\n",
       "      <th>2</th>\n",
       "      <td>RF</td>\n",
       "      <td>Zero</td>\n",
       "      <td>Normalized</td>\n",
       "      <td>Train_acc</td>\n",
       "      <td>0.991848</td>\n",
       "    </tr>\n",
       "    <tr>\n",
       "      <th>3</th>\n",
       "      <td>RF</td>\n",
       "      <td>Zero</td>\n",
       "      <td>Normalized</td>\n",
       "      <td>Train_acc</td>\n",
       "      <td>0.994565</td>\n",
       "    </tr>\n",
       "    <tr>\n",
       "      <th>4</th>\n",
       "      <td>RF</td>\n",
       "      <td>Zero</td>\n",
       "      <td>Normalized</td>\n",
       "      <td>Train_acc</td>\n",
       "      <td>0.991848</td>\n",
       "    </tr>\n",
       "    <tr>\n",
       "      <th>...</th>\n",
       "      <td>...</td>\n",
       "      <td>...</td>\n",
       "      <td>...</td>\n",
       "      <td>...</td>\n",
       "      <td>...</td>\n",
       "    </tr>\n",
       "    <tr>\n",
       "      <th>315</th>\n",
       "      <td>RF</td>\n",
       "      <td>RF</td>\n",
       "      <td>Normalized</td>\n",
       "      <td>Test_acc</td>\n",
       "      <td>0.934783</td>\n",
       "    </tr>\n",
       "    <tr>\n",
       "      <th>316</th>\n",
       "      <td>RF</td>\n",
       "      <td>RF</td>\n",
       "      <td>Normalized</td>\n",
       "      <td>Test_acc</td>\n",
       "      <td>0.945652</td>\n",
       "    </tr>\n",
       "    <tr>\n",
       "      <th>317</th>\n",
       "      <td>RF</td>\n",
       "      <td>RF</td>\n",
       "      <td>Normalized</td>\n",
       "      <td>Test_acc</td>\n",
       "      <td>0.913043</td>\n",
       "    </tr>\n",
       "    <tr>\n",
       "      <th>318</th>\n",
       "      <td>RF</td>\n",
       "      <td>RF</td>\n",
       "      <td>Normalized</td>\n",
       "      <td>Test_acc</td>\n",
       "      <td>0.934783</td>\n",
       "    </tr>\n",
       "    <tr>\n",
       "      <th>319</th>\n",
       "      <td>RF</td>\n",
       "      <td>RF</td>\n",
       "      <td>Normalized</td>\n",
       "      <td>Test_acc</td>\n",
       "      <td>0.923913</td>\n",
       "    </tr>\n",
       "  </tbody>\n",
       "</table>\n",
       "<p>320 rows × 5 columns</p>\n",
       "</div>"
      ]
     },
     "metadata": {},
     "execution_count": 12
    }
   ],
   "metadata": {}
  },
  {
   "cell_type": "code",
   "execution_count": 13,
   "source": [
    "acc_data.to_csv('result/acc_rf_norm_all')"
   ],
   "outputs": [],
   "metadata": {}
  },
  {
   "cell_type": "code",
   "execution_count": 15,
   "source": [
    "import seaborn as sns"
   ],
   "outputs": [],
   "metadata": {}
  },
  {
   "cell_type": "code",
   "execution_count": 18,
   "source": [
    "sns.set_theme('paper')\n",
    "sns.set_style('whitegrid')\n",
    "sns.catplot(data = acc_data , y='accuracy' , x = 'impute_method' ,\n",
    "            hue= 'acc_type'  , kind='box' ,  col ='model' , \n",
    "            palette = 'crest' , height=6 , aspect=8/6\n",
    "            )\n",
    "plt.savefig('result/model_var_rf.jpg')\n",
    "plt.show()"
   ],
   "outputs": [
    {
     "output_type": "display_data",
     "data": {
      "text/plain": [
       "<Figure size 648.305x432 with 1 Axes>"
      ],
      "image/svg+xml": "<?xml version=\"1.0\" encoding=\"utf-8\" standalone=\"no\"?>\n<!DOCTYPE svg PUBLIC \"-//W3C//DTD SVG 1.1//EN\"\n  \"http://www.w3.org/Graphics/SVG/1.1/DTD/svg11.dtd\">\n<!-- Created with matplotlib (https://matplotlib.org/) -->\n<svg height=\"423.127pt\" version=\"1.1\" viewBox=\"0 0 640.041023 423.127\" width=\"640.041023pt\" xmlns=\"http://www.w3.org/2000/svg\" xmlns:xlink=\"http://www.w3.org/1999/xlink\">\n <metadata>\n  <rdf:RDF xmlns:cc=\"http://creativecommons.org/ns#\" xmlns:dc=\"http://purl.org/dc/elements/1.1/\" xmlns:rdf=\"http://www.w3.org/1999/02/22-rdf-syntax-ns#\">\n   <cc:Work>\n    <dc:type rdf:resource=\"http://purl.org/dc/dcmitype/StillImage\"/>\n    <dc:date>2021-10-18T00:02:37.090945</dc:date>\n    <dc:format>image/svg+xml</dc:format>\n    <dc:creator>\n     <cc:Agent>\n      <dc:title>Matplotlib v3.3.4, https://matplotlib.org/</dc:title>\n     </cc:Agent>\n    </dc:creator>\n   </cc:Work>\n  </rdf:RDF>\n </metadata>\n <defs>\n  <style type=\"text/css\">*{stroke-linecap:butt;stroke-linejoin:round;}</style>\n </defs>\n <g id=\"figure_1\">\n  <g id=\"patch_1\">\n   <path d=\"M 0 423.127 \nL 640.041023 423.127 \nL 640.041023 0 \nL 0 0 \nz\n\" style=\"fill:#ffffff;\"/>\n  </g>\n  <g id=\"axes_1\">\n   <g id=\"patch_2\">\n    <path d=\"M 53.98375 385.55225 \nL 558.452973 385.55225 \nL 558.452973 20.4945 \nL 53.98375 20.4945 \nz\n\" style=\"fill:#ffffff;\"/>\n   </g>\n   <g id=\"matplotlib.axis_1\">\n    <g id=\"xtick_1\">\n     <g id=\"text_1\">\n      <!-- Zero -->\n      <g style=\"fill:#262626;\" transform=\"translate(94.307235 400.538875)scale(0.088 -0.088)\">\n       <defs>\n        <path d=\"M 5.609375 72.90625 \nL 62.890625 72.90625 \nL 62.890625 65.375 \nL 16.796875 8.296875 \nL 64.015625 8.296875 \nL 64.015625 0 \nL 4.5 0 \nL 4.5 7.515625 \nL 50.59375 64.59375 \nL 5.609375 64.59375 \nz\n\" id=\"DejaVuSans-90\"/>\n        <path d=\"M 56.203125 29.59375 \nL 56.203125 25.203125 \nL 14.890625 25.203125 \nQ 15.484375 15.921875 20.484375 11.0625 \nQ 25.484375 6.203125 34.421875 6.203125 \nQ 39.59375 6.203125 44.453125 7.46875 \nQ 49.3125 8.734375 54.109375 11.28125 \nL 54.109375 2.78125 \nQ 49.265625 0.734375 44.1875 -0.34375 \nQ 39.109375 -1.421875 33.890625 -1.421875 \nQ 20.796875 -1.421875 13.15625 6.1875 \nQ 5.515625 13.8125 5.515625 26.8125 \nQ 5.515625 40.234375 12.765625 48.109375 \nQ 20.015625 56 32.328125 56 \nQ 43.359375 56 49.78125 48.890625 \nQ 56.203125 41.796875 56.203125 29.59375 \nz\nM 47.21875 32.234375 \nQ 47.125 39.59375 43.09375 43.984375 \nQ 39.0625 48.390625 32.421875 48.390625 \nQ 24.90625 48.390625 20.390625 44.140625 \nQ 15.875 39.890625 15.1875 32.171875 \nz\n\" id=\"DejaVuSans-101\"/>\n        <path d=\"M 41.109375 46.296875 \nQ 39.59375 47.171875 37.8125 47.578125 \nQ 36.03125 48 33.890625 48 \nQ 26.265625 48 22.1875 43.046875 \nQ 18.109375 38.09375 18.109375 28.8125 \nL 18.109375 0 \nL 9.078125 0 \nL 9.078125 54.6875 \nL 18.109375 54.6875 \nL 18.109375 46.1875 \nQ 20.953125 51.171875 25.484375 53.578125 \nQ 30.03125 56 36.53125 56 \nQ 37.453125 56 38.578125 55.875 \nQ 39.703125 55.765625 41.0625 55.515625 \nz\n\" id=\"DejaVuSans-114\"/>\n        <path d=\"M 30.609375 48.390625 \nQ 23.390625 48.390625 19.1875 42.75 \nQ 14.984375 37.109375 14.984375 27.296875 \nQ 14.984375 17.484375 19.15625 11.84375 \nQ 23.34375 6.203125 30.609375 6.203125 \nQ 37.796875 6.203125 41.984375 11.859375 \nQ 46.1875 17.53125 46.1875 27.296875 \nQ 46.1875 37.015625 41.984375 42.703125 \nQ 37.796875 48.390625 30.609375 48.390625 \nz\nM 30.609375 56 \nQ 42.328125 56 49.015625 48.375 \nQ 55.71875 40.765625 55.71875 27.296875 \nQ 55.71875 13.875 49.015625 6.21875 \nQ 42.328125 -1.421875 30.609375 -1.421875 \nQ 18.84375 -1.421875 12.171875 6.21875 \nQ 5.515625 13.875 5.515625 27.296875 \nQ 5.515625 40.765625 12.171875 48.375 \nQ 18.84375 56 30.609375 56 \nz\n\" id=\"DejaVuSans-111\"/>\n       </defs>\n       <use xlink:href=\"#DejaVuSans-90\"/>\n       <use x=\"68.505859\" xlink:href=\"#DejaVuSans-101\"/>\n       <use x=\"130.029297\" xlink:href=\"#DejaVuSans-114\"/>\n       <use x=\"168.892578\" xlink:href=\"#DejaVuSans-111\"/>\n      </g>\n     </g>\n    </g>\n    <g id=\"xtick_2\">\n     <g id=\"text_2\">\n      <!-- mean -->\n      <g style=\"fill:#262626;\" transform=\"translate(192.846392 400.538875)scale(0.088 -0.088)\">\n       <defs>\n        <path d=\"M 52 44.1875 \nQ 55.375 50.25 60.0625 53.125 \nQ 64.75 56 71.09375 56 \nQ 79.640625 56 84.28125 50.015625 \nQ 88.921875 44.046875 88.921875 33.015625 \nL 88.921875 0 \nL 79.890625 0 \nL 79.890625 32.71875 \nQ 79.890625 40.578125 77.09375 44.375 \nQ 74.3125 48.1875 68.609375 48.1875 \nQ 61.625 48.1875 57.5625 43.546875 \nQ 53.515625 38.921875 53.515625 30.90625 \nL 53.515625 0 \nL 44.484375 0 \nL 44.484375 32.71875 \nQ 44.484375 40.625 41.703125 44.40625 \nQ 38.921875 48.1875 33.109375 48.1875 \nQ 26.21875 48.1875 22.15625 43.53125 \nQ 18.109375 38.875 18.109375 30.90625 \nL 18.109375 0 \nL 9.078125 0 \nL 9.078125 54.6875 \nL 18.109375 54.6875 \nL 18.109375 46.1875 \nQ 21.1875 51.21875 25.484375 53.609375 \nQ 29.78125 56 35.6875 56 \nQ 41.65625 56 45.828125 52.96875 \nQ 50 49.953125 52 44.1875 \nz\n\" id=\"DejaVuSans-109\"/>\n        <path d=\"M 34.28125 27.484375 \nQ 23.390625 27.484375 19.1875 25 \nQ 14.984375 22.515625 14.984375 16.5 \nQ 14.984375 11.71875 18.140625 8.90625 \nQ 21.296875 6.109375 26.703125 6.109375 \nQ 34.1875 6.109375 38.703125 11.40625 \nQ 43.21875 16.703125 43.21875 25.484375 \nL 43.21875 27.484375 \nz\nM 52.203125 31.203125 \nL 52.203125 0 \nL 43.21875 0 \nL 43.21875 8.296875 \nQ 40.140625 3.328125 35.546875 0.953125 \nQ 30.953125 -1.421875 24.3125 -1.421875 \nQ 15.921875 -1.421875 10.953125 3.296875 \nQ 6 8.015625 6 15.921875 \nQ 6 25.140625 12.171875 29.828125 \nQ 18.359375 34.515625 30.609375 34.515625 \nL 43.21875 34.515625 \nL 43.21875 35.40625 \nQ 43.21875 41.609375 39.140625 45 \nQ 35.0625 48.390625 27.6875 48.390625 \nQ 23 48.390625 18.546875 47.265625 \nQ 14.109375 46.140625 10.015625 43.890625 \nL 10.015625 52.203125 \nQ 14.9375 54.109375 19.578125 55.046875 \nQ 24.21875 56 28.609375 56 \nQ 40.484375 56 46.34375 49.84375 \nQ 52.203125 43.703125 52.203125 31.203125 \nz\n\" id=\"DejaVuSans-97\"/>\n        <path d=\"M 54.890625 33.015625 \nL 54.890625 0 \nL 45.90625 0 \nL 45.90625 32.71875 \nQ 45.90625 40.484375 42.875 44.328125 \nQ 39.84375 48.1875 33.796875 48.1875 \nQ 26.515625 48.1875 22.3125 43.546875 \nQ 18.109375 38.921875 18.109375 30.90625 \nL 18.109375 0 \nL 9.078125 0 \nL 9.078125 54.6875 \nL 18.109375 54.6875 \nL 18.109375 46.1875 \nQ 21.34375 51.125 25.703125 53.5625 \nQ 30.078125 56 35.796875 56 \nQ 45.21875 56 50.046875 50.171875 \nQ 54.890625 44.34375 54.890625 33.015625 \nz\n\" id=\"DejaVuSans-110\"/>\n       </defs>\n       <use xlink:href=\"#DejaVuSans-109\"/>\n       <use x=\"97.412109\" xlink:href=\"#DejaVuSans-101\"/>\n       <use x=\"158.935547\" xlink:href=\"#DejaVuSans-97\"/>\n       <use x=\"220.214844\" xlink:href=\"#DejaVuSans-110\"/>\n      </g>\n     </g>\n    </g>\n    <g id=\"xtick_3\">\n     <g id=\"text_3\">\n      <!-- median -->\n      <g style=\"fill:#262626;\" transform=\"translate(289.724549 400.538875)scale(0.088 -0.088)\">\n       <defs>\n        <path d=\"M 45.40625 46.390625 \nL 45.40625 75.984375 \nL 54.390625 75.984375 \nL 54.390625 0 \nL 45.40625 0 \nL 45.40625 8.203125 \nQ 42.578125 3.328125 38.25 0.953125 \nQ 33.9375 -1.421875 27.875 -1.421875 \nQ 17.96875 -1.421875 11.734375 6.484375 \nQ 5.515625 14.40625 5.515625 27.296875 \nQ 5.515625 40.1875 11.734375 48.09375 \nQ 17.96875 56 27.875 56 \nQ 33.9375 56 38.25 53.625 \nQ 42.578125 51.265625 45.40625 46.390625 \nz\nM 14.796875 27.296875 \nQ 14.796875 17.390625 18.875 11.75 \nQ 22.953125 6.109375 30.078125 6.109375 \nQ 37.203125 6.109375 41.296875 11.75 \nQ 45.40625 17.390625 45.40625 27.296875 \nQ 45.40625 37.203125 41.296875 42.84375 \nQ 37.203125 48.484375 30.078125 48.484375 \nQ 22.953125 48.484375 18.875 42.84375 \nQ 14.796875 37.203125 14.796875 27.296875 \nz\n\" id=\"DejaVuSans-100\"/>\n        <path d=\"M 9.421875 54.6875 \nL 18.40625 54.6875 \nL 18.40625 0 \nL 9.421875 0 \nz\nM 9.421875 75.984375 \nL 18.40625 75.984375 \nL 18.40625 64.59375 \nL 9.421875 64.59375 \nz\n\" id=\"DejaVuSans-105\"/>\n       </defs>\n       <use xlink:href=\"#DejaVuSans-109\"/>\n       <use x=\"97.412109\" xlink:href=\"#DejaVuSans-101\"/>\n       <use x=\"158.935547\" xlink:href=\"#DejaVuSans-100\"/>\n       <use x=\"222.412109\" xlink:href=\"#DejaVuSans-105\"/>\n       <use x=\"250.195312\" xlink:href=\"#DejaVuSans-97\"/>\n       <use x=\"311.474609\" xlink:href=\"#DejaVuSans-110\"/>\n      </g>\n     </g>\n    </g>\n    <g id=\"xtick_4\">\n     <g id=\"text_4\">\n      <!-- correlation -->\n      <g style=\"fill:#262626;\" transform=\"translate(383.504831 400.538875)scale(0.088 -0.088)\">\n       <defs>\n        <path d=\"M 48.78125 52.59375 \nL 48.78125 44.1875 \nQ 44.96875 46.296875 41.140625 47.34375 \nQ 37.3125 48.390625 33.40625 48.390625 \nQ 24.65625 48.390625 19.8125 42.84375 \nQ 14.984375 37.3125 14.984375 27.296875 \nQ 14.984375 17.28125 19.8125 11.734375 \nQ 24.65625 6.203125 33.40625 6.203125 \nQ 37.3125 6.203125 41.140625 7.25 \nQ 44.96875 8.296875 48.78125 10.40625 \nL 48.78125 2.09375 \nQ 45.015625 0.34375 40.984375 -0.53125 \nQ 36.96875 -1.421875 32.421875 -1.421875 \nQ 20.0625 -1.421875 12.78125 6.34375 \nQ 5.515625 14.109375 5.515625 27.296875 \nQ 5.515625 40.671875 12.859375 48.328125 \nQ 20.21875 56 33.015625 56 \nQ 37.15625 56 41.109375 55.140625 \nQ 45.0625 54.296875 48.78125 52.59375 \nz\n\" id=\"DejaVuSans-99\"/>\n        <path d=\"M 9.421875 75.984375 \nL 18.40625 75.984375 \nL 18.40625 0 \nL 9.421875 0 \nz\n\" id=\"DejaVuSans-108\"/>\n        <path d=\"M 18.3125 70.21875 \nL 18.3125 54.6875 \nL 36.8125 54.6875 \nL 36.8125 47.703125 \nL 18.3125 47.703125 \nL 18.3125 18.015625 \nQ 18.3125 11.328125 20.140625 9.421875 \nQ 21.96875 7.515625 27.59375 7.515625 \nL 36.8125 7.515625 \nL 36.8125 0 \nL 27.59375 0 \nQ 17.1875 0 13.234375 3.875 \nQ 9.28125 7.765625 9.28125 18.015625 \nL 9.28125 47.703125 \nL 2.6875 47.703125 \nL 2.6875 54.6875 \nL 9.28125 54.6875 \nL 9.28125 70.21875 \nz\n\" id=\"DejaVuSans-116\"/>\n       </defs>\n       <use xlink:href=\"#DejaVuSans-99\"/>\n       <use x=\"54.980469\" xlink:href=\"#DejaVuSans-111\"/>\n       <use x=\"116.162109\" xlink:href=\"#DejaVuSans-114\"/>\n       <use x=\"155.525391\" xlink:href=\"#DejaVuSans-114\"/>\n       <use x=\"194.388672\" xlink:href=\"#DejaVuSans-101\"/>\n       <use x=\"255.912109\" xlink:href=\"#DejaVuSans-108\"/>\n       <use x=\"283.695312\" xlink:href=\"#DejaVuSans-97\"/>\n       <use x=\"344.974609\" xlink:href=\"#DejaVuSans-116\"/>\n       <use x=\"384.183594\" xlink:href=\"#DejaVuSans-105\"/>\n       <use x=\"411.966797\" xlink:href=\"#DejaVuSans-111\"/>\n       <use x=\"473.148438\" xlink:href=\"#DejaVuSans-110\"/>\n      </g>\n     </g>\n    </g>\n    <g id=\"xtick_5\">\n     <g id=\"text_5\">\n      <!-- RF -->\n      <g style=\"fill:#262626;\" transform=\"translate(502.418051 400.538875)scale(0.088 -0.088)\">\n       <defs>\n        <path d=\"M 44.390625 34.1875 \nQ 47.5625 33.109375 50.5625 29.59375 \nQ 53.5625 26.078125 56.59375 19.921875 \nL 66.609375 0 \nL 56 0 \nL 46.6875 18.703125 \nQ 43.0625 26.03125 39.671875 28.421875 \nQ 36.28125 30.8125 30.421875 30.8125 \nL 19.671875 30.8125 \nL 19.671875 0 \nL 9.8125 0 \nL 9.8125 72.90625 \nL 32.078125 72.90625 \nQ 44.578125 72.90625 50.734375 67.671875 \nQ 56.890625 62.453125 56.890625 51.90625 \nQ 56.890625 45.015625 53.6875 40.46875 \nQ 50.484375 35.9375 44.390625 34.1875 \nz\nM 19.671875 64.796875 \nL 19.671875 38.921875 \nL 32.078125 38.921875 \nQ 39.203125 38.921875 42.84375 42.21875 \nQ 46.484375 45.515625 46.484375 51.90625 \nQ 46.484375 58.296875 42.84375 61.546875 \nQ 39.203125 64.796875 32.078125 64.796875 \nz\n\" id=\"DejaVuSans-82\"/>\n        <path d=\"M 9.8125 72.90625 \nL 51.703125 72.90625 \nL 51.703125 64.59375 \nL 19.671875 64.59375 \nL 19.671875 43.109375 \nL 48.578125 43.109375 \nL 48.578125 34.8125 \nL 19.671875 34.8125 \nL 19.671875 0 \nL 9.8125 0 \nz\n\" id=\"DejaVuSans-70\"/>\n       </defs>\n       <use xlink:href=\"#DejaVuSans-82\"/>\n       <use x=\"69.482422\" xlink:href=\"#DejaVuSans-70\"/>\n      </g>\n     </g>\n    </g>\n    <g id=\"text_6\">\n     <!-- impute_method -->\n     <g style=\"fill:#262626;\" transform=\"translate(268.347861 413.6635)scale(0.096 -0.096)\">\n      <defs>\n       <path d=\"M 18.109375 8.203125 \nL 18.109375 -20.796875 \nL 9.078125 -20.796875 \nL 9.078125 54.6875 \nL 18.109375 54.6875 \nL 18.109375 46.390625 \nQ 20.953125 51.265625 25.265625 53.625 \nQ 29.59375 56 35.59375 56 \nQ 45.5625 56 51.78125 48.09375 \nQ 58.015625 40.1875 58.015625 27.296875 \nQ 58.015625 14.40625 51.78125 6.484375 \nQ 45.5625 -1.421875 35.59375 -1.421875 \nQ 29.59375 -1.421875 25.265625 0.953125 \nQ 20.953125 3.328125 18.109375 8.203125 \nz\nM 48.6875 27.296875 \nQ 48.6875 37.203125 44.609375 42.84375 \nQ 40.53125 48.484375 33.40625 48.484375 \nQ 26.265625 48.484375 22.1875 42.84375 \nQ 18.109375 37.203125 18.109375 27.296875 \nQ 18.109375 17.390625 22.1875 11.75 \nQ 26.265625 6.109375 33.40625 6.109375 \nQ 40.53125 6.109375 44.609375 11.75 \nQ 48.6875 17.390625 48.6875 27.296875 \nz\n\" id=\"DejaVuSans-112\"/>\n       <path d=\"M 8.5 21.578125 \nL 8.5 54.6875 \nL 17.484375 54.6875 \nL 17.484375 21.921875 \nQ 17.484375 14.15625 20.5 10.265625 \nQ 23.53125 6.390625 29.59375 6.390625 \nQ 36.859375 6.390625 41.078125 11.03125 \nQ 45.3125 15.671875 45.3125 23.6875 \nL 45.3125 54.6875 \nL 54.296875 54.6875 \nL 54.296875 0 \nL 45.3125 0 \nL 45.3125 8.40625 \nQ 42.046875 3.421875 37.71875 1 \nQ 33.40625 -1.421875 27.6875 -1.421875 \nQ 18.265625 -1.421875 13.375 4.4375 \nQ 8.5 10.296875 8.5 21.578125 \nz\nM 31.109375 56 \nz\n\" id=\"DejaVuSans-117\"/>\n       <path d=\"M 50.984375 -16.609375 \nL 50.984375 -23.578125 \nL -0.984375 -23.578125 \nL -0.984375 -16.609375 \nz\n\" id=\"DejaVuSans-95\"/>\n       <path d=\"M 54.890625 33.015625 \nL 54.890625 0 \nL 45.90625 0 \nL 45.90625 32.71875 \nQ 45.90625 40.484375 42.875 44.328125 \nQ 39.84375 48.1875 33.796875 48.1875 \nQ 26.515625 48.1875 22.3125 43.546875 \nQ 18.109375 38.921875 18.109375 30.90625 \nL 18.109375 0 \nL 9.078125 0 \nL 9.078125 75.984375 \nL 18.109375 75.984375 \nL 18.109375 46.1875 \nQ 21.34375 51.125 25.703125 53.5625 \nQ 30.078125 56 35.796875 56 \nQ 45.21875 56 50.046875 50.171875 \nQ 54.890625 44.34375 54.890625 33.015625 \nz\n\" id=\"DejaVuSans-104\"/>\n      </defs>\n      <use xlink:href=\"#DejaVuSans-105\"/>\n      <use x=\"27.783203\" xlink:href=\"#DejaVuSans-109\"/>\n      <use x=\"125.195312\" xlink:href=\"#DejaVuSans-112\"/>\n      <use x=\"188.671875\" xlink:href=\"#DejaVuSans-117\"/>\n      <use x=\"252.050781\" xlink:href=\"#DejaVuSans-116\"/>\n      <use x=\"291.259766\" xlink:href=\"#DejaVuSans-101\"/>\n      <use x=\"352.783203\" xlink:href=\"#DejaVuSans-95\"/>\n      <use x=\"402.783203\" xlink:href=\"#DejaVuSans-109\"/>\n      <use x=\"500.195312\" xlink:href=\"#DejaVuSans-101\"/>\n      <use x=\"561.71875\" xlink:href=\"#DejaVuSans-116\"/>\n      <use x=\"600.927734\" xlink:href=\"#DejaVuSans-104\"/>\n      <use x=\"664.306641\" xlink:href=\"#DejaVuSans-111\"/>\n      <use x=\"725.488281\" xlink:href=\"#DejaVuSans-100\"/>\n     </g>\n    </g>\n   </g>\n   <g id=\"matplotlib.axis_2\">\n    <g id=\"ytick_1\">\n     <g id=\"line2d_1\">\n      <path clip-path=\"url(#p3d7e556f3b)\" d=\"M 53.98375 351.389065 \nL 558.452973 351.389065 \n\" style=\"fill:none;stroke:#cccccc;stroke-linecap:round;stroke-width:0.8;\"/>\n     </g>\n     <g id=\"text_7\">\n      <!-- 0.825 -->\n      <g style=\"fill:#262626;\" transform=\"translate(20.491 354.732378)scale(0.088 -0.088)\">\n       <defs>\n        <path d=\"M 31.78125 66.40625 \nQ 24.171875 66.40625 20.328125 58.90625 \nQ 16.5 51.421875 16.5 36.375 \nQ 16.5 21.390625 20.328125 13.890625 \nQ 24.171875 6.390625 31.78125 6.390625 \nQ 39.453125 6.390625 43.28125 13.890625 \nQ 47.125 21.390625 47.125 36.375 \nQ 47.125 51.421875 43.28125 58.90625 \nQ 39.453125 66.40625 31.78125 66.40625 \nz\nM 31.78125 74.21875 \nQ 44.046875 74.21875 50.515625 64.515625 \nQ 56.984375 54.828125 56.984375 36.375 \nQ 56.984375 17.96875 50.515625 8.265625 \nQ 44.046875 -1.421875 31.78125 -1.421875 \nQ 19.53125 -1.421875 13.0625 8.265625 \nQ 6.59375 17.96875 6.59375 36.375 \nQ 6.59375 54.828125 13.0625 64.515625 \nQ 19.53125 74.21875 31.78125 74.21875 \nz\n\" id=\"DejaVuSans-48\"/>\n        <path d=\"M 10.6875 12.40625 \nL 21 12.40625 \nL 21 0 \nL 10.6875 0 \nz\n\" id=\"DejaVuSans-46\"/>\n        <path d=\"M 31.78125 34.625 \nQ 24.75 34.625 20.71875 30.859375 \nQ 16.703125 27.09375 16.703125 20.515625 \nQ 16.703125 13.921875 20.71875 10.15625 \nQ 24.75 6.390625 31.78125 6.390625 \nQ 38.8125 6.390625 42.859375 10.171875 \nQ 46.921875 13.96875 46.921875 20.515625 \nQ 46.921875 27.09375 42.890625 30.859375 \nQ 38.875 34.625 31.78125 34.625 \nz\nM 21.921875 38.8125 \nQ 15.578125 40.375 12.03125 44.71875 \nQ 8.5 49.078125 8.5 55.328125 \nQ 8.5 64.0625 14.71875 69.140625 \nQ 20.953125 74.21875 31.78125 74.21875 \nQ 42.671875 74.21875 48.875 69.140625 \nQ 55.078125 64.0625 55.078125 55.328125 \nQ 55.078125 49.078125 51.53125 44.71875 \nQ 48 40.375 41.703125 38.8125 \nQ 48.828125 37.15625 52.796875 32.3125 \nQ 56.78125 27.484375 56.78125 20.515625 \nQ 56.78125 9.90625 50.3125 4.234375 \nQ 43.84375 -1.421875 31.78125 -1.421875 \nQ 19.734375 -1.421875 13.25 4.234375 \nQ 6.78125 9.90625 6.78125 20.515625 \nQ 6.78125 27.484375 10.78125 32.3125 \nQ 14.796875 37.15625 21.921875 38.8125 \nz\nM 18.3125 54.390625 \nQ 18.3125 48.734375 21.84375 45.5625 \nQ 25.390625 42.390625 31.78125 42.390625 \nQ 38.140625 42.390625 41.71875 45.5625 \nQ 45.3125 48.734375 45.3125 54.390625 \nQ 45.3125 60.0625 41.71875 63.234375 \nQ 38.140625 66.40625 31.78125 66.40625 \nQ 25.390625 66.40625 21.84375 63.234375 \nQ 18.3125 60.0625 18.3125 54.390625 \nz\n\" id=\"DejaVuSans-56\"/>\n        <path d=\"M 19.1875 8.296875 \nL 53.609375 8.296875 \nL 53.609375 0 \nL 7.328125 0 \nL 7.328125 8.296875 \nQ 12.9375 14.109375 22.625 23.890625 \nQ 32.328125 33.6875 34.8125 36.53125 \nQ 39.546875 41.84375 41.421875 45.53125 \nQ 43.3125 49.21875 43.3125 52.78125 \nQ 43.3125 58.59375 39.234375 62.25 \nQ 35.15625 65.921875 28.609375 65.921875 \nQ 23.96875 65.921875 18.8125 64.3125 \nQ 13.671875 62.703125 7.8125 59.421875 \nL 7.8125 69.390625 \nQ 13.765625 71.78125 18.9375 73 \nQ 24.125 74.21875 28.421875 74.21875 \nQ 39.75 74.21875 46.484375 68.546875 \nQ 53.21875 62.890625 53.21875 53.421875 \nQ 53.21875 48.921875 51.53125 44.890625 \nQ 49.859375 40.875 45.40625 35.40625 \nQ 44.1875 33.984375 37.640625 27.21875 \nQ 31.109375 20.453125 19.1875 8.296875 \nz\n\" id=\"DejaVuSans-50\"/>\n        <path d=\"M 10.796875 72.90625 \nL 49.515625 72.90625 \nL 49.515625 64.59375 \nL 19.828125 64.59375 \nL 19.828125 46.734375 \nQ 21.96875 47.46875 24.109375 47.828125 \nQ 26.265625 48.1875 28.421875 48.1875 \nQ 40.625 48.1875 47.75 41.5 \nQ 54.890625 34.8125 54.890625 23.390625 \nQ 54.890625 11.625 47.5625 5.09375 \nQ 40.234375 -1.421875 26.90625 -1.421875 \nQ 22.3125 -1.421875 17.546875 -0.640625 \nQ 12.796875 0.140625 7.71875 1.703125 \nL 7.71875 11.625 \nQ 12.109375 9.234375 16.796875 8.0625 \nQ 21.484375 6.890625 26.703125 6.890625 \nQ 35.15625 6.890625 40.078125 11.328125 \nQ 45.015625 15.765625 45.015625 23.390625 \nQ 45.015625 31 40.078125 35.4375 \nQ 35.15625 39.890625 26.703125 39.890625 \nQ 22.75 39.890625 18.8125 39.015625 \nQ 14.890625 38.140625 10.796875 36.28125 \nz\n\" id=\"DejaVuSans-53\"/>\n       </defs>\n       <use xlink:href=\"#DejaVuSans-48\"/>\n       <use x=\"63.623047\" xlink:href=\"#DejaVuSans-46\"/>\n       <use x=\"95.410156\" xlink:href=\"#DejaVuSans-56\"/>\n       <use x=\"159.033203\" xlink:href=\"#DejaVuSans-50\"/>\n       <use x=\"222.65625\" xlink:href=\"#DejaVuSans-53\"/>\n      </g>\n     </g>\n    </g>\n    <g id=\"ytick_2\">\n     <g id=\"line2d_2\">\n      <path clip-path=\"url(#p3d7e556f3b)\" d=\"M 53.98375 306.488918 \nL 558.452973 306.488918 \n\" style=\"fill:none;stroke:#cccccc;stroke-linecap:round;stroke-width:0.8;\"/>\n     </g>\n     <g id=\"text_8\">\n      <!-- 0.850 -->\n      <g style=\"fill:#262626;\" transform=\"translate(20.491 309.83223)scale(0.088 -0.088)\">\n       <use xlink:href=\"#DejaVuSans-48\"/>\n       <use x=\"63.623047\" xlink:href=\"#DejaVuSans-46\"/>\n       <use x=\"95.410156\" xlink:href=\"#DejaVuSans-56\"/>\n       <use x=\"159.033203\" xlink:href=\"#DejaVuSans-53\"/>\n       <use x=\"222.65625\" xlink:href=\"#DejaVuSans-48\"/>\n      </g>\n     </g>\n    </g>\n    <g id=\"ytick_3\">\n     <g id=\"line2d_3\">\n      <path clip-path=\"url(#p3d7e556f3b)\" d=\"M 53.98375 261.588771 \nL 558.452973 261.588771 \n\" style=\"fill:none;stroke:#cccccc;stroke-linecap:round;stroke-width:0.8;\"/>\n     </g>\n     <g id=\"text_9\">\n      <!-- 0.875 -->\n      <g style=\"fill:#262626;\" transform=\"translate(20.491 264.932083)scale(0.088 -0.088)\">\n       <defs>\n        <path d=\"M 8.203125 72.90625 \nL 55.078125 72.90625 \nL 55.078125 68.703125 \nL 28.609375 0 \nL 18.3125 0 \nL 43.21875 64.59375 \nL 8.203125 64.59375 \nz\n\" id=\"DejaVuSans-55\"/>\n       </defs>\n       <use xlink:href=\"#DejaVuSans-48\"/>\n       <use x=\"63.623047\" xlink:href=\"#DejaVuSans-46\"/>\n       <use x=\"95.410156\" xlink:href=\"#DejaVuSans-56\"/>\n       <use x=\"159.033203\" xlink:href=\"#DejaVuSans-55\"/>\n       <use x=\"222.65625\" xlink:href=\"#DejaVuSans-53\"/>\n      </g>\n     </g>\n    </g>\n    <g id=\"ytick_4\">\n     <g id=\"line2d_4\">\n      <path clip-path=\"url(#p3d7e556f3b)\" d=\"M 53.98375 216.688623 \nL 558.452973 216.688623 \n\" style=\"fill:none;stroke:#cccccc;stroke-linecap:round;stroke-width:0.8;\"/>\n     </g>\n     <g id=\"text_10\">\n      <!-- 0.900 -->\n      <g style=\"fill:#262626;\" transform=\"translate(20.491 220.031936)scale(0.088 -0.088)\">\n       <defs>\n        <path d=\"M 10.984375 1.515625 \nL 10.984375 10.5 \nQ 14.703125 8.734375 18.5 7.8125 \nQ 22.3125 6.890625 25.984375 6.890625 \nQ 35.75 6.890625 40.890625 13.453125 \nQ 46.046875 20.015625 46.78125 33.40625 \nQ 43.953125 29.203125 39.59375 26.953125 \nQ 35.25 24.703125 29.984375 24.703125 \nQ 19.046875 24.703125 12.671875 31.3125 \nQ 6.296875 37.9375 6.296875 49.421875 \nQ 6.296875 60.640625 12.9375 67.421875 \nQ 19.578125 74.21875 30.609375 74.21875 \nQ 43.265625 74.21875 49.921875 64.515625 \nQ 56.59375 54.828125 56.59375 36.375 \nQ 56.59375 19.140625 48.40625 8.859375 \nQ 40.234375 -1.421875 26.421875 -1.421875 \nQ 22.703125 -1.421875 18.890625 -0.6875 \nQ 15.09375 0.046875 10.984375 1.515625 \nz\nM 30.609375 32.421875 \nQ 37.25 32.421875 41.125 36.953125 \nQ 45.015625 41.5 45.015625 49.421875 \nQ 45.015625 57.28125 41.125 61.84375 \nQ 37.25 66.40625 30.609375 66.40625 \nQ 23.96875 66.40625 20.09375 61.84375 \nQ 16.21875 57.28125 16.21875 49.421875 \nQ 16.21875 41.5 20.09375 36.953125 \nQ 23.96875 32.421875 30.609375 32.421875 \nz\n\" id=\"DejaVuSans-57\"/>\n       </defs>\n       <use xlink:href=\"#DejaVuSans-48\"/>\n       <use x=\"63.623047\" xlink:href=\"#DejaVuSans-46\"/>\n       <use x=\"95.410156\" xlink:href=\"#DejaVuSans-57\"/>\n       <use x=\"159.033203\" xlink:href=\"#DejaVuSans-48\"/>\n       <use x=\"222.65625\" xlink:href=\"#DejaVuSans-48\"/>\n      </g>\n     </g>\n    </g>\n    <g id=\"ytick_5\">\n     <g id=\"line2d_5\">\n      <path clip-path=\"url(#p3d7e556f3b)\" d=\"M 53.98375 171.788476 \nL 558.452973 171.788476 \n\" style=\"fill:none;stroke:#cccccc;stroke-linecap:round;stroke-width:0.8;\"/>\n     </g>\n     <g id=\"text_11\">\n      <!-- 0.925 -->\n      <g style=\"fill:#262626;\" transform=\"translate(20.491 175.131788)scale(0.088 -0.088)\">\n       <use xlink:href=\"#DejaVuSans-48\"/>\n       <use x=\"63.623047\" xlink:href=\"#DejaVuSans-46\"/>\n       <use x=\"95.410156\" xlink:href=\"#DejaVuSans-57\"/>\n       <use x=\"159.033203\" xlink:href=\"#DejaVuSans-50\"/>\n       <use x=\"222.65625\" xlink:href=\"#DejaVuSans-53\"/>\n      </g>\n     </g>\n    </g>\n    <g id=\"ytick_6\">\n     <g id=\"line2d_6\">\n      <path clip-path=\"url(#p3d7e556f3b)\" d=\"M 53.98375 126.888329 \nL 558.452973 126.888329 \n\" style=\"fill:none;stroke:#cccccc;stroke-linecap:round;stroke-width:0.8;\"/>\n     </g>\n     <g id=\"text_12\">\n      <!-- 0.950 -->\n      <g style=\"fill:#262626;\" transform=\"translate(20.491 130.231641)scale(0.088 -0.088)\">\n       <use xlink:href=\"#DejaVuSans-48\"/>\n       <use x=\"63.623047\" xlink:href=\"#DejaVuSans-46\"/>\n       <use x=\"95.410156\" xlink:href=\"#DejaVuSans-57\"/>\n       <use x=\"159.033203\" xlink:href=\"#DejaVuSans-53\"/>\n       <use x=\"222.65625\" xlink:href=\"#DejaVuSans-48\"/>\n      </g>\n     </g>\n    </g>\n    <g id=\"ytick_7\">\n     <g id=\"line2d_7\">\n      <path clip-path=\"url(#p3d7e556f3b)\" d=\"M 53.98375 81.988181 \nL 558.452973 81.988181 \n\" style=\"fill:none;stroke:#cccccc;stroke-linecap:round;stroke-width:0.8;\"/>\n     </g>\n     <g id=\"text_13\">\n      <!-- 0.975 -->\n      <g style=\"fill:#262626;\" transform=\"translate(20.491 85.331494)scale(0.088 -0.088)\">\n       <use xlink:href=\"#DejaVuSans-48\"/>\n       <use x=\"63.623047\" xlink:href=\"#DejaVuSans-46\"/>\n       <use x=\"95.410156\" xlink:href=\"#DejaVuSans-57\"/>\n       <use x=\"159.033203\" xlink:href=\"#DejaVuSans-55\"/>\n       <use x=\"222.65625\" xlink:href=\"#DejaVuSans-53\"/>\n      </g>\n     </g>\n    </g>\n    <g id=\"ytick_8\">\n     <g id=\"line2d_8\">\n      <path clip-path=\"url(#p3d7e556f3b)\" d=\"M 53.98375 37.088034 \nL 558.452973 37.088034 \n\" style=\"fill:none;stroke:#cccccc;stroke-linecap:round;stroke-width:0.8;\"/>\n     </g>\n     <g id=\"text_14\">\n      <!-- 1.000 -->\n      <g style=\"fill:#262626;\" transform=\"translate(20.491 40.431347)scale(0.088 -0.088)\">\n       <defs>\n        <path d=\"M 12.40625 8.296875 \nL 28.515625 8.296875 \nL 28.515625 63.921875 \nL 10.984375 60.40625 \nL 10.984375 69.390625 \nL 28.421875 72.90625 \nL 38.28125 72.90625 \nL 38.28125 8.296875 \nL 54.390625 8.296875 \nL 54.390625 0 \nL 12.40625 0 \nz\n\" id=\"DejaVuSans-49\"/>\n       </defs>\n       <use xlink:href=\"#DejaVuSans-49\"/>\n       <use x=\"63.623047\" xlink:href=\"#DejaVuSans-46\"/>\n       <use x=\"95.410156\" xlink:href=\"#DejaVuSans-48\"/>\n       <use x=\"159.033203\" xlink:href=\"#DejaVuSans-48\"/>\n       <use x=\"222.65625\" xlink:href=\"#DejaVuSans-48\"/>\n      </g>\n     </g>\n    </g>\n    <g id=\"text_15\">\n     <!-- accuracy -->\n     <g style=\"fill:#262626;\" transform=\"translate(14.4945 224.680375)rotate(-90)scale(0.096 -0.096)\">\n      <defs>\n       <path d=\"M 32.171875 -5.078125 \nQ 28.375 -14.84375 24.75 -17.8125 \nQ 21.140625 -20.796875 15.09375 -20.796875 \nL 7.90625 -20.796875 \nL 7.90625 -13.28125 \nL 13.1875 -13.28125 \nQ 16.890625 -13.28125 18.9375 -11.515625 \nQ 21 -9.765625 23.484375 -3.21875 \nL 25.09375 0.875 \nL 2.984375 54.6875 \nL 12.5 54.6875 \nL 29.59375 11.921875 \nL 46.6875 54.6875 \nL 56.203125 54.6875 \nz\n\" id=\"DejaVuSans-121\"/>\n      </defs>\n      <use xlink:href=\"#DejaVuSans-97\"/>\n      <use x=\"61.279297\" xlink:href=\"#DejaVuSans-99\"/>\n      <use x=\"116.259766\" xlink:href=\"#DejaVuSans-99\"/>\n      <use x=\"171.240234\" xlink:href=\"#DejaVuSans-117\"/>\n      <use x=\"234.619141\" xlink:href=\"#DejaVuSans-114\"/>\n      <use x=\"275.732422\" xlink:href=\"#DejaVuSans-97\"/>\n      <use x=\"337.011719\" xlink:href=\"#DejaVuSans-99\"/>\n      <use x=\"391.992188\" xlink:href=\"#DejaVuSans-121\"/>\n     </g>\n    </g>\n   </g>\n   <g id=\"patch_3\">\n    <path clip-path=\"url(#p3d7e556f3b)\" d=\"M 64.47671 51.72941 \nL 104.027097 51.72941 \nL 104.027097 46.848987 \nL 64.47671 46.848987 \nL 64.47671 51.72941 \nz\n\" style=\"fill:#5a948a;stroke:#323232;stroke-linejoin:miter;stroke-width:1.2;\"/>\n   </g>\n   <g id=\"patch_4\">\n    <path clip-path=\"url(#p3d7e556f3b)\" d=\"M 104.834248 232.306019 \nL 144.384635 232.306019 \nL 144.384635 154.218825 \nL 104.834248 154.218825 \nL 104.834248 232.306019 \nz\n\" style=\"fill:#2b667c;stroke:#323232;stroke-linejoin:miter;stroke-width:1.2;\"/>\n   </g>\n   <g id=\"patch_5\">\n    <path clip-path=\"url(#p3d7e556f3b)\" d=\"M 165.370554 51.72941 \nL 204.920941 51.72941 \nL 204.920941 41.968457 \nL 165.370554 41.968457 \nL 165.370554 51.72941 \nz\n\" style=\"fill:#5a948a;stroke:#323232;stroke-linejoin:miter;stroke-width:1.2;\"/>\n   </g>\n   <g id=\"patch_6\">\n    <path clip-path=\"url(#p3d7e556f3b)\" d=\"M 205.728092 217.66467 \nL 245.278479 217.66467 \nL 245.278479 154.218825 \nL 205.728092 154.218825 \nL 205.728092 217.66467 \nz\n\" style=\"fill:#2b667c;stroke:#323232;stroke-linejoin:miter;stroke-width:1.2;\"/>\n   </g>\n   <g id=\"patch_7\">\n    <path clip-path=\"url(#p3d7e556f3b)\" d=\"M 266.264399 51.72941 \nL 305.814786 51.72941 \nL 305.814786 46.848987 \nL 266.264399 46.848987 \nL 266.264399 51.72941 \nz\n\" style=\"fill:#5a948a;stroke:#323232;stroke-linejoin:miter;stroke-width:1.2;\"/>\n   </g>\n   <g id=\"patch_8\">\n    <path clip-path=\"url(#p3d7e556f3b)\" d=\"M 306.621937 212.784221 \nL 346.172324 212.784221 \nL 346.172324 134.697027 \nL 306.621937 134.697027 \nL 306.621937 212.784221 \nz\n\" style=\"fill:#2b667c;stroke:#323232;stroke-linejoin:miter;stroke-width:1.2;\"/>\n   </g>\n   <g id=\"patch_9\">\n    <path clip-path=\"url(#p3d7e556f3b)\" d=\"M 367.158244 51.72941 \nL 406.708631 51.72941 \nL 406.708631 46.848987 \nL 367.158244 46.848987 \nL 367.158244 51.72941 \nz\n\" style=\"fill:#5a948a;stroke:#323232;stroke-linejoin:miter;stroke-width:1.2;\"/>\n   </g>\n   <g id=\"patch_10\">\n    <path clip-path=\"url(#p3d7e556f3b)\" d=\"M 407.515781 276.230173 \nL 447.066168 276.230173 \nL 447.066168 207.903771 \nL 407.515781 207.903771 \nL 407.515781 276.230173 \nz\n\" style=\"fill:#2b667c;stroke:#323232;stroke-linejoin:miter;stroke-width:1.2;\"/>\n   </g>\n   <g id=\"patch_11\">\n    <path clip-path=\"url(#p3d7e556f3b)\" d=\"M 468.052088 90.773007 \nL 507.602475 90.773007 \nL 507.602475 81.012054 \nL 468.052088 81.012054 \nL 468.052088 90.773007 \nz\n\" style=\"fill:#5a948a;stroke:#323232;stroke-linejoin:miter;stroke-width:1.2;\"/>\n   </g>\n   <g id=\"patch_12\">\n    <path clip-path=\"url(#p3d7e556f3b)\" d=\"M 508.409626 193.262422 \nL 547.960013 193.262422 \nL 547.960013 134.697027 \nL 508.409626 134.697027 \nL 508.409626 193.262422 \nz\n\" style=\"fill:#2b667c;stroke:#323232;stroke-linejoin:miter;stroke-width:1.2;\"/>\n   </g>\n   <g id=\"patch_13\">\n    <path clip-path=\"url(#p3d7e556f3b)\" d=\"M 104.430672 1833.093926 \nL 104.430672 1833.093926 \nL 104.430672 1833.093926 \nL 104.430672 1833.093926 \nz\n\" style=\"fill:#5a948a;stroke:#323232;stroke-linejoin:miter;stroke-width:0.6;\"/>\n   </g>\n   <g id=\"patch_14\">\n    <path clip-path=\"url(#p3d7e556f3b)\" d=\"M 104.430672 1833.093926 \nL 104.430672 1833.093926 \nL 104.430672 1833.093926 \nL 104.430672 1833.093926 \nz\n\" style=\"fill:#2b667c;stroke:#323232;stroke-linejoin:miter;stroke-width:0.6;\"/>\n   </g>\n   <g id=\"line2d_9\">\n    <path clip-path=\"url(#p3d7e556f3b)\" d=\"M 84.251903 51.72941 \nL 84.251903 56.609833 \n\" style=\"fill:none;stroke:#323232;stroke-linecap:round;stroke-width:1.2;\"/>\n   </g>\n   <g id=\"line2d_10\">\n    <path clip-path=\"url(#p3d7e556f3b)\" d=\"M 84.251903 46.848987 \nL 84.251903 41.968457 \n\" style=\"fill:none;stroke:#323232;stroke-linecap:round;stroke-width:1.2;\"/>\n   </g>\n   <g id=\"line2d_11\">\n    <path clip-path=\"url(#p3d7e556f3b)\" d=\"M 74.364307 56.609833 \nL 94.1395 56.609833 \n\" style=\"fill:none;stroke:#323232;stroke-linecap:round;stroke-width:1.2;\"/>\n   </g>\n   <g id=\"line2d_12\">\n    <path clip-path=\"url(#p3d7e556f3b)\" d=\"M 74.364307 41.968457 \nL 94.1395 41.968457 \n\" style=\"fill:none;stroke:#323232;stroke-linecap:round;stroke-width:1.2;\"/>\n   </g>\n   <g id=\"line2d_13\">\n    <defs>\n     <path d=\"M -0 3.535534 \nL 2.12132 0 \nL -0 -3.535534 \nL -2.12132 -0 \nz\n\" id=\"mb8039cff7d\" style=\"stroke:#323232;stroke-linejoin:miter;\"/>\n    </defs>\n    <g clip-path=\"url(#p3d7e556f3b)\">\n     <use style=\"fill:#323232;stroke:#323232;stroke-linejoin:miter;\" x=\"84.251903\" xlink:href=\"#mb8039cff7d\" y=\"61.490255\"/>\n     <use style=\"fill:#323232;stroke:#323232;stroke-linejoin:miter;\" x=\"84.251903\" xlink:href=\"#mb8039cff7d\" y=\"61.490255\"/>\n     <use style=\"fill:#323232;stroke:#323232;stroke-linejoin:miter;\" x=\"84.251903\" xlink:href=\"#mb8039cff7d\" y=\"37.088034\"/>\n    </g>\n   </g>\n   <g id=\"line2d_14\">\n    <path clip-path=\"url(#p3d7e556f3b)\" d=\"M 124.609441 232.306019 \nL 124.609441 310.39332 \n\" style=\"fill:none;stroke:#323232;stroke-linecap:round;stroke-width:1.2;\"/>\n   </g>\n   <g id=\"line2d_15\">\n    <path clip-path=\"url(#p3d7e556f3b)\" d=\"M 124.609441 154.218825 \nL 124.609441 95.65343 \n\" style=\"fill:none;stroke:#323232;stroke-linecap:round;stroke-width:1.2;\"/>\n   </g>\n   <g id=\"line2d_16\">\n    <path clip-path=\"url(#p3d7e556f3b)\" d=\"M 114.721844 310.39332 \nL 134.497038 310.39332 \n\" style=\"fill:none;stroke:#323232;stroke-linecap:round;stroke-width:1.2;\"/>\n   </g>\n   <g id=\"line2d_17\">\n    <path clip-path=\"url(#p3d7e556f3b)\" d=\"M 114.721844 95.65343 \nL 134.497038 95.65343 \n\" style=\"fill:none;stroke:#323232;stroke-linecap:round;stroke-width:1.2;\"/>\n   </g>\n   <g id=\"line2d_18\">\n    <g clip-path=\"url(#p3d7e556f3b)\">\n     <use style=\"fill:#323232;stroke:#323232;stroke-linejoin:miter;\" x=\"124.609441\" xlink:href=\"#mb8039cff7d\" y=\"368.958716\"/>\n    </g>\n   </g>\n   <g id=\"line2d_19\">\n    <path clip-path=\"url(#p3d7e556f3b)\" d=\"M 185.145748 51.72941 \nL 185.145748 61.490255 \n\" style=\"fill:none;stroke:#323232;stroke-linecap:round;stroke-width:1.2;\"/>\n   </g>\n   <g id=\"line2d_20\">\n    <path clip-path=\"url(#p3d7e556f3b)\" d=\"M 185.145748 41.968457 \nL 185.145748 37.088034 \n\" style=\"fill:none;stroke:#323232;stroke-linecap:round;stroke-width:1.2;\"/>\n   </g>\n   <g id=\"line2d_21\">\n    <path clip-path=\"url(#p3d7e556f3b)\" d=\"M 175.258151 61.490255 \nL 195.033345 61.490255 \n\" style=\"fill:none;stroke:#323232;stroke-linecap:round;stroke-width:1.2;\"/>\n   </g>\n   <g id=\"line2d_22\">\n    <path clip-path=\"url(#p3d7e556f3b)\" d=\"M 175.258151 37.088034 \nL 195.033345 37.088034 \n\" style=\"fill:none;stroke:#323232;stroke-linecap:round;stroke-width:1.2;\"/>\n   </g>\n   <g id=\"line2d_23\"/>\n   <g id=\"line2d_24\">\n    <path clip-path=\"url(#p3d7e556f3b)\" d=\"M 225.503286 217.66467 \nL 225.503286 271.349723 \n\" style=\"fill:none;stroke:#323232;stroke-linecap:round;stroke-width:1.2;\"/>\n   </g>\n   <g id=\"line2d_25\">\n    <path clip-path=\"url(#p3d7e556f3b)\" d=\"M 225.503286 154.218825 \nL 225.503286 95.65343 \n\" style=\"fill:none;stroke:#323232;stroke-linecap:round;stroke-width:1.2;\"/>\n   </g>\n   <g id=\"line2d_26\">\n    <path clip-path=\"url(#p3d7e556f3b)\" d=\"M 215.615689 271.349723 \nL 235.390883 271.349723 \n\" style=\"fill:none;stroke:#323232;stroke-linecap:round;stroke-width:1.2;\"/>\n   </g>\n   <g id=\"line2d_27\">\n    <path clip-path=\"url(#p3d7e556f3b)\" d=\"M 215.615689 95.65343 \nL 235.390883 95.65343 \n\" style=\"fill:none;stroke:#323232;stroke-linecap:round;stroke-width:1.2;\"/>\n   </g>\n   <g id=\"line2d_28\">\n    <g clip-path=\"url(#p3d7e556f3b)\">\n     <use style=\"fill:#323232;stroke:#323232;stroke-linejoin:miter;\" x=\"225.503286\" xlink:href=\"#mb8039cff7d\" y=\"329.915119\"/>\n    </g>\n   </g>\n   <g id=\"line2d_29\">\n    <path clip-path=\"url(#p3d7e556f3b)\" d=\"M 286.039592 51.72941 \nL 286.039592 56.609833 \n\" style=\"fill:none;stroke:#323232;stroke-linecap:round;stroke-width:1.2;\"/>\n   </g>\n   <g id=\"line2d_30\">\n    <path clip-path=\"url(#p3d7e556f3b)\" d=\"M 286.039592 46.848987 \nL 286.039592 41.968457 \n\" style=\"fill:none;stroke:#323232;stroke-linecap:round;stroke-width:1.2;\"/>\n   </g>\n   <g id=\"line2d_31\">\n    <path clip-path=\"url(#p3d7e556f3b)\" d=\"M 276.151996 56.609833 \nL 295.927189 56.609833 \n\" style=\"fill:none;stroke:#323232;stroke-linecap:round;stroke-width:1.2;\"/>\n   </g>\n   <g id=\"line2d_32\">\n    <path clip-path=\"url(#p3d7e556f3b)\" d=\"M 276.151996 41.968457 \nL 295.927189 41.968457 \n\" style=\"fill:none;stroke:#323232;stroke-linecap:round;stroke-width:1.2;\"/>\n   </g>\n   <g id=\"line2d_33\">\n    <g clip-path=\"url(#p3d7e556f3b)\">\n     <use style=\"fill:#323232;stroke:#323232;stroke-linejoin:miter;\" x=\"286.039592\" xlink:href=\"#mb8039cff7d\" y=\"61.490255\"/>\n     <use style=\"fill:#323232;stroke:#323232;stroke-linejoin:miter;\" x=\"286.039592\" xlink:href=\"#mb8039cff7d\" y=\"37.088034\"/>\n    </g>\n   </g>\n   <g id=\"line2d_34\">\n    <path clip-path=\"url(#p3d7e556f3b)\" d=\"M 326.39713 212.784221 \nL 326.39713 251.827818 \n\" style=\"fill:none;stroke:#323232;stroke-linecap:round;stroke-width:1.2;\"/>\n   </g>\n   <g id=\"line2d_35\">\n    <path clip-path=\"url(#p3d7e556f3b)\" d=\"M 326.39713 134.697027 \nL 326.39713 56.609833 \n\" style=\"fill:none;stroke:#323232;stroke-linecap:round;stroke-width:1.2;\"/>\n   </g>\n   <g id=\"line2d_36\">\n    <path clip-path=\"url(#p3d7e556f3b)\" d=\"M 316.509534 251.827818 \nL 336.284727 251.827818 \n\" style=\"fill:none;stroke:#323232;stroke-linecap:round;stroke-width:1.2;\"/>\n   </g>\n   <g id=\"line2d_37\">\n    <path clip-path=\"url(#p3d7e556f3b)\" d=\"M 316.509534 56.609833 \nL 336.284727 56.609833 \n\" style=\"fill:none;stroke:#323232;stroke-linecap:round;stroke-width:1.2;\"/>\n   </g>\n   <g id=\"line2d_38\"/>\n   <g id=\"line2d_39\">\n    <path clip-path=\"url(#p3d7e556f3b)\" d=\"M 386.933437 51.72941 \nL 386.933437 56.609833 \n\" style=\"fill:none;stroke:#323232;stroke-linecap:round;stroke-width:1.2;\"/>\n   </g>\n   <g id=\"line2d_40\">\n    <path clip-path=\"url(#p3d7e556f3b)\" d=\"M 386.933437 46.848987 \nL 386.933437 41.968457 \n\" style=\"fill:none;stroke:#323232;stroke-linecap:round;stroke-width:1.2;\"/>\n   </g>\n   <g id=\"line2d_41\">\n    <path clip-path=\"url(#p3d7e556f3b)\" d=\"M 377.04584 56.609833 \nL 396.821034 56.609833 \n\" style=\"fill:none;stroke:#323232;stroke-linecap:round;stroke-width:1.2;\"/>\n   </g>\n   <g id=\"line2d_42\">\n    <path clip-path=\"url(#p3d7e556f3b)\" d=\"M 377.04584 41.968457 \nL 396.821034 41.968457 \n\" style=\"fill:none;stroke:#323232;stroke-linecap:round;stroke-width:1.2;\"/>\n   </g>\n   <g id=\"line2d_43\">\n    <g clip-path=\"url(#p3d7e556f3b)\">\n     <use style=\"fill:#323232;stroke:#323232;stroke-linejoin:miter;\" x=\"386.933437\" xlink:href=\"#mb8039cff7d\" y=\"37.088034\"/>\n    </g>\n   </g>\n   <g id=\"line2d_44\">\n    <path clip-path=\"url(#p3d7e556f3b)\" d=\"M 427.290975 276.230173 \nL 427.290975 329.915119 \n\" style=\"fill:none;stroke:#323232;stroke-linecap:round;stroke-width:1.2;\"/>\n   </g>\n   <g id=\"line2d_45\">\n    <path clip-path=\"url(#p3d7e556f3b)\" d=\"M 427.290975 207.903771 \nL 427.290975 154.218825 \n\" style=\"fill:none;stroke:#323232;stroke-linecap:round;stroke-width:1.2;\"/>\n   </g>\n   <g id=\"line2d_46\">\n    <path clip-path=\"url(#p3d7e556f3b)\" d=\"M 417.403378 329.915119 \nL 437.178572 329.915119 \n\" style=\"fill:none;stroke:#323232;stroke-linecap:round;stroke-width:1.2;\"/>\n   </g>\n   <g id=\"line2d_47\">\n    <path clip-path=\"url(#p3d7e556f3b)\" d=\"M 417.403378 154.218825 \nL 437.178572 154.218825 \n\" style=\"fill:none;stroke:#323232;stroke-linecap:round;stroke-width:1.2;\"/>\n   </g>\n   <g id=\"line2d_48\">\n    <g clip-path=\"url(#p3d7e556f3b)\">\n     <use style=\"fill:#323232;stroke:#323232;stroke-linejoin:miter;\" x=\"427.290975\" xlink:href=\"#mb8039cff7d\" y=\"56.609833\"/>\n    </g>\n   </g>\n   <g id=\"line2d_49\">\n    <path clip-path=\"url(#p3d7e556f3b)\" d=\"M 487.827282 90.773007 \nL 487.827282 100.533853 \n\" style=\"fill:none;stroke:#323232;stroke-linecap:round;stroke-width:1.2;\"/>\n   </g>\n   <g id=\"line2d_50\">\n    <path clip-path=\"url(#p3d7e556f3b)\" d=\"M 487.827282 81.012054 \nL 487.827282 71.251208 \n\" style=\"fill:none;stroke:#323232;stroke-linecap:round;stroke-width:1.2;\"/>\n   </g>\n   <g id=\"line2d_51\">\n    <path clip-path=\"url(#p3d7e556f3b)\" d=\"M 477.939685 100.533853 \nL 497.714878 100.533853 \n\" style=\"fill:none;stroke:#323232;stroke-linecap:round;stroke-width:1.2;\"/>\n   </g>\n   <g id=\"line2d_52\">\n    <path clip-path=\"url(#p3d7e556f3b)\" d=\"M 477.939685 71.251208 \nL 497.714878 71.251208 \n\" style=\"fill:none;stroke:#323232;stroke-linecap:round;stroke-width:1.2;\"/>\n   </g>\n   <g id=\"line2d_53\"/>\n   <g id=\"line2d_54\">\n    <path clip-path=\"url(#p3d7e556f3b)\" d=\"M 528.184819 193.262422 \nL 528.184819 232.306019 \n\" style=\"fill:none;stroke:#323232;stroke-linecap:round;stroke-width:1.2;\"/>\n   </g>\n   <g id=\"line2d_55\">\n    <path clip-path=\"url(#p3d7e556f3b)\" d=\"M 528.184819 134.697027 \nL 528.184819 95.65343 \n\" style=\"fill:none;stroke:#323232;stroke-linecap:round;stroke-width:1.2;\"/>\n   </g>\n   <g id=\"line2d_56\">\n    <path clip-path=\"url(#p3d7e556f3b)\" d=\"M 518.297223 232.306019 \nL 538.072416 232.306019 \n\" style=\"fill:none;stroke:#323232;stroke-linecap:round;stroke-width:1.2;\"/>\n   </g>\n   <g id=\"line2d_57\">\n    <path clip-path=\"url(#p3d7e556f3b)\" d=\"M 518.297223 95.65343 \nL 538.072416 95.65343 \n\" style=\"fill:none;stroke:#323232;stroke-linecap:round;stroke-width:1.2;\"/>\n   </g>\n   <g id=\"line2d_58\"/>\n   <g id=\"line2d_59\">\n    <path clip-path=\"url(#p3d7e556f3b)\" d=\"M 64.47671 51.72941 \nL 104.027097 51.72941 \n\" style=\"fill:none;stroke:#323232;stroke-linecap:round;stroke-width:1.2;\"/>\n   </g>\n   <g id=\"line2d_60\">\n    <path clip-path=\"url(#p3d7e556f3b)\" d=\"M 104.834248 193.262422 \nL 144.384635 193.262422 \n\" style=\"fill:none;stroke:#323232;stroke-linecap:round;stroke-width:1.2;\"/>\n   </g>\n   <g id=\"line2d_61\">\n    <path clip-path=\"url(#p3d7e556f3b)\" d=\"M 165.370554 46.848987 \nL 204.920941 46.848987 \n\" style=\"fill:none;stroke:#323232;stroke-linecap:round;stroke-width:1.2;\"/>\n   </g>\n   <g id=\"line2d_62\">\n    <path clip-path=\"url(#p3d7e556f3b)\" d=\"M 205.728092 173.740624 \nL 245.278479 173.740624 \n\" style=\"fill:none;stroke:#323232;stroke-linecap:round;stroke-width:1.2;\"/>\n   </g>\n   <g id=\"line2d_63\">\n    <path clip-path=\"url(#p3d7e556f3b)\" d=\"M 266.264399 46.848987 \nL 305.814786 46.848987 \n\" style=\"fill:none;stroke:#323232;stroke-linecap:round;stroke-width:1.2;\"/>\n   </g>\n   <g id=\"line2d_64\">\n    <path clip-path=\"url(#p3d7e556f3b)\" d=\"M 306.621937 173.740624 \nL 346.172324 173.740624 \n\" style=\"fill:none;stroke:#323232;stroke-linecap:round;stroke-width:1.2;\"/>\n   </g>\n   <g id=\"line2d_65\">\n    <path clip-path=\"url(#p3d7e556f3b)\" d=\"M 367.158244 51.72941 \nL 406.708631 51.72941 \n\" style=\"fill:none;stroke:#323232;stroke-linecap:round;stroke-width:1.2;\"/>\n   </g>\n   <g id=\"line2d_66\">\n    <path clip-path=\"url(#p3d7e556f3b)\" d=\"M 407.515781 242.066919 \nL 447.066168 242.066919 \n\" style=\"fill:none;stroke:#323232;stroke-linecap:round;stroke-width:1.2;\"/>\n   </g>\n   <g id=\"line2d_67\">\n    <path clip-path=\"url(#p3d7e556f3b)\" d=\"M 468.052088 85.892584 \nL 507.602475 85.892584 \n\" style=\"fill:none;stroke:#323232;stroke-linecap:round;stroke-width:1.2;\"/>\n   </g>\n   <g id=\"line2d_68\">\n    <path clip-path=\"url(#p3d7e556f3b)\" d=\"M 508.409626 173.740624 \nL 547.960013 173.740624 \n\" style=\"fill:none;stroke:#323232;stroke-linecap:round;stroke-width:1.2;\"/>\n   </g>\n   <g id=\"patch_15\">\n    <path d=\"M 53.98375 385.55225 \nL 53.98375 20.4945 \n\" style=\"fill:none;stroke:#cccccc;stroke-linecap:square;stroke-linejoin:miter;\"/>\n   </g>\n   <g id=\"patch_16\">\n    <path d=\"M 53.98375 385.55225 \nL 558.452973 385.55225 \n\" style=\"fill:none;stroke:#cccccc;stroke-linecap:square;stroke-linejoin:miter;\"/>\n   </g>\n   <g id=\"text_16\">\n    <!-- model = RF -->\n    <g style=\"fill:#262626;\" transform=\"translate(278.102361 14.4945)scale(0.096 -0.096)\">\n     <defs>\n      <path id=\"DejaVuSans-32\"/>\n      <path d=\"M 10.59375 45.40625 \nL 73.1875 45.40625 \nL 73.1875 37.203125 \nL 10.59375 37.203125 \nz\nM 10.59375 25.484375 \nL 73.1875 25.484375 \nL 73.1875 17.1875 \nL 10.59375 17.1875 \nz\n\" id=\"DejaVuSans-61\"/>\n     </defs>\n     <use xlink:href=\"#DejaVuSans-109\"/>\n     <use x=\"97.412109\" xlink:href=\"#DejaVuSans-111\"/>\n     <use x=\"158.59375\" xlink:href=\"#DejaVuSans-100\"/>\n     <use x=\"222.070312\" xlink:href=\"#DejaVuSans-101\"/>\n     <use x=\"283.59375\" xlink:href=\"#DejaVuSans-108\"/>\n     <use x=\"311.376953\" xlink:href=\"#DejaVuSans-32\"/>\n     <use x=\"343.164062\" xlink:href=\"#DejaVuSans-61\"/>\n     <use x=\"426.953125\" xlink:href=\"#DejaVuSans-32\"/>\n     <use x=\"458.740234\" xlink:href=\"#DejaVuSans-82\"/>\n     <use x=\"528.222656\" xlink:href=\"#DejaVuSans-70\"/>\n    </g>\n   </g>\n  </g>\n  <g id=\"legend_1\">\n   <g id=\"text_17\">\n    <!-- acc_type -->\n    <g style=\"fill:#262626;\" transform=\"translate(578.168023 200.9175)scale(0.096 -0.096)\">\n     <use xlink:href=\"#DejaVuSans-97\"/>\n     <use x=\"61.279297\" xlink:href=\"#DejaVuSans-99\"/>\n     <use x=\"116.259766\" xlink:href=\"#DejaVuSans-99\"/>\n     <use x=\"171.240234\" xlink:href=\"#DejaVuSans-95\"/>\n     <use x=\"221.240234\" xlink:href=\"#DejaVuSans-116\"/>\n     <use x=\"260.449219\" xlink:href=\"#DejaVuSans-121\"/>\n     <use x=\"319.628906\" xlink:href=\"#DejaVuSans-112\"/>\n     <use x=\"383.105469\" xlink:href=\"#DejaVuSans-101\"/>\n    </g>\n   </g>\n   <g id=\"patch_17\">\n    <path d=\"M 566.902023 214.267625 \nL 584.502023 214.267625 \nL 584.502023 208.107625 \nL 566.902023 208.107625 \nz\n\" style=\"fill:#5a948a;stroke:#323232;stroke-linejoin:miter;stroke-width:0.6;\"/>\n   </g>\n   <g id=\"text_18\">\n    <!-- Train_acc -->\n    <g style=\"fill:#262626;\" transform=\"translate(591.542023 214.267625)scale(0.088 -0.088)\">\n     <defs>\n      <path d=\"M -0.296875 72.90625 \nL 61.375 72.90625 \nL 61.375 64.59375 \nL 35.5 64.59375 \nL 35.5 0 \nL 25.59375 0 \nL 25.59375 64.59375 \nL -0.296875 64.59375 \nz\n\" id=\"DejaVuSans-84\"/>\n     </defs>\n     <use xlink:href=\"#DejaVuSans-84\"/>\n     <use x=\"46.333984\" xlink:href=\"#DejaVuSans-114\"/>\n     <use x=\"87.447266\" xlink:href=\"#DejaVuSans-97\"/>\n     <use x=\"148.726562\" xlink:href=\"#DejaVuSans-105\"/>\n     <use x=\"176.509766\" xlink:href=\"#DejaVuSans-110\"/>\n     <use x=\"239.888672\" xlink:href=\"#DejaVuSans-95\"/>\n     <use x=\"289.888672\" xlink:href=\"#DejaVuSans-97\"/>\n     <use x=\"351.167969\" xlink:href=\"#DejaVuSans-99\"/>\n     <use x=\"406.148438\" xlink:href=\"#DejaVuSans-99\"/>\n    </g>\n   </g>\n   <g id=\"patch_18\">\n    <path d=\"M 566.902023 227.429125 \nL 584.502023 227.429125 \nL 584.502023 221.269125 \nL 566.902023 221.269125 \nz\n\" style=\"fill:#2b667c;stroke:#323232;stroke-linejoin:miter;stroke-width:0.6;\"/>\n   </g>\n   <g id=\"text_19\">\n    <!-- Test_acc -->\n    <g style=\"fill:#262626;\" transform=\"translate(591.542023 227.429125)scale(0.088 -0.088)\">\n     <defs>\n      <path d=\"M 44.28125 53.078125 \nL 44.28125 44.578125 \nQ 40.484375 46.53125 36.375 47.5 \nQ 32.28125 48.484375 27.875 48.484375 \nQ 21.1875 48.484375 17.84375 46.4375 \nQ 14.5 44.390625 14.5 40.28125 \nQ 14.5 37.15625 16.890625 35.375 \nQ 19.28125 33.59375 26.515625 31.984375 \nL 29.59375 31.296875 \nQ 39.15625 29.25 43.1875 25.515625 \nQ 47.21875 21.78125 47.21875 15.09375 \nQ 47.21875 7.46875 41.1875 3.015625 \nQ 35.15625 -1.421875 24.609375 -1.421875 \nQ 20.21875 -1.421875 15.453125 -0.5625 \nQ 10.6875 0.296875 5.421875 2 \nL 5.421875 11.28125 \nQ 10.40625 8.6875 15.234375 7.390625 \nQ 20.0625 6.109375 24.8125 6.109375 \nQ 31.15625 6.109375 34.5625 8.28125 \nQ 37.984375 10.453125 37.984375 14.40625 \nQ 37.984375 18.0625 35.515625 20.015625 \nQ 33.0625 21.96875 24.703125 23.78125 \nL 21.578125 24.515625 \nQ 13.234375 26.265625 9.515625 29.90625 \nQ 5.8125 33.546875 5.8125 39.890625 \nQ 5.8125 47.609375 11.28125 51.796875 \nQ 16.75 56 26.8125 56 \nQ 31.78125 56 36.171875 55.265625 \nQ 40.578125 54.546875 44.28125 53.078125 \nz\n\" id=\"DejaVuSans-115\"/>\n     </defs>\n     <use xlink:href=\"#DejaVuSans-84\"/>\n     <use x=\"44.083984\" xlink:href=\"#DejaVuSans-101\"/>\n     <use x=\"105.607422\" xlink:href=\"#DejaVuSans-115\"/>\n     <use x=\"157.707031\" xlink:href=\"#DejaVuSans-116\"/>\n     <use x=\"196.916016\" xlink:href=\"#DejaVuSans-95\"/>\n     <use x=\"246.916016\" xlink:href=\"#DejaVuSans-97\"/>\n     <use x=\"308.195312\" xlink:href=\"#DejaVuSans-99\"/>\n     <use x=\"363.175781\" xlink:href=\"#DejaVuSans-99\"/>\n    </g>\n   </g>\n  </g>\n </g>\n <defs>\n  <clipPath id=\"p3d7e556f3b\">\n   <rect height=\"365.05775\" width=\"504.469223\" x=\"53.98375\" y=\"20.4945\"/>\n  </clipPath>\n </defs>\n</svg>\n",
      "image/png": "[encoded data removed]"
     },
     "metadata": {}
    }
   ],
   "metadata": {}
  },
  {
   "cell_type": "code",
   "execution_count": 12,
   "source": [
    "data_rf = pd.read_csv('../processed_data/train_none_rf_impute' , index_col=0).reset_index(drop=True)\n",
    "acc_rf = mc_validation(gen_model_rf , data_rf  , obs_split ,  model_name = 'RF' , d_type = 'Normalized' ,  impute_method='RF')"
   ],
   "outputs": [
    {
     "output_type": "stream",
     "name": "stderr",
     "text": [
      "/home/kumaran/.local/lib/python3.6/site-packages/sklearn/utils/validation.py:72: FutureWarning: Pass shuffle=True, random_state=1 as keyword args. From version 1.0 (renaming of 0.25) passing these as positional arguments will result in an error\n",
      "  \"will result in an error\", FutureWarning)\n"
     ]
    },
    {
     "output_type": "stream",
     "name": "stdout",
     "text": [
      "split_no 368\n"
     ]
    },
    {
     "output_type": "stream",
     "name": "stderr",
     "text": [
      "  0%|          | 0/32 [00:00<?, ?it/s]"
     ]
    },
    {
     "output_type": "stream",
     "name": "stdout",
     "text": [
      "6/6 [==============================] - 5s 8ms/step\n",
      "6/6 [==============================] - 1s 9ms/step - loss: 0.0000e+00 - accuracy: 0.9728\n",
      "2/2 [==============================] - 0s 7ms/step - loss: 0.0000e+00 - accuracy: 0.9674\n"
     ]
    },
    {
     "output_type": "stream",
     "name": "stderr",
     "text": [
      "  3%|▎         | 1/32 [00:10<05:21, 10.36s/it]"
     ]
    },
    {
     "output_type": "stream",
     "name": "stdout",
     "text": [
      "6/6 [==============================] - 1s 8ms/step\n",
      "6/6 [==============================] - 1s 9ms/step - loss: 0.0000e+00 - accuracy: 0.9701\n",
      "2/2 [==============================] - 0s 7ms/step - loss: 0.0000e+00 - accuracy: 0.9130\n"
     ]
    },
    {
     "output_type": "stream",
     "name": "stderr",
     "text": [
      "  6%|▋         | 2/32 [00:14<03:19,  6.65s/it]"
     ]
    },
    {
     "output_type": "stream",
     "name": "stdout",
     "text": [
      "6/6 [==============================] - 1s 9ms/step\n",
      "6/6 [==============================] - 1s 9ms/step - loss: 0.0000e+00 - accuracy: 0.9755\n",
      "2/2 [==============================] - 0s 7ms/step - loss: 0.0000e+00 - accuracy: 0.9348\n"
     ]
    },
    {
     "output_type": "stream",
     "name": "stderr",
     "text": [
      "  9%|▉         | 3/32 [00:18<02:38,  5.48s/it]"
     ]
    },
    {
     "output_type": "stream",
     "name": "stdout",
     "text": [
      "6/6 [==============================] - 1s 7ms/step\n",
      "6/6 [==============================] - 1s 9ms/step - loss: 0.0000e+00 - accuracy: 0.9674\n",
      "2/2 [==============================] - 0s 10ms/step - loss: 0.0000e+00 - accuracy: 0.9130\n"
     ]
    },
    {
     "output_type": "stream",
     "name": "stderr",
     "text": [
      " 12%|█▎        | 4/32 [00:22<02:20,  5.00s/it]"
     ]
    },
    {
     "output_type": "stream",
     "name": "stdout",
     "text": [
      "6/6 [==============================] - 1s 7ms/step\n",
      "WARNING:tensorflow:5 out of the last 5 calls to <function CoreModel.make_predict_function.<locals>.predict_function_trained at 0x7f4ab004fd08> triggered tf.function retracing. Tracing is expensive and the excessive number of tracings could be due to (1) creating @tf.function repeatedly in a loop, (2) passing tensors with different shapes, (3) passing Python objects instead of tensors. For (1), please define your @tf.function outside of the loop. For (2), @tf.function has experimental_relax_shapes=True option that relaxes argument shapes that can avoid unnecessary retracing. For (3), please refer to https://www.tensorflow.org/guide/function#controlling_retracing and https://www.tensorflow.org/api_docs/python/tf/function for  more details.\n"
     ]
    },
    {
     "output_type": "stream",
     "name": "stderr",
     "text": [
      "WARNING:tensorflow:5 out of the last 5 calls to <function CoreModel.make_predict_function.<locals>.predict_function_trained at 0x7f4ab004fd08> triggered tf.function retracing. Tracing is expensive and the excessive number of tracings could be due to (1) creating @tf.function repeatedly in a loop, (2) passing tensors with different shapes, (3) passing Python objects instead of tensors. For (1), please define your @tf.function outside of the loop. For (2), @tf.function has experimental_relax_shapes=True option that relaxes argument shapes that can avoid unnecessary retracing. For (3), please refer to https://www.tensorflow.org/guide/function#controlling_retracing and https://www.tensorflow.org/api_docs/python/tf/function for  more details.\n"
     ]
    },
    {
     "output_type": "stream",
     "name": "stdout",
     "text": [
      "6/6 [==============================] - 1s 7ms/step - loss: 0.0000e+00 - accuracy: 0.9701\n",
      "2/2 [==============================] - 0s 6ms/step - loss: 0.0000e+00 - accuracy: 0.9130\n"
     ]
    },
    {
     "output_type": "stream",
     "name": "stderr",
     "text": [
      " 16%|█▌        | 5/32 [00:26<02:00,  4.47s/it]"
     ]
    },
    {
     "output_type": "stream",
     "name": "stdout",
     "text": [
      "6/6 [==============================] - 1s 6ms/step\n",
      "WARNING:tensorflow:6 out of the last 6 calls to <function CoreModel.make_predict_function.<locals>.predict_function_trained at 0x7f4aa83b1a60> triggered tf.function retracing. Tracing is expensive and the excessive number of tracings could be due to (1) creating @tf.function repeatedly in a loop, (2) passing tensors with different shapes, (3) passing Python objects instead of tensors. For (1), please define your @tf.function outside of the loop. For (2), @tf.function has experimental_relax_shapes=True option that relaxes argument shapes that can avoid unnecessary retracing. For (3), please refer to https://www.tensorflow.org/guide/function#controlling_retracing and https://www.tensorflow.org/api_docs/python/tf/function for  more details.\n"
     ]
    },
    {
     "output_type": "stream",
     "name": "stderr",
     "text": [
      "WARNING:tensorflow:6 out of the last 6 calls to <function CoreModel.make_predict_function.<locals>.predict_function_trained at 0x7f4aa83b1a60> triggered tf.function retracing. Tracing is expensive and the excessive number of tracings could be due to (1) creating @tf.function repeatedly in a loop, (2) passing tensors with different shapes, (3) passing Python objects instead of tensors. For (1), please define your @tf.function outside of the loop. For (2), @tf.function has experimental_relax_shapes=True option that relaxes argument shapes that can avoid unnecessary retracing. For (3), please refer to https://www.tensorflow.org/guide/function#controlling_retracing and https://www.tensorflow.org/api_docs/python/tf/function for  more details.\n"
     ]
    },
    {
     "output_type": "stream",
     "name": "stdout",
     "text": [
      "6/6 [==============================] - 1s 7ms/step - loss: 0.0000e+00 - accuracy: 0.9810\n",
      "2/2 [==============================] - 0s 5ms/step - loss: 0.0000e+00 - accuracy: 0.9022\n"
     ]
    },
    {
     "output_type": "stream",
     "name": "stderr",
     "text": [
      " 19%|█▉        | 6/32 [00:28<01:40,  3.86s/it]"
     ]
    },
    {
     "output_type": "stream",
     "name": "stdout",
     "text": [
      "6/6 [==============================] - 1s 5ms/step\n",
      "6/6 [==============================] - 1s 9ms/step - loss: 0.0000e+00 - accuracy: 0.9728\n",
      "2/2 [==============================] - 1s 7ms/step - loss: 0.0000e+00 - accuracy: 0.9130\n"
     ]
    },
    {
     "output_type": "stream",
     "name": "stderr",
     "text": [
      " 22%|██▏       | 7/32 [00:32<01:32,  3.69s/it]"
     ]
    },
    {
     "output_type": "stream",
     "name": "stdout",
     "text": [
      "6/6 [==============================] - 1s 7ms/step\n",
      "6/6 [==============================] - 1s 9ms/step - loss: 0.0000e+00 - accuracy: 0.9728\n",
      "2/2 [==============================] - 0s 7ms/step - loss: 0.0000e+00 - accuracy: 0.9457\n"
     ]
    },
    {
     "output_type": "stream",
     "name": "stderr",
     "text": [
      " 25%|██▌       | 8/32 [00:36<01:31,  3.81s/it]"
     ]
    },
    {
     "output_type": "stream",
     "name": "stdout",
     "text": [
      "6/6 [==============================] - 1s 8ms/step\n",
      "6/6 [==============================] - 1s 9ms/step - loss: 0.0000e+00 - accuracy: 0.9783\n",
      "2/2 [==============================] - 0s 8ms/step - loss: 0.0000e+00 - accuracy: 0.9348\n"
     ]
    },
    {
     "output_type": "stream",
     "name": "stderr",
     "text": [
      " 28%|██▊       | 9/32 [00:40<01:30,  3.91s/it]"
     ]
    },
    {
     "output_type": "stream",
     "name": "stdout",
     "text": [
      "6/6 [==============================] - 1s 14ms/step\n",
      "6/6 [==============================] - 0s 6ms/step - loss: 0.0000e+00 - accuracy: 0.9647\n",
      "2/2 [==============================] - 0s 5ms/step - loss: 0.0000e+00 - accuracy: 0.8913\n"
     ]
    },
    {
     "output_type": "stream",
     "name": "stderr",
     "text": [
      " 31%|███▏      | 10/32 [00:44<01:25,  3.88s/it]"
     ]
    },
    {
     "output_type": "stream",
     "name": "stdout",
     "text": [
      "6/6 [==============================] - 1s 6ms/step\n",
      "6/6 [==============================] - 0s 9ms/step - loss: 0.0000e+00 - accuracy: 0.9674\n",
      "2/2 [==============================] - 0s 5ms/step - loss: 0.0000e+00 - accuracy: 0.9565\n"
     ]
    },
    {
     "output_type": "stream",
     "name": "stderr",
     "text": [
      " 34%|███▍      | 11/32 [00:46<01:13,  3.49s/it]"
     ]
    },
    {
     "output_type": "stream",
     "name": "stdout",
     "text": [
      "6/6 [==============================] - 1s 5ms/step\n",
      "6/6 [==============================] - 1s 7ms/step - loss: 0.0000e+00 - accuracy: 0.9755\n",
      "2/2 [==============================] - 0s 6ms/step - loss: 0.0000e+00 - accuracy: 0.9130\n"
     ]
    },
    {
     "output_type": "stream",
     "name": "stderr",
     "text": [
      " 38%|███▊      | 12/32 [00:49<01:05,  3.27s/it]"
     ]
    },
    {
     "output_type": "stream",
     "name": "stdout",
     "text": [
      "6/6 [==============================] - 1s 6ms/step\n",
      "6/6 [==============================] - 1s 6ms/step - loss: 0.0000e+00 - accuracy: 0.9728\n",
      "2/2 [==============================] - 0s 6ms/step - loss: 0.0000e+00 - accuracy: 0.9674\n"
     ]
    },
    {
     "output_type": "stream",
     "name": "stderr",
     "text": [
      " 41%|████      | 13/32 [00:52<01:01,  3.25s/it]"
     ]
    },
    {
     "output_type": "stream",
     "name": "stdout",
     "text": [
      "6/6 [==============================] - 1s 6ms/step\n",
      "6/6 [==============================] - 1s 7ms/step - loss: 0.0000e+00 - accuracy: 0.9674\n",
      "2/2 [==============================] - 0s 5ms/step - loss: 0.0000e+00 - accuracy: 0.9130\n"
     ]
    },
    {
     "output_type": "stream",
     "name": "stderr",
     "text": [
      " 44%|████▍     | 14/32 [00:55<00:57,  3.19s/it]"
     ]
    },
    {
     "output_type": "stream",
     "name": "stdout",
     "text": [
      "6/6 [==============================] - 1s 6ms/step\n",
      "6/6 [==============================] - 1s 7ms/step - loss: 0.0000e+00 - accuracy: 0.9755\n",
      "2/2 [==============================] - 0s 6ms/step - loss: 0.0000e+00 - accuracy: 0.9457\n"
     ]
    },
    {
     "output_type": "stream",
     "name": "stderr",
     "text": [
      " 47%|████▋     | 15/32 [00:58<00:53,  3.13s/it]"
     ]
    },
    {
     "output_type": "stream",
     "name": "stdout",
     "text": [
      "6/6 [==============================] - 1s 8ms/step\n",
      "6/6 [==============================] - 1s 8ms/step - loss: 0.0000e+00 - accuracy: 0.9783\n",
      "2/2 [==============================] - 0s 6ms/step - loss: 0.0000e+00 - accuracy: 0.9130\n"
     ]
    },
    {
     "output_type": "stream",
     "name": "stderr",
     "text": [
      " 50%|█████     | 16/32 [01:02<00:54,  3.41s/it]"
     ]
    },
    {
     "output_type": "stream",
     "name": "stdout",
     "text": [
      "6/6 [==============================] - 1s 6ms/step\n",
      "6/6 [==============================] - 1s 7ms/step - loss: 0.0000e+00 - accuracy: 0.9674\n",
      "2/2 [==============================] - 0s 5ms/step - loss: 0.0000e+00 - accuracy: 0.9022\n"
     ]
    },
    {
     "output_type": "stream",
     "name": "stderr",
     "text": [
      " 53%|█████▎    | 17/32 [01:06<00:50,  3.35s/it]"
     ]
    },
    {
     "output_type": "stream",
     "name": "stdout",
     "text": [
      "6/6 [==============================] - 1s 6ms/step\n",
      "6/6 [==============================] - 1s 8ms/step - loss: 0.0000e+00 - accuracy: 0.9728\n",
      "2/2 [==============================] - 1s 6ms/step - loss: 0.0000e+00 - accuracy: 0.9348\n"
     ]
    },
    {
     "output_type": "stream",
     "name": "stderr",
     "text": [
      " 56%|█████▋    | 18/32 [01:09<00:46,  3.30s/it]"
     ]
    },
    {
     "output_type": "stream",
     "name": "stdout",
     "text": [
      "6/6 [==============================] - 1s 8ms/step\n",
      "6/6 [==============================] - 1s 7ms/step - loss: 0.0000e+00 - accuracy: 0.9674\n",
      "2/2 [==============================] - 0s 5ms/step - loss: 0.0000e+00 - accuracy: 0.9674\n"
     ]
    },
    {
     "output_type": "stream",
     "name": "stderr",
     "text": [
      " 59%|█████▉    | 19/32 [01:13<00:44,  3.43s/it]"
     ]
    },
    {
     "output_type": "stream",
     "name": "stdout",
     "text": [
      "6/6 [==============================] - 1s 7ms/step\n",
      "6/6 [==============================] - 1s 6ms/step - loss: 0.0000e+00 - accuracy: 0.9755\n",
      "2/2 [==============================] - 0s 5ms/step - loss: 0.0000e+00 - accuracy: 0.9674\n"
     ]
    },
    {
     "output_type": "stream",
     "name": "stderr",
     "text": [
      " 62%|██████▎   | 20/32 [01:16<00:39,  3.32s/it]"
     ]
    },
    {
     "output_type": "stream",
     "name": "stdout",
     "text": [
      "6/6 [==============================] - 1s 7ms/step\n",
      "6/6 [==============================] - 1s 12ms/step - loss: 0.0000e+00 - accuracy: 0.9728\n",
      "2/2 [==============================] - 0s 6ms/step - loss: 0.0000e+00 - accuracy: 0.9565\n"
     ]
    },
    {
     "output_type": "stream",
     "name": "stderr",
     "text": [
      " 66%|██████▌   | 21/32 [01:19<00:36,  3.33s/it]"
     ]
    },
    {
     "output_type": "stream",
     "name": "stdout",
     "text": [
      "6/6 [==============================] - 1s 6ms/step\n",
      "6/6 [==============================] - 1s 6ms/step - loss: 0.0000e+00 - accuracy: 0.9755\n",
      "2/2 [==============================] - 0s 5ms/step - loss: 0.0000e+00 - accuracy: 0.9130\n"
     ]
    },
    {
     "output_type": "stream",
     "name": "stderr",
     "text": [
      " 69%|██████▉   | 22/32 [01:22<00:32,  3.21s/it]"
     ]
    },
    {
     "output_type": "stream",
     "name": "stdout",
     "text": [
      "6/6 [==============================] - 1s 6ms/step\n",
      "6/6 [==============================] - 1s 6ms/step - loss: 0.0000e+00 - accuracy: 0.9674\n",
      "2/2 [==============================] - 0s 5ms/step - loss: 0.0000e+00 - accuracy: 0.9239\n"
     ]
    },
    {
     "output_type": "stream",
     "name": "stderr",
     "text": [
      " 72%|███████▏  | 23/32 [01:25<00:28,  3.13s/it]"
     ]
    },
    {
     "output_type": "stream",
     "name": "stdout",
     "text": [
      "6/6 [==============================] - 1s 9ms/step\n",
      "6/6 [==============================] - 1s 9ms/step - loss: 0.0000e+00 - accuracy: 0.9755\n",
      "2/2 [==============================] - 0s 7ms/step - loss: 0.0000e+00 - accuracy: 0.9022\n"
     ]
    },
    {
     "output_type": "stream",
     "name": "stderr",
     "text": [
      " 75%|███████▌  | 24/32 [01:29<00:27,  3.41s/it]"
     ]
    },
    {
     "output_type": "stream",
     "name": "stdout",
     "text": [
      "6/6 [==============================] - 1s 7ms/step\n",
      "6/6 [==============================] - 1s 7ms/step - loss: 0.0000e+00 - accuracy: 0.9810\n",
      "2/2 [==============================] - 1s 6ms/step - loss: 0.0000e+00 - accuracy: 0.9022\n"
     ]
    },
    {
     "output_type": "stream",
     "name": "stderr",
     "text": [
      " 78%|███████▊  | 25/32 [01:33<00:26,  3.73s/it]"
     ]
    },
    {
     "output_type": "stream",
     "name": "stdout",
     "text": [
      "6/6 [==============================] - 1s 6ms/step\n",
      "6/6 [==============================] - 1s 6ms/step - loss: 0.0000e+00 - accuracy: 0.9755\n",
      "2/2 [==============================] - 0s 5ms/step - loss: 0.0000e+00 - accuracy: 0.9348\n"
     ]
    },
    {
     "output_type": "stream",
     "name": "stderr",
     "text": [
      " 81%|████████▏ | 26/32 [01:37<00:21,  3.55s/it]"
     ]
    },
    {
     "output_type": "stream",
     "name": "stdout",
     "text": [
      "6/6 [==============================] - 1s 5ms/step\n",
      "6/6 [==============================] - 1s 15ms/step - loss: 0.0000e+00 - accuracy: 0.9728\n",
      "2/2 [==============================] - 1s 9ms/step - loss: 0.0000e+00 - accuracy: 0.9239\n"
     ]
    },
    {
     "output_type": "stream",
     "name": "stderr",
     "text": [
      " 84%|████████▍ | 27/32 [01:41<00:18,  3.77s/it]"
     ]
    },
    {
     "output_type": "stream",
     "name": "stdout",
     "text": [
      "6/6 [==============================] - 1s 11ms/step\n",
      "6/6 [==============================] - 1s 8ms/step - loss: 0.0000e+00 - accuracy: 0.9728\n",
      "2/2 [==============================] - 0s 5ms/step - loss: 0.0000e+00 - accuracy: 0.9348\n"
     ]
    },
    {
     "output_type": "stream",
     "name": "stderr",
     "text": [
      " 88%|████████▊ | 28/32 [01:45<00:15,  3.90s/it]"
     ]
    },
    {
     "output_type": "stream",
     "name": "stdout",
     "text": [
      "6/6 [==============================] - 1s 5ms/step\n",
      "6/6 [==============================] - 1s 6ms/step - loss: 0.0000e+00 - accuracy: 0.9728\n",
      "2/2 [==============================] - 0s 5ms/step - loss: 0.0000e+00 - accuracy: 0.9457\n"
     ]
    },
    {
     "output_type": "stream",
     "name": "stderr",
     "text": [
      " 91%|█████████ | 29/32 [01:48<00:11,  3.72s/it]"
     ]
    },
    {
     "output_type": "stream",
     "name": "stdout",
     "text": [
      "6/6 [==============================] - 1s 7ms/step\n",
      "6/6 [==============================] - 1s 8ms/step - loss: 0.0000e+00 - accuracy: 0.9755\n",
      "2/2 [==============================] - 0s 5ms/step - loss: 0.0000e+00 - accuracy: 0.9130\n"
     ]
    },
    {
     "output_type": "stream",
     "name": "stderr",
     "text": [
      " 94%|█████████▍| 30/32 [01:52<00:07,  3.75s/it]"
     ]
    },
    {
     "output_type": "stream",
     "name": "stdout",
     "text": [
      "6/6 [==============================] - 1s 5ms/step\n",
      "6/6 [==============================] - 1s 7ms/step - loss: 0.0000e+00 - accuracy: 0.9701\n",
      "2/2 [==============================] - 0s 6ms/step - loss: 0.0000e+00 - accuracy: 0.9348\n"
     ]
    },
    {
     "output_type": "stream",
     "name": "stderr",
     "text": [
      " 97%|█████████▋| 31/32 [01:55<00:03,  3.53s/it]"
     ]
    },
    {
     "output_type": "stream",
     "name": "stdout",
     "text": [
      "6/6 [==============================] - 1s 7ms/step\n",
      "6/6 [==============================] - 1s 7ms/step - loss: 0.0000e+00 - accuracy: 0.9701\n",
      "2/2 [==============================] - 0s 6ms/step - loss: 0.0000e+00 - accuracy: 0.9239\n"
     ]
    },
    {
     "output_type": "stream",
     "name": "stderr",
     "text": [
      "100%|██████████| 32/32 [01:58<00:00,  3.71s/it]\n"
     ]
    }
   ],
   "metadata": {}
  }
 ],
 "metadata": {
  "orig_nbformat": 4,
  "language_info": {
   "name": "python",
   "version": "3.6.9",
   "mimetype": "text/x-python",
   "codemirror_mode": {
    "name": "ipython",
    "version": 3
   },
   "pygments_lexer": "ipython3",
   "nbconvert_exporter": "python",
   "file_extension": ".py"
  },
  "kernelspec": {
   "name": "python3",
   "display_name": "Python 3.6.9 64-bit"
  },
  "interpreter": {
   "hash": "31f2aee4e71d21fbe5cf8b01ff0e069b9275f58929596ceb00d14d90e3e16cd6"
  }
 },
 "nbformat": 4,
 "nbformat_minor": 2
}