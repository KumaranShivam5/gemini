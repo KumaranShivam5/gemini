{
 "cells": [
  {
   "cell_type": "code",
   "execution_count": 28,
   "source": [
    "import numpy as np \n",
    "import pandas as pd \n",
    "from matplotlib import pyplot as plt "
   ],
   "outputs": [],
   "metadata": {}
  },
  {
   "cell_type": "code",
   "execution_count": 33,
   "source": [
    "cv_data = pd.read_csv('cv_data.csv')\n",
    "xrb_data = pd.read_csv('xrb_data_all.csv')\n",
    "print(cv_data.shape)\n",
    "print(xrb_data.shape)\n",
    "#print(cv_data)\n"
   ],
   "outputs": [
    {
     "output_type": "stream",
     "name": "stdout",
     "text": [
      "(943, 116)\n",
      "(1620, 116)\n"
     ]
    }
   ],
   "metadata": {}
  },
  {
   "cell_type": "code",
   "execution_count": 34,
   "source": [
    "all_data =  pd.concat([cv_data , xrb_data] , ignore_index=True)\n",
    "#print(all_data)\n",
    "#print(all_data.shape)\n",
    "#all_data['class']\n",
    "all_data =  all_data.sample(frac=1).reset_index(drop=True)\n",
    "all_data.index.name =  \"index_compiled\"\n",
    "print('------------------')\n",
    "#print(all_data)"
   ],
   "outputs": [
    {
     "output_type": "stream",
     "name": "stdout",
     "text": [
      "------------------\n"
     ]
    }
   ],
   "metadata": {}
  },
  {
   "cell_type": "markdown",
   "source": [
    "# normalizing data"
   ],
   "metadata": {}
  },
  {
   "cell_type": "code",
   "execution_count": 35,
   "source": [
    "m, n =  all_data.shape\n",
    "for i in range(m):\n",
    "    for j in range(n):\n",
    "        if isinstance(all_data.iloc[i,j],str):\n",
    "            #print(i,j,all_data.iloc[i,j])\n",
    "            try:\n",
    "                all_data.iloc[i,j] =  float(all_data.iloc[i,j])\n",
    "            except:\n",
    "                #print('ivalid , setting to zero' , i, j, all_data.iloc[i,j])\n",
    "                all_data.iloc[i,j]=0"
   ],
   "outputs": [],
   "metadata": {}
  },
  {
   "cell_type": "code",
   "execution_count": 36,
   "source": [
    "np.amax(all_data)"
   ],
   "outputs": [
    {
     "output_type": "execute_result",
     "data": {
      "text/plain": [
       "index                  1.619000e+03\n",
       "class                  1.000000e+00\n",
       "B_M_FLUX_AP            1.880000e-11\n",
       "B_B_FLUX_AP_AVG        5.890000e-10\n",
       "B_B_FLUX_BB_AP         2.890000e-10\n",
       "                           ...     \n",
       "B_S_VAR_INTER_INDEX    8.000000e+00\n",
       "B_S_VAR_INTER_PROB     1.000000e+00\n",
       "B_S_VAR_INTER_SIGMA    6.560000e-05\n",
       "B_S_VAR_INTRA_INDEX    1.000000e+01\n",
       "B_S_VAR_INTRA_PROB     1.000000e+00\n",
       "Length: 116, dtype: float64"
      ]
     },
     "metadata": {},
     "execution_count": 36
    }
   ],
   "metadata": {}
  },
  {
   "cell_type": "code",
   "execution_count": 37,
   "source": [
    "for i in range(2,n):\n",
    "    max_non_zero = np.amax(all_data.iloc[:,i])\n",
    "    if(max_non_zero==0):\n",
    "        continue\n",
    "    else:\n",
    "        all_data.iloc[:,i] = all_data.iloc[:,i] / np.amax(all_data.iloc[:,i]) \n",
    "    #print(i)"
   ],
   "outputs": [],
   "metadata": {}
  },
  {
   "cell_type": "code",
   "execution_count": 38,
   "source": [
    "print(np.amax(all_data))"
   ],
   "outputs": [
    {
     "output_type": "stream",
     "name": "stdout",
     "text": [
      "index                  1619.0\n",
      "class                     1.0\n",
      "B_M_FLUX_AP               1.0\n",
      "B_B_FLUX_AP_AVG           1.0\n",
      "B_B_FLUX_BB_AP            1.0\n",
      "                        ...  \n",
      "B_S_VAR_INTER_INDEX       1.0\n",
      "B_S_VAR_INTER_PROB        1.0\n",
      "B_S_VAR_INTER_SIGMA       1.0\n",
      "B_S_VAR_INTRA_INDEX       1.0\n",
      "B_S_VAR_INTRA_PROB        1.0\n",
      "Length: 116, dtype: float64\n"
     ]
    }
   ],
   "metadata": {}
  },
  {
   "cell_type": "code",
   "execution_count": 39,
   "source": [
    "print(all_data)"
   ],
   "outputs": [
    {
     "output_type": "stream",
     "name": "stdout",
     "text": [
      "                index  class  B_M_FLUX_AP  B_B_FLUX_AP_AVG  B_B_FLUX_BB_AP  \\\n",
      "index_compiled                                                               \n",
      "0                 194    0.0     0.000222     0.000000e+00        0.000088   \n",
      "1                 464    0.0     0.000105     0.000000e+00        0.000043   \n",
      "2                1496    1.0     0.000038     1.607810e-04        0.000018   \n",
      "3                 588    0.0     0.000011     0.000000e+00        0.000000   \n",
      "4                1059    1.0     0.000005     8.777589e-07        0.000002   \n",
      "...               ...    ...          ...              ...             ...   \n",
      "2558             1418    1.0     0.000000     3.378608e-05        0.000044   \n",
      "2559              456    0.0     0.000021     0.000000e+00        0.000000   \n",
      "2560             1222    1.0     0.010319     2.393888e-02        0.021661   \n",
      "2561              470    1.0     0.000008     2.410866e-06        0.000003   \n",
      "2562              526    0.0     0.000016     1.448217e-06        0.000007   \n",
      "\n",
      "                B_B_FLUX_BREMS_AP  B_B_FLUX_BREMS_AP90  B_B_FLUX_PLAW_AP  \\\n",
      "index_compiled                                                             \n",
      "0                        0.000074             0.000152          0.000069   \n",
      "1                        0.000037             0.000078          0.000035   \n",
      "2                        0.000016             0.000035          0.000016   \n",
      "3                        0.000000             0.000000          0.000000   \n",
      "4                        0.000002             0.000004          0.000002   \n",
      "...                           ...                  ...               ...   \n",
      "2558                     0.000045             0.000098          0.000045   \n",
      "2559                     0.000000             0.000000          0.000000   \n",
      "2560                     0.023233             0.037578          0.023486   \n",
      "2561                     0.000003             0.000006          0.000003   \n",
      "2562                     0.000006             0.000013          0.000006   \n",
      "\n",
      "                B_B_FLUX_PLAW_AP90  B_B_KP_INTRA_PROB  ...  B_S_KS_INTRA_PROB  \\\n",
      "index_compiled                                         ...                      \n",
      "0                         0.000140              1.000  ...              1.000   \n",
      "1                         0.000073              0.963  ...              0.866   \n",
      "2                         0.000033              0.529  ...              0.700   \n",
      "3                         0.000000              0.000  ...              0.000   \n",
      "4                         0.000004              0.752  ...              0.305   \n",
      "...                            ...                ...  ...                ...   \n",
      "2558                      0.000096              0.532  ...              0.000   \n",
      "2559                      0.000000              0.000  ...              0.000   \n",
      "2560                      0.037609              0.998  ...              0.916   \n",
      "2561                      0.000006              0.745  ...              0.000   \n",
      "2562                      0.000012              0.989  ...              0.978   \n",
      "\n",
      "                B_S_PHOTFLUX_AP  B_S_PHOTFLUX_AP90  B_S_PHOTFLUX_AP90_AVG  \\\n",
      "index_compiled                                                              \n",
      "0                      0.000489           0.001913               0.003894   \n",
      "1                      0.000309           0.001240               0.001490   \n",
      "2                      0.000057           0.000174               0.003033   \n",
      "3                      0.000013           0.000039               0.000041   \n",
      "4                      0.000000           0.000000               0.000000   \n",
      "...                         ...                ...                    ...   \n",
      "2558                   0.000000           0.000000               0.000000   \n",
      "2559                   0.000017           0.000055               0.000060   \n",
      "2560                   0.000872           0.002020               0.001907   \n",
      "2561                   0.000006           0.000023               0.000021   \n",
      "2562                   0.000000           0.000000               0.000222   \n",
      "\n",
      "                B_S_PHOTFLUX_AP_AVG  B_S_VAR_INTER_INDEX  B_S_VAR_INTER_PROB  \\\n",
      "index_compiled                                                                 \n",
      "0                          0.000621                0.500              0.6210   \n",
      "1                          0.000230                0.000              0.0892   \n",
      "2                          0.000480                0.000              0.4620   \n",
      "3                          0.000008                0.000              0.2730   \n",
      "4                          0.000000                0.625              0.8750   \n",
      "...                             ...                  ...                 ...   \n",
      "2558                       0.000000                0.000              0.0000   \n",
      "2559                       0.000009                0.000              0.0000   \n",
      "2560                       0.000509                0.000              0.0000   \n",
      "2561                       0.000003                0.625              0.7720   \n",
      "2562                       0.000035                0.000              0.0000   \n",
      "\n",
      "                B_S_VAR_INTER_SIGMA  B_S_VAR_INTRA_INDEX  B_S_VAR_INTRA_PROB  \n",
      "index_compiled                                                                \n",
      "0                          0.012927                  0.1               0.504  \n",
      "1                          0.008994                  0.0               0.376  \n",
      "2                          0.002104                  0.0               0.000  \n",
      "3                          0.009131                  0.0               0.000  \n",
      "4                          0.001145                  0.0               0.472  \n",
      "...                             ...                  ...                 ...  \n",
      "2558                       0.000000                  0.0               0.000  \n",
      "2559                       0.000000                  0.0               0.000  \n",
      "2560                       0.000000                  0.0               0.000  \n",
      "2561                       0.001175                  0.0               0.000  \n",
      "2562                       0.000000                  0.0               0.000  \n",
      "\n",
      "[2563 rows x 116 columns]\n"
     ]
    }
   ],
   "metadata": {}
  },
  {
   "cell_type": "code",
   "execution_count": 40,
   "source": [
    "all_data.to_csv('all_data_compiled_v2.csv')"
   ],
   "outputs": [],
   "metadata": {}
  },
  {
   "cell_type": "code",
   "execution_count": null,
   "source": [],
   "outputs": [],
   "metadata": {}
  }
 ],
 "metadata": {
  "orig_nbformat": 4,
  "language_info": {
   "name": "python",
   "version": "3.6.9",
   "mimetype": "text/x-python",
   "codemirror_mode": {
    "name": "ipython",
    "version": 3
   },
   "pygments_lexer": "ipython3",
   "nbconvert_exporter": "python",
   "file_extension": ".py"
  },
  "kernelspec": {
   "name": "python3",
   "display_name": "Python 3.6.9 64-bit"
  },
  "interpreter": {
   "hash": "31f2aee4e71d21fbe5cf8b01ff0e069b9275f58929596ceb00d14d90e3e16cd6"
  }
 },
 "nbformat": 4,
 "nbformat_minor": 2
}